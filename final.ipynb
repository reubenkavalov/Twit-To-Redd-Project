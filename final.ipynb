{
 "cells": [
  {
   "cell_type": "markdown",
   "metadata": {},
   "source": [
    "***Importing Required Libraries***"
   ]
  },
  {
   "cell_type": "code",
   "execution_count": 3,
   "metadata": {},
   "outputs": [],
   "source": [
    "%%capture\n",
    "from tqdm import tqdm_notebook as tqdm\n",
    "tqdm().pandas()\n",
    "\n",
    "\n",
    "import re\n",
    "import time\n",
    "import nltk\n",
    "import praw\n",
    "import string\n",
    "import requests\n",
    "import numpy as np\n",
    "import pandas as pd\n",
    "import matplotlib.pyplot as plt\n",
    "from gensim.models import Word2Vec\n",
    "\n",
    "\n",
    "from sklearn.model_selection import train_test_split\n",
    "\n",
    "import nltk\n",
    "from nltk.collocations import *\n",
    "from nltk import FreqDist, word_tokenize\n",
    "from nltk.corpus import gutenberg, stopwords\n",
    "from nltk.stem.wordnet import WordNetLemmatizer\n",
    "\n",
    "from sklearn.svm import SVC\n",
    "from sklearn.pipeline import Pipeline\n",
    "from sklearn.ensemble import RandomForestClassifier\n",
    "from sklearn.linear_model import LogisticRegression\n",
    "from sklearn.model_selection import cross_val_score\n",
    "\n",
    "from keras.preprocessing import text\n",
    "from keras.models import Model, model_from_json\n",
    "from keras.preprocessing.sequence import pad_sequences\n",
    "from keras.callbacks import History, EarlyStopping, ModelCheckpoint\n",
    "from keras import initializers, regularizers, constraints, optimizers, layers\n",
    "from keras.layers import Input, Dense, LSTM, Embedding, Dropout, Activation, Bidirectional, GlobalMaxPool1D\n",
    "\n",
    "\n",
    "from selenium import webdriver\n",
    "from selenium.webdriver.common.by import By\n",
    "from selenium.webdriver.common.keys import Keys\n",
    "from selenium.common.exceptions import TimeoutException\n",
    "from selenium.webdriver.support.ui import WebDriverWait\n",
    "from selenium.webdriver.support import expected_conditions as EC"
   ]
  },
  {
   "cell_type": "markdown",
   "metadata": {},
   "source": [
    "# Acquiring User Likes\n"
   ]
  },
  {
   "cell_type": "markdown",
   "metadata": {},
   "source": [
    "## Using Twitter API"
   ]
  },
  {
   "cell_type": "code",
   "execution_count": 16,
   "metadata": {},
   "outputs": [],
   "source": [
    "### Acquired from Twitter using API key and API secret key ###\n",
    "bearer_token = 'AAAAAAAAAAAAAAAAAAAAAImyAwEAAAAAyWB9oAfMqhJG66%2BeJHuUEi5wsXM%3DKOzTDPgjqoXjzERO1JmoAJfVIqjnaPdD7wUhayNjESzeytty2J' # Bearer Token\n"
   ]
  },
  {
   "cell_type": "code",
   "execution_count": 188,
   "metadata": {},
   "outputs": [],
   "source": [
    "def get_liked_tweets(handle):\n",
    "    '''\n",
    "    Takes Twitter handle and extracts and parses liked tweets.\n",
    "    \n",
    "    '''\n",
    "    all_tweets = []\n",
    "    url = 'https://api.twitter.com/1.1/favorites/list.json?screen_name={}'.format(handle)\n",
    "    headers = {\n",
    "        'Authorization': 'Bearer {}'.format(bearer_token),\n",
    "            }\n",
    "    first_url_params = {\n",
    "        'count': 200\n",
    "            }\n",
    "    first_response = requests.get(url, headers=headers, params=first_url_params)\n",
    "    print(first_response)\n",
    "    first_initial_split = first_response.text.split(',\"text\":\"')\n",
    "    first_t = len(first_initial_split)    \n",
    "    for i in range(1,first_t):\n",
    "        all_tweets.append(first_initial_split[i].split(',\"truncated\":')[0])\n",
    "        \n",
    "    ### Regex to extract the id of the last tweet to use as pagination ###      \n",
    "    regsearch = re.search('(?<=(\\d\",\"id\":))[\\d]*', first_initial_split[first_t-2])\n",
    "    tweet_id = int(regsearch.group(0))\n",
    "    ###\n",
    "    print(tweet_id)\n",
    "    \n",
    "    ### Looping process to manually paginate through tweets ###\n",
    "    page = 0\n",
    "    while page < 15:\n",
    "        url1 = 'https://api.twitter.com/1.1/favorites/list.json?screen_name={}&count=200&max_id={}'.format(handle,tweet_id-1)\n",
    "        response = requests.get(url1, headers=headers)\n",
    "        print(response)\n",
    "        initial_split = response.text.split(',\"text\":\"')\n",
    "        t = len(initial_split)\n",
    "        print(t)\n",
    "        for i in range(1,t):\n",
    "            all_tweets.append(initial_split[i].split(',\"truncated\":')[0])\n",
    " \n",
    "        ### Regex to extract the id of the last tweet to use as pagination ###      \n",
    "        \n",
    "        try:\n",
    "            regsearch = re.search('(?<=(\\d\",\"id\":))[\\d]*', initial_split[t-2])\n",
    "            tweet_id = int(regsearch.group(0))\n",
    "            print(tweet_id)\n",
    "        except: break\n",
    "        ###\n",
    "        page +=1\n",
    "    return all_tweets"
   ]
  },
  {
   "cell_type": "markdown",
   "metadata": {},
   "source": [
    "# Getting Top Subreddits"
   ]
  },
  {
   "cell_type": "code",
   "execution_count": 25,
   "metadata": {},
   "outputs": [],
   "source": [
    "driver = webdriver.Chrome()\n",
    "driver.get('https://www.reddit.com/r/TheoryOfReddit/comments/1f7hqc/the_200_most_active_subreddits_categorized_by/')"
   ]
  },
  {
   "cell_type": "code",
   "execution_count": 26,
   "metadata": {},
   "outputs": [],
   "source": [
    "subs = driver.find_elements_by_class_name('_1qeIAgB0cPwnLhDF9XSiJM')\n",
    "subreddits = []\n",
    "for i in subs[3:]:\n",
    "    if \"r/\" in i.text:\n",
    "        subreddits.append(i.text.split(\" - \")[1])\n",
    "    else:\n",
    "        continue\n",
    "### THIS CELL THROWS AN ERROR -- IGNORE IT -- ###"
   ]
  },
  {
   "cell_type": "code",
   "execution_count": 28,
   "metadata": {},
   "outputs": [],
   "source": [
    "clean_subs = []\n",
    "for sub in subreddits:\n",
    "    clean_subs.append(sub.split('r/')[1])"
   ]
  },
  {
   "cell_type": "markdown",
   "metadata": {},
   "source": [
    "## Using PRAW (Python Reddit API Wrapper) to get top posts in top subreddits"
   ]
  },
  {
   "cell_type": "code",
   "execution_count": 38,
   "metadata": {},
   "outputs": [],
   "source": [
    "reddit = praw.Reddit(client_id='MU9yce7zmiOKwA',\n",
    "                     client_secret='DRV5fO7p-Tn7VzxmMH8mnRwM_hE',\n",
    "                     user_agent='my user agent')"
   ]
  },
  {
   "cell_type": "code",
   "execution_count": 11,
   "metadata": {},
   "outputs": [
    {
     "data": {
      "application/vnd.jupyter.widget-view+json": {
       "model_id": "2141e03d82df43d9bd69767568f3ef06",
       "version_major": 2,
       "version_minor": 0
      },
      "text/plain": [
       "HBox(children=(IntProgress(value=0, max=176), HTML(value='')))"
      ]
     },
     "metadata": {},
     "output_type": "display_data"
    },
    {
     "name": "stdout",
     "output_type": "stream",
     "text": [
      "\n"
     ]
    }
   ],
   "source": [
    "all_submissions = {}\n",
    "for sub in tqdm(clean_subs):\n",
    "    all_submissions[sub] = []\n",
    "    for submission in reddit.subreddit(sub).top(limit=1000):\n",
    "        all_submissions[sub].append(submission.title)\n",
    "    "
   ]
  },
  {
   "cell_type": "markdown",
   "metadata": {},
   "source": [
    "## Looking at examples of pre-processing and EDA"
   ]
  },
  {
   "cell_type": "code",
   "execution_count": 22,
   "metadata": {},
   "outputs": [
    {
     "ename": "NameError",
     "evalue": "name 'all_submissions' is not defined",
     "output_type": "error",
     "traceback": [
      "\u001b[0;31m---------------------------------------------------------------------------\u001b[0m",
      "\u001b[0;31mNameError\u001b[0m                                 Traceback (most recent call last)",
      "\u001b[0;32m<ipython-input-22-0a3c5983da75>\u001b[0m in \u001b[0;36m<module>\u001b[0;34m\u001b[0m\n\u001b[1;32m      2\u001b[0m \u001b[0;34m\u001b[0m\u001b[0m\n\u001b[1;32m      3\u001b[0m \u001b[0mpattern\u001b[0m \u001b[0;34m=\u001b[0m \u001b[0;34m\"([a-zA-Z]+(?:'[a-z]+)?)\"\u001b[0m\u001b[0;34m\u001b[0m\u001b[0;34m\u001b[0m\u001b[0m\n\u001b[0;32m----> 4\u001b[0;31m \u001b[0msubr_text_tokens_raw\u001b[0m \u001b[0;34m=\u001b[0m \u001b[0mnltk\u001b[0m\u001b[0;34m.\u001b[0m\u001b[0mregexp_tokenize\u001b[0m\u001b[0;34m(\u001b[0m\u001b[0;34m\" \"\u001b[0m\u001b[0;34m.\u001b[0m\u001b[0mjoin\u001b[0m\u001b[0;34m(\u001b[0m\u001b[0mall_submissions\u001b[0m\u001b[0;34m[\u001b[0m\u001b[0;34m'creepy'\u001b[0m\u001b[0;34m]\u001b[0m\u001b[0;34m)\u001b[0m\u001b[0;34m,\u001b[0m \u001b[0mpattern\u001b[0m\u001b[0;34m)\u001b[0m\u001b[0;34m\u001b[0m\u001b[0;34m\u001b[0m\u001b[0m\n\u001b[0m\u001b[1;32m      5\u001b[0m \u001b[0msubr_text_tokens\u001b[0m \u001b[0;34m=\u001b[0m \u001b[0;34m[\u001b[0m\u001b[0mword\u001b[0m\u001b[0;34m.\u001b[0m\u001b[0mlower\u001b[0m\u001b[0;34m(\u001b[0m\u001b[0;34m)\u001b[0m \u001b[0;32mfor\u001b[0m \u001b[0mword\u001b[0m \u001b[0;32min\u001b[0m \u001b[0msubr_text_tokens_raw\u001b[0m\u001b[0;34m]\u001b[0m\u001b[0;34m\u001b[0m\u001b[0;34m\u001b[0m\u001b[0m\n\u001b[1;32m      6\u001b[0m \u001b[0msubr_text_tokens\u001b[0m \u001b[0;34m=\u001b[0m \u001b[0;34m[\u001b[0m\u001b[0mlemmatizer\u001b[0m\u001b[0;34m.\u001b[0m\u001b[0mlemmatize\u001b[0m\u001b[0;34m(\u001b[0m\u001b[0mi\u001b[0m\u001b[0;34m)\u001b[0m \u001b[0;32mfor\u001b[0m \u001b[0mi\u001b[0m \u001b[0;32min\u001b[0m \u001b[0msubr_text_tokens\u001b[0m\u001b[0;34m]\u001b[0m\u001b[0;34m\u001b[0m\u001b[0;34m\u001b[0m\u001b[0m\n",
      "\u001b[0;31mNameError\u001b[0m: name 'all_submissions' is not defined"
     ]
    }
   ],
   "source": [
    "lemmatizer = WordNetLemmatizer()\n",
    "\n",
    "pattern = \"([a-zA-Z]+(?:'[a-z]+)?)\"\n",
    "subr_text_tokens_raw = nltk.regexp_tokenize(\" \".join(all_submissions['creepy']), pattern)\n",
    "subr_text_tokens = [word.lower() for word in subr_text_tokens_raw]\n",
    "subr_text_tokens = [lemmatizer.lemmatize(i) for i in subr_text_tokens]\n",
    "subr_text_freqdist = FreqDist(subr_text_tokens)\n",
    "subr_text_freqdist.most_common(200)"
   ]
  },
  {
   "cell_type": "code",
   "execution_count": 35,
   "metadata": {
    "collapsed": true
   },
   "outputs": [
    {
     "data": {
      "text/plain": [
       "[('skull', 29),\n",
       " ('found', 27),\n",
       " ('r', 22),\n",
       " ('night', 20),\n",
       " ('like', 20),\n",
       " ('man', 18),\n",
       " ('old', 18),\n",
       " ('death', 16),\n",
       " ('year', 16),\n",
       " ('human', 16),\n",
       " ('post', 15),\n",
       " ('creepy', 14),\n",
       " ('bone', 14),\n",
       " ('one', 14),\n",
       " ('picture', 14),\n",
       " ('look', 14),\n",
       " ('made', 14),\n",
       " ('mask', 14),\n",
       " ('skeleton', 13),\n",
       " ('friend', 12),\n",
       " ('abandoned', 12),\n",
       " ('monster', 12),\n",
       " ('statue', 12),\n",
       " ('x', 12),\n",
       " ('wood', 11),\n",
       " ('water', 11),\n",
       " ('people', 11),\n",
       " ('face', 11),\n",
       " ('last', 11),\n",
       " ('thing', 11),\n",
       " ('inside', 10),\n",
       " ('back', 10),\n",
       " ('house', 10),\n",
       " ('dead', 10),\n",
       " ('church', 10),\n",
       " ('forest', 10),\n",
       " ('got', 10),\n",
       " ('head', 10),\n",
       " ('dark', 10),\n",
       " ('museum', 10),\n",
       " ('nightmare', 10),\n",
       " ('baby', 9),\n",
       " ('remains', 9),\n",
       " ('teeth', 9),\n",
       " ('catacomb', 9),\n",
       " ('tree', 9),\n",
       " ('boris', 9),\n",
       " ('groh', 9),\n",
       " ('something', 9),\n",
       " ('photo', 9)]"
      ]
     },
     "execution_count": 35,
     "metadata": {},
     "output_type": "execute_result"
    }
   ],
   "source": [
    "subr_text_stopped_freqdist = FreqDist(subr_text_stopped)\n",
    "subr_text_stopped_freqdist.most_common(50)"
   ]
  },
  {
   "cell_type": "code",
   "execution_count": 32,
   "metadata": {
    "scrolled": true
   },
   "outputs": [
    {
     "name": "stdout",
     "output_type": "stream",
     "text": [
      "Word\t\t\tNormalized Frequency\n",
      "guy \t\t\t 0.005921\n",
      "man \t\t\t 0.005702\n",
      "car \t\t\t 0.005482\n",
      "found \t\t\t 0.005044\n",
      "like \t\t\t 0.005044\n",
      "one \t\t\t 0.004386\n",
      "house \t\t\t 0.004167\n",
      "new \t\t\t 0.003947\n",
      "wtf \t\t\t 0.003947\n",
      "time \t\t\t 0.003947\n",
      "back \t\t\t 0.003947\n",
      "day \t\t\t 0.003728\n",
      "year \t\t\t 0.003509\n",
      "look \t\t\t 0.003509\n",
      "ha \t\t\t 0.003289\n",
      "work \t\t\t 0.003289\n",
      "fire \t\t\t 0.003289\n",
      "fish \t\t\t 0.003289\n",
      "got \t\t\t 0.003289\n",
      "today \t\t\t 0.00307\n",
      "way \t\t\t 0.002851\n",
      "see \t\t\t 0.002851\n",
      "well \t\t\t 0.002851\n",
      "snake \t\t\t 0.002851\n",
      "night \t\t\t 0.002632\n",
      "road \t\t\t 0.002632\n",
      "inside \t\t\t 0.002412\n",
      "think \t\t\t 0.002412\n",
      "going \t\t\t 0.002412\n",
      "baby \t\t\t 0.002412\n",
      "last \t\t\t 0.002412\n",
      "get \t\t\t 0.002412\n",
      "made \t\t\t 0.002193\n",
      "eye \t\t\t 0.002193\n",
      "someone \t\t\t 0.002193\n",
      "head \t\t\t 0.002193\n",
      "driver \t\t\t 0.002193\n",
      "thing \t\t\t 0.001974\n",
      "even \t\t\t 0.001974\n",
      "happen \t\t\t 0.001974\n",
      "fuck \t\t\t 0.001974\n",
      "i'm \t\t\t 0.001974\n",
      "wait \t\t\t 0.001974\n",
      "building \t\t\t 0.001974\n",
      "right \t\t\t 0.001974\n",
      "little \t\t\t 0.001974\n",
      "water \t\t\t 0.001974\n",
      "driving \t\t\t 0.001974\n",
      "go \t\t\t 0.001974\n",
      "live \t\t\t 0.001974\n"
     ]
    }
   ],
   "source": [
    "total_word_count = sum(subr_text_stopped_freqdist.values())\n",
    "subr_text_top_50 = subr_text_stopped_freqdist.most_common(50)\n",
    "print(\"Word\\t\\t\\tNormalized Frequency\")\n",
    "for word in subr_text_top_50:\n",
    "    normalized_frequency = word[1] / total_word_count\n",
    "    print(\"{} \\t\\t\\t {:.4}\".format(word[0], normalized_frequency))"
   ]
  },
  {
   "cell_type": "code",
   "execution_count": 41,
   "metadata": {},
   "outputs": [],
   "source": [
    "bigram_measures = nltk.collocations.BigramAssocMeasures()\n",
    "\n",
    "subr_text_finder = BigramCollocationFinder.from_words(subr_text_stopped)\n",
    "subr_text_finder.apply_freq_filter(3)\n",
    "\n",
    "subr_text_scored = subr_text_finder.score_ngrams(bigram_measures.pmi)\n",
    "subr_text_scored[:20]"
   ]
  },
  {
   "cell_type": "markdown",
   "metadata": {},
   "source": [
    "# Separating subreddits into respective categories"
   ]
  },
  {
   "cell_type": "code",
   "execution_count": 376,
   "metadata": {},
   "outputs": [],
   "source": [
    "label_text_df = pd.DataFrame()\n",
    "\n",
    "label_text_df['target'] = ['Discussion and Stories','Emotional Reaction Fuel','Entertainment - Gaming', \n",
    "                         'Entertainment - Television', 'Entertainment - Other (Movies/Music/Franchies/Misc)',\n",
    "                         'Humor','Images, Gifs, and Videos','Learning and Thinking','Lifestyle and Help',\n",
    "                         'News and Issues', 'Places', 'Race, Gender, and Identity', 'Sports','Technology']\n",
    "categorized_posts = dict((i,\"\")for i in label_text_df.target)\n",
    "for i in clean_subs:\n",
    "    if i ==\"AskReddit\" or i=='IAmA' or i ==\"bestof\" or i=='fatpeoplestories' or i =='pettyrevenge' or i ==\"TalesFromRetail\" or i=='DoesAnybodyElse' or i =='CrazyIdeas':\n",
    "        categorized_posts['Discussion and Stories'] = [categorized_posts['Discussion and Stories'],all_submissions[i]]\n",
    "    elif i ==\"WTF\" or i=='aww' or i ==\"cringepics\" or i=='JusticePorn' or i =='MorbidReality' or i ==\"rage\" or i=='mildlyinfuriating' or i =='creepy' or i=='creepyPMs' or i ==\"nosleep\" or i=='nostalgia':\n",
    "        categorized_posts['Emotional Reaction Fuel'] = [categorized_posts['Emotional Reaction Fuel'],all_submissions[i]]\n",
    "    elif i ==\"gaming\" or i=='leagueoflegends' or i ==\"pokemon\" or i=='Minecraft' or i =='starcraft' or i ==\"Games\" or i=='DotA2' or i =='skyrim' or i=='tf2' or i ==\"magicTCG\" or i=='wow' or i ==\"KerbalSpaceProgram\" or i=='mindcrack' or i =='Fallout' or i=='roosterteeth' or i ==\"Planetside\" or i=='gamegrumps' or i ==\"battlefield3\" or i=='zelda' or i =='darksouls' or i=='masseffect':\n",
    "        categorized_posts['Entertainment - Gaming'] = [categorized_posts['Entertainment - Gaming'],all_submissions[i]]\n",
    "    elif i ==\"arresteddevelopment\" or i=='gameofthrones' or i ==\"doctorwho\" or i=='mylittlepony' or i =='community' or i ==\"breakingbad\" or i=='adventuretime' or i =='startrek' or i=='TheSimpsons' or i ==\"futurama\" or i=='HIMYM' or i=='DunderMifflin' or i ==\"thewalkingdead\":\n",
    "        categorized_posts['Entertainment - Television'] = [categorized_posts['Entertainment - Television'],all_submissions[i]]\n",
    "    elif i ==\"Music\" or i=='movies' or i ==\"harrypotter\" or i=='StarWars' or i =='DaftPunk' or i ==\"hiphopheads\" or i=='anime' or i =='comicbooks' or i=='geek' or i ==\"batman\" or i=='TheLastAirbender' or i=='Naruto' or i ==\"FanTheories\":\n",
    "        categorized_posts['Entertainment - Other (Movies/Music/Franchies/Misc)'] = [categorized_posts['Entertainment - Other (Movies/Music/Franchies/Misc)'],all_submissions[i]]\n",
    "    elif i ==\"funny\" or i=='AdviceAnimals' or i ==\"fffffffuuuuuuuuuuuu\" or i=='4chan' or i =='ImGoingToHellForThis' or i ==\"firstworldanarchists\" or i=='circlejerk' or i =='MURICA' or i=='facepalm' or i ==\"Jokes\" or i=='wheredidthesodago' or i=='polandball' or i ==\"TrollXChromosomes\" or i ==\"comics\" or i=='nottheonion' or i=='britishproblems' or i ==\"TumblrInAction\" or i ==\"onetruegod\":\n",
    "        categorized_posts['Humor'] = [categorized_posts['Humor'],all_submissions[i]]\n",
    "    elif i ==\"pics\" or i=='videos' or i ==\"gifs\" or i=='reactiongifs' or i =='mildlyinteresting' or i ==\"woahdude\" or i=='FiftyFifty' or i =='FoodPorn' or i=='HistoryPorn' or i ==\"wallpapers\" or i=='youtubehaiku' or i=='Unexpected' or i ==\"photoshopbattles\" or i ==\"AnimalsBeingJerks\" or i=='cosplay' or i=='EarthPorn' or i ==\"QuotesPorn\" or i ==\"awwnime\" or i ==\"AbandonedPorn\" or i=='carporn' or i ==\"PerfectTiming\" or i=='OldSchoolCool' or i =='RoomPorn' or i ==\"woahdude\" or i=='Pareidolia' or i =='MapPorn' or i=='tumblr' or i ==\"techsupportgore\" or i=='PrettyGirls' or i=='itookapicture':\n",
    "        categorized_posts['Images, Gifs, and Videos'] = [categorized_posts['Images, Gifs, and Videos'],all_submissions[i]]\n",
    "    elif i ==\"todayilearned\" or i=='science' or i ==\"askscience\" or i=='space' or i =='AskHistorians' or i ==\"YouShouldKnow\" or i=='explainlikeimfive':\n",
    "        categorized_posts['Learning and Thinking'] = [categorized_posts['Learning and Thinking'],all_submissions[i]]\n",
    "    elif i ==\"trees\" or i=='MakeupAddiction' or i ==\"cats\" or i=='LifeProTips' or i =='RedditLaqueristas' or i ==\"Random_Acts_Of_Amazon\" or i=='food' or i =='guns' or i=='tattoos' or i ==\"corgi\" or i=='teenagers' or i =='GetMotivated' or i=='motorcycles' or i ==\"sex\" or i=='progresspics' or i =='DIY' or i=='bicycling' or i ==\"Fitness\" or i=='lifehacks' or i =='longboarding' or i=='Frugal' or i ==\"drunk\" or i=='Art' or i=='loseit' or i =='Military':\n",
    "        categorized_posts['Lifestyle and Help'] = [categorized_posts['Lifestyle and Help'],all_submissions[i]]\n",
    "    elif i ==\"politics\" or i=='worldnews' or i ==\"news\" or i=='conspiracy' or i =='Libertarian' or i ==\"TrueReddit\" or i=='Conservative' or i=='offbeat':\n",
    "        categorized_posts['News and Issues'] = [categorized_posts['News and Issues'],all_submissions[i]]\n",
    "    elif i ==\"canada\" or i=='toronto' or i ==\"australia\" or i=='unitedkingdom':\n",
    "        categorized_posts['Places'] = [categorized_posts['Places'],all_submissions[i]]\n",
    "    elif i ==\"atheism\" or i=='TwoXChromosomes' or i ==\"MensRights\" or i=='gaybros' or i =='lgbt':\n",
    "        categorized_posts['Race, Gender, and Identity'] = [categorized_posts['Race, Gender, and Identity'],all_submissions[i]]\n",
    "    elif i ==\"nba\" or i=='soccer' or i ==\"hockey\" or i=='nfl' or i =='formula1' or i ==\"baseball\" or i=='MMA' or i=='SquaredCircle':\n",
    "        categorized_posts['Sports'] = [categorized_posts['Sports'],all_submissions[i]]\n",
    "    elif i ==\"technology\" or i=='Android' or i ==\"Bitcoin\" or i=='programming' or i =='apple':\n",
    "        categorized_posts['Technology'] = [categorized_posts['Technology'],all_submissions[i]]"
   ]
  },
  {
   "cell_type": "markdown",
   "metadata": {},
   "source": [
    "## Creating dataframe of posts and categories"
   ]
  },
  {
   "cell_type": "code",
   "execution_count": 380,
   "metadata": {},
   "outputs": [],
   "source": [
    "def flatten(container):\n",
    "    for i in container:\n",
    "        if isinstance(i, (list,tuple)):\n",
    "            for j in flatten(i):\n",
    "                yield j\n",
    "        else:\n",
    "            yield i\n",
    "posts_by_category = dict((i,\"\")for i in label_text_df.target)\n",
    "for i in label_text_df.target:\n",
    "    posts_by_category[i] = list(flatten(categorized_posts[i]))[1:]"
   ]
  },
  {
   "cell_type": "code",
   "execution_count": 383,
   "metadata": {},
   "outputs": [
    {
     "data": {
      "application/vnd.jupyter.widget-view+json": {
       "model_id": "31dc65a8820748c4a99968a0428bf1e9",
       "version_major": 2,
       "version_minor": 0
      },
      "text/plain": [
       "HBox(children=(IntProgress(value=0, max=14), HTML(value='')))"
      ]
     },
     "metadata": {},
     "output_type": "display_data"
    }
   ],
   "source": [
    "master_list = []\n",
    "for i in tqdm(label_text_df.target):\n",
    "    for post in posts_by_category[i]:\n",
    "        post_list = []\n",
    "        post_list.append(i)\n",
    "        post_list.append(post)\n",
    "        master_list.append(post_list)\n",
    "        \n",
    "#     posts_by_category[i] = \" \".join(posts_by_category[i])"
   ]
  },
  {
   "cell_type": "code",
   "execution_count": 392,
   "metadata": {},
   "outputs": [],
   "source": [
    "reddit_df = pd.DataFrame(master_list)"
   ]
  },
  {
   "cell_type": "code",
   "execution_count": 393,
   "metadata": {},
   "outputs": [],
   "source": [
    "reddit_df.to_csv('reddit_df')"
   ]
  },
  {
   "cell_type": "code",
   "execution_count": 400,
   "metadata": {},
   "outputs": [
    {
     "data": {
      "text/html": [
       "<div>\n",
       "<style scoped>\n",
       "    .dataframe tbody tr th:only-of-type {\n",
       "        vertical-align: middle;\n",
       "    }\n",
       "\n",
       "    .dataframe tbody tr th {\n",
       "        vertical-align: top;\n",
       "    }\n",
       "\n",
       "    .dataframe thead th {\n",
       "        text-align: right;\n",
       "    }\n",
       "</style>\n",
       "<table border=\"1\" class=\"dataframe\">\n",
       "  <thead>\n",
       "    <tr style=\"text-align: right;\">\n",
       "      <th></th>\n",
       "      <th>0</th>\n",
       "      <th>1</th>\n",
       "    </tr>\n",
       "  </thead>\n",
       "  <tbody>\n",
       "    <tr>\n",
       "      <th>0</th>\n",
       "      <td>Discussion and Stories</td>\n",
       "      <td>People who haven't pooped in 2019 yet, why are...</td>\n",
       "    </tr>\n",
       "    <tr>\n",
       "      <th>1</th>\n",
       "      <td>Discussion and Stories</td>\n",
       "      <td>Stan Lee has passed away at 95 years old</td>\n",
       "    </tr>\n",
       "  </tbody>\n",
       "</table>\n",
       "</div>"
      ],
      "text/plain": [
       "                        0                                                  1\n",
       "0  Discussion and Stories  People who haven't pooped in 2019 yet, why are...\n",
       "1  Discussion and Stories           Stan Lee has passed away at 95 years old"
      ]
     },
     "execution_count": 400,
     "metadata": {},
     "output_type": "execute_result"
    }
   ],
   "source": [
    "reddit_df.head(2)"
   ]
  },
  {
   "cell_type": "code",
   "execution_count": 4,
   "metadata": {},
   "outputs": [],
   "source": [
    "reddit_df = pd.read_csv('reddit_df')"
   ]
  },
  {
   "cell_type": "code",
   "execution_count": 5,
   "metadata": {},
   "outputs": [],
   "source": [
    "reddit_df = reddit_df.drop(columns=[\"Unnamed: 0\"])\n",
    "reddit_df.columns = reddit_df.columns.astype(\"int\")"
   ]
  },
  {
   "cell_type": "markdown",
   "metadata": {},
   "source": [
    "# Using GloVes multi-dimensional word vectorizer to build baseline models"
   ]
  },
  {
   "cell_type": "code",
   "execution_count": 29,
   "metadata": {},
   "outputs": [],
   "source": [
    "target = reddit_df[0]"
   ]
  },
  {
   "cell_type": "code",
   "execution_count": 28,
   "metadata": {
    "collapsed": true
   },
   "outputs": [
    {
     "ename": "KeyboardInterrupt",
     "evalue": "",
     "output_type": "error",
     "traceback": [
      "\u001b[0;31m---------------------------------------------------------------------------\u001b[0m",
      "\u001b[0;31mKeyboardInterrupt\u001b[0m                         Traceback (most recent call last)",
      "\u001b[0;32m<ipython-input-28-3a26afb0bc8a>\u001b[0m in \u001b[0;36m<module>\u001b[0;34m\u001b[0m\n\u001b[1;32m      1\u001b[0m \u001b[0mtarget\u001b[0m \u001b[0;34m=\u001b[0m \u001b[0mreddit_df\u001b[0m\u001b[0;34m[\u001b[0m\u001b[0;36m0\u001b[0m\u001b[0;34m]\u001b[0m\u001b[0;34m\u001b[0m\u001b[0;34m\u001b[0m\u001b[0m\n\u001b[0;32m----> 2\u001b[0;31m \u001b[0mdata\u001b[0m \u001b[0;34m=\u001b[0m \u001b[0mreddit_df\u001b[0m\u001b[0;34m[\u001b[0m\u001b[0;36m1\u001b[0m\u001b[0;34m]\u001b[0m\u001b[0;34m.\u001b[0m\u001b[0mmap\u001b[0m\u001b[0;34m(\u001b[0m\u001b[0mword_tokenize\u001b[0m\u001b[0;34m)\u001b[0m\u001b[0;34m.\u001b[0m\u001b[0mvalues\u001b[0m\u001b[0;34m\u001b[0m\u001b[0;34m\u001b[0m\u001b[0m\n\u001b[0m",
      "\u001b[0;32m~/anaconda3/lib/python3.7/site-packages/pandas/core/series.py\u001b[0m in \u001b[0;36mmap\u001b[0;34m(self, arg, na_action)\u001b[0m\n\u001b[1;32m   3380\u001b[0m         \"\"\"\n\u001b[1;32m   3381\u001b[0m         new_values = super(Series, self)._map_values(\n\u001b[0;32m-> 3382\u001b[0;31m             arg, na_action=na_action)\n\u001b[0m\u001b[1;32m   3383\u001b[0m         return self._constructor(new_values,\n\u001b[1;32m   3384\u001b[0m                                  index=self.index).__finalize__(self)\n",
      "\u001b[0;32m~/anaconda3/lib/python3.7/site-packages/pandas/core/base.py\u001b[0m in \u001b[0;36m_map_values\u001b[0;34m(self, mapper, na_action)\u001b[0m\n\u001b[1;32m   1216\u001b[0m \u001b[0;34m\u001b[0m\u001b[0m\n\u001b[1;32m   1217\u001b[0m         \u001b[0;31m# mapper is a function\u001b[0m\u001b[0;34m\u001b[0m\u001b[0;34m\u001b[0m\u001b[0;34m\u001b[0m\u001b[0m\n\u001b[0;32m-> 1218\u001b[0;31m         \u001b[0mnew_values\u001b[0m \u001b[0;34m=\u001b[0m \u001b[0mmap_f\u001b[0m\u001b[0;34m(\u001b[0m\u001b[0mvalues\u001b[0m\u001b[0;34m,\u001b[0m \u001b[0mmapper\u001b[0m\u001b[0;34m)\u001b[0m\u001b[0;34m\u001b[0m\u001b[0;34m\u001b[0m\u001b[0m\n\u001b[0m\u001b[1;32m   1219\u001b[0m \u001b[0;34m\u001b[0m\u001b[0m\n\u001b[1;32m   1220\u001b[0m         \u001b[0;32mreturn\u001b[0m \u001b[0mnew_values\u001b[0m\u001b[0;34m\u001b[0m\u001b[0;34m\u001b[0m\u001b[0m\n",
      "\u001b[0;32mpandas/_libs/lib.pyx\u001b[0m in \u001b[0;36mpandas._libs.lib.map_infer\u001b[0;34m()\u001b[0m\n",
      "\u001b[0;32m~/anaconda3/lib/python3.7/site-packages/nltk/tokenize/__init__.py\u001b[0m in \u001b[0;36mword_tokenize\u001b[0;34m(text, language, preserve_line)\u001b[0m\n\u001b[1;32m    144\u001b[0m     \u001b[0msentences\u001b[0m \u001b[0;34m=\u001b[0m \u001b[0;34m[\u001b[0m\u001b[0mtext\u001b[0m\u001b[0;34m]\u001b[0m \u001b[0;32mif\u001b[0m \u001b[0mpreserve_line\u001b[0m \u001b[0;32melse\u001b[0m \u001b[0msent_tokenize\u001b[0m\u001b[0;34m(\u001b[0m\u001b[0mtext\u001b[0m\u001b[0;34m,\u001b[0m \u001b[0mlanguage\u001b[0m\u001b[0;34m)\u001b[0m\u001b[0;34m\u001b[0m\u001b[0;34m\u001b[0m\u001b[0m\n\u001b[1;32m    145\u001b[0m     return [\n\u001b[0;32m--> 146\u001b[0;31m         \u001b[0mtoken\u001b[0m \u001b[0;32mfor\u001b[0m \u001b[0msent\u001b[0m \u001b[0;32min\u001b[0m \u001b[0msentences\u001b[0m \u001b[0;32mfor\u001b[0m \u001b[0mtoken\u001b[0m \u001b[0;32min\u001b[0m \u001b[0m_treebank_word_tokenizer\u001b[0m\u001b[0;34m.\u001b[0m\u001b[0mtokenize\u001b[0m\u001b[0;34m(\u001b[0m\u001b[0msent\u001b[0m\u001b[0;34m)\u001b[0m\u001b[0;34m\u001b[0m\u001b[0;34m\u001b[0m\u001b[0m\n\u001b[0m\u001b[1;32m    147\u001b[0m     ]\n",
      "\u001b[0;32m~/anaconda3/lib/python3.7/site-packages/nltk/tokenize/__init__.py\u001b[0m in \u001b[0;36m<listcomp>\u001b[0;34m(.0)\u001b[0m\n\u001b[1;32m    144\u001b[0m     \u001b[0msentences\u001b[0m \u001b[0;34m=\u001b[0m \u001b[0;34m[\u001b[0m\u001b[0mtext\u001b[0m\u001b[0;34m]\u001b[0m \u001b[0;32mif\u001b[0m \u001b[0mpreserve_line\u001b[0m \u001b[0;32melse\u001b[0m \u001b[0msent_tokenize\u001b[0m\u001b[0;34m(\u001b[0m\u001b[0mtext\u001b[0m\u001b[0;34m,\u001b[0m \u001b[0mlanguage\u001b[0m\u001b[0;34m)\u001b[0m\u001b[0;34m\u001b[0m\u001b[0;34m\u001b[0m\u001b[0m\n\u001b[1;32m    145\u001b[0m     return [\n\u001b[0;32m--> 146\u001b[0;31m         \u001b[0mtoken\u001b[0m \u001b[0;32mfor\u001b[0m \u001b[0msent\u001b[0m \u001b[0;32min\u001b[0m \u001b[0msentences\u001b[0m \u001b[0;32mfor\u001b[0m \u001b[0mtoken\u001b[0m \u001b[0;32min\u001b[0m \u001b[0m_treebank_word_tokenizer\u001b[0m\u001b[0;34m.\u001b[0m\u001b[0mtokenize\u001b[0m\u001b[0;34m(\u001b[0m\u001b[0msent\u001b[0m\u001b[0;34m)\u001b[0m\u001b[0;34m\u001b[0m\u001b[0;34m\u001b[0m\u001b[0m\n\u001b[0m\u001b[1;32m    147\u001b[0m     ]\n",
      "\u001b[0;32m~/anaconda3/lib/python3.7/site-packages/nltk/tokenize/treebank.py\u001b[0m in \u001b[0;36mtokenize\u001b[0;34m(self, text, convert_parentheses, return_str)\u001b[0m\n\u001b[1;32m    120\u001b[0m \u001b[0;34m\u001b[0m\u001b[0m\n\u001b[1;32m    121\u001b[0m         \u001b[0;32mfor\u001b[0m \u001b[0mregexp\u001b[0m\u001b[0;34m,\u001b[0m \u001b[0msubstitution\u001b[0m \u001b[0;32min\u001b[0m \u001b[0mself\u001b[0m\u001b[0;34m.\u001b[0m\u001b[0mPUNCTUATION\u001b[0m\u001b[0;34m:\u001b[0m\u001b[0;34m\u001b[0m\u001b[0;34m\u001b[0m\u001b[0m\n\u001b[0;32m--> 122\u001b[0;31m             \u001b[0mtext\u001b[0m \u001b[0;34m=\u001b[0m \u001b[0mregexp\u001b[0m\u001b[0;34m.\u001b[0m\u001b[0msub\u001b[0m\u001b[0;34m(\u001b[0m\u001b[0msubstitution\u001b[0m\u001b[0;34m,\u001b[0m \u001b[0mtext\u001b[0m\u001b[0;34m)\u001b[0m\u001b[0;34m\u001b[0m\u001b[0;34m\u001b[0m\u001b[0m\n\u001b[0m\u001b[1;32m    123\u001b[0m \u001b[0;34m\u001b[0m\u001b[0m\n\u001b[1;32m    124\u001b[0m         \u001b[0;31m# Handles parentheses.\u001b[0m\u001b[0;34m\u001b[0m\u001b[0;34m\u001b[0m\u001b[0;34m\u001b[0m\u001b[0m\n",
      "\u001b[0;32m~/anaconda3/lib/python3.7/re.py\u001b[0m in \u001b[0;36m_subx\u001b[0;34m(pattern, template)\u001b[0m\n\u001b[1;32m    307\u001b[0m \u001b[0;32mdef\u001b[0m \u001b[0m_subx\u001b[0m\u001b[0;34m(\u001b[0m\u001b[0mpattern\u001b[0m\u001b[0;34m,\u001b[0m \u001b[0mtemplate\u001b[0m\u001b[0;34m)\u001b[0m\u001b[0;34m:\u001b[0m\u001b[0;34m\u001b[0m\u001b[0;34m\u001b[0m\u001b[0m\n\u001b[1;32m    308\u001b[0m     \u001b[0;31m# internal: Pattern.sub/subn implementation helper\u001b[0m\u001b[0;34m\u001b[0m\u001b[0;34m\u001b[0m\u001b[0;34m\u001b[0m\u001b[0m\n\u001b[0;32m--> 309\u001b[0;31m     \u001b[0mtemplate\u001b[0m \u001b[0;34m=\u001b[0m \u001b[0m_compile_repl\u001b[0m\u001b[0;34m(\u001b[0m\u001b[0mtemplate\u001b[0m\u001b[0;34m,\u001b[0m \u001b[0mpattern\u001b[0m\u001b[0;34m)\u001b[0m\u001b[0;34m\u001b[0m\u001b[0;34m\u001b[0m\u001b[0m\n\u001b[0m\u001b[1;32m    310\u001b[0m     \u001b[0;32mif\u001b[0m \u001b[0;32mnot\u001b[0m \u001b[0mtemplate\u001b[0m\u001b[0;34m[\u001b[0m\u001b[0;36m0\u001b[0m\u001b[0;34m]\u001b[0m \u001b[0;32mand\u001b[0m \u001b[0mlen\u001b[0m\u001b[0;34m(\u001b[0m\u001b[0mtemplate\u001b[0m\u001b[0;34m[\u001b[0m\u001b[0;36m1\u001b[0m\u001b[0;34m]\u001b[0m\u001b[0;34m)\u001b[0m \u001b[0;34m==\u001b[0m \u001b[0;36m1\u001b[0m\u001b[0;34m:\u001b[0m\u001b[0;34m\u001b[0m\u001b[0;34m\u001b[0m\u001b[0m\n\u001b[1;32m    311\u001b[0m         \u001b[0;31m# literal replacement\u001b[0m\u001b[0;34m\u001b[0m\u001b[0;34m\u001b[0m\u001b[0;34m\u001b[0m\u001b[0m\n",
      "\u001b[0;31mKeyboardInterrupt\u001b[0m: "
     ]
    }
   ],
   "source": [
    "data = reddit_df[1].map(word_tokenize).values"
   ]
  },
  {
   "cell_type": "code",
   "execution_count": 675,
   "metadata": {},
   "outputs": [
    {
     "name": "stdout",
     "output_type": "stream",
     "text": [
      "There are 111821 unique tokens in the dataset.\n"
     ]
    }
   ],
   "source": [
    "total_vocabulary = set(word for headline in data for word in headline)\n",
    "print(\"There are {} unique tokens in the dataset.\".format(len(total_vocabulary)))"
   ]
  },
  {
   "cell_type": "code",
   "execution_count": 676,
   "metadata": {},
   "outputs": [],
   "source": [
    "glove = {}\n",
    "with open('glove.6B.300d.txt', 'rb') as f:            ## I used the 100-dimensional file to vectorize for the building\n",
    "    for line in f:                                    # of the model, change to 300-dimensional for final model\n",
    "        parts = line.split()\n",
    "        word = parts[0].decode('utf-8')\n",
    "        if word in total_vocabulary:\n",
    "            vector = np.array(parts[1:], dtype=np.float32)\n",
    "            glove[word] = vector"
   ]
  },
  {
   "cell_type": "code",
   "execution_count": 677,
   "metadata": {},
   "outputs": [],
   "source": [
    "class W2vVectorizer(object):\n",
    "    \n",
    "    def __init__(self, w2v):\n",
    "        # takes in a dictionary of words and vectors as input\n",
    "        self.w2v = w2v\n",
    "        if len(w2v) == 0:\n",
    "            self.dimensions = 0\n",
    "        else:\n",
    "            self.dimensions = len(w2v[next(iter(glove))])\n",
    "    \n",
    "    # Note from Mike: Even though it doesn't do anything, it's required that this object implement a fit method or else\n",
    "    # It can't be used in a sklearn Pipeline. \n",
    "    def fit(self, X, y):\n",
    "        return self\n",
    "            \n",
    "    def transform(self, X):\n",
    "        return np.array([\n",
    "            np.mean([self.w2v[w] for w in words if w in self.w2v]\n",
    "                   or [np.zeros(self.dimensions)], axis=0) for words in X])"
   ]
  },
  {
   "cell_type": "code",
   "execution_count": 679,
   "metadata": {},
   "outputs": [],
   "source": [
    "rf =  Pipeline([(\"Word2Vec Vectorizer\", W2vVectorizer(glove)),\n",
    "              (\"Random Forest\", RandomForestClassifier(n_estimators=100, verbose=True))])\n",
    "svc = Pipeline([(\"Word2Vec Vectorizer\", W2vVectorizer(glove)),\n",
    "                ('Support Vector Machine', SVC())])\n",
    "lr = Pipeline([(\"Word2Vec Vectorizer\", W2vVectorizer(glove)),\n",
    "              ('Logistic Regression', LogisticRegression())])\n",
    "models = [('Random Forest', rf),\n",
    "          (\"Support Vector Machine\", svc),\n",
    "          (\"Logistic Regression\", lr)]"
   ]
  },
  {
   "cell_type": "code",
   "execution_count": 412,
   "metadata": {},
   "outputs": [
    {
     "data": {
      "application/vnd.jupyter.widget-view+json": {
       "model_id": "c23191328e0f449aa6f94b5d4e24bdc0",
       "version_major": 2,
       "version_minor": 0
      },
      "text/plain": [
       "HBox(children=(IntProgress(value=0, max=3), HTML(value='')))"
      ]
     },
     "metadata": {},
     "output_type": "display_data"
    },
    {
     "name": "stderr",
     "output_type": "stream",
     "text": [
      "[Parallel(n_jobs=1)]: Using backend SequentialBackend with 1 concurrent workers.\n",
      "[Parallel(n_jobs=1)]: Done 100 out of 100 | elapsed:  1.7min finished\n",
      "[Parallel(n_jobs=1)]: Using backend SequentialBackend with 1 concurrent workers.\n",
      "[Parallel(n_jobs=1)]: Done 100 out of 100 | elapsed:    3.3s finished\n",
      "[Parallel(n_jobs=1)]: Using backend SequentialBackend with 1 concurrent workers.\n",
      "[Parallel(n_jobs=1)]: Done 100 out of 100 | elapsed:  1.7min finished\n",
      "[Parallel(n_jobs=1)]: Using backend SequentialBackend with 1 concurrent workers.\n",
      "[Parallel(n_jobs=1)]: Done 100 out of 100 | elapsed:    3.2s finished\n",
      "/Users/reuben/anaconda3/lib/python3.7/site-packages/sklearn/svm/base.py:193: FutureWarning: The default value of gamma will change from 'auto' to 'scale' in version 0.22 to account better for unscaled features. Set gamma explicitly to 'auto' or 'scale' to avoid this warning.\n",
      "  \"avoid this warning.\", FutureWarning)\n",
      "/Users/reuben/anaconda3/lib/python3.7/site-packages/sklearn/svm/base.py:193: FutureWarning: The default value of gamma will change from 'auto' to 'scale' in version 0.22 to account better for unscaled features. Set gamma explicitly to 'auto' or 'scale' to avoid this warning.\n",
      "  \"avoid this warning.\", FutureWarning)\n",
      "/Users/reuben/anaconda3/lib/python3.7/site-packages/sklearn/linear_model/logistic.py:432: FutureWarning: Default solver will be changed to 'lbfgs' in 0.22. Specify a solver to silence this warning.\n",
      "  FutureWarning)\n",
      "/Users/reuben/anaconda3/lib/python3.7/site-packages/sklearn/linear_model/logistic.py:469: FutureWarning: Default multi_class will be changed to 'auto' in 0.22. Specify the multi_class option to silence this warning.\n",
      "  \"this warning.\", FutureWarning)\n",
      "/Users/reuben/anaconda3/lib/python3.7/site-packages/sklearn/linear_model/logistic.py:432: FutureWarning: Default solver will be changed to 'lbfgs' in 0.22. Specify a solver to silence this warning.\n",
      "  FutureWarning)\n",
      "/Users/reuben/anaconda3/lib/python3.7/site-packages/sklearn/linear_model/logistic.py:469: FutureWarning: Default multi_class will be changed to 'auto' in 0.22. Specify the multi_class option to silence this warning.\n",
      "  \"this warning.\", FutureWarning)\n"
     ]
    }
   ],
   "source": [
    "scores = [(name, cross_val_score(model, data, target, cv=2).mean()) for name, model, in tqdm(models)]"
   ]
  },
  {
   "cell_type": "code",
   "execution_count": 413,
   "metadata": {
    "scrolled": true
   },
   "outputs": [
    {
     "data": {
      "text/plain": [
       "[('Random Forest', 0.2268008048957078),\n",
       " ('Support Vector Machine', 0.24213128541066958),\n",
       " ('Logistic Regression', 0.2312619396923426)]"
      ]
     },
     "execution_count": 413,
     "metadata": {},
     "output_type": "execute_result"
    }
   ],
   "source": [
    "scores"
   ]
  },
  {
   "cell_type": "markdown",
   "metadata": {},
   "source": [
    "## Initial results seem low, but, with 14 categories, random guessing would achieve an accuracy of 7.1%. Let's try a Deep Neural Network with and Embedding Layer"
   ]
  },
  {
   "cell_type": "code",
   "execution_count": 30,
   "metadata": {},
   "outputs": [],
   "source": [
    "y = pd.get_dummies(target).values\n",
    "reddit_df['splitted'] = reddit_df[1].apply(lambda x: x.split())"
   ]
  },
  {
   "cell_type": "code",
   "execution_count": 658,
   "metadata": {},
   "outputs": [],
   "source": [
    "def lemmatize_text(text):\n",
    "    return [lemmatizer.lemmatize(w) for w in text]\n",
    "reddit_df['text_lemmatized'] = reddit_df.splitted.apply(lemmatize_text)"
   ]
  },
  {
   "cell_type": "code",
   "execution_count": 661,
   "metadata": {
    "scrolled": true
   },
   "outputs": [],
   "source": [
    "reddit_df[1] = reddit_df.text_lemmatized.apply(lambda x: \" \".join(x))"
   ]
  },
  {
   "cell_type": "code",
   "execution_count": 197,
   "metadata": {},
   "outputs": [],
   "source": [
    "tokenizer = text.Tokenizer(num_words=20000)\n",
    "tokenizer.fit_on_texts(list(reddit_df[1]))\n",
    "list_tokenized_headlines = tokenizer.texts_to_sequences(reddit_df[1])\n",
    "X_t = pad_sequences(list_tokenized_headlines, maxlen=100)"
   ]
  },
  {
   "cell_type": "code",
   "execution_count": null,
   "metadata": {},
   "outputs": [],
   "source": []
  },
  {
   "cell_type": "code",
   "execution_count": 664,
   "metadata": {},
   "outputs": [],
   "source": [
    "# #########################\n",
    "# #   CURRENT BEST MODEL  #  --- Epoch 1: 15.6% accurate\n",
    "# #########################  --- Epoch 50: 49.4%\n",
    "\n",
    "#embedding_size = 300\n",
    "# input_ = Input(shape=(50,))\n",
    "# x = Embedding(20000, embedding_size)(input_)\n",
    "# x = Dense(750, activation='relu', kernel_regularizer=regularizers.l2(0.2))(x)\n",
    "\n",
    "# x = LSTM(25, return_sequences=True)(x)\n",
    "# x = GlobalMaxPool1D()(x)\n",
    "# x = Dense(500, activation='relu')(x)\n",
    "# x = Dropout(0.2)(x)\n",
    "# # There are 14 different possible classes, so we use 14 neurons in our output layer\n",
    "# x = Dense(14, activation='softmax')(x)\n",
    "\n",
    "# model = Model(inputs=input_, outputs=x)\n",
    "# model.compile(loss='categorical_crossentropy', optimizer='adamax', metrics=['accuracy'])\n",
    "# X_train,X_val, y_train,y_val = train_test_split(X_t,y,test_size=0.1,random_state=1)\n",
    "# model.summary()"
   ]
  },
  {
   "cell_type": "markdown",
   "metadata": {},
   "source": [
    "**Neural Network initially kept having a val_accuracy of 0... because the data is sitting in order and wasn't shuffled! (the \"test_size\" is just the very last bit (0.2) of the data, it doesn't choose randomly... fixed with train test split, which shuffles by default!**"
   ]
  },
  {
   "cell_type": "markdown",
   "metadata": {},
   "source": [
    "## Training model with stopwords removed from post titles"
   ]
  },
  {
   "cell_type": "code",
   "execution_count": null,
   "metadata": {},
   "outputs": [],
   "source": [
    "nltk.download('stopwords')\n",
    "stopwords = set(nltk.corpus.stopwords.words('english'))"
   ]
  },
  {
   "cell_type": "code",
   "execution_count": 9,
   "metadata": {},
   "outputs": [],
   "source": [
    "reddit_df_stopped = pd.DataFrame()\n",
    "reddit_df_stopped[0] = reddit_df[0]\n",
    "reddit_df_stopped[1] = reddit_df[1].apply(lambda x: ' '.join([word for word in x.split() if word not in (stopwords)]))\n"
   ]
  },
  {
   "cell_type": "code",
   "execution_count": 10,
   "metadata": {},
   "outputs": [],
   "source": [
    "tokenizer = text.Tokenizer(num_words=10000)\n",
    "tokenizer.fit_on_texts(list(reddit_df_stopped[1]))\n",
    "list_tokenized_headlines = tokenizer.texts_to_sequences(reddit_df_stopped[1])\n",
    "X_t = pad_sequences(list_tokenized_headlines, maxlen=50)"
   ]
  },
  {
   "cell_type": "code",
   "execution_count": 44,
   "metadata": {
    "scrolled": true
   },
   "outputs": [
    {
     "name": "stdout",
     "output_type": "stream",
     "text": [
      "Model: \"model_4\"\n",
      "_________________________________________________________________\n",
      "Layer (type)                 Output Shape              Param #   \n",
      "=================================================================\n",
      "input_4 (InputLayer)         (None, 50)                0         \n",
      "_________________________________________________________________\n",
      "embedding_4 (Embedding)      (None, 50, 300)           6000000   \n",
      "_________________________________________________________________\n",
      "dense_10 (Dense)             (None, 50, 750)           225750    \n",
      "_________________________________________________________________\n",
      "lstm_4 (LSTM)                (None, 50, 25)            77600     \n",
      "_________________________________________________________________\n",
      "global_max_pooling1d_4 (Glob (None, 25)                0         \n",
      "_________________________________________________________________\n",
      "dense_11 (Dense)             (None, 500)               13000     \n",
      "_________________________________________________________________\n",
      "dropout_4 (Dropout)          (None, 500)               0         \n",
      "_________________________________________________________________\n",
      "dense_12 (Dense)             (None, 14)                7014      \n",
      "=================================================================\n",
      "Total params: 6,323,364\n",
      "Trainable params: 6,323,364\n",
      "Non-trainable params: 0\n",
      "_________________________________________________________________\n"
     ]
    }
   ],
   "source": [
    "embedding_size = 300\n",
    "input_ = Input(shape=(50,))\n",
    "x = Embedding(20000, embedding_size)(input_)\n",
    "x = Dense(750, activation='relu', kernel_regularizer=regularizers.l2(0.2))(x)\n",
    "\n",
    "x = LSTM(25, return_sequences=True)(x)\n",
    "x = GlobalMaxPool1D()(x)\n",
    "x = Dense(500, activation='relu')(x)\n",
    "x = Dropout(0.2)(x)\n",
    "# There are 14 different possible classes, so we use 14 neurons in our output layer\n",
    "x = Dense(14, activation='softmax')(x)\n",
    "\n",
    "model = Model(inputs=input_, outputs=x)\n",
    "model.compile(loss='categorical_crossentropy', optimizer='adamax', metrics=['accuracy'])\n",
    "X_train,X_val, y_train,y_val = train_test_split(X_t,y,test_size=0.3,random_state=1)\n",
    "model.summary()"
   ]
  },
  {
   "cell_type": "code",
   "execution_count": 45,
   "metadata": {},
   "outputs": [],
   "source": []
  },
  {
   "cell_type": "code",
   "execution_count": 46,
   "metadata": {
    "scrolled": true
   },
   "outputs": [
    {
     "name": "stderr",
     "output_type": "stream",
     "text": [
      "/Users/reuben/anaconda3/lib/python3.7/site-packages/tensorflow_core/python/framework/indexed_slices.py:424: UserWarning: Converting sparse IndexedSlices to a dense Tensor of unknown shape. This may consume a large amount of memory.\n",
      "  \"Converting sparse IndexedSlices to a dense Tensor of unknown shape. \"\n"
     ]
    },
    {
     "name": "stdout",
     "output_type": "stream",
     "text": [
      "Train on 121138 samples, validate on 51917 samples\n",
      "Epoch 1/100\n",
      "121138/121138 [==============================] - 274s 2ms/step - loss: 6.9767 - accuracy: 0.1666 - val_loss: 2.3905 - val_accuracy: 0.1804\n",
      "Epoch 2/100\n",
      "121138/121138 [==============================] - 264s 2ms/step - loss: 2.2183 - accuracy: 0.2359 - val_loss: 2.1184 - val_accuracy: 0.2883\n",
      "Epoch 3/100\n",
      "121138/121138 [==============================] - 264s 2ms/step - loss: 2.0414 - accuracy: 0.3067 - val_loss: 2.0377 - val_accuracy: 0.3097\n",
      "Epoch 4/100\n",
      "121138/121138 [==============================] - 264s 2ms/step - loss: 1.9735 - accuracy: 0.3324 - val_loss: 1.9986 - val_accuracy: 0.3272\n",
      "Epoch 5/100\n",
      "121138/121138 [==============================] - 264s 2ms/step - loss: 1.9248 - accuracy: 0.3524 - val_loss: 1.9765 - val_accuracy: 0.3409\n",
      "Epoch 6/100\n",
      "121138/121138 [==============================] - 265s 2ms/step - loss: 1.8839 - accuracy: 0.3755 - val_loss: 1.9298 - val_accuracy: 0.3657\n",
      "Epoch 7/100\n",
      "121138/121138 [==============================] - 265s 2ms/step - loss: 1.8277 - accuracy: 0.4029 - val_loss: 1.8882 - val_accuracy: 0.3955\n",
      "Epoch 8/100\n",
      "121138/121138 [==============================] - 266s 2ms/step - loss: 1.7678 - accuracy: 0.4292 - val_loss: 1.8625 - val_accuracy: 0.4032\n",
      "Epoch 9/100\n",
      "121138/121138 [==============================] - 265s 2ms/step - loss: 1.7185 - accuracy: 0.4462 - val_loss: 1.8195 - val_accuracy: 0.4159\n",
      "Epoch 10/100\n",
      "121138/121138 [==============================] - 267s 2ms/step - loss: 1.6823 - accuracy: 0.4607 - val_loss: 1.7826 - val_accuracy: 0.4293\n",
      "Epoch 11/100\n",
      "121138/121138 [==============================] - 263s 2ms/step - loss: 1.6528 - accuracy: 0.4718 - val_loss: 1.7686 - val_accuracy: 0.4332\n",
      "Epoch 12/100\n",
      "121138/121138 [==============================] - 267s 2ms/step - loss: 1.6279 - accuracy: 0.4814 - val_loss: 1.7426 - val_accuracy: 0.4466\n",
      "Epoch 13/100\n",
      "121138/121138 [==============================] - 265s 2ms/step - loss: 1.6042 - accuracy: 0.4906 - val_loss: 1.7222 - val_accuracy: 0.4537\n",
      "Epoch 14/100\n",
      "121138/121138 [==============================] - 266s 2ms/step - loss: 1.5824 - accuracy: 0.5008 - val_loss: 1.7269 - val_accuracy: 0.4555\n",
      "Epoch 15/100\n",
      "121138/121138 [==============================] - 269s 2ms/step - loss: 1.5657 - accuracy: 0.5090 - val_loss: 1.7087 - val_accuracy: 0.4614\n",
      "Epoch 16/100\n",
      "121138/121138 [==============================] - 270s 2ms/step - loss: 1.5468 - accuracy: 0.5170 - val_loss: 1.7128 - val_accuracy: 0.4660\n",
      "Epoch 17/100\n",
      "121138/121138 [==============================] - 266s 2ms/step - loss: 1.5339 - accuracy: 0.5228 - val_loss: 1.6894 - val_accuracy: 0.4766\n",
      "Epoch 18/100\n",
      "121138/121138 [==============================] - 266s 2ms/step - loss: 1.5138 - accuracy: 0.5307 - val_loss: 1.6902 - val_accuracy: 0.4765\n",
      "Epoch 19/100\n",
      "121138/121138 [==============================] - 267s 2ms/step - loss: 1.5011 - accuracy: 0.5351 - val_loss: 1.6811 - val_accuracy: 0.4791\n",
      "Epoch 20/100\n",
      "121138/121138 [==============================] - 266s 2ms/step - loss: 1.4863 - accuracy: 0.5410 - val_loss: 1.6818 - val_accuracy: 0.4743\n",
      "Epoch 21/100\n",
      "121138/121138 [==============================] - 266s 2ms/step - loss: 1.4764 - accuracy: 0.5447 - val_loss: 1.6667 - val_accuracy: 0.4794\n",
      "Epoch 22/100\n",
      "121138/121138 [==============================] - 266s 2ms/step - loss: 1.4643 - accuracy: 0.5481 - val_loss: 1.6564 - val_accuracy: 0.4853\n",
      "Epoch 23/100\n",
      "121138/121138 [==============================] - 267s 2ms/step - loss: 1.4535 - accuracy: 0.5505 - val_loss: 1.6750 - val_accuracy: 0.4844\n",
      "Epoch 24/100\n",
      "121138/121138 [==============================] - 266s 2ms/step - loss: 1.4427 - accuracy: 0.5551 - val_loss: 1.6727 - val_accuracy: 0.4821\n",
      "Epoch 25/100\n",
      "121138/121138 [==============================] - 267s 2ms/step - loss: 1.4358 - accuracy: 0.5568 - val_loss: 1.6458 - val_accuracy: 0.4926\n",
      "Epoch 26/100\n",
      "121138/121138 [==============================] - 267s 2ms/step - loss: 1.4239 - accuracy: 0.5620 - val_loss: 1.6514 - val_accuracy: 0.4901\n",
      "Epoch 27/100\n",
      "121138/121138 [==============================] - 266s 2ms/step - loss: 1.4139 - accuracy: 0.5634 - val_loss: 1.6314 - val_accuracy: 0.4957\n",
      "Epoch 28/100\n",
      "121138/121138 [==============================] - 267s 2ms/step - loss: 1.4047 - accuracy: 0.5665 - val_loss: 1.6579 - val_accuracy: 0.4936\n",
      "Epoch 29/100\n",
      "121138/121138 [==============================] - 268s 2ms/step - loss: 1.4029 - accuracy: 0.5661 - val_loss: 1.6433 - val_accuracy: 0.4897\n",
      "Epoch 30/100\n",
      "121138/121138 [==============================] - 267s 2ms/step - loss: 1.3920 - accuracy: 0.5706 - val_loss: 1.6415 - val_accuracy: 0.4906\n",
      "Epoch 31/100\n",
      "121138/121138 [==============================] - 266s 2ms/step - loss: 1.3901 - accuracy: 0.5713 - val_loss: 1.6572 - val_accuracy: 0.4924\n",
      "Epoch 32/100\n",
      "121138/121138 [==============================] - 267s 2ms/step - loss: 1.3794 - accuracy: 0.5726 - val_loss: 1.6420 - val_accuracy: 0.4944\n",
      "Epoch 33/100\n",
      "121138/121138 [==============================] - 267s 2ms/step - loss: 1.3779 - accuracy: 0.5737 - val_loss: 1.6358 - val_accuracy: 0.4928\n",
      "Epoch 34/100\n",
      "121138/121138 [==============================] - 268s 2ms/step - loss: 1.3719 - accuracy: 0.5753 - val_loss: 1.6482 - val_accuracy: 0.4922\n",
      "Epoch 35/100\n",
      "121138/121138 [==============================] - 267s 2ms/step - loss: 1.3676 - accuracy: 0.5777 - val_loss: 1.6260 - val_accuracy: 0.4972\n",
      "Epoch 36/100\n",
      "121138/121138 [==============================] - 267s 2ms/step - loss: 1.3613 - accuracy: 0.5785 - val_loss: 1.6407 - val_accuracy: 0.4950\n",
      "Epoch 37/100\n",
      "121138/121138 [==============================] - 267s 2ms/step - loss: 1.3588 - accuracy: 0.5803 - val_loss: 1.6272 - val_accuracy: 0.5007\n",
      "Epoch 38/100\n",
      "121138/121138 [==============================] - 268s 2ms/step - loss: 1.3502 - accuracy: 0.5827 - val_loss: 1.6625 - val_accuracy: 0.4927\n",
      "Epoch 39/100\n",
      "121138/121138 [==============================] - 267s 2ms/step - loss: 1.3496 - accuracy: 0.5822 - val_loss: 1.6431 - val_accuracy: 0.4979\n",
      "Epoch 40/100\n",
      "121138/121138 [==============================] - 268s 2ms/step - loss: 1.3476 - accuracy: 0.5839 - val_loss: 1.6490 - val_accuracy: 0.4960\n",
      "Epoch 41/100\n",
      "121138/121138 [==============================] - 266s 2ms/step - loss: 1.3391 - accuracy: 0.5849 - val_loss: 1.6588 - val_accuracy: 0.4967\n",
      "Epoch 42/100\n",
      "121138/121138 [==============================] - 273s 2ms/step - loss: 1.3357 - accuracy: 0.5856 - val_loss: 1.6242 - val_accuracy: 0.5003\n",
      "Epoch 43/100\n",
      "121138/121138 [==============================] - 270s 2ms/step - loss: 1.3315 - accuracy: 0.5876 - val_loss: 1.6381 - val_accuracy: 0.5001\n",
      "Epoch 44/100\n",
      "121138/121138 [==============================] - 268s 2ms/step - loss: 1.3280 - accuracy: 0.5900 - val_loss: 1.6311 - val_accuracy: 0.5024\n",
      "Epoch 45/100\n",
      "121138/121138 [==============================] - 268s 2ms/step - loss: 1.3232 - accuracy: 0.5901 - val_loss: 1.6417 - val_accuracy: 0.4984\n",
      "Epoch 46/100\n",
      "121138/121138 [==============================] - 269s 2ms/step - loss: 1.3228 - accuracy: 0.5903 - val_loss: 1.6373 - val_accuracy: 0.5007\n",
      "Epoch 47/100\n",
      "121138/121138 [==============================] - 268s 2ms/step - loss: 1.3157 - accuracy: 0.5929 - val_loss: 1.6593 - val_accuracy: 0.4994\n",
      "Epoch 48/100\n",
      "121138/121138 [==============================] - 270s 2ms/step - loss: 1.3133 - accuracy: 0.5933 - val_loss: 1.6289 - val_accuracy: 0.4981\n",
      "Epoch 49/100\n",
      "121138/121138 [==============================] - 273s 2ms/step - loss: 1.3105 - accuracy: 0.5934 - val_loss: 1.6447 - val_accuracy: 0.5018\n",
      "Epoch 50/100\n",
      "121138/121138 [==============================] - 269s 2ms/step - loss: 1.3029 - accuracy: 0.5968 - val_loss: 1.6307 - val_accuracy: 0.5047\n",
      "Epoch 51/100\n",
      "121138/121138 [==============================] - 273s 2ms/step - loss: 1.2990 - accuracy: 0.5988 - val_loss: 1.6631 - val_accuracy: 0.4960\n",
      "Epoch 52/100\n",
      "121138/121138 [==============================] - 272s 2ms/step - loss: 1.2935 - accuracy: 0.5994 - val_loss: 1.6395 - val_accuracy: 0.5006\n"
     ]
    }
   ],
   "source": [
    "earlyStopping = EarlyStopping(monitor='val_loss', patience=10, verbose=0, mode='min')\n",
    "mcp_save = ModelCheckpoint('.mdl_wts.hdf5', save_best_only=True, monitor='val_loss', mode='min')\n",
    "history = model.fit(X_train, y_train, epochs=100, batch_size=500, callbacks=[earlyStopping,mcp_save], shuffle=True, validation_data=(X_val,y_val))\n"
   ]
  },
  {
   "cell_type": "code",
   "execution_count": 1023,
   "metadata": {},
   "outputs": [
    {
     "data": {
      "image/png": "[encoded data removed]",
      "text/plain": [
       "<Figure size 432x288 with 1 Axes>"
      ]
     },
     "metadata": {
      "needs_background": "light"
     },
     "output_type": "display_data"
    },
    {
     "data": {
      "image/png": "[encoded data removed]",
      "text/plain": [
       "<Figure size 432x288 with 1 Axes>"
      ]
     },
     "metadata": {
      "needs_background": "light"
     },
     "output_type": "display_data"
    }
   ],
   "source": [
    "plt.plot(history.history['accuracy'])\n",
    "plt.plot(history.history['val_accuracy'])\n",
    "plt.title('Model accuracy')\n",
    "plt.ylabel('Accuracy')\n",
    "plt.xlabel('Epoch')\n",
    "plt.legend(['Train', 'Test'], loc='upper left')\n",
    "plt.show()\n",
    "\n",
    "# Plot training & validation loss values\n",
    "plt.plot(history.history['loss'])\n",
    "plt.plot(history.history['val_loss'])\n",
    "plt.title('Model loss')\n",
    "plt.ylabel('Loss')\n",
    "plt.xlabel('Epoch')\n",
    "plt.legend(['Train', 'Test'], loc='upper left')\n",
    "plt.show()"
   ]
  },
  {
   "cell_type": "code",
   "execution_count": 144,
   "metadata": {},
   "outputs": [
    {
     "name": "stdout",
     "output_type": "stream",
     "text": [
      "51917/51917 [==============================] - 64s 1ms/step\n"
     ]
    },
    {
     "data": {
      "text/plain": [
       "[1.6394625541404604, 0.5006067156791687]"
      ]
     },
     "execution_count": 144,
     "metadata": {},
     "output_type": "execute_result"
    }
   ],
   "source": [
    "model.evaluate(X_val,y_val) ###  Quick sanity check"
   ]
  },
  {
   "cell_type": "markdown",
   "metadata": {},
   "source": [
    "# Calculating probability of what category you like based on tweets!"
   ]
  },
  {
   "cell_type": "code",
   "execution_count": 877,
   "metadata": {},
   "outputs": [
    {
     "name": "stdout",
     "output_type": "stream",
     "text": [
      "Loaded model from disk\n"
     ]
    }
   ],
   "source": [
    "json_file = open('model.json', 'r')                        ### Loading my best model\n",
    "loaded_model_json = json_file.read()\n",
    "json_file.close()\n",
    "loaded_model = model_from_json(loaded_model_json)\n",
    "# load weights into new model\n",
    "loaded_model.load_weights(\"model.h5\")\n",
    "print(\"Loaded model from disk\")\n",
    "loaded_model.compile(loss='categorical_crossentropy', optimizer='adamax', metrics=['accuracy'])"
   ]
  },
  {
   "cell_type": "code",
   "execution_count": 186,
   "metadata": {},
   "outputs": [],
   "source": [
    "def RedditCategoryPredictor():\n",
    "    twitter_handle = input(\"What is your Twitter Handle?\")\n",
    "    likes = get_liked_tweets(twitter_handle)\n",
    "    print(len(set(likes)))\n",
    "    tweets_stopped = []\n",
    "    for sentence in set(likes):\n",
    "        tweets_stopped.append([word for word in sentence.split() if word not in stopwords and \"\\\\\" not in word and \"@\" not in word and \"#\" not in word and len(word) > 2 and \"$\" not in word and \"---\" not in word])\n",
    "    tweets_stopped_and_lemmatized = []\n",
    "    for sentence in tweets_stopped:\n",
    "        tweets_stopped_and_lemmatized.append([lemmatizer.lemmatize(word) for word in sentence])\n",
    "    print(tweets_stopped_and_lemmatized)\n",
    "    \n",
    "                                            \n",
    "    tokenizer1 = text.Tokenizer(num_words=30000)\n",
    "    tokenizer1.fit_on_texts(tweets_stopped_and_lemmatized)\n",
    "    list_tokenized_tweets = tokenizer.texts_to_sequences(tweets_stopped_and_lemmatized)\n",
    "    X_t1 = pad_sequences(list_tokenized_tweets, maxlen=50)\n",
    "    result_probabilities = model.predict(X_t1)\n",
    "    result = result_probabilities.argmax(axis=1)\n",
    "    print(result_probabilities.shape)\n",
    "    unique_elements, counts_elements = np.unique(result, return_counts=True)\n",
    "    print(unique_elements)\n",
    "    print(counts_elements)\n",
    "    winning_category = list(counts_elements).index(max(counts_elements))\n",
    "    suggested_cat = None\n",
    "    if winning_category == 0:\n",
    "        suggested_cat = \"Discussion and Stories\"\n",
    "    elif winning_category == 1:\n",
    "        suggested_cat = \"Emotional Reaction Fuel\"\n",
    "    elif winning_category == 2:\n",
    "        suggested_cat = \"Entertainment - Gaming\"\n",
    "    elif winning_category == 3:\n",
    "        suggested_cat = \"Entertainment - Other (Movies/Music/Franchies/Misc)\"\n",
    "    elif winning_category == 4:\n",
    "        suggested_cat = \"Entertainment - Television\"\n",
    "    elif winning_category == 5:\n",
    "        suggested_cat = \"Humor\"\n",
    "    elif winning_category == 6:\n",
    "        suggested_cat = \"Images, Gifs, and Videos\"\n",
    "    elif winning_category == 7:\n",
    "        suggested_cat = \"Learning and Thinking\"\n",
    "    elif winning_category == 8:\n",
    "        suggested_cat = \"Lifestyle and Help\"\n",
    "    elif winning_category == 9:\n",
    "        suggested_cat = \"News and Issues\"\n",
    "    elif winning_category == 10:\n",
    "        suggested_cat = \"Places\"\n",
    "    elif winning_category == 11:\n",
    "        suggested_cat = \"Race, Gender, and Identity\"\n",
    "    elif winning_category == 12:\n",
    "        suggested_cat = \"Sports\"\n",
    "    elif winning_category == 13:\n",
    "        suggested_cat = \"Technology\"\n",
    "    return suggested_cat"
   ]
  },
  {
   "cell_type": "markdown",
   "metadata": {},
   "source": [
    "## Test"
   ]
  },
  {
   "cell_type": "code",
   "execution_count": 189,
   "metadata": {
    "scrolled": true
   },
   "outputs": [
    {
     "name": "stdout",
     "output_type": "stream",
     "text": [
      "What is your Twitter Handle?bonappetit\n",
      "<Response [200]>\n",
      "1118165736181071878\n",
      "<Response [200]>\n",
      "245\n",
      "989690098844348417\n",
      "<Response [200]>\n",
      "217\n",
      "907004729825169408\n",
      "<Response [200]>\n",
      "237\n",
      "877870311630188544\n",
      "<Response [200]>\n",
      "232\n",
      "804786709661700096\n",
      "<Response [200]>\n",
      "210\n",
      "778324481408323585\n",
      "<Response [200]>\n",
      "215\n",
      "765564828761133056\n",
      "<Response [200]>\n",
      "225\n",
      "758706004766760961\n",
      "<Response [200]>\n",
      "213\n",
      "738014056599162881\n",
      "<Response [200]>\n",
      "219\n",
      "718113355404296193\n",
      "<Response [200]>\n",
      "215\n",
      "704489403658407936\n",
      "<Response [200]>\n",
      "228\n",
      "691325434554781698\n",
      "<Response [200]>\n",
      "220\n",
      "667724637200097280\n",
      "<Response [200]>\n",
      "201\n",
      "642372690817380353\n",
      "<Response [200]>\n",
      "218\n",
      "620662353567346688\n",
      "<Response [200]>\n",
      "201\n",
      "596343215306866688\n",
      "3417\n",
      "[['never', 'knew', 'needed', 'marshmallow', 'crossbow,', 'thank', 'you.', '*adds', 'christmas', 'list*'], ['hmmm...', 'thinking', 'breakfast', 'mug', 'cake', 'talked'], ['Guys', 'launched', 'merch', 'need', 'feel', 'targeted', 'millennial', 'excited', 'embrace'], ['name', 'Twitter', 'Apple', 'number', 'million', \"they're\", 'best\"'], ['When', 'heard', 'describe', 'Thanksgiving', 'dish', 'table', 'raw', '&amp;', 'crisp', '&amp;'], ['entire', 'feed', 'might', 'end', 'based', 'food', 'pic', 'alone'], ['Only', 'following', 'twitter', 'now????', 'Late', 'party', 'thrilled', 'now.\"'], [\"I'm\", 'bon', 'appetit', 'website', 'way', 'much.\"'], ['darkness,', 'fry', 'them\"'], ['hey,', 'whatever,', \"we're\", 'list', 'favorite', 'butcher', 'shop', 'country.'], ['thank', 'including', 'fun', 'important', 'conversation', 'via'], ['HUGE', 'fan', 'layout,', 'design,', 'content,', 'and,', 'well...food.', 'What', 'mag', 'look', 'inspiration?'], [\"We're\", 'baby!'], ['Leftovers', 'feed', 'days.', 'Last', 'looks:', 'Breakfast', 'lamb', 'salsa', 'verde,', 'pickled', 'red', 'onion'], ['Best', 'pun', 'Feb', '&amp;', 'Your', 'Will', 'Blood', 'Grits\"'], ['nut', 'tart', 'Fall', 'issue!', 'turned', 'beautifully.'], ['Thank', 'understanding', 'feeling', 'cooking', 'live', 'lobster'], ['This', 'wonderful', 'kind', 'love', 'love', 'publishing'], ['Yeah,', 'burnt', 'lettuce.', 'Everyone', 'try', 'romaine', 'calm.'], ['Looks', 'like', 'something', 'going', 'tonight'], ['There', 'others', 'add', \"I'm\", 'proud', 'Future', 'Food', 'list'], ['spicy', 'feel', 'good', 'chicken', 'soup', 'perfect', 'chilly', 'night!', 'Thank'], [\"I'll\", 'add', 'one', 'repertoire.', 'Thanks'], ['made', 'issue', 'dang!', 'Sooooo', 'good', 'new', 'fave\"'], ['say', 'muffuletta', 'one', 'top', 'airplane', 'friendly', 'foods,', 'pas'], ['Get', 'no-carb,', 'protein', 'powder,', 'breakfast', 'mug', 'cake', 'ingredient'], [\"Age's\", '2015', 'Magazine', 'A-List:', 'Bon', 'Magazine', 'Brand', 'Year'], ['WOW!!', 'Our', 'best', 'designed', 'restaurant', 'year'], ['Made', 'delicious,', 'easy', 'cheesy', 'cauliflower', 'pasta.', 'Nothing', 'boring'], ['Overdraft', 'protection', 'polenta', 'love', 'food', 'witty', 'writing,', 'subscribe.'], ['Nothing', 'bonappetizing', 'picture', 'article.', 'You', 'inspire', 'though.'], ['HELL', 'yes', 'is.'], ['important', 'article', 'week'], ['Thank', 'Just', 'made', 'Warriors', 'game,', 'easy', 'delightful'], ['girl', 'wanna', 'flan\"'], ['When', 'change', 'apple'], ['And', 'now,', 'fact-check'], ['Grilling', 'tip:', 'Start', 'grilling', 'chicken', 'flesh', 'side', 'help', 'avoid', 'flare-up', 'via', 'podcast'], ['whoever', 'writes', 'Twitter', 'account', 'deserves', 'raise-', 'least', 'shekel', 'more...'], ['Got', 'drunk', 'sauv', 'blanc', 'valley', 'bought', 'subscription', 'uber', 'ride', 'home.', 'Pretty', 'wild', 'night.'], ['What', 'writer', '(including', 'truly)', 'eat', 'writing?', 'find'], ['look', 'like', 'exactly', 'need!'], ['This', 'probably', 'best', 'thing', \"I've\", 'ever', 'read', 'related', 'Olive', 'Garden.'], ['YOWSA,', 'recipe', 'look', 'absolutely', 'Die', 'For!', 'Thanks', 'major', 'inspo,', \"can't\", 'wait', 'make', 'this!'], ['Really', 'liking', 'Rick', \"Martinez's\", 'contribution', 'Thumbs', 'up.\"'], ['Really', 'liking', '10x10', 'series', 'mo.', 'Roasted', 'broccoli', 'tahini', 'sauce', 'immense.\"'], ['stunning', 'story', 'feature', 'best', 'new', 'resto', 'U.S.'], ['Congrats', 'restaurant', 'made', 'list!', 'well', 'deserved!\"'], ['Love', 'tea-dipped', 'paper', 'visuals', 'show', 'brew', 'color', 'variations.'], ['two', 'favorite', 'things:', 'pun', 'pickles.\"'], ['caption', 'made', 'smile\"'], ['used', 'mine', 'yesterday', 'memorable', 'memorial', 'watermelon', 'sorbet', 'elderflower'], ['end', 'online', 'resource', 'recipes,', 'still', 'find', 'valuable', 'print', 'copy', 'Already', 'made', 'three', 'dish', 'March', 'issue.\"'], ['Can', 'say', 'love', 'twitter', 'feed,', 'subscriber', 'forever', 'add', 'another', 'dimension.', 'Well', 'done!\"'], [\"today's\", 'Treat', \"Yo'self\", 'Friday,', 'subscribe', 'told', 'affordable', 'price)\"'], ['Okay', 'deleted', 'old', 'mean', 'tweet', 'replacing', 'new', 'nice', 'one.', 'This', 'great', 'package'], ['breakfast', 'become', 'photo', 'shoot'], ['Thrilled', 'finally', 'announce', \"year's\", 'class', 'Best', 'New', 'Restaurants', 'America'], ['Happy', 'Friday,', \"y'all\"], ['want', 'friend', 'whoever', 'wrote', 'tweet'], ['give', 'insofar', 'story', 'coming', 'series', 'heft,', 'diverse,'], ['changed', '(wild)', 'campaign', 'eating', 'habit'], ['After', 'reading', 'five', 'year', 'ago...I', 'finally', 'got', 'go.', 'Amazing', '25th', 'bday', 'dinner!'], ['spinach', 'puff', 'featured', 'big', 'hit', 'guest', 'holidays\"'], ['This', 'big', \"y'all:\", 'name', 'Dallas', '2019', 'Restaurant', 'City', 'Year.', 'Story'], ['Also,', 'woah,', 'whole', 'package', 'story', 'belongs', 'BEAUTIFUL.', 'deserves', 'Italian', 'chef'], ['Great', 'news', 'city', 'Chicago', 'via', 'cc:'], ['Tix', 'June', \"4's\", 'Nashville', 'Grub', 'Crawl', 'sale', 'now!', 'Join'], ['note...head', 'feed', '&amp;', 'check', 'hilarious', 'extravaganza!\"'], ['blood', 'love'], ['made', 'aloha', 'bowl', 'April', '2016', 'issue,', 'awesome!'], ['Start', 'simple.', 'Michelle', 'wrote', 'becoming', 'bestselling', 'cookbook', 'author', 'learned', 'Pasta'], ['Honored', 'mentioned', 'great', 'company.', 'Thanks'], ['The', 'carrot', 'cake', 'candy', 'carrot', 'coins.', 'The', 'bomb.'], [\"We're\", 'tremble.', 'What', 'honor', 'named', 'one', 'best', 'new', 'restaurant', 'America'], ['look', 'like', 'Sabrina,', 'Teenage', 'Witch.'], ['BON'], ['still', 'happily', 'fantastic', 'interviews)\"'], ['Most', 'surprising', 'thing', 'endorsement', 'cheaply', 'packaged', 'wine'], ['Bon', 'Appetit', 'name', 'Chicago', 'City'], ['oscar', 'coverage', 'need'], ['Jess', 'giving', 'secret', 'Her', 'point', '&amp;', 'recs', 'solid!\"'], [\"I'm\", 'proud', 'sandwich:'], ['idea', 'butter', 'varied!', 'wrong', 'want', 'home', 'taste', 'test?!\"'], ['Went', 'last', 'week,', 'know', 'what??', \"Goin'\", 'week!'], ['Spending', 'day', 'working', 'Italian', 'lesson', '&amp;', 'cooking', 'many', 'recipe', 'fit', 'in.\"'], ['latest', 'joined', 'Claire', 'Saffitz', '(!!!)', 'GOURMET', 'MAKES', 'talk'], ['The', 'cartoon', 'love', 'movie!\"'], ['This', 'whole', 'package', 'superb,', 'amazing,', 'brilliant,', 'ESPECIALLY', 'piece', 'immigrant', 'envy'], ['Dry-rubbed', 'flank', 'steak', 'grilled', 'corn', 'salsa=', 'go-to', 'denial', 'tomorrow', 'dinner.', 'Thx'], ['Digging', 'rent', 'week'], ['Watched', 'Silence', 'Lambs', '1st', 'time.', 'Peep', 'vintage', 'BonApp', 'threw', 'biggest', 'loop.'], ['next', 'life,', 'wanna', 'Brad'], ['chefs.', 'seats.', 'courses.', 'Welcome', 'best', 'new', 'restaurant', '2018.'], ['Wear', 'hat.'], ['major', 'drool', 'fest', 'happening', 'right', 'now.', 'Gotta', 'try', 'asap!', 'talking', 'weeknight', 'paella'], ['profile', 'name.', 'Well', 'done.\"'], [\"we're\", 'going', 'make', 'Berry-Ricotta', 'cake.', \"It's\", 'really', 'easy', 'delicious.', 'beater', 'machine'], ['Yummers!', 'Perfect.', 'Roasted.', 'Cauliflower'], ['MADE', 'IT!', 'bonappetit', 'Hot', 'new', 'restaurant', 'country.', 'Congrats', 'team!'], ['Thank', 'warm', 'delicious', 'welcome', 'test', 'kitchen,'], ['announced', \"America's\", 'best', 'new', 'restaurant', '2017,', 'suddenly', 'hungry'], ['With', 'lot', 'food', 'TONS', 'pop-culture', 'references,', 'fave', 'twitter', 'account'], ['part', 'Snapchat', 'cooking', 'series', 'opened', 'well.\"'], ['The', 'entertaining', 'issue', 'cup', 'coffee.'], ['look', 'tasty,', 'might', 'need', 'make', 'one', 'dinner!!\"'], ['93-years-old', '&amp;', 'work', 'every', 'day', 'a.m.', 'till', 'midnight.', \"I'm\", 'slacker.'], ['perfect', 'morning'], ['freelancing', 'Meet', 'chef', 'making', 'one', \"America's\", 'best', 'new'], ['verify', 'recipe', 'very,', 'good'], ['Love', 'this!', 'Have', 'made', 'many', 'questionable', 'smoothy', 'time', 'looking', 'forward', 'getting', 'right'], [\"Can't\", 'Stop', 'The', 'Feeling', 'drink', 'ALL', 'SUMMER!', 'Pineapple-Hibiscus', 'Cocktail', 'via'], ['friendship', 'trouble'], ['worked', 'Laney', 'Boggs.'], ['Unplating', 'current', 'issue', 'judge,'], ['far', 'best', 'eggplant', 'parm', 'recipe', 'besides', \"Nana's\", 'Claire', 'Saffitz', 'Oct', '2016', 'issue\"'], ['Delicious', 'afternoon', 'snack.', 'Thanks', 'inspiration.'], ['thank', 'another', 'great', 'recipe!!', 'Trying', 'one', 'tonight!\"'], ['Came', 'back', 'home', 'magazine', 'waiting'], ['These', 'guy', 'two', 'amazing', 'people!', 'Great', 'read.', 'Inspiring!'], ['tried', 'Cornbread', 'Tamale', 'Pie', 'Recipe', 'All', 'Stellar', 'cool', 'nite!'], [\"Here's\", 'something', 'wrote'], ['Definitely', 'trying', 'Oatmeal', 'recipe', 'Thanks', 'great', 'recipe'], ['Maaan', 'yall', 'werent', 'kidding', 'bread', 'cheese!\"'], ['like', 'somewhere', 'staring', 'queso', 'dip'], ['This', 'happens', 'looking', 'answer', 'Google.'], ['Raw', 'emotion', 'real', 'insight', 'relationship', \"week's\", 'podcast:'], ['The', 'daily', 'email', 'A+\"'], ['These', 'oustanding', 'butcher', 'shop', 'hello'], ['Happy', 'National', 'Doughnut', 'Day!'], [\"You've\", \"BAM'd\"], ['That', 'FAST!', 'Thanks', 'much.\"'], ['Absolutely.', 'Going', 'lemony', 'smoked', 'trout', 'dip', 'homemade', 'rye', 'bread', 'year.\"'], [], [\"can't\", 'decide', 'love', 'recipe', 'sense', 'humor'], ['might', 'one', 'say', 'it,', 'thank', 'featuring', 'tofu!'], ['Did', 'subscribe', 'magazine', '12.5%', 'chance', \"I'll\", 'get', 'issue', 'Claire', 'Saffitz', 'cover?', 'Perhaps'], [\"I'm\", 'dying,', 'video', 'kid', 'eating', 'artisanal', 'chocolate'], ['American-made', 'beer', 'love', 'almost', 'much', 'love', 'America'], ['LOTS', 'way', 'weekday', 'breakfast', 'game', 'via', 'genius'], ['Thank', 'continuing', 'marry', 'food', 'pop', 'culture.', 'First,', 'Oscars,'], ['Today', 'announcing', \"BA'S\", 'BEST', 'WEEKEND', 'EVER.', 'Three', 'day', 'eating,', 'drinking,', 'cooking,', 'hanging', 'Team', 'Bon'], ['love', 'normal', 'guy', 'podcasts,', 'asking', \"qu's\", \"I'd\", 'ask', '&amp;', 'making', 'totally', 'relatable', 'love', 'love', 'love'], ['Twitter', 'want', 'know', \"what's\", 'happening.', \"magazine's\", 'garlic', 'confit', 'toast', 'recipe,', \"that's\", \"what's\", 'happening.\"'], ['Such', 'beloved', 'cookbook.', 'made', 'vinegrette', 'page', '147', 'decade', '(to', 'point', 'remembered', 'page)'], ['always', 'loved', \"Houston's.\", 'Damn,', 'feel', 'good', 'able', 'admit', 'loud.\"'], ['sec', 'spent', 'watching', \"I'm\", 'try', 'find', 'clam', 'shop', 'shut.', \"That's\", 'effective', 'recipe'], ['controversial', 'opinion:', \"I'm\", 'buying', 'ceramics.', 'ONLY', 'KATORIS!', '(latest'], ['Cold', 'Brew', 'Tonic', 'coming', 'way', 'week!', 'June', 'cafe', 'scoop.'], ['This', 'honor!', 'favor,', 'pick', 'Sept.', '&amp;', 'try', 'chef', \"Shuai's\", \"mama's\", 'curry'], [\"I've\", 'got', 'minute', 'walk', 'away!', 'Congrats,'], ['And', \"that's\", 'wintry', 'version', 'Kimchi', 'bowl.', 'Will', 'definitely', 'eat'], ['getting', 'ready', 'weekend', 'listening', 'podcast', 'BBQ'], ['Fourth', 'July', 'recipe', 'celebrate', 'peak', 'summer', 'America:', 'via'], ['New', 'turkey', 'idea:', 'grill', 'it!', 'take', 'Instagram', 'today', 'innovative', 'recipes:'], ['one', 'word', 'cheesy', 'recipe:', 'YUM!'], ['That', 'tagline', 'life!!!\"'], ['dish', 'waitressing', \"sister's\", 'taqueria'], ['Oeufs,'], ['Skillet', 'Phyllo', 'Pie', 'Butternut', 'Squash,', 'Kale,', 'Goat', 'Cheese', 'via'], ['Whoever', 'run', 'Twitter', 'deserves', 'medal\"'], ['allowed', 'tweet', 'porn', 'like', 'that\"'], ['love', 'salad', 'over!'], ['Egg', 'salad', 'potato', 'salad?', 'Yes,', 'please!', 'made', '4th', 'hit!', 'Thanks'], ['hey', 'please', 'write', 'thought-piece', 'heck', 'going', 'YouTube', 'channel'], ['The', 'sloppy', 'joe', 'recipe.', \"You're\", 'welcome.\"'], ['Following', 'Instagram', 'wonderful', 'choice,', \"I'm\", 'always', 'hungry', 'drool', 'worthy', 'food', 'show!!\"'], ['Burrata', 'overload', 'cherry', 'tomato', 'vinaigrette.'], ['hell', 'yeah\"'], ['Feb', 'issue', 'feature', \"Valentine's\", 'menu', 'home.', 'real', 'day-find'], ['Isle', 'Dogs'], ['The', 'kid', 'Noma', 'cofounder', 'going', 'vegan', 'making', 'great-sounding', 'snacks.', 'Props', 'them!', 'Via'], [\"It's\", 'OKC', 'today.', 'Come', 'visit', 'tired', 'chilly,', \"y'all.\"], ['wow,', 'look', 'like', 'mine!'], ['tired', 'working', 'industry', 'understand', 'respect', '(via'], ['fan', 'whoever', 'year', 'old', 'run', 'social', 'Keep', 'early', \"90's\", 'Nickelodeon', 'reference', 'coming!!!\"'], ['asked', 'Thai', 'restaurant', 'order', 'Thai', 'restaurant'], ['Oh,', 'know', 'coconut', 'oil', '&amp;', 'agave', 'syrup', 'scream', 'me!', ';)\"'], ['Thx', 'inviting', 'speak', 'immigrant', 'rights!', 'And', 'test', 'kitchen', 'snacks!'], ['exactly!!!'], ['Loving', 'pro', 'quote', 'latest', 'issue', 'dull', 'knife', 'get', 'Ludo', 'Lefebvre,'], ['photos,', 'admit', 'it.\"'], ['wrote', 'in', 'out', 'eating', 'food', 'allergy'], ['want', 'take', 'moment', 'acknowledge', 'ppl', 'responsible', 'twitter', 'captions.', 'Solid', 'gold.', 'hope', 'get', 'raises\"'], ['streak', 'continues--dinner', 'best', 'new', 'restaurant', 'year', 'row!', 'Left', 'stuffed', '&amp;', 'happy.'], ['Damn', 'tho'], ['Thank', 'recipe', 'day', 'day', 'inbox.', 'many', 'recipe', 'board!\"'], ['The', 'team', 'picked', 'fav', 'cookbook', 'including', 'The', 'Drinks', 'Manual'], [\"I'm\", 'writing', 'grocery', 'list', 'keep', 'getting', 'rabbit', 'hole', 'website.\"'], ['whoever', 'charge', 'name', 'change', 'account', 'incredible', '&amp;', 'admire', 'much\"'], ['These', 'pickled', 'strawberry', 'improve', 'everything', 'ice', 'cream', 'oyster'], ['Lunch', 'train:', 'chickpea', 'salad,', 'pita,', 'cukes,', 'radishes,', \"Sahadi's\", 'garlic'], ['Can', 'say', 'The', 'answer', 'probably', 'haha', 'Thanks'], ['honor', 'watch', 'owner', 'find', \"they've\", 'named', 'best', 'new', 'restaurant', '2016'], ['waiting', 'Best', 'Banana', 'Bread', 'finish', 'baking', 'smell', 'already', 'making', 'cray,', 'wait', 'ONE', 'HOUR', 'cool?!\"'], ['made', \"mac'\", 'cheese', 'weekend', 'really', 'best', 'one', 'planet.', 'Bravo,'], ['Ryan', 'Lochte', 'like', 'zoodles', 'tofu', 'half', 'brain', 'would', 'love', 'via'], ['And', 'THINK', 'know', \"Here's\", 'intel', 'study', 'next', 'day', 'drinking', 'session', 'via'], ['Olympic', 'diet', 'REALLY', 'get', 'behind'], ['definitely', 'make', 'inspiralized', 'version', 'recipe', '&gt;&gt;'], ['heard', 'Rapoport', 'talk', 'food', '&amp;', 'culture,', 'missing', 'out.', '=&gt;&gt;'], ['THE', 'best', 'bbq', 'atlanta', '...', \"that's\", 'right', 'said', 'it.', 'DONATE', 'THEM', 'PEOPLE.'], ['food', 'critic', 'The', 'Grand', 'Forks', 'Herald', 'North', 'Dakota', 'famous', 'honest', 'review', 'Olive'], ['Beyond', 'happy', 'homies', 'baroo_la', 'wildairnyc', 'top', '10!!', 'Honored'], ['kitchen', 'vibe', 'totally', 'thing.', 'via'], ['said', 'challenge', 'accepted!', 'blueberry-pecan', 'galette'], ['Let', 'creativity', 'run', 'wild', 'whip', 'soup', 'without', 'recipe'], ['happens', 'everyone.', \"I've\", 'share', 'Newsletter', 'e-mail', 'like', 'that.'], ['This', 'delight', 'me!', 'Julia', \"Child's\", 'actual', 'kitchen', 'look', 'lot', 'like', \"dad's\"], ['What', 'today?'], ['Dreams', 'come', 'true:', \"I'm\", 'staffer', 'week', 'Yep!', 'Learn', 'secret'], ['honestly', 'follow', 'puns,', 'recipe'], ['Thanks', 'Making', 'eggplant', '&amp;', 'country', 'ham', 'ragu', 'became', 'top', 'priority.'], [\"we've\", 'subscribed', 'mag', 'forever', 'never', 'fails', 'please.', 'Often', 'use', 'back', 'find', 'recipe', 'back', 'issues\"'], ['When', 'saw', 'pasta', 'primavera', 'crispy', 'onion', 'gremolata,', 'knew', 'make', 'it.'], [\"can't\", 'even', 'handle', 'gorgeous', \"month's\", 'issue'], ['Exciting', 'news!', 'Hotel', 'Emma,', 'culinary', 'hotel', 'named', 'among', \"America's\", 'Best', 'New', 'Restaurants'], ['want', 'thank', \"'Cooking\", 'Without', \"Recipes'\", 'section,', 'truly', 'changed', 'entire', 'life.\"'], ['Congratulations', 'friend', 'launch', 'new', 'channel!'], ['Skills', \"I've\", 'learned', 'working', 'able', 'shotgun', 'beer', 'immediately', 'return', 'desk', 'resume', 'working.\"'], [\"It's\", 'like', 'some\"'], ['clicked', 'link', 'yet,', 'promise', 'wrong.', '38-pound', 'bag', 'chip', 'reason', 'wake', 'every', 'morning.\"'], ['Between', 'gown', 'look', 'like', 'food,', 'matching', 'gown', 'book', 'covers...', 'night', 'made.\"'], ['How', 'make', 'kitchen', 'smell', 'like', 'rainbow', 'pleasant', 'herb'], ['enter', 'fashion', 'show', 'like'], ['digital', 'team', 'geniuses.\"'], ['Your', 'Facebook', 'post', 'today', 'kept', 'state', 'hunger', 'hours!', 'many', 'great', 'recipe', 'good', 'advice!', 'Thank', 'you!\"'], ['Mission', 'Chinese', 'Food', 'via'], ['LOVE', 'ALL'], ['Just', 'subscribed', 'print', 'edition', 'magazine,', '100%', 'right', 'now:'], ['This', 'article', 'near', 'dear', 'heart', '100+', 'volunteer', '(cousins,', 'colleagues,', 'long'], ['Sunday', 'baking'], [\"Don't\", 'throw', 'broccoli', 'leaves,', 'make', 'broccoli', 'pesto', 'pasta'], ['love', 'beer?', 'love', 'cheese?', 'love', 'industry-leading', 'food', 'medium', 'companies?', 'still'], ['thanks', 'kind', 'word', 'lovely', 'photos!'], ['uuuh,', 'every', 'night?\"'], ['Damn,', 'Daniel'], ['LOVE', 'chicken', 'milanese.', 'also', 'satisfying', 'nice', 'thing', 'cook.\"'], ['asked', 'recently', 'curate', 'apothecary.', 'The', 'task', 'easy.', 'Here', 'favorite', 'things:'], ['Dear', 'take', 'bow', 'friend', 'These', 'potato', 'roasty', 'toasty'], ['magazine', 'launched', 'first', 'cookbook', 'club', \"I'm\", 'absolutely', 'stoked', 'honored', 'picked'], ['That', 'time', 'worked', 'hour', 'shift', 'filmed', 'entire'], ['Meet', 'savvy', 'middle', 'schooler', 'wait', 'line', 'Franklin', 'Barbecue'], ['helpful', 'informative', 'mention'], ['super', 'liberal', 'Golden', 'Girls', 'GIF', 'usage', 'morning.\"'], [\"Gettin'\", 'hot'], ['judge', 'final', 'then...', 'winner!'], ['Did', \"Here's\", 'great', 'hack', 'friend', 'Learn', 'more:'], ['moving', 'must-read', 'iconic', 'Restaurant', 'Was', 'Greatest', 'Show'], ['Thank', 'This', 'staff', '&amp;', 'city', 'ATL', 'support', 'Gratitude!'], ['good', 'sign', 'almost', 'find', 'appealing', 'it?', '*hangs', 'head', 'shame*\"'], ['Aww', 'thanks,'], ['ran', 'store', 'seeing', '&amp;', 'making', 'This', 'rain', 'stop', 'grilling!\"'], ['love', 'cooking', 'mushroom', 'much', 'do!', 'Great', 'tip'], ['First', 'two', 'purchase', 'since', 'touching', 'US:', 'mag', 'shawarma', 'wrap.', 'Slow', '&amp;', 'steady', 'transition.\"'], ['Thanks', 'recipe', 'These', 'brownie', 'cooky', 'passover', 'safe', 'still', 'surprisingly', 'delicious'], ['ordered', 'jerk,', 'said'], ['honored', 'part', 'May', 'Issue!!!', 'Thank', 'you.', \"Dino's\"], ['long-time', 'fan', 'cannot', 'believe', \"I'm\", 'starting', 'dive', 'podcast.', 'much', 'good', 'stuff!\"'], ['TFW', '3rd', 'place', 'Voice.', 'VOTE:'], ['The', 'next', 'great', 'U.S.', 'eating', 'city', 'might', 'surprise'], ['Meet', 'Siggi', \"(he's\", 'real', 'person!)'], ['made', 'life.\"'], ['foodcast', 'longer', '30m'], ['cook', 'sauce', 'new', 'issue', 'right', 'thing', 'last', 'night.', 'Delicious!'], ['love', \"I'm\", 'cooking', 'entire', 'issue', 'because...why'], ['Would', 'like', 'read', 'article', 'explaining', 'phenomenon', 'certain', 'day', 'week', 'feeling', 'like', 'others,', 'feel', 'like', 'Thursday'], ['Best', 'believe', \"I'm\", 'going', 'read', 'EVERY', 'article', 'recipe', 'series:'], ['Hey', 'look.', 'Hot', \"I'm\", 'hungry'], ['podcast?!', 'Drowning', 'candy', 'coated', 'feeling', 'right', 'now.', 'Love'], ['The', 'list', 'best', 'new', 'include', 'via'], ['hot', 'pocket', 'sandwich\"'], [\"I'm\", 'going', 'Make', 'Pie!\"'], ['Our', 'biggest', 'episode', 'yet!', 'With', 'Adam', 'Rapoport,', 'alum', 'rise', 'fashion'], ['tweet', 'tasted', 'good', 'look,', \"I'd\", 'eat', 'Twitter', 'feed', 'whole.\"'], ['The', 'perfect', 'summer', 'Blueberry', 'Crumble', 'Pie.'], ['Making', 'tomorrow!!!\"'], ['The', 'sexual', 'assault', 'allegation', 'sommelier', 'Anthony', 'Cailan', 'make', 'clear', 'wine', 'world', 'work', 'do.'], ['Dumb', 'excited', 'proud', 'high', 'school', 'bestie', 'Matt', 'Alma', 'big', 'top', 'pick'], ['Brad', 'Leone', 'fan', 'commenting', 'day', 'since', 'last', 'Brad', 'video,', 'hear', 'you.', 'Introducing'], ['Waiting', 'share', 'Fall', 'article', 'via', 'social', 'fall-appropriate', 'gif'], ['omg', 'name', 'change', 'though'], ['talk', 'Black'], ['Taking', 'advice', 'scheduling', 'working', 'lunch'], ['Chef', 'piece', 'Portugal', 'october', 'best', 'food', 'writing', 'read', 'year.'], ['Recently', 'enjoyed', 'FANTASTIC', 'batch', 'potato', 'latke', 'Barney', 'Greengrass', 'David', 'Remnick'], ['Probably', 'late', 'it,', 'video', 'dept', 'produce', 'consistently', 'good', 'stuff'], ['answered', 'question.'], ['thanks', 'finally', 'giving', 'people', 'want,', 'brad', 'leone', 'shirt', 'even'], ['Reading', 'Thanksgiving', 'issue', 'excited', 'cooking', 'year.', 'Iceland', 'last', 'year', 'missed', 'meal.\"'], ['Recently', 'hooked', 'foodcast.', 'Pros:', 'get', 'pumped', 'cook.', 'Cons:', 'Always', 'hungry'], ['These', 'best', 'new', 'restaurant', 'America', 'according'], ['Baked', 'hubby.', 'Nothing', 'say', 'love', 'like', 'giant', 'skillet', 'cookie!', 'See', 'hand', 'scale.', 'Thanks'], ['wrote', 'absolute', 'best', 'red', 'sauce', 'joint', '(please', 'argue', 'this),', 'Buca', 'Beppo,'], ['Temps', 'climbing!', 'Good', 'thing', 'covered', 'list', 'top', 'summer', 'drink', 'recipes.'], [], ['welcome', 'bon', 'test'], ['Christmas', 'Day', 'sundae', 'bar:', 'salted', 'maple', 'caramel', 'sauce', 'AMAZING.', 'And', 'make'], ['Hot', 'new', 'play', 'idea:', \"It's\", 'called', 'HAMilton', 'life', 'holiday', 'ham', 'riesling'], ['God,', 'never', 'loved', 'anything', 'more.', 'via'], [\"They're\", 'older', 'wiser'], [], ['Especially', 'neat', 'room', 'temp.\"'], [\"I've\", 'always', 'said', 'probably', 'marry', 'whoever', 'tweet', 'warn', 'dowry', 'ideal\"'], ['love', 'letter', 'Factory', 'first', 'day', 'NYC', 'via'], ['extra', 'chocolatey', 'brownie', 'person', 'Twitter.', \"It's\", 'consistently', 'excellent.'], ['love', 'finding', 'new', 'podcasts', 'catching', 'episode', 'missed!', 'Cheers', 'Foodcast', 'latest', 'podcast', 'obsession\"'], ['Congratulations', '&amp;', 'named', 'TOP', 'list'], ['Congratulations', 'named', 'best', 'restaurant', 'US!'], ['favourite', 'night!\"'], ['read', 'line'], ['Here', 'food', 'podcasts', 'listening', 'today:'], ['Um.', 'Lord', 'mercy;', 'egg', 'salad', 'look', 'ridiculously', 'good.', 'deliver?'], ['Gold!'], ['Thanks', 'They', 'recommend', 'manual', 'person', 'last', 'blacked', 'with.'], ['call', 'pay', 'play,', 'caused', 'outbreak', 'shitty', 'wine', 'list'], ['spend', 'lunch', 'break', 'wisely', 'scroll', 'think', 'dinner', '(and', 'drinks!)\"'], ['First', 'Name,', 'This.', 'Last', 'Name,', 'Looks', 'Amazing!\"'], ['Freezer', 'burrito', 'rescue', 'tonight,', 'thank'], [\"Franny's\", 'know', 'it.', 'Their', 'pizza', 'hot', 'honey', 'amaaaazing!\"'], ['ALL', 'THE', 'ABOVE', 'Our', 'Favorite', 'Egg', 'Recipes', 'via'], [\"You're\", 'clever,', 'BA.', ':P\"'], ['And', \"that's\", 'bottom', 'line', 'cause', 'Scone', 'Cold', 'say', 'so,', ':D\"'], ['Got', 'first', 'issue', 'mail', '&amp;', 'someone', 'want', 'sample', 'first', 'dish', 'make!'], ['Straight', 'obsessed', \"month's\", 'Errbody', 'celebrating', 'health-ier'], ['Great', 'story', 'phone', 'etiquette', 'dinner', 'table.', 'Everyone', 'probably', 'read', 'it...I', 'guess'], ['much', 'flavor', 'spaghetti', 'no-cook', 'tomato', 'sauce', '&amp;', 'hazelnut', 'Doyenne', 'Aix.'], [\"we'll\", 'thru', 'give', 'extra', 'Parker', 'House', 'roll', 'anyone', 'code', 'phrase:', 'like', 'roll'], ['thanks', 'needed', 'it\"'], ['4th', 'July', 'look', 'like', 'United', 'States', 'Now.', 'Four', 'home', 'cook', 'across', 'America', 'share'], ['hoping', 'crazy', 'augmented', 'reality', 'stuff.', 'But', 'least', 'new', 'issue!\"'], ['Loving', 'kismet', 'day', 'like', 'today', 'piece', 'went', 'good'], ['Love', 'photo'], ['lighter', 'mood:', 'Making', 'Friendsgiving', 'Day.', 'Simple.', 'Heaven.'], ['current', 'obsession.', 'The', 'Foodcast.', 'blame'], [\"We've\", 'got', 'major', 'spring', 'fever', 'Picnic', 'The', 'Park'], ['Raleigh,', 'St.', 'Louis,', 'Austin,', 'Philly', 'represented'], ['heating', 'leftover', 'chilli', 'colorado.', 'You', 'need', 'chilli', 'colorado', 'life.', 'Here.', 'Make', 'it.', 'free.'], ['When', 'mag', 'arrives', 'day', 'leave', 'summer', 'weekend', 'roadtrip'], ['One', 'all-time', 'fave', 'recipes:', \"It's\", 'rotisserie.', \"It's\", 'faux-tisserie'], [\"I'll\", 'rice', 'bowl.', 'Guess', \"what's\", 'lunch', 'bag', 'morning!\"'], ['Herbed', 'chickpea,', 'honey', 'egg', 'one', 'fave', 'recipe'], ['Ok,', 'fine.', 'must.', 'SUBSCRIBING!!', 'FOOD.', 'YESSSSSS\"'], ['do?', 'Also', 'made', 'steamed', 'mackerel', 'green', 'chili', 'dashi.'], ['August', 'column', 'kind', 'cooking', 'like', 'finicky', 'crowd,', 'here,', 'hummus'], ['elaborate:', 'read', 'keep', 'running', 'list', 'restaurants.', 'Now', 'add', 'city', 'list', 'future.\"'], ['Ellies', '2016:', 'nominated', 'Leisure', 'Interests', 'Like'], ['top', 'best', 'new', 'restaurant', 'list', 'easily', 'one', 'top', 'thing', 'look', 'forward', 'year.'], ['someone', 'lived', 'past', 'yrs,', \"I'm\", 'NOT', 'surprised', 'made', 'list!'], ['Adding', 'another', 'podcast', 'list:', 'Foodcast.', \"I'm\", 'obsessed!\"'], ['last', 'year', 'one', 'top-of-the-year', 'healthy', 'meal', 'plans,', 'enduring'], ['my,', 'finalist', 'Best', 'New', 'Restaurants', '2017!', 'Check', 'full'], ['Good', 'morning!', \"Here's\", 'debut,', 'edited', 'amazing', 'RAP', 'SNACKS', 'FOREVER\"'], ['Wagyu', 'grass', 'fed', 'pasture', 'raised', 'beef', 'tasting'], ['kid', 'love', 'banana', 'bacon', 'peanut', 'butter', 'wrap?', 'envy'], [\"We're\", 'loving', 'list', 'put', 'together', 'Most', 'Important', 'Cheeses', 'America', '(most'], ['Congrats', 'named', 'best', 'new', 'restaurant'], ['browse', 'much', 'day', 'feel', 'need', 'culinary', 'school', 'could', 'eventually', 'contribute.', '(Corn', 'salsa', 'point)\"'], ['Thanks', 'turned', 'great!'], ['want', 'say', 'The', 'Culture', 'issue', 'one', 'best.', 'Keep', 'great', 'work'], ['What', 'great', 'company', 'among,', 'thank', 'including', 'new', 'memoir'], ['HUGE', 'CONGRATS', 'named', 'Best', 'New', 'Restaurant'], ['HAHA', 'Nice', 'one'], ['Salted-Butter', 'Apple', 'Galette.', 'The', 'best', 'dessert', 'table', 'last', 'night.', 'Thankful', 'kickass', 'recipe'], ['Why', 'use', 'saxophone', 'turd-pile', 'emoji,', 'capability', 'editing', 'italicizing', 'tweet', 'text??\"'], ['Guested', 'new', 'podcast', 'Will', 'Travel', 'Snacks:', 'Food', \"Lover's\", 'Guide', 'Eating', 'World'], ['Hot', 'swirl', 'summer'], ['This', 'look', 'delicious,', 'Now,', 'well', 'ship,', \"I'm\", '100%', 'lazy', 'AM?'], ['You', 'guy', 'demanding', 'sometimes.\"'], ['next,', '1st', 'series', 'improving', 'breakfast:', '&amp;', 'Rick', 'Martinez', 'eggs!'], ['absolutely', 'incredible,', 'heartbreaking,', 'inspiring,', 'beautiful', 'piece.', 'Bravo,', 'Andy'], ['Whoever', 'run', 'twitter', 'consistently', 'kill', 'job.'], ['turn', 'jelly', 'thinking', 'it!', ';)\"'], ['making', 'quenelle', 'life', 'goal', 'mine.', 'joke.', 'This', 'tutorial', 'clear', 'encouraging.', 'Thank', 'you.\"'], ['Thou', 'shalt', 'follow', 'commandment', 'taking', 'Instagram', 'food', 'pic'], ['Blue', 'raspberry', 'flavor:', 'it,', 'come', 'from?', 'Learn'], ['Congratulations', 'order', 'tweet,'], ['going', 'download', 'run,', 'preceded', 'avo', 'toast\"'], ['number', 'time', 'made', 'recipe', 'cold', 'night', 'know', 'really', 'want', 'eat', 'need'], ['new', 'episode', 'Foodcast', 'out!', 'This', 'week,', 'Molly', 'sit', 'discus', 'incredibly'], ['Nostalgia', 'week', 'thing', 'getting', 'week.\"'], ['nominate', 'best', 'tweeting.\"'], ['One', 'Philly-born', 'staffer', 'regional', 'food', 'answer'], ['Yes,', 'hello,', \"I'd\", 'like', 'make', 'reservation', 'place', 'via'], ['Deeply', 'feeling', 'many', 'selection', 'list:'], ['Hahahaha', 'Award', 'best', 'link'], ['Thanks', 'including', 'Honored', 'great', 'company'], ['honored', 'humbled', 'featured', 'list', 'many', 'amazing', 'places!'], ['iPad', 'cash', 'register', 'wanted', 'encourage', 'people', 'tip', '(even)', 'more,', 'tell', 'folk', 'well', 'tip', 'compared', 'guests.\"'], ['OBSESSED', 'Instagram', 'feed', 'Subscribing', 'mag,', 'want', 'make', 'everything.\"'], ['know', 'party', 'needs?', 'Savory', 'cherry', 'crostini'], ['Camping', 'plan:', 'searched', 'killer', 'recipes.', 'Camping', 'reality:', 'scrambled', 'night', 'buy', 'veggie', 'burger', '&amp;', 'salad\"'], ['disclose', 'food', 'love', 'eat', 'write', 'forgot', 'mention', 'oxtail'], ['mean', 'kind', 'hot', 'sauce...\"'], ['Eggcellent', 'pun.\"'], ['Best', 'Restaurant', 'America,', 'per', 'Lovely', 'write-up', 'Nonesuch', 'favorite', 'city'], ['love', 'tweets.\"'], ['Dear', 'noticed', 'name', 'change', 'laughed', 'solid', 'minutes.', 'Thank', 'uplifting', 'start', 'Saturday.\"'], ['hate', 'keeping', 'secret', \"I'm\", 'glad', 'The', 'Hot', 'live!!!'], ['deserves', 'follow.', 'Their', 'imagination', 'recipe', '&amp;', 'food', 'presentation', '2nd', 'none.'], ['made', 'ham', 'sausage', 'jumbalaya', 'recipe', 'turned', 'AMAZING'], ['glad', 'followed', 'link', 'trend', 'story!', 'Well', 'done!', 'much', 'good', 'info', 'thank', 'you.\"'], ['Never', 'thought', \"I'd\", 'see', 'day', 'highlight', 'Florida', 'Avenue', 'Grill,', 'quite', 'simply', 'best:'], [\"I've\", 'taken', 'lot', 'grief', 'love', 'Riesling', 'years.', 'Thanks', 'explaining'], ['When', 'reposts', 'picture'], ['clipped', 'latest', 'issue.', 'Looks', 'delicious', \"can't\", 'wait', 'try', 'it!\"'], ['This', 'easily', 'beautiful', 'photo', 'ever', 'seen.\"'], ['whole', 'feature', 'called', 'Red', 'Sauce', 'America,', 'bunch', 'article', 'old-school', 'Italian', 'joints.'], ['Just', 'listened', 'pasta', 'podcast.', 'Best', \"I've\", 'ever', 'made!'], [\"It's\", 'good,', 'leftover', 'versatile', 'addition', 'noodles,', 'salads,', 'anything.\"'], ['deathbed', 'made', 'batch', 'lemony', 'chicken', 'orzo', 'soup'], ['made', 'omelet', 'YouTube', 'video.', 'get', 'perfect', 'fold', 'came', 'golden', 'delicious!'], ['wowowowow!', 'That', 'look', 'like', 'best', 'Italian', 'wedding', 'soup', \"I've\", 'ever', 'seen!'], ['Thank', 'introducing', 'life'], ['thanks', 'recommendation', 'best', 'new', 'spot', '2015.', 'Just', 'got', 'back', 'LA.', 'Gjusta', 'fantastic.\"'], [\"I've\", 'bunch', 'terrible', 'one', 'lately.', 'Thanks', 'tips\"'], ['*subscribes', 'immediately*'], ['Politics', 'depressing,', \"there's\", 'always', 'cake!', 'Time'], ['Only', 'bit', 'in,', 'agree', 'The', 'Girls', 'strangely', 'appealingly,', 'alluringly', 'written,', 'right?', '(Like', 'many', 'sentence', 'like', 'this.)\"'], ['What', 'look', 'new', 'photographers?', 'way', 'studio'], ['There', 'absolutely', 'right', 'way', 'cacio', 'pepe', \"(it's\", 'this)'], ['took', 'hue', 'latest', 'made', 'normal', 'rainbow', 'cooky'], ['Loved', 'editor', 'talking', 'Great', 'show.'], ['Breakfast', 'gourmets:', 'watermelon', 'Greek', 'yogurt', 'fried', 'rosemary.', 'Thanks'], ['This', 'method', 'simple', 'effective.', 'love'], ['Just', 'bought', 'subscription', 'Life', 'complete.\"'], ['Loving', 'TL.\"'], ['Glazed', 'Fried', 'Chicken', 'brining', 'tomorrow', \"night's\", 'picnic', 'Denver.\"'], ['Let', 'take', 'funghitown'], ['Can', 'best', 'friend', 'social', 'medium', 'manager?', \"They're\", 'absolute', 'favorite.'], ['Hey', 'thanks', 'great', 'carbonara', 'recipe!', 'Not', 'gonna', 'lie', 'pretty', 'proud', 'one.'], ['Feeling', 'validated', 'praise', 'Second', 'Breakfast', 'feel', 'guilty', 'stomach'], ['Best', 'article', \"I've\", 'read', 'year'], ['Seriously.', 'love', 'social', 'medium', 'manager.', 'mean,', 'now.', 'But', 'especially', 'also', 'now.'], ['New', 'addition:', 'Thanks'], ['Well', 'done', 'Your', 'May', 'issue', 'inspired', 'visit', 'Swiss', 'Alps', 'mountain', 'gasthaus', 'fully-booked.', 'Sigh.', 'day', 'then.\"'], ['beautiful', 'reminder', 'brave', 'soul', 'live', 'life', 'fully', 'live.'], ['Have', 'officially', 'accepted', 'conclusion', 'mercy', '&amp;', 'tweet', '&amp;', 'photos.\"'], ['Well', 'guess', 'need', 'take', 'personal', 'day', 'read', 'every', 'single', 'link', 'red', 'sauce', 'package.'], ['sometimes', 'dont', 'day,', '&amp;', 'check', 'round', 'dinner', 'filled', 'pic', 'make', 'drool', 'desk.\"'], ['Ok,', \"that's\", 'funny.', 'Get', 'icepop.\"'], ['support', 'this.\"'], ['The', 'coverage', 'Golden', 'Globes', 'fave.'], ['Just', 'think', 'made', 'every', 'recipe,', 'give', 'list', 'fabulous', 'recipes.'], ['Talking', 'cooking', 'eating', 'food,', 'glorious', 'food', 'Oh-and', 'spoiler', 'alert;'], ['This', 'order', 'barbecue,', 'btw.'], ['How', 'do??', \"It's\", 'delish!!'], [\"Atlanta's\", 'named', '2016', 'Best', 'New', 'Restaurant', 'America'], ['Bravo,', 'Morning'], ['restaurant', 'year,', 'finally,', 'thank', 'much'], ['mini-fied', 'cover', 'july', 'issue:'], ['Rent', 'week', 'back,', 'friends.', 'Cheap', 'rotisserie', 'chicken', 'salad', 'hitting', 'hard', 'street', '(and'], ['listened', 'hour', 'straight', 'podcasts.', 'Good', 'stuff.', 'wanna', 'Lightning', 'Round', 'too!\"'], ['Amazing', 'happens', 'finally', 'get', 'read', 'December', 'food', 'mag'], ['hot', 'cheese', 'dip', 'think', 'it...omg!!', 'luvvvv'], ['love', 'making', 'these!', \"They're\", 'fluffy', 'delicious.', 'Just', 'perfect.\"'], ['still', 'party', \"mother-in-law's\", ':D\"'], ['Tabbouleh', 'bouleh', 'bouleh', 'bouleh', \"rockin'\", 'everywhere'], ['The', 'red', 'fruit', 'salad', 'genius.'], ['For', '1st', 'time', 'life,', 'bought', 'something', 'Instagram', 'story', '(obviously', 'gonna', 'cut'], ['dying'], ['Followed', 'day', 'life', 'ruined', 'recipe', 'projects\"'], [\"We're\", 'scrolling', 'picture', 'grilled', 'food', '&amp;', 'dreaming', 'From'], [\"Where's\", 'application', 'become', 'friend', 'social', 'medium', 'manager?'], ['see', 'pizza', 'spot', 'terminal', 'Laguardia', 'airport', 'make', 'Best', 'New', 'Restaurants', '2016.\"'], ['How', 'cook', 'duck', 'without', 'quacking', 'pressure'], ['podcast', 'browsing', 'catalogue', 'baby', 'naps.'], ['So,', 'made', 'webpage.', 'say', \"we're\", 'pumped', 'probably'], ['Leo', 'waiting', 'great', 'anticipation.', 'The', 'sweet', 'potato', 'recipe', 'survived', 'edits.'], ['leftover', 'lover.', 'Get', 'inspired', 'week'], ['When', 'kid,', 'Thanksgiving', 'little...', 'different.', 'wrote'], ['want', 'know', 'better,', 'know', 'better,', 'know', 'better'], ['Had', 'much', 'fun', 'talking', 'favorite', 'dish', 'order', 'eating', 'out!!!'], ['fanatic', 'fanatic.', 'How', 'know', 'Bon', 'Appetit', 'Foodcast', 'thing?!\"'], ['Just', 'received', 'first', 'magazine', 'new', 'subscription!'], ['lucky', 'me--I', 'both!'], ['top', 'last', 'weekend', 'match', 'gifs'], ['Following', 'Twitter', 'account', 'decision.\"'], ['Well,', 'missed', 'latest', 'bullpen', 'implosion', 'date', 'wife', \"(It's\", 'Top', 'reason.', 'Go.)\"'], ['Just', 'got', 'first', 'issue', 'beautiful', 'spread?', 'Loved', 'reading', 'top'], ['Everyone', 'office', 'LOSING', 'imported', 'Canadian', 'chocolates.', 'They', 'actually', 'OMG', 'good:'], ['The', 'perfect', 'summer', 'dessert', 'sorbet', 'grapefruit', 'cup', 'Thanks', 'genius'], ['love', 'love', 'love'], ['always', 'travel', 'food,', 'list', 'basically', 'checklist', 'next', 'years.'], ['Thanks', 'much', 'mention'], ['ready', 'master', 'piece.\"'], ['Finally', 'checked', 'mail.', \"We've\", 'got', 'many', 'guess', \"can't\", 'hog', 'list'], ['close', 'dream', 'experiencing', 'test', 'kitchen'], ['Today', 'decided', 'turn', 'tweet', 'motivational', 'Testing,', '1...', '2...', '3...'], ['This', 'lunching', 'like', 'Spaniard', 'look', 'like', 'thanks', 'hosting'], ['would', 'suggest', 'making', 'ravioli', 'home', 'principal', 'reason', 'learning', 'make', 'pasta.\"'], ['This', 'package', 'EVERYTHING'], ['social', 'medium', 'adopt', 'me\"'], ['When', 'everyone', 'make', 'recipe'], ['get', 'jump', 'start', 'reparation', 'making', 'right', 'now,', 'thanks'], ['The', 'make-ahead', 'brunch', \"we're\", 'thrilled', 'greet', 'morning'], ['get', 'me\"'], ['nominated', 'Digital', 'Media', 'Award', 'Best', 'Culinary', 'Website\"'], ['people', 'leftover', 'cake?'], ['Bone', 'Check', 'list,', 'more.'], [\"It's\", 'me,', 'learning', 'love', 'red', 'gravy.'], ['Thanks', 'including', 'restaurant', 'recommendation', 'Playground', 'Santa', 'Ana!', 'Read'], [], ['favorite', 'use', 'parmesan', 'rinds,', 'good', 'excuse', 'buy', 'more.\"'], ['Hello', 'again.', 'THANK', 'YOU', 'making', 'Rice', '2.0', 'dream', 'come', 'true,', 'like', 'thank'], ['Now', \"that's\", 'sandwich!!'], [\"I'm\", 'thinking', 'booking', 'flight', 'right', 'now.'], ['Trying', 'first', 'time.', 'Very', 'excited.'], ['think', 'need', 'stop', 'listening', 'podcast', 'running', 'NOW', 'HUNGRY.\"'], [\"wasn't,\", 'am.\"'], ['Highly', 'entertained', 'article', 'greatness', \"Costco's\", 'Kirkland', 'brand'], ['love', 'back'], ['Very', 'Rustic', 'Blueberry-Pecan', 'Galette', 'Bake', 'Cover', 'great', 'evening'], ['Prepping', 'Muffuletta', 'homemade', 'olive', 'salad.'], ['Hillhurst', 'Los', 'Feliz.', 'simple,', 'no-frills', 'place', 'never', 'let', 'down.'], ['ever', 'grateful.', 'Ever,', 'ever', 'grateful.', 'Thank'], ['dear', 'love', 'Red', 'Sauce', 'America.', 'thank', 'you,', 'subscriber.\"'], ['This', 'wonderful!', 'Trying', 'weekend!', \"I'm\", 'never', 'buying', 'crouton', 'again...', 'Thanks', 'sharing!\"'], ['Round', 'applause', 'Twitter', 'coverage!'], ['last', 'week'], ['think', 'winning', 'far.\"'], ['Excited', 'write', 'little', 'ode', 'favorite', 'mom-and-pop', '(and', 'counted', 'among', 'favorite'], ['Randomly', 'found', 'episode', 'podcast,', 'awesome!', 'House', 'becoming', 'celebrity', 'haha'], ['chat', 'cast', 'Like', 'Eat', 'Thanksgiving', 'Dinner', 'Times'], ['sister', 'made', 'spiced', 'dal', 'fluffy', 'rice', 'thank', 'taxes!', 'delicious!'], ['career', 'reached', 'pinnacle', 'hard-hitting', 'analysis'], ['When', 'see', 'changed', 'Twitter', 'name', 'apple'], ['Thank', 'f*cking', 'incredible', 'leek', '&amp;', 'potato', 'galette', 'recipe'], ['Tips', 'best', 'salad', 'ever:', 'via'], ['needed', 'hard', 'boiled', 'egg', 'visual'], ['changed', 'name', 'apple'], ['Thanks', 'spreading', 'word'], ['Cheese', 'excessive??\"'], [\"We're\", 'Speechless!', 'Thank'], ['new', 'piece', 'right', 'hashtag', 'cashews.'], ['Can', 'tell', 'much', 'love', 'recipes?!?', \"I'm\", 'investing', 'lot', 'time', 'cooking', 'them,', 'worth', 'delicious', 'bites!\"'], ['Lmaoooo', 'loving', 'red', 'carpet', 'comparison', 'food'], ['How', 'make', 'fancy', 'dessert', 'look', 'beautiful'], ['Huge', 'hit', 'house!', 'Slow-Roasted', 'Black', 'Cod', 'Red', 'Chermoula', 'via'], ['Thank', 'giving', 'something', 'else', 'talk', 'therapist', 'today.'], ['AAAAAAND', 'USE', 'wisdom', 'commit', 'plastic-free', 'weekend', 'follow', 'along'], ['This', 'one', 'worn', 'well-loved', 'cookbook', 'shelf'], ['Congrats', \"Philly's\", 'own!', 'Save', 'seat.'], ['Guess', 'what!', \"We're\", 'live', 'podcast', 'recording', 'friend', '50%'], ['Hey', 'right?'], ['squeeled', 'joy', 'upon', 'seeing', 'new', 'novemeber', 'issue', 'cover', 'yeah.', 'THAT', 'big', 'thanksgiving', 'nerd', 'am.\"'], ['wrote', 'Thanksgiving', 'Co-starring', 'parents,', 'in-laws,'], ['Starting', 'beginning', 'listening', 'podcasts.\"'], ['When', 'life', 'give', 'vegans,', 'make', 'grilled', 'maitake', 'mushroom', 'carrot', 'dish'], ['There', 'churros,', 'churros'], ['rule', 'thumb', '12-14', 'lbs.', 'adult', 'humans.', 'Increase', 'giving', 'leftover', 'sandwiches\"'], ['world', 'collide', 'unused', 'KNODD', 'garbage', 'becomes', 'perfect', 'brining', 'container', 'pound', 'bird.\"'], ['goals:', 'get', 'invite', '(house)', 'after-party'], ['watching', '6-part', 'video', 'series', 'THANKSGIVING', 'despite', 'finding'], ['saw', 'someone', 'taking', 'selfie', 'front', 'today', 'accolade', 'already', 'resonating.\"'], ['went', 'whey', 'deep', 'protein', 'bar', 'lady', 'love'], ['Every', 'new', 'Adele', 'song', 'soulmate', 'recipe:', \"can't\", 'stop', 'cry', 'eating'], ['eat', 'meat?', \"That's\", 'okay', 'make', 'lamb'], ['Great', 'tweet,', 'BA.', 'literally', 'looked', 'clock', 'thought', \"It's\", 'am.', '...', 'You', 'must'], ['social', 'medium', 'good.', 'wanted', 'say', 'so!'], ['realized', '(through', 'cooking', 'shows)', 'put', 'anything', 'puff', 'pastry,', 'curried', 'vegetables.'], [\"Don't\", 'email', '20347', 'friend', 'next', 'trip.', 'friend:'], ['Caul', 'us,', 'maybe?'], [\"lol'd\", 'real', 'article.', 'Ate', 'Like', 'Tom', 'Gisele', 'Hours', 'Lived', 'Tell', 'Tale', 'via'], ['When', 'preview', 'Thanksgiving', 'issue'], [\"It's\", 'gonna', 'thanksgiving', 'year,', 'first', 'year', 'cooking', 'hosting', 'thanksgiving.', 'Here'], ['This', 'story', 'almost', 'made', 'eat', 'laptop.', 'CEO', 'Jeremy', \"Stoppelman's\", 'Guide', 'San'], ['Overheard', 'BA:', 'know'], ['Our', 'senior', 'food', \"editor's\", 'mom', 'make', 'best', 'breakfast', 'taco', 'land'], ['Drop', 'like', 'hot!', \"We've\", 'added', 'THREE', 'NEW', 'event', 'friend', 'Check', 'out:'], ['like', 'attitude,', 'BA.\"'], ['food', 'writing', 'section', 'bookstore,', 'listening', 'podcast,', 'lunch.', 'This', 'nutshell.\"'], ['Yay', 'satisfying', 'little', 'one', 'without', 'sugar...it', 'little', 'secret!'], ['love', 'cooking', 'without', 'recipe', 'series,', 'day-in-the-life', 'meet', 'blog', 'meet', 'cooking', 'show'], ['whole', 'package', 'emoji,', 'thank', 'you\"'], ['Pretty', 'sure', \"there's\", 'nothing', 'issue', 'want', 'make!'], ['book', 'come', 'today!'], [\"It's\", 'pity', 'live', 'far', 'away', 'in...Montreal'], ['THIS', 'CHEVRE', 'BANANAS', 'b*a*n*a*n*a*s!', 'Thanks', 'CHEVRE', 'love', 'Now', 'everyone', 'buy'], ['arrived.', 'this.', 'Stay', 'tuned', 'live', 'tweet', 'throughout', 'day.'], ['Enjoying', 'first'], ['Winnie', 'Pooh', 'gif', 'morning', 'making', '6am', 'wake', 'thanks'], ['made', 'buffalo', 'caramel', 'popcorn.', 'trouble', 'letting', 'cool', 'cause', 'delicious'], ['made', 'Christmas', 'dinner.', 'Nothing', 'easy', 'taste', 'good.', 'Thank', 'you,'], [\"I've\", 'Olmsted', 'Brooklyn', \"can't\", 'recommend', 'enough.', 'Same', 'Rodney', \"Scott's\", 'BBQ', 'Charleston.\"'], ['This', 'morning', 'unveiled', 'ten', 'finalist', 'annual', 'New', 'list'], ['clearly', 'exciting', 'city', 'eat', 'right'], ['The', 'tastiest', 'hometown', 'restaurant', 'make'], ['Chicken', 'Parmesan', 'via', 'Will', 'trying', 'this,', 'love', 'idea', 'deep', 'frying', 'chicken', ':-)\"'], ['(NEW)', 'CITY!', 'via'], ['EXTREMELY', 'HERE', 'Red', 'Sauce', 'America', 'bonanza'], ['*thank', 'you*\"'], [\"You've\", 'roasting', 'chicken', 'wrong'], ['For', 'Red', 'Sauce', 'America', 'project,', 'wrote', 'love'], ['Thanks', 'nom!', 'Crossing', 'finger', 'toe'], ['CANNOT', 'stop', 'sneezing.', 'Self-medicating', 'jammies,', 'best', 'coladas,', '&amp;', 'shall', 'win', 'battle,', 'summer', 'cold,', 'you.\"'], [], ['Happy', 'Good', 'Friday!', '(Do', 'say', 'Good', 'debut', 'brand', 'disgusting:'], ['guy', 'extra', 'sassy', 'today,', 'it.\"'], ['right\"'], ['And', 'love', 'Foodcasts!!'], [\"It's\", 'like', 'focus', 'group', 'one', 'location', 'inside', 'brain'], ['Best', 'tweet', 'ever.', 'win', 'galaxy.'], ['making', 'dinner', \"I'm\", 'obsessed', 'recipe', 'format', '(by'], ['Whoever', 'editing', 'sender', 'name', 'daily', 'recipe', 'email', 'crushing', 'it.'], ['best', 'ever', 'apple', 'cider', 'donuts.', 'Made', 'past', 'weekend.', 'Delicious!'], ['Quick', 'shout', 'whoever', 'run', 'social', 'accounts,', 'gold.'], ['watching', 'new', 'bon', 'appetit', 'video', 'immediately', 'spotted', 'austin', 'mckenzie', 'kevin', 'mchale...', 'SEE', \"Y'ALL\"], ['OMG.', 'thought', 'could', 'roast', 'chicken', 'tried', 'cast', 'iron', 'skillet', 'recipe!', 'making', 'animal', 'noise', 'ate.\"'], ['Time', 'experimentation', 'jam', 'creative', 'flavor', 'combo'], ['Bon', 'Appetit', 'totally', 'nailed', 'beer', 'trip.', 'advice', 'included.', 'Cheers', 'that.', 'via'], ['Thank', 'you,', 'Twitter', 'name.'], ['showed', 'pal', 'wield', 'portafilter'], ['riff', 'recipe.', 'Thanks', 'idea'], ['Great', 'Chicago', 'restaurant', 'city', 'year'], ['great', 'read', '&amp;', 'book', 'MUST', 'OWN!', 'Mark', \"Bittman's\", 'Guide', \"'Veganizing'\", 'Breakfast', 'Baked', 'Goods', 'via'], ['watch', 'Brad', 'Leone', 'among', 'thing', 'Bon', 'YouTube', 'page', 'want'], ['synthesized', 'chashu', 'ramen', 'recipes.', 'nearly', '48hrs', 'making', 'totally'], ['Considering', 'cash', 'bar', 'wedding?', 'Read', 'first.', 'latest'], ['take', 'money'], ['Home', 'Cooking:', 'Molly', 'McDonough', 'Adam', 'Rapoport', 'Bon'], ['The', 'Test', 'Kitchen', 'streaming', 'living', 'room.', 'new', 'channel', 'new', 'show', 'food.'], ['Yay', 'Melissa!!!!!!\"'], ['much', 'focused', 'food', 'wait', 'hour.', 'best', 'spicy'], ['excited', 'watch', 'movie', 'right'], ['Hey,', 'kidding', 'around,', 'made', 'cake', 'month', 'ago', 'THE', 'BEST', 'cake', \"I've\", 'ever', 'had.', 'was.', 'was.', 'really', 'was.\"'], ['Sunday', 'dinner!', 'Made', 'beer-braised', 'brisket,', 'cilantro', 'potato', 'salad', 'baked', 'beans.', 'Thanks'], ['delicious', 'condensed', 'milk!\"'], ['used', 'rotisserie', 'chicken', 'make', 'Cooking', 'Recipes', 'chicken', 'salad', '&amp;', 'amazing.'], ['love', 'article', 'like', 'You', 'keep', 'thinking!'], ['Thanksgiving', 'bible...a', '1995'], ['Def', 'making', 'beautiful', 'recipe', 'named', 'no.', 'list', 'top', 'restaurant', '2016.'], ['back', 'black', 'van', '(?!)\"'], ['Made', 'posole', 'combo', 'dried', 'chilies', 'worried', 'would', 'weird', '&amp;', 'pleased.\"'], [\"It's\", 'awesome', 'fish...', 'anyone', 'else', 'think', 'look', 'vaguely', 'like', 'zombie', 'Dory?\"'], ['great', 'use', 'lard.', 'Never', 'thought', 'that.\"'], ['The', 'folk', 'picking', 'recipe', 'killing', 'month!', 'Please', 'keep', 'good', 'work'], ['Shout', 'pal', 'new', 'streaming'], ['oh-so-lovely', 'write-up', '!!!'], ['Fall', 'salad', 'season!', 'Adapted', 'radicchio,', 'arugula', '&amp;', 'apple', 'salad', 'Dressing', 'cheat:', 'start', 'couple'], ['Yeah,', \"we're\", 'making', 'choose...\"'], ['These', 'scrambled', 'eggs.', \"They're\", 'absolute', 'best', 'scrambled', 'egg', '*ever*.'], ['Made', 'two', 'night', 'ago', 'amazing!!\"'], ['proposed', 'stew', 'engaged,'], ['made', '4-hour', 'ragu', 'today', 'best', 'lasagna', 'recipe', '(assembling', 'tomorrow)', 'feel', 'like', 'home', 'cooking', 'champion.\"'], ['OMG', 'article', 'soooo', 'good.', 'Very', 'practical', 'delicious', 'way', 'enjoy', 'superfood,', 'bananas!\"'], ['Hello', 'new', 'lunches!', 'Thanks'], ['may', 'make', 'best', 'chewy', 'bread', 'sando', 'version', 'salivating:', 'Muffuletta', 'Awesome', 'via'], ['These', 'half-burned', 'chicken-fat', 'soaked', 'carrot', '&amp;', 'green', 'bean', 'fucking', 'delicious', 'tho'], ['serving', '1st', 'responder', 'day', 'today!', 'Please', 'help', 'get', 'word', 'out!', 'Thank', 'you!'], ['Somebody', 'golden', 'girl', 'fan.', 'Excellent.\"'], ['For', 'cravings:', 'new', 'brand', 'jam.', 'Their', 'newsletter', 'includes', 'drool-worthy', 'food', 'pics,'], ['veal,', 'joy', 'guilt', 'come', 'eating'], ['TMRW', 'taking', 'gram!', '*Screaming', 'excitement!*'], ['Best', 'pizza', 'ever!\"'], ['Not', 'Twitter', 'feed', 'perfect,', 'give', 'kitchen', 'trick'], ['realize', \"there's\", 'lot', 'going', 'right', 'changed', 'user', 'name', 'Bone', 'Apple', 'Tea', 'think', \"that's\", 'super-funny.\"'], ['This', 'totally', 'giggling'], ['Obsessed', 'podcast!', 'Mainly', \"I've\", 'got', 'crush', '&amp;'], ['Congrats', 'fave', 'named', '2nd', 'best', 'restaurant', 'country', 'Woohoo!'], ['think', \"I'm\", 'excited', 'Avengers', 'Endgame'], ['one', 'favorite', 'kitchen', 'item', 'well.', 'Changed', 'game.\"'], ['High', 'five', 'whoever', 'writes', 'Tweets.', 'Always', 'well', 'done.'], ['Shoutout', 'Restaurant', 'City', 'Year,', 'agree', 'more.'], ['finalist', 'Best', 'New', 'Restaurants', '2017!', 'Check', 'full'], [\"I'm\", 'sorry', 'pour', 'Budweiser', 'ice?\"'], ['Thanks,', 'One', 'week', 'pub', 'day.'], ['little', 'post', 'brunch', 'run', 'celebrate', 'landing', 'annual', 'list'], ['literally', 'watched', 'video', 'really', 'want', 'pizza\"'], ['Honestly,', 'follow', 'many', 'lifestyle', 'brands.', 'But', 'always', 'least', 'one', 'tweet', 'day', 'fantastic.\"'], ['Made', 'last', 'night', 'delish!', 'Now', 'gym', 'work', 'off!', 'Thanks'], ['love', 'mine.', 'old', 'school', 'kitchen', 'tool', 'coming', 'back', 'style', 'great', 'news', 'pasta', 'sauce'], ['Omg', 'yes?', 'They', 'read', 'mind', 'too...'], ['get', 'overwhelmed', 'happiness', 'receive', 'newest', 'issue'], ['Mixed', 'Olive', 'Vinaigrette', 'fish', 'like', 'peanut', 'butter', 'jelly.'], ['kissed', 'cheese', 'frog', 'Trader', \"Joe's\", 'to:', 'The', 'Best', 'Cheese', 'Trader', \"Joe's\", 'via'], ['Just', 'conversation', 'affect', 'tipping,', 'led', 'great', '2-year-old', 'story:'], ['year', 'thanksgiving', 'edition'], ['going', 'publish', 'BEST!', 'cookbook?', 'Asking', 'printer..\"'], ['beer', 'horoscope', 'instagram', 'story', 'honestly', \"I've\", 'never', 'identified', 'concept', 'more\"'], ['Nothing', 'respect', 'president'], ['food', 'memoir', 'take', 'far', 'away', 'probably', 'also', 'fridge,', \"let's\", 'real'], ['Holding', 'baguette', 'woman', 'stopped', 'street', 'said,', 'LOVE', 'And', 'said,', 'And', 'it\"'], ['Listen', 'up!', 'Leandra', 'swung', 'talk', 'ice', 'cream,', 'macadamia', 'nuts,', 'cooking:'], ['cannot', 'handle', 'current', 'Twitter', 'name'], ['Hmmm', 'might', 'make', 'tonight', 'Stir-Fried', 'Grains', 'Shrimp', 'Eggs', 'via'], ['red', 'carpet', 'look', 'mimic', 'recipe', 'always', 'favorite', 'award', 'show', 'hot', 'take:'], ['Our', 'parent', 'decade', 'experience', 'hosting', 'tiny', 'holiday', 'called', 'Thanksgiving'], ['Since', 'we,', 'gay', 'people,', 'get', 'choose', 'family,', \"I'm\", 'thrilled', 'announce', 'family', 'test', 'kitchen', 'fandom.\"'], ['You', 'always', 'feel', 'me,', 'making', 'right', 'This', 'Lemon-Ginger', 'Brew', 'Will', 'Save', 'You'], ['Red', 'Sauce', 'week', 'shark', 'week'], ['Want', 'eat', 'like', 'Ninja', 'Turtle?', 'Check', 'list', 'wacky', 'pizza', '(mostly)', 'edible'], ['summary,', 'next', 'time', 'someone', 'asks', 'example', 'good', 'corporate', 'Twitter,', 'tell', 'check', '&amp;'], ['VERY', 'EXCITED', 'wrote', 'Italians', 'Mad', 'Food', 'one.'], ['hey'], ['Your', 'editor', 'THE', 'best', 'business!', 'LOVE', 'cook', '&amp;', 'tweet', 'fabulous', 'recipes!', 'Keep', \"chompin'!\", ';-)\"'], ['&amp;', 'sentence?', 'Only', 'could', 'pull', 'off!', 'via'], ['Unexpectedly', 'delightful:', 'Aaron', 'Rogers', 'Chris', 'Collingsworth', 'mention', 'podcast', 'colab.\"'], ['time', 'put', 'tweet', 'shame'], ['my,', 'think', 'made', 'best', 'ever', 'baby', 'back', 'rib', 'thanks'], ['Dear', 'male', 'chefs:', 'Talk', 'less.'], ['love', 'also', 'love', 'whoever', 'run', 'Twitter', 'account.', 'That', 'person', 'deserves', 'raise.', 'Also', 'perhaps', 'slushie.\"'], ['Chicken', 'Parm', 'Self-Care', 'via'], ['Managed', 'get', 'phrase', 'print', \"that's\", 'really', 'matter'], ['Caffeinated', 'meringues:', 'Score!'], ['made', 'Best', 'New', 'Restaurants', '2016!'], ['know', 'way', 'hearts:', 'guide', 'big-group-grilling,', 'diagram', '&amp;', 'all.'], ['macaroni', 'cheese', 'never', 'fails', 'me.', 'Perfect', 'comfort', 'food', 'cold', 'blustery', 'day.'], ['best', 'new', 'restaurant', 'CAN', 'BETTER.'], ['Big', 'news!', 'magazine', 'named', 'Chicago', 'restaurant', 'city'], ['decorated', 'office', 'today', 'World', 'Trade', 'Center'], [\"can't\", 'queso', 'without', 'Velveeta,', 'please', 'make', 'turn', 'car', 'around'], ['This', 'freaking', 'adorable:', 'via'], ['dip,', 'dip,', 'Yes!', 'Just', 'love', 'vibe'], ['thanks', 'fall', 'background', 'inspo...', 'majestic', 'beach', 'getting', 'old'], ['Want.', 'Your', 'mom', 'loved', 'too:'], ['Ok,', 'trolling', 'quotes,', 'right?'], ['Wow,', 'thank', 'incredible', 'recognition.', 'Serving', 'menu', 'team', 'effort', \"I'm\", 'proud', 'share', 'honor\"'], ['Have', 'shared', 'lately', 'much', 'Twitter', 'account?'], ['wrote', 'best', 'show', 'ever', 'made,', 'Back', 'Back', 'Chef,', 'Natalie', 'Portman', 'care', 'deeply'], ['Woah!', 'named', 'Best', 'New', 'Restaurant', 'Country.', 'Major', 'congrats,', \"y'all!\"], ['fact', 'changed', 'name', 'bone', 'apple', 'tea', 'meme', '...', 'honestly', 'worthy'], ['Launches', 'City', 'Guides', 'Timed', 'May', 'Issue', 'WWD'], ['Live', 'Gardens', 'Galore', 'panel'], ['Grilled-cheese', 'weather.\"'], ['Devonn', 'Francis', 'know', \"who's\", 'table', 'important', \"what's\", 'plate.'], ['give', 'food', 'photography', 'goal', 'every', 'day!', '&lt;3'], ['crush', 'whoever', 'Twitter', 'content.', 'oblique', 'perfection.', \"can't\", 'year', 'old'], ['The', 'biggest', 'congratulation', 'Top', 'Ten', 'USA', 'list.'], ['reading', 'missing', 'out.', 'Plus', 'cool', 'rap', 'Spotify', 'playlist', 'cook', 'egg', 'to!'], ['Big', 'news', 'friend'], ['Brb,', 'making', 'pie', 'morning', \"can't\", 'imagine', 'life', 'without', 'right'], ['THERE', 'NEW', 'SHOW', 'WHERE', 'THEY', 'COOK', 'TOGETHER', 'DREAMS', 'HAVE', 'COME', 'TRUE'], ['When', 'become', 'apple', 'say', 'kinda', 'like', 'it!\"'], ['Btwn', '&amp;', 'friendsgiving', 'post,', 'daily', 'browsing,', \"I'm\", 'officially', 'dreaming', 'Parker', 'house', 'roll'], ['Attention', 'Rice', 'Wizards:', 'Amiel', 'recording', 'Rice', '4.0', 'today', 'foodcast.', 'And', 'YOU.\"'], ['Pan', 'Muerto', 'thanks', 'rick_andrew_martinez'], ['Ive', 'found', 'tube', 'channel', \"I'm\", 'never', 'getting', 'anything', 'done', 'ever', 'again\"'], ['blizzard', 'Britain'], ['Your', 'name', 'change', 'made', 'day\"'], ['Your', 'Twitter', 'timeline', 'bean', 'delivered', 'amazing', 'recipe.', \"You're\", 'welcome'], ['Thank', 'amazing,', 'scratch', 'Margarita', 'recipe!', 'made', 'little', 'twist'], ['wait', 'make', 'apple', 'pandowdy,', 'purely', 'basically', 'recipe', 'look', 'fun.'], ['mug', 'happy', 'hold', 'best', \"I've\", 'ever', 'tasted!'], ['falling', 'love', 'husband...and', 'muzzadelle.'], ['Got', 'edit', 'first', 'piece', 'live', 'online', 'print.', \"It's\", 'important!', 'Read', 'it!'], ['summarizes', 'GMO', 'controversy,', 'well,'], ['spy', 'one', 'Best', 'New', 'Restaurants', '2017!', 'Congrats', '&amp;', 'thanks'], ['even', 'cook', 'yet', 'screaming', 'new', 'video.', 'The', 'culinary', 'Avengers', 'mashup', 'need', 'need', 'like', 'air.\"'], ['Magazine-lovers,', 'extremely', 'pleasing,', 'actual', 'cover', 'matte,', 'textured'], ['so,', \"grandpa's\", 'basement', 'bar?\"'], ['Wow!', 'Congrats', 'Colin', 'group.', 'This', 'amazing.', 'always', 'way', 'afraid', 'try'], ['When', \"I'm\", 'cooking,', 'like', 'pretend', \"I'm\", 'writing', 'caption', 'it.', 'But', \"there's\", 'much', 'say', 'plate', \"Reese's\", 'sticks\"'], ['know', 'Oscars', 'twitter', 'follow', 'comparing', 'dress', 'recipe', 'site.', 'Thanks', 'amused\"'], ['French', 'toast-y', 'brioche', 'dipped', 'boozy', 'coffee?', 'Heck', 'yes'], ['This', 'best', 'news', 'ever.\"'], ['Chicago,', 'restaurant', 'city', 'year!'], ['This', 'recipe', 'favorite', '&amp;', 'permanent', 'rotation', 'dinner', 'home'], ['New', 'post!', 'This', 'Bluberry-Pecan', 'Galette', 'dessert', 'summer:'], ['Omg,', 'changed', 'name', 'apple', 'Day', 'made.'], ['never.', 'someone', 'offended,', 'friend', 'them.', 'You', 'need', 'kind', 'negativity', 'life.\"'], ['Spotlight', 'greatness!', 'Trying', 'turkey', 'Norman', 'Rockwell', 'style', 'thanks'], ['Yaaasssss.', 'Well', 'played,', 'Well', 'played.'], ['Made', 'extra-juicy', 'turkey', 'burger', 'last', 'week', 'say'], ['know', 'run', 'account.', 'Because', \"I'm\", 'kind', 'love', 'it.\"'], ['Wait', 'podcasts', 'There', 'go', 'Thursday'], ['Love', 'way', 'present', 'Best', 'New', 'Restaurants', 'list'], ['Who', 'baking', 'holidays?', 'want', 'make', 'inventive', 'cookie', 'recipes!'], ['The', 'internet', 'need', 'take', 'moment', 'appreciate', 'sheer', 'awesomeness', 'contained', 'photo'], ['Very', 'important', 'reading', 'life', 'today'], [], ['Introducing', 'official', 'Bon', 'Cookbook', 'Club!', 'works:', 'Read', 'chosen', 'book,', 'cook', 'recipe'], ['sweet', 'baby', 'girl', 'napping,', 'sun', 'shining', 'newest', 'Bon', 'appetit', 'arrived', 'today'], ['tried', 'shellfish', 'boil', 'Amazing!!'], ['Got', 'chat', 'foodcast', '&amp;', 'shared', 'fav', '3-Ingredient', 'Party', 'Appetizers.', 'fine', 'day!'], ['watching', 'video', 'HAD', 'make', 'perfect', 'baked', 'potato', 'lot', 'sour', 'cream', 'butter'], ['could', 'better??', 'ya,', 'throwing', 'there!\"'], ['restaurant', 'land', 'Best', 'New', 'Restaurant', 'list'], ['make', 'hungry', 'make', 'smile.', 'Kudos', 'copywriter.'], ['good', 'package', 'hungry'], ['name', 'hottest', 'restaurant.', 'Oklahoma', 'City.', 'No.', 'DC.'], ['Would', 'smart', 'decision', 'make', 'holiday'], ['Soy', 'sesame', 'Kim', 'Kanye', 'condiment', 'world:', 'perfect'], ['genuinely', 'overwhelmed', 'cookie,', \"can't\", 'believe', 'anything', 'making', 'it,', 'wonderful', '&amp;'], ['Almond,', 'Kale,', 'Banana', 'Smoothie', 'styled', 'moi', 'hate', 'styling', 'bananas)'], ['Your', 'tweet', 'always', 'make', 'smile...sometimes', 'chuckle.', 'Keep', 'up!', ':-)\"'], ['Bye', 'cookies,', 'hello', 'feel-good', 'foods:', 'Food', \"Lover's\", 'Cleanse', 'back!', 'via'], ['Honored', 'published', 'tribute', 'Dick', 'Gregory', 'thanking', 'reason', \"I'm\", 'vegan'], [\"Reppin'\", '10583.', 'The', 'sandwich', 'deli', 'was,', 'shall', 'forever', 'amazing.'], ['think', 'better', 'way', 'celebrate', 'pub', 'day!', 'pleasure', 'sharing', 'book'], ['made', 'today.'], ['Trying', 'honey-glazed', 'beet', 'recipe', 'issue.', \"Where'd\", 'find', 'perfect'], [\"You're\", 'killing', 'amazing', 'recipe', 'everything', \"I've\", 'tried', 'Twitter', 'feed', 'amazing!'], ['Good', 'food.', 'Good', 'health.', 'Good', 'vibes.', 'Say', 'hello'], ['The', 'nominee', 'chart', 'tastiness!', 'list', 'best', 'new', 'restaurant', 'America', 'here:'], ['PERSONALLY', 'read', 'FOR', 'THE', 'ARTICLES!'], ['proud', 'great', 'company!', 'Thank'], ['spent', 'Friday', 'night', 'hanging', 'around', \"Camille's,\", 'one', 'oldest', 'restaurant', 'Providence,'], ['pure', 'genius!!!'], ['best', 'content', 'internet'], ['Seth', 'Rogan', 'Foodcast!', 'Nachos', 'FTW!', 'And', \"can't\", 'wait', 'see'], ['Getting', 'ready', 'make', 'puppy', 'tonight,', 'ready', \"tomorrow's\", 'feast....', 'Who', 'else', 'going', 'try', 'recipe?'], ['This', 'honey-sweetened', 'granola', 'rooibos-tea', 'chia', 'pudding', 'breakfast', 'want', 'eat'], ['Just', 'pantry', 'stocking', 'first', \"days'\", 'shopping', 'food', 'lover', 'cleanse!', 'Are', 'in?'], ['Mister', 'named', 'one', 'best', 'new', 'restaurant', 'via'], ['essay', 'indian', 'cookbook', 'family', 'depended', 'many', 'years,'], ['making', 'cooky', 'people', 'like,', 'swap', 'chocolate', 'chip', 'raisin'], ['Standing', 'slow', 'clap', 'team', 'renaming', 'Twitter', 'handle', 'bone', 'apple', 'tea.'], ['That', 'one', 'bad', 'as', 'looking', 'soft', 'shell', 'Crabs', 'king'], ['corn', 'burning', 'hands!', 'put'], ['Caramelized', 'onion', 'last', 'night', 'dip', 'today'], ['Perfection!'], ['whoever', 'run', 'twitter', 'account', 'deserves', 'raise.', \"i'm\", 'always', 'impressed\"'], ['week', 'thing', 'dying', 'make:'], ['excited', 'Meat', 'Ball', 'tonight'], ['positively', 'OBSESSED', 'collection', 'via'], [\"We're\", 'teaming', 'Digital', 'Director', 'one-off', 'class', 'want'], ['also,', 'thanks', 'Foodcast', 'head', 'magical', 'place.\"'], ['Thanks', 'dinner', 'suggestion.', 'grill', 'available,', \"I'm\", 'thinking', 'pan-fry', 'extremely', 'hot', 'cast', 'iron', 'pan!\"'], [\"I've\", 'put', 'effort', 'reduce', 'plastic', 'year.', \"I'd\", 'love', 'business', 'would', 'jump', 'board', 'like'], ['changed', 'name', 'searched', 'see', 'many', 'people', 'it.', 'They', 'win.', 'come', 'work', \"y'all\"], ['drank', 'whale', 'testicle', 'beer', 'wrote', 'Check', 'it:'], ['Love', 'weekly', 'staffer', 'article', 'Everyone', 'incredibly', 'good-looking', '[&amp;', 'cook]'], [\"I've\", 'craving', 'pancake', 'since', 'retweet.\"'], ['Realized', 'ripping', 'every', 'single', 'page', 'July', '&amp;', 'finally', 'stopped.', \"It's\", 'classic', \"y'all.\"], ['Powerful', 'story', 'food.', 'Congrats', 'New', 'Restaurant.'], ['Thanks', 'recipe!'], [\"Can't\", 'wait', 'read', 'article'], ['&amp;', 'Brad', 'Leone', 'square', 'fierce', 'nacho-making', 'battle.', 'Who', 'emerge'], ['calorie'], ['need', 'know', 'first-time', 'print', 'subscriber', 'listen', 'love', 'foodcast', 'deeply.\"'], ['This', 'great:', 'The', 'Best', 'Food', 'Ikea,', 'According', 'Toddler', 'via'], ['guess', 'would', 'make', 'smooth', 'criminal'], ['Proud', 'friend', 'nod.'], ['thanks', 'much!!', 'honored', 'included.\"'], ['When', 'cover', 'includes', 'video', 'fried', 'rice', '...', '!!!'], ['BTW', 'issue', 'feature', 'eight', '(!)', 'covers,', 'member', 'team', 'holding'], ['Ok.', 'Did', 'it.', 'let', 'know', 'worth', 'morning.'], ['yes,', 'indeed', 'farm', 'egg'], ['First', 'reveals', \"year's\", 'list', '*the', 'hot', '10*', 'best', 'new', 'restaurant', 'U.S.'], ['LET', 'REITERATE:', 'The', 'foodcast', 'gateway', 'drug', 'deeply', 'addicted', 'today', 'dark'], ['wife', 'want', 'un-follow', 'keep', 'impulse', 'making', 'stuff', 'like', 'this.', 'Pretty', 'damn', 'delicious.'], ['Dammit', \"I'll\", 'say', 'it.', 'like', 'coffee.', 'Wow', 'felt', 'good.', 'And', 'pay', 'me.'], ['This', 'might', 'one', 'favorite', 'tweet', 'date.'], ['+1,'], ['video', 'chickpea', 'evoo,garlic,parsley', 'sans', 'yogurt.', 'new', 'side', 'salad', 'tomato'], ['spill', 'one', 'kitchen', 'tool', \"can't\", 'live', 'without'], ['YESSSS'], ['yeah,', 'ahead', 'top', 'pumpkin', 'pie'], ['made', 'sausage', 'fennel', 'lasagna', 'roll', 'ups', 'dot', 'com'], ['Huge', 'shout', 'restaurant', 'made', 'Hot', '10.', 'Especially', 'hometown', 'favorite', 'You', 'guy', 'raddest.\"'], ['traveling', 'much', 'do,', 'really', 'love', 'this:'], ['You', '*are*', 'blanching', 'asparagus,', 'right?'], ['Literally', 'willing', 'risk', 'jail', 'time', 'biscuit', 'gravy', 'right', 'now.\"'], ['thoughts?', 'Frame-er?'], [\"We're\", 'probably', 'supposed', 'playing', 'cool...hahaha!', 'FREAKING', 'OUT.'], ['Thank', 'you!', 'Needed', 'tonight!!\"'], ['Great', 'read!'], ['know', 'mentioned,', 'want', 'make', 'everything', 'May', 'issue!'], ['want', 'hang', 'kitchen:', 'The', 'Caramel', 'Spectrum', 'All', 'Home', 'Bakers', 'Should', 'Know', 'via'], [\"y'all\", 'best', 'tweets,', '...', 'content\"'], ['cooked', 'chicken', 'tikka', 'masala', 'recipe', 'first', 'time.', 'One', 'word,'], ['proud', 'sister', 'restaurant'], ['spend', '90%', 'free', 'time', 'watching', 'YouTube', 'videos.'], ['Nothing', 'make', 'happier', 'match', 'red', 'carpet', 'look', 'recipes.', 'NOTHING\"'], ['Thanks', 'amazing', 'jelly', 'candy', 'recipe!', 'fun,', 'easy,', 'delicious!'], ['Occupational', 'hazards,', 'food-magazine', 'edition:', 'open', 'box,', 'bottle', 'barbecue', 'sauce', 'shattered', 'transit,', 'you.\"'], ['*packs', 'bag,', 'applies', 'visa,', 'book', 'air', 'tickets*\"'], ['one', 'best', 'new', 'restaurant', 'America.', 'The', 'Julia'], ['Following', 'Twitter', 'wisest', 'decision', \"I've\", 'made', 'while.\"'], [\"We've\", 'joined', 'challenge', 'week.', 'Find', 'inspiration'], ['favourite', 'part', 'fashion!', 'The', 'matching', 'food', 'Love', 'it!', 'Now', 'hungry.\"'], ['drank', 'cold', 'This', 'perfection'], ['fast', 'podcastablism?', 'Check', 'feed', 'podcast-appetite.'], ['First', 'week', 'subscriber', \"I'm\", 'already', 'using', 'two', 'recipes.'], ['proud', 'sister', 'restaurant'], ['That', 'would', 'crazy', 'think', 'otherwise.\"'], ['Need', 'chef', 'come', '&amp;', 'cook', 'pasta', 'dish', \"today's\", 'email.', 'suppose', 'could', 'try', '&amp;', 'cook', 'myself..'], ['hehe', 'good', 'job', 'guys!\"'], ['D.C.', 'represents', 'list', 'best', 'new', 'restaurants:'], ['BRB,', 'eating', 'candy', 'till', 'stomach', 'hurts.', 'ashamed'], ['admit', 'it.', 'snickered.', ':)\"'], ['Pun', 'game', 'fleek\"'], ['Congrats', 'named', 'best', 'new', 'restaurant', 'country', 'list', 'Wow!\"'], ['People', 'a-salt-ed?'], ['Just', 'received', 'August', 'issue', 'happy', 'report'], ['How', 'make', 'perfect', 'bacon', 'land'], ['shopping', 'cooking', 'equipment,', 'done', 'ALL', 'THE', 'LEGWORK', 'you,', 'bargain', 'hunter'], ['no\"'], ['The', 'pork', 'chop', 'think', \"he's\", 'hiding', 'salad,', 'see', 'him.', 'see', 'him.'], ['far', \"i've\", 'got', 'covered....', 'Looks', 'like', \"I've\", 'got', 'money', 'save', \"eatin'\", 'do!'], ['recipe', 'kimchi', 'chicken', 'dinner.', 'Grilled'], ['This', 'semi-monthly', 'plug', 'genius', 'stories.', 'damn', 'thing.'], ['want', 'reveal', 'sexuality,', 'ethnicity,', 'anyone.', 'wanted'], ['much', 'great', 'stuff', 'here.'], ['texas', 'know', 'wonder', 'Whataburger,', 'need', 'remedy', 'STAT', 'via'], ['JUST', 'YOU', 'KNOW.\"'], ['lunched', 'like', 'Spaniard', '&amp;', 'taught', 'hand-make'], [\"Don't\", 'need', 'excuse!'], ['really', 'get', 'need', 'desire', 'recommendation', 'gravy', 'boat', 'cost', 'stack.'], ['The', \"Q&amp;A's\", 'becoming', 'favorite', 'Unexpected', 'Foodie', 'Never', 'Saw', 'Coming'], ['Hey', \"...I'm\", 'giving', 'whirl', 'tonight.', 'Kimchi', 'udon', 'noodle', 'scallion.'], ['Just', 'listen', 'pop', '&amp;', 'crackles.'], [\"I'll\", 'miss', 'family', 'LOT,', 'still', 'try', 'get', 'give', 'free', 'food,', \"that's\", 'family', 'really', 'for.\"'], ['roast', 'pork', 'three', 'way', 'party,', 'drink', 'something', 'called', 'Crisp', 'Corner'], ['Email', 'subject', 'line', 'Cutlets', 'Can', 'Solve', \"Life's\", 'Yes.', 'Yes,', 'can.'], ['honored', 'included', 'Best', 'Restaurant', 'list'], ['article', 'life', 'changing', 'via'], ['Also,', \"can't\", 'wait', 'try', 'pistachio', 'sandwich', 'cookies!'], ['Finally', 'made', 'milk', 'bread!!', 'Thanks', 'recipe!'], ['Had', 'page', 'dog', 'eared', 'years...finally', 'making', 'dinner', 'party', 'appetizer'], ['Finally', 'made', 'linguine', 'green', 'olive', 'sauce&amp;zesty', 'breadcrumb'], ['solid', 'Seinfeld', 'gif\"'], ['said', 'like', 'herd', \"there's\", 'rumor', 'St.'], ['darling', 'B.A.', 'food-centric', 'pun', 'emails?', \"'Cause\", \"I'll\", 'sign', 'up,', \"I'd\", 'like', 'laugh', 'two', 'well...'], ['Just', 'throwing', 'issue', '2015', 'BEST', 'EVER', 'received.'], ['ARE', 'MAKING', 'THESE', 'ASAP.', 'COOKING', 'DAY.\"'], [\"It's\", 'weird', 'took', 'interview', 'introduce', 'concept', 'mug', 'omelet.'], ['Made', 'current', 'issue', 'mushroom', 'oyster', 'head'], ['bought', 'lb', 'blueberry', 'today...', \"IT'S\", 'HAPPENING'], ['1st', 'place', 'close', 'joining', 'Winners', 'Circle.', 'VOTE:'], ['When', 'actually', 'dream', 'made', 'perfect', 'cheese', 'plate', 'wake', 'full', 'guide', 'today', 'good', 'day\"'], ['Scrolling', 'menu', 'one', 'morning', 'commute.', 'seat', 'buddy'], ['Huge', 'congrats', 'two', 'best', 'new', 'restos', 'according', 'Petworth', 'hot!\"'], ['Apple', 'Dumplings', 'via', 'collect', 'recipes.', 'This', 'one', 'look', 'great.\"'], ['French', 'omelet', 'breakfast', 'Thanks', 'sharing', 'this!'], ['Hey,', 'kale', 'people!', 'Read', 'this!', 'spent', 'last', 'month', 'it:', 'via'], ['Baking', 'morning', '&gt;&gt;', 'Sour', 'cream', 'scallion', 'drop', 'biscuit', 'via'], ['Nice.'], ['Wowwwww,', 'blown', 'away', 'cool', 'video+copy', 'recipe', 'format', 'is,', 'usually', 'hate', 'technology'], ['Read', 'feature', 'go!', 'Delicious'], ['good', 'reactive', 'social', 'medias', 'right', 'there\"'], ['How', 'changed', 'diet', 'exercise', 'regime,', 'became'], ['ALWAYS', 'cheese', 'season'], ['Thank', 'Alex', 'Sue', 'write', 'up!'], ['Found', \"tonight's\", 'dinner.', 'Thanks!'], ['Great', 'news,', 'gang!', 'new', 'editor', 'like', 'snack'], ['This', 'best', 'profile', 'OKC', 'food', 'scene', \"I've\", 'ever', 'congrats', 'guy', 'Nonesuch'], ['thanks', 'suggestions!', '&amp;', 'hot', 'dogs-', 'two', 'loves!'], ['favourite', 'coverage,', 'every', 'time:'], ['[Blogged', 'about]', 'Bon', 'baby'], ['made', 'garlic', 'bread', \"I'm\", 'pretty', 'sure', 'looked', 'eye', 'God\"'], ['What', 'eat', 'climbing', 'Mt.', 'Everest?', 'whole', 'lot', 'Soylent.'], ['Trying', 'Mezcal', 'first', 'time', 'thanks', 'podcast', 'episode', 'discovered!'], ['Trying', 'something', 'new,', 'Fermented', 'Garlic', 'Honey.'], ['Can', 'food', \"editor's\", 'mom', 'These', 'taco', 'sound', 'good', 'might', 'cry'], ['Save', 'poached', 'egg', 'looking', 'like', 'wispy', 'dementor', 'cloak'], ['hello', 'friend', 'made', 'chicken', 'incredibly', 'proud', '(thnx', 'empowering', 'me!!)'], ['Making', 'girl', 'tonight', 'showed', 'Rick', 'Martinez', 'recipe', 'dark', 'rose', 'tone'], ['substituted', 'sesame', 'poppy', 'seed', 'everything', 'bagel'], ['This', 'crushing', 'news', 'ATLien', 'hope', 'consider', 'helping'], ['cousin', 'already', 'eaten', 'piece', 'skillet', 'fried', 'chicken', '&amp;', 'Alabama.\"'], ['Playbook', 'favorite', 'holiday.', \"Can't\", 'wait!', 'Thanks'], ['seriously', 'love', 'social', 'medium', 'editor', 'Bon', 'Appetit', 'much.'], ['Ahhhh!!!!!!', 'Thank', 'including', '2019', 'Top', '10!!!!!'], ['wrote', 'educational', 'ode', 'Crowler', \"Don't\", 'play', 'yourself,', 'read', 'it:'], ['The', 'Best', 'Brewery', '&amp;', 'Beer', 'Bar', 'NYC'], ['Great!', 'Sounds', 'like', 'plan.', 'Love', 'recipes.', 'Happy', 'Thanksgiving', 'everyone', 'Bon', 'Merci', 'beaucoup!\"'], ['cake', 'ingredient', 'here.', 'Raise', 'hand', 'eat', 'weird', 'stuff', 'breakfast', 'too!'], ['Let', 'tell', 'one', 'way', 'propose', 'restaurants..'], ['The', 'tummy', 'always', 'know', 'time', 'breakfast'], ['ROFLMAO!!!!!!!!!!!!!!!!', 'This', 'great', 'video.....................BAM!\"'], ['Egg', 'AND', 'Britney', 'humor?', 'Hats', 'fine', 'folk'], ['one', 'fav', 'social', 'medium', 'handles...', 'right', 'amount', 'comedy', 'mixed', 'delicious', 'food!'], [\"we'll\", 'take', 'aspirin!', 'Paying', 'last', \"night's\", 'fun.\"'], [], ['Chili', 'Colorado.', 'Dried', 'anchos,', 'pasillas', 'guajillos', 'give', 'dish', 'beautiful', 'mahogony', 'color.', 'From'], ['WANT.', 'This', 'yolk', 'almost', 'NSFW.', 'Thankfully,', 'Saturday'], ['taking', 'Tracy', 'Anderson', 'classes.', 'feel', 'share', 'surprising', 'intel', 'foodcast:'], ['Brand-new', 'recipe', 'alert'], ['Congrats', 'Spring,', 'one', 'best', 'new', 'restaurants:'], ['thanks', 'this!', 'Tried', 'last', 'night', 'delicious.', 'The', 'yolk', 'get', 'real', 'creamy', 'process.'], ['cooky', 'breakfast!', 'yes!!\"'], ['glad', 'saved', 'ALL', 'Ina', 'Garten', 'podcast', 'redeye.'], ['Causally', 'watching', 'live', 'video', \"that's\", 'filmed', 'le', '100', 'foot', 'food\"'], ['Right', 'back', 'ya!', 'Thanks', 'great', 'recipes!'], ['Thanks', 'including', 'Soon', 'bringing', 'bread', 'West', 'Village'], ['named', 'one', 'best', 'new', 'restaurant', 'COUNTRY'], ['Spent', 'weekend', 'taste', 'testing', 'May', 'issue', '(Spoiler:', 'delicious.)'], ['No.', 'Spring:', 'Where', 'normcore', 'cuisine', 'hardly', 'taste', 'normal'], ['Yes', 'big', 'thank'], ['You', 'guy', 'missing', \"Moody's.\", 'think', \"they're\", 'also', 'known', 'New', 'England', 'Charcuterie.', 'Amazing', 'product.\"'], ['whomever', 'handling', 'social', 'medium'], ['Andy', 'incredible', 'talent', 'never', 'stop', 'cooking.\"'], ['Umm', 'drop', 'one', 'house', 'Thursday?'], ['gif', 'usage', '(cc'], ['Never', 'made', 'bacon-scallion', 'farroto', 'before,', 'think', 'tomorrow', 'worth', 'risk.', 'Should', 'one', 'heck', 'show.', 'wish', 'luck'], ['gonna', 'quote', 'this!', 'Damn', '(and', 'bless)', 'beating', 'it.', 'Heart'], [\"can't\", 'live', 'springform', 'pan.', \"It's\", 'perfect', 'pies:'], [\"I'd\", 'never', 'looked', 'recently', 'waiting', 'ahead', 'meeting.', 'The', 'magazine', 'beautifully', 'designed,', 'dare', 'say', 'fun', 'read.\"'], ['nailed', 'brand', 'messaging', 'tonight', 'food', 'culture'], ['This', 'favorite', 'house.', 'The', 'page', 'fridge', 'year'], ['love', 'podcast', 'much.', 'Fried', 'chicken', 'sandwich', 'debate', 'life'], ['got', 'new', 'travel', 'mug', \"he's\", 'currently', 'cat...'], ['breakfast', 'twitter', 'best'], ['Knew', 'kept', 'May', \"'12\", 'issue', 'reason.', 'Less', 'week', 'til', 'use', 'info!'], ['see', 'there.\"'], ['foxnews', 'rxboilerroom', 'Boiler', 'Room'], ['The', 'Japanese-inspired', 'breakfast', 'actually', 'make', 'weekday', 'morning'], ['Quinoa,', \"we've\", 'never', 'seen', 'like', 'before!'], ['really', 'hope', 'folk', 'tagged', 'take', 'two', 'second', 'send', 'piece'], ['Arigato', 'mention!', 'Back', 'next', 'Wed,', 'stay', 'tuned', 'awesomeness'], ['recipe', 'link', 'choc', 'cake', 'snap', 'chat', 'video?', 'Sadly', 'send', 'message', 'directly', 'there.', 'Thx!\"'], ['Nailed', 'it!', 'recipe'], ['Bone', 'Apple', 'Tea!', 'tried', 'keep', 'professional', 'chef', 'Back', 'Back', 'Chef'], ['Thanks'], [], ['miss', 'bone', 'apple', 'tea\"'], ['got', 'super', 'deal', '1-yr', 'subscription.', 'first', 'magazine', 'arrived', 'holiday', 'edition.', 'Woot!'], ['dang', 'old', 'AF\"'], ['Heck,', 'those,', \"I'd\", 'even', 'get', 'bed', 'a.m.', 'Lol...\"'], ['Hello', 'Vegas!'], ['The', 'entire', 'keynote'], ['Every', 'new', 'song,', 'paired', 'soulmate', 'recipe.', \"You're\", 'welcome.', 'via'], ['Thanksgiving', 'really', 'tough', 'day', 'lot', 'Americans.', 'spoke', 'three', 'November', 'issue'], ['absolutely', 'love', 'culture', 'issue.', 'millennial', 'foodie', 'issue', 'definitely', 'hit', 'spot'], ['love', 'taco', '&amp;', 'tequila,', 'save', 'date', 'programming', 'on-sale', '2.10!'], ['recipe', 'twitter,', 'tell', 'need', 'make', 'tomato', 'fried', 'rice'], [\"y'all.\", 'get', 'me.'], ['YOU', 'GUYS.', 'tried', 'method', 'perfect', 'egg', '&amp;', 'totally', 'worked!'], ['Breakfast', 'inspired', 'ham,', 'cheese', 'avocado', 'omelette', 'chili'], ['Finally', 'trend', 'least', 'bit', 'ashamed', 'partake', 'in.'], ['Tickets', 'sale', \"America's\", 'Best', 'Food'], ['ashamed', 'admit', 'admire', 'tweet', 'afar'], ['Eric', 'made', 'blueberry-ginger', 'pie!', '(June', 'issue,', 'feature.)', 'Humble', 'chef', 'made'], ['worry', \"we're\", 'together', ';)\"'], ['Still', 'party', 'last', 'night...', 'many', 'cheese', 'set', 'fire', 'Neptunes-filled', 'set'], [\"I've\", 'listened', 'brilliant!', 'find', 'Hamptons', 'hang...with', 'Jeffrey.\"'], ['Thanks', 'love,', 'love', 'Chevre', 'Apricots', 'flavor,', 'too!', 'Now', 'available', 'city'], ['Just', 'got', 'April', 'post', 'box,', 'yippee!!'], ['During', 'personally', 'joyful', 'year', 'administration', 'seek', 'extinguish', 'many', 'form', 'joy'], ['really', 'missed', 'opportunity', 'say', 'technique,', 'million', 'different', 'there!\"'], ['Hilarious!', 'Thumbing', 'July', '1999', 'issue', '&amp;', 'found', 'priceless', 'grill'], ['YES'], ['following', 'award', 'season', '(and', 'year),', 'missing', 'out.'], ['here!!!'], ['Bill', \"Clinton's\", 'chocolate', 'chip', 'cookie', 'recipe', 'great'], ['The', 'best', 'food', 'city', 'country'], ['Planned', 'making', 'peach', 'crumble', 'week,', 'showed', 'new', 'oven', 'now.'], ['seriously', 'love', 'banter', 'giggling', 'background', 'foodcast\"'], ['acceptable', 'use'], ['make', 'year', 'end', 'list', 'thing', '(podcasts,', 'music)', 'like', 'fomo', 'also', '92%', 'sure'], ['hello', 'hello', 'love', 'recipe', 'month'], ['The', 'social', 'medium', 'manager', 'last', 'tweet', 'need', 'put', 'resume.\"'], [\"Friggin'\", \"diggin'\", \"today's\", 'feed', 'passel', 'Downtown', 'Abbey', 'gifs.', ':D\"'], ['Please', 'watch', 'moving', 'short', 'grab', 'tissues.', 'Thank', 'capturing', 'beautiful', 'story.'], [\"I'm\", 'excited', 'year.\"'], ['Lunch', 'loving', 'leftovers.', 'Peppers,', 'celery,', 'carrot', 'dulse', 'seaweed', 'dressing'], ['Guys,', 'Molten', 'Caramel', 'Cake', 'delicious!'], ['ding', 'dong', 'cake', 'rang', 'doorbell', 'late', 'night,', 'object'], ['For', 'real,', 'though:', 'Why', 'draft', 'beer', 'taste', 'better', 'bottled', 'beer?'], ['loving', 'coverage', 'spot', 'on!\"'], ['Almost', 'halfway', '2016', '&amp;', 'still', 'great', \"read.'11\", 'Healthy', 'Food', 'Trends', 'Psyched', \"2016'\", 'via'], ['These', 'cookbook', '*actually*', 'worth', 'reading.'], ['You', 'fatty', 'cut'], ['Where', 'eat', 'girlfriend', 'Alberta', 'life', 'Vancouver'], ['Feel', 'blessed', 'watching', 'snapchat.\"'], ['Easily', 'interesting', 'thing', 'cobble', 'together', 'recipe', 'long', 'trip,', 'grocery', 'scarce.\"'], ['Mondays', 'call', 'donut', 'matcha', 'donut', 'hit', 'spot'], ['blowing', 'mind', \"I've\", 'ever', 'used', 'great', \"grandma's\", 'pie', 'crust,', 'gotta', 'try', 'one'], [\"I've\", \"re-insta'd\", 'magazine', 'making', 'scrumptious', 'dip'], ['Ever', 'wonder', 'find', 'best', 'recipe', 'one', 'place?', 'That', 'would'], [\"Here's\", 'something', 'wrote', \"America's\", 'Favorite', 'Neighborhood', 'Restaurants', 'package.', \"It's\"], ['The', 'One', 'Magazine', 'You', 'Should', 'Buy', 'December', 'Between', 'Covers'], ['The', 'Future', 'Food', 'Here'], ['tux', 'make', 'want', 'break', 'grill', '&amp;', 'blister', 'cherry', 'tomato'], ['tweet', 'afternoon', 'becomes', 'dinner', 'tonight!'], ['This', 'picnic', \"ain't\", 'track', 'meet;', 'marathon.'], ['Pour', 'Guinness', 'float', 'tonight', '(via'], ['feeling', 'little', 'hometown', 'pride.', 'named', 'Washington,', 'restaurant'], ['Added', 'recipe', 'USB', 'stick-must', 'try', 'combination.', 'There', 'many', 'flavour', 'enjoy!\"'], ['never', 'felt', 'understood', 'horoscope', 'life'], ['!!!', 'pumped', 'team!', 'No.', 'new', 'restaurant', 'according'], ['favorite', 'time', 'year!', 'posted', 'best', 'new', 'restaurant', 'finalists.'], ['*over*', 'turkey.', \"Here's\", 'lobster', 'Thanksgiving', 'instead'], ['More', 'foodie', 'fan', 'content', 'friend', 'sat'], ['Uh,', 'long', 'since', 'developed', 'delightful', 'personality', 'social?', 'would', 'hang', 'writer.\"'], ['When', 'find', 'drinking', 'canarino', 'throughout', 'work', 'day.', 'After', 'reading'], ['You', 'could', 'buy', 'could', 'buy', '4,910,394,265', 'Hass', 'avocado'], [], ['Ha,', 'may', 'take', 'that.', 'The', 'Ars', 'team', 'Conde', 'coming', 'month', 'necessary.\"'], ['Leo,', 'serve', 'Negroni.', 'Read', 'Cocktail', 'Horoscope', 'here:'], ['mastermind', 'behind', 'account,', 'make', 'day,', 'EVERY', 'DAY!', 'Thank', 'you\"'], ['A1:', \"There's\", 'something', 'special', 'Grand', 'Tasting!', '(Hint:', 'Come', 'hungry)'], ['Working', 'batch', 'Spicy', 'Confit', 'Chiles', 'tomorrow'], ['year', 'ago,', 'something', 'happened', 'completely', 'changed', 'life:', 'writing', 'house', 'Detroit.', 'wrote'], ['Bad', 'news:', \"I'm\", 'behind', 'podcasts.', 'Good', 'news:', 'get', 'listen', 'podcasts', 'morning.\"'], ['You', 'know', 'much', 'love', 'natural', 'wine!\"'], ['best', 'social', 'medium', 'game,', 'me.', 'Unless', 'work', 'You', 'guy'], [], ['Just', 'thought', 'communication', 'design', 'digital', 'content', 'get'], ['want', 'drop', 'snapchats', 'food.', 'Just', 'love', 'staff.\"'], [\"I've\", 'enjoying', 'use', 'Oscar', 'Bolton', 'Green', 'illustration', 'lately.', 'fresh.\"'], ['Now', 'story', 'really', 'get', 'behind...', 'Most', 'Important', 'Cheeses', 'You'], [], ['would', 'pierce', 'ear', 'this.\"'], ['assembled', 'cheese', 'plate', 'Ikea', 'need', 'Allen', 'key:', 'The', 'Best', 'Cheese', 'Ikea'], ['literally', 'help', 'you.\"'], [\"What've\", 'saying?', 'Dine', 'great', 'see', 'No.', 'new', 'restaurant'], ['Loving', 'City', 'Guides,', 'Any', 'plan', 'international', 'versions?', \"Macao's\", 'gem...'], ['it!', 'Thanks', 'inspo'], ['From', 'newsletter:', 'best', 'recipe', 'summer'], ['Made', \"editor's\", 'letter.', 'Honor', 'lifetime!!!', '(And', 'man', 'beef', 'tenderloin', 'AMAZING)'], ['love', 'quality', 'food', '&amp;', 'consistency.', 'Nice', 'ambience', 'too\"'], ['And', 'turned', 'awesome...'], ['2-yr', 'old', 'niece', 'tried', 'swipe', 'photo', 'across', 'print', 'magazine.'], ['These', 'amazing!', 'Thanks.', 'went', '30-minute', 'marinade', 'buttermilk', '&amp;', 'skipped', 'honey', 'butter', 'sauce.\"'], ['Sundays', 'baking.', 'Blueberry-Pecan', 'Galette', \"month's\", 'exact.'], ['social', 'medium', 'team', 'best.', 'love', 'reading', 'funny', 'tweets.', 'Great', 'work', 'keeping', 'fun', 'kitchen.\"'], ['When', 'good', 'admire', 'breakfast.'], ['Full', 'platter', 'gone!!', 'started', 'game', 'though..lol\"'], ['focus', 'charity', 'work', 'Puerto', 'Rico,', 'past', 'intvw', 'Foodcast', 'worth', 'listen:'], ['MUST', 'MAKE', 'PUMPED\"'], ['would', 'let', 'take', 'Olive', 'Garden\"'], ['called', 'mom', 'ask', 'roast', 'chicken', 'busy', 'turned', 'true', 'parent,'], ['The', 'day', 'airport', 'going', 'thorough', 'security', 'realize', 'red', 'wine', 'technically', 'liquid'], ['Toasted', 'garlic', 'beef', 'stock', 'making.', 'Thanks', 'recipe'], ['madly', 'love', 'every', 'single', 'page', 'March', '2018', 'going', 'buy', 'couple', 'extra'], ['Ha!', 'saw', 'skirt', 'steak', 'vid', 'FB.', 'Look', 'grilled!', 'new', 'obsession.'], ['love', 'this:', 'went', 'straight', 'parent', 'Thanksgiving', 'advice.'], ['Last', 'June,', 'profiled', 'Bryan', 'Furman,', 'co-owner', \"B's\", \"Cracklin'\", \"Georgia's\", 'new', 'king', 'barbecue.', 'Just'], ['featured', 'photo', 'story', 'The', 'Process:', 'The', 'woman', 'behind', 'production'], ['Haha', 'love'], ['Sesame', 'swirl', 'tea', 'bread', 'work.', 'butter.', 'Instead', 'yogurt,', 'tahini.', 'Almost', 'Ate'], ['thank', 'Claire', 'Baking', 'School', 'series', 'made', 'best', 'friend', 'cake', 'bday'], ['Wow', 'wow', 'wow', 'wow', 'wow', 'wow', 'wow', 'wow', 'wow', 'wow', 'wow'], ['Kicking', 'Food', \"Lover's\", 'Cleanse', 'little', 'early,', 'subbing', 'recipes.', 'Body', 'ready', 'veggie', 'two', 'weeks!\"'], ['LITERALLY', \"lol'ed\", 'Alex', \"Tatusian's\", 'description', \"TJ's\", 'cookie', 'dunker', 'article:'], ['love', 'piece.', 'Worked', 'heavily', 'upon', 'feels.', 'Thank', 'you,', 'Patti', 'Smith.\"'], ['Great', 'issue', 'month!', 'Read', 'cover', 'cover', 'one', 'sitting,', 'marking', 'page', 'later', 'never', 'that!\"'], ['This', 'article', 'point!', 'Finds', 'way', 'mention', 'AND', 'almanac.', 'via'], ['Honored', 'list'], ['Meet', 'new', 'site', 'dedicated', 'teaching', 'you,', 'person', 'love', 'food,', 'actually,', 'know,', 'make'], ['For', 'first', 'time', 'year', 'subscribing', \"I'm\", 'making', 'cover'], ['run', 'guy', 'Scott', 'mom,', 'friend', 'would', 'lunch', 'break', 'every', 'day.'], ['got', 'email', 'telling', 'make', 'gazpacho', 'summer', 'end', 'guess', 'what,', 'made', 'tonight!!\"'], ['want', 'cook,', 'know', 'start?', 'Welcome', 'Basics:'], ['did!\"'], ['love', 'checklist', 'actually', 'check', 'print', 'recipes,', 'perfect!\"'], ['dramatic', 'literally', 'best', 'thing', 'ever', 'happened'], ['god,', 'crazy!!', 'Thank', 'you!!!!\"'], ['waiting', '&amp;', 'hoping', 'would', 'Brad', 'make', 'sourdough', 'starter', 'add', 'Alive', 'going', 'happen?', 'Pls\"'], ['hashtag', 'begging', 'used', 'there\"'], ['Good.', 'Morning.', 'Not', 'pictured:', 'gigantic', 'coffee', 'mug,', 'new', 'puppy.'], ['love', 'you\"'], ['Trying', 'throw', 'old', 'magazine', 'trouble', 'bringing', 'it.', 'love', 'much!\"'], ['Photo', 'young,', 'French', 'found', 'visiting'], [\"It's\", 'good', 'day', 'arrives', 'mail!\"'], ['Thanks', 'Claire', 'Saffitz,', 'person', 'make', 'homemade', 'english', 'muffin', 'reg.'], ['When', 'staff', 'food', 'magazine', 'tell', 'eat,', 'listen'], ['made', 'apple', 'butter', 'could', 'make', 'Apple', 'Butter', 'Spice', 'Cake', 'Yes.', 'made', 'apple', 'butter'], ['All', 'favorite', 'show', '(plus', 'new', 'ones)', 'available', 'living', 'room.', 'This', 'drill.'], ['bet', 'wish', 'could', 'delectable', 'beauty', 'right', 'now.'], ['talked', 'chef', 'Einat', 'Admony', 'double', 'life', 'stand-up', 'comedian'], [\"i'm\", 'love', 'affair', 'gigante', 'bean', 'right', 'now...', \"can't\", 'wait', 'make', 'Chorizo', '&amp;', 'Bean', 'Cassoulet!\"'], ['Already', 'snagged', 'tix', 'bake', 'Claire'], ['OMG,', 'literally', 'obsessed', 'Maldon.', 'Thank', 'brilliant', 'article,'], ['also', 'want', 'tell', 'lesbian', 'Italian-American', 'write', 'eating', 'infinitum', 'thanx\"'], ['love', 'love', 'love', 'guy', 'Instastories!\"'], ['BTW', 'Bon', \"Appetit's\", 'tablet', 'app', 'really,', 'really', 'good.', \"It's\", 'pdf', 'mag.', 'Which', 'really', 'appreciate.', 'ilu'], ['ooh,', 'thanks!', 'Always', 'looking', 'new', 'podcasts', 'listen', 'to.', 'Aside', 'Burnt', 'Toast,', 'especially', 'love', 'podcast!\"'], ['honored', 'alongside', 'Best', 'New', 'Restaurants!'], ['Congrats', 'restaurants!', 'Get', 'ready', 'queue', 'enjoy', 'hottest', 'spot', '2016!'], ['Baking', 'chocolate', 'chip', 'pumpkin', 'seed', 'cooky', 'worn', 'tomorrow!'], ['Tonight', '&amp;', 'took', 'inspiration'], ['kinda', 'suck', 'love', 'Little', \"Dom's\", 'much', 'piece', 'best.'], ['Until', 'come', 'on,', 'genius', 'Buffalo', 'Popcorn', 'recipe'], ['Yeah,', 'definitely', 'adding', 'list.\"'], ['Jammy'], ['Yes,', 'thank', 'much', 'quick', 'response!\"'], ['time', 'instant', 'coffee', 'better', 'high-end', 'bean'], ['get', 'it.'], ['The', 'crossover', 'episode', 'waiting'], ['Yes', 'everything', 'this.\"'], ['SCREAMING'], [\"Melvin's\", 'Barbecue', 'donating', '50%', 'daily', 'sale', 'today', 'Pleasant', '&amp;', 'James'], ['Hey', 'thought', 'could', 'use', 'this.'], ['two', 'great', 'taste', 'taste', 'great', 'together.'], ['Hats', 'new', 'City', 'Guides', 'look', 'awesome!'], ['Lowkey', 'Monday', 'drinking;', 'recipe', 'care', \"It's\", 'Cantelope', 'cocktail,', 'coconut', 'tequila'], ['good', 'use', 'bolded', 'subheds', 'imo', 'via'], ['really', 'good,', 'Thanks', 'recipe!'], ['Hey', 'right...', 'Famed', 'Ricotta', 'Toast', 'sooo', 'goood!!'], ['made', 'lamb', 'chop', 'green', 'salsa', 'verde,', \"April's\"], ['&amp;', 'entire', 'staff:', 'WIN', 'best', '2015', 'Thanksgiving', 'issue', 'three', 'food', 'mag', 'subscriptions;gorgeous,', 'USEFUL', 'content!\"'], ['This', 'absolutely', 'fascinating', 'thing', 'read', 'day', 'Kelis,', 'Milkshake', 'fame,', 'hot', 'sauce'], ['proud', 'Tachin,', 'crunchy', 'saffron', 'rice', 'barberry'], ['This!'], ['little', 'dream', 'bistro,', 'named', 'What', 'honor!!!', 'Congrats', 'everyone', 'list!'], ['This', 'oven', 'roasted', 'chicken', 'surprisingly', 'easy', 'amazingly', 'tasty.'], ['Does', 'anyone', 'week', 'revolve', 'around', 'test', 'kitchen', 'tuesdays?\"'], ['Most', 'important:', 'spicy', 'honey', 'game-change', 'Paloma.\"'], ['Can', 'talk', 'awesome', 'temporary', 'name', 'change?', '(Google', 'meme', 'necessary)'], [], ['salt', 'pepper', 'added', 'crushed', 'Cheez-its', 'avocado', 'toast.', 'You', 'feature', 'next', 'issue,'], ['Also,', 'gotta', 'respect', 'design', 'nom.', 'IDK', 'favorite', 'is,', 'layout', 'marvelous.', 'Pics', 'bright,', 'food', 'look', '3D-ish\"'], ['WHOA', 'thank', 'you!', 'This', 'article', 'smart,', 'spot-on.', 'Nice,', 'thanks', 'sincerely.'], ['seems', 'like', 'everyday', 'news', 'twitter', 'give', 'anxiety', 'attack', '(bears', 'consistently'], ['This', 'caption', 'everything'], ['These', 'new', 'product', 'Trader', 'piece', 'honestly', 'super', 'helpful.'], ['The', 'morning', 'good', 'email', 'verify', 'information', 'quote', '(for', 'publishing...', 'SQUEEEEE!)\"'], ['butter', 'basted', 'anything.', 'never', 'cook', 'way', 'again...\"'], [\"can't\", 'contain', 'excitement', 'rating', 'among', 'top', 'best', 'new'], ['hate', 'choose', 'side', 'think', \"I'm\", 'gonna', 'ingredient', 'nacho', 'showdown'], ['Brad', 'Claire', 'interview', 'feel', 'like', 'proud', 'mom', '!!!!!'], [\"he's\", 'gently', 'satirizing', \"class's\", 'susceptibility', 'food', 'secret', 'philistinism\"'], ['whoever', \"guys'\", 'social-', 'great.', '&gt;\"'], ['Meringue', 'mushroom', 'Buche', 'Noel'], ['Thanks!', \"We're\", 'flattered', 'listed', 'great', 'company,', 'especially'], ['covered', 'Martin', \"Parr's\", '&amp;', 'really', 'mean', 'lot', 'reason'], ['love', 'pull', 'series', 'Golden', 'tweets:'], ['years,', 'think', 'hospitality', 'kind', 'social'], ['slept', 'long?', 'good'], ['retweeted', \"I'm\", 'low', 'key', 'dying.\"'], ['Making', 'Chocolate-Cinnamon', 'Babkallah'], ['This', 'exciting', 'city', 'eat', 'right'], ['Fed', 'office', 'last', 'week.', 'A++'], ['getting', 'fancy', 'pant', 'classy', 'tonight!', 'seared', 'duck', 'breast', 'cherry', 'port', 'sauce', 'eeeeeeek!', 'goes!\"'], ['forget', 'favorite', 'side', 'dish,', 'martini'], ['Some', 'great', 'idea', 'freshening', 'house', 'without', 'chemicals,', 'easy', 'find.'], ['Lots', 'love', 'Best', 'New', 'Restaurants'], ['Very', 'excited', 'win', 'Best', 'Picture', 'Makes:', 'Pastry', 'Chef', 'Attempts', 'Make', 'Gourmet', 'Instant'], ['Starting', 'today', 'week!\"'], ['Voted', 'best', 'website.', 'VOTE:'], ['cocktail', 'called', 'shark', 'bite', 'huge', 'gummy', 'shark'], [\"i've\", 'never', 'seem', 'anything', 'MORE', 'BEAUTIFUL', 'whole', 'life.\"'], ['Thank', 'wonderful', 'feature', 'today!', 'And', 'beautifully'], ['safe', 'side,', 'send', 'recipe', 'every', 'restaurant?\"'], [\"they've\", 'good.', 'Literally', 'laughed', 'train', 'craft', 'beer', 'tweet.\"'], ['Not', 'fussed', 'tonight', \"I'm\", 'LOVING', 'mash', 'up!'], ['Our', 'year', 'old', 'watching', \"It's\", 'Alive', 'Brad', 'Leone', 'OMG,', 'talk'], ['man', 'bun', \"I'll\", 'ever', 'wear,', 'shirt.\"'], [\"Let's\", 'spoon'], ['pretty', 'much', 'instant', 'couscous', 'dinner', 'excuse', 'buy', 'fancy', 'tuna'], ['Holy', 'moly!', 'Congrats', 'amazing', 'bakery', 'crew', 'great', 'honor!', 'Thanks', '!!!'], ['trust', 'people', 'like', 'pesto'], ['made', 'reading', \"month's\", 'issue.', 'Now', 'favorite!'], ['This', \"month's\", 'issue', 'quickly', 'become', 'one', 'favorites!', 'Thanks', 'teaching', 'much!\"'], ['must', 'like', 'rainbow', 'cooky', 'much'], ['Shooting', \"johnderian's\", 'perfect', 'home', 'Provincetown'], ['Personal', 'Essay,', 'Short', 'Form:'], ['HELL', 'YEAH!', 'Perfect', 'Perfect', 'timing,', 'since', 'hosting'], ['Congrats', 'named', 'one', 'best', 'new', 'restaurant', 'America'], ['Every', 'single', 'photo', 'March', 'used'], ['taught', 'proper', 'way', 'fry', 'perfect'], ['Congrats', 'picked', 'The', 'Art', 'Bread', 'one', 'faves', '2015'], ['thank', 'much!', 'The', 'almond', 'flour', 'divine', 'suggestion!\"'], ['The', 'best,', 'baddest-ass', 'bar', 'town', 'America'], ['Welcome', 'Healthyish.', 'Because', 'healthy', 'still', 'delicious.'], ['Blaming', 'line', 'growing', 'seems', 'much', 'longer', 'usual.\"'], [], [\"That's\", 'NYC', 'sorted.', 'Thanks'], ['You', 'said', 'open', 'knocked', 'said', 'Sorry', 'closed'], ['Who', 'ever', 'writing', 'tweet', 'great', 'job', 'word', 'play!!', 'Great', 'work!', 'love', 'them.\"'], ['someone', 'check'], ['This', 'raspberry', 'ricotta', 'cake', 'turned', 'beautifully!', 'love', 'ingredient'], ['Strong', 'agree', \"month's\", 'pick', '(ahem:'], ['insta', 'story', 'guilty', 'pleasure\"'], ['love', 'turmeric', 'pork', 'curry,', 'made', 'least', 'twice', 'month', 'since'], ['What', 'fiasco.\"'], [\"I've\", 'making', 'year', 'delicious\"'], ['really', 'could', 'care', 'le', 'Oscars', 'love', 'doing!'], ['One', 'thousand', 'gold', 'star', 'you!'], ['Wondering', 'want', 'stock', 'bottle', 'gin', 'vodka...'], ['list', 'Top', 'Best', 'New', 'Restaurants', 'officially', 'live!', 'Check', 'out:'], ['wrote', 'tragically', 'uneaten', 'food'], [\"I'm\", 'glad', 'hipster', 'issue', \"I've\", 'Oolong', 'Tea', 'long', 'cool!'], ['Well,', 'made', 'two-part', 'nae', 'joke', 'Twitter', 'account', 'work', 'done', 'bye.'], ['wrote', 'Your', 'Self-Led', 'Restaurant', 'Boycott', 'Ineffective.', 'Support', 'People', 'Already'], ['Damn', 'whole', 'package', 'amazing', 'everything.\"'], ['okay', 'yes\"'], ['Love', 'everything', 'ode', 'restaurant', '(with', 'recipes!):'], ['-&gt;', 'Realized', 'today', \"I've\", 'botching', 'spelling.', 'Anyway,', 'well-dressed', 'tip'], ['made', 'peach', 'burrata', 'tarragon', 'riff', 'caprese', 'salad', 'recommended.', 'new', 'favorite', 'summer', 'dish!\"'], ['Pack', 'picnic', 'see', 'outdoor', 'movie:'], [\"Y'all\", 'cannot', 'even', 'cantaloupe', 'feature', 'new', 'issue.'], ['These', 'cheese', 'undoing.'], ['Already', 'reminiscing', 'fun'], ['Hell', 'yes', 'loosely', 'dish', 'towel,', 'place', 'plastic', 'bag,', 'whip', 'bag', 'around', 'head', 'like'], ['hot', 'ramen.\"'], ['New', 'week', 'kick'], ['New', 'obsession:', 'ricotta', 'mixed', 'olive', 'oil', 'lot', 'lemon', 'zest.', 'Makes', 'amazing', 'dip', 'peaches,', 'bed'], ['know', 'went', 'contact', '&amp;', 'blogged', 'every', 'restaurant', 'labeled'], ['Listening', 'podcast,', \"they're\", 'talking', 'cassoulet', \"they've\", 'got', 'Toulouse'], ['Hello', 'found', 'one', 'inspiration', 'you.', 'Jane', 'Fonda', '&amp;', 'meringue'], ['Chef', 'Isaac', \"Becker's\", 'Calabrian', 'pork', 'rib', 'yellow', 'salad', 'citrus', 'dressing', 'The', 'BEST.'], ['Made', 'today', 'fucking', 'delicious.', 'Just', 'added', 'perfetto'], ['Honored...', 'named', 'top', 'list', \"America's\", 'best', 'new', 'restaurants.'], ['coincidence', 'two', 'dish', 'book', \"club's\", 'holiday', 'potluck', 'today', '(eggplant', 'parmesan', '&amp;'], ['love', 'coining', 'terms!\"'], ['editing', 'podcast', 'hero'], ['win', 'display', 'week', 'dek.'], ['All', 'Super', 'Bowl', 'snack', 'stuff', 'face', 'Sunday'], ['Forgot', 'take', 'picture', 'buttermilk', 'pancake', 'morning...so', 'know', 'amazing'], ['This', 'brilliant', 'thing', 'heard', 'month!'], [\"I'm\", 'love', 'whoever', 'manages', 'account'], ['Thank', 'on!', \"I'm\", 'huge', 'fan', 'blast', 'pcast'], ['Thank', 'bringing', 'fried', 'caper', 'life'], ['tbh,', 'kind', 'thing.\"'], ['rep', 'Mississippi', 'make', 'Find'], ['Have', 'enjoying', 'corn', 'chowder', 'week', '(thanks', 'inspiration,'], ['Made', 'adapted', 'version', 'bucatini', \"all'Amatriciana\", 'last', 'night!', 'incredible.'], ['love', 'it!', 'The', 'heart', 'house\"'], ['right--Khachapuri', 'excellent', 'brunch!', 'Glad', \"we're\", 'trend.'], ['Important', 'question:', 'What', 'best', 'flavor', 'Teddy', 'Grahams?\"'], ['got', 'subscription...', 'saying....\"'], ['wrote', 'hometown', 'Staten', 'Island', 'best', 'two', 'restaurant', 'America', \"Denino's\"], ['Two', 'favourite', 'food', 'giant', 'one', 'sitting?'], ['got', 'making', 'meatball', 'tonight', 'check', 'twitter', 'idea'], ['Bringing', 'one', 'time', 'favorite', 'salad', 'dinner', 'party.'], ['merged', '&amp;', 'recipe', 'brothy', 'white', 'result', 'amazing.'], ['Whoever', 'tweet', 'fantastic', '&amp;', 'want', 'friend', 'co-workers.'], ['Does', 'still', 'count', 'salad', 'contains', '1.5', 'LBs', 'steak?', 'Please', 'say', 'yes'], [\"I'm\", 'Paleo', 'diet', 'fan.', 'But', 'Paleo,', 'read', 'say!', '(via'], ['4th?', 'course', 'NYE:', 'braised', 'lamb', 'mashed', 'potatoes,', 'green', 'beans.'], ['buy', 'fancy'], ['The', 'fact', 'changed', 'TWITTER', 'NAME', 'BONE', 'APPLE', 'TEA', 'prof', \"they've\", 'game.', 'home', 'now.\"'], ['use', 'spackle', 'drywall.', 'Yours?\"'], [\"I'm\", 'getting', 'drawing', 'astrological', 'sign', 'next', 'hunk', 'glistening', 'burrata'], ['Looking', 'last', 'day', 'green', 'smoothie', 'cleanse', 'bad,', 'bad', 'idea.'], ['When', 'tell', 'put', 'tahini', 'listen.'], [\"What's\", 'mezcal', 'made', 'of?', 'Does', 'give', 'le', 'hangover?', 'Why', 'people', 'obsessed', 'it?', 'Yola', 'Mezcal'], ['really', 'brining', 'week', 'email', 'help', 'meal', 'prep.', \"I'm\", 'excited', 'lunch', 'week!!\"'], ['Thrilled,', 'honored', 'little)', 'shocked', 'included', 'Congrats', 'nominees!'], ['When', 'went', 'bridal', 'shower', 'mom', 'venue', 'served', 'chicken', 'Francese', 'bad'], ['Huge', 'congrats', 'team', 'named', 'best', 'new', 'restaurant'], ['prepping', 'rosh', 'dish', 'maple', 'harissa', 'roasted', 'carrots.', 'recipe'], ['latest', 'foodcast', 'co-founder', 'AND', 'giving', 'MAJOR'], ['think', 'might', 'ruined', 'mac', 'cheese', 'making', 'best', 'mac'], ['Planning', 'bachelorette', 'party?', 'Here', 'way', 'feel', 'good', 'festivities.'], ['Really', 'proud', 'point', 'leave', 'search', 'option', 'pulled', 'phone', 'browser', 'times.\"'], ['This', 'really', 'made', 'day', 'thank'], ['Beyond', '6th', 'Street', 'SXSW,', 'downtown', 'Austin', 'stuffed', 'food', 'food', 'food'], ['One', 'all-time', 'favorite', \"I've\", 'got', 'serious', 'craving.'], ['Very', 'cool.', 'magazine', 'always', 'keep', 'thing', 'dynamic', 'interesting', 'make', 'loyal', 'subscriber.'], ['Ginger', 'Rye', 'Cake,', 'kinda', 'like', 'The', 'Catcher', 'Rye,', 'delicious', 'cake', 'annoying', 'whining'], ['Harissa', 'Explains', 'All'], ['Daaaaang', 'top', 'thank', 'you!', 'team'], ['Next', 'list', 'restaurant', 'try!', 'Congrats', 'Best', 'New', 'Restaurant'], ['Watching', 'staff', 'eat', 'ice', 'cream', 'cake', 'paper', 'cup', 'plastic', 'knives?\"'], ['gosh', 'absolutely', 'love', 'posts!', \"They're\", 'always', 'entertaining!'], [\"We're\", 'honored', 'Whitfield', 'make', 'list', \"America's\", 'Best', 'New', 'Restaurants:'], ['kudos', 'tweet', 'writer.', 'Gets', 'attention', 'every', 'time.', 'Great', 'pix', 'too.\"'], ['Thanks', 'picking', 'CORK', 'DORK', 'one', 'book', 'read'], ['Best', 'day', 'year!', 'release', \"they're\", 'Food', \"Lover's\", 'Cleanse.', \"I've\", 'never', 'done', 'look', 'delicious.\"'], ['Get', '3AM', 'bubble', 'bath,', 'Live', 'best', 'life.'], ['quite', 'like', 'relaxed', 'chic', 'recommendation', 'setting'], ['Loving', 'article', 'series', 'profiling', 'cuisine', 'across', 'country', 'including'], ['never', 'spell', 'right', 'first', 'attempt.\"'], ['see'], ['You', 'master', 'chef', 'cannabis', 'connoisseur', 'make', 'legit', 'weed', 'butter'], ['Thank', 'key', 'lime', 'pie', 'recipe!', 'make', 'pretty,', 'inside'], ['Last', 'week', 'stayed', 'morning', 'finishing', 'thesis...', 'last', 'night', 'stayed', 'morning'], ['Loved', 'talking', 'kitchen', 'skills,', 'primarily', 'consist', \"'willingness\", \"dishes'\"], ['probably', 'really', 'nice', 'Behind-the-Scenes', 'Food', 'Secrets.', 'via'], ['You', 'asked', 'it,', 'made', 'it.', 'Today', \"we're\", 'dropping', 'lot', 'new', 'merch', 'right', 'time', 'holidays.', 'Because'], ['What', 'cooking', 'Get', 'delicious', 'inspiration', 'Foodcast!'], ['thanks', 'Leah!', \"I'm\", 'definitely', 'making', 'this!'], ['Frozen', 'puff', 'pastry', 'mean', 'get', 'part', 'lot', 'faster'], ['Saturday', 'night', 'definitely', 'taken', 'care', 'thanks', 'Open', 'Steak', 'Sandwich', 'Parmesan-Mustard', 'Dressing...'], ['Whoever', 'run', 'twitter', 'real', 'MVP.\"'], ['news', 'changed', 'twitter', 'name', 'bone', 'apple', 'tea?', \"i'm\", 'it\"'], ['purchased', 'issue', 'diverse', 'profile'], ['really', 'could', 'right', 'now!', 'Thx', 'opportunity', 'share', 'one', 'favorite'], ['Productive', 'afternoon:', 'followed', 'staff', 'social', 'media.', \"can't\", 'wait', 'live', 'vicariously', 'guys\"'], ['These', 'best', 'new', 'restaurant', 'country'], ['thread:', 'Dear', 'seen', 'grow', 'blossom', 'every', 'day', 'walked', 'kitchen.'], ['made', 'everything', 'spice', 'cheese', 'ball', 'three', 'separate', 'parties,', 'hit', 'every', 'time.\"'], ['Bring', 'cast', 'iron', 'pan', 'back', 'dead,', 'yer', 'wizard,', 'Harry'], ['Hey', 'much', 'herb', 'would', 'use', 'dressing', 'Quinoa', 'Salad', 'video'], ['When', 'someone', 'call', 'instead'], [\"I'm\", 'ecstatic', 'new', 'grilling', 'manual', 'app!'], ['put', 'sear', 'down,', 'flip', 'reverse'], [\"&lt;3'd\", 'piece', 'going', 'You', 'inspired', 'Sweet', 'Potato', 'Poppers.', \"modif's\", '&amp;', \"they're\", 'vegan', 'too!'], [\"that's\", 'heaven', 'hell', 'plate', 'want', 'it.'], ['THE'], ['gin', 'blossom', 'fall', 'ranking?\"'], [\"I'm\", 'making', 'well', 'recipe', 'bookmarked', 'hello', 'Friday', 'hang', 'sesh', 'ladies!!\"'], ['This', 'like', 'favorite', 'thing', 'one', 'piece', '(poutine', 'burger', \"Can't\", 'deal.'], ['agree,', 'mezcal', 'unofficial', 'beverage', 'Chicago.', 'Thanks', 'shout'], ['Thanks', 'talking', 'desperation', 'pie', 'me.', 'Otherwise', \"I'd\", 'boring', 'people', 'parties.'], ['Chicago', '2017', 'Restaurant', 'City', 'Year', 'Bon', 'Appetit', 'thx', 'love', 'Chicago', 'too!'], ['whoever', 'writing', 'copy', 'social', 'medium', 'GENIUS.', \"I've\", 'said', 'every', 'post', 'lately'], ['Just', 'discovered', 'popcart', 'tool', 'This', 'dangerous.\"'], ['Saoirse', 'Ronan', 'really', 'making', 'crave', 'plate', 'swiss', 'chard.'], ['Honestly', 'overwhelmed', 'amount', 'video', 'watch', 'today...'], ['Not', 'twice!', 'unruly', 'beard', 'must', 'worked.'], ['Our', 'friend', 'helping', 'reduce', 'plastic', 'use', 'Follow', 'along'], ['Never', 'knew', 'much', 'needed', 'talking', 'food', 'life', 'podcast.\"'], ['love', 'lunch', 'much', 'today', \"I'm\", 'eating', 'leftover'], [\"Let's\", 'take', 'moment', 'killing', 'tweets.'], ['woke', 'like', 'this.\"'], ['New', 'fav', 'activity:', 'Going', 'binge', 'going', 'real', 'food', 'binge'], ['okkkkk', 'see', 'you.', 'preparing', 'fall', 'loveeeee'], ['made', 'last', 'year', 'mmmm', 'good', 'memories\"'], [\"Today's\", 'courtesy', 'cold', 'noodle', 'salad', 'recipes:'], ['juneteenth', 'dinner', 'spread,', 'wrote', 'legacy', 'Date', 'Dish,', '1948', 'cookbook'], ['Having', 'drunk', 'gallons,', 'say', 'truly', 'best.'], ['Come', 'hang', 'June', '9th!'], [\"You're\", 'great', 'magazine,', 'trying', 'ruin', 'Thanksgiving?'], ['come', 'better', 'time\"'], [\"I've\", 'realized', \"I'm\", 'point', 'life', 'come', 'Oil', \"I'm\", 'pro-butter-', 'way'], ['Olive', 'oil', 'cake:', 'good.', 'Olive', 'oil', 'cake', 'lemon,', 'raspberry', '&amp;', 'pistachios?', 'Even', 'better'], ['Testing', 'tip', 'roasting', 'apple', 'slice', 'first', 'making', 'pie.', 'far,', 'good!'], ['Day', 'four', 'baker', 'hand', 'bread', 'recipe', 'published', 'final', 'beauty.\"'], ['messed', 'up.', 'great', 'barbecue'], ['1st', 'attempt', 'making', 'cover', 'recipe', 'today!', 'home', 'smell', 'like', 'garlic', 'best', 'way', 'possible', 'right', 'now.'], ['2016', 'photos!'], ['already', 'decided', 'snow', 'day:', 'three-day', 'bread', 'recipe.', 'hello,', 'weekend', 'project!'], ['Just', 'watched', 'live', 'video', 'kitchen', 'Facebook.', 'Now', 'THAT,', 'lady', 'gents,', 'epic', 'content.\"'], [\"morning's\", 'inbox', 'hed:', 'Time', 'Get', 'Funky:', 'Blue', 'Cheese'], ['piece', 'food', 'Maxx,', 'recipe', 'adults;', 'killing', 'content', 'know', 'wanted', '(but', 'did)\"'], ['And', 'win', 'Downton', 'gif', 'game'], ['Holiday', 'cooky', 'breakfast', 'cookies-', 'call'], ['Oooh,', 'great', '&amp;', 'easy', 'breakfast', 'exactly', 'looking', 'via'], ['glad', 'see', 'represent', 'Himitsu', '&amp;', 'Pineapple', 'Pearls'], ['This', 'Thanksgiving', \"I'm\", 'thankful', 'newsletter', 'led', 'classic', 'turkey', 'recipe', 'carving', 'tutorial\"'], ['This', 'Daniel', \"Boulud's\", 'madeleine', 'recipe,', 'know', 'legit,'], ['You', 'made', 'Friday!', 'Thanks,', 'Fun', 'Time', 'Toast!'], ['When', 'drop', 'edition', 'desk,', 'feel', 'like', \"I'm\", 'year', 'old', 'boy', 'got', 'copy'], ['This', 'article', 'me.'], ['The', 'Instagram', 'story', 'really', 'sold', 'moving', 'Ashville.', 'many', 'backyard', 'restaurant', 'breweries.\"'], ['Ha.', 'see', 'game.', 'Well', 'done.'], ['favorite', 'undies,', 'eat', 'cupcake', 'breakfast,', 'forth', 'best', 'day', 'inspiration'], ['bone', 'apple', \"tea's\", 'ryan', 'lochte', 'tweet', 'dada', 'poem', 'summer', '2016'], ['This', 'genius.', 'Big', 'point', 'super', 'clever', 'tweet', 'comparing', 'outfit', 'recipes.'], ['This', 'make', '50-ingredient,', '66-pound', 'tray', 'nacho', 'via'], ['Enjoying', 'toast', 'side', 'Love', 'morning', 'like', 'this!'], ['Love', 'seeing', 'home', \"town's\", 'make', 'best', 'new', 'restaurant', 'list.', 'see', 'you,'], ['The', 'article', 'rule', 'making', 'salad', 'improving', 'desk', 'salad', 'exponentially', 'already.\"'], ['grandma', 'pasta', 'tonight'], ['Good', 'list,', 'think', 'missing'], ['love', 'get', 'technical'], ['*really*', 'need', 'these?', \"Here's\", 'pots-and-pans', 'primer', 'say'], ['T-6', 'hour', 'one', 'nachos.'], ['Order', 'Christmas', \"we're\", 'talking', 'Seamless'], ['Avocado', 'Hummus', 'Recipe', 'via'], ['wrote', 'mozzarella', 'love,', 'clearly', 'thing.'], [\"Today's\", 'website', 'traffic', 'brought', 'Batman.'], ['Seriously,', 'even', 'cook,', 'current', 'event', 'Twitter', 'resource.\"'], ['staffer', 'eat', 'like', 'Tom', '&amp;', 'Gisele.', 'lasted', 'hours.', 'This', 'laugh-out-loud', 'funny:'], ['not,', 'wonderful\"'], ['Totally', 'last', \"night's\", 'dinner.\"'], ['*posts', 'new', 'pasta', 'sauce', 'HOW', 'GLOSSY'], ['beautiful', 'print', 'version', 'feature', 'going', 'plastic-free', 'went', 'digital,', 'read', 'word'], ['this?', 'This', 'new', 'favorite', 'way', 'prepare', 'cauliflower'], ['Yay,', 'Giant!'], ['Wild', 'guess', 'recipe', 'might', 'come', 'handy', 'weekend.'], ['made', 'recipe', 'Duchess', 'Potatoes...BEHOLD'], ['Drunk', 'guest', 'like', 'food', 'better.'], ['Hey', 'everyone', 'Claire,', \"we're\", 'test', 'kitchen', 'today', \"I'm\", 'making', 'Gourmet...', 'Everything'], ['Yes,', 'project.', 'Yes,', 'worth'], ['instagram', 'story', 'cheese', 'cracker', 'paired', 'cheese', 'speaks', 'soul,', 'kinda'], ['Made', 'pork', 'loin', 'yesterday', 'way', '&amp;', 'twas', 'spectacular', 'although', 'pretty'], ['food', 'taco', 'cannon', 'probably', 'first', 'time', 'someone', 'quoted'], ['love', 'you!\"'], ['thanks', 'mention!!\"'], ['Pretty', 'wild', 'story', 'unassuming', 'ambitious', 'trio', 'chef', 'known', 'high-end', 'food', 'market'], ['sure', 'could', 'eat', 'that!', 'Now,', \"I'm\", 'hungry.\"'], ['whataburger\"'], ['changed', 'name', 'apple', 'Twitter', 'dying\"'], ['WOW.', 'love', 'this.'], ['brilliant!', 'Nicely', 'played.'], ['Best', 'Buttermilk', 'Biscuits', 'via', 'went', 'oven.\"'], ['Cannabis', 'become', 'ubiquitous', 'avocado', 'toast', 'health', 'halo', 'match.', 'But', 'also', 'delicious?'], [\"It's\", 'true!!!', 'one', 'best', 'new', 'restaurant', 'country!'], [], ['pairing', 'recipe', 'red', 'carpet', 'gown', 'favorite', 'thing'], ['kitchen', 'seen', 'way', 'activity', 'hot', 'tub', 'sex'], ['Thanks', 'everyone', 'unending', 'support!', 'And', 'huge', 'congrats'], ['wonderful.\"'], ['Why', 'watch', 'long', 'lunch?', 'Ah.', 'starved', 'pastabilities', 'via'], ['Great', 'quote', 'seen', 'egg', 'white', 'hand,', 'way', 'sound', 'copper', \"bowl-it's\", 'like', 'Chef', 'Ludo', 'Lefebvre\"'], ['There', 'something', 'looking', 'recipe', '1am...', 'problem...', 'But', 'seriously', 'making', \"rintaro's\", 'curry'], ['Sharing', 'mostly', 'love', 'wrote', 'tweet!', 'Yes,', 'Monday...'], ['Neat', 'series'], ['This', 'True', 'Love', 'look', 'like,', 'tbh'], [\"Fox's\", 'Roast', 'Chicken', 'Harissa', 'Schmaltz', 'bomb!', 'bacon', 'grease', 'schmaltz)'], ['kawaii', 'editor', 'interviewing', 'Foodcast'], ['Been', 'talking', 'awhile', 'July', 'month', 'take', 'canning.', 'cc:'], ['When', 'suddenly', 'realize', 'Thursday', 'listened', 'newest', 'podcast!'], [\"can't\", 'get', 'enough', 'chicken', 'rice', 'soup!', 'via'], ['tweet', 'favorite', 'mini-series', 'BA\"'], ['flying', 'back', 'Europe', 'SPECIFICALLY', 'ATTEND', 'best', 'weekend', 'ever.', 'Carla'], ['Brilliant'], ['regret', 'decision', 'follow'], ['For', 'last', 'trick:', 'white', 'bread.', \"You're\", 'welcome!\"'], ['Bacon', 'everything.', 'Such', 'mouthwatering', 'pomegranate', 'glazed-black', 'pepper', 'bacon'], ['Blueberry', 'break-fast!', 'July', 'cover', 'using'], ['You', 'want', 'chai.', 'You', 'want', '*best*', 'chai'], ['month', 'plus', 'past', 'buttermilk', 'make', 'best', 'pancake', 'biscuits!', \"I'm\", 'scared', ':)\"'], ['Amazing', 'use', 'evening!'], ['drew', 'mug'], ['Pretty', 'sweet', 'list', 'best', 'neighborhood', 'restaurant', 'U.S.', 'recommendation', 'people'], ['made', 'classic', 'ragu', 'bolognese', 'last', 'night', 'great,', 'even', 'better', 'today.'], ['DIY', 'epic', 'girl', 'night', 'out.', 'sanctioned'], ['Thank', 'awesome', 'City', 'Guide', 'feature', 'brought', 'fabulous', 'upon', 'arrival', 'Atlanta!'], ['PS:', 'also', 'whipped', 'marinade', 'last', 'night', '&amp;', 'smell', 'like', 'best', 'thing', 'ever', 'eat:'], ['Having', 'Cacip', 'Pepe', 'tonight!', 'Love', 'pasta!'], ['weekend', 'lunch!', 'Thanks', 'idea', 'recipe.'], ['think', 'meant', 'Right?'], ['Patricia', \"Clarkson's\", 'dress', 'make', 'want', 'mega', 'slice', 'spiced', 'honey', 'cake'], ['Hot', 'party', 'featured', 'best', 'chef', 'around', 'country,', 'disappoint.'], ['god\"'], ['finalist', 'Best', 'New', 'Restaurants', '2017!', 'Check', 'full', 'list:'], ['made', 'last', 'week.', 'confirm,', 'delicious.\"'], ['This', 'recipe', 'made', 'love', 'cauliflower!', 'Thanks'], ['IPA', 'dead,', 'beer', 'killed'], ['whataburger?\"'], ['Glad', 'like', 'it!', 'Had', 'blast', 'making'], ['glad', 'think', 'so!', '&amp;', 'super', 'fun', 'time', 'making', 'it.'], [\"That's\", 'me!', 'Also,', 'ate', 'leftover', 'enchilada', 'breakfast', 'felt', 'share', 'that.'], ['please', 'get', 'grilled', 'lemongrass', 'tofu', 'recipe', 'Long', 'Vietnamese', 'Seattle.', 'Please!\"'], ['Went', 'thru', 'stack', 'old', 'recipe', 'marked', 'cook,', 'almost', 'variation', 'roast', 'chicken.', 'Clearly', 'new', 'obsession\"'], ['oh!', 'me!\"'], [\"Here's\", 'Bourbon', 'Brown', 'Butter', 'Pecan', 'Pie', 'made', 'late', 'last', 'night.', \"I'm\", 'good', 'crusts.', 'taste'], ['love', 'hate', 'page.', 'Love', 'food.', 'Hate', 'fact', 'make', 'hungry....\"'], ['like', 'delicious', 'food', 'tweet', 'right', 'amount', 'clever', 'amusing,', 'follow'], [\"I've\", 'working', 'resurrecting', 'favorite', 'series,', 'back', 'week'], ['Painted', 'pie', 'pretty', '(idk', 'make', 'ice', 'cream', 'unfortunately'], ['Thanks', 'LOVE'], ['went', 'NOT', 'able', 'cook', 'Damn', 'girl', 'food', 'bomb', 'matter', 'within'], ['Thank', 'chilled', 'soba', 'noodle', 'tutorial!!!!', 'Soba', 'Good!!!!'], ['Had', 'great', 'time', 'talking', 'city', 'love'], ['love', 'copy', 'come', 'mail.'], ['This', 'super', 'rowdy', 'bed', '&amp;', 'brainstomin', 'way', 'make', 'grub'], ['wow\"'], ['Freshest', 'shrimp', 'clam', 'date.'], ['happy', 'see', 'hometown', 'featured'], ['Office', 'lunches.', 'Some', 'inspiration', '(Hint:', 'make', 'heirloom', 'bean', 'weekend.)'], ['Just', 'listened', 'Foodcast', 'interview', 'really', 'great', 'esp', 'loled', 'Cities', 'reference!', 'Hilarious.'], ['These', 'recipe', 'prove', 'waffle', 'much', 'pancake', 'hole'], ['Best', 'interpretation', 'fad', 'go', 'Love', 'it.'], ['Chicago', 'crowned', '2017', 'Restaurant', 'City', 'Year'], ['thanks', 'much!', 'much', 'fun.', 'Just', 'served', 'pre-Christmas', 'Christmas', 'dinner', 'party!', 'Was', 'super', 'popular.\"'], ['named', 'Chicago', 'Restaurant', 'City', 'Year'], ['true', 'appreciation', 'thank', 'you\"'], ['Great', 'see', 'give', 'shout-outs', 'four', 'customer', 'Actually', 'Useful', 'Guide'], ['Simpsons', 'reference', 'PLUS', 'crabcakes?', 'still', 'heart\"'], ['magazine.', 'Never', 'made', 'bad', 'recipe\"'], ['issue'], ['called', 'knife!\"'], [\"I'm\", 'proud', 'nut', 'tart!', 'Recipe'], ['guilty', 'pleasure', 'bingewatching', 'cooking', 'vids', 'tonight', 'discovered', 'comment', 'section'], ['one', 'under-rated', 'account'], ['Made', 'tarte', 'tatin', 'last', 'night,and', 'though', 'photo', 'may', 'show', 'it,'], ['shining', 'bright...', 'like', 'prune-pistachio', 'oat', 'bar'], ['More', 'mind', 'reading:', \"morning's\", 'breakfast', 'toast', 'honey,', 'brie,', 'pear,', 'sea', 'salt', '&amp;', 'black', 'pepper.'], ['rhubarb', 'almond', 'cake', 'buttery,', 'sweet,', 'tart,', 'crunchy', 'lot', 'deliciousness', 'going', 'on!', 'recipe', 'site\"'], ['planning', 'participate', 'Hope', 'too!'], ['The', 'second', 'spotted', 'herby', 'barley', 'salad', 'make', 'it.'], ['Well', 'THIS', 'lovely', 'link', 'wake', 'to!', 'Thanks'], ['Outtake', 'shooting', 'Remy'], ['How', 'Claire', 'Saffitz', 'turn', 'Internet', 'spawning'], ['Khao', 'Noodle', 'Shop', 'No.', 'best', 'new', 'restaurant', 'America'], ['far', 'better', 'show.', 'Check', 'out.\"'], [\"Hart's\", 'named', 'one', 'ten', 'best', 'new', 'restaurant', 'baby!'], ['The', 'January', 'issue', 'next', 'level.\"'], [\"It's\", 'fall,', 'a.k.a.', 'time', 'stuff', \"yo'\", 'face', 'cooky'], ['mean,', 'want', 'cool', 'whoever', 'behind', 'Twitter', 'page.'], ['Ellies', '2019:', 'nominated', 'General', 'Excellence,', 'Service', 'Lifestyle', 'category'], ['Silvio', 'Frlic', 'worked', 'Brooklyn', 'red', 'sauce', 'stalwart', 'years.', 'Silvio', 'Frlic', 'seen', 'things.'], [\"can't\", 'get', 'good', 'enchilada', 'last', 'month', 'were.', 'like', 'Mexican', 'MAKE', 'THESE'], ['marinara', 'sauce', 'recipe', 'amazing!', 'use', 'every', 'time', 'make', 'spaghetti.\"'], ['think', 'need', 'tag', 'never', 'miss', 'posts!'], ['earned', 'beer', \"o'clock\", 'today!', 'happy', 'arrived', 'time', 'enjoy'], ['You', 'get', 'kind', 'mean', 'bossy', 'come', 'marinade', 'you?\"'], ['boozy', 'frozen', 'cocktail', 'make'], ['._.\"'], ['major', 'sweet', 'craving,', 'whipped', 'cocoa', 'brownie', 'Reduced', 'sugar'], ['Our', 'little', 'one', 'keep', 'All', 'Little', 'Things', 'thanks', 'Happy', 'Friday', '13th!'], ['horoscope', 'May', 'could', 'better.', 'Could.', 'Not.'], ['honored', 'contributed', 'red', 'sauce', 'package', '(my', 'roots!', 'piece', 'one'], [\"I'll\", 'take', 'one', 'everything,', 'thanks.'], ['Sizzling', 'pun.'], ['ate', 'one', 'day,', '&amp;', 'lived', 'tell', 'tale!', 'Guess', 'liked', 'best???'], ['This', 'issue', 'speaks', 'soul\"'], [\"I've\", 'got', 'dessert', 'brain.', 'Stocking', 'best', 'apple', 'baking,', 'thanks'], ['many', 'great', 'thing', 'happening', 'Midwest!', 'Thank', 'including', 'amazing', 'lineup,'], ['personally', 'spent', 'dollar'], ['subscribed', 'last', 'month,', 'much', 'enjoy', 'pieces.', \"Can't\", 'wait', 'read', 'book', 'eventually!\"'], ['top', 'kind', 'killing', 'millennial', 'thing', \"they're\", 'clearly', 'going', 'for\"'], ['line', 'cook', 'share', 'essential', 'tip', 'cut', 'prep', 'time', 'half,', 'via'], ['Check', 'great', 'article', 'origin', 'Chinese', 'Chicken'], ['Ellies', '2019:', 'nominated', 'Social', 'Media', 'category'], ['Need', 'juicy', 'backstory', 'sacking', 'think', 'going', 'great', 'editor'], ['behind', 'scene', 'List.'], ['jam.', 'And', 'THANK', 'YOUU\"'], ['featured', 'magazine', 'part', 'work'], ['Bon', \"Appetit's\", 'Best', 'New', 'Restaurants', 'include', 'six', 'San', 'Francisco', 'hotspots:'], [\"I'm\", 'last-minute', 'cash', 'wrap', 'purchaser...unless', \"Didn't\", 'even', 'flip,', 'needed', 'everything', 'inside', 'based', 'cover.\"'], ['When', 'pick', 'Hot', '10,', 'factor', 'food', '&amp;', 'vibe', 'whether', 'chef', 'owner'], ['The', 'whole-wheat', 'chocolate', 'chip', 'pancake', 'bacon', 'dope.'], ['best', 'social', 'medium', 'honestly\"'], ['shit', 'guys!', 'first', 'piece', 'food', 'writing', 'dropped', 'course', 'fucking'], ['yes!', 'make', 'list:', \"BA's\", 'Best', 'Hot', 'Chocolate', 'via'], ['Ready', 'winter.', 'Recipe', 'courtesy', 'latest', 'issue', 'Tomorrow...', 'Picklebacks!'], ['undocumented', 'chef', 'run', 'one', 'best', 'new', 'restaurant', 'via'], ['weekend', 'got', 'Hell', 'lot', 'better:', 'Why', \"Aren't\", 'You', 'Making', 'This', 'Onion', 'Dip', '*Right', 'Now*?', 'via'], ['Pretty', 'much', 'best', 'work', 'date,', 'view', 'hour', 'bonappetitmag'], ['spent', 'minute', 'day', 'reading', 'article', 'hot', 'dog', 'ranking', '&amp;', 'description', '&amp;', 'feel', 'bad', 'it.'], ['Loving', 'graphic', 'recipe', 'copy', 'layout'], ['much', 'satisfies', 'daily', 'food', 'news', 'appetite,', 'really', 'idea', 'subscription.\"'], ['social', 'copy'], ['cherish', \"Oct's\", 'Perfect', 'Pasta', 'issue', 'forever.', 'Truer', 'word', 'never', 'spoken', 'note', 'Every', 'night', 'night\"'], ['never', 'enough', 'peanut', 'butter', 'IMHO\"'], ['Hello', 'Thanks'], ['Thanks', 'pretty', 'taste', 'damn', 'good.', 'One', 'dessert', 'three'], ['surprise', 'here.', 'threw', 'rager', 'last', 'night', 'rad', 'time'], ['And', 'begins:', 'fabulous', 'dresses-as-food', 'tweets.', 'Yay.'], ['Congrats', 'Named', 'USA', 'next!'], ['Cooked', 'Thanksgiving', 'dinner', '&amp;', 'feel', 'like', 'true', 'adult.', 'Shout', 'dope', 'recipe'], ['Subscribing', 'good', 'idea.\"'], ['The', 'sriracha-buttered', 'shrimp', 'making,', 'courtesy', 'YEARS', 'never', 'get', 'old.', 'bottle'], ['snap!', 'KNIVES', '&amp;', 'INK'], ['Ass!', 'bared', 'soul', 'you!', 'Nice', 'one!\"'], ['Best', 'morning?', '&amp;', 'listening', 'love', 'podcast:'], ['Pumpkin', 'caramel', 'tart', 'toasted', 'hazelnut', 'crust'], ['This', 'medium', 'responsible', 'unbiased', 'providing', 'top', 'shelf', 'journalism', 'topic.', 'Love'], ['Last', 'year'], ['not,', 'Beaver', 'Nuggets...', 'mmmm\"'], ['proud', 'many', 'folk', 'helped', 'make', 'site', 'reality.', 'Lots', 'good', 'stuff', 'here,', 'lot'], ['Are', 'guy', 'paying', 'attention', \"what's\", 'happening', 'Twitter?', 'very,', 'good.'], ['good', 'idea,', 'think', 'put', 'hood', 'neighbor', 'car,', 'thank'], ['What', 'purchase', 'ask?', 'Another', 'year', 'course', 'food', 'related!\"'], ['You', 'lived', 'made', 'miso', 'butter.', 'like', 'done'], ['Loving', 'Central', 'page.', 'Tons', 'turkey', 'day', 'recipes,', 'tutorial', 'leftover', 'inspiration.'], ['LoL', 'GreatMindsThinkAlike', 'turkey', 'breast', 'brining', 'making', 'stuffing', 'tomorrow.', '=)\"'], ['Obsessed.', '(Also,', 'dude', 'made', 'dining', 'room', 'table,', 'lie.)'], ['thanks', 'love,', 'guys!', 'Drooling', 'right', 'back', 'ya.\"'], ['Best-Ever', 'Grilled', 'Cheese', 'via', 'made', 'this.'], ['throwing', 'cookbook', 'club', 'tea', 'party', 'going', 'sweet'], [\"I've\", 'made', 'thanksgiving', 'apps!', 'photo', 'eaten', 'fast!', 'Figs', 'relish', 'tray', 'next!\"'], ['Still', 'thinking', 'salmon', 'recipe', 'made', 'last', 'night', 'instructed', 'flesh', 'casual'], ['think', 'made', 'day', 'following', 'text.', 'But', 'obviously', 'want', 'food', 'thanks'], ['Best', 'throw', 'gravy', 'that:'], ['made', 'weekend', \"Father's\", 'Day', 'Brunch.', 'amazing!', 'Everyone', 'loved', 'it.', 'Definitely', 'keeper', 'recipe,', 'thanks!\"'], ['Just', 'cooked', 'faux-tisserie', 'recipe', 'last', 'night.'], ['deserve', 'it!'], ['What', 'timely', 'tweet', 'Reading', 'BBQ', '&amp;', 'wine', 'pairing', 'guest', 'arrive.'], ['Way', 'pleased', 'knew', 'were,', 'made', 'funny.'], ['When', 'tell', 'pasta', \"I'm\", 'inclined', 'believe', 'them.'], ['Modified', 'recipe', 'made', 'stunner.'], ['egg', 'make', 'life', 'better.'], ['Hey', 'forgot', 'add', 'like', 'cheese', 'doodle', '&amp;', \"I'm\", 'early', 'Pretzel', 'fiend!'], ['parent', 'Twitter', 'follower', 'me\"'], ['much', 'appreciate', 'run', 'Twitter', 'account.\"'], ['made', 'galette', 'twice', 'summer!'], ['Thank', 'including'], ['shift', 'tone', 'definitely', 'working', 'me.', 'That', '&amp;', 'every', '2nd', 'article', 'love', 'letter', 'grain', 'bowls.\"'], ['person', 'spirit', 'animal.\"'], ['This', 'package', 'dreamy', \"can't\", 'wait', 'open', 'bottle', 'red', 'read', 'whole', 'thing'], ['Chewy', 'molasses', 'cooky', \"Don't\", 'think', \"they'll\", 'last', 'long.'], ['Guys,', 'seriously', 'NEED', 'make', 'Kimchi', 'Udon!', \"It's\", 'DAMN', 'GOOD', 'DAMN', 'FAST', '&amp;'], ['quality', 'tagline.', 'take', 'rest', 'day', 'off.\"'], ['Congrats', 'peep', 'made', 'proud.', 'Thanks'], ['thank', 'poetry,', 'Talking', 'Machines', 'great', 'content!\"'], ['YAS.YAS.', 'YASSSS!', 'always', 'kill', 'come', 'around.', 'die'], [\"I'm\", 'now-in', 'Toasted', 'Spice', 'Vinaigrette.', 'Yum.\"'], ['celebrate', 'Fourth', 'July', 'bought', 'subscription', 'thanks', 'America\"'], ['best', 'thing', \"I've\", 'done', 'recently', 'follow'], [\"I've\", 'ever', 'found', 'horoscope', 'mild', 'amusement,', 'hit', 'close', 'home.', 'think', \"I'll\", 'ever'], ['Those', 'flower', 'look', 'familiar,'], ['This', 'miso', 'recipe', 'sound', 'absolutely', 'amazing!'], ['LOVE', 'part', 'magazine!!'], ['The', 'Sparkling', 'Wines', 'You', 'Need', 'Your', 'Life!', 'first', 'piece', 'dot', 'com', 'site!'], ['Thanks', 'wine', 'recommendation', '&amp;', 'shout', 'podcast!', 'Fangirling', 'this!\"'], ['You', 'undivided', 'attention'], [\"You're\", 'killing', 'lol\"'], [\"I'm\", 'officially', 'love', 'The', 'recipe', 'look', 'simple', 'delicious!', 'You', 'got', 'hooked!'], ['Sounds', 'delicious?!', 'Now', \"I've\", 'two', 'recipe', 'try', 'week'], ['usually', 'like', 'leading', '?s,', 'one', 'good', 'ones...', 'save'], ['subtweeting', 'Brangelina', 'right', 'now?'], ['Leftovers', 'slow', 'cooked', 'salmon', 'fennel', 'slice', 'heaven', 'recipe!'], ['know', \"we're\", 'drinking', 'tonight,', 'thanks'], ['Horoscope', '&amp;', 'cheese', 'YOU', \"DON'T\", 'KNOW', 'LIFE'], ['yes!', 'The', 'Foodcast!', 'Comes', 'every', 'Wednesday!\"'], ['You', 'try', 'Fig', 'Mountain', 'Hoppy', 'Poppy', 'IPA.', 'That', 'list'], ['love', 'themed', 'horoscopes.', \"they're\", 'fun.', 'adopted', 'negroni', 'summer', 'cocktail'], ['Made', 'cocktail', 'month', 'grab', 'copy', 'stands,', 'particularly'], ['Had', 'blast', 'interview', 'Ice', 'Cream', 'Adults,', 'Adults', 'San', \"Francisco's\", 'Humphry', 'Slocombe&gt;'], ['first', 'hated', 'new', 'twitter-voice', 'BA...but', 'slowly', 'pun', 'winning', '&amp;', 'tough', 'audience!\"'], ['Brad', 'Leone', 'FINALLY', 'sitting', 'hot', 'seat!', 'Find', \"he'll\", 'make'], ['even', 'better', 'raisin', 'cinnamon', 'toast!', 'Sweetness', 'raisin', 'nail', 'jam,', 'add', 'spice', 'even', 'out!\"'], ['transplanted', 'midwesterner', 'article', 'hit', 'feels.', 'Help', 'me:', 'NEED', 'recipe', 'Iron', 'Range', 'meat', 'potatoes!\"'], ['Their', 'affordable', 'gasoline', 'cash', 'back', 'purchasing', 'said', 'gasoline!', 'yeah,', 'food.', 'Haha\"'], ['always', 'enjoyed', 'recipe', 'Bon', 'Appetit', 'Thank', 'great', 'magazine.\"'], ['That', 'impractical.', 'Such', 'blanket', 'could', 'never', 'keep', 'warm.', \"I'd\", 'scarf', 'immediately.\"'], ['Kudos', 'amazing', 'NOLA', 'sandwich'], ['give', 'recipe', 'Milanesa', 'Maggi', 'Ranch', 'via'], ['*clears', 'throat*', 'announced', \"i'm\", 'baking', 'apple', 'crumble', 'bourbon-maple', 'pumpkin'], ['yasssss!', 'fave', 'holiday', 'fave', 'food', 'magazine', '!!!'], ['Whoever', 'run', 'Bon', \"Appetit's\", 'social', 'feed'], ['These', 'waffle', 'tired', 'gave', 'coffee'], ['Not', 'sure', \"I'll\", 'ever', 'find', 'better', 'gazpacho.', 'Words', \"can't\", 'even', 'begin', 'describe', 'tasted', 'tonight.'], ['spatchcocking', 'turkey', 'best!', 'Mine', 'came', 'perfectly.', 'Thanks', 'this!\"'], ['Congratulations', 'making', 'list', \"America's\", 'best', 'new', 'restaurants!'], ['This', 'good.', 'Trust', 'The', \"name's\", 'Kohlrabi.', 'Pickled', 'Kohlrabi.'], ['The', 'twitter', 'feed', '*****', 'stars.'], ['What', 'great', 'recipe!', 'Thank', 'you.\"'], ['Bay', 'Area', 'repping', 'HARD', 'nominee', 'best', 'new', 'restaurant', 'America'], ['This', 'night', 'brought'], ['Exceptional', 'din', 'last', 'night'], ['How', 'chef', 'hack', 'crappy', 'coffee'], ['cupcake', 'instead', 'came'], ['like', 'cooking?'], ['oh,', 'hey!!'], ['Calling', 'foodies!', 'break', 'dining', 'culture', 'changed', 'since', '2000.'], ['social', 'medium', 'manager', 'deserving', 'raise'], ['best', 'collection', 'wonderful', 'dish', \"I've\", 'seen', 'while!', 'Garlic,', 'ginger', \"scallions...what's\", 'better', 'power', 'three.\"'], ['ode', 'pizza:', 'cast', 'iron', 'deep-dish', 'pizza', 'marinara', 'sauce,', 'shredded'], ['attempt', 'eggplant', '&amp;', 'country', 'ham', 'ragu', 'pretty', 'original,', 'taste', 'pretty', 'good.'], ['VERY', 'EXCITED', 'ticket', 'Grub', 'Crawl', 'thanks'], ['may', 'may', 'crashed', 'site,', 'congrats', 'Fifty', 'Best', 'New', 'Restaurants', 'nomination.\"'], [\"can't\", 'wait', 'try', 'combo', 'play', 'around', 'myself.', 'daughter', 'cheesemonger,', 'childhood', 'cheese\"'], ['last', \"night's\", 'dinner', 'inspired', 'july', '2016', 'issue', 'red'], [\"Here's\", 'treat', 'separation', 'anxiety', '(the', 'vinaigrette', 'kind).', 'via'], ['excited', 'new', 'Creuset!', 'Beef', 'bourguignon', 'recipe', 'made', 'served'], ['Thanks', 'RT!', 'Your', 'interview', 'food', 'cast', 'so,', 'good.', \"Can't\", 'wait', 'next', 'season', 'MasterChef', 'Jr!\"'], ['thanks,', 'need'], [\"There's\", 'something', 'everyone', 'here.', 'Seriously'], [\"Cookin'\", 'today?', 'Turn', 'beets.', '(via'], ['Congratulations', 'good', 'friend', 'named', 'Best', 'New', 'Restaurant', 'America'], ['world', 'constantly', 'asking', 'woman', 'talk', 'more,', 'work', 'even', 'harder', 'heard.', 'Where', 'movement'], ['Wanna', 'know', 'favorite', 'badboy?', 'Blood', 'oranges,', 'grapefruit', 'pomelo,', 'carrots,', 'golden', 'beets,', 'turmeric', '&amp;', 'squeeze', 'lemon', 'juice.\"'], ['Made', 'Buche', 'Noel', \"daughter's\", 'birthday!'], ['Thanks', 'voting', 'vanilla', 'ice', 'cream', 'best!', 'love', 'July', 'cover.'], ['Just', 'doctor', 'ordered...'], ['relationship', 'parents.\"'], ['Um,', 'hear', 'sorrel'], ['followed', 'tweet.', 'Brilliant', 'lmao\"'], [\"I've\", 'brunch', '&amp;', 'got', 'better.', 'get', 'tasting', 'menu', '86\\'d\"'], ['Easy', '&amp;', 'healthy?', \"I'm\"], ['The', 'perfect', 'gift', 'food', 'lover', \"that's\"], ['One', 'many', 'reason', 'heart', 'Get', 'Some', 'Work', 'Done?', 'Have', 'Glass', 'Wine', 'Lunch', 'via'], ['Have', 'staring', 'waffle', 'past', 'minutes.', 'plan', 'eat', 'waffle', 'dinner'], ['funny,', 'BRAVO', 'cause', 'feel', 'way!'], ['This', 'potato', 'salad', 'served', 'grill', 'tonight,', 'inspired', 'Thank', 'you!'], ['teased', 'blow', 'torch', 'comment', 'failed', 'post', 'piece', 'resistance!', 'Check', 'finishing'], ['much', 'much', 'better.\"'], ['Maybe', 'inspiration', 'session', 'get'], ['Last', 'night', 'friend', 'made', 'Raspberry', 'ricotta', 'cake'], ['Thanks', 'love,'], ['hee', 'hee!', 'Bone', 'Apple', 'Tea'], ['Such', 'beautiful', 'story', 'behind', 'food', 'look', 'wonderful...a', 'deserving', 'winner'], ['appreciate', 'pairing', 'tonight...', 'make', 'smile.', 'Where', 'food', 'fashion', 'meet...\"'], ['blueberry', 'emoji', 'either!\"'], ['Alright', 'cheese', 'delicious', 'advertised.'], ['rly', 'killin', 'tweet', 'today,', 'bon', 'app\"'], ['oh,', 'hello.\"'], ['Wow', 'wow', 'wow', 'wow', 'vegetarian', 'year', '&amp;', \"I'm\", 'kind', 'person', 'THIS', 'WHAT', 'THEY', 'MEAN'], [\"I'll\", 'console', 'amazing', 'food.'], [\"We're\", 'ready', 'kick', '10th', 'anniversary'], ['Shrubs,', 'hip', 'right'], ['All', 'this.', 'And', 'proud', 'working', 'particular.', 'This', 'business', 'going'], ['HUUGE', 'congrats', 'friend', 'repping', 'whole', 'state', 'list', 'best', 'new', 'restaurant', 'country!!!\"'], [\"Here's\", 'one', 'time', 'okay', 'little', 'Basic.', 'Meet', 'BASICS:'], ['finally', 'confirmed!', 'pinching', 'year', ':-)', 'thanks', 'shout'], ['made', 'basil', 'fresh', \"parents'\", 'garden!', 'delicious.'], ['All', 'Oscars', 'tweeting', 'bullshit', 'that,', 'man', 'comparison', 'fun,', 'spot', 'on.\"'], ['named', 'Best', 'Food', 'City', 'country', 'Our', 'restaurant', 'innovative', '&amp;', 'provide', 'resident', 'good', 'job'], ['Thank', 'surprise', 'apron!', 'love', 'adore', 'it!', 'Made'], [\"Can't.\", 'Stop.', 'Pinning.'], [], ['This', 'election', 'make', 'need', 'one...or', 'few!\"'], ['made', 'this,', 'ruled,', 'thank', 'you!\"'], [], ['ditto\"'], ['Been', 'trying', 'lot', 'recipe', 'week.', 'them.', 'Last', \"night's\", 'roast', 'chicken', 'yum.'], ['Harissa', 'explains'], ['In-laws', 'coming', 'weekend,', 'time', 'break', 'recipe!\"'], ['Dear', 'everything', 'ever', 'pretended', 'noodle', 'noodle:', 'YOU', 'ARE', 'ALL', 'IMPASTAS'], ['rich', 'decadent', 'family', 'loved', 'this\"'], [\"I've\", 'made', 'cake', 'party', 'hit!', 'Great', 'recipe.\"'], ['legitimately', 'favorite', 'yogurt.', 'got', 'whole', 'office', 'hooked', 'well.'], ['Relieve', 'pre-debate', 'stress', 'hitting', 'potato', 'measuring', 'cup'], ['The', 'Golden', 'Girls', 'GIFs', 'making', 'laugh', 'day\"'], ['Video', 'Webcast,', 'Location:', 'Food', 'Grails', 'hosted', 'Season'], ['Turns', 'love', 'much'], ['The', 'headline', 'Giant', 'Chocolate', 'Chip', 'homepage', 'really', 'speaking', 'right', 'now\"'], ['This', 'year', '9th', 'hosting', 'thanksgiving', 'article', 'absolute', 'cutest:'], ['Dining', 'Travel:', 'Editors'], ['Thank'], ['went', \"world's\", 'largest', 'truck', 'stop', 'could', 'prob.', 'live', 'happily'], ['Forever', 'debt', 'Claire', 'Saffitz', 'introducing', 'world', 'bread', 'recipe'], ['You', 'deserve'], ['Have', 'ever', 'scrambled', 'egg', 'midnight?', 'Well', 'really', 'try'], ['Thank', 'you,', 'insanely', 'good', 'Blackened'], [\"I'm\", 'salivating', 'picture', '2016', 'Food', \"Lover's\", 'Cleanse.', 'expensive', 'time-consuming?'], ['Congrats', 'neighbor', 'named', 'one', 'restaurants!'], ['nominated', 'IACP', 'Food', 'Writing', 'Award', 'Best', 'Narrative', 'Food', 'Writing', 'Patel'], ['Well,', \"here's\", 'news', 'food', 'magazine', 'business..'], ['breakfast', 'sandwich', 'snob', 'willing', 'try', '!!!!', 'Looks', 'good'], ['legit', 'thought', 'meant', 'could', 'fix', 'relationship', '*with', 'zucchini*'], ['main', 'man!\"'], ['Happy', 'Reading!'], ['Washington', 'D.C.', 'restaurant', 'city', 'year'], ['Really', 'appreciated', 'learning', 'culinary', 'journey', 'podcast', 'Check', 'out!\"'], ['owned', 'dinner', 'tonight', 'homemade', 'Sage,', 'Butter,', '&amp;', 'Parmesan', 'Gnocchi.', 'Thanks'], ['happened', 'last', 'night'], ['THIS', 'PUN\"'], [\"I'm\", 'drinking', 'cold', 'brew', 'tonic', 'right', '&amp;', 'GOOD.', 'via'], ['right', 'Way', 'many', 'amazing', '&amp;', 'tag.', 'Loved', 'following', 'story!\"'], ['Twice-baked', 'sweet', 'potato', 'bacon', 'brittle.', 'You', 'bacon', 'brittle.', 'Thx', 'recipe'], ['Congratulations', '&amp;', 'named', 'one', 'best', 'new', 'restaurant'], ['Holy', 'god', 'look', 'amazing\"'], ['queso', 'fundido', 'week', 'addictive'], [\"here's\", \"I'm\", 'lunch', 'tomorrow:', 'thanks'], ['Thanks', 'think', 'hit', 'nail', 'head!'], ['Reclaiming', 'basic'], ['Maybe', 'would', 'taste', 'like', 'pad', 'thai??\"'], ['Our', 'work', 'got', 'great', 'shoutout', 'Destroyer', \"LA's\", 'review', 'one', 'Best', 'New', 'Restaurants'], ['Really', 'Twitter', 'game', '(puns)', 'lately.\"'], ['Dang,', 'love', 'keep', 'coming.', 'Honored', 'mention', '&amp;', 'pic'], ['btw', 'made', 'last', 'night.', 'Added', 'fish', 'sauce,', 'soy', 'sauce,', 'ginger,', 'garlic.Was', 'amazing.', 'The', 'egg', 'add', 'unctuousness', 'yum.\"'], ['haha', 'funneh\"'], ['These', 'Crispy', 'Peppercorn', 'Chicken', 'wing', '2nd', 'favorite', 'wing', 'recipe.', 'Recommend', 'use', 'le'], ['This', 'difficult', 'say,', 'best', 'home', 'page', 'food', 'right', 'now.', 'Functional', 'fuck', 'pretty,', 'too.\"'], ['True', 'love', 'magazine', 'arrives', 'mail\"'], ['Make', 'better', 'cup', 'tea', 'delightfully-useful', 'tip'], ['Subscribed', 'deal', 'and,', 'issues,', 'totally', 'worth', 'it.', 'Great', 'content.'], ['fungi\"'], ['LOL!', 'This', 'tweet', 'made', 'laugh!', 'Thanks!'], ['Hey', 'Feasters:', \"I'm\", 'going', 'extract', 'secret', 'food', 'coverage', '1:30,', 'Pioneer', 'Square'], ['Made', 'kick', 'as', 'shrimp', 'pasta', 'recipe', 'wknd', 'incredible.', 'Shrimp', 'stock'], ['amazing', 'looking!', 'Magic', 'carpet', 'always', 'leaving', 'early', 'help!\"'], ['Wow,', 'ultimate', 'peanut', 'butter', 'cooky', 'something', 'else!!'], ['Sometimes', 'may', 'find', 'handle', 'vodka.', 'time'], ['really', 'tea-d', 'one', 'yall\"'], ['eat', 'part', 'lunch', 'too?\"'], ['ready!', 'Thanksgiving', 'one', 'place.', 'Thank', 'year', 'rockin'], ['speaking', 'language', 'now.\"'], ['everything'], ['subscribed', 'purely', 'respect', 'use', 'gif', 'much', 'resist.', 'social', 'medium', 'team', 'crushing', 'it\"'], ['Call', 'sandwich', 'want,', 'long', 'follow', 'cold-cut', 'rule'], ['Awesome!!!', 'Thank', 'much!!!\"'], ['Care', 'Paper', 'Plane', 'cocktail,'], ['Welp,', 'selling', 'minute', 'days.', 'Thanks', 'lot,'], ['Tried', 'expanded', 'world:)', 'The', 'Easiest,', 'Cheesiest', 'Pasta', 'All', 'Time', 'via'], ['NEVER', 'apologize', 'pun.', 'people', 'groan', 'it,', 'sour', 'grape', ';-)\"'], ['best', 'critic.', 'second', 'best.', 'Kudos'], [\"I'm\", 'here...', 'Helloooo?', 'Where', 'everyone?', 'must', 'unfashionably', 'early...\"'], ['Facebook', 'post', 'great', 'too\"'], ['Ooh', 'answer,', 'easy'], [\"I'm\", 'DJing', 'June', '6th', 'come', 'like', 'food', 'comedy', 'music.'], [\"I've\", 'spent', 'last', 'day', 'school', 'website\"'], ['bizarre', 'history', 'Bucca', 'Beppo,', 'postmodern', 'red', 'sauce', 'chain.'], ['hey', 'three', 'love', \"y'all.\", 'every', 'single', 'thing', 'Simple', 'issue', 'made'], ['For', 'record,', 'frittata', 'recipe', 'chain.'], ['awesome', 'vid', 'people', 'watch\"'], ['The', 'compare', 'combine', 'two', 'favorite', 'things.'], ['Oct', \"'15\", 'issue', 'may', 'best', 'yet.', 'Mushroom', 'Burrata', 'Lasagnette!?', 'Get', 'outta', 'here!!\"'], ['heaven', 'nice', 'breakfast', 'morning', 'cocktail', 'catching', 'collecting', 'coffee', 'table\"'], ['Solid', 'hit', 'list', 'new', 'City', 'Guide.'], ['Day.', 'Made.'], ['Made', 'great', 'dinner', 'catching', 'The', 'People', 'OJ.'], ['Thanks', 'letting', 'honest,'], ['Literally', 'happening', 'right', 'second.'], ['Love', 'Food+fashion'], ['via', 'Crucial', 'wine', 'pairing', 'ensure', 'summer', 'BBQ', 'fully', 'pop'], ['need', 'help', 'anything', 'specific', 'recipe', 'ask!', 'try', 'answer', 'every', 'conundrum\"'], ['YouTube', 'channel?!?', 'What?!?', 'There', 'go', 'plan', 'rest', 'day!\"'], ['Somehow', 'subscription', 'slipped', 'sparked', 'resubscribe.', 'wait', 'dig', 'annual', 'fave.'], ['Just', 'discovered', 'Season', 'Now', 'section.', 'Bookmarking', 'forever:'], ['Supreme', 'Court', 'weighs', 'fate', 'justice', 'also', 'considering', 'short', 'version', 'Zaid', 'Renato'], ['love', 'guy', 'complete', 'thank'], ['yep', 'amazing', 'popcorn'], ['Well', 'look', 'damn', 'beautiful,', 'team'], ['BOLD:', 'declares', 'Pizzeria', 'Beddia', 'pizza'], ['not,', 'LOVE', 'NEW', 'CLASSIC', 'STUFFING', '...', 'Check', 'out.', \"It's\", 'delicious.'], ['spend', 'six', 'minute', 'work', 'watch', 'glorious', 'morning', 'bun', 'video'], ['January', 'issue', 'changed', 'damn', 'life\"'], ['also', 'read', 'recent', 'article', 'brown', 'meat', 'BAM,', 'browned', 'meat', 'sloppy', \"joe's.\"], ['Seriously!?', 'AHHHHHH!!', 'name', 'nominee'], ['Brad', 'best.\"'], ['omg', 'noticed', \"y'all's\", 'Twitter', 'name', 'change'], ['Just', 'made', 'morning', 'yum!', 'Keep', 'reminder', 'coming', 'please.'], ['For', 'wrote', 'tech', 'company', 'going', 'all-in', 'in-house', 'food', 'programs:'], ['think', 'every', 'day,', \"I'm\", 'going', 'say', 'it:', 'best,', 'clever', 'Twitter', 'account', 'follow.'], [\"Can't\", 'handle', 'bone', 'apple', 'tea...'], ['thanks', 'making', 'hungry', 'envy', 'watching', 'Snapchat', 'story!', 'Please', 'send', 'shackburger', 'Savannah'], ['Made', 'Grand', 'Aoili', 'recipe'], ['Thanks', 'friend', 'covering', 'SS18', 'show'], ['OUR', 'THANKSGIVING', 'ISSUE', 'HERE!', 'asked', 'food', 'editor', 'test', '(and', 'retest)', 'Thanksgiving', 'classics.', 'And'], ['Our', '2019', 'Restaurant', 'City', 'Year', 'Dallas,', 'TX.', 'Because', 'look', 'past', 'slick', 'football-field-sized'], ['Shamelessly', 'enjoyed', 'latest', 'foodcast', 'history,', \"'rise\", \"fall'\", 'avocado', 'toast.'], ['beauty', 'arrived', 'diving', 'right', 'new', 'issue'], ['Following', 'snapchat', 'decision', 'ever'], ['excited', 'this!', 'indication,', 'site', 'gonna', 'RAD!'], ['This', 'Andy', 'Baraghani', 'essay', 'layer', 'hiding', 'gay', 'boy', 'Iranian', 'family', 'root', 'healing', 'urge'], ['wanted', 'weep', 'tiny', 'Spidey!\"'], ['feel', 'like', 'yesterday.', 'still', 'smell', 'smoke.'], ['Tarla', 'Dalal', 'one', 'influential', 'home', 'cook', 'India', \"here's\", 'story'], ['Chefs', '&amp;', 'element', 'serving', 'tasty', 'treats.'], ['This', 'amazing', 'recipe;', \"I've\", 'enjoyed', 'many', 'times.', 'actually', 'made', 'cauliflower', 'convert!\"'], ['Thanks', 'ricotta', 'fig', 'honey', 'idea.', 'Impressed', 'coworkers', 'today', ':)\"'], ['Morning', 'reads!'], ['Forgive', 'me,', \"I'm\", 'gonna', 'mommy', 'thing.', 'first', 'byline', \"It's\", 'tomatoes:'], ['twitter', 'team', 'one', 'faves.', 'Whoever', 'writing', 'tweet', 'excellent', 'job', 'treating', '140', 'character', 'well!\"'], ['gotta', 'see', 'dad', 'family.', 'hilarious'], ['Adding', \"Mother's\", 'day', 'menu!', 'Thx!\"'], ['Thanks', 'talking', 'desperation', 'pie', 'me.', 'Otherwise', \"I'd\", 'boring', 'people', 'parties.'], ['really', 'early', 'sext\"'], [\"It's\", 'like', 'reading', 'mind', 'take', 'walnut', 'heirloom', 'tomato', 'Sunday!'], ['Can', 'say', 'seriously', 'killing', 'right', 'now?', 'Killing', 'different'], ['Brewery', 'Bhavana', 'named', 'one', \"America's\", 'Best', 'New', 'Restaurants', '100%', 'deserved', 'favorite'], ['spicy', 'spinach', 'artichoke', 'dip.', 'Bruh...\"'], ['cool', 'chosen', 'best', 'new', 'restaurant', 'America.', 'Beautiful', 'story', 'behind', 'it:'], ['wrote', 'small', 'poem', 'Red', 'Sauce', 'America', 'package,', 'please', 'read', 'aloud'], ['November', 'issue', 'arrived', 'today', 'already', 'drooling', 'Off-Season', 'Caprese'], ['congrats', 'recognition'], ['How', 'taught', 'food', 'director', 'recipe', 'one', 'underrated', 'ingredient', 'ever', '(celery)'], [\"I'm\", 'pool', 'reading', 'August', 'issue', 'ice', 'cream', 'audibly', 'whispered', 'looking', 'picture', 'ice', 'cream', 'sundaes\"'], ['Legendary', 'curries:', 'Tim', 'Curry,', 'Stephen', 'Curry', 'recipe', 'shrimp', 'curry'], [\"I've\", 'made', 'exact', 'dish', 'twice', 'far.', 'Delish!', 'And', 'halloumi', 'totally', 'make', 'it!\"'], ['Did'], ['Made', 'week', 'immediately', 'rocketed', 'top', 'weeknight', 'meals.', 'delicious!\"'], ['There', \"can't\", 'prettier', 'room', 'best', 'new', 'restaurant', 'list'], ['Thanks', 'naming', 'Best', 'New', 'Restaurant.', 'Honored', 'company', 'great'], ['may', 'cook', 'home,', 'love', 'dish'], ['Adventures', 'Savannah,', 'Day', 'award', 'winning', 'BBQ', '(thanks', 'walking', 'tour,', 'fun'], ['April', 'issue', 'giving', 'new', 'life.', 'Incredible', 'recipe', 'egg', 'technique', 'forever', 'Not', 'mention', 'me-safe', 'food'], ['fun', 'little', 'article', 'here:', '(Totally', 'Fun,', 'Not-At-All', 'Stuffy)', 'New', 'Rules', 'via'], ['Repping', 'fave', 'Chicago', 'spot', '(with', 'coffee', 'beat)', 'shiny', 'new', 'City', 'Guides:'], ['pretty', 'sure', 'mind', 'proper', 'way', 'read', \"August's\", 'issue'], ['running', 'newly-established', 'snapchat', 'account?', \"I'm\", 'luv'], ['Thanks', 'love', 'Bar', 'Marco'], ['Love!', 'chat', 'food', 'entertaining.', 'via'], ['say,', 'social', 'medium', 'simply', 'point', 'now.', 'want', 'click', 'every', 'link.', 'Bravo,', \"IT'S\", 'WORKING\"'], ['This', 'drink', 'old-fashioned', 'still', 'memorizes', 'phone', 'number'], ['These', '101', 'best', 'recipe', 'time.', 'Welcome', \"BA's\", 'Best'], ['SOMEONE', 'GIVE', 'THE', 'SOCIAL', 'MEDIA', 'TEAM', 'FREAKING', 'PULITZER'], ['According', 'horoscope,', 'need', 'get', 'Klondike', 'Choco', 'Tacos!'], ['Bon', 'unveils', 'first', 'cover', 'shot', 'iPhone'], ['drew', 'Peeps', 'deeply', 'attached', 'Glazed', 'Ham', 'Peep', '&gt;', 'Future', 'Peeps', 'Flavors', 'That', 'Are', 'Totally', 'Real'], ['wrote', \"Buc-ee's,\", 'world', 'greatest', 'rest', 'stop,', 'love', 'good', 'superlative:'], ['worked', 'high', 'school...', 'First', 'many', 'food', 'gigs!'], ['Fung', 'Tu,', 'thanks', 'everything.\"'], ['Red', 'Sauce', 'America', 'article', 'best', 'piece', 'food', 'writing', 'read', 'long', 'time.'], ['Gain', 'real', 'food', 'cred', 'pairing', 'favorite', 'chocolate', 'box', 'flavor', 'really', 'good'], ['Marinated', 'lentil', 'radish,', 'celery', 'scallions.', 'new', 'favorite', 'salad!'], ['added', 'twist', 'galette', 'recipe,', 'blueberry', 'pistachio', 'instead', 'pecan'], ['Blueberry', 'Galette', 'via', 'boom!'], ['favour', 'watch', \"'big\", \"boy'\", 'montage', '12.45', '....', 'watch', 'whole', 'thing'], ['newest', 'offshoot,', 'brilliant.', 'wish', 'could', 'sat', 'editorial', 'development', 'meetings.\"'], ['make', 'dept:', 'This', 'piece', 'smiling', 'subway'], [], ['Pulled', 'chicken', 'salad', 'cherries,', 'radishes,', 'butter', 'lettuce', 'honey-mustard', 'vinaigrette.'], ['Hold', 'look', 'lit!'], ['Not', 'overstate', 'it,', 'look', 'like', 'greatest', 'sub', 'history', 'world:', 'via'], ['Does', 'mean', 'call', 'Beaver', 'Nuggets', \"Buc-ee's:\", 'The', 'Best', 'Rest', 'Stop', 'America'], ['ate', 'different', 'Chicago', 'hot', 'dog', 'joint', 'day', 'lived', 'tell', 'tale'], ['super', 'amazing', 'new', 'website!!!!!!'], ['effort', 'though'], ['Here', 'one-GIF', 'review', 'holiday', 'issue.', 'buy', 'immediately.'], ['Congrats', 'hailed', 'best', 'new', 'restaurant', 'America.', \"You've\", 'made', 'Pinoys', 'proud!\"'], ['This', 'one', 'weird', 'juju', 'tweets.', 'JUST', 'got', 'back', 'France,', 'obsessed', 'Monoprix', 'carrot', 'salad', '(&amp;', 'olives)!\"'], ['~last', 'night', 'burrito', 'saved', 'life~\"'], ['Love', 'fashion-inspired', 'food', 'pairing'], ['Oh,', 'yeah,', 'am!\"'], ['This', 'happened.', 'And', 'amazing.', 'Thank'], ['thought', 'freezing', 'top', 'tier', 'wedding', 'cake', 'via'], ['Shout', 'BBQ!', 'Road', 'Trip?!'], ['added', 'sugar', 'unpalatably', 'high', 'tannins,', 'still', 'able', 'find', 'value', 'thing', 'contain'], ['You', 'Voice', 'currently', '2nd', 'place.', 'VOTE', 'RN:'], ['Love', 'new', 'column', 'After', 'year', 'server', 'Mama', 'says,', 'know'], [\"I'm\", 'going', 'make', 'right', 'now!!\"'], ['age-old', 'concept', 'changed', 'whole', 'world:'], ['made', 'lot', 'year.', 'Switched', 'easy.', 'Fyi.'], ['Those', 'breakfast', 'sandwich', 'party', 'crazy', 'legit', 'too.'], ['kind', 'flick!\"'], ['Awesome', 'article', 'month', 'amazing', 'NYC', 'restaurant', 'supporting', 'heritage', 'techniques.'], ['The', 'new', 'Corporate', 'Lunch', 'episode', 'EIC', 'Adam', 'Rapoport', 'pod', 'event', 'season!', 'Worth'], ['That', 'look', 'mouthwateringly', 'scrumptious', ':-)\"'], ['When', 'chef', 'Joe', 'Beef', 'Montreal', 'gave', 'alcohol,', 'whole', 'restaurant'], ['Delicious', 'easy', 'potato', 'salad', 'mustard', 'sauce', 'watercress.', 'Thanks', 'recipe.'], ['AVENUE', 'Q!\"'], ['Lightening', 'fast', 'response,', 'thank', 'you!', 'remember', 'please', 'share', 'done', 'looked', 'sooooo', 'yummy!', ':)\"'], ['Survive', 'apocalypse', 'within!'], ['new', 'week', 'new', 'jar', 'romesco,', 'good', 'routine\"'], ['Burnt', 'lettuce?', 'Are', 'sure', 'chard?', ';)\"'], ['Warm', 'chillier', 'weather', 'fall', 'recipe', 'looking', 'forward', 'making:'], ['Made', 'garlic', 'rosemary', 'pork', 'loin', 'recipe', '&amp;', 'great'], ['sunny,', 'sloppy', 'messy', 'sausage', 'muffin', 'morning!', 'Used', 'recipe'], ['Killer', 'breakfast', 'vibe', 'morning', 'celebrate', 'winning', 'age', 'A-list', 'award'], ['The', 'Marvelous', 'Mrs.', 'Basil'], ['Who', 'ever', 'running', 'twitter', 'account', 'definitely', 'born', '1985-1992...amazing.'], [\"We'll\", 'handing', 'tip', 'trick', 'week', 'live', 'plastic-free', 'life', 'culminate'], ['loving', 'shoutouts'], ['Followed', 'recipe', 'yummy', 'results.'], ['You', 'know', 'word'], ['This', 'love', 'you,'], ['KILLIN', 'snapchat', 'today', 'guy'], ['THANK', 'YOU!\"'], ['SOMETHING', 'PERFECT', 'WILL', 'HAPPEN', 'SEPT', 'FOR', 'ALL', 'FREAKY', 'DEAKY', 'BABIES', 'WITH', 'THE', 'INTERNET', 'MAN', 'AND', 'NEW', 'BEST'], ['ate', 'cheese', 'Trader', \"Joe's\", 'figure', 'one', 'best'], ['foodcast', 'save', 'day,', 'trapped', 'traffic', 'jam', 'forever', 'thank', 'god', 'still', 'listened', 'episodes.', 'thankful!\"'], ['Wrote', 'miniature', 'Trevi', 'Fountain', \"Lombardino's,\", 'Madison', \"WI's\", 'Italian'], ['This', 'worth', 'read.', 'But', 'also,', 'head', 'Instagram', 'story', 'right', 'now.', 'Beautiful', 'storytelling', 'one'], ['voted', 'even', 'though', 'set', 'account', 'Webby.', 'Good', 'luck.\"'], ['sweet', 'guy', 'using', 'pic', '&amp;', 'mag', 'Yum'], ['Alabama', 'White', 'Sauce', 'way!', 'basic', 'recipe', 'used', 'compliment'], ['Whoever', 'writes', 'headline', 'favorite', 'copywriter', 'Twitter\"'], ['The', 'team', 'killed'], ['swear,', 'one', 'magazine', 'make', 'gasp', 'every', 'time', 'turn', 'pg.'], [\"America's\", 'favorite', 'local', 'neighborhood', 'restaurant', 'cool', 'project', 'Adding'], ['woke', 'early', 'make', 'tahini', 'brownie', 'de-stress...', \"It's\", 'gonna', 'good', 'day', 'folks!\"'], ['spiced', 'honey', 'cake', 'TOO', 'good,', 'officially', 'new', 'holiday', 'tradition.'], ['adapted', 'recipe', 'made', 'even', 'berry-licious'], ['And', 'love', 'affair', 'galettes', 'begins...sweet', 'fat', 'summer', 'cherry', 'recipe', 'kick'], ['Maybe', \"I'm\", 'bit', 'biased', 'here,', 'city', 'guide', 'LIVE', 'looking', 'awesome:'], ['Excellent', 'frock', 'food', 'pairing', 'best', 'Oscars', 'coverage!\"'], ['loved', 'learned', 'lot!\"'], ['The', 'Oscars', 'coverage', 'need.'], ['Not', 'day', 'go', 'wish', 'friend', 'social', 'team.'], ['This', 'goldmine.', 'made', 'day.'], ['twitter,', 'joy', 'crazy', 'mixed', 'world'], ['Just', 'wanted', 'publicly', 'proclaim', 'adoration', 'Basically', 'The', 'writing', 'relatable,', 'recipe'], ['undocumented', 'immigrant', 'run', 'one', 'best', 'restaurant', 'country.', 'future', 'secure'], ['long', 'thanks', 'fantastic', 'noms'], ['Raise', 'hand', 'baking', 'cooky', 'today'], ['like', 'better', 'put', 'ring', 'onnit\"'], ['dinner', 'weekend', 'run', 'anyone', 'felt', 'really', 'wrong\"'], ['Yes!', 'croissant', 'one', 'crucial', 'well.', 'Emojis', 'low', 'carb.\"'], ['honored!', 'This', 'city', \"f'ing\", 'rocks.'], ['Take', 'bow,', 'Dallas:', '2019', 'Restaurant', 'City', 'Year'], ['When', 'dad', 'take', 'Twitter', 'account?'], ['Oolong', 'time', 'since', 'saw', 'pun', 'bad...\"'], ['Great', 'City', 'Guide', 'happy', 'part', 'it!'], ['Stop', 'toasting', 'toast'], ['Best', 'Thanksgiving', 'blitzed', 'meal', 'bad', 'loving', 'November', 'issue\"'], ['Creepy...', 'literally', 'looking', 'good', 'baba', 'ghanoush', 'recipe', 'morning.', \"You're\", 'head!\"'], ['serve', 'merch', 'needs,', 'Serial.', ';)\"'], ['cracked', 'up!'], ['pasta', 'always', 'good', 'idea.'], ['Beans', 'tomato', '&amp;', 'almond', 'pesto'], ['Thanks', 'inspiration.'], ['Good', 'stuff!!', 'OK,', 'one', 'question...If', 'eat', 'vacation,', 'really', 'chill,', 'right?!\"'], ['humour', '...', 'The', 'Combover', 'Cocktail.', 'Inspired', 'Donald', 'Trump.'], ['husband', 'told', 'think', 'love', 'hummus', 'me.', 'feel', 'strangely', 'fine', 'this.\"'], ['Our', 'favorite', 'part', 'Claire', 'making', 'Sour', 'Patch', 'Kids', 'Cosmo', \"Music's\", 'guest', 'appearance.'], ['Everything', 'need', 'know', 'brewing', 'perfect', 'cup', 'tea'], ['Live', 'like', 'every', 'day', 'last.'], ['made', 'something', 'similar', 'kid', 'week!', 'They', 'loved', '&amp;it', 'fun.\"'], ['This', 'delicious.', 'Thanks', 'One-Skillet', 'Roasted', 'Sesame', 'Chicken', 'Thighs', 'Recipe'], ['Bone', 'Apple', 'Tea.'], ['hello', 'heartthrob'], ['The', 'latest', 'issue', 'absolute', 'Maybe', 'favorite', 'issue', 'yet.', 'buy', 'it.\"'], ['got', 'attend', '99th', 'birthday', 'party', 'Cecilia', 'Chiang,', 'pioneer', 'modern', 'Chinese', 'restaurant.'], ['Gallery-worthy', 'sweet', \"baker's\", 'medium.'], ['You', 'guys,', 'matching', 'red', 'carpet', 'dress', 'recipe', 'well,', 'plain', 'fun.\"'], ['brings', 'back', 'memory', 'aunt', 'anna', 'bringing', 'adobo', 'cookout', '&amp;', 'making', 'chicken', 'breast', 'adobo', 'me.', 'food=luv\"'], ['They', \"ain't\", 'pretty,', 'sure', 'tasty!', 'Zucchini-Herb', 'Fritters', 'Garlic', 'Yogurt'], ['guest', 'star', 'one', 'video', 'Claire', 'make', 'random', 'junk', 'food\"'], ['Emeril', 'Lagasse', 'pranking', 'Conde', 'Nast', 'pretty', 'funny.', 'Particularly', 'Glamour', 'via'], ['exited', 'blueberry', 'pecan', 'galette', 'cover', 'Might', 'little'], ['cannot', 'write', 'enough', 'egg', 'pun', 'describe', 'much', 'trick', 'changed', 'life.'], ['recipe', 'slaw,', 'a.k.a.', 'beautiful', 'mayonnaise', 'salad'], ['FEW', 'MONTHS', 'INTO', 'SUBSCRIPTION', '&amp;', 'JUST', 'STARTED', 'BROWSING', 'THE', 'CITY', 'GUIDES.', 'THE', 'SAN'], ['The', 'video', 'crew', 'killing', 'it!', 'And', 'Brad', 'pretty', 'cool', 'too,', 'guess.'], [\"Can't\", 'say', 'enough', 'good', 'thing', 'print', '&amp;', 'digital', 'experience.', 'really', 'enjoy', 'time', \"I'm\"], ['Thanks', 'watch', 'award', 'show', 'always', 'watch', 'twitter', 'feed', 'award', 'night!'], ['Made', '2yrs', 'ago', 'cover', 'recipe)', 'and,', '40+', 'yr', 'kitchen,', 'changed', 'turkey', 'game'], ['Thanks', 'sriracha', 'shrimp', 'dish', 'About', '300th', 'time', \"I've\", 'made', 'it.'], ['Thx', 'smoked', 'leg', 'made', 'braised', 'via'], ['wrote', 'extravagant', 'toy', 'kitchen', 'toddler', 'oppressor'], ['No.', 'Missouri!'], ['Foodcast', 'favorite', 'thing', \"I've\", 'listened', 'today'], ['Proud', 'first', 'piece', 'mention', 'maple', 'doughnuts,', \"world's\", 'perfect', 'food!'], ['Buche', 'noel'], ['The', 'great', 'desperation', 'pie'], ['thanks', 'great', 'recipes,', 'hooked', 'mother', 'day!'], ['need', 'stop', 'listening', 'podcast', \"I'm\", 'hungry'], ['This', 'Thanksgiving,', 'thankful', 'Bon'], ['Amazing', 'salad', 'Looks', 'like', 'pretty', 'delish', 'hot', 'night'], ['Got', 'interview', 'one', 'hero', 'first', 'piece.', 'mostly', 'talked', 'pie,', 'because,', \"y'know,\"], ['This...', 'speaks', 'me.\"'], ['wrote', 'obsession', 'Bon', 'test', 'kitchen', 'video', 'undying', 'love', 'Claire', 'Saffitz', 'Brad'], ['great', 'story!', \"I've\", 'always', 'wondered'], ['Ellies', '2018:', 'nominated', 'Design', 'category'], ['Three', 'grocery', 'store', 'later,', \"I'm\", 'close', 'ready', \"I'll\", 'get', 'Food', \"Lover's\", 'Cleanse.', 'even', 'agreed', 'try', 'tofu.\"'], ['Light', 'caftan', 'summer', 'make', 'LGA', 'terminal', 'bearable', 'once.'], [\"I'm\", 'finding', 'hard'], ['The', 'red', 'sauce', 'package', 'one', 'favorite', 'Internet', 'Things', 'since', 'Fat', 'Bear', 'Week.', 'And', 'like', 'Fat', 'Bear'], ['fact', 'mostly', 'afford', 'eat', '(or', 'least', 'starters)', 'nyc', 'spot', 'best', 'saying', 'something', 'intriguing\"'], ['Broccoli', 'salad,', 'like,', 'GOOD', 'broccoli', 'salad'], ['hot', 'fudging', 'And', 'almost', 'staples\"'], ['Discovering', 'podcast', 'made', 'day.\"'], ['Jjust', 'googled:', 'squid', 'screaming', \"that's\", 'memorable', 'line', 'hot', 'pan', '&amp;', 'squid', 'reference\"'], ['Great', '&amp;', 'easy', 'recipe', 'via', 'Claire', 'Saffitz.', 'Cherry', 'cake', 'oven', '&amp;', 'delicious!', '(Used', 'fresh', 'cherries.)'], ['Congrats!', 'Such', 'well', 'deserved', 'honor.', 'Staplehouse', 'truly', 'treasure', 'special', 'place.\"'], ['What', 'waiting', '3-hour', 'braise'], ['Guess', 'got', 'subscription!'], ['okay\"'], ['Remains', \"Nana's\", 'Chocolate', 'Vinegar', 'Cake'], ['tell', 'mash', 'sweet', 'potato', 'put', 'oatmeal', 'best', 'believe', \"I'm\", 'gonna', 'listen'], ['Adding', 'grilled', 'bacon', 'to-do', 'list.', 'Thought', 'might', 'like', 'add', 'yours...'], ['FURIOUSLY', 'panicked', 'slacking', 'happening', 'friend', 'group', 'people', 'deciding'], ['trust', 'judgement!'], ['see', 'like', 'it!\"'], ['slippery', 'slope,', 'Delany.', 'Keep', 'high', 'brow'], ['american', 'chinese', 'food', 'get', 'red', 'sauce'], ['Mmmmmmmm', 'something', 'good', \"cookin'!\", 'Aaah,', 'Adam', 'Rapoport', 'stage', 'present', 'Special'], ['Starting', 'look', 'good:', 'Pastrami-style', 'Turkey', 'Breast'], ['listen', 'podcast', 'work', 'pretend', \"I'm\", 'living', 'diet', 'hell', 'attempt', 'become', 'hot\"'], ['Homemade', 'apple', 'cider', 'donut', 'even', 'better', 'farmer', 'mkt', 'ones,', 'truly!'], ['Delicious', 'peach', 'crisp...', 'Thanks'], ['Sooo', 'good.', 'Malted', 'ganache', 'possibly', 'new', 'favorite', 'thing.\"'], ['This', 'D.C.', 'restaurant', 'relies', 'almost', 'solely', 'upon', 'live', 'fire'], ['killing', 'Golden', 'Girl', 'gifs', 'today!'], ['Kids', 'trying', 'fancy', 'chocolate.', 'Nice', 'job', 'team'], ['This', 'tweet', 'gift', 'universe.'], ['made', 'last', 'night!', 'Clearly', 'plating', 'need', 'work,', 'dish', 'divine!'], ['This', 'entire', 'package', 'rad.'], ['Ha!', 'love', '70', 'throwback'], ['Highly', 'Recommend:', 'The', 'Ten', 'Bells', 'first', 'date', 'destination.'], ['Those', 'dumplings!'], ['made', 'end', 'summer', 'dinner.', 'Grilled', 'lamb', 'gyro', 'pistachio', 'sauce', 'grilled', 'flat', 'bread,', 'fantastic\"'], ['Love', 'year!'], ['Yes.', 'Just', 'yes.', 'Just', 'yes.\"'], [], ['Love', 'love', 'love', 'this.', 'Proud', 'video', 'team!'], ['HotCheddar', 'scrambled', 'egg', 'Thank', 'you,', 'egg', 'ARE', 'best'], ['Pork', 'scaloppine', 'fennel', 'salsa', 'verde!', 'favorite', 'new', 'dinner', 'recipe'], ['Dear', 'Bon', 'Appetit', 'social', 'medium', 'manager:', 'You', 'amazing', 'job.\"'], ['THIS', 'THE', 'BEST', 'ARTICLE', 'HAVE', 'EVER', 'READ!', 'laughed,', 'felt', 'seen,', 'might', 'spend', 'damn', 'day', 'organizing'], ['Thomas', 'said\"'], ['download', 'free', 'channel', 'Apple', 'TV,', 'Roku,', 'Amazon', 'Fire', 'TV,', 'AndroidTV!'], ['Much', 'needed', 'peace', 'quiet,', 'coffee,', 'candy', 'corn', 'bad', 'afternoon.', 'Now'], ['write', 'lot', 'essays,', 'wrote', 'one', 'current', 'issue', 'Thanksgiving,'], ['swear,', 'like', 'Twitter', 'account', 'version', 'person', 'would', 'best', 'friend', 'real', 'life.\"'], ['This', 'wonderful', 'want', 'massive', 'eggplant', 'parm', 'glass', 'house', 'wine', 'via'], ['Look', \"who's\", 'list', 'best', 'restos', 'year!!', 'BIGGEST', 'CONGRATS', 'Oxford,', 'MS.'], ['way', 'buy', 'every', 'product', 'new', 'merch', 'line'], ['Thanks', 'never', 'call', 'scallion', '(or', 'green', 'onions)', 'again.'], ['Made', 'oyster', 'mignonette', 'finger', 'limes.', 'Fought', 'grandpa', 'every', 'shell.'], ['gotta', 'stop', 'reading', \"there's\", 'food', 'house', 'money', 'bank.\"'], ['Whoever', 'run', 'twitter', 'account', 'favorite', 'person.', 'Thank', 'service.\"'], ['new', 'must-visit', 'reading', 'Best', 'New', 'Restaurant', 'issue'], ['Best', 'place', 'read', 'travel', 'issue.', '(Love', 'one,'], ['spoke', 'Yvonne', 'Orji', '(aka', 'Molly', 'Insecure)', 'breakfast', 'prayer.'], ['Just', 'spent', 'solid', 'minute', 'watching', 'video', 'loop.', 'regrets.\"'], ['winning', 'right', 'clever', 'tweet'], ['ate', 'ice', 'cream', 'cone', 'process', 'writing', 're-emergence', 'egg', 'waffle'], ['Thanks', 'freaking', 'amazing', 'staff', 'letting', 'cook', 'salsas!', 'spicy!'], ['love', 'account.', 'Definitely', 'one', 'favs.\"'], ['wish', 'Fillmore', 'light', 'heartbreaking', 'history', 'uncertain', 'future?', 'For', 'place', 'put'], [\"I'm\", 'long', 'time', 'subscriber', 'could', 'subscribe', 'would,', \"that's\", 'much', 'love', 'publication!!'], ['Digging', 'podcasts\"'], [\"It's\", 'pretty', 'much', 'best', 'cake', 'world.'], ['BCC', '2015:', 'Sour', 'Cherry', 'Pie', 'finalist', 'Best', 'Cover', 'Awards', 'Most', 'Delicious', 'category'], ['BEYOND', 'STOKED', 'CELEBRATE', 'OUR', 'THE', 'MISSION', 'CHINESE', 'FOOD', 'COOKBOOK', 'WITH', '!!!'], ['Bags', 'packed,', 'tummy', 'rumbling...this', 'list', 'take', 'care', 'foreseeable', 'holiday'], ['Hey', 'hey', 'lunch', 'twitter:', 'Had', 'leftover', 'lunchbox', 'today', 'grilled', 'chicken', '&amp;', 'deeeelish.'], ['DID', 'YOU', 'PUT', 'PEAS'], ['Your', 'twitter', 'truly', 'delight', 'thank', 'improving', 'feed', 'regs\"'], ['exploring', 'open', 'idea', 'even', 'dont', 'seem', 'right', 'first'], ['This', 'VERY', 'beautiful'], ['blast', 'showing', 'around', 'city.', 'They', 'fell', 'love', '(no', 'surprise).'], [], ['Billy', 'Joel', 't-shirt', 'way', 'Bell', 'House', 'take', 'podcast.', 'Red', 'Sauce', 'Ever\"'], ['Thanks', 'great', 'interview'], ['little', '&amp;', 'fabulous', 'egg', 'inspired', 'Starting', 'day', 'casual', 'way', '&amp;', 'loving', 'it.'], ['made', 'delicious', 'tahini', 'shortbread', 'cookies,', 'absolutely', 'delightful!'], ['You', 'guy', 'cutest', 'right'], [], [\"I'm\", 'excited', 'share', 'cousin', 'restaurant,', 'Tailor', 'Nashville,', 'listed', 'one'], ['think', 'churros', 'least', 'twice', 'day'], ['This', 'day', 'last', 'year', 'made', 'buche', 'noel,', 'proud!'], ['Roast', 'cauliflower', '(slightly', 'over-roasted)', 'pepitas,', 'lime', 'cilantro.', 'Great', 'recipe'], ['love'], ['Hey', 'guys!', 'Want', 'make', 'ice', 'cream', 'ice', 'cream', 'machine?', 'Check', 'great', 'article'], ['Love', 'scrolling', 'brilliant', 'RED', 'SAUCE', 'AMERICA', 'package', 'colleague', 'put', 'together.', 'Awesome'], ['feed', 'NY.', 'But', 'fun', 'interview', 'food'], [\"It's\", 'Monday.', 'Put', 'favorite', 'undies,', 'eat', 'healthy', 'breakfast,', \"yo'\", 'thang'], ['After', 'much', 'reading,', 'think', \"I've\", 'perfected', 'soft-scrambled', 'egg.'], ['That', 'hello!', 'Oh,', 'hello,', 'beautiful', 'thing'], ['Stoked', 'see', 'Best', 'New', 'Restaurants', 'list'], ['week', 'ago,', 'caught', 'act', 'stealing', 'beach', 'reading'], ['Unlike', 'still', 'offering', 'noods'], ['Elske,', 'Giant', 'named', 'two', 'best', 'new', 'restaurant', 'country', 'magazine.'], [\"I'm\", 'legit', 'emotional', 'this:', 'first', 'ever', 'story', 'interviewed'], ['Ellies', '2019:', 'nominated', 'Design', 'Photography,', 'Service', 'Lifestyle', 'category'], ['Me:', 'like', 'podcast', 'PODCASTS', 'ARE', 'FAVORITE.'], [\"Don't\", 'throw', 'wilted', 'lettuce!', 'And', 'compost', 'it,', 'either!!!'], ['cheap', 'everywhere,', 'might', 'well', 'learn', 'love', 'it.'], ['going', 'newest', 'excited!'], ['Thank', 'you,', 'cereal', 'video', 'know', 'needed.'], ['What', 'get', 'morning', 'commute:', 'podcasts.'], ['Epic', 'inspired', 'quinoa,', 'roast', 'miso', 'acorn', 'squash,', 'soy', 'marinated', 'shiitake,', 'cabbage,', 'rice', 'vinegar,', 'sesame', 'seed'], ['made', 'recipe', 'yet', 'rent', 'week', 'special\"'], ['Thanks', 'suggestion'], ['Going', 'miss', 'all\"'], ['trying', 'figure', 'using', 'lyric', 'posts...', 'like', 'it.'], ['Drink', 'laying', 'face', 'down.\"'], ['Hey'], [\"Don't\", 'usually', 'geek', 'stuff', 'eating', 'tonight', 'best', 'restaurant', '2016'], ['hello', 'everyone', 'valentine', 'day', 'story', 'sourdough', 'starter', 'made', 'cry', 'anyway', 'everyone'], ['Totally', 'made', 'breve', 'cortado', 'chocolate', 'bitter', 'it.', 'Thanks', 'idea,'], ['Well,', 'decided.', \"I'm\", 'hosting', 'Friendsgiving', 'year.'], ['foodie-friendly', 'Awards', 'Red', 'Carpet', 'coverage', 'exactly', 'kind', 'content', \"we're\", 'looking', 'for.\"'], ['Leave', 'raisin', 'carrot-beet', 'slaw'], [\"2016's\", 'no.', 'best', 'new', 'restaurant', 'make', 'crave', 'Filipino', 'food', 'like', 'never'], ['The', 'grilled', 'caprese', 'sandwich', 'new', 'look', 'amazeballs!', 'That', 'moving', 'towards', 'top', 'list.\"'], ['love', 'like', 'rest', 'us!'], ['When', 'quote', 'Matchbox', 'lyric', 'know', 'found', 'love'], ['Are', 'reading', 'You', 'should.', 'They', 'great', 'article', 'titles.'], ['cool,', 'guys.', 'cooked', 'romantic', 'dinner', 'date'], ['Made', 'time', 'chocolate', 'chip', '(no', 'raspberries),', 'plus', 'streusel', 'top.', 'Coworkers', 'loved', 'it!\"'], ['What', 'honor.', 'Nonesuch', 'officially', 'Best', 'New', 'Restaurant!'], ['Avocado', 'toast', 'one', 'many', 'love'], [\"I've\", 'never', 'succumbed', 'quickly', 'Tweet.', \"I'm\", 'cassoulet.', 'Thank', 'arousing', 'crispy', 'bit', 'love.\"'], ['Happiness', 'new', 'arrives'], ['Defending', 'felt', 'like', 'controversial', 'stance', 'willing', 'take', \"I'm\", 'glad', 'did.'], ['need', 'stop', 'looking', 'recipe', 'making', 'stomach', 'growl', 'loud', 'coworkers', 'staring', 'lol'], ['Love', 'year!'], ['Everyone', 'freaking', 'saying', 'best', 'pizza', 'America'], ['Why', 'rib', 'Chinese', 'restaurant', 'always', 'red?'], [\"NPR's\", 'explains', 'social', 'science', 'behind', 'food', 'aisle', 'store', 'like', 'via'], ['made', 'Caramelized', 'Garlic', 'Spinach', 'Cheddar', 'Tart', 'Coming'], ['Super', 'stoked', 'check', 'tomorrow', 'night', 'winner', '2015', 'award\"'], ['feel', 'like', 'really', 'get'], ['Hey', 'made', 'crispy', 'peppercorn', 'wing', 'ate'], ['Ever', 'since', 'taught', 'cured', 'egg', 'yolk', \"I've\", 'putting'], [\"I'd\", 'taken.', 'Adore', 'beluga', 'lentil', 'especially', 'remind', 'love.\"'], ['name', 'Chicago', 'Restaurant', 'City', 'Year!', \"Here's\", 'best', 'new', 'restaurant', 'city'], ['Well', 'played'], ['Pumpkin-Caramel', 'Tart', 'HUGE', 'hit', 'tonight'], [], ['Flat-Leaf', 'said', 'Curly.', 'embarrassing'], ['honor', 'side'], ['This', 'headline.'], ['Got', 'inspired', 'make', 'savory', 'dutch', 'baby!'], ['Made', 'pork', 'chop', 'using', 'pithy', 'guide', 'They', 'A+.', 'friend', 'say', 'need', 'Tweet', 'this.'], ['Hey', 'look,', 'The', 'columnist', 'dropped', 'talk', 'latest', 'podcast'], ['Super', 'obsessed', 'podcast.', 'SUPER', 'loved', '&amp;', 'interview', 'recent', 'show.', 'Keep', \"'em\", 'coming,', 'BA!\"'], ['yes\"'], ['This', 'appreciation', 'post.', \"I've\", 'binging', 'every', 'single', 'damn', 'person'], ['Free', 'food', 'exchange', \"'gram\", 'two:', \"It's\", 'new', 'name', 'game'], ['STOP', 'PUTTIN', 'DEM', 'NASTY', 'THOUGHTS', 'HEAD,', 'BUONO', 'APPETITO!\"'], ['Aaaand', \"they're\", 'Thanks', 'recipe!'], ['walk', 'off,', 'BA,', 'walk', 'off\"'], ['really', 'like', 'you.', 'Even', 'saw', 'tweet.', ';)\"'], ['nice', 'Lion', 'King', 'reference', 'there.\"'], ['whoever', 'run', 'pure'], ['Keep', 'video', 'away', 'SP.', 'want', 'time.\"'], ['This', 'everything!!', '100', 'points.\"'], ['Just', 'signed', 'magazine,', \"I've\", 'never', 'excited', 'get', 'magazine!!'], ['Please', 'give', 'raise', 'whoever', 'run', 'social', 'medium', 'accounts.'], ['also', 'expected', 'bring', 'biscuit', 'eat', 'ALL', 'them\"'], ['thanks'], ['love', 'latest', 'cover.'], ['Thank', 'amazing', 'recipe!', 'Slow', 'roasted', 'pics,', 'delicious,', 'super'], ['comfort', 'food', 'recipe', 'bone', 'chilling', 'degree', 'partly', 'cloudy', 'California?\"'], ['Thanks', 'delicious', 'enjoyed', 'Squid', '&amp;', 'Fennel', 'Pasta', 'Lemon', '&amp;', 'Herbs!'], ['remember', 'first', 'time', 'went', 'Buca', 'Beppo', 'Milwaukee,', 'kid', 'thought', 'MAGICAL'], ['made', 'punch', 'make', 'NYE,'], ['For', 'Best', 'Chef:', 'Mid-Atlantic,', 'Jeremiah', 'Langhorne', 'The', 'Dabney', 'Washington,', 'D.C.'], ['inspiration', 'conversation', 'yield', 'new', 'dish', 'EQP\"'], ['Please', 'take', 'note', 'fans,', 'rejected', 'LaCroix', 'flavor'], ['Ooo', 'fancy', 'new', 'CITY', 'GUIDES.', 'Congrats', 'whole', 'team:'], ['GUYS', \"I'M\", 'EXCITED', 'PRESENT', 'THIS', 'HUMONGOUS', 'PACKAGE', \"I'VE\", 'BEEN', 'WORKING', 'FOR', 'MANY', 'MONTHS!', \"It's\"], ['Way', 'completely', 'make', 'day'], ['podcast', 'needed', 'rainy', 'thursday'], ['actually', 'responded', 'cooking', 'thread.', 'day', 'made.'], ['girlfriend', 'subscribing', 'best', 'thing', \"that's\", 'ever', 'happened', 'me.'], ['When', \"can't\", 'decide', 'kind', 'cookie'], ['CHRISTINA', '*AND*', 'CLAIRE'], ['love', 'picture', 'much,', 'kicked', 'boyfriend', 'iPhone', 'home', 'screen.', 'Srry'], ['Rookie', 'mistake...', 'NOT,', 'repeat,', 'NOT', 'browse', 'Instagram', 'handle', 'tiniest', 'bit', 'hungry.'], ['Where', 'find', 'legit-awesome', 'Eritrean,', 'Filipino,', 'Laotian', 'food', 'D.C.'], ['Ellies', '2016:', 'nominated', 'Magazine', 'Section'], ['Flour', 'Milling', 'via', 'healthier', 'food', 'you,', 'better'], ['finally\"'], ['The', 'manager', 'chuckles\"'], ['Behold', 'ssam', 'dog,', 'via', 'Yeah', 'these.'], ['think', 'food', \"lovers'\", 'cleanse', 'made', 'addicted', 'afternoon', 'snacks.\"'], ['This', 'dish', 'awesome.', 'bad', '&amp;', 'used', 'instant', 'polenta,', 'still', 'incredible.', 'great', 'crowd', 'pleaser'], ['girlfriend!', 'wonderful', 'girlfriend!', 'Yes,', 'girlfriend', 'life', 'LOVE', 'Avenue'], ['love', 'everything', 'tweet', 'ESPECIALLY'], ['Guys,', 'bone', 'apple', 'tea', 'favorite', 'magazine.'], ['podcast', 'pasta.', 'totally', 'agree', 'factor', 'angel', 'hair'], ['Very', 'cool', 'see', 'Little', \"Jack's\", 'Tavern,', 'Bar', 'Normandy', 'Best', 'New', 'Restaurants', 'list.'], ['Congrats', 'named', 'one', 'New', 'Restaurants'], [], ['No.', 'Get', 'load', 'members-only'], ['Roses', 'red,', 'violet', 'blue'], ['1st', 'course', 'NYE:', 'squash', 'crostini'], ['This', 'important', 'life', 'thing', 'think', 'need', 'read', 'now,'], ['TBH', 'social', 'make', 'best', 'food', 'pun'], ['All', 'recipe', 'Hot', 'Best', 'New', 'Restaurants', '2016:'], ['Insomnia', 'mean', 'watching', 'many', 'vids', 'possible', '3:30AM\"'], ['get', 'tower', 'aspirin', 'please?\"'], ['Just', 'really', 'excited', 'weekend'], ['*Leaves', 'riiiight', 'here*'], ['Think', 'love', 'even', 'entire', 'piece', 'sheet', 'pan'], ['Only', 'cage', 'free\"'], ['Best', 'minute', 'foodcast', 'ever', 'recorded.', 'These', 'like', 'rehearsed', 'comedy', 'duo.', 'died.\"'], ['The', 'email', 'open'], ['Fish', 'stick', 'adult', 'too,', 'know'], ['CHURROS', 'FOR', 'DINNER!', 'Also,', 'guide', 'fantastic.', \"It's\", 'first', 'time', 'visiting'], ['Listening', 'foodcast,', 'writer,', 'need', 'talented,', 'friendly,', 'punctual.\"'], ['come', 'across', 'fresh', 'turmeric', 'try', 'Yellow', 'Pepper', 'Corn', 'Salad', 'via'], ['How', 'Julia', 'Child', 'Hours', 'PBS', 'Helped', 'Mother', 'Adapt', 'Her', 'New', 'American', 'Life'], ['interest,'], ['tried', 'hand', 'hassleback', 'butternut', 'squash!', 'Does', 'Carla', 'approve?'], ['listening', 'soprano', 'theme', 'song,', 'repeat,', 'making', \"Carmela's\", 'ziti\"'], ['new', 'motto', 'milk', 'jam', \"I'm\", 'milk', 'jam', 'cooky'], ['Looks', 'magical,', 'rub', 'gravy.'], ['Kale', 'radish', 'rose', 'garnish....Hello', '70\\'s!\"'], ['Love', 'Thank', 'you.'], [\"We're\", 'honored', 'nominated', \"America's\", 'Best', 'New', 'Restaurants'], ['Seriously', 'editorial', 'biz', 'asst', 'Josh', 'KILLING', 'IT.', 'Another', 'hilarious', 'article', 'another', 'day', 'made'], [\"I'm\", 'happy', 'totally', 'deserve', 'also', 'AHH', 'NOW'], ['This', 'chicken', 'parm', 'look', \"I'm\", 'seriously', 'gonna', 'try', 'weekend!', 'love', 'good', 'chicken', 'parm', 'recipe!', '~JMK\"'], ['Made', 'last', 'weekend.', 'Were', 'light,', 'tasty', 'divine!', 'What', 'treat!', 'Thanks', 'another', 'winning', 'recipe!'], [\"You'll\", 'want', 'save', 'list', 'place', 'staffer', 'love', 'eat', 'NYC,', 'forever', 'ever'], ['This', 'bejeweled', 'rice', 'pretty,', 'also', 'tasty', 'flavorful', 'Thanks'], ['consulted', 'January', 'story', '(link', 'profile)', 'inspiration', 'putting'], [], ['You', 'best', 'bet', \"I'm\", 'going', 'watch', 'minute', 'Claire', 'making', 'gourmet', 'Doritos'], ['When', 'crush', \"can't\", 'hate.', 'Game', 'recognizes', 'game,', 'etc.'], [\"IT'S\", 'OFFICIAL:', 'named', \"AVL's\", 'one', 'Best', 'New', 'Restaurants', '2016!', 'Congratulations!'], ['And', 'wrote', 'local', 'Dallas', 'haunt', 'server', 'order'], ['Call', 'old', 'fashioned-', 'pull', 'recipe', 'magazine', '&amp;', 'keep', 'big', 'ring', 'binder.', 'Call'], ['These', 'best', 'new', 'restaurant', 'America'], ['Literally', 'spent', 'hour', 'watching', 'many', 'thanksgiving', 'videos.', 'hungry', 'inspired.\"'], ['TIME', 'GET', 'HUNGRY:', 'present', 'best', 'new', 'restaurant', '2016'], ['new', 'obsession!', 'Blackout', 'chocolate', 'banana', 'bread.', 'Thank', 'introduction!'], ['Great', 'list!!', 'Thank', 'you,'], ['beet', 'potato', 'horseradish,', 'Love', 'dill,', 'color!'], ['ALL', 'THE', 'MEATS'], ['*Licks', 'finger', 'hold', 'wind*', 'Yep,', 'grated', 'cheese', 'still', 'make', 'everything', 'better'], ['Christmas', 'pho', 'happening', 'here.', 'Mmmm.', 'Thanks', '&amp;'], [], ['Perhaps', 'time', 'ever', 'see', 'grouped', '&amp;', 'Thanks'], ['*this', 'dream', 'made', 'hillary', 'duff', 'play', 'distance*'], ['Made', 'salted', 'caramel', 'budinos', 'first', 'time', 'using', 'recipe', 'decadent', 'delicious.'], ['Middle,', 'maiden', 'confirmation', 'name?\"'], ['Hello,', 'demanding', 'sequel', 'Pot', 'Foodcast', 'episode', 'PER'], ['restaurant', 'land', 'Best', 'New', 'Restaurant', 'list'], ['Fun', 'cooking', 'solar', 'cookstove', 'solar', 'eclipse!!!'], ['story', 'weekend', 'Asheville,', 'damn', 'delight'], ['True', 'story', 'read', 'article', 'tried', 'worked!!', 'rock!'], ['Got', 'email', 'thought', 'said', 'marinate', '&amp;', 'almost', 'immediately', 'unsubscribed.', 'But', 'ok.', \"can't\", 'read.\"'], ['Thanks', 'solving', 'kitchen', 'woes.', 'Goodbye', 'buttermilk', 'ever', 'use', 'once,', 'real.'], [\"Let's\", 'hear', 'dorks!', 'Cheers'], ['Love', 'kimchi', 'illustration', 'Thanx', 'chronicling', 'transition'], ['When', 'dip,', 'dip,', 'dip'], ['korean', 'adoptee', 'raised', 'white', 'parents,', 'always', 'struggled', 'connect', 'culture.', 'food'], ['Every', 'week,', 'look', 'forward', 'listening', 'This', 'week,', 'joined', 'talk', 'food'], ['Anyone', 'else', 'want', 'skip', 'lunch', 'right', 'dessert', 'today?', 'Thanks', 'idea'], [\"I'm\", 'in.', \"Let's\", 'this.\"'], ['tasting', 'make-ahead', 'gravy', 'liiiiike'], [\"They'll\", 'never', 'know', 'stuffed', 'pop', 'full', 'fruit', 'veg'], ['So,', 'kinda', 'like', 'around', 'Ashlee', 'Test', 'Kitchen', 'Marketing', 'Manager', 'Molly', 'showed'], ['Cape', 'Cod', 'vacation', '&amp;', 'The', 'Grilling', 'Issue,', 'perfect', 'together!'], ['sound', 'TERRIBLE\"'], ['Soup', \"kid's\", 'afraid', 'leave', 'stoop'], ['Congrats', 'restaurant', 'US!', 'Very', 'moving', 'story...'], ['fall', 'recipe', \"we're\", 'kinda', 'sorta', 'looking', 'forward', 'cooking'], ['grateful', 'work', 'awesome', 'team', 'launch', 'snazzy', 'new', 'template.', '(and', 'too!)'], ['Wednesday', 'seemed', 'like', 'reason', 'enough', 'make', 'fancy', 'breakfast!', 'Blueberry', 'clafoutis', 'win', '(thank'], ['could', 'listen', 'Ina', 'afternoon'], ['And', 'much', 'love', 'somehow', 'convincing', \"Richard's\", 'Bar', 'let', 'shoot', 'there:'], ['Who', 'podcast', 'taping', 'go', 'directly', 'crown', 'fried', 'chicken?', 'guy.'], ['made', 'last', 'night...', 'Odd', 'much', 'extra', 'goat', 'cheese', 'appeared', 'mine...'], ['This', 'piece', 'throwing', 'dinner', 'party', 'peep', 'everything!', \"Ballin'\", 'budget,'], ['Your', 'June', 'issue', 'awesome.', \"I'm\", 'kind', 'fired', 'get', 'recipes!\"'], ['begin', 'Saber', 'Off.', \"We're\"], ['gown', 'recipe', 'pairing', 'Tweets', 'tonight', 'viewing'], ['following', 'hilarious', 'outfits-as-recipes', 'tweets,', 'missing'], ['long', 'time', 'ago!', 'need', 'peel', 'beets,', 'carrot', 'anything', 'else.\"'], ['hey', 'thank', 'you!'], ['You', 'ask?\"'], ['Spatchcocked', 'Turkey', 'Anise'], ['Chef', 'plating', 'kitchen'], ['lol', '&lt;3', 'title\"'], ['Well-done,'], ['Manspreading', 'problem.', 'Man', 'spread', 'delicious?'], ['Can', 'please', 'marry', 'person', 'run'], ['excited', 'make', 'BEST', 'NEW', 'restaurant', 'list:'], ['worked', 'amazing', 'digital', 'journalist', 'year', 'Mashable.', 'You', 'know', 'are.', 'Thanks', 'making', 'gas.\"'], ['All', 'watch', 'day', 'long', \"can't\", 'stop\"'], ['Sorry', 'cursing'], [], ['This', 'sooo', 'happening', 'next', 'week!', '--&gt;', 'Seeded', 'Whole', 'Grain', 'Soda', 'Bread', 'via'], [], ['Can', 'attest', 'level', 'here.'], ['This', 'kind', 'home', 'cooking', 'mise', 'place', 'major', 'healthy', 'eating:'], ['Facebook', 'Live', 'video', 'Test', 'Kitchen', 'get', 'every', 'time.'], ['duck', 'breast', 'blood', 'orange', 'sauce', 'parmesan', 'risotto', 'glazed', 'rainbow'], ['Ready', 'Lunch', 'Like', 'Spaniard', 'man'], ['last', \"year's\", \"Can't\", 'wait', 'see', 'friend', 'fellow', 'chef', 'year!'], ['monthly', 'recipe', 'testing', 'gathering', 'would', 'wonderful', 'thing.\"'], ['use', 'confit', 'recipe', 'published', 'LOVE', 'it\"'], ['knew', 'food', 'scene', 'come', 'long', 'way', 'last', 'decade.', 'But', 'best', 'new', 'restaurant'], ['Dancing', 'news', 'one'], ['Bahahah', 'best.', 'Caption.', 'Ever.\"'], ['This', 'soda', 'shop', 'one', 'goal:', 'Make', 'sure', 'customer', 'walk', 'away', 'happier', 'walked'], ['Now', 'Samin', 'spread', 'share', 'favorite', 'outtakes...'], ['yes', 'le', 'waste.', 'Good', 'kitchen', 'responsible', 'kitchens.', 'Also', 'making', 'point', 'year', 'eat', 'outside', 'comfort', 'zone\"'], ['Props', 'changing', 'Twitter', 'name'], ['Meet', '400+', 'black', 'culinary', 'innovator', 'recognize', 'Making', \"Nation's\"], ['This', 'weekend', 'Paris,', 'restaurant', 'join', 'table', 'literally', 'bring', 'diner', 'closer', 'together.'], ['Donald', 'Trump:', 'great', 'restaurant'], ['made', 'brown', 'butter', 'toffee', 'chocolate', 'chip', 'cooky', 'best', 'ever'], ['These', 'best', 'new', 'restaurant', 'country'], ['All', 'episode', 'season', 'one', 'Alive:', \"Goin'\", 'streaming', 'free', 'TV.', 'How', 'watch:', 'Visit'], ['cooked', 'fresh', 'cranberry', 'stove', 'honey', 'morning', 'oatmeal!', 'Delish\"'], ['Introducing', 'Hot', '10:', 'Best', 'New', 'Restaurants', '2018.'], ['quoting', 'quite', 'mashup.'], ['Our', 'latest', 'summer', 'food', 'destination', 'ideal', 'itinerary:'], ['problem', 'ideas,', 'deciding', 'all!', 'doh,', 'made', 'worse!\"'], ['Ricotta', 'berry', 'cake', 'happening.', 'Thank'], ['want', 'part', 'whatever', 'is.\"'], ['You', 'got', 'dat', 'right!\"'], ['listed', 'one', 'top', 'favorite', 'butcher', 'shop', 'country!'], ['Dearest', 'get', 'me.', 'Thanks.'], ['&amp;', 'hi,', \"I'm\", 'talking', 'strawberry', '(hint:', 'buy', 'season!!!):'], ['Copywriting', 'envious'], ['best', 'way', 'spend', 'lunch', 'break', 'work', 'catch', 'FAVORITE', 'podcast...', 'foodcast'], ['New', 'Foodcast', 'here!', 'This', 'week', \"we're\", 'talking', 'The', 'Great', 'British', 'Bake', 'Off', '&amp;', 'set', 'food', 'avoid'], ['Following', 'one', 'best', 'decision', \"I've\", 'ever', 'made\"'], ['guess', \"I'm\", 'food', 'writer', 'now?', 'please', 'take', 'note.'], ['Oh!', 'This', 'million', 'recipe.'], ['via', 'gado', 'gado'], ['Alright', 'alright', 'allllriiight.', 'rescue.'], ['Whew!', 'This', 'look', 'like', 'perfect', 'defense', 'winter', 'storm', 'Jonas.'], ['Thrilled', 'see', 'wonderful', 'novel', 'list:', 'New', 'Food', 'Novels', 'Read'], ['think', \"I'm\", 'missing', 'joke', 'bone', 'apple', 'tea', \"I'm\", 'laughing', 'curious.\"'], ['think', 'really', 'sorry.\"'], ['obsessed', 'every', 'tweet', 'pure', 'genius,', 'including', 'one', 'insta', 'food', 'pic', 'tips!'], ['Underrated:', 'onion'], ['tried', 'last', 'year', 'first', 'time', 'cooked', 'bird', 'way', 'since', 'then!', 'What', 'great', 'technique!!\"'], ['Oh,', 'excitement', 'subscribing'], ['This', 'span', 'yesterday', 'evening', 'today:', 'all-from-scratch', 'eggplant', 'parmesan', 'lasagna', 'following', 'Oct.'], ['Hey,', \"I'm\", 'sure', 'appropriate', 'content.'], ['meme', 'today', 'one', 'absolute'], ['Magazines!', 'Support', 'them!', 'contributed', 'one', 'crew', 'made', 'issue'], ['Found', 'Red', 'Wine', 'Braised', 'Brisket', 'Not', 'taste', 'amazing,', 'house', 'smell', 'wonderful'], ['OMG'], [\"I've\", 'turned', 'person', 'take', 'photo', 'recipe', 'mag', 'hospital', 'waiting', 'room.'], ['The', 'long', 'line', 'Arsicault', 'Bakery,', 'selected', 'Bon', 'Appetit', 'best', 'new', 'bakery.', 'Limit', 'two', 'pasty', 'per', 'customer.'], ['This', 'good', 'tweet.'], ['Aries,', \"there's\", 'halloumi', 'future'], ['Love', 'original', 'voice', 'Twitter.', 'Their', 'language', 'kept', 'scrolling.', 'New', 'fave', 'account.'], ['wife', '&amp;', 'made', 'fried', 'rice', 'recipe', 'last', 'issue.', 'Thnx,', 'rock', 'esp', 'soy', 'kale'], ['This', 'good!', 'introduces', 'to,', 'know,', 'show', 'cook'], ['This', 'dip', 'Konbi,', 'Restaurant', 'The', 'Year.'], [\"I'm\", 'pretty', 'sure', 'need', 'subscription'], ['This', 'deserves', 'one', 'big,', 'beautiful', 'Italian', 'chef', 'kiss.', 'Well', 'done,'], ['Great', 'great', 'story', 'Little', 'Doms', 'restaurant', 'finding', 'home'], ['round', 'rhyme'], ['issue,', 'devoured', 'last', 'night', 'one', 'sitting.', 'Dogeared', 'almost', 'every', 'page!', 'THANK', 'YOU!\"'], ['Tried', 'ring', 'fall', 'making', 'whole-wheat', 'apple', 'crisp,', 'forgot', 'brown', 'sugar.', \"that's\", 'sign', 'know', 'is\"'], ['consistently', 'publishing', 'best', 'food', 'writing', 'yes', \"i'm\", 'red', 'sauce'], ['Yes,', \"I'm\", 'sharing', 'essay', 'twitter', 'Miss', 'Old', 'Food', 'Instagram,', 'via'], ['ZAITOUN,', 'celebration', 'Palestinian', 'people', 'rich,', 'varied', 'included'], ['son', 'walked', 'said', 'listening', 'argument', 'lettuce', 'Me.'], ['open', 'bar', 'weddings,', 'anchovy', 'make', 'everything'], ['Some', 'people', 'call', 'call'], ['Last', 'day', 'food', 'lover', 'cleanse.', 'Thank', 'joined', 'in!', 'via'], [\"I've\", 'got', 'next', 'three', 'hour', \"I'm\", 'thinking', 'let', 'catch', 'last', 'three', 'month'], ['Just', 'tuned', 'Twitter', 'Oscar', 'coverage.', 'Frankly', 'best', 'frock', 'food', 'pairings\"'], ['Goodness', 'gracious,', 'loving', 'new', 'cooking', 'site'], ['restaurant', 'land', 'Best', 'New', 'Restaurant', 'list'], ['explain', 'bit', 'anthology?', 'What', 'expect', 'really'], ['All', 'want', 'Christmas', 'subscription.', '(Hi,', 'know', 'read', 'Tweets)\"'], ['Just', 'saw', 'bacon-wrapped', 'turkey', 'Why', 'never', 'made', 'Why', 'mouth?\"'], ['Thank', 'you!!!\"'], ['Better', 'twitter', 'feed...', 'Awesome', 'podcast', 'thxgiving', 'really', 'great'], [\"where's\", 'jaw?', '(spoiler:', 'floor)\"'], ['Congrats'], ['skewer-spired', 'weekend.', 'Recreated', 'chix', 'thigh', 'skewer', 'sesame', 'lemon', 'sprinkle'], ['nice\"'], ['Saturdays', 'pancakes,', 'Sundays', 'roll'], ['The', 'real', 'story', 'closely', 'polled!\"'], ['new', 'recipe', 'format', 'embedded', 'video', '&amp;', 'sexiest', 'thing', \"I've\", 'ever', 'seen'], ['Butterscotch', 'pie', 'ready', 'take', 'home', 'title', 'Best', 'Show'], ['Yes,', 'Brad', 'noodled.', 'Watch', 'full', 'video', 'here:'], ['This', 'recipe', 'teach', '(finally)', 'cook', 'tofu'], ['When', 'put', 'Things', 'Ate', 'This', 'nerd', 'hard'], ['BEST', 'marinade', \"I've\", 'used', 'flank', 'steak.', 'Let', 'stay', 'marinade', 'overnight,', 'cook', 'medium', 'rare.', 'via'], ['Highly', 'recommend', 'week', 'accompanying', 'playlists\"'], ['live', 'captains!\"'], ['(Just', 'tried', 'new', 'one', 'list', 'yesterday', '&lt;3)', 'The', 'Best', 'Cheese', 'Trader', \"Joe's\", 'via'], ['like', 'way', 'think'], ['one', 'week', \"I'll\", 'hike.', '100%', 'inspired', 'article.', \"Can't\", 'believe', 'it.'], ['Aw,', 'thank', 'you,', 'secret', 'gift', 'subscription', 'giver', 'rather', 'happy', 'revert'], ['magazine', 'showing', 'love', 'fair', 'city', 'champions!'], ['Shoutout', 'horrifyingly', 'accurate', 'snapshot', 'life'], ['When', 'world', 'down,', 'look', 'twitter', 'feed,', '&amp;', 'little', 'faith', 'humanity.'], ['Yay', 'fall', 'foods!', 'love', 'apple', 'crisp', 'First', 'apple', 'crisp', 'season!'], ['used', 'run', 'restaurant', 'kitchen', 'began', 'every', 'day', 'making', 'sheet', 'pan', 'cornbread.....great', 'recipe', 'here,', 'great', 'memory.\"'], [\"there's\", 'amazing', 'Tres', 'Leches', 'cake', 'bakery', '&amp;', 'combo', 'seriously', 'best!\"'], ['Binging', 'Foodcast', 'super', 'interview-', \"I'm\", 'workaholic,', 'love', 'job', 'say', 'Flay.'], ['This', 'look', 'absolutely', 'delicious!!\"'], ['But', 'sometimes', 'especially', 'right.\"'], ['lot', 'love', \"America's\", 'Best', 'New', 'Restaurants', '2017', 'Bon', 'Appetit'], ['spent', 'year', 'eating', 'poutine', 'long', 'kitchen', 'shifts,', 'changing', 'way', '(via'], ['Congrats', 'favourite', 'coffee', 'place,', 'featured'], ['man,', 'understands', 'soul.', 'Stress', 'relief', 'food', 'prep.'], ['The', 'Real', 'Houswives', 'gif', 'series'], ['need', 'shake', 'hand', 'social', 'medium', 'manager,', 'thx', 'bye\"'], ['perfect', 'order', '&lt;3\"'], ['Made', 'approx', 'list', 'best', 'new', 'restaurant', 'America', 'hit', 'hunger', 'pangs:'], ['Thank', 'including', 'nominee', 'list!', 'Great', 'see', 'many', 'friends!'], ['Tusk,', 'Dame,', 'Guero', 'Afuri'], ['The', 'red-and-white-checked', 'tablecloths.', 'The', 'straw-wrapped', 'bottle', 'house', 'Chianti.', 'The', 'oh-so-comforting', 'cheese'], ['Lovely', 'pre-anniversary', 'dinner', 'suggestion.', 'Did', 'disappoint!'], [\"2016's\", 'no.', 'best', 'new', 'restaurant', 'menu', 'items,', 'employees,', 'table,', '&amp;', 'sign'], ['Whoever', 'run', 'social', 'medium', 'hero.'], ['Stealing', 'Thanksgiving', 'menu', 'turkey', 'Denver,'], ['Twitter', 'let', 'fav', 'thing', 'literally', 'fav\"'], ['Well', 'played.\"'], ['Got', 'Magazine', 'subscription', 'take', 'recipe', 'cook', 'delicious', 'meal', 'home.\"'], ['For', 'real', 'tho,', 'could', 'invite', 'could', 'get', 'bottom'], ['changed', 'name', \"i'm\", 'CRIIIIIINE'], [\"we're\", 'loving', 'snapchat', 'story', 'today!', 'You', 'guy', 'fun', 'bunch'], ['read', 'latest', 'wish', 'could', 'cook', 'like', '&amp;', 'announce', 'life', 'changed', 'forever'], ['Forgot', 'post', 'this!', 'Made', 'leek', 'bacon', 'pappardelle', 'heavenly!', 'Some'], ['Thank', 'friend', 'beautiful', 'article', 'magic'], ['Wonderful', 'storytelling', 'notice', 'quote', 'all?', 'Loved', 'story'], ['YUP'], ['big', 'home:', 'Behold', 'pound', 'tray', 'nacho', 'via'], ['Thanks', 'June', 'want', 'bake', 'blueberry', 'pie', 'weekend\"'], [\"You're\", 'simply', '(50)', 'best!'], ['thanks', 'recommendation', 'Incredible', 'food,', 'great', 'people,', 'love', 'philosophy', 'labor', '&amp;', 'community.\"'], ['good', 'one,', 'Dad\"'], ['Where', 'eat', 'recommends', 'acclaimed', '(and', 'Macao-inspired!)'], ['new', 'fave', 'veggie,', 'look', 'amazing', 'simple', 'make', 'home', 'too\"'], ['Congrats', 'Annette', 'via'], [\"Didn't\", 'nail', 'flip', 'means,', 'cromlet', 'recipe', 'good', 'infinite', 'margin'], ['That', 'time', 'developed', 'pot', 'butter', 'recipe', '...', 'work.'], ['obsessed', 'current', 'issue', 'literally', 'brought', 'bed', 'me.', 'Made', 'recipe', 'today.', 'More', 'tomorrow.\"'], ['highly', 'recommend', 'signing', 'newsletters.', 'SHOCKED', 'edgy,', 'fun,', 'well', 'written'], ['Bout', 'scramble', 'now...', \"BA's\", 'Best', 'Soft', 'Scrambled', 'Eggs', 'via'], ['pistachio'], ['Big', 'Memorial', 'Day', 'Weekend', 'baking', 'decision', 'brought', 'new', 'recipes.', 'Which', 'whip', 'up?\"'], ['Twitter', 'feed', 'literally', 'food', '&amp;', 'culture', 'annual', 'ritual', 'pairing', 'Oscar', 'dress', 'drinks,', 'dishes.\"'], ['idea', 'want', 'eat', 'lot', 'spicy', 'rice', 'vinegar.'], ['These', 'best', 'new', 'restaurant', 'country'], ['This', 'year', 'worth', 'eating', 'look', 'like.', 'Real', 'proud', 'Best'], ['Bon', 'appe-TEA', 'via'], ['Perhaps', 'heard', '&amp;', 'cassoulet', 'podcast', '&amp;', 'said,', 'WHERE', 'THE', 'EFFING', 'RECIPE?!', 'Here', 'is:'], ['love', 'guy'], [\"didn't.\", 'Guess', 'reading', 'visiting.', 'eating', 'restaurants.'], ['Tons', 'great', 'pick', 'here.', 'Deserved', 'congrats', \"Chicago's\", 'Giant,', 'Tocaya,', 'Elske', 'Smyth', 'Loyalist!'], ['Marvel:', \"'Infinity\", \"War'\", 'The', 'Most', 'Ambitious', 'Crossover', 'Event'], ['election', 'night', 'material.\"'], ['Give', '&amp;', 'show!', \"Could've\", 'listened', 'podcast', 'day', 'Love', 'passion', '&amp;', 'drawl!\"'], ['And', 'thanks', 'sharing', 'Kohlrabi', 'Caesar', 'recipe', 'Loved', 'restaurant', '&amp;', 'kohlrabi', 'fridge', ':)\"'], ['YOU', 'GUYS', 'JUST', 'GOT', 'FIRST', 'ISSUE', 'AND', 'CAN', 'ALREADY', 'FEEL', 'LIFE', 'CHANGING'], ['This', 'story', 'opera', 'singer', 'avoid', 'getting', 'cold', 'fascinating', 'useful:'], ['Guess', \"who's\", 'March', 'issue', 'Me!!!'], ['honey-bourbon', 'toddy', 'help', 'crazy', 'relative', 'down,', 'delightful', 'way'], ['Whoever', 'run', 'Twitter', 'account', 'always', 'on-point;', 'thank', 'always', 'making', 'laugh!\"'], [\"WE'VE\", 'GOT', 'MERCH.', 'After', 'year', 'coveting', 'status', 'tote', 'bag', 'custom', 'jumpsuit', 'food', 'world,'], ['Love', 'seeing', 'fish', 'taco', '&amp;', 'September', 'issue'], [], ['crispy', 'chicken', 'sarni', 'recipe', 'point'], ['Donald', 'Trump:', 'many', '[great', 'restaurants]', 'Washington,', 'believe'], ['Rainbow', 'Cookies', 'December', '2015'], ['someone', 'expecting', 'little', 'girl,', 'loved', 'reading', 'personal', 'story', 'Thanks,', 'Josh'], ['Our', 'second-favorite', 'blossoms,', 'Blossom', 'fictional', \"'90s\", 'star'], ['Private', 'T-Pain', 'concert', 'snapchat.', 'What', 'time', 'alive.\"'], ['Everything', 'know', 'good', 'town', 'restaurants,', 'learned', 'Sooo', 'excited'], ['Made', 'special', 'sauce', 'recipe', 'last', 'night', 'amazing.\"'], ['totally', 'agree.', 'Now', 'knocked', 'sense', 'me,', \"I'm\", 'throwing', 'away', 'soon', 'get', 'home.\"'], ['Well-written', 'inspiring!\"'], ['Great', 'review', '100%', 'cosign.', '(But', 'fyi,', 'bread', 'roll', 'also', 'Eritrean.)'], ['finished', 'newest', 'wish', 'reading', 'new', 'cookbook', 'drinking', 'sparkling'], ['excited', 'see', 'mini', 'mention', 'article!', 'Our', 'absolute', 'favorite', 'mag,', 'dream!'], ['Woah', 'car', 'dealership', 'July', '1986', 'issue', 'reading', 'enjoyment!', 'That', 'fabulous.'], ['longtime', 'subscriber', \"I'm\", 'honored', 'list!'], ['made', 'today', 'good.\"'], ['hey', 'look,', 'let', 'write', 'taking', 'woman', 'Olive', 'Garden', 'making', 'world', 'worst', 'pun'], ['Leftover', 'celery,', 'inevitable', 'showing', 'late', 'Monday', 'morning', 'meeting'], ['Who', 'charge', 'Twitter?!', 'want', 'hug', 'them.\"'], ['know', 'twitter', 'feed,', 'clever.', 'Good', 'cook', 'funny', 'too!'], ['came,', 'saw,', 'freaking', 'made', 'bread.', 'There', 'might', 'olive', 'oil', 'flour'], ['Bravo', \"Philly's\", 'Palizzi', 'Social', 'Club', 'taking', 'spot', 'list!'], ['single', 'best', 'piece', 'journalism', \"I've\", 'seen', 'long', 'time.\"'], ['Sold', 'out.', 'Too', 'crazy.', 'Thank', 'you.'], ['Thoroughly', 'enjoying', 'starlets-as-confections', 'feed.', 'Reminds', 'fantastic', 'book'], ['The', 'list', 'best,', 'best-of', 'list', \"i've\", 'seen!', 'All', 'spot', 'there,', \"i've\", 'never'], ['NEW', 'PODCAST', 'UP.', 'time', 'talk', 'Andrew', 'Knowlton', 'Chef', 'Aaron', 'Bludorn'], ['Thanks', 'weeknight', 'meal', 'idea', 'needed', 'long', 'holiday', 'weekend.'], ['Your', 'poke', 'bowl', 'recipe', 'AMAZING!', 'Just', 'made', 'day,', 'loved', 'every', 'bite', 'it.\"'], ['Omg', 'new', '2nd', 'favorite', 'show!!!', 'Gourmet', 'Makes,', 'course.'], ['When', 'finally', 'notice', 'changed', 'name', 'bone', 'apple', 'tea'], ['What', 'missed:', 'could', 'buy', '2,283,333,333.33', 'asparagus', 'waters!'], ['Thanks', 'idea', 'pot', 'gochugang,', 'purchased', 'one', 'recipe', 'left', 'languishing\"'], ['Reading'], ['thrilled', 'crew', 'named', \"America's\", 'best', 'new', 'restaurant.', 'Well', 'deserved.'], ['Made', 'Ultimate', 'Veggie', 'Burgers', '&amp;', 'watching', 'League', 'Their', 'Own', '&amp;', 'gonna', 'eat', 'pie,', 'too,', 'eff', 'yah', 'America'], ['srsly', 'get', 'me\"'], ['yea!', 'Had', 'rib', 'morning'], ['HUGE', 'hit', 'last', 'year!'], [\"I'm\", 'going', 'get', 'big', 'wife', 'regarding', 'historical', 'Fruit', 'Foot', 'purchases.\"'], [\"You're\", 'gonna', 'want', 'get'], ['This', 'dream', 'job.', 'This', \"'Pie\", \"Consultant'\", 'Has', 'Best', 'Job', 'Ever', 'via'], ['Thanks', 'sharing', 'common', 'sense', 'food', 'science', 'alongside', 'great', 'recipes,', 'cheers!\"'], ['Made', 'tonight', 'George', 'Dickel', 'whiskey.', 'die', 'for.'], ['Waiting', 'folk', 'realize', 'someone', 'changed', 'screen', 'name', 'apple'], [\"I've\", 'got', 'new', 'column', \"that's\", 'upcoming', 'book,', 'Indian-ish.', \"I'll\", 'previewing'], ['recently', 'stumbled', 'upon', 'podcast.', \"It's\", 'totally', 'giving', 'life!\"'], ['even', 'dramatic,', 'best', 'thing', 'ever', 'watched'], ['good', 'tip', 'dust', 'cake', 'pan', 'flour', 'sugar.', 'nice', 'crunch..no', 'sog.\"'], ['Homemade', 'chicken', 'parm', 'tonight.', 'Thanks', 'recipe.', 'Toughest', 'critic', '(aka', 'sonny', 'boy)', 'loved', 'it!'], ['Just', 'got', 'around', 'listening', 'podcast', 'must', 'listen'], ['wow', 'really', 'like', 'this.', 'clean!', 'The', 'URL', 'change', 'flawless', '&amp;', 'appreciate', 'clicking', 'gallery', 'pics\"'], ['When', 'release', 'Thanksgiving', 'issue'], ['Another', 'round', 'congratulation', 'order', 'folk', 'One', 'Hot', '10!'], ['s2g', 'love', 'people', 'running', 'account'], ['EIC', '(and', 'former', 'editor)', 'Adam', 'Rapoport', 'join', 'rest', 'Corporate', 'Lunch', 'crew'], ['humbled', 'featured', \"DC's\", 'City', 'Guide.', 'Shoutout', 'wonderful', 'staff', 'amazing', 'guests!'], ['Monday', 'reco', 'week', 'Foodcast'], ['Thankfully', 'wardrobe,', 'fat', 'pant', 'pasta', 'pant', 'synonymous.', 'This', 'make', 'easy.'], ['This', 'package', 'gorgeous', 'exhaustive', \"can't\", 'wait', 'read', 'every', 'little', 'bit...', 'swallow'], ['You', 'guys.', 'These', 'best', 'videos.', 'obsessed', 'Brad', 'Vin.'], ['Aw,', 'guy', 'never', 'let', 'down.\"'], ['Thanks', 'What', 'great', 'new', 'issue.', 'Loveit.\"'], ['Stop', 'writing', 'body', 'shape', 'woman', 'food', 'writing', 'work.\"'], ['The'], ['profile', 'Claire', 'Saffitz', 'beloved', 'YouTube', 'channel', 'today.', \"Didn't\", 'put'], ['Srsly', \"God's\", 'work.'], ['nae', 'nae?\"'], ['Wow,', 'Tara', 'Jensen', 'peaceful', 'read.', 'Amazing'], ['This', 'hard', 'hitting', 'journalism', 'election', 'cycle', 'missing.', 'get', \"'em\"], ['solid', 'opener;', 'way', 'know', 'via'], ['starting', 'rainy', 'Monday', 'new', 'book', 'bourbon', 'sugar', 'coffee'], ['Every', 'like', 'let', 'Twitter', 'know', 'former', 'social', 'medium', 'manager', 'lover', 'puns,'], ['Was', 'listening', 'podcast', 'suddenly', 'remembered', 'name', 'first', 'mixtape'], ['You', 'asking', 'recipe!', 'Here', 'go!'], ['Tried', 'variation', 'baba', 'ghanoush', 'beets.'], ['Just', 'heard', 'biscuit-donut.', 'Thanks'], ['watching', 'oscar', 'stuff', 'luv', 'pairings,', 'omg', 'luv', 'it!'], ['Was', 'inspired', 'omelette', 'yesterday', 'made', 'own!', 'Inside', 'used'], ['even', 'know', 'waiting', 'day.', 'But', 'waiting', 'day', 'YEARS.'], ['thought', 'like', 'Milk', \"Bar's\", 'Crack', 'Pie', 'recipe.'], ['COMFORT', 'FOOD:Made', 'last', 'night,', 'eating', 'reheated', 'tonight.', 'good,', 'would', 'make'], ['feel', 'deeply,', 'emotionally', 'warmed', 'sublime', 'reality', \"we're\", 'someone', 'paid', 'test', 'write', 'liking\"'], ['get', 'Arsicault', 'Bakery', 'named', 'Bakery', 'Year', 'croissant', 'gooey', '&amp;', 'amazing.', 'Chocolate', 'croissant'], ['GREAT!', 'checking!', 'recipe', 'wonderful', 'way!\"'], ['Thx', 'channeling', 'lemon', 'coconut', 'bar', 'dress', 'tonight,', 'Alicia', 'Vikander!'], ['ice', 'cream', 'machine?', 'still', 'turn', 'great', 'scoop', 'home'], [], ['one', 'faves', 'story'], ['ahh,', 'look', 'amazing.', 'Trying', 'one', 'soon!!!\"'], ['Second', 'time', 'making', 'salted', 'butter', 'chocolate', 'chunk', 'shortbread', 'cookies,', 'recipe'], ['These', 'go-to', 'dinner', 'recipe', 'home!\"'], ['Salmon', 'cake', 'benny'], ['someone', 'fuck', 'every', 'recipe,', 'pretty', 'excited', 'write', '.com'], ['woah', \"that's\", 'truly', 'Genius', 'gonna', 'give', 'next', 'time', \"I'm\", 'kitchen!!!!!', 'Thanks'], ['This', 'kind', 'thing,', 'enabling', 'tsunami', 'performative', 'rage,', 'sort', 'hoped', 'internet', 'would'], [\"Don't\", 'freak', 'anything,', 'went', 'ahead', 'made', 'gin', '&amp;', 'tonic', '100%', 'better'], ['one', 'party', 'favorite'], [\"i'm\", 'even', 'ashamed', 'hard', 'laughed'], ['Just', 'Jurassic', 'World', 'needed:', 'chicken', 'nugget'], ['OMG', 'life?', 'thank', 'you!', 'Tried', 'first', 'time', 'tonight', 'addicted!'], ['ready'], ['What', 'give', 'right', \"Can't\", 'make', 'grilled', 'cheese', 'way'], ['These', 'best', 'new', 'restaurant', 'America'], ['Winner', 'Winner', 'Chicken', 'Dinner!', 'Thank', 'recipe', 'spectacular!', 'Lots', 'flavour,', 'easy', 'quick.'], ['From', 'butteriest', 'croissant', 'wine', 'bar', 'dreams,', 'never', 'better', 'time', 'hit', 'Portland,'], ['This', 'profile', 'good', \"can't\", 'spend', 'time', 'baking?'], [], ['fries.', 'them.\"'], ['best', 'new', 'restaurant', 'for-profit', 'arm', 'non-profit', 'restaurant', 'worker'], ['Okay,', 'seriously,', 'Cate', \"Blanchett's\", 'dress', 'look', 'exactly', 'like', 'Easter', 'bread.'], ['The', 'first', 'time', 'scallop', 'recipe', 'like', 'YASSS'], ['probably', 'best'], ['The', 'newsletter', 'good', \"I'm\", 'becoming', 'concerned', 'camera', 'home'], ['peach', 'burrata', 'salad', 'look', 'incredible!!\"'], ['That', 'time', 'put', 'together', 'recipe', 'slideshow', 'Indian', 'favourites.', 'speed', 'bookmark,', 'lol.'], ['Shoutout', '&amp;', 'whose', 'recipe', 'made', 'look', 'GOOD', 'hosting', '1st', 'Thanksgiving\"'], [\"here's\", 'short', 'profile', 'naz', 'deravian', 'whose', 'cookbook', 'BOTTOM', 'THE', 'POT', 'come'], ['kudos', 'everyone', 'worked', 'package', 'GOOD'], ['digging', 'story', 'Hillstone', 'Restaurants', 'always', 'wondered', \"ppl's\", 'love', \"Houston's\", '(and', '&lt;3', 'Bandera).\"'], ['Best', 'part', 'latest', 'podcast', 'explaining', 'flip', 'cup.'], ['You', 'must', 'choose:', 'cake', 'yeast?'], ['DID', 'IT!', 'made', 'Zebra', 'cookies!!'], ['excited', 'nominated', '!!!', 'They', 'liked', 'chorizo,', 'pretty', 'rad.'], ['What', 'would', 'Passover', 'without', 'matzo', 'brei?', 'Thank', '(and', 'Maxine).'], ['Doing', 'lil', 'cooking', 'latest', 'issue'], ['Not', 'exaggerate', 'completely', 'changed', 'carbonara', 'game', 'never', 'back\"'], ['guess', 'kinda', 'cool', 'always', 'posting', 'bagel', 'place', 'work'], ['OMG!', 'lunch,', 'put', 'front', 'would', 'eat', 'whole', 'bowl.\"'], ['Everywhere', 'must', 'eat', '&amp;', 'play', 'fave', 'psyched', 'launch', 'City', 'Guides!'], ['Hey', 'love', 'you.', 'Thanks', 'making', 'beautiful', 'content.'], ['Just', 'sat', 'issue', \"I'm\", 'infatuated.', '14-year', 'old', 'oohed', 'dozen', 'ideas.'], ['Recipes', 'waffle', 'dinner,', 'which...', 'good', 'you!', 'Really', 'going'], ['Well', 'played,', 'Well', 'played.'], ['This', 'dangerous', 'would', 'eat', 'whole', 'thing'], ['SHOUTS', 'FOR', 'HIRING', 'AWESOME', 'PEOPLE', 'FOR', 'HANG', 'OUT'], ['You', \"can't\", 'walk', 'five', 'foot', 'office', 'without', 'running', 'giant', 'bottle', 'booze.', 'Well', 'done,', 'Bon.'], ['hour', 'kitchen', 'eating', 'But', 'rice', 'noodle', 'recipe...WOW!'], ['That', 'moment', 'best', 'joke', 'year'], ['These', 'best', 'new', 'restaurant', 'America.'], ['What', 'Chipotle', 'Disney', 'World', 'common', 'come', 'food', 'allergy'], ['Haha', 'loving', 'inspired', 'caption', 'today!', 'Getting', 'hungry', 'AND', 'motivated.\"'], ['Our', 'office', 'move', 'downtown', 'Raleigh', 'week', 'fully', 'expect'], ['Digging', '90', 'show', 'themed', 'tweet', 'today,', 'guys.'], ['This', 'story', 'Tom', \"Brady's\", 'diet', '(from', 'made', 'laugh', 'hard', 'snarfed', 'coffee:', 'cc:'], ['MODERN', 'LOVE\"'], ['going', 'vacation', 'soon', 'thing', \"I've\", 'done', 'prepare', 'memorize', 'city', 'guide\"'], ['Nice', 'work,', 'Completely', 'accessible', 'guide', 'modern', 'drinking.', 'And', 'nice', 'shout'], ['Savory', 'Dutch', 'baby'], ['Loved', 'hearing', 'podcast.', 'love', 'garlic', 'you.'], ['think', 'safe', 'say', 'finally', 'perfected', 'omelet', 'thanks', 'merci.\"'], ['ate', 'veal', '(yikes)', 'Bon', '(tight)'], ['friendly', 'reminder', 'hosting', 'Hot', 'Party', 'celebrate', 'best', 'restaurant'], ['Our', 'squeal', 'saw', 'mention', 'put', 'high', 'school', 'girl', 'meeting', 'Justin', 'Beiber', 'SHAME.\"'], ['This', 'awesome!\"'], ['date,', 'fussy', 'client,', 'mom,', 'restaurant.', 'Everyone'], ['Introducing', 'new', 'series', 'entire', 'Test', 'Kitchen', '(!)', 'come', 'together', 'make'], [\"mom's\", 'subscribed', 'since', '1984...', 'find', \"'97-2000,\", 'still,', \"that's\", 'long', 'time'], ['The', 'best', 'part', 'award', 'season', 'comparing', 'outfit', 'different', 'drink', 'dishes.\"'], ['Inspired'], ['Blueberry-Lemon', 'Icebox', 'Cake'], ['Thanks!!', 'enjoying', 'tweets.\"'], ['usually', 'carry', 'sushi', 'grade', 'tuna', 'salmon?', 'Saw', 'recipe', 'poke', '&amp;', 'think', 'about!\"'], ['THE', 'CROWNING', 'ACHIEVEMENT', 'LIFE.'], ['saw', 'grown', 'man', 'cry', 'eating', 'Sprinkles', 'cupcake', 'Brookfield', 'Place.', 'How', 'incredibly', 'New', 'York.\"'], ['Take', 'listen', 'recent', 'episode', 'Bon', 'Foodcast!', 'talk'], ['These', 'recipe', 'come', 'backwards', 'hat', 'super', 'chill'], ['You', 'guy', 'best,', 'hope', 'know', 'that\"'], ['These', 'common', 'pumpkin', 'pie', 'mishap', 'would', 'never', 'happen', 'Thanksgiving', 'JUST'], ['Somebody', 'get', 'crown', 'king', 'berry'], [\"Today's\", 'day', 'bring', 'fried', 'egg', 'office.', 'Seriously'], ['THANK', 'YOU!\"'], ['favorite', 'undies,', 'eat', 'cupcake', 'breakfast,', 'forth', '&amp;', 'best', 'day', 'motivation'], ['And', 'absolute', 'necessity', 'follow'], ['magazine', 'inspired', 'cooking', 'day', 'pre', 'Twitter', 'Was', 'glad', 'find', 'online', '..\"'], ['like', 'cook', 'reading', 'Rick', \"Martinez's\", 'series,', 'missing', 'out:', 'via'], ['ejercicio', 'hace', 'con', 'sus', 'recetas', 'moda', 'los'], ['Inspiring', 'piece', 'beautifully', 'written', 'dear', 'friend', 'take', 'must', 'proud'], [\"America's\", 'favorite', 'neighborhood', 'restaurant'], ['time', 'time', 'again,', 'bonapp', 'social', 'team', 'get', 'reveal', 'deeply', 'want', 'friend.'], ['made', 'family', 'hit.', \"Don't\", 'trust', 'rating!!'], ['All', 'delicious', 'place', 'eating', 'Oakland,', 'right'], ['took', 'stab', 'squid', 'fennel', 'pasta', 'last', 'night,', 'thanks', \"'Twas\", 'DELISH'], ['And', 'swoop', 'pasta', 'issue', 'save', 'whole', 'damn', 'day'], ['city', 'rent', 'spiked', 'burrito', 'face', 'existential', 'challenge:'], ['food', 'sound', 'great', 'really', 'enjoyed', 'story', 'went', 'along', 'it\"'], ['Extremely', 'humbled,', 'yet', 'Thank', 'you,'], ['really', 'great.', 'strangely', 'addictive', 'stuff.', 'Recipe', 'website.', 'Asian', 'flavour', 'pickle'], ['Today', 'featured', 'head', 'chef', 'owner', 'speaks'], ['witchy', 'time', 'year', 'something', 'wrote', 'kitchen', 'witch'], ['Congrats', 'making', 'top', '50.', 'You', '&lt;3', 'Day', 'One:'], ['version', 'Best', 'Buttermilk', 'Biscuits;', 'keeper', 'suggest', 'cut', 'back', 'salt'], ['Everyone', 'follow', 'snapchat', 'moment', 'like', 'these.'], ['happened!', 'map', 'again!'], ['Bon', 'appetit', 'swag!', 'What', 'could', 'want?'], ['influencer', 'account?'], [\"Don't\", 'knock', 'odd', 'food', 'combo', 'tried', \"'em\", '(burgers', 'martini'], ['Thank', 'using', 'recipe', 'video!', 'The', 'recipe', 'look', 'delicious!\"'], ['spent', 'Sunday', 'afternoon', 'reading', 'every', 'single', 'Red', 'Sauce', 'piece,', 'craving', 'Olive'], ['Super', 'Bowl', 'eats:', 'guac', 'spinach', 'puff', 'French', 'onion', 'dip'], ['recipe', 'NEVER', 'disappoint...', 'need', 'better', 'whisk', 'though!'], ['Great', 'wholesome', 'blend!', 'Been', 'making', 'healty', 'concoction', 'awhile,', 'really', 'pay', 'off,', 'make', 'feel', 'fresh!\"'], ['wow'], ['Made', 'roasted', 'fish', 'curry', 'butter', 'honestly', 'one', 'best', 'thing', 'ever', 'eaten'], ['When', 'say', 'green', 'bean', 'boring,', 'giggle', \"'cause\", 'know', 'better'], ['cocktail', 'become', 'official', 'drink'], ['Our', 'friend', 'coming', 'Healthyish', 'fest!', 'Grab', 'tickets:'], ['want', 'friend', 'social', 'medium', 'manager.', 'Very', 'timely,', 'clever.'], ['Here', 'is,', 'first', 'tart', \"I've\", 'ever', 'made.', 'salted', 'caramel', 'tart.', \"I've\", 'one'], [\"BA's\", 'Best', 'Breakfast', 'Sandwich', 'via', 'made', 'breakfast', 'AM.', 'Worth'], ['thank', \"month's\", 'awesome', 'pumpkin', 'pie', 'recipe!!', 'Big', 'hit.'], ['TASTES', 'LIKE', 'everyone', 'taking', 'sip', 'three-ingredient', 'cocktail'], ['Last', 'course', 'NYE:', 'also', 'caramel', 'chocolate', 'cake.'], ['Allen', 'Iverson,', 'Freeway,', 'Chase', 'Utley,', 'Bobby', 'Clarke', 'reference', 'included:'], ['This', 'story', 'important.'], ['Bless', 'this.'], ['Tell', 'Sal', 'prep', 'season'], ['Listening', 'rant', 'poached', '&amp;', 'scrambled', 'egg', 'Foodcast', 'new', 'favorite', 'thing.', 'affirms', 'egg', 'woes.\"'], ['This', 'amazing', 'tweet.\"'], ['cooked', 'bacon', 'BBQ', 'last', 'night', 'seriously', 'best.', 'Merci', 'inspiration!'], ['Loving', 'Best', 'Restaurant', 'issue,', 'like', 'inventive', 'fish'], ['Radishes', 'DGAF', 'love', 'them.', 'But', 'should.', 'You', 'love', 'lot'], ['love', 'soup', 'signature', 'double', 'strength', 'chicken', 'brodo', 'noodle', '&amp;', 'soil', 'grown', 'green', 'soup', 'yea!'], ['Still', 'thinking', 'dinner', 'last', 'night', 'Pizzeria', 'Mercato', 'thanks', 'fab', 'rec!'], ['always', 'love', 'hearing', 'name', 'shouted', 'Foodcast.', 'assume', 'huge', 'fan.'], ['Awesome', 'sauce', 'Our', 'founder', 'give', 'The', 'Big', 'Talk', 'Are', 'joining'], ['eat', 'eat', 'eat', 'eat', 'eat', '(after', 'someone', 'it)\"'], ['Really', 'loving', 'coverage'], ['say', 'testing', 'vegan-friendly', 'sandwich', 'called'], ['much', 'respect', 'chef', 'kind,', 'talented', 'great', 'hugger!!!', 'Fun', 'night', 'NYC'], ['prefer', 'bacon', 'sausage,', 'real', 'cheese', 'kind', 'melted', 'plastic,', 'fried', 'egg', 'omelet.\"'], ['loved', 'article', 'great', 'insight', 'routine', 'life', 'incredible', 'baker'], ['Sooo...on', 'Saturday', 'shared', 'pic', 'mine', 'Thanks', 'making'], ['Thank', 'you,', 'Birthday', 'today!\"'], [\"It's\", '10:45', 'night', 'want', 'waffles.', 'Thanks'], ['That', 'toast', 'recipe', 'keep', 'posting', 'peanut', 'butter', 'hot', 'sauce?', 'it.', 'good.'], ['beyond', 'grateful', '&amp;', 'excited', 'list', 'Top', 'New', 'via'], ['The', 'great', 'Bar', 'Goto', 'get', 'prop', 'amazing', 'cocktail', 'Japanese', 'snacks.', 'What', 'could', 'better?'], ['ICYMI,', \"I've\", 'got', 'column', 'dedicated', 'upcoming', 'cookbook,', 'Indianish,', \"week's\", 'edition'], ['weird', 'best', 'new', 'restaurant', 'list', 'one', 'top', 'thing', 'look', 'forward', 'year?'], ['course!', '2013.', 'Just', 'google', 'pumpkin', 'pie', 'top!'], ['dry', 'brined', 'two', 'turkeys,', 'finger', 'crossed', '!!\"'], ['What', 'one', 'staffer', 'learned', 'super', 'duper', 'organized', 'person', 'overhaul', 'kitchen'], ['awesome', 'video', 'y\\'all\"'], ['cheesy', 'corn', 'really', 'life', 'name'], ['Quit', 'loafing', 'around', 'eat', 'artisan', 'bread', \"(they're\", 'best', 'country)'], ['thank', 'making', 'twitter', 'worth'], ['Each', 'day', 'wake', 'up,', 'grab', 'coffee,', 'spend', 'time', 'inspired.', 'Often', 'includes'], ['Serious', 'question:', 'writes', 'tweets?', 'Because', \"they're\", 'among', 'best', 'feed.', 'LOVE', 'voice,', 'tone,', 'grammar,', 'words,', 'all!\"'], ['mean', 'waiting', 'line', 'newly', 'crowned', 'Best', 'Bakery', 'America.'], ['This', 'crossover', 'really', 'needed'], ['copy'], ['Banana', 'bread', 'oatmeal,', 'life', 'short', 'breakfast', 'like', 'dessert'], ['Schnitzel', 'happens?\"'], ['Ellies', '2018:', 'nominated', 'Magazine', 'Section', 'category'], ['thrilled', 'Best', 'New', 'Restaurant', '2016!', '(Pic', 'fav,', 'liver', 'tart)'], ['You', 'learn', 'lot', 'recipe', 'call', 'Mangled', 'Shrimp', 'Red', 'Sauce.'], ['best', 'coverage', 'far', 'go', '(seriously)\"'], ['Made', 'monkey', 'bread', 'kid', 'consumed', 'whole', 'thing', 'minutes.'], ['TBH,', 'really', 'kind', 'hard', 'hitting', 'news', \"I'm\", 'RN.'], ['subscription', 'start', 'today', 'seeing', 'beauty:'], ['Long', 'line', 'name', 'Arsicault', 'praising', 'croissant'], ['Okay,', 'love', 'hummus.\"'], ['Today,', 'gigantic', 'package', 'feat.', 'people', 'discussing', 'beloved', 'neighborhood'], ['HEELLUV', 'made', 'yesterday.', 'High', 'five', 'baby,', 'legit.\"'], ['And', 'pandering', 'everyone', 'staying', \"Trump's\", 'statement'], ['For', 'Lady'], ['Take', 'back,', 'pls!', 'city', 'guide', 'making', 'homesick!'], ['still', 'offer', 'best', 'brownie', 'recipe', 'world.'], ['Golden', 'Globe', 'Tweets', 'back'], ['Thanks', 'kaffe', 'tonic', 'love!', \"What's\", 'cooler', 'cool?', 'Ice-cold', 'coffee', 'lot', 'tonic', 'water'], [\"Providence's\", 'Oberlin', 'list', 'best', 'new', 'restaurant', 'country'], ['The', 'best', 'thing', 'surplus', 'chile', 'also', 'easiest', '(yay!)'], [\"Y'all.\"], ['The', 'folk', 'rounded', 'best', 'recipe', 'honor', 'last', 'day.', 'How', 'awesome', 'that?'], ['The', 'podcast', 'giving', 'life.', 'Catching', 'every', 'spare', 'second', 'day\"'], ['dear', '&amp;', 'almost', 'like', 'planned', 'this:'], ['omg', 'changed', 'display', 'name', 'bone', 'apple', 'tea', \"i'm\", 'dying\"'], ['want', 'reveal', 'sexuality,', 'ethnicity,', 'anyone.', 'wanted', 'personal', 'moving'], ['Bone', 'Apple', 'Tea!'], ['Porch', 'time', 'latest', 'mag,', 'cold', 'brew', 'cool', 'fall', 'weather.\"'], ['changed', 'display', 'name', 'apple', 'reminded', 'love', 'internet'], ['When', 'reading', 'new', 'come', 'across', 'best', \"friend's\", 'letter', 'bar', 'pizza.'], ['Finally', 'made', 'oriechette', 'carbonara', 'charred', 'Brussel', 'sprout', 'last', 'night.'], ['Hey', 'peeps!', 'Come', 'hang', 'editor', 'night', 'filled', 'author'], ['Being', 'cusp', 'debating', 'whether', 'get', 'dad', 'hat', 'dad', 'hat\"'], ['Code', 'props...\"'], ['know', 'would', 'happy', 'see', 'everyday!', 'Thanks', 'fine', 'words!'], [\"I'm\", 'listening', 'podcast', 'morning', 'let', 'tell', 'you,', 'chef', 'now.'], ['This', 'thought', 'crossed', 'mind', 'multiple', 'occasions..', 'Thanks'], ['Well', 'look', 'like', 'one,', 'took', 'hour', 'tried', 'real', 'hard.', 'Points', 'effort?'], [\"I'm\", 'home', 'right', 'now,', 'Coke', 'fridge,', 'espresso', 'machine', 'counter', '...', 'OK,', \"I'm\", 'it.\"'], ['Listening', 'podcast', 'learning', 'made.', 'want', 'move', 'beach', 'start', 'making', 'sea', 'salt\"'], ['know', 'you,', 'thursday', 'definitely', 'call', 'brownie', 'cooky'], ['see', 'there.', 'Nicely', 'played.'], ['Chilled', 'white', 'wine', 'jam', 'jar,', 'Aug', 'issue,', 'dunk', 'head', 'cold', 'faucet.', 'How', '90+', 'deg', '&amp;'], [], ['restaurant', 'dish', 'haunting', 'dreams,', 'email', 'deets.', \"We'll\", 'try', 'hook', 'recipe', 'mag!\"'], ['favorited', 'hashtag', \"I'm\", 'sure', 'actual', 'squash', 'point\"'], [\"Here's\", 'brightening', 'dark', 'world', 'Red', 'Sauce', 'America', 'package.', 'This', 'food', 'writing'], ['Are', 'getting', 'pranked?', 'finalist', 'Best', 'New', 'Restaurants', '2017!'], ['This', 'fine', 'need', 'body', 'POINT', 'Morgan', 'season'], ['This', 'look', 'beautiful.I', 'made', 'dip', 'beetroot,curd', 'cream', 'turned', 'awesome.\"'], ['solo', 'walk', 'pain', 'quotidien', 'podcast', 'ear'], ['Just', 'landed', 'New', 'York', 'City!', 'Very', 'excited', 'part'], ['every', 'time,', 'lightning', 'round,', 'someone', 'chooses', 'olive', 'oil', 'foodcast', 'die', 'little', 'inside\"'], ['Thanks', 'digging', 'podcast.', 'Nice', 'know', 'real', 'live', 'human', 'listening', 'in!'], ['thought', 'hip', 'brand\"'], ['RED', 'SAUCE', 'AMERICA'], ['One', 'favorite', 'thing', 'listen', 'Foodcast', 'cooking', 'dish.', 'really', 'put', 'element.\"'], ['love', 'this,', 'love', 'much.', 'celebrates', 'Red', 'Sauce', 'America'], ['travel', 'issue', \"magazine's\", 'best', 'years,', 'especially', 'little', 'gem:'], [\"I'd\", 'like', 'Popcorn', 'engraved', 'tombstone', 'please', 'thank', 'you.'], ['Make', 'breakfast', 'salad', 'actually', 'want', 'eat'], ['tested', 'dozen', 'ice', 'cream', 'find', 'perfect', 'shot.', 'Guess', 'made', 'cut'], [\"I've\", 'got', 'last', 'Costco', 'jar', 'kimchi', \"I'll\", 'using', 'recipe!', 'Yum!\"'], ['Made', 'dinner', 'last', 'night', 'delicious!', 'Thanks'], ['killing', 'tonight', 'match'], ['Well,', 'right', 'amazing', 'pumpkin'], [\"It's\", 'like', 'article', 'speaking', 'directly', \"(I've\", 'also', 'made', 'recipe,', 'great)'], ['Yes!!!', 'Someone', 'finally', 'acknowledges', 'Breakfast', 'Salad', 'real', 'thing!!!', 'THANK', 'YOU'], ['honor', 'best', 'day', 'ever,', 'made', 'recipe', 'Salty', 'Choc', 'Chunk', '&amp;', \"I'm\", 'happy', 'girl.'], ['Honored', 'see', 'photo', 'list', 'best', 'new', 'restaurant', 'US!', 'Congrats'], ['Your', 'favorite', 'Twinkie-maker,', 'Claire', 'Saffitz,', 'get', 'enough', 'Biologique'], ['Need', 'lunch', 'named', 'one', 'best', 'new', 'restaurant'], ['COMING', 'bad', '&amp;', 'Bon', 'Appetit', 'hot', 'ET\"'], ['Yes,', 'launched', 'CITY', 'GUIDES.', 'Yes,', 'awesome'], ['For', 'record,', 'send', 'many', 'email', 'blast', 'want.', 'Frequency', 'high,', 'always', 'love', 'content', 'put', 'out.\"'], ['YOU', 'LOVE', 'YOU', 'WILL', 'BUY', 'BON', 'SHIRT'], ['Dinner', 'tonight:', 'riff', 'Thai', 'Basil', 'Beef', 'recipe'], ['planning', 'last', 'minute', 'came', 'across', 'this-', 'magazine', 'dubbed', 'Portland', 'Small', 'Town', 'Next', 'stop!\"'], ['easy', 'summer', 'weeknight', 'dinner', 'recipe', 'chilllllll'], ['These', 'delicious', '...', 'known.'], ['find', 'someone', 'cake', 'rn\"'], ['Whoever', 'run', 'social', 'media....were', 'born', '1990?', 'Because', 'living', 'food', 'pun'], ['Gravy', 'mayo?', 'Gravy', 'mayo!', 'Hot', 'damn,', 'Thanksgiving.', 'Why', 'year?!'], ['Pack', 'beach', 'bag', 'one', 'new', 'food', 'book'], ['challenge:', 'plan', '101', 'year', 'end?', \"BA's\", 'Best:', 'The', '101', 'Recipes', 'You', 'Need', 'Know', 'How', 'Cook'], ['Thrilled', 'see', \"Chicago's\", 'excellent', 'Elske', 'San', \"Francisco's\", 'daring', 'Mr.', 'Jiu', 'one', 'best', 'meal'], ['Love', 'interview.', 'spend', 'many', 'hour', 'every', 'day', 'fussing', 'celebrities,', 'athlete'], ['Also', 'twitter'], ['Congrats', 'Martins', 'BBQ!', 'One', 'Best', 'New', 'Restaurants', '2017!'], ['agreed!\"'], ['think', 'need', 'work'], ['How', 'know', 'needed'], ['You', 'probably', 'Providence,', 'find', \"country's\", 'best', 'Syrian-style', 'baklava.'], ['Amazing!!!', 'Thank', 'congrats'], ['Loin-quivering', 'snack', 'idea', 'dropping', 'foodcast.', 'Rice', 'cake', 'peanut', 'butter', 'sriracha', 'bomb', 'af.\"'], ['Butter', 'good.', 'Brown', 'butter', 'better!!\"'], ['looking', 'forward', 'piece'], ['According', 'radish', 'feeling', 'taken', 'careful', 'consideration.'], ['The', 'winner', 'Best', 'Chef:', 'Southeast', 'Charleston,'], ['Wines', 'pair', 'best', 'entire', 'bowl', 'mashed', 'potato', 'couch', '(WHAT,', \"we've\", 'never', 'done'], ['burger', 'game', 'strong', 'ever.\"'], ['Yes,', 'us\"'], ['featured', 'too!!', 'happy', 'Katariga', 'story', 'shared!!'], [\"We're\", 'pretty', 'well', 'steeped', 'puns,', 'might', 'brewing', 'trouble', 'continue', 'like', 'this\"'], ['Since', 'first', 'day', \"I've\", 'working', '1st', 'culture', 'issue.', 'shot', 'iPhone!', 'Sneak', 'peak:'], ['Enjoyed', 'this.', 'But', 'honestly,', 'campaign', 'eating', 'habit', 'Popeyes', 'Tuesdays', 'stay.'], [\"I'm\", 'addicted', 'foodcast.', 'Hey', 'selected?', 'Butter', 'olive', 'oil?'], ['creepily', 'whispered', 'reading', 'recipe', 'got', 'weird', 'look', 'husband'], ['Wow,', 'thanks', 'honor,', 'agree', 'more!'], ['brisket', 'smoked', 'sausage', 'WOW.'], ['Break', 'studying', 'Palestrina', 'equal', 'making', 'Iron', 'Skillet', 'Peach', 'Crisp.', 'Summer', 'perfection.'], ['Had', 'great', 'time', 'thinking', 'egg', 'save', 'sad', 'dinner', '(for'], ['surprise', 'me!', 'right,', 'culinary', 'culture', 'taken', 'off!', 'Come', 'one,', 'come', 'all.', 'EAT!'], ['Flexing', 'editorial', 'muscle', 'practice', 'illustration', 'article:'], ['May', 'need', 'practice', 'run', 'Thanksgiving.\"'], ['even', 'really', 'care', 'recipes,', 'following', 'hilarious.'], ['When', 'listen'], ['Meanwhile,', 'teeny-tiny', 'town', 'mile', 'outside', 'Asheville,'], ['Proud', 'amazing', 'food', 'city'], ['First', 'magazine', 'reveals', \"year's\", 'list', '*the', 'hot', '10*', 'best', 'new', 'restaurant'], ['killed', 'year.', 'Not', 'even', 'mad', 'probably', 'made', 'impossible'], [\"It's\", 'quite', 'puppy,', 'close'], ['Thanks'], [\"It's\", 'kind', 'thing', 'show', 'Enron', 'audit.\"'], ['Loving', 'cheap', 'delicious', 'series.', 'Solves', 'eternal', 'NYC', 'struggle', 'eating', 'instant', 'ramen', 'rent', 'week.\"'], ['Thrilled', 'see', 'asking:', 'This', \"Country's\", 'Most', 'Sustainable'], ['Seriously', 'killing', 'captions,'], ['reason', 'love', 'good', 'Dutch', 'oven', 'WAIT', 'NOT', 'THAT', 'KIND'], ['feature', 'window', 'world', 'food', 'folk', 'journos'], ['Twitter', 'name', 'right', 'ah-mazing.'], [\"can't\", 'believe', 'even', 'debate.', 'YEAST', 'day', 'errey', 'day\"'], ['Marinated', 'feta', 'super', 'yummy', 'super', 'easy', 'make!', 'great', 'thing', 'hand', 'fridge:'], ['read', 'hundred', 'anti', 'West', 'Coast', 'salad', 'tweets,', 'went', 'cheesy'], [\"can't\", 'stop', 'making', 'Salted', 'Butter', 'Apple', 'Galette.', 'eating', 'it.', 'And', 'keep', 'getting', 'better.', 'Thanks'], [], ['The', 'shrimp', 'tree?', 'rescued', 'issue', \"mom's\", 'garage.', \"It's\", 'inspiring', \"year's\", 'retro', 'party!'], ['couple', 'friend', 'talking', 'gorgeous', 'photography', 'been.', 'Case', 'point!'], ['Ellies', '2018:', 'nominated', 'Leisure', 'Interests', 'category', 'Simple', 'Roast', 'Amiel', 'Stanek'], ['The', 'Great', 'Ones', 'celebration', 'human', 'admire', 'exploration', 'cook,', 'how.'], [\"Sippin'\", 'green', 'gazpacho,', 'recipe'], ['pal', 'launched', 'City', 'Guides', 'page', 'making', 'want', 'Los', 'Angeles:'], ['LOVED', 'Ugly', 'Delicious,', 'hated', 'barbecue', 'episode', 'featured', 'Black', 'pitmasters', '(as', 'white', 'ppl'], ['Dear', 'finding', 'Wed', 'night', 'Hubs', 'forgot', 'tell', 'Thanksgiving', 'invite,'], ['The', 'best', 'new', 'restaurant', 'America', 'sandwich', 'shop'], ['Loved', 'Gained', 'pounds,', 'soiree', 'magical.', 'Recap', 'event:'], ['Special', 'thanks', 'inspiring', 'almost', 'everything', \"I'm\", 'bringing', 'today.'], ['Hey', 'wrote', 'word', 'latest', 'issue'], ['went', 'here,', 'lit'], [\"I'd\", 'like', 'invent', 'extra', 'hour', 'per', 'day', 'try', 'ALL', 'recipes,', 'tip', 'suggestions.', 'Can', 'work', 'that?\"'], ['magazine', 'named', '2017', 'Restaurant', 'City', 'Year'], ['want', 'button', 'press', \"'order'\", 'tweet', '&amp;', 'Instagram', 'post'], ['Welcome', 'life', 'thanks', 'recipe'], ['late', 'night', 'snack', 'drawer', 'love', 'naked'], ['Wine,', 'Spirits,', 'Beverages:', 'Liam', 'Baranauskas'], ['What', 'sorcery', 'this?!', 'rich', 'creamy', 'salad', 'dressing', 'actually', 'healthy'], ['waited', 'hour', 'cool', 'get', 'prize?'], ['The', 'perk', 'cauliflower', 'covered', 'cheese'], ['Basting', 'fried', 'eggs?', \"I'm\", 'in.', 'Thanks', 'making', 'even', 'obsessed', 'you.'], ['The', 'Saber-off', 'Celebration', 'Venetian', 'today.', 'Video', 'From', '2014.'], ['Hey!', \"There's\", 'vinegar', 'favourite', 'chocolate', 'cake', 'recipe!', 'And', 'vegan', 'recipe.', 'Nothing', 'cream', 'cheese', 'frosting', \"can't\", 'fix!'], ['folks,', 'making', 'culinary'], ['Icebox', 'cake', 'lemon', 'curd', 'blueberry', 'goodness.'], ['Please,', 'tell', 'craft', 'beer', 'obsession', 'home-brewed', 'kombucha'], ['confirm', 'true\"'], ['Srsly,', 'social', 'team', 'kill', 'it.', 'Always', 'fun', 'snarky', 'get', 'click', 'links.', 'Respect', 'whoever'], ['Some', 'highlight', 'hilarious', 'mishap', 'open', 'kitchen', 'via'], [\"I'm\", 'going', 'unfollow', 'soon', 'Pinterest', 'full!\"'], ['Ready'], [\"'You\", 'deserve', 'entire', 'cake', \"yourself.'\", 'Damn', 'right', 'Bon', 'Appetit.'], ['Only', 'Thanksgiving', 'stop', 'Planning', 'inspired', 'dinner', 'Hope', 'find', 'ingredients\"'], [], ['fixing', 'YOUR', 'fried', 'mozzarella', 'sticks!\"'], ['Never', 'apologize', 'food', 'pun.', \"It's\", 'unsavory.\"'], ['feeling', 'looking', 'jarring', 'image', 'insta', 'feed', 'thanks'], ['After', 'combing', '&amp;', 'new', 'recipes.', 'ready', 'dinner', 'parties?\"'], ['got', 'apron', 'xmas', 'saw', 'box', 'come', 'screamed', 'like', 'little', 'girl'], ['Always', 'good', 'radio', 'podcast', 'guest'], ['The', 'hottest', 'restaurant', 'trend', '2019', 'is....fancy', 'toilets!!!!', 'wrote', 'dream', 'story'], ['look', 'fusilli', 'alla', 'vodka', 'made', 'people'], ['NUMBER', 'FOUR', \"America's\", 'Best', 'New', 'Restaurants'], ['The', 'Oscar', 'red', 'carpet', 'coverage', 'worth', 'following'], ['oooh', 'thank', 'you!', 'Looking', 'forward', 'making', 'tomorrow', 'prep', 'dressing', 'spinach', 'dip', 'thanksgiving', 'day\"'], ['great', 'company', 'article.', 'Thank'], ['Have', 'blueberry-lemon', 'icebox', 'cake', 'the,', 'well,', 'icebox', 'set.', 'Been', 'drooling', 'thought', 'since', 'saw', 'recipe.\"'], ['featured', 'Useful', 'Guide'], ['Long', 'Olive', 'Gardens', 'every', 'interstate', 'pizzeria', 'every', 'strip', 'mall,', 'Italian', 'food'], ['thx', 'taking', 'one', 'team.'], ['could', 'kiss', 'editor', 'finally', 'answering', 'question', 'pot', 'pans.'], ['30+yrs', 'ago', 'cell', 'camera', 'dad', 'babysits', 'twin', '1st', 'time.', 'Just', 'noticed', 'mag', 'used'], ['chocolate', 'one', 'student', 'made', 'pretty', 'tasty!'], [\"I'm\", 'starting', 'every', 'cooking', 'argument', 'got', 'recipe', 'published'], ['dress', 'make', 'wanna', 'brew', 'pot', 'magical', 'blue', 'tea'], ['Reading', 'materials...', 'first,', '(iced)', 'coffee'], ['So,', 'say', \"America's\", 'best', 'new', 'eatery', 'face', 'Congratulations!'], ['All', 'all,', 'strong', 'homepage', 'happening', 'right', 'now.\"'], [\"Can't\", 'wait', 'try', 'new', 'recipes!'], ['Bon', 'Appetit', 'recommends', 'Velveeta,', 'feel', 'like', 'use', 'without', 'judgment'], ['published', 'absolute', 'f**king', 'gem', 'yesterday\"'], ['love', 'Paris', 'guide', 'Instastories!', 'actually', 'make', 'want', 'visit', 'least', 'favourite', 'city.'], ['big', 'shout-out', 'Claire', 'Carla', 'Even', 'though', 'discovered', 'two', 'ladies,', 'love'], ['The', 'one', 'sliding', 'DMs', 'mewith', 'recipe', 'tweet'], ['Great', 'piece!', 'Chicken', 'Butter', 'Delicious.\"'], ['appears', 'also', 'feeling', 'nostalgia'], ['Our', 'friend', '&amp;', 'neighbor', '2016', 'Best', 'New', 'Restaurant', 'America.', 'Congrats', '&amp;'], ['First', 'loving', 'effort', 'get', 'cook', 'kitchen!'], ['Latest', 'copy', 'box', 'sound', 'like', 'pretty', 'good', 'Wednesday', 'night'], ['Oscar', 'dress', 'tweet', 'amazing!', 'But', 'making', 'hungry...'], ['Your', 'horoscope', 'said', 'something', 'eating', 'lot', 'patty', 'melt', 'April'], ['Also,', 'kudos', 'launching', 'one', 'TWO', 'new', 'digital', 'properties,', 'first'], ['This', 'watermelon', 'margarita', 'best', 'thing', 'happen', 'week'], ['selling', 'Outlaws', 'Never', 'Die', 'tshirts', '100%', 'proceeds', 'donated'], ['This', 'article', 'exactly', 'love', 'magazine.', 'bet', 'coolest', 'place', 'work', 'country.'], ['finally', 'caved', 'subscribed.', 'Literally', 'bookmarked', 'tweet'], ['Where', 'eat', 'drink', 'Chicago', '(which', 'really', 'kind', 'town)'], ['favourite', 'award', 'show', 'fashion', 'recap', 'always'], ['look', 'good.\"'], ['Made', 'gribiche', 'dressing', '&amp;', 'subbed', 'caper', 'home-pickled', 'green', 'almonds.', 'Stellar', 'results.'], ['agree', 'entirety', 'being\"'], ['You', 'fancy', 'fabulous', 'toast', 'totally', 'deserve'], ['Cake', 'way'], ['No.', 'Turkey'], ['see', \"Lil'\", 'John', 'reference,'], ['Wow!', 'Thank', 'proud', 'city', 'team'], ['come', 'Gwen', '100%', 'tik', 'sale', 'immigrant', \"workers'\", 'rights.'], ['CONGRATS', 'guy', 'made', 'minor', 'freak', 'supermarket', 'aisle\"'], ['Ha!', 'Globes', 'coverage', 'kind', 'great.'], ['marry', 'me\"'], ['waiting', 'Downton', 'Abbey', 'series', 'finale!', 'Thank'], [\"'in\", 'search', \"barbacoa',\", 'una', 'cosa', 'que', 'hice', 'para', 'buenas', 'fotos.'], ['thanks', 'this!', 'perfect', 'timing', '&amp;', 'headed', 'weekend!\"'], ['went', \"smokin'\", 'hot', \"soakin'\", 'wet', 'blast'], ['This', 'review', 'Hillstone', 'restaurant', 'best', 'writing', \"I've\", 'read', 'long', 'time.'], ['Looks', 'sound', 'delicious!', 'Would', 'consider', 'sharing', 'recipe?\"'], ['More', 'like'], ['reading', 'years,', 'is,', 'without', 'doubt,', 'best', 'piece', 'writing', 'ever'], ['You', 'guy', 'gal', 'absolute', 'sweetest', 'thinking', 'me!\"'], ['Sorry,', 'purrfect*'], ['New', 'Foodcast!', 'This', 'week', 'chat', 'job', 'cheese', 'expert', 'writer'], ['weather', 'cooperates,', 'may', 'try', 'every', 'recipe', 'grilling', 'guide', 'summer', 'starting', 'today.'], ['This', 'look', 'delicious.', 'Definitely', 'going', 'make', 'attempt', 'fix', 'soon', '(wish', 'luck!).\"'], [\"We're\", 'sorry', 'trouble!', \"We're\", 'happy', 'check', 'order!', 'Will', 'please', 'order', 'e-mail', 'address?\"'], ['Thanksgiving', 'series', 'YouTube', 'series', 'far,', 'writes'], ['boy', 'baked', 'first', 'time', 'ever', 'yesterday.', 'decided', 'try', 'make', 'Pan', 'Muerto!', 'Success!'], ['THANK', 'GOD', '....', 'idea', 'use', 'blueberry', 'chia', 'jam.', 'You', 'really', 'understand', 'hardship.'], ['Stop', 'poutine', 'spot.\"'], ['Featuring', 'recipe', 'palm-size', 'waffle', 'maker'], ['always', 'get', 'me,', 'know?'], ['Great', 'call', 'love', 'pizza.', 'true', 'artisan:'], ['Thanks', 'stopping', 'kitchen'], ['clever', 'name', 'walk-ins?', 'love', 'it!', 'via'], ['nominated', 'Digital', 'Media', 'Award', 'Best', 'Corporate', 'Food', 'Instagram.\"'], ['crush', 'clever', 'social', 'posts.'], ['Thanks', 'handing', 'mic', 'preach', 'bittersweet', 'gospel', 'American-made', 'amaro'], ['could', 'listen', 'podcast', 'day.', 'All', 'heart', 'eyed', \"emoji'd.\"], ['subscription', 'would', 'make', 'good', 'Christmas', 'gift,', 'Mom,', 'reading', 'this...'], ['....................guys'], ['Made', 'cheese', '&amp;', 'chip', 'pairing', 'AND', 'HAD', 'MUCH', 'FUN', 'MAKING', 'THE', 'PICTURES', '(ace', 'collab', 'Noah', 'Fecks)\"'], ['believe', 'empty', 'life', 'must', 'watched', 'every', 'single', 'Bon', 'video\"'], ['Made', 'last', 'night', '(doubled', 'squash', 'not?),', 'stuff', 'dreams!', \"Can't\", 'wait', \"tonight's\", 'leftovers...\"'], ['This', 'great.', 'Thank', 'you.\"'], [\"can't\", 'even', 'keep', 'track', 'burgeoning', 'fame', 'Everywhere', 'look'], ['Dear', 'know', 'heart', 'well?', 'This', 'honey', 'caramel', 'mixed', 'tart', 'look', 'like', 'heaven!'], ['say', 'renewed', 'faith', 'print', 'media\"'], ['Well,', 'pretty', \"friggin'\", 'cool.', 'Thanks', 'including', 'little', 'taco', 'joint'], ['Superb', 'piece', 'content', 'evolving', 'food', 'scene.', 'Def', 'need', 'trip', 'back', \"nation's\", 'capital'], ['Not', 'pretty', 'picture', 'delicious.', 'Apricot', 'almond', 'galette', 'used'], ['new', 'City', 'Guides', 'thanks', 'love!'], ['English,', '&amp;', 'Englishmen', 'addicted', 'Happy', 'bday,'], ['think', \"I'm\", 'love', 'person', 'charge', 'twitter', 'account.', 'cackle-laughing', 'days.'], [\"Tonight's\", 'challenge:', 'replication', 'magazine', 'skillet', 'fantastic!', 'Think', 'good', 'job'], ['Cranberry', 'lime', 'pie.', 'fun', 'finish'], ['LOVING', 'Oscar', 'thread', 'right', 'now!'], ['absolutely', 'love', 'profile', 'mostly', 'DETAILS.', 'Real', 'time', 'spent'], ['managed', 'post', 'numerous', 'article', 'speak', 'deeply', 'soul'], ['Best', 'quote', 'day'], ['Damn', 'posting', 'photo', 'delicious', 'looking', 'doughnut', ':*(\"'], ['ICYMI:', 'See', 'last', \"night's\", 'red', 'carpet', 'highlight', 'recipe', 'twin'], ['Humble', 'brag', 'make', 'New', 'Restaurant', 'list', 'NUMBER', 'ONE!', 'The', 'food', 'scene'], ['Mazel', 'tov', 'one', 'Best', 'New', 'Restaurants:'], ['yes,', 'need', 'potato', 'life'], ['insanely', 'proud', 'making', 'on,'], [], ['bathed', 'doughnut', 'hole', 'maple', 'syrup', 'hygiene'], [\"'Top\", \"Chef'\", 'contestant', 'Fatima', 'Ali', 'doctor', 'thought', 'cancer', 'vanished.', 'Then', 'told'], [\"I'd\", 'like', 'thank', 'people', 'made', 'bike', 'share', 'program', 'thing', 'American', 'cities.', 'You', 'allow', 'eat', '&amp;', 'save'], ['thank', 'another', 'winning', 'recipe.'], [], ['post', 'instant', 'follow', 'me!\"'], ['This', 'week', 'got', 'Brad', 'Leone', 'vs.', 'wing', 'death.', 'TUNE', 'tomorrow', '11AM', 'EST'], ['Chili,', 'garlic,', 'rainbow', 'carrot', 'pickles,', 'AUGUST', 'issue.', \"I'm\", 'pretty', 'sure', \"I'll\"], ['Some', 'girl', 'read', 'Vogue,'], [\"There's\", 'cooking', \"there's\", 'cooking', 'Brad', 'Leone', 'Chris', 'Morocco.', 'They', 'answered', 'question'], ['day', 'life', 'line', 'cook', 'one', \"NYC's\", 'fanciest', 'restaurants.', 'Read', 'more:'], ['Bon', \"Appetite's\", 'photography', 'favorite.'], ['little', 'restaurant', 'landed', 'best', 'country.', 'really', 'know', 'say', 'yet', 'now.\"'], ['Huge', 'congrats', 'buddy', 'Adi', 'Biyantomo', 'cook', 'there!', \"We're\", 'proud', 'guy'], ['wish', 'came', 'twice', 'month.\"'], ['Memorial', 'got', 'drunk', 'ordered', 'year', 'subscription', 'free'], ['realized', 'three', 'week', 'ago.', 'like', 'shit!', 'forgot', 'fish'], ['Look', 'snuck', 'note', 'work', 'today'], [\"I'm\", 'obsessed', 'recipe', 'Tonight', 'made', 'Salt-Grilled', 'Shrimp.'], ['This', 'morning', 'gratitude', 'team.', 'Their', 'e-newsletter,', 'photo', 'story', 'make', 'want'], ['Ah,', 'happens', 'best', 'us!', '...', \"Should've\", 'hit', 'pot'], ['Arugula', 'Gimlet,', 'recipe', 'via'], [], [\"I'm\", 'going', 'take', 'opportunity', 'reach', 'African', 'American', 'machers', 'Twitter;', 'put'], ['great', 'guy', 'podcasts\"'], ['guy', 'wrong.', 'This', 'list', 'useful', 'perfection:'], [], ['got', 'book', 'new', 'subscription', '(hello,', 'Christmas', 'YEARS.', '2019'], ['These', 'pasta', 'dish', 'everything'], ['After', 'listening', 'podcast', 'get', 'it!', 'Available', 'Scott', 'AFB', 'commissary'], ['love', 'food', '&amp;', 'fashion', 'tweets!', 'Clever', 'fun!\"'], ['BTW....the', 'leftover', \"we'll\", 'pureeing', 'soup.', 'leftover.', 'haha!\"'], ['When', 'everything', 'month', 'must', 'make!'], [], ['appreciate', '&amp;', 'relate', 'mission', 'get', 'juuuust', 'right.'], ['Breakfast', 'never', 'banana', 'bread', 'oatmeal'], ['words:', 'Saag', 'Paneer', 'Pizza.', 'pizza', 'grilling', 'horrible', 'photo'], ['took', 'breakfast', 'sandwich', '&amp;', 'made', 'The', 'Ultimate', 'Breakfast', 'Sandwich!'], ['pairing', 'recipe', 'gown', 'may', 'best', 'part', 'tonight.'], ['Ah,', 'good', 'old', 'days.'], ['color', 'meet', 'expert', 'photo', 'director.', 'fun', 'video', 'coming'], [\"What's\", 'like', 'cook', 'Former', 'White', 'House', 'chef', 'lot'], ['nice', 'people', 'cookbook', 'club', 'determined', 'chile', 'peanut', 'rice'], ['yoga', 'teacher', 'founder', 'culture-shifting', 'brand', 'synonymous', 'black'], ['Whattaburger!', '(and', \"I'm\", \"NY'er\", 'through)\"'], ['strong', 'urge', 'retweet', 'every', 'single', 'tweet', 'whenever', 'browse', 'page,', \"that's\", 'normal,'], ['Check', 'video', 'making', 'falafel', 'flavor', 'live'], ['there!', 'wrote', 'time', '2011', 'partner', 'got', 'laid', 'within', 'week'], ['Looking', 'forward', 'trying', 'these.', 'Thanks'], ['When', 'Will', 'American', 'Chinese', 'Food', 'Get', 'Red', 'Sauce', 'look', 'way', 'Italian', 'Americans', 'progressed'], ['Well,', \"that's\", 'ridiculously', 'easy', 'tasty-looking.', 'And,', 'look,', \"there's\", 'bacon', 'refrigerator.\"'], [\"I've\", 'using', 'fish', 'sauce', 'ragu', 'several', 'years.', 'Love', 'extra', 'layer', 'flavor', 'adds...\"'], ['More', 'please!', 'happy', 'see', 'article', 'right', 'smack', 'homepage', 'Now'], ['Charming,', 'yes,', 'one', 'need', 'room', 'bend', \"one's\", 'elbows?\"'], ['honored,', 'humbled,', 'excited,', 'maybe', 'cry', 'little', 'bit.', 'Thank'], ['Looking', 'cause?', 'support', 'teach', 'child', 'become', 'better,', 'healthier', 'eater'], ['hard', 'sell,', 'love', 'lead-up,', 'well', 'done', 'gotta', 'pitch', 'kids!'], ['christmas', 'cookie', 'people', 'hate', 'dealing', 'icing', 'pastry', 'bag', 'love', 'granola', 'shopping', 'bulk'], ['morning', 'consists', 'coffee,', 'emails,', \"PDF's\", '&amp;', 'podcast', 'baking.'], ['thanks', 'gluten-', 'free', 'chocolate-', 'tahini', 'brownie', 'recipe!!', 'Currently', 'oven!'], ['Moon', 'milk', 'got', 'like'], ['Bawling', 'like', 'baby', 'run', 'thru', 'entire', 'spectrum', 'emotions,', 'recognizing', 'many', 'feelings.'], ['Well', '(b)read', 'thanks', 'Meatball', 'sandwich', 'bread', 'Balthazar.'], ['Only', 'thing', 'better', 'great', 'set!'], [\"can't\", 'get', 'gig', 'working', 'follow', \"It's\", 'like,', 'second', 'best', 'thing.\"'], ['Headed', 'supply', 'immediately', 'finding', 'via', 'yesterday:', 'happening', 'tonight!'], ['Lol', 'Love', 'Oscar', 'tweets.\"'], ['Yum'], [\"You'll\", 'smile.', \"You'll\", 'cry.', 'And', 'extraordinarily', 'hungry.', 'Best', 'New', 'Restaurant'], ['HONORED!', 'Thank', '!!!!'], ['Looks', 'outstanding!', 'want', 'eat', 'every', 'single', 'picture', 'post.'], ['holiday', 'gift', 'list,', 'reference'], [\"It's\", 'Texan', \"thing...y'all\", 'get', 'it!\"'], ['Hey', 'band', 'New', 'play', 'best', 'new', 'restaurant', 'event?'], ['Thanks,', '&amp;', 'fun', 'write', '(ahem)', 'research...'], [\"can't\", 'even', 'make', 'DiGornio', 'see', 'well', 'David', 'keep'], ['Our', 'friend', 'throwing', 'pretttty', 'amazing', 'party', 'celebrate', 'list.', 'Get'], ['TIL', 'recipe', 'includes', 'instruction'], ['Made', 'tonite', 'twist.', 'amazing!!'], ['Made', 'chocolate', 'nut', '(nutella-filled)', 'rugelach', 'sah', 'good'], ['Guess', 'spotted', 'latest', 'Bon', 'Appetit', 'magazine', '(Oct', '2015)?', 'Our', 'little', 'guy,', 'Kamado-san', 'cute.'], ['design', 'dream', 'career', 'guy', 'story', 'it,', 'love'], ['Tune', 'today', 'noon', 'talk', 'lunch', 'tip'], ['Okay,', \"that's\", 'it.', 'These', 'Twitter', 'caption', 'good.', 'Just', 'bought', 'year', 'subscription'], ['Thanks', 'drool-worthy', 'banana', 'bread', 'version'], [\"yesterday's\", 'taco', 'display', \"Dallas'\", 'Top', '50.'], [\"I've\", 'reached', 'point', 'Twitter', 'favorite', '(hearts?)', 'food', 'idea'], ['great', 'tip', 'making', 'best', 'dressing', 'green', 'salad!'], ['Two', 'words:', 'Sunday.', 'Sauce.'], ['The', 'newest', 'addition', 'When', 'come', 'exciting', 'eating,', 'BIG', 'town'], ['yes', 'do...meet', 'mine'], ['This', 'giving', 'much', 'life', 'right', 'now,'], ['olive', 'oil', 'fried', 'egg', 'post.', 'resulted', 'baby.'], ['changed', 'name', 'Apple'], ['Not', 'biased', 'anything,', 'damn', 'useful', 'NEW', 'city', 'guide'], ['feel', 'like', 'parent?', 'proud'], ['thanks', 'making', 'laugh', 'loud!!!\"'], ['time', 'favorite', '....when', 'make', 'last'], [\"Haven't\", 'working', 'oven', 'month', 'episode', 'Bon', 'Foodcast', 'perfect!'], ['Kinda', 'proud', 'spinach', 'pastry', 'puffs!', 'Yum!', 'Recipe', 'via'], ['need', 'these,', 'immediately.', 'Its', 'fave', 'part', 'red', 'carpet', 'coverage\"'], ['What', 'cream', 'cream', 'it?', '(via'], ['Seriously', 'please', 'review', 'tl.', 'Matching', 'red', 'carpet', 'outfit', 'different', 'dish', 'fantastic.', 'Also', 'making', 'hungry.\"'], ['Producing', 'quality', 'content', 'crazy', 'hard.', 'Decided', 'begin', '2019', 'supporting', 'favorite', 'brand'], ['Easiest', 'travel', 'plan:', 'Just', 'eat', 'whole', 'trip.', 'Congrats', 'sweet', 'CITY', 'GUIDES:'], ['horoscope', 'worth', 'reading', 'give', 'cheese', 'suggestion', 'month\"'], ['idea!'], ['Just', 'made', 'curried', 'lentil,', 'tomato,', 'coconut', 'soup', 'pumped.'], ['This', '1st', 'rise', 'potato', 'dough', 'already', 'smell', 'scrumptious'], ['Banter', 'BEST', 'convo', 'date!', 'And', 'yes,', 'cooked', 'cranberry', 'always!'], ['Nope.', \"It's\", \"oatmeal's\", 'loud', '(really', 'loud)', 'visiting', 'relative.\"'], ['congratulation', 'top', 'new', 'restaurant', 'America.'], ['happy', 'sunday', 'made', 'blackberry', 'blueberry', 'turnover', 'ala', 'july'], ['Made', 'celery', 'soup!', 'Substituted', 'vegetable', 'broth', 'instead', 'chicken'], ['going', 'try', 'recipe', 'ASAP\"'], ['bad', 'office', 'June', 'issue', 'come', 'in\"'], ['love', 'her,', 'miss', 'her,', \"can't\", 'wait', 'kiss', 'her!', 'soon', \"I'll\", 'ALBERTA...', 'mean', 'VANCOUVER!\"'], ['Thanks', 'praise'], ['Today', 'day.', 'announcing', \"year's\", 'winner', 'Hot', '10.', 'Watch', 'live', '8:30'], ['made', 'horchata', 'latte', 'breakfast', '&amp;', 'possible', \"I'm\", 'obsessed'], ['You', 'said', 'it!'], ['Settling', 'new', 'iced', 'coffee.'], ['This', 'unreal,', 'round', 'little', 'family', 'making', 'top', '50!'], ['love', 'voice', 'Twitter', 'feed.', 'THANKS!\"'], ['Trying', 'figure', 'Paw', 'Paw', 'grow', 'northern', 'VT.', 'Fingers', 'crossed\"'], [\"Tonight's\", 'treat', 'home:', 'buttermilk', 'fried', 'chicken', 'blueberry', 'galette.'], ['count??', 'More', 'like', 'snack', 'shelf'], ['Nine', 'writer', '(self', 'included)', 'tell', 'eat'], [\"It's\", 'great', 'day,', 'thing', 'mailbox', 'mag'], ['would', 'shoes?', 'Who', 'would', 'call?', 'After', 'that,', 'ask', 'yourself,'], ['made', 'Roast', 'Duck', 'holiday', 'present', 'ourselves--', 'recommend'], ['The', 'insane', 'early', 'morning', 'routine', 'newscaster', 'like'], ['Funny!', 'Rejected', 'Croix', 'Flavors', 'You', \"Won't\", 'Find', 'Stores.', 'via'], ['Bon', 'Appetit', 'love', 'Atlanta', '&amp;', 'love'], ['How', 'You', 'Tailgate', 'The', 'sum', 'here!'], ['How', 'shot', 'March', 'issue', 'iPhone'], ['And', 'thought', 'love', 'did...'], ['Thanks', 'including'], ['Made', 'tiny', 'version', 'cranberry', 'lime', 'pie', 'tiny', 'dessert', 'great', 'want', 'bite'], ['You', 'guys,', 'know', 'creepy,', 'geeked', 'piece', 'referenced', 'somebody'], ['Made', 'last', 'night.', 'Dee-lish.', 'Sept', 'issue', 'happened', 'slab', 'chuck'], ['no.', 'more.', 'song.', 'lyric.', 'tweets.', 'from.', 'brands.', 'why.', 'does.', 'nobody.', 'listen.', 'to.', 'me.\"'], ['(for', 'reference)'], ['When', 'remember', 'always', 'remember', 'quote', 'coffee', '2016.'], ['Julia', 'Child', 'would', 'proud\"'], ['Thanks', 'wonderful', 'recipe', 'rocked', \"Mother's\", 'Day', 'meal!', 'Need', 'bigger', 'pan', 'though.'], ['The', 'salad', 'welcome', 'burst', 'color', 'flavor', 'mid-January.'], ['The', 'look', 'coincidentally', 'resemble', 'recipes:'], ['How', 'travel', 'abroad', 'vegetarian', '(via'], ['Amber', 'Heard', 'ice', 'cream', 'know:', \"It's\", 'better', 'flower'], ['Oops'], [\"Can't\", 'wait', 'release', 'answer', 'song.\"'], ['successfully', 'made', 'butter', 'sriracha', 'prawn', 'also', 'shrimp', 'stir', 'fried', 'rice!', 'Family', 'loved', 'it!\"'], ['Just', 'followed', 'entire', 'staff', 'use', 'photo', 'filters?', 'BTW', \"I'm\", 'starving'], ['When', 'two', 'classic', 'become', 'one'], ['Whoops', 'sorry', 'forgot', 'dad', 'Frank,', 'bought', 'bon', 'app', 'merch', 'Christmas', '2nd'], ['The', 'Brooklyn-based', 'author', 'becoming', 'adult,', 'pressure', 'getting', 'together.'], ['Maybe', 'favorite', 'recipe', 'ever.'], ['Pretty', 'sure', 'could', 'pick', 'anyone', 'cook', 'would', 'Brad', 'Leone.', 'His', 'video', 'favorite'], ['That', 'look', 'good,', 'kind', 'nudes:'], ['Love', 'this!', 'How', 'Became', 'One', 'Most', 'Popular', 'Food', 'Bloggers', 'Game'], ['This', 'turned', 'beautifully!', 'family', 'already', 'making', 'suggestion', 'again.'], ['Thank', '&amp;', 'big,', 'full', 'heart', 'tiniest', 'town'], ['made', 'recipe', 'cuban-style', 'crispy', 'chicken', 'posted.', 'soooo', 'good.'], ['Just', 'read', \"wife's\", 'would', 'like', 'eat', 'sandwiches.'], ['AWESOME', 'THROWBACK!\"'], ['changing', 'name', 'Apple', 'making', 'weekend.', 'Their', 'social', 'medium', 'manager'], ['office', 'today,', 'taught', 'rutabaga', 'actually', 'Lou', \"Bega's\", 'brother\"'], ['love', 'man', 'much', 'seeing', 'article', 'brought', 'tear', 'eyes.'], ['heard', 'read', 'podcast.', 'cried', 'listening', 'him.', 'much', 'relate', 'empathize'], ['These', 'recipe', 'answer', 'question'], ['Make', 'fudge,', 'stir', 'leftover', 'bourbon', 'sugar', 'tell'], ['And', 'make', 'top', '10!'], ['hey', 'robot.', 'fast', 'custie', 'service.', 'inquired', 'dinner', 'awaiting', 'reply'], ['one', 'twitter', 'right!'], ['Zucchini,', 'potato,', 'red', 'onion', 'pizza,', 'inspired', \"month's\", 'issue'], ['When', 'open', 'Culture', 'issue', 'realize', \"they're\", 'speaking', 'language', '&gt;&gt;&gt;\"'], ['They', 'probably', 'struggling', 'good', 'pun', 'threw', 'kale', 'Mary.\"'], ['Amazing', 'top', '50!', \"Can't\", 'believe', 'recognize', 'Disguise?\"'], [], ['That', 'pie', 'look', 'uh-maxing\"'], ['proud', 'announce', 'named', 'best', 'new', 'restaurant', 'America'], [\"I've\", 'obsessed', 'since', 'youth', 'remember', 'using', 'first', 'atm', 'card', 'like', 'subscribe'], ['really', 'stop', 'making', 'want', 'try', 'painting', 'food', '(no', 'stop,', \"they're\", 'really', 'pretty)'], ['thoroughly', 'entertaining', 'London', 'listener,', 'love', \"'meeting'\", 'people', 'know', 'podcasts'], ['Ate', 'Like', 'Tom', 'Gisele', 'Hours', 'Lived', 'Tell'], ['sold', \"I'll\", 'try', 'it,', 'disbeliever', 'deep-fried', 'turkey', 'til', 'Cajun', 'bird,', \"I'll\"], ['classic', 'focaccia,', 'after.'], ['T-shirt', 'design', 'making\"'], ['Made', 'tonight!', 'Life-changing,', 'indeed!', 'The', 'walnut', 'really', 'took', 'special', 'place.', 'Merci!\"'], [\"It's\", 'going', 'hard', 'wait', 'tonight', 'eat', 'blueberry', 'galette!', 'Smells', 'amazing!'], ['whoever', 'run', 'account', 'snapchat', 'good', 'job.', 'Especially', 'snapchat'], ['The', 'way', 'writes', 'vividly', 'descriptive', 'style', \"I've\", 'ever', 'read.', 'Every', 'issue', 'get', 'better', 'better.\"'], [\"I'm\", 'obsessed', 'Without', 'list.', \"I'm\", \"makin'\", 'everything.'], ['PROUD!!!', 'Great', 'job', 'love'], [\"It's\", 'a.m.', 'must', 'lonely'], ['Been', 'taking', 'many', 'photo', 'food', 'year', 'finally', 'made', 'way', 'onto'], ['made', 'it!', 'delicious!', 'Thanks'], ['This', 'best', 'new', 'restaurant', 'country'], ['want', 'cook', 'everything', \"month's\", 'magazine.\"'], ['big', \"ol'\", 'pancake,', 'basically'], ['Awesome', 'pic', 'Bon', 'Appetit', 'magazine.', 'Captures', 'food', 'perfectly!'], ['made', 'direwolf', 'bread', 'set', 'mood', 'perfectly'], ['Sasha', 'made', 'veggie', 'hoagy', '(recipe', 'via', 'day.', 'Ridiculous.'], ['When', 'cooking,', 'talk', 'cooking.', 'Thanks'], ['Hot', 'damn.', 'goddamn', 'Pulitzer.', 'Thank', 'wonderful', 'magazine', 'letting', 'mouth', '&amp;', 'think', 'loud.\"'], ['Love', 'profile', 'Korean', 'thing', 'loved', 'family,', 'food,'], ['Reading', 'coffee', 'day', 'dreaming', 'Singapore.'], ['favorite', 'twitter', 'account', '2016'], ['Lookit', 'bowl', 'pork', 'chile', 'verde.', 'dare', 'say', 'super.', 'Via'], ['No.', 'You.', \"Didn't.\", '(EPIC', 'tagline!)\"'], ['What', \"we'd\", 'eat', 'breakfast', 'matching', 'sock', 'lifestyle', 'blog'], ['page', 'name!'], ['How', '22-seat', 'tasting-menu', 'spot', 'three', 'chef', 'one', 'ever', 'heard', 'of,', 'city', 'national'], ['also', 'worth', 'every', 'calorie!', \"I've\", 'made', 'several', 'time', 'since', 'got', 'April', 'issue!\"'], ['huge', 'foodie', 'overjoyed', 'piece', 'Happy', 'Monday'], ['Shove', 'feeding', 'tube', 'throat', 'see', 'many', 'put', 'please'], ['Also', 'subscribed', 'first', 'YouTube', 'channel', 'course.\"'], ['want', 'eat', 'time.\"'], ['complaint', 'Keep', \"'em\", 'coming.\"'], ['The', 'story', 'Twitter', 'feed:', 'come', 'food', 'photography,', 'stay', 'snark.'], [\"It's\", 'actually', 'genius', 'marketing', 'behalf.', 'need', 'this?', \"Can't\", 'even', 'type', 'correctly', 'without'], ['TWEET', 'EVER!\"'], ['Was', 'entirely', 'entertained', 'reading', 'Stromboli', 'recipe', 'Such'], ['visual', 'study', 'stunning', 'simplicity', 'one', 'favorite', 'cover', 'ever.'], ['going', 'take', 'anything', 'seriously', 'life,', 'let', 'horoscopes.', 'Just', 'listen'], ['nice,', 'clam', 'really', 'open'], ['superb', 'playlist', 'friend', 'cooking!'], ['long', \"there's\", 'good', 'dessert', 'buffet', 'well-stocked', 'bar,', \"I'm\", 'game!\"'], ['yes,', 'it.'], ['This', 'reference', 'earned', 'follow\"'], ['made', 'The', 'top', 'list?!?!', 'Crazy!', 'honored!', 'Thank'], ['say', 'mozz', 'stick', 'best', 'thing', \"he's\", 'EVER', 'test', 'kitchen', '&amp;', 'get', 'offended'], ['Yes!', 'excited', 'fall', 'recipe', 'First', 'apple', 'crisp', 'season!'], ['proud.', 'Thank', 'congrats', '&amp;', 'Jon', 'Shook!!'], ['could', 'happier', 'second', 'BEST', 'new', 'restaurant', 'country?', \"We're\", 'so,', 'proud', 'friends.\"'], ['Your', 'time', 'come,', 'DC...', 'But', 'now,', 'ruling', 'San', 'Francisco', 'surprise', 'one', 'bit!'], ['great', 'time', 'hanging', 'test', 'kitchen', 'last', 'month..curing', 'egg', 'yolk', 'such...', '(video', 'recipe)'], ['mom:', 'new', 'THE', 'EGG'], ['happy', 'see', 'Healthy', 'taste', 'great!!!'], ['made', 'kimchi', 'soba', 'soup', 'cure', 'blues.', 'Thanks', 'inspiration.', 'Now:', 'cake?', 'writing?', 'Both?\"'], ['published', 'today', 'go,', 'Best', 'NYC', 'food', \"I've\", 'seen', 'ages!'], ['80%', 'reason', \"i'm\", 'still', 'twitter\"'], ['Mutty', 'want', 'share', 'new', 'issue'], ['Fellow', 'food', 'lovers,', 'highly', 'recommend', 'adding', 'foodcast', 'queue.', 'Among', 'favorite', 'interview'], ['recipe', 'open', 'computers!', 'Finally', 'put', 'spin', 'it!'], ['Our', 'friend', 'found', 'best', 'pizza', 'America'], ['Somehow', 'discovered', '&amp;', 'loving', 'foodcast.', 'Big', 'fan', '&amp;', 'Southern', 'food', 'talk!', ':)\"'], ['Speaking', 'crazy', 'people,', 'even', 'say', 'crazy', 'making', 'one!'], ['wrote', 'Red', 'Rooster', 'Brewster,', 'NY.', 'And', 'been,', 'already', 'legend.'], ['said', 'best', 'thing...', 'Paraphrase', 'stir', 'sens', 'nostalgic', 'scent'], ['Not', 'exactly', 'worthy,', 'good', 'enough', 'me!'], ['sincerely', 'hope', 'social', 'team', 'enjoying', 'writing', 'tweet', 'much', 'reading', '(so,', 'like,', 'lot)!\"'], ['win', 'Internet', 'today.'], ['Thankful', 'living', 'city', 'great', 'restaurants.', 'Congrats'], [\"can't\", 'stop', 'eating', 'these.', \"Don't\", 'send', 'help,', 'always', 'hoped', 'would', 'end'], ['look', 'way', 'Italian', 'Americans', 'progressed', 'demonized', 'immigrant', 'group', 'unquestioned', 'part'], ['Backseat', 'Berner', 'one', 'favorite', 'IPAs!', 'Great', 'article.\"'], ['The', 'secret', 'world', 'alex', 'mac'], ['Very', 'easy', 'delicious!!'], [\"I'm\", 'pretty', 'Twitter', 'tonight', 'Making', 'hungry', 'tho!'], ['This', 'morning', \"we're\", 'revealing', 'list', 'best', 'new', 'restaurant', 'America.', 'Their'], ['dressed', 'salt', 'vinegar', 'potato', 'thanks', 'recipe!'], ['greek', 'salad', 'pita', 'sandwich', 'look', 'ah-mazing.', 'Waiting', 'Twitter', 'magically', 'send', 'food', 'favorite.\"'], ['Ridiculous.', 'KILLING', 'video', 'today.'], ['favorite', 'twitter', 'account', 'named', 'favorite', 'city', 'Restaurant', 'City', 'Year', 'life', 'GOOD'], ['Hey', 'incredible', 'thank', 'youuuuu'], ['rich', 'gravy,', 'na-na-na-na-na-na-na-na-na-na-na...'], ['really', 'best', 'place', 'earth!', 'The', 'fudge', 'AMAZING.', 'Now', 'want', 'road-trip', 'one'], ['ohhhhhh,', 'pronounce', 'it!\"'], ['asked', 'several', 'dozen', 'writer', 'gush', 'favorite', 'local', 'joints,', 'wrote', 'charming'], ['Watching', 'Newsroom', 'rerun', 'reading', 'start', 'Sunday.\"'], [\"It's\", 'here:', 'Best', 'New', 'Restaurants', 'America!', 'Shout-out', 'repping', 'PDX!'], ['Some', 'day', 'work', 'ridiculously', 'overwhelming,', 'make', 'salted', 'danish'], ['How', 'make', 'kick-ass', 'marinade,', 'every', 'time'], ['My!', 'found', 'Sunday', 'dinner.', 'Thanks'], ['Thanks', 'putting', 'Indie', 'Food', \"'Zines.\"], ['friend', 'thought', 'crazy', 'suggested', 'recently', '&amp;', 'sriracha', 'toast', 'fav', 'snack'], ['Thrilled', 'finally', '280', 'characters!', \"Here's\", 'favorite', 'cake', 'recipe', 'celebrate:', 'Preheat', 'oven', 'Line'], ['invite', 'me\"'], ['Well,', 'recipe', 'lie.', 'These', 'flakiest', 'biscuit', 'ever'], ['Finished', 'podcast', 'craft', 'beer', 'coffee', 'putting', 'vote', 'Memphis', 'great', 'long', 'weekend', 'beer', 'town.\"'], ['Good', 'skinny', 'food', 'editors.', 'Good', 'not-skinny', 'food', 'editors.', 'Who', 'fuck', 'cares?\"'], ['...', 'day', 'cast', 'iron', 'pot', 'cupful', 'contentment.', 'Thanks', 'simple', 'yet', 'nourishing'], ['cooked', 'craziest', 'T-giving', 'dish', \"70's\", 'mag', 'recreated', 'photos.', 'And', 'wow'], ['ode', 'portion', 'sizes.'], ['many', 'recipe', '2018', 'edition', 'Feel', 'Good', 'Food', 'Plan', 'still', 'regular'], ['Cacio', 'pepe,', 'couple', 'going', 'steady', 'forever', 'always.'], ['bon', 'appetit', 'recipe', 'light,', 'love,', 'life.', 'thank', 'sunshine\"'], ['Quick', 'protein-filled', 'lunch', 'bowl', 'saw', 'newsfeed', 'make', 'it!', 'Brown'], ['love', 'emails,', 'speak', 'deep', 'spiritual', 'level.'], ['minute', 'video', 'Claire', 'making', 'gourmet', 'Doritos?', 'Is...', 'youtube', 'heaven'], ['put', 'lot', 'thing', 'word', 'able', 'to,', \"I'm\", 'really', 'proud', 'publish'], [\"Y'all,\", 'get', 'me.'], ['gifs', 'today', 'deserve', 'flame', 'emojis\"'], ['Thank', 'Cacio', 'Pepe', 'recipe.', 'Subbed', 'whole', 'wheat', 'pasta.'], ['Team', 'way', 'May', 'best', 'nacho', 'win', 'delectable', '50-ingredient', 'challenge!!'], ['Thanks', 'cookbook', 'idea', 'AND', 'chef', 'follow'], ['clean', 'snack', 'Homemade', 'Almond', 'Butter', '&amp;', 'Sexy', 'Apples', 'thanks'], ['love', 'city', 'guides.', 'Used', 'different', 'one', 'month', '(SF,', 'MIA,', 'ATX)', 'steered', 'wrong.', 'Highly', 'recommend.\"'], ['became', 'adult', 'feed', 'Relatable', 'Internet', 'Content,', 'uh,', \"here's\"], ['happy', 'neighbor', 'glad', 'another', 'res.', 'weeks.', 'There', 'table', 'left', 'thanks', 'list\"'], ['Happy', 'folk', 'Giant'], ['tested', 'rec', 'using', 'mayo', 'instead', 'butter', 'grilled', 'cheese...', \"y'all!\"], ['dare', 'make', 'cry', 'early', 'morning!!!\"'], ['sleigh', 'bell', 'schnitzel'], ['(our', 'no.', 'resto!)', 'make', 'best', 'French', 'food', 'ever', 'eaten'], ['Made', 'Iron-Skillet', 'Peach', 'Crisp'], ['Prune', 'Pistachio', 'Oat', 'Bars', 'recipe.', 'Also,', 'Pac-Man'], ['Sage', 'Eden', 'Pottery', '(my', 'wife)', 'made', 'pottery', 'nonesuch.', 'proud', 'nonesuch.'], ['The', 'issue', 'came.', 'little', 'bonding', 'reading', 'combined', 'spelling', 'cooking'], ['Shouts', 'hometown', 'PHL', 'rocking', 'Best', 'New', 'Restaurant', 'America.', 'RED', 'SAUCE', 'NATION.', 'BLESSED.'], ['Best', 'comparisons.'], ['Thank', 'combining', 'food', 'red', 'carpet', 'couture,', 'love', 'things.'], ['Thank'], ['Bay', 'Area', 'rep', 'Best', 'New', 'Restos'], ['What', 'fun,', 'enjoyable', 'piece', 'sturgeon', 'spearing,', 'ice', 'fishing,', 'beers,', 'connected', 'community\"'], ['Totes.', 'Read', 'Natch.'], ['Money', 'talks,', 'five', 'places,', 'saying:', 'love', 'business', 'use'], ['The', 'listen,', 'enjoy', 'food', 'podcast.', 'great', 'job', 'interviews.'], ['Whoever', 'think', 'darn', 'good', 'food', 'pun', 'genius!\"']]\n"
     ]
    },
    {
     "name": "stdout",
     "output_type": "stream",
     "text": [
      "(3417, 14)\n",
      "[ 0  1  2  3  4  5  6  7  8  9 10 11 12 13]\n",
      "[132 134 615 150 282 736 391  15 773  40  10  17  75  47]\n"
     ]
    },
    {
     "data": {
      "text/plain": [
       "'Lifestyle and Help'"
      ]
     },
     "execution_count": 189,
     "metadata": {},
     "output_type": "execute_result"
    }
   ],
   "source": [
    "techcrunch = RedditCategoryPredictor()\n",
    "techcrunch"
   ]
  },
  {
   "cell_type": "code",
   "execution_count": 175,
   "metadata": {},
   "outputs": [
    {
     "data": {
      "text/plain": [
       "Images, Gifs, and Videos                               28489\n",
       "Lifestyle and Help                                     24503\n",
       "Entertainment - Gaming                                 20862\n",
       "Humor                                                  17844\n",
       "Entertainment - Other (Movies/Music/Franchies/Misc)    12927\n",
       "Entertainment - Television                             12925\n",
       "Emotional Reaction Fuel                                10912\n",
       "Sports                                                  7979\n",
       "News and Issues                                         7978\n",
       "Discussion and Stories                                  7937\n",
       "Learning and Thinking                                   6815\n",
       "Technology                                              4962\n",
       "Race, Gender, and Identity                              4948\n",
       "Places                                                  3974\n",
       "Name: 0, dtype: int64"
      ]
     },
     "execution_count": 175,
     "metadata": {},
     "output_type": "execute_result"
    }
   ],
   "source": [
    "reddit_df_stopped[0].value_counts()"
   ]
  },
  {
   "cell_type": "markdown",
   "metadata": {},
   "source": [
    "## Getting Related Subreddits"
   ]
  },
  {
   "cell_type": "code",
   "execution_count": 31,
   "metadata": {},
   "outputs": [],
   "source": [
    "driver = webdriver.Chrome()\n",
    "driver.get('https://anvaka.github.io/redsim/')"
   ]
  },
  {
   "cell_type": "code",
   "execution_count": 32,
   "metadata": {},
   "outputs": [],
   "source": [
    "related_subreddits = {}\n",
    "for i in clean_subs:\n",
    "    searchbox = driver.find_element_by_id('search-input')\n",
    "    searchbox.send_keys(i)\n",
    "    driver.find_element_by_class_name('btn').click()\n",
    "    result_subs = driver.find_elements_by_xpath(\"//div[contains(@ng-repeat, 'sub in to')]\")\n",
    "    for s in result_subs:\n",
    "        related_subreddits.setdefault(i,[]).append(s.text) \n",
    "    driver.find_element_by_id('search-input').clear()\n",
    "        "
   ]
  },
  {
   "cell_type": "code",
   "execution_count": 33,
   "metadata": {},
   "outputs": [
    {
     "data": {
      "text/plain": [
       "['technology', 'science', 'politics']"
      ]
     },
     "execution_count": 33,
     "metadata": {},
     "output_type": "execute_result"
    }
   ],
   "source": [
    "list(related_subreddits.values())[2]"
   ]
  },
  {
   "cell_type": "code",
   "execution_count": 36,
   "metadata": {},
   "outputs": [
    {
     "data": {
      "text/plain": [
       "{'AskReddit': ['funny',\n",
       "  'pics',\n",
       "  'todayilearned',\n",
       "  'videos',\n",
       "  'WTF',\n",
       "  'AdviceAnimals',\n",
       "  'gaming',\n",
       "  'gifs',\n",
       "  'news',\n",
       "  'worldnews',\n",
       "  'movies'],\n",
       " 'IAmA': ['todayilearned'],\n",
       " 'bestof': ['technology', 'science', 'politics'],\n",
       " 'fatpeoplestories': ['fatlogic',\n",
       "  'TalesofFatHate',\n",
       "  'neckbeardstories',\n",
       "  'weeabootales',\n",
       "  'TalesFromRetail',\n",
       "  'pettyrevenge',\n",
       "  'fatpeoplehate',\n",
       "  'TumblrInAction'],\n",
       " 'pettyrevenge': ['TalesFromRetail',\n",
       "  'ProRevenge',\n",
       "  'talesfromtechsupport',\n",
       "  'fatpeoplestories',\n",
       "  'JusticePorn',\n",
       "  'TalesFromYourServer'],\n",
       " 'TalesFromRetail': ['talesfromtechsupport',\n",
       "  'pettyrevenge',\n",
       "  'TalesFromYourServer',\n",
       "  'TalesFromTheCustomer',\n",
       "  'IDontWorkHereLady',\n",
       "  'fatpeoplestories'],\n",
       " 'CrazyIdeas': ['NoStupidQuestions',\n",
       "  'Lightbulb',\n",
       "  'Unexpected',\n",
       "  'OutOfTheLoop',\n",
       "  'mildlyinfuriating'],\n",
       " 'WTF': ['pics',\n",
       "  'funny',\n",
       "  'AdviceAnimals',\n",
       "  'todayilearned',\n",
       "  'videos',\n",
       "  'gifs',\n",
       "  'gaming',\n",
       "  'worldnews',\n",
       "  'AskReddit',\n",
       "  'news',\n",
       "  'aww',\n",
       "  'movies'],\n",
       " 'aww': ['pics',\n",
       "  'gifs',\n",
       "  'funny',\n",
       "  'todayilearned',\n",
       "  'AdviceAnimals',\n",
       "  'videos',\n",
       "  'mildlyinteresting',\n",
       "  'WTF',\n",
       "  'gaming',\n",
       "  'news',\n",
       "  'worldnews',\n",
       "  'Showerthoughts',\n",
       "  'movies'],\n",
       " 'cringepics': ['cringe'],\n",
       " 'cringe': ['cringepics', 'JusticePorn', 'PublicFreakout', 'rage'],\n",
       " 'JusticePorn': ['cringe', 'PublicFreakout'],\n",
       " 'MorbidReality': ['watchpeopledie', 'rage'],\n",
       " 'rage': ['cringe', 'JusticePorn', 'cringepics', 'PublicFreakout'],\n",
       " 'mildlyinfuriating': ['oddlysatisfying',\n",
       "  'CrappyDesign',\n",
       "  'interestingasfuck',\n",
       "  'Unexpected',\n",
       "  'facepalm',\n",
       "  'woahdude',\n",
       "  'mildlyinteresting',\n",
       "  'cringepics',\n",
       "  'reactiongifs'],\n",
       " 'creepy': ['mildlyinteresting',\n",
       "  'Showerthoughts',\n",
       "  'nottheonion',\n",
       "  'gifs',\n",
       "  'OldSchoolCool',\n",
       "  'tifu',\n",
       "  'Jokes',\n",
       "  'aww'],\n",
       " 'creepyPMs': ['niceguys',\n",
       "  'TheBluePill',\n",
       "  'TrollXChromosomes',\n",
       "  'cringepics',\n",
       "  'iamverysmart',\n",
       "  'justneckbeardthings'],\n",
       " 'nosleep': ['creepy',\n",
       "  'LetsNotMeet',\n",
       "  'tifu',\n",
       "  'shortscarystories',\n",
       "  'Jokes',\n",
       "  'WritingPrompts',\n",
       "  'Showerthoughts'],\n",
       " 'nostalgia': ['trashy'],\n",
       " 'gaming': ['funny', 'pics', 'todayilearned', 'gifs', 'videos'],\n",
       " 'leagueoflegends': ['summonerschool', 'hearthstone'],\n",
       " 'pokemon': ['nintendo', 'smashbros', '3DS'],\n",
       " 'Minecraft': ['minecraftsuggestions',\n",
       "  'feedthebeast',\n",
       "  'mindcrack',\n",
       "  'skyrim',\n",
       "  'pokemon',\n",
       "  'tf2'],\n",
       " 'starcraft': ['AllThingsTerran',\n",
       "  'allthingszerg',\n",
       "  'allthingsprotoss',\n",
       "  'heroesofthestorm',\n",
       "  'hearthstone',\n",
       "  'Destiny',\n",
       "  'Diablo',\n",
       "  'StarcraftCirclejerk',\n",
       "  'Games',\n",
       "  'wow',\n",
       "  'GlobalOffensive',\n",
       "  'DotA2',\n",
       "  'Cynicalbrit',\n",
       "  'MechanicalKeyboards'],\n",
       " 'Games': ['pcgaming',\n",
       "  'witcher',\n",
       "  'gaming',\n",
       "  'movies',\n",
       "  'technology',\n",
       "  'GameDeals',\n",
       "  'PS4',\n",
       "  'truegaming',\n",
       "  'worldnews',\n",
       "  'pcmasterrace'],\n",
       " 'DotA2': ['learndota2',\n",
       "  'Games',\n",
       "  'GlobalOffensive',\n",
       "  'Dota2Trade',\n",
       "  'pcmasterrace',\n",
       "  'hearthstone'],\n",
       " 'skyrim': ['skyrimmods', 'Fallout'],\n",
       " 'tf2': ['truetf2',\n",
       "  'Steam',\n",
       "  'TF2fashionadvice',\n",
       "  'bindingofisaac',\n",
       "  'RandomActsOfTf2',\n",
       "  'paydaytheheist',\n",
       "  'Minecraft',\n",
       "  'fivenightsatfreddys',\n",
       "  'tf2trade',\n",
       "  '4chan',\n",
       "  'JonTron',\n",
       "  'smashbros',\n",
       "  'trollabot',\n",
       "  'gamegrumps'],\n",
       " 'magicTCG': ['EDH',\n",
       "  'spikes',\n",
       "  'ModernMagic',\n",
       "  'custommagic',\n",
       "  'MTGLegacy',\n",
       "  'lrcast',\n",
       "  'mtgfinance',\n",
       "  'Magicdeckbuilding',\n",
       "  'hearthstone',\n",
       "  'mtgcube',\n",
       "  'DnD'],\n",
       " 'wow': ['hearthstone', 'heroesofthestorm', 'Games', 'gaming', 'Diablo'],\n",
       " 'KerbalSpaceProgram': ['space', 'KerbalAcademy', 'CitiesSkylines', 'spacex'],\n",
       " 'mindcrack': ['MindcrackDiscussion',\n",
       "  'ethoslab',\n",
       "  'BuffaloWizards',\n",
       "  'mindcrackcirclejerk',\n",
       "  'HermitCraft',\n",
       "  'Minecraft',\n",
       "  'playmindcrack',\n",
       "  'ultrahardcore',\n",
       "  'feedthebeast',\n",
       "  'minecraftsuggestions',\n",
       "  'LordsOfMinecraft'],\n",
       " 'Fallout': ['skyrim', 'falloutlore'],\n",
       " 'roosterteeth': ['funhaus',\n",
       "  'RWBY',\n",
       "  'brownman',\n",
       "  'gamegrumps',\n",
       "  'halo',\n",
       "  'xboxone',\n",
       "  'RedvsBlue',\n",
       "  'Games',\n",
       "  'GrandTheftAutoV'],\n",
       " 'Planetside': ['EmeraldPS2',\n",
       "  'Connery',\n",
       "  'MillerPlanetside',\n",
       "  'Briggs',\n",
       "  'PS2Cobalt',\n",
       "  'PlanetsideBattles',\n",
       "  'ps2ragetells',\n",
       "  'starcitizen',\n",
       "  'Warframe',\n",
       "  'h1z1',\n",
       "  'harasser',\n",
       "  'EliteDangerous',\n",
       "  'spaceengineers'],\n",
       " 'gamegrumps': ['JonTron',\n",
       "  'VentGrumps',\n",
       "  'ConspiracyGrumps',\n",
       "  'nintendo',\n",
       "  'roosterteeth',\n",
       "  'smashbros',\n",
       "  'pokemon',\n",
       "  'splatoon',\n",
       "  'fivenightsatfreddys',\n",
       "  'Sleepycabin',\n",
       "  'wiiu',\n",
       "  'stevenuniverse',\n",
       "  'TwoBestFriendsPlay',\n",
       "  'tf2'],\n",
       " 'battlefield3': ['battlefield_4',\n",
       "  'Battlefield_4_CTE',\n",
       "  'Battlefield',\n",
       "  'BF_Hardline',\n",
       "  'battlefeels',\n",
       "  'badcompany2',\n",
       "  'StarWarsBattlefront',\n",
       "  'gamingpc',\n",
       "  'VeniceUnleashed'],\n",
       " 'zelda': ['nintendo',\n",
       "  'truezelda',\n",
       "  'wiiu',\n",
       "  '3DS',\n",
       "  'splatoon',\n",
       "  'pokemon',\n",
       "  'Metroid',\n",
       "  'AnimalCrossing',\n",
       "  'gamegrumps',\n",
       "  'FinalFantasy'],\n",
       " 'darksouls': ['DarkSouls2',\n",
       "  'bloodborne',\n",
       "  'demonssouls',\n",
       "  'onebros',\n",
       "  'DarkSoulsHelp',\n",
       "  'truegaming',\n",
       "  'skyrim',\n",
       "  'Games',\n",
       "  'Fallout',\n",
       "  'shittydarksouls',\n",
       "  'fashionsouls',\n",
       "  'patientgamers',\n",
       "  'whowouldwin',\n",
       "  'TwoBestFriendsPlay'],\n",
       " 'masseffect': ['dragonage',\n",
       "  'MECoOp',\n",
       "  'Fallout',\n",
       "  'skyrim',\n",
       "  'halo',\n",
       "  'StarWars'],\n",
       " 'arresteddevelopment': ['30ROCK',\n",
       "  'seinfeld',\n",
       "  'IASIP',\n",
       "  'PandR',\n",
       "  'ArcherFX',\n",
       "  'community',\n",
       "  'DunderMifflin',\n",
       "  'futurama',\n",
       "  'TheSimpsons'],\n",
       " 'gameofthrones': ['asoiaf', 'movies'],\n",
       " 'doctorwho': ['gallifrey', 'DoctorWhumour'],\n",
       " 'mylittlepony': ['MLPLounge',\n",
       "  'ploungeafterdark',\n",
       "  'falloutequestria',\n",
       "  'stevenuniverse',\n",
       "  'ClopClop',\n",
       "  'furry',\n",
       "  'gravityfalls',\n",
       "  'MLPdrawingschool',\n",
       "  'mylittleandysonic1'],\n",
       " 'community': ['Harmontown',\n",
       "  'rickandmorty',\n",
       "  'arrow',\n",
       "  'shield',\n",
       "  'FlashTV',\n",
       "  'SiliconValleyHBO',\n",
       "  'television',\n",
       "  'marvelstudios',\n",
       "  'Marvel',\n",
       "  'comicbooks',\n",
       "  'madmen'],\n",
       " 'breakingbad': ['betterCallSaul',\n",
       "  'thewalkingdead',\n",
       "  'DunderMifflin',\n",
       "  'IASIP',\n",
       "  'southpark'],\n",
       " 'adventuretime': ['stevenuniverse',\n",
       "  'gravityfalls',\n",
       "  'rickandmorty',\n",
       "  'TheLastAirbender',\n",
       "  'community',\n",
       "  'pokemon',\n",
       "  'gamegrumps',\n",
       "  'comics',\n",
       "  'mylittlepony'],\n",
       " 'startrek': ['DaystromInstitute',\n",
       "  'scifi',\n",
       "  'Treknobabble',\n",
       "  'sto',\n",
       "  'StarWars',\n",
       "  'Stargate',\n",
       "  'AskScienceFiction'],\n",
       " 'TheSimpsons': ['futurama', 'KingOfTheHill', 'southpark', 'seinfeld'],\n",
       " 'futurama': ['TheSimpsons', 'southpark', 'ArcherFX'],\n",
       " 'HIMYM': ['howyoudoin',\n",
       "  'Scrubs',\n",
       "  'bigbangtheory',\n",
       "  'PandR',\n",
       "  'OnceUponATime',\n",
       "  'DunderMifflin'],\n",
       " 'DunderMifflin': ['PandR',\n",
       "  'IASIP',\n",
       "  'howyoudoin',\n",
       "  'breakingbad',\n",
       "  'seinfeld',\n",
       "  'arresteddevelopment',\n",
       "  'trailerparkboys',\n",
       "  'community',\n",
       "  'TheSimpsons'],\n",
       " 'thewalkingdead': ['gameofthrones',\n",
       "  'betterCallSaul',\n",
       "  'breakingbad',\n",
       "  'arrow',\n",
       "  'batman',\n",
       "  'Marvel',\n",
       "  'FlashTV',\n",
       "  'StarWars',\n",
       "  'marvelstudios',\n",
       "  'comicbooks'],\n",
       " 'movies': ['todayilearned',\n",
       "  'videos',\n",
       "  'pics',\n",
       "  'news',\n",
       "  'worldnews',\n",
       "  'funny',\n",
       "  'gaming',\n",
       "  'gifs',\n",
       "  'television',\n",
       "  'AdviceAnimals',\n",
       "  'WTF'],\n",
       " 'harrypotter': ['HPfanfiction',\n",
       "  'TrollXChromosomes',\n",
       "  'FanTheories',\n",
       "  'doctorwho',\n",
       "  'StarWars'],\n",
       " 'StarWars': ['Marvel', 'movies'],\n",
       " 'DaftPunk': ['tron',\n",
       "  'EdBangerRecords',\n",
       "  'deadmau5',\n",
       "  'gorillaz',\n",
       "  'FrenchHouse',\n",
       "  'electronicmusic'],\n",
       " 'hiphopheads': ['nba',\n",
       "  'BlackPeopleTwitter',\n",
       "  'streetwear',\n",
       "  'nfl',\n",
       "  'Sneakers',\n",
       "  'makinghiphop',\n",
       "  'Music',\n",
       "  'HipHopImages'],\n",
       " 'anime': ['manga', 'Animesuggest', 'Games'],\n",
       " 'comicbooks': ['Marvel',\n",
       "  'DCcomics',\n",
       "  'marvelstudios',\n",
       "  'FlashTV',\n",
       "  'batman',\n",
       "  'arrow',\n",
       "  'shield',\n",
       "  'comicbookmovies',\n",
       "  'whowouldwin'],\n",
       " 'geek': ['offbeat', 'comics', 'scifi'],\n",
       " 'batman': ['DCcomics',\n",
       "  'comicbooks',\n",
       "  'Marvel',\n",
       "  'arrow',\n",
       "  'FlashTV',\n",
       "  'BatmanArkham',\n",
       "  'comicbookmovies',\n",
       "  'marvelstudios',\n",
       "  'superman',\n",
       "  'Gotham',\n",
       "  'StarWars',\n",
       "  'Spiderman'],\n",
       " 'TheLastAirbender': ['korrasami',\n",
       "  'stevenuniverse',\n",
       "  'adventuretime',\n",
       "  'whowouldwin',\n",
       "  'pokemon',\n",
       "  'gravityfalls',\n",
       "  'AskScienceFiction',\n",
       "  'Naruto',\n",
       "  'ShingekiNoKyojin'],\n",
       " 'Naruto': ['bleach',\n",
       "  'OnePiece',\n",
       "  'fairytail',\n",
       "  'dbz',\n",
       "  'manga',\n",
       "  'anime',\n",
       "  'BokuNoHeroAcademia',\n",
       "  'ShingekiNoKyojin',\n",
       "  'TokyoGhoul',\n",
       "  'whowouldwin',\n",
       "  'pokemon',\n",
       "  'TheLastAirbender',\n",
       "  'FlashTV',\n",
       "  'HunterXHunter'],\n",
       " 'FanTheories': ['AskScienceFiction', 'whowouldwin', 'marvelstudios'],\n",
       " 'funny': ['pics',\n",
       "  'todayilearned',\n",
       "  'AdviceAnimals',\n",
       "  'videos',\n",
       "  'AskReddit',\n",
       "  'WTF',\n",
       "  'gifs',\n",
       "  'gaming',\n",
       "  'news',\n",
       "  'worldnews',\n",
       "  'aww',\n",
       "  'movies',\n",
       "  'Showerthoughts',\n",
       "  'mildlyinteresting'],\n",
       " 'AdviceAnimals': ['funny',\n",
       "  'pics',\n",
       "  'WTF',\n",
       "  'todayilearned',\n",
       "  'videos',\n",
       "  'gifs',\n",
       "  'gaming',\n",
       "  'news',\n",
       "  'AskReddit',\n",
       "  'worldnews',\n",
       "  'aww',\n",
       "  'movies',\n",
       "  'technology'],\n",
       " 'fffffffuuuuuuuuuuuu': ['facepalm', 'iiiiiiitttttttttttt', 'comics'],\n",
       " '4chan': ['BlackPeopleTwitter',\n",
       "  'TumblrInAction',\n",
       "  'ImGoingToHellForThis',\n",
       "  'me_irl',\n",
       "  'cringepics'],\n",
       " 'ImGoingToHellForThis': ['4chan', 'BlackPeopleTwitter'],\n",
       " 'circlejerk': ['4chan',\n",
       "  'me_irl',\n",
       "  'lewronggeneration',\n",
       "  'shittyaskscience',\n",
       "  'justneckbeardthings',\n",
       "  'ImGoingToHellForThis',\n",
       "  'thatHappened',\n",
       "  'BlackPeopleTwitter',\n",
       "  'CringeAnarchy'],\n",
       " 'MURICA': ['ImGoingToHellForThis'],\n",
       " 'facepalm': ['cringepics'],\n",
       " 'Jokes': ['Showerthoughts', 'tifu', 'mildlyinteresting', 'nottheonion'],\n",
       " 'polandball': ['europe',\n",
       "  'MapPorn',\n",
       "  'vexillology',\n",
       "  'paradoxplaza',\n",
       "  'eu4',\n",
       "  'CrusaderKings',\n",
       "  'civ'],\n",
       " 'TrollXChromosomes': ['TrollYChromosome',\n",
       "  'AskWomen',\n",
       "  'AskTrollX',\n",
       "  'MakeupAddiction',\n",
       "  'TwoXChromosomes'],\n",
       " 'nottheonion': ['news'],\n",
       " 'britishproblems': ['unitedkingdom',\n",
       "  'BritishSuccess',\n",
       "  'ukpolitics',\n",
       "  'AskUK',\n",
       "  'london',\n",
       "  'europe',\n",
       "  'BritishTV',\n",
       "  'Scotland',\n",
       "  'ShitAmericansSay',\n",
       "  'MapPorn',\n",
       "  'polandball',\n",
       "  'soccer',\n",
       "  'formula1'],\n",
       " 'TumblrInAction': ['KotakuInAction',\n",
       "  '4chan',\n",
       "  'fatlogic',\n",
       "  'cringepics',\n",
       "  'fatpeoplehate',\n",
       "  'thatHappened',\n",
       "  'BlackPeopleTwitter',\n",
       "  'iamverysmart',\n",
       "  'nottheonion'],\n",
       " 'pics': ['funny',\n",
       "  'todayilearned',\n",
       "  'videos',\n",
       "  'AskReddit',\n",
       "  'WTF',\n",
       "  'gifs',\n",
       "  'AdviceAnimals',\n",
       "  'gaming',\n",
       "  'news',\n",
       "  'worldnews',\n",
       "  'aww',\n",
       "  'movies'],\n",
       " 'videos': ['pics',\n",
       "  'todayilearned',\n",
       "  'funny',\n",
       "  'gifs',\n",
       "  'worldnews',\n",
       "  'WTF',\n",
       "  'news',\n",
       "  'AskReddit',\n",
       "  'gaming',\n",
       "  'movies',\n",
       "  'AdviceAnimals',\n",
       "  'aww'],\n",
       " 'gifs': ['pics',\n",
       "  'funny',\n",
       "  'videos',\n",
       "  'todayilearned',\n",
       "  'gaming',\n",
       "  'news',\n",
       "  'WTF',\n",
       "  'AdviceAnimals',\n",
       "  'aww',\n",
       "  'worldnews',\n",
       "  'mildlyinteresting',\n",
       "  'Showerthoughts',\n",
       "  'movies'],\n",
       " 'reactiongifs': ['BlackPeopleTwitter'],\n",
       " 'mildlyinteresting': ['gifs', 'Showerthoughts'],\n",
       " 'woahdude': ['interestingasfuck'],\n",
       " 'FiftyFifty': ['Unexpected', 'ImGoingToHellForThis', 'watchpeopledie'],\n",
       " 'FoodPorn': ['shittyfoodporn', 'Cooking', 'food', 'AskCulinary'],\n",
       " 'HistoryPorn': ['MapPorn', 'MilitaryPorn'],\n",
       " 'wallpapers': ['wallpaper'],\n",
       " 'youtubehaiku': ['me_irl',\n",
       "  'DeepIntoYouTube',\n",
       "  'GamePhysics',\n",
       "  'ContagiousLaughter',\n",
       "  'shittyreactiongifs',\n",
       "  'NotTimAndEric',\n",
       "  'Unexpected',\n",
       "  'cringe',\n",
       "  '4chan'],\n",
       " 'Unexpected': ['interestingasfuck',\n",
       "  'woahdude',\n",
       "  'oddlysatisfying',\n",
       "  'mildlyinfuriating',\n",
       "  'reactiongifs',\n",
       "  'Whatcouldgowrong'],\n",
       " 'AnimalsBeingJerks': ['AnimalsBeingBros',\n",
       "  'Whatcouldgowrong',\n",
       "  'Unexpected',\n",
       "  'nonononoyes',\n",
       "  'holdmybeer',\n",
       "  'instant_regret',\n",
       "  'StartledCats'],\n",
       " 'cosplay': ['cosplayers', 'cosplaygirls', 'batman'],\n",
       " 'EarthPorn': ['OldSchoolCool'],\n",
       " 'QuotesPorn': ['quotes', 'SandersForPresident', 'HistoryPorn'],\n",
       " 'awwnime': ['pantsu',\n",
       "  'animegifs',\n",
       "  'KanMusu',\n",
       "  'ZettaiRyouiki',\n",
       "  'kemonomimi',\n",
       "  'Animewallpaper',\n",
       "  'ecchi'],\n",
       " 'AbandonedPorn': ['HistoryPorn',\n",
       "  'urbanexploration',\n",
       "  'whatisthisthing',\n",
       "  'Justrolledintotheshop'],\n",
       " 'carporn': ['Autos',\n",
       "  'cars',\n",
       "  'Shitty_Car_Mods',\n",
       "  'spotted',\n",
       "  'Justrolledintotheshop',\n",
       "  'TopGear',\n",
       "  'BMW',\n",
       "  'exoticspotting',\n",
       "  'Stance',\n",
       "  'subaru',\n",
       "  'formula1',\n",
       "  'WeirdWheels',\n",
       "  'MilitaryPorn',\n",
       "  'Porsche'],\n",
       " 'PerfectTiming': ['holdmybeer',\n",
       "  'Whatcouldgowrong',\n",
       "  'AnimalsBeingJerks',\n",
       "  'Unexpected',\n",
       "  'nonononoyes',\n",
       "  'nononono',\n",
       "  'StartledCats'],\n",
       " 'OldSchoolCool': ['nottheonion', 'mildlyinteresting', 'creepy'],\n",
       " 'Pareidolia': ['Perfectfit',\n",
       "  'misleadingthumbnails',\n",
       "  'GamePhysics',\n",
       "  'shittyrobots',\n",
       "  'wheredidthesodago'],\n",
       " 'MapPorn': ['europe',\n",
       "  'polandball',\n",
       "  'vexillology',\n",
       "  'HistoryPorn',\n",
       "  'dataisbeautiful',\n",
       "  'paradoxplaza',\n",
       "  'eu4',\n",
       "  'AskHistorians',\n",
       "  'unitedkingdom'],\n",
       " 'tumblr': ['me_irl'],\n",
       " 'techsupportgore': ['techsupportmacgyver',\n",
       "  'talesfromtechsupport',\n",
       "  'softwaregore',\n",
       "  'Justrolledintotheshop',\n",
       "  'OSHA',\n",
       "  'sysadmin',\n",
       "  'CrappyDesign',\n",
       "  'Shitty_Car_Mods'],\n",
       " 'PrettyGirls': ['gentlemanboners',\n",
       "  'FreckledGirls',\n",
       "  'Celebs',\n",
       "  'randomsexiness',\n",
       "  'starlets'],\n",
       " 'itookapicture': ['photocritique', 'photography', 'ExposurePorn', 'analog'],\n",
       " 'todayilearned': ['pics',\n",
       "  'funny',\n",
       "  'worldnews',\n",
       "  'videos',\n",
       "  'news',\n",
       "  'WTF',\n",
       "  'gifs',\n",
       "  'AdviceAnimals',\n",
       "  'AskReddit',\n",
       "  'gaming',\n",
       "  'movies'],\n",
       " 'science': ['technology',\n",
       "  'worldnews',\n",
       "  'news',\n",
       "  'politics',\n",
       "  'Futurology',\n",
       "  'todayilearned',\n",
       "  'nottheonion',\n",
       "  'explainlikeimfive',\n",
       "  'askscience'],\n",
       " 'askscience': ['science',\n",
       "  'explainlikeimfive',\n",
       "  'space',\n",
       "  'Futurology',\n",
       "  'dataisbeautiful'],\n",
       " 'space': ['Futurology',\n",
       "  'science',\n",
       "  'KerbalSpaceProgram',\n",
       "  'nottheonion',\n",
       "  'askscience',\n",
       "  'dataisbeautiful',\n",
       "  'gadgets'],\n",
       " 'AskHistorians': ['badhistory', 'history', 'MapPorn', 'HistoryPorn'],\n",
       " 'YouShouldKnow': ['lifehacks', 'offbeat', 'TrueReddit'],\n",
       " 'explainlikeimfive': ['todayilearned',\n",
       "  'news',\n",
       "  'Showerthoughts',\n",
       "  'worldnews',\n",
       "  'gifs'],\n",
       " 'MakeupAddiction': ['SkincareAddiction',\n",
       "  'TrollXChromosomes',\n",
       "  'muacirclejerk',\n",
       "  'makeupexchange',\n",
       "  'femalefashionadvice',\n",
       "  'FancyFollicles',\n",
       "  'AsianBeauty',\n",
       "  'muacjdiscussion',\n",
       "  'AskWomen',\n",
       "  'Indiemakeupandmore'],\n",
       " 'cats': ['aww', 'AnimalsBeingJerks', 'catpictures'],\n",
       " 'LifeProTips': ['explainlikeimfive',\n",
       "  'Showerthoughts',\n",
       "  'mildlyinteresting',\n",
       "  'nottheonion',\n",
       "  'tifu',\n",
       "  'todayilearned',\n",
       "  'news',\n",
       "  'gifs',\n",
       "  'Jokes'],\n",
       " 'RedditLaqueristas': ['RandomActsOfPolish',\n",
       "  'FancyFollicles',\n",
       "  'MakeupAddiction'],\n",
       " 'Random_Acts_Of_Amazon': ['Wishlist',\n",
       "  'randomactsofamazon',\n",
       "  'TradeOrGift',\n",
       "  'RandomKindness',\n",
       "  'Assistance',\n",
       "  'secretsanta',\n",
       "  'Random_Acts_Of_Pizza',\n",
       "  'RAOAWriters',\n",
       "  'RandomActsOfPolish',\n",
       "  'RandomActsOfPizza',\n",
       "  'RandomActsofMakeup',\n",
       "  'GiftofGames'],\n",
       " 'food': ['mildlyinteresting'],\n",
       " 'guns': ['Firearms',\n",
       "  'ar15',\n",
       "  'CCW',\n",
       "  'gundeals',\n",
       "  'weekendgunnit',\n",
       "  'progun',\n",
       "  'GunPorn',\n",
       "  'Gunsforsale',\n",
       "  'ak47'],\n",
       " 'tattoos': ['badtattoos', 'tattoo', 'trashy'],\n",
       " 'corgi': ['BabyCorgis',\n",
       "  'goldenretrievers',\n",
       "  'dogpictures',\n",
       "  'AnimalsBeingBros',\n",
       "  'dogs',\n",
       "  'Dachshund',\n",
       "  'Eyebleach',\n",
       "  'BeforeNAfterAdoption',\n",
       "  'puppy101',\n",
       "  'hardcoreaww',\n",
       "  'AnimalsBeingDerps',\n",
       "  'Awwducational',\n",
       "  'AnimalsBeingJerks'],\n",
       " 'teenagers': ['BlackPeopleTwitter',\n",
       "  'me_irl',\n",
       "  '4chan',\n",
       "  'APStudents',\n",
       "  'CasualConversation',\n",
       "  'streetwear'],\n",
       " 'GetMotivated': ['UpliftingNews'],\n",
       " 'motorcycles': ['bikesgonewild',\n",
       "  'CalamariRaceTeam',\n",
       "  'Justrolledintotheshop',\n",
       "  'cars'],\n",
       " 'sex': ['relationships',\n",
       "  'AskWomen',\n",
       "  'AskMen',\n",
       "  'relationship_advice',\n",
       "  'TwoXChromosomes',\n",
       "  'TrollXChromosomes',\n",
       "  'offmychest',\n",
       "  'tifu'],\n",
       " 'progresspics': ['loseit', 'xxfitness', '1200isplenty', 'fatlogic', 'keto'],\n",
       " 'bicycling': ['bikecommuting',\n",
       "  'cycling',\n",
       "  'bikewrench',\n",
       "  'MTB',\n",
       "  'FixedGearBicycle',\n",
       "  'bicycletouring',\n",
       "  'Velo',\n",
       "  'peloton',\n",
       "  'Bikeporn',\n",
       "  'cyclocross',\n",
       "  'running',\n",
       "  'Justrolledintotheshop'],\n",
       " 'Fitness': ['bodybuilding'],\n",
       " 'lifehacks': ['YouShouldKnow',\n",
       "  'mildlyinfuriating',\n",
       "  'interestingasfuck',\n",
       "  'Frugal',\n",
       "  'LifeProTips',\n",
       "  'facepalm',\n",
       "  'woahdude',\n",
       "  'oddlysatisfying',\n",
       "  'Unexpected'],\n",
       " 'longboarding': ['skateboarding',\n",
       "  'NewSkaters',\n",
       "  'snowboarding',\n",
       "  'LongboardBuilding',\n",
       "  'vaporents',\n",
       "  'surfing'],\n",
       " 'Frugal': ['personalfinance', 'EatCheapAndHealthy'],\n",
       " 'drunk': ['cripplingalcoholism', 'showerbeer', 'shittyfoodporn'],\n",
       " 'Art': ['OldSchoolCool'],\n",
       " 'loseit': ['progresspics',\n",
       "  '1200isplenty',\n",
       "  'xxfitness',\n",
       "  'fatlogic',\n",
       "  'keto',\n",
       "  'EatCheapAndHealthy',\n",
       "  'Fitness'],\n",
       " 'Military': ['army',\n",
       "  'MilitaryPorn',\n",
       "  'AirForce',\n",
       "  'USMC',\n",
       "  'navy',\n",
       "  'CombatFootage',\n",
       "  'Veterans',\n",
       "  'guns',\n",
       "  'ProtectAndServe',\n",
       "  'MURICA',\n",
       "  'WarshipPorn',\n",
       "  'aviation'],\n",
       " 'politics': ['technology', 'worldnews', 'news', 'atheism', 'todayilearned'],\n",
       " 'worldnews': ['news', 'todayilearned', 'videos', 'pics'],\n",
       " 'news': ['worldnews', 'todayilearned', 'pics', 'videos', 'funny', 'gifs'],\n",
       " 'conspiracy': ['politics'],\n",
       " 'Libertarian': ['Anarcho_Capitalism',\n",
       "  'Shitstatistssay',\n",
       "  'Conservative',\n",
       "  'Bad_Cop_No_Donut',\n",
       "  'Economics',\n",
       "  'conspiracy',\n",
       "  'PoliticalDiscussion',\n",
       "  'politics',\n",
       "  'libertarianmeme',\n",
       "  'worldpolitics'],\n",
       " 'TrueReddit': ['Foodforthought',\n",
       "  'Economics',\n",
       "  'offbeat',\n",
       "  'bestof',\n",
       "  'changemyview'],\n",
       " 'Conservative': ['Republican',\n",
       "  'Libertarian',\n",
       "  'ShitPoliticsSays',\n",
       "  'conservatives',\n",
       "  'PoliticalDiscussion',\n",
       "  'askaconservative'],\n",
       " 'offbeat': ['entertainment', 'TrueReddit', 'geek'],\n",
       " 'canada': ['toronto',\n",
       "  'CanadaPolitics',\n",
       "  'alberta',\n",
       "  'vancouver',\n",
       "  'Calgary',\n",
       "  'ontario',\n",
       "  'hockey',\n",
       "  'PersonalFinanceCanada',\n",
       "  'ottawa',\n",
       "  'Edmonton',\n",
       "  'worldnews',\n",
       "  'technology',\n",
       "  'metacanada'],\n",
       " 'toronto': ['canada',\n",
       "  'ontario',\n",
       "  'leafs',\n",
       "  'CanadaPolitics',\n",
       "  'PersonalFinanceCanada',\n",
       "  'Torontobluejays',\n",
       "  'UofT',\n",
       "  'torontobiking',\n",
       "  'mississauga',\n",
       "  'torontoraptors',\n",
       "  'hockey'],\n",
       " 'australia': ['melbourne',\n",
       "  'sydney',\n",
       "  'brisbane',\n",
       "  'AFL',\n",
       "  'perth',\n",
       "  'nrl',\n",
       "  'Adelaide',\n",
       "  'AustralianPolitics',\n",
       "  'Aleague',\n",
       "  'AusFinance',\n",
       "  'Cricket',\n",
       "  'worldnews',\n",
       "  'technology',\n",
       "  'straya'],\n",
       " 'unitedkingdom': ['ukpolitics',\n",
       "  'britishproblems',\n",
       "  'AskUK',\n",
       "  'london',\n",
       "  'europe',\n",
       "  'Scotland',\n",
       "  'soccer',\n",
       "  'worldnews',\n",
       "  'BritishSuccess',\n",
       "  'MapPorn'],\n",
       " 'atheism': ['politics',\n",
       "  'technology',\n",
       "  'worldnews',\n",
       "  'AdviceAnimals',\n",
       "  'todayilearned',\n",
       "  'news',\n",
       "  'WTF',\n",
       "  'science'],\n",
       " 'TwoXChromosomes': ['nottheonion'],\n",
       " 'MensRights': ['KotakuInAction',\n",
       "  'TheRedPill',\n",
       "  'TumblrInAction',\n",
       "  'pussypassdenied'],\n",
       " 'gaybros': ['askgaybros',\n",
       "  'gaymers',\n",
       "  'gaybrosgonemild',\n",
       "  'gay',\n",
       "  'GaybrosGoneWild',\n",
       "  'TotallyStraight',\n",
       "  'ainbow',\n",
       "  'lgbt',\n",
       "  'lolgrindr',\n",
       "  'broslikeus',\n",
       "  'TopsAndBottoms'],\n",
       " 'lgbt': ['ainbow',\n",
       "  'gay',\n",
       "  'bisexual',\n",
       "  'asktransgender',\n",
       "  'actuallesbians',\n",
       "  'gaybros',\n",
       "  'transgender',\n",
       "  'askgaybros',\n",
       "  'MtF',\n",
       "  'gaymers',\n",
       "  'LGBTeens',\n",
       "  'transpassing',\n",
       "  'transpositive'],\n",
       " 'nba': ['nfl'],\n",
       " 'soccer': ['Gunners',\n",
       "  'FIFA',\n",
       "  'reddevils',\n",
       "  'LiverpoolFC',\n",
       "  'MLS',\n",
       "  'nba',\n",
       "  'worldnews',\n",
       "  'nfl',\n",
       "  'unitedkingdom',\n",
       "  'sports'],\n",
       " 'hockey': ['nfl', 'rangers', 'hawks', 'baseball'],\n",
       " 'nfl': ['nba',\n",
       "  'baseball',\n",
       "  'Patriots',\n",
       "  'CFB',\n",
       "  'hockey',\n",
       "  'fantasyfootball',\n",
       "  'news',\n",
       "  'sports',\n",
       "  'movies'],\n",
       " 'formula1': ['INDYCAR',\n",
       "  'wec',\n",
       "  'TopGear',\n",
       "  'simracing',\n",
       "  'NASCAR',\n",
       "  'pcars',\n",
       "  'cars'],\n",
       " 'baseball': ['nfl',\n",
       "  'fantasybaseball',\n",
       "  'nba',\n",
       "  'hockey',\n",
       "  'SFGiants',\n",
       "  'Dodgers',\n",
       "  'CFB',\n",
       "  'Cardinals',\n",
       "  'CHICubs',\n",
       "  'NewYorkMets'],\n",
       " 'MMA': ['bjj',\n",
       "  'Boxing',\n",
       "  'JoeRogan',\n",
       "  'ufc',\n",
       "  'SquaredCircle',\n",
       "  'JusticePorn',\n",
       "  'sports',\n",
       "  'nba',\n",
       "  'nfl'],\n",
       " 'SquaredCircle': ['nfl',\n",
       "  'MMA',\n",
       "  'WrestleWithThePlot',\n",
       "  'WWE',\n",
       "  'nba',\n",
       "  'Boxing',\n",
       "  'movies',\n",
       "  'soccer',\n",
       "  'comicbooks',\n",
       "  'baseball',\n",
       "  'television',\n",
       "  'hockey',\n",
       "  'PS4'],\n",
       " 'technology': ['worldnews', 'politics', 'news', 'todayilearned'],\n",
       " 'Android': ['technology', 'androidapps'],\n",
       " 'Bitcoin': ['BitcoinMarkets', 'Buttcoin', 'dogecoin', 'Anarcho_Capitalism'],\n",
       " 'programming': ['linux',\n",
       "  'ProgrammerHumor',\n",
       "  'learnprogramming',\n",
       "  'webdev',\n",
       "  'technology',\n",
       "  'Python',\n",
       "  'javascript',\n",
       "  'gamedev',\n",
       "  'cscareerquestions',\n",
       "  'compsci'],\n",
       " 'apple': ['AppleWatch',\n",
       "  'iphone',\n",
       "  'mac',\n",
       "  'Android',\n",
       "  'technology',\n",
       "  'applehelp',\n",
       "  'jailbreak',\n",
       "  'gadgets',\n",
       "  'ipad',\n",
       "  'osx',\n",
       "  'programming']}"
      ]
     },
     "execution_count": 36,
     "metadata": {},
     "output_type": "execute_result"
    }
   ],
   "source": [
    "related_subreddits"
   ]
  },
  {
   "cell_type": "code",
   "execution_count": 39,
   "metadata": {},
   "outputs": [
    {
     "data": {
      "application/vnd.jupyter.widget-view+json": {
       "model_id": "4a4224bb49ca4fbfae9c1b9acd62dc1e",
       "version_major": 2,
       "version_minor": 0
      },
      "text/plain": [
       "HBox(children=(IntProgress(value=0, max=166), HTML(value='')))"
      ]
     },
     "metadata": {},
     "output_type": "display_data"
    },
    {
     "data": {
      "application/vnd.jupyter.widget-view+json": {
       "model_id": "b244f462f9ae4f308a0627d09e35c662",
       "version_major": 2,
       "version_minor": 0
      },
      "text/plain": [
       "HBox(children=(IntProgress(value=0, max=11), HTML(value='')))"
      ]
     },
     "metadata": {},
     "output_type": "display_data"
    },
    {
     "data": {
      "application/vnd.jupyter.widget-view+json": {
       "model_id": "f3eabc8f596744568c95d6ac68b5923c",
       "version_major": 2,
       "version_minor": 0
      },
      "text/plain": [
       "HBox(children=(IntProgress(value=0, max=1), HTML(value='')))"
      ]
     },
     "metadata": {},
     "output_type": "display_data"
    },
    {
     "data": {
      "application/vnd.jupyter.widget-view+json": {
       "model_id": "5bb5f7711b1e450a9716ad1f3597677c",
       "version_major": 2,
       "version_minor": 0
      },
      "text/plain": [
       "HBox(children=(IntProgress(value=0, max=3), HTML(value='')))"
      ]
     },
     "metadata": {},
     "output_type": "display_data"
    },
    {
     "data": {
      "application/vnd.jupyter.widget-view+json": {
       "model_id": "d744284fe9d344fab5d326390c7765f0",
       "version_major": 2,
       "version_minor": 0
      },
      "text/plain": [
       "HBox(children=(IntProgress(value=0, max=8), HTML(value='')))"
      ]
     },
     "metadata": {},
     "output_type": "display_data"
    },
    {
     "data": {
      "application/vnd.jupyter.widget-view+json": {
       "model_id": "3e59dee9e6bd4aaa9063e99030ccd54a",
       "version_major": 2,
       "version_minor": 0
      },
      "text/plain": [
       "HBox(children=(IntProgress(value=0, max=6), HTML(value='')))"
      ]
     },
     "metadata": {},
     "output_type": "display_data"
    },
    {
     "data": {
      "application/vnd.jupyter.widget-view+json": {
       "model_id": "5c1559f9490e409482e7201a296eb76b",
       "version_major": 2,
       "version_minor": 0
      },
      "text/plain": [
       "HBox(children=(IntProgress(value=0, max=6), HTML(value='')))"
      ]
     },
     "metadata": {},
     "output_type": "display_data"
    },
    {
     "data": {
      "application/vnd.jupyter.widget-view+json": {
       "model_id": "4a327f681e8b4ef0a219d36be3bf7e79",
       "version_major": 2,
       "version_minor": 0
      },
      "text/plain": [
       "HBox(children=(IntProgress(value=0, max=5), HTML(value='')))"
      ]
     },
     "metadata": {},
     "output_type": "display_data"
    },
    {
     "data": {
      "application/vnd.jupyter.widget-view+json": {
       "model_id": "0fc2f05c3e84433781b61c806e3754c2",
       "version_major": 2,
       "version_minor": 0
      },
      "text/plain": [
       "HBox(children=(IntProgress(value=0, max=12), HTML(value='')))"
      ]
     },
     "metadata": {},
     "output_type": "display_data"
    },
    {
     "data": {
      "application/vnd.jupyter.widget-view+json": {
       "model_id": "3f631556af5b41f19a7a30aa298e6f14",
       "version_major": 2,
       "version_minor": 0
      },
      "text/plain": [
       "HBox(children=(IntProgress(value=0, max=13), HTML(value='')))"
      ]
     },
     "metadata": {},
     "output_type": "display_data"
    },
    {
     "data": {
      "application/vnd.jupyter.widget-view+json": {
       "model_id": "a91612e7dd5a4117a192983c9b6c9a0a",
       "version_major": 2,
       "version_minor": 0
      },
      "text/plain": [
       "HBox(children=(IntProgress(value=0, max=1), HTML(value='')))"
      ]
     },
     "metadata": {},
     "output_type": "display_data"
    },
    {
     "data": {
      "application/vnd.jupyter.widget-view+json": {
       "model_id": "d46dcd0528c94576a755841288a1e705",
       "version_major": 2,
       "version_minor": 0
      },
      "text/plain": [
       "HBox(children=(IntProgress(value=0, max=4), HTML(value='')))"
      ]
     },
     "metadata": {},
     "output_type": "display_data"
    },
    {
     "data": {
      "application/vnd.jupyter.widget-view+json": {
       "model_id": "0b55681876f641cd9473d935630987d7",
       "version_major": 2,
       "version_minor": 0
      },
      "text/plain": [
       "HBox(children=(IntProgress(value=0, max=2), HTML(value='')))"
      ]
     },
     "metadata": {},
     "output_type": "display_data"
    },
    {
     "data": {
      "application/vnd.jupyter.widget-view+json": {
       "model_id": "e66be72d160e4c62b0c1d582c662f99b",
       "version_major": 2,
       "version_minor": 0
      },
      "text/plain": [
       "HBox(children=(IntProgress(value=0, max=2), HTML(value='')))"
      ]
     },
     "metadata": {},
     "output_type": "display_data"
    },
    {
     "data": {
      "application/vnd.jupyter.widget-view+json": {
       "model_id": "5605f7b932d546cfafb995dffc257708",
       "version_major": 2,
       "version_minor": 0
      },
      "text/plain": [
       "HBox(children=(IntProgress(value=0, max=4), HTML(value='')))"
      ]
     },
     "metadata": {},
     "output_type": "display_data"
    },
    {
     "data": {
      "application/vnd.jupyter.widget-view+json": {
       "model_id": "8015ba825db5420cabc3803cd873e74d",
       "version_major": 2,
       "version_minor": 0
      },
      "text/plain": [
       "HBox(children=(IntProgress(value=0, max=9), HTML(value='')))"
      ]
     },
     "metadata": {},
     "output_type": "display_data"
    },
    {
     "data": {
      "application/vnd.jupyter.widget-view+json": {
       "model_id": "5f50af807ea64182b0fd1b877d11f94e",
       "version_major": 2,
       "version_minor": 0
      },
      "text/plain": [
       "HBox(children=(IntProgress(value=0, max=8), HTML(value='')))"
      ]
     },
     "metadata": {},
     "output_type": "display_data"
    },
    {
     "data": {
      "application/vnd.jupyter.widget-view+json": {
       "model_id": "9cd1c04feea24c4aa8fe8603116cff80",
       "version_major": 2,
       "version_minor": 0
      },
      "text/plain": [
       "HBox(children=(IntProgress(value=0, max=6), HTML(value='')))"
      ]
     },
     "metadata": {},
     "output_type": "display_data"
    },
    {
     "data": {
      "application/vnd.jupyter.widget-view+json": {
       "model_id": "2dd0e7c9000145e98f2428fa736d6738",
       "version_major": 2,
       "version_minor": 0
      },
      "text/plain": [
       "HBox(children=(IntProgress(value=0, max=7), HTML(value='')))"
      ]
     },
     "metadata": {},
     "output_type": "display_data"
    },
    {
     "data": {
      "application/vnd.jupyter.widget-view+json": {
       "model_id": "7ce52ffc9ca1460b9275fe1cefaa57e7",
       "version_major": 2,
       "version_minor": 0
      },
      "text/plain": [
       "HBox(children=(IntProgress(value=0, max=1), HTML(value='')))"
      ]
     },
     "metadata": {},
     "output_type": "display_data"
    },
    {
     "data": {
      "application/vnd.jupyter.widget-view+json": {
       "model_id": "45cbff33134c4ef1be97c019491087bb",
       "version_major": 2,
       "version_minor": 0
      },
      "text/plain": [
       "HBox(children=(IntProgress(value=0, max=5), HTML(value='')))"
      ]
     },
     "metadata": {},
     "output_type": "display_data"
    },
    {
     "data": {
      "application/vnd.jupyter.widget-view+json": {
       "model_id": "a359d84e87c94defbfcca38f5955be6b",
       "version_major": 2,
       "version_minor": 0
      },
      "text/plain": [
       "HBox(children=(IntProgress(value=0, max=2), HTML(value='')))"
      ]
     },
     "metadata": {},
     "output_type": "display_data"
    },
    {
     "data": {
      "application/vnd.jupyter.widget-view+json": {
       "model_id": "b566269d2bbc414b83223655736792b2",
       "version_major": 2,
       "version_minor": 0
      },
      "text/plain": [
       "HBox(children=(IntProgress(value=0, max=3), HTML(value='')))"
      ]
     },
     "metadata": {},
     "output_type": "display_data"
    },
    {
     "data": {
      "application/vnd.jupyter.widget-view+json": {
       "model_id": "710b484f0d314ed287296717300dfab5",
       "version_major": 2,
       "version_minor": 0
      },
      "text/plain": [
       "HBox(children=(IntProgress(value=0, max=6), HTML(value='')))"
      ]
     },
     "metadata": {},
     "output_type": "display_data"
    },
    {
     "data": {
      "application/vnd.jupyter.widget-view+json": {
       "model_id": "ed78c7f44b6944ddb29340d9bf5915b1",
       "version_major": 2,
       "version_minor": 0
      },
      "text/plain": [
       "HBox(children=(IntProgress(value=0, max=14), HTML(value='')))"
      ]
     },
     "metadata": {},
     "output_type": "display_data"
    },
    {
     "data": {
      "application/vnd.jupyter.widget-view+json": {
       "model_id": "1b2b17dfebe9444b83f64748862c5a38",
       "version_major": 2,
       "version_minor": 0
      },
      "text/plain": [
       "HBox(children=(IntProgress(value=0, max=10), HTML(value='')))"
      ]
     },
     "metadata": {},
     "output_type": "display_data"
    },
    {
     "data": {
      "application/vnd.jupyter.widget-view+json": {
       "model_id": "7ddd6366c9c34ae1918d68d1f697973e",
       "version_major": 2,
       "version_minor": 0
      },
      "text/plain": [
       "HBox(children=(IntProgress(value=0, max=6), HTML(value='')))"
      ]
     },
     "metadata": {},
     "output_type": "display_data"
    },
    {
     "data": {
      "application/vnd.jupyter.widget-view+json": {
       "model_id": "330100faa7354226abfd1ed90b409e35",
       "version_major": 2,
       "version_minor": 0
      },
      "text/plain": [
       "HBox(children=(IntProgress(value=0, max=2), HTML(value='')))"
      ]
     },
     "metadata": {},
     "output_type": "display_data"
    },
    {
     "data": {
      "application/vnd.jupyter.widget-view+json": {
       "model_id": "4a5fc931f10c4d31b7cd05cef8439031",
       "version_major": 2,
       "version_minor": 0
      },
      "text/plain": [
       "HBox(children=(IntProgress(value=0, max=14), HTML(value='')))"
      ]
     },
     "metadata": {},
     "output_type": "display_data"
    },
    {
     "data": {
      "application/vnd.jupyter.widget-view+json": {
       "model_id": "4be1e434ede84fb78de0085162a74ad3",
       "version_major": 2,
       "version_minor": 0
      },
      "text/plain": [
       "HBox(children=(IntProgress(value=0, max=11), HTML(value='')))"
      ]
     },
     "metadata": {},
     "output_type": "display_data"
    },
    {
     "data": {
      "application/vnd.jupyter.widget-view+json": {
       "model_id": "4ef5dae5a43a4910bfcec5ee59c976a0",
       "version_major": 2,
       "version_minor": 0
      },
      "text/plain": [
       "HBox(children=(IntProgress(value=0, max=5), HTML(value='')))"
      ]
     },
     "metadata": {},
     "output_type": "display_data"
    },
    {
     "data": {
      "application/vnd.jupyter.widget-view+json": {
       "model_id": "19379ada90f241cf8284c177c83d88c1",
       "version_major": 2,
       "version_minor": 0
      },
      "text/plain": [
       "HBox(children=(IntProgress(value=0, max=4), HTML(value='')))"
      ]
     },
     "metadata": {},
     "output_type": "display_data"
    },
    {
     "data": {
      "application/vnd.jupyter.widget-view+json": {
       "model_id": "b4c671d4c4774a2a82fd2aceb6d1910a",
       "version_major": 2,
       "version_minor": 0
      },
      "text/plain": [
       "HBox(children=(IntProgress(value=0, max=11), HTML(value='')))"
      ]
     },
     "metadata": {},
     "output_type": "display_data"
    },
    {
     "data": {
      "application/vnd.jupyter.widget-view+json": {
       "model_id": "76ea9ca2d08e4e72a903b0b98989fbc2",
       "version_major": 2,
       "version_minor": 0
      },
      "text/plain": [
       "HBox(children=(IntProgress(value=0, max=2), HTML(value='')))"
      ]
     },
     "metadata": {},
     "output_type": "display_data"
    },
    {
     "data": {
      "application/vnd.jupyter.widget-view+json": {
       "model_id": "65f868a2d3ab440fbdde781639f15b23",
       "version_major": 2,
       "version_minor": 0
      },
      "text/plain": [
       "HBox(children=(IntProgress(value=0, max=9), HTML(value='')))"
      ]
     },
     "metadata": {},
     "output_type": "display_data"
    },
    {
     "data": {
      "application/vnd.jupyter.widget-view+json": {
       "model_id": "6580d765dcc64c9b8acedb86c6afd24d",
       "version_major": 2,
       "version_minor": 0
      },
      "text/plain": [
       "HBox(children=(IntProgress(value=0, max=13), HTML(value='')))"
      ]
     },
     "metadata": {},
     "output_type": "display_data"
    },
    {
     "data": {
      "application/vnd.jupyter.widget-view+json": {
       "model_id": "c32429f3eabc4504832af813c3a5e09c",
       "version_major": 2,
       "version_minor": 0
      },
      "text/plain": [
       "HBox(children=(IntProgress(value=0, max=14), HTML(value='')))"
      ]
     },
     "metadata": {},
     "output_type": "display_data"
    },
    {
     "data": {
      "application/vnd.jupyter.widget-view+json": {
       "model_id": "084eb8a545e744e7abbcce1a94a71abd",
       "version_major": 2,
       "version_minor": 0
      },
      "text/plain": [
       "HBox(children=(IntProgress(value=0, max=9), HTML(value='')))"
      ]
     },
     "metadata": {},
     "output_type": "display_data"
    },
    {
     "data": {
      "application/vnd.jupyter.widget-view+json": {
       "model_id": "5cac481a78ce409e8071b65709000e8f",
       "version_major": 2,
       "version_minor": 0
      },
      "text/plain": [
       "HBox(children=(IntProgress(value=0, max=10), HTML(value='')))"
      ]
     },
     "metadata": {},
     "output_type": "display_data"
    },
    {
     "data": {
      "application/vnd.jupyter.widget-view+json": {
       "model_id": "7ffa96cf5c9e486b857c200dba470919",
       "version_major": 2,
       "version_minor": 0
      },
      "text/plain": [
       "HBox(children=(IntProgress(value=0, max=14), HTML(value='')))"
      ]
     },
     "metadata": {},
     "output_type": "display_data"
    },
    {
     "data": {
      "application/vnd.jupyter.widget-view+json": {
       "model_id": "dd96da6d2c18446fa027903c6b02212c",
       "version_major": 2,
       "version_minor": 0
      },
      "text/plain": [
       "HBox(children=(IntProgress(value=0, max=6), HTML(value='')))"
      ]
     },
     "metadata": {},
     "output_type": "display_data"
    },
    {
     "data": {
      "application/vnd.jupyter.widget-view+json": {
       "model_id": "27e28805dc8d4a6e9f740da9e1759a1b",
       "version_major": 2,
       "version_minor": 0
      },
      "text/plain": [
       "HBox(children=(IntProgress(value=0, max=9), HTML(value='')))"
      ]
     },
     "metadata": {},
     "output_type": "display_data"
    },
    {
     "data": {
      "application/vnd.jupyter.widget-view+json": {
       "model_id": "9cb8455876354b67bf2e1d571de89315",
       "version_major": 2,
       "version_minor": 0
      },
      "text/plain": [
       "HBox(children=(IntProgress(value=0, max=2), HTML(value='')))"
      ]
     },
     "metadata": {},
     "output_type": "display_data"
    },
    {
     "data": {
      "application/vnd.jupyter.widget-view+json": {
       "model_id": "852e90549dc140d9a808f7a627792e60",
       "version_major": 2,
       "version_minor": 0
      },
      "text/plain": [
       "HBox(children=(IntProgress(value=0, max=2), HTML(value='')))"
      ]
     },
     "metadata": {},
     "output_type": "display_data"
    },
    {
     "data": {
      "application/vnd.jupyter.widget-view+json": {
       "model_id": "4f8131aad86b4e1ab9869f0a398c5e15",
       "version_major": 2,
       "version_minor": 0
      },
      "text/plain": [
       "HBox(children=(IntProgress(value=0, max=9), HTML(value='')))"
      ]
     },
     "metadata": {},
     "output_type": "display_data"
    },
    {
     "data": {
      "application/vnd.jupyter.widget-view+json": {
       "model_id": "99ac925310e04a2d99f3e695abf08bd7",
       "version_major": 2,
       "version_minor": 0
      },
      "text/plain": [
       "HBox(children=(IntProgress(value=0, max=11), HTML(value='')))"
      ]
     },
     "metadata": {},
     "output_type": "display_data"
    },
    {
     "data": {
      "application/vnd.jupyter.widget-view+json": {
       "model_id": "4d542cb5a5874ca09356c727579c4031",
       "version_major": 2,
       "version_minor": 0
      },
      "text/plain": [
       "HBox(children=(IntProgress(value=0, max=5), HTML(value='')))"
      ]
     },
     "metadata": {},
     "output_type": "display_data"
    },
    {
     "data": {
      "application/vnd.jupyter.widget-view+json": {
       "model_id": "ed899c0fb42e42f19a66f5c4ecc144dd",
       "version_major": 2,
       "version_minor": 0
      },
      "text/plain": [
       "HBox(children=(IntProgress(value=0, max=9), HTML(value='')))"
      ]
     },
     "metadata": {},
     "output_type": "display_data"
    },
    {
     "data": {
      "application/vnd.jupyter.widget-view+json": {
       "model_id": "4f48f22eb91140edb0dc21c2a31a91b9",
       "version_major": 2,
       "version_minor": 0
      },
      "text/plain": [
       "HBox(children=(IntProgress(value=0, max=7), HTML(value='')))"
      ]
     },
     "metadata": {},
     "output_type": "display_data"
    },
    {
     "data": {
      "application/vnd.jupyter.widget-view+json": {
       "model_id": "b3bd14c890d14f39ba291b9eb0f4c084",
       "version_major": 2,
       "version_minor": 0
      },
      "text/plain": [
       "HBox(children=(IntProgress(value=0, max=4), HTML(value='')))"
      ]
     },
     "metadata": {},
     "output_type": "display_data"
    },
    {
     "data": {
      "application/vnd.jupyter.widget-view+json": {
       "model_id": "680f539898644d969af9303e3e5167df",
       "version_major": 2,
       "version_minor": 0
      },
      "text/plain": [
       "HBox(children=(IntProgress(value=0, max=3), HTML(value='')))"
      ]
     },
     "metadata": {},
     "output_type": "display_data"
    },
    {
     "data": {
      "application/vnd.jupyter.widget-view+json": {
       "model_id": "c7cffe7eb15d4f5898e7d94ea1e5eeaf",
       "version_major": 2,
       "version_minor": 0
      },
      "text/plain": [
       "HBox(children=(IntProgress(value=0, max=6), HTML(value='')))"
      ]
     },
     "metadata": {},
     "output_type": "display_data"
    },
    {
     "data": {
      "application/vnd.jupyter.widget-view+json": {
       "model_id": "5603be9b55a54e4ba648bab8e546d8bb",
       "version_major": 2,
       "version_minor": 0
      },
      "text/plain": [
       "HBox(children=(IntProgress(value=0, max=9), HTML(value='')))"
      ]
     },
     "metadata": {},
     "output_type": "display_data"
    },
    {
     "data": {
      "application/vnd.jupyter.widget-view+json": {
       "model_id": "b046f38d84794098b52099de686a3cc1",
       "version_major": 2,
       "version_minor": 0
      },
      "text/plain": [
       "HBox(children=(IntProgress(value=0, max=10), HTML(value='')))"
      ]
     },
     "metadata": {},
     "output_type": "display_data"
    },
    {
     "data": {
      "application/vnd.jupyter.widget-view+json": {
       "model_id": "a62333b65f414216b3c2fb3522e425aa",
       "version_major": 2,
       "version_minor": 0
      },
      "text/plain": [
       "HBox(children=(IntProgress(value=0, max=11), HTML(value='')))"
      ]
     },
     "metadata": {},
     "output_type": "display_data"
    },
    {
     "data": {
      "application/vnd.jupyter.widget-view+json": {
       "model_id": "fc9da0a669d640edaa93fea9260b4688",
       "version_major": 2,
       "version_minor": 0
      },
      "text/plain": [
       "HBox(children=(IntProgress(value=0, max=5), HTML(value='')))"
      ]
     },
     "metadata": {},
     "output_type": "display_data"
    },
    {
     "data": {
      "application/vnd.jupyter.widget-view+json": {
       "model_id": "e612448be2ff44db8f4156df3ad7c7aa",
       "version_major": 2,
       "version_minor": 0
      },
      "text/plain": [
       "HBox(children=(IntProgress(value=0, max=2), HTML(value='')))"
      ]
     },
     "metadata": {},
     "output_type": "display_data"
    },
    {
     "data": {
      "application/vnd.jupyter.widget-view+json": {
       "model_id": "14299cffefe745e9a59c3855d900ffdd",
       "version_major": 2,
       "version_minor": 0
      },
      "text/plain": [
       "HBox(children=(IntProgress(value=0, max=6), HTML(value='')))"
      ]
     },
     "metadata": {},
     "output_type": "display_data"
    },
    {
     "data": {
      "application/vnd.jupyter.widget-view+json": {
       "model_id": "74ce4cae48f34321a30b4016fd4d7c4d",
       "version_major": 2,
       "version_minor": 0
      },
      "text/plain": [
       "HBox(children=(IntProgress(value=0, max=8), HTML(value='')))"
      ]
     },
     "metadata": {},
     "output_type": "display_data"
    },
    {
     "data": {
      "application/vnd.jupyter.widget-view+json": {
       "model_id": "f3a43a9129614048915b78cf2fb1f988",
       "version_major": 2,
       "version_minor": 0
      },
      "text/plain": [
       "HBox(children=(IntProgress(value=0, max=3), HTML(value='')))"
      ]
     },
     "metadata": {},
     "output_type": "display_data"
    },
    {
     "data": {
      "application/vnd.jupyter.widget-view+json": {
       "model_id": "dce17668a0534e33b32a192b4312c350",
       "version_major": 2,
       "version_minor": 0
      },
      "text/plain": [
       "HBox(children=(IntProgress(value=0, max=9), HTML(value='')))"
      ]
     },
     "metadata": {},
     "output_type": "display_data"
    },
    {
     "data": {
      "application/vnd.jupyter.widget-view+json": {
       "model_id": "4c387967a51148eea075fc28e5360187",
       "version_major": 2,
       "version_minor": 0
      },
      "text/plain": [
       "HBox(children=(IntProgress(value=0, max=3), HTML(value='')))"
      ]
     },
     "metadata": {},
     "output_type": "display_data"
    },
    {
     "data": {
      "application/vnd.jupyter.widget-view+json": {
       "model_id": "f4e64a35b5f64dc587d18294290424fa",
       "version_major": 2,
       "version_minor": 0
      },
      "text/plain": [
       "HBox(children=(IntProgress(value=0, max=12), HTML(value='')))"
      ]
     },
     "metadata": {},
     "output_type": "display_data"
    },
    {
     "data": {
      "application/vnd.jupyter.widget-view+json": {
       "model_id": "7c31091cd9e748fe94d9d0664dd7b745",
       "version_major": 2,
       "version_minor": 0
      },
      "text/plain": [
       "HBox(children=(IntProgress(value=0, max=9), HTML(value='')))"
      ]
     },
     "metadata": {},
     "output_type": "display_data"
    },
    {
     "data": {
      "application/vnd.jupyter.widget-view+json": {
       "model_id": "c401621aa1314375a244a18619807aeb",
       "version_major": 2,
       "version_minor": 0
      },
      "text/plain": [
       "HBox(children=(IntProgress(value=0, max=14), HTML(value='')))"
      ]
     },
     "metadata": {},
     "output_type": "display_data"
    },
    {
     "data": {
      "application/vnd.jupyter.widget-view+json": {
       "model_id": "8c567212f7ef43629621ec498bfb04f7",
       "version_major": 2,
       "version_minor": 0
      },
      "text/plain": [
       "HBox(children=(IntProgress(value=0, max=3), HTML(value='')))"
      ]
     },
     "metadata": {},
     "output_type": "display_data"
    },
    {
     "data": {
      "application/vnd.jupyter.widget-view+json": {
       "model_id": "aaa580b6f4a347a2a15295798313928d",
       "version_major": 2,
       "version_minor": 0
      },
      "text/plain": [
       "HBox(children=(IntProgress(value=0, max=14), HTML(value='')))"
      ]
     },
     "metadata": {},
     "output_type": "display_data"
    },
    {
     "data": {
      "application/vnd.jupyter.widget-view+json": {
       "model_id": "8444bc3bd21a445aaf549facdfad65cc",
       "version_major": 2,
       "version_minor": 0
      },
      "text/plain": [
       "HBox(children=(IntProgress(value=0, max=13), HTML(value='')))"
      ]
     },
     "metadata": {},
     "output_type": "display_data"
    },
    {
     "data": {
      "application/vnd.jupyter.widget-view+json": {
       "model_id": "5c7ecad9026c47edb4669f402aa8d872",
       "version_major": 2,
       "version_minor": 0
      },
      "text/plain": [
       "HBox(children=(IntProgress(value=0, max=3), HTML(value='')))"
      ]
     },
     "metadata": {},
     "output_type": "display_data"
    },
    {
     "data": {
      "application/vnd.jupyter.widget-view+json": {
       "model_id": "48cbe9cf382b410181d359035812213e",
       "version_major": 2,
       "version_minor": 0
      },
      "text/plain": [
       "HBox(children=(IntProgress(value=0, max=5), HTML(value='')))"
      ]
     },
     "metadata": {},
     "output_type": "display_data"
    },
    {
     "data": {
      "application/vnd.jupyter.widget-view+json": {
       "model_id": "07304af44e38447f8b44f04beac0caa0",
       "version_major": 2,
       "version_minor": 0
      },
      "text/plain": [
       "HBox(children=(IntProgress(value=0, max=2), HTML(value='')))"
      ]
     },
     "metadata": {},
     "output_type": "display_data"
    },
    {
     "data": {
      "application/vnd.jupyter.widget-view+json": {
       "model_id": "11ebfc7435c947ac828c51d3c0592261",
       "version_major": 2,
       "version_minor": 0
      },
      "text/plain": [
       "HBox(children=(IntProgress(value=0, max=9), HTML(value='')))"
      ]
     },
     "metadata": {},
     "output_type": "display_data"
    },
    {
     "data": {
      "application/vnd.jupyter.widget-view+json": {
       "model_id": "41fa3ca52ee442fabb58a0b1f406a73e",
       "version_major": 2,
       "version_minor": 0
      },
      "text/plain": [
       "HBox(children=(IntProgress(value=0, max=1), HTML(value='')))"
      ]
     },
     "metadata": {},
     "output_type": "display_data"
    },
    {
     "data": {
      "application/vnd.jupyter.widget-view+json": {
       "model_id": "9967f31f3a664ae4ad10127c2a56429e",
       "version_major": 2,
       "version_minor": 0
      },
      "text/plain": [
       "HBox(children=(IntProgress(value=0, max=1), HTML(value='')))"
      ]
     },
     "metadata": {},
     "output_type": "display_data"
    },
    {
     "data": {
      "application/vnd.jupyter.widget-view+json": {
       "model_id": "aaad97e395b94bc0bc468765f9c00f24",
       "version_major": 2,
       "version_minor": 0
      },
      "text/plain": [
       "HBox(children=(IntProgress(value=0, max=4), HTML(value='')))"
      ]
     },
     "metadata": {},
     "output_type": "display_data"
    },
    {
     "data": {
      "application/vnd.jupyter.widget-view+json": {
       "model_id": "406db53c0f3d4c18b218bff07b4dbede",
       "version_major": 2,
       "version_minor": 0
      },
      "text/plain": [
       "HBox(children=(IntProgress(value=0, max=7), HTML(value='')))"
      ]
     },
     "metadata": {},
     "output_type": "display_data"
    },
    {
     "data": {
      "application/vnd.jupyter.widget-view+json": {
       "model_id": "de36f99cd2b84839a650974a0308e09a",
       "version_major": 2,
       "version_minor": 0
      },
      "text/plain": [
       "HBox(children=(IntProgress(value=0, max=5), HTML(value='')))"
      ]
     },
     "metadata": {},
     "output_type": "display_data"
    },
    {
     "data": {
      "application/vnd.jupyter.widget-view+json": {
       "model_id": "4337aec758004b838214a46d259296d6",
       "version_major": 2,
       "version_minor": 0
      },
      "text/plain": [
       "HBox(children=(IntProgress(value=0, max=1), HTML(value='')))"
      ]
     },
     "metadata": {},
     "output_type": "display_data"
    },
    {
     "data": {
      "application/vnd.jupyter.widget-view+json": {
       "model_id": "2e5199f2d7e24f81a2628e44533fb0f0",
       "version_major": 2,
       "version_minor": 0
      },
      "text/plain": [
       "HBox(children=(IntProgress(value=0, max=13), HTML(value='')))"
      ]
     },
     "metadata": {},
     "output_type": "display_data"
    },
    {
     "data": {
      "application/vnd.jupyter.widget-view+json": {
       "model_id": "f463feaefd44488a9878d87d5f230f4c",
       "version_major": 2,
       "version_minor": 0
      },
      "text/plain": [
       "HBox(children=(IntProgress(value=0, max=9), HTML(value='')))"
      ]
     },
     "metadata": {},
     "output_type": "display_data"
    },
    {
     "data": {
      "application/vnd.jupyter.widget-view+json": {
       "model_id": "e36aa6a707a548efb3dd81735b2ca720",
       "version_major": 2,
       "version_minor": 0
      },
      "text/plain": [
       "HBox(children=(IntProgress(value=0, max=12), HTML(value='')))"
      ]
     },
     "metadata": {},
     "output_type": "display_data"
    },
    {
     "data": {
      "application/vnd.jupyter.widget-view+json": {
       "model_id": "a88db5bd14d149d79f6f7e7f22edcea0",
       "version_major": 2,
       "version_minor": 0
      },
      "text/plain": [
       "HBox(children=(IntProgress(value=0, max=12), HTML(value='')))"
      ]
     },
     "metadata": {},
     "output_type": "display_data"
    },
    {
     "data": {
      "application/vnd.jupyter.widget-view+json": {
       "model_id": "ac984e215c6a48c98908762db7295613",
       "version_major": 2,
       "version_minor": 0
      },
      "text/plain": [
       "HBox(children=(IntProgress(value=0, max=13), HTML(value='')))"
      ]
     },
     "metadata": {},
     "output_type": "display_data"
    },
    {
     "data": {
      "application/vnd.jupyter.widget-view+json": {
       "model_id": "0c30304e039746df802f6434fe837b38",
       "version_major": 2,
       "version_minor": 0
      },
      "text/plain": [
       "HBox(children=(IntProgress(value=0, max=1), HTML(value='')))"
      ]
     },
     "metadata": {},
     "output_type": "display_data"
    },
    {
     "data": {
      "application/vnd.jupyter.widget-view+json": {
       "model_id": "299f1d4cfc1c47d588c698d25b86d099",
       "version_major": 2,
       "version_minor": 0
      },
      "text/plain": [
       "HBox(children=(IntProgress(value=0, max=2), HTML(value='')))"
      ]
     },
     "metadata": {},
     "output_type": "display_data"
    },
    {
     "data": {
      "application/vnd.jupyter.widget-view+json": {
       "model_id": "a291a135d71e4e3dadf4d65d4758e9d9",
       "version_major": 2,
       "version_minor": 0
      },
      "text/plain": [
       "HBox(children=(IntProgress(value=0, max=1), HTML(value='')))"
      ]
     },
     "metadata": {},
     "output_type": "display_data"
    },
    {
     "data": {
      "application/vnd.jupyter.widget-view+json": {
       "model_id": "ebfe1e25068046f7976b44dcc7d0a908",
       "version_major": 2,
       "version_minor": 0
      },
      "text/plain": [
       "HBox(children=(IntProgress(value=0, max=3), HTML(value='')))"
      ]
     },
     "metadata": {},
     "output_type": "display_data"
    },
    {
     "data": {
      "application/vnd.jupyter.widget-view+json": {
       "model_id": "d57d1f96746e4d498e64ab2636a9f519",
       "version_major": 2,
       "version_minor": 0
      },
      "text/plain": [
       "HBox(children=(IntProgress(value=0, max=4), HTML(value='')))"
      ]
     },
     "metadata": {},
     "output_type": "display_data"
    },
    {
     "data": {
      "application/vnd.jupyter.widget-view+json": {
       "model_id": "57c9549d91e34cac87bcaa415da9f907",
       "version_major": 2,
       "version_minor": 0
      },
      "text/plain": [
       "HBox(children=(IntProgress(value=0, max=2), HTML(value='')))"
      ]
     },
     "metadata": {},
     "output_type": "display_data"
    },
    {
     "data": {
      "application/vnd.jupyter.widget-view+json": {
       "model_id": "a0def316382a40dda49536f5515ef947",
       "version_major": 2,
       "version_minor": 0
      },
      "text/plain": [
       "HBox(children=(IntProgress(value=0, max=1), HTML(value='')))"
      ]
     },
     "metadata": {},
     "output_type": "display_data"
    },
    {
     "data": {
      "application/vnd.jupyter.widget-view+json": {
       "model_id": "4cb93c457faf4295bbdc5ff06cd77cc5",
       "version_major": 2,
       "version_minor": 0
      },
      "text/plain": [
       "HBox(children=(IntProgress(value=0, max=9), HTML(value='')))"
      ]
     },
     "metadata": {},
     "output_type": "display_data"
    },
    {
     "data": {
      "application/vnd.jupyter.widget-view+json": {
       "model_id": "2602ab12516e4d848cad55f5f9e7b530",
       "version_major": 2,
       "version_minor": 0
      },
      "text/plain": [
       "HBox(children=(IntProgress(value=0, max=6), HTML(value='')))"
      ]
     },
     "metadata": {},
     "output_type": "display_data"
    },
    {
     "data": {
      "application/vnd.jupyter.widget-view+json": {
       "model_id": "1b6a12b9b1654f59877592ae89e41987",
       "version_major": 2,
       "version_minor": 0
      },
      "text/plain": [
       "HBox(children=(IntProgress(value=0, max=7), HTML(value='')))"
      ]
     },
     "metadata": {},
     "output_type": "display_data"
    },
    {
     "data": {
      "application/vnd.jupyter.widget-view+json": {
       "model_id": "2c21c9383c8c4684bf9d0d5135f55601",
       "version_major": 2,
       "version_minor": 0
      },
      "text/plain": [
       "HBox(children=(IntProgress(value=0, max=3), HTML(value='')))"
      ]
     },
     "metadata": {},
     "output_type": "display_data"
    },
    {
     "data": {
      "application/vnd.jupyter.widget-view+json": {
       "model_id": "4c59994e71f64bc2b86d0704fa8cb9f7",
       "version_major": 2,
       "version_minor": 0
      },
      "text/plain": [
       "HBox(children=(IntProgress(value=0, max=1), HTML(value='')))"
      ]
     },
     "metadata": {},
     "output_type": "display_data"
    },
    {
     "data": {
      "application/vnd.jupyter.widget-view+json": {
       "model_id": "25524997eaac4d8ab01b231366412ad3",
       "version_major": 2,
       "version_minor": 0
      },
      "text/plain": [
       "HBox(children=(IntProgress(value=0, max=3), HTML(value='')))"
      ]
     },
     "metadata": {},
     "output_type": "display_data"
    },
    {
     "data": {
      "application/vnd.jupyter.widget-view+json": {
       "model_id": "a3ce75e7027a4865822ad7b19caeb7e8",
       "version_major": 2,
       "version_minor": 0
      },
      "text/plain": [
       "HBox(children=(IntProgress(value=0, max=7), HTML(value='')))"
      ]
     },
     "metadata": {},
     "output_type": "display_data"
    },
    {
     "data": {
      "application/vnd.jupyter.widget-view+json": {
       "model_id": "bf3cb9bb866a433fbc33da5ba24498b6",
       "version_major": 2,
       "version_minor": 0
      },
      "text/plain": [
       "HBox(children=(IntProgress(value=0, max=4), HTML(value='')))"
      ]
     },
     "metadata": {},
     "output_type": "display_data"
    },
    {
     "data": {
      "application/vnd.jupyter.widget-view+json": {
       "model_id": "5ee668f2b24c432dbd1ce947bc495966",
       "version_major": 2,
       "version_minor": 0
      },
      "text/plain": [
       "HBox(children=(IntProgress(value=0, max=14), HTML(value='')))"
      ]
     },
     "metadata": {},
     "output_type": "display_data"
    },
    {
     "data": {
      "application/vnd.jupyter.widget-view+json": {
       "model_id": "8a6e8a4cfe5f4f389bf455f80dfd7993",
       "version_major": 2,
       "version_minor": 0
      },
      "text/plain": [
       "HBox(children=(IntProgress(value=0, max=7), HTML(value='')))"
      ]
     },
     "metadata": {},
     "output_type": "display_data"
    },
    {
     "data": {
      "application/vnd.jupyter.widget-view+json": {
       "model_id": "e59f364e55da4100b0971f8921abc92a",
       "version_major": 2,
       "version_minor": 0
      },
      "text/plain": [
       "HBox(children=(IntProgress(value=0, max=3), HTML(value='')))"
      ]
     },
     "metadata": {},
     "output_type": "display_data"
    },
    {
     "data": {
      "application/vnd.jupyter.widget-view+json": {
       "model_id": "1b9112e21d7c45e382e3fc9cb960f072",
       "version_major": 2,
       "version_minor": 0
      },
      "text/plain": [
       "HBox(children=(IntProgress(value=0, max=5), HTML(value='')))"
      ]
     },
     "metadata": {},
     "output_type": "display_data"
    },
    {
     "data": {
      "application/vnd.jupyter.widget-view+json": {
       "model_id": "79f03e2352cb49788e7668e105c69565",
       "version_major": 2,
       "version_minor": 0
      },
      "text/plain": [
       "HBox(children=(IntProgress(value=0, max=9), HTML(value='')))"
      ]
     },
     "metadata": {},
     "output_type": "display_data"
    },
    {
     "data": {
      "application/vnd.jupyter.widget-view+json": {
       "model_id": "2e12a51a333e4a05988a97210f871ec1",
       "version_major": 2,
       "version_minor": 0
      },
      "text/plain": [
       "HBox(children=(IntProgress(value=0, max=1), HTML(value='')))"
      ]
     },
     "metadata": {},
     "output_type": "display_data"
    },
    {
     "data": {
      "application/vnd.jupyter.widget-view+json": {
       "model_id": "f5d78d4bc0414999b8d5b86466db0c40",
       "version_major": 2,
       "version_minor": 0
      },
      "text/plain": [
       "HBox(children=(IntProgress(value=0, max=8), HTML(value='')))"
      ]
     },
     "metadata": {},
     "output_type": "display_data"
    },
    {
     "data": {
      "application/vnd.jupyter.widget-view+json": {
       "model_id": "cc434bed3e98451192757bbac3f7dcae",
       "version_major": 2,
       "version_minor": 0
      },
      "text/plain": [
       "HBox(children=(IntProgress(value=0, max=5), HTML(value='')))"
      ]
     },
     "metadata": {},
     "output_type": "display_data"
    },
    {
     "data": {
      "application/vnd.jupyter.widget-view+json": {
       "model_id": "26e380ca4bc54f4cb3b0899640d2a9f5",
       "version_major": 2,
       "version_minor": 0
      },
      "text/plain": [
       "HBox(children=(IntProgress(value=0, max=4), HTML(value='')))"
      ]
     },
     "metadata": {},
     "output_type": "display_data"
    },
    {
     "data": {
      "application/vnd.jupyter.widget-view+json": {
       "model_id": "48d212c6794440b091eed6eeab05fc8f",
       "version_major": 2,
       "version_minor": 0
      },
      "text/plain": [
       "HBox(children=(IntProgress(value=0, max=11), HTML(value='')))"
      ]
     },
     "metadata": {},
     "output_type": "display_data"
    },
    {
     "data": {
      "application/vnd.jupyter.widget-view+json": {
       "model_id": "368dbad013da4eeeba7f0a406237f40f",
       "version_major": 2,
       "version_minor": 0
      },
      "text/plain": [
       "HBox(children=(IntProgress(value=0, max=9), HTML(value='')))"
      ]
     },
     "metadata": {},
     "output_type": "display_data"
    },
    {
     "data": {
      "application/vnd.jupyter.widget-view+json": {
       "model_id": "9150b637e8014ffaa8af8577237deb68",
       "version_major": 2,
       "version_minor": 0
      },
      "text/plain": [
       "HBox(children=(IntProgress(value=0, max=5), HTML(value='')))"
      ]
     },
     "metadata": {},
     "output_type": "display_data"
    },
    {
     "data": {
      "application/vnd.jupyter.widget-view+json": {
       "model_id": "fd935d6a41a44a2ebc73c5b9eef8aab8",
       "version_major": 2,
       "version_minor": 0
      },
      "text/plain": [
       "HBox(children=(IntProgress(value=0, max=7), HTML(value='')))"
      ]
     },
     "metadata": {},
     "output_type": "display_data"
    },
    {
     "data": {
      "application/vnd.jupyter.widget-view+json": {
       "model_id": "1f6eb068fa0548488051efe029b6de2f",
       "version_major": 2,
       "version_minor": 0
      },
      "text/plain": [
       "HBox(children=(IntProgress(value=0, max=4), HTML(value='')))"
      ]
     },
     "metadata": {},
     "output_type": "display_data"
    },
    {
     "data": {
      "application/vnd.jupyter.widget-view+json": {
       "model_id": "07d09a965c3549c19f9c0d12235d5f8c",
       "version_major": 2,
       "version_minor": 0
      },
      "text/plain": [
       "HBox(children=(IntProgress(value=0, max=3), HTML(value='')))"
      ]
     },
     "metadata": {},
     "output_type": "display_data"
    },
    {
     "data": {
      "application/vnd.jupyter.widget-view+json": {
       "model_id": "4e4abd84b27b4120bb5bc5af27fc63f7",
       "version_major": 2,
       "version_minor": 0
      },
      "text/plain": [
       "HBox(children=(IntProgress(value=0, max=5), HTML(value='')))"
      ]
     },
     "metadata": {},
     "output_type": "display_data"
    },
    {
     "data": {
      "application/vnd.jupyter.widget-view+json": {
       "model_id": "e51cc4e35bcd43bba908f2a4a4b78323",
       "version_major": 2,
       "version_minor": 0
      },
      "text/plain": [
       "HBox(children=(IntProgress(value=0, max=10), HTML(value='')))"
      ]
     },
     "metadata": {},
     "output_type": "display_data"
    },
    {
     "data": {
      "application/vnd.jupyter.widget-view+json": {
       "model_id": "d9e86e884c7c428a942b394ef25758da",
       "version_major": 2,
       "version_minor": 0
      },
      "text/plain": [
       "HBox(children=(IntProgress(value=0, max=3), HTML(value='')))"
      ]
     },
     "metadata": {},
     "output_type": "display_data"
    },
    {
     "data": {
      "application/vnd.jupyter.widget-view+json": {
       "model_id": "219342a94a5a4a07bc4d275f16266414",
       "version_major": 2,
       "version_minor": 0
      },
      "text/plain": [
       "HBox(children=(IntProgress(value=0, max=9), HTML(value='')))"
      ]
     },
     "metadata": {},
     "output_type": "display_data"
    },
    {
     "data": {
      "application/vnd.jupyter.widget-view+json": {
       "model_id": "72f451d36f7e4b00bb94374861d8f985",
       "version_major": 2,
       "version_minor": 0
      },
      "text/plain": [
       "HBox(children=(IntProgress(value=0, max=3), HTML(value='')))"
      ]
     },
     "metadata": {},
     "output_type": "display_data"
    },
    {
     "data": {
      "application/vnd.jupyter.widget-view+json": {
       "model_id": "bd47b69e80be4222b27f2ff9f3b02069",
       "version_major": 2,
       "version_minor": 0
      },
      "text/plain": [
       "HBox(children=(IntProgress(value=0, max=12), HTML(value='')))"
      ]
     },
     "metadata": {},
     "output_type": "display_data"
    },
    {
     "data": {
      "application/vnd.jupyter.widget-view+json": {
       "model_id": "dfb102e04de041d396d289c6bc4a6ebf",
       "version_major": 2,
       "version_minor": 0
      },
      "text/plain": [
       "HBox(children=(IntProgress(value=0, max=1), HTML(value='')))"
      ]
     },
     "metadata": {},
     "output_type": "display_data"
    },
    {
     "data": {
      "application/vnd.jupyter.widget-view+json": {
       "model_id": "40760f7fa918446abdc7a45a0a2ef183",
       "version_major": 2,
       "version_minor": 0
      },
      "text/plain": [
       "HBox(children=(IntProgress(value=0, max=9), HTML(value='')))"
      ]
     },
     "metadata": {},
     "output_type": "display_data"
    },
    {
     "data": {
      "application/vnd.jupyter.widget-view+json": {
       "model_id": "0d81f1dd015b45b08d16bcf66a84260e",
       "version_major": 2,
       "version_minor": 0
      },
      "text/plain": [
       "HBox(children=(IntProgress(value=0, max=3), HTML(value='')))"
      ]
     },
     "metadata": {},
     "output_type": "display_data"
    },
    {
     "data": {
      "application/vnd.jupyter.widget-view+json": {
       "model_id": "e0ee797613994313982a38c9776afefe",
       "version_major": 2,
       "version_minor": 0
      },
      "text/plain": [
       "HBox(children=(IntProgress(value=0, max=13), HTML(value='')))"
      ]
     },
     "metadata": {},
     "output_type": "display_data"
    },
    {
     "data": {
      "application/vnd.jupyter.widget-view+json": {
       "model_id": "18c92de0d0c442c287dda8d9e0fafa20",
       "version_major": 2,
       "version_minor": 0
      },
      "text/plain": [
       "HBox(children=(IntProgress(value=0, max=6), HTML(value='')))"
      ]
     },
     "metadata": {},
     "output_type": "display_data"
    },
    {
     "data": {
      "application/vnd.jupyter.widget-view+json": {
       "model_id": "056ae2e2586d464d99dcae1cfc44626d",
       "version_major": 2,
       "version_minor": 0
      },
      "text/plain": [
       "HBox(children=(IntProgress(value=0, max=1), HTML(value='')))"
      ]
     },
     "metadata": {},
     "output_type": "display_data"
    },
    {
     "data": {
      "application/vnd.jupyter.widget-view+json": {
       "model_id": "1e3affc1d3e34bb09bdb4dfa16458773",
       "version_major": 2,
       "version_minor": 0
      },
      "text/plain": [
       "HBox(children=(IntProgress(value=0, max=4), HTML(value='')))"
      ]
     },
     "metadata": {},
     "output_type": "display_data"
    },
    {
     "data": {
      "application/vnd.jupyter.widget-view+json": {
       "model_id": "07468f47bfcd4c69aada7896f0f1db11",
       "version_major": 2,
       "version_minor": 0
      },
      "text/plain": [
       "HBox(children=(IntProgress(value=0, max=8), HTML(value='')))"
      ]
     },
     "metadata": {},
     "output_type": "display_data"
    },
    {
     "data": {
      "application/vnd.jupyter.widget-view+json": {
       "model_id": "7c8b248da32f435aa619f001be11204c",
       "version_major": 2,
       "version_minor": 0
      },
      "text/plain": [
       "HBox(children=(IntProgress(value=0, max=5), HTML(value='')))"
      ]
     },
     "metadata": {},
     "output_type": "display_data"
    },
    {
     "data": {
      "application/vnd.jupyter.widget-view+json": {
       "model_id": "c3e2acac35e84ab88969eae9fd477979",
       "version_major": 2,
       "version_minor": 0
      },
      "text/plain": [
       "HBox(children=(IntProgress(value=0, max=12), HTML(value='')))"
      ]
     },
     "metadata": {},
     "output_type": "display_data"
    },
    {
     "data": {
      "application/vnd.jupyter.widget-view+json": {
       "model_id": "4ee530e045c144c98995a0ad91cbae7d",
       "version_major": 2,
       "version_minor": 0
      },
      "text/plain": [
       "HBox(children=(IntProgress(value=0, max=1), HTML(value='')))"
      ]
     },
     "metadata": {},
     "output_type": "display_data"
    },
    {
     "data": {
      "application/vnd.jupyter.widget-view+json": {
       "model_id": "8e52f095a6be4f38abcd121f66f0b348",
       "version_major": 2,
       "version_minor": 0
      },
      "text/plain": [
       "HBox(children=(IntProgress(value=0, max=9), HTML(value='')))"
      ]
     },
     "metadata": {},
     "output_type": "display_data"
    },
    {
     "data": {
      "application/vnd.jupyter.widget-view+json": {
       "model_id": "06ff19aab4484e9cb7bc81b33a9fadac",
       "version_major": 2,
       "version_minor": 0
      },
      "text/plain": [
       "HBox(children=(IntProgress(value=0, max=6), HTML(value='')))"
      ]
     },
     "metadata": {},
     "output_type": "display_data"
    },
    {
     "data": {
      "application/vnd.jupyter.widget-view+json": {
       "model_id": "cab9e2766945416593ec9d0e8eb194cb",
       "version_major": 2,
       "version_minor": 0
      },
      "text/plain": [
       "HBox(children=(IntProgress(value=0, max=2), HTML(value='')))"
      ]
     },
     "metadata": {},
     "output_type": "display_data"
    },
    {
     "data": {
      "application/vnd.jupyter.widget-view+json": {
       "model_id": "7f300f6bf1664bfbbec974db0d8c22eb",
       "version_major": 2,
       "version_minor": 0
      },
      "text/plain": [
       "HBox(children=(IntProgress(value=0, max=3), HTML(value='')))"
      ]
     },
     "metadata": {},
     "output_type": "display_data"
    },
    {
     "data": {
      "application/vnd.jupyter.widget-view+json": {
       "model_id": "85306d110df64acfab236159f5a537eb",
       "version_major": 2,
       "version_minor": 0
      },
      "text/plain": [
       "HBox(children=(IntProgress(value=0, max=1), HTML(value='')))"
      ]
     },
     "metadata": {},
     "output_type": "display_data"
    },
    {
     "data": {
      "application/vnd.jupyter.widget-view+json": {
       "model_id": "bfd1c351bfa24431b9f3132ccd66d954",
       "version_major": 2,
       "version_minor": 0
      },
      "text/plain": [
       "HBox(children=(IntProgress(value=0, max=7), HTML(value='')))"
      ]
     },
     "metadata": {},
     "output_type": "display_data"
    },
    {
     "data": {
      "application/vnd.jupyter.widget-view+json": {
       "model_id": "c95273bf39614932a7c3d272437ac483",
       "version_major": 2,
       "version_minor": 0
      },
      "text/plain": [
       "HBox(children=(IntProgress(value=0, max=12), HTML(value='')))"
      ]
     },
     "metadata": {},
     "output_type": "display_data"
    },
    {
     "data": {
      "application/vnd.jupyter.widget-view+json": {
       "model_id": "8607ce473e9b43848c6d6a948e3f2e20",
       "version_major": 2,
       "version_minor": 0
      },
      "text/plain": [
       "HBox(children=(IntProgress(value=0, max=5), HTML(value='')))"
      ]
     },
     "metadata": {},
     "output_type": "display_data"
    },
    {
     "data": {
      "application/vnd.jupyter.widget-view+json": {
       "model_id": "7e8e29ffa3c04b7696084dedb1fa79ed",
       "version_major": 2,
       "version_minor": 0
      },
      "text/plain": [
       "HBox(children=(IntProgress(value=0, max=4), HTML(value='')))"
      ]
     },
     "metadata": {},
     "output_type": "display_data"
    },
    {
     "data": {
      "application/vnd.jupyter.widget-view+json": {
       "model_id": "24c55ec36ee541e4be22eaeb9404ad8a",
       "version_major": 2,
       "version_minor": 0
      },
      "text/plain": [
       "HBox(children=(IntProgress(value=0, max=6), HTML(value='')))"
      ]
     },
     "metadata": {},
     "output_type": "display_data"
    },
    {
     "data": {
      "application/vnd.jupyter.widget-view+json": {
       "model_id": "e9650decd6e44f31a30535a03259ad27",
       "version_major": 2,
       "version_minor": 0
      },
      "text/plain": [
       "HBox(children=(IntProgress(value=0, max=1), HTML(value='')))"
      ]
     },
     "metadata": {},
     "output_type": "display_data"
    },
    {
     "data": {
      "application/vnd.jupyter.widget-view+json": {
       "model_id": "ce7f259d7d7d4b44adcf1abbca03b21c",
       "version_major": 2,
       "version_minor": 0
      },
      "text/plain": [
       "HBox(children=(IntProgress(value=0, max=10), HTML(value='')))"
      ]
     },
     "metadata": {},
     "output_type": "display_data"
    },
    {
     "data": {
      "application/vnd.jupyter.widget-view+json": {
       "model_id": "d19046268b734bc1bda16cdfaaf6306f",
       "version_major": 2,
       "version_minor": 0
      },
      "text/plain": [
       "HBox(children=(IntProgress(value=0, max=5), HTML(value='')))"
      ]
     },
     "metadata": {},
     "output_type": "display_data"
    },
    {
     "data": {
      "application/vnd.jupyter.widget-view+json": {
       "model_id": "567b743ca3bd45019f900b292327f515",
       "version_major": 2,
       "version_minor": 0
      },
      "text/plain": [
       "HBox(children=(IntProgress(value=0, max=6), HTML(value='')))"
      ]
     },
     "metadata": {},
     "output_type": "display_data"
    },
    {
     "data": {
      "application/vnd.jupyter.widget-view+json": {
       "model_id": "701812f3103a44ea8b93d15c5a863dee",
       "version_major": 2,
       "version_minor": 0
      },
      "text/plain": [
       "HBox(children=(IntProgress(value=0, max=3), HTML(value='')))"
      ]
     },
     "metadata": {},
     "output_type": "display_data"
    },
    {
     "data": {
      "application/vnd.jupyter.widget-view+json": {
       "model_id": "4d09c9078e3b4f689bf5c09e0cf67c70",
       "version_major": 2,
       "version_minor": 0
      },
      "text/plain": [
       "HBox(children=(IntProgress(value=0, max=13), HTML(value='')))"
      ]
     },
     "metadata": {},
     "output_type": "display_data"
    },
    {
     "data": {
      "application/vnd.jupyter.widget-view+json": {
       "model_id": "00cd0cb1b80d44f4a4281eb0c0afb6ef",
       "version_major": 2,
       "version_minor": 0
      },
      "text/plain": [
       "HBox(children=(IntProgress(value=0, max=11), HTML(value='')))"
      ]
     },
     "metadata": {},
     "output_type": "display_data"
    },
    {
     "data": {
      "application/vnd.jupyter.widget-view+json": {
       "model_id": "1e2dce201e044fbf9f9f1ef08fc4d5ef",
       "version_major": 2,
       "version_minor": 0
      },
      "text/plain": [
       "HBox(children=(IntProgress(value=0, max=14), HTML(value='')))"
      ]
     },
     "metadata": {},
     "output_type": "display_data"
    },
    {
     "data": {
      "application/vnd.jupyter.widget-view+json": {
       "model_id": "066263b09360458d93f99833e100e20c",
       "version_major": 2,
       "version_minor": 0
      },
      "text/plain": [
       "HBox(children=(IntProgress(value=0, max=10), HTML(value='')))"
      ]
     },
     "metadata": {},
     "output_type": "display_data"
    },
    {
     "data": {
      "application/vnd.jupyter.widget-view+json": {
       "model_id": "38e1ecadef7e4207adf502ccd6623b28",
       "version_major": 2,
       "version_minor": 0
      },
      "text/plain": [
       "HBox(children=(IntProgress(value=0, max=8), HTML(value='')))"
      ]
     },
     "metadata": {},
     "output_type": "display_data"
    },
    {
     "data": {
      "application/vnd.jupyter.widget-view+json": {
       "model_id": "4586957965774046bd4b44d97f22556f",
       "version_major": 2,
       "version_minor": 0
      },
      "text/plain": [
       "HBox(children=(IntProgress(value=0, max=1), HTML(value='')))"
      ]
     },
     "metadata": {},
     "output_type": "display_data"
    },
    {
     "data": {
      "application/vnd.jupyter.widget-view+json": {
       "model_id": "ed2a666f5164461a9186def9aefe71b2",
       "version_major": 2,
       "version_minor": 0
      },
      "text/plain": [
       "HBox(children=(IntProgress(value=0, max=4), HTML(value='')))"
      ]
     },
     "metadata": {},
     "output_type": "display_data"
    },
    {
     "data": {
      "application/vnd.jupyter.widget-view+json": {
       "model_id": "a3496ae25e274107a7b24e1542a41413",
       "version_major": 2,
       "version_minor": 0
      },
      "text/plain": [
       "HBox(children=(IntProgress(value=0, max=11), HTML(value='')))"
      ]
     },
     "metadata": {},
     "output_type": "display_data"
    },
    {
     "data": {
      "application/vnd.jupyter.widget-view+json": {
       "model_id": "88ffa3d40a1b44dd9d317c7ce87a4cf2",
       "version_major": 2,
       "version_minor": 0
      },
      "text/plain": [
       "HBox(children=(IntProgress(value=0, max=13), HTML(value='')))"
      ]
     },
     "metadata": {},
     "output_type": "display_data"
    },
    {
     "data": {
      "application/vnd.jupyter.widget-view+json": {
       "model_id": "ab7cc7c3f09946b48dba272d38af9035",
       "version_major": 2,
       "version_minor": 0
      },
      "text/plain": [
       "HBox(children=(IntProgress(value=0, max=1), HTML(value='')))"
      ]
     },
     "metadata": {},
     "output_type": "display_data"
    },
    {
     "data": {
      "application/vnd.jupyter.widget-view+json": {
       "model_id": "b9ec68d3d2834c0c8280fffe2fc2c906",
       "version_major": 2,
       "version_minor": 0
      },
      "text/plain": [
       "HBox(children=(IntProgress(value=0, max=10), HTML(value='')))"
      ]
     },
     "metadata": {},
     "output_type": "display_data"
    },
    {
     "data": {
      "application/vnd.jupyter.widget-view+json": {
       "model_id": "3b04508fe9194973b30368f3a654f021",
       "version_major": 2,
       "version_minor": 0
      },
      "text/plain": [
       "HBox(children=(IntProgress(value=0, max=4), HTML(value='')))"
      ]
     },
     "metadata": {},
     "output_type": "display_data"
    },
    {
     "data": {
      "application/vnd.jupyter.widget-view+json": {
       "model_id": "62bccfb7edbd4897bf589a46c5ca2af0",
       "version_major": 2,
       "version_minor": 0
      },
      "text/plain": [
       "HBox(children=(IntProgress(value=0, max=9), HTML(value='')))"
      ]
     },
     "metadata": {},
     "output_type": "display_data"
    },
    {
     "data": {
      "application/vnd.jupyter.widget-view+json": {
       "model_id": "e9bdbdd050ed4f5dba556e36ba12d0df",
       "version_major": 2,
       "version_minor": 0
      },
      "text/plain": [
       "HBox(children=(IntProgress(value=0, max=7), HTML(value='')))"
      ]
     },
     "metadata": {},
     "output_type": "display_data"
    },
    {
     "data": {
      "application/vnd.jupyter.widget-view+json": {
       "model_id": "94040d2fbce948bbb755b005b1ade73b",
       "version_major": 2,
       "version_minor": 0
      },
      "text/plain": [
       "HBox(children=(IntProgress(value=0, max=10), HTML(value='')))"
      ]
     },
     "metadata": {},
     "output_type": "display_data"
    },
    {
     "data": {
      "application/vnd.jupyter.widget-view+json": {
       "model_id": "8c53505b068c435a9ef01795ca376a8e",
       "version_major": 2,
       "version_minor": 0
      },
      "text/plain": [
       "HBox(children=(IntProgress(value=0, max=9), HTML(value='')))"
      ]
     },
     "metadata": {},
     "output_type": "display_data"
    },
    {
     "data": {
      "application/vnd.jupyter.widget-view+json": {
       "model_id": "70ac173d928f45de93433c1b7e39bb04",
       "version_major": 2,
       "version_minor": 0
      },
      "text/plain": [
       "HBox(children=(IntProgress(value=0, max=13), HTML(value='')))"
      ]
     },
     "metadata": {},
     "output_type": "display_data"
    },
    {
     "data": {
      "application/vnd.jupyter.widget-view+json": {
       "model_id": "bf1c851cdaa845c4aed47b5d12bb3b9a",
       "version_major": 2,
       "version_minor": 0
      },
      "text/plain": [
       "HBox(children=(IntProgress(value=0, max=4), HTML(value='')))"
      ]
     },
     "metadata": {},
     "output_type": "display_data"
    },
    {
     "data": {
      "application/vnd.jupyter.widget-view+json": {
       "model_id": "da8a6d7e5eb248d3ae034fd47502a68f",
       "version_major": 2,
       "version_minor": 0
      },
      "text/plain": [
       "HBox(children=(IntProgress(value=0, max=2), HTML(value='')))"
      ]
     },
     "metadata": {},
     "output_type": "display_data"
    },
    {
     "data": {
      "application/vnd.jupyter.widget-view+json": {
       "model_id": "c2bea6c7e4bc4fc794e404be6bb90eee",
       "version_major": 2,
       "version_minor": 0
      },
      "text/plain": [
       "HBox(children=(IntProgress(value=0, max=4), HTML(value='')))"
      ]
     },
     "metadata": {},
     "output_type": "display_data"
    },
    {
     "data": {
      "application/vnd.jupyter.widget-view+json": {
       "model_id": "69aa117223df47048bfe1cd0633c8e59",
       "version_major": 2,
       "version_minor": 0
      },
      "text/plain": [
       "HBox(children=(IntProgress(value=0, max=10), HTML(value='')))"
      ]
     },
     "metadata": {},
     "output_type": "display_data"
    },
    {
     "data": {
      "application/vnd.jupyter.widget-view+json": {
       "model_id": "6ea46916d7ef4ecebdfcfe80b0f11082",
       "version_major": 2,
       "version_minor": 0
      },
      "text/plain": [
       "HBox(children=(IntProgress(value=0, max=11), HTML(value='')))"
      ]
     },
     "metadata": {},
     "output_type": "display_data"
    },
    {
     "name": "stdout",
     "output_type": "stream",
     "text": [
      "\n"
     ]
    }
   ],
   "source": [
    "all_related_posts = {}\n",
    "for related_subs in tqdm(list(related_subreddits.values())):\n",
    "    related_sub_posts = []\n",
    "    for sub in tqdm(related_subs):\n",
    "        try:\n",
    "            for submission in reddit.subreddit(sub).top(limit=1000):\n",
    "                related_sub_posts.append(submission.title)\n",
    "            related_sub_posts.append(sub)\n",
    "        except:\n",
    "            continue\n",
    "    all_related_posts.append(related_sub_posts)"
   ]
  },
  {
   "cell_type": "code",
   "execution_count": 59,
   "metadata": {},
   "outputs": [
    {
     "data": {
      "text/plain": [
       "10931"
      ]
     },
     "execution_count": 59,
     "metadata": {},
     "output_type": "execute_result"
    }
   ],
   "source": [
    "len(all_related_posts[0])"
   ]
  },
  {
   "cell_type": "code",
   "execution_count": 76,
   "metadata": {},
   "outputs": [
    {
     "data": {
      "text/plain": [
       "['A suspected big cat poacher has been eaten by lions near the Kruger National Park in South Africa, police say',\n",
       " 'Chris Brown detained on suspicion of rape',\n",
       " 'Comcast deleted net neutrality pledge the same day FCC announced repeal',\n",
       " 'Senate approves bill to extend 9/11 victims fund',\n",
       " 'Hate crime charges filed against 4 in torture of teen',\n",
       " 'Rhino poacher trampled to death by elephant; remains eaten by lions',\n",
       " 'Jeffrey Epstein Death: 2 Guards Slept Through Checks and Falsified Records',\n",
       " 'YouTube suspends Logan Paul’s ad revenue, blames ‘recent pattern of behavior',\n",
       " 'Michigan becomes the 10th state to legalize recreational marijuana',\n",
       " 'Terry Crews Testifies Before Senate On Sexual Assault, Says He Won’t Be In ‘Expendables 4’ After Producer Threatened “Trouble”',\n",
       " 'Comcast asks the FCC to prohibit states from enforcing net neutrality',\n",
       " 'Corey Feldman launches campaign to expose Hollywood pedophile ring',\n",
       " \"A principal in Florida said he couldn't confirm the Holocaust was a 'factual' event. The school district just fired him\",\n",
       " 'Michael Cohen sentenced to 3 years in prison',\n",
       " \"CNN's Anthony Bourdain dead at 61\",\n",
       " 'Marine kicked out of Marine Corps for role in Charlottesville white supremacist march | WTOP',\n",
       " 'Ex-Trump adviser sold $31m in shares days before president announced steel tariffs',\n",
       " 'Verne Troyer, best known as Mini-Me in \"Austin Powers,\" has died',\n",
       " 'Man who plowed into Charlottesville crowd found guilty',\n",
       " 'Stephen Hawking to Be Buried Between Darwin and Newton.',\n",
       " 'Trump withdrawing US from Paris climate agreement',\n",
       " 'Nestle has been bottling and selling water it has no right to in drought-stricken California, state says',\n",
       " '50,000 net neutrality complaints were excluded from FCC’s repeal docket',\n",
       " 'F.B.I. Raids Office of Trump’s Longtime Lawyer Michael Cohen',\n",
       " 'California votes to bar schools from starting before 8:30am to help give students more sleep',\n",
       " 'Record 9 million comments flood FCC on net neutrality',\n",
       " 'Swedish DJ Avicii Dead at 28',\n",
       " 'Hong Kong protesters form 28-mile human chain demanding democracy',\n",
       " 'Oxygen-dependent man dies 12 minutes after PG&E cuts power to his home',\n",
       " 'Chicago Police: 4 in custody after young man tortured on Facebook Live',\n",
       " 'Five officials will face manslaughter charges for Flint water crisis',\n",
       " 'Judge says US government can be sued for Flint water crisis',\n",
       " 'Former pharma CEO pleads guilty to bribing doctors to prescribe addictive opioids',\n",
       " \"For the first time in 25 years New York City didn't have a single shooting over the weekend\",\n",
       " 'Billionaire Bill Gates announces a $1.7 billion investment in U.S. schools',\n",
       " 'Korea leaders release joint statement declaring there will be no more war on the Korean Peninsula',\n",
       " '50 Cent forgot he had a stash of Bitcoin now worth $8m',\n",
       " \"Papa John sues Papa John's\",\n",
       " 'Child porn ring leader beaten to death at detention center, authorities say',\n",
       " 'Canadian air traffic controllers send pizzas to U.S. counterparts working without pay',\n",
       " 'YouTube Bans Minors From Streaming Unless Accompanied by Adult',\n",
       " 'Oregon construction worker fired for refusing to attend Bible study sues former employer',\n",
       " 'FTC Shuts Down 4 Robocall Groups Responsible For Billions of Illegal Robocalls',\n",
       " 'A truck driver from Brooklyn wins $298 million Powerball Jackpot',\n",
       " 'Autopsy finds broken bones in Jeffrey Epstein’s neck, deepening questions around his death',\n",
       " 'EA’s day of reckoning is here after ‘Star Wars’ game uproar, $3 billion in stock value wiped out',\n",
       " 'EPA is now allowing asbestos back into manufacturing',\n",
       " 'An 11-year-old girl in Zimbabwe jumped on top of a crocodile and gouged its eyes out when it attacked her 9-year-old friend',\n",
       " 'China Shuts Down Its Legal Ivory Trade',\n",
       " 'Family O Five YouTube taken down permanently',\n",
       " 'Former Marine steals truck after Vegas shooting and drives nearly 30 victims to hospital',\n",
       " 'ICE arrests rapper 21 Savage, says he is actually British and overstayed visa',\n",
       " 'With no end in sight to government shutdown, TSA agents at Hawaii airports start to resign',\n",
       " 'James Alex Fields Jr. sentenced: Man gets life plus 419 years in deadly Charlottesville car attack - CBS News',\n",
       " 'In a first, FBI to begin collecting national data on police use of force',\n",
       " 'Doctors post blood-soaked photos after NRA tells them to \"stay in their lane\"',\n",
       " 'Man killed by cops during Alabama mall shooting had a permit: Actual shooter remains at large',\n",
       " \"Tech writer suggests '10 Year Challenge' may be collecting data for facial recognition algorithm\",\n",
       " 'NYPD Officer Luis Alvarez, 9/11 First Responder Who Testified Before Congress With Jon Stewart, Dies',\n",
       " 'Japanese bonsai owners urge thieves to water stolen 400-year-old tree worth $127,700',\n",
       " 'CVS Puts Out Generic Competitor To EpiPen At A 6th Of The Price',\n",
       " 'Federal appeals court rules 2-1, you have the right to film the police',\n",
       " 'Teen registered people to vote as they waited in Popeyes line for new chicken sandwich',\n",
       " 'Pharma bro Martin Shkreli is denied minimum security camp and sent to federal prison in New Jersey',\n",
       " \"Pope Francis: fake and sensationalised news 'a very serious sin'\",\n",
       " 'Amazon raises minimum wage to $15 for all US employees',\n",
       " 'Net neutrality protesters take to the streets',\n",
       " 'Jeffrey Epstein denied bail, will remain jailed pending trial on sex trafficking charges',\n",
       " 'Emergency alert about ballistic missile sent to Hawaii residents; EMA says ‘no threat’',\n",
       " 'Woman shot herself in the head while cuffed with hands behind her back during traffic stop, police say',\n",
       " 'Explosive Devices Found in Mail Sent to Hillary Clinton and Obama',\n",
       " '‘You’re Gonna Kill Me’: Body-Cam Footage Shows Cops Mocking Dallas Man as He Dies',\n",
       " \"Video showing hundreds of shackled, blindfolded prisoners in China is 'genuine'\",\n",
       " 'Scientology facilities in Tennessee closed after police find patients held against their will',\n",
       " 'Dallas officer goes home to wrong apartment, kills man inside, police say',\n",
       " 'Aretha Franklin dies in Detroit, surrounded by family and friends',\n",
       " 'Illinois is going to expunge marijuana convictions from 800,000 criminal records - CNN',\n",
       " 'Illinois State Senate passes measure designating neo-Nazi groups as terrorists',\n",
       " \"17-year-old Walmart employee quits over store intercom: 'Nobody should work here, ever'\",\n",
       " \"Amazon's hourly workers lose monthly bonuses and stock awards as minimum wage increases\",\n",
       " 'London attack: Single police officer took on all three terrorists alone armed only with baton',\n",
       " 'Global warming: April was 400th straight warmer-than-average month',\n",
       " 'South Carolina bill would ban animal cruelty offenders from adopting pets for five years',\n",
       " 'Winner of $560 Million Powerball Can Keep Her Name Private, Judge Rules',\n",
       " 'GoFundMe Bans Anti-Vaxxers Who Raise Money to Spread Misinformation',\n",
       " \"Jeopardy' host Alex Trebek has stage 4 pancreatic cancer\",\n",
       " 'Neil deGrasse Tyson Cleared by Misconduct Investigation, Will Keep Museum Job',\n",
       " \"Neo-Nazi who said homosexuality was 'unnatural' revealed as paedophile who groomed young boys\",\n",
       " 'Phoenix police must now document each time they point their gun at someone',\n",
       " \"The White House website's page on climate change just disappeared\",\n",
       " '91-year-old mailman retires after 69 years with perfect record',\n",
       " 'Starting in 2020, Nevada employers cannot refuse to hire a job applicant for failing a marijuana screening test, making it the first state to pass such a law.',\n",
       " 'Astronaut’s DNA No Longer Matches His Identical Twin’s After Year Spent in Space, NASA Finds',\n",
       " 'Taiwan rejects China\\'s \"one country, two systems\" offer',\n",
       " \"Mystery person buys $1M worth of remaining toys at Toys 'R' Us store to donate to kids\",\n",
       " 'California State Senate passes bill restricting gifts from pharma companies to doctors',\n",
       " 'Elon Musk has deleted Tesla and SpaceX’s Facebook Pages after Twitter Challenge',\n",
       " 'California bans gender in setting car insurance rates',\n",
       " 'Kentucky teen who sued over school ban for refusing chickenpox vaccination now has chickenpox',\n",
       " 'Delaware judge rules that a medical marijuana user fired from factory job after failing a drug test can pursue lawsuit against former employer',\n",
       " \"Mass. Trooper Sues Police Leaders After He Was Told To Alter Arrest Report Of Judge's Daughter\",\n",
       " \"Verizon VP jokes at planting a 'brainwashed' FCC chairman, Ajit Pai says 'awesome'\",\n",
       " 'Medical Marijuana passes VA Senate 40-0.',\n",
       " 'Ellen Pao Is Stepping Down as Reddit’s Chief',\n",
       " 'Child sex offenders to be named as such in US passports',\n",
       " 'Missing 5-year-old and 8-year-old sisters found alive',\n",
       " 'John McCain has chosen to discontinue medical treatment for brain cancer',\n",
       " 'Millennials earn 20% less than baby boomers did—despite being better educated',\n",
       " 'Massachusetts mayor first in line as recreational marijuana sales begin',\n",
       " 'Ambien-maker to Roseanne: Racism is not a side effect of our drug',\n",
       " 'White Referee Fired After Forcing Black Wrestler to Cut Dreadlocks',\n",
       " 'US Police officers charged with over 400 rapes that occurred over a 9 year period.',\n",
       " \"March for Science: Worldwide protests begin to support 'evidence'\",\n",
       " \"Muhammad Ali, 'The Greatest of All Time', Dead at 74\",\n",
       " 'Steve Bannon out as White House chief strategist',\n",
       " 'Terry Crews Shares His Own Story of Sexual Assault by a Hollywood Executive',\n",
       " 'Blizzard apology does not silence protestors at BlizzCon 2019',\n",
       " 'Unpaid Kentucky coal miners have been blocking a train track for 3 weeks',\n",
       " 'Former First Lady Barbara Bush dies at 92',\n",
       " 'Alabama just passed a near-total abortion ban with no exceptions for rape or incest',\n",
       " \"Trump's chief strategist Steve Bannon stripped of national security council role\",\n",
       " 'Justice Department says it will end use of private prisons',\n",
       " 'Canada teen wins $1000 a week for life on 18th birthday',\n",
       " 'California man who spent 39 years in prison gets $21 million for wrongful conviction',\n",
       " 'Denmark, Germany, Netherlands and Finland join countries halting weapons sales to Saudi Arabia',\n",
       " \"U.S. regulator demands companies take action to halt 'robocalls'\",\n",
       " 'Charles Manson Dead After Spending 46 Years Behind Bars',\n",
       " \"United CEO doubles down in email to employees, says passenger was 'disruptive and belligerent'\",\n",
       " 'Net neutrality: Amazon among top internet firms planning day of action. Etsy, Kickstarter and other leading companies to fight FCC plans to neuter 2015 rules in July protest backed by ACLU, Greenpeace and more',\n",
       " \"Man cleared of rape to sue police after they hid 40,000 messages from 'victim'\",\n",
       " 'Billionaire pharmaceutical exec John Kapoor goes on trial starting today in the first prosecution of a CEO tied to the opioid crisis',\n",
       " \"Terry Crews names alleged sexual assaulter: 'I will not be shamed'\",\n",
       " 'Zuckerberg has sold more Facebook stock in the last 3 months than any insider at any other company',\n",
       " 'Houston woman accused of offering to sell her 2-year-old daughter for sex at a cost of $1,200 has been sentenced to 40 years in prison.',\n",
       " \"'Pharma bro' Martin Shkreli convicted in federal fraud case\",\n",
       " \"This zoo will name a cockroach after your ex, then feed it to a meerkat on Valentine's Day.\",\n",
       " 'Apple removes police-tracking app used in Hong Kong protests from its app store',\n",
       " 'Amber Guyger found guilty of murder in fatal shooting of Botham Jean',\n",
       " 'American-born citizen sues sheriff after he was nearly deported to Jamaica',\n",
       " 'Trump associate Roger Stone has been found guilty',\n",
       " 'Microsoft tried a 4-day workweek in Japan. Productivity jumped 40%',\n",
       " 'Jeffrey Epstein Arrested For Sex Trafficking of Minors',\n",
       " \"Teacher says she was fired for giving zeroes to students who didn't turn in their work\",\n",
       " 'The Gorilla Foundation is sad to announce the passing of our beloved Koko',\n",
       " \"All of West Virginia's public schools are closed due to a teacher walk-out over pay\",\n",
       " \"Father buys $64,259 ad calling for police to reopen investigation into son's death\",\n",
       " \"FBI agents swarm Jeffrey Epstein's private Caribbean island\",\n",
       " 'Elon musk pledges to fix Flint, MI water problem',\n",
       " 'Muslim groups raise enough money to cover funeral costs for all Pittsburgh victims',\n",
       " \"White House suspends CNN reporter's access\",\n",
       " 'Komodo island is reportedly closing until 2020 because people keep stealing the dragons',\n",
       " \"College-bound high school football player ruled ineligible because he's homeless\",\n",
       " 'Twitter bans political ads after Facebook refused to do so',\n",
       " 'The parents of a nonverbal man killed by an off-duty officer in Costco say they want to see video of the shooting',\n",
       " 'Religious Parents Who Refused to Take Son to Hospital and Thought God Would Resurrect Him Found Guilty of First Degree Murder.',\n",
       " 'Trump Foundation agrees to dissolve under court supervision',\n",
       " 'U.S. drone strike kills 30 pine nut farm workers in Afghanistan',\n",
       " \"On-duty NYPD officers 'handcuffed 17-year-old girl, took her to deserted spot and raped her'\",\n",
       " 'Indiana man, 34, who impregnated 10-year-old girl, gets over 100 years in prison',\n",
       " 'Anti-vaxxers banned from raising money on GoFundMe',\n",
       " 'Leaked emails show Washington state Rep. Matt Shea endorsed training children to fight in holy war',\n",
       " 'Baltimore votes to become first large U.S. city to ban water privatization',\n",
       " 'Shooting at South Florida high school',\n",
       " 'Comcast, Cox, Frontier All Raising Internet Access Rates for 2018',\n",
       " 'President Donald Trump ordered to pay $2M to collection of nonprofits as part of civil lawsuit',\n",
       " 'Mother stabs rapist to death after catching him attacking her daughter',\n",
       " 'Salma Hayek divulges years of terrifying abuse by Harvey Weinstein',\n",
       " 'School board gets death threats after teacher handcuffed after questioning pay raise',\n",
       " 'Radiohead Donates Money to Climate Change Group Instead of Paying Ransom to Hackers. The band released hours of hacked recordings rather than pay ransom money to the hacker who stole them.',\n",
       " \"Fox News supports CNN in lawsuit against White House, network's president says\",\n",
       " 'Microsoft co-founder Paul Allen dies of cancer at age 65',\n",
       " 'Active shooter at Mandalay Bay Casino in Las Vegas',\n",
       " \"A third of the nation's honeybee colonies died last year.\",\n",
       " 'Cracker Barrel bans an anti-gay pastor from holding an event in one of its stores',\n",
       " 'Amazon hired an army of employees to say nice things about it on Twitter, and it shows how big its reputation problem has gotten',\n",
       " 'Nepal says its tiger population has almost doubled from 2009',\n",
       " 'California bans private prisons – including Ice detention centers | US news',\n",
       " 'Washington bans anyone under 21 from buying assault rifles',\n",
       " \"Police seize almost 7,000 pounds of cannabis from a truck. But the company that bought it says it's all legal\",\n",
       " 'Kavanaugh is confirmed to the Supreme Court by Senate -- live updates',\n",
       " 'Outrage ensues as Michigan grants Nestlé permit to extract 200,000 gallons of water per day',\n",
       " 'Judge halts Keystone XL pipeline, citing ‘complete disregard’ for climate',\n",
       " 'When gunman advanced on New Zealand mosque, this man ran At Him: Abdul Aziz, 48, is being hailed as a hero for preventing more deaths',\n",
       " \"A 21-year-old college student worked at a Texas hotel for 32 hours alone during a flood. Guests say he's a hero\",\n",
       " 'Justice Department appoints special prosecutor for Russia investigation',\n",
       " 'Teacher accidentally fires gun in classroom, students injured',\n",
       " 'Arizona Sheriff Joe Arpaio loses bid to have his criminal record wiped clean',\n",
       " \"Pharmaceutical giant 'plotted to destroy cancer drugs to drive prices up 4000%'\",\n",
       " 'Ivanka Trump used a personal email account to send hundreds of emails about government business last year',\n",
       " 'FEMA Contract Called for 30 Million Meals for Puerto Ricans. 50,000 Were Delivered.',\n",
       " 'Flood Destroys Home Of Hate Group Leader Who Claims God Sends Natural Disasters To Punish Gays',\n",
       " 'Brock Turner Loses Appeal of Sexual Assault Conviction',\n",
       " 'Mitsubishi pulls Hearthstone tournament sponsorship after \"Free Hong Kong\" gamer ban',\n",
       " 'Ex-Arizona police officer acquitted of murder in shooting of unarmed man',\n",
       " 'Colin Kaepernick becomes the face of Nike’s 30th anniversary ‘Just Do It’ campaign',\n",
       " \"Actor Kal Penn raises $160k in few hours for Syrian refugees after being told he 'doesn't belong in America'\",\n",
       " 'H&M stops buying leather from Brazil over Amazon fires',\n",
       " 'Israel officially decriminalizes marijuana use',\n",
       " 'Actresses, CEOs arrested in nationwide college admissions cheating scam',\n",
       " \"Woman Who Called Michelle Obama An 'Ape' Sentenced To Jail For Defrauding FEMA of $18K\",\n",
       " 'Michigan powerlifter heroically lifts vehicle pinned on top of man after accident.',\n",
       " 'Paul Manafort, Who Once Ran Trump Campaign, Told to Surrender',\n",
       " 'Father of boy killed in school massacre wins defamation suit',\n",
       " 'Criminal charges expected this week against Epstein guards',\n",
       " \"Man arrested for groping woman on flight says 'President says it's OK to grab women's private parts'\",\n",
       " 'US Senate healthcare repeal bill fails',\n",
       " '9/11 hero who saved hundreds dies of cancer at age 45',\n",
       " 'Principal who banned gay books charged with child pornography',\n",
       " 'Fastest growing religion is ‘none’',\n",
       " '1st black woman legislator in Vermont resigns after white supremacists threaten safety of her family',\n",
       " 'A Chinese Cheating Ring at UCLA Reveals an Industry Devoted to Helping International Students Scam Grades',\n",
       " 'Hospital Withdraws Job Offer To Doctor Who Tweeted About Giving Jews Wrong Meds',\n",
       " 'KKK denied permit to burn cross atop symbolic mountain in Georgia',\n",
       " 'Dozens protest against China during US NBA game',\n",
       " \"Hopkins researchers recommend reclassifying psilocybin, the drug in 'magic' mushrooms, from schedule I to schedule IV\",\n",
       " 'Police raid illegal rave inside abandoned Toys R Us',\n",
       " \"WaPost: Girl dies of dehydration while in Border Patrol custody, 'had not eaten for days'\",\n",
       " \"ABC News' Amy Robach caught on hot mic saying network spiked Jeffrey Epstein bombshell\",\n",
       " 'Woman charged with attempted murder in beating of man, 92, with brick',\n",
       " \"Apple confirms it uses Google's cloud for iCloud\",\n",
       " 'Federal Court Rules Suspicionless Searches of Travelers’ Phones and Laptops Unconstitutional',\n",
       " 'Bitcoin investors may be out $190 million after the only guy with the password dies, firm says',\n",
       " 'Active shooter reported at Pitfsburgh synagogue',\n",
       " 'Stan Lee Laid To Rest In Small, Private Funeral',\n",
       " 'A small-town Iowa newspaper with a staff of 10 people - most of whom are related to each other – has won a Pulitzer Prize for taking on powerful agricultural companies over farm pollution.',\n",
       " 'R. Kelly Charged With Underage Prostitution in Minnesota',\n",
       " \"Kansas judge rules sperm donor not on hook for child support - A Topeka man who answered a Craigslist ad to donate sperm so two women could have a baby together is not legally the child's father and isn't required to provide financial support, a Kansas judge has ruled.\",\n",
       " 'Medically assisted suicide becomes legal in Hawaii',\n",
       " 'High turnover, understaffing, low pay: US nurses fight to unionize',\n",
       " \"ABC cancels Roseanne Barr's sitcom after her tweet about black Obama aide Valerie Jarrett\",\n",
       " 'Tennessee Police Officers Could Be Charged With A Felony For Turning Off Body Cams In Bad Faith',\n",
       " \"Amazon Employees Will Walk Out Over Climate Change Inaction: The planned event will mark the first time in Amazon's 25-year history that workers at the company's Seattle headquarters have participated in a strike.\",\n",
       " '\"Biggest leak in the history of data journalism just went live, and it\\'s about corruption.\" - Edward Snowden on twitter.',\n",
       " 'Jeffrey Epstein flew to Virgin Islands with 11, 12-year-old girls in 2018, witness says',\n",
       " 'R. Kelly charged with 11 new counts of sexual abuse',\n",
       " 'Billboards target lawmakers who voted to let ISPs sell user information',\n",
       " 'K-9 finds missing 3-year-old Florida boy with autism in less than 30 minutes',\n",
       " 'R. Kelly Arrested on Federal Sex Trafficking Charges',\n",
       " \"OxyContin creator being sued for 'significant role in causing opioid epidemic'\",\n",
       " 'Death of Guatemalan toddler detained by ICE sparks $60 million legal claim',\n",
       " 'Epstein jail guards had been offered plea deal',\n",
       " \"Russian athlete filmed in 'I don’t do doping' shirt fails Olympic drug test\",\n",
       " \"Teenage boys wear skirts to school to protest against 'no shorts' policy\",\n",
       " 'Doug Jones Projected to win Alabama Senate',\n",
       " 'US Defence Secretary Mattis to quit',\n",
       " 'Australian senator who blamed Muslim immigration for the New Zealand terror attack punches teenager in head after getting egged.',\n",
       " 'Dallas police accused of smearing man killed by cop in his own apartment',\n",
       " \"Boy, 16, fatally shot while trying to sell Xbox: 'They killed my son over nothing,' mom cries\",\n",
       " 'San Francisco Plans to Wipe Out Thousands of Pot Convictions',\n",
       " 'Sinclair Forces Local TV Stations to Air Segment Defending Tear-Gassing Migrants',\n",
       " \"Missing Thai boys 'found alive' in caves after nine days\",\n",
       " 'Bank accidentally deposits $120,000 in couple’s account; they spend most of it, then get charged with theft',\n",
       " 'New Hampshire Decriminalizes Marijuana',\n",
       " 'United Airlines saves 170,000 gallons of fuel by using lighter paper on inflight magazine',\n",
       " '26 women rescued at Seattle massage parlors in human trafficking bust',\n",
       " 'Parents of Malnourished Iowa 16-Year-Old Who Weighed 56 Pounds When She Died Are Charged with Murder',\n",
       " 'NYTimes: Trump Campaign Aides Had Repeated Contacts With Russian Intelligence',\n",
       " 'Nike Pulls Houston Rockets Merchandise From China Stores',\n",
       " 'Mississippi police officers fatally shot a man in a wrong-door raid. The city says he had no constitutional rights because he was an undocumented immigrant.',\n",
       " 'New York Passes a Ban on ‘Conversion Therapy’ After Years-Long Efforts',\n",
       " 'Denver outlawed declawing cats',\n",
       " 'Bill Gates donates $4M to create mosquitoes that kill each other using sex',\n",
       " 'Single father “prepared to take out a loan” after porch pirate stole 4-year-old son’s kidney medication',\n",
       " 'California Becomes First State to Ban Sales From Puppy Mills',\n",
       " 'Couple who uprooted 180-year-old tree on protected property ordered to pay $586,000',\n",
       " 'U.S. Launches Missiles at Syrian Base After Chemical Weapons Attack',\n",
       " 'CA, NY & WA taking steps to fight back after repeal of NN',\n",
       " 'A FedEx worker found dead at a delivery facility was one of 17 killed in the extreme weather',\n",
       " 'U.S. condemns unjustified use of force in Hong Kong: senior official',\n",
       " 'School condemns Trump-supporting students who harassed Native American',\n",
       " 'New England Patriots owner Robert Kraft charged with soliciting prositution',\n",
       " 'Big game hunter trampled to death by elephant in Namibia',\n",
       " 'Michelle Carter, convicted in texting suicide case, is headed to jail',\n",
       " 'Costco says extra profit from tax cuts will be shared with employees',\n",
       " 'Sheriff: Deputy sexually assaulted child, threatened undocumented mom if she reported it',\n",
       " 'New Mexico will restore evolution to science standards',\n",
       " 'US police arrest 36-year-old nurse after patient in a vegetative state gave birth',\n",
       " 'Denver voters approve decriminalizing \"magic mushrooms\"',\n",
       " 'Jury rules Monsanto liable in weed killer case - ordered to pay $250,000,000 for causing cancer',\n",
       " 'Trump Declares National Emergency to Build Border Wall',\n",
       " 'Millennials earn 20% less than Boomers did at same stage of life',\n",
       " 'California to become first U.S. state mandating solar on new homes',\n",
       " 'Californian law change means pet shops can sell only rescued animals',\n",
       " 'Infowars’ Alex Jones ordered to undergo sworn deposition in Sandy Hook case',\n",
       " 'US student sent home from N Korea dies',\n",
       " \"Fox paid $400m for the World Cup and now the USA aren't in it\",\n",
       " 'Vaping will be banned in indoor public places in the state of New York',\n",
       " 'First paralyzed human treated with stem cells has now regained his upper body movement',\n",
       " 'Slave labor found at Starbucks-certified Brazil coffee plantation',\n",
       " 'Simon the Rabbit, destined to break a world record for biggest rabbit, has died in the custody of United Airlines',\n",
       " 'Indianapolis Decriminalizes Marijuana',\n",
       " \"'Batkid' is now cancer free 5 years after taking over city of San Francisco with Make-A-Wish\",\n",
       " 'Vancouver officers free to smoke pot, so long as they arrive ‘fit for duty,’ police board says',\n",
       " 'Wisconsin man charged with breaking measles quarantine to go to gym',\n",
       " \"Ashton Kutcher's organisation identifies 2,000 child victims of trafficking in six months\",\n",
       " '9 People Showed Up for a KKK Rally in Dayton, Ohio. They Were Drowned Out by 600 Protestors',\n",
       " 'Hawaii becomes 12th state to ban gay conversion therapy for minors',\n",
       " 'Facebook, iTunes and Spotify drop InfoWars',\n",
       " 'No more Mondays: Colorado school district moves to 4 day weeks',\n",
       " 'Stan Lee’s daughter: ‘No one could have treated my father worse than Marvel and Disney’s executives’',\n",
       " 'Diabetic teen dies after being prescribed oils instead of insulin',\n",
       " 'D.C. native Dave Chappelle receives Mark Twain award for lifetime achievement in comedy',\n",
       " 'Popular Young Reporter For NewsChannel 9 Terminated By Sinclair As She Battles Cancer',\n",
       " 'Dad turns in teenage son after finding child pornography on cell phone',\n",
       " 'Federal Jury Convicts Lawyer and Coal Company Executive for Bribing State Legislator',\n",
       " 'Retired firefighter found guilty for shooting at lost black teen on doorstep',\n",
       " 'Man arrested after cops mistook doughnut glaze for meth awarded $37,500',\n",
       " 'Accused gunman in Christchurch terror attacks denied newspaper, television and radio access',\n",
       " 'An ‘unarmed’ white teen was shot dead by police. His family asks: Where is the outrage? -- Hammond’s family released the results of a private autopsy, which concluded that both bullets entered Hammond’s body from the back.',\n",
       " 'Dallas Student Arrested Before Planned Mass Shooting at Shopping Mall',\n",
       " 'Father gets 60 years for trying to sell 4-year-old daughter for sex',\n",
       " 'Canada to implement financial literacy teaching as early as Grade 10 in Ontario schools.',\n",
       " 'Oregon bill bans domestic abusers from buying guns',\n",
       " 'Emails Show Trump Jr. Knew Russia Was Working To Support Trump Campaign',\n",
       " 'Trans Woman Was Beaten in ICE Custody Before Death, Autopsy Finds -- Roxsana Rodriguez died following lack of medical treatment in a privately run immigration detention center. An autopsy concludes that she was beaten.',\n",
       " 'Hong Kong police caught on camera torturing arrested man in hospital',\n",
       " '80-year-old medical marijuana patient with expired card jailed for less than an eighth of cannabis',\n",
       " \"Stan Lee's ex-manager charged with elder abuse against comic book co-creator\",\n",
       " 'Philadelphia DA Larry Krasner Sues Big Pharma, Drops All Marijuana Possession Charges',\n",
       " 'Man who inspired ALS Ice Bucket Challenge succumbs to the disease at age 46',\n",
       " 'Detroit family caught in Iraq travel ban, mom dies waiting to come home',\n",
       " 'Woman reads fine print on insurance policy, wins $10,000 in hidden contest',\n",
       " 'Hong Kong formally withdrawals extradition bill.',\n",
       " 'Wikileaks co-founder Julian Assange arrested',\n",
       " 'Tesla shareholders reject bid to strip Musk of chairman role',\n",
       " 'California officially becomes first in nation mandating solar power for new homes',\n",
       " \"Robert Mueller submits special counsel's Russia probe report to Attorney General William Barr\",\n",
       " \"Transgender people 'can't serve' US army\",\n",
       " \"The billionaire LA Times owner calls social media the 'cancer of our time'\",\n",
       " 'Police: Michigan gay-rights activist set fire to own home in fabricated hate crime',\n",
       " 'Cartels are growing pot in our national Forests where their heavy use of pesticides and litter stand to permanently damage the ecosystem.',\n",
       " 'Man arrested after entering Springfield, Mo Walmart with body armor, assault rifle, and 100 rounds of ammo',\n",
       " 'Hawaii becomes 1st state to ban sunscreens deemed harmful to coral reefs',\n",
       " \"Sales of George Orwell's 1984 surge after Kellyanne Conway's 'alternative facts'\",\n",
       " 'Second Parkland shooting survivor kills himself, police confirm',\n",
       " 'FBI catches Air Force senior Officer during underage sex sting operation',\n",
       " \"Jeffrey Epstein accuser: 'I was trafficked to Prince Andrew\",\n",
       " 'Jeffrey Epstein Suicide: Two Jail Workers Arrested',\n",
       " 'Oklahoma animal shelter encourages Area 51 fans to \"storm our shelter\"',\n",
       " 'Dad turns Son in for Snapchat Gun Posts, Cops find Child Porn on his phone',\n",
       " 'Al Franken resigns from Senate over sexual misconduct allegations | US news',\n",
       " 'FBI is now investigating Puerto Rico power contract',\n",
       " \"Britain is now threatening to seize Russian oligarchs' luxury real estate after ex-spy's poisoning\",\n",
       " \"Spongebob Squarepants Fans Create Petition to Get 'Sweet Victory' Sang at Super Bowl Halftime\",\n",
       " 'Cable lobby conducts survey, finds that Americans want net neutrality',\n",
       " \"Papa John's founder out as CEO weeks after NFL comments\",\n",
       " 'Pathology report on Sen. John McCain reveals brain cancer',\n",
       " '15 people have been charged in the Flint water scandal',\n",
       " 'NYT: Pastor Who Praised Pulse Nightclub Gunman Resigns After Allegedly Paying for Sex',\n",
       " \"Trump's net worth drops $600 million on Forbes' rich list, falls 92 spots\",\n",
       " 'Judge in Paul Manafort trial says he has been threatened and is now under U.S. Marshal protection',\n",
       " 'US Postal Service to unveil Mister Rogers stamp next month',\n",
       " 'At least 26 people have been arrested after threats to commit mass attacks since Dayton',\n",
       " 'Canada bans cellphone unlocking fees, orders all new devices be unlocked - CBC News',\n",
       " 'Reddit ‘Quarantines’ Pro-Trump Forum Over Anti-Police Threats',\n",
       " 'Atlanta decriminalizes marijuana',\n",
       " 'Florida man spent 41 days in jail for heroin. But it was actually detergent, cops say',\n",
       " 'Pitbull sends private plane to Puerto Rico to transport cancer patients',\n",
       " 'San Francisco man awarded $10 million after jury finds police framed him for murder',\n",
       " 'American tourist gives Nazi salute in Germany, is beaten up',\n",
       " 'Facebook has lost 30% of its value since July',\n",
       " 'Nude Photos of Underage Girls Seized From Jeffrey Epstein Mansion',\n",
       " '200th New York firefighter dies from 9/11 illness as funding debate rages on',\n",
       " 'Ohio white nationalist, anti-Semite arrested for threatening to shoot up Jewish community center, police say',\n",
       " 'Power has been restored to all of Puerto Rico for the first time since Hurricane Maria struck nearly 11 months ago, officials said Tuesday',\n",
       " 'Alex Jones, Backtracking, Now Says Sandy Hook Shooting Did Happen',\n",
       " 'Pope Francis makes it mandatory for sex abuse cases to be reported',\n",
       " 'Amazon Cuts Prices at Whole Foods by Up to 43% on First Day',\n",
       " 'Atlanta school: No more Pledge of Allegiance to start day',\n",
       " 'US official: Russia using social media to divide Americans',\n",
       " 'FCC approves net neutrality rules, reclassifies broadband as a utility',\n",
       " 'Psychedelic psilocybin therapy for depression granted Breakthrough Therapy status by FDA',\n",
       " 'Military veterans defy Jeff Sessions, fight for medical marijuana to kick opioid addiction',\n",
       " 'President Xi Jinping vows Chinese separatists will be ‘smashed to pieces’ as US-themed protests begin in Hong Kong',\n",
       " 'Simone Biles wins every gold medal at U.S. Championships',\n",
       " 'Supreme Court: Justice Ruth Bader Ginsburg, 85, hospitalized after fracturing 3 ribs in fall at court',\n",
       " 'Bill Cosby sentenced to 3 to 10 years in prison for Andrea Constand sexual assault',\n",
       " 'Mass Shooting in Virginia: Witnesses Say Gunman Opened Fire on Members of Congress',\n",
       " \"Report claims CIA has 'smoking gun phone call' connecting Saudi crown prince to Jamal Khashoggi killing\",\n",
       " 'The US is preparing to withdraw all its troops from Syria, US defence officials',\n",
       " \"Elon Musk Will Launch 11,943 Satellites in Low Earth Orbit to Beam High-Speed WiFi to Anywhere on Earth Under SpaceX's Starlink Plan\",\n",
       " \"Attorney: Family of 'swatting' victim wants officer charged\",\n",
       " '82 Percent of Wealth Created in 2017 Went to the 1 Percent',\n",
       " 'Chefs Guy Fieri and José Andrés join forces to feed thousands affected by California fires',\n",
       " 'EPA chief Scott Pruitt says carbon dioxide is not a primary contributor to global warming',\n",
       " 'Americans more likely to die from opioid overdose than in a car accident',\n",
       " \"Report says the UN's global 'war on drugs' has been a failure\",\n",
       " 'U.S. judge orders Trump administration to allow entry to immigrant visa holders',\n",
       " 'Florida woman rescued after slipping note to veterinarian saying boyfriend was holding her captive, cops say',\n",
       " 'Holocaust survivor breaks decades-long silence to share her horrific story',\n",
       " \"EA reportedly under criminal investigation in Belgium due to FIFA's loot boxes\",\n",
       " 'Satanic Temple statue unveiled at the Arkansas State Capitol',\n",
       " 'Bounty hunters who shot at wrong car found not guilty in killing of Clarksville dad',\n",
       " 'Woman who chose to keep her baby instead of chemotherapy has died 3 days after delivery',\n",
       " 'Legal age to purchase tobacco products joins alcohol and Cannabis at the age of 21 in Massachusetts.',\n",
       " 'Ford Cancels Plan to Build Plant in Mexico, Will Invest in Michigan',\n",
       " 'Arthur: Alabama Public Television bans gay wedding episode',\n",
       " 'Obama lifts all restrictions on Cuban rum, cigars',\n",
       " 'Dunkin’ Donuts to Eliminate Foam Cups Worldwide in 2020',\n",
       " \"Missouri Police Search for Marijuana in a Stage 4 Cancer Patient's Hospital Room\",\n",
       " \"Kellyanne Conway: Spicer 'gave alternative facts' on inauguration crowd\",\n",
       " 'Alfred K. Newman, Among the Last Navajo Code Talkers, Has Died',\n",
       " 'Thousands of mailed ballots in Florida were not counted',\n",
       " 'Texas school district spends $12m in surplus money on football stadium, forgets it needs to build elementary school.',\n",
       " \"Bernie Sanders, Daniel Ellsberg, former members of the NSA and more weigh in: 'Edward Snowden did this country a great service. Let him come home'\",\n",
       " 'Beloved actor Stefán Karl Stefánsson, star of Lazy Town dies of cancer',\n",
       " 'Witnesses: Several people shot at church in Sutherland Springs',\n",
       " 'Arrest Made in Connection to Suspicious Packages',\n",
       " 'Police in El Paso are responding to an active shooter at a Walmart',\n",
       " \"El Chapo 'raped girls as young as 13' - and called them his 'vitamins'\",\n",
       " 'Report: President George H.W. Bush is in intensive care',\n",
       " 'Woman jailed for 10 years for making series of false rape claims.',\n",
       " \"Canada to legalise marijuana 'within months', says MP\",\n",
       " 'Roger Stone Arrested',\n",
       " 'Photos Show Scores of Uncounted Ballots in Opa-locka Mail Center',\n",
       " 'Texas radio host admits sexually abusing kids, paying $45,000 to have prosecutor killed',\n",
       " 'Girl, 13, Who Wrote Essay on Gun Violence Is Killed by Stray Bullet',\n",
       " 'Trump Signs Executive Order Revoking Barack Obama’s National Ocean Policy, Opens Oceans to Drilling',\n",
       " \"This CEO raised the minimum salary of his employees to $70k and now he's doing it again\",\n",
       " 'Dick’s, Major Gun Retailer, Will Stop Selling Assault-Style Rifles',\n",
       " 'Belgium says loot boxes are gambling, wants them banned in Europe',\n",
       " \"Saudi women will no longer need a man's permission to travel or study\",\n",
       " 'Jamal Khashoggi strangled as soon as he entered consulate, prosecutor confirms',\n",
       " 'Costco will again stay closed on Thanksgiving this year, bucking the trend of retailers opening their doors earlier and earlier: \"We simply believe [our employees] deserve the opportunity to spend Thanksgiving with their families\"',\n",
       " 'FCC has no documentation of DDoS attack that hit net neutrality comments',\n",
       " \"Verizon throttled 'unlimited' data of Calif. fire department during wildfire\",\n",
       " 'Active Shooter near Twin Peaks in Odessa, TX',\n",
       " 'Sarah Palin’s Son arrested for Domestic Violence and Resisting Arrest',\n",
       " 'Dying woman drags herself 100 yards to a road and uses last words to identify her suspected killers',\n",
       " \"Arnold Schwarzenegger undergoes 'emergency open-heart surgery'.\",\n",
       " 'Martin Shkreli Placed in Solitary Confinement After Allegedly Running Company Behind Bars: Report',\n",
       " 'Police sources: New evidence suggests Jussie Smollett orchestrated attack',\n",
       " \"Saudi women's rights activist is being tortured in 'palace of terror,' brother says\",\n",
       " 'Washington becomes first U.S. state to legalize human composting as alternative to burial/cremation',\n",
       " 'The Silence Breakers are Times person of the year.',\n",
       " 'Planned Parenthood to open \"mega-clinic\" in Illinois, a response to restrictive abortion laws in Missouri',\n",
       " 'One of Saudi Arabia’s most prominent exiled activists has quit Twitter and Facebook, saying that the social media giants have become tools for oppressive governments and trolls to harass and silence campaigners',\n",
       " 'Sources: Fox News Has Decided Bill O’Reilly Has to Go',\n",
       " 'Facebook Employees Are So Paranoid They’re Using Burner Phones to Talk to Each Other',\n",
       " 'Texas woman, 33, dies after large rock thrown from overpass crashes through car’s windshield',\n",
       " 'Officers kill man with no active warrants in wrong house',\n",
       " 'Colorado becomes First State in the Nation to put a Cap on the Price of Insulin',\n",
       " 'Judge orders White House to return Acosta pass',\n",
       " 'Male contraceptive pill is safe to use and does not harm sex drive, first clinical trial finds',\n",
       " \"Judge declares man's truck 'his home' in ruling that could affect hundreds of homeless people\",\n",
       " 'Man charged with capital murder in shooting of 7-year-old Jazmine Barnes',\n",
       " 'Australian scientist David Goodall, 104, ends his life in Switzerland with his family by his side.',\n",
       " 'Report: Gunman Opens Fire at Madden Championship Event (Video)',\n",
       " 'California sees $9 billion surplus, passes budget to help poor',\n",
       " 'US Senate passes sweeping tax overhaul bill',\n",
       " 'Mulvaney admits quid pro quo',\n",
       " \"'One in a million' yellow cardinal spotted in Alabama\",\n",
       " 'Judge Rules Against Alex Jones and Infowars in Sandy Hook Lawsuit',\n",
       " 'Facebook confirms it records call history, stoking privacy furor',\n",
       " 'Judge Upholds Verdict That Found Monsanto’s Roundup Caused a Man’s Cancer',\n",
       " 'Man who killed a woman when he rammed his car into Charlottesville counterprotest to be sentenced Friday',\n",
       " 'Fort Worth Officer Charged With Murder After Shooting That Killed Atatiana Jefferson',\n",
       " \"'Star Wars': Mark Hamill To Get Star On Hollywood Walk Of Fame\",\n",
       " 'US Hearthstone players banned for Hong Kong protest',\n",
       " 'Rapper XXX Tentacion has been shot in Miami and appears to be lifeless, witnesses say.',\n",
       " 'Navy SEAL dies while rescuing Thai schoolboys trapped in cave',\n",
       " 'Judge Aaron Persky, who gave Brock Turner lenient sentence in rape case, recalled from office',\n",
       " '911 operator who hung up on emergency calls is sentenced to jail',\n",
       " \"Alabama newspaper editor who urged Klan to 'ride again' replaced by African-American woman\",\n",
       " \"Jeffrey Epstein's lawyers highly 'skeptical' of suicide ruling, say he wasn't 'despairing, despondent' before death\",\n",
       " 'U.S. forces found evidence of war crimes by Turks in Syria, says U.S. official',\n",
       " 'Paedophile who filmed himself raping a two-year-old girl and shared it online has been jailed for life.',\n",
       " 'Covington Catholic: Longer video shows start of the incident at Indigenous Peoples March',\n",
       " 'Teen ran out with a $2 beer. Memphis store clerk followed him and shot him dead',\n",
       " \"The US sent bomb-sniffing dogs to Jordan. Now they're dying from poor treatment\",\n",
       " 'Megachurch pastor indicted on $3.5 million fraud',\n",
       " 'Dark web dealers voluntarily ban deadly fentanyl | Society',\n",
       " 'Mac Miller dead at 26',\n",
       " 'Mom who beat daughter for not reciting Bible verses correctly sent to state prison',\n",
       " 'Spotify removes episodes of podcast hosted by Alex Jones',\n",
       " 'Milo Yiannopoulos Resigns From Breitbart News Amid Pedophilia Video Controversy',\n",
       " 'Possible active shooter at Youtube in San Bruno',\n",
       " 'Mayor quits FCC committee, says it favors ISPs over the public interest',\n",
       " \"A Confederate monument in Nashville was vandalized with the words 'They were racists'\",\n",
       " \"Anchorage was 90 degrees on July 4. That's not a typo\",\n",
       " 'Netflix asks FCC to declare data caps “unreasonable”',\n",
       " \"Oklahoma governor compares teachers to 'a teenage kid that wants a better car'\",\n",
       " 'Ireland votes by landslide to legalise abortion',\n",
       " 'Target to raise its minimum wage to $11 per hour, promising $15 by 2020',\n",
       " 'Maine voters approve recreational marijuana use.',\n",
       " 'Britain has broken its record for the longest continuous period without generating electricity from coal.',\n",
       " 'Pornhub and Youporn to offer encryption by default, preventing ISPs from tracking the type of Porn you watch',\n",
       " 'M 8.0 earthquake in Alaska',\n",
       " 'Microsoft Paint to be killed off after 32 years | Technology',\n",
       " 'Former Marine said he’d ‘slaughter’ antifa. The FBI, using Oregon’s new red flag law, took his guns away',\n",
       " 'New Texas laws: Illegal to send unsolicited nude photos, starting today.',\n",
       " 'Trump sides with Russia against FBI at Helsinki summit',\n",
       " 'Donald Trump overturns law preventing companies dumping coal mining debris in streams and rivers',\n",
       " \"There could have been three more mass shootings if these men weren't stopped, authorities say\",\n",
       " \"Richard Overton, America's oldest Veteran, dies at 112\",\n",
       " \"Tennessee sheriff taped saying 'I love this shit' after ordering suspect's killing\",\n",
       " 'Cannabis industry calls for legalization and regulation to snuff out underground vapes',\n",
       " 'State of Emergency Declared in Charlottesville After Protests Turn Violent',\n",
       " 'Prince Philip, 97, gives up driving licence',\n",
       " 'Expert: Acosta video distributed by White House was doctored',\n",
       " 'Bannon Is Subpoenaed in Mueller’s Russia Investigation',\n",
       " 'Jeffrey Epstein Accuser Names Powerful Men in Alleged Sex Ring',\n",
       " 'South and North Korean table tennis teams requested to not play each other in the quarter finals and instead play the semifinals together as one team.',\n",
       " 'North Miami cop who shot the unarmed caretaker of a man with autism goes to trial',\n",
       " 'Prince has passed away at his Paisley Park recording studio Thursday morning',\n",
       " \"Teenager 'murdered by ex-boyfriend' after police fined her for wasting their time over her fears about him, court hears\",\n",
       " 'Naturopath who said bicarbonate soda cures cancer banned for life by health watchdog | Australia news',\n",
       " 'Measles cases at highest for 20 years in Europe, as anti-vaccine movement grows',\n",
       " 'Florida beekeeper says someone is poisoning his honey bees, 7 million possibly dead',\n",
       " 'Matt Lauer fired from NBC News for sexual misconduct',\n",
       " 'Cop had sex with supervisor while her child was dying from heat exposure in her patrol car.',\n",
       " 'Criminology student, 22, who falsely cried rape at taxi driver is jailed for 16 months',\n",
       " 'Senate votes to let ISPs sell your Web browsing history to advertisers',\n",
       " \"Alzheimer's gene neutralised in human brain cells for the first time\",\n",
       " 'Bus driver flips-off students, tells kids to ‘go f**k yourselves’ before abandoning school bus at gas station',\n",
       " \"Mexican military disarm entire police force in resort city 'corrupted by drug gangs'\",\n",
       " 'Florida men who dragged shark behind boat charged with animal cruelty.',\n",
       " \"'We're not lazy, we're old': 71-year-old worker at Costco wins right to sit on the job - Montreal\",\n",
       " 'Hong Kong protesters use laser pointers to deter police, scramble facial recognition',\n",
       " 'First Ever Quadriplegic Treated With Stem Cells Regains Motor Control in His Upper Body',\n",
       " 'Shark fin soup now illegal in Nevada',\n",
       " 'Colorado homeowner owed nothing after police SWAT shootout destroys his house, federal court rules',\n",
       " 'Sessions met with Russian envoy twice last year, encounters he later did not disclose',\n",
       " 'St. Louis will drop minimum wage from $10 to $7.70.',\n",
       " 'Boy, 12, steals credit card and goes on Bali holiday after fight with mother',\n",
       " '2 Children Found Buried 2 Years Apart in a Yard. Their Father, a Walmart Santa, Has Been Arrested',\n",
       " 'Man sentenced to 12 years in prison for stomping on, throwing puppy',\n",
       " 'Trump signs law ensuring shutdown pay for government workers',\n",
       " 'Leah Remini: Tom Cruise Personally Punished Fellow Scientologists',\n",
       " 'Two lions, two tigers and a jaguar have reportedly escaped from a German zoo, with locals being warned to stay inside',\n",
       " \"She didn't see it coming: psychic arrested for $800,000 fraud\",\n",
       " 'DeVos appoints CEO of student loan company head of federal student aid',\n",
       " 'Michael Cohen Secretly Taped Trump Discussing Payment to Playboy Model',\n",
       " 'The Italian government has approved a law ordering parents to vaccinate children or face fines. The authorities have noted a rise in measles cases, which the cabinet blames on \"the spread of anti-scientific theories.\"',\n",
       " 'Filmmaker Peter Jackson may testify against Harvey Weinstein in Ashley Judd case',\n",
       " '2nd whistleblower comes forward after speaking with IG: Attorney',\n",
       " 'CVS fires pharmacist who denied transgender woman hormone script',\n",
       " 'Schools in Iowa and South Dakota will soon offer Hunter Education in school, teaching kids about firearm safety, Hazelton-Moffit-Braddock High school in North Dakota offered a similar course since 1979.',\n",
       " 'Police: Woman shot homeless man who asked her to move Porsche',\n",
       " 'Tennessee makes community college free for all adults',\n",
       " \"Mystery pooper at N.J. high school's track turned out to be superintendent, cops say\",\n",
       " 'Nuns bring #MeToo to Vatican, condemn abuse from priests | CBC News',\n",
       " 'The creator of IKEA, Ingvar Kamprad, is dead. He was 91 years old',\n",
       " \"Hong Kong protesters call for 'Mulan' boycott after star went public in support of police\",\n",
       " \"Anonymous donor gives $100M to Canada's largest mental health hospital\",\n",
       " 'While in ICE custody, thousands of migrants reported sexual abuse',\n",
       " 'Rock-n-roll legend Chuck Berry has died',\n",
       " \"Lindsay Lohan Gets Punched in Face After Accusing Refugee Family of 'Trafficking' (Video)\",\n",
       " \"Anonymous donor gives $62,500 to ensure that Las Vegas shooter's guns are destroyed\",\n",
       " \"'We Are Putting Out a Damn Paper Tomorrow.' Capital Gazette Journalists Defiant After Deadly Shooting\",\n",
       " 'Netflix joins Amazon and Reddit in Day of Action to save net neutrality',\n",
       " 'Reports of shots fired at Santa Fe High School',\n",
       " 'Spy poisoning: US to expel 60 Russian diplomats',\n",
       " 'US drops largest non-nuclear bomb in Afghanistan in area populated by Isis members',\n",
       " 'WV State Police seize $10K from couple without charging them with a crime',\n",
       " '11 people have died in the past 10 days on Mt. Everest due to overcrowding. People at the top cannot move around those climbing up, making them stuck in a \"death zone\".',\n",
       " 'The Latest: Ginsburg, 85, back to work at Supreme Court',\n",
       " 'Utah nurse reaches $500,000 settlement in dispute over her arrest for blocking cop from drawing blood from patient',\n",
       " 'Woman who died in December was planned witness in Flint water crisis cases',\n",
       " 'New York State Bans Cat Declawing',\n",
       " 'Illinois just became the first state to require insurance companies to cover EpiPen injectors for kids',\n",
       " 'YouTube Bans Infowars’ Alex Jones for Spewing Hate Speech',\n",
       " 'New Muslim congresswoman to be sworn in with Thomas Jefferson’s centuries-old Quran',\n",
       " \"Woman's ID stolen 15 times after Equifax breach\",\n",
       " 'Dog waited weeks for owners at home burned in Camp fire',\n",
       " 'Whole of Puerto Rico without power',\n",
       " \"Footage from camera outside Jeffrey Epstein's cell deemed unusable\",\n",
       " \"Portland man gathers over 300,000 signatures to 'remove healthcare subsidies' for Congress\",\n",
       " 'Massive leak of 198 million US voter records is \"largest ever\"',\n",
       " '5,000 military dogs went to Vietnam; not a single one came back. Now there is a memorial to honor them.',\n",
       " 'Drug firms shipped 20.8M pain pills to WV town with 2,900 people',\n",
       " 'Michigan to be first Midwest state to allow recreational pot',\n",
       " 'Pit bull saves family from house fire, pulls 7-month-old girl by her diaper',\n",
       " 'After Utah nurse’s violent arrest, local prosecutors ask FBI to help investigate police',\n",
       " 'Oklahoma Police Chief Resigns Over Neo-Nazi Ties, Gets Job in Neighboring Police Force',\n",
       " 'Macron wins French presidency by decisive margin over Le Pen',\n",
       " '3 Black Churches Have Burned in 10 Days in a Single Louisiana Parish',\n",
       " 'This undersea robot just delivered 100,000 baby corals to the Great Barrier Reef',\n",
       " 'Toys ‘R’ Us cancels bankruptcy auction, plans to revive brand',\n",
       " 'Cubs win World Series',\n",
       " 'Tesla cites Brexit as Germany chosen over UK for European plant | Technology',\n",
       " \"Father of Guatemalan girl who died in US custody has 'no complaints' about her treatment, consul says\",\n",
       " 'International students from MIT, Stanford, blocked from reentering US after visits home.',\n",
       " 'Woman who partied while children died in hot car to serve 40 years in prison',\n",
       " 'Large numbers of humpback whales have returned to NYC for the first time in a century',\n",
       " 'Video sparks fears Hong Kong protesters being loaded on train to China',\n",
       " 'China imports zero U.S. soybeans in November for first time since trade war started',\n",
       " 'An older teen who was in the car when his 15-year-old brother was fatally shot by a Texas officer was himself then handcuffed and hauled off to a jail cell overnight — \"for no apparent reason,\" an attorney who represents the boys\\' family said on Tuesday.',\n",
       " 'Highschool principal lapsed into monthlong coma, died after bone marrow donation to help 14-year-old boy',\n",
       " 'Philadelphia fans set fire, damage property after Super Bowl win',\n",
       " '60 students without vaccines kept out of school in Fargo, West Fargo',\n",
       " \"'Kill the NRA' message appears on billboard on Interstate 65 in Louisville\",\n",
       " 'Sandy Hook Father Dies in Apparent Suicide',\n",
       " 'Sears bankruptcy court OKs $25 million in bonuses for top execs',\n",
       " \"Elon Musk calls British diver who helped rescue Thai schoolboys 'pedo guy' in Twitter outburst\",\n",
       " 'Facebook Confirms Giving Advertisers Access to User Phone Numbers',\n",
       " 'US troops pelted with rotten fruit and stones as they leave Syria',\n",
       " 'TSA Officers Will Rally Friday At Pittsburgh International Airport',\n",
       " 'Marilyn Manson to #MeToo movement: ‘Say it to police, not to the press’',\n",
       " 'Shelter for male survivors of domestic violence to open in Danville, Indiana this fall.',\n",
       " 'Openly gay teacher fired after posting wedding pictures on social media',\n",
       " 'Whistleblower accuses largest US military shipbuilder of putting ‘American lives at risk’ by falsifying tests on submarine stealth coating',\n",
       " 'Conspiracy theorist Alex Jones accused of destroying evidence in school massacre lawsuit',\n",
       " \"The limo that crashed and killed 20 people failed inspection. And the driver wasn't properly licensed.\",\n",
       " 'Maine bars residents from opting out of immunizations for religious or philosophical reasons',\n",
       " \"Migrant children: Trump signs order to 'keep families together'\",\n",
       " 'Major tech firms urge U.S. to retain net neutrality rules',\n",
       " 'Jeffrey Epstein used foreign passport with fake name to enter Saudi Arabia: prosecutors',\n",
       " 'Suspected white supremacist arrested in thwarted synagogue attack, FBI says',\n",
       " 'Grand jury report: Priests ran child porn ring in Pittsburgh Diocese',\n",
       " 'Classes canceled for 361,000 students as Chicago teachers go on strike',\n",
       " 'Child calls 911 to report being left in hot car with 6 other kids',\n",
       " 'Six California police officers fire shots at rapper asleep in car, killing him',\n",
       " 'Burt Reynolds Dies at 82',\n",
       " 'At least 10,000 people died in Tiananmen Square massacre, secret British cable from the time alleged',\n",
       " \"Utah hospital bars cops from contact with nurses after 'appalling' arrest\",\n",
       " 'Finally declassified: Swedish pilots awarded US Air Medals for saving SR-71 spy plane',\n",
       " 'A Lakers Fan Raised Almost $43k to Hand Out \"Stand with Hong Kong\" T-Shirts at the Season Opener',\n",
       " '8chan Is a Megaphone for Shooters. ‘Shut the Site Down,’ Says Its Creator.',\n",
       " 'Woman, 25, convicted for making up fake rape claims against 15 innocent men',\n",
       " 'Southern California Cheesecake Factories cheated 559 janitors out of $4.57 million in wages, labor commissioner charges',\n",
       " 'Former Trump lawyer and fixer Michael Cohen pleads guilty, makes a deal with Mueller',\n",
       " 'White nationalist Richard Spencer accused of physical abuse by wife',\n",
       " 'Judge halts clearing of rare forest targeted for Walmart.',\n",
       " 'Matt Gaetz Under Investigation By Florida State Bar Over Michael Cohen Threat',\n",
       " 'Colorado passes $1 billion in marijuana state revenue',\n",
       " \"600 homes repaired, 26 million meals served and thousands helped through JJ Watt's relief fund\",\n",
       " \"'Don't know why you're freaking out': Arkansas woman drowns on phone with 911\",\n",
       " 'U.S. judge strikes down Mississippi ban on abortions after 15 weeks',\n",
       " \"Wikipedia bans Daily Mail as 'unreliable' source for website\",\n",
       " 'Putin critic who denounced annexation of Crimea shot dead',\n",
       " 'A shooter opened fire inside an Oklahoma restaurant before he was shot and killed by an armed citizen',\n",
       " \"President Obama signs an act requiring baby changing stations to be available in men's restrooms\",\n",
       " 'Former CNN videographer dies from 9/11 linked cancer',\n",
       " \"Federal judge says Trump's use of emergency funds to build wall is unlawful\",\n",
       " \"'Man who claimed mom died in Iraq after Trump's ban lied, Imam confirms'\",\n",
       " 'Department of Homeland Security strategy adds white supremacy to list of threats',\n",
       " \"Sarah Palin's oldest son, Track, arrested on domestic violence charges\",\n",
       " 'Demi Lovato reportedly hospitalized for heroin overdose',\n",
       " \"School district pulls 'To Kill A Mockingbird' from reading list; 'makes people uncomfortable'\",\n",
       " 'Kevin Hart suffers major back injuries in car crash',\n",
       " 'Native American tribe donates $184,000 to cover funeral costs of people who died in Alabama tornadoes',\n",
       " 'Equifax Hit With $70 Billion Lawsuit After Leaking 143 Million Social Security Numbers',\n",
       " 'Investigation reveals 700 victims of Southern Baptist sexual abuse over 20 years',\n",
       " \"EA's new 'Star Wars' game is so unpopular a developer is apparently getting death threats\",\n",
       " 'Federal judge rules Mass. law prohibiting secret audio recording of police, government officials is unconstitutional',\n",
       " 'Prince Andrew could become more deeply engulfed in the Jeffrey Epstein scandal as police in the US seek to talk to victims of the late American billionaire pedophile.',\n",
       " 'Colorado cracks a billion in annual marijuana sales in record time, generating $200M in tax revenue',\n",
       " 'For the fourth time, small Kentucky town elects a dog as mayor',\n",
       " 'US tobacco companies forced to run ads admitting cigarettes are addictive and smoking kills',\n",
       " 'Arizona state trooper arrested on 61 sex-related, kidnapping and fraud counts',\n",
       " 'Paul Manafort and Rick Gates indicted on 32-counts',\n",
       " 'Customer who left racist ‘we don’t tip terrorist’ message banned from Texas restaurant',\n",
       " 'Jared Kushner now under FBI scrutiny in Russia probe, say officials',\n",
       " 'Ontario government to allow pot smoking wherever tobacco smoking allowed',\n",
       " 'Teenager Accused of Rape Deserves Leniency Because He’s From a ‘Good Family,’ Judge Says',\n",
       " \"'Explosion' at Manhattan bus terminal\",\n",
       " '19-year-old shot and killed after knocking on wrong apartment door',\n",
       " '‘It’s Mutilation’: The Police in Chile Are Blinding Protesters - Video',\n",
       " 'Sandy Hook Parents Sue Alex Jones for Defamation',\n",
       " 'Birth control available without doctor visit in Colorado',\n",
       " 'APNewsBreak: Georgia election server wiped after suit filed',\n",
       " 'Virginia elects first transgender state legislator, defeating author of bathroom privacy bill',\n",
       " 'George H.W. Bush secretly sponsored a Filipino child for 10 years.',\n",
       " 'Portland to raise taxes on companies where CEO earns 100 times what workers do',\n",
       " 'Google has banned 200 publishers after it passed a new policy against fake news',\n",
       " 'Navy Chief found dead in her Jacksonville home filed for protective order two weeks ago.',\n",
       " '5 teens charged with murder after rock thrown from I-75 overpass in Michigan kills man',\n",
       " 'Seattle court agrees to clear past marijuana convictions',\n",
       " 'TSA officers at Sea-Tac on verge of quitting over lack of pay',\n",
       " \"French waiter shot dead for being 'too slow with sandwich', say witnesses\",\n",
       " 'Gawker Has Filed for Bankruptcy',\n",
       " \"Internet giants unite for 'Day of Protest' in net neutrality battle\",\n",
       " \"Man wrongly jailed for 32 days after wife's false rape accusation sues government for $500,000\",\n",
       " 'Judge tosses out Trump challenge to tax return turnover',\n",
       " 'Montana man accused of assaulting child for not removing hat during national anthem',\n",
       " 'Nevada collects $69.8M in marijuana tax, exceeding expectations',\n",
       " 'Retired firefighter who fired shotgun at black teen gets up to 10 years in prison',\n",
       " 'Stormy Daniels to receive $450,000 settlement over arrest at Ohio strip club',\n",
       " 'Amazon fired me for failing drug test even though I’m a medical marijuana patient, N.J. man’s lawsuit says',\n",
       " 'McDonald\\'s, Burger King, Five Guys among 22 burger chains given \"F\" over antibiotics',\n",
       " 'No Charge for 11 Turkish Agents Accused of Attacking D.C. Protesters',\n",
       " 'Nestlé Makes Billions Bottling Water It Pays Nearly Nothing For',\n",
       " 'Two Officers Are Fired for Dragging Doctor Off a United Flight',\n",
       " 'Priest shames teen suicide victim at funeral, parents say',\n",
       " \"Reddit's popular 'ask me anything' feature is down after a key employee (Victoria) is gone.\",\n",
       " 'Porn Giant XHamster Is Shutting Off Access For North Carolina Because Of Anti-LGBT Law',\n",
       " 'Labor Secretary Alex Acosta resigns',\n",
       " 'Manslaughter Charge Dropped Against Alabama Woman Who Was Shot While Pregnant',\n",
       " 'No charges for man who shot, killed neighbor trying to drown twin babies',\n",
       " 'Chris Evans Invites Bullied Keaton Jones To ‘Avengers’ Premiere | Deadline',\n",
       " 'Guyger Sentenced to 10 Years in Prison for Murder of Jean',\n",
       " \"Father spinning gun on finger accidentally shoots self at daughter's birthday party\",\n",
       " 'Russia Bombed Four Syrian Hospitals. We Have Proof - NYT.',\n",
       " 'Children being born in the United States today have a near one in two (43%) chance of being born into households living on the brink of poverty.',\n",
       " 'Court rules gov’t can keep money seized in drug bust, even after suspect acquitted',\n",
       " 'For-profit college cancels $500M in student debt after fraud allegations',\n",
       " 'Google employees: We no longer believe the company places values over profits',\n",
       " \"Black Boeing employee sues company after finding noose at desk, says 'my work life is degrading'\",\n",
       " \"Mother of girl who died after school fight says she'd complained of bullying in the past\",\n",
       " \"Net neutrality: 'father of internet' joins tech leaders in condemning repeal plan\",\n",
       " 'Former Deputy Who Made Child Porn Gets Probation Instead Of Prison Time',\n",
       " 'No Evidence of Aloe Vera Found in the Aloe Vera at Wal-Mart, CVS: Wal-Mart, Target, CVS sell aloe without appearance of plant.',\n",
       " \"Walmart plans to dramatically step back from gun sales after 'horrific' shootings\",\n",
       " 'First two boys have been rescued, local officials tell Reuters',\n",
       " 'A baby kept on a vegan diet died. His parents have been arrested on a manslaughter charge.',\n",
       " \"Texas serial bombing suspect 'dead' - US reports\",\n",
       " 'Teen girl files claim against police who mistook her for a black male suspect and punched her',\n",
       " 'Sheriff: US border patrol agent arrested, suspected of killing 4 women',\n",
       " 'Jury selection to begin in trial of Dallas officer Amber Guyger, who shot a man in his own apartment',\n",
       " 'Illinois becomes 11th state to allow recreational marijuana',\n",
       " 'Football Fan Shouted F*** You Im Millwall and Took on Knife Wielding Terrorists with his Bare Hands',\n",
       " \"Yale University Votes to Rescind Bill Cosby's Honorary Degree\",\n",
       " \"KKK 'imperial wizard' found dead near Missouri river after employer reports him as missing\",\n",
       " 'White House PR chief resigns - BBC News',\n",
       " 'One Day Later, Anonymous Already Takes Down 3,824 Pro-ISIS Twitter Accounts',\n",
       " \"U.S. loses bid to halt children's climate change lawsuit\",\n",
       " 'Trump Will Keep Intact Obama-Era Order Protecting LGBTQ Employees of Federal Contractors',\n",
       " \"Barack Obama: 'drug addiction is a health problem, not a criminal problem'\",\n",
       " 'Former Equifax Manager Charged With Insider Trading',\n",
       " 'U.S. Air Force Warns Those Planning to Storm Area 51: The Military ‘Stands Ready',\n",
       " 'Hurricane Irma upgraded to Category 5',\n",
       " 'Montana Supreme Court says citizens have a right to trial by jury before the state can take private property in civil forfeiture cases',\n",
       " 'Indian guru sentenced to life for raping girl',\n",
       " 'Marijuana company buys entire US town to create cannabis friendly municipality',\n",
       " \"EpiPen maker faces revolt over exec's $98 million pay package\",\n",
       " \"Two women sue Jeffrey Epstein's estate for $100 million over alleged sex abuse\",\n",
       " 'India has no plans to recover body of US missionary killed by tribe | World news',\n",
       " 'California Law Bans Bots From Pretending to Be Human',\n",
       " 'Edmonton girl guide sells out of cookies in front of cannabis store on first day',\n",
       " 'Police chief gives $575 ticket for tossing cigarette butt out window',\n",
       " 'Louis C.K. Crossed a Line Into Sexual Misconduct, 5 Women Say',\n",
       " \"Federal hate crime charges filed agains man in Utah who yelled racial slurs at 7-year-old boy and then shocked his father with a 'stun cane'\",\n",
       " 'Scholars Find $21 Trillion in Unauthorized Government Spending',\n",
       " 'Elon Musk provides $423K to buy laptops for all Flint middle schoolers',\n",
       " 'Illegal killing of mountain lion gets Colorado man convicted of felony',\n",
       " 'Broadband advisor picked by FCC Chairman Ajit Pai arrested on fraud charges',\n",
       " 'Japan glasses ban for women at work sparks a backlash.',\n",
       " \"Mueller's prosecutors allege Manafort lied to investigators, breaching his plea agreement.\",\n",
       " 'No Prison for Grandson of Ex-Virginia Governor in Rape Case',\n",
       " 'Louisiana teacher fired after mocking autistic student in audio recording during class',\n",
       " \"Student demands SAT score be released after she's accused of cheating\",\n",
       " 'Waffle House good Samaritan shot to death paying for meals, handing out $20 bills',\n",
       " 'Someone Is Sending Amazon Sex Toys to Strangers. Amazon Has No Idea How to Stop It.',\n",
       " 'Joshua Tree national park announces closure after trees destroyed amid shutdown',\n",
       " 'Marijuana banned from Chicago public housing despite legalization taking effect January',\n",
       " 'A Bangladesh court has sentenced 16 people to death for the murder of a student set on fire after accusing her teacher of sexual harassment.',\n",
       " 'Man killed by police was US Navy vet trying to break up fight, reports say',\n",
       " \"College basketball star's shoe explosion knocks $1.1bn off Nike's stock value\",\n",
       " 'Case against Jeffrey Epstein dismissed following his death',\n",
       " \"Khashoggi body 'dissolved in acid'\",\n",
       " \"NC KKK leader: 'I'm glad that girl died' during Virginia protest\",\n",
       " 'Recreational marijuana now legal in Vermont',\n",
       " 'Louisiana high school will kick students off team if they don’t stand for national anthem',\n",
       " 'Trump has business interests in 6 Muslim-majority countries exempt from the travel ban',\n",
       " 'World marathon record smashed by over a minute.',\n",
       " 'Ohio House passes bill allowing student answers to be scientifically wrong due to religion',\n",
       " 'A Kentucky teen sued to attend school without a chickenpox vaccine. He just lost in court -- again',\n",
       " \"British woman arrested on 'extra-marital sex' charges after reporting gang rape to police in Dubai as attackers go free\",\n",
       " 'France terror attack: Hero policeman married hours before he died',\n",
       " 'Dead sperm whale found with 30 kilograms of trash in digestive system',\n",
       " 'Airbnb permanently ban White supremacists from making reservations and hiring out flats',\n",
       " 'Playboy model Dani Mathers faces jail after secretly Snapchatting photo of naked woman at gym',\n",
       " 'Kansas man gets life sentence for killing Indian engineer in a bar',\n",
       " 'NY finds $1B in hidden transfers by family behind OxyContin',\n",
       " \"Vegan café that charged 18 per cent 'man tax' set to close\",\n",
       " 'It is official, the smoking age will be 21 in Texas',\n",
       " 'U.S. FDA orders antibacterials removed from consumer soaps',\n",
       " 'Chile protests: More than one million bring Santiago to a halt.',\n",
       " \"Dictionary.com chooses 'complicit' as its word of the year\",\n",
       " '22 year sentence for attempted murder after spiking girlfriend’s milkshake with abortion pill',\n",
       " 'Facebook \"allowed Microsoft\\'s Bing search engine to see the names of virtually all Facebook users\\' friends without consent, the records show, and gave Netflix and Spotify the ability to read Facebook users\\' private messages.\"',\n",
       " 'Racist tirade caught on video costs Hamden, Connecticut school employee her job',\n",
       " 'R. Lee Ermey, aka \"The Gunny\" has passed away',\n",
       " \"Woman who called Michelle Obama an 'ape' defrauded FEMA of $18K\",\n",
       " 'Cop admits framing two black men as Florida town’s false arrest scandal widens',\n",
       " 'Arrested for Not Carrying an ID on Way to High School, Young New Yorker Opts to Fight',\n",
       " \"Man beats peeping Tom to death after catching him outside girlfriend's window\",\n",
       " 'Bear Grylls rescued by medics after life-threatening allergic reaction to bee sting',\n",
       " 'Video shows Utah nurse screaming, being dragged into police car after refusing to let officer take blood from unconscious victim',\n",
       " 'Saudi Arabia Is Said to Have Tortured an American Citizen',\n",
       " 'Michigan man charged with shooting at teen who knocked on door to ask directions',\n",
       " 'Ex-Trump campaign chief Paul Manafort sentenced to 47 months for fraud in Mueller case',\n",
       " 'ACLU: Black man detained while moving into his own home',\n",
       " \"Martin Shkreli's ex-lawyer is convicted of aiding him in fraud scheme\",\n",
       " 'New Jersey Raises Minimum Smoking Age to 21',\n",
       " \"Report: Vegas shooter's brother arrested for child porn\",\n",
       " 'Satanic statue installed at US statehouse',\n",
       " 'North Carolina man wins lottery on the way to last cancer treatment',\n",
       " 'Police have video of Kevin Spacey groping a busboy, complaint says',\n",
       " 'First Charges Filed in Mueller Investigation',\n",
       " '$400,000 raised for homeless man is gone, attorney says',\n",
       " \"Montana special election candidate Greg Gianforte 'body slams' reporter\",\n",
       " \"'Hundreds of other people could be implicated' in Jeffrey Epstein, Ghislaine Maxwell court documents\",\n",
       " 'Cop Charged With Assault After Video Shows Him Slamming Suspect’s Head Into Pavement',\n",
       " 'US companies tell Apple and Amazon to put planet before profits',\n",
       " \"Broadband firms must ditch 'misleading' speed ads\",\n",
       " '$10K reward offered for killer of rare Yellowstone wolf',\n",
       " 'Police arrest more people for marijuana use than for all violent crimes combined',\n",
       " 'Massachusetts police used a military style helicopter to seize a single marijuana plant from an 81 year old woman using it to ease her arthritis and glaucoma.',\n",
       " 'Police warning after reports of Manchester Arena explosion',\n",
       " 'Fox News falls into 3rd place in primetime ratings for the first time in nearly 17 years',\n",
       " 'Sarah Silverman responds to troll by befriending him and paying for his medical treatment',\n",
       " 'U.S. has blood samples that show nerve agent in Syria gas attack',\n",
       " \"China's Xi warns attempts to divide China will end in 'shuttered bones'\",\n",
       " \"Betsy DeVos' $40 million yacht vandalized\",\n",
       " 'Trump revokes Obama guidelines on transgender bathrooms',\n",
       " 'George Clooney Calls for Online Release of \\'The Interview \"That\\'s the most important part. We cannot be told we can\\'t see something by Kim Jong Un, of all f***ing people.\"',\n",
       " \"'90210' and 'Riverdale' Star Luke Perry Dead at 52 After Suffering Stroke\",\n",
       " 'Confederate plaque removed from West Virginia courthouse',\n",
       " 'City of San Antonio Plans to Pay Settlement to Woman After Detective Searched Her Vagina in Middle of the Street',\n",
       " 'U.S. NEWS Chicago police: Jussie Smollett considered suspect in his report of hate crime attack',\n",
       " 'A toddler got meningitis. His anti-vac parents gave him an herbal remedy. The toddler died. Now his parents are on trial.',\n",
       " 'Uber driver who raped drunk passenger and then took selfie with his victim jailed for 12 years',\n",
       " 'Multiple people shot as gunman opens fire in California bar',\n",
       " 'R. Kelly turns himself in to Chicago police after being indicted on sexual abuse charges',\n",
       " '‘Not one drop’ of Poland Spring bottled water is from a spring, lawsuit claims',\n",
       " \"'Humiliating': Cellist Booted From American Airlines Flight After Buying Ticket For Instrument\",\n",
       " 'Sharks as big as small yachts spotted off California coast after 30-year absence',\n",
       " \"France passes laws to crack down on 'fake news' during elections\",\n",
       " 'InfoWars’ Alex Jones Loses Custody Case, Ex-Wife Wins Right to Decide Where Children Live',\n",
       " 'Colorado mom angry at United after infant overheats while airplane sits on tarmac at DIA',\n",
       " \"Farewell, No. 16: scientists left 'miserable' after world's oldest spider dies aged 43\",\n",
       " \"Osama bin Laden's son killed in US operation, White House confirms\",\n",
       " 'Backlash grows over poll closures in predominantly black Georgia county',\n",
       " 'California has hit its 2020 greenhouse gas emissions goal years ahead of schedule',\n",
       " 'Facebook sent a doctor on a secret mission to ask hospitals to share patient data',\n",
       " 'Justice Department Fires Embattled FBI Deputy Director Just Short of Retirement',\n",
       " \"Hollywood Sign Vandalized and Now Reads 'Hollyweed'\",\n",
       " 'New Accuser Jennifer Araoz: Jeffrey Epstein Raped Me in His NYC Apartment When I Was 15',\n",
       " 'EPA removes half of scientific board, seeking industry-aligned replacements',\n",
       " 'Officials: Camp Fire, deadliest in California history, was caused by PG&E electrical transmission lines',\n",
       " 'Protesters Banned At Jeff Sessions Lecture On Free Speech',\n",
       " \"'Predatory' Dartmouth professors plied students with alcohol and raped them\",\n",
       " 'Mother who refused to vaccinate her son loses primary custody',\n",
       " 'Alabama boycott builds as states retaliate against abortion law',\n",
       " 'Porn-Watching Employee Infected Government Networks With Russian Malware, IG Says',\n",
       " 'Man Charged with Threatening to Kill CNN Anchor',\n",
       " 'FEMA Is Almost Out of Money and Hurricane Irma Is Approaching',\n",
       " 'Man armed with AR-15 rifle killed in shootout with police near Kansas City outlet mall',\n",
       " 'Jimmy Carter hospitalized after fall at Georgia home',\n",
       " \"Jehovah's Witnesses refuse to hand over evidence in sexual abuse case\",\n",
       " 'Harvey Weinstein confronted by multiple people at New York City bar',\n",
       " 'Fire breaks out at Notre Dame cathedral',\n",
       " \"'Patient Zero' identified in measles outbreak\",\n",
       " 'Swiss town denies passport to Dutch vegan because she is ‘too annoying’',\n",
       " 'Planned Parenthood receives $9 million gift to open new clinics in West Texas',\n",
       " 'Washington becomes 1st state to approve net-neutrality rules',\n",
       " 'Protestors defend 800 year old Aboriginal birthing tree from highway development. \"The tree has been sustained by the blood of hundreds of generations of Djab Wurrung women.\"',\n",
       " 'The Satanic Temple in Salem is now a tax-exempt church',\n",
       " 'USA Swimming bans Brock Turner for life. He is no longer eligible for USA Swimming membership and will not be allowed to compete in any USA Swimming-sanctioned events, including the Olympic Trials.',\n",
       " \"Jogger who trashed homeless man's things charged with robbery in new dispute\",\n",
       " 'Drug with rage-inducing >5,000% price-hike now has $1/pill competitor',\n",
       " 'Roy Moore suing Sacha Baron Cohen for defamation over TV sketch mocking him',\n",
       " 'Prince Andrew stepping back from royal duties',\n",
       " 'Almost Half of U.S. Births Happen Outside Marriage, Signaling Cultural Shift',\n",
       " 'Woman arrested in dumping of 7 newborn puppies into Coachella dumpster',\n",
       " 'Marijuana legalization in NY under attack by cops, educators, docs',\n",
       " 'Ohio prison guards laughed as white supremacist stabbed cuffed black inmates',\n",
       " 'California rapper killed in car was shot by police about 25 times, lawyer says',\n",
       " '‘Scripted’ controversy: CNN releases emails of correspondence with Florida student',\n",
       " 'Saudi Arabia strips American mother of custody for being too Western',\n",
       " 'Straight Pride attracts a crowd of 2',\n",
       " \"Jaden Smith's foundation, local church bringing clean water to Flint\",\n",
       " 'Airline to Release Baby Seat Map to Allow Passengers to Avoid Infants',\n",
       " 'Muslim youth group cleans up national parks amid government shutdown',\n",
       " 'Hurricane Michael is so bad that Waffle House closed 18 restaurants',\n",
       " \"CDC director says there are 'no banned words' at the agency\",\n",
       " \"LA Is Suing The Weather Channel App For Selling Users' Location Data\",\n",
       " 'Supreme Court rules in favor of Colorado baker who refused to make wedding cake for gay couple for religious reasons',\n",
       " 'NASA Is Going to Knock an Asteroid Out of Orbit in First-Ever Planetary Defense Test',\n",
       " 'Houston pastor who backed bill criminalizing abortion arrested for alleged child sex abuse',\n",
       " 'Inmate who lived upstanding life after he was mistakenly freed wins release',\n",
       " 'AP Exclusive: Manafort had plan to benefit Putin government',\n",
       " 'Ticketmaster facing class action lawsuits over ticket resales',\n",
       " '17 people were were busted in a child pornography sting in Florida. 2 of them were Disney employees',\n",
       " 'Daniel Pantaleo, N.Y.P.D. Officer Who Held Eric Garner in Chokehold, Is Fired',\n",
       " 'Police officers who fined stalking victim before she was murdered face disciplinary action',\n",
       " 'Trump orders wall to be built on Mexico border',\n",
       " 'Google Says It Will Run Entirely on Renewable Energy in 2017',\n",
       " 'St. Louis County Will Stop Prosecuting Marijuana Possession Under 100 Grams',\n",
       " 'Muslim groups raise $500,000 for the victims of the Portland attacks',\n",
       " 'UK citizens vote to LEAVE the European Union',\n",
       " 'San Jose: Cat killer gets 16 years for torturing, killing 21 cats',\n",
       " 'Teacher tells class ‘speak American,’ says troops aren’t fighting for ‘right to speak Spanish’',\n",
       " 'China allows use of tiger and rhino products, infuriating wildlife activists',\n",
       " \"An officer was fired after he chose not to shoot a distraught suspect. Now he's getting a $175,000 settlement.\",\n",
       " 'Army officer at Mar-a-Lago accessed Russian child-porn website | Miami Herald',\n",
       " 'Madagascar measles epidemic kills more than 1,200 people, over 115,000 cases reported',\n",
       " 'Man who threw boiling water on gay couple will spend 40 years in prison',\n",
       " \"CNN's New York offices evacuated due to bomb threat\",\n",
       " 'Joel Osteen criticized for closing his Houston megachurch amid flooding',\n",
       " '18-year-old who pushed friend off 60-foot bridge now facing charges',\n",
       " 'YouTube removes 58 million videos featuring hateful or inappropriate content',\n",
       " 'Conor McGregor arrested on robbery, criminal mischief charges in Miami',\n",
       " 'Shooting at Great Mills High School in Maryland, school confirms',\n",
       " 'Former Florida deputy accused of falsifying drug arrests is being held on a $1 million bond',\n",
       " 'The copyright on the song \"Happy Birthday\" has been found to be invalid. The 100 year-old song is now in the public domain.',\n",
       " 'Facebook and Reddit accused of censorship after pages discussing Orlando carnage are deleted in wake of terrorist attack',\n",
       " 'Decade in the Red: Trump Tax Figures Show Over $1 Billion in Business Losses',\n",
       " \"USA women's soccer: US women's soccer team defeats Netherlands in World Cup final\",\n",
       " 'Unvaccinated 6 year old contracts tetanus',\n",
       " 'Australian teen denied visa for space camp in US because his parents are from Iran',\n",
       " 'California set to end private prisons and immigrant detention camps',\n",
       " \"'Only bones and fragments': California wildfire toll at 25 as grim searches go on\",\n",
       " 'White supremacist gets life for running down black man',\n",
       " 'Pa. Supreme Court rules police dash cam videos are public',\n",
       " 'Grandma mistakenly booked into all-male jail, staff thought she was transgender',\n",
       " 'Long lines in Nevada as recreational marijuana goes on sale',\n",
       " 'Elijah Cummings, esteemed longtime Baltimore congressman, has died at 68',\n",
       " 'Microsoft sues the US government for the right to tell customers when the government is looking at their emails',\n",
       " 'Privately run prisoner transport company kept detainee shackled for 18 days in human waste, lawsuit alleges',\n",
       " 'Grandmother averts mass shooting by bringing grandson to hospital after threats',\n",
       " 'The official death count from the strongest hurricane ever measured in the Western Hemisphere: zero.',\n",
       " 'Cyberbullying is now a crime in Michigan punishable by jail time',\n",
       " 'Feds order Wells Fargo to rehire whistleblower and pay him $5.4 million',\n",
       " 'Scientists Confirm China as Major Source of Banned Ozone-Depleting Chemicals',\n",
       " 'Sugar Daddy website founder to pay for abortions of women who need to travel out of restrictive states',\n",
       " 'Gov. Brown signs tough net neutrality law, sets up battle with FCC, tech companies',\n",
       " 'JFK assassination: Trump to allow release of classified documents',\n",
       " 'Flint residents can sue former Gov. Snyder over water disaster, judge rules',\n",
       " 'A woman who falsely claimed she was raped by a soldier after he \"rejected her\" has been jailed for five years.',\n",
       " 'Cornell will eliminate medical school debt for all students who qualify for financial aid, starting this fall',\n",
       " 'Uber Says Its Drivers Can Kick Out White Supremacists',\n",
       " 'Leak from neo-Nazi site could identify hundreds of extremists worldwide',\n",
       " 'New York Congressman Chris Collins indicted on insider trading charges',\n",
       " 'Vapers seek relief from nicotine addiction in — wait for it — cigarettes',\n",
       " 'Chick-fil-A drops donations to Christian charities after LGBT+ protests',\n",
       " 'Woman fired after being caught on video threatening to kill a group of Somali women in a Walmart parking lot.',\n",
       " \"FBI confirms Samuel Little's confession: He is the worst serial killer in U.S. history\",\n",
       " 'Jeffrey Epstein’s Victims, Denied a Trial, Vent Their Fury at a Hearing',\n",
       " \"France's 'Yellow Vest' Protestors March for 20th Consecutive Weekend Despite Bans and Injuries\",\n",
       " 'Ohio police chief fatally overdosed on drugs taken from evidence room, investigators say',\n",
       " 'North Carolina police officer resigns after beating, choking and tasing suspected jaywalker',\n",
       " \"Facebook includes Breitbart in new 'high quality' news tab | US news | The Guardian\",\n",
       " 'Ex-Scientology member sues church and its leader alleging abuse, human trafficking',\n",
       " 'Florida shooting: Muslim groups raise thousands to help victims and their families',\n",
       " 'news',\n",
       " 'Two weeks before his inauguration, Donald J. Trump was shown highly classified intelligence indicating that President Vladimir V. Putin of Russia had personally ordered complex cyberattacks to sway the 2016 American election',\n",
       " '2.6 terabyte leak of Panamanian shell company data reveals \"how a global industry led by major banks, legal firms, and asset management companies secretly manages the estates of politicians, Fifa officials, fraudsters and drug smugglers, celebrities and professional athletes.\"',\n",
       " 'Churchill\\'s grandson slams Trump for skipping cemetery visit because of weather: \"They died with their face to the foe and that pathetic inadequate @realDonaldTrump couldn’t even defy the weather to pay his respects to The Fallen,\" Soames tweeted',\n",
       " 'Internet Defenders Urge Mass Revolt to Fight FCC\\'s \"Scorched-Earth\" Attack on Net Neutrality: \"FCC Pai is handing over the internet to a few humongous gatekeepers who see the rest of us as products to be delivered to advertisers, not as citizens needing communications that serve democracy\\'s needs.\\'',\n",
       " 'Giraffes just silently went to the list of endangered animals facing extinction',\n",
       " 'Russia banned from 2018 Winter Olympics for doping',\n",
       " 'Belgium says loot boxes are gambling, wants them banned in Europe',\n",
       " \"Mozilla launches 'Facebook Container' extension for its Firefox browser that isolates the Facebook identity of users from rest of their web activity\",\n",
       " 'Justin Trudeau Is ‘Very Concerned’ With FCC’s Plan to Roll Back Net Neutrality: “We need to continue to defend net neutrality”',\n",
       " '19 of 20 World Leaders Just Pledged to Fight Climate Change. Trump Was the Lone Holdout.',\n",
       " 'Cancer ‘vaccine’ eliminates tumors in mice - 90 of 90 mice cured of cancers with lymphoma, similar results observed in colon, breast, and melanoma cancers.',\n",
       " '‘South Park’ episode banned in China screened on Hong Kong streets',\n",
       " '\\'We Don\\'t Know a Planet Like This\\': CO2 Levels Hit 415 PPM for 1st Time in 3 Million+ Yrs - \"How is this not breaking news on all channels all over the world?\"',\n",
       " \"'South Park' declares 'F--- the Chinese government' in 300th episode after the show was banned in China\",\n",
       " 'Italy bans unvaccinated children from school',\n",
       " 'Bill and Melinda Gates sue company that was granted $30million to develop a pneumonia vaccine for children - but instead used the money to pay off its back rent and other debts it racked up',\n",
       " 'Microsoft Japan’s experiment with a 3-day weekend boosts worker productivity by 40%.',\n",
       " 'Impeachment Proceedings to be started against Donald Trump',\n",
       " 'Germany ends all arms sales to Saudi Arabia',\n",
       " 'Twitter will now label political ads, including who bought them and how much they are spending',\n",
       " 'Same Sex Marriage is now legal in Australia',\n",
       " \"Tesla Turns Power Back On At Children's Hospital In Puerto Rico\",\n",
       " 'Hasan Minhaj responds after Netflix pulls episode of his comedy show in Saudi Arabia - “Clearly, the best way to stop people from watching something is to ban it, make it trend online, and then leave it up on Youtube.”',\n",
       " 'Revealed: Trump’s election consultants filmed saying they use bribes and sex workers to entrap politicians',\n",
       " '“Please save your praise. We don’t want it,” Swedish Climate Activist Greta Thunberg told the USA Senate Climate Change Task Force. “Don’t invite us here to tell us how inspiring we are without doing anything about it because it doesn’t lead to anything.”',\n",
       " 'Macron wins French presidency by decisive margin over Le Pen',\n",
       " '“No one owns Internet... so, it should be open and accessible to everyone,” says the Chairman of the Telecom Regulatory Authority of India.',\n",
       " \"Cohen's lawyer says he's completely flipped and will give evidence that Trump colluded with Russia\",\n",
       " 'School students have been protesting in demand for safer roads for 7 days in Bangladesh. Today, they were outnumbered and attacked by the student wing of the Bangladeshi government.',\n",
       " \"Iran's president says Trump White House 'afflicted by mental retardation'\",\n",
       " 'Protester shot in chest by live police round during Hong Kong National Day protests',\n",
       " 'Male escort exposes 36 actively gay priests in a file sent to Vatican containing erotic Whatsapp messages and photos. The allegations were compiled by a gay male escort who told local media he couldn’t put up with the priests’ \"hypocrisy\" any longer.',\n",
       " 'Alan Turing, World War Two codebreaker and mathematician, will be the face of new Bank of England £50 note',\n",
       " 'Facebook has lost $100 billion in 10 days — and now advertisers are pulling out',\n",
       " \"May's Brexit Deal Defeated 202-432\",\n",
       " 'Scientists discover China has been secretly emitting banned ozone-depleting gas',\n",
       " 'Turkey has audio and video evidence showing that Saudi agents tortured & killed journalist Jamal Khashoggi inside the Saudi Consulate in Turkey',\n",
       " 'Hong Kong officially kills China extradition bill that sparked months of violent protests',\n",
       " 'India decriminalises homosexuality.',\n",
       " 'Superstar German DJ ‘permanently banned’ from China for liking a ‘South Park’ tweet',\n",
       " 'Politician who opposes mandatory chickenpox vaccinations contracts chickenpox',\n",
       " 'Coca-Cola Named Most Polluting Brand in Global Audit of Plastic Waste',\n",
       " \"Paradise Papers leak reveals secrets of world elite's hidden wealth\",\n",
       " \"North and South Korea agree to carry single flag at Winter Olympics and field joint women's ice hockey team\",\n",
       " \"Whistleblower who escaped Chinese 're-education camp' reveals horrors of the gulag: Ex-teacher tells how inmates were flayed, raped by guards in front of other prisoners, and given injections that made them infertile\",\n",
       " 'All 48 London Bridge attack victims who made it to hospital have survived',\n",
       " 'Facebook is thinking about removing anti-vaccination content as backlash intensifies over the spread of misinformation on the social network',\n",
       " 'Senate defies Trump, passes historic resolution to end US support for Saudi Arabia in Yemen war',\n",
       " 'Chinese embassy has threatened Swedish government with \"consequenses\" if they attend the prize ceremony of a chinese activist. Swedish officials have announced that they will not succumb to these threats.',\n",
       " 'A biotech startup has managed to 3-D print fake rhino horns that carry the same genetic fingerprint as the actual horn. The company plans to flood Chinese rhino horn market at one-eighth of the price of the original, undercutting the price poachers can get and forcing them out eventually.',\n",
       " \"Apple, the world's most profitable firm, has a secretive new structure allowing it to continue avoiding billions in taxes, Paradise Papers show. They sidestepped a 2013 crackdown by actively shopping around for a tax haven, landing $252bn on the Channel Island of Jersey.\",\n",
       " \"U.S. ambassador to Panama resigns because he can 'no longer work for Trump'.\",\n",
       " \"World leaders literally laugh at Trump when he claims he has 'accomplished more than almost any administration'\",\n",
       " 'Hong Kong police are spraying protesters with blue-dye water cannons to mark them for arrest later',\n",
       " \"Auschwitz museum on Latin American migration: “It's important to remember that the Holocaust actually did not start from gas chambers. This hatred gradually developed from words, stereotypes & prejudice through legal exclusion, dehumanization & escalating violence.”\",\n",
       " 'UK expels 23 Russian diplomats, Russian state assets to be frozen as well. More sanctions being announced at 19.00 tonight',\n",
       " 'Moscow residents say they have found that the only way to get the council to clear snow is to write the name of opposition leader Alexei Navalny on it.',\n",
       " 'The leaders of France, Germany, the US and UK have issued a joint statement stating \"This is the first offensive use of a nerve agent in Europe since the Second World War\", calling it an assault on UK sovereignty.',\n",
       " 'Cambridge Analytica dismantled for good? Nope: It just changed its name to Emerdata',\n",
       " 'Canada to announce marijuana will be legal by July 1, 2018',\n",
       " \"Satellite images reveal China is destroying Muslim graveyards where generations of Uighur families are buried and replaces them with car parks and playgrounds 'to eradicate the ethnic group's identity'\",\n",
       " 'Chaos and bloodshed in Hong Kong district as hundreds of masked men assault protesters, journalists, residents.',\n",
       " ...]"
      ]
     },
     "execution_count": 76,
     "metadata": {},
     "output_type": "execute_result"
    }
   ],
   "source": [
    "(all_related_posts[0][8000:])"
   ]
  },
  {
   "cell_type": "code",
   "execution_count": null,
   "metadata": {},
   "outputs": [],
   "source": []
  },
  {
   "cell_type": "code",
   "execution_count": null,
   "metadata": {},
   "outputs": [],
   "source": []
  },
  {
   "cell_type": "code",
   "execution_count": null,
   "metadata": {},
   "outputs": [],
   "source": []
  },
  {
   "cell_type": "code",
   "execution_count": null,
   "metadata": {},
   "outputs": [],
   "source": []
  },
  {
   "cell_type": "code",
   "execution_count": null,
   "metadata": {},
   "outputs": [],
   "source": []
  },
  {
   "cell_type": "code",
   "execution_count": null,
   "metadata": {},
   "outputs": [],
   "source": []
  },
  {
   "cell_type": "code",
   "execution_count": 41,
   "metadata": {},
   "outputs": [],
   "source": [
    "def tokenize(text):\n",
    "    combined_titles = \"\"\n",
    "    for title in text:\n",
    "        combined_titles += title + \" \"\n",
    "    return word_tokenize(combined_titles)\n"
   ]
  },
  {
   "cell_type": "code",
   "execution_count": 42,
   "metadata": {},
   "outputs": [],
   "source": [
    "def count_vectorize(text, vocab=None):\n",
    "    if vocab:\n",
    "        unique_words = vocab\n",
    "    else:\n",
    "        unique_words = list(set(text))\n",
    "    \n",
    "    word_dict = {i:0 for i in unique_words}\n",
    "    \n",
    "    for word in text:\n",
    "        word_dict[word] += 1\n",
    "    \n",
    "    return word_dict\n"
   ]
  },
  {
   "cell_type": "code",
   "execution_count": 44,
   "metadata": {
    "collapsed": true
   },
   "outputs": [
    {
     "name": "stdout",
     "output_type": "stream",
     "text": [
      "{'all': 3, 'law': 3, 'top': 1, 'for': 1, 'makes': 1, 'them': 1, 'about': 5, 'last': 1, 'such': 1, 'upvoted': 1, 'shutdowns': 1, 'people': 1, 'signs': 1, 'the': 8, 'future': 1, 'specialized': 1, '[': 1, 'your': 1, 'days': 1, 'go': 1, 'employees': 1, 'become': 1, 'What': 1, 'stations': 1, 'do': 5, 'wants': 1, 'original': 1, 'other': 1, 'putting': 1, 'Americans': 1, 'series': 1, 'guy': 3, 'be': 2, 'still': 1, 'my': 1, 'pass': 1, 'what': 3, 'a': 8, 'cartoons': 1, 'strategems': 1, 'with': 2, 'not': 1, 'while': 1, 'People': 1, 'radio': 1, 'Iceland': 1, 'over': 2, 'Anthony': 1, 'every': 1, 'where': 1, 'someone': 1, 'noises': 1, 'life': 1, 'donors': 1, '18': 1, 'test': 1, 'of': 6, 'news': 1, \"'s\": 1, 'lay': 1, '95': 1, 'difficult': 1, 'pot': 1, 'as': 1, 'federal': 1, 'like': 1, 'automatically': 2, 'five': 1, 'Bourdain': 1, 'smoke': 1, 'category': 1, 'commercials': 1, 'crosspost': 1, 'in': 7, 'these': 1, 'requires': 1, 'why': 2, 'pooped': 1, 'years': 2, 'Lee': 1, 'How': 3, 'government': 1, '2019': 1, 'at': 1, 'has': 1, 'negative': 1, 'officials': 1, 'out': 1, 'who': 1, 'headlines': 1, 'without': 1, 'Icelander': 1, 'if': 1, 'and': 6, 'away': 1, 'feel': 4, 'announced': 1, 'bans': 1, 'Reddit': 1, 'day': 1, 'head': 1, 'age': 2, 'would': 4, 'pay': 1, 'senators': 1, 'how': 1, 'it': 1, 'old': 2, \"n't\": 1, 'spot': 1, 'you': 9, 'optimistic': 1, 'Serious': 1, 'he': 1, 'to': 8, ',': 15, 'president': 1, ']': 1, 'movies': 1, '70': 1, 'passed': 1, 'order': 1, 'upvotes': 1, 'ability': 1, 'feature': 1, 'outwit': 1, 'holding': 1, 'Stan': 1, '.': 4, 'Who': 1, 'or': 1, 'during': 1, 'him': 1, 'are': 2, 'Why': 1, 'post': 1, 'place': 1, 'once': 1, 'from': 1, 'avoid': 2, 'have': 1, 'My': 1, 'playing': 1, 'bed': 1, 'can': 1, 'support': 1, 'saying': 1, 'There': 1, 'driving': 2, 'long': 1, 'Without': 1, 'watch': 1, 'organ': 1, 'With': 1, '?': 10, 'this': 2, 'honking/beeping/siren': 1, 'that': 6, '``': 2, 'is': 5, 'on': 1, 'opt': 1, 'said': 1, 'dominating': 1, \"''\": 2, 'just': 1, 'continue': 1, 'yet': 1, 'shit': 1, 'progress': 1}\n",
      "{'Barack': 1, '’': 4, '.': 11, 'Leah': 1, 'Protect': 1, 'Ask': 5, 'am': 3, 'Free': 1, 'Congress': 1, 'voted': 1, 'We': 1, 'are': 1, '--': 1, 'FIGHT': 1, 'Sanders': 1, 'will': 1, 'Gates': 6, 'United': 1, 'about': 1, 'of': 4, 'Bone': 2, 'Now': 1, 'loving': 1, 'States': 1, '&': 4, 'Save': 1, 'the': 6, 'Zone': 1, 'Anything': 5, '[': 1, 'Internet': 1, 'President': 1, 'ex-AMA': 1, 'American': 1, 'Bill': 6, 'Neutrality': 2, 'co-chair': 3, 'Foundation': 3, 'voter': 1, 'husband': 1, 'to': 2, ',': 9, 'Bernie': 1, ']': 1, 'in': 1, 'Scientology': 1, 'm': 4, 'FCC': 1, 'Welcome': 1, 'Victoria': 1, 'AMA': 4, 'Me': 5, 'Senator': 1, 'we': 1, 'kill': 1, 'Net': 2, 'Melinda': 3, 'I': 7, 'friends': 1, 'undecided': 1, 'Request': 1, 'Press': 1, 'SUE': 1, 'Ken': 1, 'just': 1, 'mod': 1, 'citizen': 1, 'THEM': 1, 'Remini': 1, 'Obama': 1, 'and': 1, '!': 3}\n",
      "{'denies': 1, 'attention': 1, 'zooms': 1, 'all': 1, 'familiar': 1, 'vote': 3, 'for': 1, 'facepalming': 1, 'video': 1, 'wearing': 1, 'Warren': 1, 'polling': 1, 'about': 1, 'posts': 1, 'confirming': 1, 'User': 2, 'McCabe': 1, 'wo': 1, 'by': 3, 'offering': 1, 'Indian': 1, 'Suicidal': 1, 'turns': 1, 'scarf': 1, 'memo': 1, 'enforcing': 1, 'the': 18, '13': 1, 'your': 1, '(': 2, 'did': 1, 'site': 1, 'telling': 1, 'two': 1, 'credit': 1, 'Charlottesville': 1, 'protesters': 1, 'counter': 1, 'airline': 1, 'reaction': 1, 'hours': 1, 'Redditor': 5, 'Johns': 1, 'ca': 1, 'Student': 1, 'astroturfing': 1, 'be': 3, 'Arnold': 1, 'user': 2, 'timeline': 1, 'pass': 1, 'a': 10, 'his': 3, 'with': 3, 'times': 1, 'friends': 1, 'sees': 1, 'frantically': 1, 'being': 1, 'jobs': 1, 'read': 1, 'POtuS': 1, 'orders': 1, 'After': 1, '$': 1, 'message': 1, 'Schwartzenegger': 1, 'search': 1, 'name': 1, 'over': 1, 'fact': 1, 'permits': 1, 'life': 1, 'Cease': 1, 'test': 2, 'of': 5, 'quietly': 1, \"'s\": 1, 'give': 1, 'delivered': 1, 'Sanctions': 1, 'as': 2, '1m': 1, 'Another': 1, 'written': 1, 'again': 1, \"'re\": 1, 'remarks': 1, 'comments': 1, 'rally': 2, 'FBI': 1, 'House': 1, 'wristwatch': 1, 'year': 1, 'conversation': 1, 'genuine': 1, 'in': 4, 'million': 1, 'nationalist': 1, 'John': 1, 'UN': 1, 'organized': 1, 'Net': 1, 'extraordinarily': 1, 'government': 1, 'forced': 1, 'at': 1, 'has': 1, 'out': 2, 'face': 1, '/u/flibbityandflobbity': 1, 'time': 1, 'who': 1, 'recognized': 1, 'if': 2, 'and': 7, 'does': 1, 'lists': 1, 'working': 1, 'Elizabeth': 1, 'changing': 1, 'Reddit': 1, 'IPSs': 1, 'day': 1, 'proof': 1, 'few': 1, 'release': 1, 'All': 1, 'broken': 1, 'take': 1, 'Desist': 1, 'lift': 1, 'exactly': 1, 'better': 1, 'Russia': 1, 'supremacist': 1, 'it': 3, 'old': 1, '...': 1, 'sends': 1, 'reporters': 1, 'calls': 1, \"n't\": 2, 'Neutrality': 1, 'you': 4, 'provides': 1, 'Republicans': 2, 'to': 12, 'Pres': 1, 'thanks': 1, ',': 3, 'Jimmy': 1, 'shows': 2, 'Native': 1, 'FCC': 1, 'passed': 1, 'Danny': 2, 'so': 1, 'actually': 2, 'an': 2, 'jokes': 1, 'cross-references': 1, 'get': 1, 'man': 1, 'White': 1, '.': 12, 'white': 2, 'giving': 1, 'part': 1, 'safety': 1, 'DeVito': 1, 'Comcast': 1, 'effort': 1, 'forged': 1, 'launches': 1, 'are': 1, 'because': 1, 'will': 1, 'photo': 1, 'murdered': 1, 'post': 1, 'dollars': 1, 'reckless': 1, 'place': 1, 'have': 2, 'offers': 1, 'American': 1, 'was': 2, 'she': 1, 'can': 1, 'passenger': 1, 'saying': 1, 'ski': 1, 'claiming': 1, 'speech': 1, 'illegally': 1, 'DOJ': 1, ')': 2, 'evidence': 1, 'DNA': 1, 'collect': 1, 'raped': 1, '2017': 1, 'laws': 1, 'strangely': 1, 'sounding': 1, 'Kelly': 1, \"'\": 1, '98-2': 1, 'before': 1, 'Trump': 5, 'that': 8, 'I': 1, '``': 4, 'is': 3, 'on': 5, 'senate': 1, \"''\": 4, 'trying': 1, 'announces': 1, 'notes': 1}\n",
      "{'115': 1, 'all': 1, 'Asthma': 1, 'down': 1, 'Here': 1, 'last': 1, 'no': 1, 'by': 1, 'got': 1, 'the': 2, 'Doradus': 1, '[': 3, 'did': 1, '(': 1, 'seeing': 1, 'lost': 1, 'go': 1, 'roommate': 1, 'may': 1, 'The': 1, 'off': 1, 'still': 1, 'my': 3, 'what': 2, 'with': 1, 'Medication': 1, 'deal': 1, '!': 4, 'fat': 1, 'x-post': 1, 'worked': 1, 'over': 3, 'where': 1, 'since': 1, 'of': 1, 'but': 1, \"'s\": 2, 'their': 1, 'F2F': 3, 'excuses': 1, 'like': 1, 'wanted': 1, 'year': 1, 'in': 2, '90': 1, 'How': 1, 'at': 1, 'face': 1, 'mod': 1, 'and': 1, 'proud': 1, 'lbs': 3, 'am': 1, '2013': 1, 'From': 1, 'r/gaybros': 1, 'it': 2, 'removed': 1, '...': 1, 'gym': 1, 'to': 3, ',': 1, 'week': 1, ']': 3, 'gaybros': 1, 'simply': 1, 'creamy': 1, 'an': 1, 'overly': 1, '.': 4, 'fattie': 1, '375': 1, '/fit': 1, 'are': 1, 'Kept': 1, 'Why': 1, '11': 1, 'months': 1, 'She': 1, 'from': 1, 'sensitive': 1, 'was': 1, 'coffee': 1, 'she': 2, 'shirtless': 2, 'pounds': 1, 'There': 1, 'Ways': 1, 'finally': 1, 'twitter': 1, '215': 1, ')': 1, 'TP': 1, '?': 1, 'this': 2, 'When': 1, 'I': 2, 'Fatties': 1, 'is': 1, 'tale': 1, \"'ve\": 2, 'ass': 1, '1': 1}\n",
      "{'her': 1, 'wo': 1, 'walkers': 1, 'texted': 1, 'the': 1, 'your': 4, 'ten': 1, 't': 1, 'site': 1, 'wan': 1, 'drive': 1, 'Fine': 1, 'review': 1, 'What': 1, 'Don': 1, 'gotten': 1, 'hours': 1, 'gon': 1, \"'ll\": 1, 'Stupid': 1, 'Exboyfriend': 1, 'me': 2, 'my': 2, 'a': 3, 'Calling': 1, 'not': 1, 'i': 1, 'read': 1, 'our': 1, 'find': 1, 'Take': 2, 'name': 1, 'texts': 1, 'probably': 1, 'wait': 2, 'every': 1, 'bury': 1, \"'s\": 1, 'four': 1, 'their': 1, 'concert': 1, 'car': 2, '“': 1, '2': 1, 'snoop': 1, 'up': 1, 'damage': 1, 'previous': 1, 'in': 2, 'woman': 1, 'parking': 2, 'out': 1, 'windshield': 1, 'bluff': 1, 'na': 2, 'notice': 1, 'Ex-wife': 1, 'workers': 1, 'Now': 1, 'quitting': 1, 'it': 1, 'had': 1, \"n't\": 1, 'spot': 2, 'you': 3, 'minutes': 1, 'bests': 1, 'Corvettes': 1, 'turn': 1, 'to': 4, ',': 3, 'goes': 1, '”': 1, 'engaged': 1, 'water': 1, 'get': 1, '’': 1, '.': 3, 'put': 1, 'department': 1, 'bombed': 1, 'because': 1, 'want': 1, 'was': 1, 'So': 1, 'My': 1, 'fake': 2, 'she': 1, 'can': 1, 'comes': 1, 'daughter': 1, 'dug': 1, 'around': 2, '?': 5, 'taking': 1, 'that': 2, 'I': 5, '``': 1, 'is': 1, 'dog': 1, 'on': 3, 'tell': 1, 'spots': 1, \"''\": 1, 'just': 3, 'hit': 1, 'even': 1, 'Sorry': 1, 'note': 1}\n",
      "{'no': 2, 'the': 1, 'If': 1, 'They': 1, 'going': 1, 'translator': 1, 'pretended': 1, 'The': 1, 'refunds': 1, 'be': 1, 'my': 1, 'a': 4, 'big': 1, 'deal': 1, 'grown': 1, 'services': 1, '!': 1, '$': 1, 'longer': 1, 'someone': 1, 'cry': 1, 'Made': 1, \"'s\": 2, \"'re\": 2, 'issue': 1, 'see': 1, 'let': 1, 'after': 1, 'customer': 1, 'has': 1, 'and': 2, 'day': 1, 'Glory': 1, '£400': 1, '0.36': 1, 'pay': 1, 'enter': 1, 'Do': 1, 'Two': 1, \"n't\": 1, 'unique': 1, 'you': 1, 'to': 5, ',': 4, 'charge': 1, 'we': 1, 'so': 1, 'Ladies': 1, 'man': 1, 'dad': 1, '.': 4, 'Diet': 1, 'Coke': 1, 'We': 1, 'refuse': 2, 'they': 1, 'done': 1, 'wife': 1, 'Arstotzka': 1, 'have': 1, 'Chinese': 1, 'right': 1, 'store': 1, 'can': 1, 'men': 1, 'today': 1, 'rude': 1, 'It': 1, '?': 1, 'this': 1, 'were': 1, 'I': 1, '``': 1, 'cash': 1, \"''\": 1, 'even': 1, 'idea': 1}\n",
      "{'for': 1, 'under': 1, 'down': 1, 'them': 1, 'about': 1, 'covers': 1, 'free': 1, 'enjoy': 1, 'the': 7, 'your': 1, 't': 1, 'stay': 1, 'do': 2, 'looking': 1, 'DAE': 10, 'end': 2, 'late': 1, 'listening': 1, 'fan': 1, 'absolutely': 1, 'really': 1, 'version': 1, 'too': 1, 'a': 2, 'sleep': 1, 'with': 1, 'something': 2, 'being': 1, 'not': 1, 'Wednesday': 1, 'while': 1, 'keyboard': 1, 'type': 2, 'search': 1, 'over': 1, 'later': 2, 'of': 1, 'itself': 1, 'but': 2, 'Google': 1, 'their': 4, 'smartphone': 1, 'music': 1, 'things': 1, '“': 1, 'like': 2, 'unfreezes': 1, 'when': 5, 'Wed-nes-day': 1, 'up': 2, 'in': 2, 'needing': 1, 'at': 1, 'others': 1, 'time': 1, 'despite': 1, 'if': 2, 'feel': 2, 're': 1, 'Reddit': 1, 'day': 3, 'themselves': 1, 'only': 1, 'sleeping': 1, 'it': 3, 'doing': 1, 'expecting': 1, \"n't\": 1, 'say': 1, 'you': 1, 'continue': 1, 'freezes': 1, 'to': 7, ',': 3, 'good': 1, '”': 1, 'mobile': 1, 'so': 1, 'an': 1, 'get': 1, 'showing': 1, '’': 2, 'answer': 1, 'or': 1, 'put': 1, 'burried': 1, 'think': 1, 'alone': 1, 'because': 2, 'want': 1, 'they': 7, 'extremely': 1, 'more': 1, 'writing': 1, 'prefer': 1, 'self-conscious': 1, 'have': 1, 'blowing': 1, 'reddit': 3, 'can': 2, 'desktop': 1, 'listen': 1, 'watch': 1, 'trust': 1, '?': 10, 'comfortable': 1, '``': 1, 'is': 1, 'on': 3, 'full': 1, \"''\": 1, 'even': 1, 'uses': 1, 'sentence': 2}\n",
      "{'all': 2, '/r/conspiracy': 1, 'for': 3, 'video': 1, 'details': 1, 'down': 2, 'fix': 1, 'Arkansas': 1, 'sex': 1, 'Then': 2, 'about': 1, 'her': 2, 'Star': 3, 'loving': 1, 'distinguishing': 1, 'no': 1, 'such': 1, '30': 1, 'else': 1, 'the': 9, 'They': 1, 't': 1, 'any': 1, 'become': 1, 'episode': 3, 'money': 2, 'having': 1, 'plumber': 1, 'Don': 1, 'PornHub': 1, 'husband': 1, 'start': 1, 'making': 1, 'The': 1, 'satire': 1, 'app': 1, '9': 3, 'a': 9, 'Megathread': 1, 'richest': 1, 'with': 3, 'third': 1, 'badge': 1, 'orders': 1, 'competitor': 1, 'nonporn': 1, 'After': 1, '$': 1, 'To': 1, 'EA': 1, 'Donald': 1, 'over': 1, 'An': 1, 'serious': 1, 'neutral': 1, 'Shut': 1, 'where': 1, 'A': 1, 'psych-outs': 1, 'of': 3, 'official': 1, 'news': 2, 'subreddit': 1, 'their': 1, 'lets': 1, 'as': 3, 'sub': 1, 'faucet': 1, 'Biden': 1, 'nothing': 1, 'President': 1, 'party': 1, 'when': 1, 'Wars': 3, 'see': 1, 'posters': 2, 'wealth': 1, 'up': 1, 'declared': 1, 'YouTube': 1, 'year': 1, 'commercials': 1, 'then': 1, 'in': 1, 'pays': 1, 'woman': 1, 'charity': 1, 'Net': 1, '-': 1, 'at': 1, 'leaves': 1, '45th': 1, 'has': 3, '/r/Kansas': 1, '19th': 1, 'if': 1, 'Disney': 1, 'and': 6, 'paid': 1, 'resign': 1, 'website': 1, 'release': 1, 'create': 1, 'TheHub': 1, 'only': 1, 'how': 1, 'it': 1, 'Upvote': 1, 'Onion': 1, 'say': 2, 'Neutrality': 1, 'you': 1, 'state': 1, 'he': 1, '0': 1, 'piece': 1, 'to': 5, 'America': 1, ',': 12, 'goes': 1, 'much': 1, 'Make': 1, 'we': 1, 'explanation': 1, 'many': 1, 'Give': 1, 'Every': 1, 'an': 2, 'fucking': 1, 'pizza': 1, 'person': 2, 'get': 3, 'Obama': 1, '’': 1, '.': 12, 'or': 1, 'Winner': 1, 'him': 1, 'silent': 1, 'voted': 1, 'apparently': 1, 'invite': 1, 'blank': 1, 'they': 2, 'retweet': 1, 'She': 1, 'act': 1, 'Capitalism': 1, 'Since': 1, 'from': 1, 'trailers': 1, 'donated': 1, 'have': 3, 'fake': 1, 'she': 1, 'real': 1, 'bed': 1, 'great': 1, 'can': 1, 'memorabilia': 1, 'material': 1, 'come': 1, 'finally': 1, 'long': 1, 'argument': 1, 'problem': 1, 'second': 2, 'porn': 1, 'anonymous': 1, 'Trump': 2, 'should': 3, 'that': 3, '``': 2, 'is': 3, 'on': 2, \"''\": 2, 'just': 1, 'write': 1}\n",
      "{'stop': 1, 'Confessed': 1, 'fell': 1, 'her': 1, 'by': 1, 'extra': 1, 'found': 1, 'the': 1, 'internet': 1, 'You': 1, 'ear': 1, 'mouth': 1, 'into': 1, 'salivates': 1, 'asleep': 1, 'still': 1, 'my': 2, 'deep': 1, 'a': 2, 'his': 1, 'with': 2, 'fireworks': 1, 'while': 1, 'split': 1, 'over': 1, 'eerily': 1, 'music': 1, 'liquefied': 1, '2': 1, 'f******g': 1, 'petroleum': 1, 'drives': 1, 'up': 1, 'in': 1, 'packing': 1, 'Never': 1, 'Stephen': 1, 'How': 1, 'body': 1, 'Annoyed': 1, 'has': 1, 'Pupper': 1, 'Car': 1, 'and': 1, 'Guy': 1, 'lake': 1, 'growing': 1, 'drone': 1, 'rockin': 1, 'toilet': 1, 'thing': 1, 'call': 1, 'killer': 1, 'he': 2, 'stole': 1, 'to': 1, ',': 1, 'McDaniel': 1, 'keeps': 1, 'boyfriend': 1, 'loud': 1, 'man': 1, '.': 5, 'during': 1, 'gas': 1, 'blunt': 1, 'yesterday': 1, 'neighbors': 1, 'was': 1, 'throws': 1, 'today': 1, 'dock': 1, 'It': 1, 'Best': 1, 'spilled': 1, \"'\": 1, '?': 1, 'that': 2, 'hour': 1, 'I': 3, 'is': 1, 'on': 1, 'interrogation': 1, 'hit': 1, 'even': 1, 'uses': 1, 'gator': 1}\n",
      "{'stop': 1, 'for': 4, 'watching': 1, 'Tiger': 1, 'her': 4, 'protecting': 1, 'practiced': 1, 'the': 5, 'dolls': 1, 't': 1, 'female': 1, 'Collie': 1, 'going': 1, 'do': 1, 'reaction': 1, 'The': 1, 'Husband': 1, 'supposed': 1, 'sister': 1, 'Challenge': 1, 'volunteered': 1, 'soak': 1, 'traveling': 1, 'a': 4, 'his': 2, 'Kirk': 1, 'our': 1, '!': 3, 's': 1, 'make': 1, 'loss': 1, 'hasn': 1, 'front': 1, 'of': 3, 'run': 1, 'told': 1, 'thought': 1, \"'s\": 1, 'oldest': 1, 'offered': 1, 'neighbor': 1, 'when': 2, 'up': 1, 'index': 1, '110': 1, 'in': 4, 'cat': 2, '90yo': 1, 'years': 1, 'Border': 1, 'body': 1, 'room': 1, 'This': 1, 'Nothing': 1, 'weight': 1, 'and': 1, '31': 1, 'Buddy': 1, 'proud': 1, 'went': 1, 'sit': 1, 'walked': 1, 'degrees': 1, 'Purina': 1, 'favorite': 1, 'frame': 1, 'Heat': 1, 'it': 2, '...': 1, 'spot': 1, 'state': 1, 'court': 1, 'owner': 2, 'he': 2, 'to': 3, ',': 2, 'Much': 1, 'LOL': 1, 'cold': 1, 'mattress': 1, 'we': 1, 'than': 1, 'so': 2, 'baby': 1, 'holding': 1, 'instead': 1, 'Lost': 1, 'herself': 1, 'turned': 1, '’': 2, '.': 12, 'drink': 1, 'him': 1, 'Pro': 1, 'We': 1, 'are': 1, 'will': 1, 'His': 1, 'from': 1, 'He': 2, 'was': 4, 'My': 2, 'So': 1, 'she': 1, 'new': 2, 'bed': 1, 'daughter': 1, 'immediately': 1, 'heavier': 1, 'It': 1, '2017': 1, 'win': 1, 'this': 1, 'I': 2, 'recognizes': 1, 'is': 3, 'dog': 4, 'on': 1, 'Illinois': 1, 'said': 1, 'full': 1, 'just': 1}\n",
      "{'Date': 1, 'for': 3, 'her': 1, 'by': 2, 'here': 1, 'the': 3, 'drugs/money': 1, 'Hands': 1, 'Mussolini': 1, 'other': 1, 'allowed': 1, 'guess': 1, 'attempt': 2, 'Mr': 1, 'broadcast': 1, '/r/cringepics': 1, 'be': 1, 'me': 2, 'pass': 1, 'a': 6, 'televised': 1, 'with': 1, 'not': 2, 'desperately': 1, 'services': 1, '!': 2, 'over': 2, 'pretending': 1, 'websites': 1, 'front': 2, 'of': 2, 'like': 1, \"'m\": 1, 'Schumer': 1, 'up': 1, 'in': 4, 'month': 1, 'handshake': 1, 'hustle': 1, 'On': 1, 'Net': 2, 'after': 1, 'out': 2, 'hang': 1, 'and': 6, 'away': 1, 'pregnancy': 1, 'Amy': 1, 'neutrality': 1, 'NATIONALLY': 1, 'walking': 1, 'access': 1, 'it': 1, 'Join': 1, 'Do': 1, 'reacts': 1, \"n't\": 1, 'die': 1, 'Neutrality': 1, 'to': 7, ',': 2, 'Just': 1, 'prank': 1, 'Girl': 1, 'Kanye': 2, 'number': 1, '1st': 1, 'we': 1, 'many': 1, 'leader': 1, 'Mom': 1, 'Today': 1, 'an': 1, 'get': 1, '.': 4, 'fight': 1, 'him': 1, 'hooked': 1, 'eventually': 1, 'West': 1, 'Battle': 1, 'NATO': 1, 'shoves': 1, 'will': 2, 'post': 1, 'tries': 2, 'fakes': 1, 'group': 1, 'come': 1, 'Wrong': 1, 'diving': 1, 'unless': 1, '?': 1, 'Trump': 1, 'affect': 1, 'I': 3, 'Hitler': 1, '``': 2, 'another': 1, \"''\": 2}\n",
      "{'ever': 1, 'for': 3, 'JP': 1, 'awkward': 1, 'mods': 1, 'spotlight': 1, 'about': 1, 'her': 2, 'fellow': 1, 'audience': 1, 'the': 4, 'ten': 1, 'employees': 1, 'Perhaps': 1, 'worst': 1, 'everlasting': 1, 'Cook': 1, 'guy': 1, 'wide-eyed': 1, 'ca': 1, 'be': 1, 'talented': 1, 'a': 2, 'Betsy': 1, 'his': 2, 'friends': 1, 'work': 1, 'not': 1, 'while': 2, 'black': 1, 'sealing': 1, 'our': 1, '$': 2, 'entirety': 1, 'Donald': 1, 'races': 1, 'since': 1, 'salary': 1, 'Room': 1, 'singing': 1, 'of': 3, 'interbreeding': 1, \"'s\": 2, 'laughs': 1, 'newscast': 1, 'as': 3, 'South': 1, 'Thanks': 1, '“': 1, 'Morgan': 1, 'sits': 1, 'Carolina': 1, 'billionaire': 1, 'up': 1, 'talks': 1, 'CEO': 1, 'moment': 1, 'in': 1, 'Ni': 1, 'anchors': 1, 'poor': 1, 'years': 1, 'budget': 1, 'at': 3, 'most': 1, 'face': 1, 'and': 1, 'Fox': 1, 'explain': 1, 'how': 2, 'calls': 1, \"n't\": 1, 'kids': 2, 'U.N.': 1, 'been': 1, 'experienced': 1, 'Devos': 1, 'to': 1, '”': 1, 'booed': 1, 'anchor': 1, 'Tim': 2, '.': 7, 'white': 2, 'blew': 1, 'seen': 1, 'silent': 1, 'are': 1, 'uncomfortably': 1, 'My': 1, 'University': 1, 'national': 1, 'speech': 1, 'gem': 1, 'entertainment': 1, 'outstandingly': 1, 'It': 1, 'this': 1, 'Trump': 2, 'should': 2, 'Apple': 1, 'I': 2, '``': 2, 'girls': 1, \"'ve\": 1, 'low-paid': 1, 'full': 1, \"''\": 2, 'just': 2, 'one': 1, 'Miss': 1}\n",
      "{'some': 1, 'gets': 3, 'bottle': 1, 'for': 1, 'rage': 1, 'down': 2, 'forget': 1, 'walkie': 1, 'her': 1, 'motorcyclist': 1, '.never': 1, 'the': 5, '(': 1, 'Driver': 1, 'ago': 1, 'peg': 1, 'into': 1, 'girl': 1, 'NY': 1, 'guy': 1, 'Teacher': 1, 'Student': 1, 'off': 1, 'a': 5, 'while': 1, 'Punched': 1, 'After': 1, 'One': 2, 'of': 3, 'knocked': 1, 'best': 1, 'remove': 1, '2': 1, 'brat': 1, 'Subway': 1, 'year': 1, 'in': 2, 'Truck': 1, 'soul': 1, 'woman': 1, 'crowded': 1, 'at': 1, 'Transit': 1, 'Man': 1, 'out': 1, 'seat': 1, 'Female': 1, 'and': 1, 'Guy': 1, 'Fellow': 1, 'driver': 1, 'Gets': 1, 'slap': 1, 'take': 1, 'smacks': 1, 'raged': 1, '...': 1, 'bag': 1, 'refusing': 1, 'to': 1, 'Kid': 2, ',': 1, 'Justice': 1, 'scumbags': 1, 'talkie': 1, 'By': 1, 'Porn': 1, 'crowd': 1, 'V': 1, 'Road': 2, '.': 3, 'seen': 1, 'Cops': 1, 'bouncer': 1, 'justice': 2, 'from': 1, 'taken': 1, 'throws': 1, 'Punches': 1, 'assaults': 1, ')': 1, 'angry': 1, 'Spoiled': 1, 'NJ': 1, 'Some': 1, 'I': 1, 'on': 1, 'beer': 1, \"'ve\": 1, 'train': 2}\n",
      "{'attention': 1, 'high': 1, 'Joe': 1, '46': 1, 'ever': 1, 'for': 2, 'Dickinson': 1, 'inmate': 1, 'her': 1, '/r/jessicamshannon': 1, 'waters': 1, 'took': 1, 'found': 1, 'protests': 1, 'the': 7, 'did': 1, 'any': 1, 'show': 1, 'seeing': 1, '(': 1, 'ago': 2, 'two': 1, 'into': 1, 'other': 1, 'chamber': 1, 'innocent': 1, 'hours': 3, 'The': 1, 'numbers': 1, 'really': 1, 'Facebook': 1, 'be': 2, 'what': 1, 'a': 6, 'his': 5, 'with': 3, 'being': 1, 'not': 2, 'while': 1, 'i': 1, 'co-worker': 1, 'About': 1, 'way': 1, 'name': 1, 'Texas': 1, 'cancer': 1, 'A': 1, 'canisters': 1, 'stuff': 1, 'of': 8, 'run': 1, 'Space': 1, 'used': 1, 'reality': 1, 'Hurricane': 1, \"'s\": 1, 'their': 2, 'parents': 1, 'as': 1, '2': 1, 'death': 1, 'September': 1, 'year': 1, 'Harvey': 1, 'in': 5, 'month': 1, 'tear': 1, 'made': 1, 'flood': 1, 'incidents': 1, 'government': 1, 'final': 1, 'This': 3, 'after': 2, 'killed': 1, 'school': 1, 'time': 1, 'who': 1, 'Arridy': 1, 'and': 3, 'space': 1, 'Guy': 2, 'Baghdad': 1, 'Mayor': 1, 'went': 1, 'xpost': 1, 'essay': 1, 'picture': 1, 'protestors': 1, 'few': 1, 'simultaneously': 1, 'rescued': 1, 'tieniman': 1, 'evacuating': 1, 'posting': 1, 'International': 1, 'None': 1, 'waiting': 1, 'it': 1, 'documents': 1, 'brains': 1, 'he': 3, 'Elderly': 1, 'friend': 1, 'wedding': 1, 'to': 5, ',': 8, 'IQ': 1, 'mine': 1, 'mom': 1, '2001': 1, 'Station': 1, 'an': 2, 'man': 1, '’': 2, '.': 7, 'arms': 1, 'giving': 1, 'status': 1, 'gas': 2, 'prisoner': 1, 'they': 1, 'event': 1, 'will': 1, 'photo': 1, 'more': 1, '11': 1, 'post': 1, 'suddenly': 1, 'murdered': 1, 'battle': 1, 'wife': 1, 'social': 1, 'from': 4, 'square': 1, 'was': 1, 'taken': 1, 'Chinese': 1, 'American': 1, 'playing': 1, 'reddit': 1, 'daughter': 1, 'died': 1, ')': 1, 'today': 1, 'm': 1, 'spend': 1, 'row': 1, 'residents': 1, 'cuz': 1, 'this': 3, 'before': 2, 'pictures': 1, 'Happiest': 1, '4': 1, 'that': 3, 'I': 2, 'toy': 1, 'posted': 2, 'is': 3, 'there': 1, 'on': 3, 'another': 1, '``': 1, 'tells': 1, 'just': 2, \"''\": 1, 'one': 2, 'write': 1, 'train': 2, 'security': 1}\n",
      "{'both': 1, 'crime': 1, 'F.C.C': 1, 'gets': 1, 'ocean': 1, 'for': 1, 'down': 1, 'inmate': 1, 'sex': 1, 'small': 1, 'about': 2, 'her': 3, 'acts': 1, 'by': 1, 'Given': 1, 'the': 6, 'days': 1, 'did': 1, 'show': 1, 'lied': 1, 'weed': 1, 'innocent': 1, 'girl': 2, 'amount': 1, 'disclosed': 1, 'Classmate': 1, 'Willingham': 1, 'guy': 1, 'keep': 1, 'Student': 1, 'Arnold': 1, 'off': 1, 'Wendy': 1, 'what': 1, 'a': 5, 'commit': 1, 'his': 1, 'Perry': 1, 'guard': 1, 'while': 1, 'not': 2, 'Lunch': 1, '!': 3, 'Schwarzenegger': 1, 'dragged': 2, 'shut': 1, 's': 1, 'Texas': 1, 'In': 1, 'over': 1, 'radio': 1, 'cancer': 1, 'offender': 1, 'burning': 1, 'dick': 1, 'of': 3, 'jail': 1, 'involved': 1, \"'s\": 2, 'defending': 1, \"'re\": 1, '“': 1, 'like': 1, 'convicted': 1, 'death': 1, 'executed': 1, 'wanted': 1, 'mother': 2, 'Young': 1, 'denied': 1, 'healthcare': 1, 'in': 4, 'then': 1, ':': 1, 'which': 1, 'Net': 1, 'Plan': 1, 'final': 1, 'This': 1, 'Williams': 1, 'Man': 1, 'despite': 1, 'and': 4, 'Guy': 1, 'special': 1, 'Method': 1, 'For': 1, 'am': 1, 'information': 1, 'registered': 1, 'Hungry': 1, 'becomes': 1, 'age': 1, 'tomorrow': 1, 'United': 1, 'Announces': 1, 'violently': 1, 'arrested': 1, 'plane': 1, 'doing': 1, 'overbooked': 1, 'had': 1, 'words': 1, 'Neutrality': 1, '2004': 1, 'kids': 1, 'court': 1, 'he': 1, 'to': 4, ',': 4, 'page': 1, 'trial': 1, 'we': 1, 'returns': 1, 'Cameron': 3, 'everyone': 1, '”': 1, 'Repeal': 1, 'an': 1, 'olympics': 1, 'rapper': 1, 'man': 1, '’': 1, '.': 6, 'remind': 1, 'him': 1, 'Grade': 1, '3rd': 1, 'Rick': 1, 'because': 1, 'want': 1, 'they': 1, 'Always': 1, 'post': 1, 'wife': 2, 'Doctor': 1, 'once': 1, 'Since': 1, 'from': 1, 'Todd': 1, 'was': 3, 'USA': 3, 'facebook': 1, 'evidence': 1, 'Detention': 1, 'flight': 1, 'raped': 1, 'clear': 1, 'row': 1, 'Bringing': 1, 'before': 1, 'were': 1, 'Some': 1, 'that': 2, 'I': 3, 'is': 1, 'another': 1, 'on': 2, 'Despite': 1, 'private': 2, 'said': 1}\n",
      "{'down': 1, 'wo': 1, 'by': 1, 'here': 1, 'vinyl': 1, 'now': 1, 'the': 3, 'anything': 1, 'do': 1, 'worst': 1, 'unreasonable': 1, 'Looks': 1, 'never': 1, 'The': 2, 'series': 1, 'listening': 1, 'guy': 1, 'be': 1, 'my': 3, 'a': 2, 'our': 1, 's': 1, 'hula': 1, 'One': 1, 'onto': 1, 'of': 3, 'company': 2, 'Thanks': 1, 'like': 1, 'hoop': 1, 'Pinterest': 1, 'in': 1, 'these': 1, 'seemingly': 1, 'through': 1, 'cable': 2, 'Our': 1, 'at': 1, 'has': 1, 'out': 1, 'account': 1, 'questions': 1, 'endless': 1, 'dont': 1, 'back': 1, 'Dont': 1, 'Threw': 1, 'fully': 1, '...': 1, 'answers': 1, \"n't\": 1, 'screws': 1, 'to': 2, 'America': 1, ',': 1, 'Disney+': 1, 'USPS': 1, 'we': 1, 'peas': 1, 'an': 1, 'NEED': 1, 'installed': 1, '’': 1, '.': 5, 'boss': 1, '900': 1, 'Why': 2, 'are': 1, 'because': 1, 'pens': 1, 'ask': 1, 'swatter': 1, 'wife': 1, 'fly': 1, 'upside': 1, 'left': 2, 'have': 1, 'My': 1, 'great': 1, 'new': 1, 'It': 1, 'Still': 1, 'look': 1, '?': 2, 'that': 1, 'I': 3, 'just': 1, 'lids': 1, 'notes': 1, 'record': 1}\n",
      "{'some': 1, 'hope': 1, 'map': 2, 'for': 1, 'Chernobyl': 1, 'her': 2, 'creepy': 1, 'Lights': 1, 'by': 1, 'Scorpion': 1, 'the': 2, 'its': 1, 'counting': 1, 'cinemagraph': 1, 'ago': 1, 'inventory': 1, 'other': 1, 'night': 1, 'husband': 1, 'The': 1, 'similarity': 1, 'sign': 1, 'me': 1, 'Artist': 1, 'a': 3, 'his': 1, 'with': 1, 'work': 1, 'way': 1, 'An': 1, 'walk': 1, 'A': 3, 'sent': 1, 'saw': 1, 'death': 1, 'created': 1, 'woman': 1, 'warning': 1, 'Garfield': 1, 'morning': 1, 'frightening': 1, 'systems': 1, 'has': 1, 'time': 1, 'standing': 1, 'and': 1, 'Reaper': 1, 'Reactor': 1, 'babies': 1, 'went': 1, 'back': 1, 'it': 1, '...': 1, 'eerie': 1, 'friend': 1, 'piece': 1, 'to': 2, 'Dementia': 1, 'enough': 1, 'Inside': 1, 'carrying': 1, 'Burke': 1, 'underwater': 1, '.': 5, 'persons': 1, 'missing': 1, 'Will': 1, 'was': 1, 'My': 1, 'taken': 1, 'new': 1, 'roof': 1, 'cave': 2, 'this': 3, 'no.4': 1, 'I': 2, 'on': 4, 'just': 2}\n",
      "{'.': 4, 'all': 1, 'for': 1, 'think': 1, 'sexy': 1, 'caught': 1, 'sex': 1, 'begging': 1, 'weeks': 1, 'of': 1, 'creepy': 1, 'by': 1, \"'s\": 1, 'Oof': 1, 'got': 1, 'yeeeeee': 1, 'now': 1, 'Found': 1, 'only': 1, 'the': 1, 'He': 1, 'was': 1, 'Master': 1, 'Seems': 1, 'best': 1, 'arc': 1, 'My': 1, 'how': 1, 'like': 1, 'reddit': 1, 'new': 1, 'mechanism': 1, 'PM': 1, 'instagram': 1, 'do': 1, 'admin': 1, 'Hacker': 1, 'been': 1, 'he': 1, 'finally': 1, 'to': 1, 'handle': 1, 'stable': 1, 'doggieeeee': 1, 'guy': 1, 'character': 1, 'me': 2, 'messaged': 1, 'regrets': 1, 'a': 5, 'Fancy': 1, 'I': 4, 'self': 1, '``': 1, 'with': 1, 'yes': 1, 'roleplay': 1, 'on': 1, 'This': 2, 'said': 1, 'defense': 1, 'is': 1, \"''\": 1, 'time': 1, 'everything': 1, 'anime': 1}\n",
      "{'daddy': 1, 'for': 1, 'watching': 1, 'them': 2, 'about': 1, 'entire': 1, 'here': 1, 'now': 1, 'the': 1, 'If': 1, 'ago': 1, 'weird': 1, 'never': 1, 'Life': 1, 'The': 1, 'keep': 1, 'ALERT***': 1, 'it—until': 1, 'me': 2, 'be': 1, 'my': 2, 'a': 3, 'live': 1, 'trapped': 1, 'not': 1, 'life': 1, 'someone': 1, 'A': 1, 'of': 1, 'told': 1, \"'s\": 1, 'favors': 1, 'guide': 1, 'happened': 1, 'see': 1, 'previous': 1, 'in': 3, 'claimed': 1, 'believe': 1, 'woman': 1, 'let': 1, 'years': 1, 'flat': 1, 'room': 1, 'Sold': 1, 'haunted': 1, 'Jars': 1, 'who': 1, 'and': 1, 'Something': 1, '***EMERGENCY': 1, 'asks': 1, 'it': 1, '...': 1, 'Do': 1, 'very': 1, \"n't\": 1, 'you': 2, 'to': 2, ',': 1, 've': 1, 'sure': 1, 'anyone': 1, 'tenant': 1, 'Happiness': 1, 'Shattered': 1, 'anymore': 1, 'job': 1, 'Glass': 1, '’': 2, '.': 6, 'think': 1, 'want': 1, 'She': 1, 'left': 1, 'My': 2, 'new': 1, 'can': 1, 'm': 1, 'met': 1, 'reading': 1, 'this': 1, 'that': 2, 'survival': 1, 'I': 6, '63': 1, 'is': 2, 'sugar': 1, 'devil': 1, 'important': 1}\n",
      "{'for': 1, 'Tony': 1, 'the': 2, 'your': 2, 't': 1, 'Remember': 2, 'two': 1, 'help': 1, 'The': 5, 'everyones': 1, 'Version': 1, 'a': 1, 'Tales': 1, '!': 2, 'Of': 1, 'Scholastic': 1, 'soda': 1, 'weeks': 1, 'of': 1, \"'s\": 1, 'Wooden': 1, 'when': 1, 'Any': 1, 'computer': 1, 'save': 1, ':': 1, 'online': 1, 'Pigs': 1, 'This': 1, 'has': 1, 'Thank': 1, 'and': 1, 'magic': 1, 'Book': 1, 'cartoon': 1, 'playgrounds': 1, 'Dragon': 1, 'neutrality': 1, 'Little': 1, 'old': 1, 'enter': 1, 'Do': 2, 'you': 2, 'air': 1, 'didn': 1, 'network': 1, 'Hawk': 1, 'to': 3, ',': 1, 'much': 1, 'Update': 1, 'family': 1, 'Fair': 1, 'Three': 1, 'so': 1, 'Daniel': 1, \"Y'all\": 1, '’': 1, '.': 3, 'Pro': 1, 'part': 1, 'Halloween': 1, 'was': 1, 'have': 1, 'support': 1, 'plate': 1, 'net': 1, 'win': 1, '?': 1, 'warehouse': 1, 'before': 1, 'that': 1, 'recieved': 1, 'That': 1, 'N64': 1, 'info': 1, 'personal': 1, 'Skater': 1}\n",
      "{'for': 2, 'them': 1, 'red': 1, 'Star': 1, 'asked': 1, 'game': 1, 'by': 1, 'got': 2, 'now': 1, 'the': 4, 'your': 2, 'They': 1, 'refund': 2, 'other': 1, 'please': 1, 'me': 1, 'off': 1, 'my': 2, 'what': 1, 'a': 5, 'with': 1, 'services': 1, 'Simulator': 1, 'our': 1, '!': 3, 'Video': 1, 'EA': 1, 'until': 1, 'Take': 1, 'lose': 1, 'son': 1, 'wait': 1, 'starting': 1, 'websites': 1, 'later': 1, 'Jenga': 1, 'D': 2, 'Can': 1, 'gamers': 1, 'of': 1, 'but': 1, \"'s\": 1, 'their': 1, 'play': 1, 'Dungeons': 1, '2': 1, 'Wars': 1, 'unplug': 1, 'in': 3, 'month': 1, 'online': 1, 'let': 1, 'cat': 1, 'years': 1, 'Net': 2, 'button': 1, 'time': 1, 'and': 7, 'using': 1, 'sometimes': 1, 'gaming': 1, 'YOU': 1, 'Dragons': 1, '&': 2, 'conservative': 1, 'would': 1, 'it': 2, 'removed': 1, 'call': 1, 'Join': 1, 'games': 1, \"n't\": 1, 'die': 1, 'you': 2, 'Neutrality': 2, 'streamers': 1, 'boycott': 1, 'he': 1, 'to': 3, ',': 8, 'family': 1, 'we': 2, 'many': 1, 'accident': 1, 'so': 1, 'horse': 1, 'Train': 1, 'get': 1, '.': 4, 'dead': 1, 'fight': 1, 'teen': 1, 'him': 1, 'are': 2, 'battlefront': 1, 'Battle': 1, 'will': 2, 'Thirty': 1, 'webpage': 1, 'have': 1, 'cutscene': 1, 'was': 1, 'great': 1, 'God-fearing': 1, 'right': 1, 'chair': 1, 'As': 1, 'unless': 1, \"'\": 1, 'before': 1, 'this': 1, 'affect': 1, 'I': 2, 'own': 1, 'is': 1, 'immersive': 1, 'on': 1, '80s': 1, 'journey': 1, 'nice': 1, \"'Play\": 1}\n",
      "{'gets': 3, 'CIGAR': 1, 'for': 1, '/R/ALL': 1, 'forget': 1, 'down': 1, 'flaming': 1, 'NA': 1, 'Gaming': 1, 'game': 2, 'Moba': 2, 'people': 1, 'the': 4, 'If': 3, '[': 1, 'MERRILL': 1, 'show': 1, '2/11': 1, 'OUR': 1, '2015': 1, 'never': 1, 'afks': 1, \"'ll\": 1, 'rp': 1, 'DoubleLift': 1, 'be': 3, 'POST': 1, 'Team': 1, 'ending': 1, 'GRAVES': 1, 'his': 1, 'with': 1, 'MARC': 1, 'us': 1, 'while': 1, '!': 1, '$': 1, 'search': 1, 'Legends': 1, 'THE': 1, 'Statement': 1, 'A': 1, 'given': 1, 'of': 1, 'vs': 1, \"'s\": 1, 'GETS': 1, 'Christ': 2, 'Logic': 1, 'Summer': 1, 'again': 1, 'when': 2, 'OF': 1, 'up': 1, 'LORD': 1, 'Totalbiscuit': 1, 'then': 1, 'let': 1, 'HAS': 1, '-': 1, 'WILL': 1, 'Post-Match': 1, 'has': 2, 'others': 1, 'HE': 1, 'who': 1, 'away': 1, 'bamboozle': 1, '32768': 2, 'No': 1, 'TOP': 1, 'searching': 1, '/': 2, 'Merrills': 1, 'Counter': 1, 'TO': 1, 'image': 1, 'it': 4, 'Fake': 2, 'among': 1, 'Tyler1': 1, 'he': 1, 'Spoiler': 1, 'to': 1, 'Froggen': 1, ',': 4, 'gifted': 1, '10': 1, ']': 1, 'AND': 1, 'passed': 1, 'upvotes': 3, 'many': 1, 'Tarzaned': 1, 'unbanned': 1, 'Every': 1, 'LCS': 1, 'enough': 2, 'person': 1, '.': 4, 'SAID': 1, 'first': 2, 'result': 1, 'AGAIN': 1, 'Discussion': 1, 'SAVIOUR': 1, 'will': 3, 'Jesus': 2, 'post': 2, 'upvote': 1, 'contribution': 1, 'from': 1, 'Family': 1, 'GIVE': 1, 'THIS': 1, 'runs': 1, 'this': 4, 'I': 1, '``': 2, 'on': 1, 'Final': 1, 'League': 1, \"''\": 2, 'SoloMid': 1, 'IF': 1}\n",
      "{'cut': 1, 'buy': 2, 'gets': 2, 'all': 1, 'quality': 1, 'for': 1, 'Pikachu': 1, 'about': 1, 'far': 1, 'game': 2, 'entire': 1, 'no': 1, 'arc': 1, 'the': 5, 'If': 3, 'comic': 1, 'Shield': 2, 'double': 1, '32,768': 1, 'The': 2, \"'ll\": 2, 'Complete': 1, 'end': 1, 'be': 1, 'matter': 1, 'what': 1, 'a': 3, 'data': 1, 'with': 2, 'Controversy': 1, 'Ultra': 2, 'every': 1, 'A': 2, 'of': 7, 'but': 1, 'again': 1, 'problems': 1, 'in': 3, 'High': 1, 'made': 1, 'summarized': 1, 'Sword': 2, 'who': 2, 'known': 1, 'and': 4, 'Mhm': 1, 'proof': 1, 'it': 1, 'knowing': 1, 'he': 1, 'animations': 1, ',': 2, 'bootleg': 1, 'number': 1, 'purge': 1, 'upvotes': 5, 'Sun': 2, 'everyone': 2, 'Moon': 2, 'so': 1, 'anime': 1, 'get': 1, 'GIF': 1, '’': 1, 'Recap': 1, 'National': 1, 'frogs': 1, 'first': 1, 'and/or': 1, 'will': 1, 'copy': 2, 'post': 3, 'Dex': 1, 'from': 1, 'list': 1, 'll': 1, 'Chinese': 1, 'tonight': 1, '100': 2, 'problem': 1, 'Pokemon': 3, 'this': 2, 'before': 1, 'that': 1, 'pokemon': 2, 'I': 5, 'each': 1, 'one': 1}\n",
      "{'officially': 1, 'all': 1, 'for': 4, 'video': 1, 'improved': 1, 'her': 1, 'VioLeNCe': 1, 'the': 3, 'different': 1, 'going': 2, 'Water': 1, 'The': 1, 'supposed': 2, 'swear': 1, 'keep': 2, 'ENTIRE': 1, 'be': 2, 'decided': 1, 'GaMes': 1, 'a': 4, 'with': 1, 'stopped': 1, 'our': 1, 'expressions': 1, 'mobs': 1, '!': 2, 'owners': 1, 'heart': 1, 'make': 1, 'dogs': 1, 'Kiri': 1, 'realm': 2, 'of': 1, 'those': 1, 'Nether': 1, 'their': 1, 'Rest': 1, 'Bucket': 1, 'facial': 1, 'in': 1, 'made': 2, 'How': 1, '-': 1, 'This': 1, 'confirmed': 1, 'joke': 1, 'time': 1, 'Should': 1, 'without': 1, 'away': 1, 'launcher': 1, 'back': 1, 'normal': 1, 'Something': 1, 'beat': 1, 'walking': 1, 'waiting': 1, 'owner': 1, 'to': 5, ',': 1, 'passed': 1, 'everyone': 1, 'Peace': 1, 'pack': 2, 'so': 1, 'weekend': 1, 'an': 1, 'gives': 1, 'memorial': 1, '.': 2, 'VidEo': 1, 'Minecraft': 2, 'was': 2, 'My': 1, 'come': 1, 'fall': 1, '?': 2, 'this': 2, 'update': 1, 'should': 1, 'that': 1, 'I': 6, 'texture': 2, 'CaUsE': 1, 'on': 1, 'just': 1, 'animation': 1}\n",
      "{'officially': 1, 'both': 1, 'all': 1, 'StarCraft': 1, 'for': 2, 'results': 1, 'by': 2, 'Starcraft': 2, 'the': 1, 'insignificant': 1, 'your': 1, '(': 1, 'lymph': 1, 'CT': 1, 'winning': 1, 'Story': 1, 'Twitter': 1, 'heroes': 1, 'Kong': 1, 'too': 1, 'Blizzard': 2, 'a': 3, 'his': 1, 'borders': 1, 'Hong': 1, 'withheld': 1, 'Stolen': 1, 'interview': 1, 'A': 1, 'of': 1, 'iNcontroL': 1, 'Rest': 1, 'quit': 1, '2': 1, 'in': 3, ':': 4, 'John': 2, 'How': 1, 'Ruling': 1, 'esports': 2, 'has': 1, 'Bain': 2, 'supporting': 1, 'Day9': 1, 'shrunk': 1, 'tumors': 1, 'and': 2, 'away': 1, 'announced': 1, 'special': 1, 'xpost': 1, 'soup': 1, '/r/Roastme': 1, 'No': 1, 'Void': 1, 'Legacy': 1, 'casters': 1, 'only': 1, 'alphabet': 1, 'Robinson': 1, 'legend': 1, 'Hearthstone': 1, 'Not': 1, 'to': 1, ',': 5, 'Cinematic': 1, '70': 1, 'number': 1, 'passed': 1, 'Geoff': 1, '/r/Destiny': 1, 'Is': 1, 'banned': 1, 'player': 1, 'HD': 1, '.': 6, 'sir': 1, \"'TotalBiscuit\": 1, 'liver': 1, 'Active': 1, 'risk': 1, 'Found': 1, 'was': 1, 'have': 1, 'died': 1, 'node': 1, ')': 1, 'fired': 1, 'peace': 1, '%': 2, \"'\": 3, '?': 2, 'this': 2, '4': 1, 'prize': 1, 'survival': 1, '``': 2, 'is': 2, 'on': 3, \"''\": 2, 'one': 1}\n",
      "{'Splits': 1, 'all': 1, 'for': 3, 'Activision': 1, 'beliefs': 1, 'them': 1, '8': 1, 'about': 1, 'no': 2, 'here': 1, '@': 3, 'free': 1, 'coming': 1, 'Halo': 1, 'Master': 1, '[': 1, '(': 1, 'lost': 1, 'money': 1, 'wants': 1, 'Kong': 1, 'be': 2, 'Blizzard': 1, 'pass': 1, 'a': 2, 'Collection': 1, 'his': 4, 'winnings': 2, 'not': 1, 'closed': 1, 'our': 1, '!': 1, '$': 1, 'deleted': 1, 'longer': 1, 's': 1, 'Hong': 1, 'stripped': 1, 'cancer': 1, 'Europe': 1, 'interview': 1, 'season': 1, 'of': 1, \"'s\": 1, 'their': 1, 'Chief': 1, 'punished': 1, '2': 1, 'Grandmasters': 1, 'tournament': 1, 'Gods': 1, 'E3': 1, 'Totalbiscuit': 2, 'in': 2, ':': 2, 'Belgium': 1, 'why': 1, 'John': 1, 'Unchained': 1, '-': 1, 'July': 1, 'protest': 1, 'freedom': 1, 'out': 1, 'Bain': 1, 'care': 1, 'Bungie': 1, 'and': 4, 'maps': 1, 'freegaming': 1, 'working': 1, 'hospitalized': 1, 'Titanfall': 1, 'pay': 1, 'says': 1, 'Find': 1, 'Hearthstone': 2, 'Cyberpunk': 1, 'ALL': 1, 'due': 1, 'to': 3, ',': 6, ']': 1, 'Fool': 1, 'May': 1, 'than': 1, 'gambling': 1, 'banned': 2, 'player': 1, '’': 1, '.': 5, 'loot': 1, 'Steam': 1, 'We': 1, 'spreading': 1, 'because': 1, 'are': 1, '2018': 2, 'Taiwan': 1, '24': 1, 'they': 1, 'will': 3, 'ticket': 1, 'post-launch': 1, 'more': 1, 'have': 1, '1984': 1, 'support': 1, 'content': 1, 'chemotherapy': 1, 'boxes': 1, ')': 1, 'April': 1, 'blitzchungHS': 1, 'winner': 1, 'With': 1, '#': 1, 'Blizzard_Ent': 1, '500k': 1, '2077': 1, 'should': 1, 'PC': 1, '/r/Games': 1, '``': 1, 'is': 3, \"''\": 1, 'just': 1}\n",
      "{'FRONT': 1, 'for': 2, 'Champions': 1, '/R/LEAGUEOFLEGENDS': 1, 'THINK': 1, 'the': 5, '7': 1, 'other': 1, 'Dueling': 1, 'OUR': 1, 'The': 3, 'PIC': 1, 'a': 2, 'DOES': 1, 'with': 1, 'services': 1, 'helpful': 1, '!': 4, 'websites': 1, 'cancer': 1, 'Last': 1, 'THE': 1, 'someone': 1, 'of': 3, 'best': 1, '2': 1, 'OF': 1, 'lol': 1, 'in': 1, 'month': 1, '7.00': 1, 'John': 1, 'HERO': 1, 'Net': 2, 'RTZ': 1, '2019': 1, 'has': 1, 'after': 1, 'Bain': 1, 'who': 1, 'started': 1, 'Dota': 1, 'and': 3, 'away': 1, 'Fates': 1, 'picture': 1, 'day': 1, 'Winners': 1, 'WHAT': 1, 'YOU': 1, 'neutrality': 1, 'International': 3, 'it': 1, 'Join': 1, 'winners': 1, 'die': 1, 'Neutrality': 1, \"N'T\": 1, 'ON': 1, 'to': 4, ',': 2, 'passed': 1, 'we': 1, 'WANT': 1, 'many': 1, 'gives': 1, '/R/TZ': 1, 'PAGE': 1, 'player': 1, '.': 1, 'fight': 2, 'Congratulations': 3, 'advice': 1, 'DO': 1, 'Battle': 1, '2018': 1, 'will': 2, 'TotalBiscuit': 1, 'long': 1, 'THIS': 1, 'unless': 1, 'affect': 1, '``': 1, \"''\": 1, 'just': 1, 'Experienced': 1}\n",
      "{'some': 1, 'stabbed': 1, 'Edition': 1, 'gets': 1, 'Nord': 1, 'for': 1, 'Isometric': 1, 'game': 2, 'last': 1, 'took': 1, 'released': 1, 'thrown': 1, 'here': 2, 'got': 1, '@': 1, 'the': 5, 'You': 1, 'making': 1, 'arrows': 1, 'never': 1, 'city': 1, 'be': 1, 'a': 3, 'house': 1, 'live': 1, 'Special': 1, 'work': 1, 'nearly': 1, 'seconds': 1, '!': 1, 'After': 1, 'dagger': 1, 's': 1, 'Nightingale': 1, 'over': 1, 'fact': 1, 'every': 1, 'since': 1, 'A': 1, 'Very': 1, 'of': 3, 'but': 1, 'jail': 1, 'satisfying': 1, \"'s\": 1, 'knew': 1, 'Fuck': 1, 'E3': 1, 'Skyrim': 2, 'in': 4, 'dang': 1, 'asking': 1, ':': 2, 'years': 1, 'at': 1, 'thoughts': 1, 'This': 1, 'out': 1, 'haunted': 1, 'killed': 1, 'known': 1, 'Credits': 1, 'questions': 1, 'street': 1, 'and': 3, 'glass': 1, 'No': 2, 'few': 1, 'would': 1, 'Official': 1, 'Little': 1, 'it': 1, 'craftsmanship': 1, 'very': 1, 'women': 1, 'book': 1, 'finished': 1, 'to': 1, ',': 7, '–': 1, 'anyone': 1, 'Trailer': 1, 'home': 1, 'feature': 1, 'Armor': 1, 'actually': 1, 'get': 2, '’': 2, '.': 4, 'first': 1, 'forever': 1, 'Why': 1, 'ride': 1, '2018': 1, 'surfing': 1, 'months': 1, '6': 1, 'was': 2, 'real': 1, 'fireflies': 1, 'can': 1, 'incredible': 1, 'problem': 1, 'm': 1, 'It': 1, '?': 2, 'this': 2, 'bird': 1, 'should': 1, 'that': 1, 'I': 6, 'leather': 1, 'is': 1, 'arsynalprops': 1, 'Instagram': 1, 'especially': 1}\n",
      "{'ACCEPTED': 1, 'sorry': 1, 'INTO': 1, 'Xmas': 1, 'Pls': 1, 'are': 1, 'someone': 1, '2018': 1, 'destroys': 1, 'last': 1, 'learn': 1, 'upvote': 1, 'no': 1, 'neutrality': 1, 'Watch': 1, 'the': 1, 'remove': 1, 'your': 1, 'thing': 1, '...': 1, 'WAS': 1, 'Keep': 1, 'TF2': 1, 'memes': 1, 'dropping': 1, 'he': 1, 'crates': 1, ',': 1, 'weird': 1, 'asleep': 1, 'im': 1, 'Mods': 1, 'RICARDO': 1, 'net': 1, 'tf2': 1, 'still': 1, 'HAT': 1, 'before': 1, 'this': 1, 'mini-sentry': 1, 'a': 1, 'When': 1, 'Uhm': 1, 'sees': 1, 'is': 1, 'spy': 1, 'dies': 1, 'and': 1, '!': 1}\n",
      "{'against': 1, 'strongest': 1, 'uncle': 1, 'for': 1, 'MTG': 1, 'Hangman': 1, 'about': 1, 'wo': 1, 'by': 1, 'the': 7, 'card': 1, '[': 1, 'any': 1, 'rich': 1, 'Gerry': 1, 'two': 1, 'do': 1, 'Life': 1, 'Thompson': 1, 'cards': 1, 'Kong': 1, 'me': 1, 'timeline': 1, 'a': 4, 'commit': 1, 'his': 3, 'winnings': 1, 'Player': 1, 'State': 1, 'Hong': 1, 'Protesting': 1, 'speak': 1, 'son': 1, 'Forest': 1, 'interview': 1, 'A': 3, 'of': 4, 'news': 1, \"'s\": 1, 'give': 1, 'play': 1, 'reasonable': 1, 'tournament': 1, \"'m\": 2, 'year': 1, 'Island': 1, 'in': 5, 'TCG': 1, 'geek': 1, ':': 1, 'made': 1, 'which': 1, 'How': 1, 'grows': 1, 'at': 3, 'This': 1, 'headed': 1, 'out': 1, 'revoked': 1, 'oppression': 1, 'and': 2, 'away': 2, 'using': 1, 'Magic': 4, 'Professional': 2, 'held': 1, 'old': 1, 'same': 1, 'Hearthstone': 1, 'GP': 1, 'had': 1, \"n't\": 1, 'WOTC': 1, 'he': 1, 'Refusing': 1, 'to': 5, ',': 4, 'Big': 1, ']': 1, 'World': 1, 'passed': 1, 'humanity': 1, 'abandoning': 1, 'Friends': 1, 'we': 1, 'word': 1, 'selling': 1, 'pack': 1, 'push': 1, 'an': 1, 'get': 1, 'banned': 1, 'giant': 1, 'player': 1, 'brief': 1, '.': 5, 'Who': 1, 'China': 1, 'HK': 1, 'feels': 1, 'they': 1, 'event': 1, 'yesterday': 1, 'His': 1, 'Celebration': 1, 'from': 2, 'avid': 1, 'was': 3, 'My': 1, 'Chinese': 1, 'bought': 1, 'right': 1, 'recently': 1, 'UST': 1, 'community': 1, 'Wizards': 1, 'singles': 1, 'winner': 1, 'As': 1, 'definition': 1, '?': 1, 'Championship': 1, 'pro': 1, 'that': 1, 'should': 1, 'I': 3, '25': 1, '``': 2, 'is': 1, \"''\": 2, 'just': 1, 'hit': 1, 'one': 1, 'Play': 1}\n",
      "{'against': 1, 'bet': 1, 'for': 2, '8': 1, 'Wow': 1, 'game': 1, 'last': 1, 'took': 1, 'the': 6, 'If': 1, 'your': 1, 'Jaina': 1, 'lost': 1, 'two': 1, 'Diablo': 1, 'Warcraft': 2, 'city': 1, 'shitpost': 1, 'me': 1, 'Blizzard': 3, 'my': 1, 'a': 3, 'his': 3, 'Edelweiss': 1, 'Paladin': 1, '!': 1, 'make': 1, 'In': 1, 'cancer': 1, 'brother': 1, 'life': 1, 'A': 1, 'Entertainment': 1, 'of': 2, 'oldest': 1, 'preparation': 1, 'logging': 1, 'response': 1, 'sent': 1, 'year': 1, 'in': 1, 'Announcement': 1, 'which': 1, 'surprise': 1, '-': 1, 'least': 1, 'compelled': 1, 'final': 1, 'July': 1, 'out': 1, 'time': 1, 'and': 1, 'screenshot': 1, 'relayed': 1, 'Letter': 1, 'favorite': 1, 'Dear': 1, 'would': 1, 'Battles': 1, 'Proudmoore': 1, 'better': 1, 'eh': 1, 'you': 1, 'to': 5, 'finished': 1, ',': 8, 'Just': 1, 'week': 1, 'World': 1, 'we': 1, 'Immortal': 1, 'May': 1, 'than': 1, 'Classic': 2, 'mobile': 1, 'get': 1, '.': 3, 'guild': 1, 'him': 1, 'first': 1, 'paint': 1, '2018': 1, 'felt': 1, 'want': 1, '24': 1, 'yesterday': 1, 'ask': 1, 'they': 1, 'TotalBiscuit': 1, 'battle': 1, 'So': 1, 'My': 1, '1984': 1, 'new': 1, 'can': 1, 'greatest': 1, 'community': 1, 'remember': 1, 'race': 1, 'Pet': 1, 'today': 1, '?': 2, 'before': 1, 'this': 1, 'I': 5, 'cosplay': 1, 'goodbye': 1, 'is': 1, 'RIP': 1, 'said': 1}\n",
      "{'newly-formed': 1, 'though': 1, '.': 2, 'Tylo': 1, 'all': 1, 'first': 1, 'videos': 1, 'Steam': 1, 'talking': 1, 'We': 1, 'Australian': 1, '1.0': 1, 'launches': 1, 'spacecraft': 1, 'studio': 1, 'Why': 1, 'are': 1, 'done': 1, 'about': 1, 'of': 1, 'Had': 1, 'Space': 1, 'boys': 1, 'no': 1, \"'s\": 2, 'shitty': 1, 'means': 1, 'free': 1, 'Agency': 1, 'the': 1, 'music': 2, 'its': 1, 'Dream': 1, 'it': 1, 'Kerbal': 1, 'My': 1, 'going': 2, 'Neutrality': 1, 'been': 1, 'Lowne': 1, ',': 3, 'The': 1, 'claimed': 1, 'copyright': 1, 'in': 1, 'Transformer': 1, 'REALLY': 1, 'Elon': 1, 'Youtube': 1, 'On': 1, '?': 2, 'Net': 1, 'this': 3, 'what': 1, 'Strap': 1, '``': 2, 'is': 4, 'on': 1, 'Copyright': 1, 'out': 1, 'full': 1, \"''\": 2, 'even': 1, 'one': 3, 'yet': 1, 'anime': 1, 'Saw': 1, 'Matt': 1, 'KSP2': 1, '!': 2}\n",
      "{'ever': 1, 'discovered': 1, 'Doc..': 1, 'Easter': 1, 'Might': 1, 'Vintagebeef': 1, ';': 1, 'the': 6, 'future': 1, '(': 1, 'do': 2, 'two': 1, 'modern': 1, 'night': 1, 'The': 1, 'my': 1, 'a': 3, 'house': 1, 'his': 1, 'with': 1, 'something': 1, 'Egg': 1, 'us': 1, '!': 7, 'Pause': 2, 'probably': 1, 'of': 1, 'Made': 1, 'across': 1, 'screen': 1, \"'s\": 1, 'best': 1, 'sub': 1, 'glide': 1, 'Decided': 1, 'images': 1, 'in': 2, 'O': 1, 'Notch': 1, 'why': 1, ':': 1, 'thingy': 1, '-': 1, 'This': 1, 'and': 3, 'Guude': 1, 'realistic': 1, 'Code': 1, 'day': 1, 'favorite': 1, 'create': 1, 'Roleplay': 1, 'hi': 1, 'beautiful': 1, 'Type': 1, 'Mindcrack': 1, 'RES': 1, 'interior': 1, 'thing': 2, 'say': 1, 'you': 1, 'to': 2, ',': 4, 'system': 1, 'love': 1, 'baby': 1, 'horse': 1, 'an': 1, '.': 6, 'seen': 1, 'during': 2, 'Bdubs': 2, 'render': 1, 'Why': 1, 'Minecon': 1, 'will': 1, 'Wife': 1, 'upvote': 2, 'Konami': 1, 'BTC': 1, 'My': 1, 'new': 1, ')': 2, 'apple': 1, \"'\": 1, 'born': 1, 'fed': 1, 'that': 1, 'I': 4, 'is': 3, \"'ve\": 1, 'just': 2, 'animation': 1, 'one': 2}\n",
      "{'LAW': 1, 'Edition': 1, 'bottle': 1, 'all': 2, 'Stop': 1, 'for': 1, 'video': 1, 'hard': 1, 'MONEY': 1, 'election': 1, 'Vegas': 1, 'TAKE': 1, 'about': 1, 'ACCEPTING': 1, 'game': 2, 'entire': 1, 'folks': 1, 'the': 6, 'If': 1, ';': 1, 'COMPENSATION': 1, 'wrong': 1, 'going': 1, 'You': 1, 'do': 1, 'Twitter': 1, 'FO3': 1, 'Hey': 1, 'making': 1, 'CONSIDERED': 1, 'series': 1, 'gon': 1, \"'ll\": 1, 'New': 1, 'be': 1, 'a': 4, 'Bethesda': 2, 'TRAILER': 1, 'work': 1, 'Collectors': 1, 'not': 1, 'our': 1, '!': 4, '$': 1, 'IT': 1, 'THE': 1, 'Entertainment': 1, 'of': 3, \"'s\": 2, 'subreddit': 2, 'their': 2, 'play': 1, \"'re\": 2, \"'m\": 1, 'OF': 1, 'CLUB': 1, 'CREATION': 1, 'guys': 1, 'asking': 1, ':': 3, '5': 1, 'at': 1, 'This': 1, 'congratulate': 1, 'after': 1, 'ruin': 1, 'remaster': 1, 'if': 1, 'and': 3, 'na': 1, 'NOT': 1, '5oz': 1, '76': 1, '7-year-anniversary': 1, 'Teaser': 1, 'takes': 1, 'fire': 1, 'From': 1, 'Official': 1, 'image': 1, 'destroy': 1, 'Fallout': 4, 'it': 2, '...': 1, \"n't\": 1, 'say': 2, 'you': 1, 'to': 5, ',': 7, 'thanks': 1, '–': 1, 'set': 1, 'Tabasco': 1, 'awesome': 1, 'Trailer': 1, 'we': 1, 'UNDER': 1, 'yes': 1, '.': 6, 'X-Fallout': 1, 'drink': 1, 'effort': 1, 'franchise': 1, 'DO': 1, 'world': 1, 'want': 3, 'lot': 1, 'post': 1, 'Reminder': 1, 'scale': 1, 'playing': 1, 'FALLOUT': 1, 'community': 1, 'IS': 1, 'US': 1, 'It': 1, 'Buyers': 1, 'this': 4, '4': 1, 'should': 1, 'I': 4, 'posted': 1, 'is': 1, 'on': 5, 'Obsidian': 1, 'just': 4}\n",
      "{'gets': 1, 'fans': 1, 'for': 1, 'inspiring': 1, 'down': 1, 'here': 1, 'got': 1, 'people': 1, 'now': 2, 'the': 2, 'card': 1, 'its': 1, 'your': 1, 'lost': 1, 'Michael': 1, 'may': 1, 'past': 1, 'Adam': 1, 'Rekt': 1, 'me': 1, 'be': 1, 'his': 1, 'Monty': 1, 'green': 1, '!': 5, 'Ellis': 1, 'One': 1, 'Gavin': 2, 'over': 1, 'every': 1, 'later': 1, 'their': 1, 'best': 1, 'question': 1, 'year': 2, 'recreate': 1, 'MICHAEL': 1, 'let': 1, 'shutting': 1, 'years': 3, 'Net': 1, '5': 3, 'at': 1, 'specifically': 1, 'has': 2, 'if': 1, 'Thank': 1, 'and': 3, 'away': 1, 'LINDSAY': 1, 'Teeth': 1, '205': 1, 'picture': 1, 'Now': 1, 'would': 1, 'Jones': 1, 'Rooster': 1, 'die': 1, 'you': 2, 'Neutrality': 1, 'been': 2, 'he': 1, 'to': 3, ',': 1, 'AND': 1, 'passed': 1, 'Oum': 1, 'Geoff': 2, 'ability': 1, 'Elise': 1, '.': 5, 'answer': 1, 'PREGNANT': 1, 'refuse': 1, 'Act': 1, 'impeded': 1, 'have': 1, 'slashed': 1, 'pounds': 1, 'content': 1, 'can': 1, 'US': 1, 'It': 1, 'watch': 1, 'ARE': 1, '?': 1, 'this': 3, 'I': 2, 'is': 2, 'Iris': 1, 'said': 1, 'tradition': 1}\n",
      "{'short': 1, 'gets': 1, 'for': 2, 'Anon': 1, 'fix': 1, 'about': 1, 'else': 1, 'the': 3, '[': 2, '(': 2, 'any': 1, 'did': 1, 'aircraft': 1, 'money': 1, 'making': 1, 'everyones': 1, \"'ll\": 1, 'Higby': 1, 'be': 1, 'a': 2, 'suggestion': 1, 'VS-specific': 1, 'Artwork': 1, 'over': 1, 'run': 1, 'play': 1, 'Maya': 1, '2': 3, 'tunnels': 1, 'when': 1, 'fantastically': 1, 'wanted': 1, 'in': 1, 'blur': 1, \"'Max\": 1, 'years': 1, 'This': 1, 'motion': 1, 'care': 1, 'could': 1, 'thank': 1, 'if': 1, 'Thank': 1, 'and': 1, 'away': 1, 'submission': 1, 'says': 1, 'only': 1, '\\u202aTotalBiscuit\\u202c': 1, 'how': 1, '...': 2, 'unlikely': 1, 'say': 1, 'you': 2, 'to': 3, ',': 3, ']': 2, 'anyone': 1, 'passed': 1, 'awesome': 1, 'Crash': 1, 'upvotes': 1, 'so': 2, 'fucking': 1, 'launch': 1, 'uh': 1, '.': 1, 'render': 1, 'SoE': 1, 'because': 1, 'they': 1, 'will': 1, 'more': 1, 'post': 1, 'So': 1, 'My': 1, 'new': 1, 'Planetside': 4, 'support': 1, 'content': 1, 'community': 1, '100': 1, ')': 2, 'It': 1, \"'\": 1, '?': 2, 'this': 1, 'Has': 1, 'try': 1, 'I': 4, 'is': 3, 'wish': 1, 'animation': 1, 'just': 1}\n",
      "{'scarily': 1, '.': 1, 'playthrough': 1, 'Somebody': 1, 'Tumblr': 1, 'strings': 1, 'No': 1, 'run': 1, 'entire': 1, 'string': 1, 'post': 1, \"'s\": 1, 'From': 1, 'becoming': 1, 'Found': 1, 'Fucking': 1, 'response': 1, 'it': 1, 'real': 1, 'Forces': 1, \"n't\": 1, 'Ross': 2, 'Arin': 1, 'died': 1, 'to': 1, 'girlfriend': 1, 'The': 1, 'g': 1, 'ca': 1, 'self-aware': 1, 'Prisoners': 1, 'be': 1, 'theory': 1, 'this': 1, 'that': 1, 'Danny': 1, 'I': 1, 'a': 1, 'This': 1, 'is': 2, 'has': 1, 'on': 1, 'tell': 1, 'Sonic': 2, 'accurate': 1, 'Takes': 1, 'and': 1, '!': 1}\n",
      "{'After': 1, '.': 5, 'Famas': 1, 'class': 1, '3': 1, 'for': 1, 'picture': 1, 'Iron': 1, 'brick': 1, 'assault': 1, 'tactical': 1, 'movement': 1, 'of': 2, 'blackout': 1, 'Stay': 1, 'His': 1, 'Missing': 1, 'based': 1, 'Manhattan': 1, 'half': 1, 'recoil': 1, 'the': 4, 'reduces': 1, 'breach': 1, 'Panic': 1, 'kidding': 1, 'seeing': 1, 'your': 1, 'like': 1, 'you': 1, 'perfectly': 1, 'seemed': 1, 'Hey': 1, 'Battlefield': 1, 'to': 1, 'next': 1, ',': 1, 'step': 1, 'Aftermatch': 1, 'attachment': 1, 'Atack': 1, 'It': 1, 'Dice': 1, 'Smooth': 1, 'need': 1, 'we': 1, 'logical': 1, 'me': 1, '?': 2, 'still': 1, 'this': 1, 'dis': 1, 'Sights': 1, '-': 1, 'vision': 1, 'is': 1, 'on': 1, 'Press': 1, 'Are': 1, 'suggestion': 1, 'LMB': 1, '!': 1}\n",
      "{'Ogling': 1, 'man': 1, 'Wild': 2, '.': 1, 'Style': 1, 'Subreddit': 1, 'for': 2, 'ever': 1, 'cross': 1, 'evil': 1, 'stitches': 1, 'BoTW': 1, 'mirror': 1, 'later': 1, 'BoTW2': 1, 'eyes': 1, '//': 1, 'largest': 1, 'of': 2, 'vs': 1, 'Breath': 2, 'got': 1, 'OoT': 3, 'Poor': 1, 'switch': 1, 'the': 7, '[': 7, 'it': 1, 'Temple': 1, 'portrait': 1, '2': 1, 'bought': 1, 'Shadow': 1, 'hmmmmmm': 1, 'Anime': 1, 'Stalfos': 1, 'up': 1, 'hung': 1, 'finally': 1, 'next': 1, 'to': 1, ',': 3, '57,344': 1, 'Finally': 1, ']': 7, 'in': 1, 'complete': 1, 'oh': 1, 'holographic': 1, 'icon': 1, 'poor': 1, 'stitch': 1, 'this': 1, 'my': 3, 'OTHER': 1, 'I': 1, 'with': 1, 'project': 1, 'MM': 1, 'Link': 3, 'is': 1, 'bathroom': 1, 'Finished': 1, 'uh': 1, 'and': 1, '!': 4}\n",
      "{'Twice': 1, 'for': 2, 'SOULS': 1, 'under': 1, 'Dark': 7, 'them': 2, 'Here': 1, 'game': 2, 'entire': 1, 'no': 1, 'lore': 1, 'Shadows': 1, 'the': 4, '[': 1, 'did': 1, 'other': 1, 'allowed': 1, 'Daughters': 1, 'The': 1, 'repeated': 1, 'New': 1, 'Being': 1, 'too': 2, 'my': 1, 'a': 2, 'ported': 1, 'dark': 1, 'with': 1, 'not': 1, '!': 3, 'Announced': 1, 'longer': 1, 'Xbox': 1, 'One': 1, 'of': 3, \"'s\": 2, 'Solaire': 1, 'carry': 1, 'their': 1, 'know': 1, 'difficult': 1, 'LEGO': 1, 'play': 1, 'Kotaku': 1, 'Praise': 1, \"'m\": 1, 'Souls': 7, 'massive': 1, 'wanted': 1, 'Totalbiscuit': 1, ':': 3, 'PS4': 1, '-': 3, 'Switch': 1, 'expansion': 1, 'could': 1, 'DARK': 1, 'thank': 1, 'remaster': 1, 'helping': 1, 'and': 3, 'deaths': 1, 'engine': 1, 'aligns': 1, 'MOD': 1, 'drove': 1, 'quitting': 1, 'FROM': 1, 'SEKIRO': 1, 'it': 1, 'sun': 1, \"n't\": 1, 'you': 3, 'to': 2, ',': 4, ']': 1, 'Players': 1, 'photorealistic': 1, 're-imagining': 1, 'Die': 1, 'Remastered': 1, 'Ash': 1, 'so': 1, 'actually': 1, 'Today': 1, 'get': 1, '.': 2, 'put': 1, 'render': 1, 'models': 1, 'because': 1, 'mad': 1, '//': 1, 'they': 1, 'UK': 1, 'was': 1, 'great': 1, 'task': 1, 'before': 1, 'drawing': 1, 'PC': 2, 'I': 2, 'RIP': 1, 'on': 1, 'Software': 1, 'souls': 1, '1': 2}\n",
      "{'Announced': 1, 'Announce': 1, '.': 1, 'Date': 1, 'boring': 1, 'paint': 1, '21': 1, 'Gameplay': 2, 'of': 1, 'Mass': 2, 'thought': 1, '&': 1, 'MASS': 5, 'those': 1, 'Official': 4, 'Did': 1, 'If': 1, 'was': 2, '(': 1, '...': 1, '2': 1, 'Combat': 1, 'funny': 1, 'wine': 1, '4K': 2, 'Series': 1, 'E3': 1, '2015': 1, 'seemed': 1, 'to': 1, ')': 1, 'Cinematic': 1, 'The': 1, 'Reveal': 1, 'PlayStation': 1, '–': 3, 'ANDROMEDA': 5, ':': 6, 'skyline': 1, 'Tech': 1, '#': 2, 'Trailer': 4, 'me': 1, 'too': 1, 'Andromeda': 2, 'this': 1, 'classes': 1, 'peaceful': 1, '-': 1, 'EFFECT™': 4, 'I': 1, 'Release': 1, 'Mar': 1, 'with': 1, 'friends': 1, 'on': 1, 'Effect': 2, 'EFFECT': 1, 'one': 1, '1': 2, 'Video': 1}\n",
      "{'some': 1, 'for': 3, 'dispensary': 1, '21': 1, 'forget': 1, 'her': 2, 'asked': 1, 'game': 1, 'Mitchell': 1, 'the': 2, '(': 1, 'Season': 1, 'lost': 1, 'roommate': 1, 'husband': 1, 'The': 1, 'sister': 1, 'Watching': 1, 'be': 1, 'my': 3, 'DragonCon': 1, 'a': 1, 'wax': 1, 'with': 1, '!': 1, 'x-post': 1, 'landed': 1, 'Savage': 1, 'recreational': 1, \"'s\": 1, 'Officially': 1, 'ICE': 1, 'like': 1, 'when': 1, 'wanted': 1, 'Cubs/Dodgers': 1, 'broke': 1, 'made': 1, 'Never': 1, 'hilariously': 1, 'birthday': 1, '5': 1, 'self': 1, 'at': 2, 'Development': 2, 'out': 1, 'time': 2, 'if': 1, 'and': 2, 'away': 2, 'went': 1, 'glass': 1, 'finger': 1, 'it': 1, 'Netflix': 1, '...': 2, 'to': 1, ',': 1, '/r/The_mlMueller': 1, 'blue': 1, 'Relevant': 1, 'we': 1, 'everyone': 1, 'Renewed': 1, 'so': 1, 'prosthetic': 1, '.': 3, 'or': 1, 'Arrested': 1, 'first': 1, 'they': 1, 'suddenly': 1, 'But': 1, 'wife': 1, 'from': 2, 'My': 2, \"'Arrested\": 1, 'Hurwitz': 1, 'recently': 1, 'Gob': 1, 'Accidentally': 1, 'tip': 1, \"'\": 1, 'running': 1, 'that': 1, 'I': 2, 'cosplay': 1, '``': 1, 'lame': 1, 'flowers': 1, \"''\": 1, 'replacements': 1}\n",
      "{'some': 1, 'Wright': 1, 'hope': 1, 'for': 1, 'scenes': 1, 'HBO': 1, '8': 1, 'chickens': 1, 'about': 2, 'seems': 1, 'background': 1, 'television': 1, 'people': 2, 'the': 5, 'amazing': 1, '[': 10, '(': 1, 'anything': 1, 'did': 1, 'Season': 2, 'show': 1, 'episode': 1, 'ago': 1, 'do': 1, 'credit': 1, 'other': 1, 'idk': 1, 'Peter': 1, 'may': 1, 'looking': 1, 'cute': 1, 'end': 1, 'film': 1, 'absolutely': 1, 'bigger': 1, 'be': 1, 'kill': 1, 'talented': 1, 'a': 2, 'his': 1, 'traditional': 1, 'showed': 1, 'not': 1, 'survives': 1, 'less': 1, 'One': 1, 'cast': 1, 'shame': 1, 'every': 1, 'relegated': 1, 'someone': 1, 'Feeling': 1, 'of': 1, \"'s\": 2, 'give': 1, 'chance': 1, 'best': 1, 'as': 1, 'Thrones': 1, 'Squad': 1, 'in': 3, 'helped': 1, 'How': 1, 'Williams': 1, 'talked': 1, 'roles': 1, 'SPOILERS': 4, 'time': 1, 'transportation': 1, 'and': 3, 'GOT': 1, 'fine': 1, 'No': 3, 'NO': 2, 'Now': 1, 'behind': 1, 'Official': 1, 'arguably': 1, '|': 1, 'how': 1, 'it': 1, \"n't\": 2, 'to': 6, ',': 3, ']': 10, 'need': 1, 'Trailer': 1, 'we': 2, 'than': 1, 'performance': 1, 'works': 1, 'actually': 1, 'Game': 1, 'might': 1, 'anymore': 1, 'get': 2, 'Isaac': 1, '.': 5, 'Spoilers': 6, 'or': 1, 'Dinklage': 1, 'world': 1, 'photo': 1, 'more': 1, 'crushed': 1, 'from': 2, 'actor': 1, 'He': 1, 'have': 1, 'she': 1, 'Maisie': 1, 'long': 1, ')': 1, 'second': 1, 'It': 2, 'spend': 1, 'should': 1, 'that': 2, 'Valyria': 1, 'I': 1, 'is': 1, 'little': 2, '1': 1}\n",
      "{'stop': 1, 'tried': 1, 'for': 2, 'Visits': 1, 'streaming': 1, 'last': 1, 'kept': 1, 'found': 1, 'tears': 1, 'the': 7, '[': 1, 'your': 1, 'K9': 1, 'brings': 1, 'going': 1, 'What': 1, 'do': 1, 'attempt': 1, 'The': 1, 'aise': 1, 'keep': 1, 'really': 1, 'me': 1, 'too': 1, 'my': 1, 'a': 1, 'his': 2, 'with': 1, 'being': 1, \"'Vincent\": 1, '!': 2, 'until': 1, 'over': 2, 'Gogh': 1, 'charging': 1, 'scene': 1, 'brother': 1, 'where': 1, 'luck': 1, 'since': 1, 'A': 1, 'of': 4, 'but': 1, 'parents': 1, 'as': 1, '2': 1, 'Please': 1, 'in': 1, 'seventies': 1, 'destroying': 1, 'John': 1, 'through': 1, 'Benedict': 1, 'years': 1, 'at': 2, 'close': 1, 'out': 1, 'ISPs': 1, 'gallery': 1, 'near': 1, 'without': 1, 'fail': 1, 'and': 5, 'away': 1, 'sometimes': 1, 'am': 1, 'day': 1, 'perfect': 1, 'head': 1, 'age': 1, 'take': 1, 'neutrality': 1, 'Smith': 1, 'bro': 1, 'it': 1, 'Upvote': 1, '...': 2, 'Heard': 1, \"n't\": 1, 'you': 3, 'minutes': 1, 'Hurt': 1, 'to': 3, ',': 2, 'week': 1, ']': 1, 'good': 1, 'love': 1, 'we': 1, 'home': 1, 'Van': 1, 'busy': 1, 'Cumberbatch': 1, '.': 6, 'Who': 2, 'ready': 1, 'him': 2, 'first': 1, 'ai': 1, 'think': 1, 'passes': 1, 'Streaming': 1, 'Dood': 1, 'more': 1, 'suddenly': 1, 'produce': 1, 'Doctor': 2, 'from': 1, 'happy': 1, 'My': 1, 'Fan': 1, 'Cosplay': 1, 'died': 1, '54': 1, '77': 1, 'It': 1, 'net': 1, \"'\": 1, '?': 2, 'this': 1, 'were': 1, 'Like': 1, 'I': 1, 'cosplay': 1, 'nephew': 1, 'Tardis': 1, 'tell': 1, 'little': 1, 'Matt': 1}\n",
      "{'some': 1, 'all': 1, 'for': 1, 'Faust': 1, 'Lauren': 1, 'the': 4, 'argue': 1, 'amazing': 2, 'Everypony': 1, 'Diego': 1, 'What': 1, 'do': 2, 'never': 1, 'asleep': 1, 'ca': 1, 'Animated': 1, 'Boys': 1, 'still': 1, 'talented': 1, 'my': 1, 'a': 1, 'with': 1, 'not': 1, 'ridiculously': 1, 'read': 1, 'r/WTF': 1, '!': 2, 'probably': 1, 'memories': 1, 'of': 2, 'Cutie': 1, 'but': 2, 'thought': 1, 'point': 1, \"'s\": 1, 'laughs': 1, 'Mark': 1, 'as': 2, 'Unable': 1, 'like': 1, 'comments': 1, \"'m\": 1, 'San': 1, 'Meal': 1, 'in': 2, 'why': 1, 'years': 1, 'Crusaders': 1, 'Our': 1, 'trolley': 1, 'definitely': 1, 'at': 1, 'This': 1, 'Downvoting': 1, 'toys': 1, 'thank': 1, 'and': 2, 'Which': 1, 'For': 1, 'No': 1, 'would': 1, 'artists': 1, '...': 2, 'say': 1, 'Roman': 1, 'you': 4, \"n't\": 1, 'hand': 1, 'Well': 1, 'to': 2, 'premier': 1, ',': 4, 'Happy': 1, 'Just': 1, 'Pony': 1, 'Luna': 1, '.': 8, 'or': 1, 'think': 1, 'ride': 1, 'want': 1, 'will': 1, 'S3': 1, 'mane': 1, 'more': 1, \"'d\": 1, '6': 1, 'Found': 1, 'Girls': 1, 'humanized': 1, 'today': 1, 'watch': 1, '?': 2, 'this': 1, 'drawing': 1, 'Up-Vote': 1, 'try': 1, 'I': 5, '``': 2, 'toy': 1, 'That': 1, 'is': 2, \"''\": 2}\n",
      "{'Atlanta': 1, 'Yogurt': 1, 'gets': 1, 'ever': 1, 'for': 1, 'OK.': 1, 'NYC': 1, 'the': 5, 'If': 1, 'your': 1, 'go': 2, 't': 1, 'show': 1, 'Season': 1, 'start': 1, 'taco': 2, 'downtown': 1, 'city': 1, 'ordering': 1, 'guy': 1, 'Troy': 1, 'be': 1, 'Gogurt': 1, 'a': 5, 'Mondays': 1, 'Yahoo': 1, 'Boobs': 1, 'closed': 1, '!': 4, 'serious': 1, 'Lives': 1, 'A': 1, \"'s\": 1, 'best': 1, '12': 1, 'hr': 1, 'when': 1, 'see': 1, 'up': 1, 'food': 1, 'Pudi': 1, 'condition': 1, 'in': 2, 'time': 1, 'restaurant': 2, 'Air': 1, 'and': 2, 'dont': 1, 'also': 1, 're': 1, 'Taco': 1, 'picture': 1, 'day': 1, 'searching': 1, '&': 2, 'image': 1, 'reunion': 1, 'layover': 1, 'airport': 1, 'it': 1, 'Abed': 2, 'wasted': 1, 'you': 6, 'truck': 1, 'to': 3, 'ruiners': 1, 'upvotes': 1, 'Danny': 1, 'so': 1, 'doesn': 1, 'enough': 1, 'instead': 1, 'Britta': 1, '’': 2, '.': 5, 'first': 1, 'Shirley': 1, 'Why': 1, '2018': 1, 'mad': 1, 'will': 1, '6': 1, 'from': 1, 'have': 2, 'Get': 1, 'Community': 1, 'was': 2, 'Screen': 1, 'today': 1, 'met': 1, 'Best': 1, 'JUST': 1, '?': 2, 'this': 2, 'taking': 1, 'When': 1, 'that': 1, 'I': 1, '``': 1, 'is': 2, 'on': 1, 'Said': 1, \"''\": 1, 'Annie': 1, 'train': 1, 'club': 1}\n",
      "{'legacy': 1, 'tried': 1, 'for': 2, '8': 1, 'background': 1, 'got': 1, 'the': 1, 'settle': 1, 'Season': 1, 'vs.': 1, 'ago': 1, 'pretty': 1, 'gift': 1, 'The': 2, '10th': 1, 'a': 4, 'his': 1, 'anniversary': 1, 'always': 1, 'with': 1, 'beef': 1, 'green': 1, '!': 1, 'cast': 1, 'fact': 1, 'Than': 1, 'starting': 1, 'Nicki': 1, 'Con': 1, 'thought': 1, 'screen': 1, 'Taylor': 1, 'as': 1, 'airing': 1, 'like': 1, 'reunites': 1, 'Minaj': 1, 'up': 1, 'ended': 1, 'years': 1, 'Paul': 2, 'Goats': 1, 'cool': 1, 'at': 1, 'started': 1, 'and': 1, 'Walter': 3, 'special': 1, 'reunion': 1, 'it': 1, 'you': 1, 'to': 1, '10': 1, 'shot': 1, 'disguised': 1, 'love': 1, 'Comic': 1, 'practical': 1, 'Bad': 3, 'baby': 1, 'added': 1, 'actually': 1, 'stained': 1, 'Aaron': 2, 'White': 1, '.': 1, 'Swift': 1, 'Halloween': 1, 'Breaking': 3, 'more': 1, 'left': 1, 'was': 2, 'new': 1, 'Bryan': 2, 'today': 1, 'look': 1, 'this': 1, 'When': 1, 'I': 2, 'is': 1, 'just': 1, 'Cranston': 1}\n",
      "{'for': 1, 'HBO': 1, 'the': 3, 'amazing': 1, 'its': 1, 'any': 1, '(': 1, 'never': 1, 'Amputee': 1, 'The': 1, 'keep': 1, 'Angeles': 1, 'be': 1, 'a': 2, 'Adventure': 3, 'wax': 1, 'with': 1, 'true': 1, 'not': 1, 'our': 1, '!': 4, 'gif': 1, 'Awesome': 1, 'premiering': 1, 'phone': 1, 'of': 3, 'ooo': 1, \"'Adventure\": 1, 'Koreatown': 1, 'King': 1, \"'m\": 1, 'when': 1, 'see': 1, 'Got': 1, 'in': 2, 'line': 1, 'king': 1, ':': 1, 'made': 1, 'Jake': 1, 'Net': 1, 'This': 1, 'and': 2, 'Lands': 1, 'searched': 1, 'it': 1, 'Join': 1, 'had': 1, 'alive': 1, 'Neutrality': 1, 'you': 1, 'to': 1, ',': 3, 'Ooo': 1, 'we': 2, 'so': 2, 'fandom': 1, 'instead': 1, 'Distant': 1, 'Los': 1, '.': 2, 'fight': 1, 'crying': 1, 'are': 1, 'done': 1, 'will': 1, 'Finn': 1, 'more': 1, 'upvote': 1, 'hustler': 1, 'exclusively': 1, 'from': 2, 'mathematical': 1, 'U.S.': 1, 'new': 1, 'Cosplay': 1, 'can': 1, 'chair': 1, '2020': 1, 'MAX': 1, ')': 1, \"'\": 1, 'google': 1, 'that': 1, 'I': 3, 'Time': 3, 'r/PhotoshopBattles': 1, 'on': 2, \"'ve\": 1, 'connected': 1, 'Pizza': 1}\n",
      "{'AT': 1, 'all': 1, 'ever': 1, 'SERIES': 1, 'for': 2, 'Star': 4, 'SDCC': 1, '/r/StarTrek': 1, 'Leonard': 1, 'the': 5, 'your': 1, 'mean': 1, 'Wil': 1, 'Nimoy': 1, 'series': 1, 'Trek': 6, 'ca': 1, 'Picard': 2, 'throttled': 1, 'Jonathan': 1, 'a': 1, 'err': 1, 'anniversary': 1, 'friends': 2, 'paying': 1, 'our': 1, 'To': 2, '!': 3, 'STAR': 1, 'Spock': 1, 'STEWART': 1, 'of': 1, \"'s\": 3, 'best': 1, 'as': 1, 'Internet': 1, '83': 1, 'like': 1, 'Returns': 1, 'join': 1, '/r/StarWars': 1, 'in': 1, 'guys': 1, ':': 5, 'online': 1, 'let': 1, 'believe': 1, 'WITH': 1, 'absent': 1, 'years': 1, 'Net': 1, 'Stephen': 1, '-': 2, 'at': 3, 'has': 1, 'PATRICK': 1, 'could': 1, 'without': 1, 'TREK': 1, 'and': 1, 'Want': 1, 'space': 1, 'Frakes': 1, 'glass': 1, 'poker': 1, '76': 1, 'Teaser': 1, 'age': 1, \"'Star\": 1, 'favorite': 1, 'would': 1, 'Sir': 1, 'Patrick': 1, 'destroy': 1, '|': 1, 'it': 1, '...': 1, 'Join': 1, 'Do': 1, \"n't\": 2, 'you': 2, 'Neutrality': 1, 'Adds': 1, 'been': 1, '50': 1, 'to': 4, 'Happy': 1, ',': 4, 'Wheaton': 1, 'Years': 1, 'FCC': 1, 'raising': 1, 'Hawking': 1, 'family': 1, 'anyone': 1, 'NEW': 1, 'love': 1, 'Trailer': 1, 'Discovery': 2, 'player': 1, '’': 1, '.': 5, 'or': 1, 'fight': 1, 'STLV': 1, 'Dies': 1, 'Stewart': 1, 'ask': 1, 'more': 1, 'thirty': 1, 'CONFIRMED': 1, 'Family': 1, '‘': 1, 'greatest': 1, 'remember': 1, 'died': 1, 'getting': 1, 'LCARS': 1, 'watch': 1, \"'\": 1, 'Let': 1, '?': 1, 'I': 3, '``': 2, 'Director': 1, \"''\": 2}\n",
      "{'.': 11, 'white': 1, 'cooking': 1, '3': 1, 'if': 1, 'disguise': 1, 'Second': 1, 'front': 1, '--': 5, 'purchase': 1, 'want': 1, 'Tonight': 1, 'of': 2, 'post': 1, 'Simpsons': 1, \"'s\": 2, 'called': 1, 'upvoted': 1, 'got': 1, 'no': 1, 'fast': 1, 'people': 1, 'the': 1, 'future': 1, 'was': 1, 'as': 1, 'Number': 1, '<': 1, 'Netflix': 1, 'portrait': 1, 'it': 3, '“': 1, 'reddit': 1, 'American': 1, 'did': 1, 'you': 1, 'when': 1, 'kids': 1, 'money': 1, 'Sign': 2, 'history': 1, 'food': 1, 'get': 1, 'to': 3, 'soon': 1, 'president': 1, 'The': 1, 'in': 1, 'Ever': 2, 'Worst': 1, 'It': 1, 'page': 1, 'Best': 2, 'Elon': 1, 'and': 2, '#': 1, 'Christmas': 1, 'be': 1, 'were': 1, 'How': 1, 'should': 1, 'that': 1, 'what': 1, '”': 1, 'house': 1, 'This': 1, 'on': 1, 'Friend': 1, 'said': 1, 'time': 1, 'i': 1, 'Cartoon': 1, '1': 1, 'our': 1}\n",
      "{'To': 1, 'Bender': 1, '’': 1, '.': 5, 'does': 1, 'special': 1, 'buy': 1, 'belonged': 1, 'drink': 1, 'One': 1, 'information': 1, 'scenes': 1, 'Be': 1, 'sexy': 1, 'someone': 1, 'And': 1, 'MRW': 1, 'public': 1, 'want': 1, 'because': 1, 'favorite': 2, 'of': 2, 'Might': 1, 'learning': 1, 'suffer': 1, 'one': 1, 'once': 1, 'Leaving': 1, 'from': 2, 'exchanges': 1, 'the': 2, 'it': 1, 'access': 1, 'Netflix': 1, '...': 1, 'Hear': 1, 'very': 2, 'bought': 1, 'Remember': 1, 'you': 1, 'r/AskReddit': 1, 'Got': 1, 'to': 2, 'Futurama': 3, 'participating': 1, 'math': 1, 'early': 1, 'in': 1, 'm': 1, 'commented': 1, 'fence': 1, ':': 1, 'love': 1, 'disability': 1, 'and': 1, 'me': 1, 'whoever': 1, 'still': 1, 'this': 1, 'my': 2, 'that': 1, 'a': 2, 'I': 6, 'When': 1, 'morning': 1, 'on': 2, 'Fry': 1, 'personal': 2, 'airtime': 1, 'banned': 1, '!': 1}\n",
      "{'Tracy': 1, 'r/breakingbad': 1, '’': 1, '.': 2, 'for': 1, 'scenes': 1, 'back': 1, 'Liberty': 1, 'done': 1, 'favorite': 1, 'of': 1, 'more': 1, \"'s\": 1, 'subreddit': 1, 'better': 1, 'coming': 1, 'the': 2, 'licking': 1, 'was': 1, 'My': 1, 'it': 1, 'They': 1, 'show': 1, 'finale': 1, 'to': 1, 'Mosby': 1, ',': 1, 'moment': 1, 'Much': 1, 'then': 1, 'these': 1, 've': 1, 'Loved': 1, 'Professor': 1, 'Watching': 1, 'awesome': 1, 'Victoria': 1, 'Bell': 1, '?': 1, 'this': 2, 'should': 1, 'a': 1, 'than': 1, 'This': 1, 'on': 1, 'HIMYF': 1, 'Saw': 1}\n",
      "{'Date': 1, 'all': 1, 'for': 2, 'Met': 1, 'took': 1, 'wears': 1, 'the': 1, '[': 1, 'internet': 1, 'table': 1, 'Mike': 1, 'Truth': 1, 'Michael': 1, 'The': 2, 'gon': 1, 'numbers': 1, 'my': 2, 'kind': 1, 'a': 1, 'his': 2, 'not': 2, 'while': 1, 'read': 1, 's': 2, 'make': 1, 'power': 1, 'THE': 1, 'crunching': 1, 'of': 4, 'but': 1, 'play': 1, 'as': 2, '“': 2, 'Decided': 1, 'incredibly': 1, 'Scott': 1, 'juggle': 1, 'Steve': 1, 'Office': 1, 'in': 3, ':': 1, 'stock': 1, 'Jimothy': 1, 'accountant': 1, 'at': 1, 'everything': 1, 'Should': 1, 'without': 1, 'and': 1, 'na': 1, 'Kevin': 1, 'Which': 1, 'poker': 1, 'day': 1, 'G': 1, 'All': 1, 'it': 1, 'call': 1, '...': 2, 'Netflix': 2, 'say': 1, 'die': 1, 'you': 2, 'state': 1, 'balls': 1, 'to': 5, ',': 2, ']': 1, 'Dwight': 1, 'use': 1, '”': 2, 'actually': 1, 'an': 1, 'person': 1, 'job': 1, '’': 2, '.': 7, 'first': 1, 'glasses': 1, 'was': 2, 'taken': 1, 'right': 1, 'meet': 1, 'hilarious': 1, 'Deangelo': 1, 'Oscar': 1, 'today': 1, 'talents': 1, 'It': 1, 'Day': 1, 'Carell': 1, '?': 2, 'reading': 1, 'I': 2, 'is': 3, 'Snapshot': 1, 'nice': 1, 'just': 1, 'one': 2, '2021': 1}\n",
      "{'Chandler': 2, 'title': 1, 'quality': 1, 'Daryl': 1, 'earlier': 1, 'Next': 1, 'the': 2, '[': 2, 'surprised': 1, 'your': 2, 'did': 1, 'Uncle': 1, 'show': 1, 'realize': 1, 'TFW': 1, 'New': 1, 'me': 1, 'his': 2, 'i': 1, 'Lincoln': 1, '!': 4, 'decay': 1, 'Riggs': 2, 'A': 1, 'Con': 1, 'of': 1, 'season': 1, \"'s\": 1, 'doctor': 1, 'throwbacks': 1, 'sent': 1, 'party': 1, 'like': 1, 'when': 1, 'corresponds': 1, 'underwear': 1, 'at': 2, '4/20': 1, 'SPOILERS': 1, 'time': 1, 'Self': 1, 'celebrating': 1, 'NEGAN': 1, 'does': 1, 'picture': 1, 'LOVE': 1, 'graduation': 1, '&': 1, 'it': 1, '...': 1, 'you': 1, 'TV': 1, 'turn': 1, 'level': 1, 'to': 3, ',': 2, ']': 2, 'love': 1, 'Comic': 1, 'eat': 1, 'an': 1, 'Alright': 1, '.': 5, 'York': 1, 'Rick': 1, 'Andrew': 1, 'writing': 1, 'My': 2, 'prosthesis': 1, 'Cosplay': 1, 'Carl': 1, '2017': 1, \"'\": 1, '/u/DubstepCheetah': 1, 'this': 3, 'drawing': 1, 'I': 2, 'cosplay': 1, '``': 1, \"''\": 1}\n",
      "{'stop': 2, 'Resell': 1, 'vote': 1, 'all': 2, 'for': 2, 'video': 1, 'forget': 1, 'gut': 1, 'them': 2, 'dropped': 1, 'Tickets': 1, 'teachers': 1, 'about': 1, 'last': 1, 'BOTS': 1, 'singer': 1, 'by': 1, 'extra': 1, 'now': 1, 'the': 5, 'any': 1, 'show': 1, 'Rapper': 1, 'Maiden': 1, 'Shout': 1, 'night': 1, 'The': 4, 'kill': 1, 'off': 1, 'my': 1, 'a': 5, 'allowing': 1, 'with': 1, 'Crue': 1, 'AC/DC': 1, 'us': 1, 'big': 1, 'not': 1, 's': 3, 'radio': 1, 'Congress': 1, 'starting': 1, 'Devil': 1, 'replaced': 1, 'sites': 1, 'phone': 1, 'of': 6, \"'s\": 1, 'Only': 1, 'music': 1, 'President': 1, '“': 3, 'Chicago': 1, 'Motley': 1, 'album': 1, '7th': 1, 'year': 1, 'rock': 1, 'in': 1, 'justified': 1, 'let': 1, 'Hell': 1, 'Eminem': 2, '-': 2, 'at': 2, 'Celebrates': 1, 'out': 1, 'Highway': 1, 'ISPs': 1, 'R': 1, 'aged': 1, 'Illegal': 1, 'without': 1, 'rules': 1, 'and': 3, 'away': 1, 'Iron': 1, 'Brown': 2, 'Chance': 1, 'also': 1, '40': 1, 're': 1, 'Which': 1, 'day': 1, 'Makes': 1, 'neutrality': 2, 'Dec': 1, 'apps': 1, 'Christian': 1, 'access': 1, 'Number': 1, 'games': 1, 'old': 1, '2016': 1, 'awards': 1, 'Bennington': 1, 'calls': 1, 'to': 9, ',': 5, 'Years': 1, '10': 1, 'complete': 1, 'FCC': 2, 'midnight': 1, 'charge': 1, 'love': 1, 'we': 1, 'promo': 1, '”': 2, 'expected': 1, 'Sobriety': 1, 'Obama': 1, 'Chris': 2, '’': 4, '.': 8, 'We': 1, 'Buy': 1, 'nowhere': 1, 'passes': 1, 'steals': 1, 'Act': 1, 'station': 1, 'Signed': 1, 'announce': 1, 'from': 1, 'Bots': 1, 'Park': 1, 'new': 2, 'right': 1, 'can': 1, 'protesting': 1, 'focus': 1, '41': 1, 'nationwide': 1, 'Linkin': 1, 'It': 1, 'Signs': 1, 'net': 2, 'Thanksgiving': 1, 'Kelly': 1, 'With': 1, 'before': 1, 'pile': 1, 'that': 1, 'fees': 1, 'is': 4, 'Beast': 1, 'on': 2, \"''\": 1, 'just': 1, 'Kamikaze': 1, 'burst': 1, 'especially': 1, 'shit': 1, 'Chester': 1}\n",
      "{'some': 1, 'gets': 1, 'Wants': 1, 'for': 1, 'scenes': 1, 'Carrie-Anne': 1, 'Lana': 1, 'here': 2, 'people': 1, 'the': 6, 'Leo': 1, 'Tom': 1, 'ago': 1, 'Hey': 1, 'Water': 1, 'Wachowski': 1, 'The': 5, 'film': 1, 'Remake': 1, 'be': 1, 'my': 2, 'a': 2, 'Thing': 1, 'Terminator': 1, 'shots': 1, '!': 2, '$': 1, 'Of': 1, 'One': 2, '3': 1, 'billion': 1, 'Gunn': 1, 'Superhero': 1, 'official': 1, 'of': 3, 'Google': 1, '95': 1, 'Officially': 1, 'as': 1, 'Rogers': 1, 'when': 1, \"'Joker\": 1, 'see': 2, 'wanted': 1, 'Comics': 1, 'Hanks': 1, 'Keanu': 1, 'gross': 1, ':': 1, 'Shape': 1, 'James': 1, 'Enjoy': 1, 'years': 1, 'Senate': 2, 'Lee': 1, '-': 1, 'at': 1, 'Friend': 1, 'out': 1, 'came': 1, 'Are': 1, 'Disney': 1, 'and': 1, 'Reinstates': 1, 'Unites': 1, 'For': 1, 'Reddit': 1, 'No': 1, 'becomes': 1, 'worldwide': 1, 'behind': 1, 'Princess': 1, 'Reeves': 1, 'it': 1, 'Upvote': 1, 'Go': 1, 'Mister': 1, 'Galaxy': 1, 'to': 3, ',': 5, 'Real-Life': 1, 'World': 1, 'set': 1, 'Bride': 1, 'everyone': 1, 'Marvel': 1, 'so': 1, 'Stan': 1, '’': 2, '.': 4, 'first': 2, 'are': 1, 'Dies': 1, '35': 1, 'they': 1, 'R-rated': 1, \"'You\": 1, 'My': 1, '‘': 2, 'new': 1, 'community': 1, 'Oscar': 1, 'Matrix': 1, 'With': 1, \"'\": 3, 'this': 1, '4': 1, 'that': 1, 'I': 1, '``': 1, 'Director': 1, 'Moss': 1, 'Guardians': 1, 'Guillermo': 1, 'on': 2, \"''\": 1, 'movie': 1, 'personal': 1, 'artwork': 1, '1': 1}\n",
      "{'$': 1, '.': 4, 'tried': 1, 'for': 1, 'Cross': 1, 'brag': 1, 'haha': 1, '20': 1, 'day': 1, 'Potter': 1, 'share': 1, 'sale': 1, 'asked': 1, 'of': 1, 'scored': 1, 'thought': 1, \"'d\": 1, 'here': 1, 'from': 1, 'wizard': 1, 'garage': 1, 'He': 1, 'So': 1, 'King': 1, 'it': 3, 'Thanks': 1, 'was': 1, 'i': 1, '2': 2, 'Fine': 1, 'nobody': 1, 'came': 1, 'tweet': 1, 'when': 1, 'Harry': 1, 'wants': 1, 'roasting': 1, 'to': 3, 'adore': 1, ',': 2, 'model': 1, 'Kings': 1, 'Nobody': 1, 'made': 1, 'Weasley': 1, 'fan': 1, 'set': 1, 'and': 1, 'this': 3, 'hear': 1, 'calmly': 1, 'a': 3, 'morning': 1, 'I': 5, 'Sunday': 1, '``': 1, 'is': 1, 'whole': 1, 'Snape': 1, 'true': 1, 'so': 1, 'absolute': 1, 'an': 1, 'not': 1, \"''\": 1, 'cares': 1, 'Azkaban': 1, 'our': 1, '!': 1}\n",
      "{'pencil': 1, 'ever': 1, 'role': 1, 'Death': 1, 'Star': 1, 'homework': 1, 'Someone': 1, 'the': 4, '[': 1, 'your': 1, 'did': 1, 't': 1, 'aka': 1, 'The': 2, 'suffering': 1, 'user': 1, 'my': 1, 'what': 1, 'a': 4, 'with': 1, 'central': 1, '!': 4, 'Maul': 1, 'heart': 1, 'Theory': 1, 'Cantina': 1, 'trained': 1, 'Darth': 1, 'of': 3, 'Made': 1, 'Ray': 1, \"'s\": 1, 'Fisher': 1, 'best': 1, 'Mark': 1, 'play': 1, 'like': 1, 'posters': 1, 'TIL': 1, 'Got': 1, 'figured': 1, 'in': 1, 'Hamill': 1, 'Actually': 1, '-': 1, 'x+4': 1, 'at': 1, 'after': 1, 'Sith': 1, 'out': 1, 'dies': 1, 'started': 1, 'if': 1, 'and': 3, 'attack': 1, 'Instead': 1, 'records': 1, 'would': 1, 'it': 3, '...': 2, 'doing': 1, 'between': 1, 'Reimagined': 1, 'knowing': 1, 'book': 1, 'to': 1, 'wedding': 1, ',': 3, ']': 1, 'unhear': 1, 'Jar': 2, 'collaborator': 1, 'SW': 1, 'Binks': 1, '’': 1, '.': 5, 'Theme': 1, 'Obi-Wan': 1, 'world': 1, 'will': 1, 'photo': 1, 'She': 1, 'He': 1, 'was': 3, 'Park': 1, 'instrument': 1, '2020': 1, 'Awakens': 1, 'math': 1, 'It': 2, 'Best': 2, '60': 2, 'Still': 2, 'Vader': 1, 'Guinness': 1, '?': 1, 'Carrie': 1, 'Force': 2, 'I': 2, 'couldn': 1, 'is': 1, 'on': 1, 'one': 1, 'sound': 1, 'Fight': 1}\n",
      "{'na': 1, '.': 9, 'fans': 1, 'lose': 1, 'Awesome': 1, 'ever': 1, 'for': 2, 'top': 1, 'wearing': 1, 'over': 1, 'DJs': 1, 'current': 1, 'down': 1, 'feet': 1, 'stuff': 1, 'post': 1, 'Daft': 1, 'Spade': 1, \"'s\": 1, 'She': 1, 'here': 1, 'themselves': 1, 'from': 2, 'the': 2, 'Haha': 1, 'how': 1, 'ha': 1, '(': 1, 'tweet': 1, 'had': 1, 'right': 1, 'artist': 1, 'Punk': 1, '4000': 1, 'hug': 1, 'race': 1, 'stood': 1, 'Girlfriend': 1, ',': 1, 'Lotus': 1, 'The': 1, '10': 1, 'im': 1, 'gon': 1, 'local': 1, 'custom': 2, 'Best': 1, 'made': 1, ':': 1, 'Monaco': 1, 'outfit': 1, 'snuck': 1, 'Christmas': 1, 'me': 1, 'upvotes': 1, 'this': 2, 'a': 2, 'gorgo': 1, 'Diplo': 1, 'at': 1, 'with': 1, 'F1': 1, 'That': 1, 'on': 2, 'I': 1, 'than': 1, 'imgur': 1, 'just': 2, 'duo': 1, 'leave': 1, 'less': 1, 'David': 1, 'and': 1, '!': 2}\n",
      "{'Humble': 1, 'Kendrick': 1, 'dead': 1, 'XXXTentacion': 1, 'Miller': 1, 'Childish': 1, 'West': 1, 'Wayne': 1, '21': 1, 'Dead': 1, 'Lamar': 1, 'THE': 1, '26': 1, 'ye': 1, 'Lil': 1, 'Carter': 1, 'Savage': 1, 'Kamikaze': 1, 'T': 1, 'by': 1, 'Single': 1, 'arrested': 1, '[': 7, 'ICE': 1, '(': 3, 'Diss': 2, 'Killshot': 1, 'Drake': 1, 'OF': 1, 'Story': 1, 'Developing': 1, 'America': 1, ')': 3, 'Gambino': 1, ']': 7, 'STORY': 1, 'Kanye': 1, ':': 1, 'Tha': 1, 'be': 1, '?': 1, 'Eminem': 2, 'ADIDON': 1, 'FRESH': 6, '-': 6, 'at': 1, 'ALBUM': 3, 'This': 1, '``': 1, 'MGK': 1, 'Pusha': 1, 'Is': 1, 'V': 1, \"''\": 1, 'might': 1, 'Mac': 1}\n",
      "{'some': 1, '20': 1, 'titties': 1, 'about': 1, 'seems': 1, 'no': 1, 'people': 1, 'the': 3, 'Kaguya-sama': 1, '[': 1, 'did': 1, '(': 2, 'Season': 1, 'be': 1, 'aerodynamic': 1, 'a': 2, 'Yaiba': 1, 'not': 1, 'Nishiya': 1, 'Animation': 1, '!': 1, 'Voice': 1, 'later': 1, 'A': 1, 'See': 1, 'prove': 1, 'segment': 1, 'Shinobu': 1, '2': 1, 'Futoshi': 1, 'styles': 1, 'moment': 1, 'in': 2, ':': 2, 'S2': 1, 'through': 1, 'Kyoto': 1, 'whether': 1, 'within': 1, 'at': 1, 'madlad': 1, 'out': 1, 'PSA': 1, 'who': 1, 'thank': 1, 'and': 2, 'away': 1, 'using': 1, 'announced': 2, 'went': 1, 'several': 1, 'studio': 1, 'fire': 2, 'would': 1, 'Short': 1, 'it': 1, 'research': 1, '...': 2, 'same': 1, 'Do': 1, 'had': 1, \"n't\": 1, 'enter': 1, 'you': 2, 'crunchyroll.com': 1, 'been': 1, 'to': 2, 'Source': 1, ',': 3, ']': 1, 'Zero': 1, 'passed': 1, 'injured': 1, 'ahead': 1, 'anime': 1, 'paper': 1, '.': 4, 'or': 1, 'ad': 1, 'are': 1, 'they': 1, 'drew': 1, 'Lucoa': 1, 'from': 1, 'Silent': 1, 'So': 2, 'My': 1, 'Anime': 1, 'KyoAni': 2, 'Re': 1, ')': 2, 'Kimetsu': 1, 'wrote': 1, 'runs': 1, 'this': 1, 'break': 1, 'were': 1, 'that': 1, 'I': 2, 'hacked': 1, '``': 1, \"'ve\": 1, 'nice': 1, \"''\": 1}\n",
      "{'DC': 1, 'hope': 2, 'for': 1, 'about': 1, 'X-Man': 1, 'Representation': 1, 'optimism': 1, 'by': 1, 'means': 1, 'people': 1, 'the': 3, 'future': 1, '[': 1, 'Punisher': 2, 'did': 2, '(': 1, '13': 1, 'ago': 1, 'Twitter': 1, 'The': 1, 'relevant': 1, 'me': 1, 'still': 1, 'what': 1, 'a': 2, 'his': 1, 'with': 1, 'nearly': 1, 'cover': 1, 'Rogue': 1, '1950s': 1, 'In': 1, 'but': 1, 'common': 1, \"'s\": 1, 'as': 2, 'excitement': 1, 'Superman': 4, 'cops': 1, ':': 2, 'Reynolds\\u200f': 1, 'years': 1, '-': 2, 'This': 1, 'has': 1, 'ComicsForJerks': 1, 'media': 1, 'without': 1, 'Old': 1, 'poster': 1, 'Ryan': 1, '80': 1, 'Fox': 1, 'it': 1, 'Punk': 1, 'to': 1, ',': 6, ']': 1, '70': 1, 'Powerful': 1, 'Bartel': 1, 'use': 1, 'so': 1, 'Saw': 1, '.': 3, 'Jen': 1, 'meta-message': 1, 'purchase': 1, '2018': 1, 'feels': 1, 'tweets': 1, 'social': 1, 'from': 1, 'was': 1, 'Jiménez': 1, 'There': 1, 'symbol': 1, ')': 1, 'today': 1, '#': 1, 'this': 2, 'that': 1, 'I': 2, '``': 2, 'is': 4, 'important': 1, 'on': 2, 'Jorge': 1, 'RIP': 1, \"''\": 2, 'just': 1, 'Chum': 1}\n",
      "{'wearing': 1, 'ever': 2, 'for': 1, 'collection': 1, 'last': 1, 'found': 1, 'the': 2, 'spent': 1, 'your': 1, 'meteorite': 1, 'sings': 1, 'Morty': 1, 'sad': 1, 'night': 1, 'Americans': 1, 'The': 1, 'Facebook': 1, 'off': 1, 'Your': 1, 'my': 4, 'a': 3, 'house': 2, 'while': 1, 'less': 1, 'make': 1, 'A': 1, 'terrible': 1, 'itself': 1, 'those': 1, \"'s\": 1, 'treasure': 1, 'parents': 1, 'Birthday': 1, 'response': 1, 'EPISODES': 1, 'Lego': 1, 'year': 1, 'million': 1, 'How': 1, 'room': 1, 'at': 1, 'has': 1, 'out': 1, 'Man': 1, 'who': 1, 'Mars': 1, 'and': 1, 'Swim': 1, 'announced': 1, 'rover': 1, '/': 1, 'Curiosity': 1, 'renewed': 1, 'robot': 1, 'quarter': 1, 'Downloading': 1, 'it': 1, 'how': 1, 'tables': 1, 'old': 1, 'MORE': 1, 'been': 1, 'next': 1, 'to': 2, 'Happy': 1, 'week': 1, 'Adult': 1, '70': 1, 'happening': 1, 'clearing': 1, 'North': 1, 'showing': 1, 'giant': 1, '.': 3, 'fight': 1, 'move': 1, 'Japan': 1, 'ditched': 1, 'Twitch': 1, 'Rick': 1, 'dress': 1, 'USA': 1, 'saying': 1, 'salute': 1, 'Saturday': 1, 'that': 1, 'I': 3, 'is': 1, 'on': 1, 'geekiest': 1, 'just': 1, '1': 1}\n",
      "{'Alfred': 1, '.': 2, '’': 2, 'x-post': 1, 'all': 1, 's': 2, 'One': 1, 'scenes': 1, 'In': 1, 'compels': 1, 'Damn': 1, 'forget': 1, 'cracked': 1, 'Batman': 2, 'favorite': 1, 'of': 3, \"'s\": 3, 'trilogy': 1, 'reveal': 1, 'their': 1, 'universe': 1, 'better': 1, 'names': 1, 'gun': 1, 'from': 1, 'the': 1, 'Badass': 1, '(': 1, '...': 1, 'introduction': 1, 'Truth': 1, 'up': 1, 'TV': 1, 'Two-Face': 1, '60s': 1, 'Superman': 1, 'r/oddlysatisfying': 1, 'Parenting': 1, 'to': 1, 'art': 1, ')': 1, 'The': 1, 'in': 1, 'series': 1, 'Nolan': 1, 'Lasso': 1, 'Let': 1, 'me': 1, 'my': 1, 'that': 1, 'a': 1, 'alternate': 1, 'Joker': 1, '101': 1, 'This': 1, 'That': 1, 'powder': 1, 'an': 1, 'not': 1, 'time': 1, 'and': 2, '!': 1}\n",
      "{'gets': 1, 'uncle': 1, 'proper': 1, 'all': 1, 'for': 3, 'about': 1, 'by': 1, 'Ozai': 1, 'people': 1, 'coming': 1, 'the': 2, 'If': 1, '[': 1, 'appear': 1, 'wrong': 1, 'Joo': 1, 'Iroh': 1, 'tumblr': 1, 'The': 3, 'realize': 1, 'Toph': 1, 'series': 1, 'creation': 1, 'Airbender': 3, 'be': 1, 'my': 1, 'a': 3, 'live': 1, 'with': 2, 'not': 1, 'i': 1, '!': 4, 'Misinformed': 1, 'search': 1, 'Last': 3, 'A': 1, 'Can': 1, 'of': 1, 'but': 1, 'Google': 1, 'their': 1, '“': 1, 'Grabbed': 1, 'when': 1, 'wanted': 1, 'Brought': 1, 'Movie': 2, ':': 1, 'government': 1, 'definitely': 1, 'This': 1, 'Azula': 1, 'has': 1, 'live-action': 1, 'and': 2, 'ATLA': 2, 'Dee': 1, 'ranked': 1, 'fire': 1, 'insight': 1, 'it': 1, 'Netflix': 1, 'hits': 1, 'you': 3, 'been': 1, 'Avatar': 1, 'to': 3, ',': 3, 'Just': 1, ']': 1, 'need': 1, 'upvotes': 1, 'home': 1, 'meme': 1, '”': 1, 'an': 1, 'enough': 1, 'job': 1, '’': 1, '.': 3, 'lives': 1, 'move': 1, 'first': 1, 'We': 1, 'share': 1, 'they': 1, 'will': 2, 'action': 1, 'lot': 1, 'from': 1, 'was': 1, 'My': 1, 'Chinese': 1, 'new': 2, 'mistaken': 1, 'lord': 1, 'm': 1, 'this': 3, 'reimagined': 1, 'that': 1, 'I': 1, 'cosplay': 2, '``': 1, 'is': 1, 'on': 2, \"'ve\": 1, \"''\": 1, 'movie': 1}\n",
      "{'hard': 1, 'Rasengan': 1, 'Naruto': 1, 'Might': 1, 'got': 2, 'audience': 1, 'principal': 1, 'the': 3, '[': 1, 'your': 1, 'headband': 1, 'going': 1, 'anyway': 1, 'traps': 1, 'kill': 1, 'my': 3, 'a': 2, 'his': 1, 'with': 1, 'Village': 1, '!': 2, 'lose': 1, 'naruto': 1, 'Chapter': 1, 'serious': 1, 'of': 1, 'Tsukuyomi': 1, 'Stylebender': 1, 'END': 1, 'Kakashi': 1, \"'m\": 1, 'Infinite': 1, 'mother': 1, 'save': 1, 'in': 1, '-': 1, 'at': 1, 'This': 1, 'and': 1, 'Kendrick': 1, 'Guy': 1, 'Lamar': 1, 'graduation': 1, '&': 1, 'it': 1, 'doing': 1, '700': 1, 'JuJu': 1, 'Jutsu': 1, 'to': 3, 'finished': 1, ',': 4, 'Just': 1, ']': 1, 'we': 1, 'wear': 1, 'so': 1, '.': 3, 'fight': 1, 'Scoob': 1, 'round': 1, 'ta': 1, 'Discussion': 1, 'Why': 1, 'are': 1, 'because': 1, 'summon': 1, '699': 1, 'Fan': 1, 'Links': 1, 'chemotherapy': 1, 'inner': 1, 'animated': 1, 'flies': 1, 'dyed': 1, 'hair': 1, '?': 1, 'before': 1, 'Like': 1, 'When': 1, 'I': 3, 'is': 2, \"'ve\": 1, 'Leaf': 1, 'channeling': 1, '1': 1}\n",
      "{'all': 3, 'Potter': 1, 'Dark': 1, 'fulfillment': 1, 'her': 1, 'Star': 1, 'entire': 1, 'one': 1, 'the': 10, 'children': 1, '[': 4, 'your': 1, '(': 3, 'did': 1, 'masculinity': 1, 'worst': 1, 'other': 1, 'Charlie': 2, 'never': 1, 'Infinity': 2, 'The': 3, 'Ticket': 1, 'New': 1, 'character': 2, 'be': 1, 'a': 3, 'his': 3, 'with': 1, 'not': 1, 'Each': 1, '!': 2, 'Aladdin': 1, 'Theory': 1, 'make': 1, 'In': 1, 'fact': 1, 'War': 2, 'weapon': 1, 'given': 1, '1987': 1, 'reason': 1, 'Darth': 1, 'of': 5, 'used': 2, \"'s\": 1, 'give': 1, 'as': 1, 'Rogers': 1, 'lines': 1, 'like': 1, 'Harry': 1, 'Wars': 1, 'Steve': 1, 'Granger': 1, 'punishment': 1, 'in': 4, 'reward': 1, 'able': 1, ':': 4, 'except': 1, 'swagger': 1, 'defeated': 1, 'dies': 1, 'SPOILERS': 1, 'who': 1, 'and': 2, 'Major': 1, 'does': 1, 'corny': 1, 'Golden': 1, 'Hermione': 1, 'alien': 1, 'purpose': 1, '2nd': 1, 'befitting': 2, 'how': 1, '...': 2, 'you': 1, 'he': 2, 'Not': 1, 'Willy': 3, 'to': 4, 'Curse': 1, ',': 1, ']': 4, 'love': 1, 'Wonka': 3, 'simply': 1, 'so': 1, 'Ron': 1, 'might': 1, 'factory': 1, 'man': 2, '.': 8, 'resist': 1, 'Spoilers': 2, 'Imperius': 1, 'him': 1, 'first': 1, 'Predator': 1, 'Why': 1, 'change': 1, 'are': 1, 'half': 1, 'tries': 1, 'once': 1, 'was': 5, 'greatest': 1, 'fall': 1, ')': 3, 'gave': 1, 'It': 1, 'Weasley': 1, '1971': 2, 'Vader': 1, \"'\": 1, 'this': 1, 'Thanos': 2, 'each': 1, '``': 1, 'on': 2, 'manner': 1, 'Avengers': 1, \"''\": 1, 'wish': 1, 'movie': 2, 'just': 1}\n",
      "{'for': 1, 'cab': 1, 'damn': 1, 'took': 1, 'the': 5, 'did': 1, 'help': 1, 'Gas': 1, 'ads': 1, 'The': 1, 'supposed': 1, 'guy': 1, 'Lake': 1, 'Christmas': 1, 'me': 2, 'Eve': 1, 'be': 1, 'my': 2, 'what': 1, 'a': 3, 'his': 1, 'with': 1, 'shots': 1, 'plans': 1, 'cover': 1, '!': 1, 'EA': 1, 's': 3, 'son': 1, 'refused': 1, 'Louise': 1, 'every': 1, 'excited': 1, 'of': 3, 'told': 1, 'but': 1, 'gen': 1, 'Google': 1, \"'s\": 1, 'calendar': 1, 'delivered': 1, 'offered': 1, 'controller': 1, 'cigarette': 1, 'see': 1, 'measures': 1, 'conversation': 1, 'made': 1, ':': 1, 'let': 1, 'at': 1, 'after': 1, 'customer': 1, 'out': 1, 'time': 1, 'and': 2, 'driver': 1, 'panorama': 1, 'Reddit': 1, 'mailroom': 1, 'd': 2, 'few': 1, 'takes': 1, 'apartment': 1, 'it': 1, '...': 1, 'worker': 1, 'he': 1, 'next': 1, 'to': 4, ',': 1, 'Front': 1, 'label': 1, 'package': 1, 'so': 1, 'an': 1, 'get': 2, '’': 5, '.': 5, 'put': 1, 'him': 1, 'These': 1, 'Page': 1, 'share': 1, 'are': 1, 'station': 1, 'world': 1, 'will': 1, 'photo': 1, 'Printers': 1, 'was': 1, 'My': 1, 'have': 1, 'precautionary': 1, 'tonight': 1, 'today': 1, 'It': 1, 'email': 1, 'this': 2, 'that': 1, 'I': 6, 'there': 1, 'Guardians': 1, 'on': 1, 'Immigrants': 1, 'UPDATE': 1, 'announces': 1, 'one': 1}\n",
      "{'short': 1, 'for': 3, 'them': 1, 'Then': 1, 'cents': 1, 'last': 1, 'benefits': 1, 'bar': 1, 'free': 1, 'the': 2, 'If': 1, 'Scumbag': 1, 'its': 1, 'silence': 1, 'Was': 1, 'night': 2, 'taco': 3, 'culture': 1, 'ca': 1, 'sue': 1, 'me': 2, 'my': 1, 'laughed': 1, 'a': 5, 'with': 1, 'third': 1, 'us': 1, '!': 1, 'stand': 1, 's': 1, 'Indiana': 1, 'Protesting': 1, 'pop': 1, 'someone': 1, 'of': 2, 'but': 1, 'Election': 1, 'Tried': 1, 'response': 1, 'Please': 1, 'problems': 1, 'Seriously': 1, 'in': 4, 'lying': 1, 'let': 2, 'at': 1, 'has': 1, 'Because': 1, 'out': 1, 'school': 1, 'could': 1, 'who': 1, 'causing': 1, 'and': 1, 'gays': 1, 'sometimes': 1, 'bad': 1, 'sit': 1, 'Ajit': 1, 'Verizon': 1, 'only': 1, 'staying': 1, 'it': 2, '...': 1, \"n't\": 1, 'spread': 1, 'to': 3, 'America': 1, ',': 2, 'Fair': 1, 'we': 2, 'word': 1, 'many': 1, 'Overheard': 1, '’': 1, '.': 6, 'bedtime': 1, 'want': 1, 'they': 2, 'have': 1, 'new': 1, 'nearby': 1, 'today': 1, 'second': 1, 'gave': 1, 'Sometimes': 1, 'Ok': 1, 'look': 1, '?': 1, 'were': 1, 'that': 1, 'I': 1, '25': 1, '``': 1, 'touch': 1, 'said': 1, \"''\": 1, 'just': 1, 'Pai': 1}\n",
      "{'dad': 1, 'feel': 1, '.': 2, 'for': 1, 'telepathy': 1, 'rage': 1, 'about': 1, 'E.T': 1, 'her': 1, 'judging': 1, 'more': 1, 'campaign': 1, \"'s\": 2, 'one': 1, 'doctor': 1, 'only': 1, 'the': 2, 'described': 1, 'as': 1, 'My': 1, 'President': 1, '(': 1, 'show': 1, 'new': 1, \"'eccentric\": 1, 'GP': 1, \"'m\": 1, 'been': 1, 'House': 1, 'mother': 1, ')': 1, 'The': 1, 'Hallelujah': 1, 'Twin': 1, 'entertaining': 1, 'It': 1, 'watch': 1, 'Watching': 1, 'ashamed': 1, \"'\": 1, 'my': 1, 'a': 1, 'than': 1, 'I': 2, 'Obama': 1, 'is': 1, 'ring': 1, 'has': 1, 'so': 1, 'not': 1, 'time': 1, 'solution': 1, 'poster': 1, '!': 1}\n",
      "{'trip': 1, 'attack': 1, '.': 1, 'gets': 1, 'message': 1, 'noob': 1, 'moderators': 1, 'discovers': 1, 'for': 1, 'bargained': 1, 'ISIS': 1, 'Anon': 3, 'field': 1, 'Brazil': 1, 'Second': 1, 'serious': 1, 'A': 1, 'of': 2, 'more': 1, 'decides': 1, 'from': 1, 'the': 1, 'she': 1, 'question': 1, 'up': 1, 'IS': 1, 'LIBRARY': 1, 'to': 1, 'screw': 1, 'rekt': 1, 'lol': 1, 'Melania': 1, '10': 1, 'THIS': 1, '4chan': 1, 'git': 1, 'Korea': 1, 'years': 1, 'Trump': 1, 'a': 2, 'than': 1, 'has': 2, '/r/4chan': 1}\n",
      "{'vote': 1, 'for': 1, 'fixed': 1, 'fix': 2, 'them': 3, 'meantime': 1, 'one': 1, 'people': 1, 'the': 2, 'If': 2, '(': 1, 'show': 2, 'do': 1, 'help': 2, 'Words': 1, 'making': 1, 'please': 1, 'be': 1, 'me': 1, 'what': 1, 'a': 2, 'not': 1, 'our': 1, 'EA': 1, 'search': 1, 'successful': 1, 'shame': 1, 'Last': 1, 'A': 1, 'official': 1, 'but': 1, 'Google': 2, \"'s\": 3, 'subreddit': 1, 'as': 1, 'Arts': 1, 'when': 3, 'see': 1, 'up': 4, 'interracial': 1, 'Business': 1, 'in': 2, 'Images': 1, 'Stephen': 1, 'at': 1, 'logo': 1, 'joke': 1, 'everything': 1, 'headlines': 1, 'account': 1, 'if': 1, 'Their': 2, 'picture': 1, 'Ajit': 1, 'Pai': 1, 'public': 1, 'gay': 1, 'r*pe': 1, 'Official': 1, 'image': 1, 'it': 5, 'removed': 1, 'Upvote': 1, 'call': 1, \"n't\": 1, 'surely': 1, 'you': 4, 'to': 1, ',': 3, 'Whale': 1, 'shows': 1, 'Putin': 2, 'number': 1, 'reposting': 1, 'usual': 1, 'Hawking': 1, 'Stranded': 2, 'so': 2, '.': 15, 'result': 1, 'Comcast': 1, 'they': 2, 'will': 3, \"'d\": 1, 'upvote': 2, 'from': 1, 'was': 1, 'have': 1, 'Shh': 1, 'Logo': 1, 'There': 1, 'twitter': 1, ')': 1, 'became': 1, 'today': 1, 'porn': 1, 'Electronic': 1, 'With': 1, '#': 1, 'Let': 2, 'google': 3, 'look': 1, 'this': 4, 'that': 5, '``': 3, 'is': 3, 'on': 2, 'RIP': 1, \"''\": 3, 'continue': 1, 'yet': 1, 'whale': 1, 'Vladimir': 2}\n",
      "{'dont': 1, 'Guy': 1, 'Mad': 1, '.': 3, 'or': 1, 'went': 1, 'search': 1, 'damn': 1, 'Gets': 1, 'Color': 2, 'A': 1, 'will': 1, 'upvote': 1, 'Google': 1, 'give': 1, 'delivered': 1, 'people': 1, 'If': 1, 'was': 1, '13': 1, 'it': 3, 'response': 1, 'again': 1, 'show': 1, 'bus': 1, 'had': 1, 'BBC': 1, 'Fuck': 1, 'you': 2, 'when': 2, \"'m\": 1, 'up': 1, 'sausages': 1, 'anyway': 1, ',': 4, 'bringing': 1, 'It': 1, 'fair': 1, 'lass': 1, 'Me': 1, 'News': 1, 'this': 2, 'my': 1, 'a': 1, 'at': 1, 'I': 4, 'This': 1, 'Graffiti': 1, 'on': 1, 'Blue': 4, 'and': 1, '!': 1}\n",
      "{'cut': 1, 'gets': 2, 'top': 1, 'for': 3, 'them': 2, 'mods': 1, 'caught': 1, 'took': 1, 'nanny': 1, 'people': 3, 'the': 4, 'If': 2, 'appear': 1, 'internet': 2, '<': 2, '(': 1, 'show': 1, 'Yeah': 1, 't': 1, 'become': 1, '[': 10, '3yrs': 1, 'having': 1, 'Hey': 1, 'culture': 1, 'may': 2, 'sister': 1, 'end': 1, 'guy': 1, '100/hr': 1, 'sign': 1, 'user': 1, 'off': 2, 'too': 1, 'my': 3, 'bird-themed': 1, 'a': 3, 'with': 1, 'points': 2, 'something': 1, 'George': 2, '81M': 1, 'not': 1, 'our': 1, '$': 2, 'moderators': 1, 'make': 1, 'shitting': 1, 'videos': 1, 'serious': 1, 'existed': 1, '19F': 2, 'of': 3, \"'s\": 1, 'jerking': 2, 'Valentines': 1, 'literally': 1, 'subreddit': 2, 'know': 1, 'adopt': 1, 'Upjackdaws': 1, 'things': 1, 'Swedish': 1, 'up': 1, 'Washington': 2, 'in': 2, 'Upvotes': 1, 'created': 1, '107F': 1, 'Youtube': 1, 'therapy': 1, '-': 2, 'at': 1, 'This': 1, 'has': 1, 'out': 1, 'globally': 1, 'time': 1, 'Should': 1, 'if': 2, 'and': 4, 'bad': 1, 'Reddit': 2, 'ban': 1, 'marriage': 1, '2005': 1, 'father': 1, 'motel': 1, 'submission': 1, '2000': 1, '1658': 1, 'overnight': 1, 'it': 3, 'Number': 1, 'Upvote': 1, '...': 1, '40M': 1, 'you': 1, 'been': 1, 'didn': 1, 'to': 8, ',': 3, '1799': 1, ']': 10, 'fieri': 1, 'meaningless': 2, '/r/circlejerk': 1, '/r/Circlejerk': 1, '2hrs': 1, 'Give': 1, 'upmeatballs': 1, 'Today': 1, 'an': 3, '2,500': 1, 'get': 1, 'giving': 2, '.': 15, '’': 1, 'or': 3, 'think': 1, 'moderating': 1, '--': 1, 'receives': 1, 'will': 3, '40/n': 1, '9lbs': 1, 'post': 2, 'upvote': 2, 'orgy': 1, 'wife': 1, 'once': 1, 'from': 1, 'left': 2, 'was': 1, 'bags': 1, 'petition': 1, 'reddit': 3, 'died': 1, 'upfieris': 1, 'long': 1, ')': 1, 'Circlejerk': 1, 'today': 1, 'Day': 1, 'glorious': 1, '#': 1, '?': 2, 'this': 7, 'that': 1, 'try': 1, 'I': 3, 'is': 3, 'on': 1, 'shit': 1}\n",
      "{'.': 4, 'Hong': 1, 'dinner': 1, 'Be': 1, 'murica': 1, 'brother': 1, 'are': 1, 'No': 1, 'A': 1, 'Here': 1, 'of': 3, 'the': 1, 'as': 1, 'Birthday': 1, 'American': 1, 'internet': 1, 'portrait': 1, '...': 1, 'thinks': 1, 'Patriot': 2, 'Houston': 1, 'Mack': 1, 'meaning': 1, 'to': 2, 'America': 1, 'Happy': 1, 'step': 1, 'president': 1, 'The': 1, 'became': 1, 'yea': 1, ',': 1, '1st': 1, 'Kong': 1, 'we': 1, 'this': 1, 'my': 1, 'properly': 1, 'How': 1, 'Hero': 1, 'a': 1, 'Mattress': 1, 'I': 1, 'is': 1, 'freedom': 1, 'on': 1, '!': 1, 'Today': 1, 'an': 1, 'citizen': 1, 'our': 1, 'hell': 1}\n",
      "{'for': 1, 'her': 1, '24/7': 1, 'the': 7, 'wrong': 1, 't': 1, 'You': 1, 'do': 1, 'culture': 1, 'Does': 1, 'realize': 1, 'Vaxxers': 1, 'example': 1, 'be': 1, 'ending': 1, 'what': 1, 'a': 1, 'with': 1, 'work': 1, '😔': 1, 'To': 1, 'Donald': 1, 'Islands': 2, 'front': 1, 'life': 1, 'of': 7, 'happens': 1, \"'s\": 1, 'best': 1, 'Another': 1, 'antivax': 1, 'Japanese': 1, \"'re\": 1, 'walls': 1, 'proves': 1, 'in': 2, 'isn': 1, 'woman': 1, 'Net': 1, 'This': 1, 'whole': 1, 'has': 1, 'out': 1, 'peoples': 1, 'Virgin': 2, 'standing': 1, 'using': 1, 'Guy': 1, 'No': 1, 'it': 2, \"n't\": 2, 'Neutrality': 1, 'been': 1, 'decades': 1, 'he': 2, 'appropriating': 1, 'shill': 1, 'to': 1, ',': 2, 'president': 2, 'FCC': 1, 'Am': 1, '.': 6, '’': 1, 'dead': 1, 'accounts': 1, 'are': 2, 'because': 1, 'Why': 1, 'Media': 1, 'world': 1, 'Holiday': 1, 'Family': 1, 'right': 1, 'Breed': 1, 'met': 1, 'fair': 1, '?': 1, 'science': 1, 'Trump': 1, 'accused': 1, 'that': 5, 'I': 1, 'own': 1, 'is': 4, 'touch': 1, 'announces': 1, 'Anti': 1}\n",
      "{'Navy': 1, 'down': 1, 'about': 3, 'played': 2, 'the': 7, 'If': 1, 'your': 1, 'surprised': 1, 'did': 1, 'What': 1, 'two': 1, 'fools': 1, 'suicide': 1, 'The': 2, 'user': 1, 'a': 2, 'his': 1, 'Those': 1, 'commited': 1, 'detonating': 1, 'Gollum': 1, 'Everyone': 1, 'Martin': 1, 'Hawaii': 1, 'A': 1, 'bank': 1, 'of': 1, 'Election': 1, 'Bilbo': 1, 'inside': 1, 'Serkis': 1, 'in': 2, 'early': 1, 'warning': 1, 'Net': 1, 'morning': 1, 'Epstein': 1, 'has': 1, 'after': 1, 'who': 2, 'recruit': 1, 'Black': 1, 'Presidential': 1, 'and': 1, 'Ajit': 1, 'day': 1, 'United': 1, 'only': 1, 'submarine': 1, '2016': 1, 'thing': 1, '...': 2, 'say': 1, 'Neutrality': 1, 'you': 1, ',': 2, 'system': 1, 'hear': 1, 'actors': 1, 'bomb': 1, 'V': 1, 'white': 1, '.': 4, 'Flight': 1, 'first': 1, 'Jeffrey': 1, 'are': 1, 'mad': 1, 'Doctor': 1, 'Did': 1, 'new': 1, 'reddit': 1, 'Baggins': 1, 'US': 1, 'Panther': 1, 'Freeman': 1, 'Andy': 1, 'this': 1, '?': 2, 'that': 1, 'Calm': 1, 'malfunction': 1, 'is': 1, 'on': 2, 'Pai': 1}\n",
      "{'some': 1, 'tried': 1, 'for': 1, 'them': 2, 'sex': 1, 'about': 1, 'her': 4, 'hoped': 1, 'desired': 1, 'now': 1, 'the': 3, 'glue': 1, 'date': 1, 'your': 2, 'anything': 1, 'Tom': 1, 'You': 1, 'What': 1, 'do': 2, 'going': 1, 'having': 1, 'worst': 1, 'sad': 2, 'Wait': 1, 'never': 2, 'rotating': 1, 'The': 1, 'end': 1, 'ca': 1, 'minute': 1, 'be': 2, 'me': 1, 'unstoppable': 1, 'my': 1, 'decided': 1, 'what': 1, 'a': 1, 'forgave': 1, 'his': 4, 'with': 3, 'always': 1, 'big': 1, 'desperately': 1, '!': 2, 'fat': 1, 'rights': 1, 'affair': 1, 'make': 1, 'hide': 1, 'over': 1, 'but': 2, 'filled': 1, 'distraught': 1, 'those': 2, 'their': 1, 'know': 1, 'Jim': 1, 'give': 1, 'huh': 1, 'as': 1, 'knew': 2, 'things': 1, 'nobody': 1, 'like': 2, \"'m\": 1, 'Steve': 1, 'Bet': 1, 'thieves': 1, 'dummy': 1, 'Laura': 1, 'ahole': 1, 'stealthy': 1, 'larger': 1, 'let': 1, 'Net': 1, 'identity': 1, 'at': 1, 'This': 1, 'dies': 1, 'could': 1, 'profile': 1, 'Are': 1, 'random': 1, 'if': 2, 'colorblind': 1, 'feel': 1, 'No': 1, 'pleasure': 1, 'head': 1, 'would': 2, 'Look': 1, 'obsession': 1, 'catch': 1, 'how': 2, 'it': 3, 'thing': 1, 'same': 1, 'Do': 1, 'had': 1, \"n't\": 3, 'Neutrality': 1, 'you': 3, 'he': 5, 'to': 7, ',': 5, 'FCC': 1, 'objects': 1, 'use': 1, 'water': 1, 'so': 1, 'an': 1, 'enough': 1, 'Is': 1, 'clockwise': 1, '.': 10, 'vaping': 1, 'paint': 1, 'because': 1, 'are': 2, 'they': 1, 'will': 1, 'wife': 1, 'from': 1, 'one-time': 1, 'was': 2, 'she': 2, 'new': 1, 'damned': 1, 'bullies': 1, 'daughter': 1, 'finally': 2, 'As': 1, \"'\": 1, 'Fuckin': 1, '?': 4, 'this': 1, 'were': 1, 'that': 1, 'try': 1, 'kid': 2, 'own': 1, 'I': 2, 'is': 4, 'toy': 1, 'said': 1, 'treat': 1, 'Megan': 2, 'dumb': 1, 'began': 1}\n",
      "{'$': 1, 'against': 1, '.': 1, 'Fun': 1, 'Games': 1, 'Catalan': 1, 'In': 1, 'Gun': 1, 'Crimes': 1, '2018': 1, 'Violence': 1, 'America-': 1, \"'s\": 1, 'Official': 2, 'American': 1, 'problems': 1, 'Polandball': 2, 'World': 2, 'Problems': 1, 'It': 1, '2017': 1, 'humanity': 1, 'trust': 1, 'we': 1, 'Seasons': 1, 'Independence': 1, 'weden': 1, 'a': 1, 'Map': 2, 'match': 1, 'Assault': 1, 'Referendum': 1, 'and': 1, '!': 1}\n",
      "{'though': 1, 'Palace': 1, 'top': 1, 'MRW': 1, 'NZ': 1, 'her': 1, 'wo': 1, 'such': 1, 'here': 1, 'the': 1, '(': 1, 'wan': 1, 'stay': 1, 'going': 1, 'feminist': 1, 'sad': 1, 'husband': 1, 'The': 1, 'thrusting': 1, 'really': 1, 'me': 1, 'off': 2, 'be': 1, 'my': 2, 'reminders': 1, 'prime': 1, 'country': 1, 'a': 3, 'with': 1, 'plans': 1, 'not': 2, 'while': 1, 'our': 1, '!': 2, 'Everyone': 1, 'Hm': 1, 'dogs': 1, 'of': 1, 'but': 2, 'TOO': 1, 'know': 1, 'rocking': 1, \"'m\": 1, 'see': 1, 'up': 1, 'in': 1, 'wonderful': 1, ':': 1, 'let': 2, 'drop': 1, 'needs': 1, 'at': 1, 'This': 2, 'gunna': 1, 'Maori': 1, 'who': 2, 'and': 1, 'minister': 1, 'na': 1, 'Kendrick': 1, 'GOT': 1, 'pregnant': 1, 'pissed': 1, 'Women': 1, 'pleasure': 1, '✊♀️🥝': 1, 'YOU': 1, 'Sundays': 1, 'Buckingham': 1, 'doing': 1, \"n't\": 1, 'women': 1, 'to': 3, ',': 6, 'Just': 1, 'rhythm': 1, 'Julianne': 1, 'young': 2, 'home': 1, 'everyone': 1, 'Anna': 1, 'get': 1, 'dad': 1, '.': 7, 'unmarried': 1, 'Jacinda': 1, 'bf': 1, 'are': 3, 'refuse': 1, 'world': 1, 'more': 1, 'But': 1, 'partner': 1, 'badass': 1, 'smile': 1, 'she': 1, 'can': 1, ')': 1, 'runs': 1, 'With': 1, 'this': 3, 'that': 1, 'I': 3, 'is': 3, 'Men': 1, 'bones': 1, 'on': 1, 'just': 1, 'cloak': 1}\n",
      "{'’': 1, '.': 1, 'mohawk': 1, 'Reminisce': 1, 'Heroic': 1, 'ready': 1, 'Clean': 1, 's': 1, 'for': 1, 'Pause': 1, 'Granfalloon': 1, 'are': 1, 'Embrace': 1, 'of': 1, 'Squeaky': 1, 'the': 1, '[': 2, 'it': 2, 'They': 1, 'easy': 1, 'Immortality': 1, 'making': 1, ']': 2, 'comics': 1, 'OC': 2, 'that': 1, 'Misunderstanding': 1, 'not': 1, '!': 1}\n",
      "{'victims': 1, 'for': 3, 'shooter': 1, 'referees': 1, 'Louisiana': 1, 'by': 2, 'free': 1, 'stops': 1, 'the': 3, 'different': 1, 'did': 1, 'Mike': 1, 'golf': 1, 'falls': 1, 'into': 1, 'Out': 1, 'user': 2, 'Jeff': 1, 'dedicates': 1, 'a': 2, 'his': 1, 'being': 1, 'guard': 1, 'not': 1, 'Pence': 1, 'Keg': 1, 'yelled': 1, 'Donald': 1, 'loss': 1, 'walk': 1, 'eye': 2, 'pic': 2, 'of': 1, 'thought': 1, 'doctor': 1, 'suspends': 1, 'things': 1, 'President': 1, '“': 1, 'fascinated': 1, 'CEO': 1, 'Young': 1, 'then': 2, 'believe': 1, 'John': 1, 'at': 2, 'entirely': 1, 'after': 2, 'Man': 1, 'exams': 1, 'killed': 1, 'dies': 1, 'who': 1, 'Hunter': 1, 'sandwich': 1, 'hurricane': 1, 'elephant': 1, 'Black': 1, 'and': 1, 'space': 1, 'using': 1, 'hipster': 1, 'professionally': 1, 'For': 1, 'Reddit': 1, 'rescued': 1, 'Fraternity': 1, 'Goldblum': 1, 'tech': 1, 'same': 1, \"n't\": 1, 'Having': 1, 'police': 2, 'to': 4, ',': 5, 'whines': 1, 'smuggling': 1, 'Saints': 1, 'shot': 2, 'Hipster': 1, 'Geo': 1, 'we': 1, 'Once': 1, '”': 1, 'imply': 1, 'NFL': 1, 'an': 1, 'trophy': 1, 'get': 1, 'man': 1, '.': 1, 'discovers': 1, 'him': 1, 'first': 1, 'Brothers': 1, 'are': 1, 'astronaut': 1, 'Nat': 1, 'Ratted': 1, 'R.I.P': 1, 'His': 1, 'hires': 1, 'from': 1, 'offers': 1, 'was': 2, 'mag': 1, 'around': 1, 'look': 1, 'Trump': 2, 'that': 1, 'is': 1, 'on': 1, 'tells': 1, 'security': 1, 'hipsters': 1, 'Taliban': 1}\n",
      "{'fuckers': 1, 'some': 1, 'stop': 2, 'all': 4, 'for': 2, 'down': 2, 'them': 1, 'stopping': 1, 'about': 1, 'wasn': 1, 'asked': 2, 'teenagers': 1, 'subsided': 1, 'extra': 1, 'Neighbour': 1, 'means': 1, 'now': 1, 'the': 15, 'amazing': 1, 'Watford': 1, 'your': 1, 'did': 1, 't': 1, 'go': 1, 'bus': 2, 'going': 2, 'You': 1, 'What': 1, 'cashier': 1, 'wifi': 1, 'Croatia': 1, \"'Elf\": 1, 'other': 1, 'ago': 1, 'worth': 1, 'night': 1, 'making': 1, 'putting': 1, 'The': 2, 'cancellation': 1, 'provide': 1, \"'ll\": 1, 'Cheers': 1, 'guy': 2, 'service': 1, 'fuck': 1, 'really': 1, 'me': 6, 'be': 1, 'still': 1, 'my': 3, 'dressed': 1, 'a': 8, 'sleep': 1, 'live': 1, 'his': 1, 'with': 3, 'friends': 1, 'us': 2, 'not': 1, 'courage': 1, 'our': 2, 'reminding': 1, 'find': 1, 'shut': 1, 'until': 2, \"'mark\": 1, 'lose': 2, '3': 2, 'wait': 1, 'non-Brit': 1, 'since': 1, 'front': 1, 'phones': 1, 'stranger': 1, 'someone': 1, 'weeks': 1, 'of': 4, 'told': 2, 'but': 1, 'FaceTime': 1, 'euthanasia': 1, 'news': 2, 'banging': 2, \"'s\": 3, 'their': 1, 'know': 1, 'as': 3, 'sent': 1, \"'re\": 5, 'liked': 1, 'whilst': 1, 'Show': 1, 'like': 1, 'BBC': 1, \"'m\": 1, 'companies': 1, 'when': 1, 'bang': 1, 'board': 1, 'up': 4, 'unemployed': 1, 'carer': 1, 'Finally': 1, 'in': 6, 'Dame': 1, 'yard': 1, 'panels': 1, 'longing': 1, 'mentioned': 1, 'Safety': 1, 'On': 1, 'comment': 1, 'years': 1, 'which': 1, 'at': 2, 'hood': 1, 'london': 1, 'has': 1, 'laughing': 1, 'out': 2, 'wanting': 2, 'could': 1, 'shook': 1, 'if': 2, 'and': 13, 'using': 1, 'Boxing': 1, 'back': 1, 'tutted': 1, 'burned': 1, 'rush': 1, 'plucked': 1, 'thousand': 1, 'beat': 1, 'overnight': 1, 'only': 2, 'French': 1, 'it': 3, 'disabled': 1, 'how': 2, 'heads': 1, 'Ten': 1, 'meant': 1, 'between': 1, \"n't\": 3, 'you': 4, 'been': 1, 'he': 4, 'FB': 1, 'Tesco': 1, 'stare': 1, 'turn': 1, 'next': 1, 'cheese': 2, 'to': 16, 'Well': 1, ',': 11, 'annual': 1, 'fronts': 1, 'Deciding': 1, 'family': 1, 'visit': 1, 'much': 1, 'charge': 1, 'eat': 1, 'we': 3, 'many': 1, 'adrenaline': 1, 'n': 1, 'wake': 1, 'OH': 1, 'Turns': 1, 'so': 1, 'actually': 1, 'Kyle': 1, 'an': 2, 'fucking': 4, 'predicable': 1, 'turned': 1, 'job': 1, 'wind': 1, 'loud': 1, '’': 3, '.': 16, 'or': 1, 'drunk': 2, 'him': 1, 'Jeremy': 1, 'We': 2, 'Notre': 1, 'option': 1, 'are': 3, 'station': 1, 'done': 1, 'they': 3, 'will': 1, 'event': 1, \"'d\": 1, 'cause': 2, 'France': 1, 'yourself': 1, 'idiots': 1, 'happy': 1, 'fiddling': 1, 'He': 1, 'was': 6, '‘': 1, 'new': 1, 'cheeseboard': 1, 'Elf': 1, 'mate': 1, 'today': 1, 'gave': 1, 'flight': 1, 'It': 2, 'fence': 1, 'Its': 1, '%': 1, 'watch': 1, 'Day': 1, 'safe': 2, \"'\": 3, 'mentally': 1, 'were': 1, 'that': 4, 'I': 10, 'each': 1, '``': 1, 'is': 1, 'there': 1, 'on': 6, 'tell': 2, 'said': 1, \"''\": 1, 'alert': 2, 'train': 3}\n",
      "{'WTF': 1, 'M': 1, '.': 3, 'for': 1, 'People': 1, 'middle': 1, 'investigation': 1, 'wait': 1, 'affirmation': 1, 'shouldnt': 1, 'Literally': 1, 'Emojis': 1, 'Oppresses': 1, 'used': 1, '&': 1, 'yourself': 1, \"'s\": 3, 'by': 1, 'here': 1, 'played': 1, 'the': 2, 'was': 1, '(': 1, '...': 1, 'You': 1, 'Twitter': 1, 'pretty': 1, 'mirrors': 1, 'Oh': 1, ')': 1, 'in': 1, 'opressed': 1, 'H': 1, '/r/funny': 1, 'minute': 1, 'be': 1, '?': 1, 'this': 1, 'Wendy': 1, 'jump': 1, 'a': 2, 'Hitler': 1, 'there': 1, 'That': 1, 'on': 1, 'is': 1, 'x/post': 1, 'big': 1, 'irony': 1, 'Pulitzer-worthy': 1}\n",
      "{'Geralt': 1, 'True': 1, '.': 2, 'advantage': 1, 'One': 1, 'decision': 1, 'ever': 2, 'Sound': 1, 'for': 1, 'We': 1, 'election': 1, 'Congratulations': 1, 'day': 2, 'heard': 1, 'omnipresent': 1, '--': 3, 'god': 1, 'easiest': 1, 'logic': 1, 'of': 2, 'post': 1, 'upvote': 1, 'broken': 1, 'by': 1, 'Google': 1, 'Witcher': 1, 'people': 1, 'only': 1, 'the': 1, 'If': 1, 'He': 1, 'Number': 1, '<': 1, 'it': 1, '...': 1, 'Netflix': 1, 'had': 1, 'Series': 1, 'Just': 1, 'God': 1, 'The': 2, 'in': 1, 'Best': 1, 'through': 1, 'taking': 1, 'this': 2, 'I': 2, 'is': 2, 'true': 1, \"'ve\": 3, 'Actor': 1, 'Eclipse': 1, 'blessed': 1, 'if': 1, '!': 2}\n",
      "{'Shelia': 1, 'officially': 1, 'Square': 1, 'human': 1, 'ever': 2, 'for': 3, 'sold': 1, 'storm': 1, 'last': 2, 'took': 1, 'by': 2, 'here': 1, 'got': 1, 'overlords': 1, 'Given': 1, 'now': 1, 'the': 13, 'days': 2, 'They': 1, 'lost': 1, 'scientist': 1, 'into': 1, 'help': 1, 'tracks': 1, 'girl': 2, 'hung': 1, 'The': 3, \"'ll\": 1, 'New': 1, 'along': 1, 'heroes': 1, 'reflects': 1, 'be': 1, 'attendant': 1, 'decided': 1, 'Access': 1, 'a': 13, 'data': 1, 'with': 1, 'black-hole': 1, 'not': 1, 'our': 2, '!': 1, '$': 1, 'terrified': 1, 'developed': 1, 'wild': 1, 'rises': 1, 's': 2, 'make': 1, '14': 1, 'every': 1, 'victim': 1, 'mcdonald': 1, 'since': 1, 'railroad': 1, 'of': 3, 'thought': 1, \"'s\": 1, 'their': 1, 'Tank': 1, 'Tienanmen': 1, 'honor': 1, 'Internet': 1, 'Thanks': 2, 'alerted': 1, 'sketch': 1, 'censorship': 1, 'see': 1, 'up': 1, 'waits': 1, 'needed': 1, 'year': 1, 'computer': 1, 'in': 3, 'million': 1, 'guys': 1, 'marched': 1, 'eBay': 1, ':': 1, 'earth': 1, 'VHS': 1, 'years': 1, 'which': 1, 'surprise': 1, 'fierce': 1, '90': 1, 'at': 2, 'saved': 1, 'This': 3, 'letter': 1, 'after': 1, 'out': 2, 'Man': 1, 'telescopic': 1, 'bathroom': 1, 'Bouman': 1, 'could': 1, 'everything': 1, 'noticed': 2, 'trafficker': 1, 'Mars': 1, 'poster': 1, 'and': 4, 'contact': 1, 'rover': 1, 'Reddit': 1, 'picture': 1, 'wall': 1, 'day': 2, 'takes': 1, '&': 1, 'behind': 1, 'would': 1, 'Private': 1, 'image': 1, 'themselves': 1, 'senators': 1, 'little': 1, 'it': 5, 'provider': 1, 'meant': 1, 'sun': 1, 'say': 1, 'older': 1, 'police': 1, 'been': 2, '50': 1, 'to': 5, ',': 8, 'VPN': 1, 'investment': 1, 'page': 1, 'we': 2, 'accompanied': 1, 'Fredrick': 1, 'so': 1, 'Today': 2, 'an': 1, 'instead': 1, 'anymore': 1, 'person': 1, 'Obama': 1, 'turned': 1, 'Likely': 1, 'man': 1, 'dad': 1, 'player': 1, '.': 19, '’': 2, 'dust': 1, 'York': 1, 'first': 1, '150': 1, 'We': 1, 'ad': 1, 'ride': 1, 'And': 1, 'blank': 1, 'they': 2, 'will': 1, 'photo': 1, 'post': 3, 'She': 3, 'from': 2, 'left': 1, 'Dr': 1, 'Katie': 1, 'was': 6, 'My': 1, 'Chinese': 1, 'have': 1, 'she': 1, 'fake': 1, 'new': 1, 'reddit': 1, 'right': 1, 'can': 1, 'decide': 1, 'finally': 1, 'mailbox': 1, 'today': 1, 'flight': 1, 'calling': 1, 'historic': 1, 'It': 3, 'wrote': 1, 'glorious': 1, 'this': 2, 'before': 1, 'NASA': 1, 'should': 1, 'that': 5, 'Rover': 1, 'I': 2, 'powerhouse': 1, 'Time': 1, '``': 1, 'is': 3, 'on': 4, 'goodbye': 1, 'girls': 1, 'there': 1, 'full': 1, '51': 1, 'nice': 1, 'just': 3, \"''\": 1, 'algorithm': 1, 'note': 1, 'Opportunity': 1, 'hit': 1}\n",
      "{'programmed': 1, 'for': 1, 'owns': 1, 'discourse': 1, 'popping': 1, 'entire': 1, 'no': 1, 'Gotten': 1, ';': 1, 'the': 4, 'tools': 1, 'cooperation': 1, '(': 1, 'vs.': 1, 'You': 1, 'stations': 1, 'While': 1, 'Raise': 2, 'Children': 1, 'guess': 1, 'exec': 1, 'The': 1, 'apart': 1, 'Being': 1, 'Teacher': 1, 'Facebook': 1, 'what': 1, 'a': 4, 'Megathread': 1, 'being': 1, 'i': 1, '!': 1, 'receiving': 1, 'Pancreatic': 1, 'dozens': 1, 'fabric': 1, 'of': 4, 'happens': 1, 'Superintendent': 1, 'news': 1, \"'s\": 2, 'company': 1, 'as': 2, 'things': 1, '2': 1, 'when': 1, 'Got': 1, 'feedback': 1, 'society': 2, 'balloon': 1, 'in': 1, 'destroying': 1, ':': 1, 'created': 2, 'Youtube': 1, 'birthday': 1, 'surprise': 1, 'Net': 1, 'Alex': 1, '2019': 1, 'Have': 1, 'This': 1, 'after': 1, 'has': 1, 'Asking': 1, 'and': 1, 'feel': 1, 'Trebek': 1, 'No': 1, '&': 1, 'Glitter': 1, 'Cancer': 1, 'it': 1, 'how': 2, \"n't\": 1, 'Neutrality': 1, 'Bomb': 1, 'he': 2, 'Former': 1, 'to': 1, 'loops': 1, ',': 6, 'Years': 1, 'civil': 1, 'Jeopardy': 1, 'local': 1, 'shot': 1, 've': 1, 'we': 2, 'Thief': 1, 'misinformation': 1, 'works': 2, 'Videos': 1, 'short-term': 1, '’': 1, '.': 4, 'Arrested': 1, 'Exploitation': 1, 'Sexual': 1, 'Discussion': 1, 'think': 1, 'dopamine-driven': 1, 'Why': 1, 'are': 3, 'world': 1, 'Reagan': 1, 'months': 1, 'social': 1, 'Facilitating': 1, 'was': 1, 'have': 1, 'Trap': 1, 'great': 1, 'mistruth': 1, 'Reveals': 1, 'history': 1, 'Few': 1, 'Teachers': 1, ')': 1, 'Stage': 1, 'reacting': 1, 'Monetized': 1, '4': 1, 'that': 2, 'Package': 1, 'I': 1, '``': 1, 'is': 2, 'ripping': 1, \"''\": 1, 'one': 1}\n",
      "{'against': 1, 'favourite': 1, 'height': 1, 'all': 1, 'for': 2, 'makes': 1, 'Naruto': 1, 'got': 2, 'the': 2, 'children': 1, 'Kids': 1, 'custodian': 1, 'Kong': 1, 'my': 1, 'a': 2, 'his': 2, 'with': 1, 'beloved': 1, 'while': 2, 'Area': 1, 'Hong': 1, 'One': 1, 'canisters': 1, 'Clinton': 1, 'of': 1, 'news': 1, 'their': 1, 'Walk': 1, 'hold': 1, 'party': 1, '2': 1, 'Al': 1, 'Spectator': 1, 'in': 2, 'News': 1, 'surprise': 1, '-': 1, 'Elementary': 1, 'stuck': 1, 'at': 1, 'This': 1, 'joke': 1, 'school': 2, 'Air': 1, 'boards': 1, 'Guy': 1, 'Bush': 1, 'filmed': 1, 'deny': 1, 'toilet': 1, 'Fame': 1, 'police': 1, 'to': 2, ',': 1, 'firing': 1, 'star': 1, 'paper': 1, 'Weird': 1, 'Finnish': 1, 'Obama': 1, 'dad': 1, 'Anchor': 1, '.': 2, 'gas': 1, 'from': 1, 'was': 1, 'My': 1, 'team': 1, 'ski': 1, 'speech': 1, 'cracks': 1, 'Tear': 1, 'regulations': 1, 'reflex': 1, 'Runs': 1, 'raining': 1, 'Storm': 1, 'Past': 1, 'Trump': 1, 'Force': 1, 'PyeongChang': 1, '51': 1, 'on': 2, 'dog': 1, 'just': 1, 'bit': 1, 'shoe': 1, 'jumping': 1, '1': 1}\n",
      "{'some': 1, 'high': 1, 'all': 2, 'for': 1, '8': 1, 'MRW': 7, 'Amazon': 1, 'entire': 1, '30': 1, 'no': 1, 'teacher': 1, 'the': 6, 'card': 1, 'date': 1, 'its': 1, 'opening': 1, 'site': 1, 'seeing': 1, 'going': 1, 'into': 1, 'night': 1, 'weird': 1, 'never': 1, 'guy': 1, 'fuck': 1, 'be': 1, 'me': 1, 'Your': 1, 'my': 2, 'kind': 1, 'a': 3, 'house': 1, 'ordered': 1, 'Brooklyn': 1, 'orders': 1, 'our': 1, 'XBox': 1, 'find': 1, 'brother': 1, 'front': 2, 'someone': 1, 'A': 1, 'discover': 1, 'of': 5, \"'s\": 1, 'controller': 1, 'as': 2, 'subs': 1, 'again': 1, \"'m\": 2, 'when': 1, 'happened': 1, 'Subway': 1, 'up': 1, 'watched': 1, 'in': 5, 'line': 1, 'mass': 1, 'screenings': 1, 'at': 2, 'Joker': 1, 'has': 2, 'out': 1, 'media': 1, 'school': 1, 'who': 1, 'and': 4, 'also': 1, 'picked': 1, 'cleaned': 1, 'Reddit': 1, 'day': 1, 'vase': 1, 'neutrality': 1, 'toasted': 1, 'old': 1, 'older': 1, 'been': 1, '2025': 1, 'shootings': 1, 'to': 4, ',': 1, 'page': 1, 'need': 1, 'delivers': 1, 'home': 1, 'fit': 1, 'weekend': 1, 'an': 1, 'busy': 1, 'instead': 1, '.': 3, 'ready': 1, 'during': 1, 'gifs': 1, 'change': 1, 'wife': 1, 'social': 1, 'from': 1, 'reddit': 1, 'come': 1, 'getting': 1, 'Nine-Nine': 1, 'babysitter': 1, 'platform': 1, 'US': 1, 'net': 1, 'update': 1, 'pro': 1, 'When': 2, 'circa': 1, 'I': 5, 'is': 2, 'another': 1, 'canceled': 1, 'trying': 1}\n",
      "{'cut': 1, 'hereditary': 1, 'map': 1, 'wearing': 1, 'for': 3, 'eyebrow': 1, 'mail': 1, 'bar': 1, 'got': 2, 'audience': 1, 'the': 4, 'menu': 1, 't': 1, 'overlap': 1, 'ads': 1, 'The': 1, 'be': 1, 'my': 3, 'a': 11, 'his': 1, 'i': 1, 'over': 1, 'Local': 1, 'stranger': 1, 'boat': 1, 'of': 2, 'used': 1, 'but': 1, 'sunken': 1, 'cliff': 1, 'offered': 1, 'looks': 2, 'car': 1, '“': 1, 'like': 4, 'booked': 1, 'when': 1, 'conversation': 1, 'in': 2, 'corrosion': 1, '-': 1, 'at': 1, 'crew': 1, 'whole': 1, 'out': 2, 'came': 1, 'sombreros': 1, 'moving': 1, 'pandas': 1, 'and': 1, 'restaurant': 2, 'driver': 1, 'Instead': 1, 'built': 1, 'broken': 1, 'plane': 1, 'thing': 1, 'same': 1, 'meant': 1, 'miniature': 1, 'friend': 1, 'to': 3, 'wedding': 1, ',': 1, 'accidentally': 1, 'looked': 1, 'painting': 1, 'mural': 1, 'Uber': 1, 'gap': 1, '”': 1, 'water': 1, '’': 1, '.': 7, 'put': 1, 'class': 1, 'don': 1, 'him': 1, 'tap': 1, 'ride': 1, 'they': 3, 'drew': 1, 'half': 1, 'Found': 1, 'from': 1, 'have': 1, 'My': 3, 'Chinese': 1, 'was': 2, 'outlines': 1, 'Mexican': 1, 'poppy': 1, 'antenna': 1, 'myself': 1, 'flight': 1, 'met': 1, 'Clif': 1, 'look': 1, 'this': 2, 'that': 1, 'I': 5, 'on': 4, 'just': 3}\n",
      "{'ever': 1, 'for': 2, 'quality': 1, 'Furong': 1, 'makes': 1, 'Hydrogen': 1, 'here': 1, 'the': 4, 'its': 1, '(': 1, 't': 1, 'other': 1, 'wings': 1, 'city': 1, 'my': 1, 'a': 1, 'with': 1, 'leave': 1, 'services': 1, 'airplane': 1, '!': 5, 'gif': 1, 'stand': 1, 'websites': 1, 'life': 1, 'of': 3, 'pit': 1, \"'s\": 1, '12': 1, 'Internet': 1, 'in': 2, 'month': 1, 'skills': 1, 'Atom': 1, 'Net': 2, 'How': 1, 'July': 1, 'and': 3, 'WoahDude': 1, 'higher': 1, 'protect': 1, 'Framerate': 1, 'View': 1, 'neutrality': 2, 'image': 1, 'it': 1, 'Join': 1, 'fuzz': 1, 'die': 1, 'Neutrality': 1, 'jacket': 1, 'piece': 1, 'to': 2, ',': 3, 'Click': 1, 'we': 1, 'many': 1, 'than': 1, 'sinkhole': 1, 'doesn': 1, 'an': 1, 'Today': 1, 'Eclipse': 1, '’': 1, '.': 1, 'fight': 1, 'China': 2, 'Battle': 1, 'want': 1, 'will': 2, 'mad': 1, 'world': 1, 'First': 1, 'from': 1, 'taken': 1, 'real': 1, ')': 1, 'Heavenly': 1, 'net': 1, 'unless': 1, '?': 1, 'this': 2, 'affect': 1, 'that': 1, 'is': 1, 'synced': 1, 'deepest': 1}\n",
      "{'gets': 2, 'all': 1, 'victims': 1, 'for': 1, 'Death': 1, 'hiking': 1, 'down': 1, 'organs': 1, 'her': 1, 'by': 2, 'protests': 1, 'the': 2, '[': 12, 'splitten': 1, '(': 18, 'go': 1, 'Beaten': 1, 'drive': 1, 'volcano': 1, 'story': 1, 'guy': 1, 'protester': 1, 'fan': 1, 'Kong': 2, 'Hammer': 1, 'a': 9, 'his': 1, 'with': 1, 'Parker': 1, 'sayin': 1, 'while': 1, 'triple': 1, '9/11': 1, 'wild': 1, 'To': 1, 'hammer': 1, 'heart': 1, 'Hong': 2, 'timed': 1, 'An': 1, 'over': 1, 'forest': 1, 'A': 1, 'rainbow': 1, 'of': 1, 'NFSW': 1, \"'s\": 1, 'wholesome': 1, 'Legged': 1, '2': 1, 'approach': 1, 'up': 1, 'view': 1, 'Dog': 2, 'why': 1, '5': 1, 'trys': 1, 'at': 1, 'out': 2, 'Man': 2, 'poster': 1, 'and': 2, 'picture': 1, 'Fuji': 1, 'rusty': 1, 'head': 1, 'Dogs': 1, 'Super': 1, 'NSFW': 7, 'Jessica': 1, 'beat': 1, '|': 10, 'shits': 1, 'doing': 1, \"n't\": 1, 'foot': 1, 'you': 1, 'cartel': 1, 'police': 1, 'rare': 1, 'mount': 1, 'friend': 1, 'to': 1, 'Happy': 1, ',': 1, ']': 12, 'Girl': 1, 'shot': 1, 'Sarah': 1, 'family': 1, 'Owner': 1, 'brutally': 2, 'man': 2, 'NSFL': 2, 'exposing': 1, 'photo': 1, 'animals': 1, 'SFW': 10, 'upside': 1, 'mountain': 1, 'internal': 1, ')': 18, 'Beautiful': 2, 'lashes': 1, 'greentext': 1, 'Police': 1, 'Protecting': 1, 'should': 1, 'Aftermath': 1, 'ripping': 1, 'on': 3, '50/50': 10, 'super': 1, 'nice': 1, 'unfortunately': 1, 'nail': 1}\n",
      "{'Cutting': 1, 'cut': 1, 'for': 1, 'Told': 1, 'them': 1, 'Here': 1, 'asked': 1, 'here': 1, 'the': 3, 'chewy': 1, '[': 9, 'cinnamon': 1, '(': 1, 'anything': 1, 'Pork': 1, 'Recipe': 1, 'attempt': 1, 'pepe': 1, 'rent-controlled': 1, 'chip': 1, 'coleslaw': 1, 'really': 1, '3-story': 1, 'a': 5, 'with': 5, 'sandwiches': 1, '670': 1, 'fondant': 1, 'big': 1, 'brownstone': 1, '!': 1, 'gif': 1, 's': 1, '23': 1, 'goodness': 1, 'biggest': 1, 'guest': 1, 'fried': 1, 'Buttermilk': 1, 'A': 1, 'roll': 1, 'e': 1, 'of': 3, 'but': 1, \"'s\": 2, 'gutters': 1, '1126X1600': 1, 'comments': 1, 'testing': 1, 'House': 1, 'cake': 1, 'ice': 1, 'in': 2, 'these': 1, 'cream': 1, ':': 1, 'Shoyu': 1, 'Fries': 1, 'OC': 2, '-': 1, 'at': 1, 'burrito': 1, 'could': 1, 'time': 1, 'melted': 1, 'sandwich': 1, 'cacio': 1, 'and': 3, 'Breakfast': 1, 'candy': 1, 'glass': 1, 'Ramen': 2, 'ton': 1, '72oz': 1, '1004': 1, 'apartment': 1, 'it': 1, 'beefy': 1, '1440x1626': 1, 'had': 1, 'ribeye': 1, 'layer': 1, 'cheese': 1, 'to': 1, 'cookies': 1, ',': 5, 'Warm': 1, ']': 9, 'chocolate': 2, 'we': 2, 'windows': 1, 'glazed': 1, 'Cashu': 1, 'donut': 1, '1080': 2, 'get': 1, 'GIF': 1, '640': 2, 'truffles': 1, '’': 1, '.': 6, 'dumpster': 1, 'low-income': 1, 'x': 2, 'are': 1, 'ultimate': 1, '×': 2, 'building': 1, 'jalapeno': 1, 'shell': 1, 'taken': 1, 'My': 1, 'brioche': 1, 'Italian': 1, 'gentrified': 1, 'soft': 1, ')': 1, 'second': 1, 'It': 1, 'this': 1, 'chicken': 1, '1600': 2, 'on': 1, 'super': 1, 'neighbourhood': 1, 'slice': 1, 'Wings': 1, 'Gingerbread': 1}\n",
      "{'1914/1915': 1, 'SS': 1, 'stop': 1, 'Bergen-Belsen': 1, 'Square': 1, 'for': 4, 'top': 1, 'fined': 1, 'Montgomery': 1, 'Death': 1, 'down': 1, 'autographs': 1, '974': 1, '800x790': 1, 'small': 1, 'feet': 1, 'Belgrade': 1, 'her': 2, '1024x796': 1, 'by': 6, 'scales': 1, 'the': 17, 'Mr.Rogers': 1, '[': 9, 'crews': 1, '(': 2, 'WWII': 1, 'two': 1, 'graves': 1, 'Trade': 1, 'allowed': 1, 'attic': 1, 'Americans': 1, 'hours': 2, 'Clemmons': 1, '1961': 1, 'returning': 1, 'city': 1, '1960': 1, 'New': 1, 'still': 1, 'decided': 1, 'a': 9, 'Court': 2, 'his': 2, 'Officer': 1, 'with': 1, 'George': 1, 'being': 1, '2000x2901': 1, 'black': 1, '$': 1, 'until': 1, 's': 1, 'AL': 1, '661': 1, 'In': 1, 'peeped': 1, 'signing': 1, 'front': 1, 'where': 1, 'breaking': 1, 'photographs': 1, 'A': 1, 'exhausted': 1, 'Yorkers': 1, 'of': 8, 'but': 2, '1944': 1, 'cutting': 1, \"'s\": 1, 'their': 1, 'Only': 1, '1.10': 1, 'South': 1, '865': 1, 'revisiting': 1, 'Tower': 1, 'June': 1, 'when': 1, 'Center': 1, 'existence': 1, 'up': 1, 'join': 1, 'Nazis': 1, 'session': 1, 'Completing': 1, 'in': 9, 'Seinfeld': 1, 'line': 1, 'lying': 1, 'concealed': 1, 'James': 1, 'woman': 1, 'through': 1, 'mass': 1, 'sleeps': 1, 'student': 1, 'which': 1, 'forced': 2, '-': 1, 'cool': 1, 'at': 2, 'Soldiers': 1, 'prevented': 1, 'after': 2, 'mob': 1, 'out': 1, 'face': 1, 'came': 1, 'who': 2, 'near': 1, '1998': 1, 'and': 3, '1945': 2, '821x1024': 1, '602': 1, 'picked': 1, '1800x1449': 1, 'several': 1, '3.5': 1, 'Jaws': 1, 'soldier': 1, 'bodies': 1, 'father': 2, 'Anne': 1, 'hid': 1, 'rest': 1, 'take': 1, 'arrested': 1, 'only': 1, '1969': 1, 'it': 1, 'shortly': 1, 'soldiers': 1, 'he': 3, 'to': 5, 'climb': 1, ',': 21, ']': 9, 'Into': 1, 'exterior': 1, 'World': 1, 'visit': 1, 'family': 1, 'camera': 1, 'passed': 2, 'college': 1, 'beaten': 1, 'Otto': 1, '1977': 1, 'young': 1, 'home': 1, 'German': 1, 'barrier': 1, 'ignored': 1, 'clearing': 1, 'Serbian': 1, 'an': 1, 'Freedom': 1, 'swimming': 1, 'brief': 1, '’': 1, '.': 9, 'white': 2, 'color': 1, 'dead': 1, 'empty': 1, 'pool': 1, 'him': 3, 'lens': 1, 'Cameras': 1, 'Supreme': 2, 'x': 1, 'are': 3, 'Fly': 1, 'invite': 1, 'hole': 1, '×': 1, 'they': 1, 'photograph': 1, 'surviving': 1, 'penny': 1, 'Rider': 1, '6th': 1, '506x859': 1, 'Frank': 1, 'whites': 1, 'from': 5, 'ambulance': 2, 'He': 2, 'was': 6, 'taken': 1, 'Human': 1, 'afterwards': 1, 'handbag': 1, 'finale': 1, 'Times': 1, ')': 2, '650x832': 1, 'labour': 1, 'floor': 1, 'US': 1, 'watch': 1, 'well-known': 1, 'Wisconsin': 1, 'blacks': 1, 'guards': 1, 'were': 1, 'British': 1, 'this': 1, 'Alabama': 1, '568x384': 1, 'member': 1, 'Willig': 1, '``': 2, 'each': 1, 'forbidden': 1, 'on': 1, 'Zwerg': 1, 'alongside': 1, 'Photo': 1, \"''\": 2, '1937': 1, 'one': 2}\n",
      "{'.': 3, 'does': 1, 'lake': 1, 'Autism': 1, 'dropped': 1, 'photo': 1, 'asked': 1, 'yesterday': 1, 'of': 1, 'staring': 1, 'frame': 1, 'took': 1, 'across': 1, 'Hollywood': 1, 'Spaghetti': 1, 'Rest': 1, 'forgetti': 1, 'Lannister': 1, 'was': 1, 'My': 1, 'He': 1, 'So': 1, '(': 1, 'frozen': 1, 'Jaime': 1, 'loved': 1, \"n't\": 1, 'realise': 1, 'friend': 1, 'Wallpaper': 1, ',': 2, 'never': 1, ')': 1, 'in': 1, 'desktop': 1, 'why': 1, 'made': 1, 'Softened': 1, 'bigger': 1, 'version': 1, 'this': 2, 'my': 1, 'Starman': 1, 'blvd': 1, 'a': 3, 'I': 4, 'at': 1, 'after': 1, 'Husky': 1, 'rain': 1, 'Leaves': 1, 'just': 1, 'Eclipse': 1, 'walks': 1, '2560x1440': 1, 'and': 1}\n",
      "{'pencil': 1, 'her': 1, 'Meme': 2, 'Year': 1, 'Ad': 1, '30': 1, 'by': 2, 'played': 1, 'the': 3, '[': 11, '(': 1, 'Poetry': 7, 'Morty': 2, 'girl': 1, 'Subscribe': 1, 'too': 1, 'a': 2, 'live': 1, 'with': 1, 'seconds': 1, '43': 1, 'To': 2, 'Recording': 1, 'One': 1, 'Dude': 1, 'In': 1, 'Cantina': 1, 'Karl': 1, 'A': 1, 'but': 2, \"'s\": 2, 'know': 1, '12': 1, 'Goes': 1, 'Snap': 1, '0:13': 1, ':': 1, 'fanbase': 1, 'let': 1, 'Jake': 1, 'Paul': 1, 'Net': 1, 'Stephen': 1, 'Tricks': 1, 'How': 2, 'at': 1, 'time': 1, 'Are': 1, 'Old': 1, 'and': 3, 'Racism': 1, 'Teen': 1, 'Back': 1, 'pay': 1, 'Number': 1, 'it': 1, 'reacts': 1, 'Neutrality': 1, 'to': 2, ',': 3, ']': 11, 'much': 1, 'Make': 1, 'tribute': 1, 'Reality': 1, 'Haiku': 1, 'Gravity': 1, 'than': 1, 'hands': 1, 'actors': 1, 'Videos': 1, '.': 3, 'Theme': 1, 'We': 1, 'Rick': 1, 'Titans': 1, 'more': 1, 'Perfect': 1, 'real': 1, 'performed': 1, 'There': 1, 'Girls': 1, 'died': 1, 'Oh': 1, 'today': 1, 'Spotify': 1, 'Stefánsson': 1, 'this': 1, 'I': 1, '``': 2, 'is': 1, 'on': 1, \"''\": 2}\n",
      "{'.': 1, 'special': 1, 'Dude': 1, 'vets': 1, 'mia': 1, 'mistake': 1, 'alone': 1, 'A': 1, 'about': 1, 'Mama': 1, 'Vape': 1, 'seems': 1, 'Buying': 1, 'behind': 1, 'their': 1, 'parents': 1, 'knew': 1, 'My': 1, 'warned': 1, '...': 1, 'new': 1, '2': 1, 'like': 1, 'spot': 1, 'What': 1, 'do': 1, 'he': 2, 'remember': 1, 'up': 1, 'doors': 1, 'wedding': 1, 'to': 1, ',': 1, 'Big': 1, 'moment': 1, 'dawg': 1, 'in': 1, 'tortoise': 1, 'The': 1, 'good': 1, 'fuck': 1, 'me': 1, 'chilling': 1, 'this': 1, 'drinks': 1, 'stream': 1, 'a': 2, '``': 1, 'being': 1, 'out': 1, \"''\": 1, 'Kyles': 1, 'closed': 1, '1': 1, '!': 1}\n",
      "{'celebrating': 1, 'Hong': 1, 'chest': 1, 'Winnie': 1, 'move': 1, 'over': 1, 'skull': 1, 'scene': 1, 'PsBattle': 10, 'Devastated': 1, 'A': 1, 'neo-nazi': 1, \"'s\": 1, 'the': 2, 'French': 1, 'President': 1, 'kayak': 1, 'Pepe': 1, 'scout': 1, 'Elmo': 1, 'protesters': 1, 'girl': 1, 'looking': 1, 'mask': 1, 'in': 2, ':': 10, 'finishing': 1, 'bites': 1, 'cat': 1, 'Pooh': 1, 'posing': 1, 'Kong': 1, 'Christmas': 1, 'hedgehog': 1, 'a': 4, 'at': 1, 'his': 1, 'with': 1, 'This': 2, 'Cat': 2, 'on': 2, 'dog': 1, 'sea': 1, 'shrugs': 1, 'tiny': 1, 'Policeman': 1, 'jewel': 1, 'and': 1}\n",
      "{'for': 2, 'video': 1, 'down': 1, 'jerk': 1, 'her': 1, 'loving': 1, 'here': 1, 'the': 7, 'its': 1, 'days': 1, 'ago': 1, 'Was': 1, 'loves': 1, 'making': 1, 'defends': 1, 'hours': 1, 'crab': 1, 'WORST': 1, 'off': 1, 'a': 4, 'house': 1, 'marmot': 1, 'slopes': 1, 'us': 1, 'cats': 1, 'hates': 1, 'steal': 1, '!': 1, 'way': 1, 'heart': 1, 'shame': 1, 'where': 1, 'adopted': 1, 'given': 1, 'f*cks': 1, 'of': 1, 'told': 1, 'pipe': 1, 'encounters': 1, 'shop': 1, 'Thanks': 1, 'territorial': 1, '2': 1, \"'m\": 1, 'when': 2, 'mess': 1, 'in': 2, 'peeling': 1, 'Winston': 1, 'Skier': 1, 'This': 2, 'and': 2, 'attack': 1, 'working': 1, 'hiding': 1, 'aunt': 1, 'few': 1, 'better': 1, 'disappeared': 1, ',': 2, 'acknowledging': 1, 'Zero': 1, 'parkour': 1, 'fits': 1, 'Head-bump': 1, 'an': 1, 'Slow-mo': 1, 'Midnight': 1, '.': 4, 'kitty': 3, 'paint': 1, 'are': 1, 'they': 1, 'likes': 1, 'half': 1, 'realtor': 1, 'from': 1, 'was': 1, 'My': 1, 'have': 1, 'she': 5, 'gave': 1, 'highly': 1, 'foster': 1, 'cone': 1, 'this': 1, 'Angry': 1, 'that': 1, 'I': 1, 'is': 2, 'dog': 1, 'on': 1}\n",
      "{'for': 2, 'Korra': 1, 'fix': 1, 'cons': 1, 'no': 1, 'by': 5, 'here': 1, '@': 1, 'beebinch': 1, 'free': 1, 'the': 1, '[': 11, 'traveled': 1, '(': 2, 'go': 1, 'impressive': 1, 'printing': 1, 'location': 1, 'film': 1, 'twist': 1, 'me': 2, 'my': 3, '3D': 1, 'a': 2, 'with': 1, 'friends': 1, '!': 4, 'After': 1, 's': 1, '🌙✨': 1, 'scene': 1, 'front': 1, 'life': 1, 'Spiderman': 1, 'but': 1, 'intimidated': 1, 'sub': 1, 'Daenerys': 1, 'Decided': 1, 'Hela': 1, 'wig': 1, 'made': 1, 'Enjoy': 1, 'Sailor': 1, 'self': 5, 'Styled': 1, 'Self': 4, 'and': 1, 'captainkayceecosplay': 1, 'Persilay': 1, 'Hermione': 1, 'Grange': 1, '&': 1, 'Dream': 1, 'Waterbending': 1, 'how': 1, '...': 1, 'Bokoblin': 1, 'to': 5, ',': 2, ']': 11, 'everyone': 1, 'Marvel': 1, 'Moon': 1, 'an': 1, '’': 2, '.': 3, 'Before': 1, 'first': 1, 'Amazing': 1, 'FOUND': 1, 'Gary': 1, 'My': 2, 'real': 1, 'lace': 1, 'Cosplay': 1, '100': 1, ')': 2, 'm': 1, '%': 1, 'this': 1, 'try': 2, 'I': 3, 'cosplay': 4, 'is': 1, 'on': 1, 'certain': 1, 'just': 1, 'little': 1, 'African': 1}\n",
      "{'Portage': 1, 'Woke': 1, 'Hollow': 1, 'for': 2, 'Probably': 1, 'Glacier': 1, 'moved': 1, '4472': 1, 'easiest': 1, 'icebergs': 1, 'Alaska': 1, 'no': 1, 'Faroe': 1, 'Grand': 1, 'here': 3, 'got': 1, '1365x2048': 1, 'the': 14, '[': 17, 'internet': 1, 'days': 1, 'blocking': 1, '(': 1, 'different': 1, 'glad': 1, '5590': 1, 'sunset': 1, 'imagine': 1, 'You': 1, 'volcano': 1, 'light': 2, 'treated': 1, 'scariest': 1, 'Canada': 1, 'major': 1, 'me': 1, 'my': 2, 'what': 1, 'a': 6, '5AM': 1, 'dark': 1, 'with': 3, '1920x2400': 1, '1920x1280': 1, 'Montana': 2, 'mist': 1, '!': 3, 'After': 1, 'Rock': 1, 'One': 1, 'Texas': 1, 'over': 2, 'clouds': 1, 'Zion': 2, 'where': 1, 'front': 1, 'sunrise': 1, 'of': 5, 'but': 1, \"'s\": 4, '4000x2444': 1, 'best': 2, 'tulips': 1, 'as': 1, 'lines': 1, 'again': 1, 'Georgia': 1, 'see': 1, 'up': 3, 'perfectly': 1, '5287×6995': 1, 'year': 1, 'view': 1, 'in': 6, 'then': 1, '2048x1365': 1, 'let': 1, 'drop': 1, 'Indonesia': 1, 'Net': 1, 'OC': 9, 'morning': 2, '3264x1754': 1, 'at': 1, 'out': 1, 'waterfalls': 1, 'and': 4, 'dont': 1, 'For': 1, 'back': 1, '15-minute': 1, 'Brasstown': 1, 'photographer-': 1, 'behind': 2, 'take': 1, 'catch': 1, 'handful': 1, 'destroy': 1, 'arguably': 1, 'only': 1, 'waiting': 1, 'it': 2, 'Join': 1, 'Do': 1, 'Two': 1, \"n't\": 1, 'spot': 1, 'Neutrality': 1, 'MN': 1, 'you': 2, 'minutes': 1, 'islands': 1, 'blizzard': 1, 'to': 4, ',': 8, ']': 17, 'shot': 1, 'FCC': 1, 'Greenland': 1, 'Eclipse': 1, 'force': 1, 'period': 1, 'might': 1, 'wind': 1, '.': 10, 'seen': 1, 'National': 2, 'during': 1, 'Phases': 1, 'hole': 1, 'Bald': 1, '100m': 1, 'Battle': 1, '×': 1, 'yesterday': 1, 'place': 1, 'from': 2, '-15°F': 1, 'So': 1, 'was': 2, 'have': 1, 'Park': 2, 'views': 1, 'can': 2, 'recently': 1, 'There': 1, ')': 1, 'flight': 1, 'It': 1, 'moments': 1, 'this': 1, 'before': 1, 'were': 1, 'that': 1, 'I': 3, 'glaciers': 1, 'there': 1, 'is': 1, 'Netherlands': 1, 'gale': 1, '1536x1920': 1, 'bit': 1, 'one': 2}\n",
      "{'rather': 1, 'all': 2, 'Malcolm-X': 1, 'hoped': 1, 'no': 3, 'by': 1, 'kept': 1, '564x564': 1, 'pulled': 1, 'the': 9, 'If': 2, '[': 12, 'wrong': 1, '(': 1, 'did': 1, 'whatever': 1, 'become': 1, 'wants': 1, 'persecuted': 1, 'weed': 1, 'guess': 1, 'morally': 1, 'six': 1, 'servile': 1, 'heal': 1, 'guy': 1, 'ca': 3, 'Elon': 1, 'belong': 1, 'be': 5, 'me': 1, 'my': 1, 'a': 4, 'always': 1, 'treasonable': 1, 'not': 2, 'Roosevelt': 1, 'less': 1, 'To': 1, 'way': 1, 'stand': 1, 'blow': 1, 'make': 1, 'Donald': 1, 'Anthony': 1, '455': 1, 'Silverstein': 1, 'someone': 1, '1868x1242': 1, 'Asylum': 1, 'of': 3, 'but': 1, \"'s\": 3, 'lay': 1, 'Richard': 1, '1788': 1, 'President': 2, 'like': 1, 'Bourdain': 1, 'smoke': 1, 'Washington': 1, 'inside': 1, 'badly': 1, '1068x603': 1, 'in': 2, 'made': 1, 'James': 1, 'Never': 1, 'OC': 2, 'mankind': 1, 'nine': 1, '-': 7, 'wound': 2, 'out': 3, 'who': 1, 'if': 1, 'Mars': 1, 'and': 2, 'unpatriotic': 1, 'pull': 2, 'questions': 1, 'Musk': 1, '830x335': 1, 'Comey': 1, 'whatsoever': 1, 'back': 1, 'day': 1, 'public': 1, 'nation': 1, 'hid': 1, '&': 2, 'would': 2, 'Progress': 1, 'only': 1, 'it': 3, '...': 6, 'doing': 1, 'Feynman': 1, 'fuzz': 1, '-Unknown': 1, 'had': 2, 'you': 2, \"n't\": 4, 'die': 1, 'land': 1, 'answers': 1, 'he': 1, 'must': 1, '1000x1000': 1, 'to': 6, '600x300': 1, ',': 8, '750x1125': 1, ']': 12, 'knife': 2, 'understand': 1, 'much': 1, 'blue': 1, '1200x800': 1, '720x692': 1, 'healing': 1, 'we': 1, 'word': 1, 'than': 1, 'so': 2, 'stick': 1, 'Shel': 1, 'might': 2, '.': 7, 'or': 2, 'part': 1, 'questioned': 1, 'mispronounce': 1, 'are': 1, 'x': 1, 'And': 2, 'answered': 1, 'they': 3, 'Theodore': 1, 'virtuous': 1, 'announce': 1, 'She': 1, 'skin': 1, 'He': 1, 'have': 2, 'American': 1, 'criticism': 1, 'agreeable': 1, 'fun': 1, 'right': 1, 'bed': 1, 'There': 1, ')': 1, '556': 1, 'inches': 2, 'safe': 1, 'this': 2, 'Trump': 1, 'should': 1, 'that': 7, 'I': 6, '``': 10, 'there': 3, 'is': 3, 'on': 2, '-George': 1, \"''\": 10, 'even': 1, 'progress': 2}\n",
      "{'Poke': 1, '🙌': 1, 'We': 1, 'Original': 5, 'Outfit': 1, 'M87': 1, 'Komi-san': 1, 'Nier': 1, 'Cute': 1, 'by': 1, 'Blushing': 1, 'coming': 1, 'Kaguya-sama': 1, 'have': 1, '[': 10, 'car': 1, '...': 1, \"n't\": 1, 'blush': 1, 'been': 1, 'he': 1, 'Hyouka': 1, '2B': 1, 'Hole-chan': 1, ']': 10, 'in': 1, ':': 1, 'Watching': 1, 'New': 1, 'Yawning': 1, 'Volleyball': 1, 'komi-san': 1, 'ca': 1, '?': 1, 'a': 1, 'communicate': 1, '``': 1, 'not': 1, \"''\": 1, 'Is': 1, 'blessed': 1, 'Automata': 1, 'Black': 1, 'and': 1}\n",
      "{'SS': 1, 'shuttles': 1, 'for': 2, 'Abandoned': 1, 'disaster': 1, 'nature': 1, 'Railroad': 1, '30': 1, 'by': 1, 'here': 1, 'found': 1, 'Fukushima': 1, 'lies': 1, 'the': 2, '[': 6, 'Mall': 1, 'WWII': 1, 'tracks': 1, 'cars': 1, 'park': 1, 'The': 2, 'welcomed': 1, 'cube': 1, 'New': 1, 'be': 1, 'Russian': 1, 'off': 2, 'Oz': 1, 'my': 1, 'a': 1, 'house': 1, 'with': 1, 'Adelaide': 1, 'coast': 1, 'being': 1, 'closed': 1, 'Sintra': 1, 'lit': 1, 'lume': 1, 'abandoned': 3, '1024x768': 1, 'forest': 1, 'of': 4, 'told': 1, \"'s\": 1, 'Japanese': 1, 'r/cozyplaces': 1, 'attached': 1, 'Carolina': 1, 'Radioactive': 1, 'up': 1, 'warplane': 1, 'Island': 1, 'in': 5, 'eaten': 1, '1841x1227': 1, 'years': 1, 'wrecked': 2, 'after': 1, 'City': 1, 'restaurant': 1, 'and': 2, 'spooky': 1, 'space': 1, 'shallow': 1, 'drone': 1, 'brick': 1, 'd': 1, 'slowly': 1, 'Portugal': 1, 'Land': 1, 'it': 2, 'eerie': 1, '50': 1, 'to': 2, ',': 4, 'theme': 1, 'Bangkok': 1, ']': 6, 'World': 1, '615x768': 1, 'water': 1, 'North': 1, '’': 1, '.': 5, '650': 1, '×': 1, 'yellow': 1, 'building': 1, 'road': 1, 'from': 2, 'left': 1, 'was': 3, 'have': 1, '981': 1, '1997': 1, 'regulations': 1, '2592x3888': 1, 'breached': 1, 'this': 2, 'I': 3, '``': 1, 'shunned': 1, '451x700': 1, \"''\": 1, 'Guam': 1, 'Magnetic': 1}\n",
      "{'1080x1069': 1, 'fastest': 1, 'for': 1, 'awe': 1, 'video': 1, 'the': 1, 'Bugatti': 1, '[': 2, 'its': 1, 'Huracán': 1, 'cars': 1, 'keep': 1, 'shoots': 1, 'gyro-stabilized': 1, 'a': 1, 'M3': 1, 'allowing': 1, 'with': 1, 'Raulph': 1, '!': 1, '$': 2, 's': 1, 'son': 1, 'features': 1, 'gen': 1, 'across': 1, 'BMW': 1, 'Mustang': 1, 'Atlantis': 1, 'up': 1, \"'70\": 1, 'in': 1, 'trims': 1, 'Daytona': 1, 'Our': 1, 'Mazda': 1, 'Datsun': 1, 'hood': 1, 'This': 1, 'Aventador': 1, 'Toyota': 1, 'grey': 1, 'and': 4, 'M1': 1, 'Celica': 1, 'modified': 1, 'father': 1, 'satin': 1, 'RX-3': 1, 'fibre': 1, 'it': 1, 'Dad': 1, 'finished': 1, 'to': 1, ',': 1, ']': 2, '40m': 1, 'camera': 1, 'blue': 1, '2587x2852': 1, 'Lamborghini': 1, '1973': 1, '1st': 1, '240z': 1, 'rig': 1, 'Blue': 1, '’': 1, '.': 4, 'carbon': 1, 'world': 1, 'yesterday': 1, '200,000': 1, 'photo': 1, 'Laurens': 1, 'My': 1, 'Stumbled': 1, 'w/': 1, 'finally': 1, 'this': 1, 'were': 1, 'Fantastic': 1, 'I': 1, 'project': 1, 'on': 1}\n",
      "{'squirrel': 1, 'candles': 1, 'down': 1, 'her': 3, 'took': 2, 'by': 1, 'the': 12, 'your': 1, 'sunset': 1, 'wed': 1, 'ruined': 1, 'ago': 1, 'other': 1, 'husband': 1, 'couple': 1, 'Christmas': 1, 'me': 2, 'off': 1, 'my': 5, 'a': 6, 'his': 1, 'statue': 1, 'while': 3, 'split': 2, 'our': 1, 'Take': 1, 'eye': 1, 'pic': 1, 'A': 1, 'of': 2, 'told': 1, 'thought': 1, 'Tried': 1, 'as': 1, 'falling': 1, 'realized': 1, '2': 1, 'when': 1, 'up': 1, 'moment': 1, 'flash': 1, 'in': 1, 'cake': 1, 'friend/coworker': 1, 'years': 1, 'birthday': 1, 'at': 2, 'This': 1, 'close': 1, 'after': 1, 'out': 1, 'beach': 1, 'standing': 1, 'champagne': 1, 'and': 2, 'away': 1, 'dangerously': 1, 'shot..': 1, 'bitten': 1, 'went': 1, 'picture': 3, 'day': 1, 'finger': 1, 'anybody': 1, 'fire': 1, 'behind': 1, 'take': 1, 'cork': 1, 'exact': 1, 'it': 1, '...': 1, 'newly': 1, 'friend': 2, 'to': 3, 'wedding': 1, ',': 1, 'Just': 1, 'Took': 1, 'good': 1, 'set': 1, 'Friends': 1, 'boyfriend': 1, '.': 5, 'Mid-air': 1, 'photo': 1, 'She': 1, 'was': 3, 'blowing': 1, 'taken': 1, 'she': 1, 'driving': 1, 'second': 1, 'pick': 1, 'hair': 1, 'bird': 1, 'before': 1, 'that': 2, 'When': 1, 'struggle': 1, 'totally': 1, 'is': 1, 'That': 1, 'nephew': 1, 'creek': 1, 'on': 2, 'hit': 1, 'one': 1, 'idea': 1}\n",
      "{'short': 1, 'uncle': 1, 'Paramount': 1, 'for': 1, 'caught': 1, 'Succeed': 1, 'Jewish': 1, 'painted': 1, '1960s': 1, 'here': 1, 'Terry': 1, 'the': 6, '[': 1, 'internet': 1, '(': 2, 't': 1, '102': 1, '1928': 1, 'Grandmother': 1, 'ago': 1, 'Great': 1, 'weed': 1, 'The': 2, '1962': 1, 'late': 1, 'me': 1, 'Blizzard': 1, 'a': 1, 'his': 3, 'Royce': 2, 'us': 1, 'Dakota': 1, 'mid': 1, 'until': 1, 'Didn': 1, 'yr': 1, 'front': 1, 'existed': 1, 'A': 1, 'of': 3, 'told': 1, 'Pictures': 1, 'across': 1, \"'s\": 1, 'know': 1, 'like': 1, 'saw': 1, 'when': 1, 'in': 7, 'woman': 1, 'classmate': 1, 'years': 2, 'This': 1, 'has': 1, 'Friend': 1, 'logo': 1, '82': 1, 'came': 1, 'and': 1, '80': 1, 'growing': 1, 'cried': 1, 'day': 1, 'greeting': 1, 'backyard': 1, 'Circa': 1, 'Rolls': 2, 'it': 4, 'old': 1, 'same': 1, 'he': 1, 'to': 3, ',': 4, 'grandfather': 1, ']': 1, '1986': 1, 'yearbook': 1, 'looked': 1, 'originally': 1, 'mine': 1, '1965': 1, 'driven': 1, 'North': 1, 'Obama': 1, 'Likely': 1, 'man': 1, 'Barack': 1, 'dad': 1, '.': 9, 'white': 1, '’': 1, 'Crews': 1, 'voted': 1, '--': 1, 'photo': 1, 'Hope': 1, 'post': 2, '38': 1, 'place': 1, '1966': 1, 'Vietnam': 1, 'He': 1, 'was': 1, 'My': 4, 'right': 1, 'films': 1, '1970s': 1, 'getting': 1, ')': 2, '1971': 1, 'Me': 1, 'this': 2, 'Most': 1, 'I': 1, 'is': 1, 'on': 2, 'randomly': 1, 'one': 1}\n",
      "{'some': 1, 'hope': 1, '1000': 1, 'for': 1, 'makes': 1, 'sooo': 1, 'courtyard': 1, 'got': 1, '1536x2048': 1, 'the': 3, 'Poland': 1, '[': 11, 'its': 1, '(': 1, 'County': 1, 'gorgeous': 1, 'cabin': 1, 'light': 1, '2000×3000': 1, '1500': 1, '2500': 1, '1667': 1, 'Doc': 1, 'New': 1, 'Province': 1, 'my': 1, 'design': 2, 'a': 4, 'Upstate': 1, 'with': 2, 'capture': 1, 'Brooklyn': 1, 'read': 1, 'maximize': 1, 'wood': 1, 'Indoor': 1, 'library': 1, 'features': 1, 'forest': 1, 'of': 1, 'but': 1, \"'s\": 1, 'Clocktower': 1, 'subreddit': 1, 'inspiration': 1, 'beneath': 1, 'South': 1, 'greenery': 1, 'like': 1, '3600x2400': 1, 'Gyeonggi': 1, 'Sopot': 1, 'corrugated': 1, 'in': 8, 'guys': 1, '4000x3000': 1, 'OC': 2, 'This': 1, 'most': 1, 'space': 1, 'skylight': 1, 'retractable': 1, 'suspended': 1, 'favorite': 1, 'secluded': 1, 'London': 1, 'apartment': 3, 'it': 1, 'you': 1, 'to': 3, 'bath': 1, ',': 6, ']': 11, 'exterior': 1, 'much': 1, '1490': 1, 'Trabzon-Turkey': 1, 'Korea': 1, 'home': 1, 'penthouse': 1, 'bedroom': 1, 'swimming': 1, '.': 4, 'pool': 1, 'York': 1, 'Open': 1, 'Chau': 1, 'x': 1, '×': 2, 'place': 1, '1028*681': 1, 'Vietnam': 1, 'from': 1, 'My': 1, 'bed': 1, 'Sunken': 1, '2364×2955': 1, '1920': 1, 'Simple': 1, 'Girlfriend': 1, ')': 1, 'metal': 1, '2000x1274': 1, 'this': 2, 'Yangpyeong': 1, 'Secluded': 1, 'I': 2, 'latest': 1, 'Attic': 1, 'tiny': 2}\n",
      "{'buffalo': 1, '.': 3, 'using': 1, 'unsee': 1, 'nuts': 1, 'brother': 1, 'Corolla': 1, 'Ca': 1, 'Stewart': 1, 'favorite': 1, 'of': 1, 'post': 1, 'wo': 1, 'Yoshi': 1, 'got': 1, 'Patrick': 1, 'the': 1, 'My': 2, 'it': 1, '...': 1, 'Show': 1, \"n't\": 3, 'you': 2, 'cigarette': 1, 'dentist': 1, 'Emptying': 1, 'Happy': 1, 'inauguration': 1, ',': 1, '10': 1, 'Does': 1, 'count': 1, 'today': 1, 'Picture': 1, ':': 2, 'ca': 1, 'Me': 1, 'selfie': 1, 'smoking': 1, 'me': 1, 'upvotes': 1, 'this': 2, '?': 1, 'Trump': 1, 'what': 1, 'a': 2, 'at': 2, 'his': 2, 'water': 1, '``': 1, \"''\": 1, 'even': 1, 'stick': 1, 'get': 1, 'and': 1, '!': 3}\n",
      "{'referred': 1, 'countries': 1, 'map': 2, 'all': 1, 'wolves': 1, 'wolf': 1, '20': 1, 'band': 1, 'perspective': 1, 'by': 1, 'the': 5, 'different': 1, 'shift': 1, 'other': 1, 'girl': 1, 'Eagle': 1, 'six': 1, 'The': 1, 'asleep': 1, 'popular': 1, 'monstrosity': 1, 'be': 2, 'a': 3, 'range': 1, 'Inaccuracies': 1, 'ongoing': 1, 'name': 1, 'condimental': 1, 'over': 1, 'An': 1, 'tracking': 1, 'Gable': 1, 'of': 6, 'Thomas': 1, \"'s\": 1, '“': 1, 'year': 1, 'in': 4, 'mentioned': 1, 'combined': 1, ':': 1, 'Nando': 1, 'multiple': 1, 'This': 1, 'GPS': 1, 'List': 1, '1960-2012': 1, 'sauces': 1, 'packs': 2, 'Bible': 1, 'homicides': 1, 'United': 1, 'All': 1, 'image': 1, 'how': 1, 'state': 1, 'due': 1, 'annual': 1, 'to': 4, 'Voyageurs': 1, ',': 1, 'America': 1, 'shows': 2, 'World': 1, 'Mods': 1, 'much': 1, '”': 1, 'an': 1, 'period': 1, 'Image': 1, '.': 6, 'or': 1, 'National': 1, 'Brazils': 1, 'tour': 1, 'are': 1, 'world': 1, 'upvote': 1, 'States': 1, 'avoid': 1, 'from': 1, 'have': 1, 'courtesy': 1, 'Park': 1, 'fires': 1, 'Tracking': 1, 'equal': 1, 'Alaskan': 1, 'nations': 1, 'around': 1, 'this': 1, 'amazon': 1, 'When': 1, 'Most': 1, 'that': 1, 'each': 1, 'announces': 1}\n",
      "{'.': 4, 'lose': 1, 'first': 1, 'want': 1, '*2007*': 1, 'point': 1, 'battle': 1, 'extra': 1, 'Dads': 1, 'ffs': 1, 'best': 1, 'the': 1, 'They': 1, 'Join': 1, 'charged': 1, 'Do': 1, 'reddit': 1, \"n't\": 1, 'tumblr': 1, 'you': 1, 'Minds': 1, 'goths': 1, 'Oh': 1, 'to': 2, 'The': 1, 'Clowns': 1, 'Good': 1, 'be': 1, '?': 1, 'meme': 1, 'use': 1, 'fandom': 1, 'thank': 1, 'Their': 1, '!': 1}\n",
      "{'Cutting': 1, 'high': 1, 'all': 2, 'stone': 1, 'Probably': 1, 'for': 1, 'Cleaning': 1, 'her': 1, 'wasn': 1, 'disables': 1, '2012': 1, 'here': 1, 'now': 1, 'the': 1, '(': 1, 't': 1, 'drive': 1, 'Gore': 1, 'Support': 1, 'my': 2, 'a': 4, 'stopped': 1, '!': 1, '$': 1, 'keyboard': 1, 'x-post': 1, 's': 1, 'One': 1, 'eats': 1, 'since': 1, 'Work': 1, 'phone': 1, 'holder': 1, 'of': 2, 'eager': 1, 'r/gifs': 1, 'shop': 1, '“': 1, 'then': 1, 'candle': 1, 'This': 1, 'after': 1, 'out': 1, 'school': 1, 'ATM': 1, 'unpack': 1, 'dies': 1, 'space': 1, 'does': 1, 'working': 2, 'Temple': 1, 'it': 2, '...': 2, 'Asus': 1, \"n't\": 1, 'heater': 1, 'spot': 1, '20,000': 1, 'co-workers': 1, 'been': 1, 'to': 3, ',': 3, 'local': 1, 'good': 1, 'set': 1, 'Tech': 1, 'need': 1, '”': 1, 'mouse': 1, '’': 2, '.': 5, 'Ancient': 1, 'Rat': 1, 'disc': 1, 'from': 1, 'was': 2, 'My': 1, 'new': 1, '.oh': 1, ')': 1, 'spilled': 1, 'somewhere': 1, 'this': 1, 'belonging': 1, 'When': 1, 'PC': 1, 'I': 2, 'is': 1, 'there': 1, 'on': 1, 'beer': 1}\n",
      "{'Morena': 1, 'Nordic': 1, 'player': 1, 'way': 1, 'short': 1, 'for': 1, 'Elizabeth': 1, 'her': 2, 'chess': 1, 'Quebec': 1, 'Iranian': 1, 'Half': 2, 'from': 1, 'the': 1, 'playing': 1, 'Mexican': 1, 'team': 2, ':3': 1, 'queen': 1, 'correct': 1, 'Baccarin': 1, 'to': 1, ',': 1, 'Winstead': 1, 'Beautiful': 1, 'The': 1, 'rock': 1, 'Girl': 2, 'Derakhshani': 1, 'Rachel': 1, 'US': 1, 'in': 1, 'Victoria': 1, 'hair': 1, 'Dutch': 1, 'own': 1, 'after': 1, 'Mary': 1, 'Dorsa': 1, 'being': 1, 'hijab': 1, 'Skiis': 1, 'plays': 1, 'without': 1, 'banned': 1}\n",
      "{'.': 1, 'Tennessee': 1, 'during': 1, 'Bus': 1, 'over': 1, 'VW': 1, 'reflection': 1, 'brother': 1, 'day': 1, 'A': 2, 'Gum': 1, 'of': 7, 'only': 1, 'the': 3, 'tornado': 1, 'ITAP': 10, 'bench': 1, 'Chicago': 2, '2': 1, 'golden': 1, 'modern': 1, 'friend': 1, 'moody': 1, 'Washington': 1, ',': 2, 'art': 1, 'in': 3, 'Picture': 1, 'flight': 1, 'Puddle': 1, 'through': 1, 'fishing': 1, 'my': 4, 'home': 1, 'a': 4, 'hour': 1, 'at': 1, 'friends': 1, 'after': 1, 'Creek': 1, 'fog': 1, 'rainy': 1, 'on': 1, 'museum': 1, 'one': 1}\n",
      "{'eradicate': 1, 'fans': 1, 'tried': 1, 'all': 1, 'vote': 1, 'Sigmund': 1, 'for': 4, 'My': 1, 'discovered': 1, 'down': 1, 'Col.': 1, 'PhD': 1, 'them': 1, 'she': 1, 'MIT': 1, 'cow': 1, 'her': 1, 'acts': 1, 'last': 1, 'box': 2, 'Harvard': 1, 'called': 1, 'by': 1, 'Hopkins': 1, 'tens': 1, 'got': 1, 'extra': 1, 'now': 1, 'people': 2, 'lies': 1, 'the': 19, 'its': 3, 'days': 1, 'screaming': 1, 'employees': 1, 'began': 2, 'Union': 1, 'What': 1, 'do': 1, 'dwarfs': 1, 'breaks': 1, 'saving': 1, 'making': 1, 'maid': 2, 'Heimlich': 1, 'never': 1, 'devoted': 1, 'The': 2, 'wings': 1, 'Disease': 1, 'service': 1, 'aboard': 1, 'me': 1, 'be': 1, 'Willie': 1, 'my': 1, 'a': 15, 'segregated': 1, 'his': 6, 'awarded': 1, 'with': 2, 'always': 1, 'Army': 1, 'something': 1, 'Fleming': 1, 'not': 1, 'while': 1, 'leave': 1, 'black': 1, '!': 2, 'After': 1, 's': 1, 'smoker': 1, 'refused': 2, 'Donald': 1, 'In': 2, 'grave': 1, 'library': 2, 'over': 1, 'So': 1, 'later': 1, 'where': 1, 'front': 3, 'babysitting': 1, '28': 1, 'A': 1, 'burning': 1, 'frustrated': 1, 'toddler': 1, 'life': 1, 'of': 8, 'but': 1, 'proposed': 1, \"'s\": 2, 'company': 1, 'Fisher': 1, 'seats': 2, 'delivered': 1, 'as': 3, 'Japanese': 1, 'sent': 1, 'Carrie': 1, 'alerted': 1, 'Billy': 1, 'classified': 1, 'when': 3, 'see': 1, 'TIL': 10, 'Carolina': 1, 'Nazis': 1, 'smoke': 1, 'tongue': 1, 'year': 2, 'inside': 1, 'in': 13, 'million': 1, 'Confederates': 1, 'vacation': 1, 'buried': 1, 'mass': 1, 'helped': 1, 'assaulted': 1, 'Shaw': 1, 'astronauts': 1, 'Dr.': 1, 'body': 2, 'letter': 1, 'books': 3, 'after': 1, 'surrounded': 1, 'has': 1, 'Observatory': 1, 'could': 1, '1880s': 1, 'who': 1, 'bathroom': 1, 'Amendment': 1, 'random': 1, 'Black': 1, 'and': 7, 'away': 1, 'space': 1, 'sells': 1, 'register': 1, '3.5': 1, 'Nebula': 1, 'United': 1, 'burned': 2, 'father': 1, 'Now': 1, '&': 1, 'war': 1, 'would': 5, 'better': 1, 'Smallpox': 1, 'troops': 1, 'it': 1, 'removed': 1, 'smaller': 1, 'had': 1, \"n't\": 1, 'say': 1, 'soldiers': 2, '1916': 1, 'police': 1, 'boy': 1, 'lend': 1, 'he': 2, 'decades': 1, 'owner': 1, 'friend': 1, 'next': 1, 'non-smoking': 1, 'to': 13, 'child': 1, ',': 22, '1986': 1, 'predatory': 1, 'anyone': 1, 'much': 1, 'blue': 1, 'hired': 1, 'order': 1, 'parrot': 2, 'we': 1, 'wealthy': 1, 'ran': 1, 'Joel': 1, 'volunteer': 1, '1959': 1, 'yes': 1, 'so': 1, 'baby': 1, 'an': 1, 'Scottish': 2, 'gives': 1, 'Williamina': 1, 'stars': 1, 'turned': 1, 'disease': 1, 'Guinea': 1, '’': 1, '.': 20, 'named': 1, 'white': 1, 'leading': 1, 'put': 1, 'killing': 1, 'cheap': 1, 'him': 4, 'Freud': 1, 'We': 1, 'Challenger': 1, 'are': 2, '9yr-old': 1, 'they': 2, 'will': 1, 'voting': 1, 'States': 1, 'thousands': 1, 'battle': 1, 'She': 1, '6': 1, 'Horsehead': 1, 'from': 3, 'rushed': 1, 'He': 4, 'have': 3, 'was': 4, 'taken': 1, 'Worm': 1, 'S.': 1, 'national': 1, 'Middle': 1, 'real': 1, 'Tiffany': 1, 'right': 1, 'delivery': 1, 'verge': 1, 'producer': 1, 'content': 1, 'team': 1, 'saying': 1, 'performed': 1, 'choke': 1, 'died': 2, 'insult': 1, 'US': 1, 'director': 1, 'staff': 1, 'Howard': 1, 'row': 2, 'brave': 1, 'Ages': 1, 'mama': 1, 'were': 1, 'Physics': 1, 'that': 6, 'recover': 1, 'shuttle': 1, 'compensate': 1, '``': 5, 'there': 1, 'is': 3, 'on': 1, 'another': 1, 'girls': 1, 'said': 2, 'Constitution': 1, \"''\": 5, 'just': 2, 'Megan': 3, 'one': 1, 'cases': 2, 'flapping': 1, 'yours': 1, 'progress': 1}\n",
      "{'sources': 1, 'crime': 1, 'rather': 1, 'scarring': 1, 'vote': 1, 'for': 1, 'makes': 1, 'video': 2, 'discovered': 1, 'quality': 1, 'violent': 2, 'disaster': 1, 'cement': 2, 'cows': 2, 'M87': 1, 'painted': 1, 'her': 1, '2012': 1, 'called': 1, 'by': 3, 'no': 2, 'found': 2, 'free': 1, 'n=55,000': 1, 'lies': 1, 'the': 10, 'children': 1, 'heals': 1, 'Raising': 1, 't': 1, 'They': 1, '(': 1, 'any': 1, 'become': 1, 'era': 1, 'plentiful': 1, 'rice': 1, 'crushing': 1, 'may': 1, 'six': 1, 'The': 2, 'Woman': 1, 'regular': 1, 'Physicist': 1, 'New': 1, 'crimes': 1, 'be': 2, 'country': 1, 'a': 7, 'with': 3, 'times': 1, 'zebras': 1, 'pain': 2, 'read': 1, 'black': 2, 'published': 1, 'open': 1, 'make': 1, 'serious': 1, 'later': 1, 'replaced': 1, 'life': 1, 'percent': 1, 'burning': 1, 'of': 11, 'but': 1, 'light-years': 1, 'self-seals': 1, 'replaces': 1, 'their': 1, 'taxes': 1, 'parents': 1, 'as': 3, 'link': 1, 'faster': 1, 'stripes': 2, 'door': 1, 'when': 2, 'graduate': 1, 'according': 1, 'Washington': 1, 'in': 5, 'million': 1, 'Colorado': 1, 'believe': 1, 'legalizing': 1, 'which': 1, 'theory': 1, 'Stephen': 1, 'nine': 1, '-': 1, 'Scientists': 2, 'at': 1, 'most': 1, 'out': 2, 'aged': 1, 'dies': 1, 'could': 1, 'who': 1, 'Researchers': 1, 'redditors': 1, 'without': 2, 'scientists': 1, 'and': 9, 'supermassive': 1, 'away': 1, 'often': 1, 'enjoyment': 1, 'non-parents': 1, '40': 1, 'limestone': 1, 'astrophysics': 1, 'picture': 1, '76': 1, 'legalization': 1, 'No': 1, 'suggests': 1, 'opens': 1, 'rest': 1, 'biting': 1, 'clearance': 1, 'finds': 1, 'only': 1, 'burns': 1, 'cannabis': 1, 'it': 1, 'games': 2, 'waste': 2, 'beast': 1, 'between': 1, 'Having': 1, 'you': 1, 'kids': 1, 'police': 1, 'crack-resistant': 1, '50': 2, 'deter': 1, 'to': 8, ',': 16, 'reported': 1, 'much': 1, 'increasing': 1, 'Hawking': 1, 'number': 1, 'rubber-like': 1, 'galaxy': 1, 'husk': 1, 'Journal': 1, 'cuts': 1, 'cinder': 1, 'than': 6, 'use': 1, 'products': 1, 'Anaesthesia': 1, 'so': 1, 'actually': 1, 'noticing': 1, 'suggesting': 1, 'happier': 2, '’': 2, '.': 11, 'articles': 1, 'white': 1, 'giving': 1, 'don': 1, 'cheaper': 1, 'York': 1, 'move': 2, 'first': 1, 'reduced': 1, 'hole': 1, 'are': 3, 'feels': 1, 'they': 2, 'will': 1, 'concrete': 2, 'more': 5, 'injury': 1, 'landing': 1, 'She': 1, 'social': 1, 'Since': 1, '300': 1, 'have': 1, 'study': 2, '‘': 1, 'University': 1, 'USA': 1, 'researchers': 1, 'new': 3, 'mutant': 1, 'rates': 1, 'support': 2, 'numerous': 1, 'focus': 1, 'team': 1, 'behaviour': 1, ')': 1, 'evidence': 2, 'flies': 1, 'sand': 1, 'It': 1, 'students': 1, '%': 2, 'smelling': 1, 'flesh': 1, \"'\": 1, 'insects': 1, 'players': 1, 'before': 1, 'silica': 1, 'British': 1, 'should': 1, 'that': 6, 'treatments': 1, 'on': 4, 'function': 1, 'gene': 1, 'stress': 1}\n",
      "{'high': 1, 'all': 1, 'for': 4, 'summer-like': 1, 'quality': 1, 'speed': 1, 'them': 1, 'wo': 1, 'by': 1, 'temperature': 1, 'people': 1, 'the': 10, 'If': 2, 'struck': 1, 'days': 1, 'abnormally': 1, 'What': 2, 'light': 1, 'weather': 2, 'having': 1, 'megathread': 1, 'other': 1, 'sanitizer': 2, 'screw': 1, 'never': 1, 'forested': 1, 'Centauri': 1, 'resistant': 1, 'shorter': 1, 'my': 1, 'a': 4, 'oxygen': 1, 'with': 2, '99.9': 1, 'etc': 1, 'us': 1, 'winter': 2, 'not': 1, 'our': 1, '!': 1, 'lifting': 1, 'message': 1, 'lose': 1, 'Alpha': 1, 'type': 1, 'make': 1, 'A': 1, 'of': 7, 'but': 1, 'difference': 1, 'point': 1, \"'s\": 1, 'experience': 1, 'their': 1, 'like': 2, 'flathead': 1, 'when': 2, 'board': 1, '99.99': 1, 'in': 2, 'hex': 1, 'then': 1, 'years': 2, 'Stephen': 1, 'stuck': 1, 'at': 1, 'leaves': 1, 'could': 1, 'travel': 1, 'weight': 1, 'noticeable': 1, 'drops': 1, 'and': 1, 'often': 1, 'heavily': 1, 'feel': 2, 'using': 1, 'am': 1, 'day': 1, 'head': 1, 'United': 1, 'take': 1, 'neutrality': 1, 'would': 2, 'regions': 1, 'it': 5, 'doing': 1, 'Do': 2, 'universal': 1, 'giraffes': 1, \"n't\": 1, 'allen': 1, 'trees': 1, 'lightning': 1, 'hand': 2, 'screws': 1, 'kills': 1, 'to': 5, ',': 7, 'Hawking': 1, 'we': 1, 'than': 1, 'eastern': 1, 'actually': 1, 'instead': 1, 'Would': 1, 'get': 2, '.': 2, 'fight': 1, 'or': 1, 'during': 2, 'push-up': 1, 'Why': 1, 'they': 1, 'world': 1, 'surviving': 1, 'more': 1, 'uncommon': 1, 'States': 1, 'animals': 1, 'months': 1, 'have': 1, '0.01': 1, 'summer': 1, 'winter-like': 1, 'levels/air': 1, '%': 4, 'net': 1, 'spaceship': 1, 'Help': 1, '?': 7, 'strains': 1, 'were': 1, 'germs': 1, '4': 2, 'that': 1, 'I': 1, 'is': 2, 'users': 1, 'on': 2, 'Phillips': 1, 'just': 1, 'one': 1}\n",
      "{'ocean': 1, 'ever': 1, 'for': 1, '2003': 1, 'SpaceX': 1, 'feet': 1, 'linked': 1, 'took': 1, 'casting': 1, '1,500': 1, 'km': 1, 'now': 1, 'the': 4, '[': 1, '(': 2, 'ago': 1, 'miles': 1, 'two': 1, 'worth': 1, 'night': 1, 'footage': 1, 'The': 2, 'Uncompressed': 1, 'Megapixel': 1, '9': 1, 'a': 6, '81': 1, 'Half-naked': 1, 'nearly': 1, 'Rhode': 1, 'our': 1, '!': 3, 'falcon': 1, 's': 4, 'rises': 1, 'make': 1, 'Astronomers': 1, 'successful': 1, 'reflection': 1, 'brighter': 1, 'nights': 1, 'moon': 1, 'since': 1, 'of': 7, 'Falcon': 2, \"'s\": 2, 'as': 1, '466m': 1, 'like': 1, 'comments': 1, 'descent': 1, 'clearest': 1, 'images': 1, 'Island': 1, 'in': 3, 'OC': 1, 'has': 1, 'after': 1, 'Tuesday': 1, 'Hole': 1, 'Mars': 2, 'spacewalk': 1, 'Black': 1, 'and': 2, 'bright': 1, 'space': 1, 'ISS': 1, 'Earth': 1, 'image': 3, 'drove': 1, 'how': 1, 'it': 4, 'sky': 1, 'Right': 1, 'boy': 1, 'been': 1, 'booster': 1, 'to': 2, ',': 2, ']': 1, 'Capture': 1, 'Took': 1, 'blue': 1, 'camera': 1, 'upvotes': 1, 'many': 1, 'than': 1, '1,400': 1, 'so': 1, 'an': 1, 'launch': 2, 'Heavy': 2, 'get': 1, 'Image': 1, '’': 4, '.': 7, 'closer': 1, 'put': 1, 'during': 1, 'Amazing': 1, 'And': 1, '2,250': 1, 'yesterday': 1, '50,000': 1, 'First': 1, 'thousands': 1, 'landing': 1, 'from': 1, 'taken': 1, 'was': 1, 'race': 1, ')': 2, 'It': 2, '?': 1, 'born': 1, 'this': 1, 'that': 1, 'I': 2, 'is': 2, 'on': 2, 'girls': 1, 'just': 1}\n",
      "{'both': 1, 'some': 1, 'high': 1, 'Palace': 1, 'widest': 1, 'margins': 1, 'bid': 1, 'vote': 1, 'law': 1, 'ever': 1, 'for': 3, 're-election': 2, 'Rhodes': 1, 'JFK': 1, 'election': 1, 'restoration': 1, 'won': 1, 'schools': 1, 'polling': 1, 'size': 1, 'Charles': 1, 'by': 2, 'dandelion': 1, 'Jackie': 2, 'now': 1, 'people': 2, 'the': 18, 'If': 1, 'knowingly': 1, 'its': 2, 'did': 5, 'any': 1, '(': 2, 'physician': 1, 'peppercorn': 1, 'autopsy': 1, 'going': 1, 'What': 2, 'While': 1, 'accept': 1, 'Michael': 1, 'other': 1, 'weed': 1, 'Was': 1, 'consistently': 1, 'park': 1, 'The': 4, 'series': 1, 'Democrats': 1, 'dinners': 1, 'popular': 1, 'be': 3, 'version': 1, 'still': 1, 'Kennedy': 2, 'a': 6, 'versatile': 1, 'his': 2, 'History': 1, 'F.': 1, 'impossible': 1, 'Phelps': 1, 'true': 1, 'with': 1, 'statue': 1, 'not': 2, 'administered': 1, 'taught': 1, 'green': 2, 's': 1, 'heart': 1, 'edible': 1, 'middle': 1, 'In': 2, 'single': 1, 'walk': 1, 'B.C': 1, 'of': 6, 'contradict': 1, 'but': 1, 'used': 1, 'Hotel': 1, 'as': 3, 'Administration': 1, 'Statue': 1, 'Crown': 1, '“': 1, 'like': 1, 'classified': 1, 'reexplain': 1, 'blood': 1, 'up': 1, 'year': 1, 'in': 9, 'these': 2, ':': 2, 'S2': 1, 'why': 1, 'John': 1, 'drop': 1, 'cocktails': 1, '152': 1, 'How': 3, 'led': 1, 'plant': 1, 'Eagles': 1, 'at': 1, 'patina': 1, 'ancient': 1, 'Leonidas': 1, 'most': 1, 'visits': 1, 'time': 1, 'Are': 1, 'medically': 1, 'manage': 1, 'if': 1, 'and': 12, 'descriptions': 1, 'E8': 1, 'copper': 2, 'wide': 1, 'Doom': 1, 'Liberty': 1, 'records': 1, '2000': 1, 'NSFW': 1, 'natural': 1, 'beat': 1, 'Sam': 1, 'California': 1, 'it': 4, 'Buckingham': 1, 'old': 1, '...': 1, 'margin': 1, 'very': 1, 'forming': 1, 'contain': 1, 'he': 1, 'to': 13, ',': 9, 'shows': 1, 'unbroken': 1, 'Mt': 1, 'visit': 1, 'set': 1, 'portray': 1, '1972': 1, 'drug': 1, '”': 1, 'netflix': 1, 'expected': 1, 'an': 1, 'undermine': 1, 'colorful': 1, '’': 1, '.': 6, 'or': 1, 'National': 1, 'leading': 1, 'him': 1, 'rescue': 1, 'remained': 1, 'Why': 1, 'are': 1, 'they': 1, 'uncommon': 1, 'months': 1, 'wife': 1, 'have': 3, 'was': 4, 'completely': 1, 'autopsies': 1, 'Frodo': 1, 'American': 1, 'Olympic': 3, 'photos': 1, 'history': 1, 'come': 2, 'getting': 1, ')': 2, 'US': 2, 'Humanities': 1, 'gave': 1, 'calling': 1, 'students': 1, 'Nixon': 1, 'Gallup': 1, 'wins': 1, 'context': 1, '?': 10, 'before': 1, 'abusive': 1, 'this': 1, 'Trump': 1, 'break': 1, 'that': 2, 'were': 1, '``': 3, 'there': 2, 'is': 2, 'important': 1, 'elementary-aged': 1, 'on': 1, 'II': 1, \"''\": 3, 'UPDATE': 1, 'Endowment': 1, 'remarkably': 1, 'record': 2}\n",
      "{'outreach': 1, 'gets': 1, 'donation': 1, 'for': 5, 'fairly': 1, 'researcher': 1, 'them': 1, 'smart': 1, 'last': 1, 'mail': 1, 'pills': 1, 'else': 1, 'here': 1, 'by': 1, 'means': 2, 'free': 1, 'now': 1, 'the': 11, 'If': 1, 'internet': 1, 'any': 1, 'your': 3, '(': 1, '150-': 1, 'do': 1, 'weather': 1, '7': 3, 'amount': 1, \"'award\": 1, 'allowed': 1, 'choice': 1, 'homeless': 1, 'location': 1, 'looking': 1, 'The': 1, 'household': 1, 'New': 1, 'puppy': 2, 'service': 1, '10th': 1, '311': 1, 'debts': 1, 'be': 2, 'Your': 1, 'assist': 1, 'too': 1, 'pass': 1, 'what': 2, 'a': 9, 'with': 1, 'well': 1, 'behaved': 1, 'Y': 2, 'not': 3, 'read': 1, 'services': 1, 'paying': 1, 'our': 1, '!': 1, '$': 3, 'find': 2, 'exceptional': 1, 'abortion': 2, 'percent': 2, 'heard': 1, 'viable': 1, 'authors': 1, 'reason': 1, 'of': 11, \"'s\": 1, 'commercially': 1, 'their': 2, 'give': 2, 'chance': 1, \"'re\": 1, 'clause': 1, 'see': 1, 'death': 1, 'save': 1, 'in': 2, ':': 4, 'pays': 1, 'through': 1, 'Youtube': 1, 'terminate': 1, 'which': 1, 'pornography': 1, 'genuinely': 1, 'December': 1, '-': 1, 'This': 3, 'whole': 1, 'freedom': 1, 'out': 2, 'dies': 1, 'could': 1, 'if': 5, 'and': 7, 'street': 1, 'voices': 1, 'emergency': 1, 'solve': 1, 'does': 2, 'away': 1, 'also': 1, 'restaurant': 1, 'items': 1, 'scientific': 1, '3.5': 2, 'dispatched': 1, 'AidAccess.org': 1, 'themselves': 1, 'adult': 1, 'access': 2, 'code': 1, 'call': 1, 'old': 1, 'how': 1, \"n't\": 1, 'you': 13, 'seeking': 1, 'he': 1, '0': 1, '50': 3, 'to': 15, 'child': 1, ',': 11, 'send': 1, 'week': 1, 'goes': 1, 'family': 1, 'blue': 1, 'anyone': 2, 'charge': 1, 'restaurants': 1, 'Make': 1, 'Yelp': 2, 'simply': 1, 'THEY': 1, 'home': 1, 'so': 1, 'an': 2, 'instead': 1, 'YSK': 10, 'person': 2, 'paper': 2, 'get': 2, '.': 15, 'deem': 1, 'York': 1, 'X': 2, 'updating': 1, 'are': 1, 'terms': 1, 'journals': 1, '35': 1, 'they': 3, 'want': 1, 'ask': 1, 'will': 4, 'act': 1, 'priced': 1, 'upon': 1, 'publisher': 1, '300': 1, 'So': 1, 'have': 1, 'new': 2, 'can': 4, 'team': 1, 'shelter': 1, 'collectors': 1, 'equal': 2, 'description': 1, 'debt': 1, '100': 1, ')': 1, 'responsible': 1, 'delighted': 1, '%': 5, 'ENDING': 1, 'ARE': 1, 'LYING': 1, 'around': 1, \"'\": 1, 'email': 1, 'before': 1, 'pictures': 1, 'should': 1, 'that': 9, 'member': 1, 'Debt': 1, '``': 2, 'is': 9, 'dog': 3, 'on': 2, 'plaques': 1, 'tell': 1, 'receive': 1, \"''\": 2, 'teach': 1, 'one': 1, 'cases': 1, 'deceased': 1}\n",
      "{'laptops': 1, 'for': 2, 'video': 1, 'watching': 1, 'including': 1, 'gluten': 1, 'organs': 1, 'game': 1, 'last': 1, 'no': 1, 'got': 1, 'decade': 1, 'people': 2, 'the': 12, 'If': 1, 'did': 1, 'go': 1, 'price': 1, 'do': 3, 'miles': 1, 'having': 1, 'into': 1, 'The': 1, 'asleep': 1, 'Papers': 1, 'popular': 1, 'swear': 1, 'be': 1, 'off': 1, 'what': 1, 'a': 3, 'range': 1, 'tight': 1, '15': 1, 'not': 1, 'while': 1, 'cellphone': 1, 'split': 2, 'Came': 1, 'stand': 1, 'ones': 1, 'awake': 1, 'bread': 1, 'mode': 1, 'Fridge': 1, 'walk': 1, 'every': 1, 'later': 1, 'officers': 1, 'where': 1, 'reason': 1, 'of': 5, 'but': 1, 'point': 1, 'screen': 2, \"'s\": 1, 'falling': 1, 'President': 1, 'like': 1, 'when': 2, 'famous': 1, 'Went': 1, 'signal': 1, 'five': 1, 'according': 1, 'ELI5': 10, 'in': 1, 'then': 1, 'freezer': 2, ':': 10, 'vacation': 1, 'smartphones': 1, 'years': 1, 'within': 1, 'adapt': 1, 'How': 4, 'body': 1, 'entirely': 1, 'after': 1, 'has': 1, 'who': 1, 'without': 1, 'and': 3, 'emergency': 1, 'does': 1, 'wide': 1, 'almost': 1, 'back': 1, 'protect': 1, 'age': 3, 'United': 1, 'discomfort': 1, 'only': 1, 'how': 1, 'removed': 1, 'same': 1, 'Do': 1, 'calls': 1, 'you': 2, 'minutes': 2, 'air': 1, 'sealed': 1, 'TV': 1, 'to': 7, ',': 6, 'humanity': 1, 'we': 2, 'ability': 1, 'many': 2, 'than': 1, 'so': 2, 'works': 1, 'get': 3, 'maggots': 2, '.': 3, 'or': 2, 'are': 2, 'Why': 1, 'Panama': 1, 'they': 3, 'surviving': 1, 'more': 1, 'States': 1, 'donor´s': 1, 'place': 1, 'from': 1, 'donated': 1, 'have': 1, 'was': 1, 'bed': 1, 'new': 1, 'allergic': 1, 'can': 2, 'gone': 1, 'come': 1, 'died': 1, 'uncomfortable': 1, 'Military': 1, 'defend': 1, 'today': 1, '?': 8, '5000': 1, 'that': 3, 'I': 1, '``': 1, 'there': 1, 'is': 2, 'on': 1, 'Constitution': 1, 'full': 1, \"''\": 1}\n",
      "{'officially': 1, 'high': 1, 'stop': 1, 'against': 1, 'political': 1, 'vote': 3, 'kite': 1, 'browsing': 1, 'for': 3, 'Catholic': 2, 'waging': 1, 'watching': 1, 'employment': 1, 'down': 2, 'forget': 1, '8': 1, 'renovations': 1, 'about': 1, 'Here': 1, 'goddamned': 1, 'last': 1, 'Florida': 1, 'here': 1, 'kept': 1, 'waited': 1, 'the': 4, 'If': 1, 'date': 1, '<': 2, 'They': 1, 'any': 1, 'You': 1, 'lied': 1, 'PUT': 1, 'do': 1, 'help': 1, 'danger': 1, 'wants': 1, 'drank': 1, 'dank': 1, 'The': 2, 'minute': 1, 'fuck': 2, 'ENTIRE': 1, 'be': 2, 'Jeff': 1, 'Medical': 1, 'legal': 1, 'a': 7, 'what': 1, 'Church': 2, 'with': 1, 'his': 2, 'work': 1, 'jobs': 1, 'well': 1, 'not': 1, 'while': 1, 'i': 1, 'Consuming': 1, '!': 3, '$': 4, 'way': 1, 'lose': 1, 'rights': 1, 'treatment': 1, 'over': 1, 'FAMILY': 1, 'Second': 1, 'THE': 1, 'someone': 2, 'of': 4, 'ONLY': 1, \"'s\": 2, 'revenue': 1, 'Only': 2, 'their': 1, 'give': 1, 'ATE': 1, 'pot': 1, 'Nov.': 1, 'as': 1, 'link': 1, 'combat': 1, 'things': 1, 'outs': 1, 'Marijuana': 1, 'party': 1, 'defeat': 1, 'Please': 1, '“': 1, 'exempt': 1, '4/20/69': 1, '6.7': 1, 'r/trees': 1, 'youtube': 1, 'LISTEN': 1, 'spending': 1, 'CANNABUTTER': 1, 'these': 1, 'in': 5, 'then': 1, 'CO': 1, 'million': 3, ':': 3, 'HS': 1, 'online': 1, 'drop': 1, 'bullying': 1, 'let': 1, 'toke': 1, 'bong': 1, 'years': 1, 'crack': 1, 'mY': 1, 'Never': 1, 'BOWL': 1, '-': 2, 'cool': 1, 'legislator': 1, 'states': 1, 'This': 1, 'has': 2, 'out': 3, 'most': 1, 'banning': 1, '4/20/17': 2, 'school': 1, 'who': 1, 'Massachusetts': 1, 'if': 3, 'and': 3, 'programs': 1, 'tithing': 1, 'announced': 1, '40': 1, 'Bowen': 1, 'went': 1, 'gaming': 1, 'legalization': 1, 'few': 1, 'takes': 1, 'Dear': 1, 'DOWN': 1, 'finding': 1, 'All': 1, 'WHAT': 1, 'neutrality': 1, 'war': 1, 'says': 1, 'Number': 2, 'how': 1, 'it': 1, '...': 1, 'Do': 1, \"n't\": 2, 'you': 5, 'tax': 2, 'minutes': 1, '50': 1, 'to': 11, ',': 7, '70': 1, 'AND': 1, 'passed': 1, 'love': 1, 'BONG': 1, 'we': 1, 'disqualify': 1, 'use': 1, 'than': 1, '”': 1, 'netflix': 1, 'marijuana': 2, 'propose': 1, 'enough': 1, 'beers': 1, 'MJ': 1, 'Joint': 1, 'deserved': 1, '.': 19, 'mere': 1, 'or': 2, 'put': 1, 'status': 1, 'THC': 1, 'effort': 1, 'are': 2, '--': 6, 'DO': 2, 'they': 2, 'Register': 1, 'BOWLS': 1, 'First': 1, 'more': 1, 'upvote': 2, 'OK': 1, 'from': 1, 'donated': 1, 'have': 2, 'was': 1, 'memes': 1, 'can': 1, 'Sessions': 1, 'MY': 1, 'long': 1, 'tests': 1, '850,000': 1, 'today': 2, 'purposes': 1, 'ATTN': 1, 'It': 1, '%': 1, 'net': 1, \"'\": 1, 'JUST': 1, '?': 3, 'this': 1, 'born': 1, 'were': 1, 'Trump': 1, 'should': 3, 'Wisconsin': 1, 'I': 2, 'Joints': 1, 'is': 4, 'on': 4, 'another': 1, \"'ve\": 1, 'just': 2, 'funds': 1, 'smoked': 4, 'ANYONE': 1}\n",
      "{'victimized': 1, 'Dark': 1, 'Played': 1, 'makeup': 1, 'naturally': 1, 'by': 1, 'else': 1, 'here': 1, '💜': 1, 'did': 1, 'go': 1, 'tOo': 1, 'ccw': 1, 'Daytime': 1, 'Skin': 1, 'my': 3, 'a': 4, 'with': 2, 'Makeup': 2, 'work': 2, 'points': 1, 'being': 1, 'hates': 1, 'MuCh': 1, '!': 4, 'Glowy': 1, 'since': 1, 'YoU': 1, 'but': 1, 'warming': 1, \"'s\": 1, 'their': 1, 'flattering': 1, 'up': 2, 'ended': 1, 'in': 1, ':': 1, 'has': 1, 'face': 2, 'came': 1, 'copper': 1, 'and': 1, 'neon': 1, 'lights': 1, 'Reddit': 1, 'MaKeUp': 1, '&': 1, '😊': 1, 'mumma': 1, 'how': 1, 'very': 1, \"n't\": 1, 'women': 1, 'been': 1, 'he': 1, 'makeover': 1, 'to': 4, 'wEaR': 1, ',': 1, 'Took': 1, 'personalized': 1, 'much': 1, 'system': 1, 'so': 1, 'b': 1, 'nervous': 1, 'Who': 1, 'graphic': 1, 'think': 1, 'advice': 1, 'more': 1, 'post': 1, 'from': 1, 'Winter': 1, 'have': 1, 'My': 1, 'coworker': 1, 'tonight': 1, ')': 1, 'today': 1, 'gave': 1, 'around': 1, 'look': 1, '?': 1, 'this': 1, 'heavy': 1, 'I': 4, 'is': 2, 'on': 1, 'said': 1}\n",
      "{'jungle': 1, 'ever': 1, 'for': 3, '21': 1, 'meow': 1, 'down': 1, 'eyes': 1, 'about': 1, 'her': 2, 'last': 1, 'got': 1, 'extra': 1, 'now': 1, 'the': 7, 't': 4, 'anything': 1, 'two': 1, 'into': 1, 'do': 1, 'sad': 1, 'husband': 1, 'loves': 1, 'pretty': 1, 'pure': 1, 'gotten': 1, 'devoted': 1, 'custom': 1, 'me': 2, 'drab': 1, 'soak': 1, 'my': 2, 'r/cats': 1, 'too': 1, 'a': 7, 'house': 1, 'his': 1, 'with': 4, 'third': 1, 'being': 1, 'cats': 1, 'us': 1, 'while': 1, 'our': 2, '!': 1, 'vet': 1, 'find': 1, 's': 1, 'together': 1, 'make': 1, 'loyalty': 1, 'laid': 1, 'every': 1, 'later': 1, 'luck': 1, 'garden': 1, 'excited': 1, 'A': 1, 'of': 2, 'sitting': 1, 'stray': 1, \"'s\": 1, 'adopt': 1, 'as': 1, '“': 1, 'playful.': 1, \"'m\": 2, 'up': 1, 'year': 1, 'in': 5, 'yard': 1, 'office': 1, 'made': 1, 'flower': 1, 'let': 1, 'cat': 3, 'through': 1, 'tired': 1, 'years': 1, 'At': 1, 'morning': 1, 'grass': 1, 'Cat': 1, 'logo': 1, 'antics': 1, 'time': 1, 'came': 1, 'Pushed': 1, 'Thank': 1, 'if': 1, 'and': 6, 'pants': 2, 'sit': 1, 'sane': 1, 'day': 1, 'friendship': 1, 'says': 1, 'weakend': 1, 'Goodbye': 1, 'it': 1, 'say': 2, 'sun': 1, 'you': 1, 'didn': 1, 'default': 1, 'cheese': 1, 'to': 7, ',': 6, 'pair': 1, 'lure': 1, 'we': 1, 'reaching': 1, '”': 1, 'wear': 1, 'so': 1, 'summit': 1, 'an': 1, 'dad': 1, '’': 5, '.': 10, 'ready': 1, 'don': 1, 'him': 1, 'first': 1, 'We': 1, 'because': 1, 'depression': 1, 'Prettiest': 1, 'Mama': 1, 'Wife': 1, 'She': 1, 'Gary': 1, 'He': 1, 'So': 1, 'My': 4, 'have': 2, 'was': 1, 'she': 1, 'can': 1, 'shelter': 1, 'getting': 1, 'soft': 1, 'laugh': 1, 'Ella': 1, 'returned': 1, 'look': 1, 'I': 8, 'couldn': 1, '``': 1, 'is': 1, 'continues': 1, \"''\": 1, 'bit': 1, 'one': 1, 'little': 1}\n",
      "{'gets': 1, 'all': 2, 'ever': 1, 'for': 4, 'browsing': 2, 'resume': 1, 'quality': 1, 'role': 1, 'Attention': 1, 'forget': 1, 'them': 1, 'about': 1, 'asked': 1, 'illegal': 1, 'such': 1, 'by': 1, 'means': 1, 'turns': 1, 'disclose': 1, ';': 1, 'the': 17, 'If': 5, 'playlist': 1, 'your': 8, 'show': 1, 'going': 1, 'do': 1, 'into': 1, '7': 3, 'other': 1, 'may': 1, 'already': 1, 'The': 1, 'dig': 1, 'be': 6, 'delete': 1, 'matter': 1, 'what': 7, 'a': 8, 'with': 2, 'wlan': 1, 'work': 1, 'being': 1, 'possibility': 1, 'etc': 1, 'Y': 2, 'big': 1, 'dementia': 1, 'not': 1, 'alzheimer': 1, 'failing': 1, 'key=clear': 1, '!': 1, 'find': 5, 'way': 1, 'key': 1, 'type': 1, 'command': 2, 'In': 1, 'members': 1, 'charging': 1, 'later': 1, 'percent': 2, 'someone': 1, 'phone': 1, 'stuff': 1, 'of': 14, 'but': 1, 'used': 1, 'those': 1, \"'s\": 1, 'company': 1, 'their': 2, 'play': 1, 'as': 1, 'guests': 1, 'stages': 2, 'area': 1, 'again': 1, 'like': 2, \"'re\": 1, 'businesses': 1, 'PLEASE': 1, 'DEL': 1, 'when': 1, 'see': 1, 'WiFi': 3, 'year': 1, 'computer': 1, 'select': 1, 'in': 8, 'early': 1, 'month': 1, 'able': 1, 'line': 1, 'providers': 1, ':': 11, 'diagnosed': 1, 'dim': 1, 'believe': 1, 'tired': 1, 'which': 1, '-': 1, 'final': 1, 'This': 1, 'benefit': 1, 'out': 6, 'CLASS': 1, 'most': 1, 'smells': 1, 'could': 2, 'time': 3, 'who': 2, 'factor': 1, 'school': 1, 'profile': 1, 'account': 1, 'if': 3, 'depend': 1, 'and': 7, 'does': 1, 'also': 1, 'present': 1, 'information': 1, 'succeeding': 1, 'back': 1, 'hungover': 1, '3.5': 2, 'No': 1, 'GO': 1, 'website': 1, 'explain': 1, 'favorite': 1, 'Care': 1, 'Pay': 1, 'create': 2, 'rest': 1, 'neutrality': 1, 'would': 2, 'TO': 1, 'exactly': 1, 'F12': 2, 'it': 6, 'how': 2, 'removed': 1, \"n't\": 2, 'artist': 1, 'you': 20, 'police': 1, '50': 3, 'friend': 1, 'continue': 1, 'to': 18, ',': 14, 'Just': 1, 'understand': 1, 'family': 2, 'system': 1, 'order': 1, 'college': 1, 'drugs': 1, 'home': 1, 'smell': 1, 'songs': 1, 'an': 2, 'busy': 1, 'instead': 1, 'fucking': 1, 'might': 1, 'get': 2, 'banned': 1, 'disease': 1, 'trip': 1, 'honest': 1, '.': 17, 'or': 6, 'class': 1, 'slippery': 1, 'first': 2, 'song': 2, 'X': 2, 'independently': 1, 'are': 3, 'they': 1, 'will': 2, 'done': 1, 'want': 2, 'password': 2, 'more': 1, 'hospital': 1, 'Missing': 1, 'yourself': 1, 'from': 1, 'So': 1, 'have': 1, 'taken': 2, 'outcome': 1, 'great': 1, 'compare': 1, 'coconuts': 1, 'producer': 2, 'can': 2, 'living': 1, 'click': 1, 'slope': 1, 'equal': 2, 'come': 1, 'calling': 1, 'adjust': 1, '%': 3, 'net': 1, 'netsh': 1, 'this': 4, 'that': 4, 'try': 1, 'member': 1, 'LPT': 11, 'is': 9, 'important': 1, 'on': 2, 'WiFi-name': 1, \"'ve\": 3, 'certain': 1, 'connected': 1, 'just': 1, 'hit': 2, 'one': 1, 'trying': 1}\n",
      "{'Solo': 1, '20': 1, 'down': 1, 'her': 2, 'rupees': 1, 'here': 1, 'got': 1, 'turns': 1, 'style': 1, 'cookie': 1, 'abalone': 1, 'Was': 1, 'seemed': 1, 'me': 1, 'be': 1, 'purchased': 1, 'my': 1, 'a': 5, '101': 1, 'july': 1, 'with': 2, 'friends': 1, 'snow': 1, 'true': 1, 'patriot': 1, 'tips': 1, 'black': 2, '!': 6, 's': 1, 'make': 1, 'chipped': 1, 'life': 1, 'grandma': 1, 'of': 2, 'told': 1, 'used': 1, 'matched': 1, 'recent': 1, 'perfectly': 1, 'gel': 2, 'art': 1, 'in': 1, 'gradient': 1, 'years': 1, 'How': 1, 'has': 1, 'display': 1, 'manicure': 1, 'gloss': 1, 'and': 1, 'milestone': 1, 'back': 1, 'All': 1, 'natural': 1, 'old': 1, 'you': 1, 'newly': 2, 'been': 1, 'hand': 1, 'overlay': 1, 'to': 3, 'nails': 2, ',': 4, 'fourth': 1, 'model': 1, 'Cup': 1, 'so': 1, 'gives': 1, '’': 1, '.': 4, 'acquired': 1, 'These': 1, 'are': 1, 'yellow': 1, 'shell': 1, 'My': 2, 'she': 1, 'appropriate': 1, 'token': 1, 'come': 1, 'Nails': 1, 'getting': 1, 'gray': 1, 'clear': 1, 'Saturday': 1, 'Matte': 2, 'this': 1, 'properly': 1, 'When': 1, 'I': 1, 'on': 1, \"'ve\": 1, 'nail': 1, 'Jazz': 1}\n",
      "{'ever': 2, 'for': 7, 'cow': 1, 'awkwardly': 1, 'hoped': 1, 'hugged': 1, 'onesie': 1, 'the': 6, '[': 10, '<': 3, 'cobwebs': 1, 'dinomother': 1, 'ago': 1, 'do': 1, 'finish': 1, 'making': 2, 'ensuring': 1, 'SO': 1, 'never': 2, 'absolutely': 1, 'me': 2, 'too': 1, 'souls': 1, 'my': 3, 'be': 1, 'a': 3, 'house': 1, 'til': 1, 'work': 1, 'not': 1, 'while': 1, '!': 10, 'epic': 1, 'speechless': 1, 'heart': 1, '3': 3, 'laid': 1, 'excited': 1, 'but': 1, 'mini': 1, \"'s\": 2, 'know': 1, 'literally': 1, 'knew': 1, 'sent': 1, 'Thanks': 10, 'car': 2, 'again': 1, \"'m\": 1, 'up': 2, 'broke': 1, 'art': 1, 'then': 1, 'early': 1, 'tablet': 1, ':': 1, 'birthday': 2, 'accessory': 1, '😂': 1, 'Our': 1, 'entirely': 1, 'could': 1, 'time': 1, 'who': 2, 'freaking': 1, 'everything': 1, 'Thank': 2, 'and': 4, 'using': 1, 'special': 1, 'working': 1, 'went': 1, 'For': 2, 'squeal': 1, 'perfect': 1, 'image': 1, '>': 1, 'it': 2, 'had': 1, \"n't\": 1, 'rainbowterfly': 1, 'you': 2, 'been': 1, 'BEST': 1, 'to': 3, 'send': 1, 'gifted': 1, ',': 1, ']': 10, 've': 1, 'much': 2, 'mug': 1, 'love': 1, 'awesome': 1, 'woke': 1, 'so': 2, 'Holy': 1, 'get': 1, '’': 1, '.': 8, 'first': 1, 'out-of-reach': 1, 'These': 1, 'are': 1, 'cause': 1, 'shark': 1, 'digital': 1, 'switch': 1, 'was': 1, 'group': 1, 'vacuum': 1, 'creating': 1, 'staged': 1, 'immediately': 1, 'long': 1, 'generous': 1, 'It': 1, '?': 1, 'this': 3, 'drawing': 1, 'stayed': 1, 'I': 10, 'on': 2, \"'ve\": 2, 'just': 2, 'pics': 1, 'one': 1}\n",
      "{'21': 1, 'rib': 1, 'PRO/CHEF': 1, 'MISC': 1, 'Pie': 2, 'Spaghetti': 1, 'the': 1, '[': 10, 'cooks': 1, 'Grandmas': 1, 'vanilla': 1, 'a': 1, 'with': 2, 'bits': 1, '!': 1, 's': 1, '3': 1, 'fool': 1, 'eye': 1, 'since': 1, 'A': 1, 'of': 3, 'Michelin': 1, 'Kraken': 1, 'et': 1, 'cake': 1, 'ice': 2, 'cream': 3, 'raspberry': 1, 'made': 2, ':': 1, 'through': 1, 'Paul': 1, 'forced': 1, '-': 1, 'whole': 1, 'Topped': 1, 'ate': 1, 'has': 1, 'Macarons': 1, 'covered': 1, 'and': 2, 'Breakfast': 1, 'inspired': 1, 'Cheesecake': 1, 'recipient': 1, 'stroopwafel': 1, 'held': 1, 'jello': 1, 'Ate': 1, 'base': 1, 'delicious': 1, 'he': 1, 'layer': 2, 'to': 1, 'cookies': 1, ',': 4, 'freshly': 1, ']': 10, 'passed': 1, 'chocolate': 1, '1965': 1, 'extractor': 1, 'Merci': 1, 'Bon': 1, 'an': 1, 'stars': 1, 'Chef': 1, '’': 1, '.': 6, 'white': 1, 'Nuit': 1, 'Blackberry-Lemon': 1, 'Honey': 1, 'generation': 1, \"'Mr\": 1, 'today': 1, \"'\": 1, 'this': 1, 'that': 1, 'Apple': 1, 'I': 3, 'sugar': 1, 'sauce': 1, 'Homemade': 6}\n",
      "{'Pack': 1, 'pistol': 2, 'Navy': 1, 'weapons': 1, 'all': 1, 'Colt': 1, 'for': 2, 'Grandpa': 1, 'Warrior': 1, 'the': 2, 'WW2': 2, 'Atomic': 1, 'any': 1, 'grandfather-in-law': 1, 'site': 1, 'You': 1, 'do': 1, 'into': 1, 'Story': 1, 'AR500': 1, 'guess': 1, 'sparked': 1, 'never': 1, 'Being': 1, 'couple': 1, 'be': 2, 'too': 1, 'types': 1, 'my': 4, 'sorely': 1, 'me': 1, '1911': 1, 'a': 6, 'traveling': 1, 'still': 1, 'his': 1, '!': 1, 'issued': 1, 'hall': 1, 'begged': 1, 'cancer': 1, 'stuff': 1, 'of': 6, 'told': 1, 'lite': 1, 'thought': 1, 'vs': 1, \"'s\": 2, 'Future': 1, 'Richard': 1, 'Deadliest': 1, '2': 1, 'when': 1, 'AR15': 1, 'firearms': 1, 'up': 1, 'food': 1, 'limited': 1, 'mess': 1, 'host': 1, 'in': 3, 'Keanu': 1, 'able': 1, '223': 1, 'MIC': 1, 'birthday': 1, 'at': 1, 'This': 1, 'has': 1, 'brain': 1, 'aged': 1, 'targets': 1, 'Shredding': 1, 'and': 7, 'away': 1, 'Weapons': 1, 'armband': 2, 'cook': 1, 'For': 1, '.45': 1, 'day': 1, 'channel': 1, 'age': 2, 'soldier': 1, 'graduation': 1, 'missed': 1, 'rifle': 1, 'Reeves': 1, 'you': 1, 'Dad': 1, 'he': 2, 'SEAL': 1, 'to': 3, ',': 7, 'Just': 1, 'shot': 1, 'passed': 1, 'awesome': 1, 'young': 1, 'Point': 1, 'Father-in-law': 1, 'German': 1, 'backup': 1, 'interest': 1, 'aesthetics': 1, 'walks': 1, 'person': 1, 'batch': 1, '.': 9, 'class': 1, 'West': 1, 'are': 1, 'will': 1, 'yesterday': 1, \"'d\": 1, 'from': 2, 'was': 4, 'My': 1, '52': 1, 'Mack': 1, 'boxes': 1, 'Machowicz': 1, 'gave': 2, 'this': 1, 'I': 4, '``': 1, 'is': 1, 'another': 1, \"''\": 1, 'one': 2, 'little': 1}\n",
      "{'Street': 1, 'Chelsea': 1, 'Wood': 1, 'ugly': 1, 'Melbourne': 1, 'Grandpa': 1, 'St.Louis': 1, 'Fish': 1, 'NYC': 1, 'by': 6, 'got': 1, '@': 1, 'Mutant': 1, 'the': 1, 'spent': 1, 'Island/NYC': 1, 'Ship': 1, 'do': 1, 'Trevor': 1, 'Lombard': 1, 'Tattoo': 6, 'Curzon': 1, 'NY': 1, 'Macclesfield': 1, 'shoulder': 1, 'my': 2, 'Bones': 1, 'Ninja': 1, 'leg': 1, 'Portland': 1, 'with': 1, 'something': 1, 'Long': 1, 'cover': 1, '!': 1, 'True': 1, 'CA': 1, 'Prahran': 1, 'Productions': 1, 'Teenage': 1, 'of': 2, 'Fernandez': 1, 'tattoo': 1, 'creative': 1, 'up': 1, 'Ave': 1, 'Finally': 1, 'in': 6, 'H': 1, 'Earnhart': 1, 'Victoria': 1, 'GritnGlory': 1, 'Calgary': 1, 'At': 1, '-': 5, 'at': 3, 'This': 1, 'out': 1, 'scar': 1, 'time': 1, 'homage': 1, 'Black': 1, 'and': 1, 'W.': 1, 'sleeve': 1, 'Electric': 1, 'fine': 1, 'Squirtle': 1, '&': 1, 'Parlour': 1, 'Tattoos': 1, 'it': 1, '...': 1, 'Keelin': 1, 'Mission': 1, 'Arcade': 1, 'Phil': 1, 'Tattooed': 1, 'Dublin': 1, 'to': 4, 'thanks': 1, ',': 14, 'Entropy': 1, 'Kings': 1, 'much': 1, 'childhood': 1, 'TRX': 1, 'By': 2, 'Grandma': 1, 'Varem': 1, 'so': 1, 'an': 1, 'Grindhouse': 1, 'Baton': 1, 'Figured': 1, 'Chris': 3, 'Beetle': 1, '.': 4, 'first': 1, 'neighborhood': 1, 'Cavan': 1, 'done': 1, 'UK': 1, 'was': 1, 'My': 3, 'Alberta': 1, 'Done': 1, 'Australia': 1, 'this': 1, 'Empire': 1, 'I': 1, 'MO': 1, '``': 1, 'is': 1, 'Torch': 1, 'Rouge': 1, \"''\": 1, 'Matt': 1, 'Eli': 1}\n",
      "{'’': 3, '.': 1, 'gets': 1, 's': 3, 'Cowboy': 1, 'am': 1, 'corgi': 4, 'K-9': 1, 'wait': 1, 'eats': 1, 'brother': 1, 'Ein': 1, 'Corgi': 3, 'are': 1, 'hole': 1, 'her': 1, 'of': 2, 'tries': 1, 'literally': 1, 'give': 1, 'from': 1, 'the': 1, 'walking': 1, 'table': 1, 'it': 1, 'Proud': 1, 'My': 1, '...': 1, 'Upvote': 1, 'car': 1, 'your': 1, 'you': 1, 'police': 1, 'Bebop': 1, 'mammoth': 1, 'Hey': 1, '👌🏻': 1, 'to': 1, 'girlfriend': 1, 'in': 1, 'asleep': 1, 'dig': 1, 'Mods': 1, 'puppy': 2, 'Thai': 1, 'minute': 1, 'tired': 1, 'Hello': 1, 'puppies': 1, 'a': 3, 'When': 1, 'I': 1, 'own': 1, 'with': 1, 'is': 1, 'has': 1, '15': 1, 'seat': 1, 'hecking': 1, 'litter': 1, 'cousin': 1, 'OMG': 1, '!': 1}\n",
      "{'gets': 1, 'for': 2, 'sold': 1, 'Deception': 1, 'no': 1, 'the': 2, 'simple': 1, 'anything': 1, 'Hey': 1, 'Kong': 1, 'me': 1, 'my': 1, 'with': 1, 'big': 1, 'deal': 1, 'Khan': 2, 'Hong': 1, 'Everyone': 1, '3': 1, 'over': 1, 'videos': 1, 'Lies': 1, 'A': 1, 'of': 1, 'nobody': 1, 'Academy': 1, \"'m\": 1, 'Castillo': 1, 'in': 4, 'years': 1, 'at': 1, 'Thank': 1, 'and': 2, 'Kendrick': 1, 'chat': 1, 'F': 1, '6,500': 1, 'aunt': 1, 'would': 1, 'Mei': 1, 'it': 1, '...': 1, 'spread': 1, 'say': 1, 'you': 1, 'blizzard': 1, 'to': 1, ',': 2, 'Just': 1, 'we': 2, 'condoms': 1, 'compliment': 1, 'creator': 1, 'so': 1, 'an': 3, 'get': 3, 'banned': 1, '.': 5, 'China': 1, 'replied': 1, 'boomer': 2, 'OK': 1, 'was': 1, 'My': 1, 'applause': 1, 'can': 3, 'argument': 1, 'myself': 1, 'buying': 1, '86-year-old': 1, 'Me': 1, 'look': 1, '?': 1, 'Bois': 1, 'I': 2, '``': 1, 'trending': 1, 'said': 1, 'grandmother': 1, \"''\": 1, 'Sal': 1}\n",
      "{'Image': 9, '’': 1, '.': 4, 'way': 1, 'palsy': 1, '70kg': 1, 'don': 1, 'ascended': 1, 'make': 2, 'Hill': 1, 'Motivation': 1, 'career': 1, 'first': 1, 'power': 1, 'day': 1, 'change': 2, 'few': 1, 'Slow': 1, 'stuff': 1, 'clean': 1, 'used': 1, \"'s\": 1, 'months': 1, 'image': 1, 'people': 1, 'Found': 1, 'from': 1, 'excuses': 1, 'If': 1, 'the': 2, '[': 10, 'things': 2, 'as': 1, 't': 1, 'doing': 1, '2': 1, 'you': 5, 'ago': 1, 'two': 1, 'Absolute': 1, 'to': 1, ',': 2, 'Life': 1, ']': 10, 'in': 1, 'made': 1, 'path': 1, 'Truly': 1, 'look': 2, 'student': 1, 'steady': 1, 'Oxford': 1, 'Some': 1, 'Yousafzai': 1, 'that': 1, 'a': 4, 'at': 3, 'cerebral': 1, 'with': 1, 'performs': 1, 'Malala': 1, 'on': 1, 'Jonah': 1, 'insecure': 1, 'paths': 1, 'updates': 1, 'just': 1, 'gives': 1, 'athlete': 1, 'note': 1, 'Adaptive': 1, 'and': 1}\n",
      "{'all': 1, 'ever': 1, 'for': 1, 'hard': 1, 'down': 1, 'caught': 1, 'squeamish': 1, 'slid': 1, 'motorcyclist': 1, 'the': 4, 'going': 1, 'into': 1, 'approx': 1, \"y'all\": 1, 'Riding': 1, 'concussion': 1, 'Maintenance': 1, '3D': 1, 'a': 5, 'work': 1, 'not': 2, 'motorcycle': 1, '!': 2, 'receiving': 1, 'photographer': 1, 'Horrific': 1, 'of': 1, 'Friday': 1, 'remove': 1, 'Fuck': 2, 'silky': 1, \"'m\": 1, 'Caught': 1, 'in': 1, 'skills': 1, 'made': 1, ':': 1, 'Hwy': 1, 'after': 1, 'cardboard': 1, 'without': 1, 'and': 1, 'smooth': 1, 'bad': 1, 'ventilation': 1, 'All': 1, 'bone': 1, '100ft': 1, 'California': 1, 'you': 3, 'boy': 1, 'jacket': 1, 'screws': 1, 'Sur': 1, 'piece': 1, 'to': 1, ',': 2, 'Big': 1, '65mph': 1, 'appreciate': 1, 'home': 1, 'accident': 1, '*WARNING*': 1, 'so': 1, 'might': 1, 'Figured': 1, 'printed': 1, '.': 9, 'purchase': 1, 'tape': 1, 'have': 1, 'deer': 1, 'died': 1, 'myself': 1, 'Best': 1, 'tip': 1, 'Good': 1, 'this': 2, 'should': 1, 'I': 3, 'Hit': 1, 'is': 1, 'on': 1, \"'ve\": 1, 'poke': 1, 'labeled': 1, 'just': 1, 'one': 1}\n",
      "{'browsing': 1, 'for': 2, 'sexy': 1, 'sex': 3, 'about': 3, 'illegal': 1, 'far': 1, 'last': 2, 'no': 1, 'by': 1, 'here': 1, 'got': 1, 'the': 3, 'your': 1, '(': 1, 't': 3, 'did': 2, 'any': 2, 'You': 1, 'What': 1, 'do': 2, 'into': 1, 'dominant': 1, 'having': 1, 'night': 1, 'never': 1, 'Ever': 1, 'guy': 1, 'case': 1, 'vibrators': 1, 'groomed': 1, 'really': 1, 'me': 1, 'too': 3, 'still': 1, 'my': 3, 'a': 1, 'Guys': 1, 'with': 2, 'times': 1, 'friends': 1, '15': 1, 'being': 1, 'ain': 1, '!': 7, 'type': 1, 'In': 1, 'rape': 1, 'since': 1, 'of': 3, 'fingers': 1, \"'s\": 1, 'surprisingly': 1, 'their': 2, 'know': 1, 'nothing': 1, 'Peeve': 1, \"'re\": 1, 'initiated': 1, 'like': 1, 'learnt': 1, 'prositution': 1, 'when': 3, 'year': 1, 'soon': 1, 'in': 3, ':': 2, 'years': 1, 'except': 1, 'penis': 1, '-': 1, 'PSA': 1, 'r/sex': 1, 'started': 1, 'and': 4, 'touched': 1, 'Warning': 1, 'proud': 1, 'NOT': 1, 'orgasming': 1, 'contact': 1, 'partners': 1, 'bodies': 1, 'friendly': 1, 'pop-up': 1, 'polite': 1, 'it': 4, 'how': 2, 'thing': 1, 'had': 1, 'you': 3, 'didn': 1, 'sexual': 1, 'to': 2, ',': 5, 'reported': 1, 'Trauma': 1, 've': 1, 'love': 1, 'horrifying': 1, 'Hitachi': 1, 'so': 1, 'an': 1, 'boyfriend': 1, 'Isn': 1, '’': 5, '.': 8, 'lives': 1, 'during': 1, 'Sexual': 1, 'apologize': 1, 'We': 1, 'want': 1, 'yourself': 1, 'enjoying': 1, 'have': 2, 'was': 2, 'bed': 1, 'realise': 1, 'incredible': 1, 'come': 1, 'men': 1, ')': 1, 'Pet': 1, 'today': 1, 'm': 1, 'porn': 1, 'Me': 1, '?': 2, 'were': 1, 'Some': 1, 'I': 10, '``': 1, 'is': 1, 'seven': 1, 'Men': 1, 'girls': 1, 'tell': 1, 'on': 1, \"'ve\": 1, \"''\": 1}\n",
      "{'some': 1, '326.5': 1, 'short': 1, 'all': 1, 'for': 1, '150lbs': 2, 'chunky': 1, 'hard': 1, '8': 1, 'losing': 1, 'about': 1, \"M/29/5'11\": 1, 'loving': 1, 'took': 1, 'Weight': 1, 'no': 1, 'called': 1, '30': 1, 'got': 1, 'fa**ot': 1, 'the': 3, '[': 9, '-159.5': 1, 'go': 1, '(': 6, 'days': 1, 'lost': 1, 'M/25/6': 1, 'become': 1, '7': 1, 'help': 1, 'Hey': 1, 'The': 1, '167': 1, '99lbs': 1, '233lbs': 1, 'me': 4, 'considered': 1, 'Anorexia': 1, 'my': 5, '190': 1, '9': 2, 'a': 3, 'M/07/1': 1, 'his': 1, '12/18': 1, 'with': 1, 'something': 1, 'being': 1, 'Y': 1, '500lbs': 1, '!': 4, 'longer': 1, 'fat': 1, 'gayness': 1, 's': 1, 'F/24/5': 1, '3': 1, '14': 1, 'over': 1, 'loss': 1, 'serious': 1, 'life': 1, '🎉💃🏽🙌🏾': 1, '418': 1, 'of': 2, 'Made': 1, 'but': 3, 'used': 1, 'hate': 1, 'offered': 1, 'as': 1, 'Birthday': 1, 'morbidly': 1, \"M/44/5'10\": 1, '145=159lbs': 1, 'Got': 1, \"5'10\": 1, 'contract': 1, 'inside': 1, 'in': 3, 'made': 1, '171': 1, 'commercial': 1, 'tired': 1, 'helped': 2, 'years': 2, 'which': 1, 'forced': 1, '304': 1, '10lbs': 1, 'F/28/5': 1, 'This': 1, '13lbs': 1, 'recovery': 1, 'out': 1, '04/17': 1, 'after': 1, 'most': 1, 'weight': 1, '23lbs': 1, 'and': 4, 'lbs': 4, 'working': 1, 'almost': 1, 'Ma': 1, 'Golden': 1, 'F': 1, '246': 1, 'F/49/5': 1, 'rest': 1, 'Look': 1, '>': 9, 'Progress': 1, '2016': 1, '230': 1, 'M/38/5': 1, 'boy': 1, 'been': 1, 'owner': 1, '0': 1, '50': 1, 'to': 7, ',': 6, '10': 1, ']': 9, '285': 1, 'week': 1, 'good': 1, 've': 2, 'love': 1, 'simply': 1, 'need': 1, '”': 5, \"M/22/5'11\": 1, 'get': 2, '’': 9, '.': 5, '375': 1, '605': 1, '175=110': 1, 'LIFE': 1, '444': 1, 'control': 1, 'obese': 2, 'months': 1, '6': 1, '=': 6, 'pounds': 3, 'come': 1, 'finally': 1, '130lbs': 1, ')': 6, 'myself': 2, 'm': 1, 'It': 2, 'Still': 2, '51lbs': 1, '350lbs': 1, 'Loss': 1, \"'\": 1, 'celebrate': 1, 'refers': 1, 'I': 8, 'modeling': 1, 'on': 1, \"'ve\": 1, 'super': 1, \"''\": 5, 'just': 1, 'bit': 1, 'especially': 1, 'progress': 1}\n",
      "{'for': 2, 'cheer': 1, 'Desktop': 1, 'PhD': 1, 'Entirely': 1, 'by': 1, 'got': 1, 'dice': 1, 'spent': 1, 'your': 1, 'machine': 1, 'roommates': 1, 'custom': 1, 'really': 1, 'in-ground': 1, 'my': 5, 'a': 9, 'with': 1, '$': 1, 'M': 1, 'In': 1, 'cross': 1, '1200': 1, 'Skittles': 1, 'Natural': 1, 'life': 1, 'A': 1, 'of': 4, 'but': 1, \"'s\": 1, 'snaps': 1, 'pencils': 1, 'birthdays': 1, 'hold': 1, '3+': 1, 'up': 1, 'GIFs': 1, 'Responds': 1, 'Conversion': 1, 'in': 3, 'made': 1, ':': 1, 'colored': 1, 'years': 1, 'stuck': 1, 'cutter': 1, 'out': 2, 'could': 1, 'instantly': 1, '13,000': 1, 'and': 3, 'tree': 1, 'Swim': 1, 'Bus': 1, 'built': 6, '&': 1, 'laser': 1, 'School': 1, 'prints': 1, 'colour': 1, 'portrait': 1, 'you': 1, 'sorts': 1, 'hand': 1, 'Robot': 1, 'friend': 1, 'to': 1, 'Sure': 1, 'camera': 1, 'watches': 1, 'word': 1, 'so': 1, 'instead': 1, 'GIF': 1, 'bedroom': 1, 'swimming': 1, '.': 2, 'pool': 1, 'first': 1, 'Pond': 1, 'wooden': 1, 'have': 1, 'My': 1, 'DIY': 1, 'laptop': 1, 'bought': 1, 'Built': 1, 'Stratocaster': 1, 'can': 1, 'Ms': 1, 'daughter': 1, 'myself': 1, \"'\": 1, 'this': 1, 'that': 2, 'I': 10, 'That': 1, '30,000': 1}\n",
      "{'gets': 1, 'hard': 1, 'under': 1, 'forget': 1, 'caught': 1, 'about': 1, 'turns': 1, 'the': 1, 'your': 2, 'thinks': 1, 'counting': 1, 'miles': 1, 'do': 1, 'into': 1, 'Hey': 1, 'looking': 1, 'Americans': 1, 'The': 1, 'bike': 2, \"y'all\": 1, 'me': 2, 'my': 1, 'what': 1, 'a': 9, 'Cycling': 1, 'work': 1, '270lbs': 1, 'Guess': 1, 's': 1, 'make': 1, 'later': 1, 'life': 1, 'A': 1, 'rolling': 1, 'cyclist': 1, 'seriously': 1, 'swap': 1, 'faster': 1, \"'re\": 1, 'when': 1, 'year': 1, 'lol': 1, 'in': 3, 'helped': 2, 'medium': 1, 'coal': 1, 'This': 1, 'out': 1, 'if': 1, 'and': 1, 'does': 1, 'lbs': 1, 'back': 1, 'buddy': 1, 'would': 1, 'beat': 1, 'Thought': 1, '2016': 1, 'obesity': 1, 'it': 1, '...': 3, \"n't\": 1, 'you': 1, 'truck': 1, 'Utah': 1, 'to': 4, ',': 6, 'jersey': 1, '3x': 1, 'anyone': 1, 'camera': 1, 'we': 1, '’': 1, '.': 7, '375': 1, '3rd': 1, 'forever': 1, 'are': 1, 'double-take': 1, 'ride': 3, 'change': 1, '2018': 1, 'they': 1, 'done': 1, 'Biking': 1, 'Jersey': 1, 'wife': 1, 'have': 3, 'My': 1, 'new': 2, 'reddit': 1, 'riding': 1, 'gone': 1, '4000': 1, 'driving': 1, 'problem': 1, 'today': 1, '200lbs': 1, 'lane': 1, 'Some': 1, 'I': 1, 'is': 1, 'on': 3, 'asshole': 1, 'little': 1}\n",
      "{'skipping': 1, 'UPS': 1, 'ever': 1, 'video': 1, 'Rousey': 1, 'under': 1, 'forget': 1, 'stretching': 1, '8': 1, 'Smoking': 1, '30': 1, 'wo': 1, 'WHO': 1, 'got': 2, '@': 1, 'the': 2, 'workout': 1, 'your': 1, 'any': 1, '(': 4, 'follow-along': 1, 'lost': 1, 'do': 3, 'start': 1, 'never': 1, '244': 1, 'Ronda': 1, 'sister': 1, 'strange': 1, 'ca': 1, 'bodyweight': 1, 'me': 1, 'my': 1, 'what': 1, 'a': 5, 'something': 1, 'Ago': 1, '!': 3, 'lifting': 1, 'colon': 1, 'over': 1, 'cancer': 2, 'increases': 2, 'someone': 1, 'interview': 1, '18': 1, 'Can': 1, 'of': 7, 'Made': 1, '1.5': 1, \"'s\": 2, 'full-body': 1, 'saw': 1, 'r/flexibility': 1, 'food': 1, 'year': 1, 'pullup': 1, 'exercise': 1, 'Finally': 1, 'then': 2, 'cheat': 1, 'in': 1, 'created': 1, 'years': 1, 'How': 1, 'at': 1, 'This': 1, 'recovery': 1, 'PULL': 1, 'out': 1, 'drinking': 1, 'Female': 1, '140lb': 1, 'if': 1, 'and': 4, '213lbs': 1, '1,000lb': 1, 'lung': 1, 'M/22/SW:366lbs': 1, 'Transformation': 1, 'ton': 1, 'explain': 1, 'NSFW': 1, 'From': 1, 'how': 1, 'it': 2, 'removed': 1, 'obesity': 1, 'gym': 1, \"n't\": 2, 'you': 1, 'minutes': 1, 'alcohol': 1, 'included': 1, 'to': 7, ',': 6, 'Years': 1, 'eating': 1, 'deadlifting': 1, 'happening': 1, 'sheets': 1, 'Followup': 1, 'we': 1, 'barely': 1, 'clip': 1, '2,500': 1, 'Takes': 1, '.': 12, 'Try': 1, 'first': 1, 'morbid': 1, 'Bacon': 1, 'Marine': 1, 'We': 1, '💪': 1, 'risk': 2, 'routine': 1, 'yesterday': 1, 'post': 1, 'meat/cancer': 1, 'months': 1, 'skin': 1, 'square': 1, 'was': 2, 'new': 1, 'Knew': 1, 'Things': 1, ')': 4, 'today': 1, 'US': 1, '200lbs': 1, 'It': 1, 'Wish': 1, 'language': 1, '%': 2, 'inches': 1, 'CW:190lbs': 1, '?': 1, 'properly': 1, 'pictures': 1, '4': 1, 'I': 4, 'each': 1, \"'ve\": 1, 'hit': 1, 'just': 1, 'little': 1, 'club': 1}\n",
      "{'all': 1, 'for': 3, 'ziplock': 1, 'band': 1, 'them': 3, 'applicable': 1, 'about': 1, 'Painted': 1, 'no': 2, 'by': 1, 'bar': 1, 'the': 6, 'your': 4, 'painters': 1, 't': 1, 'hooks': 1, 'You': 1, 'two': 3, 'Put': 1, 'Great': 1, 'light': 1, 'other': 1, 'into': 1, 'LED': 1, 'may': 1, 'never': 1, 'The': 1, 'Paid': 1, 'be': 1, 'me': 1, 'off': 1, 'my': 1, 'Hammer': 1, 'a': 6, 'translate': 1, 'with': 3, 'rubber': 1, 'always': 1, 'something': 1, 'work': 1, 'tasks': 1, '!': 1, '$': 1, 's': 1, 'make': 1, 'reoccurring': 1, 'phone': 2, 'of': 3, 'run': 1, 'but': 1, 'reusable': 1, 'satisfying': 1, 'Google': 1, 'pockets': 1, 'those': 1, 'peel': 1, '12': 1, 'batches': 1, 'Chipotle': 1, 'wanted': 1, 'inside': 2, 'in': 3, 'pour': 1, 'larger': 1, 'made': 1, ':': 1, 'pen-free': 1, 'flat': 1, 'basement': 2, 'How': 1, 'at': 2, 'panel': 1, 'has': 1, 'out': 2, 'check': 1, 'time': 1, 'Sheets': 1, 'shorts': 1, 'and': 3, 'away': 1, 'Using': 1, 'lights': 1, 'hanging': 1, 'also': 1, 'For': 2, 'glass': 1, 'wall': 2, 'Now': 1, 'broken': 1, 'behind': 1, 'natural': 1, 'exact': 1, 'it': 1, 'old': 1, 'words': 1, 'you': 2, 'level': 1, 'next': 1, 'to': 5, 'nails': 1, ',': 6, '10': 1, 'markings': 1, 'places': 1, 'frosted': 1, 'windows': 2, 'siphon': 1, 'use': 2, '”': 1, 'binder': 1, 'get': 1, 'installed': 1, 'funnel': 1, '’': 2, '.': 10, 'or': 1, 'don': 1, 'gas': 1, '2pm': 1, 'keys': 1, 'oil': 1, 'tape': 2, 'learning': 1, 'digital': 1, 'from': 1, 'list': 1, 'have': 1, 'bags': 1, 'My': 1, 'can': 1, 'click': 1, 'worry': 1, ')': 1, 'flipping': 1, 'motor': 1, 'task': 1, 'language': 1, 'tip': 1, 'eaters': 1, 'around': 1, 'With': 1, 'clips': 1, 'this': 2, 'that': 2, 'When': 2, 'I': 1, 'checklist': 1, 'connect': 1, 'touch': 1, 'on': 2, 'is': 1, 'one': 2}\n",
      "{'stop': 2, 'all': 1, 'ever': 1, 'for': 2, 'automated': 1, 'rolls': 1, '20': 1, 'painted': 1, 'posts': 1, 'no': 2, 'here': 2, 'clothing': 1, 'bloody': 1, 'BOG-COL': 1, 'the': 3, 'your': 1, '(': 1, 'sunset': 1, 'going': 1, 'do': 1, 'loves': 1, 'InternationalSkateboarDay': 1, 'The': 3, 'ca': 1, 'carve': 1, 'be': 1, 'me': 1, 'my': 2, 'a': 3, 'with': 2, 'something': 1, 'server': 1, '!': 2, 'epic': 1, 'hoodie': 1, 'make': 1, 'reason': 1, 'Can': 1, 'of': 1, 'run': 1, 'but': 1, 'involved': 1, \"'s\": 1, 'knocked': 1, 'best': 1, 'direction': 1, 'Please': 1, \"'m\": 1, 'when': 1, 'up': 2, 'perfectly': 1, 'year': 1, 'shes': 1, 'crafter': 1, 'save': 1, 'in': 1, 'Actually': 1, 'LongboardingBot': 1, 'rubbing': 1, 'at': 1, 'out': 1, 'brain': 1, 'who': 1, 'started': 1, '2am': 1, 'hand-carved': 1, 'captchas': 1, 'product': 1, 'and': 4, 'skateboarders': 1, 'mocked': 1, 'am': 2, 'potentially': 1, 'picture': 1, 'back': 1, 'nurses': 1, 'prepared': 1, 'take': 1, 'longboard': 1, 'griptape': 1, 'pocket': 1, 'bro': 1, 'old': 1, 'expecting': 1, \"n't\": 3, 'hits': 1, 'you': 1, '/u/febrezey': 1, 'to': 7, 'finished': 1, ',': 1, 'Hi': 1, 'need': 1, 'web': 1, 'mum': 1, 'fit': 1, 'everyone': 1, 'accident': 1, 'so': 1, 'fits': 1, 'carrying': 1, 'get': 1, 'job': 1, 'Am': 1, '.': 7, 'change': 1, 'photo': 1, 'upvote': 1, 'building': 1, 'Carved': 1, 'cruisers': 1, 'taken': 1, 'shifting': 1, 'summer': 1, 'longboarding': 1, ')': 1, 'Korean': 1, 'Police': 1, 'around': 1, '#': 1, '?': 1, 'this': 2, 'were': 1, 'I': 8, 'Nice': 1, 'on': 3, \"'ve\": 1, 'fill': 1}\n",
      "{'61': 1, 'some': 1, 'stop': 1, 'reuse': 1, 'bargains': 1, 'for': 3, 'mirror': 1, 'them': 1, 'shirt': 1, 'small': 1, 'Amazon': 1, 'diagonally': 1, 'got': 2, 'found': 2, 'clothing': 1, 'now': 1, 'the': 2, 'If': 2, 'date': 1, 'its': 1, 'did': 1, 'your': 1, 'Cost': 1, 'vs.': 1, 'two': 1, 'into': 1, 'do': 1, 'plan': 1, 'night': 1, 'pretty': 1, 'mirrors': 1, 'making': 1, 'slow': 1, 'gift': 1, 'The': 1, \"'ll\": 1, 'outfit': 2, 'dupe': 1, 'bigger': 1, 'my': 1, 'what': 1, 'a': 5, 'allowing': 1, 'deals': 1, 'tight': 1, 'work': 1, 'Army': 1, 'with': 1, 'us': 1, 'frugal': 1, 'less': 1, 'our': 2, 'large': 1, '$': 5, 'prices': 1, 'To': 1, '!': 3, 's': 2, 'speak': 1, 'wrap': 1, 'websites': 1, 'Salvation': 1, 'fabric': 1, 'of': 5, 'agency': 1, 'but': 1, 'closet': 1, 'as': 1, '“': 1, 'door': 1, 'like': 2, 'Please': 1, 'when': 1, 'see': 1, 'wanted': 1, 'up': 1, 'Coffee': 1, 'made': 2, 'shared': 1, 'Brewing': 1, 'online': 1, 'which': 1, 'How': 2, '-': 1, 'at': 3, 'after': 1, 'out': 3, 'outdated': 1, 'ISPs': 1, 'thank': 1, 'travel': 1, 'rules': 1, 'and': 4, 'maps': 1, 'announced': 1, 'Money': 1, 'decorations': 1, 'wall': 1, 'sale': 1, 'Buying': 1, '&': 1, 'neutrality': 1, 'Aunt': 1, 'better': 1, 'destroy': 1, 'apps': 1, 'call': 1, 'doing': 1, \"n't\": 1, 'you': 4, 'piece': 1, 'to': 7, ',': 10, 'thrift': 1, 'good': 1, 'much': 1, 'raising': 1, 'gifts': 1, 'FCC': 1, 'love': 1, 'charge': 1, 'painting': 1, 'we': 3, 'Prime': 1, 'bogus': 1, 'customers': 1, 'than': 1, '”': 1, 'so': 3, 'slash': 1, 'enough': 1, 'paper': 2, '’': 2, '.': 5, 'cheap': 1, 'Halloween': 1, 'control': 1, 'think': 2, 'splurging': 1, 'want': 1, 'Turned': 1, 'sewing': 1, '6': 1, 'from': 1, 'have': 1, 'right': 1, 'store': 1, 'block': 1, 'can': 1, 'wrapping': 2, 'homemade': 1, 'men': 1, 'Girlfriend': 1, 'buying': 1, 'congressperson': 1, '2.50': 1, '%': 1, 'spend': 1, 'Day': 1, 'net': 1, 'whoever': 1, 'this': 3, '?': 1, '4': 1, 'accused': 1, 'that': 1, 'I': 11, 'each': 1, 'fees': 1, 'is': 2, 'on': 4, 'just': 2, 'bit': 1, 'wine': 1, 'idea': 1}\n",
      "{'some': 2, '1000': 1, 'GF': 1, 'all': 1, 'vote': 1, 'for': 3, 'unprepared': 1, 'chore': 1, 'down': 1, 'moved': 1, 'mods': 1, 'clean': 1, 'the': 4, 'If': 1, 'its': 1, 'days': 1, 'shift': 1, 'ASKED': 1, 'stay': 1, 'miles': 1, 'money': 1, 'light': 1, 'do': 1, 'help': 1, 'bring': 1, 'suicide': 1, '0.25': 1, \"'ll\": 1, 'late': 1, 'me': 3, 'ADDED': 1, 'be': 1, 'my': 6, 'Clase': 1, 'a': 8, 'house': 1, 'anniversary': 1, 'with': 1, 'friends': 2, 'expensive': 1, 'i': 2, 'Each': 1, 'our': 1, '!': 2, '$': 3, 'message': 1, 'way': 1, 's': 2, 'gamble': 1, 'every': 3, 'someone': 1, 'A': 2, 'of': 1, 'point': 1, 'best': 3, '12': 1, '2': 1, '1,000': 1, \"'m\": 1, 'when': 1, 'see': 1, 'up': 4, 'needed': 1, 'year': 1, 'in': 2, 'prevention': 1, 'let': 1, 'Azul': 1, 'bastards': 1, '😵': 1, 'birthday': 1, '-': 1, 'at': 2, 'joke': 1, 'came': 1, 'unplanned': 1, 'Disney': 1, 'and': 4, 'away': 1, 'restaurant': 1, 'magic': 1, 'working': 1, 'For': 3, 'sit': 1, 'day': 3, 'No': 1, 'marriage': 1, 'shower': 1, 'TO': 1, 'marks': 1, 'only': 1, 'it': 3, '...': 2, 'UPVOTE': 1, 'you': 2, 'kids': 1, 'Having': 1, 'alcohol': 1, 'DAY': 1, 'friend': 2, 'finished': 1, 'to': 10, ',': 3, '10': 2, 'im': 1, 'World': 1, 'Vote': 1, 'passed': 1, 'eat': 1, 'need': 1, 'we': 1, 'upvotes': 3, 'than': 1, 'so': 2, 'Every': 2, 'Today': 1, 'Alright': 1, 'fucking': 1, '1000+': 1, 'get': 1, '’': 4, '.': 15, 'drink': 2, 'drunk': 3, '3rd': 1, 'We': 1, 'because': 1, 'refuse': 1, 'extremely': 1, 'Wife': 1, 'more': 1, 'upvote': 4, 'wife': 1, 'kingdom': 1, 'EVERY': 1, 'll': 2, 'was': 1, 'new': 1, '=': 1, 'IS': 1, 'MY': 1, 'getting': 2, '100': 2, 'girlfriend': 1, 'myself': 1, 'buying': 1, 'THIS': 1, 'talk': 1, 'beverage': 1, 'row': 1, \"'\": 2, 'Let': 2, 'FOR': 1, 'screwed': 1, 'this': 1, 'that': 1, 'cheated': 1, 'I': 5, 'each': 1, 'is': 6, 'another': 1, 'on': 1, 'beer': 2, 'sober': 3, \"'BREAK\": 2, '1': 1}\n",
      "{'Shaq': 1, 'Paint': 1, 'Photomanipulation': 1, 'Criselda': 1, 'x': 2, 'ride': 1, 'Service': 1, '2018': 1, '8272x6200': 1, 'oil': 1, 'Digital': 2, 'acrylic': 1, 'of': 1, 'Full': 1, 'by': 1, 'digital': 3, '1978x1316': 1, 'r/place': 1, 'Democracy': 1, 'the': 1, 'Endgame': 1, '800px': 2, '[': 2, 'American': 1, '12': 1, '16': 1, '“': 1, 'Subway': 1, 'Goddess': 1, 'Samkari': 1, 'Gothic': 1, ',': 22, 'The': 1, 'Mother': 1, ']': 2, 'in': 1, 'Job': 1, '2017': 2, 'Hawking': 1, 'Oil': 1, 'New': 1, 'Day': 1, 'Me': 2, 'me': 1, 'Stephen': 1, 'OC': 1, 'canvas': 2, '2019': 3, '”': 1, '``': 2, 'water': 1, 'pix': 1, 'on': 2, 'Moon': 1, 'Rama': 1, 'rain': 1, 'drinking': 1, \"''\": 3, 'Vasquez': 1, 'Microsoft': 1}\n",
      "{'populations': 1, 'stop': 1, 'ever': 1, 'top': 1, '150lbs': 1, 'subject': 1, 'asked': 1, 'Weight': 1, 'called': 1, ';': 1, 'the': 2, '(': 1, 'into': 1, 'husband': 1, 'Reason': 1, 'park': 1, 'New': 3, 'Christmas': 2, 'me': 5, 'be': 1, 'too': 1, 'my': 3, 'what': 2, 'a': 2, 'his': 1, 'being': 1, 'required': 2, 'not': 1, 'About': 1, '!': 2, 'To': 1, 'Lunch': 1, 'loss': 1, 'every': 1, 'starting': 1, '418': 1, 'of': 2, 'told': 1, 'Obesity': 1, \"'s\": 3, 'ID': 1, 'doctor': 1, 'as': 3, 'CEO': 1, 'surgery': 1, 'exercise': 1, 'in': 2, 'office': 1, ':': 2, '171': 1, 'Reached': 1, 'How': 1, 'morning': 1, 'at': 2, 'has': 1, 'drinking': 1, 'school': 1, 'time': 1, 'weight': 1, 'and': 5, 'jogged': 1, 'proud': 1, 'lbs': 2, 'Taco': 1, 'am': 1, 'Lose': 1, 'No': 1, '10-12': 1, 'From': 1, 'CICO': 1, 'it': 1, '...': 1, 'between': 2, 'you': 2, 'Right': 1, 'he': 1, 'Nutrition': 1, 'to': 3, ',': 4, 'Years': 2, 'week': 1, 'anyone': 1, 'vodka': 1, 'eat': 2, 'young': 1, 'Everything': 1, 'Used': 1, 'water': 1, 'Today': 2, 'instead': 1, 'skipped': 1, '.': 7, 'NSV': 1, 'first': 1, 'apparently': 1, 'wife': 1, 'So': 1, 'was': 2, 'My': 1, 'new': 1, 'can': 1, 'tonight': 1, 'saying': 1, 'remember': 1, 'Learned': 1, 'girlfriend': 1, ')': 1, 'It': 2, 'Bell': 1, 'this': 2, 'heavy': 1, 'should': 1, 'that': 2, 'I': 5, '``': 2, 'goal': 1, 'is': 1, 'on': 1, 'That': 1, \"'ve\": 1, \"''\": 2, 'just': 1}\n",
      "{'some': 1, 'though': 1, 'F.C.C': 1, 'all': 1, 'for': 1, 'forget': 1, 'lead': 1, '1978': 1, 'here': 1, 'the': 2, 'your': 1, 'They': 1, 'Diego': 1, 'do': 1, 'Looks': 1, 'Pentagon': 1, 'MCRD': 1, 'be': 1, 'what': 1, 'us': 1, 'entertained': 1, 'not': 2, 'taught': 1, 'Came': 1, 'actions': 1, '!': 2, 's': 1, 'In': 1, 'A': 1, 'of': 1, 'legally': 1, 'but': 1, 'across': 1, 'point': 1, 'quit': 1, \"'re\": 1, 'San': 1, 'in': 1, 'these': 1, 'guys': 1, 'require': 1, 'deceiving': 1, 'Never': 1, 'years': 1, 'Net': 1, 'Plan': 1, '-': 1, 'Are': 1, 'and': 1, 'back': 1, 'Announces': 1, 'would': 1, 'missile': 1, 'Thought': 1, 'how': 1, 'old': 1, 'you': 3, 'Neutrality': 1, 'he': 2, 'Not': 1, 'to': 4, ',': 2, 'technically': 1, 'designs': 1, 'need': 1, 'we': 1, 'appreciate': 1, 'hear': 1, 'hands': 1, 'Repeal': 1, '’': 1, '.': 6, 'him': 1, 'military': 1, '11': 1, 'post': 1, 'was': 1, 'deck': 1, 'ROTC': 1, 'can': 2, 'Even': 1, 'Military': 1, 'porn': 1, 'wrote': 1, 'truth': 1, 'Good': 1, 'fighting': 1, '?': 1, 'this': 2, 'actress': 1, 'that': 1, 'I': 1, '``': 1, 'submitted': 1, 'on': 1, 'typical': 1, \"''\": 1}\n",
      "{'Threatened': 1, 'vote': 1, 'for': 3, 'makes': 1, 'Jon': 1, 'racking': 1, 'including': 1, 'about': 1, 'last': 1, 'no': 1, 'the': 1, 'Ordered': 1, 'loses': 1, 'F.B.I': 1, 'Was': 1, 'The': 1, 'Backed': 1, 'numbers': 1, 'business': 1, 'Hearing': 1, 'sign': 1, 'Russian': 1, 'a': 1, 'Off': 2, '9/11': 1, 'Secretly': 1, 's': 1, 'Behalf': 1, 'McConnell': 1, 'refused': 1, 'Congress': 1, 'A': 1, 'of': 3, 'but': 1, 'used': 1, 'announcement': 1, 'Counsel': 1, 'classified': 1, 'comments': 1, 'Goes': 1, 'clerk': 1, 'Fired': 1, 'House': 2, 'up': 1, 'year': 1, 'million': 1, 'Quit': 1, 'On': 1, 'Working': 1, 'ambassador': 1, 'government': 2, 'craven': 1, 'who': 1, 'time': 1, 'account': 1, 'and': 1, 'minister': 1, 'revealed': 1, 'hundreds': 1, 'bans': 1, 'information': 1, 'Ajit': 1, 'resign': 1, 'prisons': 1, 'marriage': 1, 'gay': 1, 'Democrat': 1, 'neutrality': 1, 'blocks': 1, 'Russia': 1, 'bill': 1, 'California': 1, 'filed': 1, 'Davis': 1, 'Mueller': 1, 'to': 7, ',': 3, 'send': 1, 'Into': 1, 'Ice': 1, '–': 1, 'FCC': 2, 'White': 1, '.': 2, '’': 1, 'During': 1, 'mention': 1, 'licenses': 1, 'Chairman': 1, 'couples': 1, 'centers': 1, '22': 1, 'Stewart': 1, 'Kim': 1, 'Inquiry': 1, 'petition': 1, 'huge': 1, 'Opened': 1, 'detention': 1, 'Ivanka': 1, 'reopen': 1, 'foreign': 1, 'second': 1, 'calling': 1, 'highly': 1, 'net': 1, 'emails': 1, 'email': 1, 'Trump': 4, 'When': 1, 'Whether': 1, 'is': 1, 'on': 1, 'private': 1, 'personal': 1, 'Pai': 1}\n",
      "{'skipping': 1, 'for': 3, 'serve': 1, 'election': 1, '20': 1, 'grandson': 1, 'fraudsters': 1, 'industry': 1, 'them': 1, 'by': 1, 'Leaders': 1, '@': 1, 'the': 9, 'its': 1, 'internet': 1, 'They': 1, 't': 1, 'humongous': 1, 'foe': 1, 'weather': 2, 'wants': 1, 'silently': 1, 'Was': 1, 'inauguration': 1, 'The': 1, 'Change': 1, 'Giraffes': 1, '19': 1, 'advertisers': 1, 'shown': 1, 'major': 1, 'be': 1, 'gatekeepers': 1, 'Facebook': 1, 'indicating': 1, 'legal': 1, 'endangered': 1, 'a': 2, '2.6': 1, 'his': 2, 'data': 1, 'with': 1, 'ordered': 1, 'leak': 1, 'us': 1, 'not': 1, 'politicians': 1, 'democracy': 1, 's': 1, 'Donald': 1, 'over': 1, 'V.': 1, 'browser': 1, 'Europe': 1, 'Olympics': 1, 'weeks': 1, 'Very': 1, 'doping': 1, 'of': 9, 'Churchill': 1, 'Mass': 1, \"'s\": 3, 'company': 1, 'Revolt': 1, 'their': 2, 'delivered': 1, 'as': 2, 'Internet': 1, 'President': 1, '“': 1, 'isolates': 1, 'classified': 1, 'tweeted': 1, 'companies': 1, 'manages': 1, 'see': 1, 'reveals': 1, 'personally': 1, 'in': 1, 'intelligence': 1, 'needing': 1, ':': 3, 'Belgium': 1, 'Climate': 1, 'needs': 1, 'Net': 2, 'Plan': 1, 'led': 1, 'identity': 1, 'respects': 1, 'celebrities': 1, 'officials': 1, 'face': 1, 'citizens': 1, 'smugglers': 1, 'who': 1, 'facing': 1, 'and': 4, 'terabyte': 1, 'Pledged': 1, 'Fifa': 1, 'went': 1, 'Mozilla': 1, 'Justin': 1, 'Pai': 1, 'few': 1, 'Back': 1, 'estates': 1, 'rest': 2, 'neutrality': 1, 'pay': 1, 'Holdout': 1, 'says': 1, 'Russia': 2, 'extension': 1, '2016': 1, 'how': 1, 'management': 1, \"'Facebook\": 1, 'Two': 1, 'had': 1, 'Neutrality': 2, 'to': 13, ',': 9, 'Urge': 1, 'global': 1, 'Just': 1, 'Lone': 1, 'firms': 1, 'Putin': 1, 'defy': 1, 'Scorched-Earth': 1, 'visit': 1, 'FCC': 3, 'Concerned': 1, 'activity': 1, 'World': 1, 'need': 1, 'drug': 1, 'web': 1, 'Trudeau': 1, 'J.': 1, 'sway': 1, '”': 1, 'slams': 1, 'asset': 1, 'products': 1, 'athletes': 1, 'Is': 1, 'gambling': 1, 'banned': 2, '’': 3, '.': 4, 'loot': 1, 'Attack': 1, 'handing': 1, 'We': 1, 'Roll': 1, 'launches': 1, 'because': 1, 'are': 1, '2018': 1, 'secretly': 1, 'communications': 1, 'Container': 1, 'animals': 1, 'complex': 1, 'Fallen': 1, 'from': 2, 'banks': 1, 'list': 1, 'shell': 1, 'was': 1, 'Winter': 1, 'American': 1, '‘': 1, 'professional': 1, 'inadequate': 1, 'Panamanian': 1, 'cemetery': 1, 'died': 1, 'defend': 1, 'boxes': 1, 'Defenders': 1, 'Soames': 1, 'realDonaldTrump': 1, 'highly': 1, 'net': 1, 'extinction': 1, 'With': 1, \"'\": 2, 'before': 1, 'pathetic': 1, 'Trump': 3, 'Firefox': 1, 'that': 4, 'couldn': 1, '``': 4, 'is': 1, 'on': 1, 'users': 1, \"''\": 3, 'even': 1, 'just': 1, 'continue': 1, 'cyberattacks': 1, 'Vladimir': 1, 'Fight': 2}\n",
      "{'F.C.C': 1, 'for': 1, 'sex': 1, 'Gamer': 1, 'confirming': 1, 'by': 1, 'the': 2, 'autopsy': 1, 'Michael': 1, 'Story': 1, 'suicide': 2, 'Scientist': 1, 'Kong': 1, 'Blizzard': 1, 'iPhones': 1, 'a': 2, 'with': 1, 'George': 1, '81': 1, 'After': 1, 'Banned': 1, 'Geekbench': 1, 'Officials': 1, 'of': 1, 'Arizona': 1, 'Company': 1, \"'s\": 1, '95': 1, 'President': 1, 'reveals': 1, ':': 2, 'John': 1, 'consistent': 1, 'Employees': 1, 'Senator': 1, 'Net': 2, 'Stephen': 1, 'Dr.': 1, 'Plan': 1, '-': 1, 'Lee': 1, 'at': 3, 'has': 2, 'Epstein': 2, 'aged': 1, 'dies': 1, 'trafficker': 1, 'away': 1, 'homicidal': 1, 'Views': 1, 'Bush': 1, '76': 1, 'age': 1, 'slows': 1, 'Announces': 1, 'Staged': 1, 'it': 1, 'Neutrality': 2, 'older': 1, 'Walkout': 1, 'Former': 1, 'to': 1, ',': 4, '94': 1, 'Hawking': 1, 'passed': 1, 'than': 1, 'Repeal': 1, 'Report': 1, 'Stan': 1, 'Pro-Hong': 1, '.': 2, 'dead': 1, 'Jeffrey': 2, 'H.W': 1, 'Dies': 1, 'strangulation': 1, 'more': 1, 'admits': 1, 'died': 1, 'Baden': 1, 'Overturned': 1, 'accused': 1, 'Apple': 1, 'McCain': 1, 'report': 1}\n",
      "{'Square': 1, 'victims': 1, 'ever': 1, 'for': 2, 'sold': 1, 'forget': 1, 'himself': 2, 'sex': 1, 'posts': 1, 'fellow': 1, 'by': 4, 'free': 1, 'the': 9, '[': 1, 'days': 2, 'wrong': 1, 't': 1, 'They': 1, 'price': 1, 'ago': 1, 'protesters': 1, 'Don': 1, 'suicide': 2, 'waterboarding': 1, 'The': 1, 'Sources': 1, 'Evidence': 1, 'guy': 1, 'me': 1, 'Coloradoans': 1, 'my': 2, 'establishment': 1, 'featuring': 1, 'undergo': 1, 'a': 1, 'his': 2, 'with': 3, 'house': 1, 'showed': 1, 'not': 2, 'elite': 1, 'cover': 2, 'our': 1, 'deleted': 1, '$': 1, 'slaves': 1, 'over': 1, 'power': 1, 'every': 1, 'IT': 1, 'army': 1, 'front': 2, 'since': 1, 'of': 5, 'lobby': 1, 'jail': 1, 'those': 1, \"'s\": 5, 'Manhattan': 1, 'best': 1, 'r/Colorado': 1, 'offered': 1, 'as': 1, 'Hannity': 1, 'when': 1, '95,023': 1, 'up': 3, 'in': 1, 'guys': 1, 'asking': 1, ':': 3, 'charity': 1, 'mass': 1, 'Senator': 1, 'Paul': 1, 'at': 1, 'This': 3, 'has': 2, 'Hillary': 1, 'Epstein': 1, 'killed': 3, 'dies': 1, 'who': 1, 'and': 4, '80': 1, 'hanging': 1, 'Admins': 1, 'twice': 1, 'underage': 1, 'Reddit': 1, 'testify': 1, 'proof': 1, 'Combetta': 1, 'nation': 1, 'telecom': 1, 'cell': 1, 'image': 1, 'only': 1, 'it': 3, 'how': 1, 'scares': 1, 'police': 1, 'rare': 1, 'been': 1, 'he': 1, 'knees': 1, 'friend': 1, 'to': 6, ',': 10, 'censored': 1, ']': 1, 'shot': 1, 'page': 2, 'Sean': 1, 'slaughter': 1, 'upvotes': 1, 'owned': 1, 'pedophile': 1, '134,000': 1, 'REMINDER': 1, '’': 1, '.': 13, '2866': 1, 'Jeffrey': 1, 'are': 3, 'done': 1, 'they': 1, 'island': 1, 'from': 2, 'He': 2, 'was': 5, 'My': 1, 'Chinese': 1, 'Reminder': 1, 'editing': 1, 'reddit': 2, 'It': 2, 'watch': 1, 'responsible': 1, 'net': 1, 'emails': 1, 'Tiananmen': 1, 'this': 1, 'before': 1, 'that': 2, 'member': 1, 'own': 1, 'is': 1, 'dog': 1, 'on': 2, 'connected': 1, 'just': 1, 'peaceful': 1, 'torture': 1, 'trying': 1, 'Billionaire': 1}\n",
      "{'against': 1, 'all': 1, 'for': 5, 'term': 1, 'dropped': 1, 'industry': 1, '30': 1, 'now': 1, ';': 1, 'the': 4, 'If': 1, 'limits': 1, 'going': 1, 'money': 1, 'into': 1, 'worst': 1, 'the_donald': 1, 'energy': 1, 'Americans': 1, 'late': 1, 'retrieve': 1, 'deposited': 1, 'me': 1, 'too': 1, 'what': 1, 'a': 1, 'Special': 1, 'his': 1, 'not': 1, 'uncompetitive': 1, '!': 1, 'True': 1, 'prices': 1, '$': 1, 's': 2, 'Congress': 2, 'irl': 1, 'later': 1, '4800': 1, 'Very': 1, 'charges': 1, 'of': 1, 'deficits': 2, 'but': 1, 'told': 1, 'pension': 1, \"'s\": 1, 'their': 1, 'President': 1, 'solar': 1, \"'re\": 1, 'like': 1, 'interests': 1, 'NYPD': 2, 'year': 1, 'thee': 1, 'spending': 1, ':': 1, 'Welcome': 1, 'imposes': 1, 'tarriff': 1, 'Paul': 1, 'hypocrisy': 1, 'panel': 1, 'at': 1, 'explained': 1, 'has': 1, 'and': 2, 'fund': 1, 'higher': 1, 'protect': 1, 'imports': 1, 'Literally': 1, 'Now': 1, 'pay': 1, 'bill': 1, 'it': 3, 'very': 1, \"n't\": 1, 'you': 2, 'visiting': 1, 'been': 1, 'he': 2, 'Republicans': 1, 'to': 5, 'Rand': 1, ',': 3, 'need': 1, 'home': 1, 'an': 1, 'Freedom': 1, 'confiscates': 1, 'Obama': 1, 'man': 1, '’': 2, '.': 5, 'r/Libertarian': 1, 'eventually': 1, 'We': 1, 'are': 2, 'Republican': 1, 'renewable': 1, 'tries': 1, 'ransacks': 1, 'have': 1, 'new': 1, 'US': 1, '%': 1, 'definition': 1, '?': 1, 'Trump': 1, 'were': 1, 'that': 2, 'When': 1, 'Sen.': 1, '``': 1, 'is': 3, 'on': 3, 'senate': 1, \"''\": 1}\n",
      "{'football': 2, 'picking': 1, 'against': 1, 'human': 1, 'for': 7, 'under': 1, 'losing': 1, 'UNH': 1, 'largest': 1, 'Slave': 1, 'entire': 1, 'campaign': 1, 'such': 1, 'by': 2, 'means': 1, 'people': 1, 'now': 1, 'the': 11, '2.5': 1, 'nonprofits': 1, 'Goodman': 1, 'money': 2, 'machine': 1, 'reelection': 1, 'trillion': 1, 'The': 2, 'Support': 1, 'cynism': 1, 'extreme': 1, 'nonprofit': 1, 'american': 1, '56': 1, 'really': 1, 'me': 1, 'basic': 2, 'crows': 1, 'my': 1, 'Access': 1, 'Scare': 1, 'decisions': 1, 'a': 7, 'strike': 1, 'his': 2, 'with': 3, 'scoreboard': 1, 'us': 1, 'not': 1, 'Dakota': 1, 'despair': 1, 'large': 2, '$': 2, 'throwing': 1, 's': 1, 'lived': 1, 'Labor': 1, 'library': 1, 'An': 1, 'worked': 1, 'income': 1, 'single': 1, 'every': 1, 'where': 1, 'life': 1, 'Planned': 1, 'scientifically': 1, 'Us': 1, 'grow': 1, 'fear': 1, 'Irresponsible': 1, 'of': 4, 'handout': 1, 'but': 1, \"'in\": 1, 'news': 1, \"'s\": 1, 'acting': 1, 'Future': 1, 'as': 3, 'segment': 1, 'realized': 1, 'Biden': 1, 'honor': 1, 'raised': 1, '1,000': 1, 'cigarette': 1, 'integrity': 1, 'up': 1, 'according': 1, 'food': 1, 'Intercept': 1, 'spending': 1, 'in': 5, 'month': 1, 'diverts': 1, 'frugally': 1, ':': 3, 'Giving': 1, 'cable': 1, 'years': 1, 'pressure': 1, 'Senate': 1, 'respect': 1, 'Our': 1, '-': 1, '20th': 1, 'Dutch': 1, 'This': 1, 'Brooks': 1, 'citizens': 1, 'who': 1, 'Should': 1, 'without': 2, 'self-control': 1, 'David': 1, 'and': 5, 'donate': 1, 'away': 1, 'siblings': 1, 'working': 1, 'Amy': 1, 'donations': 1, 'highest': 1, 'workers': 1, 'United': 1, 'butts': 1, 'All': 1, 'pay': 1, 'would': 1, 'Pipeline': 1, 'disagreed': 1, 'adult': 1, 'tuition': 1, 'university': 2, 'it': 2, 'avoided': 1, 'filed': 1, 'had': 4, 'among': 1, 'universal': 1, 'state': 1, 'he': 2, '2025': 1, 'network': 1, 'Not': 1, 'to': 5, ',': 8, 'thanks': 1, 'president': 1, 'campus': 1, 'humanity': 1, 'Indians': 1, 'ran': 1, 'many': 1, 'than': 1, 'enormous': 1, 'developing': 1, 'instead': 1, 'Is': 2, 'economy': 1, 'Obama': 2, 'rewards': 1, 'Jan.': 1, 'Barack': 1, '’': 1, '.': 19, 'lives': 1, 'or': 1, 'literate': 1, 'status': 1, 'Gamble': 1, 'him': 3, 'part': 1, 'are': 1, 'elegance': 1, 'risk': 1, 'more': 1, '11': 1, 'States': 1, 'She': 2, 'from': 1, 'Family': 1, 'He': 4, 'was': 2, 'My': 1, 'American': 1, 'study': 1, 'she': 1, 'miss': 2, 'ACLU': 1, 'new': 2, 'have': 1, 'Pope': 1, 'can': 2, 'team': 1, 'per': 1, 'history': 1, 'candidate': 1, '2020': 1, 'Even': 1, 'staged': 1, 'Times': 1, 'Parenthood': 1, 'fortune': 1, 'spends': 1, 'US': 1, '2017': 1, 'changed': 1, 'Day': 1, 'With': 1, \"'\": 1, 'Reporting': 1, 'before': 1, 'Trump': 1, 'Librarian': 1, 'sums': 1, 'that': 2, 'Facing': 1, 'I': 5, 'kid': 1, '``': 2, 'is': 2, 'cash': 1, 'on': 6, 'Prison': 1, 'That': 1, 'typical': 1, 'receive': 1, \"''\": 2, 'just': 1, 'one': 1}\n",
      "{'Editing': 1, 'Melbourne': 1, 'won': 1, 'Admits': 1, 'the': 2, 'go': 2, 'vs.': 1, 'do': 3, 'gone.': 1, 'guy': 1, 'me': 1, 'be': 1, 'my': 1, 'u/spez': 1, 'what': 1, 'a': 2, 'Names': 1, 'Ben': 1, 'straight': 1, 'deleted': 1, 's': 2, 'Deserves': 1, 'Clinton': 3, 'of': 3, 'but': 1, \"'s\": 2, 'Admin': 1, 'reasonable': 1, '“': 1, 'when': 1, 'Young': 1, 'let': 1, '-': 1, 'July': 1, 'This': 1, 'has': 1, 'Hillary': 2, 'Man': 1, 'account': 2, 'and': 2, 'street': 1, 'Name': 1, 'fine': 1, 'Reddit': 1, 'Comments': 1, 'behind': 1, '...': 4, 'artist': 1, 'Well': 1, 'to': 2, ',': 4, 'mural': 2, 'we': 1, 'Mentioning': 1, 'Known': 1, '4th': 1, '”': 1, 'so': 1, 'Pushback': 1, 'Forget': 1, 'get': 1, 'Obama': 1, '’': 2, '.': 3, 'racy': 1, 'Users': 1, 'Active': 1, 'Why': 1, 'Shapiro': 1, 'So': 1, 'Seems': 1, 'she': 1, 'There': 1, 'It': 1, 'Shooters': 1, 'Let': 1, 'this': 1, 'Been': 1, 'Trump': 3, 'Has': 1, 'I': 1, 'is': 1, 'on': 5, 'said': 1, 'one': 1, 'Instagram': 1}\n",
      "{'gets': 2, 'for': 3, 'lawsuit': 1, 'hard': 1, 'down': 1, 'himself': 1, 'Amazon': 1, 'employee': 1, 'cop': 1, 'by': 2, 'holds': 1, 'networks': 1, 'clothing': 1, 'free': 1, 'people': 1, 'the': 3, 'sweat': 1, 'internet': 1, 'site': 1, 'charged': 1, 'lost': 1, 'thinks': 1, 'do': 1, 'choked': 1, 'Michigan': 1, 'parodies': 1, 'Twitter': 1, 'roommate': 1, 'The': 1, 'series': 1, 'Support': 1, 'suffering': 1, 'Bestselling': 1, 'vegans': 1, 'be': 2, 'a': 5, 'his': 3, 'with': 2, 'range': 1, 'George': 1, 'Vegan': 1, 'not': 1, 'guard': 1, 'Cruz': 1, 'less': 1, '$': 1, 'way': 1, 'shut': 1, 'stimulate': 1, 'Donald': 1, 'life': 1, 'presidential': 1, 'of': 4, 'sues': 1, 'but': 1, \"'healthy\": 1, 'news': 1, \"'s\": 3, 'prove': 1, 'weak': 1, 'their': 1, 'Ted': 1, 'shop': 1, 'labourers': 1, 'Orwell': 1, 'CEO': 1, 'medical': 1, 'requires': 1, 'made': 1, 'woman': 1, 'cable': 1, 'genitals': 1, '-': 1, 'self': 1, 'parking': 1, 'at': 1, 'This': 1, 'has': 1, 'dies': 1, 'who': 1, 'account': 1, 'and': 4, 'does': 1, 'bans': 1, 'working': 1, 'X-rated': 1, 'Women': 1, 'Book': 1, 'Starbucks': 2, 'chain': 1, 'Now': 1, 'On-duty': 1, 'pay': 1, 'would': 1, 'says': 1, 'it': 2, \"n't\": 2, 'women': 1, 'Beyoncé': 1, 'Nobel': 1, 'to': 5, ',': 5, 'lookalike': 1, '10': 1, 'mesh': 1, 'Mt': 2, 'Against': 1, 'nominated': 1, 'hiring': 1, 'college': 1, 'everest': 1, 'Cards': 1, 'than': 1, 'Peace': 1, '0.44': 1, 'candidates': 1, 'Porn': 1, 'expenses': 1, 'emotional': 1, 'spills': 1, 'Is': 1, \"'politically\": 1, 'Obama': 1, 'man': 1, 'Barack': 1, 'attorney': 1, '.': 7, 'pennies': 1, 'Empower': 1, 'altitude': 1, 'because': 1, 'are': 1, 'ticket': 1, 'auditions': 1, 'sickness': 1, 'tries': 1, 'belief': 1, 'actor': 1, 'He': 1, 'have': 1, 'defecates': 1, 'was': 1, 'coffee': 1, '1984': 1, 'new': 1, 'right': 1, 'content': 1, 'per': 1, 'Humanity': 1, 'climbs': 1, 'Everest': 1, \"'\": 2, '#': 1, 'Trump': 2, 'hour': 1, 'I': 1, '``': 2, 'Gym': 1, 'is': 2, 'on': 4, 'hire': 1, '£': 1, \"''\": 2, 'Prize': 1, '1': 1}\n",
      "{'countries': 1, 'for': 2, '1kB': 1, 'about': 1, 'Hoser': 1, 'no': 1, 'here': 2, 'got': 1, 'people': 3, 'the': 2, 'your': 2, 'did': 2, '(': 1, 'show': 1, 'You': 1, 'FAKENEWS': 1, 'do': 1, 'PIPE': 1, 'Twitter': 1, 'international': 1, 'descended': 1, '2h': 1, 'The': 1, 'Canada': 4, 'ca': 1, 'keep': 1, 'standings': 1, 'me': 1, 'my': 3, 'a': 1, 'Telus': 1, 'house': 1, 'data': 1, 'third': 1, \"'Breitbart\": 1, 'Denmark': 1, 'Those': 1, 'reach': 1, '!': 1, '$': 1, 'DRAINAGE': 1, 'life': 1, 'Parliament': 1, 'phone': 1, 'A': 1, 'of': 4, \"'s\": 3, 'column': 1, \"'The\": 1, 'their': 1, 'give': 1, '5,000': 1, 'knew': 1, 'Thanks': 1, 'hold': 1, '“': 1, 'like': 1, 'up': 1, 'whenever': 1, 'in': 5, 'Proudest': 1, 'larger': 1, '5': 1, 'Lest': 1, 'Daily': 1, 'protest': 1, 'most': 1, 'care': 1, 'out': 1, 'and': 3, 'rankings': 1, 'policies': 1, 'present': 1, 'Hill': 1, 'am': 2, 'billed': 1, 'Reddit': 1, 'day': 1, 'ranked': 1, 'beautiful': 1, 'would': 1, 'posting': 1, 'Caller': 1, 'bill': 1, 'fibre': 1, 'it': 2, 'magazine': 1, 'meant': 1, \"n't\": 2, 'Canadians': 1, 'you': 3, 'police': 1, 'turn': 1, 'to': 6, ',': 2, 'shows': 1, 'r/denmark': 1, 'number': 2, 'Trudeau': 1, 'home': 1, 'use': 1, 'than': 1, 'Ottawa': 1, '”': 1, 'so': 2, 'Forget': 1, '.': 10, 'answer': 1, 'fight': 1, 'Who': 1, 'part': 1, 'We': 1, 'technician': 1, 'are': 1, 'photo': 1, 'coverage': 1, 'more': 1, 'upvote': 1, 'Since': 1, 'list': 1, 'left': 1, 'Olympic': 1, 'support': 1, 'confirm': 1, 'MY': 1, '100': 1, ')': 1, 'today': 2, 'US': 2, 'It': 1, 'THROUGH': 1, 'Saturday': 1, 'Bell': 1, \"'\": 2, '#': 1, 'google': 1, 'look': 1, 'this': 5, 'Trump': 1, 'were': 1, 'that': 6, 'When': 1, 'I': 3, 'Time': 1, 'is': 1, 'progressive': 1, 'on': 5, 'claim': 1, \"'ve\": 1, 'there': 1, 'trying': 2, '1': 1, 'comes': 1}\n",
      "{'gets': 1, 'NBA': 1, 'video': 1, 'fell': 1, 'her': 1, 'no': 1, 'thrown': 1, 'WON': 1, 'the': 6, 'They': 1, 'TorontoTheGood': 1, 'help': 1, 'tracks': 1, 'CN': 1, 'The': 1, 'balcony': 2, 'absolutely': 1, 'parade': 1, 'sign': 1, 'be': 2, 'off': 1, 'autumn': 1, 'a': 1, 'with': 1, '!': 2, 'longer': 1, 'Drinking': 1, 'TTC': 1, 'stupid': 1, 'over': 1, 'THE': 1, 'A': 1, 'of': 1, 'G20': 1, \"'s\": 2, 'condo': 1, 'party': 1, 'Tower': 1, 'happened': 1, 'championship': 1, \"ID'ing\": 1, 'Toronto': 2, 'in': 2, ':': 1, 'woman': 1, 'News': 1, 'at': 2, 'saved': 1, 'This': 1, 'Georgio': 1, 'most': 1, 'City': 1, 'could': 1, 'Ford': 2, 'recognized': 1, 'Raptors': 1, 'and': 1, 'Buddy': 1, 'picture': 1, 'public': 1, 'TORONTO': 2, 'Doug': 1, \"n't\": 1, 'you': 1, 'annihilated': 1, 'to': 1, 'shows': 1, 'Took': 1, 'HAVE': 1, 'weekend': 1, 'Mammolitti': 1, 'CBC': 1, 'Councilor': 1, 'man': 1, 'boos': 1, '.': 5, 'seen': 1, 'him': 1, 'Extremely': 1, 'These': 1, 'tossing': 1, 'upvote': 1, 'from': 1, 'Chair': 1, 'dangerous': 1, 'have': 1, 'WE': 1, 'seek': 1, 'chair': 1, 'CHAMPIONSHIP': 1, 'Rob': 1, 'men': 1, 'Police': 1, '#': 1, 'should': 1, 'that': 1, 'I': 1, 'is': 1, 'on': 1, 'just': 1}\n",
      "{'some': 1, 'Arthur': 1, 'all': 1, 'wearing': 1, 'for': 1, 'Catholic': 1, 'cam': 1, 'under': 1, 'them': 1, 'Apparently': 1, 'Irony': 1, 'Same-sex': 1, 'now': 1, ';': 1, 'the': 3, 'did': 1, '1996': 1, 'sticker': 1, 'night': 1, 'The': 2, 'provide': 1, 'ca': 1, 'Eat': 1, 'Port': 1, 'selfie': 1, 'faking': 1, 'votes': 1, 'off': 1, 'decided': 1, 'my': 1, 'legal': 1, 'a': 5, 'his': 4, 'with': 3, 'Church': 1, 'earning': 1, 'us': 1, '!': 2, 'After': 1, '$': 1, 'hippy': 1, 'Parafield': 1, 'owners': 1, 'vest': 1, 'over': 1, 'Jack': 1, 'Minister': 1, 'someone': 1, 'massacre': 1, 'phone': 1, 'dick': 1, 'of': 2, \"'s\": 2, 'replaces': 1, 'bullet-proof': 1, 'gun': 1, 'plaque': 1, 'funded': 1, 'up': 1, 'in': 3, 'John': 1, 'mass': 1, 'body': 1, 'final': 1, 'Victorian': 1, 'after': 2, 'banning': 1, 'VIctoria': 1, 'paid': 1, 'Hungry': 1, 'marriage': 1, 'address': 1, 'Marriage': 1, 'deny': 1, 'it': 1, \"n't\": 1, 'police': 1, 'to': 4, ',': 3, 'interns': 1, 'Sex': 1, 'we': 1, 'suit': 1, 'Prime': 1, 'woke': 1, 'yes': 1, 'wake': 1, 'so': 1, '’': 1, '.': 2, 'officer': 1, 'Australian': 1, 'they': 1, 'yesterday': 1, 'Airport': 1, 'blackout': 1, 'shooting': 1, 'from': 1, '‘': 1, 'per': 1, 'taxpayer': 1, 'ripper': 1, 'Oh': 1, 'legalise': 1, 'mate': 1, 'evidence': 1, 'staff': 1, 'Police': 1, 'Howard': 1, 'Australia': 3, 'guns': 1, 'taking': 1, 'this': 1, 'accused': 1, '4': 1, 'hour': 1, '``': 1, 'Same': 1, 'is': 1, 'on': 2, \"''\": 1}\n",
      "{'Saudi': 1, 'Rage': 1, 'all': 1, 'ever': 1, 'for': 1, 'top': 1, 'down': 1, 'about': 1, 'her': 1, 'VOTE': 1, 'sales': 1, 'now': 1, 'the': 4, 'any': 1, 'go': 1, 'negotiation': 1, 'England': 1, 'Theresa': 1, 'Miley': 1, 'Wtf': 1, 'making': 1, 'The': 1, 'please': 1, 'U.K': 1, 'march': 1, 'Podcast': 1, 'major': 1, 'be': 1, 'my': 2, 'a': 4, 'open': 1, 's': 1, 'lose': 1, 'People': 1, \"'Brexit\": 1, 'Can': 1, 'of': 2, 'but': 1, \"'s\": 1, 'give': 1, 'OUT': 1, 'music': 1, '“': 1, 'meows': 1, 'door': 1, \"'m\": 1, 'when': 1, 'Rudd': 1, 'overtakes': 1, 'mess': 1, 'in': 1, 'worried': 1, ':': 1, 'let': 1, 'cat': 1, 'Demand': 1, 'out': 1, 'chart': 1, 'and': 1, 'minister': 1, 'went': 1, 'am': 1, 'foodbanks': 1, 'GET': 1, 'Johnson': 1, 'names': 1, 'EU': 1, 'you': 1, 'Arabia': 1, 'Mission': 1, 'he': 1, 'stands': 1, 'to': 4, 'Britain': 1, ',': 2, 'Housing': 1, '10': 1, 'AND': 1, 'Nigel': 1, 'Against': 2, 'Vote': 1, 'than': 1, '”': 1, 'might': 1, 'job': 1, '’': 2, '.': 2, 'Amber': 1, 'arms': 1, 'Ruined': 1, 'song': 1, 'Rename': 1, 'advice': 1, 'Machine': 2, 'because': 1, 'Farage': 2, 'more': 1, 'His': 1, 'France': 1, 'Boris': 1, 'loudly': 1, '‘': 1, 'profits': 1, 'liar': 1, 'speech': 1, 'Cyrus': 1, 'Saturday': 1, \"'\": 1, '?': 2, 'Mays': 1, 'Has': 1, 'I': 5, 'there': 1, 'is': 1, 'Blackpool': 1, 'on': 1, 'important': 1, 'shuts': 1, 'just': 2, 'Impossible': 1}\n",
      "{'both': 1, 'crime': 1, 'law': 2, 'for': 3, 'Catholic': 1, 'PENCE': 1, 'wildfires': 1, 'under': 1, 'accordant': 1, 'them': 1, 'sex': 1, 'Missionaries': 1, 'Amazon': 2, 'Florida': 1, 'no': 1, 'by': 1, 'Unmarried': 1, 'Save': 1, 'extra': 1, 'teacher': 1, 'now': 1, 'people': 2, 'lies': 1, 'the': 8, 'If': 1, 'penalties': 1, 'rapist': 1, 'your': 2, 'any': 1, '(': 1, 'County': 1, 'urge': 1, 'Nah': 1, 'wants': 1, 'start': 1, 'The': 1, 'underestimated': 1, 'end': 1, 'performing': 1, 'New': 1, 'ca': 1, 'Millions': 1, 'oneself': 1, 'Christmas': 1, 'be': 1, 'what': 1, 'a': 6, 'his': 1, 'jobs': 1, 'conversion': 1, 'not': 3, 'Christians': 1, '$': 2, 'To': 1, 'missionaries': 1, 's': 1, 'atheist': 1, 'make': 1, 'actual': 1, 'billion': 1, 'abortion': 2, 'rape': 1, 'loss': 1, 'shame': 1, 'Endangerment': 1, 'heard': 1, 'ChristianValues': 1, 'phone': 2, 'Although': 1, 'of': 5, 'told': 1, 'but': 1, \"'s\": 2, 'carry': 1, 'their': 2, 'sense': 1, 'Mark': 1, 'Francis': 1, 'looks': 1, '71': 1, 'nothing': 1, '/s': 1, 'President': 1, 'like': 1, 'when': 1, 'episodes': 1, 'Ruffalo': 1, 'Catholics': 1, 'Childhood': 1, 'year': 1, 'God': 1, 'in': 1, 'Dame': 1, 'Omens': 1, ':': 3, 'woman': 1, 'Prevention': 1, 'complain': 1, 'therapy': 1, 'This': 2, 'after': 1, 'NotProLife': 1, 'cultural': 1, 'face': 1, 'YallQaeda': 1, 'school': 2, 'who': 1, 'without': 1, 'if': 1, 'harsher': 1, 'and': 7, 'pregnant': 2, 'pledges': 1, 'twice': 1, 'contact': 1, 'am': 1, 'Instead': 1, 'ban': 1, 'Makes': 1, 'significance': 1, 'fire': 1, 'architectural': 1, 'pray': 1, 'Loud': 1, 'would': 2, 'only': 1, 'Christian': 1, 'it': 2, 'Netflix': 1, 'kidding': 1, 'calls': 1, \"n't\": 1, 'you': 3, 'church': 1, 'women': 1, 'been': 1, 'he': 1, 'to': 10, 'impregnated': 1, ',': 12, 'artistic': 1, 'week': 1, 'complete': 1, 'family': 1, 'cult': 1, 'Prime': 1, 'home': 2, 'than': 1, 'By': 1, 'so': 1, 'baby': 1, 'amounting': 1, 'an': 4, 'economy': 1, 'fucking': 1, 'permitted': 2, 'Prayers': 2, '’': 1, '.': 13, 'churches': 1, 'during': 1, 'York': 1, 'unmarried': 1, 'Thoughts': 1, 'silent': 1, 'Notre': 1, 'are': 3, 'Service': 1, 'And': 1, 'want': 1, 'will': 2, 'sharia': 1, 'world': 1, 'action': 1, 'they': 2, 'more': 1, 'proposes': 1, 'France': 1, 'thousands': 1, 'shooting': 1, 'once': 1, '50M': 1, 'from': 2, 'taxing': 1, 'have': 2, 'new': 1, 'Neglect': 1, 'Pope': 1, 'can': 2, 'Emotional': 1, 'support': 1, 'dictates': 1, 'previously': 1, 'add': 1, 'Mormon': 1, ')': 1, 'confirms': 1, 'Mother': 1, 'fired': 1, 'ProBirth': 1, 'Protecting': 1, 'Secret': 1, 'clear': 1, 'Day': 1, 'With': 1, '#': 4, 'Good': 1, 'Alabama': 1, 'that': 1, 'I': 1, '``': 2, 'is': 2, 'on': 2, \"''\": 2, 'just': 2}\n",
      "{'stop': 1, 'cut': 2, 'all': 1, 'victims': 1, 'law': 1, 'ever': 1, 'suggested': 1, 'Catholic': 2, 'penalty': 2, 'for': 2, 'implemented': 1, 'watching': 1, 'micro': 1, 'them': 1, 'dropped': 2, 'wasn': 1, 'her': 2, 'asked': 1, 'obtain': 1, 'such': 1, 'got': 1, 'free': 2, 'the': 9, 'children': 2, 'go': 1, 't': 2, 'They': 1, 'IUD': 1, 'any': 1, 'become': 1, 'feminist': 1, 'do': 4, 'accepted': 1, 'into': 1, 'joy': 1, 'refer': 1, 'never': 2, 'The': 3, 'gon': 1, 'guy': 1, 'Being': 1, 'rate': 3, 'be': 1, 'me': 3, 'jogging': 1, 'my': 1, 'what': 1, 'a': 5, 'featuring': 1, 'with': 1, 'always': 1, 'not': 1, 'pedophilia': 1, 'read': 1, 'black': 1, '!': 3, 'anti-choice': 1, 'son': 1, 'In': 2, 'over': 3, 'abortion': 3, 'rape': 1, 'someone': 1, 'providing': 1, 'test': 1, 'of': 1, 'told': 1, 'but': 1, \"'s\": 2, 'know': 1, 'as': 1, 'response': 1, 'again': 1, '“': 1, \"'re\": 1, 'like': 1, 'neighbor': 1, 'raised': 1, 'when': 1, 'see': 1, 'Idaho': 1, 'death': 2, 'in': 3, 'why': 1, ':': 2, 'abortions': 1, 'Colorado': 1, 'woman': 1, 'commercial': 1, 'needs': 1, 'program': 1, 'poor': 1, 'within': 1, 'body': 1, 'contraception': 1, 'This': 2, 'negative': 1, 'Epstein': 1, 'has': 1, 'media': 1, 'could': 2, 'school': 1, 'who': 5, 'without': 1, 'dreamed': 1, 'Thank': 1, 'engineer': 1, 'and': 5, 'away': 2, 'pregnancy': 2, 'na': 1, 'present': 1, 'underage': 1, 'low': 1, 'prevents': 1, 'teens': 1, 'studio': 1, 'forgotten': 1, 'shower': 1, 'cost': 1, '&': 1, 'pay': 1, 'would': 3, 'exactly': 1, 'apartment': 1, 'it': 2, '...': 1, \"n't\": 1, 'say': 1, 'you': 5, 'women': 2, 'church': 1, 'he': 3, 'engineering': 1, 'to': 13, 'Alls': 1, ',': 7, 'Just': 1, 'grandfather': 1, 'passed': 1, 'love': 1, 'need': 1, 'tiled': 1, 'Facts': 1, '”': 1, 'than': 1, 'parental': 1, 'an': 1, 'boyfriend': 1, 'subway': 1, 'get': 2, 'dad': 1, '’': 2, '.': 15, '64': 1, 'or': 1, 'don': 1, 'teen': 2, 'result': 1, 'crying': 1, 'consent': 1, 'alone': 1, 'are': 3, 'because': 1, 'will': 1, 'more': 1, 'yourself': 1, 'indisputable': 1, 'once': 1, 'So': 1, 'My': 4, 'was': 1, 'can': 2, 'candidate': 1, 'died': 1, '54': 1, 'priests': 1, 'today': 1, 'language': 1, '%': 2, '?': 3, 'this': 2, '2009': 1, 'born': 1, 'should': 2, 'that': 1, 'I': 6, '``': 1, 'posted': 1, 'is': 1, 'on': 1, '20s': 1, \"''\": 1, 'just': 3, 'continue': 1}\n",
      "{'loathing': 1, '.': 3, 'or': 1, 'bullshit': 1, 'Judge': 1, 'Belfast': 1, 'for': 1, 'nightclub': 1, 'rape': 1, 'control': 1, 'cried': 1, 'are': 2, 'Gets': 1, 'ignorance': 1, 'slap': 1, 'Apparently': 1, 'kick': 1, 'r/Feminism': 1, 'months': 1, 'belittle': 1, 'punch': 1, 'from': 1, 'only': 1, 'the': 2, '[': 1, 'things': 1, 'your': 1, '...': 1, 'real': 1, 'female': 1, 'you': 3, 'throw': 1, \"'Male\": 1, 'Girls': 1, 'choke': 1, 'get': 1, 'privilege': 1, 'to': 1, 'child': 1, 'getting': 1, ',': 8, 'boyfriends': 1, 'The': 1, 'Homelessness': 1, 'in': 2, 'Woman': 2, ']': 1, 'It': 1, 'rapists': 1, 'cold': 1, \"'\": 1, 'reports': 1, 'Facebook': 1, 'banned': 1, 'shoulder': 1, 'How': 2, 'Problem': 1, 'a': 3, 'Judy': 1, 'nine': 1, 'at': 1, 'jailed': 1, 'is': 4, 'Equality': 1, 'after': 1, 'nutshell': 1, 'media': 1, '50/50': 1, 'abuser': 1, 'hit': 1, 'who': 1, 'if': 2, 'and': 1}\n",
      "{'ever': 1, 'for': 3, 'EGYPTIAN': 1, 'sex': 1, 'last': 1, 'here': 1, 'people': 2, 'the': 3, '😭🏳️\\u200d🌈❤️': 1, '(': 1, 'serving': 1, 'become': 1, 'other': 1, 'husband': 1, 'night': 1, 'The': 2, 'Pic': 1, 'ashamed': 1, 'Facebook': 1, 'me': 2, 'my': 1, 'a': 1, 'neighbour': 1, '👀': 1, 'work': 1, 'well': 1, 'Over': 1, 'not': 1, 'our': 1, '!': 2, 'open': 1, 's': 1, 'search': 1, 'Minister': 1, 'of': 2, 'told': 1, 'Google': 1, \"'s\": 3, 'proposed': 1, 'sub': 2, 'Luxembourg': 1, 'when': 1, 'see': 1, 'lgbt-friendly': 1, 'in': 1, 'upstairs': 1, ':': 1, 'How': 1, 'body': 1, 'most': 1, 'PSA': 1, 'and': 1, 'does': 2, 'Eyes': 1, 'wide': 1, 'ban': 1, 'gay': 3, 'Proposal': 1, 'image': 1, 'posting': 1, 'trans': 1, 'it': 3, 'friend': 1, 'to': 2, ',': 1, 'president': 1, 'Prime': 1, 'leaders': 1, 'mom': 1, 'so': 2, 'boyfriend': 1, 'fucking': 1, 'op': 1, '’': 2, 'dead': 1, 'first': 1, 'result': 1, 'joined': 1, 'military': 1, 'because': 1, 'EMERGENCY': 1, 'world': 1, 'NATO': 1, 'photo': 1, 'post': 1, 'upvote': 1, 'from': 1, 'My': 2, 'she': 1, 'BROS': 1, 'Lets': 1, 'twitter': 1, 'girlfriend': 1, ')': 1, 'm': 1, \"'\": 1, '?': 1, 'this': 2, 'Trump': 1, 'I': 1, '``': 2, 'another': 1, 'on': 4, \"''\": 2, 'wives': 1, 'announces': 1, 'shit': 1}\n",
      "{'buy': 1, 'for': 1, 'talking': 1, 'about': 1, 'last': 1, 'by': 1, 'people': 2, 'the': 3, 'seeing': 1, 'Truth': 1, 'two': 1, 'BREAKING': 2, 'Pentagon': 1, 'cute': 1, 'service': 1, 'a': 1, 'allies': 1, '!': 4, 'son': 1, 'stuff': 1, 'allow': 1, \"'s\": 2, 'enlist': 1, 'bars': 1, 'nobody': 1, 'like': 1, 'Seriously': 1, \"'m\": 1, 'month': 1, 'these': 1, 'in': 1, ':': 3, 'why': 1, 'out': 1, 'opposition': 1, 'despite': 1, 'time': 1, 'kings': 1, 'and': 2, 'went': 1, 'changing': 1, 'Magic': 1, 'Johnson': 1, 'beautiful': 1, 'image': 1, 'says': 1, '|': 1, 'it': 1, '...': 1, 'Having': 1, 'court': 1, 'wedding': 1, 'to': 2, ',': 5, 'trauma': 1, 'shot': 1, '.right': 1, 'beginning': 1, 'Jan.': 1, '.': 2, 'first': 1, 'policy': 1, 'We': 1, 'military': 2, 'And': 1, 'will': 1, 'extremely': 1, 'upon': 1, 'from': 1, 'knockouts': 1, 'Oh': 1, 'US': 1, 'look': 1, '?': 1, 'this': 2, 'Trump': 2, 'I': 2, '``': 1, 'is': 2, 'important': 1, 'on': 1, 'AP': 2, 'said': 1, \"''\": 1, 'just': 1, '1': 1, 'transgender': 3}\n",
      "{'against': 1, 'gets': 1, 'NBA': 3, 'for': 1, 'TNT': 1, 'awkward': 1, 'down': 1, 'asked': 1, 'game': 1, 'box': 1, 'called': 1, 'no': 2, 'knee': 1, 'the': 8, 'quickly': 1, '[': 2, 'easy': 1, 'did': 1, 'go': 1, 'price': 1, 'protesters': 1, 'city': 2, 'The': 1, 'faking': 1, 'strip': 1, 'Kong': 1, 'score': 1, 'a': 5, 'Harden': 2, 'his': 2, 'with': 1, 'cough': 1, 'State': 1, 'cover': 1, '!': 1, 'longer': 1, 'stand': 2, 'shut': 1, 'shitting': 1, 'Hong': 1, 'ECF': 1, 'every': 1, 'VIDEO': 1, 'speaking': 1, \"'s\": 4, 'their': 1, 'SNET': 1, 'King': 1, 'defeat': 1, 'Kawhi': 1, 'when': 2, 'see': 1, 'up': 2, 'Lakers': 1, 'Toronto': 1, 'then': 1, 'in': 3, 'Dame': 1, ':': 1, 'James': 5, 'fart': 1, 'News': 1, 'Paul': 1, '-': 2, 'Westbrook': 1, 'at': 1, 'refrain': 1, 'Post': 1, 'after': 1, 'out': 2, 'Max': 2, 'bathroom': 1, 'who': 1, 'rating': 1, 'Raptors': 2, 'if': 2, 'and': 2, 'pants': 1, 'Russell': 1, 'Mohammad': 1, 'Golden': 1, 'low': 1, 'three': 1, 'LeBron': 1, 'Pierce': 1, 'cost': 1, 'take': 1, 'pay': 1, 'would': 1, '|': 1, '114-110': 1, 'very': 1, 'between': 1, 'hits': 2, 'politics/social': 1, 'Not': 1, 'to': 10, ',': 3, ']': 2, 'analyzed': 1, 'Journalist': 1, 'Thread': 1, 'selling': 1, 'performance': 1, 'an': 1, 'Game': 2, 'average': 1, 'buzzer': 1, '.': 4, 'China': 1, 'first': 1, 'Simmons': 1, 'they': 1, 'will': 1, 'Warriors': 1, 'injury': 1, 'justice': 1, '6': 1, 'tries': 1, 'from': 1, 'Kellerman': 2, 'she': 1, 'admits': 1, 'real': 1, 'finals': 1, '=': 1, 'correlation': 1, 'It': 2, 'winner': 1, 'win': 1, 'sents': 1, 'Ali': 1, '?': 1, 'debacle': 1, 'Championship': 1, 'When': 1, 'Lebron': 2, 'I': 1, '``': 1, 'there': 3, 'is': 3, 'on': 2, 'AP': 1, \"''\": 1, 'club': 1}\n",
      "{'64': 2, '.': 1, 'against': 1, 'Hat-Trick': 1, '3': 2, '87': 1, 'Mandzukic': 1, 'Champions': 3, 'Free': 1, '-3': 2, 'Barcelona': 1, '27': 1, 'Ronaldo': 2, 'Portugal': 1, 'A': 1, '2018': 1, 'LAFC': 1, 'M.': 1, 'kick': 2, 'vs': 1, 'Madrid': 3, 'free': 1, 'from': 2, 'Cup': 1, 'Quarter-finals': 1, '[': 5, '(': 5, 'Leicester': 1, '2': 2, 'header': 1, 'Messi': 1, 'Zlatan': 1, 'FIFA': 1, 'Bale': 1, 'LA': 1, 'Galaxy': 1, 'Kroos': 1, 'girlfriend': 1, 'Juventus': 3, ')': 5, 'Premier': 1, ']': 5, ',': 1, '1-1': 1, 'World': 1, ':': 1, 'guy': 1, 'Signs': 1, '3-0': 1, \"'\": 5, 'Real': 3, 'ball': 1, 'Ronado': 1, '-': 4, 'Sweden': 1, 'a': 3, 'final': 1, 'saves': 1, 'Cristiano': 2, 'goal': 2, '-1': 2, 'his': 1, 'being': 1, 'Liverpool': 2, 'with': 2, 'Ibrahimovic': 1, 'League': 3, 'City': 1, '0-2': 1, 'hit': 1, 'Are': 1, 'Spain': 1, '82': 1}\n",
      "{'some': 1, 'fans': 1, 'for': 1, 'St.Louis': 1, 'Dallas': 1, 'Vegas': 2, 'won': 1, 'game': 2, 'by': 1, 'Bay': 1, 'Stars': 1, 'the': 10, 'Jackets': 1, '13': 1, 'your': 2, 'They': 1, 'Knights': 2, 'dealing': 1, 'Tom': 2, 'do': 1, '7': 1, 'wants': 1, 'night': 1, 'The': 5, 'Jets': 1, 'Playoffs': 1, 'ref': 2, 'Blues': 1, 'Pittsburgh': 1, 'be': 1, 'advanced': 1, 'jumbotron': 1, 'a': 5, 'Peel': 1, 'with': 3, 'his': 1, 'being': 1, '!': 6, 'racist': 1, 'taunts': 1, 'message': 1, 's': 1, 'contention': 1, 'son': 2, 'Winnipeg': 1, 'Donald': 1, 'playoffs': 1, 'Columbus': 1, 'referee': 1, 'heard': 1, 'of': 1, 'season': 1, 'Tampa': 1, 'their': 2, 'swept': 1, 'Penguins': 1, 'when': 1, 'up': 1, 'Boston': 1, 'grade': 1, 'Washington': 2, 'year': 2, 'Greatest': 1, 'representatives': 1, 'in': 5, 'chirp': 1, '5': 1, 'grows': 1, 'How': 1, 'Finals': 1, 'at': 1, 'after': 1, 'has': 1, 'care': 1, 'who': 1, 'worse': 1, 'questions': 1, 'Clinched': 1, 'and': 3, 'voices': 1, 'defeating': 2, 'Lightning': 1, 'Bruins': 1, 'Golden': 2, 'Ajit': 1, 'Earth': 1, 'takes': 1, 'favorite': 1, 'PK': 1, 'games': 1, 'old': 1, 'Do': 1, 'Stanley': 5, \"n't\": 1, 'been': 2, 'he': 1, 'NHL': 3, 'to': 3, 'text': 1, ',': 7, 'awesome': 1, 'package': 1, 'Make': 1, 'received': 1, 'association': 1, 'Cup': 5, 'than': 1, 'an': 1, 'Blue': 1, 'playoff': 1, '4-1': 1, 'Tim': 1, 'player': 1, '’': 1, '.': 6, 'Subban': 1, 'him': 1, 'first': 1, '3rd': 1, 'franchise': 1, 'current': 1, 'they': 1, 'ask': 1, 'lot': 1, 'from': 4, 'He': 2, 'have': 5, 'My': 2, 'responded': 1, 'inaugural': 1, 'emailed': 1, 'living': 1, 'history': 1, 'US': 1, 'Chmielewski': 1, 'Saturday': 1, 'hockey': 2, 'jab': 1, 'email': 1, 'Trump': 1, 'this': 4, '?': 1, 'players': 1, 'eliminated': 3, 'is': 2, 'on': 1, 'Capitals': 2, 'tell': 1, 'connected': 1, 'nice': 1, 'Pai': 1}\n",
      "{'sources': 1, 'cut': 1, 'for': 1, 'Champions': 1, 'down': 1, 'released': 1, 'by': 1, 'no': 1, 'informed': 1, 'now': 1, 'the': 10, '[': 8, 'conference': 1, 'joking': 1, 'Diggs': 1, 'England': 1, 'The': 3, 'indeed': 1, 'checking': 1, 'New': 1, 'score': 1, 'be': 1, 'my': 1, 'a': 1, 'Schefter': 1, 'game-winning': 1, 'Controversial': 1, 'not': 1, 'source': 1, 'deal': 1, 'make': 1, 'Beckham': 1, 'life': 1, 'PFT': 1, 'Luck': 2, 'Robey': 1, 'official': 1, 'but': 1, 'vs': 1, 'Dolphins': 1, 'play': 1, 'Patriots': 2, '“': 1, 'Superbowl': 1, 'Romo': 2, 'Pats': 1, 'WR': 2, ':': 3, 'Welcome': 1, '-Coleman': 1, 'LI': 1, '-': 1, 'Have': 1, 'final': 1, 'whole': 1, 'press': 1, 'has': 2, 'MIN': 1, 'out': 1, 'welcome': 1, 'Dominated': 1, 'and': 1, 'Brown': 2, 'Era': 1, 'am': 1, 'Raiders': 2, 'NO': 1, 'Super': 3, 'Highlight': 3, 'beat': 1, 'Giants': 1, 'waiting': 1, 'it': 1, 'call': 1, 'traded': 1, 'say': 1, 'been': 2, 'he': 1, 'Antonio': 2, 'Odell': 1, 'to': 7, ',': 4, ']': 8, 've': 1, 'TD': 1, 'hear': 1, '”': 1, 'NFL': 1, 'Bowl': 3, 'retiring': 1, '’': 1, '.': 8, 'worn': 1, 'are': 1, 'Andrew': 1, 'will': 1, 'done': 1, 'Filed': 1, 'from': 2, 'have': 2, 'Colts': 1, 'ESPN': 1, 'per': 1, 'team': 1, 'There': 1, 'today': 1, 'Garafolo': 1, 'Kleiman': 1, 'mentally': 1, 'Browns': 1, 'I': 2, 'Sunday': 1, '``': 1, 'is': 3, 'on': 1, 'Nantz': 1, 'reception': 1, \"''\": 1, 'Bills': 1}\n",
      "{'Leclerc': 1, 'appears': 1, 'Hubert': 1, 'P1': 1, 'Niki': 1, 'Charles': 1, 'Grand': 2, 'signs': 1, 'the': 10, 'If': 1, '(': 1, 'Driver': 1, '18:35': 1, 'guy': 1, 'FIA': 1, '19': 1, '****': 1, 'be': 1, 'kind': 1, 'a': 3, 'his': 1, 'being': 1, '!': 2, 'where': 1, 'of': 2, 'Verstappen': 1, 'P2': 1, 'used': 1, \"'s\": 1, 'car': 1, 'Antoine': 1, 'Prix': 2, 'year': 1, 'in': 1, 'why': 1, ':': 1, 'Kimi': 1, 'which': 1, 'within': 1, 'regrets': 1, '2019': 3, 'at': 2, 'has': 1, 'Max': 1, 'could': 1, 'and': 3, 'away': 3, 'driver': 1, 'switches': 1, 'Wins': 1, 'back': 1, 'Lauda': 1, 'trailer': 1, 'COTA': 1, 'succumbed': 1, 'Lewis': 1, 'Vettel': 2, 'would': 1, 'it': 1, 'Netflix': 1, 'you': 1, 'he': 1, 'to': 3, ',': 5, 'Just': 1, 'injuries': 1, 'FRA': 1, 'good': 1, 'camera': 1, 'passed': 2, 'Grosjean': 1, 'German': 1, 'clip': 1, 'push': 1, 'actually': 1, '.': 2, 'him': 1, 'reminder': 1, 'Bring': 1, 'inform': 1, 'eliminate': 1, 'Hamilton': 1, 'V12s': 1, 'Italian': 1, 'race': 1, ')': 1, 'wins': 3, '#': 1, '?': 1, 'Championship': 1, 'that': 2, '``': 1, 'is': 1, \"''\": 1, 'just': 1}\n",
      "{'WORLD': 4, '🏆': 2, 'SERIES': 3, 'for': 2, 'makes': 1, 'baseball': 1, 'longest': 1, 'them': 1, 'won': 1, 'about': 1, 'game': 1, 'by': 1, 'got': 1, 'the': 6, 'your': 1, 'winning': 1, 'NATIONALS': 1, 'The': 2, 'YORK': 1, 'fan': 1, 'really': 1, 'CHICAGO': 1, 'Yesterday': 1, 'being': 1, 'well': 1, '!': 7, 'throwing': 1, '👑': 4, 's': 1, 'ASTROS': 1, 'streak': 1, 'THE': 7, 'charges': 1, 'news': 1, 'WASHINGTON': 1, 'know': 1, 'their': 1, 'when': 1, 'pitches': 1, 'art': 1, 'in': 2, 'made': 1, '2019': 1, 'CUBS': 1, 'after': 1, 'Listen': 1, 'out': 2, 'pitch': 1, 'ELIMINATED': 1, 'logo': 1, 'FIRST': 1, 'mound': 1, 'Hunter': 1, 'noticed': 1, 'Strickland': 1, 'minds': 1, 'bad': 1, 'uninterrupted': 1, '1908': 1, 'Bryce': 1, 'only': 1, 'HOUSTON': 1, 'FROM': 1, 'it': 2, '22nd': 1, 'thing': 1, 'Cleveland': 1, 'to': 3, '🐻': 2, ',': 2, 'Nats': 1, 'NEW': 1, 'Indians': 1, 'HAVE': 1, 'fit': 1, 'YANKEES': 1, 'Harper': 1, 'consecutive': 1, 'so': 1, 'trophy': 1, 'CHAMPIONS': 3, '’': 1, '.': 3, 'first': 2, 'Rays': 1, 'want': 1, 'Inquiring': 1, 'have': 1, 'CONTENTION': 1, 'throw': 1, 'history': 1, 'BEEN': 1, 'catcher': 1, '2017': 2, 'ARE': 3, 'FOR': 1, 'SINCE': 1, 'this': 1, 'I': 3, 'is': 1, 'TIME': 1, 'hit': 1}\n",
      "{'against': 3, 'for': 2, 'title': 1, 'Jon': 1, 'won': 1, 'the': 2, 'amazing': 1, '[': 1, 'internet': 1, 'go': 1, 'Conor': 1, 'vs.': 1, 'debut': 1, 'going': 1, 'into': 1, 'Eddie': 1, 'Michael': 1, 'Story': 1, 'night': 1, 'legendary': 1, 'finalized': 1, 'FINISH': 1, 'fuck': 1, 'off': 1, 'Russian': 1, 'my': 2, 'a': 2, 'his': 3, 'Ben': 1, '!': 1, 'Donald': 1, 'stripped': 1, 'every': 1, '26': 1, 'sluts': 1, 'of': 3, 'those': 1, 'steroids': 1, 'King': 1, 'Masvidal': 1, '👀👀👀': 1, 'then': 1, 'in': 1, 'made': 1, 'Lima': 1, 'after': 1, 'Hall': 1, 'time': 1, 'and': 2, 'Ryan': 1, 'Mjolnir': 1, 'Cerrone': 1, 'Venom': 1, 'Saiyan': 2, 'Askren': 1, 'Alvarez': 1, 'Super': 2, 'bout': 1, 'Jones': 1, 'how': 1, 'he': 1, 'SPOILER': 1, 'to': 1, ',': 1, ']': 1, 'FCC': 1, 'positive': 1, 'an': 1, 'Mayweather-Conor': 1, 'Floyd': 1, 'GIF': 1, 'turned': 1, '.': 1, 'fight': 2, 'during': 1, 'Rick': 1, 'Page': 1, 'Natalie': 1, 'Aug.': 1, 'Khabib': 1, 'Douglas': 1, 'tests': 1, 'English': 1, 'wins': 1, 'this': 1, 'pro': 1, '4': 1, 'I': 3, 'combo': 2, '``': 1, 'posted': 1, 'McGregor': 2, 'on': 1, 'Jorge': 1, \"''\": 1, 'hit': 1, 'uses': 1, 'Instagram': 1, 'juicy': 1}\n",
      "{'some': 1, 'buy': 1, 'all': 1, 'belt': 1, 'for': 3, 'Earthquake': 1, 'her': 1, 'by': 2, 'inducted': 1, 'here': 1, 'encouraged': 1, 'the': 5, '(': 3, 'Ashley': 1, 'into': 1, 'worst': 1, '/r/GeometryIsNeat': 1, 'series': 1, 'sister': 1, 'Wrestlemania': 2, 'hot': 1, 'be': 1, 'my': 3, 'his': 1, 'Tetris': 1, 'being': 1, 'not': 1, 'while': 2, '!': 2, 'x-post': 1, 'In': 1, 'Surprise': 1, 'brother': 1, 'memory': 1, 'installment': 1, 'excited': 1, 'of': 2, 'subreddit': 1, 'sickening': 1, 'question': 1, 'when': 1, 'see': 1, 'wanted': 1, 'Banana': 1, 'in': 2, 'warning': 1, 'Massaro': 1, 'reading.': 1, 'birthday': 1, '-': 1, 'at': 1, 'sued': 1, 'Hall': 1, 'Vince': 1, 'Kurt': 1, 'medically': 1, 'without': 1, 'kn0thing': 1, 'and': 4, 'Content': 1, 'disco': 1, 'it': 1, 'Do': 1, \"n't\": 1, 'hits': 1, 'you': 1, 'Fame': 1, 'he': 1, 'Kuwait': 1, 'laziest': 1, 'to': 5, ',': 3, 'cleared': 1, 'in-ring': 1, 'return': 1, 'drugged': 1, 'McMahon': 1, 'Daniel': 1, 'Is': 1, 'Ladies': 1, 'WWE': 4, 'dad': 2, '.': 7, 'Spoilers': 1, 'gentleman': 1, 'military': 1, 'tour': 1, '2K20': 2, 'action': 1, 'includes': 1, 'Angle': 1, 'was': 1, 'she': 2, 'scale': 1, 'playing': 1, 'right': 1, 'recently': 1, 'died': 1, 'Bryan': 1, ')': 3, 'Her': 1, 'affidavit': 1, 'US': 1, 'staff': 1, 'today': 1, 'raped': 1, '2017': 1, 'look': 1, '?': 1, 'this': 3, 'that': 1, '``': 2, 'is': 4, 'on': 3, 'said': 1, 'report': 1}\n",
      "{'stop': 2, 'short': 1, 'all': 1, 'for': 4, 'wildfire': 1, 'ISP': 1, 'Attention': 1, 'them': 1, 'won': 1, 'about': 2, 'Star': 1, 'game': 1, 'by': 1, 'free': 1, 'ITU': 1, 'the': 4, 'If': 1, 'internet': 1, 'money': 1, 'protesters': 1, 'into': 1, 'Sinclair': 1, 'Group': 1, 'signalled': 1, '2015': 1, 'The': 2, 'Crime': 1, 'popular': 1, 'Kong': 1, 'Facebook': 1, 'Blizzard': 1, 'throttled': 1, 'a': 4, 'his': 1, 'Broadcast': 1, 'data': 1, 'TPP': 1, 'our': 3, 's': 1, 'Hong': 1, '3': 1, 'Enforcement': 1, 'investigation': 2, 'PIPA': 1, 'Congress': 1, 'In': 1, 'serious': 1, 'Internets': 1, 'lobby': 1, 'of': 2, 'TAFTA': 1, \"'s\": 2, 'company': 1, 'Battlefront': 1, 'as': 3, 'PLEASE': 1, 'Blocking': 1, 'again': 1, '“': 1, 'comments': 1, 'funded': 1, 'Wars': 1, 'death': 1, 'conversation': 2, 'Massive': 1, 'SPREAD': 1, 'then': 1, 'in': 2, 'CISPA': 2, 'cable': 1, 'AS': 2, 'Net': 3, 'esports': 1, 'has': 1, 'after': 1, 'out': 1, 'most': 1, 'could': 1, 'demand': 1, 'time': 1, 'Law': 1, 'and': 4, 'away': 1, 'voices': 1, 'bans': 1, 'potentially': 1, 'Reddit': 2, 'Ajit': 1, 'hard-won': 1, 'fire': 1, 'website': 2, 'Verizon': 1, 'YOU': 1, 'neutrality': 2, 'MUCH': 1, 'bill': 1, 'pro-net': 1, 'access': 1, 'calls': 1, 'Neutrality': 3, 'he': 1, 'to': 4, ',': 11, 'Justice': 1, 'Into': 1, 'FCC': 6, 'set': 1, 'passed': 1, 'ACTA': 1, 'Process': 1, 'need': 1, 'we': 1, '”': 1, 'Calif.': 1, 'an': 1, 'Is': 1, 'confiscates': 1, 'player': 1, '’': 1, '.': 8, 'censor': 1, 'fight': 2, 'department': 1, 'during': 1, 'California-based': 1, 'Comcast': 1, 'Investigation': 1, 'Chairman': 1, 'We': 2, 'are': 1, 'they': 1, 'Department': 1, 'half': 1, 'SOPA': 1, 'was': 1, 'fake': 1, 'have': 2, 'support': 1, 'Fraud': 2, 'Congressmen': 1, 'US': 1, 'THIS': 1, 'net': 1, 'verbal': 1, '#': 1, 'Let': 1, 'taking': 1, 'this': 1, 'Deserving': 1, 'pro': 1, 'prize': 1, 'that': 3, 'Comment': 1, 'is': 3, 'knell': 1, 'CAN': 1, 'II': 1, 'trying': 1, 'just': 2, 'Pai': 1, 'unlimited': 1}\n",
      "{'hope': 1, 'battery': 1, 'for': 1, 'Amazon': 1, 'game': 1, 'no': 1, 'one': 1, 'convince': 1, 'now': 1, 'the': 4, 'port': 1, 'blocking': 2, 't': 1, 'stay': 1, 'system-wide': 1, 'devices': 1, 'start': 1, 'blob': 1, 'slow': 1, 'ads': 2, 'me': 1, 'still': 2, 'a': 2, 'dark': 1, 'emoji': 1, '15': 1, 'Pokémon': 1, 's': 1, 'malware': 1, 'later': 1, 'phones': 1, 'of': 3, 'but': 1, 'Google': 3, \"'s\": 1, 'like': 1, 'Weekend': 1, 'YouTube': 1, 'reveals': 1, 'in': 1, ':': 1, 'let': 1, 'stock': 1, 'Smart': 1, 'years': 2, 'Motorola': 1, 'targets': 1, 'and': 3, 'does': 2, 'GO': 1, 'playlists': 1, 'TVs': 1, 'iPhone': 1, 'apps': 1, 'it': 1, 'old': 1, 'Do': 1, 'Two': 1, 'say': 1, \"n't\": 1, 'you': 2, 'HTC': 1, 'Not': 1, 'demands': 1, 'to': 1, ',': 5, 'theme': 1, 'good': 1, 'lockscreen': 1, 'web': 1, 'use': 2, 'February': 1, '’': 2, '.': 2, 'or': 1, 'don': 1, 'CIA': 1, 'are': 1, 'because': 2, '2018': 1, 'they': 1, 'will': 3, 'want': 1, 'Android': 3, 'poll': 1, 'miss': 1, 'great': 1, 'come': 1, 'WikiLeaks': 1, 'Spotify': 1, 'today': 1, 'It': 1, 'As': 1, 'around': 1, 'Chrome': 1, 'edit': 1, '?': 1, 'that': 2, 'Apple': 1, 'I': 2, '``': 1, 'is': 1, 'on': 3, 'prohibits': 1, \"''\": 1, 'headphone': 1, 'otherwise': 1}\n",
      "{'$': 2, '.': 3, 'hope': 1, 'confused': 1, 'Everyone': 1, '3': 1, 'over': 1, 'back': 1, 'bots': 1, 'Bitcoin..': 1, 'want': 1, 'USD': 1, 'official': 1, 'last': 1, 'upvote': 2, \"'s\": 3, 'months': 1, 'by': 1, 'chance': 1, 'now': 1, 'increase': 1, 'the': 1, 'BTC': 1, 'King': 1, '47': 1, 'if': 1, 'doing': 1, 'Bitcoin': 1, '=': 1, 'right': 1, 'price': 1, 'can': 1, 'confuse': 1, 'into': 1, 'up': 1, 'start': 1, '10,000': 2, 'get': 1, 'to': 2, ',': 2, 'trading': 2, 'The': 2, 'in': 1, 'investment': 1, 'buying': 1, 'thinking': 1, 'good': 1, 'It': 2, 'much': 1, 'why': 1, 'James': 1, 'jumped': 1, 'Quick': 1, '9000': 1, 'we': 1, 'be': 1, '?': 1, 'this': 2, 'still': 1, 'that': 1, 'everyone': 1, 'I': 3, 'a': 2, 'This': 1, 'is': 3, 'Nothing': 1, 'there': 1, 'well': 1, 'seconds': 1, 'hit': 1, 'who': 1, 'wonder': 1, 'bitcoin': 1, '1': 1, 'and': 2, '!': 4}\n"
     ]
    },
    {
     "name": "stdout",
     "output_type": "stream",
     "text": [
      "{'against': 1, 'law': 1, 'for': 1, 'clients': 1, 'DOM': 1, 'hard': 1, 'implemented': 1, 'alternative': 1, 'admit': 1, 'tens': 1, 'called': 1, 'PR': 1, 'free': 1, 'people': 1, 'Polymer': 1, 'the': 5, 'wrong': 1, 'They': 1, 'spent': 1, 'v0': 1, '(': 2, 'did': 1, 'JavaScript': 1, 'start': 1, 'algorithms': 1, 'Bounty': 1, 'The': 1, 'Paid': 1, 'WPF': 1, 'somebody': 1, 'really': 1, 'character': 1, 'programming': 1, 'my': 2, 'a': 7, 'Edge': 1, 'always': 1, 'work': 1, 'programmers': 1, 'read': 1, '$': 1, 'Bug': 1, 'open': 1, 's': 2, 'x-post': 1, 'OptiKey': 1, 'IKEA': 1, 'over': 1, 'probably': 1, 'load': 1, 'slower': 1, 'where': 1, 'tracking': 1, 'reason': 2, 'redesign': 1, 'of': 8, 'explains': 1, 'Google': 2, \"'s\": 3, 'CPU': 1, 'their': 1, 'as': 3, 'interesting': 1, 'Intel': 1, '“': 1, 'Got': 1, 'TIL': 1, 'dwitter': 1, 'instruction': 1, 'spare': 1, '140': 1, 'YouTube': 2, 'inside': 1, 'mess': 2, 'in': 4, 'compose': 1, 'patenting': 1, ':': 3, 'harder': 1, '5x': 1, 'needs': 1, 'software': 1, 'years': 1, 'How': 1, '-': 1, 'domain': 1, 'at': 1, 'time': 1, 'everything': 1, 'if': 1, 'and': 3, 'away': 1, 'programs': 1, 'manuals': 1, 'paid': 1, 'Linus': 1, '3.5': 1, 'public': 1, 'visuals': 1, 'website': 1, 'cost': 1, '&': 1, 'take': 1, 'From': 1, 'says': 1, 'only': 1, 'finds': 1, 'deprecated': 1, 'it': 1, 'code': 4, 'sufferers': 1, 'old': 3, 'say': 1, \"n't\": 1, 'blurbs': 1, 'he': 1, '0': 1, 'to': 4, ',': 6, 'C': 1, 'page': 1, 'trial': 1, 'Uber': 1, 'than': 2, 'use': 1, '”': 1, 'so': 2, 'works': 1, 'actually': 1, 'relies': 1, 'instead': 1, 'cardinal': 1, 'r/Software': 1, 'get': 1, '’': 2, '.': 5, 'put': 1, 'think': 3, 'Eye': 1, 'are': 2, 'because': 2, 'want': 1, 'they': 4, 'Inventor': 1, 'API': 1, 'Security': 1, 'thousands': 1, 'dollars': 1, 'produce': 1, 'writing': 2, 'Android': 1, 'from': 1, 'have': 1, 'Torvalds': 1, 'sourced': 1, 'Shadow': 1, 'ALS/MND': 1, 'throw': 1, 'can': 1, 'open-source': 1, 'Rx': 1, 'Oracle': 1, 'community': 1, 'There': 1, 'meet': 1, 'jury': 1, 'long': 1, ')': 2, 'It': 1, 'Cool': 1, 'fair': 1, 'fundamental': 1, 'Chrome': 2, 'wins': 1, '#': 1, 'look': 1, 'issues': 1, 'designed': 1, 'Firefox': 1, 'that': 7, 'I': 5, '``': 1, 'is': 6, 'there': 1, 'on': 1, 'project': 1, \"'ve\": 1, \"''\": 1, 'write': 1}\n",
      "{'some': 1, 'high': 1, 'slightly': 1, 'for': 5, 'discovered': 1, '8': 1, 'game': 1, 'box': 1, 'called': 1, 'no': 1, 'bent': 1, '@': 1, 'tim_cook': 1, 'now': 1, 'the': 7, 'its': 1, '13': 1, 't': 1, 'wan': 1, 'ago': 1, 'The': 1, 'Cook': 1, 'be': 1, 'a': 5, 'Guys': 1, 'his': 1, 'amazed': 1, 'leave': 1, 'our': 1, 'straight': 1, '!': 8, 'audible': 1, 'name': 1, 'luck': 1, 'A': 1, 'of': 2, \"'s\": 1, 'as': 2, 'Stores': 1, '2': 1, 'Customers': 1, \"'m\": 2, 'Steve': 1, 'CEO': 1, 'inside': 1, 'in': 1, ':': 1, 'comment': 1, 'years': 2, 'Our': 1, 'at': 2, 'gasps': 1, 'out': 1, 'Details': 1, 'thank': 1, 'random': 1, 'product': 1, 'and': 5, 'away': 1, 'na': 1, 'using': 1, 'announced': 1, 'working': 1, 'Reddit': 1, 'supremacists': 1, 'No': 1, 'tomorrow': 1, 'neutrality': 1, 'pay': 1, 'iPhone': 2, 'it': 1, 'Join': 1, 'Do': 1, \"n't\": 1, 'you': 2, 'AirPower': 1, 'PM': 1, 'been': 1, 'to': 8, ',': 7, 'Just': 1, 'president': 1, 'good': 1, 'Message': 1, 'crowd': 1, 'acceptable': 1, 'an': 1, 'platforms': 1, 'Tim': 3, \"'scrolling\": 1, '’': 2, 'giving': 1, '.': 3, 'white': 1, 'don': 1, 'demo': 1, 'Pro': 2, 'first': 1, 'part': 1, 'We': 1, 'GMT': 1, 'iPad': 1, 'iOS': 1, 'will': 1, 'drew': 1, '11': 2, 'post': 1, \"'You\": 1, 'battle': 1, 'place': 1, 'from': 1, 'have': 2, '‘': 1, 'new': 1, 'reddit': 1, 'standards': 1, 'Jobs': 1, 'commenter': 1, 'community': 1, 'cancels': 1, 'meet': 1, 'net': 1, 'winner': 1, 'changed': 1, 'celebrate': 1, \"'\": 2, 'update': 1, 'this': 2, 'hardware': 1, 'that': 1, 'Apple': 7, 'I': 4, 'Apollo': 1, 'citing': 1, 'is': 2, 'selected': 1, 'on': 4, 'randomly': 1, \"'ve\": 1, 'just': 3, 'inability': 1}\n"
     ]
    }
   ],
   "source": [
    "for sub in clean_subs:\n",
    "    tokenized_words = tokenize(all_submissions[sub])\n",
    "    counted_words = count_vectorize(tokenized_words)\n",
    "    print(counted_words)\n",
    "    "
   ]
  },
  {
   "cell_type": "code",
   "execution_count": 80,
   "metadata": {},
   "outputs": [],
   "source": [
    "def term_frequency(BoW_dict):\n",
    "    total_word_count = sum(BoW_dict.values())\n",
    "    for ind, val in BoW_dict.items():\n",
    "        BoW_dict[ind] = val/ total_word_count\n",
    "    \n",
    "    return BoW_dict   "
   ]
  },
  {
   "cell_type": "code",
   "execution_count": 126,
   "metadata": {},
   "outputs": [],
   "source": [
    "def inverse_document_frequency(list_of_dicts):\n",
    "    vocab_set = set()\n",
    "    # Iterate through list of dfs and add index to vocab_set\n",
    "    for d in list_of_dicts:\n",
    "        for word in d.keys():\n",
    "            vocab_set.add(word)\n",
    "    \n",
    "    # Once vocab set is complete, create an empty dictionary with a key for each word and value of 0.\n",
    "    full_vocab_dict = {i:0 for i in vocab_set}\n",
    "    \n",
    "    # Loop through each word in full_vocab_dict\n",
    "    for word, val in full_vocab_dict.items():\n",
    "        docs = 0\n",
    "        \n",
    "        # Loop through list of dicts.  Each time a dictionary contains the word, increment docs by 1\n",
    "        for d in list_of_dicts:\n",
    "            if word in d:\n",
    "                docs += 1\n",
    "        \n",
    "        # Now that we know denominator for equation, compute and set IDF value for word\n",
    "        \n",
    "        full_vocab_dict[word] = np.log((len(list_of_dicts)/ float(docs)))\n",
    "    \n",
    "    return full_vocab_dict"
   ]
  },
  {
   "cell_type": "code",
   "execution_count": 127,
   "metadata": {},
   "outputs": [],
   "source": [
    "def tf_idf(list_of_dicts):\n",
    "    # Create empty dictionary containing full vocabulary of entire corpus\n",
    "    doc_tf_idf = {}\n",
    "    idf = inverse_document_frequency(list_of_dicts)\n",
    "    full_vocab_list = {i:0 for i in list(idf.keys())}\n",
    "    \n",
    "    # Create tf-idf list of dictionaries, containing a dictionary that will be updated for each document\n",
    "    tf_idf_list_of_dicts = []\n",
    "    \n",
    "    # Now, compute tf and then use this to compute and set tf-idf values for each document\n",
    "    for doc in list_of_dicts:\n",
    "        doc_tf = term_frequency(doc)\n",
    "        for word in doc_tf:\n",
    "            doc_tf_idf[word] = doc_tf[word] * idf[word]\n",
    "        tf_idf_list_of_dicts.append(doc_tf_idf)\n",
    "    \n",
    "    return tf_idf_list_of_dicts"
   ]
  },
  {
   "cell_type": "code",
   "execution_count": 140,
   "metadata": {},
   "outputs": [
    {
     "name": "stdout",
     "output_type": "stream",
     "text": [
      "['all', 'law', 'top', 'for', 'makes', 'them', 'about', 'last', 'such', 'upvoted']\n"
     ]
    }
   ],
   "source": [
    "def main(subreddits):\n",
    "    vectorized_dicts = []\n",
    "    for sub in subreddits:\n",
    "        # Clean and tokenize raw text\n",
    "        titles = all_submissions[sub]\n",
    "        tokenized = tokenize(titles)\n",
    "        \n",
    "        # Get count vectorized representation and store in vectorized_dicts  \n",
    "        count_vectorized_document = count_vectorize(tokenized)\n",
    "        vectorized_dicts.append(count_vectorized_document)\n",
    "    tf_idf_all_docs = tf_idf(vectorized_dicts)\n",
    "    return tf_idf_all_docs\n",
    "\n",
    "tf_idf_all_subs = main(clean_subs)\n",
    "print(list(tf_idf_all_subs[0])[:10])"
   ]
  },
  {
   "cell_type": "code",
   "execution_count": 141,
   "metadata": {},
   "outputs": [
    {
     "name": "stdout",
     "output_type": "stream",
     "text": [
      "Number of Dimensions: 7246\n"
     ]
    }
   ],
   "source": [
    "num_dims = len(tf_idf_all_subs[0])\n",
    "print(\"Number of Dimensions: {}\".format(num_dims))"
   ]
  },
  {
   "cell_type": "code",
   "execution_count": 143,
   "metadata": {},
   "outputs": [
    {
     "data": {
      "text/plain": [
       "[0.0063899645979554566,\n",
       " 0.013238089526409112,\n",
       " 0.022549467454425442,\n",
       " 0.00810829994634717,\n",
       " 0.021935876503284615,\n",
       " 0.00855968495688575,\n",
       " 0.013680404231525679,\n",
       " 0.02219134409677715,\n",
       " 0.010794647047316603,\n",
       " 0.04568711035181843]"
      ]
     },
     "execution_count": 143,
     "metadata": {},
     "output_type": "execute_result"
    }
   ],
   "source": [
    "tf_idf_vals_list = []\n",
    "\n",
    "for i in tf_idf_all_subs:\n",
    "    tf_idf_vals_list.append(list(i.values()))\n",
    "    \n",
    "tf_idf_vals_list[0][:10]"
   ]
  },
  {
   "cell_type": "code",
   "execution_count": 144,
   "metadata": {},
   "outputs": [
    {
     "data": {
      "text/plain": [
       "array([[-1.48992020e+02,  2.71296940e+01, -1.44119308e+02],\n",
       "       [-1.01203056e+02,  1.37120255e+02, -1.11903122e+02],\n",
       "       [-1.60467300e+02, -7.76967163e+01, -1.07780054e-01],\n",
       "       [-1.60467300e+02, -7.76967163e+01, -1.07780054e-01],\n",
       "       [-7.68352509e+01,  3.73754921e+01,  1.14591057e+02],\n",
       "       [-4.48668060e+01,  1.73314270e+02,  8.56712036e+01],\n",
       "       [ 1.53636887e+02, -6.89396667e+01, -1.05651833e+02],\n",
       "       [ 1.15672256e+02, -6.78719406e+01,  1.25600100e+01],\n",
       "       [-2.09356827e+02, -2.08444357e+00,  3.38676987e+01],\n",
       "       [-7.44169083e+01, -6.30411720e+01,  1.39170792e+02],\n",
       "       [ 7.66209106e+01, -1.18204165e+01,  4.63080864e+01],\n",
       "       [-1.05603928e+02,  1.47474197e+02,  2.10921745e+01],\n",
       "       [-7.44169083e+01, -6.30411720e+01,  1.39170792e+02],\n",
       "       [-9.26156311e+01, -7.91694489e+01, -5.32216988e+01],\n",
       "       [-6.60036240e+01, -1.25242867e+02,  5.49799652e+01],\n",
       "       [ 8.74106674e+01, -1.10726410e+02, -6.04048004e+01],\n",
       "       [-5.01531982e+01,  4.07699299e+00, -1.15638046e+02],\n",
       "       [ 1.10868126e+02,  4.72463417e+00, -1.05786690e+02],\n",
       "       [-1.88137798e+01, -3.97687435e+00,  5.82603951e+01],\n",
       "       [-6.60036240e+01, -1.25242867e+02,  5.49799652e+01],\n",
       "       [-9.26156311e+01, -7.91694489e+01, -5.32216988e+01],\n",
       "       [ 1.02463959e+02,  8.31361694e+01,  4.84075546e+01],\n",
       "       [-1.66352692e+02,  7.31023178e+01,  6.11564751e+01],\n",
       "       [ 5.32054234e+00,  5.69790268e+01, -1.87486084e+02],\n",
       "       [-1.16360435e+02, -2.40895672e+01,  4.71007805e+01],\n",
       "       [ 8.16677780e+01, -8.36953278e+01, -1.53876709e+02],\n",
       "       [ 1.19500723e+01, -7.27176895e+01,  1.05376572e+02],\n",
       "       [-1.16360435e+02, -2.40895672e+01,  4.71007805e+01],\n",
       "       [ 1.35905609e+02, -1.24882919e+02,  9.18631516e+01],\n",
       "       [ 1.02463959e+02,  8.31361694e+01,  4.84075546e+01],\n",
       "       [ 7.13662643e+01, -9.08718338e+01,  6.52620697e+01],\n",
       "       [-9.26156311e+01, -7.91694489e+01, -5.32216988e+01],\n",
       "       [ 8.74106674e+01, -1.10726410e+02, -6.04048004e+01],\n",
       "       [-9.26156311e+01, -7.91694489e+01, -5.32216988e+01],\n",
       "       [-5.01531982e+01,  4.07699299e+00, -1.15638046e+02],\n",
       "       [-5.01531982e+01,  4.07699299e+00, -1.15638046e+02],\n",
       "       [ 7.66209106e+01, -1.18204165e+01,  4.63080864e+01],\n",
       "       [ 1.02463959e+02,  8.31361694e+01,  4.84075546e+01],\n",
       "       [-1.16360435e+02, -2.40895672e+01,  4.71007805e+01],\n",
       "       [-1.16360435e+02, -2.40895672e+01,  4.71007805e+01],\n",
       "       [-5.01531982e+01,  4.07699299e+00, -1.15638046e+02],\n",
       "       [ 8.74106674e+01, -1.10726410e+02, -6.04048004e+01],\n",
       "       [ 1.81370117e+02, -7.00498199e+01, -3.28010674e+01],\n",
       "       [-1.06332695e+02, -1.73574814e+02, -2.07143002e+01],\n",
       "       [-1.21998444e+01, -6.50303574e+01, -1.87413544e+02],\n",
       "       [-6.60036240e+01, -1.25242867e+02,  5.49799652e+01],\n",
       "       [-1.88137798e+01, -3.97687435e+00,  5.82603951e+01],\n",
       "       [-2.35786533e+00, -1.98395203e+02,  2.59423542e+01],\n",
       "       [-5.01531982e+01,  4.07699299e+00, -1.15638046e+02],\n",
       "       [-7.44169083e+01, -6.30411720e+01,  1.39170792e+02],\n",
       "       [-1.16360435e+02, -2.40895672e+01,  4.71007805e+01],\n",
       "       [-1.22342463e+01, -1.65367569e+02, -5.78461380e+01],\n",
       "       [-2.35786533e+00, -1.98395203e+02,  2.59423542e+01],\n",
       "       [-5.01531982e+01,  4.07699299e+00, -1.15638046e+02],\n",
       "       [ 8.74106674e+01, -1.10726410e+02, -6.04048004e+01],\n",
       "       [-9.26156311e+01, -7.91694489e+01, -5.32216988e+01],\n",
       "       [ 5.32054234e+00,  5.69790268e+01, -1.87486084e+02],\n",
       "       [-9.26156311e+01, -7.91694489e+01, -5.32216988e+01],\n",
       "       [-7.44169083e+01, -6.30411720e+01,  1.39170792e+02],\n",
       "       [-1.88137798e+01, -3.97687435e+00,  5.82603951e+01],\n",
       "       [-9.26156311e+01, -7.91694489e+01, -5.32216988e+01],\n",
       "       [ 1.10868126e+02,  4.72463417e+00, -1.05786690e+02],\n",
       "       [ 1.23529587e+02,  1.18079338e+02, -1.22179550e+02],\n",
       "       [-1.05603928e+02,  1.47474197e+02,  2.10921745e+01],\n",
       "       [-6.60036240e+01, -1.25242867e+02,  5.49799652e+01],\n",
       "       [-5.99371185e+01,  9.97500687e+01, -3.95295181e+01],\n",
       "       [-1.21998444e+01, -6.50303574e+01, -1.87413544e+02],\n",
       "       [-1.88137798e+01, -3.97687435e+00,  5.82603951e+01],\n",
       "       [-1.16360435e+02, -2.40895672e+01,  4.71007805e+01],\n",
       "       [-5.99371185e+01,  9.97500687e+01, -3.95295181e+01],\n",
       "       [ 1.02463959e+02,  8.31361694e+01,  4.84075546e+01],\n",
       "       [-6.60036240e+01, -1.25242867e+02,  5.49799652e+01],\n",
       "       [-9.26156311e+01, -7.91694489e+01, -5.32216988e+01],\n",
       "       [-5.63635712e+01, -1.42472382e+02, -1.38188828e+02],\n",
       "       [-7.13476868e+01,  1.35524902e+01,  1.89254242e+02],\n",
       "       [ 8.16677780e+01, -8.36953278e+01, -1.53876709e+02],\n",
       "       [-1.88137798e+01, -3.97687435e+00,  5.82603951e+01],\n",
       "       [-5.01531982e+01,  4.07699299e+00, -1.15638046e+02],\n",
       "       [-1.22342463e+01, -1.65367569e+02, -5.78461380e+01],\n",
       "       [-5.01531982e+01,  4.07699299e+00, -1.15638046e+02],\n",
       "       [ 1.02463959e+02,  8.31361694e+01,  4.84075546e+01],\n",
       "       [ 1.02463959e+02,  8.31361694e+01,  4.84075546e+01],\n",
       "       [ 1.02463959e+02,  8.31361694e+01,  4.84075546e+01],\n",
       "       [ 1.91571167e+02, -2.14201719e-01, -8.77554855e+01],\n",
       "       [-1.65642731e+02,  2.09281097e+02,  8.80670624e+01],\n",
       "       [-1.67368604e+03,  2.79779175e+02, -9.81554199e+03],\n",
       "       [ 9.88945007e+02,  2.56248962e+02, -1.15540796e+03],\n",
       "       [ 1.31648499e+03,  4.89112256e+03, -9.46427368e+02],\n",
       "       [-2.47047958e+02, -5.60897369e+01,  2.48823380e+02],\n",
       "       [ 4.14240837e+01,  2.23554352e+02,  3.33335037e+01],\n",
       "       [-1.69509781e+02,  1.27131844e+02, -5.33542328e+01],\n",
       "       [ 9.81588173e+00, -7.80973892e+01, -1.10152042e+00],\n",
       "       [ 2.18998062e+02,  1.05430279e+01, -2.48113871e+00],\n",
       "       [ 7.94816284e+01,  4.01373367e+01, -2.03877888e+01],\n",
       "       [ 9.81588173e+00, -7.80973892e+01, -1.10152042e+00],\n",
       "       [ 6.42060852e+01,  7.19294281e+01, -1.36063904e+02],\n",
       "       [ 1.26850937e+02,  8.79763508e+00,  1.25393539e+02],\n",
       "       [ 9.48980103e+01, -1.78162949e+02,  5.64307785e+01],\n",
       "       [-1.40351990e+02,  3.89496498e+01, -2.75683270e+01],\n",
       "       [ 2.94308662e-01, -9.75029373e+01, -1.07225761e+02],\n",
       "       [-1.48124863e+02, -1.11695847e+02,  9.33409119e+01],\n",
       "       [ 3.52512283e+01,  2.70602798e+01, -8.02046280e+01],\n",
       "       [-1.11795380e+02,  7.18541031e+01, -1.00116219e+02],\n",
       "       [-6.79388762e+00, -1.39062672e+01,  1.54724411e+02],\n",
       "       [-7.78948898e+01,  8.50541840e+01, -1.74826859e+02],\n",
       "       [ 1.51263382e+02, -1.32813965e+02,  6.37563133e+00],\n",
       "       [ 4.37670441e+01, -1.17559299e+01, -1.61071838e+02],\n",
       "       [ 1.26850937e+02,  8.79763508e+00,  1.25393539e+02],\n",
       "       [ 8.23516388e+01, -3.18299084e+01, -3.69728470e+01],\n",
       "       [ 9.81588173e+00, -7.80973892e+01, -1.10152042e+00],\n",
       "       [ 8.67984891e-01,  3.84222679e+01,  2.04720306e+02],\n",
       "       [ 1.86819839e+01,  6.69369583e+01,  1.10080566e+02],\n",
       "       [-9.16118851e+01,  1.81737900e+02, -5.18636475e+01],\n",
       "       [ 1.31051559e+01,  9.21057358e+01, -5.97307091e+01],\n",
       "       [ 3.52512283e+01,  2.70602798e+01, -8.02046280e+01],\n",
       "       [ 2.94308662e-01, -9.75029373e+01, -1.07225761e+02],\n",
       "       [ 9.81588173e+00, -7.80973892e+01, -1.10152042e+00],\n",
       "       [ 7.19133606e+01,  2.51185226e+01,  1.87961060e+02],\n",
       "       [ 4.96670227e+01,  1.37021118e+02, -9.64321976e+01],\n",
       "       [ 9.36825638e+01,  1.14425125e+02,  1.46358261e+02],\n",
       "       [ 1.86819839e+01,  6.69369583e+01,  1.10080566e+02],\n",
       "       [ 1.86819839e+01,  6.69369583e+01,  1.10080566e+02],\n",
       "       [-6.96445007e+01,  7.24686127e+01,  4.15179329e+01],\n",
       "       [ 1.26850937e+02,  8.79763508e+00,  1.25393539e+02],\n",
       "       [-1.40351990e+02,  3.89496498e+01, -2.75683270e+01],\n",
       "       [ 1.85027866e+01,  1.43345749e+02,  4.56627159e+01],\n",
       "       [ 1.89032394e+02, -5.40956497e+01,  4.46353645e+01],\n",
       "       [-2.77727814e+01,  1.65300522e+02, -1.14679283e+02],\n",
       "       [ 9.81588173e+00, -7.80973892e+01, -1.10152042e+00],\n",
       "       [-1.95912743e+01, -1.78986664e+01, -4.27531853e+01],\n",
       "       [ 1.43121185e+02,  3.42239380e+00, -1.86651096e+01],\n",
       "       [-6.96445007e+01,  7.24686127e+01,  4.15179329e+01],\n",
       "       [ 9.11038132e+01, -1.97226776e+02, -3.75917778e+01],\n",
       "       [ 1.35165054e+02,  1.49428177e+02, -3.02214088e+01],\n",
       "       [-1.65509918e+02, -3.06301651e+01, -9.72422638e+01],\n",
       "       [ 1.43121185e+02,  3.42239380e+00, -1.86651096e+01],\n",
       "       [-1.40351990e+02,  3.89496498e+01, -2.75683270e+01],\n",
       "       [-1.05367722e+02,  1.15412422e+02,  1.00456825e+02],\n",
       "       [ 9.81588173e+00, -7.80973892e+01, -1.10152042e+00],\n",
       "       [ 9.46510315e+01,  7.97972031e+01, -6.89040298e+01],\n",
       "       [-5.74214783e+01,  2.51355095e+01, -1.95984974e+01],\n",
       "       [-1.05367722e+02,  1.15412422e+02,  1.00456825e+02],\n",
       "       [ 4.19908257e+01, -1.38648438e+02,  1.37603775e+02],\n",
       "       [ 4.64423714e+01, -4.32102661e+01, -9.39058304e+01],\n",
       "       [ 1.86819839e+01,  6.69369583e+01,  1.10080566e+02],\n",
       "       [-3.90978470e+01,  1.14998497e+02,  1.60048325e+02],\n",
       "       [ 7.01163177e+01,  1.95358414e+02, -5.90269432e+01],\n",
       "       [-1.16805105e+01,  1.71928940e+02, -3.21851616e+01],\n",
       "       [-1.24915222e+02,  5.99300117e+01,  1.62030731e+02],\n",
       "       [ 1.30994003e+02, -5.77574768e+01,  8.41942673e+01],\n",
       "       [ 4.19908257e+01, -1.38648438e+02,  1.37603775e+02],\n",
       "       [ 1.85027866e+01,  1.43345749e+02,  4.56627159e+01],\n",
       "       [ 5.23992968e+00,  6.79702454e+01,  6.21219015e+00],\n",
       "       [-1.16805105e+01,  1.71928940e+02, -3.21851616e+01],\n",
       "       [ 1.78524704e+01, -1.38872162e+02,  7.03577576e+01],\n",
       "       [ 5.83903046e+01, -1.49713577e+02,  7.41250467e+00],\n",
       "       [-1.59942017e+02,  2.56893706e+00,  1.21688568e+02],\n",
       "       [-2.39889736e+01,  9.33522186e+01, -1.16085480e+02],\n",
       "       [ 1.86819839e+01,  6.69369583e+01,  1.10080566e+02],\n",
       "       [ 1.85642380e+02,  9.07657318e+01, -2.61104679e+00],\n",
       "       [ 1.85027866e+01,  1.43345749e+02,  4.56627159e+01],\n",
       "       [-1.40351990e+02,  3.89496498e+01, -2.75683270e+01],\n",
       "       [ 8.69647598e+01, -6.63638687e+01,  1.51649445e+02],\n",
       "       [ 9.94372101e+01,  2.89762459e+01, -1.86709198e+02],\n",
       "       [-3.90978470e+01,  1.14998497e+02,  1.60048325e+02],\n",
       "       [ 2.99013252e+01,  4.13060236e+00, -9.63357067e+00],\n",
       "       [ 1.80658676e+02,  2.49614830e+01,  6.19355965e+01],\n",
       "       [ 3.01612167e+01,  1.36759232e+02, -1.65842590e+02],\n",
       "       [ 6.57941666e+01,  1.26334145e+02, -2.39639702e+01],\n",
       "       [ 1.43813982e+01, -7.40823746e+01,  1.90317856e+02],\n",
       "       [ 5.23992968e+00,  6.79702454e+01,  6.21219015e+00],\n",
       "       [-1.40351990e+02,  3.89496498e+01, -2.75683270e+01],\n",
       "       [-3.67225830e+02,  1.49894476e+00,  3.79952927e+01],\n",
       "       [ 4.90174065e+01, -1.49243345e+01,  1.15361267e+02],\n",
       "       [ 1.58216492e+02,  6.74811172e+01, -6.79251175e+01],\n",
       "       [-1.99268875e+02, -4.82002869e+01, -4.80284929e+00]], dtype=float32)"
      ]
     },
     "execution_count": 144,
     "metadata": {},
     "output_type": "execute_result"
    }
   ],
   "source": [
    "from sklearn.manifold import TSNE\n",
    "\n",
    "t_sne_object_3d = TSNE(n_components=3)\n",
    "transformed_data_3d = t_sne_object_3d.fit_transform(tf_idf_vals_list)\n",
    "transformed_data_3d"
   ]
  },
  {
   "cell_type": "code",
   "execution_count": null,
   "metadata": {},
   "outputs": [],
   "source": []
  }
 ],
 "metadata": {
  "kernelspec": {
   "display_name": "Python 3",
   "language": "python",
   "name": "python3"
  },
  "language_info": {
   "codemirror_mode": {
    "name": "ipython",
    "version": 3
   },
   "file_extension": ".py",
   "mimetype": "text/x-python",
   "name": "python",
   "nbconvert_exporter": "python",
   "pygments_lexer": "ipython3",
   "version": "3.7.3"
  },
  "toc": {
   "base_numbering": 1,
   "nav_menu": {},
   "number_sections": true,
   "sideBar": true,
   "skip_h1_title": false,
   "title_cell": "Table of Contents",
   "title_sidebar": "Contents",
   "toc_cell": false,
   "toc_position": {
    "height": "calc(100% - 180px)",
    "left": "10px",
    "top": "150px",
    "width": "165px"
   },
   "toc_section_display": true,
   "toc_window_display": true
  }
 },
 "nbformat": 4,
 "nbformat_minor": 2
}
