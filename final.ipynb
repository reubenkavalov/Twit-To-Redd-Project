{
 "cells": [
  {
   "cell_type": "code",
   "execution_count": null,
   "metadata": {},
   "outputs": [],
   "source": []
  },
  {
   "cell_type": "markdown",
   "metadata": {},
   "source": [
    "***Importing Required Libraries***"
   ]
  },
  {
   "cell_type": "code",
   "execution_count": 694,
   "metadata": {},
   "outputs": [],
   "source": [
    "%%capture\n",
    "from tqdm import tqdm_notebook as tqdm\n",
    "tqdm().pandas()\n",
    "\n",
    "\n",
    "import re\n",
    "import time\n",
    "import nltk\n",
    "import praw\n",
    "import string\n",
    "import requests\n",
    "import numpy as np\n",
    "import pandas as pd\n",
    "import matplotlib.pyplot as plt\n",
    "\n",
    "import gensim\n",
    "from gensim.models import Word2Vec, CoherenceModel\n",
    "\n",
    "\n",
    "from sklearn.model_selection import train_test_split\n",
    "\n",
    "import nltk\n",
    "from nltk.collocations import *\n",
    "from nltk import FreqDist, word_tokenize\n",
    "from nltk.corpus import gutenberg, stopwords\n",
    "from nltk.stem.wordnet import WordNetLemmatizer\n",
    "\n",
    "from sklearn.svm import SVC\n",
    "from sklearn.pipeline import Pipeline\n",
    "from sklearn.ensemble import RandomForestClassifier\n",
    "from sklearn.linear_model import LogisticRegression\n",
    "from sklearn.model_selection import cross_val_score\n",
    "\n",
    "from keras.preprocessing import text\n",
    "from keras.models import Model, model_from_json\n",
    "from keras.preprocessing.sequence import pad_sequences\n",
    "from keras.callbacks import History, EarlyStopping, ModelCheckpoint\n",
    "from keras import initializers, regularizers, constraints, optimizers, layers\n",
    "from keras.layers import Input, Dense, LSTM, Embedding, Dropout, Activation, Bidirectional, GlobalMaxPool1D\n",
    "\n",
    "\n",
    "from selenium import webdriver\n",
    "from selenium.webdriver.common.by import By\n",
    "from selenium.webdriver.common.keys import Keys\n",
    "from selenium.common.exceptions import TimeoutException\n",
    "from selenium.webdriver.support.ui import WebDriverWait\n",
    "from selenium.webdriver.support import expected_conditions as EC"
   ]
  },
  {
   "cell_type": "markdown",
   "metadata": {},
   "source": [
    "# Acquiring User Likes\n"
   ]
  },
  {
   "cell_type": "markdown",
   "metadata": {},
   "source": [
    "## Using Twitter API"
   ]
  },
  {
   "cell_type": "code",
   "execution_count": null,
   "metadata": {},
   "outputs": [],
   "source": []
  },
  {
   "cell_type": "code",
   "execution_count": 455,
   "metadata": {},
   "outputs": [],
   "source": [
    "def get_liked_tweets(handle):\n",
    "    '''\n",
    "    Takes Twitter handle and extracts and parses liked tweets.\n",
    "    \n",
    "    '''\n",
    "    ### Acquired from Twitter using API key and API secret key ###\n",
    "    bearer_token = 'AAAAAAAAAAAAAAAAAAAAAImyAwEAAAAAyWB9oAfMqhJG66%2BeJHuUEi5wsXM%3DKOzTDPgjqoXjzERO1JmoAJfVIqjnaPdD7wUhayNjESzeytty2J'\n",
    "    ###\n",
    "    all_tweets = []\n",
    "    url = 'https://api.twitter.com/1.1/favorites/list.json?screen_name={}'.format(handle)\n",
    "    headers = {\n",
    "        'Authorization': 'Bearer {}'.format(bearer_token),\n",
    "            }\n",
    "    first_url_params = {\n",
    "        'count': 200\n",
    "            }\n",
    "    first_response = requests.get(url, headers=headers, params=first_url_params)\n",
    "    print(first_response)\n",
    "    first_initial_split = first_response.text.split(',\"text\":\"')\n",
    "    first_t = len(first_initial_split)    \n",
    "    for i in range(1,first_t):\n",
    "        all_tweets.append(first_initial_split[i].split(',\"truncated\":')[0])\n",
    "        \n",
    "    ### Regex to extract the id of the last tweet to use as pagination ###      \n",
    "    regsearch = re.search('(?<=(\\d\",\"id\":))[\\d]*', first_initial_split[first_t-2])\n",
    "    tweet_id = int(regsearch.group(0))\n",
    "    ###\n",
    "    \n",
    "    ### Looping process to manually paginate through tweets ###\n",
    "    page = 0\n",
    "    while page < 15:\n",
    "        url1 = 'https://api.twitter.com/1.1/favorites/list.json?screen_name={}&count=200&max_id={}'.format(handle,tweet_id-1)\n",
    "        response = requests.get(url1, headers=headers)\n",
    "        initial_split = response.text.split(',\"text\":\"')\n",
    "        t = len(initial_split)\n",
    "        for i in range(1,t):\n",
    "            all_tweets.append(initial_split[i].split(',\"truncated\":')[0])\n",
    " \n",
    "        ### Regex to extract the id of the last tweet to use as pagination ###      \n",
    "        try:\n",
    "            regsearch = re.search('(?<=(\\d\",\"id\":))[\\d]*', initial_split[t-2])\n",
    "            tweet_id = int(regsearch.group(0))\n",
    "        except: break\n",
    "        ###\n",
    "        \n",
    "        page +=1\n",
    "    return all_tweets"
   ]
  },
  {
   "cell_type": "markdown",
   "metadata": {},
   "source": [
    "# Getting Top Subreddits"
   ]
  },
  {
   "cell_type": "code",
   "execution_count": 206,
   "metadata": {},
   "outputs": [],
   "source": [
    "driver = webdriver.Chrome()\n",
    "driver.get('https://www.reddit.com/r/TheoryOfReddit/comments/1f7hqc/the_200_most_active_subreddits_categorized_by/')"
   ]
  },
  {
   "cell_type": "code",
   "execution_count": 207,
   "metadata": {},
   "outputs": [
    {
     "ename": "IndexError",
     "evalue": "list index out of range",
     "output_type": "error",
     "traceback": [
      "\u001b[0;31m---------------------------------------------------------------------------\u001b[0m",
      "\u001b[0;31mIndexError\u001b[0m                                Traceback (most recent call last)",
      "\u001b[0;32m<ipython-input-207-308625447b3c>\u001b[0m in \u001b[0;36m<module>\u001b[0;34m\u001b[0m\n\u001b[1;32m      3\u001b[0m \u001b[0;32mfor\u001b[0m \u001b[0mi\u001b[0m \u001b[0;32min\u001b[0m \u001b[0msubs\u001b[0m\u001b[0;34m[\u001b[0m\u001b[0;36m3\u001b[0m\u001b[0;34m:\u001b[0m\u001b[0;34m]\u001b[0m\u001b[0;34m:\u001b[0m\u001b[0;34m\u001b[0m\u001b[0;34m\u001b[0m\u001b[0m\n\u001b[1;32m      4\u001b[0m     \u001b[0;32mif\u001b[0m \u001b[0;34m\"r/\"\u001b[0m \u001b[0;32min\u001b[0m \u001b[0mi\u001b[0m\u001b[0;34m.\u001b[0m\u001b[0mtext\u001b[0m\u001b[0;34m:\u001b[0m\u001b[0;34m\u001b[0m\u001b[0;34m\u001b[0m\u001b[0m\n\u001b[0;32m----> 5\u001b[0;31m         \u001b[0msubreddits\u001b[0m\u001b[0;34m.\u001b[0m\u001b[0mappend\u001b[0m\u001b[0;34m(\u001b[0m\u001b[0mi\u001b[0m\u001b[0;34m.\u001b[0m\u001b[0mtext\u001b[0m\u001b[0;34m.\u001b[0m\u001b[0msplit\u001b[0m\u001b[0;34m(\u001b[0m\u001b[0;34m\" - \"\u001b[0m\u001b[0;34m)\u001b[0m\u001b[0;34m[\u001b[0m\u001b[0;36m1\u001b[0m\u001b[0;34m]\u001b[0m\u001b[0;34m)\u001b[0m\u001b[0;34m\u001b[0m\u001b[0;34m\u001b[0m\u001b[0m\n\u001b[0m\u001b[1;32m      6\u001b[0m     \u001b[0;32melse\u001b[0m\u001b[0;34m:\u001b[0m\u001b[0;34m\u001b[0m\u001b[0;34m\u001b[0m\u001b[0m\n\u001b[1;32m      7\u001b[0m         \u001b[0;32mcontinue\u001b[0m\u001b[0;34m\u001b[0m\u001b[0;34m\u001b[0m\u001b[0m\n",
      "\u001b[0;31mIndexError\u001b[0m: list index out of range"
     ]
    }
   ],
   "source": [
    "subs = driver.find_elements_by_class_name('_1qeIAgB0cPwnLhDF9XSiJM')\n",
    "subreddits = []\n",
    "for i in subs[3:]:\n",
    "    if \"r/\" in i.text:\n",
    "        subreddits.append(i.text.split(\" - \")[1])\n",
    "    else:\n",
    "        continue\n",
    "### THIS CELL THROWS AN ERROR -- IGNORE IT -- ###"
   ]
  },
  {
   "cell_type": "code",
   "execution_count": 208,
   "metadata": {},
   "outputs": [],
   "source": [
    "clean_subs = []\n",
    "for sub in subreddits:\n",
    "    clean_subs.append(sub.split('r/')[1])"
   ]
  },
  {
   "cell_type": "markdown",
   "metadata": {},
   "source": [
    "## Using PRAW (Python Reddit API Wrapper) to get top posts in top subreddits"
   ]
  },
  {
   "cell_type": "code",
   "execution_count": 727,
   "metadata": {},
   "outputs": [],
   "source": [
    "reddit = praw.Reddit(client_id='MU9yce7zmiOKwA',\n",
    "                     client_secret='DRV5fO7p-Tn7VzxmMH8mnRwM_hE',\n",
    "                     user_agent='my user agent')"
   ]
  },
  {
   "cell_type": "code",
   "execution_count": null,
   "metadata": {},
   "outputs": [],
   "source": [
    "all_submissions = {}\n",
    "for sub in tqdm(clean_subs):\n",
    "    all_submissions[sub] = []\n",
    "    for submission in reddit.subreddit(sub).top(limit=1000):\n",
    "        all_submissions[sub].append(submission.title)\n",
    "    "
   ]
  },
  {
   "cell_type": "markdown",
   "metadata": {},
   "source": [
    "## Looking at examples of pre-processing and EDA"
   ]
  },
  {
   "cell_type": "code",
   "execution_count": null,
   "metadata": {},
   "outputs": [],
   "source": [
    "lemmatizer = WordNetLemmatizer()\n",
    "\n",
    "pattern = \"([a-zA-Z]+(?:'[a-z]+)?)\"\n",
    "subr_text_tokens_raw = nltk.regexp_tokenize(\" \".join(all_submissions['creepy']), pattern)\n",
    "subr_text_tokens = [word.lower() for word in subr_text_tokens_raw]\n",
    "subr_text_tokens = [lemmatizer.lemmatize(i) for i in subr_text_tokens]\n",
    "subr_text_freqdist = FreqDist(subr_text_tokens)\n",
    "subr_text_freqdist.most_common(200)"
   ]
  },
  {
   "cell_type": "code",
   "execution_count": null,
   "metadata": {},
   "outputs": [],
   "source": [
    "subr_text_stopped_freqdist = FreqDist(subr_text_stopped)\n",
    "subr_text_stopped_freqdist.most_common(50)"
   ]
  },
  {
   "cell_type": "code",
   "execution_count": null,
   "metadata": {
    "scrolled": true
   },
   "outputs": [],
   "source": [
    "total_word_count = sum(subr_text_stopped_freqdist.values())\n",
    "subr_text_top_50 = subr_text_stopped_freqdist.most_common(50)\n",
    "print(\"Word\\t\\t\\tNormalized Frequency\")\n",
    "for word in subr_text_top_50:\n",
    "    normalized_frequency = word[1] / total_word_count\n",
    "    print(\"{} \\t\\t\\t {:.4}\".format(word[0], normalized_frequency))"
   ]
  },
  {
   "cell_type": "code",
   "execution_count": null,
   "metadata": {},
   "outputs": [],
   "source": [
    "bigram_measures = nltk.collocations.BigramAssocMeasures()\n",
    "\n",
    "subr_text_finder = BigramCollocationFinder.from_words(subr_text_stopped)\n",
    "subr_text_finder.apply_freq_filter(3)\n",
    "\n",
    "subr_text_scored = subr_text_finder.score_ngrams(bigram_measures.pmi)\n",
    "subr_text_scored[:20]"
   ]
  },
  {
   "cell_type": "markdown",
   "metadata": {},
   "source": [
    "# Separating subreddits into respective categories"
   ]
  },
  {
   "cell_type": "code",
   "execution_count": null,
   "metadata": {},
   "outputs": [],
   "source": [
    "label_text_df = pd.DataFrame()\n",
    "\n",
    "label_text_df['target'] = ['Discussion and Stories','Emotional Reaction Fuel','Entertainment - Gaming', \n",
    "                         'Entertainment - Television', 'Entertainment - Other (Movies/Music/Franchies/Misc)',\n",
    "                         'Humor','Images, Gifs, and Videos','Learning and Thinking','Lifestyle and Help',\n",
    "                         'News and Issues', 'Places', 'Race, Gender, and Identity', 'Sports','Technology']\n",
    "categorized_posts = dict((i,\"\")for i in label_text_df.target)\n",
    "for i in clean_subs:\n",
    "    if i ==\"AskReddit\" or i=='IAmA' or i ==\"bestof\" or i=='fatpeoplestories' or i =='pettyrevenge' or i ==\"TalesFromRetail\" or i=='DoesAnybodyElse' or i =='CrazyIdeas':\n",
    "        categorized_posts['Discussion and Stories'] = [categorized_posts['Discussion and Stories'],all_submissions[i]]\n",
    "    elif i ==\"WTF\" or i=='aww' or i ==\"cringepics\" or i=='JusticePorn' or i =='MorbidReality' or i ==\"rage\" or i=='mildlyinfuriating' or i =='creepy' or i=='creepyPMs' or i ==\"nosleep\" or i=='nostalgia':\n",
    "        categorized_posts['Emotional Reaction Fuel'] = [categorized_posts['Emotional Reaction Fuel'],all_submissions[i]]\n",
    "    elif i ==\"gaming\" or i=='leagueoflegends' or i ==\"pokemon\" or i=='Minecraft' or i =='starcraft' or i ==\"Games\" or i=='DotA2' or i =='skyrim' or i=='tf2' or i ==\"magicTCG\" or i=='wow' or i ==\"KerbalSpaceProgram\" or i=='mindcrack' or i =='Fallout' or i=='roosterteeth' or i ==\"Planetside\" or i=='gamegrumps' or i ==\"battlefield3\" or i=='zelda' or i =='darksouls' or i=='masseffect':\n",
    "        categorized_posts['Entertainment - Gaming'] = [categorized_posts['Entertainment - Gaming'],all_submissions[i]]\n",
    "    elif i ==\"arresteddevelopment\" or i=='gameofthrones' or i ==\"doctorwho\" or i=='mylittlepony' or i =='community' or i ==\"breakingbad\" or i=='adventuretime' or i =='startrek' or i=='TheSimpsons' or i ==\"futurama\" or i=='HIMYM' or i=='DunderMifflin' or i ==\"thewalkingdead\":\n",
    "        categorized_posts['Entertainment - Television'] = [categorized_posts['Entertainment - Television'],all_submissions[i]]\n",
    "    elif i ==\"Music\" or i=='movies' or i ==\"harrypotter\" or i=='StarWars' or i =='DaftPunk' or i ==\"hiphopheads\" or i=='anime' or i =='comicbooks' or i=='geek' or i ==\"batman\" or i=='TheLastAirbender' or i=='Naruto' or i ==\"FanTheories\":\n",
    "        categorized_posts['Entertainment - Other (Movies/Music/Franchies/Misc)'] = [categorized_posts['Entertainment - Other (Movies/Music/Franchies/Misc)'],all_submissions[i]]\n",
    "    elif i ==\"funny\" or i=='AdviceAnimals' or i ==\"fffffffuuuuuuuuuuuu\" or i=='4chan' or i =='ImGoingToHellForThis' or i ==\"firstworldanarchists\" or i=='circlejerk' or i =='MURICA' or i=='facepalm' or i ==\"Jokes\" or i=='wheredidthesodago' or i=='polandball' or i ==\"TrollXChromosomes\" or i ==\"comics\" or i=='nottheonion' or i=='britishproblems' or i ==\"TumblrInAction\" or i ==\"onetruegod\":\n",
    "        categorized_posts['Humor'] = [categorized_posts['Humor'],all_submissions[i]]\n",
    "    elif i ==\"pics\" or i=='videos' or i ==\"gifs\" or i=='reactiongifs' or i =='mildlyinteresting' or i ==\"woahdude\" or i=='FiftyFifty' or i =='FoodPorn' or i=='HistoryPorn' or i ==\"wallpapers\" or i=='youtubehaiku' or i=='Unexpected' or i ==\"photoshopbattles\" or i ==\"AnimalsBeingJerks\" or i=='cosplay' or i=='EarthPorn' or i ==\"QuotesPorn\" or i ==\"awwnime\" or i ==\"AbandonedPorn\" or i=='carporn' or i ==\"PerfectTiming\" or i=='OldSchoolCool' or i =='RoomPorn' or i ==\"woahdude\" or i=='Pareidolia' or i =='MapPorn' or i=='tumblr' or i ==\"techsupportgore\" or i=='PrettyGirls' or i=='itookapicture':\n",
    "        categorized_posts['Images, Gifs, and Videos'] = [categorized_posts['Images, Gifs, and Videos'],all_submissions[i]]\n",
    "    elif i ==\"todayilearned\" or i=='science' or i ==\"askscience\" or i=='space' or i =='AskHistorians' or i ==\"YouShouldKnow\" or i=='explainlikeimfive':\n",
    "        categorized_posts['Learning and Thinking'] = [categorized_posts['Learning and Thinking'],all_submissions[i]]\n",
    "    elif i ==\"trees\" or i=='MakeupAddiction' or i ==\"cats\" or i=='LifeProTips' or i =='RedditLaqueristas' or i ==\"Random_Acts_Of_Amazon\" or i=='food' or i =='guns' or i=='tattoos' or i ==\"corgi\" or i=='teenagers' or i =='GetMotivated' or i=='motorcycles' or i ==\"sex\" or i=='progresspics' or i =='DIY' or i=='bicycling' or i ==\"Fitness\" or i=='lifehacks' or i =='longboarding' or i=='Frugal' or i ==\"drunk\" or i=='Art' or i=='loseit' or i =='Military':\n",
    "        categorized_posts['Lifestyle and Help'] = [categorized_posts['Lifestyle and Help'],all_submissions[i]]\n",
    "    elif i ==\"politics\" or i=='worldnews' or i ==\"news\" or i=='conspiracy' or i =='Libertarian' or i ==\"TrueReddit\" or i=='Conservative' or i=='offbeat':\n",
    "        categorized_posts['News and Issues'] = [categorized_posts['News and Issues'],all_submissions[i]]\n",
    "    elif i ==\"canada\" or i=='toronto' or i ==\"australia\" or i=='unitedkingdom':\n",
    "        categorized_posts['Places'] = [categorized_posts['Places'],all_submissions[i]]\n",
    "    elif i ==\"atheism\" or i=='TwoXChromosomes' or i ==\"MensRights\" or i=='gaybros' or i =='lgbt':\n",
    "        categorized_posts['Race, Gender, and Identity'] = [categorized_posts['Race, Gender, and Identity'],all_submissions[i]]\n",
    "    elif i ==\"nba\" or i=='soccer' or i ==\"hockey\" or i=='nfl' or i =='formula1' or i ==\"baseball\" or i=='MMA' or i=='SquaredCircle':\n",
    "        categorized_posts['Sports'] = [categorized_posts['Sports'],all_submissions[i]]\n",
    "    elif i ==\"technology\" or i=='Android' or i ==\"Bitcoin\" or i=='programming' or i =='apple':\n",
    "        categorized_posts['Technology'] = [categorized_posts['Technology'],all_submissions[i]]"
   ]
  },
  {
   "cell_type": "markdown",
   "metadata": {},
   "source": [
    "## Creating dataframe of posts and categories"
   ]
  },
  {
   "cell_type": "code",
   "execution_count": null,
   "metadata": {},
   "outputs": [],
   "source": [
    "def flatten(container):\n",
    "    for i in container:\n",
    "        if isinstance(i, (list,tuple)):\n",
    "            for j in flatten(i):\n",
    "                yield j\n",
    "        else:\n",
    "            yield i\n",
    "posts_by_category = dict((i,\"\")for i in label_text_df.target)\n",
    "for i in label_text_df.target:\n",
    "    posts_by_category[i] = list(flatten(categorized_posts[i]))[1:]"
   ]
  },
  {
   "cell_type": "code",
   "execution_count": null,
   "metadata": {},
   "outputs": [],
   "source": [
    "master_list = []\n",
    "for i in tqdm(label_text_df.target):\n",
    "    for post in posts_by_category[i]:\n",
    "        post_list = []\n",
    "        post_list.append(i)\n",
    "        post_list.append(post)\n",
    "        master_list.append(post_list)\n",
    "\n",
    "reddit_df = pd.DataFrame(master_list)\n",
    "reddit_df.to_csv('reddit_df') ### Saving dataframe"
   ]
  },
  {
   "cell_type": "code",
   "execution_count": null,
   "metadata": {},
   "outputs": [],
   "source": [
    "reddit_df = pd.read_csv('reddit_df') ### Loading dataframe\n",
    "reddit_df = reddit_df.drop(columns=[\"Unnamed: 0\"])\n",
    "reddit_df.columns = reddit_df.columns.astype(\"int\")"
   ]
  },
  {
   "cell_type": "code",
   "execution_count": 261,
   "metadata": {},
   "outputs": [],
   "source": [
    "from gensim import corpora"
   ]
  },
  {
   "cell_type": "code",
   "execution_count": 275,
   "metadata": {},
   "outputs": [],
   "source": [
    "dictionary = corpora.Dictionary(reddit_df_stopped['tokens'])\n",
    "dictionary.filter_extremes(no_below=10, no_above=0.66, keep_n=20000)"
   ]
  },
  {
   "cell_type": "code",
   "execution_count": 293,
   "metadata": {},
   "outputs": [
    {
     "data": {
      "text/plain": [
       "{'holding': 0,\n",
       " 'last': 1,\n",
       " 'people': 2,\n",
       " 'shit': 3,\n",
       " 'still': 4,\n",
       " 'years': 5,\n",
       " 'yet': 6,\n",
       " 'away': 7,\n",
       " 'lee': 8,\n",
       " 'old': 9,\n",
       " 'passed': 10,\n",
       " 'stan': 11,\n",
       " 'automatically': 12,\n",
       " 'crosspost': 13,\n",
       " 'feature': 14,\n",
       " 'feel': 15,\n",
       " 'how': 16,\n",
       " 'original': 17,\n",
       " 'post': 18,\n",
       " 'someone': 19,\n",
       " 'upvoted': 20,\n",
       " 'upvotes': 21,\n",
       " 'would': 22,\n",
       " 'bans': 23,\n",
       " 'commercials': 24,\n",
       " 'law': 25,\n",
       " 'noises': 26,\n",
       " 'playing': 27,\n",
       " 'radio': 28,\n",
       " 'reddit': 29,\n",
       " 'stations': 30,\n",
       " 'them': 31,\n",
       " 'category': 32,\n",
       " 'five': 33,\n",
       " 'is': 34,\n",
       " 'saying': 35,\n",
       " 'top': 36,\n",
       " 'without': 37,\n",
       " 'anthony': 38,\n",
       " 'avoid': 39,\n",
       " 'bed': 40,\n",
       " 'bourdain': 41,\n",
       " 'cartoons': 42,\n",
       " 'day': 43,\n",
       " 'guy': 44,\n",
       " 'head': 45,\n",
       " 'him': 46,\n",
       " 'lay': 47,\n",
       " 'life': 48,\n",
       " 'long': 49,\n",
       " 'movies': 50,\n",
       " 'my': 51,\n",
       " 'pot': 52,\n",
       " 'said': 53,\n",
       " 'series': 54,\n",
       " 'smoke': 55,\n",
       " 'that': 56,\n",
       " 'theres': 57,\n",
       " 'wants': 58,\n",
       " 'watch': 59,\n",
       " 'who': 60,\n",
       " 'you': 61,\n",
       " 'days': 62,\n",
       " 'difficult': 63,\n",
       " 'future': 64,\n",
       " 'headlines': 65,\n",
       " 'makes': 66,\n",
       " 'negative': 67,\n",
       " 'news': 68,\n",
       " 'optimistic': 69,\n",
       " 'progress': 70,\n",
       " 'signs': 71,\n",
       " 'spot': 72,\n",
       " 'what': 73,\n",
       " 'with': 74,\n",
       " 'americans': 75,\n",
       " 'do': 76,\n",
       " 'employees': 77,\n",
       " 'federal': 78,\n",
       " 'go': 79,\n",
       " 'government': 80,\n",
       " 'like': 81,\n",
       " 'not': 82,\n",
       " 'officials': 83,\n",
       " 'pay': 84,\n",
       " 'place': 85,\n",
       " 'president': 86,\n",
       " 'putting': 87,\n",
       " 'senators': 88,\n",
       " 'serious': 89,\n",
       " 'support': 90,\n",
       " 'why': 91,\n",
       " 'ability': 92,\n",
       " 'age': 93,\n",
       " 'announced': 94,\n",
       " 'become': 95,\n",
       " 'donors': 96,\n",
       " 'every': 97,\n",
       " 'iceland': 98,\n",
       " 'opt': 99,\n",
       " 'organ': 100,\n",
       " 'out': 101,\n",
       " 'this': 102,\n",
       " 'continue': 103,\n",
       " 'driving': 104,\n",
       " 'order': 105,\n",
       " 'pass': 106,\n",
       " 'requires': 107,\n",
       " 'specialized': 108,\n",
       " 'test': 109,\n",
       " 'be': 110,\n",
       " 'drinking': 111,\n",
       " 'game': 112,\n",
       " 'hearings': 113,\n",
       " 'impeachment': 114,\n",
       " 'now': 115,\n",
       " 'pbs': 116,\n",
       " 'rules': 117,\n",
       " 'theyll': 118,\n",
       " 'hawking': 119,\n",
       " 'professor': 120,\n",
       " 'stephen': 121,\n",
       " 'decade': 122,\n",
       " 'for': 123,\n",
       " 'months': 124,\n",
       " 'remember': 125,\n",
       " 's': 126,\n",
       " 'the': 127,\n",
       " 'think': 128,\n",
       " 'brick': 129,\n",
       " 'cheated': 130,\n",
       " 'revenge': 131,\n",
       " 'stupid': 132,\n",
       " 'take': 133,\n",
       " 'account': 134,\n",
       " 'add': 135,\n",
       " 'control': 136,\n",
       " 'gain': 137,\n",
       " 'harry': 138,\n",
       " 'information': 139,\n",
       " 'jk': 140,\n",
       " 'lore': 141,\n",
       " 'piece': 142,\n",
       " 'potter': 143,\n",
       " 'twitter': 144,\n",
       " 'unnecessary': 145,\n",
       " 'megathread': 146,\n",
       " 'prevention': 147,\n",
       " 'suicide': 148,\n",
       " 'better': 149,\n",
       " 'small': 150,\n",
       " 'something': 151,\n",
       " 'start': 152,\n",
       " 'today': 153,\n",
       " 'whats': 154,\n",
       " 'yourself': 155,\n",
       " 'bedtime': 156,\n",
       " 'but': 157,\n",
       " 'daily': 158,\n",
       " 'daughters': 159,\n",
       " 'fact': 160,\n",
       " 'facts': 161,\n",
       " 'request': 162,\n",
       " 'simple': 163,\n",
       " 'year': 164,\n",
       " 'data': 165,\n",
       " 'downloaded': 166,\n",
       " 'found': 167,\n",
       " 'google': 168,\n",
       " 'it': 169,\n",
       " 'stored': 170,\n",
       " 'things': 171,\n",
       " 'unsettling': 172,\n",
       " 'went': 173,\n",
       " 'admins': 174,\n",
       " 'favorite': 175,\n",
       " 'subreddit': 176,\n",
       " 'actually': 177,\n",
       " 'easy': 178,\n",
       " 'lemon': 179,\n",
       " 'looks': 180,\n",
       " 'albert': 181,\n",
       " 'believing': 182,\n",
       " 'climb': 183,\n",
       " 'einstein': 184,\n",
       " 'fish': 185,\n",
       " 'if': 186,\n",
       " 'judge': 187,\n",
       " 'live': 188,\n",
       " 'moment': 189,\n",
       " 'tree': 190,\n",
       " 'whole': 191,\n",
       " 'and': 192,\n",
       " 'beat': 193,\n",
       " 'big': 194,\n",
       " 'chosen': 195,\n",
       " 'deal': 196,\n",
       " 'earlier': 197,\n",
       " 'even': 198,\n",
       " 'ever': 199,\n",
       " 'happened': 200,\n",
       " 'lying': 201,\n",
       " 'minor': 202,\n",
       " 'night': 203,\n",
       " 'poorly': 204,\n",
       " 'randomly': 205,\n",
       " 'really': 206,\n",
       " 'relatively': 207,\n",
       " 'so': 208,\n",
       " 'social': 209,\n",
       " 'though': 210,\n",
       " 'when': 211,\n",
       " 'words': 212,\n",
       " 'greatest': 213,\n",
       " 'history': 214,\n",
       " 'photograph': 215,\n",
       " 'single': 216,\n",
       " 'comes': 217,\n",
       " 'happens': 218,\n",
       " 'hot': 219,\n",
       " 'look': 220,\n",
       " 'next': 221,\n",
       " 'one': 222,\n",
       " 'dad': 223,\n",
       " 'daughter': 224,\n",
       " 'her': 225,\n",
       " 'say': 226,\n",
       " 'terms': 227,\n",
       " 'breaking': 228,\n",
       " 'nightclub': 229,\n",
       " 'orlando': 230,\n",
       " 'buzzfeed': 231,\n",
       " 'worked': 232,\n",
       " 'yesterday': 233,\n",
       " 'appear': 234,\n",
       " 'battery': 235,\n",
       " 'eyes': 236,\n",
       " 'headset': 237,\n",
       " 'low': 238,\n",
       " 'minutes': 239,\n",
       " 'react': 240,\n",
       " 'realized': 241,\n",
       " 'right': 242,\n",
       " 'simulation': 243,\n",
       " 'vr': 244,\n",
       " 'anymore': 245,\n",
       " 'are': 246,\n",
       " 'easier': 247,\n",
       " 'felt': 248,\n",
       " 'forgotten': 249,\n",
       " 'have': 250,\n",
       " 'know': 251,\n",
       " 'make': 252,\n",
       " 'overcome': 253,\n",
       " 'real': 254,\n",
       " 'spent': 255,\n",
       " 'alabama': 256,\n",
       " 'drug': 257,\n",
       " 'food': 258,\n",
       " 'get': 259,\n",
       " 'guys': 260,\n",
       " 'proposed': 261,\n",
       " 'require': 262,\n",
       " 'residents': 263,\n",
       " 'stamps': 264,\n",
       " 'tests': 265,\n",
       " 'class': 266,\n",
       " 'dream': 267,\n",
       " 'following': 268,\n",
       " 'grade': 269,\n",
       " 'grader': 270,\n",
       " 'leading': 271,\n",
       " 'math': 272,\n",
       " 'open': 273,\n",
       " 'point': 274,\n",
       " 'shoulder': 275,\n",
       " 'sleeping': 276,\n",
       " 'suddenly': 277,\n",
       " 'th': 278,\n",
       " 'thoughts': 279,\n",
       " 'touch': 280,\n",
       " 'best': 281,\n",
       " 'internet': 282,\n",
       " 'kept': 283,\n",
       " 'secret': 284,\n",
       " 'boner': 285,\n",
       " 'celebrity': 286,\n",
       " 'gives': 287,\n",
       " 'which': 288,\n",
       " 'could': 289,\n",
       " 'cruise': 290,\n",
       " 'ended': 291,\n",
       " 'hide': 292,\n",
       " 'redditors': 293,\n",
       " 'round': 294,\n",
       " 'ship': 295,\n",
       " 'stay': 296,\n",
       " 'tried': 297,\n",
       " 'back': 298,\n",
       " 'end': 299,\n",
       " 'interesting': 300,\n",
       " 'middle': 301,\n",
       " 'see': 302,\n",
       " 'sleep': 303,\n",
       " 'wanted': 304,\n",
       " 'woke': 305,\n",
       " 'noticed': 306,\n",
       " 'positive': 307,\n",
       " 'teachers': 308,\n",
       " 'todays': 309,\n",
       " 'trends': 310,\n",
       " 'youth': 311,\n",
       " 'across': 312,\n",
       " 'ammo': 313,\n",
       " 'come': 314,\n",
       " 'down': 315,\n",
       " 'empty': 316,\n",
       " 'equivalent': 317,\n",
       " 'extra': 318,\n",
       " 'health': 319,\n",
       " 'in': 320,\n",
       " 'pack': 321,\n",
       " 'reallife': 322,\n",
       " 'room': 323,\n",
       " 'save': 324,\n",
       " 'video': 325,\n",
       " 'complete': 326,\n",
       " 'free': 327,\n",
       " 'good': 328,\n",
       " 'online': 329,\n",
       " 'resume': 330,\n",
       " 'about': 331,\n",
       " 'girls': 332,\n",
       " 'secrets': 333,\n",
       " 'anyone': 334,\n",
       " 'hardly': 335,\n",
       " 'heard': 336,\n",
       " 'song': 337,\n",
       " 'chernobyl': 338,\n",
       " 'covered': 339,\n",
       " 'disaster': 340,\n",
       " 'event': 341,\n",
       " 'hbos': 342,\n",
       " 'new': 343,\n",
       " 'season': 344,\n",
       " 'juicy': 345,\n",
       " 'lives': 346,\n",
       " 'personal': 347,\n",
       " 'bad': 348,\n",
       " 'everything': 349,\n",
       " 'remind': 350,\n",
       " 'use': 351,\n",
       " 'child': 352,\n",
       " 'court': 353,\n",
       " 'money': 354,\n",
       " 'parents': 355,\n",
       " 'proof': 356,\n",
       " 'receive': 357,\n",
       " 'requiring': 358,\n",
       " 'supply': 359,\n",
       " 'declassified': 360,\n",
       " 'documents': 361,\n",
       " 'surprisingly': 362,\n",
       " 'terrifying': 363,\n",
       " 'aspects': 364,\n",
       " 'called': 365,\n",
       " 'certain': 366,\n",
       " 'episodes': 367,\n",
       " 'made': 368,\n",
       " 'mirror': 369,\n",
       " 'plot': 370,\n",
       " 'relationship': 371,\n",
       " 'show': 372,\n",
       " 'white': 373,\n",
       " 'scariest': 374,\n",
       " 'story': 375,\n",
       " 'true': 376,\n",
       " 'argument': 377,\n",
       " 'billion': 378,\n",
       " 'dinner': 379,\n",
       " 'dollars': 380,\n",
       " 'familys': 381,\n",
       " 'massive': 382,\n",
       " 'plan': 383,\n",
       " 'thanksgiving': 384,\n",
       " 'adults': 385,\n",
       " 'cleanup': 386,\n",
       " 'environmental': 387,\n",
       " 'fighting': 388,\n",
       " 'instead': 389,\n",
       " 'kind': 390,\n",
       " 'mandatory': 391,\n",
       " 'military': 392,\n",
       " 'must': 393,\n",
       " 'ocean': 394,\n",
       " 'projects': 395,\n",
       " 'service': 396,\n",
       " 'spend': 397,\n",
       " 'accept': 398,\n",
       " 'accepted': 399,\n",
       " 'breakdown': 400,\n",
       " 'contact': 401,\n",
       " 'experiment': 402,\n",
       " 'giving': 403,\n",
       " 'human': 404,\n",
       " 'mental': 405,\n",
       " 'month': 406,\n",
       " 'nothing': 407,\n",
       " 'succeed': 408,\n",
       " 'up': 409,\n",
       " 'anime': 410,\n",
       " 'girl': 411,\n",
       " 'men': 412,\n",
       " 'picture': 413,\n",
       " 'profile': 414,\n",
       " 'car': 415,\n",
       " 'entirety': 416,\n",
       " 'fbi': 417,\n",
       " 'force': 418,\n",
       " 'keys': 419,\n",
       " 'offered': 420,\n",
       " 'pair': 421,\n",
       " 'usd': 422,\n",
       " 'where': 423,\n",
       " 'amazing': 424,\n",
       " 'thing': 425,\n",
       " 'universe': 426,\n",
       " 'conspiracy': 427,\n",
       " 'might': 428,\n",
       " 'theory': 429,\n",
       " 'available': 430,\n",
       " 'believe': 431,\n",
       " 'cant': 432,\n",
       " 'software': 433,\n",
       " 'children': 434,\n",
       " 'experience': 435,\n",
       " 'i': 436,\n",
       " 'manager': 437,\n",
       " 'talk': 438,\n",
       " 'want': 439,\n",
       " 'week': 440,\n",
       " 'work': 441,\n",
       " 'albums': 442,\n",
       " 'binge': 443,\n",
       " 'full': 444,\n",
       " 'listen': 445,\n",
       " 'interview': 446,\n",
       " 'job': 447,\n",
       " 'mention': 448,\n",
       " 'weakness': 449,\n",
       " 'oh': 450,\n",
       " 'realised': 451,\n",
       " 'way': 452,\n",
       " 'wrong': 453,\n",
       " 'always': 454,\n",
       " 'fuck': 455,\n",
       " 'respond': 456,\n",
       " 'april': 457,\n",
       " 'around': 458,\n",
       " 'con': 459,\n",
       " 'fools': 460,\n",
       " 'less': 461,\n",
       " 'pranks': 462,\n",
       " 'started': 463,\n",
       " 'we': 464,\n",
       " 'alternatives': 465,\n",
       " 'amounts': 466,\n",
       " 'bag': 467,\n",
       " 'consumed': 468,\n",
       " 'eating': 469,\n",
       " 'family': 470,\n",
       " 'healthy': 471,\n",
       " 'large': 472,\n",
       " 'rather': 473,\n",
       " 'size': 474,\n",
       " 'snack': 475,\n",
       " 'a': 476,\n",
       " 'authorities': 477,\n",
       " 'british': 478,\n",
       " 'chance': 479,\n",
       " 'charity': 480,\n",
       " 'country': 481,\n",
       " 'detector': 482,\n",
       " 'done': 483,\n",
       " 'else': 484,\n",
       " 'fly': 485,\n",
       " 'forced': 486,\n",
       " 'forcing': 487,\n",
       " 'goes': 488,\n",
       " 'helps': 489,\n",
       " 'hiding': 490,\n",
       " 'marriage': 491,\n",
       " 'metal': 492,\n",
       " 'recommends': 493,\n",
       " 'spoon': 494,\n",
       " 'underwear': 495,\n",
       " 'victims': 496,\n",
       " 'asks': 497,\n",
       " 'die': 498,\n",
       " 'hell': 499,\n",
       " 'satan': 500,\n",
       " 'fear': 501,\n",
       " 'leave': 502,\n",
       " 'need': 503,\n",
       " 'random': 504,\n",
       " 'rush': 505,\n",
       " 'were': 506,\n",
       " 'character': 507,\n",
       " 'fictional': 508,\n",
       " 'stuck': 509,\n",
       " 'afghanistan': 510,\n",
       " 'usa': 511,\n",
       " 'war': 512,\n",
       " 'begin': 513,\n",
       " 'realise': 514,\n",
       " 'second': 515,\n",
       " 'starts': 516,\n",
       " 'two': 517,\n",
       " 'im': 518,\n",
       " 'insecure': 519,\n",
       " 'screams': 520,\n",
       " 'cook': 521,\n",
       " 'depression': 522,\n",
       " 'foods': 523,\n",
       " 'help': 524,\n",
       " 'teenager': 525,\n",
       " 'couples': 526,\n",
       " 'play': 527,\n",
       " 'dont': 528,\n",
       " 'freedom': 529,\n",
       " 'hong': 530,\n",
       " 'kong': 531,\n",
       " 'protesters': 532,\n",
       " 'donald': 533,\n",
       " 'happening': 534,\n",
       " 'hasnt': 535,\n",
       " 'hours': 536,\n",
       " 'house': 537,\n",
       " 'theories': 538,\n",
       " 'trump': 539,\n",
       " 'tweeted': 540,\n",
       " 'abilities': 541,\n",
       " 'elderly': 542,\n",
       " 'fail': 543,\n",
       " 'fitness': 544,\n",
       " 'licenses': 545,\n",
       " 'motor': 546,\n",
       " 'operating': 547,\n",
       " 'regarding': 548,\n",
       " 'revoked': 549,\n",
       " 'should': 550,\n",
       " 'vehicle': 551,\n",
       " 'bills': 552,\n",
       " 'brush': 553,\n",
       " 'cash': 554,\n",
       " 'dollar': 555,\n",
       " 'flags': 556,\n",
       " 'highway': 557,\n",
       " 'k': 558,\n",
       " 'least': 559,\n",
       " 'raising': 560,\n",
       " 'red': 561,\n",
       " 'tell': 562,\n",
       " 'youve': 563,\n",
       " 'affect': 564,\n",
       " 'awake': 565,\n",
       " 'consequences': 566,\n",
       " 'death': 567,\n",
       " 'eventual': 568,\n",
       " 'gone': 569,\n",
       " 'till': 570,\n",
       " 'time': 571,\n",
       " 'brings': 572,\n",
       " 'decide': 573,\n",
       " 'kid': 574,\n",
       " 'whether': 575,\n",
       " 'got': 576,\n",
       " 'however': 577,\n",
       " 'knows': 578,\n",
       " 'nobody': 579,\n",
       " 'taken': 580,\n",
       " 'bomb': 581,\n",
       " 'box': 582,\n",
       " 'given': 583,\n",
       " 'has': 584,\n",
       " 'million': 585,\n",
       " 'movie': 586,\n",
       " 'office': 587,\n",
       " 'high': 588,\n",
       " 'never': 589,\n",
       " 'person': 590,\n",
       " 'school': 591,\n",
       " 'students': 592,\n",
       " 'youd': 593,\n",
       " 'experiments': 594,\n",
       " 'psychology': 595,\n",
       " 'results': 596,\n",
       " 'everyone': 597,\n",
       " 'forgot': 598,\n",
       " 'huge': 599,\n",
       " 'trend': 600,\n",
       " 'channels': 601,\n",
       " 'genuinely': 602,\n",
       " 'watching': 603,\n",
       " 'worth': 604,\n",
       " 'youtube': 605,\n",
       " 'america': 606,\n",
       " 'culture': 607,\n",
       " 'dog': 608,\n",
       " 'etc': 609,\n",
       " 'names': 610,\n",
       " 'rex': 611,\n",
       " 'rover': 612,\n",
       " 'some': 613,\n",
       " 'cum': 614,\n",
       " 'genie': 615,\n",
       " 'grants': 616,\n",
       " 'meaning': 617,\n",
       " 'opportunity': 618,\n",
       " 'rest': 619,\n",
       " 'sperm': 620,\n",
       " 'horribly': 621,\n",
       " 'much': 622,\n",
       " 'seem': 623,\n",
       " 'baby': 624,\n",
       " 'horse': 625,\n",
       " 'nipples': 626,\n",
       " 'suck': 627,\n",
       " 'opponent': 628,\n",
       " 'running': 629,\n",
       " 'tweet': 630,\n",
       " 'activity': 631,\n",
       " 'awful': 632,\n",
       " 'current': 633,\n",
       " 'forget': 634,\n",
       " 'poor': 635,\n",
       " 'solitary': 636,\n",
       " 'wholesome': 637,\n",
       " 'authors': 638,\n",
       " 'cover': 639,\n",
       " 'excited': 640,\n",
       " 'musicians': 641,\n",
       " 'novel': 642,\n",
       " 'novels': 643,\n",
       " 'read': 644,\n",
       " 'songs': 645,\n",
       " 'attention': 646,\n",
       " 'concept': 647,\n",
       " 'deserved': 648,\n",
       " 'great': 649,\n",
       " 'subreddits': 650,\n",
       " 'hit': 651,\n",
       " 'rich': 652,\n",
       " 'seen': 653,\n",
       " 'spoiled': 654,\n",
       " 'world': 655,\n",
       " 'criminal': 656,\n",
       " 'encountered': 657,\n",
       " 'officers': 658,\n",
       " 'police': 659,\n",
       " 'smartest': 660,\n",
       " 'whos': 661,\n",
       " 'flex': 662,\n",
       " 'ok': 663,\n",
       " 'weird': 664,\n",
       " 'everytime': 665,\n",
       " 'moonlight': 666,\n",
       " 'skeleton': 667,\n",
       " 'walking': 668,\n",
       " 'besides': 669,\n",
       " 'cereal': 670,\n",
       " 'outrageous': 671,\n",
       " 'sin': 672,\n",
       " 'water': 673,\n",
       " 'witnessed': 674,\n",
       " 'funny': 675,\n",
       " 'joke': 676,\n",
       " 'thats': 677,\n",
       " 'language': 678,\n",
       " 'they': 679,\n",
       " 'understand': 680,\n",
       " 'adult': 681,\n",
       " 'as': 682,\n",
       " 'candy': 683,\n",
       " 'hop': 684,\n",
       " 'often': 685,\n",
       " 'phrase': 686,\n",
       " 'side': 687,\n",
       " 'sketchy': 688,\n",
       " 'written': 689,\n",
       " 'guts': 690,\n",
       " 'hear': 691,\n",
       " 'bout': 692,\n",
       " 'perfectly': 693,\n",
       " 'ruin': 694,\n",
       " 'important': 695,\n",
       " 'super': 696,\n",
       " 'verge': 697,\n",
       " 'dwayne': 698,\n",
       " 'events': 699,\n",
       " 'impeached': 700,\n",
       " 'johnson': 701,\n",
       " 'led': 702,\n",
       " 'aware': 703,\n",
       " 'millions': 704,\n",
       " 'opinions': 705,\n",
       " 'popular': 706,\n",
       " 'posts': 707,\n",
       " 'put': 708,\n",
       " 'screenshots': 709,\n",
       " 'speech': 710,\n",
       " 'text': 711,\n",
       " 'views': 712,\n",
       " 'voice': 713,\n",
       " 'appears': 714,\n",
       " 'aspect': 715,\n",
       " 'attractive': 716,\n",
       " 'birth': 717,\n",
       " 'can': 718,\n",
       " 'demon': 719,\n",
       " 'inform': 720,\n",
       " 'mine': 721,\n",
       " 'on': 722,\n",
       " 'otherwise': 723,\n",
       " 'says': 724,\n",
       " 'shall': 725,\n",
       " 'soul': 726,\n",
       " 'virgin': 727,\n",
       " 'your': 728,\n",
       " 'afterwards': 729,\n",
       " 'store': 730,\n",
       " 'blood': 731,\n",
       " 'field': 732,\n",
       " 'med': 733,\n",
       " 'realize': 734,\n",
       " 'sight': 735,\n",
       " 'stand': 736,\n",
       " 'conditions': 737,\n",
       " 'website': 738,\n",
       " 'anyway': 739,\n",
       " 'doors': 740,\n",
       " 'immediately': 741,\n",
       " 'kids': 742,\n",
       " 'knock': 743,\n",
       " 'process': 744,\n",
       " 'thought': 745,\n",
       " 'accident': 746,\n",
       " 'overheard': 747,\n",
       " 'happy': 748,\n",
       " 'jackson': 749,\n",
       " 'l': 750,\n",
       " 'motherfucker': 751,\n",
       " 'samuel': 752,\n",
       " 'shout': 753,\n",
       " 'cool': 754,\n",
       " 'effect': 755,\n",
       " 'opposite': 756,\n",
       " 'international': 757,\n",
       " 'its': 758,\n",
       " 'mens': 759,\n",
       " 'bible': 760,\n",
       " 'florida': 761,\n",
       " 'man': 762,\n",
       " 'report': 763,\n",
       " 'stories': 764,\n",
       " 'cheaper': 765,\n",
       " 'consumption': 766,\n",
       " 'meat': 767,\n",
       " 'reduce': 768,\n",
       " 'craziest': 769,\n",
       " 'encounter': 770,\n",
       " 'experienced': 771,\n",
       " 'syndrome': 772,\n",
       " 'metric': 773,\n",
       " 'opinion': 774,\n",
       " 'switching': 775,\n",
       " 'system': 776,\n",
       " 'bars': 777,\n",
       " 'date': 778,\n",
       " 'drink': 779,\n",
       " 'ordered': 780,\n",
       " 'situation': 781,\n",
       " 'staff': 782,\n",
       " 'civil': 783,\n",
       " 'divorce': 784,\n",
       " 'lawyers': 785,\n",
       " 'screw': 786,\n",
       " 'worst': 787,\n",
       " 'father': 788,\n",
       " 'growing': 789,\n",
       " 'knew': 790,\n",
       " 'wish': 791,\n",
       " 'love': 792,\n",
       " 'others': 793,\n",
       " 'stronger': 794,\n",
       " 'getting': 795,\n",
       " 'married': 796,\n",
       " 'mistake': 797,\n",
       " 'within': 798,\n",
       " 'body': 799,\n",
       " 'borrowed': 800,\n",
       " 'prepared': 801,\n",
       " 'cheat': 802,\n",
       " 'codes': 803,\n",
       " 'classy': 804,\n",
       " 'carry': 805,\n",
       " 'item': 806,\n",
       " 'useless': 807,\n",
       " 'ending': 808,\n",
       " 'bullshit': 809,\n",
       " 'dire': 810,\n",
       " 'turned': 811,\n",
       " 'warning': 812,\n",
       " 'biggest': 813,\n",
       " 'historians': 814,\n",
       " 'books': 815,\n",
       " 'hogwarts': 816,\n",
       " 'mentioned': 817,\n",
       " 'probably': 818,\n",
       " 'teenage': 819,\n",
       " 'wasnt': 820,\n",
       " 'moments': 821,\n",
       " 'changed': 822,\n",
       " 'forever': 823,\n",
       " 'increased': 824,\n",
       " 'quality': 825,\n",
       " 'sooner': 826,\n",
       " 'wished': 827,\n",
       " 'black': 828,\n",
       " 'first': 829,\n",
       " 'hole': 830,\n",
       " 'revealed': 831,\n",
       " 'calling': 832,\n",
       " 'mom': 833,\n",
       " 'teacher': 834,\n",
       " 'blind': 835,\n",
       " 'gay': 836,\n",
       " 'fk': 837,\n",
       " 'effective': 838,\n",
       " 'psychological': 839,\n",
       " 'trick': 840,\n",
       " 'before': 841,\n",
       " 'comfort': 842,\n",
       " 'ive': 843,\n",
       " 'medical': 844,\n",
       " 'nature': 845,\n",
       " 'patient': 846,\n",
       " 'professionals': 847,\n",
       " 'turning': 848,\n",
       " 'harmless': 849,\n",
       " 'later': 850,\n",
       " 'parenting': 851,\n",
       " 'seemingly': 852,\n",
       " 'boundaries': 853,\n",
       " 'emotions': 854,\n",
       " 'manner': 855,\n",
       " 'set': 856,\n",
       " 'taught': 857,\n",
       " 'therapy': 858,\n",
       " 'dumbest': 859,\n",
       " 'idea': 860,\n",
       " 'poorer': 861,\n",
       " 'previous': 862,\n",
       " 'significantly': 863,\n",
       " 'surprised': 864,\n",
       " 'buy': 865,\n",
       " 'cheap': 866,\n",
       " 'incredibly': 867,\n",
       " 'attract': 868,\n",
       " 'easily': 869,\n",
       " 'ladies': 870,\n",
       " 'wear': 871,\n",
       " 'by': 872,\n",
       " 'carpenter': 873,\n",
       " 'died': 874,\n",
       " 'dies': 875,\n",
       " 'he': 876,\n",
       " 'jesus': 877,\n",
       " 'logic': 878,\n",
       " 'nailed': 879,\n",
       " 'sword': 880,\n",
       " 'wood': 881,\n",
       " 'famous': 882,\n",
       " 'theyre': 883,\n",
       " 'normal': 884,\n",
       " 'seems': 885,\n",
       " 'knowledge': 886,\n",
       " 'memories': 887,\n",
       " 'retain': 888,\n",
       " 'fight': 889,\n",
       " 'moved': 890,\n",
       " 'roommate': 891,\n",
       " 'version': 892,\n",
       " 'bring': 893,\n",
       " 'brought': 894,\n",
       " 'holiday': 895,\n",
       " 'part': 896,\n",
       " 'party': 897,\n",
       " 'aboard': 898,\n",
       " 'bunch': 899,\n",
       " 'destination': 900,\n",
       " 'flying': 901,\n",
       " 'innocent': 902,\n",
       " 'kill': 903,\n",
       " 'plane': 904,\n",
       " 'plans': 905,\n",
       " 'remake': 906,\n",
       " 'snakes': 907,\n",
       " 'snuck': 908,\n",
       " 'create': 909,\n",
       " 'depressed': 910,\n",
       " 'does': 911,\n",
       " 'extremely': 912,\n",
       " 'lonely': 913,\n",
       " 'meaningful': 914,\n",
       " 'relationships': 915,\n",
       " 'screwed': 916,\n",
       " 'underrated': 917,\n",
       " 'aircraft': 918,\n",
       " 'areas': 919,\n",
       " 'bodies': 920,\n",
       " 'creepiest': 921,\n",
       " 'mountains': 922,\n",
       " 'remote': 923,\n",
       " 'rural': 924,\n",
       " 'towns': 925,\n",
       " 'vessel': 926,\n",
       " 'woods': 927,\n",
       " 'cooking': 928,\n",
       " 'no': 929,\n",
       " 'women': 930,\n",
       " 'false': 931,\n",
       " 'earth': 932,\n",
       " 'fing': 933,\n",
       " 'hate': 934,\n",
       " 'crippling': 935,\n",
       " 'debt': 936,\n",
       " 'degree': 937,\n",
       " 'granted': 938,\n",
       " 'immortal': 939,\n",
       " 'minimum': 940,\n",
       " 'student': 941,\n",
       " 'wage': 942,\n",
       " 'worker': 943,\n",
       " 'youre': 944,\n",
       " 'achieve': 945,\n",
       " 'honk': 946,\n",
       " 'traffic': 947,\n",
       " 'trying': 948,\n",
       " 'facebook': 949,\n",
       " 'happen': 950,\n",
       " 'shut': 951,\n",
       " 'users': 952,\n",
       " 'answered': 953,\n",
       " 'askreddit': 954,\n",
       " 'enough': 955,\n",
       " 'posted': 956,\n",
       " 'question': 957,\n",
       " 'conclusion': 958,\n",
       " 'evidence': 959,\n",
       " 'rooms': 960,\n",
       " 'separate': 961,\n",
       " 'brain': 962,\n",
       " 'questions': 963,\n",
       " 'answer': 964,\n",
       " 'hardest': 965,\n",
       " 'conversation': 966,\n",
       " 'politely': 967,\n",
       " 'stop': 968,\n",
       " 'talking': 969,\n",
       " 'employee': 970,\n",
       " 'employer': 971,\n",
       " 'instantly': 972,\n",
       " 'killed': 973,\n",
       " 'morale': 974,\n",
       " 'bangladesh': 975,\n",
       " 'community': 976,\n",
       " 'killings': 977,\n",
       " 'ongoing': 978,\n",
       " 'oppression': 979,\n",
       " 'teens': 980,\n",
       " 'anything': 981,\n",
       " 'clinically': 982,\n",
       " 'dead': 983,\n",
       " 'destroy': 984,\n",
       " 'dick': 985,\n",
       " 'exists': 986,\n",
       " 'philip': 987,\n",
       " 'power': 988,\n",
       " 'quote': 989,\n",
       " 'sentence': 990,\n",
       " 'there': 991,\n",
       " 'cheating': 992,\n",
       " 'creative': 993,\n",
       " 'all': 994,\n",
       " 'area': 995,\n",
       " 'storm': 996,\n",
       " 'us': 997,\n",
       " 'generation': 998,\n",
       " 'millennial': 999,\n",
       " ...}"
      ]
     },
     "execution_count": 293,
     "metadata": {},
     "output_type": "execute_result"
    }
   ],
   "source": [
    "dictionary.token2id"
   ]
  },
  {
   "cell_type": "code",
   "execution_count": 345,
   "metadata": {},
   "outputs": [],
   "source": [
    "def turn2numbers(tokens):\n",
    "    word_tokens = [dictionary.token2id[token] for token in tokens if token in dictionary.token2id]\n",
    "    return word_tokens"
   ]
  },
  {
   "cell_type": "code",
   "execution_count": 300,
   "metadata": {},
   "outputs": [],
   "source": [
    "reddit_df_stopped['filtered'] = reddit_df_stopped['tokens'].apply(lambda x: turn2numbers(x))"
   ]
  },
  {
   "cell_type": "code",
   "execution_count": 301,
   "metadata": {},
   "outputs": [
    {
     "data": {
      "text/html": [
       "<div>\n",
       "<style scoped>\n",
       "    .dataframe tbody tr th:only-of-type {\n",
       "        vertical-align: middle;\n",
       "    }\n",
       "\n",
       "    .dataframe tbody tr th {\n",
       "        vertical-align: top;\n",
       "    }\n",
       "\n",
       "    .dataframe thead th {\n",
       "        text-align: right;\n",
       "    }\n",
       "</style>\n",
       "<table border=\"1\" class=\"dataframe\">\n",
       "  <thead>\n",
       "    <tr style=\"text-align: right;\">\n",
       "      <th></th>\n",
       "      <th>0</th>\n",
       "      <th>1</th>\n",
       "      <th>full_text</th>\n",
       "      <th>tokens</th>\n",
       "      <th>filtered</th>\n",
       "    </tr>\n",
       "  </thead>\n",
       "  <tbody>\n",
       "    <tr>\n",
       "      <th>0</th>\n",
       "      <td>Discussion and Stories</td>\n",
       "      <td>People pooped 2019 yet, still holding last yea...</td>\n",
       "      <td>People pooped  yet still holding last years shit</td>\n",
       "      <td>[people, pooped, yet, still, holding, last, ye...</td>\n",
       "      <td>[2, 6, 4, 0, 1, 5, 3]</td>\n",
       "    </tr>\n",
       "    <tr>\n",
       "      <th>1</th>\n",
       "      <td>Discussion and Stories</td>\n",
       "      <td>Stan Lee passed away 95 years old</td>\n",
       "      <td>Stan Lee passed away  years old</td>\n",
       "      <td>[stan, lee, passed, away, years, old]</td>\n",
       "      <td>[11, 8, 10, 7, 5, 9]</td>\n",
       "    </tr>\n",
       "    <tr>\n",
       "      <th>2</th>\n",
       "      <td>Discussion and Stories</td>\n",
       "      <td>How would feel feature someone upvotes crosspo...</td>\n",
       "      <td>How would feel feature someone upvotes crosspo...</td>\n",
       "      <td>[how, would, feel, feature, someone, upvotes, ...</td>\n",
       "      <td>[16, 22, 15, 14, 19, 21, 13, 17, 18, 20, 12]</td>\n",
       "    </tr>\n",
       "    <tr>\n",
       "      <th>3</th>\n",
       "      <td>Discussion and Stories</td>\n",
       "      <td>Reddit, would feel law bans radio stations pla...</td>\n",
       "      <td>Reddit would feel law bans radio stations play...</td>\n",
       "      <td>[reddit, would, feel, law, bans, radio, statio...</td>\n",
       "      <td>[29, 22, 15, 25, 23, 28, 30, 27, 24, 26, 31]</td>\n",
       "    </tr>\n",
       "    <tr>\n",
       "      <th>4</th>\n",
       "      <td>Discussion and Stories</td>\n",
       "      <td>Without saying category is, top five?</td>\n",
       "      <td>Without saying category is top five</td>\n",
       "      <td>[without, saying, category, is, top, five]</td>\n",
       "      <td>[37, 35, 32, 34, 36, 33]</td>\n",
       "    </tr>\n",
       "  </tbody>\n",
       "</table>\n",
       "</div>"
      ],
      "text/plain": [
       "                        0                                                  1  \\\n",
       "0  Discussion and Stories  People pooped 2019 yet, still holding last yea...   \n",
       "1  Discussion and Stories                  Stan Lee passed away 95 years old   \n",
       "2  Discussion and Stories  How would feel feature someone upvotes crosspo...   \n",
       "3  Discussion and Stories  Reddit, would feel law bans radio stations pla...   \n",
       "4  Discussion and Stories              Without saying category is, top five?   \n",
       "\n",
       "                                           full_text  \\\n",
       "0   People pooped  yet still holding last years shit   \n",
       "1                    Stan Lee passed away  years old   \n",
       "2  How would feel feature someone upvotes crosspo...   \n",
       "3  Reddit would feel law bans radio stations play...   \n",
       "4                Without saying category is top five   \n",
       "\n",
       "                                              tokens  \\\n",
       "0  [people, pooped, yet, still, holding, last, ye...   \n",
       "1              [stan, lee, passed, away, years, old]   \n",
       "2  [how, would, feel, feature, someone, upvotes, ...   \n",
       "3  [reddit, would, feel, law, bans, radio, statio...   \n",
       "4         [without, saying, category, is, top, five]   \n",
       "\n",
       "                                       filtered  \n",
       "0                         [2, 6, 4, 0, 1, 5, 3]  \n",
       "1                          [11, 8, 10, 7, 5, 9]  \n",
       "2  [16, 22, 15, 14, 19, 21, 13, 17, 18, 20, 12]  \n",
       "3  [29, 22, 15, 25, 23, 28, 30, 27, 24, 26, 31]  \n",
       "4                      [37, 35, 32, 34, 36, 33]  "
      ]
     },
     "execution_count": 301,
     "metadata": {},
     "output_type": "execute_result"
    }
   ],
   "source": [
    "reddit_df_stopped.head()"
   ]
  },
  {
   "cell_type": "markdown",
   "metadata": {},
   "source": [
    "# Using GloVes multi-dimensional word vectorizer to build baseline models"
   ]
  },
  {
   "cell_type": "code",
   "execution_count": null,
   "metadata": {},
   "outputs": [],
   "source": [
    "target = reddit_df[0]\n",
    "data = reddit_df[1].map(word_tokenize).values\n",
    "\n",
    "total_vocabulary = set(word for headline in data for word in headline)\n",
    "print(\"There are {} unique tokens in the dataset.\".format(len(total_vocabulary)))"
   ]
  },
  {
   "cell_type": "code",
   "execution_count": null,
   "metadata": {},
   "outputs": [],
   "source": [
    "glove = {}\n",
    "with open('glove.6B.300d.txt', 'rb') as f:\n",
    "    for line in f:                                    \n",
    "        parts = line.split()\n",
    "        word = parts[0].decode('utf-8')\n",
    "        if word in total_vocabulary:\n",
    "            vector = np.array(parts[1:], dtype=np.float32)\n",
    "            glove[word] = vector"
   ]
  },
  {
   "cell_type": "code",
   "execution_count": null,
   "metadata": {},
   "outputs": [],
   "source": [
    "class W2vVectorizer(object):\n",
    "    \n",
    "    def __init__(self, w2v):\n",
    "        # takes in a dictionary of words and vectors as input\n",
    "        self.w2v = w2v\n",
    "        if len(w2v) == 0:\n",
    "            self.dimensions = 0\n",
    "        else:\n",
    "            self.dimensions = len(w2v[next(iter(glove))])\n",
    "            \n",
    "    def fit(self, X, y):\n",
    "        return self\n",
    "            \n",
    "    def transform(self, X):\n",
    "        return np.array([\n",
    "            np.mean([self.w2v[w] for w in words if w in self.w2v]\n",
    "                   or [np.zeros(self.dimensions)], axis=0) for words in X])"
   ]
  },
  {
   "cell_type": "code",
   "execution_count": null,
   "metadata": {},
   "outputs": [],
   "source": [
    "rf =  Pipeline([(\"Word2Vec Vectorizer\", W2vVectorizer(glove)),\n",
    "              (\"Random Forest\", RandomForestClassifier(n_estimators=100, verbose=True))])\n",
    "svc = Pipeline([(\"Word2Vec Vectorizer\", W2vVectorizer(glove)),\n",
    "                ('Support Vector Machine', SVC())])\n",
    "lr = Pipeline([(\"Word2Vec Vectorizer\", W2vVectorizer(glove)),\n",
    "              ('Logistic Regression', LogisticRegression())])\n",
    "models = [('Random Forest', rf),\n",
    "          (\"Support Vector Machine\", svc),\n",
    "          (\"Logistic Regression\", lr)]\n",
    "\n",
    "scores = [(name, cross_val_score(model, data, target, cv=2).mean()) for name, model, in tqdm(models)]\n",
    "scores"
   ]
  },
  {
   "cell_type": "markdown",
   "metadata": {},
   "source": [
    "**Initial results seem low, but, with 14 categories, random guessing would achieve an accuracy of 7.1%. Let's try a Deep Neural Network with an Embedding Layer**"
   ]
  },
  {
   "cell_type": "code",
   "execution_count": null,
   "metadata": {},
   "outputs": [],
   "source": [
    "y = pd.get_dummies(target).values\n",
    "reddit_df['splitted'] = reddit_df[1].apply(lambda x: x.split())"
   ]
  },
  {
   "cell_type": "code",
   "execution_count": null,
   "metadata": {},
   "outputs": [],
   "source": [
    "def lemmatize_text(text):\n",
    "    return [lemmatizer.lemmatize(w) for w in text]\n",
    "reddit_df['text_lemmatized'] = reddit_df.splitted.apply(lemmatize_text)"
   ]
  },
  {
   "cell_type": "code",
   "execution_count": null,
   "metadata": {
    "scrolled": true
   },
   "outputs": [],
   "source": [
    "reddit_df[1] = reddit_df.text_lemmatized.apply(lambda x: \" \".join(x))"
   ]
  },
  {
   "cell_type": "code",
   "execution_count": null,
   "metadata": {},
   "outputs": [],
   "source": [
    "tokenizer = text.Tokenizer(num_words=20000)\n",
    "tokenizer.fit_on_texts(list(reddit_df[1]))\n",
    "list_tokenized_headlines = tokenizer.texts_to_sequences(reddit_df[1])\n",
    "X_t = pad_sequences(list_tokenized_headlines, maxlen=100)"
   ]
  },
  {
   "cell_type": "code",
   "execution_count": null,
   "metadata": {},
   "outputs": [],
   "source": [
    "# #########################\n",
    "# #   CURRENT BEST MODEL  #  --- Epoch 1: 15.6% accurate\n",
    "# #########################  --- Epoch 50: 49.4%\n",
    "\n",
    "#embedding_size = 300\n",
    "# input_ = Input(shape=(50,))\n",
    "# x = Embedding(20000, embedding_size)(input_)\n",
    "# x = Dense(750, activation='relu', kernel_regularizer=regularizers.l2(0.2))(x)\n",
    "\n",
    "# x = LSTM(25, return_sequences=True)(x)\n",
    "# x = GlobalMaxPool1D()(x)\n",
    "# x = Dense(500, activation='relu')(x)\n",
    "# x = Dropout(0.2)(x)\n",
    "# # There are 14 different possible classes, so we use 14 neurons in our output layer\n",
    "# x = Dense(14, activation='softmax')(x)\n",
    "\n",
    "# model = Model(inputs=input_, outputs=x)\n",
    "# model.compile(loss='categorical_crossentropy', optimizer='adamax', metrics=['accuracy'])\n",
    "# X_train,X_val, y_train,y_val = train_test_split(X_t,y,test_size=0.1,random_state=1)\n",
    "# model.summary()"
   ]
  },
  {
   "cell_type": "markdown",
   "metadata": {},
   "source": [
    "**Neural Network initially kept having a val_accuracy of 0... because the data is sitting in order and wasn't shuffled! (the \"test_size\" is just the very last bit (0.2) of the data, it doesn't choose randomly... fixed with train test split, which shuffles by default**"
   ]
  },
  {
   "cell_type": "markdown",
   "metadata": {},
   "source": [
    "# Failed - Training Neural Network with stopwords removed from post titles"
   ]
  },
  {
   "cell_type": "code",
   "execution_count": 312,
   "metadata": {},
   "outputs": [
    {
     "data": {
      "text/html": [
       "<div>\n",
       "<style scoped>\n",
       "    .dataframe tbody tr th:only-of-type {\n",
       "        vertical-align: middle;\n",
       "    }\n",
       "\n",
       "    .dataframe tbody tr th {\n",
       "        vertical-align: top;\n",
       "    }\n",
       "\n",
       "    .dataframe thead th {\n",
       "        text-align: right;\n",
       "    }\n",
       "</style>\n",
       "<table border=\"1\" class=\"dataframe\">\n",
       "  <thead>\n",
       "    <tr style=\"text-align: right;\">\n",
       "      <th></th>\n",
       "      <th>0</th>\n",
       "      <th>1</th>\n",
       "      <th>full_text</th>\n",
       "      <th>tokens</th>\n",
       "      <th>filtered</th>\n",
       "    </tr>\n",
       "  </thead>\n",
       "  <tbody>\n",
       "    <tr>\n",
       "      <th>0</th>\n",
       "      <td>Discussion and Stories</td>\n",
       "      <td>People pooped 2019 yet, still holding last yea...</td>\n",
       "      <td>People pooped  yet still holding last years shit</td>\n",
       "      <td>[people, pooped, yet, still, holding, last, ye...</td>\n",
       "      <td>[2, 6, 4, 0, 1, 5, 3]</td>\n",
       "    </tr>\n",
       "    <tr>\n",
       "      <th>1</th>\n",
       "      <td>Discussion and Stories</td>\n",
       "      <td>Stan Lee passed away 95 years old</td>\n",
       "      <td>Stan Lee passed away  years old</td>\n",
       "      <td>[stan, lee, passed, away, years, old]</td>\n",
       "      <td>[11, 8, 10, 7, 5, 9]</td>\n",
       "    </tr>\n",
       "    <tr>\n",
       "      <th>2</th>\n",
       "      <td>Discussion and Stories</td>\n",
       "      <td>How would feel feature someone upvotes crosspo...</td>\n",
       "      <td>How would feel feature someone upvotes crosspo...</td>\n",
       "      <td>[how, would, feel, feature, someone, upvotes, ...</td>\n",
       "      <td>[16, 22, 15, 14, 19, 21, 13, 17, 18, 20, 12]</td>\n",
       "    </tr>\n",
       "    <tr>\n",
       "      <th>3</th>\n",
       "      <td>Discussion and Stories</td>\n",
       "      <td>Reddit, would feel law bans radio stations pla...</td>\n",
       "      <td>Reddit would feel law bans radio stations play...</td>\n",
       "      <td>[reddit, would, feel, law, bans, radio, statio...</td>\n",
       "      <td>[29, 22, 15, 25, 23, 28, 30, 27, 24, 26, 31]</td>\n",
       "    </tr>\n",
       "    <tr>\n",
       "      <th>4</th>\n",
       "      <td>Discussion and Stories</td>\n",
       "      <td>Without saying category is, top five?</td>\n",
       "      <td>Without saying category is top five</td>\n",
       "      <td>[without, saying, category, is, top, five]</td>\n",
       "      <td>[37, 35, 32, 34, 36, 33]</td>\n",
       "    </tr>\n",
       "    <tr>\n",
       "      <th>5</th>\n",
       "      <td>Discussion and Stories</td>\n",
       "      <td>Anthony Bourdain said \"There's guy head, wants...</td>\n",
       "      <td>Anthony Bourdain said Theres guy head wants la...</td>\n",
       "      <td>[anthony, bourdain, said, theres, guy, head, w...</td>\n",
       "      <td>[38, 41, 53, 57, 44, 45, 58, 47, 40, 43, 49, 5...</td>\n",
       "    </tr>\n",
       "    <tr>\n",
       "      <th>6</th>\n",
       "      <td>Discussion and Stories</td>\n",
       "      <td>With negative headlines dominating news days, ...</td>\n",
       "      <td>With negative headlines dominating news days d...</td>\n",
       "      <td>[with, negative, headlines, dominating, news, ...</td>\n",
       "      <td>[74, 67, 65, 68, 62, 63, 72, 71, 70, 73, 66, 6...</td>\n",
       "    </tr>\n",
       "    <tr>\n",
       "      <th>7</th>\n",
       "      <td>Discussion and Stories</td>\n",
       "      <td>[Serious] Americans, would support putting law...</td>\n",
       "      <td>Serious Americans would support putting law pl...</td>\n",
       "      <td>[serious, americans, would, support, putting, ...</td>\n",
       "      <td>[89, 75, 22, 90, 87, 25, 85, 80, 83, 88, 86, 7...</td>\n",
       "    </tr>\n",
       "    <tr>\n",
       "      <th>8</th>\n",
       "      <td>Discussion and Stories</td>\n",
       "      <td>Iceland announced every Icelander age 18 autom...</td>\n",
       "      <td>Iceland announced every Icelander age  automat...</td>\n",
       "      <td>[iceland, announced, every, icelander, age, au...</td>\n",
       "      <td>[98, 94, 97, 93, 12, 95, 100, 96, 92, 99, 101,...</td>\n",
       "    </tr>\n",
       "    <tr>\n",
       "      <th>9</th>\n",
       "      <td>Discussion and Stories</td>\n",
       "      <td>How would feel law requires people age 70 pass...</td>\n",
       "      <td>How would feel law requires people age  pass s...</td>\n",
       "      <td>[how, would, feel, law, requires, people, age,...</td>\n",
       "      <td>[16, 22, 15, 25, 107, 2, 93, 106, 108, 104, 10...</td>\n",
       "    </tr>\n",
       "    <tr>\n",
       "      <th>10</th>\n",
       "      <td>Discussion and Stories</td>\n",
       "      <td>Now PBS announced they'll televising impeachme...</td>\n",
       "      <td>Now PBS announced theyll televising impeachmen...</td>\n",
       "      <td>[now, pbs, announced, theyll, televising, impe...</td>\n",
       "      <td>[115, 116, 94, 118, 114, 113, 111, 112, 117, 110]</td>\n",
       "    </tr>\n",
       "    <tr>\n",
       "      <th>11</th>\n",
       "      <td>Discussion and Stories</td>\n",
       "      <td>Professor Stephen Hawking passed away age 76</td>\n",
       "      <td>Professor Stephen Hawking passed away age</td>\n",
       "      <td>[professor, stephen, hawking, passed, away, age]</td>\n",
       "      <td>[120, 121, 119, 10, 7, 93]</td>\n",
       "    </tr>\n",
       "    <tr>\n",
       "      <th>12</th>\n",
       "      <td>Discussion and Stories</td>\n",
       "      <td>The 2010's decade 4 months. What think people ...</td>\n",
       "      <td>The s decade  months What think people remembe...</td>\n",
       "      <td>[the, s, decade, months, what, think, people, ...</td>\n",
       "      <td>[127, 126, 122, 124, 73, 128, 2, 125, 122, 123]</td>\n",
       "    </tr>\n",
       "    <tr>\n",
       "      <th>13</th>\n",
       "      <td>Discussion and Stories</td>\n",
       "      <td>You cheated $1000 stupid brick. How take revenge?</td>\n",
       "      <td>You cheated  stupid brick How take revenge</td>\n",
       "      <td>[you, cheated, stupid, brick, how, take, revenge]</td>\n",
       "      <td>[61, 130, 132, 129, 16, 133, 131]</td>\n",
       "    </tr>\n",
       "    <tr>\n",
       "      <th>14</th>\n",
       "      <td>Discussion and Stories</td>\n",
       "      <td>You gain control JK Rowling's twitter account ...</td>\n",
       "      <td>You gain control JK Rowlings twitter account d...</td>\n",
       "      <td>[you, gain, control, jk, rowlings, twitter, ac...</td>\n",
       "      <td>[61, 137, 136, 140, 144, 134, 43, 73, 145, 142...</td>\n",
       "    </tr>\n",
       "    <tr>\n",
       "      <th>15</th>\n",
       "      <td>Discussion and Stories</td>\n",
       "      <td>Suicide Prevention Megathread</td>\n",
       "      <td>Suicide Prevention Megathread</td>\n",
       "      <td>[suicide, prevention, megathread]</td>\n",
       "      <td>[148, 147, 146]</td>\n",
       "    </tr>\n",
       "    <tr>\n",
       "      <th>16</th>\n",
       "      <td>Discussion and Stories</td>\n",
       "      <td>What’s something small start today better your...</td>\n",
       "      <td>Whats something small start today better yourself</td>\n",
       "      <td>[whats, something, small, start, today, better...</td>\n",
       "      <td>[154, 151, 150, 152, 153, 149, 155]</td>\n",
       "    </tr>\n",
       "    <tr>\n",
       "      <th>17</th>\n",
       "      <td>Discussion and Stories</td>\n",
       "      <td>What mind-blowing (but simple) facts would sat...</td>\n",
       "      <td>What mindblowing but simple facts would satisf...</td>\n",
       "      <td>[what, mindblowing, but, simple, facts, would,...</td>\n",
       "      <td>[73, 157, 163, 161, 22, 164, 9, 159, 158, 162,...</td>\n",
       "    </tr>\n",
       "    <tr>\n",
       "      <th>18</th>\n",
       "      <td>Discussion and Stories</td>\n",
       "      <td>People downloaded Google data went it, unsettl...</td>\n",
       "      <td>People downloaded Google data went it unsettli...</td>\n",
       "      <td>[people, downloaded, google, data, went, it, u...</td>\n",
       "      <td>[2, 166, 168, 165, 173, 169, 172, 171, 167, 17...</td>\n",
       "    </tr>\n",
       "    <tr>\n",
       "      <th>19</th>\n",
       "      <td>Discussion and Stories</td>\n",
       "      <td>Admins Reddit, what's favorite subreddit?</td>\n",
       "      <td>Admins Reddit whats favorite subreddit</td>\n",
       "      <td>[admins, reddit, whats, favorite, subreddit]</td>\n",
       "      <td>[174, 29, 154, 175, 176]</td>\n",
       "    </tr>\n",
       "    <tr>\n",
       "      <th>20</th>\n",
       "      <td>Discussion and Stories</td>\n",
       "      <td>What looks easy peasy lemon squeezy actually d...</td>\n",
       "      <td>What looks easy peasy lemon squeezy actually d...</td>\n",
       "      <td>[what, looks, easy, peasy, lemon, squeezy, act...</td>\n",
       "      <td>[73, 180, 178, 179, 177, 63, 63, 179, 63]</td>\n",
       "    </tr>\n",
       "    <tr>\n",
       "      <th>21</th>\n",
       "      <td>Discussion and Stories</td>\n",
       "      <td>Albert Einstein said \"If judge fish ability cl...</td>\n",
       "      <td>Albert Einstein said If judge fish ability cli...</td>\n",
       "      <td>[albert, einstein, said, if, judge, fish, abil...</td>\n",
       "      <td>[181, 184, 53, 186, 187, 185, 92, 183, 190, 18...</td>\n",
       "    </tr>\n",
       "    <tr>\n",
       "      <th>22</th>\n",
       "      <td>Discussion and Stories</td>\n",
       "      <td>When lying bed night, ever randomly remember r...</td>\n",
       "      <td>When lying bed night ever randomly remember re...</td>\n",
       "      <td>[when, lying, bed, night, ever, randomly, reme...</td>\n",
       "      <td>[211, 201, 40, 203, 199, 205, 125, 207, 202, 2...</td>\n",
       "    </tr>\n",
       "    <tr>\n",
       "      <th>23</th>\n",
       "      <td>Discussion and Stories</td>\n",
       "      <td>What think single greatest photograph history?</td>\n",
       "      <td>What think single greatest photograph history</td>\n",
       "      <td>[what, think, single, greatest, photograph, hi...</td>\n",
       "      <td>[73, 128, 216, 213, 215, 214]</td>\n",
       "    </tr>\n",
       "    <tr>\n",
       "      <th>24</th>\n",
       "      <td>Discussion and Stories</td>\n",
       "      <td>Do ever look one day think hot shit, next day ...</td>\n",
       "      <td>Do ever look one day think hot shit next day c...</td>\n",
       "      <td>[do, ever, look, one, day, think, hot, shit, n...</td>\n",
       "      <td>[76, 199, 220, 222, 43, 128, 219, 3, 221, 43, ...</td>\n",
       "    </tr>\n",
       "    <tr>\n",
       "      <th>25</th>\n",
       "      <td>Discussion and Stories</td>\n",
       "      <td>What slang terms 50 year old dad say daughter ...</td>\n",
       "      <td>What slang terms  year old dad say daughter em...</td>\n",
       "      <td>[what, slang, terms, year, old, dad, say, daug...</td>\n",
       "      <td>[73, 227, 164, 9, 223, 226, 224, 225]</td>\n",
       "    </tr>\n",
       "    <tr>\n",
       "      <th>26</th>\n",
       "      <td>Discussion and Stories</td>\n",
       "      <td>[Breaking News] Orlando Nightclub mass-shooting.</td>\n",
       "      <td>Breaking News Orlando Nightclub massshooting</td>\n",
       "      <td>[breaking, news, orlando, nightclub, massshoot...</td>\n",
       "      <td>[228, 68, 230, 229]</td>\n",
       "    </tr>\n",
       "    <tr>\n",
       "      <th>27</th>\n",
       "      <td>Discussion and Stories</td>\n",
       "      <td>What think buzzfeed employees worked reddit ye...</td>\n",
       "      <td>What think buzzfeed employees worked reddit ye...</td>\n",
       "      <td>[what, think, buzzfeed, employees, worked, red...</td>\n",
       "      <td>[73, 128, 231, 77, 232, 29, 233]</td>\n",
       "    </tr>\n",
       "    <tr>\n",
       "      <th>28</th>\n",
       "      <td>Discussion and Stories</td>\n",
       "      <td>The words 'Low Battery' appear right eyes, tak...</td>\n",
       "      <td>The words Low Battery appear right eyes take V...</td>\n",
       "      <td>[the, words, low, battery, appear, right, eyes...</td>\n",
       "      <td>[127, 212, 238, 235, 234, 242, 236, 133, 244, ...</td>\n",
       "    </tr>\n",
       "    <tr>\n",
       "      <th>29</th>\n",
       "      <td>Discussion and Stories</td>\n",
       "      <td>Have ever felt know/have forgotten really are?...</td>\n",
       "      <td>Have ever felt knowhave forgotten really are T...</td>\n",
       "      <td>[have, ever, felt, knowhave, forgotten, really...</td>\n",
       "      <td>[250, 199, 248, 249, 206, 246, 56, 255, 5, 252...</td>\n",
       "    </tr>\n",
       "    <tr>\n",
       "      <th>...</th>\n",
       "      <td>...</td>\n",
       "      <td>...</td>\n",
       "      <td>...</td>\n",
       "      <td>...</td>\n",
       "      <td>...</td>\n",
       "    </tr>\n",
       "    <tr>\n",
       "      <th>173025</th>\n",
       "      <td>Technology</td>\n",
       "      <td>Tim Cook speaks Cambridge Analytica debacle, c...</td>\n",
       "      <td>Tim Cook speaks Cambridge Analytica debacle ca...</td>\n",
       "      <td>[tim, cook, speaks, cambridge, analytica, deba...</td>\n",
       "      <td>[3031, 521, 6923, 5092, 5091, 832, 11075, 2737]</td>\n",
       "    </tr>\n",
       "    <tr>\n",
       "      <th>173026</th>\n",
       "      <td>Technology</td>\n",
       "      <td>This guy walks Apple store breaks Apple produc...</td>\n",
       "      <td>This guy walks Apple store breaks Apple produc...</td>\n",
       "      <td>[this, guy, walks, apple, store, breaks, apple...</td>\n",
       "      <td>[102, 44, 1342, 2639, 730, 3971, 2639, 2346, 1...</td>\n",
       "    </tr>\n",
       "    <tr>\n",
       "      <th>173027</th>\n",
       "      <td>Technology</td>\n",
       "      <td>16-Inch MacBook Pro Said Launch September With...</td>\n",
       "      <td>Inch MacBook Pro Said Launch September With LC...</td>\n",
       "      <td>[inch, macbook, pro, said, launch, september, ...</td>\n",
       "      <td>[4552, 11060, 2316, 53, 1492, 1559, 74, 9781]</td>\n",
       "    </tr>\n",
       "    <tr>\n",
       "      <th>173028</th>\n",
       "      <td>Technology</td>\n",
       "      <td>Apple wins Design Patent 'AirPower' prior Launch</td>\n",
       "      <td>Apple wins Design Patent AirPower prior Launch</td>\n",
       "      <td>[apple, wins, design, patent, airpower, prior,...</td>\n",
       "      <td>[2639, 4146, 1039, 5123, 5501, 1492]</td>\n",
       "    </tr>\n",
       "    <tr>\n",
       "      <th>173029</th>\n",
       "      <td>Technology</td>\n",
       "      <td>Is Google nerfed YouTube app ground?</td>\n",
       "      <td>Is Google nerfed YouTube app ground</td>\n",
       "      <td>[is, google, nerfed, youtube, app, ground]</td>\n",
       "      <td>[34, 168, 605, 3032, 5722]</td>\n",
       "    </tr>\n",
       "    <tr>\n",
       "      <th>173030</th>\n",
       "      <td>Technology</td>\n",
       "      <td>Apple pushes HomePod release early 2018</td>\n",
       "      <td>Apple pushes HomePod release early</td>\n",
       "      <td>[apple, pushes, homepod, release, early]</td>\n",
       "      <td>[2639, 9220, 13276, 2572, 2287]</td>\n",
       "    </tr>\n",
       "    <tr>\n",
       "      <th>173031</th>\n",
       "      <td>Technology</td>\n",
       "      <td>Apple Filed Patents Larger Apple Watch Display...</td>\n",
       "      <td>Apple Filed Patents Larger Apple Watch Display...</td>\n",
       "      <td>[apple, filed, patents, larger, apple, watch, ...</td>\n",
       "      <td>[2639, 1090, 3138, 7877, 2639, 59, 10660, 9193...</td>\n",
       "    </tr>\n",
       "    <tr>\n",
       "      <th>173032</th>\n",
       "      <td>Technology</td>\n",
       "      <td>Here's iPhone wallpaper selection updated week...</td>\n",
       "      <td>Heres iPhone wallpaper selection updated weekl...</td>\n",
       "      <td>[heres, iphone, wallpaper, selection, updated,...</td>\n",
       "      <td>[6133, 5723, 7473, 8193, 2221, 4071, 15, 327, ...</td>\n",
       "    </tr>\n",
       "    <tr>\n",
       "      <th>173033</th>\n",
       "      <td>Technology</td>\n",
       "      <td>Uber's latest update notes try take credit iOS...</td>\n",
       "      <td>Ubers latest update notes try take credit iOS ...</td>\n",
       "      <td>[ubers, latest, update, notes, try, take, cred...</td>\n",
       "      <td>[3553, 2856, 4656, 1151, 133, 1906, 10018, 491...</td>\n",
       "    </tr>\n",
       "    <tr>\n",
       "      <th>173034</th>\n",
       "      <td>Technology</td>\n",
       "      <td>Apple announces new iPhone Upgrade Program, ne...</td>\n",
       "      <td>Apple announces new iPhone Upgrade Program new...</td>\n",
       "      <td>[apple, announces, new, iphone, upgrade, progr...</td>\n",
       "      <td>[2639, 4654, 343, 5723, 5877, 3475, 343, 5723,...</td>\n",
       "    </tr>\n",
       "    <tr>\n",
       "      <th>173035</th>\n",
       "      <td>Technology</td>\n",
       "      <td>Apple block apps like Twitter scanning users' ...</td>\n",
       "      <td>Apple block apps like Twitter scanning users i...</td>\n",
       "      <td>[apple, block, apps, like, twitter, scanning, ...</td>\n",
       "      <td>[2639, 2706, 2739, 81, 144, 952, 9237, 9530, 3...</td>\n",
       "    </tr>\n",
       "    <tr>\n",
       "      <th>173036</th>\n",
       "      <td>Technology</td>\n",
       "      <td>Ice Universe: \"Apple considering switchable 60...</td>\n",
       "      <td>Ice Universe Apple considering switchable HzHz...</td>\n",
       "      <td>[ice, universe, apple, considering, switchable...</td>\n",
       "      <td>[3534, 426, 2639, 1064, 3750, 1361, 5723, 1173...</td>\n",
       "    </tr>\n",
       "    <tr>\n",
       "      <th>173037</th>\n",
       "      <td>Technology</td>\n",
       "      <td>smart keyboard = freeway approved.</td>\n",
       "      <td>smart keyboard  freeway approved</td>\n",
       "      <td>[smart, keyboard, freeway, approved]</td>\n",
       "      <td>[1697, 1446, 2509]</td>\n",
       "    </tr>\n",
       "    <tr>\n",
       "      <th>173038</th>\n",
       "      <td>Technology</td>\n",
       "      <td>PSA: Edison Email app ability read user emails...</td>\n",
       "      <td>PSA Edison Email app ability read user emails ...</td>\n",
       "      <td>[psa, edison, email, app, ability, read, user,...</td>\n",
       "      <td>[7164, 3836, 3032, 92, 644, 2376, 2933, 77, 64...</td>\n",
       "    </tr>\n",
       "    <tr>\n",
       "      <th>173039</th>\n",
       "      <td>Technology</td>\n",
       "      <td>Apple's consumer iOS macOS apps officially free</td>\n",
       "      <td>Apples consumer iOS macOS apps officially free</td>\n",
       "      <td>[apples, consumer, ios, macos, apps, officiall...</td>\n",
       "      <td>[10062, 11075, 10018, 11144, 2739, 6687, 327]</td>\n",
       "    </tr>\n",
       "    <tr>\n",
       "      <th>173040</th>\n",
       "      <td>Technology</td>\n",
       "      <td>Consumer reports recommends MacBook Pro 2016</td>\n",
       "      <td>Consumer reports recommends MacBook Pro</td>\n",
       "      <td>[consumer, reports, recommends, macbook, pro]</td>\n",
       "      <td>[11075, 4447, 493, 11060, 2316]</td>\n",
       "    </tr>\n",
       "    <tr>\n",
       "      <th>173041</th>\n",
       "      <td>Technology</td>\n",
       "      <td>Steve Jobs dragging application window real ti...</td>\n",
       "      <td>Steve Jobs dragging application window real ti...</td>\n",
       "      <td>[steve, jobs, dragging, application, window, r...</td>\n",
       "      <td>[2641, 1711, 7995, 1664, 254, 571, 5313, 7576,...</td>\n",
       "    </tr>\n",
       "    <tr>\n",
       "      <th>173042</th>\n",
       "      <td>Technology</td>\n",
       "      <td>Russian man sues Apple, claiming message sent ...</td>\n",
       "      <td>Russian man sues Apple claiming message sent i...</td>\n",
       "      <td>[russian, man, sues, apple, claiming, message,...</td>\n",
       "      <td>[4088, 762, 5021, 2639, 4632, 3833, 1580, 5723...</td>\n",
       "    </tr>\n",
       "    <tr>\n",
       "      <th>173043</th>\n",
       "      <td>Technology</td>\n",
       "      <td>13-Inch MacBook Pro With Scissor Keyboard Expe...</td>\n",
       "      <td>Inch MacBook Pro With Scissor Keyboard Expecte...</td>\n",
       "      <td>[inch, macbook, pro, with, scissor, keyboard, ...</td>\n",
       "      <td>[4552, 11060, 2316, 74, 1446, 5136, 829, 1302]</td>\n",
       "    </tr>\n",
       "    <tr>\n",
       "      <th>173044</th>\n",
       "      <td>Technology</td>\n",
       "      <td>I visited Apple Museum Prague last week wanted...</td>\n",
       "      <td>I visited Apple Museum Prague last week wanted...</td>\n",
       "      <td>[i, visited, apple, museum, prague, last, week...</td>\n",
       "      <td>[436, 2169, 2639, 4409, 10159, 1, 440, 304, 17...</td>\n",
       "    </tr>\n",
       "    <tr>\n",
       "      <th>173045</th>\n",
       "      <td>Technology</td>\n",
       "      <td>Whenever I read people spending hundreds dolla...</td>\n",
       "      <td>Whenever I read people spending hundreds dolla...</td>\n",
       "      <td>[whenever, i, read, people, spending, hundreds...</td>\n",
       "      <td>[7353, 436, 644, 2, 2300, 4888, 380, 4171, 536...</td>\n",
       "    </tr>\n",
       "    <tr>\n",
       "      <th>173046</th>\n",
       "      <td>Technology</td>\n",
       "      <td>Apple CEO Tim Cook: \"We right privacy... [Unli...</td>\n",
       "      <td>Apple CEO Tim Cook We right privacy Unlike com...</td>\n",
       "      <td>[apple, ceo, tim, cook, we, right, privacy, un...</td>\n",
       "      <td>[2639, 2747, 3031, 521, 464, 242, 2737, 8198, ...</td>\n",
       "    </tr>\n",
       "    <tr>\n",
       "      <th>173047</th>\n",
       "      <td>Technology</td>\n",
       "      <td>iMac Pro overpriced. The baseline iMac pro spe...</td>\n",
       "      <td>iMac Pro overpriced The baseline iMac pro spec...</td>\n",
       "      <td>[imac, pro, overpriced, the, baseline, imac, p...</td>\n",
       "      <td>[10540, 2316, 7333, 127, 10540, 2316, 5145, 2408]</td>\n",
       "    </tr>\n",
       "    <tr>\n",
       "      <th>173048</th>\n",
       "      <td>Technology</td>\n",
       "      <td>Apple Just Patched Modem Bug That's Been Macs ...</td>\n",
       "      <td>Apple Just Patched Modem Bug Thats Been Macs S...</td>\n",
       "      <td>[apple, just, patched, modem, bug, thats, been...</td>\n",
       "      <td>[2639, 2878, 1230, 677, 1859, 1556]</td>\n",
       "    </tr>\n",
       "    <tr>\n",
       "      <th>173049</th>\n",
       "      <td>Technology</td>\n",
       "      <td>My 9 year old laptop OSX 10.12 (13” Early 2011...</td>\n",
       "      <td>My  year old laptop OSX   Early  MBPGB SSDGB R...</td>\n",
       "      <td>[my, year, old, laptop, osx, early, mbpgb, ssd...</td>\n",
       "      <td>[51, 164, 9, 4151, 12980, 2287, 7175, 7667, 75...</td>\n",
       "    </tr>\n",
       "    <tr>\n",
       "      <th>173050</th>\n",
       "      <td>Technology</td>\n",
       "      <td>Apple, time get rid Wi-Fi system app installs/...</td>\n",
       "      <td>Apple time get rid WiFi system app installsupd...</td>\n",
       "      <td>[apple, time, get, rid, wifi, system, app, ins...</td>\n",
       "      <td>[2639, 571, 259, 4956, 5051, 776, 3032]</td>\n",
       "    </tr>\n",
       "    <tr>\n",
       "      <th>173051</th>\n",
       "      <td>Technology</td>\n",
       "      <td>Survey finds 97% enterprise Mac users feel pro...</td>\n",
       "      <td>Survey finds  enterprise Mac users feel produc...</td>\n",
       "      <td>[survey, finds, enterprise, mac, users, feel, ...</td>\n",
       "      <td>[3812, 4703, 10983, 6301, 952, 15, 7360, 775, ...</td>\n",
       "    </tr>\n",
       "    <tr>\n",
       "      <th>173052</th>\n",
       "      <td>Technology</td>\n",
       "      <td>I gotta admit, \"Bedtime\" alarm sounds one best...</td>\n",
       "      <td>I gotta admit Bedtime alarm sounds one best there</td>\n",
       "      <td>[i, got, ta, admit, bedtime, alarm, sounds, on...</td>\n",
       "      <td>[436, 576, 1988, 2089, 156, 7346, 1169, 222, 2...</td>\n",
       "    </tr>\n",
       "    <tr>\n",
       "      <th>173053</th>\n",
       "      <td>Technology</td>\n",
       "      <td>After 10 years Mac user, I think favourite fea...</td>\n",
       "      <td>After  years Mac user I think favourite featur...</td>\n",
       "      <td>[after, years, mac, user, i, think, favourite,...</td>\n",
       "      <td>[2560, 5, 6301, 2376, 436, 128, 6876, 14, 1114...</td>\n",
       "    </tr>\n",
       "    <tr>\n",
       "      <th>173054</th>\n",
       "      <td>Technology</td>\n",
       "      <td>PS4 Xbox One S support also come iOS 13, Apple...</td>\n",
       "      <td>PS Xbox One S support also come iOS  Apple TV</td>\n",
       "      <td>[ps, xbox, one, s, support, also, come, ios, a...</td>\n",
       "      <td>[3861, 5644, 222, 126, 90, 1478, 314, 10018, 2...</td>\n",
       "    </tr>\n",
       "  </tbody>\n",
       "</table>\n",
       "<p>173055 rows × 5 columns</p>\n",
       "</div>"
      ],
      "text/plain": [
       "                             0  \\\n",
       "0       Discussion and Stories   \n",
       "1       Discussion and Stories   \n",
       "2       Discussion and Stories   \n",
       "3       Discussion and Stories   \n",
       "4       Discussion and Stories   \n",
       "5       Discussion and Stories   \n",
       "6       Discussion and Stories   \n",
       "7       Discussion and Stories   \n",
       "8       Discussion and Stories   \n",
       "9       Discussion and Stories   \n",
       "10      Discussion and Stories   \n",
       "11      Discussion and Stories   \n",
       "12      Discussion and Stories   \n",
       "13      Discussion and Stories   \n",
       "14      Discussion and Stories   \n",
       "15      Discussion and Stories   \n",
       "16      Discussion and Stories   \n",
       "17      Discussion and Stories   \n",
       "18      Discussion and Stories   \n",
       "19      Discussion and Stories   \n",
       "20      Discussion and Stories   \n",
       "21      Discussion and Stories   \n",
       "22      Discussion and Stories   \n",
       "23      Discussion and Stories   \n",
       "24      Discussion and Stories   \n",
       "25      Discussion and Stories   \n",
       "26      Discussion and Stories   \n",
       "27      Discussion and Stories   \n",
       "28      Discussion and Stories   \n",
       "29      Discussion and Stories   \n",
       "...                        ...   \n",
       "173025              Technology   \n",
       "173026              Technology   \n",
       "173027              Technology   \n",
       "173028              Technology   \n",
       "173029              Technology   \n",
       "173030              Technology   \n",
       "173031              Technology   \n",
       "173032              Technology   \n",
       "173033              Technology   \n",
       "173034              Technology   \n",
       "173035              Technology   \n",
       "173036              Technology   \n",
       "173037              Technology   \n",
       "173038              Technology   \n",
       "173039              Technology   \n",
       "173040              Technology   \n",
       "173041              Technology   \n",
       "173042              Technology   \n",
       "173043              Technology   \n",
       "173044              Technology   \n",
       "173045              Technology   \n",
       "173046              Technology   \n",
       "173047              Technology   \n",
       "173048              Technology   \n",
       "173049              Technology   \n",
       "173050              Technology   \n",
       "173051              Technology   \n",
       "173052              Technology   \n",
       "173053              Technology   \n",
       "173054              Technology   \n",
       "\n",
       "                                                        1  \\\n",
       "0       People pooped 2019 yet, still holding last yea...   \n",
       "1                       Stan Lee passed away 95 years old   \n",
       "2       How would feel feature someone upvotes crosspo...   \n",
       "3       Reddit, would feel law bans radio stations pla...   \n",
       "4                   Without saying category is, top five?   \n",
       "5       Anthony Bourdain said \"There's guy head, wants...   \n",
       "6       With negative headlines dominating news days, ...   \n",
       "7       [Serious] Americans, would support putting law...   \n",
       "8       Iceland announced every Icelander age 18 autom...   \n",
       "9       How would feel law requires people age 70 pass...   \n",
       "10      Now PBS announced they'll televising impeachme...   \n",
       "11           Professor Stephen Hawking passed away age 76   \n",
       "12      The 2010's decade 4 months. What think people ...   \n",
       "13      You cheated $1000 stupid brick. How take revenge?   \n",
       "14      You gain control JK Rowling's twitter account ...   \n",
       "15                          Suicide Prevention Megathread   \n",
       "16      What’s something small start today better your...   \n",
       "17      What mind-blowing (but simple) facts would sat...   \n",
       "18      People downloaded Google data went it, unsettl...   \n",
       "19              Admins Reddit, what's favorite subreddit?   \n",
       "20      What looks easy peasy lemon squeezy actually d...   \n",
       "21      Albert Einstein said \"If judge fish ability cl...   \n",
       "22      When lying bed night, ever randomly remember r...   \n",
       "23         What think single greatest photograph history?   \n",
       "24      Do ever look one day think hot shit, next day ...   \n",
       "25      What slang terms 50 year old dad say daughter ...   \n",
       "26       [Breaking News] Orlando Nightclub mass-shooting.   \n",
       "27      What think buzzfeed employees worked reddit ye...   \n",
       "28      The words 'Low Battery' appear right eyes, tak...   \n",
       "29      Have ever felt know/have forgotten really are?...   \n",
       "...                                                   ...   \n",
       "173025  Tim Cook speaks Cambridge Analytica debacle, c...   \n",
       "173026  This guy walks Apple store breaks Apple produc...   \n",
       "173027  16-Inch MacBook Pro Said Launch September With...   \n",
       "173028   Apple wins Design Patent 'AirPower' prior Launch   \n",
       "173029               Is Google nerfed YouTube app ground?   \n",
       "173030            Apple pushes HomePod release early 2018   \n",
       "173031  Apple Filed Patents Larger Apple Watch Display...   \n",
       "173032  Here's iPhone wallpaper selection updated week...   \n",
       "173033  Uber's latest update notes try take credit iOS...   \n",
       "173034  Apple announces new iPhone Upgrade Program, ne...   \n",
       "173035  Apple block apps like Twitter scanning users' ...   \n",
       "173036  Ice Universe: \"Apple considering switchable 60...   \n",
       "173037                 smart keyboard = freeway approved.   \n",
       "173038  PSA: Edison Email app ability read user emails...   \n",
       "173039    Apple's consumer iOS macOS apps officially free   \n",
       "173040       Consumer reports recommends MacBook Pro 2016   \n",
       "173041  Steve Jobs dragging application window real ti...   \n",
       "173042  Russian man sues Apple, claiming message sent ...   \n",
       "173043  13-Inch MacBook Pro With Scissor Keyboard Expe...   \n",
       "173044  I visited Apple Museum Prague last week wanted...   \n",
       "173045  Whenever I read people spending hundreds dolla...   \n",
       "173046  Apple CEO Tim Cook: \"We right privacy... [Unli...   \n",
       "173047  iMac Pro overpriced. The baseline iMac pro spe...   \n",
       "173048  Apple Just Patched Modem Bug That's Been Macs ...   \n",
       "173049  My 9 year old laptop OSX 10.12 (13” Early 2011...   \n",
       "173050  Apple, time get rid Wi-Fi system app installs/...   \n",
       "173051  Survey finds 97% enterprise Mac users feel pro...   \n",
       "173052  I gotta admit, \"Bedtime\" alarm sounds one best...   \n",
       "173053  After 10 years Mac user, I think favourite fea...   \n",
       "173054  PS4 Xbox One S support also come iOS 13, Apple...   \n",
       "\n",
       "                                                full_text  \\\n",
       "0        People pooped  yet still holding last years shit   \n",
       "1                         Stan Lee passed away  years old   \n",
       "2       How would feel feature someone upvotes crosspo...   \n",
       "3       Reddit would feel law bans radio stations play...   \n",
       "4                     Without saying category is top five   \n",
       "5       Anthony Bourdain said Theres guy head wants la...   \n",
       "6       With negative headlines dominating news days d...   \n",
       "7       Serious Americans would support putting law pl...   \n",
       "8       Iceland announced every Icelander age  automat...   \n",
       "9       How would feel law requires people age  pass s...   \n",
       "10      Now PBS announced theyll televising impeachmen...   \n",
       "11             Professor Stephen Hawking passed away age    \n",
       "12      The s decade  months What think people remembe...   \n",
       "13             You cheated  stupid brick How take revenge   \n",
       "14      You gain control JK Rowlings twitter account d...   \n",
       "15                          Suicide Prevention Megathread   \n",
       "16      Whats something small start today better yourself   \n",
       "17      What mindblowing but simple facts would satisf...   \n",
       "18      People downloaded Google data went it unsettli...   \n",
       "19                 Admins Reddit whats favorite subreddit   \n",
       "20      What looks easy peasy lemon squeezy actually d...   \n",
       "21      Albert Einstein said If judge fish ability cli...   \n",
       "22      When lying bed night ever randomly remember re...   \n",
       "23          What think single greatest photograph history   \n",
       "24      Do ever look one day think hot shit next day c...   \n",
       "25      What slang terms  year old dad say daughter em...   \n",
       "26           Breaking News Orlando Nightclub massshooting   \n",
       "27      What think buzzfeed employees worked reddit ye...   \n",
       "28      The words Low Battery appear right eyes take V...   \n",
       "29      Have ever felt knowhave forgotten really are T...   \n",
       "...                                                   ...   \n",
       "173025  Tim Cook speaks Cambridge Analytica debacle ca...   \n",
       "173026  This guy walks Apple store breaks Apple produc...   \n",
       "173027  Inch MacBook Pro Said Launch September With LC...   \n",
       "173028     Apple wins Design Patent AirPower prior Launch   \n",
       "173029                Is Google nerfed YouTube app ground   \n",
       "173030                Apple pushes HomePod release early    \n",
       "173031  Apple Filed Patents Larger Apple Watch Display...   \n",
       "173032  Heres iPhone wallpaper selection updated weekl...   \n",
       "173033  Ubers latest update notes try take credit iOS ...   \n",
       "173034  Apple announces new iPhone Upgrade Program new...   \n",
       "173035  Apple block apps like Twitter scanning users i...   \n",
       "173036  Ice Universe Apple considering switchable HzHz...   \n",
       "173037                   smart keyboard  freeway approved   \n",
       "173038  PSA Edison Email app ability read user emails ...   \n",
       "173039     Apples consumer iOS macOS apps officially free   \n",
       "173040           Consumer reports recommends MacBook Pro    \n",
       "173041  Steve Jobs dragging application window real ti...   \n",
       "173042  Russian man sues Apple claiming message sent i...   \n",
       "173043  Inch MacBook Pro With Scissor Keyboard Expecte...   \n",
       "173044  I visited Apple Museum Prague last week wanted...   \n",
       "173045  Whenever I read people spending hundreds dolla...   \n",
       "173046  Apple CEO Tim Cook We right privacy Unlike com...   \n",
       "173047  iMac Pro overpriced The baseline iMac pro spec...   \n",
       "173048  Apple Just Patched Modem Bug Thats Been Macs S...   \n",
       "173049  My  year old laptop OSX   Early  MBPGB SSDGB R...   \n",
       "173050  Apple time get rid WiFi system app installsupd...   \n",
       "173051  Survey finds  enterprise Mac users feel produc...   \n",
       "173052  I gotta admit Bedtime alarm sounds one best there   \n",
       "173053  After  years Mac user I think favourite featur...   \n",
       "173054      PS Xbox One S support also come iOS  Apple TV   \n",
       "\n",
       "                                                   tokens  \\\n",
       "0       [people, pooped, yet, still, holding, last, ye...   \n",
       "1                   [stan, lee, passed, away, years, old]   \n",
       "2       [how, would, feel, feature, someone, upvotes, ...   \n",
       "3       [reddit, would, feel, law, bans, radio, statio...   \n",
       "4              [without, saying, category, is, top, five]   \n",
       "5       [anthony, bourdain, said, theres, guy, head, w...   \n",
       "6       [with, negative, headlines, dominating, news, ...   \n",
       "7       [serious, americans, would, support, putting, ...   \n",
       "8       [iceland, announced, every, icelander, age, au...   \n",
       "9       [how, would, feel, law, requires, people, age,...   \n",
       "10      [now, pbs, announced, theyll, televising, impe...   \n",
       "11       [professor, stephen, hawking, passed, away, age]   \n",
       "12      [the, s, decade, months, what, think, people, ...   \n",
       "13      [you, cheated, stupid, brick, how, take, revenge]   \n",
       "14      [you, gain, control, jk, rowlings, twitter, ac...   \n",
       "15                      [suicide, prevention, megathread]   \n",
       "16      [whats, something, small, start, today, better...   \n",
       "17      [what, mindblowing, but, simple, facts, would,...   \n",
       "18      [people, downloaded, google, data, went, it, u...   \n",
       "19           [admins, reddit, whats, favorite, subreddit]   \n",
       "20      [what, looks, easy, peasy, lemon, squeezy, act...   \n",
       "21      [albert, einstein, said, if, judge, fish, abil...   \n",
       "22      [when, lying, bed, night, ever, randomly, reme...   \n",
       "23      [what, think, single, greatest, photograph, hi...   \n",
       "24      [do, ever, look, one, day, think, hot, shit, n...   \n",
       "25      [what, slang, terms, year, old, dad, say, daug...   \n",
       "26      [breaking, news, orlando, nightclub, massshoot...   \n",
       "27      [what, think, buzzfeed, employees, worked, red...   \n",
       "28      [the, words, low, battery, appear, right, eyes...   \n",
       "29      [have, ever, felt, knowhave, forgotten, really...   \n",
       "...                                                   ...   \n",
       "173025  [tim, cook, speaks, cambridge, analytica, deba...   \n",
       "173026  [this, guy, walks, apple, store, breaks, apple...   \n",
       "173027  [inch, macbook, pro, said, launch, september, ...   \n",
       "173028  [apple, wins, design, patent, airpower, prior,...   \n",
       "173029         [is, google, nerfed, youtube, app, ground]   \n",
       "173030           [apple, pushes, homepod, release, early]   \n",
       "173031  [apple, filed, patents, larger, apple, watch, ...   \n",
       "173032  [heres, iphone, wallpaper, selection, updated,...   \n",
       "173033  [ubers, latest, update, notes, try, take, cred...   \n",
       "173034  [apple, announces, new, iphone, upgrade, progr...   \n",
       "173035  [apple, block, apps, like, twitter, scanning, ...   \n",
       "173036  [ice, universe, apple, considering, switchable...   \n",
       "173037               [smart, keyboard, freeway, approved]   \n",
       "173038  [psa, edison, email, app, ability, read, user,...   \n",
       "173039  [apples, consumer, ios, macos, apps, officiall...   \n",
       "173040      [consumer, reports, recommends, macbook, pro]   \n",
       "173041  [steve, jobs, dragging, application, window, r...   \n",
       "173042  [russian, man, sues, apple, claiming, message,...   \n",
       "173043  [inch, macbook, pro, with, scissor, keyboard, ...   \n",
       "173044  [i, visited, apple, museum, prague, last, week...   \n",
       "173045  [whenever, i, read, people, spending, hundreds...   \n",
       "173046  [apple, ceo, tim, cook, we, right, privacy, un...   \n",
       "173047  [imac, pro, overpriced, the, baseline, imac, p...   \n",
       "173048  [apple, just, patched, modem, bug, thats, been...   \n",
       "173049  [my, year, old, laptop, osx, early, mbpgb, ssd...   \n",
       "173050  [apple, time, get, rid, wifi, system, app, ins...   \n",
       "173051  [survey, finds, enterprise, mac, users, feel, ...   \n",
       "173052  [i, got, ta, admit, bedtime, alarm, sounds, on...   \n",
       "173053  [after, years, mac, user, i, think, favourite,...   \n",
       "173054  [ps, xbox, one, s, support, also, come, ios, a...   \n",
       "\n",
       "                                                 filtered  \n",
       "0                                   [2, 6, 4, 0, 1, 5, 3]  \n",
       "1                                    [11, 8, 10, 7, 5, 9]  \n",
       "2            [16, 22, 15, 14, 19, 21, 13, 17, 18, 20, 12]  \n",
       "3            [29, 22, 15, 25, 23, 28, 30, 27, 24, 26, 31]  \n",
       "4                                [37, 35, 32, 34, 36, 33]  \n",
       "5       [38, 41, 53, 57, 44, 45, 58, 47, 40, 43, 49, 5...  \n",
       "6       [74, 67, 65, 68, 62, 63, 72, 71, 70, 73, 66, 6...  \n",
       "7       [89, 75, 22, 90, 87, 25, 85, 80, 83, 88, 86, 7...  \n",
       "8       [98, 94, 97, 93, 12, 95, 100, 96, 92, 99, 101,...  \n",
       "9       [16, 22, 15, 25, 107, 2, 93, 106, 108, 104, 10...  \n",
       "10      [115, 116, 94, 118, 114, 113, 111, 112, 117, 110]  \n",
       "11                             [120, 121, 119, 10, 7, 93]  \n",
       "12        [127, 126, 122, 124, 73, 128, 2, 125, 122, 123]  \n",
       "13                      [61, 130, 132, 129, 16, 133, 131]  \n",
       "14      [61, 137, 136, 140, 144, 134, 43, 73, 145, 142...  \n",
       "15                                        [148, 147, 146]  \n",
       "16                    [154, 151, 150, 152, 153, 149, 155]  \n",
       "17      [73, 157, 163, 161, 22, 164, 9, 159, 158, 162,...  \n",
       "18      [2, 166, 168, 165, 173, 169, 172, 171, 167, 17...  \n",
       "19                               [174, 29, 154, 175, 176]  \n",
       "20              [73, 180, 178, 179, 177, 63, 63, 179, 63]  \n",
       "21      [181, 184, 53, 186, 187, 185, 92, 183, 190, 18...  \n",
       "22      [211, 201, 40, 203, 199, 205, 125, 207, 202, 2...  \n",
       "23                          [73, 128, 216, 213, 215, 214]  \n",
       "24      [76, 199, 220, 222, 43, 128, 219, 3, 221, 43, ...  \n",
       "25                  [73, 227, 164, 9, 223, 226, 224, 225]  \n",
       "26                                    [228, 68, 230, 229]  \n",
       "27                       [73, 128, 231, 77, 232, 29, 233]  \n",
       "28      [127, 212, 238, 235, 234, 242, 236, 133, 244, ...  \n",
       "29      [250, 199, 248, 249, 206, 246, 56, 255, 5, 252...  \n",
       "...                                                   ...  \n",
       "173025    [3031, 521, 6923, 5092, 5091, 832, 11075, 2737]  \n",
       "173026  [102, 44, 1342, 2639, 730, 3971, 2639, 2346, 1...  \n",
       "173027      [4552, 11060, 2316, 53, 1492, 1559, 74, 9781]  \n",
       "173028               [2639, 4146, 1039, 5123, 5501, 1492]  \n",
       "173029                         [34, 168, 605, 3032, 5722]  \n",
       "173030                    [2639, 9220, 13276, 2572, 2287]  \n",
       "173031  [2639, 1090, 3138, 7877, 2639, 59, 10660, 9193...  \n",
       "173032  [6133, 5723, 7473, 8193, 2221, 4071, 15, 327, ...  \n",
       "173033  [3553, 2856, 4656, 1151, 133, 1906, 10018, 491...  \n",
       "173034  [2639, 4654, 343, 5723, 5877, 3475, 343, 5723,...  \n",
       "173035  [2639, 2706, 2739, 81, 144, 952, 9237, 9530, 3...  \n",
       "173036  [3534, 426, 2639, 1064, 3750, 1361, 5723, 1173...  \n",
       "173037                                 [1697, 1446, 2509]  \n",
       "173038  [7164, 3836, 3032, 92, 644, 2376, 2933, 77, 64...  \n",
       "173039      [10062, 11075, 10018, 11144, 2739, 6687, 327]  \n",
       "173040                    [11075, 4447, 493, 11060, 2316]  \n",
       "173041  [2641, 1711, 7995, 1664, 254, 571, 5313, 7576,...  \n",
       "173042  [4088, 762, 5021, 2639, 4632, 3833, 1580, 5723...  \n",
       "173043     [4552, 11060, 2316, 74, 1446, 5136, 829, 1302]  \n",
       "173044  [436, 2169, 2639, 4409, 10159, 1, 440, 304, 17...  \n",
       "173045  [7353, 436, 644, 2, 2300, 4888, 380, 4171, 536...  \n",
       "173046  [2639, 2747, 3031, 521, 464, 242, 2737, 8198, ...  \n",
       "173047  [10540, 2316, 7333, 127, 10540, 2316, 5145, 2408]  \n",
       "173048                [2639, 2878, 1230, 677, 1859, 1556]  \n",
       "173049  [51, 164, 9, 4151, 12980, 2287, 7175, 7667, 75...  \n",
       "173050            [2639, 571, 259, 4956, 5051, 776, 3032]  \n",
       "173051  [3812, 4703, 10983, 6301, 952, 15, 7360, 775, ...  \n",
       "173052  [436, 576, 1988, 2089, 156, 7346, 1169, 222, 2...  \n",
       "173053  [2560, 5, 6301, 2376, 436, 128, 6876, 14, 1114...  \n",
       "173054  [3861, 5644, 222, 126, 90, 1478, 314, 10018, 2...  \n",
       "\n",
       "[173055 rows x 5 columns]"
      ]
     },
     "execution_count": 312,
     "metadata": {},
     "output_type": "execute_result"
    }
   ],
   "source": [
    "reddit_df_stopped"
   ]
  },
  {
   "cell_type": "code",
   "execution_count": 271,
   "metadata": {},
   "outputs": [],
   "source": [
    "def lemmatize_speech_text(text):\n",
    "    return [w.lower() for w in nltk.word_tokenize(text)]\n",
    "reddit_df_stopped['tokens'] = reddit_df_stopped['full_text'].apply(lambda x: lemmatize_speech_text(x))"
   ]
  },
  {
   "cell_type": "code",
   "execution_count": 219,
   "metadata": {},
   "outputs": [],
   "source": [
    "nltk.download('stopwords')\n",
    "stopwords = set(nltk.corpus.stopwords.words('english'))\n",
    "\n",
    "reddit_df_stopped = pd.DataFrame()\n",
    "reddit_df_stopped[0] = reddit_df[0]\n",
    "reddit_df_stopped[1] = reddit_df[1].apply(lambda x: ' '.join([word for word in x.split() if word not in (stopwords)]))\n",
    "reddit_df_stopped['full_text'] = reddit_df_stopped[1].apply(lambda x: re.sub(r'[^\\w\\s]', '', x))\n",
    "reddit_df_stopped['full_text'] = reddit_df_stopped['full_text'].apply(lambda x: re.sub(r'[\\d]', '', x))\n"
   ]
  },
  {
   "cell_type": "code",
   "execution_count": 304,
   "metadata": {},
   "outputs": [
    {
     "data": {
      "text/html": [
       "<div>\n",
       "<style scoped>\n",
       "    .dataframe tbody tr th:only-of-type {\n",
       "        vertical-align: middle;\n",
       "    }\n",
       "\n",
       "    .dataframe tbody tr th {\n",
       "        vertical-align: top;\n",
       "    }\n",
       "\n",
       "    .dataframe thead th {\n",
       "        text-align: right;\n",
       "    }\n",
       "</style>\n",
       "<table border=\"1\" class=\"dataframe\">\n",
       "  <thead>\n",
       "    <tr style=\"text-align: right;\">\n",
       "      <th></th>\n",
       "      <th>0</th>\n",
       "      <th>1</th>\n",
       "      <th>full_text</th>\n",
       "      <th>tokens</th>\n",
       "      <th>filtered</th>\n",
       "    </tr>\n",
       "  </thead>\n",
       "  <tbody>\n",
       "    <tr>\n",
       "      <th>0</th>\n",
       "      <td>Discussion and Stories</td>\n",
       "      <td>People pooped 2019 yet, still holding last yea...</td>\n",
       "      <td>People pooped  yet still holding last years shit</td>\n",
       "      <td>[people, pooped, yet, still, holding, last, ye...</td>\n",
       "      <td>[2, 6, 4, 0, 1, 5, 3]</td>\n",
       "    </tr>\n",
       "    <tr>\n",
       "      <th>1</th>\n",
       "      <td>Discussion and Stories</td>\n",
       "      <td>Stan Lee passed away 95 years old</td>\n",
       "      <td>Stan Lee passed away  years old</td>\n",
       "      <td>[stan, lee, passed, away, years, old]</td>\n",
       "      <td>[11, 8, 10, 7, 5, 9]</td>\n",
       "    </tr>\n",
       "    <tr>\n",
       "      <th>2</th>\n",
       "      <td>Discussion and Stories</td>\n",
       "      <td>How would feel feature someone upvotes crosspo...</td>\n",
       "      <td>How would feel feature someone upvotes crosspo...</td>\n",
       "      <td>[how, would, feel, feature, someone, upvotes, ...</td>\n",
       "      <td>[16, 22, 15, 14, 19, 21, 13, 17, 18, 20, 12]</td>\n",
       "    </tr>\n",
       "    <tr>\n",
       "      <th>3</th>\n",
       "      <td>Discussion and Stories</td>\n",
       "      <td>Reddit, would feel law bans radio stations pla...</td>\n",
       "      <td>Reddit would feel law bans radio stations play...</td>\n",
       "      <td>[reddit, would, feel, law, bans, radio, statio...</td>\n",
       "      <td>[29, 22, 15, 25, 23, 28, 30, 27, 24, 26, 31]</td>\n",
       "    </tr>\n",
       "    <tr>\n",
       "      <th>4</th>\n",
       "      <td>Discussion and Stories</td>\n",
       "      <td>Without saying category is, top five?</td>\n",
       "      <td>Without saying category is top five</td>\n",
       "      <td>[without, saying, category, is, top, five]</td>\n",
       "      <td>[37, 35, 32, 34, 36, 33]</td>\n",
       "    </tr>\n",
       "  </tbody>\n",
       "</table>\n",
       "</div>"
      ],
      "text/plain": [
       "                        0                                                  1  \\\n",
       "0  Discussion and Stories  People pooped 2019 yet, still holding last yea...   \n",
       "1  Discussion and Stories                  Stan Lee passed away 95 years old   \n",
       "2  Discussion and Stories  How would feel feature someone upvotes crosspo...   \n",
       "3  Discussion and Stories  Reddit, would feel law bans radio stations pla...   \n",
       "4  Discussion and Stories              Without saying category is, top five?   \n",
       "\n",
       "                                           full_text  \\\n",
       "0   People pooped  yet still holding last years shit   \n",
       "1                    Stan Lee passed away  years old   \n",
       "2  How would feel feature someone upvotes crosspo...   \n",
       "3  Reddit would feel law bans radio stations play...   \n",
       "4                Without saying category is top five   \n",
       "\n",
       "                                              tokens  \\\n",
       "0  [people, pooped, yet, still, holding, last, ye...   \n",
       "1              [stan, lee, passed, away, years, old]   \n",
       "2  [how, would, feel, feature, someone, upvotes, ...   \n",
       "3  [reddit, would, feel, law, bans, radio, statio...   \n",
       "4         [without, saying, category, is, top, five]   \n",
       "\n",
       "                                       filtered  \n",
       "0                         [2, 6, 4, 0, 1, 5, 3]  \n",
       "1                          [11, 8, 10, 7, 5, 9]  \n",
       "2  [16, 22, 15, 14, 19, 21, 13, 17, 18, 20, 12]  \n",
       "3  [29, 22, 15, 25, 23, 28, 30, 27, 24, 26, 31]  \n",
       "4                      [37, 35, 32, 34, 36, 33]  "
      ]
     },
     "execution_count": 304,
     "metadata": {},
     "output_type": "execute_result"
    }
   ],
   "source": [
    "reddit_df_stopped.head()"
   ]
  },
  {
   "cell_type": "code",
   "execution_count": null,
   "metadata": {},
   "outputs": [],
   "source": []
  },
  {
   "cell_type": "code",
   "execution_count": 306,
   "metadata": {},
   "outputs": [],
   "source": [
    "# tokenizer = text.Tokenizer(num_words=10000)\n",
    "# tokenizer.fit_on_texts(list(reddit_df_stopped['tokens']))\n",
    "# list_tokenized_headlines = tokenizer.texts_to_sequences(reddit_df_stopped['full_text'])\n",
    "X_t = pad_sequences(reddit_df_stopped['filtered'], maxlen=50)"
   ]
  },
  {
   "cell_type": "code",
   "execution_count": 309,
   "metadata": {
    "scrolled": true
   },
   "outputs": [
    {
     "name": "stdout",
     "output_type": "stream",
     "text": [
      "Model: \"model_10\"\n",
      "_________________________________________________________________\n",
      "Layer (type)                 Output Shape              Param #   \n",
      "=================================================================\n",
      "input_8 (InputLayer)         (None, 50)                0         \n",
      "_________________________________________________________________\n",
      "embedding_8 (Embedding)      (None, 50, 300)           6000000   \n",
      "_________________________________________________________________\n",
      "dense_22 (Dense)             (None, 50, 750)           225750    \n",
      "_________________________________________________________________\n",
      "lstm_8 (LSTM)                (None, 50, 25)            77600     \n",
      "_________________________________________________________________\n",
      "global_max_pooling1d_8 (Glob (None, 25)                0         \n",
      "_________________________________________________________________\n",
      "dense_23 (Dense)             (None, 500)               13000     \n",
      "_________________________________________________________________\n",
      "dropout_8 (Dropout)          (None, 500)               0         \n",
      "_________________________________________________________________\n",
      "dense_24 (Dense)             (None, 14)                7014      \n",
      "=================================================================\n",
      "Total params: 6,323,364\n",
      "Trainable params: 6,323,364\n",
      "Non-trainable params: 0\n",
      "_________________________________________________________________\n"
     ]
    }
   ],
   "source": [
    "embedding_size = 300\n",
    "input_ = Input(shape=(50,))\n",
    "x = Embedding(20000, embedding_size)(input_)\n",
    "x = Dense(750, activation='relu', kernel_regularizer=regularizers.l2(0.2))(x)\n",
    "\n",
    "x = LSTM(25, return_sequences=True)(x)\n",
    "x = GlobalMaxPool1D()(x)\n",
    "x = Dense(500, activation='relu')(x)\n",
    "x = Dropout(0.2)(x)\n",
    "# There are 14 different possible classes, so we use 14 neurons in our output layer\n",
    "x = Dense(14, activation='softmax')(x)\n",
    "\n",
    "model = Model(inputs=input_, outputs=x)\n",
    "model.compile(loss='categorical_crossentropy', optimizer='adamax', metrics=['accuracy'])\n",
    "X_train,X_val, y_train,y_val = train_test_split(X_t,y,test_size=0.3,random_state=1)\n",
    "model.summary()"
   ]
  },
  {
   "cell_type": "code",
   "execution_count": 310,
   "metadata": {
    "scrolled": true
   },
   "outputs": [
    {
     "name": "stderr",
     "output_type": "stream",
     "text": [
      "/Users/reuben/anaconda3/lib/python3.7/site-packages/tensorflow_core/python/framework/indexed_slices.py:424: UserWarning: Converting sparse IndexedSlices to a dense Tensor of unknown shape. This may consume a large amount of memory.\n",
      "  \"Converting sparse IndexedSlices to a dense Tensor of unknown shape. \"\n"
     ]
    },
    {
     "name": "stdout",
     "output_type": "stream",
     "text": [
      "Train on 121138 samples, validate on 51917 samples\n",
      "Epoch 1/100\n",
      "121138/121138 [==============================] - 422s 3ms/step - loss: 7.2775 - accuracy: 0.1664 - val_loss: 2.4026 - val_accuracy: 0.1822\n",
      "Epoch 2/100\n",
      "121138/121138 [==============================] - 469s 4ms/step - loss: 2.2440 - accuracy: 0.2056 - val_loss: 2.1583 - val_accuracy: 0.2449\n",
      "Epoch 3/100\n",
      "121138/121138 [==============================] - 469s 4ms/step - loss: 2.0786 - accuracy: 0.2727 - val_loss: 2.0639 - val_accuracy: 0.3053\n",
      "Epoch 4/100\n",
      "121138/121138 [==============================] - 339s 3ms/step - loss: 1.9810 - accuracy: 0.3268 - val_loss: 1.9946 - val_accuracy: 0.3343\n",
      "Epoch 5/100\n",
      "121138/121138 [==============================] - 368s 3ms/step - loss: 1.9043 - accuracy: 0.3634 - val_loss: 1.9499 - val_accuracy: 0.3608\n",
      "Epoch 6/100\n",
      "121138/121138 [==============================] - 392s 3ms/step - loss: 1.8296 - accuracy: 0.3979 - val_loss: 1.9095 - val_accuracy: 0.3814\n",
      "Epoch 7/100\n",
      "121138/121138 [==============================] - 345s 3ms/step - loss: 1.7619 - accuracy: 0.4323 - val_loss: 1.8646 - val_accuracy: 0.4108\n",
      "Epoch 8/100\n",
      "121138/121138 [==============================] - 396s 3ms/step - loss: 1.6960 - accuracy: 0.4658 - val_loss: 1.7979 - val_accuracy: 0.4378\n",
      "Epoch 9/100\n",
      "121138/121138 [==============================] - 366s 3ms/step - loss: 1.6385 - accuracy: 0.4880 - val_loss: 1.7894 - val_accuracy: 0.4455\n",
      "Epoch 10/100\n",
      "121138/121138 [==============================] - 285s 2ms/step - loss: 1.5984 - accuracy: 0.5041 - val_loss: 1.7244 - val_accuracy: 0.4639\n",
      "Epoch 11/100\n",
      "121138/121138 [==============================] - 286s 2ms/step - loss: 1.5551 - accuracy: 0.5205 - val_loss: 1.7129 - val_accuracy: 0.4697\n",
      "Epoch 12/100\n",
      "121138/121138 [==============================] - 285s 2ms/step - loss: 1.5240 - accuracy: 0.5308 - val_loss: 1.7059 - val_accuracy: 0.4687\n",
      "Epoch 13/100\n",
      "121138/121138 [==============================] - 287s 2ms/step - loss: 1.4923 - accuracy: 0.5434 - val_loss: 1.7053 - val_accuracy: 0.4808\n",
      "Epoch 14/100\n",
      "121138/121138 [==============================] - 284s 2ms/step - loss: 1.4666 - accuracy: 0.5529 - val_loss: 1.6791 - val_accuracy: 0.4876\n",
      "Epoch 15/100\n",
      "121138/121138 [==============================] - 285s 2ms/step - loss: 1.4470 - accuracy: 0.5596 - val_loss: 1.6898 - val_accuracy: 0.4862\n",
      "Epoch 16/100\n",
      "121138/121138 [==============================] - 296s 2ms/step - loss: 1.4235 - accuracy: 0.5676 - val_loss: 1.6844 - val_accuracy: 0.4896\n",
      "Epoch 17/100\n",
      "121138/121138 [==============================] - 286s 2ms/step - loss: 1.4068 - accuracy: 0.5736 - val_loss: 1.6574 - val_accuracy: 0.4944\n",
      "Epoch 18/100\n",
      "121138/121138 [==============================] - 292s 2ms/step - loss: 1.3927 - accuracy: 0.5775 - val_loss: 1.6645 - val_accuracy: 0.4967\n",
      "Epoch 19/100\n",
      "121138/121138 [==============================] - 284s 2ms/step - loss: 1.3779 - accuracy: 0.5828 - val_loss: 1.6721 - val_accuracy: 0.4913\n",
      "Epoch 20/100\n",
      "121138/121138 [==============================] - 277s 2ms/step - loss: 1.3647 - accuracy: 0.5873 - val_loss: 1.6728 - val_accuracy: 0.4984\n",
      "Epoch 21/100\n",
      "121138/121138 [==============================] - 286s 2ms/step - loss: 1.3589 - accuracy: 0.5883 - val_loss: 1.6731 - val_accuracy: 0.4984\n",
      "Epoch 22/100\n",
      "121138/121138 [==============================] - 288s 2ms/step - loss: 1.3436 - accuracy: 0.5932 - val_loss: 1.6689 - val_accuracy: 0.4966\n",
      "Epoch 23/100\n",
      "121138/121138 [==============================] - 315s 3ms/step - loss: 1.3354 - accuracy: 0.5980 - val_loss: 1.6319 - val_accuracy: 0.5063\n",
      "Epoch 24/100\n",
      "121138/121138 [==============================] - 348s 3ms/step - loss: 1.3257 - accuracy: 0.5986 - val_loss: 1.6636 - val_accuracy: 0.4979\n",
      "Epoch 25/100\n",
      "121138/121138 [==============================] - 393s 3ms/step - loss: 1.3157 - accuracy: 0.6037 - val_loss: 1.7020 - val_accuracy: 0.4921\n",
      "Epoch 26/100\n",
      "121138/121138 [==============================] - 312s 3ms/step - loss: 1.3079 - accuracy: 0.6043 - val_loss: 1.6854 - val_accuracy: 0.5002\n",
      "Epoch 27/100\n",
      "121138/121138 [==============================] - 309s 3ms/step - loss: 1.2984 - accuracy: 0.6075 - val_loss: 1.7070 - val_accuracy: 0.4940\n",
      "Epoch 28/100\n",
      "121138/121138 [==============================] - 318s 3ms/step - loss: 1.2908 - accuracy: 0.6091 - val_loss: 1.6519 - val_accuracy: 0.5052\n",
      "Epoch 29/100\n",
      "121138/121138 [==============================] - 310s 3ms/step - loss: 1.2820 - accuracy: 0.6125 - val_loss: 1.6554 - val_accuracy: 0.5037\n",
      "Epoch 30/100\n",
      "121138/121138 [==============================] - 308s 3ms/step - loss: 1.2755 - accuracy: 0.6139 - val_loss: 1.6723 - val_accuracy: 0.5037\n",
      "Epoch 31/100\n",
      "121138/121138 [==============================] - 312s 3ms/step - loss: 1.2667 - accuracy: 0.6164 - val_loss: 1.6846 - val_accuracy: 0.5048\n",
      "Epoch 32/100\n",
      "121138/121138 [==============================] - 308s 3ms/step - loss: 1.2590 - accuracy: 0.6183 - val_loss: 1.6765 - val_accuracy: 0.5035\n",
      "Epoch 33/100\n",
      "121138/121138 [==============================] - 310s 3ms/step - loss: 1.2534 - accuracy: 0.6206 - val_loss: 1.6712 - val_accuracy: 0.5028\n"
     ]
    }
   ],
   "source": [
    "earlyStopping = EarlyStopping(monitor='val_loss', patience=10, verbose=0, mode='min')\n",
    "mcp_save = ModelCheckpoint('.mdl_wts.hdf5', save_best_only=True, monitor='val_loss', mode='min')\n",
    "history = model.fit(X_train, y_train, epochs=100, batch_size=500, callbacks=[earlyStopping,mcp_save], shuffle=True, validation_data=(X_val,y_val))\n"
   ]
  },
  {
   "cell_type": "code",
   "execution_count": 311,
   "metadata": {},
   "outputs": [
    {
     "data": {
      "image/png": "[encoded data removed]",
      "text/plain": [
       "<Figure size 432x288 with 1 Axes>"
      ]
     },
     "metadata": {
      "needs_background": "light"
     },
     "output_type": "display_data"
    },
    {
     "data": {
      "image/png": "[encoded data removed]",
      "text/plain": [
       "<Figure size 432x288 with 1 Axes>"
      ]
     },
     "metadata": {
      "needs_background": "light"
     },
     "output_type": "display_data"
    }
   ],
   "source": [
    "plt.plot(history.history['accuracy'])\n",
    "plt.plot(history.history['val_accuracy'])\n",
    "plt.title('Model accuracy')\n",
    "plt.ylabel('Accuracy')\n",
    "plt.xlabel('Epoch')\n",
    "plt.legend(['Train', 'Test'], loc='upper left')\n",
    "plt.show()\n",
    "\n",
    "# Plot training & validation loss values\n",
    "plt.plot(history.history['loss'])\n",
    "plt.plot(history.history['val_loss'])\n",
    "plt.title('Model loss')\n",
    "plt.ylabel('Loss')\n",
    "plt.xlabel('Epoch')\n",
    "plt.legend(['Train', 'Test'], loc='upper right')\n",
    "plt.show()"
   ]
  },
  {
   "cell_type": "code",
   "execution_count": null,
   "metadata": {},
   "outputs": [],
   "source": [
    "model.evaluate(X_val,y_val) ###  Quick sanity check"
   ]
  },
  {
   "cell_type": "markdown",
   "metadata": {},
   "source": [
    "# Success - Doc2Vec Model"
   ]
  },
  {
   "cell_type": "code",
   "execution_count": 510,
   "metadata": {},
   "outputs": [],
   "source": [
    "from gensim.models.doc2vec import Doc2Vec, TaggedDocument\n",
    "from nltk.tokenize import word_tokenize"
   ]
  },
  {
   "cell_type": "code",
   "execution_count": 512,
   "metadata": {
    "collapsed": true
   },
   "outputs": [
    {
     "ename": "KeyboardInterrupt",
     "evalue": "",
     "output_type": "error",
     "traceback": [
      "\u001b[0;31m---------------------------------------------------------------------------\u001b[0m",
      "\u001b[0;31mKeyboardInterrupt\u001b[0m                         Traceback (most recent call last)",
      "\u001b[0;32m<ipython-input-512-39b2c2d03bb0>\u001b[0m in \u001b[0;36m<module>\u001b[0;34m\u001b[0m\n\u001b[1;32m      1\u001b[0m \u001b[0mdata\u001b[0m \u001b[0;34m=\u001b[0m \u001b[0mreddit_df_stopped\u001b[0m\u001b[0;34m.\u001b[0m\u001b[0mfull_text\u001b[0m\u001b[0;34m\u001b[0m\u001b[0;34m\u001b[0m\u001b[0m\n\u001b[0;32m----> 2\u001b[0;31m \u001b[0mtagged_data\u001b[0m \u001b[0;34m=\u001b[0m \u001b[0;34m[\u001b[0m\u001b[0mTaggedDocument\u001b[0m\u001b[0;34m(\u001b[0m\u001b[0mwords\u001b[0m\u001b[0;34m=\u001b[0m\u001b[0mword_tokenize\u001b[0m\u001b[0;34m(\u001b[0m\u001b[0m_d\u001b[0m\u001b[0;34m.\u001b[0m\u001b[0mlower\u001b[0m\u001b[0;34m(\u001b[0m\u001b[0;34m)\u001b[0m\u001b[0;34m)\u001b[0m\u001b[0;34m,\u001b[0m \u001b[0mtags\u001b[0m\u001b[0;34m=\u001b[0m\u001b[0;34m[\u001b[0m\u001b[0mstr\u001b[0m\u001b[0;34m(\u001b[0m\u001b[0mi\u001b[0m\u001b[0;34m)\u001b[0m\u001b[0;34m]\u001b[0m\u001b[0;34m)\u001b[0m \u001b[0;32mfor\u001b[0m \u001b[0mi\u001b[0m\u001b[0;34m,\u001b[0m \u001b[0m_d\u001b[0m \u001b[0;32min\u001b[0m \u001b[0menumerate\u001b[0m\u001b[0;34m(\u001b[0m\u001b[0mdata\u001b[0m\u001b[0;34m)\u001b[0m\u001b[0;34m]\u001b[0m\u001b[0;34m\u001b[0m\u001b[0;34m\u001b[0m\u001b[0m\n\u001b[0m",
      "\u001b[0;32m<ipython-input-512-39b2c2d03bb0>\u001b[0m in \u001b[0;36m<listcomp>\u001b[0;34m(.0)\u001b[0m\n\u001b[1;32m      1\u001b[0m \u001b[0mdata\u001b[0m \u001b[0;34m=\u001b[0m \u001b[0mreddit_df_stopped\u001b[0m\u001b[0;34m.\u001b[0m\u001b[0mfull_text\u001b[0m\u001b[0;34m\u001b[0m\u001b[0;34m\u001b[0m\u001b[0m\n\u001b[0;32m----> 2\u001b[0;31m \u001b[0mtagged_data\u001b[0m \u001b[0;34m=\u001b[0m \u001b[0;34m[\u001b[0m\u001b[0mTaggedDocument\u001b[0m\u001b[0;34m(\u001b[0m\u001b[0mwords\u001b[0m\u001b[0;34m=\u001b[0m\u001b[0mword_tokenize\u001b[0m\u001b[0;34m(\u001b[0m\u001b[0m_d\u001b[0m\u001b[0;34m.\u001b[0m\u001b[0mlower\u001b[0m\u001b[0;34m(\u001b[0m\u001b[0;34m)\u001b[0m\u001b[0;34m)\u001b[0m\u001b[0;34m,\u001b[0m \u001b[0mtags\u001b[0m\u001b[0;34m=\u001b[0m\u001b[0;34m[\u001b[0m\u001b[0mstr\u001b[0m\u001b[0;34m(\u001b[0m\u001b[0mi\u001b[0m\u001b[0;34m)\u001b[0m\u001b[0;34m]\u001b[0m\u001b[0;34m)\u001b[0m \u001b[0;32mfor\u001b[0m \u001b[0mi\u001b[0m\u001b[0;34m,\u001b[0m \u001b[0m_d\u001b[0m \u001b[0;32min\u001b[0m \u001b[0menumerate\u001b[0m\u001b[0;34m(\u001b[0m\u001b[0mdata\u001b[0m\u001b[0;34m)\u001b[0m\u001b[0;34m]\u001b[0m\u001b[0;34m\u001b[0m\u001b[0;34m\u001b[0m\u001b[0m\n\u001b[0m",
      "\u001b[0;32m~/anaconda3/lib/python3.7/site-packages/nltk/tokenize/__init__.py\u001b[0m in \u001b[0;36mword_tokenize\u001b[0;34m(text, language, preserve_line)\u001b[0m\n\u001b[1;32m    144\u001b[0m     \u001b[0msentences\u001b[0m \u001b[0;34m=\u001b[0m \u001b[0;34m[\u001b[0m\u001b[0mtext\u001b[0m\u001b[0;34m]\u001b[0m \u001b[0;32mif\u001b[0m \u001b[0mpreserve_line\u001b[0m \u001b[0;32melse\u001b[0m \u001b[0msent_tokenize\u001b[0m\u001b[0;34m(\u001b[0m\u001b[0mtext\u001b[0m\u001b[0;34m,\u001b[0m \u001b[0mlanguage\u001b[0m\u001b[0;34m)\u001b[0m\u001b[0;34m\u001b[0m\u001b[0;34m\u001b[0m\u001b[0m\n\u001b[1;32m    145\u001b[0m     return [\n\u001b[0;32m--> 146\u001b[0;31m         \u001b[0mtoken\u001b[0m \u001b[0;32mfor\u001b[0m \u001b[0msent\u001b[0m \u001b[0;32min\u001b[0m \u001b[0msentences\u001b[0m \u001b[0;32mfor\u001b[0m \u001b[0mtoken\u001b[0m \u001b[0;32min\u001b[0m \u001b[0m_treebank_word_tokenizer\u001b[0m\u001b[0;34m.\u001b[0m\u001b[0mtokenize\u001b[0m\u001b[0;34m(\u001b[0m\u001b[0msent\u001b[0m\u001b[0;34m)\u001b[0m\u001b[0;34m\u001b[0m\u001b[0;34m\u001b[0m\u001b[0m\n\u001b[0m\u001b[1;32m    147\u001b[0m     ]\n",
      "\u001b[0;32m~/anaconda3/lib/python3.7/site-packages/nltk/tokenize/__init__.py\u001b[0m in \u001b[0;36m<listcomp>\u001b[0;34m(.0)\u001b[0m\n\u001b[1;32m    144\u001b[0m     \u001b[0msentences\u001b[0m \u001b[0;34m=\u001b[0m \u001b[0;34m[\u001b[0m\u001b[0mtext\u001b[0m\u001b[0;34m]\u001b[0m \u001b[0;32mif\u001b[0m \u001b[0mpreserve_line\u001b[0m \u001b[0;32melse\u001b[0m \u001b[0msent_tokenize\u001b[0m\u001b[0;34m(\u001b[0m\u001b[0mtext\u001b[0m\u001b[0;34m,\u001b[0m \u001b[0mlanguage\u001b[0m\u001b[0;34m)\u001b[0m\u001b[0;34m\u001b[0m\u001b[0;34m\u001b[0m\u001b[0m\n\u001b[1;32m    145\u001b[0m     return [\n\u001b[0;32m--> 146\u001b[0;31m         \u001b[0mtoken\u001b[0m \u001b[0;32mfor\u001b[0m \u001b[0msent\u001b[0m \u001b[0;32min\u001b[0m \u001b[0msentences\u001b[0m \u001b[0;32mfor\u001b[0m \u001b[0mtoken\u001b[0m \u001b[0;32min\u001b[0m \u001b[0m_treebank_word_tokenizer\u001b[0m\u001b[0;34m.\u001b[0m\u001b[0mtokenize\u001b[0m\u001b[0;34m(\u001b[0m\u001b[0msent\u001b[0m\u001b[0;34m)\u001b[0m\u001b[0;34m\u001b[0m\u001b[0;34m\u001b[0m\u001b[0m\n\u001b[0m\u001b[1;32m    147\u001b[0m     ]\n",
      "\u001b[0;32m~/anaconda3/lib/python3.7/site-packages/nltk/tokenize/treebank.py\u001b[0m in \u001b[0;36mtokenize\u001b[0;34m(self, text, convert_parentheses, return_str)\u001b[0m\n\u001b[1;32m    117\u001b[0m     \u001b[0;32mdef\u001b[0m \u001b[0mtokenize\u001b[0m\u001b[0;34m(\u001b[0m\u001b[0mself\u001b[0m\u001b[0;34m,\u001b[0m \u001b[0mtext\u001b[0m\u001b[0;34m,\u001b[0m \u001b[0mconvert_parentheses\u001b[0m\u001b[0;34m=\u001b[0m\u001b[0;32mFalse\u001b[0m\u001b[0;34m,\u001b[0m \u001b[0mreturn_str\u001b[0m\u001b[0;34m=\u001b[0m\u001b[0;32mFalse\u001b[0m\u001b[0;34m)\u001b[0m\u001b[0;34m:\u001b[0m\u001b[0;34m\u001b[0m\u001b[0;34m\u001b[0m\u001b[0m\n\u001b[1;32m    118\u001b[0m         \u001b[0;32mfor\u001b[0m \u001b[0mregexp\u001b[0m\u001b[0;34m,\u001b[0m \u001b[0msubstitution\u001b[0m \u001b[0;32min\u001b[0m \u001b[0mself\u001b[0m\u001b[0;34m.\u001b[0m\u001b[0mSTARTING_QUOTES\u001b[0m\u001b[0;34m:\u001b[0m\u001b[0;34m\u001b[0m\u001b[0;34m\u001b[0m\u001b[0m\n\u001b[0;32m--> 119\u001b[0;31m             \u001b[0mtext\u001b[0m \u001b[0;34m=\u001b[0m \u001b[0mregexp\u001b[0m\u001b[0;34m.\u001b[0m\u001b[0msub\u001b[0m\u001b[0;34m(\u001b[0m\u001b[0msubstitution\u001b[0m\u001b[0;34m,\u001b[0m \u001b[0mtext\u001b[0m\u001b[0;34m)\u001b[0m\u001b[0;34m\u001b[0m\u001b[0;34m\u001b[0m\u001b[0m\n\u001b[0m\u001b[1;32m    120\u001b[0m \u001b[0;34m\u001b[0m\u001b[0m\n\u001b[1;32m    121\u001b[0m         \u001b[0;32mfor\u001b[0m \u001b[0mregexp\u001b[0m\u001b[0;34m,\u001b[0m \u001b[0msubstitution\u001b[0m \u001b[0;32min\u001b[0m \u001b[0mself\u001b[0m\u001b[0;34m.\u001b[0m\u001b[0mPUNCTUATION\u001b[0m\u001b[0;34m:\u001b[0m\u001b[0;34m\u001b[0m\u001b[0;34m\u001b[0m\u001b[0m\n",
      "\u001b[0;32m~/anaconda3/lib/python3.7/re.py\u001b[0m in \u001b[0;36m_subx\u001b[0;34m(pattern, template)\u001b[0m\n\u001b[1;32m    305\u001b[0m     \u001b[0;32mreturn\u001b[0m \u001b[0msre_parse\u001b[0m\u001b[0;34m.\u001b[0m\u001b[0mexpand_template\u001b[0m\u001b[0;34m(\u001b[0m\u001b[0mtemplate\u001b[0m\u001b[0;34m,\u001b[0m \u001b[0mmatch\u001b[0m\u001b[0;34m)\u001b[0m\u001b[0;34m\u001b[0m\u001b[0;34m\u001b[0m\u001b[0m\n\u001b[1;32m    306\u001b[0m \u001b[0;34m\u001b[0m\u001b[0m\n\u001b[0;32m--> 307\u001b[0;31m \u001b[0;32mdef\u001b[0m \u001b[0m_subx\u001b[0m\u001b[0;34m(\u001b[0m\u001b[0mpattern\u001b[0m\u001b[0;34m,\u001b[0m \u001b[0mtemplate\u001b[0m\u001b[0;34m)\u001b[0m\u001b[0;34m:\u001b[0m\u001b[0;34m\u001b[0m\u001b[0;34m\u001b[0m\u001b[0m\n\u001b[0m\u001b[1;32m    308\u001b[0m     \u001b[0;31m# internal: Pattern.sub/subn implementation helper\u001b[0m\u001b[0;34m\u001b[0m\u001b[0;34m\u001b[0m\u001b[0;34m\u001b[0m\u001b[0m\n\u001b[1;32m    309\u001b[0m     \u001b[0mtemplate\u001b[0m \u001b[0;34m=\u001b[0m \u001b[0m_compile_repl\u001b[0m\u001b[0;34m(\u001b[0m\u001b[0mtemplate\u001b[0m\u001b[0;34m,\u001b[0m \u001b[0mpattern\u001b[0m\u001b[0;34m)\u001b[0m\u001b[0;34m\u001b[0m\u001b[0;34m\u001b[0m\u001b[0m\n",
      "\u001b[0;31mKeyboardInterrupt\u001b[0m: "
     ]
    }
   ],
   "source": [
    "data = reddit_df_stopped.full_text\n",
    "tagged_data = [TaggedDocument(words=word_tokenize(_d.lower()), tags=[str(i)]) for i, _d in enumerate(data)]"
   ]
  },
  {
   "cell_type": "code",
   "execution_count": 480,
   "metadata": {
    "scrolled": true
   },
   "outputs": [
    {
     "name": "stderr",
     "output_type": "stream",
     "text": [
      "/Users/reuben/anaconda3/lib/python3.7/site-packages/gensim/models/doc2vec.py:574: UserWarning: The parameter `size` is deprecated, will be removed in 4.0.0, use `vector_size` instead.\n",
      "  warnings.warn(\"The parameter `size` is deprecated, will be removed in 4.0.0, use `vector_size` instead.\")\n"
     ]
    },
    {
     "name": "stdout",
     "output_type": "stream",
     "text": [
      "iteration 0\n"
     ]
    },
    {
     "name": "stderr",
     "output_type": "stream",
     "text": [
      "/Users/reuben/anaconda3/lib/python3.7/site-packages/ipykernel_launcher.py:17: DeprecationWarning: Call to deprecated `iter` (Attribute will be removed in 4.0.0, use self.epochs instead).\n"
     ]
    },
    {
     "name": "stdout",
     "output_type": "stream",
     "text": [
      "iteration 1\n",
      "iteration 2\n",
      "iteration 3\n",
      "iteration 4\n",
      "iteration 5\n",
      "iteration 6\n",
      "iteration 7\n",
      "iteration 8\n",
      "iteration 9\n",
      "iteration 10\n",
      "iteration 11\n",
      "iteration 12\n",
      "iteration 13\n",
      "iteration 14\n",
      "iteration 15\n",
      "iteration 16\n",
      "iteration 17\n",
      "iteration 18\n",
      "iteration 19\n",
      "iteration 20\n",
      "iteration 21\n",
      "iteration 22\n",
      "iteration 23\n",
      "iteration 24\n",
      "iteration 25\n",
      "iteration 26\n",
      "iteration 27\n",
      "iteration 28\n",
      "iteration 29\n",
      "iteration 30\n",
      "iteration 31\n",
      "iteration 32\n",
      "iteration 33\n",
      "iteration 34\n",
      "iteration 35\n",
      "iteration 36\n",
      "iteration 37\n",
      "iteration 38\n",
      "iteration 39\n",
      "iteration 40\n",
      "iteration 41\n",
      "iteration 42\n",
      "iteration 43\n",
      "iteration 44\n",
      "iteration 45\n",
      "iteration 46\n",
      "iteration 47\n",
      "iteration 48\n",
      "iteration 49\n",
      "iteration 50\n",
      "iteration 51\n",
      "iteration 52\n",
      "iteration 53\n",
      "iteration 54\n",
      "iteration 55\n",
      "iteration 56\n",
      "iteration 57\n",
      "iteration 58\n",
      "iteration 59\n",
      "iteration 60\n",
      "iteration 61\n",
      "iteration 62\n",
      "iteration 63\n",
      "iteration 64\n",
      "iteration 65\n",
      "iteration 66\n",
      "iteration 67\n",
      "iteration 68\n",
      "iteration 69\n",
      "iteration 70\n",
      "iteration 71\n",
      "iteration 72\n",
      "iteration 73\n",
      "iteration 74\n",
      "iteration 75\n",
      "iteration 76\n",
      "iteration 77\n",
      "iteration 78\n",
      "iteration 79\n",
      "iteration 80\n",
      "iteration 81\n",
      "iteration 82\n",
      "iteration 83\n",
      "iteration 84\n",
      "iteration 85\n",
      "iteration 86\n",
      "iteration 87\n",
      "iteration 88\n",
      "iteration 89\n",
      "iteration 90\n",
      "iteration 91\n",
      "iteration 92\n",
      "iteration 93\n",
      "iteration 94\n",
      "iteration 95\n",
      "iteration 96\n",
      "iteration 97\n",
      "iteration 98\n",
      "iteration 99\n",
      "Model Saved\n"
     ]
    }
   ],
   "source": [
    "max_epochs = 100\n",
    "vec_size = 20\n",
    "alpha = 0.025\n",
    "\n",
    "model = Doc2Vec(size=vec_size,\n",
    "                alpha=alpha, \n",
    "                min_alpha=0.00025,\n",
    "                min_count=1,\n",
    "                dm =1)\n",
    "  \n",
    "model.build_vocab(tagged_data)\n",
    "\n",
    "for epoch in range(max_epochs):\n",
    "    print('iteration {0}'.format(epoch))\n",
    "    model.train(tagged_data,\n",
    "                total_examples=model.corpus_count,\n",
    "                epochs=model.iter)\n",
    "    # decrease the learning rate\n",
    "    model.alpha -= 0.0002\n",
    "    # fix the learning rate, no decay\n",
    "    model.min_alpha = model.alpha\n",
    "\n",
    "model.save(\"d2v.model\")\n",
    "print(\"Model Saved\")"
   ]
  },
  {
   "cell_type": "markdown",
   "metadata": {},
   "source": [
    "# Calculating probability of what category you like based on tweets!"
   ]
  },
  {
   "cell_type": "code",
   "execution_count": 674,
   "metadata": {},
   "outputs": [],
   "source": [
    "def RedditCategoryPredictor():\n",
    "    twitter_handle = input(\"What is your Twitter Handle?\")\n",
    "    likes = get_liked_tweets(twitter_handle)\n",
    "    print(\"Grabbed {} likes\".format(len(likes)))     \n",
    "    \n",
    "    joined_words = []\n",
    "    for i in set(likes):\n",
    "        joined_words.append(\"\".join(i))\n",
    "    posts_df = pd.DataFrame(joined_words)\n",
    "    posts_df['full_text'] = posts_df[0].apply(lambda x: re.sub(r'[^\\w\\s]', '', x))\n",
    "    posts_df['full_text'] = posts_df['full_text'].apply(lambda x: re.sub(r'[\\d]', '', x))\n",
    "    posts_df['final'] = posts_df['full_text'].apply(lambda x: x.split())\n",
    "\n",
    "    dictionary = corpora.Dictionary(posts_df['final'])\n",
    "    dictionary.filter_extremes(no_below=10, no_above=0.66, keep_n=20000)    \n",
    "    tokens =list(flatten(posts_df['final']))\n",
    "    new_vector = model.infer_vector(tokens)\n",
    "    sims = model.docvecs.most_similar([new_vector],topn=50)\n",
    "    final_results = []\n",
    "    for i in sims:\n",
    "        final_results.append(reddit_df_stopped.iloc[int(i[0])][0])\n",
    "    cnt = Counter()\n",
    "    for i in final_results:\n",
    "        cnt[i] += 1\n",
    "    print(max(cnt))\n",
    "    return max(cnt)\n"
   ]
  },
  {
   "cell_type": "code",
   "execution_count": 675,
   "metadata": {
    "scrolled": true
   },
   "outputs": [
    {
     "name": "stdout",
     "output_type": "stream",
     "text": [
      "What is your Twitter Handle?techcrunch\n",
      "<Response [200]>\n",
      "Grabbed 3745 likes\n",
      "Technology\n"
     ]
    }
   ],
   "source": [
    "techcrunch = RedditCategoryPredictor()"
   ]
  },
  {
   "cell_type": "markdown",
   "metadata": {},
   "source": [
    "# LDA and Topic Modeling"
   ]
  },
  {
   "cell_type": "code",
   "execution_count": 682,
   "metadata": {},
   "outputs": [
    {
     "data": {
      "text/plain": [
       "[['people', 'pooped', 'yet', 'still', 'holding', 'last', 'years', 'shit']]"
      ]
     },
     "execution_count": 682,
     "metadata": {},
     "output_type": "execute_result"
    }
   ],
   "source": [
    "list(reddit_df_stopped.tokens)[:1]"
   ]
  },
  {
   "cell_type": "code",
   "execution_count": 685,
   "metadata": {},
   "outputs": [],
   "source": [
    "texts = list(reddit_df_stopped.tokens)\n",
    "corpus = [dictionary.doc2bow(text) for text in texts]"
   ]
  },
  {
   "cell_type": "code",
   "execution_count": 691,
   "metadata": {},
   "outputs": [],
   "source": [
    "lda_model = gensim.models.ldamodel.LdaModel(corpus=corpus,\n",
    "                                           id2word=dictionary,\n",
    "                                           num_topics=20, \n",
    "                                           random_state=100,\n",
    "                                           update_every=1,\n",
    "                                           chunksize=100,\n",
    "                                           passes=10,\n",
    "                                           alpha='auto',\n",
    "                                           per_word_topics=True)"
   ]
  },
  {
   "cell_type": "code",
   "execution_count": 699,
   "metadata": {},
   "outputs": [
    {
     "name": "stdout",
     "output_type": "stream",
     "text": [
      "\n",
      "Perplexity:  -13.49838105430777\n",
      "\n",
      "Coherence Score:  nan\n"
     ]
    }
   ],
   "source": [
    "# Compute Perplexity\n",
    "print('\\nPerplexity: ', lda_model.log_perplexity(corpus))  # a measure of how good the model is. lower the better.\n",
    "\n",
    "# Compute Coherence Score\n",
    "coherence_model_lda = CoherenceModel(model=lda_model, texts=texts, dictionary=dictionary, coherence='c_v')\n",
    "coherence_lda = coherence_model_lda.get_coherence()\n",
    "print('\\nCoherence Score: ', coherence_lda)"
   ]
  },
  {
   "cell_type": "code",
   "execution_count": 702,
   "metadata": {
    "collapsed": true
   },
   "outputs": [
    {
     "name": "stderr",
     "output_type": "stream",
     "text": [
      "/Users/reuben/anaconda3/lib/python3.7/site-packages/pyLDAvis/_prepare.py:257: FutureWarning: Sorting because non-concatenation axis is not aligned. A future version\n",
      "of pandas will change to not sort by default.\n",
      "\n",
      "To accept the future behavior, pass 'sort=False'.\n",
      "\n",
      "To retain the current behavior and silence the warning, pass 'sort=True'.\n",
      "\n",
      "  return pd.concat([default_term_info] + list(topic_dfs))\n"
     ]
    },
    {
     "data": {
      "text/html": [
       "\n",
       "<link rel=\"stylesheet\" type=\"text/css\" href=\"https://cdn.rawgit.com/bmabey/pyLDAvis/files/ldavis.v1.0.0.css\">\n",
       "\n",
       "\n",
       "<div id=\"ldavis_el789791138558322566587401590\"></div>\n",
       "<script type=\"text/javascript\">\n",
       "\n",
       "var ldavis_el789791138558322566587401590_data = {\"mdsDat\": {\"x\": [0.18930274857587187, -0.28210581665745826, -0.16594830804836763, -0.0549297369376373, 0.04126977572022272, 0.027373348424564438, -0.03501766347118516, 0.08954965833217092, 0.10633740391675835, 0.04087000281933173, -0.039628564063699, 0.13570846491061012, -0.07514382665596457, 0.08269281203014169, -0.03533443121583155, 0.0005816732142673395, 0.038774996433185285, -0.0015198720265056143, 0.10896233715204913, -0.17179500245252516], \"y\": [-0.3625770249306667, -0.10178789751696565, -0.044774989142687294, -0.1028464517205893, -0.0018445197354576219, -0.0027634032011758496, -0.15341133922579359, 0.04945238099221456, 0.00041445973092173947, 0.03981804623128475, 0.0510986119436905, 0.02099728275527474, 0.08467399210841793, 0.09011404823339426, 0.06130785658701092, 0.09029895744501325, 0.08988244669644693, 0.08881619082681753, 0.1071722246173682, -0.004040872694518955], \"topics\": [1, 2, 3, 4, 5, 6, 7, 8, 9, 10, 11, 12, 13, 14, 15, 16, 17, 18, 19, 20], \"cluster\": [1, 1, 1, 1, 1, 1, 1, 1, 1, 1, 1, 1, 1, 1, 1, 1, 1, 1, 1, 1], \"Freq\": [9.930891990661621, 7.715639591217041, 7.323078632354736, 7.223682880401611, 6.579432487487793, 6.5205230712890625, 6.248676300048828, 5.366909027099609, 5.303155899047852, 5.204773426055908, 4.833316326141357, 4.7608561515808105, 3.877150297164917, 3.6350626945495605, 3.5709164142608643, 3.406919479370117, 2.937725067138672, 2.7803285121917725, 2.73873233795166, 0.04222504049539566]}, \"tinfo\": {\"Category\": [\"Default\", \"Default\", \"Default\", \"Default\", \"Default\", \"Default\", \"Default\", \"Default\", \"Default\", \"Default\", \"Default\", \"Default\", \"Default\", \"Default\", \"Default\", \"Default\", \"Default\", \"Default\", \"Default\", \"Default\", \"Default\", \"Default\", \"Default\", \"Default\", \"Default\", \"Default\", \"Default\", \"Default\", \"Default\", \"Default\", \"Topic1\", \"Topic1\", \"Topic1\", \"Topic1\", \"Topic1\", \"Topic1\", \"Topic1\", \"Topic1\", \"Topic1\", \"Topic1\", \"Topic1\", \"Topic1\", \"Topic1\", \"Topic1\", \"Topic1\", \"Topic1\", \"Topic1\", \"Topic1\", \"Topic1\", \"Topic1\", \"Topic1\", \"Topic1\", \"Topic1\", \"Topic1\", \"Topic1\", \"Topic1\", \"Topic1\", \"Topic1\", \"Topic1\", \"Topic1\", \"Topic1\", \"Topic2\", \"Topic2\", \"Topic2\", \"Topic2\", \"Topic2\", \"Topic2\", \"Topic2\", \"Topic2\", \"Topic2\", \"Topic2\", \"Topic2\", \"Topic2\", \"Topic2\", \"Topic2\", \"Topic2\", \"Topic2\", \"Topic2\", \"Topic2\", \"Topic2\", \"Topic2\", \"Topic2\", \"Topic2\", \"Topic2\", \"Topic2\", \"Topic2\", \"Topic2\", \"Topic2\", \"Topic2\", \"Topic2\", \"Topic2\", \"Topic2\", \"Topic3\", \"Topic3\", \"Topic3\", \"Topic3\", \"Topic3\", \"Topic3\", \"Topic3\", \"Topic3\", \"Topic3\", \"Topic3\", \"Topic3\", \"Topic3\", \"Topic3\", \"Topic3\", \"Topic3\", \"Topic3\", \"Topic3\", \"Topic3\", \"Topic3\", \"Topic3\", \"Topic3\", \"Topic3\", \"Topic3\", \"Topic3\", \"Topic3\", \"Topic3\", \"Topic3\", \"Topic3\", \"Topic3\", \"Topic3\", \"Topic4\", \"Topic4\", \"Topic4\", \"Topic4\", \"Topic4\", \"Topic4\", \"Topic4\", \"Topic4\", \"Topic4\", \"Topic4\", \"Topic4\", \"Topic4\", \"Topic4\", \"Topic4\", \"Topic4\", \"Topic4\", \"Topic4\", \"Topic4\", \"Topic4\", \"Topic4\", \"Topic4\", \"Topic4\", \"Topic4\", \"Topic4\", \"Topic4\", \"Topic4\", \"Topic4\", \"Topic4\", \"Topic4\", \"Topic4\", \"Topic4\", \"Topic4\", \"Topic4\", \"Topic4\", \"Topic4\", \"Topic5\", \"Topic5\", \"Topic5\", \"Topic5\", \"Topic5\", \"Topic5\", \"Topic5\", \"Topic5\", \"Topic5\", \"Topic5\", \"Topic5\", \"Topic5\", \"Topic5\", \"Topic5\", \"Topic5\", \"Topic5\", \"Topic5\", \"Topic5\", \"Topic5\", \"Topic5\", \"Topic5\", \"Topic5\", \"Topic5\", \"Topic5\", \"Topic5\", \"Topic5\", \"Topic5\", \"Topic5\", \"Topic5\", \"Topic5\", \"Topic5\", \"Topic5\", \"Topic5\", \"Topic5\", \"Topic6\", \"Topic6\", \"Topic6\", \"Topic6\", \"Topic6\", \"Topic6\", \"Topic6\", \"Topic6\", \"Topic6\", \"Topic6\", \"Topic6\", \"Topic6\", \"Topic6\", \"Topic6\", \"Topic6\", \"Topic6\", \"Topic6\", \"Topic6\", \"Topic6\", \"Topic6\", \"Topic6\", \"Topic6\", \"Topic6\", \"Topic6\", \"Topic6\", \"Topic6\", \"Topic6\", \"Topic6\", \"Topic6\", \"Topic6\", \"Topic6\", \"Topic7\", \"Topic7\", \"Topic7\", \"Topic7\", \"Topic7\", \"Topic7\", \"Topic7\", \"Topic7\", \"Topic7\", \"Topic7\", \"Topic7\", \"Topic7\", \"Topic7\", \"Topic7\", \"Topic7\", \"Topic7\", \"Topic7\", \"Topic7\", \"Topic7\", \"Topic7\", \"Topic7\", \"Topic7\", \"Topic7\", \"Topic7\", \"Topic7\", \"Topic7\", \"Topic7\", \"Topic7\", \"Topic7\", \"Topic7\", \"Topic7\", \"Topic7\", \"Topic7\", \"Topic7\", \"Topic7\", \"Topic7\", \"Topic7\", \"Topic7\", \"Topic7\", \"Topic7\", \"Topic8\", \"Topic8\", \"Topic8\", \"Topic8\", \"Topic8\", \"Topic8\", \"Topic8\", \"Topic8\", \"Topic8\", \"Topic8\", \"Topic8\", \"Topic8\", \"Topic8\", \"Topic8\", \"Topic8\", \"Topic8\", \"Topic8\", \"Topic8\", \"Topic8\", \"Topic8\", \"Topic8\", \"Topic8\", \"Topic8\", \"Topic8\", \"Topic8\", \"Topic8\", \"Topic8\", \"Topic8\", \"Topic8\", \"Topic8\", \"Topic8\", \"Topic8\", \"Topic8\", \"Topic8\", \"Topic8\", \"Topic8\", \"Topic9\", \"Topic9\", \"Topic9\", \"Topic9\", \"Topic9\", \"Topic9\", \"Topic9\", \"Topic9\", \"Topic9\", \"Topic9\", \"Topic9\", \"Topic9\", \"Topic9\", \"Topic9\", \"Topic9\", \"Topic9\", \"Topic9\", \"Topic9\", \"Topic9\", \"Topic9\", \"Topic9\", \"Topic9\", \"Topic9\", \"Topic9\", \"Topic9\", \"Topic9\", \"Topic9\", \"Topic9\", \"Topic9\", \"Topic9\", \"Topic9\", \"Topic9\", \"Topic9\", \"Topic9\", \"Topic9\", \"Topic9\", \"Topic9\", \"Topic9\", \"Topic9\", \"Topic9\", \"Topic9\", \"Topic9\", \"Topic9\", \"Topic9\", \"Topic9\", \"Topic9\", \"Topic9\", \"Topic10\", \"Topic10\", \"Topic10\", \"Topic10\", \"Topic10\", \"Topic10\", \"Topic10\", \"Topic10\", \"Topic10\", \"Topic10\", \"Topic10\", \"Topic10\", \"Topic10\", \"Topic10\", \"Topic10\", \"Topic10\", \"Topic10\", \"Topic10\", \"Topic10\", \"Topic10\", \"Topic10\", \"Topic10\", \"Topic10\", \"Topic10\", \"Topic10\", \"Topic10\", \"Topic10\", \"Topic10\", \"Topic10\", \"Topic10\", \"Topic10\", \"Topic10\", \"Topic10\", \"Topic10\", \"Topic11\", \"Topic11\", \"Topic11\", \"Topic11\", \"Topic11\", \"Topic11\", \"Topic11\", \"Topic11\", \"Topic11\", \"Topic11\", \"Topic11\", \"Topic11\", \"Topic11\", \"Topic11\", \"Topic11\", \"Topic11\", \"Topic11\", \"Topic11\", \"Topic11\", \"Topic11\", \"Topic11\", \"Topic11\", \"Topic11\", \"Topic11\", \"Topic11\", \"Topic11\", \"Topic11\", \"Topic11\", \"Topic11\", \"Topic11\", \"Topic11\", \"Topic11\", \"Topic11\", \"Topic11\", \"Topic11\", \"Topic11\", \"Topic11\", \"Topic11\", \"Topic11\", \"Topic11\", \"Topic11\", \"Topic11\", \"Topic11\", \"Topic12\", \"Topic12\", \"Topic12\", \"Topic12\", \"Topic12\", \"Topic12\", \"Topic12\", \"Topic12\", \"Topic12\", \"Topic12\", \"Topic12\", \"Topic12\", \"Topic12\", \"Topic12\", \"Topic12\", \"Topic12\", \"Topic12\", \"Topic12\", \"Topic12\", \"Topic12\", \"Topic12\", \"Topic12\", \"Topic12\", \"Topic12\", \"Topic12\", \"Topic12\", \"Topic12\", \"Topic12\", \"Topic12\", \"Topic12\", \"Topic12\", \"Topic12\", \"Topic12\", \"Topic12\", \"Topic12\", \"Topic12\", \"Topic12\", \"Topic12\", \"Topic13\", \"Topic13\", \"Topic13\", \"Topic13\", \"Topic13\", \"Topic13\", \"Topic13\", \"Topic13\", \"Topic13\", \"Topic13\", \"Topic13\", \"Topic13\", \"Topic13\", \"Topic13\", \"Topic13\", \"Topic13\", \"Topic13\", \"Topic13\", \"Topic13\", \"Topic13\", \"Topic13\", \"Topic13\", \"Topic13\", \"Topic13\", \"Topic13\", \"Topic13\", \"Topic13\", \"Topic13\", \"Topic13\", \"Topic13\", \"Topic13\", \"Topic13\", \"Topic13\", \"Topic13\", \"Topic13\", \"Topic13\", \"Topic13\", \"Topic13\", \"Topic13\", \"Topic13\", \"Topic13\", \"Topic13\", \"Topic13\", \"Topic13\", \"Topic14\", \"Topic14\", \"Topic14\", \"Topic14\", \"Topic14\", \"Topic14\", \"Topic14\", \"Topic14\", \"Topic14\", \"Topic14\", \"Topic14\", \"Topic14\", \"Topic14\", \"Topic14\", \"Topic14\", \"Topic14\", \"Topic14\", \"Topic14\", \"Topic14\", \"Topic14\", \"Topic14\", \"Topic14\", \"Topic14\", \"Topic14\", \"Topic14\", \"Topic14\", \"Topic14\", \"Topic14\", \"Topic14\", \"Topic14\", \"Topic14\", \"Topic14\", \"Topic14\", \"Topic14\", \"Topic14\", \"Topic14\", \"Topic14\", \"Topic14\", \"Topic14\", \"Topic14\", \"Topic14\", \"Topic14\", \"Topic14\", \"Topic14\", \"Topic14\", \"Topic14\", \"Topic14\", \"Topic15\", \"Topic15\", \"Topic15\", \"Topic15\", \"Topic15\", \"Topic15\", \"Topic15\", \"Topic15\", \"Topic15\", \"Topic15\", \"Topic15\", \"Topic15\", \"Topic15\", \"Topic15\", \"Topic15\", \"Topic15\", \"Topic15\", \"Topic15\", \"Topic15\", \"Topic15\", \"Topic15\", \"Topic15\", \"Topic15\", \"Topic15\", \"Topic15\", \"Topic15\", \"Topic15\", \"Topic15\", \"Topic15\", \"Topic15\", \"Topic15\", \"Topic15\", \"Topic15\", \"Topic15\", \"Topic15\", \"Topic15\", \"Topic15\", \"Topic15\", \"Topic15\", \"Topic15\", \"Topic15\", \"Topic15\", \"Topic15\", \"Topic15\", \"Topic15\", \"Topic15\", \"Topic15\", \"Topic15\", \"Topic15\", \"Topic15\", \"Topic15\", \"Topic15\", \"Topic15\", \"Topic15\", \"Topic15\", \"Topic15\", \"Topic15\", \"Topic15\", \"Topic15\", \"Topic15\", \"Topic16\", \"Topic16\", \"Topic16\", \"Topic16\", \"Topic16\", \"Topic16\", \"Topic16\", \"Topic16\", \"Topic16\", \"Topic16\", \"Topic16\", \"Topic16\", \"Topic16\", \"Topic16\", \"Topic16\", \"Topic16\", \"Topic16\", \"Topic16\", \"Topic16\", \"Topic16\", \"Topic16\", \"Topic16\", \"Topic16\", \"Topic16\", \"Topic16\", \"Topic16\", \"Topic16\", \"Topic16\", \"Topic16\", \"Topic16\", \"Topic16\", \"Topic16\", \"Topic16\", \"Topic16\", \"Topic16\", \"Topic16\", \"Topic16\", \"Topic16\", \"Topic16\", \"Topic16\", \"Topic16\", \"Topic16\", \"Topic16\", \"Topic16\", \"Topic16\", \"Topic16\", \"Topic16\", \"Topic16\", \"Topic16\", \"Topic17\", \"Topic17\", \"Topic17\", \"Topic17\", \"Topic17\", \"Topic17\", \"Topic17\", \"Topic17\", \"Topic17\", \"Topic17\", \"Topic17\", \"Topic17\", \"Topic17\", \"Topic17\", \"Topic17\", \"Topic17\", \"Topic17\", \"Topic17\", \"Topic17\", \"Topic17\", \"Topic17\", \"Topic17\", \"Topic17\", \"Topic17\", \"Topic17\", \"Topic17\", \"Topic17\", \"Topic17\", \"Topic17\", \"Topic17\", \"Topic17\", \"Topic17\", \"Topic17\", \"Topic17\", \"Topic17\", \"Topic17\", \"Topic17\", \"Topic17\", \"Topic17\", \"Topic17\", \"Topic17\", \"Topic17\", \"Topic17\", \"Topic17\", \"Topic17\", \"Topic17\", \"Topic17\", \"Topic17\", \"Topic17\", \"Topic17\", \"Topic17\", \"Topic17\", \"Topic17\", \"Topic17\", \"Topic17\", \"Topic17\", \"Topic17\", \"Topic17\", \"Topic17\", \"Topic17\", \"Topic18\", \"Topic18\", \"Topic18\", \"Topic18\", \"Topic18\", \"Topic18\", \"Topic18\", \"Topic18\", \"Topic18\", \"Topic18\", \"Topic18\", \"Topic18\", \"Topic18\", \"Topic18\", \"Topic18\", \"Topic18\", \"Topic18\", \"Topic18\", \"Topic18\", \"Topic18\", \"Topic18\", \"Topic18\", \"Topic18\", \"Topic18\", \"Topic18\", \"Topic18\", \"Topic18\", \"Topic18\", \"Topic18\", \"Topic18\", \"Topic18\", \"Topic18\", \"Topic18\", \"Topic18\", \"Topic18\", \"Topic18\", \"Topic18\", \"Topic18\", \"Topic18\", \"Topic18\", \"Topic18\", \"Topic18\", \"Topic18\", \"Topic18\", \"Topic18\", \"Topic18\", \"Topic18\", \"Topic18\", \"Topic18\", \"Topic18\", \"Topic18\", \"Topic18\", \"Topic18\", \"Topic18\", \"Topic19\", \"Topic19\", \"Topic19\", \"Topic19\", \"Topic19\", \"Topic19\", \"Topic19\", \"Topic19\", \"Topic19\", \"Topic19\", \"Topic19\", \"Topic19\", \"Topic19\", \"Topic19\", \"Topic19\", \"Topic19\", \"Topic19\", \"Topic19\", \"Topic19\", \"Topic19\", \"Topic19\", \"Topic19\", \"Topic19\", \"Topic19\", \"Topic19\", \"Topic19\", \"Topic19\", \"Topic19\", \"Topic19\", \"Topic19\", \"Topic19\", \"Topic19\", \"Topic19\", \"Topic19\", \"Topic19\", \"Topic19\", \"Topic19\", \"Topic19\", \"Topic19\", \"Topic19\", \"Topic19\", \"Topic19\", \"Topic19\", \"Topic19\", \"Topic19\", \"Topic19\", \"Topic19\", \"Topic19\", \"Topic19\", \"Topic19\", \"Topic19\", \"Topic19\", \"Topic19\", \"Topic19\", \"Topic19\", \"Topic19\", \"Topic19\", \"Topic19\", \"Topic19\", \"Topic19\", \"Topic20\", \"Topic20\", \"Topic20\", \"Topic20\", \"Topic20\", \"Topic20\", \"Topic20\", \"Topic20\", \"Topic20\", \"Topic20\", \"Topic20\", \"Topic20\", \"Topic20\", \"Topic20\", \"Topic20\", \"Topic20\", \"Topic20\", \"Topic20\", \"Topic20\", \"Topic20\", \"Topic20\", \"Topic20\", \"Topic20\", \"Topic20\", \"Topic20\", \"Topic20\", \"Topic20\", \"Topic20\", \"Topic20\", \"Topic20\", \"Topic20\", \"Topic20\", \"Topic20\", \"Topic20\", \"Topic20\", \"Topic20\", \"Topic20\", \"Topic20\", \"Topic20\", \"Topic20\", \"Topic20\", \"Topic20\", \"Topic20\", \"Topic20\", \"Topic20\", \"Topic20\", \"Topic20\", \"Topic20\", \"Topic20\", \"Topic20\", \"Topic20\", \"Topic20\", \"Topic20\", \"Topic20\", \"Topic20\", \"Topic20\", \"Topic20\", \"Topic20\", \"Topic20\", \"Topic20\", \"Topic20\", \"Topic20\", \"Topic20\", \"Topic20\", \"Topic20\", \"Topic20\", \"Topic20\", \"Topic20\", \"Topic20\", \"Topic20\", \"Topic20\", \"Topic20\"], \"Freq\": [22555.0, 8732.0, 7684.0, 6904.0, 7022.0, 5096.0, 5815.0, 6457.0, 4766.0, 6626.0, 5154.0, 4689.0, 4305.0, 4849.0, 3708.0, 4854.0, 4451.0, 3395.0, 3933.0, 4326.0, 4010.0, 3802.0, 3973.0, 3223.0, 3779.0, 3616.0, 3307.0, 3569.0, 3717.0, 2837.0, 22554.525390625, 6624.849609375, 3906.027099609375, 1394.0516357421875, 1028.603759765625, 987.1594848632812, 258.66510009765625, 0.07296279817819595, 0.07294509559869766, 0.07294049859046936, 0.07291438430547714, 0.07289326936006546, 0.07291845977306366, 0.07292585074901581, 0.07286479324102402, 0.0728573352098465, 0.0728670060634613, 0.07286351174116135, 0.07285676151514053, 0.07285524159669876, 0.07284315675497055, 0.07284100353717804, 0.07282956689596176, 0.07283924520015717, 0.0728377103805542, 0.07282070815563202, 0.07282989472150803, 0.07282853871583939, 0.07283801585435867, 0.07282844185829163, 0.07283318042755127, 4852.87548828125, 3613.28271484375, 2274.063720703125, 2249.41455078125, 1891.36279296875, 1823.3714599609375, 1800.89208984375, 1711.320068359375, 1346.532958984375, 1247.72265625, 1224.18603515625, 928.2183227539062, 779.9564819335938, 713.1756591796875, 566.4578857421875, 557.8165283203125, 460.8409118652344, 304.5342712402344, 201.5698699951172, 0.06838150322437286, 0.06836644560098648, 0.06835796684026718, 0.06836070865392685, 0.06835095584392548, 0.0683140680193901, 0.06833098083734512, 0.06828216463327408, 0.06830339133739471, 0.06829250603914261, 0.06829924136400223, 0.06829666346311569, 4848.2529296875, 3715.560791015625, 2838.9853515625, 2746.033935546875, 2305.9326171875, 2139.8583984375, 1932.8358154296875, 1308.122802734375, 1233.6029052734375, 1223.870849609375, 799.248046875, 623.57275390625, 599.121337890625, 478.25048828125, 294.0362548828125, 0.07544822245836258, 0.07541105151176453, 0.07539916783571243, 0.07540800422430038, 0.0754089280962944, 0.07534419000148773, 0.0753820389509201, 0.07534339278936386, 0.07533247768878937, 0.07532887160778046, 0.0753362849354744, 0.07532522827386856, 0.075343057513237, 0.07533156871795654, 0.07531655579805374, 7020.55224609375, 3384.794921875, 2952.5361328125, 2533.66943359375, 2318.73193359375, 2300.956787109375, 1661.8896484375, 1464.5667724609375, 1438.5467529296875, 795.920166015625, 694.1232299804688, 158.74156188964844, 0.06663323193788528, 0.06660251319408417, 0.06660500168800354, 0.0665896087884903, 0.06660421192646027, 0.06660216301679611, 0.06654972583055496, 0.06656384468078613, 0.06655329465866089, 0.06655009090900421, 0.06653674691915512, 0.06652676314115524, 0.06652770936489105, 0.0665285512804985, 0.06652447581291199, 0.0665506049990654, 0.06653505563735962, 0.06652679294347763, 0.06654605269432068, 0.06653324514627457, 0.0665392354130745, 0.06653276830911636, 0.06653128564357758, 6455.818359375, 4450.3203125, 4324.69189453125, 3777.667236328125, 1720.6663818359375, 1431.571044921875, 1305.0457763671875, 642.9089965820312, 220.4954071044922, 0.07742839306592941, 0.07732945680618286, 0.07740075141191483, 0.07739494740962982, 0.07739110291004181, 0.0773736760020256, 0.07736223191022873, 0.07730384171009064, 0.07732417434453964, 0.07732566446065903, 0.07732174545526505, 0.07730558514595032, 0.07731626182794571, 0.07730408012866974, 0.07729464769363403, 0.07731292396783829, 0.07730957120656967, 0.07730091363191605, 0.07728007435798645, 0.07728178799152374, 0.0772886723279953, 0.0773228257894516, 0.07729275524616241, 0.07729489356279373, 0.07729554176330566, 6903.41455078125, 3972.44482421875, 3567.57763671875, 3256.51318359375, 1974.0345458984375, 1163.4962158203125, 1115.0517578125, 1082.39501953125, 1076.2906494140625, 0.0769137516617775, 0.07692693173885345, 0.07690314203500748, 0.07689843326807022, 0.0768483504652977, 0.07688496261835098, 0.07686532288789749, 0.07683422416448593, 0.07682491838932037, 0.07680696249008179, 0.07681651413440704, 0.0768011063337326, 0.0768173485994339, 0.07683032006025314, 0.07680977135896683, 0.07679472118616104, 0.07679808139801025, 0.07679788023233414, 0.07679814100265503, 0.0767836794257164, 0.07679899036884308, 0.07679577171802521, 8731.2021484375, 3614.6083984375, 2171.47265625, 1851.680908203125, 1622.1871337890625, 1146.9024658203125, 1004.4058837890625, 853.8601684570312, 674.025146484375, 673.9915161132812, 604.1474609375, 172.5889129638672, 0.05316666513681412, 0.05316732078790665, 0.053133774548769, 0.053165920078754425, 0.053138021379709244, 0.05317575857043266, 0.053150709718465805, 0.05310855060815811, 0.05316382274031639, 0.053116124123334885, 0.053101375699043274, 0.05312724411487579, 0.053103007376194, 0.05310874059796333, 0.05309353396296501, 0.0531156100332737, 0.053107310086488724, 0.05310337617993355, 0.053107451647520065, 0.053111009299755096, 0.05311024934053421, 0.05312405526638031, 0.05312029644846916, 0.05311661958694458, 0.05311722308397293, 0.05311260744929314, 0.0531122125685215, 0.053111642599105835, 7683.54248046875, 4008.80078125, 2629.3974609375, 2188.293701171875, 1751.011474609375, 1040.55419921875, 533.2076416015625, 0.07768908888101578, 0.07767799496650696, 0.07770033180713654, 0.07766295969486237, 0.07768307626247406, 0.07767853140830994, 0.07762421667575836, 0.07761836796998978, 0.07763270288705826, 0.0776047334074974, 0.07758188992738724, 0.07761510461568832, 0.07760298997163773, 0.07762116193771362, 0.0776095986366272, 0.07758262753486633, 0.07760162651538849, 0.07758398354053497, 0.07759149372577667, 0.0775841623544693, 0.07761397957801819, 0.07759860157966614, 0.077579565346241, 0.0775875374674797, 0.07758986204862595, 0.07759488373994827, 0.07759112119674683, 0.0775936171412468, 0.07759182900190353, 5152.68896484375, 4687.6494140625, 2759.6044921875, 2737.59521484375, 2044.0869140625, 1887.2198486328125, 340.438720703125, 0.06288120895624161, 0.06287359446287155, 0.06286649405956268, 0.06284482777118683, 0.06292425096035004, 0.06283950060606003, 0.06282947957515717, 0.06284882128238678, 0.0628540962934494, 0.0628257542848587, 0.06282072514295578, 0.06282128393650055, 0.06282079219818115, 0.06282245367765427, 0.06286335736513138, 0.06283252686262131, 0.0628291442990303, 0.06283023208379745, 0.06282130628824234, 0.06282182037830353, 0.06282732635736465, 0.06283088773488998, 0.06283464282751083, 0.06286587566137314, 0.06285308301448822, 0.06288909167051315, 0.06283894181251526, 0.06290394067764282, 0.06285282969474792, 0.0628662183880806, 0.06290112435817719, 0.0628974586725235, 0.06286265701055527, 0.06285184621810913, 0.06289032846689224, 0.06284338235855103, 0.062849260866642, 0.0628422349691391, 0.06286344677209854, 0.06284580379724503, 4303.79052734375, 3306.311279296875, 3037.534912109375, 2386.8095703125, 2304.956787109375, 1510.4293212890625, 1296.4654541015625, 1091.21923828125, 0.0728180855512619, 0.07280012220144272, 0.07280043512582779, 0.072760671377182, 0.07278908044099808, 0.07277822494506836, 0.07272104918956757, 0.07278617471456528, 0.07271236181259155, 0.07272319495677948, 0.07273328304290771, 0.07273446768522263, 0.07273587584495544, 0.07270466536283493, 0.07272209227085114, 0.07271070778369904, 0.07271532714366913, 0.07271064817905426, 0.07272551208734512, 0.07271631807088852, 0.07269848883152008, 0.07273247092962265, 0.07273489236831665, 0.072715625166893, 0.07271406799554825, 0.07271097600460052, 3801.280029296875, 2215.320068359375, 2079.3486328125, 1996.447265625, 1993.242919921875, 1656.7706298828125, 1468.120361328125, 1048.5428466796875, 991.2325439453125, 610.379150390625, 0.07306058704853058, 0.07309593260288239, 0.07303845137357712, 0.07302258163690567, 0.07311110943555832, 0.0730503499507904, 0.07302527874708176, 0.07304726541042328, 0.07310177385807037, 0.07303757965564728, 0.0730474591255188, 0.0730113834142685, 0.07302182912826538, 0.07312355935573578, 0.07302594929933548, 0.07302633672952652, 0.07301519811153412, 0.07301134616136551, 0.07302802801132202, 0.07300955802202225, 0.07310928404331207, 0.07302658259868622, 0.073106549680233, 0.07306849211454391, 0.07305391877889633, 0.07305796444416046, 0.07305652648210526, 0.0730540081858635, 0.07304266840219498, 0.07303870469331741, 0.07304240763187408, 0.0730530247092247, 0.07304005324840546, 5813.697265625, 3931.989013671875, 3037.816650390625, 2350.575927734375, 1389.8028564453125, 1077.1727294921875, 0.060526423156261444, 0.06051238253712654, 0.060513559728860855, 0.06048258766531944, 0.06045791134238243, 0.06043841689825058, 0.060445304960012436, 0.06046459823846817, 0.06043890491127968, 0.06048733368515968, 0.060431528836488724, 0.06049012020230293, 0.06042550504207611, 0.06042724847793579, 0.06044892966747284, 0.06042715907096863, 0.060439400374889374, 0.06045014411211014, 0.060425493866205215, 0.06040722876787186, 0.06041998043656349, 0.060422495007514954, 0.060452111065387726, 0.060414981096982956, 0.06043330952525139, 0.06043032929301262, 0.06043531000614166, 0.06043952703475952, 0.06043405458331108, 0.06043434515595436, 0.06043995916843414, 0.060433197766542435, 3221.812744140625, 1630.7196044921875, 1396.571044921875, 1378.28271484375, 1196.744873046875, 1180.9642333984375, 1172.138916015625, 1161.839111328125, 1002.594970703125, 968.4946899414062, 0.08218763768672943, 0.08216627687215805, 0.08220173418521881, 0.08218363672494888, 0.0821739211678505, 0.08220377564430237, 0.08227576315402985, 0.08227086067199707, 0.08216749131679535, 0.08217950910329819, 0.08225153386592865, 0.0821630135178566, 0.08220027387142181, 0.0821806937456131, 0.08218535035848618, 0.0821727067232132, 0.0821717232465744, 0.08215605467557907, 0.08219891041517258, 0.08218274265527725, 0.08225960284471512, 0.08222562074661255, 0.0822097510099411, 0.08227907866239548, 0.08221742510795593, 0.08226019889116287, 0.08219845592975616, 0.08220989257097244, 0.08219195157289505, 0.08220690488815308, 0.08220022916793823, 0.08220304548740387, 0.08219438046216965, 0.08219359070062637, 4765.43701171875, 2768.2373046875, 2380.79150390625, 2025.8045654296875, 922.2554321289062, 556.8467407226562, 0.07292155176401138, 0.07292357832193375, 0.07288940250873566, 0.07288665324449539, 0.07288940250873566, 0.07290619611740112, 0.07298322767019272, 0.07288798689842224, 0.07288220524787903, 0.0729009360074997, 0.0728776827454567, 0.0728762224316597, 0.07289445400238037, 0.07287905365228653, 0.07286877930164337, 0.07296723872423172, 0.07290147244930267, 0.0728762298822403, 0.0728808268904686, 0.07287365943193436, 0.07287561148405075, 0.07290548086166382, 0.07287424057722092, 0.07289263606071472, 0.0729239210486412, 0.07298640161752701, 0.07292472571134567, 0.07293068617582321, 0.07290691882371902, 0.07295667380094528, 0.07290266454219818, 0.07289471477270126, 0.07291868329048157, 0.07290677726268768, 0.07293868064880371, 0.07295224070549011, 0.07291824370622635, 0.07291212677955627, 0.07291031628847122, 0.07290562242269516, 0.07290343195199966, 2835.8466796875, 2605.747802734375, 1784.2611083984375, 1779.0621337890625, 1380.092041015625, 768.1054077148438, 680.6137084960938, 506.79412841796875, 433.222900390625, 419.3233642578125, 0.057565025985240936, 0.05755701661109924, 0.057570021599531174, 0.057556286454200745, 0.05755322426557541, 0.05755753815174103, 0.05755189433693886, 0.05755667760968208, 0.05757107958197594, 0.05757180228829384, 0.05755166709423065, 0.057553309947252274, 0.057555798441171646, 0.057560212910175323, 0.05755922570824623, 0.05755011737346649, 0.05755316838622093, 0.05754871666431427, 0.05755091831088066, 0.05754774063825607, 0.05756286159157753, 0.057568859308958054, 0.05756233632564545, 0.057565055787563324, 0.0575685128569603, 0.05757281929254532, 0.05757448077201843, 0.05756613239645958, 0.05761757493019104, 0.05759768187999725, 0.05762067437171936, 0.057577189058065414, 0.05762000009417534, 0.057571329176425934, 0.05757375806570053, 0.057624105364084244, 0.05761358514428139, 0.05758777633309364, 0.05757484957575798, 0.05758535861968994, 0.05757654085755348, 0.05759545788168907, 0.05757604539394379, 0.057581644505262375, 0.05757972225546837, 0.05757737159729004, 0.05757489800453186, 0.05757642164826393, 0.05757412686944008, 0.05757422745227814, 3706.996826171875, 2085.330322265625, 1892.9581298828125, 1402.3734130859375, 1277.7176513671875, 1230.9022216796875, 684.4223022460938, 292.7361755371094, 0.07358792424201965, 0.07360268384218216, 0.07358021289110184, 0.07358217239379883, 0.07358156889677048, 0.07357604056596756, 0.07357790321111679, 0.07357794046401978, 0.07362442463636398, 0.0735904723405838, 0.07357560098171234, 0.07357495278120041, 0.0735732838511467, 0.0735996812582016, 0.07356958091259003, 0.07357783615589142, 0.07357142865657806, 0.07360705733299255, 0.07357092946767807, 0.07356596738100052, 0.07356549799442291, 0.0735677033662796, 0.07367311418056488, 0.0735953226685524, 0.0736323818564415, 0.0736197680234909, 0.07360115647315979, 0.07360681146383286, 0.07361792027950287, 0.07360214740037918, 0.07365663349628448, 0.07365180552005768, 0.0736633911728859, 0.07360474020242691, 0.07364074885845184, 0.07363298535346985, 0.07360516488552094, 0.073610819876194, 0.07360810041427612, 0.07359901070594788, 0.0735982358455658, 3394.052978515625, 1876.1514892578125, 1801.6728515625, 1742.0006103515625, 769.9361572265625, 729.5182495117188, 530.2705688476562, 0.06096048653125763, 0.06095735356211662, 0.060956746339797974, 0.06096750497817993, 0.06096355617046356, 0.06095735356211662, 0.06095222011208534, 0.06094886735081673, 0.06095082685351372, 0.06095219776034355, 0.06095331162214279, 0.0609462670981884, 0.060950085520744324, 0.06095392256975174, 0.060945652425289154, 0.06095702201128006, 0.06095949932932854, 0.060950081795454025, 0.06095036119222641, 0.06094856187701225, 0.06098168343305588, 0.06095082685351372, 0.060950715094804764, 0.060970500111579895, 0.060966260731220245, 0.06096041202545166, 0.06097140163183212, 0.061021506786346436, 0.06096088886260986, 0.06101319193840027, 0.060973070561885834, 0.06102591007947922, 0.06101581081748009, 0.06098309904336929, 0.06096401438117027, 0.060989320278167725, 0.06096421554684639, 0.060999795794487, 0.060967136174440384, 0.06096654012799263, 0.06098189577460289, 0.060979150235652924, 0.06098010390996933, 0.06097227334976196, 0.060972850769758224, 0.060968633741140366, 0.06099526584148407, 0.060977738350629807, 0.060969628393650055, 0.06096949055790901, 0.06096820533275604, 0.060970768332481384, 0.060969315469264984, 2417.53271484375, 2332.143798828125, 1591.6273193359375, 943.318359375, 933.2032470703125, 867.405029296875, 710.955322265625, 465.6396789550781, 0.05886959284543991, 0.058880917727947235, 0.05887004733085632, 0.05887870490550995, 0.058862388134002686, 0.05888500437140465, 0.05886049568653107, 0.05886145681142807, 0.058861490339040756, 0.05885811522603035, 0.05886223912239075, 0.05888357758522034, 0.05885796993970871, 0.0588732548058033, 0.05886832997202873, 0.05885663256049156, 0.05887230858206749, 0.0588558129966259, 0.05886946618556976, 0.05886603891849518, 0.05886106193065643, 0.058871712535619736, 0.05888685956597328, 0.05886509269475937, 0.05886341631412506, 0.058870166540145874, 0.05887746065855026, 0.05887475982308388, 0.058880046010017395, 0.058886028826236725, 0.05888403207063675, 0.058918461203575134, 0.05888175219297409, 0.05891677364706993, 0.05891110375523567, 0.058912426233291626, 0.05889196693897247, 0.05887418985366821, 0.05888613685965538, 0.058896712958812714, 0.058904025703668594, 0.05888238549232483, 0.05887780711054802, 0.05888306722044945, 0.058881666511297226, 0.0588785782456398, 5094.80419921875, 2468.6337890625, 1544.859130859375, 987.3389282226562, 0.07494938373565674, 0.07499174773693085, 0.07495498657226562, 0.07493940740823746, 0.07494109869003296, 0.07493381202220917, 0.07493537664413452, 0.07491853833198547, 0.07493496686220169, 0.07495244592428207, 0.07491346448659897, 0.07491671293973923, 0.07491597533226013, 0.07492706179618835, 0.07492861896753311, 0.07491429150104523, 0.07492091506719589, 0.07491856068372726, 0.07491526007652283, 0.07491149008274078, 0.07491228729486465, 0.0749090313911438, 0.07491002231836319, 0.07491058111190796, 0.07490889728069305, 0.07490850985050201, 0.07491012662649155, 0.07493006438016891, 0.07491622120141983, 0.07492881268262863, 0.07492783665657043, 0.07499340921640396, 0.07492657750844955, 0.07492819428443909, 0.07493779063224792, 0.07493937760591507, 0.0749494731426239, 0.07495598495006561, 0.07494508475065231, 0.07494741678237915, 0.07493410259485245, 0.0749300941824913, 0.07498858124017715, 0.07494065910577774, 0.07498832792043686, 0.0749446451663971, 0.07493969798088074, 0.07498803734779358, 0.07497269660234451, 0.07495179027318954, 0.07495048642158508, 0.07497430592775345, 0.0749523788690567, 0.07494493573904037, 0.07494115084409714, 0.07493878901004791, 0.21205906569957733, 0.21205906569957733, 0.21205906569957733, 0.21205906569957733, 0.21205906569957733, 0.21205906569957733, 0.21205906569957733, 0.21205906569957733, 0.21205906569957733, 0.21205906569957733, 0.21205906569957733, 0.21205906569957733, 0.21205906569957733, 0.21205906569957733, 0.21205906569957733, 0.21205906569957733, 0.21205906569957733, 0.21205906569957733, 0.21205906569957733, 0.21205906569957733, 0.21205906569957733, 0.21205906569957733, 0.21205906569957733, 0.21205906569957733, 0.21205906569957733, 0.21205906569957733, 0.21205906569957733, 0.21205906569957733, 0.21205906569957733, 0.21205906569957733, 0.21205906569957733, 0.21205906569957733, 0.21205906569957733, 0.21205906569957733, 0.21205906569957733, 0.21205906569957733, 0.21205906569957733, 0.21205906569957733, 0.21205906569957733, 0.21205906569957733, 0.21205906569957733, 0.21205906569957733, 0.21205906569957733, 0.21205906569957733, 0.21205906569957733, 0.21205906569957733, 0.21205906569957733, 0.21205906569957733, 0.21205906569957733, 0.21205906569957733, 0.21205906569957733, 0.21205906569957733, 0.21205906569957733, 0.21205906569957733, 0.21205906569957733, 0.21205906569957733, 0.21205906569957733, 0.21205906569957733, 0.21205906569957733, 0.21205906569957733, 0.21205906569957733, 0.21205906569957733, 0.21205906569957733, 0.21205906569957733, 0.21205906569957733, 0.21205906569957733, 0.21205906569957733, 0.21205906569957733, 0.21205906569957733, 0.21205906569957733, 0.21205906569957733, 0.21205906569957733], \"Term\": [\"the\", \"new\", \"one\", \"it\", \"a\", \"year\", \"time\", \"years\", \"get\", \"this\", \"like\", \"game\", \"people\", \"my\", \"ever\", \"today\", \"made\", \"we\", \"how\", \"last\", \"make\", \"got\", \"would\", \"know\", \"still\", \"you\", \"now\", \"if\", \"use\", \"is\", \"the\", \"this\", \"in\", \"come\", \"down\", \"minutes\", \"health\", \"app\", \"first\", \"us\", \"code\", \"to\", \"says\", \"its\", \"users\", \"store\", \"phone\", \"software\", \"using\", \"apps\", \"music\", \"no\", \"all\", \"going\", \"update\", \"of\", \"since\", \"on\", \"source\", \"used\", \"just\", \"today\", \"day\", \"next\", \"and\", \"week\", \"better\", \"work\", \"up\", \"instead\", \"service\", \"month\", \"online\", \"always\", \"test\", \"cash\", \"might\", \"least\", \"spend\", \"where\", \"app\", \"first\", \"us\", \"its\", \"says\", \"to\", \"code\", \"ago\", \"phone\", \"store\", \"software\", \"users\", \"my\", \"use\", \"that\", \"open\", \"th\", \"said\", \"watch\", \"out\", \"wants\", \"news\", \"head\", \"who\", \"point\", \"child\", \"thoughts\", \"app\", \"us\", \"says\", \"first\", \"its\", \"source\", \"code\", \"software\", \"apps\", \"using\", \"phone\", \"store\", \"to\", \"users\", \"music\", \"a\", \"back\", \"support\", \"world\", \"pay\", \"go\", \"hit\", \"away\", \"real\", \"done\", \"goes\", \"helps\", \"app\", \"says\", \"us\", \"code\", \"first\", \"its\", \"store\", \"to\", \"users\", \"apps\", \"update\", \"all\", \"on\", \"home\", \"devices\", \"phone\", \"source\", \"used\", \"software\", \"music\", \"using\", \"going\", \"just\", \"years\", \"made\", \"last\", \"still\", \"show\", \"look\", \"called\", \"yet\", \"which\", \"app\", \"ago\", \"first\", \"its\", \"us\", \"says\", \"code\", \"after\", \"software\", \"phone\", \"users\", \"update\", \"apps\", \"source\", \"since\", \"using\", \"store\", \"music\", \"security\", \"coming\", \"on\", \"to\", \"lets\", \"no\", \"going\", \"it\", \"would\", \"if\", \"why\", \"days\", \"less\", \"started\", \"around\", \"long\", \"its\", \"app\", \"first\", \"us\", \"phone\", \"says\", \"code\", \"software\", \"users\", \"going\", \"using\", \"after\", \"apps\", \"to\", \"store\", \"fight\", \"just\", \"update\", \"no\", \"here\", \"source\", \"music\", \"new\", \"you\", \"million\", \"every\", \"money\", \"event\", \"series\", \"top\", \"control\", \"has\", \"account\", \"piece\", \"says\", \"us\", \"users\", \"first\", \"to\", \"app\", \"code\", \"from\", \"its\", \"update\", \"your\", \"software\", \"report\", \"on\", \"making\", \"source\", \"team\", \"coming\", \"all\", \"after\", \"fight\", \"phone\", \"apps\", \"store\", \"using\", \"going\", \"no\", \"music\", \"one\", \"make\", \"when\", \"two\", \"are\", \"second\", \"starts\", \"first\", \"says\", \"app\", \"code\", \"its\", \"us\", \"software\", \"using\", \"to\", \"no\", \"developers\", \"apps\", \"going\", \"phone\", \"store\", \"of\", \"source\", \"tech\", \"used\", \"finally\", \"users\", \"music\", \"more\", \"all\", \"home\", \"update\", \"fight\", \"just\", \"lets\", \"like\", \"game\", \"best\", \"video\", \"play\", \"say\", \"her\", \"apps\", \"store\", \"music\", \"buy\", \"app\", \"trying\", \"build\", \"used\", \"just\", \"fun\", \"ahead\", \"demo\", \"or\", \"include\", \"using\", \"find\", \"making\", \"fake\", \"wrote\", \"voice\", \"adds\", \"crypto\", \"companies\", \"users\", \"no\", \"code\", \"of\", \"its\", \"going\", \"phone\", \"first\", \"us\", \"software\", \"source\", \"says\", \"team\", \"update\", \"devices\", \"to\", \"lets\", \"people\", \"now\", \"right\", \"for\", \"think\", \"hours\", \"full\", \"months\", \"app\", \"first\", \"its\", \"to\", \"says\", \"code\", \"fight\", \"us\", \"privacy\", \"no\", \"using\", \"apps\", \"users\", \"of\", \"going\", \"all\", \"after\", \"on\", \"store\", \"just\", \"company\", \"software\", \"phone\", \"music\", \"source\", \"lets\", \"got\", \"really\", \"big\", \"night\", \"even\", \"do\", \"great\", \"become\", \"deal\", \"social\", \"store\", \"code\", \"love\", \"media\", \"us\", \"going\", \"there\", \"just\", \"says\", \"team\", \"music\", \"looking\", \"needs\", \"app\", \"your\", \"trying\", \"sign\", \"youre\", \"security\", \"cool\", \"its\", \"getting\", \"first\", \"to\", \"using\", \"software\", \"users\", \"apps\", \"update\", \"fight\", \"source\", \"phone\", \"no\", \"time\", \"how\", \"free\", \"good\", \"feature\", \"post\", \"first\", \"its\", \"app\", \"code\", \"software\", \"since\", \"source\", \"to\", \"fight\", \"says\", \"privacy\", \"us\", \"as\", \"price\", \"apps\", \"finally\", \"going\", \"users\", \"tech\", \"becomes\", \"lot\", \"will\", \"phone\", \"employees\", \"after\", \"used\", \"just\", \"store\", \"update\", \"no\", \"using\", \"music\", \"know\", \"live\", \"tell\", \"thing\", \"something\", \"high\", \"actually\", \"were\", \"looks\", \"story\", \"call\", \"did\", \"lets\", \"let\", \"product\", \"no\", \"its\", \"us\", \"sell\", \"program\", \"code\", \"youre\", \"update\", \"more\", \"here\", \"needs\", \"share\", \"or\", \"just\", \"coming\", \"says\", \"to\", \"using\", \"app\", \"phone\", \"first\", \"going\", \"software\", \"fight\", \"users\", \"store\", \"apps\", \"music\", \"source\", \"get\", \"want\", \"not\", \"take\", \"talk\", \"experience\", \"can\", \"lets\", \"learn\", \"step\", \"credit\", \"here\", \"its\", \"latest\", \"move\", \"love\", \"updated\", \"shut\", \"let\", \"youre\", \"speaker\", \"says\", \"privacy\", \"awesome\", \"announced\", \"while\", \"ready\", \"home\", \"content\", \"developers\", \"apps\", \"app\", \"users\", \"to\", \"update\", \"us\", \"fight\", \"tech\", \"software\", \"going\", \"code\", \"first\", \"phone\", \"using\", \"store\", \"no\", \"music\", \"is\", \"with\", \"could\", \"what\", \"makes\", \"future\", \"about\", \"spent\", \"round\", \"huge\", \"than\", \"important\", \"your\", \"off\", \"debut\", \"most\", \"being\", \"turn\", \"more\", \"of\", \"very\", \"into\", \"talking\", \"sign\", \"half\", \"offering\", \"should\", \"through\", \"announce\", \"marketplace\", \"set\", \"billion\", \"again\", \"launch\", \"will\", \"from\", \"team\", \"may\", \"says\", \"to\", \"first\", \"after\", \"its\", \"he\", \"on\", \"app\", \"us\", \"phone\", \"fight\", \"software\", \"no\", \"code\", \"update\", \"users\", \"apps\", \"store\", \"going\", \"using\", \"just\", \"source\", \"ever\", \"see\", \"so\", \"have\", \"be\", \"end\", \"them\", \"interesting\", \"been\", \"will\", \"ready\", \"technology\", \"too\", \"should\", \"focus\", \"did\", \"using\", \"well\", \"own\", \"shut\", \"important\", \"from\", \"article\", \"image\", \"stuff\", \"lets\", \"into\", \"hiring\", \"boost\", \"had\", \"first\", \"price\", \"to\", \"apps\", \"since\", \"just\", \"users\", \"after\", \"its\", \"us\", \"app\", \"source\", \"says\", \"code\", \"store\", \"phone\", \"software\", \"music\", \"no\", \"we\", \"way\", \"much\", \"need\", \"read\", \"interview\", \"some\", \"fun\", \"email\", \"smart\", \"companies\", \"employees\", \"too\", \"demo\", \"join\", \"pretty\", \"hear\", \"access\", \"bigger\", \"or\", \"technology\", \"raised\", \"sign\", \"product\", \"tip\", \"content\", \"stock\", \"no\", \"ready\", \"am\", \"love\", \"as\", \"part\", \"all\", \"us\", \"many\", \"says\", \"fight\", \"app\", \"its\", \"apps\", \"will\", \"to\", \"call\", \"code\", \"he\", \"here\", \"software\", \"using\", \"users\", \"just\", \"going\", \"on\", \"first\", \"phone\", \"after\", \"lets\", \"used\", \"store\", \"update\", \"data\", \"internet\", \"found\", \"things\", \"start\", \"went\", \"yesterday\", \"plan\", \"access\", \"companies\", \"sell\", \"your\", \"these\", \"privacy\", \"couple\", \"accounts\", \"their\", \"founder\", \"space\", \"he\", \"cities\", \"customers\", \"network\", \"robots\", \"share\", \"funding\", \"super\", \"consumer\", \"should\", \"little\", \"home\", \"services\", \"turn\", \"web\", \"tech\", \"company\", \"team\", \"going\", \"just\", \"us\", \"after\", \"first\", \"says\", \"its\", \"to\", \"as\", \"users\", \"code\", \"app\", \"using\", \"fight\", \"software\", \"phone\", \"store\", \"year\", \"old\", \"help\", \"but\", \"early\", \"phone\", \"devices\", \"an\", \"lot\", \"again\", \"put\", \"helping\", \"there\", \"ago\", \"delivery\", \"missed\", \"messaging\", \"build\", \"amazing\", \"same\", \"focus\", \"paying\", \"any\", \"shutting\", \"gaming\", \"byu\", \"dive\", \"electric\", \"having\", \"Facebook\", \"rival\", \"announces\", \"tools\", \"little\", \"crypto\", \"code\", \"product\", \"design\", \"price\", \"me\", \"source\", \"using\", \"lets\", \"music\", \"they\", \"per\", \"us\", \"since\", \"its\", \"update\", \"used\", \"app\", \"says\", \"software\", \"users\", \"first\", \"to\", \"apps\", \"just\", \"store\", \"ucWe\", \"jordanrcrook\", \"S\", \"AR\", \"Microsoft\", \"Well\", \"Berlin\", \"Day\", \"One\", \"Watch\", \"There\", \"Ium\", \"They\", \"So\", \"ou\", \"Twitter\", \"JoshConstine\", \"Itus\", \"Today\", \"Not\", \"HQ\", \"San\", \"Francisco\", \"SF\", \"Join\", \"Tesla\", \"Q\", \"Thank\", \"Lyft\", \"Facebook\", \"When\", \"tcdisrupt\", \"sohear\", \"ritacyliao\", \"Y\", \"More\", \"equity\", \"expand\", \"fintech\", \"Ive\", \"Friday\", \"amp\", \"China\", \"just\", \"article\", \"announce\", \"Excited\", \"thu\", \"thanks\", \"startup\", \"service\", \"videos\", \"raised\", \"enterprise\", \"your\", \"Stories\", \"Snapchat\", \"least\", \"US\", \"scoop\", \"me\", \"future\", \"Meet\", \"first\", \"our\", \"Googleus\", \"Facebooks\", \"content\", \"says\", \"inu\", \"stock\", \"public\"], \"Total\": [22555.0, 8732.0, 7684.0, 6904.0, 7022.0, 5096.0, 5815.0, 6457.0, 4766.0, 6626.0, 5154.0, 4689.0, 4305.0, 4849.0, 3708.0, 4854.0, 4451.0, 3395.0, 3933.0, 4326.0, 4010.0, 3802.0, 3973.0, 3223.0, 3779.0, 3616.0, 3307.0, 3569.0, 3717.0, 2837.0, 22555.98046875, 6626.30615234375, 3907.48291015625, 1395.508056640625, 1030.0601806640625, 988.6156005859375, 260.1213684082031, 1.5315666198730469, 1.5312683582305908, 1.5312151908874512, 1.5308715105056763, 1.5304744243621826, 1.5310840606689453, 1.5312905311584473, 1.5302560329437256, 1.5301098823547363, 1.5303270816802979, 1.5302706956863403, 1.530166506767273, 1.5302032232284546, 1.5299530029296875, 1.529948115348816, 1.5297465324401855, 1.52996826171875, 1.5299365520477295, 1.529600977897644, 1.5297949314117432, 1.529774785041809, 1.529978632926941, 1.5297913551330566, 1.5299266576766968, 4854.33642578125, 3614.7431640625, 2275.524169921875, 2250.875, 1892.82373046875, 1824.8323974609375, 1802.35302734375, 1712.781005859375, 1347.993896484375, 1249.18359375, 1225.64697265625, 929.678955078125, 781.4171142578125, 714.6362915039062, 567.9185180664062, 559.2771606445312, 462.3017272949219, 305.9950866699219, 203.03062438964844, 1.5315666198730469, 1.5312683582305908, 1.5312151908874512, 1.5312905311584473, 1.5310840606689453, 1.5304744243621826, 1.5308715105056763, 1.5298116207122803, 1.5303270816802979, 1.5301098823547363, 1.5302706956863403, 1.5302560329437256, 4849.70703125, 3717.01416015625, 2840.438720703125, 2747.4873046875, 2307.385986328125, 2141.311767578125, 1934.289794921875, 1309.5767822265625, 1235.056884765625, 1225.3248291015625, 800.70166015625, 625.0263671875, 600.574951171875, 479.70428466796875, 295.49005126953125, 1.5315666198730469, 1.5312151908874512, 1.5310840606689453, 1.5312683582305908, 1.5312905311584473, 1.529978632926941, 1.5308715105056763, 1.5302706956863403, 1.5302032232284546, 1.530166506767273, 1.5303270816802979, 1.5301098823547363, 1.5304744243621826, 1.5302560329437256, 1.5299530029296875, 7022.01513671875, 3386.25732421875, 2953.99853515625, 2535.1318359375, 2320.1943359375, 2302.419189453125, 1663.352294921875, 1466.0294189453125, 1440.0093994140625, 797.3825073242188, 695.5855712890625, 160.20404052734375, 1.5315666198730469, 1.5310840606689453, 1.5312151908874512, 1.5308715105056763, 1.5312683582305908, 1.5312905311584473, 1.5301098823547363, 1.5304744243621826, 1.5302560329437256, 1.5302032232284546, 1.5299365520477295, 1.5297465324401855, 1.529774785041809, 1.5298047065734863, 1.5297138690948486, 1.5303270816802979, 1.529978632926941, 1.5297913551330566, 1.5302706956863403, 1.5299530029296875, 1.530166506767273, 1.52996826171875, 1.5299266576766968, 6457.2705078125, 4451.7724609375, 4326.14404296875, 3779.118896484375, 1722.1182861328125, 1433.02294921875, 1306.4976806640625, 644.360595703125, 221.9471435546875, 1.5315666198730469, 1.5298116207122803, 1.5312683582305908, 1.5312905311584473, 1.5312151908874512, 1.5310840606689453, 1.5308715105056763, 1.5298622846603394, 1.5302706956863403, 1.5303270816802979, 1.5302560329437256, 1.5299365520477295, 1.5302032232284546, 1.529978632926941, 1.5297949314117432, 1.530166506767273, 1.5301098823547363, 1.5299530029296875, 1.5295815467834473, 1.5296279191970825, 1.529774785041809, 1.5304744243621826, 1.5298720598220825, 1.529948115348816, 1.52996826171875, 6904.8671875, 3973.89697265625, 3569.02978515625, 3257.96533203125, 1975.48681640625, 1164.948486328125, 1116.5040283203125, 1083.8472900390625, 1077.742919921875, 1.5312905311584473, 1.5315666198730469, 1.5312683582305908, 1.5312151908874512, 1.5303270816802979, 1.5310840606689453, 1.5308715105056763, 1.5302706956863403, 1.5302560329437256, 1.52996826171875, 1.530166506767273, 1.5298622846603394, 1.5302032232284546, 1.5304744243621826, 1.5301098823547363, 1.5298423767089844, 1.5299266576766968, 1.5299365520477295, 1.529948115348816, 1.5296682119369507, 1.529978632926941, 1.5299530029296875, 8732.6767578125, 3616.084228515625, 2172.948486328125, 1853.1568603515625, 1623.6630859375, 1148.37841796875, 1005.8816528320312, 855.3359375, 675.5009155273438, 675.46728515625, 605.6232299804688, 174.06480407714844, 1.5310840606689453, 1.5312151908874512, 1.5302560329437256, 1.5312683582305908, 1.5304744243621826, 1.5315666198730469, 1.5308715105056763, 1.5296894311904907, 1.5312905311584473, 1.5299365520477295, 1.5295250415802002, 1.5302706956863403, 1.5295732021331787, 1.529774785041809, 1.529341459274292, 1.529978632926941, 1.5297402143478394, 1.5296279191970825, 1.5297465324401855, 1.5298622846603394, 1.5298423767089844, 1.5303270816802979, 1.5302032232284546, 1.5301098823547363, 1.530166506767273, 1.52996826171875, 1.529948115348816, 1.5299530029296875, 7684.994140625, 4010.252197265625, 2630.848876953125, 2189.7451171875, 1752.4630126953125, 1042.0057373046875, 534.658935546875, 1.5312683582305908, 1.5310840606689453, 1.5315666198730469, 1.5308715105056763, 1.5312905311584473, 1.5312151908874512, 1.5302706956863403, 1.530166506767273, 1.5304744243621826, 1.529948115348816, 1.5295449495315552, 1.5302032232284546, 1.52996826171875, 1.5303270816802979, 1.5301098823547363, 1.529600977897644, 1.529978632926941, 1.5296355485916138, 1.5297913551330566, 1.5296553373336792, 1.5302560329437256, 1.5299530029296875, 1.5295807123184204, 1.5297465324401855, 1.5298047065734863, 1.5299365520477295, 1.5298423767089844, 1.5299266576766968, 1.5298720598220825, 5154.1552734375, 4689.11572265625, 2761.070556640625, 2739.061279296875, 2045.5531005859375, 1888.68603515625, 341.9049377441406, 1.5302032232284546, 1.5301098823547363, 1.5299530029296875, 1.5295844078063965, 1.5315666198730469, 1.5295367240905762, 1.5293025970458984, 1.5297913551330566, 1.5299266576766968, 1.5292409658432007, 1.5291187763214111, 1.5291345119476318, 1.52912437915802, 1.5291706323623657, 1.530166506767273, 1.529422402381897, 1.529341459274292, 1.5293679237365723, 1.529151439666748, 1.5291693210601807, 1.529305338859558, 1.5293948650360107, 1.529490351676941, 1.5302560329437256, 1.529948115348816, 1.5308715105056763, 1.529600977897644, 1.5312905311584473, 1.52996826171875, 1.5303270816802979, 1.5312683582305908, 1.5312151908874512, 1.5302706956863403, 1.529978632926941, 1.5310840606689453, 1.5297402143478394, 1.5299365520477295, 1.5297138690948486, 1.5304744243621826, 1.5298720598220825, 4305.24658203125, 3307.767578125, 3038.9912109375, 2388.265869140625, 2306.4130859375, 1511.8856201171875, 1297.9217529296875, 1092.675537109375, 1.5315666198730469, 1.5312683582305908, 1.5312905311584473, 1.5304744243621826, 1.5310840606689453, 1.5308715105056763, 1.5298423767089844, 1.5312151908874512, 1.529707670211792, 1.529948115348816, 1.530166506767273, 1.5302032232284546, 1.5302560329437256, 1.529600977897644, 1.52996826171875, 1.5297465324401855, 1.5298622846603394, 1.529774785041809, 1.5301098823547363, 1.5299266576766968, 1.5295549631118774, 1.5302706956863403, 1.5303270816802979, 1.5299530029296875, 1.529978632926941, 1.5298720598220825, 3802.73583984375, 2216.77587890625, 2080.804443359375, 1997.9033203125, 1994.698974609375, 1658.2266845703125, 1469.576416015625, 1049.9989013671875, 992.6884155273438, 611.8350219726562, 1.5301098823547363, 1.5308715105056763, 1.5296709537506104, 1.5293490886688232, 1.5312151908874512, 1.52996826171875, 1.5294528007507324, 1.5299266576766968, 1.5310840606689453, 1.5297402143478394, 1.5299530029296875, 1.5292143821716309, 1.5294339656829834, 1.5315666198730469, 1.5295250415802002, 1.5295367240905762, 1.5293099880218506, 1.529229998588562, 1.5295815467834473, 1.5291951894760132, 1.5312905311584473, 1.5295546054840088, 1.5312683582305908, 1.5304744243621826, 1.530166506767273, 1.5302706956863403, 1.5302560329437256, 1.5302032232284546, 1.5299365520477295, 1.5298423767089844, 1.529978632926941, 1.5303270816802979, 1.529948115348816, 5815.166015625, 3933.45751953125, 3039.28515625, 2352.04443359375, 1391.271484375, 1078.641357421875, 1.5312683582305908, 1.5312905311584473, 1.5315666198730469, 1.5308715105056763, 1.5302706956863403, 1.5297949314117432, 1.529978632926941, 1.5304744243621826, 1.5298423767089844, 1.5310840606689453, 1.529707670211792, 1.5312151908874512, 1.5295922756195068, 1.5296411514282227, 1.5302032232284546, 1.5296553373336792, 1.52996826171875, 1.5302560329437256, 1.5296355485916138, 1.5291759967803955, 1.5295021533966064, 1.5295658111572266, 1.5303270816802979, 1.529393196105957, 1.5298622846603394, 1.5297913551330566, 1.5299266576766968, 1.5301098823547363, 1.5299365520477295, 1.529948115348816, 1.530166506767273, 1.5299530029296875, 3223.259765625, 1632.1663818359375, 1398.017822265625, 1379.7294921875, 1198.191650390625, 1182.4110107421875, 1173.585693359375, 1163.285888671875, 1004.041748046875, 969.9414672851562, 1.5295823812484741, 1.5291991233825684, 1.5298720598220825, 1.5295482873916626, 1.529374361038208, 1.529948115348816, 1.5312905311584473, 1.5312151908874512, 1.5292932987213135, 1.5295209884643555, 1.5308715105056763, 1.529229998588562, 1.5299365520477295, 1.5295807123184204, 1.5296682119369507, 1.5294339656829834, 1.5294158458709717, 1.52912437915802, 1.5299266576766968, 1.5296279191970825, 1.5310840606689453, 1.5304744243621826, 1.530166506767273, 1.5315666198730469, 1.5303270816802979, 1.5312683582305908, 1.52996826171875, 1.5302706956863403, 1.5298423767089844, 1.5302560329437256, 1.5301098823547363, 1.5302032232284546, 1.5299530029296875, 1.529978632926941, 4766.8935546875, 2769.693603515625, 2382.247802734375, 2027.2606201171875, 923.71142578125, 558.302734375, 1.5296236276626587, 1.5298720598220825, 1.5292623043060303, 1.5292214155197144, 1.52930748462677, 1.5296682119369507, 1.5312905311584473, 1.529381275177002, 1.5292699337005615, 1.5296709537506104, 1.5291850566864014, 1.529160737991333, 1.5295482873916626, 1.529229998588562, 1.5290180444717407, 1.5310840606689453, 1.529707670211792, 1.5291800498962402, 1.529281735420227, 1.5291321277618408, 1.5291743278503418, 1.5298047065734863, 1.5291497707366943, 1.5295449495315552, 1.5302032232284546, 1.5315666198730469, 1.5302560329437256, 1.5304744243621826, 1.5299365520477295, 1.5312151908874512, 1.5298423767089844, 1.5296355485916138, 1.5302706956863403, 1.52996826171875, 1.5308715105056763, 1.5312683582305908, 1.5303270816802979, 1.530166506767273, 1.5301098823547363, 1.529948115348816, 1.5299530029296875, 2837.318359375, 2607.219482421875, 1785.7325439453125, 1780.5335693359375, 1381.5634765625, 769.5767211914062, 682.0850219726562, 508.26556396484375, 434.6943359375, 420.7947998046875, 1.5292999744415283, 1.5291351079940796, 1.5295250415802002, 1.5291755199432373, 1.5290952920913696, 1.5292112827301025, 1.529062271118164, 1.5291944742202759, 1.5295807123184204, 1.529600977897644, 1.5290720462799072, 1.5291223526000977, 1.5291905403137207, 1.5293099880218506, 1.52928626537323, 1.5290470123291016, 1.529129147529602, 1.5290113687515259, 1.529070496559143, 1.5289878845214844, 1.529394268989563, 1.5295592546463013, 1.5293850898742676, 1.529468297958374, 1.5295658111572266, 1.5296894311904907, 1.5297402143478394, 1.5295052528381348, 1.5310840606689453, 1.5304744243621826, 1.5312683582305908, 1.5298622846603394, 1.5312905311584473, 1.5296895503997803, 1.529774785041809, 1.5315666198730469, 1.5312151908874512, 1.5303270816802979, 1.5298423767089844, 1.5302706956863403, 1.529948115348816, 1.5308715105056763, 1.5299365520477295, 1.5302560329437256, 1.5302032232284546, 1.5301098823547363, 1.52996826171875, 1.530166506767273, 1.5299266576766968, 1.529978632926941, 3708.452392578125, 2086.785888671875, 1894.41357421875, 1403.828857421875, 1279.173095703125, 1232.357666015625, 685.8776245117188, 294.1916198730469, 1.5292435884475708, 1.5295658111572266, 1.5291743278503418, 1.5292264223098755, 1.5292383432388306, 1.529129147529602, 1.5291918516159058, 1.5291991233825684, 1.530166506767273, 1.5294674634933472, 1.5291616916656494, 1.529160737991333, 1.5291351079940796, 1.5296894311904907, 1.5290778875350952, 1.5292561054229736, 1.529125452041626, 1.5298720598220825, 1.5291223526000977, 1.5290203094482422, 1.5290138721466064, 1.5290662050247192, 1.5312683582305908, 1.5296411514282227, 1.5304744243621826, 1.5302032232284546, 1.5297949314117432, 1.5299266576766968, 1.5302560329437256, 1.5298622846603394, 1.5312905311584473, 1.5312151908874512, 1.5315666198730469, 1.529978632926941, 1.5310840606689453, 1.5308715105056763, 1.5301098823547363, 1.5303270816802979, 1.5302706956863403, 1.5299530029296875, 1.529948115348816, 3395.521240234375, 1877.6195068359375, 1803.140869140625, 1743.4686279296875, 771.4041137695312, 730.9862060546875, 531.738525390625, 1.5292409658432007, 1.5291920900344849, 1.529200792312622, 1.529490351676941, 1.529393196105957, 1.5292383432388306, 1.5291345119476318, 1.5290602445602417, 1.5291180610656738, 1.52915620803833, 1.5291929244995117, 1.5290213823318481, 1.52912437915802, 1.5292264223098755, 1.5290215015411377, 1.5293099880218506, 1.529374361038208, 1.5291410684585571, 1.5291497707366943, 1.5291134119033813, 1.529948115348816, 1.5291743278503418, 1.5291721820831299, 1.5296709537506104, 1.5295922756195068, 1.529436469078064, 1.5297465324401855, 1.5312151908874512, 1.5294640064239502, 1.5310840606689453, 1.5298423767089844, 1.5315666198730469, 1.5312905311584473, 1.5302032232284546, 1.5295658111572266, 1.5304744243621826, 1.5295823812484741, 1.5308715105056763, 1.5296895503997803, 1.5296682119369507, 1.5302706956863403, 1.530166506767273, 1.5302560329437256, 1.5299266576766968, 1.52996826171875, 1.529774785041809, 1.5312683582305908, 1.5303270816802979, 1.5298622846603394, 1.5298720598220825, 1.5297913551330566, 1.5301098823547363, 1.5299365520477295, 2419.0029296875, 2333.614013671875, 1593.097412109375, 944.7884521484375, 934.67333984375, 868.8751220703125, 712.4254150390625, 467.10980224609375, 1.5291929244995117, 1.529490351676941, 1.5292932987213135, 1.5295250415802002, 1.5291107892990112, 1.529707670211792, 1.5290738344192505, 1.529106616973877, 1.529114842414856, 1.5290275812149048, 1.5291348695755005, 1.5296895503997803, 1.5290255546569824, 1.5294231176376343, 1.5293011665344238, 1.5290024280548096, 1.5294158458709717, 1.5289877653121948, 1.5293469429016113, 1.5292582511901855, 1.529129147529602, 1.5294066667556763, 1.5298047065734863, 1.5292396545410156, 1.5291944742202759, 1.529405117034912, 1.5296355485916138, 1.5295549631118774, 1.5297402143478394, 1.52996826171875, 1.5299266576766968, 1.5312151908874512, 1.5298622846603394, 1.5312683582305908, 1.5310840606689453, 1.5312905311584473, 1.5304744243621826, 1.5295922756195068, 1.5302560329437256, 1.5308715105056763, 1.5315666198730469, 1.530166506767273, 1.5298423767089844, 1.5302706956863403, 1.5303270816802979, 1.5301098823547363, 5096.25830078125, 2470.087890625, 1546.3131103515625, 988.79296875, 1.5293086767196655, 1.5303270816802979, 1.5297138690948486, 1.5294203758239746, 1.5295021533966064, 1.5293850898742676, 1.5294222831726074, 1.5290863513946533, 1.5294528007507324, 1.5298116207122803, 1.5290169715881348, 1.5290865898132324, 1.529075026512146, 1.5293025970458984, 1.5293375253677368, 1.5290452241897583, 1.5291918516159058, 1.5291507244110107, 1.5290898084640503, 1.5290172100067139, 1.52903413772583, 1.5289709568023682, 1.5289971828460693, 1.5290091037750244, 1.5289756059646606, 1.5289697647094727, 1.5290027856826782, 1.529417872428894, 1.5291310548782349, 1.5294066667556763, 1.5293948650360107, 1.5308715105056763, 1.529374361038208, 1.5294127464294434, 1.5296411514282227, 1.5296974182128906, 1.529978632926941, 1.530166506767273, 1.5298720598220825, 1.5299530029296875, 1.5295829772949219, 1.5294774770736694, 1.5312151908874512, 1.5297949314117432, 1.5312905311584473, 1.5299365520477295, 1.5297913551330566, 1.5315666198730469, 1.5310840606689453, 1.5302706956863403, 1.5302560329437256, 1.5312683582305908, 1.5304744243621826, 1.5302032232284546, 1.5299266576766968, 1.5301098823547363, 1.5289697647094727, 1.5289697647094727, 1.5289697647094727, 1.5289697647094727, 1.5289697647094727, 1.5289697647094727, 1.5289697647094727, 1.5289697647094727, 1.5289697647094727, 1.5289697647094727, 1.5289697647094727, 1.5289697647094727, 1.5289697647094727, 1.5289697647094727, 1.5289697647094727, 1.5289697647094727, 1.5289697647094727, 1.5289697647094727, 1.5289697647094727, 1.5289697647094727, 1.5289697647094727, 1.5289697647094727, 1.5289697647094727, 1.5289697647094727, 1.5289697647094727, 1.5289697647094727, 1.5289697647094727, 1.5289697647094727, 1.5289697647094727, 1.5289697647094727, 1.5289697647094727, 1.5289697647094727, 1.5289697647094727, 1.5289697647094727, 1.5289697647094727, 1.5289697647094727, 1.5289840698242188, 1.52898371219635, 1.5289697647094727, 1.5289697647094727, 1.5289697647094727, 1.5289860963821411, 1.5289697647094727, 1.5299266576766968, 1.5290778875350952, 1.529070496559143, 1.5289697647094727, 1.5289697647094727, 1.529434084892273, 1.5290573835372925, 1249.18359375, 1.5291942358016968, 1.5290215015411377, 1.529033899307251, 1.5295250415802002, 1.5289697647094727, 1.5289697647094727, 462.3017272949219, 1.5289697647094727, 1.5289697647094727, 1.5296974182128906, 769.5767211914062, 1.5289697647094727, 1.5312683582305908, 1.5291316509246826, 1.5289697647094727, 1.5289697647094727, 1.5291497707366943, 1.5310840606689453, 1.5289697647094727, 1.5291134119033813, 1.5294020175933838], \"loglift\": [30.0, 29.0, 28.0, 27.0, 26.0, 25.0, 24.0, 23.0, 22.0, 21.0, 20.0, 19.0, 18.0, 17.0, 16.0, 15.0, 14.0, 13.0, 12.0, 11.0, 10.0, 9.0, 8.0, 7.0, 6.0, 5.0, 4.0, 3.0, 2.0, 1.0, 2.309499979019165, 2.309299945831299, 2.3090999126434326, 2.308500051498413, 2.3080999851226807, 2.308000087738037, 2.3039000034332275, -0.7346000075340271, -0.7346000075340271, -0.7347000241279602, -0.7347999811172485, -0.7347999811172485, -0.7348999977111816, -0.7348999977111816, -0.7350999712944031, -0.7350999712944031, -0.7350999712944031, -0.7350999712944031, -0.7350999712944031, -0.7351999878883362, -0.7351999878883362, -0.7351999878883362, -0.7351999878883362, -0.7351999878883362, -0.7351999878883362, -0.7351999878883362, -0.7351999878883362, -0.7351999878883362, -0.7353000044822693, -0.7353000044822693, -0.7353000044822693, 2.5615999698638916, 2.561500072479248, 2.561300039291382, 2.561300039291382, 2.5611000061035156, 2.5611000061035156, 2.5611000061035156, 2.5611000061035156, 2.560800075531006, 2.560800075531006, 2.560699939727783, 2.56030011177063, 2.559999942779541, 2.5599000453948975, 2.559299945831299, 2.559299945831299, 2.558799982070923, 2.5571000576019287, 2.5546998977661133, -0.546999990940094, -0.546999990940094, -0.5471000075340271, -0.5471000075340271, -0.5472000241279602, -0.5472999811172485, -0.5472999811172485, -0.5472999811172485, -0.5473999977111816, -0.5473999977111816, -0.5473999977111816, -0.5473999977111816, 2.613800048828125, 2.6136999130249023, 2.613600015640259, 2.613600015640259, 2.6135001182556152, 2.6135001182556152, 2.6133999824523926, 2.61299991607666, 2.61299991607666, 2.61299991607666, 2.612299919128418, 2.611799955368042, 2.6117000579833984, 2.6110999584198, 2.6092000007629395, -0.39649999141693115, -0.396699994802475, -0.3968000113964081, -0.3968000113964081, -0.3968000113964081, -0.3968000113964081, -0.3968999981880188, -0.3970000147819519, -0.3971000015735626, -0.3971000015735626, -0.3971000015735626, -0.3971000015735626, -0.3971000015735626, -0.39719998836517334, -0.39719998836517334, 2.6275999546051025, 2.6273999214172363, 2.6273000240325928, 2.62719988822937, 2.62719988822937, 2.62719988822937, 2.6268999576568604, 2.626800060272217, 2.626800060272217, 2.625999927520752, 2.625699996948242, 2.6185998916625977, -0.5070000290870667, -0.5072000026702881, -0.5072000026702881, -0.5072000026702881, -0.5073000192642212, -0.5073000192642212, -0.5073000192642212, -0.5073999762535095, -0.5073999762535095, -0.5073999762535095, -0.5073999762535095, -0.5073999762535095, -0.5074999928474426, -0.5074999928474426, -0.5074999928474426, -0.5074999928474426, -0.5074999928474426, -0.5074999928474426, -0.5074999928474426, -0.5074999928474426, -0.5074999928474426, -0.5074999928474426, -0.5074999928474426, 2.7209999561309814, 2.720900058746338, 2.720900058746338, 2.7207999229431152, 2.720400094985962, 2.7202000617980957, 2.720099925994873, 2.7190001010894775, 2.7146999835968018, -0.26350000500679016, -0.2635999917984009, -0.2635999917984009, -0.263700008392334, -0.263700008392334, -0.2639000117778778, -0.2639000117778778, -0.2639999985694885, -0.2639999985694885, -0.2639999985694885, -0.2639999985694885, -0.2639999985694885, -0.2639999985694885, -0.2639999985694885, -0.2639999985694885, -0.2639999985694885, -0.26409998536109924, -0.26409998536109924, -0.26409998536109924, -0.26409998536109924, -0.26409998536109924, -0.26409998536109924, -0.26409998536109924, -0.26409998536109924, -0.26409998536109924, 2.7300000190734863, 2.72979998588562, 2.72979998588562, 2.72979998588562, 2.7295000553131104, 2.7290000915527344, 2.7288999557495117, 2.7288999557495117, 2.7288999557495117, -0.26100000739097595, -0.26100000739097595, -0.26109999418258667, -0.26109999418258667, -0.2612000107765198, -0.2612000107765198, -0.2612999975681305, -0.2612999975681305, -0.2614000141620636, -0.2615000009536743, -0.2615000009536743, -0.2615000009536743, -0.2615000009536743, -0.2615000009536743, -0.2615000009536743, -0.26159998774528503, -0.26159998774528503, -0.26159998774528503, -0.26159998774528503, -0.26159998774528503, -0.26159998774528503, -0.26159998774528503, 2.772599935531616, 2.77239990234375, 2.7720999717712402, 2.7720000743865967, 2.771899938583374, 2.7715001106262207, 2.7713000774383545, 2.7711000442504883, 2.7706000804901123, 2.7706000804901123, 2.770400047302246, 2.7643001079559326, -0.5874999761581421, -0.5875999927520752, -0.5875999927520752, -0.5875999927520752, -0.5875999927520752, -0.5875999927520752, -0.5877000093460083, -0.5877000093460083, -0.5877000093460083, -0.5877000093460083, -0.5877000093460083, -0.5877000093460083, -0.5877000093460083, -0.5877000093460083, -0.5877000093460083, -0.5877000093460083, -0.5877000093460083, -0.5877000093460083, -0.5877000093460083, -0.5877000093460083, -0.5877000093460083, -0.5878000259399414, -0.5878000259399414, -0.5878000259399414, -0.5878000259399414, -0.5878000259399414, -0.5878000259399414, -0.5878000259399414, 2.9247000217437744, 2.9245998859405518, 2.9244000911712646, 2.924299955368042, 2.924099922180176, 2.9235000610351562, 2.9221999645233154, -0.05620000138878822, -0.05620000138878822, -0.056299999356269836, -0.056299999356269836, -0.056299999356269836, -0.056299999356269836, -0.05640000104904175, -0.05640000104904175, -0.05640000104904175, -0.05640000104904175, -0.05649999901652336, -0.05649999901652336, -0.05649999901652336, -0.05649999901652336, -0.05649999901652336, -0.05649999901652336, -0.05649999901652336, -0.05649999901652336, -0.05649999901652336, -0.05649999901652336, -0.05649999901652336, -0.05649999901652336, -0.05649999901652336, -0.05649999901652336, -0.05649999901652336, -0.05660000070929527, -0.05649999901652336, -0.05660000070929527, -0.05660000070929527, 2.9365999698638916, 2.9365999698638916, 2.936300039291382, 2.936300039291382, 2.936199903488159, 2.9361000061035156, 2.9326000213623047, -0.2549999952316284, -0.2551000118255615, -0.2551000118255615, -0.25519999861717224, -0.25519999861717224, -0.25529998540878296, -0.25529998540878296, -0.25529998540878296, -0.25529998540878296, -0.25529998540878296, -0.25529998540878296, -0.25529998540878296, -0.25529998540878296, -0.25529998540878296, -0.25529998540878296, -0.25529998540878296, -0.25529998540878296, -0.25529998540878296, -0.25529998540878296, -0.25529998540878296, -0.25529998540878296, -0.25529998540878296, -0.25529998540878296, -0.25529998540878296, -0.25529998540878296, -0.25540000200271606, -0.25529998540878296, -0.25540000200271606, -0.25529998540878296, -0.25540000200271606, -0.25540000200271606, -0.25540000200271606, -0.25540000200271606, -0.25540000200271606, -0.2554999887943268, -0.25529998540878296, -0.25540000200271606, -0.25529998540878296, -0.2554999887943268, -0.25540000200271606, 2.9553000926971436, 2.955199956893921, 2.9551000595092773, 2.9549999237060547, 2.9549999237060547, 2.9546000957489014, 2.9544999599456787, 2.9542999267578125, -0.09049999713897705, -0.09049999713897705, -0.09059999883174896, -0.09059999883174896, -0.09059999883174896, -0.09059999883174896, -0.09070000052452087, -0.09070000052452087, -0.09070000052452087, -0.09070000052452087, -0.09070000052452087, -0.09070000052452087, -0.09080000221729279, -0.09080000221729279, -0.09080000221729279, -0.09080000221729279, -0.09080000221729279, -0.09080000221729279, -0.09080000221729279, -0.09080000221729279, -0.09080000221729279, -0.09080000221729279, -0.09080000221729279, -0.09080000221729279, -0.0908999964594841, -0.0908999964594841, 3.0292999744415283, 3.0290000438690186, 3.028899908065796, 3.028899908065796, 3.028899908065796, 3.0288000106811523, 3.028599977493286, 3.0281999111175537, 3.0281999111175537, 3.0272998809814453, -0.012199999764561653, -0.012199999764561653, -0.012199999764561653, -0.012199999764561653, -0.012199999764561653, -0.012199999764561653, -0.012199999764561653, -0.012199999764561653, -0.012199999764561653, -0.012199999764561653, -0.012199999764561653, -0.012299999594688416, -0.012299999594688416, -0.012299999594688416, -0.012299999594688416, -0.012299999594688416, -0.012299999594688416, -0.012299999594688416, -0.012299999594688416, -0.012299999594688416, -0.012299999594688416, -0.012299999594688416, -0.012299999594688416, -0.012299999594688416, -0.012299999594688416, -0.012299999594688416, -0.012299999594688416, -0.012299999594688416, -0.012299999594688416, -0.012299999594688416, -0.012299999594688416, -0.012400000356137753, -0.012299999594688416, 3.0445001125335693, 3.0443999767303467, 3.044300079345703, 3.044100046157837, 3.0436999797821045, 3.0434000492095947, -0.1860000044107437, -0.18629999458789825, -0.18639999628067017, -0.18649999797344208, -0.18649999797344208, -0.18649999797344208, -0.18649999797344208, -0.18649999797344208, -0.18649999797344208, -0.186599999666214, -0.186599999666214, -0.186599999666214, -0.186599999666214, -0.186599999666214, -0.186599999666214, -0.186599999666214, -0.186599999666214, -0.186599999666214, -0.186599999666214, -0.186599999666214, -0.186599999666214, -0.186599999666214, -0.186599999666214, -0.186599999666214, -0.1867000013589859, -0.1867000013589859, -0.1867000013589859, -0.1867000013589859, -0.1867000013589859, -0.1867000013589859, -0.1867000013589859, -0.1867000013589859, 3.2495999336242676, 3.2492001056671143, 3.249000072479248, 3.249000072479248, 3.2488999366760254, 3.248800039291382, 3.248800039291382, 3.248800039291382, 3.2486000061035156, 3.2486000061035156, 0.3262999951839447, 0.3262999951839447, 0.3262999951839447, 0.3262999951839447, 0.3262999951839447, 0.3262999951839447, 0.3262999951839447, 0.3262999951839447, 0.3262999951839447, 0.3262999951839447, 0.3262999951839447, 0.3262999951839447, 0.326200008392334, 0.326200008392334, 0.326200008392334, 0.326200008392334, 0.326200008392334, 0.326200008392334, 0.326200008392334, 0.326200008392334, 0.326200008392334, 0.326200008392334, 0.326200008392334, 0.3260999917984009, 0.326200008392334, 0.3260999917984009, 0.326200008392334, 0.3260999917984009, 0.326200008392334, 0.3260999917984009, 0.3260999917984009, 0.3260999917984009, 0.326200008392334, 0.3260999917984009, 3.314199924468994, 3.313999891281128, 3.3138999938964844, 3.313800096511841, 3.312999963760376, 3.3118999004364014, 0.2712000012397766, 0.2709999978542328, 0.27090001106262207, 0.27090001106262207, 0.27090001106262207, 0.27090001106262207, 0.27090001106262207, 0.27079999446868896, 0.27079999446868896, 0.27079999446868896, 0.27079999446868896, 0.27079999446868896, 0.27079999446868896, 0.27079999446868896, 0.27079999446868896, 0.27079999446868896, 0.27079999446868896, 0.27079999446868896, 0.27079999446868896, 0.27079999446868896, 0.27079999446868896, 0.27079999446868896, 0.27079999446868896, 0.27079999446868896, 0.27079999446868896, 0.27079999446868896, 0.27079999446868896, 0.27070000767707825, 0.27070000767707825, 0.27059999108314514, 0.27070000767707825, 0.27079999446868896, 0.27070000767707825, 0.27070000767707825, 0.27059999108314514, 0.2705000042915344, 0.27059999108314514, 0.27070000767707825, 0.27070000767707825, 0.27070000767707825, 0.27070000767707825, 3.3317999839782715, 3.3317999839782715, 3.3315000534057617, 3.3315000534057617, 3.3313000202178955, 3.330399990081787, 3.330199956893921, 3.329400062561035, 3.3289999961853027, 3.3287999629974365, 0.05270000174641609, 0.05270000174641609, 0.05260000005364418, 0.05260000005364418, 0.05260000005364418, 0.05260000005364418, 0.05260000005364418, 0.05260000005364418, 0.05260000005364418, 0.05260000005364418, 0.05260000005364418, 0.05260000005364418, 0.05260000005364418, 0.05260000005364418, 0.05260000005364418, 0.05260000005364418, 0.05260000005364418, 0.05260000005364418, 0.05260000005364418, 0.05260000005364418, 0.05260000005364418, 0.05260000005364418, 0.05260000005364418, 0.05260000005364418, 0.05260000005364418, 0.05260000005364418, 0.05260000005364418, 0.05260000005364418, 0.052400000393390656, 0.05249999836087227, 0.052400000393390656, 0.05249999836087227, 0.052400000393390656, 0.05260000005364418, 0.05249999836087227, 0.05220000073313713, 0.052299998700618744, 0.052400000393390656, 0.05249999836087227, 0.052400000393390656, 0.05249999836087227, 0.05220000073313713, 0.05249999836087227, 0.052400000393390656, 0.052400000393390656, 0.052400000393390656, 0.052400000393390656, 0.052299998700618744, 0.052400000393390656, 0.052400000393390656, 3.378999948501587, 3.378700017929077, 3.3785998821258545, 3.3782999515533447, 3.378200054168701, 3.378200054168701, 3.37719988822937, 3.3743999004364014, 0.34529998898506165, 0.34529998898506165, 0.34529998898506165, 0.3452000021934509, 0.3452000021934509, 0.3452000021934509, 0.3452000021934509, 0.3452000021934509, 0.3452000021934509, 0.3452000021934509, 0.3452000021934509, 0.3452000021934509, 0.3452000021934509, 0.3452000021934509, 0.3452000021934509, 0.3452000021934509, 0.3452000021934509, 0.3452000021934509, 0.3452000021934509, 0.3452000021934509, 0.3452000021934509, 0.3452000021934509, 0.3450999855995178, 0.3452000021934509, 0.3450999855995178, 0.3450999855995178, 0.3450999855995178, 0.3450999855995178, 0.3450999855995178, 0.3450999855995178, 0.3449000120162964, 0.3449000120162964, 0.3447999954223633, 0.3450999855995178, 0.3447999954223633, 0.3449000120162964, 0.3449999988079071, 0.3449000120162964, 0.3449000120162964, 0.3449999988079071, 0.3449999988079071, 3.527100086212158, 3.5267999172210693, 3.526700019836426, 3.526700019836426, 3.525599956512451, 3.5255000591278076, 3.5248000621795654, 0.3052000105381012, 0.3052000105381012, 0.3052000105381012, 0.3052000105381012, 0.3052000105381012, 0.3052000105381012, 0.3052000105381012, 0.3052000105381012, 0.3052000105381012, 0.3052000105381012, 0.3050999939441681, 0.3050999939441681, 0.3050999939441681, 0.3050999939441681, 0.3050999939441681, 0.3050999939441681, 0.3050999939441681, 0.3050999939441681, 0.3050999939441681, 0.3050999939441681, 0.3050999939441681, 0.3050999939441681, 0.3050999939441681, 0.3050999939441681, 0.3050999939441681, 0.3050999939441681, 0.3050999939441681, 0.30489999055862427, 0.3050999939441681, 0.30489999055862427, 0.3050000071525574, 0.30480000376701355, 0.30480000376701355, 0.3050000071525574, 0.3050999939441681, 0.30489999055862427, 0.3050999939441681, 0.30480000376701355, 0.3050000071525574, 0.3050999939441681, 0.30489999055862427, 0.30489999055862427, 0.30489999055862427, 0.3050000071525574, 0.3050000071525574, 0.3050000071525574, 0.304500013589859, 0.30480000376701355, 0.3050000071525574, 0.3050000071525574, 0.3050000071525574, 0.30480000376701355, 0.30489999055862427, 3.5820000171661377, 3.5820000171661377, 3.581700086593628, 3.5810000896453857, 3.5810000896453857, 3.580899953842163, 3.5804998874664307, 3.579400062561035, 0.3253999948501587, 0.3253999948501587, 0.3253999948501587, 0.3253999948501587, 0.3253999948501587, 0.3253999948501587, 0.3253999948501587, 0.325300008058548, 0.325300008058548, 0.325300008058548, 0.325300008058548, 0.325300008058548, 0.325300008058548, 0.325300008058548, 0.325300008058548, 0.325300008058548, 0.325300008058548, 0.325300008058548, 0.325300008058548, 0.325300008058548, 0.325300008058548, 0.325300008058548, 0.325300008058548, 0.325300008058548, 0.325300008058548, 0.325300008058548, 0.325300008058548, 0.325300008058548, 0.325300008058548, 0.32519999146461487, 0.32519999146461487, 0.3249000012874603, 0.32519999146461487, 0.3249000012874603, 0.3249000012874603, 0.3248000144958496, 0.32499998807907104, 0.32519999146461487, 0.32499998807907104, 0.3248000144958496, 0.3244999945163727, 0.32499998807907104, 0.32510000467300415, 0.32499998807907104, 0.3249000012874603, 0.32499998807907104, 3.597399950027466, 3.597100019454956, 3.5966999530792236, 3.5961999893188477, 0.5819000005722046, 0.5817999839782715, 0.5817000269889832, 0.5817000269889832, 0.5817000269889832, 0.5817000269889832, 0.5817000269889832, 0.5817000269889832, 0.58160001039505, 0.58160001039505, 0.58160001039505, 0.58160001039505, 0.58160001039505, 0.58160001039505, 0.58160001039505, 0.58160001039505, 0.58160001039505, 0.58160001039505, 0.58160001039505, 0.58160001039505, 0.58160001039505, 0.58160001039505, 0.58160001039505, 0.58160001039505, 0.58160001039505, 0.58160001039505, 0.58160001039505, 0.58160001039505, 0.58160001039505, 0.58160001039505, 0.58160001039505, 0.5814999938011169, 0.58160001039505, 0.58160001039505, 0.5814999938011169, 0.5814999938011169, 0.5814999938011169, 0.5813999772071838, 0.5814999938011169, 0.5814999938011169, 0.5814999938011169, 0.5814999938011169, 0.5812000036239624, 0.5814999938011169, 0.5810999870300293, 0.5813999772071838, 0.5814999938011169, 0.5809999704360962, 0.5810999870300293, 0.5813000202178955, 0.5813000202178955, 0.5809999704360962, 0.5812000036239624, 0.5813000202178955, 0.5813999772071838, 0.5813000202178955, 5.794400215148926, 5.794400215148926, 5.794400215148926, 5.794400215148926, 5.794400215148926, 5.794400215148926, 5.794400215148926, 5.794400215148926, 5.794400215148926, 5.794400215148926, 5.794400215148926, 5.794400215148926, 5.794400215148926, 5.794400215148926, 5.794400215148926, 5.794400215148926, 5.794400215148926, 5.794400215148926, 5.794400215148926, 5.794400215148926, 5.794400215148926, 5.794400215148926, 5.794400215148926, 5.794400215148926, 5.794400215148926, 5.794400215148926, 5.794400215148926, 5.794400215148926, 5.794400215148926, 5.794400215148926, 5.794400215148926, 5.794400215148926, 5.794400215148926, 5.794400215148926, 5.794400215148926, 5.794400215148926, 5.794400215148926, 5.794400215148926, 5.794400215148926, 5.794400215148926, 5.794400215148926, 5.794400215148926, 5.794400215148926, 5.793799877166748, 5.794400215148926, 5.794400215148926, 5.794400215148926, 5.794400215148926, 5.794099807739258, 5.794400215148926, -0.9111999869346619, 5.794300079345703, 5.794400215148926, 5.794400215148926, 5.794099807739258, 5.794400215148926, 5.794400215148926, 0.0828000009059906, 5.794400215148926, 5.794400215148926, 5.794000148773193, -0.426800012588501, 5.794400215148926, 5.792900085449219, 5.794300079345703, 5.794400215148926, 5.794400215148926, 5.794300079345703, 5.793000221252441, 5.794400215148926, 5.794300079345703, 5.794099807739258], \"logprob\": [30.0, 29.0, 28.0, 27.0, 26.0, 25.0, 24.0, 23.0, 22.0, 21.0, 20.0, 19.0, 18.0, 17.0, 16.0, 15.0, 14.0, 13.0, 12.0, 11.0, 10.0, 9.0, 8.0, 7.0, 6.0, 5.0, 4.0, 3.0, 2.0, 1.0, -0.48980000615119934, -1.714900016784668, -2.2432000637054443, -3.2734999656677246, -3.577500104904175, -3.6185998916625977, -4.957900047302246, -13.13129997253418, -13.131500244140625, -13.131600379943848, -13.1318998336792, -13.132200241088867, -13.1318998336792, -13.131799697875977, -13.132599830627441, -13.132699966430664, -13.132599830627441, -13.132599830627441, -13.132699966430664, -13.132699966430664, -13.13290023803711, -13.13290023803711, -13.133099555969238, -13.13290023803711, -13.133000373840332, -13.133199691772461, -13.133099555969238, -13.133099555969238, -13.133000373840332, -13.133099555969238, -13.133000373840332, -1.7736999988555908, -2.068700075149536, -2.5316998958587646, -2.54259991645813, -2.7160000801086426, -2.7525999546051025, -2.765000104904175, -2.815999984741211, -3.055799961090088, -3.131999969482422, -3.1510000228881836, -3.427799940109253, -3.601799964904785, -3.6912999153137207, -3.921600103378296, -3.937000036239624, -4.127999782562256, -4.542300224304199, -4.954899787902832, -12.943699836730957, -12.943900108337402, -12.944000244140625, -12.944000244140625, -12.944100379943848, -12.944700241088867, -12.9443998336792, -12.945199966430664, -12.94480037689209, -12.944999694824219, -12.944899559020996, -12.944899559020996, -1.722499966621399, -1.9884999990463257, -2.2576000690460205, -2.2908999919891357, -2.46560001373291, -2.540299892425537, -2.6421000957489014, -3.0325000286102295, -3.091099977493286, -3.099100112915039, -3.5251998901367188, -3.773400068283081, -3.8134000301361084, -4.038700103759766, -4.525100231170654, -12.793100357055664, -12.793600082397461, -12.793800354003906, -12.793700218200684, -12.793700218200684, -12.794500350952148, -12.793999671936035, -12.794500350952148, -12.794699668884277, -12.794699668884277, -12.794599533081055, -12.7947998046875, -12.794500350952148, -12.794699668884277, -12.794899940490723, -1.3386000394821167, -2.0680999755859375, -2.204699993133545, -2.3577001094818115, -2.4463999271392822, -2.4540998935699463, -2.779400110244751, -2.9058001041412354, -2.923799991607666, -3.515700101852417, -3.6524999141693115, -5.127900123596191, -12.90369987487793, -12.904199600219727, -12.90410041809082, -12.904399871826172, -12.90410041809082, -12.904199600219727, -12.904999732971191, -12.904800415039062, -12.904899597167969, -12.904999732971191, -12.905200004577637, -12.90530014038086, -12.90530014038086, -12.90530014038086, -12.90530014038086, -12.904999732971191, -12.905200004577637, -12.90530014038086, -12.904999732971191, -12.905200004577637, -12.905099868774414, -12.905200004577637, -12.905200004577637, -1.3289999961853027, -1.7009999752044678, -1.729599952697754, -1.86489999294281, -2.6512999534606934, -2.835200071334839, -2.927799940109253, -3.635699987411499, -4.705900192260742, -12.660099983215332, -12.661399841308594, -12.660499572753906, -12.660599708557129, -12.660599708557129, -12.660900115966797, -12.66100025177002, -12.661800384521484, -12.661499977111816, -12.661499977111816, -12.661499977111816, -12.661700248718262, -12.661600112915039, -12.661800384521484, -12.66189956665039, -12.661600112915039, -12.661700248718262, -12.661800384521484, -12.662099838256836, -12.661999702453613, -12.661999702453613, -12.661499977111816, -12.66189956665039, -12.66189956665039, -12.66189956665039, -1.253000020980835, -1.8056000471115112, -1.913100004196167, -2.004300117492676, -2.5048999786376953, -3.033600091934204, -3.0761001110076904, -3.105799913406372, -3.1115000247955322, -12.65779972076416, -12.657600402832031, -12.657999992370605, -12.657999992370605, -12.658699989318848, -12.65820026397705, -12.65839958190918, -12.658900260925293, -12.659000396728516, -12.659199714660645, -12.659099578857422, -12.659299850463867, -12.659099578857422, -12.658900260925293, -12.659199714660645, -12.65939998626709, -12.659299850463867, -12.659299850463867, -12.659299850463867, -12.659500122070312, -12.659299850463867, -12.65939998626709, -0.9754999876022339, -1.8573999404907227, -2.367000102996826, -2.5262999534606934, -2.658600091934204, -3.0053000450134277, -3.138000011444092, -3.3004000186920166, -3.536900043487549, -3.536900043487549, -3.6463000774383545, -4.8993000984191895, -12.98449993133545, -12.98449993133545, -12.985099792480469, -12.98449993133545, -12.984999656677246, -12.984299659729004, -12.984800338745117, -12.985600471496582, -12.98449993133545, -12.985400199890137, -12.985699653625488, -12.985199928283691, -12.985699653625488, -12.985600471496582, -12.985899925231934, -12.985400199890137, -12.985600471496582, -12.985699653625488, -12.985600471496582, -12.98550033569336, -12.985600471496582, -12.985300064086914, -12.985400199890137, -12.985400199890137, -12.985400199890137, -12.98550033569336, -12.98550033569336, -12.98550033569336, -0.951200008392334, -1.6017999649047852, -2.0234999656677246, -2.207200050354004, -2.4300999641418457, -2.950500011444092, -3.6191000938415527, -12.453100204467773, -12.453200340270996, -12.452899932861328, -12.453399658203125, -12.453200340270996, -12.453200340270996, -12.453900337219238, -12.454000473022461, -12.453800201416016, -12.45419979095459, -12.454500198364258, -12.454000473022461, -12.45419979095459, -12.454000473022461, -12.454099655151367, -12.454500198364258, -12.45419979095459, -12.454400062561035, -12.454299926757812, -12.454400062561035, -12.454099655151367, -12.454299926757812, -12.454500198364258, -12.454400062561035, -12.454400062561035, -12.454299926757812, -12.454299926757812, -12.454299926757812, -12.454299926757812, -1.3387999534606934, -1.43340003490448, -1.9632999897003174, -1.9713000059127808, -2.263400077819824, -2.3431999683380127, -4.0559000968933105, -12.652600288391113, -12.652700424194336, -12.652799606323242, -12.653200149536133, -12.651900291442871, -12.653300285339355, -12.653400421142578, -12.65310001373291, -12.652999877929688, -12.653499603271484, -12.653599739074707, -12.653599739074707, -12.653599739074707, -12.653499603271484, -12.652899742126465, -12.653400421142578, -12.653400421142578, -12.653400421142578, -12.653599739074707, -12.653599739074707, -12.653499603271484, -12.653400421142578, -12.653300285339355, -12.652799606323242, -12.65310001373291, -12.65250015258789, -12.653300285339355, -12.652199745178223, -12.65310001373291, -12.652799606323242, -12.652299880981445, -12.652299880981445, -12.652899742126465, -12.65310001373291, -12.65250015258789, -12.653200149536133, -12.65310001373291, -12.653200149536133, -12.652899742126465, -12.653200149536133, -1.500100016593933, -1.763800024986267, -1.8486000299453735, -2.0896999835968018, -2.1245999336242676, -2.5471999645233154, -2.700000047683716, -2.872299909591675, -12.487199783325195, -12.48740005493164, -12.48740005493164, -12.48799991607666, -12.487600326538086, -12.487700462341309, -12.488499641418457, -12.487600326538086, -12.48859977722168, -12.488499641418457, -12.488300323486328, -12.488300323486328, -12.488300323486328, -12.488699913024902, -12.488499641418457, -12.48859977722168, -12.48859977722168, -12.48859977722168, -12.48840045928955, -12.48859977722168, -12.488800048828125, -12.488300323486328, -12.488300323486328, -12.48859977722168, -12.48859977722168, -12.48859977722168, -1.5501999855041504, -2.0901999473571777, -2.1535000801086426, -2.194200038909912, -2.1958000659942627, -2.38070011138916, -2.5016000270843506, -2.838200092315674, -2.894399881362915, -3.379199981689453, -12.409799575805664, -12.409299850463867, -12.410099983215332, -12.410300254821777, -12.409099578857422, -12.409899711608887, -12.410300254821777, -12.40999984741211, -12.409199714660645, -12.410099983215332, -12.40999984741211, -12.410499572753906, -12.410300254821777, -12.408900260925293, -12.410300254821777, -12.410300254821777, -12.410400390625, -12.410499572753906, -12.410200119018555, -12.410499572753906, -12.409099578857422, -12.410300254821777, -12.409199714660645, -12.409700393676758, -12.409899711608887, -12.409799575805664, -12.409799575805664, -12.409899711608887, -12.40999984741211, -12.410099983215332, -12.40999984741211, -12.409899711608887, -12.410099983215332, -1.1102999448776245, -1.5012999773025513, -1.7592999935150146, -2.0157999992370605, -2.541300058364868, -2.796099901199341, -12.582900047302246, -12.583100318908691, -12.583100318908691, -12.583600044250488, -12.583999633789062, -12.584400177001953, -12.584199905395508, -12.583900451660156, -12.58430004119873, -12.583499908447266, -12.584500312805176, -12.583499908447266, -12.584600448608398, -12.584500312805176, -12.584199905395508, -12.584500312805176, -12.58430004119873, -12.584199905395508, -12.584600448608398, -12.58489990234375, -12.584699630737305, -12.584600448608398, -12.584099769592285, -12.584699630737305, -12.584400177001953, -12.584500312805176, -12.584400177001953, -12.58430004119873, -12.584400177001953, -12.584400177001953, -12.58430004119873, -12.584400177001953, -1.4952000379562378, -2.176100015640259, -2.3310999870300293, -2.3443000316619873, -2.4855000972747803, -2.498800039291382, -2.5062999725341797, -2.5151000022888184, -2.6624999046325684, -2.697200059890747, -12.071599960327148, -12.071900367736816, -12.071499824523926, -12.071700096130371, -12.071800231933594, -12.071399688720703, -12.070599555969238, -12.070599555969238, -12.071900367736816, -12.071700096130371, -12.070899963378906, -12.071900367736816, -12.071499824523926, -12.071700096130371, -12.071700096130371, -12.071800231933594, -12.071800231933594, -12.071999549865723, -12.071499824523926, -12.071700096130371, -12.070799827575684, -12.071200370788574, -12.071399688720703, -12.070500373840332, -12.07129955291748, -12.070799827575684, -12.071499824523926, -12.071399688720703, -12.071599960327148, -12.071399688720703, -12.071499824523926, -12.071499824523926, -12.071599960327148, -12.071599960327148, -1.0392999649047852, -1.5824999809265137, -1.733199954032898, -1.894700050354004, -2.6816000938415527, -3.1861000061035156, -12.126799583435059, -12.126799583435059, -12.12720012664795, -12.127300262451172, -12.12720012664795, -12.126999855041504, -12.125900268554688, -12.127300262451172, -12.127300262451172, -12.127099990844727, -12.127400398254395, -12.127400398254395, -12.12720012664795, -12.127400398254395, -12.1274995803833, -12.126199722290039, -12.127099990844727, -12.127400398254395, -12.127400398254395, -12.127400398254395, -12.127400398254395, -12.126999855041504, -12.127400398254395, -12.12720012664795, -12.126799583435059, -12.125900268554688, -12.126700401306152, -12.126700401306152, -12.126999855041504, -12.126299858093262, -12.127099990844727, -12.12720012664795, -12.126799583435059, -12.126999855041504, -12.12660026550293, -12.126399993896484, -12.126799583435059, -12.126899719238281, -12.126899719238281, -12.126999855041504, -12.126999855041504, -1.5405000448226929, -1.625100016593933, -2.0039000511169434, -2.0067999362945557, -2.260699987411499, -2.8466999530792236, -2.967600107192993, -3.262500047683716, -3.4193999767303467, -3.4519999027252197, -12.345499992370605, -12.345600128173828, -12.345399856567383, -12.345600128173828, -12.34570026397705, -12.345600128173828, -12.34570026397705, -12.345600128173828, -12.345399856567383, -12.34529972076416, -12.34570026397705, -12.34570026397705, -12.345600128173828, -12.345499992370605, -12.345600128173828, -12.34570026397705, -12.34570026397705, -12.34570026397705, -12.34570026397705, -12.345800399780273, -12.345499992370605, -12.345399856567383, -12.345499992370605, -12.345499992370605, -12.345399856567383, -12.34529972076416, -12.34529972076416, -12.345399856567383, -12.344499588012695, -12.344900131225586, -12.344499588012695, -12.345199584960938, -12.344499588012695, -12.34529972076416, -12.34529972076416, -12.344400405883789, -12.344599723815918, -12.345100402832031, -12.34529972076416, -12.345100402832031, -12.34529972076416, -12.344900131225586, -12.34529972076416, -12.345199584960938, -12.345199584960938, -12.345199584960938, -12.34529972076416, -12.34529972076416, -12.34529972076416, -12.34529972076416, -1.225600004196167, -1.8008999824523926, -1.8976999521255493, -2.197700023651123, -2.290800094604492, -2.3280999660491943, -2.9149999618530273, -3.7643001079559326, -12.052900314331055, -12.05270004272461, -12.053000450134277, -12.053000450134277, -12.053000450134277, -12.053000450134277, -12.053000450134277, -12.053000450134277, -12.052399635314941, -12.052800178527832, -12.053000450134277, -12.053099632263184, -12.053099632263184, -12.05270004272461, -12.053099632263184, -12.053000450134277, -12.053099632263184, -12.052599906921387, -12.053099632263184, -12.053199768066406, -12.053199768066406, -12.053199768066406, -12.0516996383667, -12.052800178527832, -12.052300453186035, -12.052399635314941, -12.05270004272461, -12.052599906921387, -12.052499771118164, -12.05270004272461, -12.051899909973145, -12.052000045776367, -12.051899909973145, -12.052599906921387, -12.052200317382812, -12.052300453186035, -12.052599906921387, -12.052599906921387, -12.052599906921387, -12.05270004272461, -12.05270004272461, -1.1656999588012695, -1.7584999799728394, -1.7990000247955322, -1.8325999975204468, -2.6491000652313232, -2.703000068664551, -3.0220000743865967, -12.093000411987305, -12.093000411987305, -12.093000411987305, -12.09280014038086, -12.092900276184082, -12.093000411987305, -12.093099594116211, -12.093199729919434, -12.093099594116211, -12.093099594116211, -12.093099594116211, -12.093199729919434, -12.093099594116211, -12.093099594116211, -12.093199729919434, -12.093000411987305, -12.093000411987305, -12.093099594116211, -12.093099594116211, -12.093199729919434, -12.092599868774414, -12.093099594116211, -12.093099594116211, -12.09280014038086, -12.092900276184082, -12.093000411987305, -12.09280014038086, -12.092000007629395, -12.093000411987305, -12.092100143432617, -12.09280014038086, -12.091899871826172, -12.092100143432617, -12.092599868774414, -12.092900276184082, -12.092499732971191, -12.092900276184082, -12.092300415039062, -12.092900276184082, -12.092900276184082, -12.092599868774414, -12.092700004577637, -12.092599868774414, -12.09280014038086, -12.09280014038086, -12.09280014038086, -12.092399597167969, -12.092700004577637, -12.09280014038086, -12.09280014038086, -12.09280014038086, -12.09280014038086, -12.09280014038086, -1.4499000310897827, -1.48580002784729, -1.867900013923645, -2.3910000324249268, -2.401700019836426, -2.474900007247925, -2.673799991607666, -3.0969998836517334, -12.072799682617188, -12.072600364685059, -12.072799682617188, -12.072600364685059, -12.07289981842041, -12.072500228881836, -12.07289981842041, -12.07289981842041, -12.07289981842041, -12.072999954223633, -12.07289981842041, -12.072600364685059, -12.072999954223633, -12.072699546813965, -12.072799682617188, -12.072999954223633, -12.072699546813965, -12.072999954223633, -12.072799682617188, -12.07289981842041, -12.07289981842041, -12.072799682617188, -12.072500228881836, -12.07289981842041, -12.07289981842041, -12.072799682617188, -12.072699546813965, -12.072699546813965, -12.072600364685059, -12.072500228881836, -12.072600364685059, -12.071999549865723, -12.072600364685059, -12.071999549865723, -12.072099685668945, -12.072099685668945, -12.072400093078613, -12.072699546813965, -12.072500228881836, -12.07229995727539, -12.072199821472168, -12.072600364685059, -12.072699546813965, -12.072600364685059, -12.072600364685059, -12.072600364685059, -0.689300000667572, -1.4139000177383423, -1.882599949836731, -2.3303000926971436, -11.816200256347656, -11.815699577331543, -11.816200256347656, -11.816399574279785, -11.816300392150879, -11.816399574279785, -11.816399574279785, -11.81659984588623, -11.816399574279785, -11.816200256347656, -11.816699981689453, -11.816699981689453, -11.816699981689453, -11.816499710083008, -11.816499710083008, -11.816699981689453, -11.81659984588623, -11.81659984588623, -11.816699981689453, -11.816699981689453, -11.816699981689453, -11.816800117492676, -11.816800117492676, -11.816800117492676, -11.816800117492676, -11.816800117492676, -11.816800117492676, -11.816499710083008, -11.816699981689453, -11.816499710083008, -11.816499710083008, -11.815600395202637, -11.816499710083008, -11.816499710083008, -11.816399574279785, -11.816399574279785, -11.816200256347656, -11.816100120544434, -11.816300392150879, -11.816300392150879, -11.816399574279785, -11.816499710083008, -11.815699577331543, -11.816300392150879, -11.815699577331543, -11.816300392150879, -11.816399574279785, -11.815699577331543, -11.815899848937988, -11.816200256347656, -11.816200256347656, -11.815899848937988, -11.816200256347656, -11.816300392150879, -11.816300392150879, -11.816399574279785, -6.603899955749512, -6.603899955749512, -6.603899955749512, -6.603899955749512, -6.603899955749512, -6.603899955749512, -6.603899955749512, -6.603899955749512, -6.603899955749512, -6.603899955749512, -6.603899955749512, -6.603899955749512, -6.603899955749512, -6.603899955749512, -6.603899955749512, -6.603899955749512, -6.603899955749512, -6.603899955749512, -6.603899955749512, -6.603899955749512, -6.603899955749512, -6.603899955749512, -6.603899955749512, -6.603899955749512, -6.603899955749512, -6.603899955749512, -6.603899955749512, -6.603899955749512, -6.603899955749512, -6.603899955749512, -6.603899955749512, -6.603899955749512, -6.603899955749512, -6.603899955749512, -6.603899955749512, -6.603899955749512, -6.603899955749512, -6.603899955749512, -6.603899955749512, -6.603899955749512, -6.603899955749512, -6.603899955749512, -6.603899955749512, -6.603899955749512, -6.603899955749512, -6.603899955749512, -6.603899955749512, -6.603899955749512, -6.603899955749512, -6.603899955749512, -6.603899955749512, -6.603899955749512, -6.603899955749512, -6.603899955749512, -6.603899955749512, -6.603899955749512, -6.603899955749512, -6.603899955749512, -6.603899955749512, -6.603899955749512, -6.603899955749512, -6.603899955749512, -6.603899955749512, -6.603899955749512, -6.603899955749512, -6.603899955749512, -6.603899955749512, -6.603899955749512, -6.603899955749512, -6.603899955749512, -6.603899955749512, -6.603899955749512]}, \"token.table\": {\"Topic\": [4, 15, 7, 13, 2, 2, 8, 6, 4, 4, 16, 11, 9, 2, 11, 19, 5, 2, 3, 1, 7, 15, 18, 2, 6, 11, 11, 4, 1, 16, 11, 7, 16, 7, 14, 12, 10, 18, 12, 10, 15, 9, 14, 4, 4, 12, 11, 11, 7, 16, 3, 1, 19, 4, 9, 13, 4, 10, 12, 15, 6, 1, 2, 16, 18, 17, 15, 6, 13, 5, 2, 6, 9, 13, 6, 5, 13, 5, 8, 15, 2, 7, 1, 7, 2, 10, 17, 3, 17, 7, 3, 2, 11, 14, 10, 19, 8, 2, 3, 3, 4, 10, 7, 18, 9, 3, 12, 17, 4, 11, 10, 15, 3, 9, 8, 16, 7, 2, 5, 16, 11, 17, 13, 2, 15, 18, 6, 8, 5, 13, 4, 14, 14, 13, 2, 3, 3, 1, 16, 13, 18, 10, 1, 3, 12, 2, 7, 8, 2, 3, 9, 14, 3, 3, 17, 17, 2, 18, 13, 15, 8, 2, 5, 3, 6, 15, 2, 4, 6, 19, 5, 18, 5, 7], \"Freq\": [0.9998554587364197, 0.9984092712402344, 0.997319757938385, 0.9986488223075867, 0.998186469078064, 0.9991669654846191, 0.9991651773452759, 0.9982956051826477, 0.9992977976799011, 0.9996287226676941, 0.9990829229354858, 0.99904865026474, 0.9996122717857361, 0.998995840549469, 0.9991328120231628, 0.9981867074966431, 0.9988536834716797, 0.99662184715271, 0.9964472055435181, 0.9989193677902222, 0.997778058052063, 0.9990297555923462, 0.9995853900909424, 0.9995177388191223, 0.9992473721504211, 0.9982991218566895, 0.9992602467536926, 0.9982662200927734, 0.9989707469940186, 0.9988983273506165, 0.9991482496261597, 0.9987996816635132, 0.9996083378791809, 0.9993757605552673, 0.997666597366333, 0.9990860819816589, 0.9994699358940125, 0.9993111491203308, 0.9995771646499634, 0.9985193610191345, 0.9979512095451355, 0.9997620582580566, 0.9996027946472168, 0.9993836283683777, 0.9977205395698547, 0.9995559453964233, 0.9995435476303101, 0.9989272952079773, 0.9978277683258057, 0.9986972212791443, 0.9978747963905334, 0.9956890344619751, 0.999150812625885, 0.9924843311309814, 0.9944284558296204, 0.9988066554069519, 0.9991869926452637, 0.998752772808075, 0.9996294379234314, 0.9957347512245178, 0.9997114539146423, 0.9996204972267151, 0.9992626905441284, 0.9959495067596436, 0.9993083477020264, 0.998650848865509, 0.999535322189331, 0.999729573726654, 0.9996091723442078, 0.9997355341911316, 0.9971842765808105, 0.9983274340629578, 0.9997758269309998, 0.9992853999137878, 0.9983828067779541, 0.9992861747741699, 0.9989624619483948, 0.9996018409729004, 0.9996877312660217, 0.9988683462142944, 0.9977164268493652, 0.999103307723999, 0.9983658194541931, 0.9989756941795349, 0.9986562132835388, 0.9984665513038635, 0.9993672966957092, 0.9996480345726013, 0.9991576671600342, 0.9998080134391785, 0.9989187717437744, 0.9993301630020142, 0.9990473389625549, 0.9994761943817139, 0.9994656443595886, 0.9995595812797546, 0.9998706579208374, 0.9981940388679504, 0.9994586706161499, 0.9987959861755371, 0.9994852542877197, 0.9997104406356812, 0.9938827157020569, 0.9976240992546082, 0.9992407560348511, 0.9973775744438171, 0.9984782934188843, 0.9981797933578491, 0.9992990493774414, 0.9991989135742188, 0.9996738433837891, 0.9961022138595581, 0.9993873834609985, 0.999107301235199, 0.9990348219871521, 0.9991441965103149, 0.9981293678283691, 0.9990525245666504, 0.9993506073951721, 0.9992538094520569, 0.9970008134841919, 0.9967305064201355, 0.9990054368972778, 0.9967480301856995, 0.9975100159645081, 0.9982097148895264, 0.9986529350280762, 0.9968972206115723, 0.9997039437294006, 0.9979983568191528, 0.9996619820594788, 0.9993781447410583, 0.9981472492218018, 0.9992719292640686, 0.9977102875709534, 0.9993993043899536, 0.9994934797286987, 0.9999565482139587, 0.9972624778747559, 0.9987465143203735, 0.9981070160865784, 0.9993873238563538, 0.9998028874397278, 0.9949573278427124, 0.9997994899749756, 0.9997246861457825, 0.9984381198883057, 0.9992030262947083, 0.9989601969718933, 0.9997271299362183, 0.9996125102043152, 0.9993885159492493, 0.9991442561149597, 0.9993332028388977, 0.9991374611854553, 0.9995520114898682, 0.9990364909172058, 0.9978418946266174, 0.9988946318626404, 0.9991387128829956, 0.9992972612380981, 0.9949237704277039, 0.9912269711494446, 0.998357892036438, 0.9997037053108215, 0.9995322823524475, 0.999249279499054, 0.9995535612106323, 0.9995226263999939, 0.9997531175613403, 0.9998032450675964, 0.9979991912841797, 0.997888445854187, 0.9997001886367798], \"Term\": [\"a\", \"about\", \"account\", \"actually\", \"always\", \"and\", \"are\", \"around\", \"away\", \"back\", \"be\", \"become\", \"best\", \"better\", \"big\", \"but\", \"called\", \"cash\", \"child\", \"come\", \"control\", \"could\", \"data\", \"day\", \"days\", \"deal\", \"do\", \"done\", \"down\", \"end\", \"even\", \"event\", \"ever\", \"every\", \"experience\", \"feature\", \"for\", \"found\", \"free\", \"full\", \"future\", \"game\", \"get\", \"go\", \"goes\", \"good\", \"got\", \"great\", \"has\", \"have\", \"head\", \"health\", \"help\", \"helps\", \"her\", \"high\", \"hit\", \"hours\", \"how\", \"huge\", \"if\", \"in\", \"instead\", \"interesting\", \"internet\", \"interview\", \"is\", \"it\", \"know\", \"last\", \"least\", \"less\", \"like\", \"live\", \"long\", \"look\", \"looks\", \"made\", \"make\", \"makes\", \"might\", \"million\", \"minutes\", \"money\", \"month\", \"months\", \"much\", \"my\", \"need\", \"new\", \"news\", \"next\", \"night\", \"not\", \"now\", \"old\", \"one\", \"online\", \"open\", \"out\", \"pay\", \"people\", \"piece\", \"plan\", \"play\", \"point\", \"post\", \"read\", \"real\", \"really\", \"right\", \"round\", \"said\", \"say\", \"second\", \"see\", \"series\", \"service\", \"show\", \"so\", \"social\", \"some\", \"something\", \"spend\", \"spent\", \"start\", \"started\", \"starts\", \"still\", \"story\", \"support\", \"take\", \"talk\", \"tell\", \"test\", \"th\", \"that\", \"the\", \"them\", \"thing\", \"things\", \"think\", \"this\", \"thoughts\", \"time\", \"today\", \"top\", \"two\", \"up\", \"use\", \"video\", \"want\", \"wants\", \"watch\", \"way\", \"we\", \"week\", \"went\", \"were\", \"what\", \"when\", \"where\", \"which\", \"who\", \"why\", \"with\", \"work\", \"world\", \"would\", \"year\", \"years\", \"yesterday\", \"yet\", \"you\"]}, \"R\": 30, \"lambda.step\": 0.01, \"plot.opts\": {\"xlab\": \"PC1\", \"ylab\": \"PC2\"}, \"topic.order\": [9, 16, 11, 1, 4, 8, 10, 13, 17, 6, 15, 18, 5, 19, 7, 3, 2, 14, 12, 20]};\n",
       "\n",
       "function LDAvis_load_lib(url, callback){\n",
       "  var s = document.createElement('script');\n",
       "  s.src = url;\n",
       "  s.async = true;\n",
       "  s.onreadystatechange = s.onload = callback;\n",
       "  s.onerror = function(){console.warn(\"failed to load library \" + url);};\n",
       "  document.getElementsByTagName(\"head\")[0].appendChild(s);\n",
       "}\n",
       "\n",
       "if(typeof(LDAvis) !== \"undefined\"){\n",
       "   // already loaded: just create the visualization\n",
       "   !function(LDAvis){\n",
       "       new LDAvis(\"#\" + \"ldavis_el789791138558322566587401590\", ldavis_el789791138558322566587401590_data);\n",
       "   }(LDAvis);\n",
       "}else if(typeof define === \"function\" && define.amd){\n",
       "   // require.js is available: use it to load d3/LDAvis\n",
       "   require.config({paths: {d3: \"https://cdnjs.cloudflare.com/ajax/libs/d3/3.5.5/d3.min\"}});\n",
       "   require([\"d3\"], function(d3){\n",
       "      window.d3 = d3;\n",
       "      LDAvis_load_lib(\"https://cdn.rawgit.com/bmabey/pyLDAvis/files/ldavis.v1.0.0.js\", function(){\n",
       "        new LDAvis(\"#\" + \"ldavis_el789791138558322566587401590\", ldavis_el789791138558322566587401590_data);\n",
       "      });\n",
       "    });\n",
       "}else{\n",
       "    // require.js not available: dynamically load d3 & LDAvis\n",
       "    LDAvis_load_lib(\"https://cdnjs.cloudflare.com/ajax/libs/d3/3.5.5/d3.min.js\", function(){\n",
       "         LDAvis_load_lib(\"https://cdn.rawgit.com/bmabey/pyLDAvis/files/ldavis.v1.0.0.js\", function(){\n",
       "                 new LDAvis(\"#\" + \"ldavis_el789791138558322566587401590\", ldavis_el789791138558322566587401590_data);\n",
       "            })\n",
       "         });\n",
       "}\n",
       "</script>"
      ],
      "text/plain": [
       "PreparedData(topic_coordinates=              x         y  topics  cluster      Freq\n",
       "topic                                               \n",
       "8      0.189303 -0.362577       1        1  9.930892\n",
       "15    -0.282106 -0.101788       2        1  7.715640\n",
       "10    -0.165948 -0.044775       3        1  7.323079\n",
       "0     -0.054930 -0.102846       4        1  7.223683\n",
       "3      0.041270 -0.001845       5        1  6.579432\n",
       "7      0.027373 -0.002763       6        1  6.520523\n",
       "9     -0.035018 -0.153411       7        1  6.248676\n",
       "12     0.089550  0.049452       8        1  5.366909\n",
       "16     0.106337  0.000414       9        1  5.303156\n",
       "5      0.040870  0.039818      10        1  5.204773\n",
       "14    -0.039629  0.051099      11        1  4.833316\n",
       "17     0.135708  0.020997      12        1  4.760856\n",
       "4     -0.075144  0.084674      13        1  3.877150\n",
       "18     0.082693  0.090114      14        1  3.635063\n",
       "6     -0.035334  0.061308      15        1  3.570916\n",
       "2      0.000582  0.090299      16        1  3.406919\n",
       "1      0.038775  0.089882      17        1  2.937725\n",
       "13    -0.001520  0.088816      18        1  2.780329\n",
       "11     0.108962  0.107172      19        1  2.738732\n",
       "19    -0.171795 -0.004041      20        1  0.042225, topic_info=    Category          Freq        Term         Total  loglift  logprob\n",
       "14   Default  22555.000000         the  22555.000000  30.0000  30.0000\n",
       "11   Default   8732.000000         new   8732.000000  29.0000  29.0000\n",
       "60   Default   7684.000000         one   7684.000000  28.0000  28.0000\n",
       "27   Default   6904.000000          it   6904.000000  27.0000  27.0000\n",
       "4    Default   7022.000000           a   7022.000000  26.0000  26.0000\n",
       "132  Default   5096.000000        year   5096.000000  25.0000  25.0000\n",
       "70   Default   5815.000000        time   5815.000000  24.0000  24.0000\n",
       "516  Default   6457.000000       years   6457.000000  23.0000  23.0000\n",
       "286  Default   4766.000000         get   4766.000000  22.0000  22.0000\n",
       "30   Default   6626.000000        this   6626.000000  21.0000  21.0000\n",
       "160  Default   5154.000000        like   5154.000000  20.0000  20.0000\n",
       "401  Default   4689.000000        game   4689.000000  19.0000  19.0000\n",
       "203  Default   4305.000000      people   4305.000000  18.0000  18.0000\n",
       "112  Default   4849.000000          my   4849.000000  17.0000  17.0000\n",
       "547  Default   3708.000000        ever   3708.000000  16.0000  16.0000\n",
       "173  Default   4854.000000       today   4854.000000  15.0000  15.0000\n",
       "111  Default   4451.000000        made   4451.000000  14.0000  14.0000\n",
       "468  Default   3395.000000          we   3395.000000  13.0000  13.0000\n",
       "266  Default   3933.000000         how   3933.000000  12.0000  12.0000\n",
       "129  Default   4326.000000        last   4326.000000  11.0000  11.0000\n",
       "257  Default   4010.000000        make   4010.000000  10.0000  10.0000\n",
       "58   Default   3802.000000         got   3802.000000   9.0000   9.0000\n",
       "503  Default   3973.000000       would   3973.000000   8.0000   8.0000\n",
       "549  Default   3223.000000        know   3223.000000   7.0000   7.0000\n",
       "48   Default   3779.000000       still   3779.000000   6.0000   6.0000\n",
       "151  Default   3616.000000         you   3616.000000   5.0000   5.0000\n",
       "113  Default   3307.000000         now   3307.000000   4.0000   4.0000\n",
       "424  Default   3569.000000          if   3569.000000   3.0000   3.0000\n",
       "320  Default   3717.000000         use   3717.000000   2.0000   2.0000\n",
       "46   Default   2837.000000          is   2837.000000   1.0000   1.0000\n",
       "..       ...           ...         ...           ...      ...      ...\n",
       "289  Topic20      0.212059       China      1.528970   5.7944  -6.6039\n",
       "242  Topic20      0.212059        just      1.529927   5.7938  -6.6039\n",
       "251  Topic20      0.212059     article      1.529078   5.7944  -6.6039\n",
       "250  Topic20      0.212059    announce      1.529070   5.7944  -6.6039\n",
       "249  Topic20      0.212059     Excited      1.528970   5.7944  -6.6039\n",
       "248  Topic20      0.212059         thu      1.528970   5.7944  -6.6039\n",
       "247  Topic20      0.212059      thanks      1.529434   5.7941  -6.6039\n",
       "246  Topic20      0.212059     startup      1.529057   5.7944  -6.6039\n",
       "245  Topic20      0.212059     service   1249.183594  -0.9112  -6.6039\n",
       "244  Topic20      0.212059      videos      1.529194   5.7943  -6.6039\n",
       "243  Topic20      0.212059      raised      1.529022   5.7944  -6.6039\n",
       "241  Topic20      0.212059  enterprise      1.529034   5.7944  -6.6039\n",
       "184  Topic20      0.212059        your      1.529525   5.7941  -6.6039\n",
       "240  Topic20      0.212059     Stories      1.528970   5.7944  -6.6039\n",
       "239  Topic20      0.212059    Snapchat      1.528970   5.7944  -6.6039\n",
       "238  Topic20      0.212059       least    462.301727   0.0828  -6.6039\n",
       "237  Topic20      0.212059          US      1.528970   5.7944  -6.6039\n",
       "236  Topic20      0.212059       scoop      1.528970   5.7944  -6.6039\n",
       "235  Topic20      0.212059          me      1.529697   5.7940  -6.6039\n",
       "234  Topic20      0.212059      future    769.576721  -0.4268  -6.6039\n",
       "233  Topic20      0.212059        Meet      1.528970   5.7944  -6.6039\n",
       "232  Topic20      0.212059       first      1.531268   5.7929  -6.6039\n",
       "252  Topic20      0.212059         our      1.529132   5.7943  -6.6039\n",
       "253  Topic20      0.212059    Googleus      1.528970   5.7944  -6.6039\n",
       "254  Topic20      0.212059   Facebooks      1.528970   5.7944  -6.6039\n",
       "255  Topic20      0.212059     content      1.529150   5.7943  -6.6039\n",
       "274  Topic20      0.212059        says      1.531084   5.7930  -6.6039\n",
       "273  Topic20      0.212059         inu      1.528970   5.7944  -6.6039\n",
       "272  Topic20      0.212059       stock      1.529113   5.7943  -6.6039\n",
       "271  Topic20      0.212059      public      1.529402   5.7941  -6.6039\n",
       "\n",
       "[906 rows x 6 columns], token_table=      Topic      Freq       Term\n",
       "term                            \n",
       "4         4  0.999855          a\n",
       "81       15  0.998409      about\n",
       "594       7  0.997320    account\n",
       "337      13  0.998649   actually\n",
       "101       2  0.998186     always\n",
       "6         2  0.999167        and\n",
       "7         8  0.999165        are\n",
       "513       6  0.998296     around\n",
       "497       4  0.999298       away\n",
       "8         4  0.999629       back\n",
       "143      16  0.999083         be\n",
       "588      11  0.999049     become\n",
       "223       9  0.999612       best\n",
       "374       2  0.998996     better\n",
       "172      11  0.999133        big\n",
       "117      19  0.998187        but\n",
       "261       5  0.998854     called\n",
       "689       2  0.996622       cash\n",
       "495       3  0.996447      child\n",
       "462       1  0.998919       come\n",
       "635       7  0.997778    control\n",
       "265      15  0.999030      could\n",
       "20       18  0.999585       data\n",
       "310       2  0.999518        day\n",
       "675       6  0.999247       days\n",
       "159      11  0.998299       deal\n",
       "358      11  0.999260         do\n",
       "128       4  0.998266       done\n",
       "370       1  0.998971       down\n",
       "206      16  0.998898        end\n",
       "...     ...       ...        ...\n",
       "70       12  0.999799       time\n",
       "173       2  0.999725      today\n",
       "431       7  0.998438        top\n",
       "256       8  0.999203        two\n",
       "44        2  0.998960         up\n",
       "320       3  0.999727        use\n",
       "288       9  0.999613      video\n",
       "423      14  0.999389       want\n",
       "580       3  0.999144      wants\n",
       "601       3  0.999333      watch\n",
       "302      17  0.999137        way\n",
       "468      17  0.999552         we\n",
       "187       2  0.999036       week\n",
       "541      18  0.997842       went\n",
       "108      13  0.998895       were\n",
       "361      15  0.999139       what\n",
       "164       8  0.999297       when\n",
       "61        2  0.994924      where\n",
       "368       5  0.991227      which\n",
       "390       3  0.998358        who\n",
       "470       6  0.999704        why\n",
       "16       15  0.999532       with\n",
       "205       2  0.999249       work\n",
       "280       4  0.999554      world\n",
       "503       6  0.999523      would\n",
       "132      19  0.999753       year\n",
       "516       5  0.999803      years\n",
       "698      18  0.997999  yesterday\n",
       "669       5  0.997888        yet\n",
       "151       7  0.999700        you\n",
       "\n",
       "[174 rows x 3 columns], R=30, lambda_step=0.01, plot_opts={'xlab': 'PC1', 'ylab': 'PC2'}, topic_order=[9, 16, 11, 1, 4, 8, 10, 13, 17, 6, 15, 18, 5, 19, 7, 3, 2, 14, 12, 20])"
      ]
     },
     "execution_count": 702,
     "metadata": {},
     "output_type": "execute_result"
    }
   ],
   "source": [
    "import pyLDAvis\n",
    "import pyLDAvis.gensim\n",
    "pyLDAvis.enable_notebook()\n",
    "vis = pyLDAvis.gensim.prepare(lda_model, corpus, dictionary)\n",
    "vis"
   ]
  },
  {
   "cell_type": "markdown",
   "metadata": {},
   "source": [
    "# Getting Related Subreddits"
   ]
  },
  {
   "cell_type": "code",
   "execution_count": 210,
   "metadata": {},
   "outputs": [],
   "source": [
    "driver = webdriver.Chrome()\n",
    "driver.get('https://anvaka.github.io/redsim/')"
   ]
  },
  {
   "cell_type": "code",
   "execution_count": 212,
   "metadata": {},
   "outputs": [],
   "source": [
    "related_subreddits = {}\n",
    "for i in clean_subs:\n",
    "    searchbox = driver.find_element_by_id('search-input')\n",
    "    searchbox.send_keys(i)\n",
    "    driver.find_element_by_class_name('btn').click()\n",
    "    result_subs = driver.find_elements_by_xpath(\"//div[contains(@ng-repeat, 'sub in to')]\")\n",
    "    for s in result_subs:\n",
    "        related_subreddits.setdefault(i,[]).append(s.text) \n",
    "    driver.find_element_by_id('search-input').clear()\n",
    "        "
   ]
  },
  {
   "cell_type": "code",
   "execution_count": 254,
   "metadata": {},
   "outputs": [
    {
     "data": {
      "application/vnd.jupyter.widget-view+json": {
       "model_id": "ec8bbe83bbf14071a7b586839e8eb574",
       "version_major": 2,
       "version_minor": 0
      },
      "text/plain": [
       "HBox(children=(IntProgress(value=0, max=166), HTML(value='')))"
      ]
     },
     "metadata": {},
     "output_type": "display_data"
    }
   ],
   "source": [
    "driver = webdriver.Chrome()\n",
    "for related_subs in tqdm(list(related_subreddits.values())):\n",
    "    for sub in related_subs:\n",
    "        driver.get('https://www.reddit.com/r/{}'.format(sub))\n",
    "        try:\n",
    "            driver.find_element_by_class_name('_1jefpljVGT-eHObg40F8Dm')\n",
    "            related_subs.remove(sub)\n",
    "        except:\n",
    "            continue"
   ]
  },
  {
   "cell_type": "code",
   "execution_count": 742,
   "metadata": {
    "collapsed": true
   },
   "outputs": [
    {
     "data": {
      "application/vnd.jupyter.widget-view+json": {
       "model_id": "0718aa36c23540afad79baa7604ee234",
       "version_major": 2,
       "version_minor": 0
      },
      "text/plain": [
       "HBox(children=(IntProgress(value=0, max=166), HTML(value='')))"
      ]
     },
     "metadata": {},
     "output_type": "display_data"
    },
    {
     "data": {
      "application/vnd.jupyter.widget-view+json": {
       "model_id": "b717b794864d4dfca82ab24a8c51dadb",
       "version_major": 2,
       "version_minor": 0
      },
      "text/plain": [
       "HBox(children=(IntProgress(value=0, max=11), HTML(value='')))"
      ]
     },
     "metadata": {},
     "output_type": "display_data"
    },
    {
     "data": {
      "application/vnd.jupyter.widget-view+json": {
       "model_id": "4c85dc5bc08643a8a77c0cdc04eda313",
       "version_major": 2,
       "version_minor": 0
      },
      "text/plain": [
       "HBox(children=(IntProgress(value=0, max=1), HTML(value='')))"
      ]
     },
     "metadata": {},
     "output_type": "display_data"
    },
    {
     "data": {
      "application/vnd.jupyter.widget-view+json": {
       "model_id": "9e158678fb5c4b549e27682e9d4e8525",
       "version_major": 2,
       "version_minor": 0
      },
      "text/plain": [
       "HBox(children=(IntProgress(value=0, max=3), HTML(value='')))"
      ]
     },
     "metadata": {},
     "output_type": "display_data"
    },
    {
     "data": {
      "application/vnd.jupyter.widget-view+json": {
       "model_id": "a2411fdd947a40e3877d7ae3ea6693b5",
       "version_major": 2,
       "version_minor": 0
      },
      "text/plain": [
       "HBox(children=(IntProgress(value=0, max=5), HTML(value='')))"
      ]
     },
     "metadata": {},
     "output_type": "display_data"
    },
    {
     "data": {
      "application/vnd.jupyter.widget-view+json": {
       "model_id": "ea8d879bb940459e8e1f40e5154aa3c1",
       "version_major": 2,
       "version_minor": 0
      },
      "text/plain": [
       "HBox(children=(IntProgress(value=0, max=6), HTML(value='')))"
      ]
     },
     "metadata": {},
     "output_type": "display_data"
    },
    {
     "data": {
      "application/vnd.jupyter.widget-view+json": {
       "model_id": "08e305206d8748a2a8709bab292ca3c0",
       "version_major": 2,
       "version_minor": 0
      },
      "text/plain": [
       "HBox(children=(IntProgress(value=0, max=6), HTML(value='')))"
      ]
     },
     "metadata": {},
     "output_type": "display_data"
    },
    {
     "data": {
      "application/vnd.jupyter.widget-view+json": {
       "model_id": "1c1fd3277190422eb99969011c1efd96",
       "version_major": 2,
       "version_minor": 0
      },
      "text/plain": [
       "HBox(children=(IntProgress(value=0, max=5), HTML(value='')))"
      ]
     },
     "metadata": {},
     "output_type": "display_data"
    },
    {
     "data": {
      "application/vnd.jupyter.widget-view+json": {
       "model_id": "2d9cd453cdbd4161b9f07d2988db1e63",
       "version_major": 2,
       "version_minor": 0
      },
      "text/plain": [
       "HBox(children=(IntProgress(value=0, max=12), HTML(value='')))"
      ]
     },
     "metadata": {},
     "output_type": "display_data"
    },
    {
     "data": {
      "application/vnd.jupyter.widget-view+json": {
       "model_id": "b2b9ac3a513b48d2a020d6ea6243113b",
       "version_major": 2,
       "version_minor": 0
      },
      "text/plain": [
       "HBox(children=(IntProgress(value=0, max=13), HTML(value='')))"
      ]
     },
     "metadata": {},
     "output_type": "display_data"
    },
    {
     "data": {
      "application/vnd.jupyter.widget-view+json": {
       "model_id": "29f644d90b604ebea3f41d35e7e2ae81",
       "version_major": 2,
       "version_minor": 0
      },
      "text/plain": [
       "HBox(children=(IntProgress(value=0, max=1), HTML(value='')))"
      ]
     },
     "metadata": {},
     "output_type": "display_data"
    },
    {
     "data": {
      "application/vnd.jupyter.widget-view+json": {
       "model_id": "2d6b2d126e0e449e9b5173d403272403",
       "version_major": 2,
       "version_minor": 0
      },
      "text/plain": [
       "HBox(children=(IntProgress(value=0, max=4), HTML(value='')))"
      ]
     },
     "metadata": {},
     "output_type": "display_data"
    },
    {
     "data": {
      "application/vnd.jupyter.widget-view+json": {
       "model_id": "990c0b5ca1b24f5eaac8d2c6429e05a0",
       "version_major": 2,
       "version_minor": 0
      },
      "text/plain": [
       "HBox(children=(IntProgress(value=0, max=2), HTML(value='')))"
      ]
     },
     "metadata": {},
     "output_type": "display_data"
    },
    {
     "data": {
      "application/vnd.jupyter.widget-view+json": {
       "model_id": "9d24686ed538402dba37c757b1e15306",
       "version_major": 2,
       "version_minor": 0
      },
      "text/plain": [
       "HBox(children=(IntProgress(value=0, max=1), HTML(value='')))"
      ]
     },
     "metadata": {},
     "output_type": "display_data"
    },
    {
     "data": {
      "application/vnd.jupyter.widget-view+json": {
       "model_id": "e8c6bade6e7b4a6cb4391ef03b0eb372",
       "version_major": 2,
       "version_minor": 0
      },
      "text/plain": [
       "HBox(children=(IntProgress(value=0, max=4), HTML(value='')))"
      ]
     },
     "metadata": {},
     "output_type": "display_data"
    },
    {
     "data": {
      "application/vnd.jupyter.widget-view+json": {
       "model_id": "be9d352763ca40528d9cc72c7a980f27",
       "version_major": 2,
       "version_minor": 0
      },
      "text/plain": [
       "HBox(children=(IntProgress(value=0, max=9), HTML(value='')))"
      ]
     },
     "metadata": {},
     "output_type": "display_data"
    },
    {
     "data": {
      "application/vnd.jupyter.widget-view+json": {
       "model_id": "b417cefba6e94136bfc08d516e94fd9f",
       "version_major": 2,
       "version_minor": 0
      },
      "text/plain": [
       "HBox(children=(IntProgress(value=0, max=8), HTML(value='')))"
      ]
     },
     "metadata": {},
     "output_type": "display_data"
    },
    {
     "data": {
      "application/vnd.jupyter.widget-view+json": {
       "model_id": "9d713658b59e4414b0d652ed6e02e891",
       "version_major": 2,
       "version_minor": 0
      },
      "text/plain": [
       "HBox(children=(IntProgress(value=0, max=6), HTML(value='')))"
      ]
     },
     "metadata": {},
     "output_type": "display_data"
    },
    {
     "data": {
      "application/vnd.jupyter.widget-view+json": {
       "model_id": "6d2d8a42fd3f4ff0ad27b7bedc02fc06",
       "version_major": 2,
       "version_minor": 0
      },
      "text/plain": [
       "HBox(children=(IntProgress(value=0, max=7), HTML(value='')))"
      ]
     },
     "metadata": {},
     "output_type": "display_data"
    },
    {
     "data": {
      "application/vnd.jupyter.widget-view+json": {
       "model_id": "3e831b112372499fa87fe9aba5e00ca6",
       "version_major": 2,
       "version_minor": 0
      },
      "text/plain": [
       "HBox(children=(IntProgress(value=0, max=1), HTML(value='')))"
      ]
     },
     "metadata": {},
     "output_type": "display_data"
    },
    {
     "data": {
      "application/vnd.jupyter.widget-view+json": {
       "model_id": "679f1ed2278d4edb977679e6026a3ba7",
       "version_major": 2,
       "version_minor": 0
      },
      "text/plain": [
       "HBox(children=(IntProgress(value=0, max=5), HTML(value='')))"
      ]
     },
     "metadata": {},
     "output_type": "display_data"
    },
    {
     "data": {
      "application/vnd.jupyter.widget-view+json": {
       "model_id": "333f123b1b404a3ebb591857d79f3299",
       "version_major": 2,
       "version_minor": 0
      },
      "text/plain": [
       "HBox(children=(IntProgress(value=0, max=2), HTML(value='')))"
      ]
     },
     "metadata": {},
     "output_type": "display_data"
    },
    {
     "data": {
      "application/vnd.jupyter.widget-view+json": {
       "model_id": "421706f1ddf64594b071191622692991",
       "version_major": 2,
       "version_minor": 0
      },
      "text/plain": [
       "HBox(children=(IntProgress(value=0, max=3), HTML(value='')))"
      ]
     },
     "metadata": {},
     "output_type": "display_data"
    },
    {
     "data": {
      "application/vnd.jupyter.widget-view+json": {
       "model_id": "a160cf44ea24432b8c7e10c535d4e413",
       "version_major": 2,
       "version_minor": 0
      },
      "text/plain": [
       "HBox(children=(IntProgress(value=0, max=6), HTML(value='')))"
      ]
     },
     "metadata": {},
     "output_type": "display_data"
    },
    {
     "data": {
      "application/vnd.jupyter.widget-view+json": {
       "model_id": "a5de6c4f95f54db89d48d6f880b86de2",
       "version_major": 2,
       "version_minor": 0
      },
      "text/plain": [
       "HBox(children=(IntProgress(value=0, max=14), HTML(value='')))"
      ]
     },
     "metadata": {},
     "output_type": "display_data"
    },
    {
     "data": {
      "application/vnd.jupyter.widget-view+json": {
       "model_id": "89872f6a172b45c9a5ee4d5403945fef",
       "version_major": 2,
       "version_minor": 0
      },
      "text/plain": [
       "HBox(children=(IntProgress(value=0, max=10), HTML(value='')))"
      ]
     },
     "metadata": {},
     "output_type": "display_data"
    },
    {
     "data": {
      "application/vnd.jupyter.widget-view+json": {
       "model_id": "01903762237d4627add13b0e51920154",
       "version_major": 2,
       "version_minor": 0
      },
      "text/plain": [
       "HBox(children=(IntProgress(value=0, max=6), HTML(value='')))"
      ]
     },
     "metadata": {},
     "output_type": "display_data"
    },
    {
     "data": {
      "application/vnd.jupyter.widget-view+json": {
       "model_id": "79f1019d1ec9425597b961d3efebe00d",
       "version_major": 2,
       "version_minor": 0
      },
      "text/plain": [
       "HBox(children=(IntProgress(value=0, max=2), HTML(value='')))"
      ]
     },
     "metadata": {},
     "output_type": "display_data"
    },
    {
     "data": {
      "application/vnd.jupyter.widget-view+json": {
       "model_id": "495569011dab4dfbae54cc152b9406e4",
       "version_major": 2,
       "version_minor": 0
      },
      "text/plain": [
       "HBox(children=(IntProgress(value=0, max=14), HTML(value='')))"
      ]
     },
     "metadata": {},
     "output_type": "display_data"
    },
    {
     "data": {
      "application/vnd.jupyter.widget-view+json": {
       "model_id": "d97cdd5be2524ae2856d5f612e643e85",
       "version_major": 2,
       "version_minor": 0
      },
      "text/plain": [
       "HBox(children=(IntProgress(value=0, max=11), HTML(value='')))"
      ]
     },
     "metadata": {},
     "output_type": "display_data"
    },
    {
     "data": {
      "application/vnd.jupyter.widget-view+json": {
       "model_id": "4903ba72b74546ecb1ac002007ac8f55",
       "version_major": 2,
       "version_minor": 0
      },
      "text/plain": [
       "HBox(children=(IntProgress(value=0, max=5), HTML(value='')))"
      ]
     },
     "metadata": {},
     "output_type": "display_data"
    },
    {
     "data": {
      "application/vnd.jupyter.widget-view+json": {
       "model_id": "8ebe0093a65f401d87626599bface716",
       "version_major": 2,
       "version_minor": 0
      },
      "text/plain": [
       "HBox(children=(IntProgress(value=0, max=4), HTML(value='')))"
      ]
     },
     "metadata": {},
     "output_type": "display_data"
    },
    {
     "data": {
      "application/vnd.jupyter.widget-view+json": {
       "model_id": "960c6bc3cea24909ab7b29f3357421f6",
       "version_major": 2,
       "version_minor": 0
      },
      "text/plain": [
       "HBox(children=(IntProgress(value=0, max=9), HTML(value='')))"
      ]
     },
     "metadata": {},
     "output_type": "display_data"
    },
    {
     "data": {
      "application/vnd.jupyter.widget-view+json": {
       "model_id": "a0cd44dcc01a482ca20eed5dc8cbe6b6",
       "version_major": 2,
       "version_minor": 0
      },
      "text/plain": [
       "HBox(children=(IntProgress(value=0, max=2), HTML(value='')))"
      ]
     },
     "metadata": {},
     "output_type": "display_data"
    },
    {
     "data": {
      "application/vnd.jupyter.widget-view+json": {
       "model_id": "a65ecb2cc0264348b7c2762efe5bf90f",
       "version_major": 2,
       "version_minor": 0
      },
      "text/plain": [
       "HBox(children=(IntProgress(value=0, max=9), HTML(value='')))"
      ]
     },
     "metadata": {},
     "output_type": "display_data"
    },
    {
     "data": {
      "application/vnd.jupyter.widget-view+json": {
       "model_id": "c7f8b50ecb4043e4aca6edc3023f76d4",
       "version_major": 2,
       "version_minor": 0
      },
      "text/plain": [
       "HBox(children=(IntProgress(value=0, max=13), HTML(value='')))"
      ]
     },
     "metadata": {},
     "output_type": "display_data"
    },
    {
     "data": {
      "application/vnd.jupyter.widget-view+json": {
       "model_id": "029e79b2113e46d6b79cf9bb3ca33878",
       "version_major": 2,
       "version_minor": 0
      },
      "text/plain": [
       "HBox(children=(IntProgress(value=0, max=14), HTML(value='')))"
      ]
     },
     "metadata": {},
     "output_type": "display_data"
    },
    {
     "data": {
      "application/vnd.jupyter.widget-view+json": {
       "model_id": "adc44d0e1924469c918508ac5588ee26",
       "version_major": 2,
       "version_minor": 0
      },
      "text/plain": [
       "HBox(children=(IntProgress(value=0, max=9), HTML(value='')))"
      ]
     },
     "metadata": {},
     "output_type": "display_data"
    },
    {
     "data": {
      "application/vnd.jupyter.widget-view+json": {
       "model_id": "bdb9f55b2a1e4959a81d6bb01183b496",
       "version_major": 2,
       "version_minor": 0
      },
      "text/plain": [
       "HBox(children=(IntProgress(value=0, max=10), HTML(value='')))"
      ]
     },
     "metadata": {},
     "output_type": "display_data"
    },
    {
     "data": {
      "application/vnd.jupyter.widget-view+json": {
       "model_id": "ad93771a5aef4a13b4409a57f7c88265",
       "version_major": 2,
       "version_minor": 0
      },
      "text/plain": [
       "HBox(children=(IntProgress(value=0, max=14), HTML(value='')))"
      ]
     },
     "metadata": {},
     "output_type": "display_data"
    },
    {
     "data": {
      "application/vnd.jupyter.widget-view+json": {
       "model_id": "c2229cef7e7d49b18db6bd5bdc7fec6c",
       "version_major": 2,
       "version_minor": 0
      },
      "text/plain": [
       "HBox(children=(IntProgress(value=0, max=6), HTML(value='')))"
      ]
     },
     "metadata": {},
     "output_type": "display_data"
    },
    {
     "data": {
      "application/vnd.jupyter.widget-view+json": {
       "model_id": "7021d9ba8acb49549ea5563b26b6d228",
       "version_major": 2,
       "version_minor": 0
      },
      "text/plain": [
       "HBox(children=(IntProgress(value=0, max=9), HTML(value='')))"
      ]
     },
     "metadata": {},
     "output_type": "display_data"
    },
    {
     "data": {
      "application/vnd.jupyter.widget-view+json": {
       "model_id": "89e2929214ef499486ca4879463d92c2",
       "version_major": 2,
       "version_minor": 0
      },
      "text/plain": [
       "HBox(children=(IntProgress(value=0, max=2), HTML(value='')))"
      ]
     },
     "metadata": {},
     "output_type": "display_data"
    },
    {
     "data": {
      "application/vnd.jupyter.widget-view+json": {
       "model_id": "a26ed8465a864bea85299917448f11d5",
       "version_major": 2,
       "version_minor": 0
      },
      "text/plain": [
       "HBox(children=(IntProgress(value=0, max=2), HTML(value='')))"
      ]
     },
     "metadata": {},
     "output_type": "display_data"
    },
    {
     "data": {
      "application/vnd.jupyter.widget-view+json": {
       "model_id": "a56195a2ec6646d88242fbe0e7be9e09",
       "version_major": 2,
       "version_minor": 0
      },
      "text/plain": [
       "HBox(children=(IntProgress(value=0, max=7), HTML(value='')))"
      ]
     },
     "metadata": {},
     "output_type": "display_data"
    },
    {
     "data": {
      "application/vnd.jupyter.widget-view+json": {
       "model_id": "c63607389e144e10bdfaba3f0f3f9563",
       "version_major": 2,
       "version_minor": 0
      },
      "text/plain": [
       "HBox(children=(IntProgress(value=0, max=11), HTML(value='')))"
      ]
     },
     "metadata": {},
     "output_type": "display_data"
    },
    {
     "data": {
      "application/vnd.jupyter.widget-view+json": {
       "model_id": "20769096074444c38acf3fa7177a3d1f",
       "version_major": 2,
       "version_minor": 0
      },
      "text/plain": [
       "HBox(children=(IntProgress(value=0, max=5), HTML(value='')))"
      ]
     },
     "metadata": {},
     "output_type": "display_data"
    },
    {
     "data": {
      "application/vnd.jupyter.widget-view+json": {
       "model_id": "d032b8384c5e472d93521b44b0dbfa6f",
       "version_major": 2,
       "version_minor": 0
      },
      "text/plain": [
       "HBox(children=(IntProgress(value=0, max=9), HTML(value='')))"
      ]
     },
     "metadata": {},
     "output_type": "display_data"
    },
    {
     "data": {
      "application/vnd.jupyter.widget-view+json": {
       "model_id": "650fe671d6674a4ea3166fbf8ddfdf1d",
       "version_major": 2,
       "version_minor": 0
      },
      "text/plain": [
       "HBox(children=(IntProgress(value=0, max=7), HTML(value='')))"
      ]
     },
     "metadata": {},
     "output_type": "display_data"
    },
    {
     "data": {
      "application/vnd.jupyter.widget-view+json": {
       "model_id": "315372d71a164429ad810a0c8ef6e842",
       "version_major": 2,
       "version_minor": 0
      },
      "text/plain": [
       "HBox(children=(IntProgress(value=0, max=4), HTML(value='')))"
      ]
     },
     "metadata": {},
     "output_type": "display_data"
    },
    {
     "data": {
      "application/vnd.jupyter.widget-view+json": {
       "model_id": "0871770ef3784c9190fc8b8e4a6a7c57",
       "version_major": 2,
       "version_minor": 0
      },
      "text/plain": [
       "HBox(children=(IntProgress(value=0, max=3), HTML(value='')))"
      ]
     },
     "metadata": {},
     "output_type": "display_data"
    },
    {
     "data": {
      "application/vnd.jupyter.widget-view+json": {
       "model_id": "a20b9c5a1d404aa8bde8dce2627d4e47",
       "version_major": 2,
       "version_minor": 0
      },
      "text/plain": [
       "HBox(children=(IntProgress(value=0, max=6), HTML(value='')))"
      ]
     },
     "metadata": {},
     "output_type": "display_data"
    },
    {
     "data": {
      "application/vnd.jupyter.widget-view+json": {
       "model_id": "bad3a90aa9864ba0ab9dbb44825ae759",
       "version_major": 2,
       "version_minor": 0
      },
      "text/plain": [
       "HBox(children=(IntProgress(value=0, max=9), HTML(value='')))"
      ]
     },
     "metadata": {},
     "output_type": "display_data"
    },
    {
     "data": {
      "application/vnd.jupyter.widget-view+json": {
       "model_id": "6350d9bab9454348b7dc780b0071cf5e",
       "version_major": 2,
       "version_minor": 0
      },
      "text/plain": [
       "HBox(children=(IntProgress(value=0, max=10), HTML(value='')))"
      ]
     },
     "metadata": {},
     "output_type": "display_data"
    },
    {
     "data": {
      "application/vnd.jupyter.widget-view+json": {
       "model_id": "736621d6e4494f00b33ef70c7c7efce4",
       "version_major": 2,
       "version_minor": 0
      },
      "text/plain": [
       "HBox(children=(IntProgress(value=0, max=11), HTML(value='')))"
      ]
     },
     "metadata": {},
     "output_type": "display_data"
    },
    {
     "data": {
      "application/vnd.jupyter.widget-view+json": {
       "model_id": "8b3c8754c7aa45d88737ae383f891928",
       "version_major": 2,
       "version_minor": 0
      },
      "text/plain": [
       "HBox(children=(IntProgress(value=0, max=5), HTML(value='')))"
      ]
     },
     "metadata": {},
     "output_type": "display_data"
    },
    {
     "data": {
      "application/vnd.jupyter.widget-view+json": {
       "model_id": "781093610214447db891768b1d89439e",
       "version_major": 2,
       "version_minor": 0
      },
      "text/plain": [
       "HBox(children=(IntProgress(value=0, max=2), HTML(value='')))"
      ]
     },
     "metadata": {},
     "output_type": "display_data"
    },
    {
     "data": {
      "application/vnd.jupyter.widget-view+json": {
       "model_id": "32014b715aaf498e9c3b69e42278220d",
       "version_major": 2,
       "version_minor": 0
      },
      "text/plain": [
       "HBox(children=(IntProgress(value=0, max=6), HTML(value='')))"
      ]
     },
     "metadata": {},
     "output_type": "display_data"
    },
    {
     "data": {
      "application/vnd.jupyter.widget-view+json": {
       "model_id": "67af910ea8fb4896928b8c320ba44037",
       "version_major": 2,
       "version_minor": 0
      },
      "text/plain": [
       "HBox(children=(IntProgress(value=0, max=8), HTML(value='')))"
      ]
     },
     "metadata": {},
     "output_type": "display_data"
    },
    {
     "data": {
      "application/vnd.jupyter.widget-view+json": {
       "model_id": "dcc3e029c8a249289c0ffa89e83b7c2a",
       "version_major": 2,
       "version_minor": 0
      },
      "text/plain": [
       "HBox(children=(IntProgress(value=0, max=3), HTML(value='')))"
      ]
     },
     "metadata": {},
     "output_type": "display_data"
    },
    {
     "data": {
      "application/vnd.jupyter.widget-view+json": {
       "model_id": "cd563243b7684ec0930e19b59e650745",
       "version_major": 2,
       "version_minor": 0
      },
      "text/plain": [
       "HBox(children=(IntProgress(value=0, max=9), HTML(value='')))"
      ]
     },
     "metadata": {},
     "output_type": "display_data"
    },
    {
     "data": {
      "application/vnd.jupyter.widget-view+json": {
       "model_id": "015a89b500d04f6c8853419770db7b00",
       "version_major": 2,
       "version_minor": 0
      },
      "text/plain": [
       "HBox(children=(IntProgress(value=0, max=3), HTML(value='')))"
      ]
     },
     "metadata": {},
     "output_type": "display_data"
    },
    {
     "data": {
      "application/vnd.jupyter.widget-view+json": {
       "model_id": "9643cdf178d3472598a052ee6c589e44",
       "version_major": 2,
       "version_minor": 0
      },
      "text/plain": [
       "HBox(children=(IntProgress(value=0, max=12), HTML(value='')))"
      ]
     },
     "metadata": {},
     "output_type": "display_data"
    },
    {
     "data": {
      "application/vnd.jupyter.widget-view+json": {
       "model_id": "91ca206bcf884c03bab5052facd2b9c9",
       "version_major": 2,
       "version_minor": 0
      },
      "text/plain": [
       "HBox(children=(IntProgress(value=0, max=9), HTML(value='')))"
      ]
     },
     "metadata": {},
     "output_type": "display_data"
    },
    {
     "data": {
      "application/vnd.jupyter.widget-view+json": {
       "model_id": "e4935b3a6af040a8815f31c20638d652",
       "version_major": 2,
       "version_minor": 0
      },
      "text/plain": [
       "HBox(children=(IntProgress(value=0, max=14), HTML(value='')))"
      ]
     },
     "metadata": {},
     "output_type": "display_data"
    },
    {
     "data": {
      "application/vnd.jupyter.widget-view+json": {
       "model_id": "e5a2a96929534ac8b9d74f948d07daef",
       "version_major": 2,
       "version_minor": 0
      },
      "text/plain": [
       "HBox(children=(IntProgress(value=0, max=3), HTML(value='')))"
      ]
     },
     "metadata": {},
     "output_type": "display_data"
    },
    {
     "data": {
      "application/vnd.jupyter.widget-view+json": {
       "model_id": "d5f80fa4da6f4b09b7725ea7112f4bf4",
       "version_major": 2,
       "version_minor": 0
      },
      "text/plain": [
       "HBox(children=(IntProgress(value=0, max=14), HTML(value='')))"
      ]
     },
     "metadata": {},
     "output_type": "display_data"
    },
    {
     "data": {
      "application/vnd.jupyter.widget-view+json": {
       "model_id": "157198e156b5441ab4f3c7bf661be22c",
       "version_major": 2,
       "version_minor": 0
      },
      "text/plain": [
       "HBox(children=(IntProgress(value=0, max=13), HTML(value='')))"
      ]
     },
     "metadata": {},
     "output_type": "display_data"
    },
    {
     "data": {
      "application/vnd.jupyter.widget-view+json": {
       "model_id": "ffc5f61a13aa438cb6a77a15233643fe",
       "version_major": 2,
       "version_minor": 0
      },
      "text/plain": [
       "HBox(children=(IntProgress(value=0, max=3), HTML(value='')))"
      ]
     },
     "metadata": {},
     "output_type": "display_data"
    },
    {
     "data": {
      "application/vnd.jupyter.widget-view+json": {
       "model_id": "c57d32b724954daa94e8e1aa3901ef8a",
       "version_major": 2,
       "version_minor": 0
      },
      "text/plain": [
       "HBox(children=(IntProgress(value=0, max=4), HTML(value='')))"
      ]
     },
     "metadata": {},
     "output_type": "display_data"
    },
    {
     "data": {
      "application/vnd.jupyter.widget-view+json": {
       "model_id": "a80b01a73b2e4a1e80555d64e47240d9",
       "version_major": 2,
       "version_minor": 0
      },
      "text/plain": [
       "HBox(children=(IntProgress(value=0, max=2), HTML(value='')))"
      ]
     },
     "metadata": {},
     "output_type": "display_data"
    },
    {
     "data": {
      "application/vnd.jupyter.widget-view+json": {
       "model_id": "839a01f13fe143fd9646a7884795042d",
       "version_major": 2,
       "version_minor": 0
      },
      "text/plain": [
       "HBox(children=(IntProgress(value=0, max=7), HTML(value='')))"
      ]
     },
     "metadata": {},
     "output_type": "display_data"
    },
    {
     "data": {
      "application/vnd.jupyter.widget-view+json": {
       "model_id": "2515012fe08f4e49a3d17ea16275e4cb",
       "version_major": 2,
       "version_minor": 0
      },
      "text/plain": [
       "HBox(children=(IntProgress(value=1, bar_style='info', max=1), HTML(value='')))"
      ]
     },
     "metadata": {},
     "output_type": "display_data"
    },
    {
     "data": {
      "application/vnd.jupyter.widget-view+json": {
       "model_id": "75e6ea20e9204dc5a83e229cc54b1541",
       "version_major": 2,
       "version_minor": 0
      },
      "text/plain": [
       "HBox(children=(IntProgress(value=0, max=1), HTML(value='')))"
      ]
     },
     "metadata": {},
     "output_type": "display_data"
    },
    {
     "data": {
      "application/vnd.jupyter.widget-view+json": {
       "model_id": "47b7e6abeb4f4d3abe9f0596d803cef3",
       "version_major": 2,
       "version_minor": 0
      },
      "text/plain": [
       "HBox(children=(IntProgress(value=0, max=4), HTML(value='')))"
      ]
     },
     "metadata": {},
     "output_type": "display_data"
    },
    {
     "data": {
      "application/vnd.jupyter.widget-view+json": {
       "model_id": "e6e11410a7ed4bef8e3a67c09004ecae",
       "version_major": 2,
       "version_minor": 0
      },
      "text/plain": [
       "HBox(children=(IntProgress(value=0, max=7), HTML(value='')))"
      ]
     },
     "metadata": {},
     "output_type": "display_data"
    },
    {
     "data": {
      "application/vnd.jupyter.widget-view+json": {
       "model_id": "52e4b858023f4f5b9951f559c5974138",
       "version_major": 2,
       "version_minor": 0
      },
      "text/plain": [
       "HBox(children=(IntProgress(value=0, max=5), HTML(value='')))"
      ]
     },
     "metadata": {},
     "output_type": "display_data"
    },
    {
     "data": {
      "application/vnd.jupyter.widget-view+json": {
       "model_id": "27b40f2c7ec5406d96b20c03343f9d2c",
       "version_major": 2,
       "version_minor": 0
      },
      "text/plain": [
       "HBox(children=(IntProgress(value=0, max=1), HTML(value='')))"
      ]
     },
     "metadata": {},
     "output_type": "display_data"
    },
    {
     "data": {
      "application/vnd.jupyter.widget-view+json": {
       "model_id": "e6fa404c5cfc4780bebbad2a9a18e6dd",
       "version_major": 2,
       "version_minor": 0
      },
      "text/plain": [
       "HBox(children=(IntProgress(value=0, max=13), HTML(value='')))"
      ]
     },
     "metadata": {},
     "output_type": "display_data"
    },
    {
     "data": {
      "application/vnd.jupyter.widget-view+json": {
       "model_id": "cbc5694a91394f71998fd40c0072cea4",
       "version_major": 2,
       "version_minor": 0
      },
      "text/plain": [
       "HBox(children=(IntProgress(value=0, max=8), HTML(value='')))"
      ]
     },
     "metadata": {},
     "output_type": "display_data"
    },
    {
     "data": {
      "application/vnd.jupyter.widget-view+json": {
       "model_id": "ecafd1f8965b40d7b456c8f9fd0e9abb",
       "version_major": 2,
       "version_minor": 0
      },
      "text/plain": [
       "HBox(children=(IntProgress(value=0, max=12), HTML(value='')))"
      ]
     },
     "metadata": {},
     "output_type": "display_data"
    },
    {
     "data": {
      "application/vnd.jupyter.widget-view+json": {
       "model_id": "098e707bf5af465081a501757187f478",
       "version_major": 2,
       "version_minor": 0
      },
      "text/plain": [
       "HBox(children=(IntProgress(value=0, max=12), HTML(value='')))"
      ]
     },
     "metadata": {},
     "output_type": "display_data"
    },
    {
     "data": {
      "application/vnd.jupyter.widget-view+json": {
       "model_id": "ea0d7f72cf0a4ec9b09c550113b09cc9",
       "version_major": 2,
       "version_minor": 0
      },
      "text/plain": [
       "HBox(children=(IntProgress(value=0, max=13), HTML(value='')))"
      ]
     },
     "metadata": {},
     "output_type": "display_data"
    },
    {
     "data": {
      "application/vnd.jupyter.widget-view+json": {
       "model_id": "9a8fee253ca445269855c05526c14cce",
       "version_major": 2,
       "version_minor": 0
      },
      "text/plain": [
       "HBox(children=(IntProgress(value=0, max=1), HTML(value='')))"
      ]
     },
     "metadata": {},
     "output_type": "display_data"
    },
    {
     "data": {
      "application/vnd.jupyter.widget-view+json": {
       "model_id": "549ba6f0b30f4dc091bafd93c28298e2",
       "version_major": 2,
       "version_minor": 0
      },
      "text/plain": [
       "HBox(children=(IntProgress(value=0, max=2), HTML(value='')))"
      ]
     },
     "metadata": {},
     "output_type": "display_data"
    },
    {
     "data": {
      "application/vnd.jupyter.widget-view+json": {
       "model_id": "91e3707bf25e4e4bb31db445b86b6408",
       "version_major": 2,
       "version_minor": 0
      },
      "text/plain": [
       "HBox(children=(IntProgress(value=0, max=1), HTML(value='')))"
      ]
     },
     "metadata": {},
     "output_type": "display_data"
    },
    {
     "data": {
      "application/vnd.jupyter.widget-view+json": {
       "model_id": "9a81302d099b4c97b1710a8b96877e36",
       "version_major": 2,
       "version_minor": 0
      },
      "text/plain": [
       "HBox(children=(IntProgress(value=0, max=2), HTML(value='')))"
      ]
     },
     "metadata": {},
     "output_type": "display_data"
    },
    {
     "data": {
      "application/vnd.jupyter.widget-view+json": {
       "model_id": "a3ab2e1d8aac406bad65869ab1b10d6e",
       "version_major": 2,
       "version_minor": 0
      },
      "text/plain": [
       "HBox(children=(IntProgress(value=0, max=4), HTML(value='')))"
      ]
     },
     "metadata": {},
     "output_type": "display_data"
    },
    {
     "data": {
      "application/vnd.jupyter.widget-view+json": {
       "model_id": "0b7d7797abd7456abb669ad3ad5970ae",
       "version_major": 2,
       "version_minor": 0
      },
      "text/plain": [
       "HBox(children=(IntProgress(value=0, max=2), HTML(value='')))"
      ]
     },
     "metadata": {},
     "output_type": "display_data"
    },
    {
     "data": {
      "application/vnd.jupyter.widget-view+json": {
       "model_id": "654c077eec2a40b1b1b28d59b3b872ff",
       "version_major": 2,
       "version_minor": 0
      },
      "text/plain": [
       "HBox(children=(IntProgress(value=0, max=1), HTML(value='')))"
      ]
     },
     "metadata": {},
     "output_type": "display_data"
    },
    {
     "data": {
      "application/vnd.jupyter.widget-view+json": {
       "model_id": "567bfed676184bf2b5786d46744cd5d6",
       "version_major": 2,
       "version_minor": 0
      },
      "text/plain": [
       "HBox(children=(IntProgress(value=0, max=9), HTML(value='')))"
      ]
     },
     "metadata": {},
     "output_type": "display_data"
    },
    {
     "data": {
      "application/vnd.jupyter.widget-view+json": {
       "model_id": "4531170781db4a4aafa58ebbf26f80fd",
       "version_major": 2,
       "version_minor": 0
      },
      "text/plain": [
       "HBox(children=(IntProgress(value=0, max=6), HTML(value='')))"
      ]
     },
     "metadata": {},
     "output_type": "display_data"
    },
    {
     "data": {
      "application/vnd.jupyter.widget-view+json": {
       "model_id": "6ae7f7ede1184bdf858d13dce5d98d3b",
       "version_major": 2,
       "version_minor": 0
      },
      "text/plain": [
       "HBox(children=(IntProgress(value=0, max=7), HTML(value='')))"
      ]
     },
     "metadata": {},
     "output_type": "display_data"
    },
    {
     "data": {
      "application/vnd.jupyter.widget-view+json": {
       "model_id": "0f413720dd00459983ee9ac8514ae3ee",
       "version_major": 2,
       "version_minor": 0
      },
      "text/plain": [
       "HBox(children=(IntProgress(value=0, max=3), HTML(value='')))"
      ]
     },
     "metadata": {},
     "output_type": "display_data"
    },
    {
     "data": {
      "application/vnd.jupyter.widget-view+json": {
       "model_id": "bf18b68b760646cfb99bc0f40a15f6a4",
       "version_major": 2,
       "version_minor": 0
      },
      "text/plain": [
       "HBox(children=(IntProgress(value=0, max=1), HTML(value='')))"
      ]
     },
     "metadata": {},
     "output_type": "display_data"
    },
    {
     "data": {
      "application/vnd.jupyter.widget-view+json": {
       "model_id": "cad5dafae3bb441badc6ce54bbcc65aa",
       "version_major": 2,
       "version_minor": 0
      },
      "text/plain": [
       "HBox(children=(IntProgress(value=0, max=3), HTML(value='')))"
      ]
     },
     "metadata": {},
     "output_type": "display_data"
    },
    {
     "data": {
      "application/vnd.jupyter.widget-view+json": {
       "model_id": "6f9dd754b9a447d8a7711fc09980baa4",
       "version_major": 2,
       "version_minor": 0
      },
      "text/plain": [
       "HBox(children=(IntProgress(value=0, max=5), HTML(value='')))"
      ]
     },
     "metadata": {},
     "output_type": "display_data"
    },
    {
     "data": {
      "application/vnd.jupyter.widget-view+json": {
       "model_id": "1ce724d2f1614429ade29616a4b18ff3",
       "version_major": 2,
       "version_minor": 0
      },
      "text/plain": [
       "HBox(children=(IntProgress(value=0, max=4), HTML(value='')))"
      ]
     },
     "metadata": {},
     "output_type": "display_data"
    },
    {
     "data": {
      "application/vnd.jupyter.widget-view+json": {
       "model_id": "4946e553347743a6a8784a98f18c622c",
       "version_major": 2,
       "version_minor": 0
      },
      "text/plain": [
       "HBox(children=(IntProgress(value=0, max=14), HTML(value='')))"
      ]
     },
     "metadata": {},
     "output_type": "display_data"
    },
    {
     "data": {
      "application/vnd.jupyter.widget-view+json": {
       "model_id": "fe6ff0fd570a469bb91e43b271eef85f",
       "version_major": 2,
       "version_minor": 0
      },
      "text/plain": [
       "HBox(children=(IntProgress(value=0, max=7), HTML(value='')))"
      ]
     },
     "metadata": {},
     "output_type": "display_data"
    },
    {
     "data": {
      "application/vnd.jupyter.widget-view+json": {
       "model_id": "53c296cc2ceb4294b9d3f8d5fd1c1b5c",
       "version_major": 2,
       "version_minor": 0
      },
      "text/plain": [
       "HBox(children=(IntProgress(value=0, max=3), HTML(value='')))"
      ]
     },
     "metadata": {},
     "output_type": "display_data"
    },
    {
     "data": {
      "application/vnd.jupyter.widget-view+json": {
       "model_id": "577f3b198ac8403abe7330e8bd555c05",
       "version_major": 2,
       "version_minor": 0
      },
      "text/plain": [
       "HBox(children=(IntProgress(value=0, max=5), HTML(value='')))"
      ]
     },
     "metadata": {},
     "output_type": "display_data"
    },
    {
     "data": {
      "application/vnd.jupyter.widget-view+json": {
       "model_id": "349a670575ef4e9f954de9eca2c57a1f",
       "version_major": 2,
       "version_minor": 0
      },
      "text/plain": [
       "HBox(children=(IntProgress(value=0, max=9), HTML(value='')))"
      ]
     },
     "metadata": {},
     "output_type": "display_data"
    },
    {
     "data": {
      "application/vnd.jupyter.widget-view+json": {
       "model_id": "d27aa0f63eca49d4ae988f36625bce37",
       "version_major": 2,
       "version_minor": 0
      },
      "text/plain": [
       "HBox(children=(IntProgress(value=0, max=1), HTML(value='')))"
      ]
     },
     "metadata": {},
     "output_type": "display_data"
    },
    {
     "data": {
      "application/vnd.jupyter.widget-view+json": {
       "model_id": "664b80dad51c4a28af1b1b6dd422a5f5",
       "version_major": 2,
       "version_minor": 0
      },
      "text/plain": [
       "HBox(children=(IntProgress(value=0, max=8), HTML(value='')))"
      ]
     },
     "metadata": {},
     "output_type": "display_data"
    },
    {
     "data": {
      "application/vnd.jupyter.widget-view+json": {
       "model_id": "c27861a4c8d046e6b288c5a31c1fe790",
       "version_major": 2,
       "version_minor": 0
      },
      "text/plain": [
       "HBox(children=(IntProgress(value=0, max=4), HTML(value='')))"
      ]
     },
     "metadata": {},
     "output_type": "display_data"
    },
    {
     "data": {
      "application/vnd.jupyter.widget-view+json": {
       "model_id": "65c43e9dc55449c0ab7ad93a95d04d33",
       "version_major": 2,
       "version_minor": 0
      },
      "text/plain": [
       "HBox(children=(IntProgress(value=0, max=4), HTML(value='')))"
      ]
     },
     "metadata": {},
     "output_type": "display_data"
    },
    {
     "data": {
      "application/vnd.jupyter.widget-view+json": {
       "model_id": "16034487c72d45e0bfb1fe0c3fd445a9",
       "version_major": 2,
       "version_minor": 0
      },
      "text/plain": [
       "HBox(children=(IntProgress(value=0, max=11), HTML(value='')))"
      ]
     },
     "metadata": {},
     "output_type": "display_data"
    },
    {
     "data": {
      "application/vnd.jupyter.widget-view+json": {
       "model_id": "9ab98343268f4d9aa8831d352f493bd6",
       "version_major": 2,
       "version_minor": 0
      },
      "text/plain": [
       "HBox(children=(IntProgress(value=0, max=9), HTML(value='')))"
      ]
     },
     "metadata": {},
     "output_type": "display_data"
    },
    {
     "data": {
      "application/vnd.jupyter.widget-view+json": {
       "model_id": "5f7f78c82d8544d0adc01fac50caf304",
       "version_major": 2,
       "version_minor": 0
      },
      "text/plain": [
       "HBox(children=(IntProgress(value=0, max=5), HTML(value='')))"
      ]
     },
     "metadata": {},
     "output_type": "display_data"
    },
    {
     "data": {
      "application/vnd.jupyter.widget-view+json": {
       "model_id": "c15725277ec940aab53c3a17b2817295",
       "version_major": 2,
       "version_minor": 0
      },
      "text/plain": [
       "HBox(children=(IntProgress(value=0, max=7), HTML(value='')))"
      ]
     },
     "metadata": {},
     "output_type": "display_data"
    },
    {
     "data": {
      "application/vnd.jupyter.widget-view+json": {
       "model_id": "9226296c21f5493eacb5d4fc96730f99",
       "version_major": 2,
       "version_minor": 0
      },
      "text/plain": [
       "HBox(children=(IntProgress(value=0, max=4), HTML(value='')))"
      ]
     },
     "metadata": {},
     "output_type": "display_data"
    },
    {
     "data": {
      "application/vnd.jupyter.widget-view+json": {
       "model_id": "6ec7bde13ebc4084917af48dd108accd",
       "version_major": 2,
       "version_minor": 0
      },
      "text/plain": [
       "HBox(children=(IntProgress(value=0, max=3), HTML(value='')))"
      ]
     },
     "metadata": {},
     "output_type": "display_data"
    },
    {
     "data": {
      "application/vnd.jupyter.widget-view+json": {
       "model_id": "c478dd816fba4c72a505fe6fe59e6d54",
       "version_major": 2,
       "version_minor": 0
      },
      "text/plain": [
       "HBox(children=(IntProgress(value=0, max=5), HTML(value='')))"
      ]
     },
     "metadata": {},
     "output_type": "display_data"
    },
    {
     "data": {
      "application/vnd.jupyter.widget-view+json": {
       "model_id": "e194bb32ee14439a937821c92b05ec4a",
       "version_major": 2,
       "version_minor": 0
      },
      "text/plain": [
       "HBox(children=(IntProgress(value=0, max=10), HTML(value='')))"
      ]
     },
     "metadata": {},
     "output_type": "display_data"
    },
    {
     "data": {
      "application/vnd.jupyter.widget-view+json": {
       "model_id": "258b56a8981b47f084e8afaf22e18c06",
       "version_major": 2,
       "version_minor": 0
      },
      "text/plain": [
       "HBox(children=(IntProgress(value=0, max=3), HTML(value='')))"
      ]
     },
     "metadata": {},
     "output_type": "display_data"
    },
    {
     "data": {
      "application/vnd.jupyter.widget-view+json": {
       "model_id": "21820da09f37420094872b39d9ba14a8",
       "version_major": 2,
       "version_minor": 0
      },
      "text/plain": [
       "HBox(children=(IntProgress(value=0, max=9), HTML(value='')))"
      ]
     },
     "metadata": {},
     "output_type": "display_data"
    },
    {
     "data": {
      "application/vnd.jupyter.widget-view+json": {
       "model_id": "bf44c8dbf4e743f7939a05e6cc6a4276",
       "version_major": 2,
       "version_minor": 0
      },
      "text/plain": [
       "HBox(children=(IntProgress(value=0, max=3), HTML(value='')))"
      ]
     },
     "metadata": {},
     "output_type": "display_data"
    },
    {
     "data": {
      "application/vnd.jupyter.widget-view+json": {
       "model_id": "3d7fd65dcfb64143afdccd17aea4a9b9",
       "version_major": 2,
       "version_minor": 0
      },
      "text/plain": [
       "HBox(children=(IntProgress(value=0, max=10), HTML(value='')))"
      ]
     },
     "metadata": {},
     "output_type": "display_data"
    },
    {
     "data": {
      "application/vnd.jupyter.widget-view+json": {
       "model_id": "132c784d77b842f59303deca563d39d9",
       "version_major": 2,
       "version_minor": 0
      },
      "text/plain": [
       "HBox(children=(IntProgress(value=0, max=1), HTML(value='')))"
      ]
     },
     "metadata": {},
     "output_type": "display_data"
    },
    {
     "data": {
      "application/vnd.jupyter.widget-view+json": {
       "model_id": "2c0c4193abae479b8b9e969a627fdc05",
       "version_major": 2,
       "version_minor": 0
      },
      "text/plain": [
       "HBox(children=(IntProgress(value=0, max=8), HTML(value='')))"
      ]
     },
     "metadata": {},
     "output_type": "display_data"
    },
    {
     "data": {
      "application/vnd.jupyter.widget-view+json": {
       "model_id": "efe8199f8d88493f87417bc75a166fd5",
       "version_major": 2,
       "version_minor": 0
      },
      "text/plain": [
       "HBox(children=(IntProgress(value=0, max=3), HTML(value='')))"
      ]
     },
     "metadata": {},
     "output_type": "display_data"
    },
    {
     "data": {
      "application/vnd.jupyter.widget-view+json": {
       "model_id": "4f22ba08bd864f398d5a81ef85e61d6a",
       "version_major": 2,
       "version_minor": 0
      },
      "text/plain": [
       "HBox(children=(IntProgress(value=0, max=13), HTML(value='')))"
      ]
     },
     "metadata": {},
     "output_type": "display_data"
    },
    {
     "data": {
      "application/vnd.jupyter.widget-view+json": {
       "model_id": "4303adb3153d4a7f83ec78f188ac4ffa",
       "version_major": 2,
       "version_minor": 0
      },
      "text/plain": [
       "HBox(children=(IntProgress(value=0, max=6), HTML(value='')))"
      ]
     },
     "metadata": {},
     "output_type": "display_data"
    },
    {
     "data": {
      "application/vnd.jupyter.widget-view+json": {
       "model_id": "c177e45e4f2341ffb482ba248b79819c",
       "version_major": 2,
       "version_minor": 0
      },
      "text/plain": [
       "HBox(children=(IntProgress(value=0, max=1), HTML(value='')))"
      ]
     },
     "metadata": {},
     "output_type": "display_data"
    },
    {
     "data": {
      "application/vnd.jupyter.widget-view+json": {
       "model_id": "40957f4d4b834017b2e938e28bba4d51",
       "version_major": 2,
       "version_minor": 0
      },
      "text/plain": [
       "HBox(children=(IntProgress(value=0, max=4), HTML(value='')))"
      ]
     },
     "metadata": {},
     "output_type": "display_data"
    },
    {
     "data": {
      "application/vnd.jupyter.widget-view+json": {
       "model_id": "5a12499f0e004118b0559dfd93fef7c7",
       "version_major": 2,
       "version_minor": 0
      },
      "text/plain": [
       "HBox(children=(IntProgress(value=0, max=8), HTML(value='')))"
      ]
     },
     "metadata": {},
     "output_type": "display_data"
    },
    {
     "data": {
      "application/vnd.jupyter.widget-view+json": {
       "model_id": "387800aba88e41a89e31f0b9150fa3fb",
       "version_major": 2,
       "version_minor": 0
      },
      "text/plain": [
       "HBox(children=(IntProgress(value=0, max=5), HTML(value='')))"
      ]
     },
     "metadata": {},
     "output_type": "display_data"
    },
    {
     "data": {
      "application/vnd.jupyter.widget-view+json": {
       "model_id": "14d32cfce9d548d5b7b143e9d67ba89a",
       "version_major": 2,
       "version_minor": 0
      },
      "text/plain": [
       "HBox(children=(IntProgress(value=0, max=12), HTML(value='')))"
      ]
     },
     "metadata": {},
     "output_type": "display_data"
    },
    {
     "data": {
      "application/vnd.jupyter.widget-view+json": {
       "model_id": "9dda50168c7044e9b68d534f03bb2932",
       "version_major": 2,
       "version_minor": 0
      },
      "text/plain": [
       "HBox(children=(IntProgress(value=0, max=1), HTML(value='')))"
      ]
     },
     "metadata": {},
     "output_type": "display_data"
    },
    {
     "data": {
      "application/vnd.jupyter.widget-view+json": {
       "model_id": "27dd872749724feba4c25cce9e0830a7",
       "version_major": 2,
       "version_minor": 0
      },
      "text/plain": [
       "HBox(children=(IntProgress(value=0, max=9), HTML(value='')))"
      ]
     },
     "metadata": {},
     "output_type": "display_data"
    },
    {
     "data": {
      "application/vnd.jupyter.widget-view+json": {
       "model_id": "294f2b4e3c6f41508a82853e4eb9cd35",
       "version_major": 2,
       "version_minor": 0
      },
      "text/plain": [
       "HBox(children=(IntProgress(value=0, max=6), HTML(value='')))"
      ]
     },
     "metadata": {},
     "output_type": "display_data"
    },
    {
     "data": {
      "application/vnd.jupyter.widget-view+json": {
       "model_id": "8a0fede7e78a4020bd5600c7c1679c2b",
       "version_major": 2,
       "version_minor": 0
      },
      "text/plain": [
       "HBox(children=(IntProgress(value=0, max=2), HTML(value='')))"
      ]
     },
     "metadata": {},
     "output_type": "display_data"
    },
    {
     "data": {
      "application/vnd.jupyter.widget-view+json": {
       "model_id": "4f5bcf7832b84295bb720385427433ac",
       "version_major": 2,
       "version_minor": 0
      },
      "text/plain": [
       "HBox(children=(IntProgress(value=0, max=3), HTML(value='')))"
      ]
     },
     "metadata": {},
     "output_type": "display_data"
    },
    {
     "data": {
      "application/vnd.jupyter.widget-view+json": {
       "model_id": "b6d045854c854119b4fcd5f73d3febc6",
       "version_major": 2,
       "version_minor": 0
      },
      "text/plain": [
       "HBox(children=(IntProgress(value=0, max=1), HTML(value='')))"
      ]
     },
     "metadata": {},
     "output_type": "display_data"
    },
    {
     "data": {
      "application/vnd.jupyter.widget-view+json": {
       "model_id": "58ab0c1e10b944a0b21f67280fc55fd0",
       "version_major": 2,
       "version_minor": 0
      },
      "text/plain": [
       "HBox(children=(IntProgress(value=0, max=7), HTML(value='')))"
      ]
     },
     "metadata": {},
     "output_type": "display_data"
    },
    {
     "data": {
      "application/vnd.jupyter.widget-view+json": {
       "model_id": "a53b9e7f705b4c739a15bb1f333a96ec",
       "version_major": 2,
       "version_minor": 0
      },
      "text/plain": [
       "HBox(children=(IntProgress(value=0, max=12), HTML(value='')))"
      ]
     },
     "metadata": {},
     "output_type": "display_data"
    },
    {
     "data": {
      "application/vnd.jupyter.widget-view+json": {
       "model_id": "8d9e2253851b40b587a2f29bd00eb7b7",
       "version_major": 2,
       "version_minor": 0
      },
      "text/plain": [
       "HBox(children=(IntProgress(value=0, max=5), HTML(value='')))"
      ]
     },
     "metadata": {},
     "output_type": "display_data"
    },
    {
     "data": {
      "application/vnd.jupyter.widget-view+json": {
       "model_id": "1ef9bf56c9f0470d85f1a8a9c397b0b4",
       "version_major": 2,
       "version_minor": 0
      },
      "text/plain": [
       "HBox(children=(IntProgress(value=0, max=4), HTML(value='')))"
      ]
     },
     "metadata": {},
     "output_type": "display_data"
    },
    {
     "data": {
      "application/vnd.jupyter.widget-view+json": {
       "model_id": "feb9eacfd0784479a295e04077ce3c01",
       "version_major": 2,
       "version_minor": 0
      },
      "text/plain": [
       "HBox(children=(IntProgress(value=0, max=6), HTML(value='')))"
      ]
     },
     "metadata": {},
     "output_type": "display_data"
    },
    {
     "data": {
      "application/vnd.jupyter.widget-view+json": {
       "model_id": "5c70212e652346989c21ced87d14504d",
       "version_major": 2,
       "version_minor": 0
      },
      "text/plain": [
       "HBox(children=(IntProgress(value=0, max=1), HTML(value='')))"
      ]
     },
     "metadata": {},
     "output_type": "display_data"
    },
    {
     "data": {
      "application/vnd.jupyter.widget-view+json": {
       "model_id": "8baa23d8db8740fd97c9c889129f70af",
       "version_major": 2,
       "version_minor": 0
      },
      "text/plain": [
       "HBox(children=(IntProgress(value=0, max=10), HTML(value='')))"
      ]
     },
     "metadata": {},
     "output_type": "display_data"
    },
    {
     "data": {
      "application/vnd.jupyter.widget-view+json": {
       "model_id": "56fb0a473171463d84bbb51a1308b5e8",
       "version_major": 2,
       "version_minor": 0
      },
      "text/plain": [
       "HBox(children=(IntProgress(value=0, max=5), HTML(value='')))"
      ]
     },
     "metadata": {},
     "output_type": "display_data"
    },
    {
     "data": {
      "application/vnd.jupyter.widget-view+json": {
       "model_id": "6a9dc4ae0c614606be33737b6d686555",
       "version_major": 2,
       "version_minor": 0
      },
      "text/plain": [
       "HBox(children=(IntProgress(value=0, max=6), HTML(value='')))"
      ]
     },
     "metadata": {},
     "output_type": "display_data"
    },
    {
     "data": {
      "application/vnd.jupyter.widget-view+json": {
       "model_id": "782322adb029478b969d16240a10a9b0",
       "version_major": 2,
       "version_minor": 0
      },
      "text/plain": [
       "HBox(children=(IntProgress(value=0, max=3), HTML(value='')))"
      ]
     },
     "metadata": {},
     "output_type": "display_data"
    },
    {
     "data": {
      "application/vnd.jupyter.widget-view+json": {
       "model_id": "31a4af79877f4c91b200b6f3e952070f",
       "version_major": 2,
       "version_minor": 0
      },
      "text/plain": [
       "HBox(children=(IntProgress(value=0, max=13), HTML(value='')))"
      ]
     },
     "metadata": {},
     "output_type": "display_data"
    },
    {
     "data": {
      "application/vnd.jupyter.widget-view+json": {
       "model_id": "70bfe2cf39a041d8a3225b6c82757816",
       "version_major": 2,
       "version_minor": 0
      },
      "text/plain": [
       "HBox(children=(IntProgress(value=0, max=11), HTML(value='')))"
      ]
     },
     "metadata": {},
     "output_type": "display_data"
    },
    {
     "data": {
      "application/vnd.jupyter.widget-view+json": {
       "model_id": "f93dc5cc2d5a44aeb6995d7b991f874d",
       "version_major": 2,
       "version_minor": 0
      },
      "text/plain": [
       "HBox(children=(IntProgress(value=0, max=14), HTML(value='')))"
      ]
     },
     "metadata": {},
     "output_type": "display_data"
    },
    {
     "data": {
      "application/vnd.jupyter.widget-view+json": {
       "model_id": "1379966c7a6f4826bc381f255701af33",
       "version_major": 2,
       "version_minor": 0
      },
      "text/plain": [
       "HBox(children=(IntProgress(value=0, max=10), HTML(value='')))"
      ]
     },
     "metadata": {},
     "output_type": "display_data"
    },
    {
     "data": {
      "application/vnd.jupyter.widget-view+json": {
       "model_id": "87828b5ab5da42518b1abe02ba3a55f0",
       "version_major": 2,
       "version_minor": 0
      },
      "text/plain": [
       "HBox(children=(IntProgress(value=0, max=8), HTML(value='')))"
      ]
     },
     "metadata": {},
     "output_type": "display_data"
    },
    {
     "data": {
      "application/vnd.jupyter.widget-view+json": {
       "model_id": "506594a396fb4ce0837608ca376ae783",
       "version_major": 2,
       "version_minor": 0
      },
      "text/plain": [
       "HBox(children=(IntProgress(value=0, max=1), HTML(value='')))"
      ]
     },
     "metadata": {},
     "output_type": "display_data"
    },
    {
     "data": {
      "application/vnd.jupyter.widget-view+json": {
       "model_id": "b6eb0676f922440790f3f25e3bfa2950",
       "version_major": 2,
       "version_minor": 0
      },
      "text/plain": [
       "HBox(children=(IntProgress(value=0, max=3), HTML(value='')))"
      ]
     },
     "metadata": {},
     "output_type": "display_data"
    },
    {
     "data": {
      "application/vnd.jupyter.widget-view+json": {
       "model_id": "4aeae8aca9ba487fa7428b497a4a0ea1",
       "version_major": 2,
       "version_minor": 0
      },
      "text/plain": [
       "HBox(children=(IntProgress(value=0, max=9), HTML(value='')))"
      ]
     },
     "metadata": {},
     "output_type": "display_data"
    },
    {
     "data": {
      "application/vnd.jupyter.widget-view+json": {
       "model_id": "73eec4653fa046de91f24bbddae5483a",
       "version_major": 2,
       "version_minor": 0
      },
      "text/plain": [
       "HBox(children=(IntProgress(value=0, max=13), HTML(value='')))"
      ]
     },
     "metadata": {},
     "output_type": "display_data"
    },
    {
     "data": {
      "application/vnd.jupyter.widget-view+json": {
       "model_id": "cc355fa33acb464e89fd8ad63e418129",
       "version_major": 2,
       "version_minor": 0
      },
      "text/plain": [
       "HBox(children=(IntProgress(value=0, max=1), HTML(value='')))"
      ]
     },
     "metadata": {},
     "output_type": "display_data"
    },
    {
     "data": {
      "application/vnd.jupyter.widget-view+json": {
       "model_id": "fea397d274854fbc9e9d2d9ccb36d7e2",
       "version_major": 2,
       "version_minor": 0
      },
      "text/plain": [
       "HBox(children=(IntProgress(value=0, max=10), HTML(value='')))"
      ]
     },
     "metadata": {},
     "output_type": "display_data"
    },
    {
     "data": {
      "application/vnd.jupyter.widget-view+json": {
       "model_id": "57eaa625f52d4f758c50b6ec3b054c85",
       "version_major": 2,
       "version_minor": 0
      },
      "text/plain": [
       "HBox(children=(IntProgress(value=0, max=4), HTML(value='')))"
      ]
     },
     "metadata": {},
     "output_type": "display_data"
    },
    {
     "data": {
      "application/vnd.jupyter.widget-view+json": {
       "model_id": "f47cbe2621c9481fa1aef8b197ba69f8",
       "version_major": 2,
       "version_minor": 0
      },
      "text/plain": [
       "HBox(children=(IntProgress(value=0, max=9), HTML(value='')))"
      ]
     },
     "metadata": {},
     "output_type": "display_data"
    },
    {
     "data": {
      "application/vnd.jupyter.widget-view+json": {
       "model_id": "65cac021d29844af8d26e2ee00318081",
       "version_major": 2,
       "version_minor": 0
      },
      "text/plain": [
       "HBox(children=(IntProgress(value=0, max=7), HTML(value='')))"
      ]
     },
     "metadata": {},
     "output_type": "display_data"
    },
    {
     "data": {
      "application/vnd.jupyter.widget-view+json": {
       "model_id": "0880ca285ed84fb8b02dec318df9018b",
       "version_major": 2,
       "version_minor": 0
      },
      "text/plain": [
       "HBox(children=(IntProgress(value=0, max=10), HTML(value='')))"
      ]
     },
     "metadata": {},
     "output_type": "display_data"
    },
    {
     "data": {
      "application/vnd.jupyter.widget-view+json": {
       "model_id": "e462e911a50a4b58a13f0dbeebbaaef4",
       "version_major": 2,
       "version_minor": 0
      },
      "text/plain": [
       "HBox(children=(IntProgress(value=0, max=9), HTML(value='')))"
      ]
     },
     "metadata": {},
     "output_type": "display_data"
    },
    {
     "data": {
      "application/vnd.jupyter.widget-view+json": {
       "model_id": "0f6185117e214e5b94d6865901083739",
       "version_major": 2,
       "version_minor": 0
      },
      "text/plain": [
       "HBox(children=(IntProgress(value=0, max=13), HTML(value='')))"
      ]
     },
     "metadata": {},
     "output_type": "display_data"
    },
    {
     "data": {
      "application/vnd.jupyter.widget-view+json": {
       "model_id": "7858b43e777440509a29c2f898f67123",
       "version_major": 2,
       "version_minor": 0
      },
      "text/plain": [
       "HBox(children=(IntProgress(value=0, max=4), HTML(value='')))"
      ]
     },
     "metadata": {},
     "output_type": "display_data"
    },
    {
     "data": {
      "application/vnd.jupyter.widget-view+json": {
       "model_id": "a386c11b0d9c43e4a9fa6cf82704666c",
       "version_major": 2,
       "version_minor": 0
      },
      "text/plain": [
       "HBox(children=(IntProgress(value=0, max=2), HTML(value='')))"
      ]
     },
     "metadata": {},
     "output_type": "display_data"
    },
    {
     "data": {
      "application/vnd.jupyter.widget-view+json": {
       "model_id": "f16995e8582c4c2e9d20f082ca7d52b3",
       "version_major": 2,
       "version_minor": 0
      },
      "text/plain": [
       "HBox(children=(IntProgress(value=0, max=4), HTML(value='')))"
      ]
     },
     "metadata": {},
     "output_type": "display_data"
    },
    {
     "data": {
      "application/vnd.jupyter.widget-view+json": {
       "model_id": "282410918c9c45918220874f6cfb5725",
       "version_major": 2,
       "version_minor": 0
      },
      "text/plain": [
       "HBox(children=(IntProgress(value=0, max=10), HTML(value='')))"
      ]
     },
     "metadata": {},
     "output_type": "display_data"
    },
    {
     "data": {
      "application/vnd.jupyter.widget-view+json": {
       "model_id": "1aadfc71e0ac4ed89b3f819221a6a792",
       "version_major": 2,
       "version_minor": 0
      },
      "text/plain": [
       "HBox(children=(IntProgress(value=0, max=11), HTML(value='')))"
      ]
     },
     "metadata": {},
     "output_type": "display_data"
    }
   ],
   "source": [
    "all_related_posts = {}\n",
    "for related_subs_key,related_subs_val in tqdm(list(related_subreddits.items())):\n",
    "    related_sub_posts = []\n",
    "    for sub in tqdm(related_subs_val):\n",
    "        new_str = \"\"\n",
    "        try:\n",
    "            for submission in reddit.subreddit(sub).top(limit=1000):\n",
    "                new_str = new_str + submission.title + \" \"\n",
    "        except:\n",
    "            continue\n",
    "        related_sub_posts.append((new_str,sub,related_subs_key))\n",
    "    all_related_posts[related_subs_key] = related_sub_posts"
   ]
  },
  {
   "cell_type": "code",
   "execution_count": 812,
   "metadata": {
    "scrolled": true
   },
   "outputs": [
    {
     "data": {
      "application/vnd.jupyter.widget-view+json": {
       "model_id": "7e26fca5f7f14b28ab2049c88057de3a",
       "version_major": 2,
       "version_minor": 0
      },
      "text/plain": [
       "HBox(children=(IntProgress(value=0, max=166), HTML(value='')))"
      ]
     },
     "metadata": {},
     "output_type": "display_data"
    }
   ],
   "source": [
    "related_subdf = {}\n",
    "for parent_sub in tqdm(list(related_subreddits.keys())):\n",
    "    for sub_tuple in all_related_posts[parent_sub]:\n",
    "        related_subdf[sub_tuple[1]] = sub_tuple[0]"
   ]
  },
  {
   "cell_type": "code",
   "execution_count": 834,
   "metadata": {
    "collapsed": true
   },
   "outputs": [
    {
     "ename": "TypeError",
     "evalue": "'numpy.ndarray' object is not callable",
     "output_type": "error",
     "traceback": [
      "\u001b[0;31m---------------------------------------------------------------------------\u001b[0m",
      "\u001b[0;31mTypeError\u001b[0m                                 Traceback (most recent call last)",
      "\u001b[0;32m<ipython-input-834-e9f1e2be053a>\u001b[0m in \u001b[0;36m<module>\u001b[0;34m\u001b[0m\n\u001b[0;32m----> 1\u001b[0;31m \u001b[0mrelated_subdf\u001b[0m \u001b[0;34m=\u001b[0m \u001b[0mpd\u001b[0m\u001b[0;34m.\u001b[0m\u001b[0mDataFrame\u001b[0m\u001b[0;34m.\u001b[0m\u001b[0mfrom_dict\u001b[0m\u001b[0;34m(\u001b[0m\u001b[0mrelated_subdf\u001b[0m\u001b[0;34m,\u001b[0m\u001b[0morient\u001b[0m\u001b[0;34m=\u001b[0m\u001b[0;34m'index'\u001b[0m\u001b[0;34m)\u001b[0m\u001b[0;34m\u001b[0m\u001b[0;34m\u001b[0m\u001b[0m\n\u001b[0m\u001b[1;32m      2\u001b[0m \u001b[0mrelated_subdf\u001b[0m\u001b[0;34m\u001b[0m\u001b[0;34m\u001b[0m\u001b[0m\n",
      "\u001b[0;32m~/anaconda3/lib/python3.7/site-packages/pandas/core/frame.py\u001b[0m in \u001b[0;36mfrom_dict\u001b[0;34m(cls, data, orient, dtype, columns)\u001b[0m\n\u001b[1;32m   1125\u001b[0m             \u001b[0;32mif\u001b[0m \u001b[0mlen\u001b[0m\u001b[0;34m(\u001b[0m\u001b[0mdata\u001b[0m\u001b[0;34m)\u001b[0m \u001b[0;34m>\u001b[0m \u001b[0;36m0\u001b[0m\u001b[0;34m:\u001b[0m\u001b[0;34m\u001b[0m\u001b[0;34m\u001b[0m\u001b[0m\n\u001b[1;32m   1126\u001b[0m                 \u001b[0;31m# TODO speed up Series case\u001b[0m\u001b[0;34m\u001b[0m\u001b[0;34m\u001b[0m\u001b[0;34m\u001b[0m\u001b[0m\n\u001b[0;32m-> 1127\u001b[0;31m                 \u001b[0;32mif\u001b[0m \u001b[0misinstance\u001b[0m\u001b[0;34m(\u001b[0m\u001b[0mlist\u001b[0m\u001b[0;34m(\u001b[0m\u001b[0mdata\u001b[0m\u001b[0;34m.\u001b[0m\u001b[0mvalues\u001b[0m\u001b[0;34m(\u001b[0m\u001b[0;34m)\u001b[0m\u001b[0;34m)\u001b[0m\u001b[0;34m[\u001b[0m\u001b[0;36m0\u001b[0m\u001b[0;34m]\u001b[0m\u001b[0;34m,\u001b[0m \u001b[0;34m(\u001b[0m\u001b[0mSeries\u001b[0m\u001b[0;34m,\u001b[0m \u001b[0mdict\u001b[0m\u001b[0;34m)\u001b[0m\u001b[0;34m)\u001b[0m\u001b[0;34m:\u001b[0m\u001b[0;34m\u001b[0m\u001b[0;34m\u001b[0m\u001b[0m\n\u001b[0m\u001b[1;32m   1128\u001b[0m                     \u001b[0mdata\u001b[0m \u001b[0;34m=\u001b[0m \u001b[0m_from_nested_dict\u001b[0m\u001b[0;34m(\u001b[0m\u001b[0mdata\u001b[0m\u001b[0;34m)\u001b[0m\u001b[0;34m\u001b[0m\u001b[0;34m\u001b[0m\u001b[0m\n\u001b[1;32m   1129\u001b[0m                 \u001b[0;32melse\u001b[0m\u001b[0;34m:\u001b[0m\u001b[0;34m\u001b[0m\u001b[0;34m\u001b[0m\u001b[0m\n",
      "\u001b[0;31mTypeError\u001b[0m: 'numpy.ndarray' object is not callable"
     ]
    }
   ],
   "source": [
    "related_subdf = pd.DataFrame.from_dict(related_subdf,orient='index')\n"
   ]
  },
  {
   "cell_type": "code",
   "execution_count": 837,
   "metadata": {},
   "outputs": [],
   "source": [
    "related_subdf.to_csv('related_subdf')"
   ]
  },
  {
   "cell_type": "code",
   "execution_count": 839,
   "metadata": {},
   "outputs": [
    {
     "data": {
      "text/html": [
       "<div>\n",
       "<style scoped>\n",
       "    .dataframe tbody tr th:only-of-type {\n",
       "        vertical-align: middle;\n",
       "    }\n",
       "\n",
       "    .dataframe tbody tr th {\n",
       "        vertical-align: top;\n",
       "    }\n",
       "\n",
       "    .dataframe thead th {\n",
       "        text-align: right;\n",
       "    }\n",
       "</style>\n",
       "<table border=\"1\" class=\"dataframe\">\n",
       "  <thead>\n",
       "    <tr style=\"text-align: right;\">\n",
       "      <th></th>\n",
       "      <th>0</th>\n",
       "    </tr>\n",
       "  </thead>\n",
       "  <tbody>\n",
       "    <tr>\n",
       "      <th>funny</th>\n",
       "      <td>My cab driver tonight was so excited to share ...</td>\n",
       "    </tr>\n",
       "    <tr>\n",
       "      <th>pics</th>\n",
       "      <td>Private Internet Access, a VPN provider, takes...</td>\n",
       "    </tr>\n",
       "  </tbody>\n",
       "</table>\n",
       "</div>"
      ],
      "text/plain": [
       "                                                       0\n",
       "funny  My cab driver tonight was so excited to share ...\n",
       "pics   Private Internet Access, a VPN provider, takes..."
      ]
     },
     "execution_count": 839,
     "metadata": {},
     "output_type": "execute_result"
    }
   ],
   "source": [
    "related_subdf.head(2)"
   ]
  },
  {
   "cell_type": "code",
   "execution_count": 856,
   "metadata": {},
   "outputs": [],
   "source": [
    "related_subdf['clean_text'] = related_subdf[0].apply(lambda x: re.sub(r'[^\\w\\s]', '', x))\n",
    "related_subdf['clean_text'] = related_subdf['clean_text'].apply(lambda x: re.sub(r'[\\d]', '', x))"
   ]
  },
  {
   "cell_type": "code",
   "execution_count": 850,
   "metadata": {},
   "outputs": [],
   "source": [
    "def tokenize(text):\n",
    "    return word_tokenize(text)\n"
   ]
  },
  {
   "cell_type": "code",
   "execution_count": 858,
   "metadata": {},
   "outputs": [],
   "source": [
    "test_tokenized = tokenize(related_subdf.clean_text[0])"
   ]
  },
  {
   "cell_type": "code",
   "execution_count": 853,
   "metadata": {},
   "outputs": [],
   "source": [
    "def count_vectorize(text, vocab=None):\n",
    "    if vocab:\n",
    "        unique_words = vocab\n",
    "    else:\n",
    "        unique_words = list(set(text))\n",
    "    \n",
    "    word_dict = {i:0 for i in unique_words}\n",
    "    \n",
    "    for word in text:\n",
    "        word_dict[word] += 1\n",
    "    \n",
    "    return word_dict\n"
   ]
  },
  {
   "cell_type": "code",
   "execution_count": 861,
   "metadata": {},
   "outputs": [],
   "source": [
    "test_vectorized = count_vectorize(test_tokenized)"
   ]
  },
  {
   "cell_type": "code",
   "execution_count": 862,
   "metadata": {},
   "outputs": [],
   "source": [
    "def term_frequency(BoW_dict):\n",
    "    total_word_count = sum(BoW_dict.values())\n",
    "    for ind, val in BoW_dict.items():\n",
    "        BoW_dict[ind] = val/ total_word_count\n",
    "    \n",
    "    return BoW_dict   "
   ]
  },
  {
   "cell_type": "code",
   "execution_count": 869,
   "metadata": {},
   "outputs": [],
   "source": [
    "test_tf = term_frequency(test_vectorized)"
   ]
  },
  {
   "cell_type": "code",
   "execution_count": 870,
   "metadata": {},
   "outputs": [],
   "source": [
    "def inverse_document_frequency(list_of_dicts):\n",
    "    vocab_set = set()\n",
    "    # Iterate through list of dfs and add index to vocab_set\n",
    "    for d in list_of_dicts:\n",
    "        for word in d.keys():\n",
    "            vocab_set.add(word)\n",
    "    \n",
    "    # Once vocab set is complete, create an empty dictionary with a key for each word and value of 0.\n",
    "    full_vocab_dict = {i:0 for i in vocab_set}\n",
    "    \n",
    "    # Loop through each word in full_vocab_dict\n",
    "    for word, val in full_vocab_dict.items():\n",
    "        docs = 0\n",
    "        \n",
    "        # Loop through list of dicts.  Each time a dictionary contains the word, increment docs by 1\n",
    "        for d in list_of_dicts:\n",
    "            if word in d:\n",
    "                docs += 1\n",
    "        \n",
    "        # Now that we know denominator for equation, compute and set IDF value for word\n",
    "        \n",
    "        full_vocab_dict[word] = np.log((len(list_of_dicts)/ float(docs)))\n",
    "    \n",
    "    return full_vocab_dict"
   ]
  },
  {
   "cell_type": "code",
   "execution_count": 882,
   "metadata": {},
   "outputs": [],
   "source": [
    "def tf_idf(list_of_dicts):\n",
    "    # Create empty dictionary containing full vocabulary of entire corpus\n",
    "    doc_tf_idf = {}\n",
    "    idf = inverse_document_frequency(list_of_dicts)\n",
    "    full_vocab_list = {i:0 for i in list(idf.keys())}\n",
    "    \n",
    "    # Create tf-idf list of dictionaries, containing a dictionary that will be updated for each document\n",
    "    tf_idf_list_of_dicts = []\n",
    "    \n",
    "    # Now, compute tf and then use this to compute and set tf-idf values for each document\n",
    "    for doc in list_of_dicts:\n",
    "        doc_tf = term_frequency(doc)\n",
    "        for word in doc_tf:\n",
    "            doc_tf_idf[word] = doc_tf[word] * idf[word]\n",
    "        tf_idf_list_of_dicts.append(doc_tf_idf)\n",
    "    \n",
    "    return tf_idf_list_of_dicts"
   ]
  },
  {
   "cell_type": "code",
   "execution_count": 1005,
   "metadata": {},
   "outputs": [
    {
     "data": {
      "text/plain": [
       "['funny',\n",
       " 'pics',\n",
       " 'todayilearned',\n",
       " 'videos',\n",
       " 'WTF',\n",
       " 'AdviceAnimals',\n",
       " 'gaming',\n",
       " 'gifs',\n",
       " 'news',\n",
       " 'worldnews',\n",
       " 'movies',\n",
       " 'technology',\n",
       " 'science',\n",
       " 'politics',\n",
       " 'fatlogic',\n",
       " 'weeabootales',\n",
       " 'TalesFromRetail',\n",
       " 'pettyrevenge',\n",
       " 'TumblrInAction',\n",
       " 'ProRevenge',\n",
       " 'talesfromtechsupport',\n",
       " 'fatpeoplestories',\n",
       " 'JusticePorn',\n",
       " 'TalesFromYourServer',\n",
       " 'TalesFromTheCustomer',\n",
       " 'IDontWorkHereLady',\n",
       " 'NoStupidQuestions',\n",
       " 'Lightbulb',\n",
       " 'Unexpected',\n",
       " 'OutOfTheLoop',\n",
       " 'mildlyinfuriating',\n",
       " 'AskReddit',\n",
       " 'aww',\n",
       " 'mildlyinteresting',\n",
       " 'Showerthoughts',\n",
       " 'cringe',\n",
       " 'cringepics',\n",
       " 'PublicFreakout',\n",
       " 'rage',\n",
       " 'oddlysatisfying',\n",
       " 'CrappyDesign',\n",
       " 'interestingasfuck',\n",
       " 'facepalm',\n",
       " 'woahdude',\n",
       " 'reactiongifs',\n",
       " 'nottheonion',\n",
       " 'OldSchoolCool',\n",
       " 'tifu',\n",
       " 'Jokes',\n",
       " 'niceguys',\n",
       " 'TheBluePill',\n",
       " 'TrollXChromosomes',\n",
       " 'iamverysmart',\n",
       " 'justneckbeardthings',\n",
       " 'creepy',\n",
       " 'LetsNotMeet',\n",
       " 'shortscarystories',\n",
       " 'WritingPrompts',\n",
       " 'trashy',\n",
       " 'summonerschool',\n",
       " 'hearthstone',\n",
       " 'nintendo',\n",
       " 'smashbros',\n",
       " '3DS',\n",
       " 'minecraftsuggestions',\n",
       " 'feedthebeast',\n",
       " 'mindcrack',\n",
       " 'skyrim',\n",
       " 'pokemon',\n",
       " 'tf2',\n",
       " 'AllThingsTerran',\n",
       " 'allthingszerg',\n",
       " 'allthingsprotoss',\n",
       " 'heroesofthestorm',\n",
       " 'Destiny',\n",
       " 'Diablo',\n",
       " 'StarcraftCirclejerk',\n",
       " 'Games',\n",
       " 'wow',\n",
       " 'GlobalOffensive',\n",
       " 'DotA2',\n",
       " 'Cynicalbrit',\n",
       " 'MechanicalKeyboards',\n",
       " 'pcgaming',\n",
       " 'witcher',\n",
       " 'GameDeals',\n",
       " 'PS4',\n",
       " 'truegaming',\n",
       " 'pcmasterrace',\n",
       " 'learndota2',\n",
       " 'Dota2Trade',\n",
       " 'skyrimmods',\n",
       " 'Fallout',\n",
       " 'truetf2',\n",
       " 'Steam',\n",
       " 'TF2fashionadvice',\n",
       " 'bindingofisaac',\n",
       " 'RandomActsOfTf2',\n",
       " 'paydaytheheist',\n",
       " 'Minecraft',\n",
       " 'fivenightsatfreddys',\n",
       " 'tf2trade',\n",
       " '4chan',\n",
       " 'JonTron',\n",
       " 'trollabot',\n",
       " 'gamegrumps',\n",
       " 'EDH',\n",
       " 'spikes',\n",
       " 'ModernMagic',\n",
       " 'custommagic',\n",
       " 'MTGLegacy',\n",
       " 'lrcast',\n",
       " 'mtgfinance',\n",
       " 'Magicdeckbuilding',\n",
       " 'mtgcube',\n",
       " 'DnD',\n",
       " 'space',\n",
       " 'KerbalAcademy',\n",
       " 'CitiesSkylines',\n",
       " 'spacex',\n",
       " 'MindcrackDiscussion',\n",
       " 'ethoslab',\n",
       " 'mindcrackcirclejerk',\n",
       " 'HermitCraft',\n",
       " 'playmindcrack',\n",
       " 'ultrahardcore',\n",
       " 'falloutlore',\n",
       " 'funhaus',\n",
       " 'RWBY',\n",
       " 'brownman',\n",
       " 'halo',\n",
       " 'xboxone',\n",
       " 'RedvsBlue',\n",
       " 'GrandTheftAutoV',\n",
       " 'EmeraldPS2',\n",
       " 'Connery',\n",
       " 'MillerPlanetside',\n",
       " 'Briggs',\n",
       " 'PS2Cobalt',\n",
       " 'PlanetsideBattles',\n",
       " 'ps2ragetells',\n",
       " 'starcitizen',\n",
       " 'Warframe',\n",
       " 'h1z1',\n",
       " 'harasser',\n",
       " 'EliteDangerous',\n",
       " 'spaceengineers',\n",
       " 'VentGrumps',\n",
       " 'ConspiracyGrumps',\n",
       " 'roosterteeth',\n",
       " 'splatoon',\n",
       " 'Sleepycabin',\n",
       " 'wiiu',\n",
       " 'stevenuniverse',\n",
       " 'TwoBestFriendsPlay',\n",
       " 'battlefield_4',\n",
       " 'Battlefield_4_CTE',\n",
       " 'Battlefield',\n",
       " 'BF_Hardline',\n",
       " 'battlefeels',\n",
       " 'badcompany2',\n",
       " 'StarWarsBattlefront',\n",
       " 'gamingpc',\n",
       " 'VeniceUnleashed',\n",
       " 'truezelda',\n",
       " 'Metroid',\n",
       " 'AnimalCrossing',\n",
       " 'FinalFantasy',\n",
       " 'DarkSouls2',\n",
       " 'bloodborne',\n",
       " 'demonssouls',\n",
       " 'onebros',\n",
       " 'DarkSoulsHelp',\n",
       " 'shittydarksouls',\n",
       " 'fashionsouls',\n",
       " 'patientgamers',\n",
       " 'whowouldwin',\n",
       " 'dragonage',\n",
       " 'MECoOp',\n",
       " 'StarWars',\n",
       " '30ROCK',\n",
       " 'seinfeld',\n",
       " 'IASIP',\n",
       " 'PandR',\n",
       " 'ArcherFX',\n",
       " 'community',\n",
       " 'DunderMifflin',\n",
       " 'futurama',\n",
       " 'TheSimpsons',\n",
       " 'asoiaf',\n",
       " 'gallifrey',\n",
       " 'DoctorWhumour',\n",
       " 'MLPLounge',\n",
       " 'falloutequestria',\n",
       " 'furry',\n",
       " 'gravityfalls',\n",
       " 'MLPdrawingschool',\n",
       " 'mylittleandysonic1',\n",
       " 'Harmontown',\n",
       " 'rickandmorty',\n",
       " 'arrow',\n",
       " 'shield',\n",
       " 'FlashTV',\n",
       " 'SiliconValleyHBO',\n",
       " 'television',\n",
       " 'marvelstudios',\n",
       " 'Marvel',\n",
       " 'comicbooks',\n",
       " 'madmen',\n",
       " 'betterCallSaul',\n",
       " 'thewalkingdead',\n",
       " 'southpark',\n",
       " 'TheLastAirbender',\n",
       " 'comics',\n",
       " 'mylittlepony',\n",
       " 'DaystromInstitute',\n",
       " 'scifi',\n",
       " 'Treknobabble',\n",
       " 'sto',\n",
       " 'Stargate',\n",
       " 'AskScienceFiction',\n",
       " 'KingOfTheHill',\n",
       " 'howyoudoin',\n",
       " 'Scrubs',\n",
       " 'bigbangtheory',\n",
       " 'OnceUponATime',\n",
       " 'breakingbad',\n",
       " 'arresteddevelopment',\n",
       " 'trailerparkboys',\n",
       " 'gameofthrones',\n",
       " 'batman',\n",
       " 'HPfanfiction',\n",
       " 'FanTheories',\n",
       " 'doctorwho',\n",
       " 'tron',\n",
       " 'EdBangerRecords',\n",
       " 'deadmau5',\n",
       " 'gorillaz',\n",
       " 'FrenchHouse',\n",
       " 'electronicmusic',\n",
       " 'nba',\n",
       " 'BlackPeopleTwitter',\n",
       " 'streetwear',\n",
       " 'nfl',\n",
       " 'Sneakers',\n",
       " 'makinghiphop',\n",
       " 'Music',\n",
       " 'HipHopImages',\n",
       " 'manga',\n",
       " 'Animesuggest',\n",
       " 'DCcomics',\n",
       " 'comicbookmovies',\n",
       " 'offbeat',\n",
       " 'BatmanArkham',\n",
       " 'superman',\n",
       " 'Gotham',\n",
       " 'Spiderman',\n",
       " 'korrasami',\n",
       " 'adventuretime',\n",
       " 'Naruto',\n",
       " 'ShingekiNoKyojin',\n",
       " 'bleach',\n",
       " 'OnePiece',\n",
       " 'fairytail',\n",
       " 'dbz',\n",
       " 'anime',\n",
       " 'BokuNoHeroAcademia',\n",
       " 'TokyoGhoul',\n",
       " 'HunterXHunter',\n",
       " 'iiiiiiitttttttttttt',\n",
       " 'me_irl',\n",
       " 'lewronggeneration',\n",
       " 'shittyaskscience',\n",
       " 'thatHappened',\n",
       " 'europe',\n",
       " 'MapPorn',\n",
       " 'vexillology',\n",
       " 'paradoxplaza',\n",
       " 'eu4',\n",
       " 'CrusaderKings',\n",
       " 'civ',\n",
       " 'TrollYChromosome',\n",
       " 'AskWomen',\n",
       " 'AskTrollX',\n",
       " 'MakeupAddiction',\n",
       " 'TwoXChromosomes',\n",
       " 'unitedkingdom',\n",
       " 'BritishSuccess',\n",
       " 'ukpolitics',\n",
       " 'AskUK',\n",
       " 'london',\n",
       " 'BritishTV',\n",
       " 'Scotland',\n",
       " 'ShitAmericansSay',\n",
       " 'polandball',\n",
       " 'soccer',\n",
       " 'formula1',\n",
       " 'KotakuInAction',\n",
       " 'shittyfoodporn',\n",
       " 'Cooking',\n",
       " 'food',\n",
       " 'AskCulinary',\n",
       " 'MilitaryPorn',\n",
       " 'wallpaper',\n",
       " 'DeepIntoYouTube',\n",
       " 'GamePhysics',\n",
       " 'ContagiousLaughter',\n",
       " 'shittyreactiongifs',\n",
       " 'NotTimAndEric',\n",
       " 'Whatcouldgowrong',\n",
       " 'AnimalsBeingBros',\n",
       " 'nonononoyes',\n",
       " 'holdmybeer',\n",
       " 'instant_regret',\n",
       " 'StartledCats',\n",
       " 'cosplayers',\n",
       " 'cosplaygirls',\n",
       " 'quotes',\n",
       " 'SandersForPresident',\n",
       " 'HistoryPorn',\n",
       " 'animegifs',\n",
       " 'KanMusu',\n",
       " 'ZettaiRyouiki',\n",
       " 'kemonomimi',\n",
       " 'Animewallpaper',\n",
       " 'urbanexploration',\n",
       " 'whatisthisthing',\n",
       " 'Justrolledintotheshop',\n",
       " 'Autos',\n",
       " 'cars',\n",
       " 'Shitty_Car_Mods',\n",
       " 'spotted',\n",
       " 'TopGear',\n",
       " 'BMW',\n",
       " 'exoticspotting',\n",
       " 'Stance',\n",
       " 'subaru',\n",
       " 'WeirdWheels',\n",
       " 'Porsche',\n",
       " 'AnimalsBeingJerks',\n",
       " 'nononono',\n",
       " 'Perfectfit',\n",
       " 'misleadingthumbnails',\n",
       " 'shittyrobots',\n",
       " 'wheredidthesodago',\n",
       " 'dataisbeautiful',\n",
       " 'AskHistorians',\n",
       " 'techsupportmacgyver',\n",
       " 'softwaregore',\n",
       " 'OSHA',\n",
       " 'sysadmin',\n",
       " 'gentlemanboners',\n",
       " 'FreckledGirls',\n",
       " 'Celebs',\n",
       " 'photocritique',\n",
       " 'photography',\n",
       " 'ExposurePorn',\n",
       " 'analog',\n",
       " 'Futurology',\n",
       " 'explainlikeimfive',\n",
       " 'askscience',\n",
       " 'KerbalSpaceProgram',\n",
       " 'gadgets',\n",
       " 'badhistory',\n",
       " 'history',\n",
       " 'lifehacks',\n",
       " 'TrueReddit',\n",
       " 'SkincareAddiction',\n",
       " 'muacirclejerk',\n",
       " 'makeupexchange',\n",
       " 'femalefashionadvice',\n",
       " 'FancyFollicles',\n",
       " 'AsianBeauty',\n",
       " 'muacjdiscussion',\n",
       " 'Indiemakeupandmore',\n",
       " 'catpictures',\n",
       " 'RandomActsOfPolish',\n",
       " 'Wishlist',\n",
       " 'randomactsofamazon',\n",
       " 'TradeOrGift',\n",
       " 'RandomKindness',\n",
       " 'Assistance',\n",
       " 'secretsanta',\n",
       " 'RAOAWriters',\n",
       " 'RandomActsofMakeup',\n",
       " 'GiftofGames',\n",
       " 'Firearms',\n",
       " 'ar15',\n",
       " 'CCW',\n",
       " 'gundeals',\n",
       " 'weekendgunnit',\n",
       " 'progun',\n",
       " 'GunPorn',\n",
       " 'ak47',\n",
       " 'badtattoos',\n",
       " 'tattoo',\n",
       " 'BabyCorgis',\n",
       " 'goldenretrievers',\n",
       " 'dogpictures',\n",
       " 'dogs',\n",
       " 'Dachshund',\n",
       " 'Eyebleach',\n",
       " 'BeforeNAfterAdoption',\n",
       " 'puppy101',\n",
       " 'hardcoreaww',\n",
       " 'AnimalsBeingDerps',\n",
       " 'Awwducational',\n",
       " 'APStudents',\n",
       " 'CasualConversation',\n",
       " 'UpliftingNews',\n",
       " 'bikesgonewild',\n",
       " 'CalamariRaceTeam',\n",
       " 'relationships',\n",
       " 'AskMen',\n",
       " 'relationship_advice',\n",
       " 'offmychest',\n",
       " 'loseit',\n",
       " 'xxfitness',\n",
       " '1200isplenty',\n",
       " 'keto',\n",
       " 'bikecommuting',\n",
       " 'cycling',\n",
       " 'bikewrench',\n",
       " 'MTB',\n",
       " 'FixedGearBicycle',\n",
       " 'bicycletouring',\n",
       " 'Velo',\n",
       " 'peloton',\n",
       " 'Bikeporn',\n",
       " 'cyclocross',\n",
       " 'running',\n",
       " 'bodybuilding',\n",
       " 'YouShouldKnow',\n",
       " 'Frugal',\n",
       " 'LifeProTips',\n",
       " 'skateboarding',\n",
       " 'NewSkaters',\n",
       " 'snowboarding',\n",
       " 'LongboardBuilding',\n",
       " 'vaporents',\n",
       " 'surfing',\n",
       " 'personalfinance',\n",
       " 'EatCheapAndHealthy',\n",
       " 'cripplingalcoholism',\n",
       " 'showerbeer',\n",
       " 'progresspics',\n",
       " 'Fitness',\n",
       " 'army',\n",
       " 'AirForce',\n",
       " 'USMC',\n",
       " 'navy',\n",
       " 'CombatFootage',\n",
       " 'Veterans',\n",
       " 'guns',\n",
       " 'ProtectAndServe',\n",
       " 'MURICA',\n",
       " 'WarshipPorn',\n",
       " 'aviation',\n",
       " 'atheism',\n",
       " 'Anarcho_Capitalism',\n",
       " 'Shitstatistssay',\n",
       " 'Conservative',\n",
       " 'Bad_Cop_No_Donut',\n",
       " 'Economics',\n",
       " 'conspiracy',\n",
       " 'PoliticalDiscussion',\n",
       " 'libertarianmeme',\n",
       " 'worldpolitics',\n",
       " 'Foodforthought',\n",
       " 'bestof',\n",
       " 'changemyview',\n",
       " 'Republican',\n",
       " 'Libertarian',\n",
       " 'ShitPoliticsSays',\n",
       " 'conservatives',\n",
       " 'askaconservative',\n",
       " 'entertainment',\n",
       " 'geek',\n",
       " 'toronto',\n",
       " 'CanadaPolitics',\n",
       " 'alberta',\n",
       " 'vancouver',\n",
       " 'Calgary',\n",
       " 'ontario',\n",
       " 'hockey',\n",
       " 'PersonalFinanceCanada',\n",
       " 'ottawa',\n",
       " 'Edmonton',\n",
       " 'metacanada',\n",
       " 'canada',\n",
       " 'leafs',\n",
       " 'Torontobluejays',\n",
       " 'UofT',\n",
       " 'torontobiking',\n",
       " 'mississauga',\n",
       " 'torontoraptors',\n",
       " 'melbourne',\n",
       " 'sydney',\n",
       " 'brisbane',\n",
       " 'AFL',\n",
       " 'perth',\n",
       " 'nrl',\n",
       " 'Adelaide',\n",
       " 'AustralianPolitics',\n",
       " 'Aleague',\n",
       " 'AusFinance',\n",
       " 'Cricket',\n",
       " 'straya',\n",
       " 'britishproblems',\n",
       " 'pussypassdenied',\n",
       " 'askgaybros',\n",
       " 'gaymers',\n",
       " 'gaybrosgonemild',\n",
       " 'gay',\n",
       " 'TotallyStraight',\n",
       " 'ainbow',\n",
       " 'lgbt',\n",
       " 'lolgrindr',\n",
       " 'TopsAndBottoms',\n",
       " 'bisexual',\n",
       " 'asktransgender',\n",
       " 'actuallesbians',\n",
       " 'gaybros',\n",
       " 'transgender',\n",
       " 'MtF',\n",
       " 'LGBTeens',\n",
       " 'transpassing',\n",
       " 'transpositive',\n",
       " 'Gunners',\n",
       " 'FIFA',\n",
       " 'reddevils',\n",
       " 'LiverpoolFC',\n",
       " 'MLS',\n",
       " 'sports',\n",
       " 'rangers',\n",
       " 'hawks',\n",
       " 'baseball',\n",
       " 'Patriots',\n",
       " 'CFB',\n",
       " 'fantasyfootball',\n",
       " 'INDYCAR',\n",
       " 'wec',\n",
       " 'simracing',\n",
       " 'NASCAR',\n",
       " 'pcars',\n",
       " 'fantasybaseball',\n",
       " 'SFGiants',\n",
       " 'Dodgers',\n",
       " 'Cardinals',\n",
       " 'CHICubs',\n",
       " 'NewYorkMets',\n",
       " 'bjj',\n",
       " 'Boxing',\n",
       " 'JoeRogan',\n",
       " 'ufc',\n",
       " 'SquaredCircle',\n",
       " 'MMA',\n",
       " 'WrestleWithThePlot',\n",
       " 'WWE',\n",
       " 'androidapps',\n",
       " 'BitcoinMarkets',\n",
       " 'Buttcoin',\n",
       " 'dogecoin',\n",
       " 'linux',\n",
       " 'ProgrammerHumor',\n",
       " 'learnprogramming',\n",
       " 'webdev',\n",
       " 'Python',\n",
       " 'javascript',\n",
       " 'gamedev',\n",
       " 'cscareerquestions',\n",
       " 'compsci',\n",
       " 'AppleWatch',\n",
       " 'iphone',\n",
       " 'mac',\n",
       " 'Android',\n",
       " 'applehelp',\n",
       " 'jailbreak',\n",
       " 'ipad',\n",
       " 'osx',\n",
       " 'programming']"
      ]
     },
     "execution_count": 1005,
     "metadata": {},
     "output_type": "execute_result"
    }
   ],
   "source": [
    "list(related_subdf.index)"
   ]
  },
  {
   "cell_type": "code",
   "execution_count": 1006,
   "metadata": {},
   "outputs": [
    {
     "data": {
      "application/vnd.jupyter.widget-view+json": {
       "model_id": "1ac18da492d5405d92a2b261e639b5b0",
       "version_major": 2,
       "version_minor": 0
      },
      "text/plain": [
       "HBox(children=(IntProgress(value=0, max=5), HTML(value='')))"
      ]
     },
     "metadata": {},
     "output_type": "display_data"
    },
    {
     "name": "stdout",
     "output_type": "stream",
     "text": [
      "funny\n",
      "pics\n",
      "todayilearned\n",
      "videos\n",
      "WTF\n",
      "[{'There': 3, 'insisted': 1, 'good': 8, 'arent': 3, 'Macy': 1, 'renditions': 1, 'funny': 1, 'House': 1, 'th': 5, 'Jeff': 2, 'bracelet': 1, 'sweet': 1, 'sound': 4, 'safety': 1, 'surprise': 1, 'Id': 2, 'Miami': 1, 'meeting': 1, 'colorizing': 1, 'coach': 1, 'ridiculous': 1, 'embarrass': 1, 'acceptable': 1, 'where': 2, 'stepped': 1, 'acting': 1, 'Chernobyl': 1, 'than': 5, 'eaten': 1, 'kicks': 1, 'pod': 1, 'Shave': 1, 'Hulk': 1, 'gon': 1, 'Try': 1, 'got': 26, 'he': 43, 'Overspending': 1, 'Momoa': 1, 'yearold': 1, 'homeless': 1, 'gram': 1, 'burial': 1, 'asleep': 1, 'Escalation': 1, 'zone': 1, 'Whelp': 1, 'robot': 1, 'Sign': 1, 'Sandstorm': 1, 'sale': 3, 'blood': 1, 'Croatian': 1, 'Go': 1, 'Sweden': 1, 'others': 3, 'OkCupid': 1, 'dancing': 1, 'extra': 2, 'Green': 1, 'Cup': 1, 'you': 34, 'Saw': 4, 'Magicians': 1, 'cam': 2, 'pooping': 1, 'Until': 1, 'showing': 2, 'jacket': 1, 'xpost': 2, 'Police': 1, 'lift': 1, 'Petition': 1, 'Clerk': 1, 'cameraman': 1, 'club': 1, 'brought': 1, 'Lee': 1, 'The': 66, 'surrounding': 1, 'Costco': 1, 'Humor': 1, 'comedic': 1, 'move': 1, 'madness': 1, 'Year': 2, 'train': 2, 'littering': 1, 'Hats': 1, 'Amazing': 1, 'Lantern': 1, 'bath': 3, 'Adorable': 1, 'nomster': 1, 'exist': 3, 'cop': 1, 'reverse': 1, 'alternate': 1, 'Club': 1, 'then': 10, 'didnt': 11, 'Anybody': 1, 'keyboards': 1, 'bottle': 3, 'hate': 3, 'Me': 3, 'fundraiser': 1, 'learn': 1, 'inconvenience': 1, 'l': 1, 'Insist': 1, 'Quality': 1, 'Mode': 1, 'update': 1, 'son': 10, 'standard': 1, 'instructed': 1, 'screen': 2, 'same': 4, 'eternal': 1, 'silky': 1, 'HD': 1, 'angel': 1, 'Explain': 1, 'school': 8, 'Opened': 1, 'tan': 1, 'Bos': 1, 'crocheted': 1, 'pink': 1, 'its': 15, 'Dinosaurs': 1, 'YOU': 1, 'including': 1, 'Lion': 1, 'survived': 1, 'harder': 1, 'mug': 1, 'influence': 1, 'royal': 1, 'natural': 1, 'golf': 1, 'vegan': 1, 'feel': 1, 'Canada': 2, 'we': 15, 'Misses': 1, 'stole': 2, 'putting': 2, 'perfect': 4, 'driving': 1, 'City': 1, 'Fucking': 1, 'recognize': 1, 'CTRL': 1, 'carrots': 1, 'anchors': 1, 'Rakitic': 1, 'staple': 2, 'sort': 1, 'amazing': 3, 'stealing': 1, 'Little': 1, 'election': 1, 'wait': 1, 'Be': 2, 'edge': 1, 'reaction': 1, 'texts': 1, 'cigarette': 2, 'Dreams': 1, 'Even': 1, 'mall': 1, 'Grover': 1, 'solicitors': 1, 'possibly': 1, 'refuse': 1, 'China': 3, 'lightning': 1, 'Interview': 2, 'Take': 1, 'Guys': 2, 'lobster': 1, 'Bh': 1, 'teddy': 1, 'nuts': 1, 'coworker': 2, 'getting': 6, 'dryer': 1, 'cousin': 1, 'faceswapped': 1, 'along': 1, 'stealthy': 1, 'Advice': 1, 'videographer': 1, 'Ice': 1, 'strongest': 1, 'stocking': 1, 'front': 5, 'proud': 5, 'craft': 1, 'Blind': 1, 'comfortable': 1, 'u': 3, 'bit': 3, 'Why': 5, 'carseat': 1, 'low': 2, 'built': 1, 'Book': 1, 'disguising': 1, 'Drone': 1, 'town': 4, 'immortality': 1, 'angle': 3, 'donated': 1, 'Squeezed': 1, 'plunges': 1, 'These': 8, 'Carpet': 1, 'History': 2, 'parent': 1, 'authorities': 1, 'pretakeoff': 1, 'Faceswapped': 1, 'customer': 1, 'area': 1, 'house': 10, 'Night': 1, 'hobby': 1, 'on': 59, 'Money': 1, 'notice': 1, 'games': 3, 'roommate': 3, 'difference': 2, 'report': 2, 'William': 1, 'content': 1, 'epic': 1, 'doesnt': 8, 'pops': 1, 'r': 1, 'yesterdays': 1, 'ALT': 1, 'Hearing': 2, 'State': 1, 'minute': 1, 'Happy': 7, 'Organ': 1, 'almost': 2, 'drove': 1, 'breaking': 2, 'signs': 2, 'busy': 1, 'off': 11, 'swap': 1, 'worker': 1, 'note': 5, 'courtroom': 1, 'fly': 1, 'stuck': 1, 'shots': 1, 'shit': 1, 'potato': 1, 'habitat': 1, 'electric': 1, 'painters': 1, 'Witnessing': 1, 'through': 7, 'use': 3, 'Cross': 2, 'till': 2, 'flipping': 1, 'telling': 1, 'Face': 2, 'live': 3, 'used': 6, 'Assassins': 1, 'version': 1, 'Must': 1, 'sure': 2, 'Assert': 1, 'race': 1, 'Tower': 2, 'Ross': 1, 'eating': 3, 'Theft': 1, 'amputated': 1, 'pigeon': 1, 'pour': 1, 'bulk': 1, 'married': 2, 'forgot': 3, 'Guinea': 1, 'dad': 19, 'King': 1, 'D': 2, 'snooped': 1, 'teacher': 4, 'cosplay': 2, 'go': 8, 'coffee': 1, 'see': 14, 'grow': 2, 'piece': 4, 'of': 142, 'spicy': 1, 'Yesterday': 2, 'pranks': 1, 'Lets': 1, 'donut': 1, 'Aguilera': 1, 'bacon': 1, 'School': 1, 'wifes': 3, 'Using': 3, 'bond': 1, 'Shepard': 1, 'image': 1, 'meant': 1, 'Surprising': 1, 'No': 6, 'Cam': 1, 'falling': 1, 'terms': 1, 'amputee': 1, 'never': 8, 'waited': 4, 'rpics': 1, 'threatened': 1, 'alone': 4, 'grill': 1, 'Holy': 1, 'Password': 1, 'Shit': 2, 'kangaroo': 1, 'shrek': 1, 'Standing': 1, 'tomorrow': 1, 'bong': 1, 'floors': 1, 'Secret': 2, 'avid': 1, 'ate': 3, 'quite': 2, 'salivary': 1, 'ticket': 1, 'popping': 1, 'Sometimes': 1, 'lunch': 1, 'Reason': 1, 'practicing': 1, 'Power': 1, 'thanks': 2, 'Batman': 2, 'elder': 1, 'spider': 1, 'fuck': 1, 'function': 2, 'Coffee': 1, 'Caught': 1, 'beard': 2, 'cement': 1, 'woman': 3, 'Amtrak': 1, 'neds': 1, 'jazz': 1, 'already': 2, 'Rock': 1, 'development': 1, 'reacting': 1, 'asks': 2, 'while': 10, 'Goals': 1, 'big': 4, 'thrift': 1, 'Hes': 3, 'soundbite': 1, 'SoI': 1, 'Years': 2, 'allowed': 1, 'Presenting': 1, 'brother': 13, 'stops': 1, 'cooking': 1, 'calendars': 1, 'among': 1, 'rising': 1, 'going': 8, 'horrified': 1, 'afraid': 1, 'University': 2, 'eat': 3, 'Flight': 3, 'pasta': 1, 'enitre': 1, 'tender': 1, 'Jack': 1, 'Overcrowding': 1, 'Trains': 1, 'freshener': 1, 'glasses': 1, 'lady': 1, 'Sith': 1, 'Pandas': 2, 'kindergarten': 2, 'appreciate': 2, 'Instead': 1, 'fairy': 2, 'headset': 1, 'german': 1, 'option': 1, 'Fountain': 1, 'favorite': 9, 'Something': 1, 'yourself': 2, 'Trying': 2, 'Most': 1, 'Reminder': 1, 'attendant': 1, 'cutting': 1, 'become': 1, 'Goal': 2, 'workplace': 1, 'might': 4, 'retirement': 1, 'Twitter': 1, 'Decisions': 2, 'Help': 1, 'cello': 1, 'demonstrates': 1, 'occasionally': 1, 'Priceless': 1, 'pose': 1, 'auction': 1, 'Looking': 1, 'brand': 1, 'crab': 1, 'airport': 1, 'thought': 11, 'April': 1, 'capes': 2, 'gen': 1, 'nd': 1, 'two': 6, 'Ultimatum': 1, 'Kiss': 1, 'basement': 1, 'Destroying': 1, 'shorts': 1, 'response': 3, 'Suddenly': 1, 'Mondays': 1, 'needed': 3, 'blown': 2, 'Battery': 1, 'Trash': 1, 'apartments': 1, 'English': 2, 'a': 270, 'bowling': 1, 'hair': 3, 'last': 16, 'Arthurs': 1, 'confusing': 2, 'anymore': 1, 'succeeded': 2, 'acted': 1, 'attack': 1, 'Waiting': 1, 'fatherinlaw': 1, 'suppose': 1, 'asking': 1, 'pooped': 1, 'I': 182, 'Nala': 1, 'Shoutout': 2, 'post': 6, 'FB': 1, 'In': 4, 'stock': 1, 'Fun': 1, 'creepier': 1, 'Bob': 1, 'street': 1, 'crap': 2, 'nothing': 1, 'professor': 1, 'weather': 1, 'door': 7, 'kind': 2, 'pineapples': 1, 'advice': 1, 'Typical': 1, 'brighten': 1, 'caption': 1, 'appropriately': 1, 'Swedish': 1, 'read': 2, 'kids': 16, 'Giving': 2, 'N': 1, 'neighborhood': 4, 'Mark': 3, 'Zach': 1, 'jamming': 1, 'Wow': 1, 'Curtain': 1, 'doctor': 1, 'vanilla': 1, 'their': 25, 'buy': 2, 'high': 4, 'shoes': 2, 'Flying': 1, 'ideas': 1, 'sexes': 1, 'Camouflage': 1, 'Bros': 1, 'Who': 4, 'too': 11, 'back': 9, 'bops': 1, 'Shes': 1, 'drew': 2, 'mustered': 1, 'Omg': 1, 'traders': 1, 'Funny': 1, 'closed': 1, 'help': 3, 'Machines': 1, 'Rules': 1, 'Grower': 1, 'logo': 2, 'Bill': 1, 'tiger': 1, 'Cuisine': 1, 'Senate': 1, 'Tinder': 1, 'Shirt': 1, 'unlucky': 1, 'L': 1, 'answers': 1, 'Any': 1, 'stopped': 2, 'Throughout': 1, 'deadlift': 1, 'person': 2, 'dragons': 1, 'kitties': 1, 'Attaboy': 1, 'sacrificed': 1, 'Festival': 1, 'washing': 1, 'birth': 1, 'was': 73, 'OLakes': 1, 'n': 3, 'receipt': 1, 'rooms': 2, 'United': 3, 'recently': 5, 'cows': 1, 'sell': 1, 'hides': 1, 'now': 13, 'Braff': 1, 'b': 1, 'Her': 1, 'Smash': 1, 'pranked': 1, 'Intro': 1, 'tricks': 1, 'shift': 1, 'Vampire': 1, 'racing': 1, 'grandma': 2, 'argument': 1, 'looney': 1, 'scientists': 1, 'daycare': 1, 'trick': 5, 'blurred': 1, 'window': 2, 'queue': 1, 'nudes': 1, 'attacked': 1, 'choose': 2, 'fan': 2, 'Cavemen': 1, 'cons': 1, 'favour': 1, 'swings': 2, 'hit': 1, 'an': 22, 'Blue': 1, 'idiot': 1, 'breweries': 1, 'updated': 1, 'El': 1, 'called': 2, 'donuts': 1, 'teachers': 1, 'Megatron': 1, 'wants': 2, 'Difference': 2, 'Kevin': 1, 'horse': 1, 'gets': 7, 'Only': 2, 'largest': 1, 'ads': 3, 'beat': 1, 'chat': 1, 'Clouds': 1, 'night': 11, 'Gender': 1, 'grave': 1, 'Instructions': 1, 'dats': 1, 'graduated': 1, 'meal': 1, 'PTA': 1, 'pulling': 1, 'gov': 1, 'gold': 1, 'Burr': 1, 'Youve': 1, 'nailed': 2, 'noticed': 3, 'figured': 2, 'i': 6, 'idea': 7, 'background': 1, 'grandad': 1, 'face': 2, 'Today': 4, 'm': 1, 'tides': 2, 'spam': 1, 'sense': 4, 'naturally': 1, 'cherry': 1, 'Probably': 1, 'rich': 1, 'crane': 1, 'Crasho': 1, 'Invites': 1, 'Kids': 2, 'Cows': 1, 'hazards': 1, 'mouth': 1, 'Works': 1, 'shoot': 4, 'Brakes': 1, 'strange': 1, 'Bathroom': 1, 'noise': 1, 'looking': 1, 'stranger': 1, 'handsfree': 1, 'drama': 2, 'Retriever': 1, 'elementary': 1, 'reveal': 1, 'Grandfathers': 1, 'temptation': 1, 'Flat': 1, 'music': 2, 'children': 2, 'Swedes': 1, 'An': 4, 'punks': 1, 'Support': 1, 'mailroom': 1, 'tunes': 1, 'long': 6, 'Hey': 2, 'Las': 2, 'Six': 1, 'Buttered': 1, 'Service': 1, 'week': 3, 'entering': 1, 'newspaper': 1, 'out': 25, 'Gym': 1, 'cracked': 2, 'women': 1, 'four': 1, 'memers': 1, 'Lotto': 1, 'Saudi': 1, 'OC': 5, 'many': 1, 'Sandwich': 1, 'always': 6, 'shoveled': 1, 'Translate': 1, 'boys': 2, 'headlines': 1, 'London': 3, 'corgi': 1, 'Recording': 1, 'Hollywood': 1, 'return': 2, 'few': 5, 'tank': 1, 'hoping': 1, 'Surprise': 1, 'David': 1, 'Stick': 1, 'betrayal': 1, 'Uppsala': 1, 'teaching': 1, 'VILLAINS': 1, 'weekend': 4, 'penguin': 1, 'fooled': 1, 'Planet': 3, 'Grandma': 1, 'mechanic': 1, 'hired': 2, 'sequels': 1, 'Courtesy': 1, 'aint': 1, 'ripped': 1, 'why': 3, 'distract': 1, 'Thinker': 1, 'ComicCon': 1, 'disgusted': 1, 'size': 1, 'childrens': 1, 'Bean': 1, 'open': 2, 'Girls': 2, 'look': 12, 'Lord': 2, 'DMV': 3, 'do': 14, 'flight': 2, 'store': 3, 'Art': 1, 'Africa': 1, 'whilehe': 1, 'RED': 1, 'Stranger': 1, 'Backpack': 1, 'standing': 1, 'Neighbours': 1, 'Asked': 1, 'curtain': 2, 'proven': 1, 'sand': 1, 'because': 4, 'visit': 2, 'Mad': 1, 'Would': 1, 'Justin': 1, 'Offering': 1, 'caught': 4, 'sit': 1, 'roommates': 2, 'memorial': 1, 'solar': 1, 'Set': 2, 'unit': 1, 'themed': 1, 'breed': 1, 'across': 3, 'fair': 1, 'crocodiles': 1, 'Hard': 1, 'controller': 1, 'gas': 2, 'Coors': 1, 'morning': 3, 'me': 56, 'wedding': 6, 'drug': 1, 'Aubrey': 1, 'Malek': 1, 'Scandal': 1, 'Page': 1, 'twins': 1, 'billion': 1, 'head': 3, 'sledding': 1, 'offered': 1, 'found': 15, 'friends': 17, 'coworkers': 2, 'wisdom': 1, 'jumped': 1, 'Thanks': 2, 'Presentations': 1, 'thinks': 2, 'Prankmaster': 1, 'Respect': 1, 'penis': 1, 'tree': 1, 'Up': 1, 'grandstand': 1, 'she': 14, 'HEADPHONE': 1, 'delivered': 1, 'Drunk': 1, 'unnecessary': 1, 'Colorado': 1, 'snow': 4, 'naughtygood': 1, 'monday': 1, 'Making': 2, 'microwave': 1, 'Hide': 1, 'inspiring': 1, 'wanting': 1, 'also': 2, 'Told': 2, 'bill': 1, 'please': 1, 'clone': 1, 'Lol': 1, 'owner': 1, 'surgery': 2, 'month': 3, 'uncles': 1, 'draw': 2, 'Worst': 1, 'drink': 1, 'water': 4, 'ran': 1, 'google': 1, 'voting': 1, 'Cream': 1, 'babies': 1, 'sea': 1, 'But': 1, 'informed': 1, 'months': 2, 'Found': 2, 'battleships': 1, 'gender': 1, 'sees': 1, 'typical': 1, 'Gents': 1, 'complaint': 1, 'running': 2, 'from': 39, 'known': 1, 'Gadot': 1, 'rfunny': 1, 'package': 1, 'Atari': 1, 'shall': 1, 'Gus': 1, 'limits': 1, 'Dispatcher': 1, 'hope': 1, 'fourth': 1, 'and': 114, 'Barbie': 1, 'funeral': 1, 'receive': 1, 'graduation': 4, 'Land': 1, 'Played': 1, 'Am': 1, 'cycle': 1, 'Elmo': 1, 'fell': 2, 'saying': 2, 'paying': 1, 'Committed': 1, 'Outwitting': 1, 'Networking': 1, 'mess': 2, 'Snapchat': 2, 'ding': 1, 'Uber': 1, 'cross': 1, 'billboard': 1, 'workers': 1, 'both': 1, 'supermarket': 1, 'sleeps': 1, 'revenge': 1, 'suit': 1, 'eater': 1, 'watch': 3, 'Ad': 1, 'Elvis': 1, 'rim': 1, 'faceswap': 1, 'Mother': 1, 'should': 2, 'scape': 1, 'imagination': 1, 'fuckin': 1, 'Ferrari': 1, 'hairline': 1, 'jumping': 1, 'pub': 1, 'Eastern': 1, 'Hallelujah': 1, 'penalty': 1, 'engaged': 1, 'syrup': 1, 'truck': 1, 'undergrad': 1, 'flamethrower': 1, 'canceled': 1, 'ordered': 2, 'galaxy': 2, 'Monopoly': 2, 'y': 2, 'Samuel': 1, 'aged': 3, 'photo': 15, 'pays': 1, 'shes': 4, 'Quite': 1, 'commenter': 1, 'yogurt': 1, 'vehicle': 1, 'Americans': 2, 'advertising': 1, 'female': 1, 'Tide': 1, 'case': 1, 'dentist': 1, 'candy': 1, 'possible': 1, 'support': 1, 'Award': 1, 'around': 4, 'any': 1, 'Not': 3, 'end': 2, 'chasing': 1, 'feels': 1, 'shot': 1, 'discovered': 3, 'updates': 1, 'bridge': 1, 'has': 20, 'Boom': 1, 'Poor': 1, 'absolutely': 1, 'felt': 1, 'Ruffalo': 1, 'Muscle': 1, 'place': 4, 'maze': 1, 'Sears': 1, 'upload': 1, 'Peniciples': 1, 'hero': 1, 'Login': 1, 'Someone': 3, 'advertise': 1, 'said': 9, 'Boo': 1, 'different': 1, 'sexy': 1, 'protesting': 1, 'award': 2, 'how': 22, 'wouldnt': 1, 'classes': 1, 'smoking': 1, 'Chases': 1, 'raising': 1, 'doing': 4, 'quality': 2, 'showed': 1, 'hometown': 2, 'Please': 1, 'creative': 2, 'Eddie': 1, 'behind': 3, 'Hammer': 1, 'managed': 1, 'o': 3, 'Princess': 1, 'prices': 1, 'line': 1, 'Windows': 3, 'Lifesavers': 1, 'na': 2, 'cant': 5, 'unsettling': 1, 'hopefully': 1, 'knows': 1, 'memory': 1, 'Meme': 1, 'chord': 1, 'momma': 1, 'We': 9, 'Aquaman': 1, 'looks': 11, 'celebrating': 1, 'measures': 1, 'shaved': 1, 'basketball': 1, 'Jeezus': 1, 'leg': 2, 'posted': 3, 'Us': 1, 'UPDATE': 1, 'Anistons': 1, 'finds': 1, 'Brothers': 1, 'brothers': 1, 'slightest': 1, 'smile': 2, 'courses': 1, 'another': 2, 'reflection': 1, 'ultimate': 1, 'though': 1, 'girlfriend': 6, 'pirate': 1, 'hits': 1, 'Do': 1, 'selfie': 2, 'cameras': 2, 'fantasies': 1, 'cover': 4, 'Run': 1, 'Jackman': 1, 'three': 2, 'party': 7, 'Google': 7, 'internet': 1, 'level': 4, 'bearded': 1, 'bumper': 1, 'perks': 1, 'wall': 3, 'sausage': 1, 'Should': 1, 'Much': 1, 'teams': 1, 'MUTHAFUCKA': 1, 'stood': 1, 'Bollywood': 1, 'terrible': 2, 'unsung': 1, 'Still': 1, 'sharp': 1, 'roads': 1, 'middle': 6, 'Gold': 1, 'heat': 1, 'Presidents': 1, 'reddits': 1, 'Goodwill': 1, 'website': 1, 'players': 1, 'First': 4, 'What': 6, 'Card': 1, 'universal': 1, 'Figured': 1, 'Peak': 1, 'earther': 1, 'Cover': 1, 'Stiles': 1, 'Its': 15, 'grade': 2, 'forward': 2, 'making': 3, 'immediately': 1, 'respectable': 1, 'CHANCES': 1, 'stars': 2, 'up': 47, 'changed': 1, 'wake': 1, 'Nick': 1, 'wild': 2, 'road': 1, 'Pigeon': 1, 'prince': 1, 'investigated': 1, 'magic': 3, 'cigar': 1, 'would': 5, 'majestic': 1, 'claw': 1, 'opportunity': 1, 'hawks': 1, 'storing': 1, 'doubles': 1, 'gift': 4, 'Accurate': 1, 'reporting': 1, 'city': 2, 'left': 9, 'accept': 1, 'tell': 3, 'Aquarium': 1, 'Apple': 1, 'us': 5, 'stalking': 1, 'secret': 1, 'peeing': 1, 'penguins': 1, 'messing': 1, 'death': 1, 'Might': 2, 'review': 5, 'created': 2, 'MN': 1, 'bathroom': 5, 'men': 2, 'About': 1, 'try': 3, 'pictures': 7, 'heights': 1, 'Internet': 2, 'legend': 1, 'band': 2, 'apartment': 1, 'pull': 2, 'cause': 1, 'Principles': 1, 'You': 9, 'Morning': 1, 'whats': 1, 'great': 2, 'slim': 1, 'underestimate': 1, 'Eve': 1, 'Equifax': 2, 'glass': 3, 'bulbs': 1, 'skill': 1, 'Australia': 1, 'Nightmare': 1, 'Contractor': 1, 'One': 6, 'take': 13, 'relations': 1, 'challenged': 1, 'homework': 1, 'trial': 1, 'hardware': 1, 'laser': 1, 'event': 1, 'Good': 5, 'M': 1, 'Veterinarian': 1, 'things': 8, 'USBs': 1, 'understand': 1, 'FUCKING': 1, 'bump': 1, 'more': 5, 'pain': 1, 'neckchest': 1, 'obtained': 1, 'did': 8, 'correctly': 1, 'wonder': 1, 'November': 1, 'ranch': 1, 'shitty': 2, 'test': 2, 'center': 1, 'thing': 8, 'photos': 5, 'decides': 1, 'waiter': 1, 'Weaknesses': 1, 'crystal': 1, 'budget': 1, 'Thai': 1, 'something': 2, 'or': 3, 'telephone': 1, 'tired': 3, 'Time': 1, 'asserting': 1, 'daughters': 4, 'Need': 1, 'the': 277, 'sauces': 1, 'TV': 4, 'superior': 1, 'precautionary': 1, 'birthday': 10, 'clothes': 1, 'resort': 2, 'tail': 1, 'until': 5, 'Fools': 1, 'region': 1, 'better': 4, 'growing': 1, 'gaming': 1, 'nephews': 1, 'dads': 4, 'mind': 1, 'email': 3, 'set': 2, 'H': 1, 'trench': 1, 'Kitchen': 1, 'starving': 1, 'scan': 1, 'pics': 2, 'Gordon': 1, 'Guardians': 1, 'cheat': 1, 'wrong': 6, 'seen': 7, 'Birth': 1, 'assistant': 1, 'violence': 1, 'K': 1, 'batteries': 1, 'mouse': 2, 'ever': 14, 'divorced': 1, 'restoring': 1, 'strands': 1, 'Here': 3, 'Kid': 2, 'adulthood': 1, 'toilet': 1, 'gun': 1, 'chef': 2, 'da': 2, 'title': 1, 'fine': 2, 'may': 2, 'disaster': 1, 'shutting': 1, 'little': 9, 'rains': 1, 'available': 1, 'McGregor': 1, 'HOA': 1, 'small': 2, 'experiment': 1, 'badly': 1, 'Jim': 1, 'Work': 2, 'Nice': 1, 'ability': 1, 'flock': 1, 'MOVIE': 1, 'shopping': 1, 'Bored': 1, 'CAN': 1, 'tradition': 1, 'peanut': 1, 'rude': 1, 'replaced': 2, 'word': 1, 'fortune': 1, 'humans': 2, 'sprinkler': 1, 'waste': 1, 'rent': 1, 'THE': 1, 'Wife': 3, 'havent': 2, 'summed': 1, 'technology': 1, 'Pride': 1, 'Rami': 1, 'Simpsons': 1, 'student': 2, 'Getting': 2, 'snapchat': 2, 'hole': 1, 'Congrats': 1, 'yelled': 1, 'Slutty': 1, 'older': 1, 'humping': 1, 'frozen': 1, 'drop': 2, 'Took': 1, 'RIP': 1, 'captain': 1, 'home': 7, 'Disclaimer': 1, 'ourselves': 1, 'pumpkin': 1, 'likes': 3, 'love': 7, 'such': 1, 'firefighters': 1, 'claim': 1, 'watching': 4, 'Seoul': 1, 'photoshop': 1, 'Fan': 3, 'Plus': 1, 'Zealands': 1, 'vacation': 1, 'check': 3, 'locks': 1, 'anxiety': 1, 'lines': 1, 'seal': 1, 'Thailand': 1, 'words': 1, 'won': 3, 'LOAD': 1, 'magazine': 1, 'full': 3, 'else': 1, 'who': 15, 'eclipse': 3, 'Cera': 1, 'CPR': 1, 'Infinity': 1, 'stoplight': 1, 'iPad': 1, 'BMW': 1, 'save': 3, 'ice': 1, 'Due': 1, 'security': 4, 'Linkception': 1, 'biggest': 2, 'employee': 1, 'Kart': 1, 'room': 1, 'air': 1, 'Vedder': 1, 'bookmark': 1, 'newest': 1, 'crocs': 1, 'like': 35, 'police': 2, 'Gods': 1, 'understanding': 1, 'her': 38, 'type': 1, 'peg': 1, 'Road': 1, 'clean': 2, 'winner': 1, 'car': 5, 'pint': 1, 'IS': 1, 'plane': 2, 'Listen': 1, 'diesel': 1, 'Metric': 1, 'attacks': 1, 'Is': 4, 'worked': 1, 'give': 3, 'giving': 1, 'thousand': 1, 'officially': 1, 'years': 10, 'hear': 2, 'dozen': 1, 'SANDRA': 1, 'mormomg': 1, 'present': 6, 'Grandpa': 1, 'my': 149, 'need': 2, 'd': 2, 'Facebook': 1, 'Looks': 1, 'fire': 2, 'Near': 1, 'Hawking': 1, 'realised': 2, 'step': 3, 'Arbys': 1, 'here': 6, 'New': 4, 'mayonnaise': 1, 'Dude': 1, 'dog': 24, 'let': 7, 'killed': 2, 'Jackson': 1, 'each': 8, 'these': 4, 'laughing': 1, 'Have': 1, 'legendary': 1, 'custody': 1, 'cool': 1, 'joined': 1, 'cup': 1, 'irl': 1, 'swan': 1, 'highlight': 1, 'boss': 1, 'booth': 1, 'Daily': 1, 'dress': 2, 'theyve': 1, 'expecting': 1, 'tent': 1, 'Head': 2, 'exceptionally': 1, 'Airlines': 2, 'make': 7, 'Kimberly': 1, 'Live': 1, 'Each': 1, 'public': 2, 'kidney': 1, 'record': 2, 'well': 5, 'Meatyor': 1, 'upped': 1, 'blind': 3, 'golfer': 1, 'scared': 1, 'Didnt': 1, 'office': 5, 'leave': 1, 'Whenever': 1, 'comic': 1, 'fun': 5, 'know': 10, 'loving': 1, 'matching': 1, 'hotel': 1, 'Tencious': 1, 'heroes': 2, 'A': 30, 'useless': 2, 'gif': 1, 'ditching': 1, 'twice': 1, 'realized': 3, 'Rubbed': 1, 'shame': 1, 'opening': 1, 'cops': 2, 'longer': 1, 'Michael': 1, 'time': 17, 'weird': 2, 'invited': 1, 'huh': 1, 'nutshell': 2, 'SEVEN': 1, 'eyes': 1, 'heads': 1, 'HUGE': 1, 'using': 3, 'mirror': 1, 'admin': 2, 'Hugh': 1, 'first': 15, 'niece': 1, 'inched': 1, 'adore': 1, 'sweater': 1, 'Oktoberfest': 1, 'shades': 1, 'wont': 1, 'picking': 2, 'deck': 1, 'track': 2, 'taken': 1, 'class': 4, 'ready': 1, 'Friday': 4, 'Ratoncito': 1, 'Lesson': 1, 'breezy': 1, 'far': 1, 'show': 3, 'Carpe': 1, 'bread': 1, 'that': 42, 'is': 86, 'father': 2, 'convince': 1, 'barn': 1, 'couldnt': 2, 'hat': 2, 'robbery': 1, 'litter': 1, 'Street': 2, 'wakes': 1, 'approve': 1, 'Breaking': 1, 'stages': 1, 'gang': 1, 'talent': 1, 'yelling': 2, 'renaissance': 1, 'Heckler': 1, 'if': 5, 'Citizen': 1, 'day': 18, 'lab': 1, 'style': 2, 'sons': 2, 'Every': 3, 'kmph': 1, 'wield': 1, 'Trolling': 1, 'been': 15, 'Security': 1, 'paid': 2, 'accident': 1, 'shows': 2, 'uninspirational': 1, 'come': 8, 'sarcophagus': 1, 'equally': 1, 'pulled': 2, 'only': 7, 'seconds': 1, 'Swanson': 1, 'buddy': 6, 'less': 1, 'Airline': 1, 'reading': 1, 'Ron': 1, 'Coworker': 1, 'solved': 1, 'mum': 1, 'massive': 1, 'Folder': 1, 'baby': 4, 'priorities': 1, 'DEL': 1, 'deserves': 1, 'deposit': 1, 'famous': 1, 'Exhibit': 1, 'Shanghai': 1, 'Halloween': 10, 'body': 1, 'Atlanta': 1, 'stitching': 1, 'cord': 1, 'dudes': 1, 'milk': 1, 'American': 1, 'yr': 1, 'can': 8, 'Silence': 1, 'date': 1, 'India': 1, 'hates': 2, 'Assistant': 1, 'photoshopped': 1, 'Strange': 3, 'crashed': 1, 'Lake': 1, 'Star': 1, 'Human': 1, 'Skydeck': 1, 'packing': 1, 'smart': 1, 'Debt': 1, 'Replaced': 1, 'sped': 2, 'box': 5, 'snuck': 1, 'drivethru': 1, 'newlyhatched': 1, 'Effective': 1, 'learned': 1, 'evidence': 1, 'Thats': 4, 'Vital': 1, 'Tragedy': 1, 'damage': 1, 'included': 1, 'helping': 1, 'smartass': 1, 'More': 1, 'O_O': 1, 'outside': 4, 'App': 1, 'ive': 1, 'tact': 1, 'bork': 1, 'skateboard': 2, 'sliced': 1, 'medical': 1, 'shady': 1, 'Springfield': 1, 'decade': 1, 'sign': 6, 'Bezos': 1, 'popped': 1, 'snapped': 1, 'Get': 2, 'made': 9, 'so': 33, 'After': 2, 'Rio': 1, 'quote': 1, 'Husbands': 1, 'beer': 5, 'domestic': 1, 'teeth': 3, 'cabin': 1, 'pumped': 1, 'slowly': 1, 'stepdaughter': 1, 'gentlemen': 1, 'planned': 1, 'Doctors': 1, 'down': 9, 'waving': 1, 'Future': 1, 'leaves': 1, 'Leafs': 1, 'free': 3, 'favourite': 1, 'puts': 1, 'Dat': 1, 'finding': 1, 'It': 11, 'took': 14, 'situation': 1, 'Drawer': 1, 'husband': 4, 'turn': 4, 'burger': 1, 'plans': 1, 'underneath': 1, 'YEET': 1, 'Just': 7, 'fat': 2, 'before': 6, 'assembly': 1, 'referee': 1, 'art': 4, 'Airport': 1, 'soon': 1, 'be': 20, 'hospitalised': 1, 'framed': 2, 'stadium': 1, 'mirrors': 2, 'If': 3, 'panorama': 1, 'have': 28, 'much': 5, 'living': 3, 'circle': 2, 'drive': 2, 'product': 1, 'darn': 1, 'Kindle': 1, 'erotic': 1, 'Cranky': 1, 'dolls': 1, 'local': 9, 'horn': 1, 'beauty': 1, 'And': 4, 'Vegas': 2, 'JFK': 1, 'kitchen': 2, 'Jerry': 1, 'Haters': 1, 'album': 3, 'point': 1, 'Captain': 1, 'ok': 1, 'translucent': 1, 'funnier': 1, 'by': 8, 'yes': 2, 'Hobbycraft': 1, 'GROUP': 1, 'antivirus': 1, 'excellent': 2, 'Butter': 1, 'think': 9, 'Right': 1, 'dressed': 6, 'Elon': 1, 'Santa': 1, 'respect': 2, 'Toto': 1, 'spotted': 1, 'Louise': 1, 'totally': 1, 'meteor': 1, 'grass': 1, 'shouldnt': 1, 'NOT': 3, 'Reynolds': 2, 'boyfriend': 8, 'sold': 3, 'even': 5, 'Mirror': 1, 'shirt': 3, 'Disney': 3, 'Oscar': 1, 'group': 2, 'prisons': 1, 'locations': 1, 'job': 4, 'FISH': 1, 'Spanishspeaking': 1, 'ulterior': 1, 'shop': 2, 'based': 1, 'scenes': 1, 'Laurel': 1, 'possibleShe': 1, 'since': 3, 'yo': 1, 'responding': 1, 'company': 1, 'fantastic': 1, 'Moon': 2, 'Sad': 2, 'Cruise': 1, 'Chores': 1, 'paper': 3, 'Carrey': 1, 'slap': 1, 'butter': 1, 'salad': 1, 'easy': 1, 'Our': 6, 'sister': 8, 'Fortunately': 1, 'recording': 2, 'knew': 7, 'watches': 1, 'ONLY': 1, 'Phoenix': 1, 'visits': 1, 'anyone': 2, 'early': 1, 'giggle': 1, 'code': 1, 'supposed': 1, 'say': 4, 'selling': 1, 'Musk': 1, 'Mom': 4, 'Moms': 1, 'myself': 3, 'Orange': 1, 'tried': 2, 'blink': 1, 'station': 3, 'sunset': 1, 'beaches': 1, 'Hits': 1, 'leader': 1, 'Yes': 2, 'mile': 1, 'flat': 2, 'Droids': 1, 'break': 3, 'went': 9, 'waiting': 3, 'Super': 2, 'goofier': 1, 'build': 1, 'retrapped': 1, 'really': 8, 'Well': 7, 'it': 60, 'during': 4, 'decided': 2, 'absolute': 1, 'Were': 1, 'Heading': 1, 'lets': 1, 'heinous': 1, 'wrapping': 1, 'bottles': 1, 'gives': 2, 'pizza': 2, 'yet': 3, 'together': 1, 'Guess': 2, 'Im': 23, 'Train': 1, 'Newspaper': 1, 'Bought': 1, 'locker': 2, 'NO': 1, 'Thanksgiving': 1, 'signed': 1, 'smarter': 1, 'want': 7, 'outta': 2, 'Ghost': 1, 'driver': 4, 'close': 2, 'comprehend': 1, 'star': 2, 'cheesy': 1, 'next': 6, 'Spent': 1, 'calculated': 1, 'book': 5, 'pup': 1, 'to': 198, 'humour': 1, 'Netflix': 1, 'win': 2, 'obsession': 2, 'Boys': 1, 'terrain': 1, 'Raccoon': 1, 'beforehand': 1, 'queen': 1, 'which': 2, 'currently': 1, 'Went': 3, 'science': 1, 'Pérez': 1, 'accepted': 1, 'wish': 3, 'cute': 1, 'kite': 1, 'Doesnt': 1, 'reddit': 2, 'beginning': 1, 'CT': 1, 'Forgot': 1, 'chocolates': 1, 'Reveal': 1, 'Computer': 1, 'fit': 1, 'warned': 1, 'trouble': 2, 'sending': 1, 'July': 1, 'disguise': 1, 'Ill': 2, 'Incognito': 1, 'Ask': 1, 'Handsfree': 1, 'dogs': 1, 'downtown': 1, 'tends': 1, 'Says': 1, 'cab': 1, 'garage': 3, 'ad': 2, 'Confidence': 1, 'looked': 1, 'personally': 1, 'sisters': 3, 'Ohio': 1, 'laundry': 1, 'luck': 1, 'measured': 1, 'page': 2, 'World': 1, 'money': 2, 'song': 3, 'walking': 2, 'fed': 2, 'Tax': 1, 'achieved': 1, 'finish': 1, 'Now': 2, 'meet': 1, 'portrait': 1, 'trip': 2, 'theres': 1, 'sober': 1, 'pointer': 1, 'gland': 1, 'So': 12, 'Middle': 2, 'celebratory': 1, 'Tried': 1, 'nurse': 1, 'worrywart': 1, 'babysitters': 1, 'Was': 1, 'shared': 1, 'PD': 1, 'trash': 2, 'incident': 1, 'fights': 1, 'HEL': 1, 'Bear': 1, 'wears': 1, 'done': 3, 'cracks': 1, 'reached': 1, 'pass': 3, 'happy': 4, 'dong': 1, 'man': 12, 'pairs': 1, 'Cycle': 1, 'dominance': 2, 'cookies': 1, 'Ma': 1, 'international': 1, 'seeds': 1, 'saw': 6, 'drivers': 1, 'sneak': 1, 'shampoo': 1, 'Progressive': 1, 'jar': 1, 'weve': 1, 'sat': 1, 'religious': 1, 'media': 1, 'heard': 1, 'Tell': 1, 'Yummy': 1, 'health': 1, 'fist': 1, 'wobbly': 1, 'WARNING': 1, 'conversation': 1, 'cousins': 1, 'CEO': 2, 'She': 1, 'Kitten': 1, 'CVS': 1, 'matter': 2, 'ride': 1, 'perfectly': 1, 'stump': 1, 'second': 1, 'fitted': 1, 'greatest': 3, 'part': 1, 'wails': 1, 'tourists': 3, 'attempt': 1, 'get': 20, 'holding': 1, 'acts': 1, 'commemorated': 1, 'social': 1, 'could': 10, 'Forecast': 1, 'guard': 2, 'as': 32, 'Photoshop': 2, 'Recovery': 1, 'flying': 2, 'vandalism': 1, 'doggy': 1, 'without': 3, 'Dads': 1, 'Perfectly': 1, 'lights': 1, 'truth': 1, 'Vader': 1, 'bible': 1, 'with': 50, 'wheel': 1, 'definitely': 1, 'Glad': 1, 'needs': 4, 'sibling': 1, 'Words': 1, 'context': 1, 'Dammit': 1, 'light': 2, 'Crocs': 1, 'this': 104, 'pong': 1, 'impressions': 1, 'language': 1, 'foot': 1, 'cabinet': 2, 'Whats': 2, 'microwaves': 1, 'uncle': 1, 'Video': 1, 'Private': 1, 'ask': 1, 'Damn': 2, 'flooded': 1, 'excelling': 1, 'yesterdayhes': 1, 'drinks': 1, 'vending': 1, 'White': 1, 'Luke': 1, 'fake': 5, 'Dont': 5, 'attending': 2, 'library': 2, 'fishing': 1, 'sent': 12, 'Had': 6, 'Canadian': 5, 'snowcake': 1, 'thats': 2, 'How': 14, 'phone': 1, 'six': 1, 'instead': 2, 'Bride': 1, 'fing': 1, 'Husband': 1, 'Reality': 1, 'work': 13, 'pen': 1, 'Update': 1, 'couple': 1, 'shark': 1, 'coat': 1, 'most': 5, 'Grey': 1, 'explains': 1, 'joke': 5, 'dressing': 1, 'homecoming': 1, 'hilarious': 2, 'pudding': 1, 'Golden': 1, 'Old': 2, 'NYCC': 1, 'College': 1, 'text': 1, 'change': 2, 'supreme': 1, 'heading': 1, 'online': 1, 'saucewhatever': 1, 'committed': 1, 'That': 2, 'Waze': 1, 'May': 1, 'name': 1, 'hed': 1, 'Free': 2, 'excited': 2, 'career': 1, 'Grand': 1, 'chew': 1, 'hands': 2, 'mate': 1, 'pair': 4, 'dinosaur': 2, 'Robots': 1, 'Devil': 1, 'ironic': 1, 'tribute': 1, 'confirmed': 1, 'Hasnt': 1, 'seemed': 1, 'old': 12, 'As': 1, 'view': 1, 'spidey': 1, 'every': 6, 'particularly': 1, 'label': 1, 'specimen': 1, 'days': 6, 'pitbull': 1, 'cone': 1, 'bungee': 1, 'rain': 1, 'interview': 1, 'chose': 1, 'upset': 1, 'pay': 1, 'way': 10, 'composure': 1, 'luggage': 1, 'fish': 1, 'Countrys': 1, 'Federer': 1, 'braille': 1, 'Sorry': 3, 'Girlfriend': 1, 'greeted': 1, 'Australians': 1, 't': 3, 'Johnny': 1, 'beep': 5, 'painting': 1, 'gorillas': 1, 'ban': 1, 'interested': 1, 'res': 1, 'True': 2, 'Larry': 1, 'moment': 6, 'Mario': 1, 'impatient': 1, 'Hilarious': 1, 'biker': 1, 'engine': 1, 'girlfriends': 2, 'He': 17, 'Motivational': 1, 'human': 1, 'will': 15, 'child': 4, 'outprank': 1, 'Forbes': 1, 'future': 1, 'printer': 1, 'playing': 4, 'threw': 1, 'Offerman': 1, 'Baby': 1, 'send': 2, 'thanksgiving': 1, 'Landlord': 2, 'call': 1, 'FLAGS': 1, 'oldest': 1, 'realize': 1, 'Finally': 3, 'game': 6, 'cactus': 1, 'Mugshot': 1, 'John': 1, 'design': 2, 'tingling': 1, 'chopsticks': 1, 'Earthers': 1, 'Ryan': 3, 'Nest': 1, 'young': 2, 'your': 22, 'argue': 1, 'owl': 1, 'accordion': 1, 'invention': 1, 'accidentally': 3, 'tub': 1, 'everyone': 1, 'Imagine': 1, 'scary': 1, 'Russian': 2, 'violent': 1, 'issues': 1, 'emailed': 1, 'soft': 1, 'had': 18, 'arriving': 1, 'tomato': 1, 'Priorities': 1, 'Sold': 1, 'ceiling': 1, 'bitch': 1, 'Dax': 1, 'Fuck': 2, 'sounds': 1, 'right': 8, 'still': 8, 'Stephen': 2, 'followed': 1, 'wear': 2, 'AFV': 1, 'bar': 2, 'stool': 1, 'Immigrants': 1, 'cat': 15, 'again': 2, 'YEAH': 1, 'litt': 1, 'OMG': 1, 'pattern': 1, 'sidewalk': 2, 'are': 22, 'spot': 3, 'Avengers': 1, 'spend': 1, 'switched': 3, 'When': 6, 'Wall': 1, 'costumes': 2, 'Software': 1, 'war': 3, 'Better': 1, 'Brady': 1, 'were': 13, 'freezing': 1, 'fast': 2, 'All': 4, 'pic': 7, 'Shampoolympics': 1, 'keys': 1, 'flash': 1, 'mankind': 1, 'PSA': 1, 'just': 26, 'burnt': 1, 'oblivious': 1, 'our': 18, 'Russia': 1, 'bear': 1, 'Printers': 1, 'dealt': 1, 'appropriate': 1, 'guns': 1, 'rcats': 1, 'Hmmmmmmm': 1, 'countries': 1, 'Snoop': 1, 'drawn': 2, 'tweet': 1, 'mixtape': 1, 'LEEEEEEEEEEEEEEEEEAVES': 1, 'in': 117, 'fiancée': 1, 'sweep': 1, 'aggressive': 1, 'Wyoming': 1, 'hook': 1, 'Dogs': 1, 'deserve': 2, 'behold': 1, 'Puppys': 1, 'Amish': 1, 'release': 1, 'salty': 1, 'pigs': 1, 'born': 1, 'Dad': 11, 'tries': 2, 'To': 1, 'manly': 1, 'Cant': 5, 'pineapple': 1, 'proposal': 1, 'Aww': 1, 'postit': 1, 'featured': 2, 'Rowling': 1, 'start': 2, 'NASA': 2, 'quadline': 1, 'Hanks': 1, 'meaning': 1, 'news': 5, 'mine': 2, 'says': 6, 'speak': 1, 'dont': 7, 'frontpage': 1, 'wanted': 8, 'seller': 1, 'Valentines': 2, 'Garden': 1, 'became': 4, 'airplane': 1, 'shamefully': 1, 'nieces': 1, 'put': 7, 'ahead': 1, 'everybody': 1, 'working': 1, 'Wan': 1, 'Nut': 1, 'calm': 1, 'Engineer': 1, 'shooting': 2, 'pregnancy': 1, 'freaking': 1, 'backwards': 1, 'Lowes': 1, 'Los': 1, 'plant': 1, 'shower': 2, 'pros': 1, 'comfort': 1, 'radio': 1, 'Conan': 1, 'met': 2, 'repair': 1, 'Wait': 2, 'invented': 2, 'wassup': 1, 'towels': 2, 'Things': 2, 'removed': 1, 'Pikes': 1, 'leaving': 2, 'system': 1, 'Life': 2, 'unlocked': 1, 'Redditors': 1, 'finished': 2, 'trainer': 1, 'Florida': 2, 'cake': 3, 'powerlifter': 1, 'Catwoman': 1, 'Never': 2, 'News': 1, 'welcome': 1, 'purchased': 1, 'SURPRISE': 1, 'Ready': 1, 'camera': 7, 'Shirtception': 1, 'Iceskating': 1, 'Maui': 1, 'hyenas': 1, 'Meanwhile': 1, 'Saucelet': 1, 'Geico': 1, 'competition': 1, 'comes': 4, 'board': 2, 'Ian': 1, 'Easter': 1, 'Put': 1, 'fixed': 1, 'Girlfriends': 1, 'THING': 1, 'grandmother': 1, 'Activity': 1, 'Bro': 1, 'e': 2, 'later': 4, 'stand': 4, 'LA': 1, 'enough': 1, 'wire': 1, 'Reddits': 2, 'Reminds': 1, 'picture': 21, 'Rhapsody': 1, 'picked': 3, 'Doggy': 1, 'editted': 1, 'traffic': 1, 'sturdiness': 1, 'Makes': 1, 'machine': 2, 'Nicholas': 1, 'Origin': 1, 'redone': 1, 'Bet': 3, 'hand': 3, 'trying': 9, 'kinda': 1, 'real': 9, 'due': 1, 'single': 2, 'Gal': 1, 'Wahlberg': 1, 'smokin': 1, 'character': 1, 'montage': 1, 'keeps': 1, 'PE': 1, 'restaurant': 2, 'visited': 1, 'stupid': 1, 'drawing': 2, 'Milk': 1, 'trex': 1, 'apron': 1, 'marathon': 1, 'Officer': 1, 'refused': 1, 'replace': 1, 'ensued': 1, 'having': 3, 'guys': 4, 'Iowa': 1, 'remembers': 1, 'dealers': 1, 'boy': 1, 'delivers': 1, 'food': 3, 'weeks': 3, 'new': 15, 'Teacher': 1, 'finest': 2, 'asked': 9, 'winning': 2, 'National': 3, 'monster': 1, 'card': 1, 'passport': 1, 'defeat': 1, 'random': 2, 'cursive': 1, 'Optimus': 1, 'crazy': 1, 'Weight': 1, 'Stages': 1, 'Minnesotas': 1, 'Kansas': 2, 'deathly': 1, 'tattoos': 1, 'sample': 1, 'no': 12, 'Bohemian': 1, 'Filming': 1, 'over': 11, 'them': 13, 'h': 1, 'world': 3, 'ways': 1, 'toddler': 2, 'takes': 3, 'Special': 1, 'waxed': 1, 'His': 4, 'pooled': 1, 'fking': 1, 'him': 19, 'Askreddit': 1, 'mountain': 2, 'TSA': 1, 'Ive': 13, 'Maybe': 1, 'someone': 5, 'Mlaze': 1, 'conscious': 1, 'cards': 1, 'toy': 1, 'rage': 1, 'reason': 1, 'st': 1, 'Irish': 1, 'Harts': 1, 'puppy': 1, 'SITUATION': 1, 'Raptor': 1, 'engagement': 1, 'wrapped': 1, 'unites': 1, 'expected': 1, 'Than': 1, 'Uncle': 1, 'jump': 1, 'christmas': 1, 'tooth': 2, 'comment': 1, 'makes': 3, 'Cat': 1, 'handed': 1, 'sixteen': 1, 'Remodeling': 3, 'upvoted': 1, 'Lose': 1, 'angryragebonerpoopfly': 1, 'fault': 1, 'iPhone': 1, 'expert': 1, 'Day': 8, 'hes': 6, 'calendar': 1, 'jogging': 1, 'himself': 4, 'mermaid': 1, 'pilot': 2, 'Angeles': 1, 'number': 1, 'Let': 2, 'Shades': 1, 'there': 6, 'hour': 2, 'died': 1, 'tumor': 1, 'wore': 1, 'Neighbors': 1, 'UPS': 2, 'concerned': 1, 'not': 11, 'pothole': 1, 'squirrel': 1, 'tall': 1, 'ski': 1, 'math': 1, 'Shoveling': 1, 'Doctor': 1, 'younger': 1, 'sitting': 1, 'life': 14, 'does': 3, 'Sent': 1, 'Festivals': 1, 'Conor': 1, 'college': 1, 'For': 3, 'interrupt': 1, 'Whoa': 1, 'Bobs': 1, 'Turkish': 1, 'Target': 1, 'joint': 2, 'ends': 3, 'goes': 1, 'hot': 2, 'Basketballs': 1, 'places': 1, 'under': 1, 'trolled': 1, 'special': 4, 'gag': 1, 'costume': 7, 'at': 65, 'corn': 2, 'thieves': 1, 'century': 1, 'texted': 1, 'prank': 3, 'Eleven': 1, 'Currently': 1, 'Sunday': 1, 'kid': 6, 'ol': 1, 'seek': 2, 'garbage': 1, 'cooler': 1, 'injured': 1, 'parents': 3, 'terrorists': 1, 'Fresh': 1, 'Couple': 1, 'dull': 1, 'Darth': 1, 'OH': 1, 'proves': 1, 'Missed': 1, 'important': 2, 'feelings': 1, 'Checkmate': 1, 'sheets': 1, 'matchhes': 1, 'cans': 1, 'inspired': 1, 'value': 1, 'Australian': 1, 'neighbor': 2, 'earth': 2, 'fruit': 1, 'Safe': 1, 'theyre': 3, 'Depp': 1, 'Seeing': 1, 'past': 2, 'Become': 1, 'girl': 4, 'Seemed': 1, 'attended': 1, 'orange': 1, 'solicitation': 1, 'family': 6, 'bag': 1, 'BIT': 1, 'activated': 2, 'Sadly': 1, 'AntiVirus': 1, 'Too': 1, 'Friend': 2, 'park': 1, 'Spotted': 1, 'honor': 1, 'year': 23, 'actually': 6, 'k': 2, 'pretty': 4, 'pool': 2, 'Incredible': 1, 'solution': 3, 'football': 1, 'Enhance': 1, 'Max': 1, 'Reflexes': 1, 'neighbors': 3, 'motives': 1, 'clue': 1, 'collides': 1, 'movie': 2, 'against': 1, 'recreated': 1, 'rooster': 1, 'ball': 2, 'Tape': 2, 'lamp': 1, 'Kazakhstani': 1, 'for': 97, 'Oh': 7, 'hockey': 1, 'Love': 1, 'upgraded': 1, 'CANNON': 1, 'rad': 1, 'nightmares': 1, 'baked': 1, 'prove': 1, 'official': 1, 'best': 9, 'Ladies': 1, 'minutes': 2, 'Left': 2, 'thinking': 2, 'passing': 1, 'people': 11, 'missed': 1, 'robbed': 1, 'HERE': 1, 'artist': 1, 'Gas': 1, 'honest': 3, 'care': 2, 'some': 9, 'drunk': 2, 'Independence': 2, 'season': 1, 'lol': 1, 'wife': 25, 'closet': 1, 'lined': 1, 'stop': 5, 'told': 10, 'heres': 2, 'hood': 1, 'risks': 1, 'farm': 1, 'presents': 1, 'Stan': 1, 'hilariously': 1, 'Late': 3, 'EMT': 1, 'damned': 1, 'escape': 1, 'couples': 1, 'space': 1, 'anyway': 1, 'Black': 4, 'hooked': 1, 'letterbox': 1, 'Vogue': 1, 'pregnant': 2, 'counter': 2, 'impress': 2, 'Mr': 1, 'cars': 1, 'happened': 5, 'Lorraine': 1, 'fact': 1, 'shovels': 1, 'disc': 1, 'colder': 1, 'vet': 1, 'Chinese': 2, 'bitches': 1, 'Morale': 1, 'often': 1, 'Pad': 1, 'join': 1, 'nice': 2, 'Person': 1, 'juvenile': 1, 'uprising': 1, 'via': 1, 'account': 1, 'staring': 1, 'crashing': 1, 'pooch': 1, 'bus': 1, 'British': 3, 'HAD': 1, 'EA': 1, 'parkour': 1, 'ago': 6, 'those': 1, 'roulette': 1, 'Dog': 2, 'UnexpectedMulaney': 1, 'teaches': 1, 'clear': 1, 'GFs': 1, 'friend': 19, 'reality': 1, 'herd': 1, 'employees': 1, 'parliament': 1, 'third': 2, 'gorilla': 1, 'entire': 1, 'guy': 18, 'one': 27, 'wasnt': 2, 'reply': 1, 'piggy': 1, 'Obu': 1, 'Mind': 1, 'Utah': 2, 'Two': 1, 'husbands': 1, 'Your': 4, 'Portugal': 1, 'Heres': 3, 'Where': 1, 'filter': 4, 'warehouse': 1, 'ass': 1, 'Proof': 1, 'AirBnB': 1, 'play': 2, 'Plaza': 1, 'Keanus': 1, 'figure': 1, 'godmother': 1, 'Football': 1, 'experience': 2, 'products': 2, 'damn': 3, 'dance': 3, 'computer': 2, 'annotations': 1, 'market': 1, 'all': 25, 'lesbian': 1, 'sometimes': 1, 'follow': 1, 'problem': 1, 'halloween': 1, 'jokes': 2, 'Ugly': 1, 'Relationship': 1, 'feeding': 2, 'Youre': 1, 'sticker': 2, 'Best': 8, 'spelled': 2, 'forgotten': 1, 'FinalsWeek': 1, 'find': 4, 'hasnt': 1, 'dragged': 1, 'straight': 2, 'very': 4, 'OP': 1, 's': 5, 'Moana': 1, 'hell': 1, 'KNOWING': 1, 'beach': 4, 'Department': 1, 'mom': 5, 'extremely': 1, 'away': 4, 'uniform': 1, 'pole': 2, 'Wish': 2, 'footage': 4, 'genders': 1, 'into': 6, 'must': 2, 'FlatEarther': 1, 'Jason': 1, 'about': 13, 'permission': 1, 'This': 54, 'works': 2, 'bought': 4, 'hottest': 1, 'within': 1, 'Ed': 1, 'question': 2, 'method': 1, 'planet': 2, 'true': 1, 'dancer': 1, 'medicine': 1, 'rgifs': 1, 'pickle': 1, 'Homies': 1, 'Primes': 1, 'fired': 1, 'CO': 1, 'Family': 2, 'cinematic': 1, 'vs': 3, 'Driving': 1, 'Sheerans': 1, 'powers': 2, 'dropped': 1, 'Dedicating': 1, 'CCTV': 1, 'On': 4, 'Reddit': 2, 'sleep': 1, 'THIS': 1, 'Recently': 1, 'hard': 1, 'bunch': 1, 'finally': 6, 'Underappreciated': 1, 'judge': 1, 'Change': 1, 'purchase': 1, 'losing': 1, 'Thank': 2, 'Paging': 1, 'gem': 1, 'frog': 1, 'Christina': 1, 'manager': 1, 'other': 12, 'Instagram': 3, 'his': 42, 'Elves': 1, 'inside': 1, 'awesome': 3, 'gifts': 2, 'but': 18, 'Derperman': 1, 'Some': 6, 'once': 3, 'hunter': 1, 'leak': 1, 'building': 2, 'mother': 2, 'Brain': 1, 'degrees': 1, 'palpable': 1, 'smell': 2, 'pumping': 1, 'being': 8, 'fight': 2, 'between': 1, 'OF': 1, 'speeding': 1, 'soda': 1, 'am': 4, 'Olympics': 1, 'they': 18, 'From': 1, 'popcorn': 1, 'software': 2, 'They': 2, 'reaching': 1, 'motivated': 1, 'hours': 3, 'verify': 1, 'Tom': 3, 'mastered': 1, 'System': 1, 'fucking': 1, 'gave': 4, 'escalators': 1, 'daughter': 9, 'Guy': 5, 'Missouri': 1, 'USB': 1, 'dark': 1, 'episode': 1, 'Wanted': 1, 'MC': 1, 'improve': 1, 'Charging': 1, 'video': 5, 'overpriced': 1, 'search': 1, 'apparently': 1, 'Child': 1, 'kinds': 1, 'plays': 1, 'story': 1, 'ground': 1, 'Age': 1, 'taking': 4, 'started': 4, 'conservation': 1, 'hide': 2, 'runners': 1, 'either': 1, 'Pinscher': 1, 'age': 1, 'conversations': 1, 'practice': 1, 'round': 1, 'Willis': 1, 'shake': 2, 'dies': 1, 'bed': 1, 'Oregonians': 1, 'Received': 1, 'NY': 1, 'chips': 1, 'hung': 1, 'Furgus': 1, 'SiriusXM': 1, 'Diem': 1, 'energy': 1, 'Burgers': 1, 'model': 1, 'after': 14, 'Made': 1, 'Hi': 2, 'caller': 1, 'today': 22, 'received': 2, 'Neighborhood': 1, 'SWAT': 1, 'Front': 1, 'Christmas': 7, 'camping': 1, 'immature': 1, 'discers': 1, 'motion': 3, 'billboards': 1, 'Math': 1, 'yesterday': 5, 'storm': 1, 'difficult': 1, 'came': 7, 'predicted': 1, 'share': 3, 'announces': 1, 'seeing': 4, 'quietly': 1, 'Gloves': 1, 'total': 1, 'OPEN': 1, 'dresswatching': 1, 'Unexpected': 1, 'what': 15, 'Series': 1, 'Jamaican': 1, 'kill': 1, 'snapping': 1, 'own': 7, 'Marilyn': 2, 'windy': 1, 'Horseshoe': 1, 'Savage': 1, 'newborn': 1, 'planks': 1, 'Amazon': 2, 'whole': 2, 'everything': 2, 'Man': 3, 'reposition': 1, 'shenanigans': 1, 'guess': 1, 'photobombed': 1, 'smash': 1, 'mascot': 1, 'Yanni': 1, 'Skip': 1, 'spaghetti': 1, 'coolers': 1, 'tv': 1, 'Job': 1, 'Three': 1, 'top': 1, 'haircut': 1, 'packed': 1, 'Manson': 2, 'My': 110, 'Rings': 1, 'effect': 1, 'Water': 3, 'tonight': 1, 'advertisement': 1, 'neighborsand': 1, 'tech': 1, 'ravethemed': 1, 'Cage': 1, 'charity': 1, 'assholes': 2, 'temperatures': 1, 'hospital': 2, 'Rage': 1, 'when': 16, 'turned': 3, 'Jennifer': 1}, {'broke': 4, 'There': 5, 'good': 9, 'arent': 3, 'Office': 2, 'imprisoned': 2, 'expensive': 1, 'House': 4, 'th': 12, 'combined': 1, 'seats': 2, 'closing': 1, 'stopping': 1, 'surprise': 6, 'Id': 4, 'church': 1, 'gb': 1, 'decision': 1, 'meeting': 2, 'coach': 2, 'CANCER': 2, 'where': 8, 'trumpet': 1, 'acting': 1, 'fresh': 2, 'handled': 1, 'fierce': 1, 'cared': 1, 'studio': 1, 'Charleston': 1, 'miles': 2, 'hugs': 1, 'than': 12, 'chicken': 2, 'pencil': 3, 'acerage': 1, 'Stockholm': 1, 'soldiers': 1, 'interning': 1, 'Protestors': 1, 'lost': 15, 'tragedy': 1, 'kissing': 1, 'double': 2, 'Try': 1, 'got': 33, 'he': 51, 'designed': 2, 'renting': 1, 'Walk': 1, 'diner': 1, 'homeless': 5, 'yearold': 6, 'falsely': 2, 'asleep': 1, 'Tiananmen': 4, 'entered': 2, 'zone': 1, 'island': 2, 'African': 1, 'lipstick': 1, 'tower': 2, 'sale': 1, 'ferris': 1, 'heartbreaking': 1, 'reconnected': 1, 'hundy': 1, 'Sweden': 1, 'others': 1, 'ratatouille': 1, 'Virginia': 2, 'Waffle': 1, 'Shaw': 1, 'higher': 1, 'Montana': 1, 'Parks': 1, 'calories': 1, 'sketch': 1, 'victims': 2, 'dangerous': 4, 'you': 55, 'Saw': 4, 'todays': 2, 'Cavill': 1, 'kept': 2, 'facial': 1, 'showing': 1, 'Wimbledon': 1, 'Tienanmen': 2, 'xpost': 1, 'Jr': 1, 'bend': 1, 'protesters': 2, 'Police': 6, 'handwritten': 1, 'baseball': 1, 'hike': 1, 'Sewu': 1, 'cameraman': 1, 'Park': 4, 'Frost': 1, 'safe': 1, 'beluga': 2, 'club': 1, 'boxes': 1, 'brought': 4, 'Mission': 1, 'The': 86, 'PICTURES': 1, 'chosen': 1, 'van': 1, 'Smirnoffs': 1, 'move': 2, 'train': 2, 'Year': 2, 'lose': 1, 'Tanoai': 1, 'Tokyo': 1, 'installed': 1, 'crossstitch': 1, 'Amazing': 3, 'Act': 2, 'Lincoln': 1, 'bait': 1, 'powerful': 4, 'dwarfed': 1, 'nearby': 1, 'shed': 1, 'Crocheting': 1, 'Yo': 1, 'Downstairs': 1, 'bull': 1, 'taro': 1, 'sorry': 1, 'Bruce': 2, 'climate': 2, 'Club': 2, 'coverage': 2, 'switch': 1, 'expect': 2, 'capture': 2, 'flip': 1, 'Toronto': 3, 'then': 11, 'didnt': 10, 'symbolize': 1, 'Hal': 1, 'hate': 1, 'bottle': 2, 'smartphone': 1, 'Me': 8, 'lucky': 2, 'viral': 1, 'wearing': 3, 'Al': 1, 'Protestor': 1, 'transport': 1, 'pageant': 1, 'monoxide': 1, 'Katie': 1, 'remembered': 2, 'drowning': 1, 'itself': 1, 'addict': 1, 'developed': 1, 'Posts': 1, 'Philly': 1, 'exwife': 1, 'Redditor': 2, 'pointed': 2, 'son': 15, 'action': 2, 'crew': 4, 'Shepherd': 1, 'Greta': 2, 'same': 9, 'longsleeves': 1, 'Jorts': 1, 'shadow': 1, 'attic': 1, 'school': 16, 'Dungeons': 1, 'Cheers': 2, 'edible': 1, 'busk': 1, 'deports': 1, 'adopted': 1, 'cages': 1, 'philosophy': 1, 'Taking': 1, 'trends': 1, 'pink': 1, 'stuff': 1, 'south': 1, 'its': 23, 'including': 1, 'Hong': 22, 'YOU': 1, 'Depression': 1, 'dollar': 2, 'Hospital': 1, 'husbandwho': 1, 'Lion': 2, 'survived': 1, 'mug': 1, 'golf': 1, 'tour': 1, 'corner': 2, 'feel': 4, 'Uruguay': 1, 'plains': 1, 'capital': 1, 'fishin': 1, 'Canada': 5, 'we': 27, 'evening': 2, 'AntiMaduro': 1, 'California': 3, 'putting': 5, 'protect': 1, 'perfect': 1, 'driving': 2, 'City': 4, 'Living': 1, 'bags': 1, 'Happiest': 1, 'pussy': 1, 'writes': 1, 'rescuer': 1, 'honoring': 1, 'TX': 1, 'Off': 1, 'protester': 1, 'cozy': 1, 'Grandmother': 2, 'sort': 1, 'amazing': 1, 'Down': 2, 'Little': 3, 'Zoom': 1, 'wait': 1, 'Traditional': 1, 'moved': 3, 'Perkins': 1, 'reaction': 2, 'desert': 2, 'balls': 1, 'sheriff': 1, 'paradise': 1, 'Falcon': 2, 'reinspired': 1, 'Even': 2, 'spending': 1, 'Duncan': 1, 'blank': 1, 'transplanted': 1, 'Permanent': 1, 'Lowe': 2, 'China': 5, 'lightning': 2, 'create': 4, 'bout': 1, 'Ann': 1, 'Guys': 3, 'Leader': 1, 'Turning': 1, 'Scott': 1, 'Square': 8, 'success': 1, 'homeowner': 1, 'TGI': 1, 'Trip': 1, 'getting': 3, 'gear': 1, 'MAKE': 1, 'DO': 1, 'journalist': 1, 'brainwashed': 1, 'cousin': 5, 'plate': 1, 'along': 3, 'restaurants': 1, 'estimated': 1, 'Lizard': 1, 'Gareth': 1, 'Ice': 1, 'dying': 2, 'magnificent': 1, 'front': 10, 'facing': 1, 'proud': 8, 'craft': 1, 'crime': 1, 'bit': 3, 'America': 6, 'Sweater': 1, 'diver': 1, 'low': 1, 'built': 4, 'changes': 1, 'Interact': 1, 'uneven': 1, 'Given': 1, 'town': 5, 'talk': 1, 'angle': 3, 'donated': 1, 'dramatic': 1, 'sight': 2, 'Reeves': 1, 'guitars': 1, 'These': 6, 'carrying': 1, 'History': 2, 'parent': 1, 'operation': 1, 'bucket': 2, 'rhing': 1, 'dissected': 1, 'Fund': 1, 'WE': 1, 'area': 2, 'house': 6, 'wrote': 5, 'rescued': 1, 'tortured': 1, 'Inevitable': 1, 'Stage': 1, 'on': 118, 'notice': 5, 'chapter': 1, 'resume': 1, 'games': 1, 'Bay': 2, 'difference': 1, 'Theres': 2, 'Wholesome': 2, 'content': 1, 'epic': 1, 'cleans': 1, 'wands': 1, 'doesnt': 2, 'per': 4, 'speech': 1, 'Other': 1, 'DACA': 1, 'nearlethal': 1, 'honestly': 2, 'Fathers': 2, 'r': 1, 'yourselves': 1, 'bookstore': 1, 'happens': 2, 'State': 3, 'During': 3, 'minute': 2, 'adorable': 1, 'storms': 1, 'Happy': 5, 'unraveled': 1, 'Message': 1, 'national': 2, 'Thunberg': 2, 'grizzly': 1, 'drove': 2, 'almost': 2, 'breaking': 1, 'completely': 2, 'Brooklyn': 1, 'tubs': 1, 'off': 23, 'add': 1, 'note': 4, 'historic': 1, 'worker': 1, 'kittens': 2, 'fly': 3, 'stuck': 3, 'extremism': 1, 'Everyone': 3, 'Chapel': 1, 'brownies': 1, 'begins': 1, 'village': 3, 'addicted': 1, 'Clay': 1, 'famously': 1, 'camps': 2, 'accompanied': 1, 'Half': 3, 'Obamacare': 1, 'rat': 2, 'Area': 2, 'HK': 2, 'through': 9, 'use': 4, 'till': 1, 'freezes': 1, 'FR': 1, 'telling': 2, 'Face': 1, 'Birthday': 2, 'W': 1, 'live': 7, 'used': 7, 'expedition': 1, 'bloomed': 1, 'version': 1, 'Franklin': 1, 'court': 2, 'dates': 1, 'sure': 4, 'Morgan': 1, 'Tower': 1, 'AM': 2, 'race': 1, 'Ross': 2, 'Blossom': 1, 'honors': 1, 'eating': 1, 'cancerstricken': 1, 'amputated': 1, 'highrise': 1, 'Polytechnic': 1, 'Sketch': 2, 'shut': 1, 'members': 3, 'CARD': 1, 'married': 9, 'forgot': 1, 'dad': 24, 'anniversary': 2, 'King': 3, 'D': 2, 'teacher': 5, 'main': 1, 'Feb': 1, 'cosplay': 2, 'Look': 4, 'go': 9, 'Ash': 1, 'bench': 1, 'see': 17, 'Finlands': 1, 'Malaysian': 1, 'coffee': 2, 'piece': 3, 'Xenomorph': 1, 'of': 314, 'trending': 1, 'Lets': 4, 'Yesterday': 4, 'donut': 1, 'School': 4, 'bullet': 2, 'mewhich': 1, 'wifes': 1, 'image': 10, 'Buried': 1, 'meant': 1, 'wave': 1, 'harvest': 1, 'No': 3, 'filled': 2, 'Doom': 1, 'inception': 2, 'never': 10, 'appearance': 1, 'waited': 1, 'self': 3, 'alone': 3, 'metro': 1, 'murders': 1, 'existed': 1, 'fella': 1, 'photobomb': 2, 'greater': 1, 'brings': 2, 'loved': 1, 'heartache': 1, 'Nova': 1, 'guitar': 1, 'villain': 1, 'feet': 1, 'contains': 1, 'Shit': 1, 'tomorrow': 3, 'Standing': 1, 'Troopers': 1, 'confident': 1, 'avid': 1, 'stands': 3, 'prison': 1, 'ate': 2, 'NYE': 1, 'quite': 1, 'ticket': 1, 'exact': 5, 'teach': 1, 'shredding': 1, 'Dives': 1, 'raw': 1, 'extremists': 1, 'Power': 1, 'Huntress': 1, 'santa': 1, 'Batman': 1, 'thanks': 4, 'elder': 1, 'Caught': 1, 'suing': 1, 'woman': 6, 'feared': 1, 'Chris': 2, 'River': 1, 'already': 4, 'outran': 1, 'asks': 1, 'Iguana': 1, 'upside': 1, 'while': 15, 'genius': 1, 'big': 3, 'undocumented': 1, 'thrift': 1, 'Hes': 4, 'Alaskan': 2, 'Cleared': 1, 'Years': 5, 'moments': 1, 'allowed': 5, 'Seattle': 1, 'porch': 1, 'die': 7, 'brother': 11, 'stops': 2, 'desk': 1, 'Hart': 1, 'among': 1, 'Vietnam': 3, 'Clark': 1, 'pristine': 2, 'going': 9, 'Kauai': 1, 'horrified': 1, 'etc': 1, 'University': 3, 'mammoth': 1, 'Flight': 1, 'VHS': 1, 'rescue': 2, 'puddles': 1, 'Team': 1, 'Dr': 2, 'glasses': 3, 'lady': 2, 'shreds': 1, 'copy': 1, 'male': 1, 'tyranny': 1, 'Sailed': 1, 'chemo': 6, 'kindergarten': 1, 'evenings': 1, 'firsthand': 1, 'appreciate': 1, 'break': 1, 'Instead': 1, 'fiancé': 1, 'Senator': 2, 'german': 1, 'option': 1, 'favorite': 8, 'liquor': 1, 'yourself': 1, 'Erdoğan': 1, 'Most': 2, 'Afghan': 1, 'Trying': 1, 'attendant': 1, 'Instant': 1, 'alcohol': 2, 'become': 1, 'might': 3, 'daily': 1, 'retirement': 1, 'Twitter': 1, 'Hooters': 1, 'Small': 1, 'resulting': 1, 'slimmer': 1, 'Otto': 1, 'Hurricane': 2, 'wet': 1, 'Steve': 2, 'wide': 1, 'BBQ': 1, 'pose': 2, 'questions': 1, 'mobs': 1, 'crab': 1, 'MPH': 1, 'beast': 1, 'wishes': 1, 'airport': 4, 'thought': 11, 'Holt': 1, 'rare': 1, 'selfless': 1, 'nd': 2, 'protestors': 2, 'two': 12, 'pet': 1, 'basement': 2, 'Falls': 2, 'Leo': 1, 'facility': 1, 'shorts': 1, 'response': 1, 'See': 1, 'Alexandria': 1, 'logs': 1, 'appointments': 1, 'officers': 1, 'needed': 2, 'blown': 1, 'Marking': 1, 'English': 1, 'travel': 1, 'a': 401, 'Congratulations': 2, 'shirts': 1, 'press': 2, 'raise': 1, 'hair': 4, 'last': 30, 'large': 2, 'policeman': 1, 'Strike': 1, 'terrorist': 1, 'anymore': 1, 'rewriting': 1, 'Montevideo': 1, 'attack': 3, 'Switzerland': 3, 'Nothing': 2, 'table': 4, 'lung': 2, 'community': 1, 'kissed': 1, 'towards': 3, 'heartbroken': 1, 'alleyway': 1, 'restoration': 1, 'Humanity': 1, 'intro': 1, 'Jan': 1, 'goddamn': 1, 'asking': 3, 'I': 289, 'Updated': 1, 'Atlantic': 1, 'runner': 1, 'chair': 1, 'employment': 1, 'Snorlax': 1, 'post': 11, 'UC': 2, 'In': 11, 'Shoutout': 1, 'performing': 1, 'Casper': 1, 'eagle': 1, 'Tenth': 1, 'march': 1, 'Bob': 1, 'milkshakes': 1, 'Elizabeth': 1, 'San': 2, 'Cosplay': 1, 'street': 8, 'anthem': 1, 'Men': 2, 'Iranians': 1, 'Kwame': 1, 'nothing': 1, 'professor': 1, 'hygiene': 1, 'weather': 2, 'door': 4, 'kind': 4, 'Tampa': 1, 'Sand': 1, 'Frozen': 1, 'pancreatic': 2, 'tea': 1, 'Charlottesville': 1, 'cigarettes': 1, 'wins': 1, 'weigh': 1, 'Swedish': 1, 'read': 2, 'kids': 11, 'Compensation': 1, 'fought': 2, 'Giving': 2, 'Sandy': 1, 'Wow': 2, 'doctor': 2, 'their': 35, 'buy': 2, 'Finnish': 1, 'high': 3, 'sets': 1, 'Did': 1, 'Flying': 1, 'bird': 4, 'Helsinki': 1, 'remove': 2, 'silent': 1, 'Venezuela': 3, 'Camouflage': 1, 'Definitely': 1, 'Who': 2, 'tombstone': 1, 'Juice': 1, 'Occupy': 1, 'pictured': 1, 'defrost': 1, 'too': 4, 'drone': 2, 'secretly': 1, 'back': 15, 'Academy': 1, 'faster': 1, 'Shes': 2, 'drew': 3, 'former': 3, 'marginally': 1, 'example': 1, 'clerical': 1, 'coping': 1, 'WWE': 1, 'glorified': 1, 'Eiffel': 1, 'closed': 3, 'victory': 1, 'physics': 1, 'help': 13, 'LouisDreyfus': 1, 'LOTS': 1, 'Murray': 1, 'result': 2, 'Ear': 1, 'logo': 1, 'colour': 1, 'Bill': 2, 'hiding': 1, 'Winter': 1, 'complicated': 1, 'Senate': 1, 'Squarepants': 1, 'Dec': 1, 'L': 1, 'stopped': 5, 'lifesize': 1, 'Barnett': 1, 'Putin': 1, 'person': 11, 'Runner': 1, 'Boss': 1, 'heart': 4, 'Festival': 1, 'ninth': 1, 'birth': 3, 'was': 109, 'Ryanair': 3, 'Safety': 1, 'flirting': 1, 'Fake': 1, 'United': 1, 'Between': 1, 'recently': 7, 'Kongs': 1, 'Franks': 1, 'headshots': 1, 'sell': 1, 'origami': 2, 'Fulfill': 1, 'now': 23, 'Mia': 1, 'nursing': 1, 'species': 1, 'North': 4, 'jellyfish': 1, 'Her': 3, 'display': 2, 'vomiting': 1, 'mailbox': 1, 'zeroemission': 1, 'gunfire': 1, 'tricks': 1, 'Zoinks': 1, 'written': 1, 'shift': 1, 'grandma': 2, 'argument': 1, 'Siberian': 1, 'Astana': 1, 'laws': 1, 'trick': 1, 'probably': 1, 'window': 5, 'titled': 1, 'enabled': 1, 'Flipped': 1, 'astrophotography': 1, 'crocodile': 1, 'lieu': 1, 'fan': 3, 'choose': 1, 'dick': 1, 'hit': 3, 'remission': 1, 'Muertos': 1, 'an': 55, 'President': 9, 'lawns': 1, 'grew': 2, 'idiot': 1, 'shutter': 1, 'engineer': 1, 'Rep': 1, 'row': 1, 'called': 4, 'properly': 1, 'degree': 2, 'teachers': 1, 'Tennis': 1, 'ya': 2, 'Peeked': 1, 'Anthony': 2, 'wants': 3, 'Difference': 1, 'Kevin': 2, 'gets': 2, 'Only': 3, 'hid': 2, 'cook': 1, 'largest': 2, 'cut': 2, 'Sheeran': 1, 'Dutch': 1, 'beat': 4, 'photogenic': 1, 'identical': 1, 'doc': 1, 'protecting': 1, 'polls': 1, 'Mississippi': 1, 'Corps': 1, 'night': 17, 'countless': 1, 'tale': 1, 'rope': 1, 'rough': 3, 'bothered': 1, 'grave': 2, 'DEMOCRACY': 1, 'Finland': 1, 'C': 1, 'sweeps': 1, 'welded': 1, 'shave': 1, 'divorce': 1, 'modern': 2, 'Hinton': 1, 'cease': 1, 'February': 1, 'enter': 1, 'Farming': 1, 'Youve': 1, 'summer': 4, 'fastfood': 1, 'Belgrade': 1, 'Thought': 2, 'noticed': 4, 'OHarawho': 1, 'Khazakhstan': 1, 'figured': 1, 'humble': 1, 'reallife': 1, 'i': 6, 'Nobre': 1, 'idea': 4, 'plants': 1, 'heaviest': 1, 'hello': 1, 'Him': 1, 'writing': 1, 'exam': 2, 'grandad': 2, 'face': 7, 'UK': 1, 'Today': 21, 'Bella': 1, 'totality': 1, 'overdose': 1, 'Harry': 2, 'control': 2, 'driftwood': 1, 'sense': 1, 'tag': 1, 'tournament': 1, 'Maintaining': 1, 'kidding': 1, 'naturally': 1, 'Baobab': 1, 'rich': 3, 'Aztec': 1, 'finalized': 1, 'grounds': 1, 'TrashTag': 1, 'fully': 1, 'photoshopping': 1, 'defend': 1, 'Kids': 1, 'Alamo': 1, 'curry': 1, 'prisoner': 1, 'nation': 1, 'tight': 1, 'mouth': 1, 'message': 2, 'However': 1, 'desist': 1, 'emergency': 1, 'shoot': 1, 'state': 3, 'moving': 2, 'tons': 1, 'testing': 1, 'strange': 1, 'looking': 6, 'stranger': 2, 'Steal': 1, 'bullets': 1, 'Obama': 6, 'walked': 6, 'States': 1, 'whaler': 1, 'underwater': 1, 'Retriever': 1, 'Starr': 1, 'elementary': 1, 'Egypt': 2, 'contents': 1, 'Sheep': 1, 'Rights': 1, 'Vaccinate': 1, 'Beni': 1, 'Decided': 1, 'Solar': 1, 'taxi': 1, 'music': 2, 'children': 2, 'An': 7, 'neck': 2, 'printed': 1, 'Support': 1, 'Producer': 1, 'deleting': 1, 'details': 1, 'panels': 1, 'WWII': 1, 'mark': 2, 'long': 10, 'Hey': 1, 'potential': 1, 'Alabama': 3, 'blues': 1, 'perfected': 1, 'statue': 1, 'massacre': 1, 'week': 8, 'entering': 1, 'ninety': 1, 'senior': 1, 'pizzas': 1, 'idol': 3, 'valid': 1, 'newspaper': 1, 'freedom': 3, 'out': 48, 'bias': 1, 'women': 3, 'THANK': 1, 'four': 5, 'Meeting': 1, 'Oklahoma': 2, 'follows': 1, 'Voting': 1, 'liked': 1, 'Saudi': 2, 'False': 1, 'many': 2, 'Sandwich': 2, 'OC': 1, 'keeping': 1, 'Zuck': 1, 'meets': 1, 'loads': 1, 'always': 4, 'Manhattan': 2, 'boys': 5, 'Dragons': 1, 'insinuates': 1, 'London': 5, 'themselves': 2, 'leading': 1, 'Hollywood': 1, 'unable': 1, 'few': 13, 'hurricane': 1, 'blackout': 1, 'hoping': 1, 'marry': 1, 'Kristallnacht': 1, 'atrocious': 1, 'Journalism': 1, 'David': 1, 'teaching': 3, 'patients': 2, 'reminding': 1, 'Earlier': 1, 'weekend': 2, 'stripped': 1, 'kindest': 1, 'brushed': 1, 'Grandma': 3, 'dead': 2, 'ashtray': 1, 'ripped': 1, 'completing': 1, 'why': 5, 'ComicCon': 1, 'Bell': 1, 'scored': 1, 'size': 1, 'open': 1, 'Nobel': 1, 'Over': 1, 'look': 11, 'relevant': 1, 'Rose': 2, 'wildfire': 1, 'do': 13, 'Picture': 3, 'flight': 7, 'Lord': 1, 'tire': 1, 'autumn': 1, 'Botswana': 1, 'store': 5, 'rape': 2, 'athlete': 1, 'giraffe': 1, 'chance': 2, 'Africa': 2, 'cabbage': 1, 'supervillain': 1, 'Stranger': 1, 'DriveIns': 1, 'rd': 1, 'pig': 1, 'standing': 2, 'Asked': 1, 'steps': 1, 'Like': 1, 'sand': 1, 'cuppa': 1, 'strike': 1, 'hers': 1, 'Roy': 1, 'because': 13, 'wiggle': 1, 'visit': 1, 'sit': 3, 'caught': 2, 'thread': 2, 'Their': 1, 'powerhouse': 1, 'memorial': 1, 'Tennisballs': 1, 'thawed': 1, 'commute': 2, 'unit': 2, 'themed': 1, 'Borges': 1, 'boots': 1, 'across': 4, 'fair': 1, 'saving': 3, 'gas': 1, 'late': 1, 'reflects': 1, 'morning': 13, 'contained': 1, 'me': 78, 'wedding': 10, 'Talbolt': 1, 'drug': 1, 'vanity': 1, 'Protester': 1, 'Another': 2, 'Chicago': 3, 'dishware': 1, 'suction': 1, 'spray': 2, 'pregant': 1, 'photographer': 5, 'vaccination': 1, 'minister': 1, 'herbs': 1, 'Sterling': 1, 'comissioned': 1, 'Prepare': 1, 'Marathon': 1, 'Got': 4, 'Austin': 1, 'head': 7, 'roof': 1, 'caterpillar': 1, 'Ajit': 1, 'friends': 9, 'found': 14, 'offered': 1, 'Mexican': 2, 'amputees': 1, 'Irwin': 1, 'blownmelted': 1, 'Sailer': 1, 'Different': 1, 'Thanks': 4, 'healthy': 2, 'terror': 1, 'airline': 2, 'tree': 6, 'Mumbai': 1, 'she': 22, 'richer': 1, 'Ecuador': 1, 'Obscure': 1, 'Colorado': 1, 'snow': 11, 'weight': 4, 'ocean': 1, 'earning': 1, 'chunk': 1, 'Hope': 2, 'inspiring': 1, 'Then': 1, 'history': 1, 'exercised': 2, 'also': 5, 'Jewish': 1, 'bill': 1, 'Seen': 1, 'Venus': 1, 'Gauff': 1, 'YearsOld': 1, 'Lol': 1, 'kicked': 2, 'Ajamu': 1, 'owner': 3, 'sky': 2, 'swimming': 1, 'rises': 1, 'handicap': 1, 'surgery': 6, 'month': 9, 'white': 2, 'uses': 1, 'draw': 1, 'surreal': 1, 'drink': 2, 'water': 5, 'ran': 2, 'voting': 1, 'announcers': 1, 'Thrones': 1, 'unsafe': 1, 'But': 4, 'informed': 1, 'Gotham': 1, 'Found': 5, 'months': 19, 'gender': 1, 'Albert': 1, 'Aesha': 1, 'charged': 1, 'Throne': 1, 'Michel': 1, 'covering': 1, 'running': 1, 'from': 83, 'Hello': 2, 'Ovitz': 1, 'known': 4, 'except': 1, 'qualifies': 1, 'repost': 1, 'grand': 1, 'Resignation': 1, 'package': 1, 'fields': 1, 'Lavelle': 1, 'shall': 1, 'Dabs': 1, 'Autistic': 1, 'Rain': 1, 'Henry': 1, 'notecard': 1, 'overwhelmed': 1, 'hope': 8, 'Bourdain': 1, 'smiles': 1, 'wander': 1, 'lottery': 1, 'Guard': 1, 'stupidest': 1, 'and': 278, 'Oregon': 1, 'girls': 4, 'Shootings': 1, 'Tanker': 1, 'ones': 2, 'funeral': 3, 'Hussein': 1, 'graduation': 5, 'ordering': 1, 'named': 1, 'windshield': 1, 'Awareness': 1, 'Ewings': 1, 'fell': 2, 'saying': 2, 'lobby': 1, 'mural': 1, 'paying': 3, 'commencement': 1, 'Messi': 1, 'resident': 1, 'mess': 2, 'Toblerone': 1, 'admit': 1, 'calls': 1, 'Uber': 3, 'revisiting': 1, 'Lest': 1, 'reminder': 4, 'workers': 2, 'strength': 1, 'watched': 2, 'Alzheimers': 2, 'both': 4, 'Kelley': 1, 'Gary': 2, 'donation': 2, 'desperately': 1, 'plummeted': 1, 'Alaska': 2, 'Gunpo': 1, 'hall': 2, 'watch': 2, 'split': 1, 'Holocaust': 1, 'Ringing': 1, 'anon': 1, 'Sitting': 1, 'Pleased': 1, 'volunteer': 1, 'should': 9, 'Mother': 2, 'Iranian': 3, 'midlife': 1, 'reflected': 1, 'VENEZUELA': 1, 'Miracles': 1, 'Father': 1, 'Personally': 2, 'jumping': 1, 'walks': 3, 'Eastern': 2, 'cleaning': 2, 'Older': 1, 'Liam': 2, 'broken': 1, 'radiation': 1, 'engaged': 2, 'Paint': 1, 'truck': 6, 'puddle': 1, 'undergrad': 2, 'elapsed': 1, 'whoever': 1, 'flowers': 2, 'congress': 1, 'linen': 1, 'ordered': 1, 'warrant': 1, 'stranded': 1, 'Scranton': 1, 'recents': 1, 'galaxy': 1, 'Dia': 1, 'Samuel': 1, 'y': 1, 'Care': 2, 'aged': 1, 'photo': 40, 'pays': 1, 'shes': 2, 'McDonalds': 5, 'Woodstock': 1, 'cell': 3, 'china': 1, 'jam': 1, 'chased': 1, 'Scotia': 1, 'disability': 1, 'access': 1, 'rushed': 1, 'Americans': 1, 'quilts': 1, 'taught': 4, 'advertising': 1, 'Bow': 1, 'colours': 1, 'female': 1, 'case': 1, 'separation': 2, 'possible': 1, 'support': 1, 'Johnson': 2, 'Award': 1, 'items': 1, 'protected': 1, 'Flavortown': 1, 'Jorge': 1, 'Tyrone': 1, 'around': 14, 'opinions': 1, 'any': 4, 'end': 2, 'feels': 1, 'shot': 12, 'discovered': 2, 'chairs': 1, 'neat': 1, 'Sanders': 3, 'scrubs': 1, 'has': 37, 'bridge': 2, 'absolutely': 2, 'felt': 2, 'tells': 2, 'place': 4, 'kayaker': 1, 'PrattAnna': 1, 'hero': 8, 'Makeawish': 1, 'bakes': 1, 'mainland': 2, 'happening': 3, 'Someone': 7, 'signing': 1, 'Louisiana': 1, 'Tenacious': 1, 'said': 12, 'effort': 2, 'different': 2, 'sexy': 1, 'delivering': 1, 'timeframe': 1, 'Klan': 1, 'protesting': 4, 'award': 1, 'how': 14, 'wouldnt': 1, 'mosque': 1, 'influencers': 1, 'classes': 1, 'oc': 1, 'Snowman': 1, 'smoking': 1, 'Montreal': 1, 'doing': 8, 'sprinklers': 1, 'Edmonton': 1, 'showed': 1, 'hometown': 1, 'starting': 3, 'Please': 2, 'shithole': 1, 'zooming': 1, 'Pics': 1, 'overdosed': 1, 'Poster': 1, 'Rooftop': 1, 'Elbow': 1, 'behind': 5, 'managed': 2, 'surveys': 1, 'line': 2, 'suspender': 1, 'youngest': 2, 'cant': 5, 'coloured': 1, 'bypass': 1, 'knows': 1, 'fluent': 1, 'freckles': 1, 'Murder': 1, 'stacked': 1, 'We': 15, 'treated': 1, 'marching': 2, 'Vaquita': 1, 'treehouse': 1, 'looks': 29, 'Prize': 1, 'Crossing': 1, 'shaved': 1, 'incredibly': 1, 'Etch': 2, 'series': 1, 'river': 1, 'leg': 4, 'Us': 2, 'posted': 4, 'worried': 2, 'Buzz': 1, 'redit': 1, 'finds': 1, 'Brothers': 1, 'PROTEST': 1, 'notes': 1, 'brothers': 2, 'article': 1, 'Julia': 1, 'Spongebob': 1, 'breather': 1, 'smile': 1, 'Stadium': 1, 'AmericaIm': 1, 'another': 8, 'accompany': 1, 'miss': 1, 'ultimate': 1, 'Pretty': 1, 'undertaker': 1, 'lookin': 1, 'GON': 1, 'girlfriend': 9, 'spends': 1, 'cancelled': 1, 'snowed': 2, 'Jimmy': 1, 'Do': 3, 'intact': 2, 'calculus': 1, 'Hairswap': 1, 'elected': 2, 'crying': 3, 'paves': 1, 'selfie': 6, 'wandering': 1, 'Penguin': 1, 'walk': 2, 'thriving': 1, 'womens': 1, 'Run': 2, 'challenging': 1, 'spanning': 1, 'Bad': 1, 'Cairns': 1, 'Raleigh': 1, 'Sydney': 1, 'three': 1, 'party': 2, 'skydiving': 1, 'internet': 6, 'crossing': 1, 'Brucemas': 1, 'condition': 1, 'flipped': 1, 'bumper': 1, 'Protesters': 1, 'wall': 3, 'perks': 1, 'stage': 1, 'smallest': 1, 'Will': 1, 'Should': 1, 'Fire': 2, 'Hook': 1, 'religion': 1, 'pressure': 1, 'stood': 1, 'Chinas': 1, 'entrance': 2, 'Heaven': 1, 'terrible': 1, 'intimidating': 1, 'chap': 1, 'Save': 1, 'means': 1, 'needy': 1, 'roads': 1, 'walker': 1, 'Wes': 1, 'vote': 4, 'middle': 2, 'supportive': 1, 'Roommate': 1, 'Banksy': 1, 'inch': 3, 'subreddit': 1, 'raiders': 1, 'requested': 2, 'unity': 1, 'cap': 1, 'Together': 2, 'moms': 1, 'Departing': 1, 'stepping': 1, 'era': 1, 'First': 3, 'Rochester': 1, 'NBA': 1, 'Drafthouse': 1, 'staff': 1, 'What': 5, 'Glacier': 1, 'dementia': 1, 'fairytale': 1, 'frustrating': 1, 'Its': 10, 'goal': 1, 'grade': 1, 'spherical': 1, 'forward': 2, 'making': 8, 'Pox': 1, 'up': 45, 'crisis': 1, 'eight': 2, 'stress': 1, 'changed': 3, 'wake': 1, 'wild': 1, 'baker': 1, 'road': 4, 'Europe': 1, 'recovery': 2, 'magic': 2, 'Christenson': 1, 'would': 11, 'videos': 1, 'Syrian': 1, 'Keanu': 2, 'defeated': 1, 'McConnell': 1, 'gift': 5, 'Futurama': 2, 'fellow': 1, 'lying': 1, 'Comcast': 1, 'vandalizing': 1, 'city': 6, 'blazing': 1, 'left': 13, 'retires': 1, 'accept': 1, 'animals': 1, 'Fe': 1, 'tell': 2, 'Attorney': 1, 'Almost': 1, 'worth': 4, 'laude': 1, 'us': 14, 'Shoshana': 1, 'secret': 3, 'push': 1, 'Buddy': 1, 'Blocked': 1, 'pot': 1, 'death': 1, 'jackass': 1, 'overrated': 1, 'Might': 1, 'Strong': 1, 'anchorwoman': 1, 'eye': 2, 'created': 1, 'wallet': 3, 'attire': 1, 'bathroom': 1, 'bouncy': 1, 'Navy': 2, 'Eagles': 2, 'stunt': 1, 'men': 3, 'longterm': 1, 'Bit': 1, 'About': 2, 'raiding': 1, 'IN': 1, 'aunts': 1, 'pictures': 1, 'Lt': 1, 'veterans': 1, 'membership': 1, 'Internet': 2, 'rest': 1, 'political': 1, 'legend': 3, 'Game': 1, 'discontent': 1, 'mayor': 1, 'apartment': 3, 'cause': 1, 'You': 8, 'Toys': 2, 'lifting': 1, 'climbing': 3, 'Are': 1, 'great': 7, 'military': 1, 'Boy': 1, 'nobody': 3, 'youd': 1, 'surgeries': 1, 'glass': 1, 'Seals': 1, 'order': 1, 'Banksys': 1, 'stones': 1, 'Australia': 2, 'detail': 1, 'Margaret': 1, 'Hows': 1, 'levels': 1, 'carpeted': 1, 'NOW': 2, 'take': 13, 'bionic': 2, 'Flights': 1, 'One': 6, 'homework': 1, 'York': 3, 'organs': 1, 'challenged': 2, 'lawn': 1, 'Preach': 1, 'Mars': 2, 'evacuated': 1, 'event': 1, 'gotten': 1, 'thick': 1, 'Japanese': 2, 'risk': 1, 'ShowerThoughts': 1, 'M': 2, 'things': 8, 'boxer': 1, 'lovely': 1, 'stuffed': 2, 'understand': 1, 'Good': 1, 'bump': 1, 'more': 16, 'near': 5, 'did': 15, 'Modesto': 1, 'unveiling': 1, 'Spain': 2, 'item': 1, 'alongside': 1, 'squad': 1, 'shitty': 1, 'test': 1, 'naptime': 1, 'thing': 6, 'photos': 10, 'becoming': 3, 'decides': 1, 'Whos': 1, 'MOTHER': 1, 'meth': 2, 'stereotypes': 1, 'incredible': 2, 'injected': 1, 'casually': 1, 'Saying': 1, 'leaders': 1, 'happiest': 2, 'crystal': 1, 'budget': 1, 'Thai': 2, 'something': 3, 'or': 8, 'tired': 4, 'Time': 2, 'daughters': 2, 'Malden': 1, 'Others': 1, 'Witches': 1, 'impersonators': 1, 'the': 532, 'reassurance': 1, 'above': 3, 'comments': 2, 'TOAST': 1, 'trashtag': 12, 'birthday': 6, 'growing': 1, 'clothes': 3, 'copies': 1, 'until': 8, 'driveway': 1, 'better': 6, 'Belgium': 1, 'Khashoggis': 1, 'gaming': 1, 'Cherry': 1, 'dads': 1, 'tournaments': 1, 'Francisco': 1, 'pews': 1, 'beginner': 1, 'set': 4, 'esophageal': 1, 'remarks': 1, 'seems': 2, 'WW': 2, 'Jordan': 1, 'pics': 1, 'Cricut': 1, 'wrong': 1, 'seen': 7, 'endlessly': 1, 'Monterrey': 1, 'Recover': 1, 'assistant': 1, 'rode': 1, 'supporting': 1, 'sterilised': 1, 'Cori': 1, 'mourners': 1, 'deaf': 1, 'greatgrandmother': 1, 'wildlife': 1, 'requests': 1, 'ever': 25, 'divorced': 2, 'Reef': 1, 'adulthood': 1, 'Kid': 2, 'Here': 3, 'toilet': 1, 'illegal': 4, 'complex': 1, 'gun': 1, 'chef': 1, 'Ratatouille': 1, 'failed': 2, 'progress': 1, 'fine': 1, 'Korea': 3, 'may': 2, 'policy': 1, 'little': 9, 'Zanjeer': 1, 'Butterflies': 1, 'spices': 1, 'generators': 1, 'feature': 1, 'lot': 6, 'experiment': 1, 'small': 5, 'cutest': 1, 'weed': 1, 'restricted': 1, 'Nice': 1, 'talking': 1, 'Beach': 1, 'weeding': 1, 'sneaking': 1, 'prosecuted': 1, 'protest': 7, 'Wars': 1, 'cancer': 18, 'tradition': 1, 'Harold': 1, 'CozyCasa': 1, 'Netherlands': 1, 'stumbled': 2, 'beautiful': 5, 'tiny': 2, 'ICE': 1, 'forever': 3, 'replaced': 1, 'baggage': 1, 'word': 1, 'Brazils': 1, 'humans': 1, 'played': 1, 'hundreds': 1, 'Way': 1, 'shape': 3, 'Soldiers': 1, 'raining': 1, 'Zelda': 2, 'Wife': 2, 'bank': 2, 'havent': 3, 'exploring': 1, 'sociopath': 1, 'Adam': 1, 'junior': 1, 'activists': 1, 'paint': 6, 'student': 5, 'roughly': 1, 'Getting': 1, 'opposite': 2, 'hole': 1, 'rpicrequests': 1, 'hating': 1, 'Danny': 1, 'Sudan': 1, 'older': 1, 'seder': 1, 'frozen': 1, 'Jong': 1, 'Fishing': 1, 'simple': 1, 'Took': 2, 'Cousin': 1, 'drop': 2, 'home': 10, 'Daryl': 2, 'Cambridge': 2, 'Landing': 1, 'qualify': 2, 'likes': 2, 'love': 11, 'such': 1, 'claim': 1, 'War': 3, 'watching': 1, 'Seoul': 1, 'photoshop': 1, 'believe': 1, 'spoon': 1, 'vacation': 1, 'check': 1, 'lines': 3, 'cancerous': 1, 'covered': 2, 'Thailand': 3, 'Trebek': 3, 'words': 1, 'goodbye': 4, 'Peregrine': 1, 'given': 4, 'forced': 2, 'candidate': 1, 'Shop': 2, 'won': 5, 'Pontchartrain': 1, 'messages': 1, 'monitor': 1, 'consciousness': 1, 'artwork': 2, 'Greenland': 1, 'full': 10, 'Sober': 1, 'else': 1, 'who': 48, 'fits': 1, 'settlers': 1, 'Appalachian': 1, 'cruise': 1, 'eclipse': 2, 'Wake': 2, 'parts': 1, 'Latimer': 2, 'heroin': 3, 'sobriety': 2, 'revolver': 1, 'rained': 1, 'lungs': 1, 'lit': 1, 'Alone': 1, 'Tammy': 1, 'ice': 5, 'save': 3, 'chemotherapy': 3, 'opioids': 1, 'Hawaiian': 1, 'Cannes': 1, 'Armstrongs': 1, 'tool': 1, 'Vitamin': 1, 'security': 1, 'biggest': 1, 'banned': 3, 'GPAs': 1, 'employee': 2, 'Bangladeshi': 1, 'room': 7, 'Kart': 1, 'Of': 3, 'reward': 1, 'ex': 2, 'Crews': 1, 'button': 1, 'painted': 14, 'internment': 1, 'thugs': 1, 'lighter': 1, 'police': 9, 'like': 57, 'her': 64, 'grad': 1, 'militants': 1, 'summa': 1, 'clean': 8, 'doctors': 2, 'nights': 2, 'situations': 1, 'car': 6, 'manufacturer': 1, 'plane': 2, 'couch': 1, 'Coco': 1, 'whatever': 1, 'Couldnt': 1, 'nanas': 1, 'Is': 1, 'listening': 1, 'complications': 1, 'Gabriel': 1, 'worked': 4, 'give': 3, 'giving': 1, 'movement': 1, 'officially': 5, 'years': 87, 'Redneck': 1, 'hear': 1, 'masks': 1, 'Grandpa': 2, 'present': 2, 'my': 236, 'need': 7, 'Rarely': 1, 'Thoughtful': 1, 'Facebook': 3, 'Superheroes': 1, 'Yates': 1, 'strip': 1, 'revived': 1, 'combining': 1, 'Blade': 1, 'Looks': 1, 'fire': 9, 'realised': 1, 'step': 2, 'here': 9, 'New': 7, 'mens': 1, 'deported': 1, 'ranger': 1, 'apart': 5, 'Muhammad': 1, 'dog': 13, 'let': 6, 'latest': 5, 'sun': 4, 'crochet': 1, 'killed': 1, 'Jackson': 1, 'these': 5, 'each': 6, 'rear': 1, 'Sistine': 1, 'section': 1, 'Berlin': 2, 'custody': 2, 'cool': 2, 'collection': 3, 'Jasman': 1, 'Nass': 1, 'cup': 2, 'joined': 1, 'swan': 1, 'Daily': 2, 'dress': 4, 'honours': 1, 'De': 1, 'slept': 2, 'resultstakeoff': 1, 'alligator': 1, 'expecting': 2, 'Masters': 1, 'detection': 1, 'Paris': 2, 'dusting': 1, 'Group': 1, 'directed': 1, 'make': 17, 'reflective': 1, 'Airlines': 1, 'cave': 4, 'Bachelors': 1, 'quit': 3, 'sharing': 1, 'families': 1, 'Northern': 1, 'public': 2, 'record': 1, 'well': 6, 'journalists': 1, 'overturned': 2, 'Jiping': 1, 'Aboriginal': 1, 'happen': 1, 'Newport': 1, 'Shoreditch': 1, 'carved': 1, 'Hardware': 1, 'rewards': 1, 'liking': 1, 'sht': 1, 'office': 13, 'Allies': 1, 'elevator': 1, 'fun': 2, 'hold': 1, 'panel': 1, 'England': 1, 'accommodate': 1, 'raped': 2, 'know': 7, 'hotel': 2, 'Arabia': 1, 'panoramic': 1, 'books': 1, 'loving': 1, 'musician': 2, 'surprisingly': 1, 'patience': 1, 'vomit': 1, 'iceberg': 2, 'heroes': 1, 'loss': 3, 'A': 44, 'stunning': 1, 'Archer': 1, 'final': 2, 'Also': 1, 'tears': 1, 'Firefighters': 1, 'realized': 2, 'prepped': 1, 'Tumpak': 1, 'twice': 1, 'shame': 1, 'opening': 1, 'cops': 1, 'longer': 4, 'Michael': 1, 'surprising': 1, 'executed': 1, 'time': 32, 'poorer': 1, 'surrendered': 1, 'eyes': 1, 'delivery': 1, 'tonights': 2, 'sideline': 1, 'deer': 1, 'using': 3, 'lean': 1, 'mirror': 1, 'Dearest': 1, 'laptop': 1, 'dictatorGovernment': 1, 'prime': 1, 'government': 5, 'first': 36, 'Dakota': 1, 'Mount': 3, 'niece': 1, 'adventure': 2, 'unopened': 1, 'collect': 1, 'sweater': 1, 'Pole': 1, 'unbelievable': 1, 'picking': 1, 'wont': 1, 'taken': 16, 'ESA': 1, 'ready': 1, 'class': 3, 'Friday': 2, 'Ray': 1, 'ATT': 1, 'ballistic': 1, 'show': 7, 'bread': 1, 'gratitude': 1, 'far': 9, 'sits': 1, 'that': 72, 'Namibia': 1, 'operator': 1, 'is': 161, 'father': 7, 'gone': 3, 'bangs': 1, 'birdie': 1, 'sneezed': 1, 'yards': 1, 'Rogen': 1, 'ribbons': 1, 'couldnt': 4, 'Raptors': 1, 'Charcoal': 1, 'contest': 1, 'hat': 1, 'Street': 1, 'approve': 1, 'craters': 1, 'Mitch': 1, 'transplant': 1, 'celebration': 1, 'Spare': 1, 'Salt': 1, 'Breaking': 1, 'Taken': 2, 'talent': 1, 'gang': 1, 'Standby': 1, 'sides': 3, 'Kidnapping': 1, 'cart': 1, 'if': 12, 'Dominos': 1, 'reader': 1, 'day': 33, 'style': 4, 'schools': 1, 'Pennywise': 1, 'sons': 3, 'highway': 5, 'Every': 10, 'slaying': 1, 'Kunan': 1, 'Alligator': 1, 'been': 26, 'terrier': 1, 'paid': 3, 'shows': 3, 'accident': 1, 'corral': 1, 'come': 3, 'theft': 1, 'sealed': 1, 'plastic': 1, 'bits': 1, 'sarcophagus': 2, 'Drug': 1, 'equally': 1, 'Penguins': 1, 'pulled': 2, 'accomplished': 2, 'citizens': 1, 'anything': 2, 'battle': 1, 'shouted': 1, 'only': 12, 'telescopic': 1, 'buddy': 2, 'hablo': 1, 'less': 3, 'express': 1, 'peoples': 2, 'Bridge': 3, 'Canyon': 2, 'sharks': 2, 'denied': 1, 'Ron': 1, 'Lawn': 2, 'toast': 1, 'lie': 1, 'Latvian': 1, 'Lady': 1, 'Statue': 1, 'massive': 4, 'Swastikas': 1, 'shade': 1, 'baby': 5, 'knitting': 1, 'Authorization': 1, 'boat': 2, 'humiliated': 1, 'Jerrys': 1, 'balloons': 1, 'undergraduate': 1, 'headlamps': 1, 'Capitol': 1, 'deposit': 1, 'Facehugger': 1, 'famous': 1, 'Rica': 1, 'Halloween': 10, 'body': 1, 'garden': 1, 'Side': 1, 'Granma': 1, 'uploaded': 1, 'amber': 1, 'American': 1, 'hurt': 1, 'yr': 3, 'can': 18, 'scraping': 1, 'Dave': 1, 'date': 1, 'US': 10, 'Mayor': 4, 'hates': 1, 'Long': 1, 'troops': 2, 'intersection': 1, 'Dark': 1, 'Portland': 1, 'LEDs': 2, 'Lake': 3, 'projected': 2, 'homemade': 1, 'Came': 2, 'Star': 2, 'twist': 1, 'smart': 1, 'revealing': 1, 'Aaron': 1, 'arrived': 2, 'execution': 1, 'render': 1, 'grinding': 1, 'tutu': 1, 'Thats': 1, 'stick': 1, 'Neil': 1, 'cloud': 1, 'rub': 1, 'helping': 4, 'launch': 2, 'impacts': 1, 'hanging': 3, 'outside': 11, 'Jongun': 1, 'brain': 2, 'hyperrealism': 1, 'tornado': 1, 'Rome': 1, 'pie': 1, 'returns': 2, 'dyslexia': 1, 'medical': 6, 'buried': 1, 'specifically': 1, 'stitched': 1, 'charge': 3, 'reopen': 1, 'inches': 2, 'sign': 12, 'valley': 1, 'aging': 1, 'batons': 1, 'phrases': 1, 'snapped': 1, 'Get': 1, 'made': 27, 'nearly': 2, 'so': 49, 'buildings': 1, 'After': 9, 'Pulled': 1, 'diagnosed': 4, 'reduce': 1, 'beer': 3, 'ounce': 1, 'kimono': 1, 'religiously': 1, 'Samarn': 1, 'held': 1, 'holds': 1, 'Trainy': 1, 'gf': 1, 'Scene': 1, 'Erdogan': 1, 'Doctors': 1, 'Bush': 2, 'down': 16, 'Future': 1, 'leaves': 1, 'free': 13, 'graphite': 1, 'radiology': 1, 'isnt': 1, 'yosemite': 1, 'Biochemist': 1, 'flourished': 1, 'puts': 2, 'offline': 1, 'Grohl': 1, 'untie': 1, 'upsidedown': 1, 'pick': 2, 'Arizona': 2, 'It': 19, 'took': 38, 'pack': 1, 'situation': 2, 'proDemocracy': 1, 'enjoying': 1, 'husband': 5, 'oz': 1, 'curvature': 1, 'turn': 2, 'remaining': 2, 'Rico': 1, 'reporter': 1, 'giant': 3, 'ill': 2, 'Just': 13, 'speaking': 1, 'before': 17, 'fat': 1, 'Blockbuster': 1, 'Arctic': 2, 'West': 1, 'protests': 3, 'Anderson': 1, 'quitting': 1, 'Terry': 2, 'Harvey': 1, 'grandchildren': 2, 'scare': 2, 'art': 6, 'Airport': 1, 'flew': 2, 'Earth': 4, 'soon': 3, 'be': 40, 'Chief': 1, 'member': 3, 'Before': 3, 'stadium': 2, 'AA': 1, 'UCC': 1, 'film': 2, 'Jean': 1, 'Waddell': 1, 'If': 6, 'newly': 2, 'much': 9, 'have': 46, 'panorama': 1, 'living': 4, 'Basser': 1, 'ALL': 1, 'drive': 3, 'times': 3, 'circle': 1, 'playtime': 1, 'yearsold': 1, 'supplies': 2, 'explosives': 1, 'celebrates': 1, 'local': 13, 'And': 6, 'Vegas': 2, 'propaganda': 1, 'contribution': 2, 'Female': 1, 'fence': 1, 'kitchen': 2, 'whale': 2, 'obituary': 1, 'daysthere': 1, 'point': 3, 'adoption': 1, 'Mints': 1, 'sculpture': 2, 'Captain': 3, 'Original': 1, 'process': 2, 'Trumps': 2, 'ok': 2, 'field': 3, 'Theyve': 1, 'Hornets': 1, 'by': 42, 'hеll': 1, 'yes': 3, 'Real': 2, 'Simple': 1, 'mostly': 1, 'confirmation': 1, 'Massachusetts': 1, 'match': 1, 'think': 10, 'Right': 2, 'dressed': 3, 'Elon': 4, 'acoustic': 1, 'Santa': 2, 'respect': 1, 'projectile': 1, 'storming': 1, 'totally': 1, 'whose': 1, 'severe': 1, 'NOT': 1, 'fb': 1, 'x': 1, 'glad': 1, 'boyfriend': 1, 'sold': 2, 'even': 1, 'sting': 1, 'Totally': 1, 'shirt': 5, 'Lost': 1, 'Oscar': 1, 'group': 5, 'job': 7, 'team': 1, 'sandwich': 1, 'Orangutan': 1, 'NOLA': 1, 'trafficker': 1, 'cropped': 1, 'Iraqi': 1, 'shop': 2, 'based': 2, 'upgrading': 1, 'since': 15, 'joy': 1, 'lecture': 3, 'yo': 3, 'Tidying': 1, 'peacock': 1, 'responding': 1, 'farmland': 1, 'slight': 1, 'superheroes': 1, 'company': 2, 'Moon': 4, 'Apollo': 1, 'nursery': 1, 'paper': 1, 'Osborne': 1, 'masterpiece': 1, 'Cruise': 1, 'BINGO': 1, 'socially': 1, 'Fella': 1, 'directly': 1, 'kicking': 1, 'smoked': 1, 'singles': 1, 'maybe': 1, 'sister': 6, 'Our': 8, 'hrs': 1, 'oxygen': 1, 'knew': 1, 'Always': 2, 'Nuremberg': 1, 'Winner': 1, 'Nine': 1, 'visits': 1, 'officer': 3, 'considered': 1, 'Photograph': 1, 'anyone': 3, 'Bonners': 1, 'Turned': 2, 'Trump': 12, 'early': 3, 'complain': 1, 'code': 1, 'say': 6, 'Georgian': 1, 'Musk': 2, 'Mom': 2, 'Moms': 2, 'myself': 7, 'independence': 1, 'simply': 1, 'Orange': 1, 'tip': 1, 'determined': 1, 'taste': 1, 'station': 2, 'tried': 4, 'sunset': 1, 'blink': 1, 'beaches': 2, 'PM': 2, 'Genes': 1, 'flat': 3, 'mile': 1, 'Such': 1, 'frameable': 1, 'Canadians': 1, 'went': 6, 'continue': 1, 'published': 2, 'f': 1, 'Home': 2, 'BOTH': 1, 'weighing': 1, 'tumours': 1, 'Rocky': 1, 'waiting': 6, 'Super': 2, 'headsets': 1, 'Superman': 1, 'Laura': 1, 'build': 2, 'really': 5, 'polices': 1, 'interpreter': 1, 'waits': 1, 'Well': 4, 'it': 92, 'decided': 12, 'during': 11, 'thrown': 1, 'absolute': 2, 'Were': 1, 'RIGHT': 1, 'parking': 2, 'MA': 1, 'uplifting': 1, 'Dorianthis': 1, 'pretended': 1, 'revolution': 1, 'wrapping': 1, 'finder': 1, 'Tunisian': 1, 'defy': 1, 'native': 1, 'pizza': 2, 'breaching': 1, 'celebrated': 1, 'Shelters': 1, 'Nearly': 3, 'Throwback': 1, 'lives': 3, 'yet': 2, 'Compelling': 1, 'together': 10, 'Bond': 1, 'Im': 38, 'Turkey': 1, 'Guess': 1, 'graduating': 1, 'payed': 1, 'Rhabdomyosarcoma': 2, 'Bought': 2, 'locker': 1, 'Thanksgiving': 3, 'midnight': 1, 'Bouman': 1, 'Access': 1, 'Hawaii': 2, 'want': 5, 'wipers': 1, 'lake': 2, 'Lai': 1, 'outta': 1, 'driver': 5, 'star': 2, 'Delta': 2, 'Dwayne': 1, 'nodules': 1, 'Macys': 1, 'constant': 1, 'next': 4, 'HR': 1, 'scene': 2, 'Pannell': 1, 'somebodys': 1, 'HQ': 1, 'Cow': 1, 'courtyard': 1, 'explained': 1, 'book': 2, 'to': 367, 'side': 5, 'handicapped': 1, 'win': 6, 'Bluegrass': 1, 'Ghanaian': 1, 'carbon': 1, 'earlier': 2, 'physical': 1, 'Potter': 2, 'USA': 3, 'poster': 2, 'blue': 1, 'veterinarian': 1, 'Kent': 1, 'cream': 3, 'which': 6, 'currently': 2, 'VPN': 1, 'license': 1, 'Went': 1, 'yard': 2, 'science': 2, 'Honoring': 1, 'boyfriends': 1, 'accepted': 1, 'exoskeleton': 1, 'Rhino': 1, 'wish': 1, 'cute': 1, 'reddit': 5, 'beginning': 2, 'awareness': 1, 'lbs': 12, 'taxes': 1, 'property': 1, 'commercial': 1, 'actually': 1, 'warned': 1, 'prosthesis': 1, 'vaccine': 1, 'Seuss': 1, 'July': 3, 'Sean': 1, 'survivor': 5, 'exchange': 2, 'Ill': 2, 'coast': 2, 'disguise': 1, 'nineteen': 1, 'grandpa': 1, 'Highway': 1, 'Port': 1, 'dogs': 2, 'Says': 1, 'fabulous': 1, 'County': 1, 'McKellen': 1, 'garage': 2, 'ad': 3, 'Peeles': 1, 'looked': 3, 'personally': 2, 'Mander': 1, 'slid': 1, 'FORGET': 1, 'Madagascar': 1, 'luck': 3, 'foggy': 1, 'Lauren': 1, 'Lebanon': 1, 'freed': 1, 'Public': 1, 'page': 2, 'World': 2, 'everyday': 1, 'money': 4, 'song': 2, 'walking': 6, 'affair': 1, 'Rainscaping': 1, 'fall': 1, 'holocaust': 2, 'Manchester': 1, 'easily': 1, 'FCC': 1, 'Evgenia': 1, 'sad': 2, 'Michigan': 2, 'Stark': 1, 'stolen': 2, 'TODAY': 1, 'Fellow': 1, 'Kesha': 1, 'Now': 5, 'patrol': 1, 'Likely': 1, 'Lyles': 1, 'Superior': 1, 'meet': 3, 'plantsheres': 1, 'trip': 4, 'sober': 5, 'portrait': 3, 'Germany': 1, 'tapped': 1, 'People': 3, 'Friends': 1, 'uncropped': 1, 'So': 13, 'principal': 1, 'drowned': 1, 'Middle': 1, 'Tried': 1, 'nurse': 1, 'crest': 1, 'Was': 3, 'shared': 2, 'trash': 4, 'incident': 2, 'wears': 2, 'done': 8, 'Degree': 1, 'Scottish': 1, 'High': 1, 'originals': 1, 'drawings': 1, 'Empire': 1, 'surviving': 1, 'Riot': 1, 'law': 1, 'Costumes': 1, 'tables': 1, 'Marine': 1, 'happy': 10, 'remote': 1, 'communist': 1, 'man': 23, 'Vet': 1, 'mission': 1, 'dream': 3, 'pork': 1, 'Growing': 1, 'empty': 3, 'priceless': 1, 'mumbai': 1, 'soccer': 1, 'cookies': 1, 'international': 1, 'TOUCH': 1, 'Sebastian': 1, 'Builder': 1, 'spreadsheets': 1, 'saw': 11, 'drivers': 1, 'koi': 1, 'allday': 1, 'snap': 1, 'Bangladesh': 2, 'media': 3, 'jar': 1, 'sat': 4, 'weve': 2, 'Media': 1, 'Challenger': 1, 'workout': 1, 'heard': 1, 'Kit': 1, 'passed': 7, 'beating': 1, 'vaccinations': 1, 'health': 2, 'doggo': 2, 'Havasu': 1, 'Costume': 1, 'finishing': 2, 'cousins': 1, 'Airplane': 1, 'tricycle': 1, 'shoeshine': 1, 'nervous': 2, 'chatted': 1, 'teenagers': 1, 'Titanic': 1, 'floor': 3, 'skills': 1, 'She': 12, 'ride': 1, 'manifest': 1, 'grinder': 1, 'Puts': 1, 'quintuple': 1, 'lowered': 1, 'German': 1, 'grams': 1, 'second': 3, 'Hit': 1, 'motorcycles': 1, 'babysit': 1, 'greatest': 2, 'Both': 2, 'Cranberry': 1, 'Physics': 1, 'part': 2, 'subway': 1, 'illusion': 1, 'lego': 1, 'attempt': 4, 'helpful': 1, 'Photographer': 1, 'get': 25, 'Kickstarter': 1, 'holding': 1, 'holidays': 1, 'victim': 2, 'letter': 4, 'social': 2, 'could': 16, 'Mahal': 1, 'seat': 2, 'cancers': 1, 'guard': 2, 'as': 41, 'Photoshop': 2, 'streets': 4, 'killing': 3, 'compared': 2, 'generator': 1, 'commissioned': 1, 'Washington': 3, 'exposure': 4, 'flying': 2, 'Bernie': 3, 'without': 4, 'Virgin': 1, 'Last': 3, 'wrestled': 1, 'lights': 1, 'acrylic': 1, 'disease': 1, 'Beaten': 1, 'lb': 1, 'Dads': 1, 'dozens': 1, 'mildlyinteresting': 1, 'with': 92, 'NEVER': 1, 'wheel': 2, 'Glad': 1, 'needs': 2, 'helped': 3, 'bestluckiest': 1, 'stronger': 1, 'Words': 2, 'exactly': 4, 'light': 2, 'Un': 1, 'Crocs': 1, 'this': 169, 'Through': 2, 'Story': 1, 'ship': 2, 'deradicalized': 1, 'Pooh': 1, 'language': 1, 'Wilson': 1, 'Childhood': 2, 'shutdown': 2, 'outfits': 2, 'foot': 1, 'household': 1, 'Winnie': 1, 'uncle': 3, 'Trees': 1, 'Women': 1, 'Private': 1, 'ask': 1, 'Damn': 1, 'picks': 1, 'flooded': 1, 'enjoy': 5, 'posting': 3, 'catch': 2, 'Xi': 1, 'newlyweds': 1, 'White': 4, 'least': 2, 'fake': 2, 'Dont': 4, 'Place': 1, 'Remember': 1, 'Dublin': 1, 'library': 2, 'fishing': 2, 'tragically': 1, 'sent': 10, 'cum': 1, 'Canadian': 1, 'Had': 1, 'checks': 1, 'thats': 3, 'backpacks': 1, 'phone': 6, 'six': 2, 'How': 6, 'instead': 3, 'infrared': 1, 'Billie': 1, 'Orcas': 1, 'erase': 1, 'work': 24, 'Wellshit': 1, 'French': 2, 'trapped': 1, 'major': 1, 'Anniversary': 1, 'couple': 6, 'styrofoam': 1, 'forget': 7, 'Magazine': 1, 'concentration': 1, 'Stewart': 2, 'yacht': 1, 'risen': 1, 'Childrens': 1, 'planted': 1, 'coat': 1, 'keep': 7, 'most': 10, 'organization': 1, 'UFO': 1, 'vest': 1, 'visiting': 1, 'promise': 2, 'leaf': 1, 'Golden': 2, 'sycamore': 1, 'Faris': 1, 'change': 2, 'frame': 2, 'online': 2, 'potholes': 1, 'Skater': 1, 'That': 2, 'dragon': 1, 'May': 2, 'CROCHET': 1, 'mini': 1, 'dust': 1, 'weddings': 1, 'name': 3, 'Taj': 1, 'compare': 1, 'hed': 1, 'excited': 1, 'Medvedeva': 1, 'career': 2, 'Keep': 1, 'ousting': 1, 'Censorship': 1, 'Grand': 2, 'exercise': 1, 'hands': 6, 'Seth': 1, 'mate': 1, 'Kenboni': 1, 'sketchbook': 1, 'data': 1, 'setup': 1, 'Ghostbusters': 1, 'Balloon': 1, 'MLK': 1, 'pepper': 2, 'fancy': 1, 'elderly': 7, 'thus': 1, 'memes': 1, 'At': 5, 'Cool': 1, 'woodworking': 1, 'critics': 1, 'As': 5, 'old': 37, 'view': 6, 'bakery': 1, 'every': 19, 'Shot': 2, 'seemed': 1, 'Ben': 1, 'Homeowner': 1, 'burned': 1, 'Neeson': 2, 'days': 17, 'terrified': 1, 'cone': 2, 'breaks': 2, 'bungee': 1, 'rain': 4, 'calling': 3, 'interview': 1, 'Great': 2, 'freelance': 1, 'pay': 2, 'proudly': 1, 'way': 4, 'rock': 4, 'taco': 1, 'Smith': 3, 'fish': 2, 'odds': 1, 'Pence': 1, 'comparison': 1, 'Ambulance': 1, 'blackhole': 1, 'socket': 1, 'block': 2, 'striped': 1, 'Community': 1, 'macarons': 1, 'painting': 12, 'tear': 1, 'somebody': 1, 'ft': 1, 'explodes': 1, 'voted': 1, 'interested': 1, 'lead': 1, 'gorillas': 1, 'dictatorship': 1, 'wilderness': 1, 'True': 1, 'Iron': 1, 'wed': 1, 'Larry': 1, 'moment': 7, 'Mario': 1, 'September': 3, 'okay': 1, 'citizen': 1, 'Suryono': 1, 'disrupt': 1, 'He': 33, 'human': 3, 'spent': 5, 'will': 11, 'child': 4, 'playing': 3, 'ridiculously': 2, 'exposed': 1, 'threw': 2, 'gentleman': 3, 'send': 3, 'slide': 1, 'sprinting': 1, 'granddaughters': 1, 'turns': 2, 'treatment': 2, 'vineyard': 1, 'Confirmed': 1, 'Skinny': 1, 'call': 3, 'necessary': 1, 'oldest': 2, 'retired': 2, 'waterfall': 3, 'half': 7, 'EVER': 1, 'alerted': 1, 'Hamilton': 1, 'youll': 1, 'realize': 1, 'piloted': 1, 'passenger': 1, 'mows': 1, 'contact': 1, 'DC': 3, 'Rover': 1, 'game': 4, 'Finally': 2, 'cactus': 1, 'John': 1, 'design': 2, 'young': 11, 'your': 18, 'Paddleboarding': 1, 'brexit': 1, 'hijab': 1, 'Malaga': 1, 'threads': 1, 'clearly': 1, 'Fighting': 1, 'F': 2, 'Post': 2, 'Rec': 1, 'prep': 1, 'everyone': 3, 'knowing': 1, 'rescues': 1, 'Imagine': 1, 'recieved': 1, 'Russian': 2, 'outed': 1, 'Vi': 1, 'issues': 2, 'Majority': 1, 'Normandy': 1, 'founded': 1, 'player': 3, 'Air': 2, 'karmic': 1, 'arm': 2, 'navy': 1, 'had': 31, 'mo': 1, 'tomato': 1, 'Heavy': 1, 'formation': 2, 'telecom': 1, 'Aerial': 1, 'decide': 1, 'Fuck': 3, 'Sacrificed': 1, 'interesting': 1, 'Tomatoes': 1, 'photograph': 3, 'right': 22, 'still': 11, 'bar': 3, 'wear': 1, 'South': 4, 'Commander': 1, 'again': 5, 'cat': 8, 'skipped': 1, 'remain': 1, 'rover': 1, 'Quarry': 1, 'Finger': 1, 'humor': 1, 'Trialstruly': 1, 'theaters': 1, 'are': 35, 'spot': 4, 'spend': 3, 'Caiman': 2, 'monitored': 1, 'dinner': 4, 'When': 14, 'costumes': 1, 'Wall': 4, 'willing': 1, 'delete': 1, 'Medium': 1, 'confused': 1, 'Nets': 1, 'appeared': 2, 'service': 1, 'crowd': 2, 'Monsoon': 1, 'were': 15, 'mentioning': 1, 'Robin': 2, 'Tuesday': 1, 'Misty': 1, 'similar': 1, 'anxious': 1, 'All': 2, 'pic': 12, 'admiring': 2, 'sinks': 1, 'Victim': 1, 'mankind': 1, 'PSA': 1, 'rescuing': 1, 'struggling': 2, 'volunteered': 1, 'just': 44, 'Disaster': 1, 'childhood': 3, 'our': 28, 'Russia': 3, 'bear': 4, 'research': 1, 'mail': 3, 'dumped': 1, 'oligarchs': 1, 'Kkk': 1, 'appropriate': 1, 'Miss': 1, 'Silicon': 1, 'trashcan': 2, 'Native': 1, 'terminally': 2, 'prepare': 2, 'Einstein': 1, 'Opportunity': 1, 'Davis': 5, 'Conviction': 1, 'overhead': 1, 'pine': 1, 'tweet': 1, 'drawn': 1, 'overall': 1, 'FREE': 2, 'in': 310, 'concert': 2, 'beaten': 1, 'Kurds': 1, 'anonymous': 2, 'Caddo': 1, 'Wyoming': 1, 'Philadelphia': 2, 'captivity': 1, 'Dogs': 1, 'Unfriendly': 1, 'bald': 1, 'deserve': 3, 'censored': 1, 'pigs': 1, 'salty': 1, 'fulfill': 1, 'helmets': 1, 'witness': 1, 'Space': 1, 'born': 5, 'Dad': 5, 'marries': 1, 'Garcia': 1, 'master': 1, 'To': 5, 'Fortune': 1, 'grandfather': 2, 'eatbut': 1, 'Bar': 1, 'devastating': 1, 'spirit': 2, 'paintings': 2, 'orangutan': 1, 'featured': 1, 'Xmas': 1, 'Critical': 1, 'Nazis': 1, 'Alex': 2, 'thank': 3, 'June': 2, 'start': 2, 'NASA': 2, 'pound': 1, 'Sun': 1, 'news': 7, 'mine': 3, 'Hotel': 2, 'Zooey': 1, 'IT': 1, 'Hear': 1, 'says': 3, 'shooter': 2, 'dont': 15, 'gay': 2, 'wanted': 16, 'survive': 3, 'became': 5, 'Valentines': 1, 'stormed': 1, 'misuses': 1, 'Syndrome': 2, 'airplane': 1, 'put': 10, 'ahead': 1, 'veteran': 2, 'working': 2, 'everybody': 2, 'bring': 5, 'bell': 1, 'poor': 2, 'Carell': 1, 'Nowata': 1, 'remind': 4, 'marbles': 1, 'Center': 1, 'Tallahassee': 1, 'calm': 1, 'encouragement': 1, 'motorized': 1, 'shooting': 4, 'mothers': 2, 'unearthed': 1, 'Lowes': 1, 'aid': 1, 'attracting': 1, 'oil': 6, 'Los': 4, 'plant': 2, 'Shelia': 1, 'shower': 1, 'comfort': 2, 'colon': 1, 'met': 13, 'Puerto': 1, 'ignored': 2, 'Very': 1, 'established': 1, 'campers': 1, 'Kong': 21, 'beekeeper': 1, 'Taco': 1, 'Wait': 2, 'pension': 1, 'Superhero': 1, 'helps': 1, 'prior': 1, 'Buddhists': 1, 'mustached': 1, 'uTheNervousPoops': 1, 'dreams': 3, 'Things': 1, 'system': 3, 'leaving': 3, 'removed': 1, 'Life': 2, 'Redditors': 1, 'finished': 11, 'Florida': 5, 'eBay': 2, 'meme': 3, 'appreciation': 1, 'witnessed': 1, 'Dubai': 1, 'karma': 1, 'depression': 2, 'Venice': 1, 'HS': 1, 'News': 3, 'Never': 5, 'welcome': 2, 'invaded': 1, 'greatgrandfathers': 1, 'camera': 7, 'worn': 2, 'dye': 1, 'remember': 4, 'Parking': 1, 'psyched': 1, 'lived': 3, 'antipoaching': 1, 'effects': 1, 'Gathered': 1, 'competition': 2, 'comes': 5, 'board': 2, 'Ian': 1, 'descendants': 1, 'corruption': 2, 'fixed': 1, 'squared': 1, 'southeast': 1, 'grandmother': 2, 'Kim': 2, 'Melania': 2, 'Donald': 4, 'later': 17, 'LA': 2, 'eggplants': 1, 'stand': 1, 'unmarried': 1, 'grabber': 1, 'enough': 4, 'Texan': 1, 'wire': 1, 'able': 5, 'Analytica': 1, 'Married': 1, 'Sothebys': 1, 'exceeds': 1, 'Moores': 1, 'metal': 2, 'picture': 46, 'ripe': 1, 'fridge': 1, 'Lexi': 1, 'alright': 1, 'logical': 1, 'bad': 2, 'picked': 1, 'responded': 1, 'traffic': 4, 'Out': 1, 'Makes': 1, 'Armenia': 2, 'Cotton': 1, 'machine': 1, 'handmade': 2, 'boo': 1, 'hand': 3, 'trying': 6, 'wheelchair': 3, 'real': 10, 'Italy': 3, 'due': 3, 'Red': 1, 'single': 6, 'granite': 1, 'cleaned': 2, 'wash': 1, 'Scarlett': 1, 'Eclipse': 1, 'Helped': 1, 'shrank': 1, 'restaurant': 3, 'visited': 2, 'drawing': 9, 'waterways': 1, 'injury': 1, 'five': 1, 'pocket': 1, 'key': 1, 'marathon': 1, 'vests': 1, 'refused': 1, 'Want': 1, 'having': 4, 'guys': 14, 'Hamm': 1, 'Eminem': 2, 'Iowa': 1, 'Patrick': 1, 'inglés': 1, 'students': 6, 'ecosystem': 1, 'grieving': 1, 'wrecked': 1, 'tracks': 1, 'boy': 7, 'tacos': 1, 'weeks': 5, 'food': 2, 'suitcase': 1, 'savanna': 1, 'new': 13, 'course': 1, 'Tomorrow': 1, 'asked': 11, 'winning': 2, 'National': 3, 'include': 1, 'steering': 1, 'monster': 2, 'Loom': 1, 'card': 4, 'thin': 1, 'defeat': 1, 'random': 2, 'crazy': 1, 'Removed': 1, 'literally': 2, 'allowing': 1, 'Kansas': 4, 'collapsing': 1, 'crosswalk': 1, 'Survivor': 1, 'whenever': 1, 'no': 10, 'shoulder': 2, 'Valley': 1, 'over': 26, 'them': 24, 'Females': 1, 'proceed': 1, 'heartwrenching': 1, 'woke': 2, 'world': 11, 'Goodbye': 1, 'ways': 1, 'occasion': 1, 'democracy': 2, 'stayed': 3, 'Sat': 1, 'takes': 1, 'Feis': 1, 'wolf': 1, 'teenage': 1, 'His': 6, 'Charlotte': 2, 'fking': 1, 'him': 30, 'creation': 1, 'vacuum': 2, 'Ive': 19, 'drinking': 1, 'someone': 4, 'Tank': 3, 'cards': 3, 'toy': 1, 'gallbladder': 1, 'successful': 1, 'reason': 2, 'flooding': 1, 'st': 5, 'thousands': 1, 'Irish': 1, 'profile': 1, 'credit': 2, 'Fridaysfood': 1, 'Table': 1, 'engagement': 1, 'Mcgregor': 1, 'wrapped': 1, 'expected': 1, 'tie': 1, 'decades': 1, 'Uncle': 1, 'Grindelwald': 1, 'trophy': 1, 'aunt': 1, 'Weird': 1, 'Texas': 5, 'Zhangjiajie': 1, 'Restaurant': 2, 'graves': 1, 'gym': 4, 'KFC': 3, 'comment': 1, 'makes': 9, 'Cat': 2, 'patches': 1, 'canvas': 2, 'completed': 2, 'sixteen': 2, 'handed': 3, 'rspace': 1, 'idk': 1, 'recreate': 4, 'Moscow': 1, 'greataunt': 1, 'disagree': 1, 'Day': 8, 'Alien': 1, 'Sculpture': 1, 'hes': 4, 'himself': 7, 'calendar': 1, 'Walked': 1, 'chief': 1, 'Angeles': 3, 'pilot': 3, 'Selfie': 1, 'Skate': 1, 'Ballerina': 1, 'Elementary': 2, 'crop': 1, 'there': 6, 'Tanner': 1, 'hour': 6, 'gained': 2, 'gelato': 1, 'blinds': 1, 'accomplishment': 2, 'DeVito': 1, 'died': 3, 'tumor': 1, 'wore': 2, 'jail': 2, 'not': 25, 'classroom': 1, 'Oldmans': 1, 'million': 6, 'ruin': 1, 'squirrel': 1, 'math': 1, 'Billionaire': 1, 'younger': 1, 'Trail': 1, 'sitting': 3, 'Doctor': 1, 'life': 14, 'ID': 1, 'Raising': 2, 'handing': 1, 'Millennials': 1, 'does': 4, 'plan': 1, 'alas': 1, 'Nonna': 1, 'Commonly': 1, 'milestone': 1, 'lawsuit': 1, 'college': 6, 'For': 4, 'pistondriven': 1, 'Being': 2, 'Ignore': 1, 'Turkish': 1, 'genetics': 1, 'Majestic': 1, 'Moltres': 1, 'Niagra': 1, 'resigned': 1, 'Tilly': 1, 'provider': 1, 'ends': 1, 'goes': 2, 'ambulance': 1, 'bachelors': 1, 'Appreciation': 1, 'under': 3, 'led': 1, 'special': 2, 'dirt': 1, 'Local': 2, 'costume': 3, 'Musks': 2, 'xrayed': 1, 'device': 1, 'zombie': 1, 'dating': 1, 'at': 74, 'arms': 2, 'century': 1, 'texted': 1, 'Proud': 1, 'Friendly': 1, 'Currently': 1, 'tied': 1, 'kid': 5, 'object': 1, 'garbage': 2, 'privacy': 1, 'cooler': 1, 'Rob': 3, 'Headphones': 1, 'parents': 12, 'terrorists': 1, 'algorithm': 1, 'god': 2, 'failing': 1, 'cats': 1, 'Rocks': 1, 'VR': 1, 'guarded': 1, 'project': 1, 'Couple': 2, 'saved': 11, 'mismatched': 1, 'payments': 1, 'McTrainface': 1, 'ruined': 1, 'Reed': 1, 'simulated': 1, 'panic': 1, 'creating': 1, 'weighs': 1, 'railroad': 1, 'Second': 1, 'important': 1, 'rally': 2, 'competitions': 1, 'walkway': 1, 'uber': 1, 'acceptedgood': 1, 'Program': 1, 'Yanks': 1, 'Australian': 1, 'courthouse': 1, 'Berkshire': 1, 'Teachers': 3, 'earth': 1, 'neighbor': 2, 'fruit': 1, 'balancing': 1, 'marched': 1, 'prosthetic': 2, 'AirAsia': 1, 'mic': 1, 'theyre': 7, 'Jonathan': 1, 'lands': 1, 'coming': 2, 'past': 4, 'Seeing': 1, 'handsewed': 1, 'girl': 11, 'Saving': 1, 'Benefits': 1, 'deprived': 1, 'photography': 2, 'BrushstrokesinTime': 1, 'bag': 2, 'family': 23, 'tires': 1, 'outstanding': 1, 'officials': 1, 'ACTUAL': 1, 'bigger': 1, 'Veterans': 2, 'deal': 1, 'park': 4, 'error': 1, 'Spotted': 2, 'touched': 1, 'honor': 5, 'year': 48, 'mcdonalds': 1, 'k': 3, 'football': 3, 'pool': 3, 'Cinemas': 1, 'pretty': 4, 'fit': 1, 'ARE': 1, 'gods': 1, 'Bushes': 1, 'neighbors': 1, 'pills': 1, 'against': 8, 'movie': 3, 'rediscovered': 1, 'recreated': 3, 'passageSo': 1, 'Forest': 2, 'Mike': 1, 'easier': 2, 'Hardhitting': 1, 'Ranger': 1, 'Sunflower': 1, 'for': 172, 'CA': 1, 'hang': 2, 'corrections': 1, 'wind': 2, 'snitch': 1, 'dumping': 1, 'prove': 1, 'baked': 1, 'official': 3, 'best': 18, 'minutes': 3, 'Left': 1, 'crackers': 1, 'thinking': 1, 'Show': 1, 'people': 18, 'missed': 3, 'Quidditch': 1, 'Cages': 1, 'artist': 4, 'thischallenge': 1, 'immigrant': 1, 'choice': 1, 'care': 3, 'some': 17, 'boom': 1, 'drunk': 2, 'While': 4, 'Sidofsky': 1, 'rainbow': 1, 'SC': 1, 'season': 2, 'wife': 22, 'closet': 1, 'Mardi': 1, 'department': 2, 'stop': 5, 'symbol': 1, 'told': 10, 'Detroit': 1, 'Victory': 1, 'heres': 4, 'Five': 3, 'Chicken': 1, 'farm': 2, 'Photo': 1, 'loves': 1, 'redditors': 1, 'brest': 1, 'Phil': 3, 'Exactly': 1, 'emerge': 1, 'Owners': 1, 'Farewell': 1, 'Mountain': 1, 'medic': 1, 'escape': 2, 'landed': 2, 'sword': 1, 'graduate': 3, 'current': 2, 'short': 1, 'space': 1, 'NC': 1, 'needle': 1, 'dapper': 1, 'Black': 2, 'couples': 1, 'rods': 1, 'color': 3, 'trucks': 1, 'exhausted': 1, 'Girl': 4, 'Andrew': 2, 'ISIS': 1, 'captured': 3, 'Anne': 1, 'pregnant': 3, 'Protests': 2, 'gently': 1, 'awoken': 1, 'Mr': 5, 'Stand': 1, 'bushfires': 1, 'happened': 8, 'Dhaka': 1, 'fact': 2, 'onset': 1, 'Diners': 1, 'Times': 3, 'boxing': 1, 'scientist': 1, 'hydrant': 1, 'hey': 1, 'realistic': 1, 'Nicolas': 1, 'befriended': 1, 'smashed': 1, 'repaint': 1, 'attached': 1, 'Fredrick': 1, 'wigs': 1, 'Chinese': 4, 'business': 1, 'vet': 1, 'join': 3, 'nice': 5, 'notorious': 1, 'grandparents': 1, 'metalsmithing': 1, 'travels': 1, 'Deschanel': 1, 'gather': 1, 'worrying': 1, 'draped': 1, 'laureate': 1, 'Parkland': 1, 'ashes': 1, 'study': 1, 'kindness': 1, 'camped': 1, 'everywhere': 2, 'Week': 2, 'Harington': 1, 'staring': 2, 'accountant': 1, 'Active': 1, 'paralyzedfrombirth': 1, 'bus': 2, 'previously': 1, 'Memorial': 1, 'overlords': 1, 'ago': 33, 'Clinton': 1, 'those': 2, 'Museum': 1, 'feeling': 1, 'recycled': 1, 'Dog': 2, 'trimmers': 1, 'polluting': 1, 'inner': 1, 'Beatles': 1, 'northern': 3, 'clear': 2, 'dismissed': 1, 'friend': 18, 'tickets': 1, 'reality': 2, 'screw': 1, 'adventures': 1, 'deaths': 1, 'parliament': 1, 'Been': 4, 'third': 1, 'Felt': 1, 'gorilla': 1, 'entire': 2, 'Varadkar': 1, 'guy': 20, 'one': 46, 'wasnt': 3, 'bagfull': 1, 'Scared': 1, 'fallow': 1, 'Ocean': 1, 'toys': 1, 'stitches': 1, 'Extremely': 1, 'gray': 1, 'Two': 4, 'bastard': 1, 'Costa': 1, 'bloated': 1, 'Your': 2, 'Portugal': 1, 'Heres': 7, 'Where': 1, 'Spread': 1, 'Denver': 1, 'cafeteria': 1, 'Arya': 1, 'university': 2, 'ICU': 3, 'ass': 1, 'skating': 1, 'play': 5, 'Queen': 2, 'headed': 1, 'Mountains': 2, 'mourn': 1, 'figure': 1, 'experience': 1, 'Flash': 1, 'raid': 1, 'original': 3, 'damn': 2, 'computer': 2, 'market': 1, 'all': 29, 'sometimes': 1, 'Transport': 1, 'follow': 1, 'Tesla': 3, 'problem': 1, 'basket': 1, 'Ugly': 1, 'Sea': 1, 'feeding': 1, 'sadly': 1, 'Youre': 1, 'lining': 1, 'sleeping': 1, 'Best': 6, 'marriage': 1, 'onto': 2, 'Gras': 1, 'hasnt': 4, 'Gate': 2, 'Pai': 1, 'coins': 2, 'accurately': 1, 'straight': 3, 'Rodney': 1, 'very': 7, 's': 4, 'crocfit': 1, 'passover': 1, 'ww': 1, 'Malagasy': 1, 'silhouette': 1, 'hell': 2, 'Multiple': 1, 'ObiWan': 1, 'Creation': 1, 'beach': 4, 'Department': 1, 'challenge': 5, 'hosting': 1, 'mom': 13, 'legs': 1, 'away': 5, 'Accidentally': 1, 'Wish': 3, 'Part': 1, 'into': 23, 'must': 3, 'hospitalized': 1, 'NYC': 1, 'about': 22, 'This': 110, 'Tasmania': 1, 'ropes': 1, 'prominent': 1, 'bought': 12, 'picker': 1, 'works': 1, 'AB': 1, 'remark': 1, 'jogger': 1, 'makeupfree': 1, 'within': 1, 'sailing': 1, 'Ignoring': 1, 'planet': 2, 'annual': 1, 'Ed': 1, 'true': 2, 'Nepal': 1, 'fires': 1, 'washed': 1, 'pounds': 3, 'recognition': 1, 'commit': 1, 'James': 1, 'cinematic': 1, 'dropped': 1, 'vs': 6, 'Medicine': 1, 'governor': 1, 'Western': 1, 'On': 5, 'opposition': 1, 'Fuji': 1, 'borrowing': 1, 'workstation': 1, 'backfires': 1, 'Reddit': 19, 'sleep': 3, 'George': 1, 'hard': 4, 'bunch': 1, 'Mosque': 1, 'seas': 1, 'mow': 2, 'finally': 17, 'glorious': 1, 'judge': 2, 'moon': 3, 'woods': 1, 'Once': 1, 'hereditary': 1, 'pleasant': 1, 'points': 1, 'guinea': 2, 'losing': 2, 'Thank': 6, 'snowman': 1, 'Bangalore': 1, 'Eye': 1, 'adopt': 1, 'rights': 2, 'activist': 2, 'other': 7, 'his': 95, 'sobbing': 1, 'sunrise': 3, 'gulf': 1, 'General': 1, 'successfully': 2, 'gigantic': 1, 'youre': 3, 'inside': 8, 'awesome': 4, 'tortoise': 2, 'gifts': 1, 'animal': 3, 'but': 23, 'iron': 1, 'Acting': 1, 'once': 3, 'Zoo': 1, 'Williams': 4, 'counted': 1, 'hunt': 1, 'building': 6, 'mother': 7, 'Brian': 1, 'degrees': 1, 'Applebees': 1, 'black': 5, 'firefighter': 1, 'fewer': 1, 'tough': 1, 'kgs': 1, 'being': 26, 'fight': 1, 'headache': 2, 'elephants': 1, 'OF': 1, 'NA': 1, 'skilled': 1, 'Survived': 2, 'am': 14, 'Olympics': 2, 'Saurons': 1, 'they': 33, 'From': 4, 'software': 1, 'Sarcoma': 1, 'They': 5, 'sick': 3, 'reaching': 1, 'thrones': 1, 'Reposting': 1, 'knife': 1, 'hours': 11, 'requires': 1, 'rite': 1, 'identified': 1, 'Tom': 1, 'destroy': 3, 'R': 1, 'crawl': 1, 'fucking': 2, 'gave': 14, 'land': 2, 'westside': 1, 'daughter': 17, 'senators': 1, 'KKK': 1, 'Guy': 2, 'certainly': 1, 'hats': 1, 'wiring': 1, 'stable': 1, 'Ringo': 2, 'closedoor': 1, 'badass': 3, 'elections': 1, 'quadriplegic': 1, 'E': 1, 'endangered': 1, 'usually': 1, 'gecko': 1, 'aloe': 1, 'therapist': 1, 'video': 2, 'Tonight': 1, 'apparently': 3, 'Cancer': 2, 'search': 1, 'plays': 1, 'celebrate': 2, 'story': 4, 'ground': 2, 'commitment': 1, 'roasted': 1, 'Irelands': 1, 'issue': 1, 'antiBrexit': 1, 'researchers': 1, 'started': 6, 'taking': 5, 'shares': 1, 'power': 1, 'Burglars': 1, 'Sally': 1, 'age': 3, 'ceremony': 3, 'round': 1, 'Willis': 1, 'describe': 1, 'Zermatt': 1, 'opened': 3, 'areas': 1, 'dies': 2, 'posing': 1, 'connected': 2, 'onstage': 1, 'actions': 1, 'hung': 1, 'PS': 1, 'hidden': 2, 'fighting': 8, 'refugee': 1, 'IV': 1, 'censorship': 1, 'mentions': 1, 'referendum': 1, 'SuperBowl': 1, 'generation': 1, 'Grandmothers': 1, 'Going': 2, 'after': 53, 'domain': 1, 'balconies': 1, 'semifamous': 1, 'pesos': 1, 'checking': 1, 'today': 54, 'received': 1, 'despite': 3, 'flag': 2, 'complete': 3, 'Nebraska': 1, 'RETURNED': 1, 'NFL': 1, 'milkshake': 1, 'tusks': 1, 'Christmas': 13, 'Jamaica': 1, 'Belgian': 1, 'camping': 1, 'opener': 1, 'lolipopshe': 1, 'country': 5, 'tuskers': 1, 'yesterday': 11, 'storm': 2, 'Leslie': 1, 'came': 5, 'exhaustion': 1, 'Mexico': 2, 'difficult': 1, 'offers': 1, 'share': 5, 'seeing': 1, 'neonatal': 1, 'Punishable': 1, 'Gloves': 1, 'lifetime': 3, 'grans': 1, 'Brazil': 1, 'total': 1, 'Aldrin': 1, 'sadness': 1, 'what': 29, 'Lois': 1, 'catching': 1, 'kill': 1, 'token': 1, 'investment': 1, 'own': 5, 'Granddaughter': 1, 'Progression': 1, 'apocalyptic': 1, 'reunited': 2, 'Clear': 1, 'speaker': 1, 'everything': 4, 'whole': 4, 'Man': 7, 'Turns': 1, 'guess': 1, 'op': 1, 'grandmas': 1, 'Paying': 1, 'Hudson': 1, 'Lumberton': 1, 'NASAs': 1, 'toured': 1, 'coyotes': 1, 'Fame': 1, 'huge': 2, 'silver': 1, 'Joe': 1, 'Three': 1, 'top': 4, 'president': 2, 'inspire': 1, 'Coraline': 1, 'randomly': 1, 'happier': 1, 'My': 109, 'confessed': 1, 'paraplegics': 1, 'Rings': 1, 'journey': 2, 'Water': 3, 'rejecting': 1, 'speed': 1, 'tonight': 8, 'trees': 2, 'View': 1, 'cardboard': 1, 'robes': 1, 'charity': 2, 'hospital': 8, 'Philippines': 1, 'when': 29, 'turned': 13}, {'There': 9, 'Evans': 1, 'Anxiety': 1, 'broke': 9, 'arent': 3, 'murder': 9, 'biologist': 1, 'followers': 1, 'Cornish': 1, 'imprisoned': 2, 'prize': 4, 'abuse': 2, 'deliberately': 4, 'safety': 2, 'breaths': 1, 'classify': 1, 'ridiculous': 1, 'getaway': 1, 'liters': 1, 'Arp': 1, 'outbreaks': 1, 'write': 10, 'FDA': 1, 'Stockholm': 1, 'lost': 14, 'got': 25, 'asleep': 1, 'island': 8, 'robot': 1, 'outdoor': 1, 'tower': 2, 'monthold': 1, 'Jujitso': 1, 'Sweden': 4, 'depressing': 1, 'principals': 1, 'Parks': 4, 'produced': 1, 'dangerous': 2, 'angles': 1, 'Spiders': 1, 'Jr': 2, 'quiet': 1, 'del': 1, 'hike': 2, 'wiped': 1, 'Park': 2, 'mammal': 2, 'club': 1, 'Wehrmacht': 1, 'Baron': 3, 'Lee': 5, 'chosen': 2, 'van': 2, 'Costco': 1, 'mistake': 3, 'Tokyo': 2, 'installed': 4, 'origins': 1, 'fee': 3, 'Heroin': 1, 'Amazing': 1, 'consumed': 2, 'voiceshallucinations': 1, 'powerful': 3, 'Psy': 1, 'taxdeductable': 1, 'exist': 3, 'burden': 1, 'didnt': 27, 'rulebook': 1, 'Socrates': 1, 'Sylvia': 1, 'poop': 3, 'Worm': 1, 'bottle': 2, 'lucky': 2, 'clause': 5, 'Howe': 1, 'itself': 1, 'addict': 1, 'developed': 2, 'creatures': 2, 'pointed': 3, 'standard': 2, 'action': 1, 'screen': 2, 'Rathbun': 1, 'visitors': 1, 'crew': 9, 'vertebra': 1, 'Cares': 1, 'school': 21, 'punch': 2, 'edible': 1, 'bullshit': 2, 'swallowed': 1, 'its': 52, 'including': 8, 'dollar': 1, 'reformed': 1, 'Lion': 2, 'hastened': 2, 'harder': 1, 'orgy': 1, 'natural': 8, 'tour': 1, 'feel': 2, 'Flea': 1, 'tools': 2, 'disks': 1, 'dynasty': 1, 'misleading': 1, 'putting': 3, 'warm': 1, 'perfect': 2, 'degenerate': 1, 'caring': 1, 'bananas': 1, 'Honor': 2, 'smiled': 1, 'measure': 2, 'awaken': 1, 'Marcia': 2, 'autistic': 1, 'Lewis': 2, 'election': 3, 'Ghirardelli': 1, 'edge': 1, 'moved': 6, 'vanishedwhich': 1, 'whiskey': 2, 'Ukraine': 1, 'sheriff': 1, 'cigarette': 3, 'Citizens': 1, 'cure': 2, 'populations': 3, 'Dalmatians': 1, 'opium': 1, 'Endals': 1, 'comeback': 1, 'monarch': 1, 'Ann': 1, 'earplugs': 1, 'afterward': 1, 'legal': 6, 'falsify': 1, 'pints': 1, 'dryer': 1, 'along': 6, 'abolition': 1, 'youve': 1, 'brownsmiths': 1, 'dying': 6, 'diver': 1, 'differences': 1, 'Beers': 1, 'built': 8, 'town': 20, 'donated': 7, 'Perform': 1, 'Services': 1, 'helium': 1, 'jokingly': 1, 'authorities': 3, 'botany': 1, 'virginity': 1, 'Pokémon': 1, 'Mediterranean': 1, 'Arabias': 1, 'Goodies': 1, 'rescued': 1, 'Toy': 2, 'thagomizer': 1, 'on': 253, 'reduction': 1, 'chapter': 1, 'resume': 2, 'competitor': 2, 'Dan': 2, 'Penn': 1, 'honestly': 1, 'pops': 1, 'partially': 1, 'State': 1, 'minute': 5, 'TripAdvisor': 1, 'numerous': 3, 'Pauls': 1, 'Lie': 1, 'duped': 1, 'almost': 11, 'dirty': 2, 'signs': 3, 'berated': 1, 'brownies': 2, 'begins': 2, 'spiders': 1, 'addicted': 2, 'sanitary': 1, 'Half': 1, 'bricks': 1, 'use': 28, 'Cross': 1, 'Melinda': 1, 'attracted': 1, 'disfiguring': 1, 'tendency': 1, 'Morgan': 1, 'tab': 1, 'observatory': 1, 'shook': 2, 'incinerated': 1, 'agent': 3, 'shut': 2, 'monologue': 1, 'forgot': 1, 'Tull': 1, 'teacher': 4, 'strict': 2, 'AG': 1, 'shepherd': 1, 'childs': 1, 'artistic': 1, 'highprofile': 1, 'piece': 1, 'hedgehogs': 2, 'donut': 1, 'non': 1, 'dreadful': 1, 'School': 2, 'Jólabókaflóð': 1, 'wifes': 1, 'Shepard': 1, 'grounded': 1, 'isotopes': 2, 'Bart': 1, 'Devito': 1, 'meant': 5, 'Jane': 1, 'Goop': 1, 'illness': 4, 'filled': 5, 'falling': 1, 'terms': 1, 'townspeople': 1, 'management': 2, 'superiority': 1, 'alone': 3, 'reporters': 2, 'Morocco': 2, 'guitar': 2, 'Hurks': 1, 'avid': 1, 'Guiness': 1, 'prison': 14, 'dry': 1, 'exact': 1, 'Showbiz': 2, 'teach': 4, 'quarter': 1, 'Spiderman': 1, 'Aryan': 1, 'sins': 3, 'Chamillionaire': 1, 'cement': 1, 'springs': 1, 'woman': 20, 'River': 2, 'insurgents': 1, 'Nicholson': 1, 'screening': 1, 'potty': 1, 'seeks': 1, 'edges': 1, 'sales': 2, 'vitaminwater': 1, 'Chuck': 5, 'entirely': 2, 'big': 7, 'unimpeded': 1, 'allowed': 14, 'moments': 3, 'die': 10, 'brother': 6, 'opens': 1, 'Mercury': 3, 'Vietnam': 3, 'going': 10, 'etc': 3, 'eat': 7, 'retailer': 1, 'Steven': 5, 'reframe': 1, 'Oyster': 1, 'intentionally': 4, 'Dr': 5, 'male': 4, 'aerial': 1, 'Francis': 1, 'Instead': 7, 'Tropic': 1, 'earn': 1, 'german': 1, 'debris': 1, 'Hot': 1, 'bluebird': 2, 'Glenn': 1, 'Becker': 1, 'upon': 7, 'workplace': 1, 'might': 1, 'Twitter': 2, 'J': 3, 'resulting': 3, 'Hamill': 2, 'skull': 4, 'mixing': 1, 'Outside': 1, 'riding': 1, 'fund': 4, 'auction': 2, 'automatically': 1, 'metropolitan': 1, 'fix': 3, 'hummed': 1, 'cry': 1, 'holiday': 1, 'two': 34, 'suffering': 1, 'apartments': 2, 'a': 1213, 'press': 3, 'Civil': 4, 'mentally': 1, 'last': 20, 'Homer': 1, 'QuillStarLord': 1, 'Switzerland': 2, 'kissed': 1, 'towards': 1, 'vocalist': 1, 'debt': 3, 'lesser': 1, 'employment': 1, 'In': 70, 'harsher': 1, 'rap': 2, 'march': 1, 'abstract': 1, 'sorely': 1, 'street': 6, 'Cassius': 1, 'leftovers': 1, 'nothing': 3, 'Force': 1, 'door': 9, 'direction': 1, 'Isnt': 1, 'cigarettes': 2, 'wins': 1, 'fought': 1, 'warnings': 1, 'useful': 1, 'doctor': 2, 'gaining': 1, 'Unlike': 1, 'Kennedy': 3, 'Hawke': 1, 'bird': 3, 'Bros': 2, 'clay': 1, 'additional': 1, 'truly': 1, 'faster': 1, 'secretly': 2, 'Confederates': 1, 'former': 11, 'Ermey': 1, 'CIA': 1, 'Selman': 1, 'logo': 1, 'Bill': 16, 'Squarepants': 1, 'stealthily': 1, 'Taylor': 2, 'Pope': 2, 'birth': 4, 'healthier': 1, 'bc': 1, 'Derek': 1, 'rooms': 1, 'now': 22, 'procedure': 1, 'drunkand': 1, 'MRI': 1, 'backyard': 1, 'assumed': 2, 'respectively': 1, 'evacuate': 2, 'cabs': 1, 'Chattahoochee': 1, 'Argarkov': 1, 'shops': 3, 'Obsession': 1, 'window': 3, 'monk': 2, 'proved': 3, 'coined': 1, 'queue': 1, 'attacked': 2, 'pipeline': 1, 'an': 201, 'President': 16, 'organisation': 1, 'engineer': 1, 'Recreation': 2, 'donuts': 2, 'Big': 3, 'wound': 2, 'interwar': 1, 'Exit': 1, 'hid': 1, 'charitable': 4, 'routine': 1, 'Dutch': 2, 'ads': 1, 'Cheryl': 2, 'Matrix': 2, 'identical': 3, 'campaigning': 1, 'suffrage': 1, 'Holmes': 2, 'employ': 3, 'grave': 2, 'moonlight': 1, 'modern': 4, 'Vitaminwater': 1, 'summer': 2, 'shorten': 1, 'slot': 1, 'disclaimer': 1, 'astronomy': 1, 'seventhcentury': 1, 'idea': 11, 'repetition': 1, 'exam': 3, 'Today': 3, 'egglaying': 1, 'Theodore': 3, 'applause': 1, 'generate': 3, 'sum': 1, 'torture': 1, 'throne': 2, 'bored': 2, 'naturally': 1, 'brilliant': 2, 'objects': 1, 'studies': 1, 'Lords': 1, 'Typhus': 1, 'Puma': 1, 'critically': 1, 'emergency': 3, 'tons': 2, 'testing': 2, 'looking': 7, 'urinate': 1, 'clothed': 1, 'communities': 2, 'centers': 4, 'passage': 1, 'sworn': 1, 'reference': 1, 'Faster': 1, 'Riddles': 1, 'music': 13, 'Swedes': 1, 'stating': 3, 'bears': 3, 'details': 1, 'Music': 2, 'nosed': 1, 'Geriatric': 1, 'impact': 2, 'images': 1, 'bias': 1, 'Rice': 1, 'flushed': 2, 'many': 18, 'remedy': 1, 'keeping': 3, 'venom': 6, 'insurance': 1, 'Circleville': 1, 'denying': 1, 'chambers': 1, 'return': 7, 'unable': 4, 'author': 5, 'deluge': 1, 'penguin': 2, 'tin': 1, 'completing': 2, 'insulin': 1, 'slaves': 4, 'scored': 4, 'size': 6, 'Whiskey': 2, 'Over': 4, 'Lord': 6, 'WarGames': 1, 'do': 28, 'store': 3, 'static': 1, 'Varaha': 1, 'jet': 1, 'clunky': 1, 'rd': 3, 'Donahue': 1, 'Oklahomas': 1, 'dining': 1, 'letters': 6, 'cartridges': 2, 'bills': 2, 'because': 88, 'Mad': 1, 'handlers': 1, 'sit': 4, 'palate': 1, 'snowy': 1, 'breed': 1, 'reserve': 1, 'womb': 2, 'dipsticks': 1, 'casino': 1, 'diocese': 1, 'efforts': 2, 'me': 6, 'construction': 2, 'spikes': 3, 'Film': 2, 'Abraham': 2, 'Tyrus': 1, 'Polish': 4, 'AI': 1, 'Electronic': 1, 'Tysons': 1, 'culture': 3, 'waterlogged': 1, 'bribes': 1, 'delivered': 2, 'Wheeler': 1, 'snow': 3, 'weight': 3, 'camp': 6, 'Goldberg': 1, 'history': 9, 'piss': 1, 'Vietnamese': 2, 'PhD': 3, 'Revolution': 1, 'athletes': 2, 'Queens': 1, 'dimly': 1, 'blasphemy': 1, 'owner': 18, 'symptoms': 1, 'Worst': 2, 'barely': 2, 'Wonka': 2, 'heist': 1, 'activism': 1, 'Thrones': 2, 'months': 19, 'kilograms': 1, 'Cashs': 1, 'Underground': 2, 'musical': 2, 'running': 10, 'pretending': 1, 'except': 3, 'grand': 1, 'package': 1, 'Tigers': 1, 'hope': 2, 'lottery': 7, 'classic': 1, 'enact': 1, 'alterego': 1, 'Frances': 1, 'ones': 6, 'funeral': 5, 'windshield': 1, 'verge': 2, 'Tommy': 1, 'fell': 4, 'Lines': 1, 'requiring': 1, 'customers': 10, 'thoroughbred': 1, 'Fox': 2, 'Uber': 5, 'billboard': 1, 'photocopy': 1, 'Gaga': 2, 'distorting': 1, 'allow': 6, 'donation': 2, 'Kat': 1, 'statesman': 1, 'branch': 1, 'split': 3, 'floppy': 1, 'volunteer': 3, 'alleviate': 1, 'hypnosis': 1, 'sixpack': 1, 'viewers': 4, 'Foe': 1, 'detect': 1, 'culturally': 1, 'Joint': 1, 'equivalent': 2, 'Samuel': 1, 'chased': 1, 'confession': 1, 'Juliana': 2, 'Americans': 6, 'advertising': 3, 'female': 12, 'case': 4, 'aboard': 1, 'possible': 5, 'overdue': 2, 'items': 2, 'trains': 1, 'any': 32, 'Not': 3, 'sailors': 3, 'prolonged': 3, 'updates': 1, 'Tiffany': 1, 'place': 9, 'Dale': 1, 'Sears': 5, 'Peppers': 1, 'occupation': 1, 'animated': 2, 'jets': 1, 'knocked': 2, 'premature': 1, 'Sandler': 2, 'educational': 3, 'Samsung': 5, 'morally': 1, 'doing': 6, 'harmless': 2, 'Appleseed': 1, 'Pornhub': 2, 'scholarship': 3, 'ramp': 1, 'behind': 6, 'managed': 6, 'youngest': 2, 'targets': 1, 'frequency': 1, 'cant': 5, 'politician': 1, 'FOX': 1, 'Canadas': 1, 'Greg': 1, 'imperialistic': 1, 'Hemingway': 2, 'algorithms': 1, 'Murder': 1, 'Arts': 1, 'Minneapolis': 1, 'serum': 1, 'treated': 1, 'wagon': 1, 'states': 4, 'rumor': 4, 'popular': 7, 'equation': 1, 'series': 3, 'monument': 1, 'Truman': 4, 'October': 3, 'Koreas': 1, 'nicknamed': 1, 'Humans': 1, 'worried': 3, 'Stadium': 2, 'sections': 1, 'enduring': 1, 'throughout': 4, 'prohibition': 1, 'manipulate': 1, 'Denzel': 1, 'ketoacidosis': 1, 'cover': 4, 'challenging': 1, 'Carlsberg': 1, 'party': 13, 'payment': 2, 'cocaine': 4, 'capped': 2, 'forestcovered': 1, 'Coke': 1, 'Hopkins': 2, 'stage': 1, 'Redskins': 1, 'auctioneer': 1, 'cakes': 1, 'reworking': 1, 'ages': 2, 'symphony': 1, 'interacting': 1, 'terrible': 3, 'graffiti': 1, 'bamboo': 2, 'humming': 1, 'roads': 1, 'OReilly': 1, 'Tajne': 1, 'East': 1, 'financially': 1, 'roar': 1, 'overshadowed': 1, 'requested': 4, 'players': 6, 'relief': 1, 'era': 1, 'NBA': 5, 'thief': 4, 'reactors': 2, 'remained': 3, 'universal': 2, 'bootlegging': 1, 'whom': 3, 'faith': 1, 'shelter': 1, 'foster': 1, 'smelling': 1, 'forward': 1, 'Citrate': 1, 'homies': 1, 'eight': 2, 'fascists': 1, 'Waynes': 2, 'nextdoor': 1, 'recovery': 1, 'opportunity': 1, 'Keanu': 4, 'adult': 6, 'Marriott': 1, 'poke': 1, 'bragging': 1, 'hymn': 1, 'handrail': 1, 'heed': 1, 'worth': 16, 'homeowners': 1, 'rival': 3, 'peeing': 1, 'push': 2, 'penguins': 1, 'Agnostic': 1, 'rebrand': 1, 'Odin': 2, 'created': 18, 'significantly': 2, 'Rogue': 2, 'youtube': 2, 'men': 13, 'performer': 1, 'invade': 1, 'scapegoat': 1, 'protection': 6, 'Military': 4, 'practices': 2, 'Are': 1, 'zoo': 1, 'Equifax': 1, 'independently': 1, 'Tubbs': 1, 'order': 20, 'take': 21, 'Wicked': 2, 'offence': 1, 'organs': 1, 'Unix': 1, 'M': 6, 'translated': 2, 'schizophrenia': 2, 'preferred': 1, 'Williamina': 1, 'incharacter': 1, 'FUCKING': 1, 'spoiled': 1, 'astronauts': 1, 'creators': 2, 'traveling': 2, 'broadcasts': 1, 'RB': 1, 'tiebreaker': 1, 'KungFu': 1, 'thing': 7, 'factors': 1, 'lots': 3, 'String': 1, 'satisfied': 1, 'wrecks': 1, 'mental': 3, 'or': 61, 'smuggler': 1, 'Mongolian': 1, 'evict': 1, 'Clarks': 1, 'controllers': 3, 'Mac': 1, 'clothes': 5, 'kmh': 2, 'Burns': 1, 'list': 6, 'Francisco': 6, 'manufacturers': 3, 'Geo': 1, 'Guardians': 1, 'wrong': 2, 'snorted': 1, 'painter': 1, 'rode': 2, 'Curie': 1, 'purchaser': 1, 'mouse': 5, 'ever': 21, 'toilet': 1, 'complex': 1, 'bury': 2, 'gun': 5, 'intimate': 1, 'Kieper': 1, 'Kuhnhausen': 1, 'manmade': 1, 'fine': 2, 'may': 4, 'Plebeians': 1, 'Apples': 1, 'Gandhi': 1, 'experiment': 3, 'Lick': 1, 'promote': 2, 'flock': 1, 'notable': 1, 'recruited': 1, 'Wars': 8, 'academic': 1, 'interior': 1, 'Netherlands': 3, 'motorists': 1, 'mimic': 2, 'Seeking': 1, 'eyesight': 1, 'snack': 1, 'havent': 1, 'seven': 2, 'tanned': 1, 'supported': 1, 'paint': 3, 'student': 8, 'opposite': 1, 'Newtons': 1, 'mercy': 1, 'yelled': 1, 'dome': 2, 'simple': 1, 'distracted': 1, 'captain': 1, 'Jauregg': 2, 'Christoper': 1, 'claim': 3, 'hopes': 3, 'enemies': 2, 'disappeared': 1, 'words': 14, 'dab': 1, 'candidate': 1, 'Judgment': 1, 'else': 2, 'Englands': 1, 'Mavericks': 1, 'insomnia': 1, 'constantly': 1, 'who': 144, 'Sinatras': 1, 'eclipse': 2, 'Theo': 1, 'heroin': 1, 'sequence': 2, 'stimulus': 1, 'cheek': 1, 'occured': 1, 'SixStar': 1, 'placard': 1, 'unconscious': 1, 'onehanded': 1, '⅕th': 1, 'Third': 1, 'irony': 1, 'Hawaiian': 2, 'Nirvana': 1, 'Zurich': 1, 'textbooks': 1, 'deceptive': 2, 'propelled': 1, 'Dictionary': 1, 'Poll': 2, 'painted': 2, 'like': 34, 'illiterate': 3, 'directors': 2, 'her': 129, 'buzzing': 2, 'doctors': 3, 'nights': 1, 'fined': 3, 'highest': 7, 'Ultron': 1, 'attacks': 2, 'composers': 1, 'Stole': 1, 'Hitler': 6, 'worked': 11, 'Gilligans': 1, 'movement': 3, 'flapping': 1, 'hear': 4, 'my': 13, 'converted': 1, 'fences': 1, 'here': 2, 'MORE': 2, 'Muhammad': 1, 'quickrelease': 1, 'wood': 1, 'quietest': 1, 'raced': 1, 'Jackson': 9, 'collection': 3, 'section': 1, 'genuine': 1, 'cup': 3, 'culinary': 1, 'mentor': 1, 'further': 1, 'disprove': 1, 'treating': 1, 'Skywalker': 2, 'kiss': 1, 'agree': 1, 'Masters': 1, 'TCs': 1, 'Antarticas': 1, 'compromise': 1, 'sevenyearold': 1, 'implied': 1, 'documentary': 2, 'memorise': 1, 'public': 11, 'kidney': 4, 'closely': 1, 'canine': 1, 'televised': 1, 'mocked': 2, 'pinpoint': 1, 'Didnt': 1, 'mistreating': 1, 'FAA': 1, 'confined': 1, 'banks': 1, 'office': 3, 'Allies': 1, 'Wii': 3, 'Whenever': 1, 'comic': 5, 'accuracy': 2, 'tonnes': 2, 'Parton': 1, 'Bland': 1, 'foundations': 1, 'GameStation': 1, 'whod': 1, 'chewing': 1, 'ten': 1, 'A': 46, 'useless': 1, 'Archer': 1, 'final': 10, 'socialize': 1, 'akin': 1, 'birds': 4, 'mill': 2, 'colonys': 1, 'wouldbehitman': 1, 'rename': 1, 'Goldeneye': 1, 'names': 1, 'tutor': 1, 'Pole': 1, 'picking': 2, 'deck': 4, 'track': 2, 'taken': 8, 'cubes': 1, 'ATT': 2, 'corgis': 1, 'Herbert': 1, 'digits': 1, 'gratitude': 1, 'that': 651, 'Nerdy': 1, 'is': 198, 'influenced': 1, 'Dock': 1, 'Panda': 3, 'slower': 1, 'aim': 2, 'Lulu': 1, 'Portuguese': 1, 'SEAL': 1, 'electricity': 2, 'transplant': 3, 'Ossip': 1, 'recipients': 2, 'yelling': 1, 'environmentalist': 1, 'speeds': 1, 'selfdeprecating': 1, 'reader': 1, 'Every': 2, 'communications': 2, 'pursue': 1, 'cheques': 1, 'enclosure': 2, 'shows': 8, 'Grinch': 2, 'alcoholism': 1, 'promising': 1, 'Baltimore': 2, 'MIT': 2, 'Congress': 4, 'less': 7, 'punishable': 1, 'Bridge': 3, 'denied': 2, 'solved': 4, 'boat': 3, 'Alive': 1, 'violet': 1, 'guards': 1, 'custom': 1, 'appraised': 1, 'distinct': 2, 'commitee': 1, 'status': 2, 'famous': 8, 'Buffalo': 2, 'Spielbergs': 1, 'Halloween': 2, 'emotional': 1, 'Schubert': 1, 'GDP': 1, 'replacement': 2, 'trademark': 2, 'hurt': 1, 'Ronaldo': 2, 'strongly': 1, 'yr': 1, 'date': 2, 'Retard': 1, 'troops': 1, 'paruresis': 1, 'abolitionist': 2, 'continuously': 4, 'defied': 2, 'rocks': 4, 'box': 4, 'functioning': 4, 'prescription': 1, 'escaped': 6, 'Hardness': 1, 'Chilean': 1, 'helping': 1, 'launch': 3, 'hanging': 1, 'trademarked': 2, 'brain': 6, 'metabolic': 1, 'averaging': 1, 'specifically': 2, 'bullying': 1, 'separated': 1, 'Looney': 1, 'Lees': 1, 'Essex': 1, 'made': 49, 'vaulters': 1, 'horns': 1, 'charges': 2, 'Dolly': 1, 'Kingdom': 2, 'conserve': 1, 'buying': 5, 'slowly': 1, 'absurdities': 1, 'Bush': 2, 'down': 38, 'Grohl': 1, 'finding': 2, 'Scots': 1, 'Chicken': 1, 'mph': 1, 'hitting': 1, 'husband': 7, 'Ninth': 1, 'giant': 5, 'infection': 1, 'meals': 3, 'SpongeBob': 1, 'Bapuro': 1, 'speaking': 6, 'before': 44, 'Phantom': 1, 'ugly': 3, 'wronged': 1, 'burns': 2, 'scare': 1, 'Sasha': 1, 'speeches': 1, 'nutrient': 1, 'pushed': 3, 'hospitalised': 1, 'Before': 1, 'victors': 1, 'If': 9, 'visual': 2, 'sprouted': 1, 'Deliverance': 1, 'ultraviolet': 1, 'babysitting': 1, 'horn': 1, 'epidemic': 2, 'packets': 1, 'contribution': 1, 'Simeon': 2, 'Female': 1, 'electrial': 1, 'fucked': 1, 'poisoned': 1, 'Jerry': 1, 'whale': 1, 'goat': 2, 'parody': 9, 'point': 9, 'adoption': 2, 'painkillers': 1, 'nowhere': 1, 'badger': 2, 'Sinise': 1, 'match': 3, 'SR': 1, 'arcade': 1, 'Right': 1, 'Sikh': 1, 'mystery': 2, 'recovering': 1, 'insult': 1, 'Paper': 1, 'group': 11, 'locations': 1, 'dedicated': 2, 'torment': 1, 'annihilation': 1, 'Fender': 1, 'Gandalfthe': 1, 'Kemper': 1, 'Calvin': 4, 'contractually': 1, 'yo': 1, 'purity': 1, 'summoned': 1, 'Brasi': 1, 'cotton': 1, 'Carrey': 1, 'Dolphin': 1, 'patron': 1, 'retrieved': 1, 'malariainfected': 1, 'Our': 1, 'oxygen': 1, 'sister': 2, 'Bulgaria': 2, 'Boseman': 1, 'Julias': 1, 'giggle': 1, 'Detectorists': 1, 'selling': 10, 'Mom': 1, 'suffers': 1, 'setting': 1, 'tenants': 1, 'Wick': 1, 'Divine': 1, 'whence': 1, 'tip': 2, 'Keurig': 1, 'copycat': 1, 'leader': 4, 'Yes': 1, 'Judit': 1, 'went': 38, 'CBS': 2, 'civilian': 1, 'waiting': 5, 'Super': 4, 'pedestrians': 1, 'feathers': 1, 'it': 251, 'during': 42, 'absolute': 1, 'parking': 2, 'Milano': 2, 'readers': 2, 'approx': 2, 'Guerre': 1, 'fur': 2, 'temples': 1, 'mention': 1, 'Twins': 1, 'Taliban': 2, 'rates': 1, 'want': 10, 'elite': 2, 'filming': 14, 'Douglas': 1, 'close': 6, 'distinction': 1, 'Delta': 1, 'inbox': 1, 'noted': 1, 'scene': 5, 'book': 10, 'side': 7, 'weekends': 1, 'psychic': 1, 'Roses': 2, 'cocreated': 1, 'Wright': 1, 'Viggo': 3, 'ambush': 1, 'partners': 1, 'Rolex': 3, 'fender': 1, 'freshman': 1, 'therapy': 1, 'paleontology': 1, 'which': 71, 'license': 4, 'consumers': 1, 'shoppers': 2, 'Olympic': 2, 'badgers': 2, 'medals': 1, 'Modern': 1, 'Thus': 1, 'extreme': 2, 'Shell': 1, 'bacterial': 1, 'patient': 1, 'strangled': 1, 'AND': 1, 'awareness': 2, 'lbs': 5, 'destruction': 1, 'caves': 1, 'survivor': 5, 'Scarecrows': 1, 'trout': 1, 'dealer': 2, 'entertainment': 2, 'Collection': 1, 'cab': 1, 'NESTLE': 1, 'looked': 6, 'rules': 2, 'Ohio': 2, 'song': 23, 'walking': 1, 'raided': 2, 'fall': 4, 'Jethro': 1, 'Manchester': 1, 'easily': 2, 'finish': 1, 'Can': 2, 'Stark': 1, 'ruling': 1, 'Now': 2, 'Stefani': 1, 'Likely': 1, 'oncoming': 1, 'refueled': 1, 'theres': 6, 'assisting': 1, 'bundled': 1, 'motioncapture': 1, 'escorting': 1, 'Bryan': 1, 'yrold': 1, 'audiences': 1, 'exceeded': 1, 'drowned': 1, 'colonoscopies': 1, 'myth': 2, 'shared': 2, 'ionine': 1, 'trash': 3, 'analogy': 1, 'Albuquerque': 2, 'vegetarian': 4, 'chip': 3, 'reached': 2, 'searches': 1, 'communist': 1, 'Minesweeper': 2, 'man': 57, 'mission': 5, 'soccer': 2, 'reactionary': 1, 'apprehended': 2, 'false': 1, 'farmers': 8, 'Rhodes': 1, 'Refusing': 1, 'heard': 11, 'workout': 1, 'ratified': 2, 'passed': 10, 'health': 6, 'gloves': 1, 'goverment': 1, 'Study': 1, 'Harriet': 2, 'cognitive': 2, 'score': 1, 'CALL': 1, 'deliver': 2, 'compiling': 2, 'airing': 2, 'ride': 3, 'climbs': 1, 'skin': 7, 'German': 15, 'lowered': 2, 'Paranormal': 1, 'historically': 2, 'assistance': 1, 'hawaii': 1, 'Physics': 2, 'Stupid': 1, 'Danish': 2, 'ukelele': 1, 'helpful': 1, 'acts': 3, 'Planck': 2, 'buyer': 2, 'rate': 8, 'social': 2, 'screaming': 1, 'Toby': 1, 'Joker': 1, 'guard': 2, 'Sims': 1, 'located': 3, 'Bubbles': 1, 'Recovery': 1, 'weapon': 2, 'preservation': 1, 'disease': 6, 'Endal': 2, 'lights': 4, 'noting': 1, 'drill': 1, 'Stallings': 2, 'needs': 1, 'actress': 3, 'Story': 2, 'rein': 1, 'complaints': 2, 'fossilized': 1, 'household': 1, 'Dunagan': 1, 'ask': 2, 'Led': 1, 'meticulous': 1, 'woody': 1, 'professionally': 1, 'soup': 3, 'drinks': 2, 'puffins': 1, 'least': 8, 'Dont': 3, 'spine': 1, 'Observatory': 1, 'conductor': 2, 'hire': 4, 'checks': 2, 'weapons': 2, 'Anyway': 1, 'secured': 1, 'abandoned': 1, 'Brown': 2, 'Matilda': 1, 'introduction': 1, 'biological': 1, 'forget': 1, 'Peru': 2, 'Magazine': 1, 'concentration': 2, 'symbolic': 1, 'migration': 1, 'keep': 9, 'JRR': 1, 'speechless': 1, 'primarily': 1, 'prejudice': 1, 'Lieberstein': 1, 'homecoming': 1, 'Golden': 3, 'O': 1, 'Old': 1, 'difficulties': 2, 'Bolshevik': 1, 'frame': 2, 'Arizonas': 1, 'crater': 1, 'orgone': 1, 'Apparently': 1, 'shifted': 1, 'May': 1, 'saxophone': 1, 'hed': 5, 'career': 13, 'Louis': 5, 'informing': 1, 'path': 1, 'joyride': 1, 'mate': 2, 'Jacksons': 4, 'Sanjay': 1, 'Bowling': 1, 'drag': 1, 'Monoxide': 1, 'elderly': 3, 'tribute': 1, 'surgeons': 1, 'thus': 5, 'shun': 1, 'old': 28, 'Ben': 4, 'Neeson': 3, 'believing': 1, 'Terminator': 1, 'backpedalled': 1, 'calling': 9, 'extinct': 4, 'Jones': 1, 'chose': 2, 'meatballs': 1, 'upset': 1, 'way': 12, 'allmale': 1, 'rock': 2, 'Consumerist': 1, 'risking': 1, 'criteria': 1, 'Liberation': 1, 'Popes': 2, 'concepts': 1, 'vanish': 1, 'chest': 1, 'warden': 2, 'theories': 1, 'toxins': 1, 'dig': 1, 'True': 1, 'bishopric': 1, 'Carp': 1, 'branches': 1, 'Pun': 1, 'screenings': 1, 'child': 19, 'blow': 1, 'Forbes': 1, 'exposed': 2, 'production': 2, 'chess': 5, 'exceed': 1, 'oldest': 4, 'Godfather': 3, 'Review': 1, 'youll': 1, 'explosion': 1, 'likenesses': 1, 'contact': 3, 'game': 14, 'John': 18, 'Universal': 1, 'invention': 2, 'Ryan': 4, 'confectioners': 1, 'agency': 1, 'your': 20, 'Indian': 4, 'prep': 1, 'Garth': 1, 'F': 1, 'nail': 2, 'contradicting': 1, 'whereas': 1, 'intercepted': 1, 'issues': 2, 'sufferers': 1, 'founded': 4, 'Lannister': 1, 'soft': 1, 'theologian': 1, 'Gates': 8, 'blade': 1, 'invites': 1, 'had': 140, 'fundamentals': 1, 'buffalo': 2, 'worksShe': 1, 'adds': 1, 'sounds': 2, 'spots': 1, 'slave': 7, 'Replacements': 1, 'pattern': 1, 'spot': 4, 'spend': 1, 'auctioned': 2, 'switched': 3, 'Wall': 4, 'costumes': 1, 'swapped': 1, 'Grammy': 3, 'service': 14, 'richest': 1, 'specifying': 1, 'All': 10, 'allblack': 2, 'dollarydoo': 1, 'volunteered': 1, 'just': 31, 'Philip': 3, 'nest': 1, 'our': 6, 'research': 4, 'dole': 1, 'WHO': 1, 'Wheel': 1, 'signal': 3, 'Simpson': 1, 'accelerates': 1, 'Einstein': 4, 'Coppola': 1, 'beaten': 3, 'Koenig': 1, 'Dad': 1, 'climb': 1, 'transpired': 1, 'Castle': 1, 'Hertz': 1, 'Bar': 3, 'Rowling': 1, 'permits': 1, 'folk': 1, 'halloffamer': 1, 'skeleton': 2, 'Vision': 1, 'news': 2, 'Caroline': 1, 'populated': 3, 'Pearl': 1, 'says': 3, 'Asperger': 1, 'ASDL': 1, 'Greenville': 1, 'masseurs': 1, 'affix': 1, 'bid': 2, 'airplane': 3, 'Chad': 1, 'flesh': 1, 'interviews': 1, 'Laughing': 1, 'touch': 2, 'Homepage': 1, 'Center': 2, 'pregnancy': 2, 'testicles': 1, 'Lowes': 1, 'plant': 6, 'radio': 4, 'shower': 1, 'endured': 1, 'Minnesota': 4, 'repair': 3, 'Kong': 3, 'invented': 6, 'Schizophrenias': 1, 'warning': 3, 'Spirit': 3, 'alcoholic': 1, 'T': 3, 'Catwoman': 1, 'Neanderthal': 1, 'foods': 1, 'Genesis': 1, 'Nov': 1, 'Colombo': 1, 'dye': 1, 'obsolescence': 1, 'lived': 9, 'peace': 2, 'EULA': 1, 'Whitmans': 1, 'effects': 1, 'proportion': 1, 'pants': 1, 'syndrome': 1, 'competition': 2, 'donations': 1, 'distress': 1, 'Diana': 2, 'doping': 2, 'murdering': 1, 'Xerox': 1, 'grandmother': 3, 'Activity': 1, 'deprivation': 2, 'stand': 2, 'enough': 12, 'receiver': 1, 'competent': 1, 'gunshots': 1, 'bullied': 4, 'gridlock': 1, 'Company': 3, 'iconic': 1, 'instructor': 1, 'labs': 1, 'Emperors': 1, 'responded': 5, 'traffic': 5, 'fond': 1, 'nugget': 1, 'halfsilver': 1, 'compensate': 1, 'Fischer': 2, 'repealed': 1, 'real': 16, 'Jaywalking': 1, 'AIDs': 1, 'Having': 2, 'ChunkyLover': 1, 'cheaper': 1, 'character': 14, 'keeps': 1, 'visited': 9, 'atomic': 1, 'Sittin': 1, 'injury': 1, 'lion': 2, 'makeup': 3, 'Disease': 1, 'dental': 1, 'guitarist': 1, 'replace': 3, 'Ever': 1, 'location': 3, 'recommendation': 2, 'fraternity': 1, 'Taipan': 1, 'finest': 1, 'discovery': 1, 'Bolt': 3, 'Angelina': 1, 'coiled': 1, 'spared': 1, 'helicopter': 1, 'wires': 1, 'Congressman': 2, 'no': 58, 'rideshare': 1, 'them': 106, 'Barnum': 1, 'occasion': 1, 'escaping': 1, 'previous': 1, 'someone': 13, 'shivers': 1, 'worldclass': 1, 'letting': 3, 'Shark': 1, 'successful': 6, 'thousands': 4, 'windmill': 2, 'preform': 1, 'Uncle': 1, 'DiCaprio': 1, 'rolled': 1, 'KSO': 1, 'comment': 1, 'sentenced': 4, 'issued': 4, 'Less': 1, 'starve': 1, 'iPhone': 1, 'expert': 1, 'Economists': 1, 'abandon': 2, 'rescuers': 1, 'himself': 18, 'calendar': 2, 'Angeles': 1, 'antisemitism': 1, 'notion': 1, 'crop': 2, 'leukemia': 1, 'died': 24, 'tumor': 1, 'wore': 4, 'telegram': 2, 'discount': 1, 'poachers': 1, 'margins': 1, 'Liviu': 1, 'credits': 1, 'dive': 1, 'martial': 1, 'Bobs': 1, 'detained': 3, 'marketed': 2, 'paramedics': 1, 'goes': 2, 'Chadwick': 2, 'particle': 1, 'ace': 1, 'disliked': 2, 'animator': 1, 'rings': 3, 'at': 157, 'smoke': 3, 'thieves': 1, 'corn': 1, 'Station': 1, 'Sunday': 1, 'Giant': 2, 'garbage': 1, 'Rob': 1, 'inhalation': 1, 'Burial': 1, 'theory': 3, 'cats': 2, 'god': 2, 'project': 5, 'Kelly': 1, 'creating': 3, 'Doing': 1, 'Pilecki': 1, 'AOL': 1, 'continuous': 1, 'adjusting': 1, 'screenwriter': 1, 'constipation': 1, 'pinned': 1, 'Australian': 7, 'Valium': 1, 'disappearing': 1, 'theyre': 2, 'trilogy': 2, 'complained': 2, 'albino': 2, 'Saving': 1, 'minor': 1, 'choke': 1, 'officials': 1, 'deal': 4, 'rejected': 3, 'PBSs': 1, 'LSD': 2, 'treasure': 1, 'fit': 2, 'actually': 28, 'houseflies': 1, 'contract': 4, 'diarrhea': 1, 'farmer': 2, 'Accumulator': 1, 'mucus': 1, 'mentioned': 1, 'Mike': 4, 'easier': 1, 'nomination': 1, 'positive': 5, 'ruining': 1, 'Malawian': 1, 'Iran': 1, 'prove': 6, 'nonstop': 1, 'Ladies': 1, 'editing': 1, 'thinking': 4, 'Commission': 1, 'HERE': 1, 'forgave': 1, 'choice': 1, 'displaced': 1, 'landlords': 1, 'recover': 2, 'Mandarin': 1, 'While': 7, 'libertarian': 1, 'apes': 4, 'season': 3, 'thth': 1, 'wife': 21, 'expires': 1, 'Detroit': 3, 'spread': 2, 'risks': 1, 'rule': 1, 'equipped': 1, 'Phil': 2, 'racially': 1, 'Shoeless': 1, 'licenses': 1, 'current': 4, 'grant': 2, 'tracking': 2, 'illnesses': 1, 'Joel': 2, 'Thinking': 1, 'Liz': 1, 'fact': 7, 'peacefully': 1, 'scientist': 2, 'Macaulay': 3, 'occasions': 1, 'parliamentarian': 1, 'laziness': 1, 'JeanClaude': 1, 'approach': 1, 'Autism': 1, 'manicurist': 1, 'documented': 1, 'sailboats': 1, 'novel': 3, 'Cornells': 1, 'Hitlers': 2, 'jr': 1, 'honour': 2, 'risked': 1, 'Virginian': 1, 'everywhere': 1, 'soles': 1, 'Scotch': 1, 'staring': 1, 'civil': 1, 'mocking': 1, 'Lama': 1, 'AMBULANCE': 1, 'fiveyear': 1, 'Sodium': 2, 'ago': 8, 'snub': 1, 'Dog': 1, 'sleepdeprived': 1, 'Heinrich': 1, 'friend': 7, 'reality': 2, 'anemia': 1, 'third': 4, 'hunger': 1, 'entire': 16, 'owned': 7, 'Freddie': 3, 'guy': 5, 'one': 87, 'suffered': 4, 'Marvolo': 1, 'iPhones': 1, 'gray': 1, 'Utah': 1, 'colonoscopy': 1, 'husbands': 3, 'educated': 1, 'simulating': 1, 'warehouse': 2, 'Aids': 1, 'Marion': 1, 'Average': 1, 'scanned': 1, 'belongs': 1, 'original': 6, 'Hiroshima': 2, 'sometimes': 3, 'follow': 5, 'basket': 1, 'Merrill': 1, 'Seville': 1, 'annoyed': 1, 'themes': 1, 's': 24, 'Hoover': 1, 'hell': 1, 'challenge': 1, 'pole': 1, 'footage': 5, 'Everything': 1, 'must': 4, 'environmentally': 1, 'permission': 2, 'about': 75, 'Radiohead': 1, 'KCups': 1, 'sailing': 1, 'question': 4, 'planet': 5, 'annual': 2, 'true': 4, 'operating': 3, 'fires': 1, 'medicine': 1, 'Animated': 1, 'koalas': 1, 'With': 2, 'grenades': 1, 'leads': 3, 'involved': 2, 'George': 15, 'bugging': 1, 'pleasant': 1, 'weighted': 1, 'Ads': 1, 'losing': 4, 'serve': 3, 'swam': 2, 'Herzogenaurach': 1, 'Has': 2, 'lies': 1, 'principle': 3, 'wrongly': 1, 'concentrating': 1, 'gifts': 1, 'trained': 5, 'flags': 1, 'hunter': 1, 'Scarecrow': 1, 'depth': 1, 'Brian': 1, 'depicted': 1, 'prohibits': 1, 'firefighter': 1, 'being': 47, 'Daniel': 5, 'according': 3, 'Nathan': 2, 'Pyongyang': 1, 'engineering': 1, 'nerves': 1, 'sites': 1, 'millionaire': 1, 'shunned': 1, 'gasses': 1, 'wipe': 1, 'asymmetry': 1, 'Sam': 1, 'beasts': 1, 'hats': 2, 'stable': 1, 'gum': 3, 'develop': 1, 'Minoru': 1, 'None': 1, 'touching': 2, 'overtook': 1, 'Cancer': 1, 'FM': 1, 'penalize': 1, 'Many': 1, 'ground': 1, 'Boston': 1, 'heckling': 1, 'issue': 2, 'scrapped': 2, 'ADSL': 1, 'age': 20, 'DUI': 4, 'creature': 1, 'landowners': 1, 'posing': 2, 'connected': 2, 'volcano': 1, 'NY': 1, 'waves': 1, 'actions': 2, 'hidden': 1, 'fighting': 1, 'minimum': 2, 'nauseated': 1, 'panAfrican': 1, 'km': 1, 'Shoot': 1, 'energy': 8, 'Archive': 1, 'kit': 2, 'pubs': 2, 'after': 113, 'blueringed': 1, 'producers': 6, 'caller': 2, 'Chargers': 1, 'appear': 4, 'romantic': 1, 'Neighborhood': 1, 'Pepsis': 1, 'Akbar': 1, 'starts': 2, 'derailed': 1, 'Iliad': 1, 'Pitbull': 2, 'Buddha': 5, 'difficult': 1, 'offers': 1, 'lifetime': 3, 'scholarships': 1, 'what': 18, 'Panther': 1, 'necessarily': 3, 'overboard': 1, 'none': 2, 'marketing': 1, 'March': 1, 'causes': 5, 'rather': 7, 'Clear': 3, 'speaker': 1, 'TN': 2, 'Jordans': 1, 'guess': 1, 'numb': 1, 'Paying': 1, 'weights': 1, 'Council': 1, 'Takanakuy': 1, 'squeezed': 1, 'NASAs': 1, 'progressive': 1, 'physically': 1, 'Olive': 2, 'president': 6, 'Rings': 4, 'Water': 1, 'prodigy': 1, 'Battle': 1, 'schoolchildren': 1, 'hospital': 7, 'debauchery': 1, 'enthusiastic': 1, 'incidents': 1, 'Cook': 1, 'Office': 4, 'Comisar': 1, 'intrigued': 1, 'perform': 2, 'House': 4, 'wheelbarrowed': 1, 'client': 3, 'Miami': 1, 'gb': 1, 'breathe': 2, 'philosopher': 2, 'allegiance': 1, 'Osmosis': 1, 'responsibility': 1, 'Ken': 1, 'fierce': 1, 'aide': 1, 'chicken': 1, 'Inattentional': 1, 'soldiers': 12, 'register': 1, 'Hulk': 1, 'bass': 3, 'impersonated': 1, 'outdated': 1, 'rocket': 1, 'cereal': 1, 'outpace': 1, 'Gobi': 2, 'blood': 9, 'autism': 2, 'sucked': 1, 'purposely': 1, 'Town': 1, 'neuroscientist': 1, 'Green': 1, 'storefront': 1, 'scratchoff': 1, 'jumps': 1, 'Driver': 1, 'deny': 1, 'sprints': 1, 'todays': 1, 'pooping': 1, 'castles': 1, 'agreement': 4, 'von': 1, 'maintaining': 1, 'Boring': 1, 'stingy': 1, 'Fantastic': 1, 'Twain': 1, 'boxes': 3, 'fibres': 1, 'rebranded': 1, 'phenomenon': 1, 'train': 15, 'outlaw': 1, 'lose': 2, 'raiser': 1, 'specific': 2, 'Act': 3, 'endorsement': 1, 'suspected': 2, 'dot': 1, 'alternate': 1, 'capture': 1, 'then': 37, 'entereng': 1, 'Me': 2, 'Tubman': 1, 'Linkin': 1, 'Peggy': 1, 'transport': 2, 'pacific': 1, 'fks': 1, 'acceptance': 2, 'Ballard': 1, 'thereafter': 1, 'added': 5, 'Master': 2, 'dug': 1, 'spoke': 2, 'Tyrion': 1, 'multiple': 5, 'Dungeons': 1, 'Advocate': 1, 'pink': 1, 'Nobel': 6, 'stuff': 1, 'Yao': 2, 'inappropriate': 1, 'Depression': 4, 'Gangnam': 1, 'causing': 5, 'precise': 2, 'Tyson': 1, 'persecuted': 1, 'we': 19, 'California': 8, 'driving': 6, 'City': 4, 'Doug': 1, 'Gale': 1, 'surrender': 1, 'paycheck': 1, 'stealing': 4, 'amazing': 1, 'retried': 1, 'Sōsuke': 1, 'reliable': 1, 'balls': 1, 'Bloods': 1, 'external': 1, 'Elrond': 1, 'refuse': 2, 'China': 4, 'Tetris': 1, 'unresponsive': 1, 'eggs': 2, 'success': 1, 'destabilization': 1, 'WILL': 1, 'lowering': 1, 'Lobster': 1, 'congressman': 1, 'Symphony': 1, 'front': 8, 'France': 6, 'rose': 1, 'cliff': 1, 'America': 8, 'however': 3, 'print': 1, 'changes': 2, 'precedent': 1, 'talk': 2, 'Egress': 2, 'Malcolm': 2, 'stretched': 1, 'customer': 4, 'area': 4, 'house': 18, 'Night': 4, 'urban': 1, 'highspeed': 1, 'limit': 5, 'slavery': 5, 'xbox': 1, 'William': 5, 'Theres': 2, 'homes': 1, 'cleans': 1, 'doesnt': 7, 'lingered': 1, 'substantial': 1, 'mud': 1, 'damaging': 2, 'Beethoven': 6, 'During': 11, 'pause': 1, 'Brooklyn': 2, 'completely': 3, 'explosive': 1, 'worker': 4, 'schoolboy': 1, 'stuck': 1, 'reliance': 1, 'pixel': 3, 'Discovered': 1, 'battalions': 2, 'goals': 2, 'camps': 3, 'ensure': 3, 'habitat': 1, 'Birthday': 1, 'Ridley': 1, 'angry': 1, 'Franklin': 6, 'dates': 1, 'actual': 6, 'Tower': 4, 'tested': 2, 'cryptogamist': 1, 'below': 1, 'members': 6, 'married': 3, 'D': 2, 'Ingvar': 1, 'Seal': 1, 'economy': 3, 'Laurence': 1, 'defended': 1, 'coffee': 3, 'grow': 4, 'Alfonso': 1, 'answered': 3, 'recognizing': 1, 'bond': 1, 'Rick': 2, 'rearranging': 1, 'Intertidal': 1, 'opposed': 2, 'submarine': 3, 'EULAs': 2, 'never': 33, 'appearance': 3, 'Lamar': 1, 'alter': 1, 'bowie': 1, 'Isidore': 1, 'burning': 2, 'everyones': 1, 'firefight': 1, 'quite': 2, 'clubbed': 1, 'novels': 1, 'maintains': 1, 'Tripp': 1, 'supplied': 1, 'smokers': 2, 'FrenchItalian': 1, 'indicate': 1, 'Ritchie': 1, 'orgasms': 1, 'Reggie': 1, 'feared': 1, 'legally': 6, 'Chris': 5, 'Rock': 2, 'development': 1, 'Attack': 1, 'while': 40, 'dollars': 5, 'Dennys': 1, 'transferred': 1, 'Korean': 5, 'Geoffrey': 1, 'cooking': 1, 'drain': 2, 'desk': 3, 'Catholic': 3, 'traveled': 2, 'Rhea': 1, 'landlord': 2, 'slowness': 1, 'rescue': 3, 'Roosevelts': 1, 'Jews': 4, 'Believing': 1, 'devolved': 1, 'Keith': 1, 'heartfelt': 1, 'solid': 1, 'Potomac': 1, 'lady': 1, 'sponsorship': 1, 'kindergarten': 1, 'Senator': 1, 'Roadshow': 1, 'faithful': 1, 'prioretize': 1, 'liquor': 1, 'Zeddmore': 1, 'Suffrage': 1, 'alcohol': 7, 'Presleys': 1, 'become': 14, 'declined': 2, 'nr': 1, 'Charlie': 6, 'elves': 1, 'Commerce': 1, 'questioned': 1, 'hourly': 1, 'Westerners': 1, 'thought': 14, 'EVERY': 1, 'rare': 5, 'votes': 3, 'nd': 1, 'Dmitry': 1, 'pet': 1, 'basement': 2, 'Kiss': 1, 'response': 4, 'aesthetically': 1, 'Denisovans': 1, 'Exchange': 1, 'needed': 6, 'moves': 3, 'Principal': 1, 'raise': 2, 'recipient': 3, 'communal': 1, 'policeman': 1, 'acted': 3, 'succeeded': 3, 'attack': 6, 'Law': 3, 'trackable': 1, 'Machine': 1, 'I': 55, 'initiative': 1, 'bitten': 2, 'whos': 1, 'Ip': 1, 'post': 5, 'performing': 3, 'signalman': 1, 'nfl': 1, 'tulip': 1, 'brief': 1, 'mortally': 1, 'cheerleaders': 1, 'constitute': 1, 'Egyptians': 1, 'Statistics': 1, 'professor': 10, 'Butt': 1, 'kind': 1, 'sticking': 1, 'Dodd': 2, 'receiving': 5, 'Swedish': 1, 'Montel': 1, 'kids': 9, 'Converse': 1, 'Womens': 1, 'hepatitis': 1, 'tearful': 1, 'their': 153, 'high': 15, 'reported': 4, 'remove': 2, 'silent': 2, 'entities': 1, 'carried': 2, 'origin': 1, 'Who': 2, 'replied': 10, 'bonded': 1, 'microseconds': 1, 'cues': 1, 'example': 4, 'download': 1, 'Seans': 1, 'Salzburg': 1, 'closed': 4, 'victory': 1, 'waive': 1, 'result': 7, 'pies': 1, 'Tedium': 1, 'Worthy': 1, 'SS': 1, 'pumps': 1, 'Senate': 1, 'deduce': 1, 'territory': 2, 'Crew': 1, 'sixty': 2, 'Bernstein': 3, 'Enemy': 1, 'VITA': 1, 'vertebrates': 1, 'mean': 3, 'allgirl': 1, 'Barbara': 1, 'rot': 1, 'Festival': 1, 'longest': 1, 'deceased': 1, 'receipt': 1, 'orbit': 1, 'Citroen': 1, 'roundabouts': 1, 'Latchkey': 1, 'sailed': 2, 'Her': 2, 'evolution': 2, 'pranked': 1, 'Cheeses': 1, 'Shackleton': 1, 'Millennium': 1, 'suicide': 7, 'songs': 8, 'conservationists': 1, 'films': 8, 'buses': 1, 'screams': 2, 'laws': 3, 'developing': 2, 'Record': 2, 'oxytocin': 1, 'standoff': 1, 'idiot': 2, 'breakfast': 1, 'bloodhound': 1, 'pond': 2, 'calculate': 1, 'called': 42, 'ended': 17, 'Style': 1, 'rerouting': 1, 'Farallon': 1, 'adapting': 1, 'concluded': 1, 'soldier': 2, 'morphs': 1, 'largest': 14, 'cut': 13, 'complaining': 1, 'Platypus': 1, 'Lehrer': 2, 'marijuana': 5, 'night': 13, 'carriages': 1, 'countless': 2, 'singers': 1, 'Tolkiens': 2, 'Nicole': 2, 'WALLE': 1, 'generally': 2, 'pulling': 4, 'mutant': 1, 'races': 1, 'misdiagnosis': 1, 'airlines': 2, 'Hospitalizations': 1, 'figured': 1, 'reallife': 1, 'writing': 3, 'background': 3, 'launching': 2, 'face': 9, 'poorly': 3, 'UK': 8, 'Smells': 2, 'm': 5, 'WhiteA': 1, 'cited': 1, 'Harry': 9, 'dispensary': 1, 'Operator': 2, 'socalled': 1, 'sense': 4, 'rich': 4, 'Judas': 2, 'Kids': 1, 'talked': 2, 'nation': 1, 'livelihood': 1, 'hiphop': 1, 'circumference': 1, 'However': 3, 'bucks': 1, 'distinguish': 1, 'Idaho': 1, 'drama': 1, 'States': 11, 'walked': 3, 'wars': 1, 'vegetating': 1, 'elementary': 1, 'Japans': 2, 'walls': 2, 'geese': 1, 'nonprimate': 1, 'Rights': 3, 'education': 3, 'Actor': 2, 'file': 3, 'children': 25, 'neck': 2, 'audience': 4, 'Isaac': 2, 'WWII': 5, 'long': 12, 'Las': 3, 'Alabama': 1, 'covers': 1, 'massacre': 1, 'Service': 1, 'pizzas': 1, 'active': 3, 'disturb': 1, 'newspaper': 4, 'freedom': 2, 'MakeAWish': 1, 'out': 78, 'Gallant': 1, 'women': 15, 'bookings': 1, 'liked': 4, 'Principle': 1, 'Sergei': 2, 'sweats': 1, 'offduty': 1, 'Vietnamesemany': 1, 'Kubricks': 1, 'always': 2, 'boys': 5, 'leading': 10, 'Brooks': 1, 'CPO': 1, 'Recording': 1, 'marry': 1, 'referred': 4, 'nerve': 1, 'slipping': 1, 'theme': 4, 'behaviors': 1, 'Journalism': 1, 'originally': 5, 'stripped': 1, 'belonged': 2, 'Gorshin': 1, 'magna': 1, 'awardees': 1, 'why': 11, 'encircled': 1, 'sentence': 1, 'irking': 1, 'description': 1, 'Bean': 1, 'correspondent': 1, 'idols': 2, 'DB': 1, 'Azkaban': 1, 'Rose': 1, 'Watergate': 1, 'enrolled': 1, 'Africa': 7, 'standing': 3, 'Like': 2, 'criminals': 2, 'strike': 2, 'Common': 1, 'chalkboard': 1, 'bent': 1, 'Their': 2, 'Grafton': 1, 'nationwide': 2, 'Basically': 1, 'fair': 3, 'bombs': 3, 'saving': 7, 'Hard': 2, 'Varro': 1, 'disposable': 1, 'late': 8, 'phones': 4, 'morning': 1, 'wedding': 1, 'extension': 1, 'forest': 5, 'Chicago': 3, 'scandalmongering': 1, 'Cristiano': 1, 'minister': 1, 'Ticketmaster': 2, 'features': 2, 'wishing': 1, 'coworkers': 2, 'increments': 1, 'instruments': 3, 'bracelets': 1, 'guttural': 1, 'sculler': 1, 'Tennant': 1, 'Lemmys': 1, 'airline': 3, 'MakeaWish': 1, 'cargo': 1, 'tomb': 1, 'retroactively': 1, 'millions': 3, 'timetravellers': 1, 'suspended': 2, 'Then': 8, 'employers': 1, 'bill': 5, 'layer': 1, 'Portmans': 1, 'kicked': 2, 'sky': 3, 'swimming': 2, 'atheism': 1, 'Charles': 7, 'white': 13, 'uses': 2, 'cumulonimbus': 1, 'water': 14, 'voting': 1, 'contracted': 1, 'telescope': 1, 'destroyed': 5, 'babies': 4, 'sea': 8, 'But': 3, 'rating': 1, 'charged': 6, 'predatory': 2, 'graphic': 1, 'typical': 2, 'complaint': 1, 'frequent': 1, 'widow': 1, 'speculated': 1, 'Henry': 2, 'freely': 1, 'Steibelt': 2, 'Oregon': 3, 'fines': 2, 'girls': 5, 'larger': 1, 'extract': 1, 'residues': 1, 'punched': 2, 'graduation': 1, 'saying': 18, 'undercover': 4, 'indigenous': 2, 'admit': 1, 'calls': 6, 'Rather': 1, 'ensured': 1, 'cross': 1, 'satisfactory': 1, 'fear': 2, 'diet': 1, 'talents': 1, 'workers': 5, 'cider': 2, 'brewer': 1, 'both': 13, 'unharvested': 1, 'Gary': 3, 'featuring': 1, 'Nigerians': 1, 'accidents': 2, 'reminded': 1, 'acidemia': 1, 'Afghanistan': 1, 'Vinci': 4, 'hosted': 2, 'Willie': 7, 'passengers': 4, 'criticized': 1, 'sake': 1, 'containing': 2, 'jumping': 5, 'faction': 1, 'Hallelujah': 2, 'rendering': 3, 'flamethrower': 1, 'latrines': 1, 'voyage': 1, 'enslaved': 1, 'promised': 2, 'stranded': 2, 'baboon': 1, 'cow': 3, 'pays': 1, 'directing': 1, 'McDonalds': 1, 'doctrine': 1, 'cell': 4, 'Tech': 1, 'casinos': 2, 'billionaire': 2, 'firms': 1, 'situps': 1, 'XLI': 1, 'smallpox': 3, 'magnitude': 3, 'commemorate': 1, 'taught': 6, 'heavily': 1, 'support': 8, 'typically': 1, 'opinions': 1, 'reassuring': 1, 'discovered': 28, 'futile': 1, 'upload': 1, 'jackpot': 1, 'regulate': 1, 'Cofounder': 1, 'cooperative': 1, 'Walker': 1, 'detonation': 1, 'Mouth': 2, 'connecting': 1, 'signing': 1, 'hoarder': 1, 'effort': 3, 'Ketchikan': 1, 'Jam': 1, 'League': 1, 'rolls': 1, 'award': 5, 'Butkovich': 1, 'wouldnt': 3, 'spectacles': 1, 'classes': 1, 'PC': 2, 'classmates': 3, 'Earl': 2, 'silences': 1, 'quality': 1, 'defined': 1, 'coordinator': 1, 'creative': 1, 'Porgs': 1, 'memory': 6, 'Religion': 1, 'Pixar': 2, 'We': 9, 'captive': 1, 'average': 7, 'incredibly': 3, 'standstill': 2, 'beers': 1, 'river': 1, 'TELL': 1, 'Buzz': 1, 'profanity': 2, 'Song': 2, 'finds': 2, 'notes': 5, 'brothers': 1, 'Julia': 1, 'retake': 1, 'another': 17, 'though': 8, 'Georgias': 1, 'pirate': 1, 'shuts': 1, 'Quincy': 1, 'Jimmy': 1, 'elected': 1, 'cameras': 1, 'brains': 2, 'urchins': 4, 'Jackman': 4, 'Teller': 2, 'netted': 1, 'three': 10, 'Cincinnatis': 1, 'parrot': 3, 'railway': 2, 'Stegosauruss': 1, 'Sub': 1, 'frustrated': 2, 'Will': 2, 'newsman': 1, 'Kardashian': 1, 'cryptogramist': 1, 'chairman': 2, 'opted': 1, 'Thomas': 3, 'pressure': 3, 'gene': 1, 'Moore': 2, 'Still': 2, 'sharp': 1, 'Paine': 1, 'nightclub': 1, 'boulder': 1, 'Earhart': 1, 'themeselves': 1, 'commercially': 1, 'network': 9, 'extend': 1, 'staff': 7, 'Shipley': 1, 'fascinated': 1, 'What': 4, 'twothirds': 1, 'Pat': 1, 'casted': 1, 'visually': 2, 'grade': 2, 'Institutions': 1, 'Pepsi': 1, 'making': 16, 'conformity': 1, 'stars': 3, 'regarded': 1, 'Famer': 1, 'stress': 2, 'wake': 1, 'werent': 3, 'mortgages': 1, 'Nick': 1, 'Yourself': 1, 'shortly': 4, 'owed': 2, 'would': 115, 'videos': 1, 'fever': 1, 'Futurama': 1, 'gift': 4, 'CocaColas': 1, 'tripled': 1, 'beta': 1, 'alias': 1, 'city': 12, 'tell': 6, 'Apple': 6, 'Sound': 1, 'laude': 1, 'actors': 3, 'secret': 8, 'biomass': 1, 'familys': 1, 'hammer': 3, 'bathroom': 3, 'porn': 3, 'shaft': 1, 'nonselfaware': 1, 'elites': 1, 'Mrs': 3, 'Auschwitz': 3, 'archaeologist': 1, 'asbestos': 3, 'rest': 5, 'strong': 1, 'Game': 2, 'medium': 1, 'offended': 1, 'Wayne': 4, 'nobody': 4, 'mistakenly': 1, 'Eve': 1, 'trust': 3, 'Yavin': 2, 'bob': 1, 'orchestra': 1, 'wounded': 4, 'bionic': 1, 'York': 6, 'collapse': 2, 'keyboard': 1, 'excessive': 1, 'Unity': 1, 'oriented': 1, 'Alcatraz': 2, 'Japanese': 13, 'releases': 1, 'filmmakers': 2, 'Ball': 1, 'pain': 7, 'lobsters': 1, 'correctly': 1, 'trait': 1, 'Journal': 1, 'alongside': 3, 'hardest': 1, 'test': 6, 'center': 3, 'photos': 1, 'stereotypes': 2, 'meth': 2, 'leaders': 2, 'sexual': 1, 'something': 7, 'JK': 1, 'diary': 1, 'dolphins': 6, 'coloration': 1, 'codes': 1, 'above': 3, 'NineNine': 1, 'copies': 2, 'region': 1, 'better': 8, 'Perlman': 1, 'tournaments': 2, 'Jude': 1, 'set': 31, 'engaging': 1, 'bars': 1, 'DMZ': 1, 'orders': 1, 'position': 3, 'bats': 1, 'Dumb': 1, 'arts': 1, 'K': 5, 'requests': 1, 'Galaxy': 2, 'devices': 1, 'Mitzvah': 1, 'biodegradableuntil': 1, 'Korea': 4, 'disaster': 1, 'expresident': 1, 'little': 4, 'perception': 1, 'owners': 5, 'available': 1, 'mm': 2, 'Macdonald': 1, 'ability': 3, 'potassium': 1, 'savouring': 1, 'shopping': 2, 'ecologically': 1, 'tiny': 2, 'Stanisław': 1, 'fortune': 5, 'humans': 10, 'rent': 2, 'Monsters': 1, 'guilty': 2, 'bank': 7, 'reselling': 1, 'skies': 1, 'karate': 1, 'Adam': 2, 'Gestapo': 1, 'planning': 1, 'convinced': 3, 'disrespectfully': 1, 'dispersed': 1, 'hunters': 1, 'legitimately': 1, 'Kill': 2, 'roughly': 2, 'jailed': 1, 'whilst': 4, 'hole': 1, 'pizzeria': 1, 'aware': 3, 'collapsed': 4, 'attacking': 2, 'routinely': 1, 'Daredevil': 2, 'guru': 2, 'zookeeper': 1, 'qualify': 1, 'bred': 2, 'productive': 2, 'Zealands': 1, 'Cooper': 1, 'pickups': 1, 'mammals': 2, 'threats': 3, 'Vatican': 2, 'won': 21, 'normal': 3, 'monitor': 1, 'full': 18, 'Sober': 1, 'Witch': 1, 'tug': 1, 'deviate': 1, 'rookie': 3, 'Dickens': 1, 'lit': 4, 'McKinley': 1, 'Schwarzenegger': 2, 'banned': 13, 'employee': 3, 'ex': 2, 'deposition': 1, 'Sabella': 1, 'hundred': 2, 'microseasons': 1, 'prisoners': 5, 'speeders': 1, 'discriminated': 1, 'Gods': 1, 'Torah': 1, 'shrapnel': 1, 'debut': 1, 'franchises': 1, 'unique': 1, 'ink': 2, 'copyrighted': 1, 'giving': 6, 'Wealth': 1, 'years': 81, 'proximity': 1, 'present': 1, 'need': 7, 'returned': 13, 'Facebook': 4, 'fire': 9, 'New': 15, 'thered': 1, 'permanently': 1, 'gut': 1, 'killed': 19, 'Cuvier': 1, 'microscopic': 1, 'laughing': 2, 'bandwidth': 1, 'joined': 8, 'fancied': 1, 'resolve': 1, 'exams': 1, 'mistress': 1, 'detection': 2, 'Paris': 3, 'anthrax': 1, 'pelted': 1, 'enforce': 1, 'communicate': 2, 'well': 8, 'Aboriginal': 1, 'happen': 2, 'Nintendos': 3, 'liking': 1, 'admitted': 4, 'know': 16, 'books': 11, 'associates': 1, 'Arabia': 1, 'Drive': 1, 'renowned': 1, 'Stockton': 1, 'heroes': 1, 'likely': 4, 'heals': 1, 'airliner': 2, 'platypus': 1, 'Pissed': 1, 'longer': 5, 'shown': 1, 'Bambi': 4, 'precisioncontrol': 1, 'Aid': 2, 'surrendered': 1, 'heads': 1, 'laptop': 1, 'prop': 1, 'Numerous': 1, 'collect': 2, 'Miller': 1, 'class': 3, 'silence': 2, 'profits': 2, 'flails': 1, 'studying': 2, 'drank': 1, 'gone': 3, 'downloads': 2, 'nationalist': 1, 'filmed': 2, 'Darko': 1, 'indicating': 2, 'Street': 1, 'contest': 2, 'tone': 1, 'IQ': 1, 'talent': 1, 'stadiums': 1, 'patented': 2, 'style': 1, 'klansmen': 1, 'Guinness': 2, 'Andre': 1, 'ONE': 2, 'paid': 13, 'sneakers': 1, 'plastic': 6, 'buckboard': 1, 'pulled': 5, 'penetrating': 1, 'dodgeballs': 1, 'citizens': 1, 'seconds': 11, 'Swanson': 1, 'awake': 2, 'Fleming': 1, 'sharks': 2, 'Ron': 3, 'Lady': 4, 'massive': 3, 'Bettany': 1, 'symbolizes': 1, 'SpiderMan': 1, 'Wizard': 3, 'Century': 3, 'earned': 3, 'crashes': 1, 'Side': 1, 'computers': 4, 'Zealand': 2, 'Dave': 2, 'US': 39, 'India': 4, 'cumulatively': 1, 'Adidas': 3, 'banker': 1, 'Star': 11, 'Ness': 2, 'blackboard': 1, 'arrived': 7, 'Jackmans': 1, 'seismometers': 2, 'Neil': 2, 'cloud': 1, 'damage': 4, 'included': 5, 'outside': 7, 'Islands': 1, 'cost': 5, 'SENT': 1, 'association': 1, 'densities': 1, 'littered': 1, 'sign': 3, 'ash': 1, 'upper': 1, 'synthetic': 2, 'Churchs': 1, 'Landsberg': 1, 'Eleanor': 1, 'tallest': 1, 'Library': 1, 'hallucinations': 3, 'ultimately': 5, 'canon': 1, 'adamant': 1, 'views': 1, 'Harris': 2, 'merchant': 1, 'UN': 1, 'cabin': 2, 'Former': 1, 'catharsis': 1, 'Missile': 1, 'WWI': 3, 'retreat': 2, 'quantum': 1, 'Lisas': 1, 'majority': 2, 'flour': 1, 'free': 23, 'wrangling': 1, 'cafeteria': 1, 'Arizona': 2, 'Cabs': 1, 'orphanage': 1, 'Effect': 1, 'ill': 4, 'Knightley': 1, 'recognised': 1, 'flew': 2, 'Chief': 1, 'exists': 3, 'member': 4, 'severely': 1, 'shortening': 1, 'Mandel': 1, 'domesticated': 1, 'isolated': 1, 'ALL': 1, 'Travel': 1, 'drive': 1, 'faces': 1, 'Slavery': 1, 'fence': 2, 'powered': 2, 'orcas': 2, 'Against': 2, 'Roger': 3, 'field': 4, 'funnier': 1, 'airgapped': 1, 'humankind': 1, 'arming': 1, 'confinement': 1, 'think': 10, 'bail': 1, 'duel': 1, 'shirt': 3, 'populace': 1, 'job': 10, 'bottom': 1, 'basic': 2, 'Base': 1, 'lūʻau': 1, 'embankment': 1, 'passangers': 1, 'Katey': 2, 'shop': 4, 'scenes': 3, 'Roman': 3, 'since': 30, 'protested': 2, 'company': 29, 'paper': 8, 'smoked': 2, 'resistant': 1, 'Fortunately': 1, 'disqualify': 1, 'corrected': 1, 'governments': 1, 'Lisa': 1, 'alive': 6, 'myself': 2, 'determined': 2, 'station': 6, 'mile': 5, 'wildly': 1, 'mounted': 1, 'Hurk': 1, 'break': 2, 'exhibits': 1, 'distant': 2, 'presented': 3, 'fend': 1, 'GI': 2, 'Apatheism': 1, 'uninhabited': 1, 'Well': 3, 'rural': 4, 'partake': 2, 'peasant': 1, 'lay': 1, 'pretended': 2, 'Einsteins': 2, 'gives': 4, 'cancel': 2, 'Turing': 1, 'Bond': 3, 'topic': 1, 'breathing': 1, 'blacksmiths': 1, 'defines': 1, 'brewed': 1, 'Sylvan': 1, 'falls': 1, 'lake': 4, 'statement': 2, 'businesses': 2, 'CocaCola': 6, 'comparing': 1, 'geisha': 1, 'Roosevelt': 10, 'fireworks': 1, 'next': 8, 'POV': 1, 'explained': 3, 'streettown': 1, 'earlier': 2, 'sweatpants': 1, 'USA': 6, 'Graham': 1, 'Dodge': 1, 'queen': 1, 'frontier': 1, 'juror': 1, 'science': 4, 'misled': 1, 'awarded': 3, 'motherfuckers': 1, 'Morehouse': 1, 'demand': 1, 'siege': 2, 'beginning': 2, 'VP': 1, 'described': 3, 'taxes': 2, 'mass': 3, 'Romanianborn': 1, 'Youd': 1, 'trouble': 6, 'enjoyed': 3, 'July': 1, 'tests': 1, 'Grail': 2, 'proof': 5, 'adding': 3, 'Stop': 2, 'cannabis': 2, 'sanctuary': 2, 'run': 12, 'subs': 1, 'enable': 1, 'multiplatinum': 1, 'personally': 1, 'makeshift': 1, 'page': 3, 'Van': 1, 'FCC': 2, 'Mircosoft': 1, 'Michigan': 1, 'Field': 1, 'Qaeda': 1, 'Guns': 2, 'outage': 1, 'physicist': 2, 'Dolphins': 1, 'Wendys': 1, 'Paltrows': 1, 'shrugs': 1, 'So': 5, 'organized': 1, 'cheeseburgers': 1, 'BBC': 2, 'PotOs': 1, 'incident': 2, 'Scottish': 4, 'surviving': 1, 'Empire': 2, 'effective': 2, 'happy': 1, 'answering': 3, 'surrounded': 1, 'empty': 3, 'logging': 1, 'attract': 2, 'cookies': 1, 'cursed': 1, 'Frosty': 1, 'educate': 1, 'seeds': 1, 'weve': 1, 'sat': 2, 'wreath': 1, 'overweight': 1, 'finishing': 1, 'conversation': 1, 'snacks': 1, 'Pearce': 2, 'erected': 1, 'matter': 3, 'Bees': 1, 'sewer': 2, 'NaCHO': 2, 'rodent': 1, 'crates': 1, 'grams': 2, 'festival': 2, 'scandal': 2, 'privileged': 1, 'Haitian': 1, 'tourists': 2, 'DNA': 6, 'Metcalfe': 1, 'diluted': 1, 'Raul': 1, 'postman': 1, 'mercilessly': 1, 'victim': 2, 'carry': 2, 'streets': 3, 'vault': 3, 'Cards': 2, 'altitude': 1, 'olympic': 1, 'bunkers': 1, 'ships': 3, 'ship': 5, 'Affleck': 1, 'beverage': 3, 'required': 6, 'settlements': 1, 'Shakespeare': 1, 'yours': 1, 'training': 4, 'Russians': 1, 'breathalyser': 1, 'common': 7, 'transfer': 1, 'Prince': 6, 'savour': 1, 'catch': 1, 'displeased': 1, 'gunman': 1, 'travelled': 3, 'Alec': 1, 'fake': 19, 'joked': 3, 'fishing': 1, 'banish': 1, 'Canadian': 3, 'Died': 1, 'backpacks': 1, 'extraction': 1, 'grandmaster': 1, 'analysis': 1, 'tape': 1, 'bloodletting': 1, 'balance': 2, 'deplete': 2, 'teammates': 1, 'facet': 1, 'most': 34, 'organization': 3, 'Ronald': 1, 'Alexander': 2, 'committed': 4, 'online': 4, 'dunked': 2, 'name': 26, 'Chef': 1, 'saves': 1, 'Kamprad': 1, 'balloon': 1, 'exercise': 3, 'antifreeze': 3, 'halfway': 4, 'whether': 1, 'turtles': 1, 'column': 1, 'data': 4, 'Ghostbusters': 1, 'Alan': 4, 'attributed': 1, 'surname': 1, 'acronym': 1, 'As': 18, 'every': 29, 'label': 1, 'Body': 1, 'borders': 1, 'breaks': 4, 'Reagan': 2, 'rain': 3, 'environments': 1, 'luggage': 1, 'Dipprasad': 1, 'tedious': 1, 'firmware': 1, 'painting': 1, 'somebody': 3, 'ban': 4, 'faked': 4, 'lead': 4, 'wilderness': 1, 'Iron': 2, 'endings': 1, 'moment': 1, 'Kilmister': 1, 'nor': 1, 'problems': 2, 'spheres': 1, 'aquarium': 1, 'misspell': 1, 'citizen': 2, 'engine': 1, 'fining': 1, 'algae': 1, 'nose': 4, 'teasing': 1, 'vanished': 2, 'turns': 2, 'compass': 1, 'duckbilled': 1, 'advertised': 1, 'Fletcher': 1, 'half': 12, 'alerted': 3, 'design': 1, 'Slash': 1, 'sophistication': 1, 'Whose': 1, 'advocated': 1, 'recalled': 2, 'Rogers': 7, 'financial': 3, 'knowing': 3, 'admited': 1, 'society': 2, 'Russian': 1, 'visitor': 1, 'emailed': 2, 'Glee': 2, 'Sabbaths': 1, 'NYU': 1, 'vibrator': 1, 'claiming': 3, 'Cowbell': 1, 'Chili': 1, 'recorded': 8, 'bar': 6, 'Sheffield': 1, 'South': 12, 'Gretzky': 1, 'global': 1, 'humor': 3, 'soul': 1, 'addresses': 2, 'endless': 2, 'dinner': 1, 'Cole': 1, 'Yellow': 1, 'war': 8, 'Crystal': 2, 'Robin': 4, 'fast': 3, 'struggling': 3, 'Classical': 1, 'helmet': 3, 'playful': 1, 'hisher': 1, 'Otherwise': 1, 'faced': 1, 'core': 1, 'alQaeda': 1, 'frightened': 1, 'Jolie': 1, 'Native': 2, 'idolatry': 1, 'countries': 3, 'eyecatching': 1, 'tweet': 1, 'drawn': 1, 'wrestler': 1, 'in': 778, 'mattress': 1, 'originate': 1, 'Buddah': 1, 'release': 6, 'Upon': 1, 'To': 5, 'Fortune': 1, 'sleeves': 1, 'identification': 1, 'bouncers': 1, 'Nazis': 6, 'totalling': 1, 'start': 7, 'meaning': 6, 'Nixons': 1, 'urinating': 1, 'earths': 1, 'speak': 4, 'dont': 15, 'comprised': 1, 'Fitch': 1, 'gay': 2, 'Russell': 1, 'Liberia': 1, 'forty': 1, 'experimental': 1, 'veteran': 1, 'applies': 1, 'citys': 2, 'poor': 7, 'elicit': 1, 'extraterritorial': 1, 'starring': 1, 'mothers': 2, 'oil': 6, 'comfort': 1, 'Bang': 1, 'Bobby': 4, 'met': 3, 'awards': 1, 'Hispaniola': 1, 'bonus': 2, 'Constitution': 1, 'Taco': 2, 'helps': 2, 'wassup': 1, 'system': 11, 'hijacked': 2, 'Life': 2, 'episodes': 4, 'Florida': 9, 'investigative': 1, 'cake': 1, 'relieved': 2, 'pipes': 3, 'FBI': 11, 'purchased': 4, 'camera': 3, 'remember': 5, 'broadcastin': 1, 'STD': 1, 'hyenas': 1, 'intention': 2, 'comes': 4, 'communication': 2, 'ramen': 1, 'Diouf': 1, 'descendants': 1, 'southeast': 1, 'Lego': 4, 'Donald': 1, 'wire': 2, 'Yu': 1, 'Bulgarian': 1, 'wonderful': 1, 'convergent': 1, 'applied': 3, 'satellite': 1, 'Ming': 2, 'Whedon': 1, 'judgmental': 1, 'chocolate': 8, 'Dihydrogen': 1, 'pianist': 1, 'deposits': 1, 'Red': 3, 'deadlock': 1, 'discover': 3, 'redistribute': 1, 'crumbling': 1, 'profession': 1, 'expands': 1, 'restaurant': 10, 'Krasinski': 2, 'negative': 3, 'benefactor': 1, 'conscience': 1, 'five': 9, 'NYPD': 1, 'Officer': 1, 'cellphone': 1, 'Nelly': 1, 'culprits': 1, 'Sagal': 2, 'weeks': 7, 'subscriptions': 1, 'course': 2, 'asked': 42, 'National': 5, 'Arthur': 1, 'Lincolns': 1, 'passport': 1, 'Dammes': 1, 'thin': 1, 'bloom': 1, 'assemble': 2, 'strategy': 4, 'tattoos': 1, 'Bohemian': 2, 'Valley': 1, 'fill': 2, 'Shirky': 1, 'proceed': 1, 'world': 20, 'Dictator': 1, 'counterclockwise': 1, 'toddler': 1, 'coalition': 1, 'heavyweight': 1, 'Charlotte': 1, 'bellowed': 1, 'maker': 1, 'fatnose': 1, 'Heineken': 1, 'mountain': 2, 'boycott': 1, 'Marquand': 1, 'drinking': 6, 'ladies': 2, 'reason': 9, 'prizes': 3, 'st': 1, 'Turpin': 1, 'credit': 4, 'Ridin': 1, 'demands': 1, 'unacceptable': 1, 'bound': 1, 'consonants': 1, 'Judo': 1, 'Weird': 6, 'hydraulics': 1, 'Waking': 1, 'makes': 3, 'completed': 2, 'socialism': 1, 'liver': 1, 'Lose': 1, 'manage': 2, 'Tolkien': 1, 'respond': 1, 'ideology': 1, 'Sweeney': 1, 'chief': 1, 'flow': 1, 'worst': 3, 'conventional': 1, 'hour': 11, 'convicts': 1, 'server': 3, 'senses': 4, 'not': 115, 'classroom': 3, 'wich': 1, 'million': 48, 'ruin': 2, 'tall': 2, 'HannaBarbera': 1, 'policies': 1, 'sitting': 5, 'younger': 1, 'life': 37, 'does': 11, 'Yancovic': 1, 'lawsuit': 2, 'college': 10, 'accountants': 1, 'represented': 1, 'costed': 1, 'judges': 1, 'lied': 2, 'farts': 1, 'Deland': 1, 'Barry': 1, 'resigned': 1, 'wise': 1, 'towns': 2, 'ravens': 6, 'fins': 1, 'Gump': 1, 'Coincidentally': 1, 'under': 23, 'enemy': 2, 'Scotland': 2, 'Marge': 1, 'device': 1, 'conference': 1, 'century': 7, 'released': 12, 'prank': 2, 'tied': 2, 'executive': 2, 'tracker': 2, 'seek': 2, 'Karen': 1, 'injured': 5, 'bathing': 1, 'payments': 1, 'Westinghouse': 2, 'figures': 1, 'dysentery': 1, 'Brazilian': 2, 'rally': 1, 'marketplace': 1, 'cans': 1, 'inspired': 5, 'value': 2, 'sissys': 1, 'Kenan': 1, 'forbade': 1, 'solve': 1, 'past': 4, 'girl': 7, 'Devils': 1, 'impaired': 1, 'Mel': 3, 'park': 3, 'delay': 1, 'error': 1, 'results': 3, 'Frankenstein': 1, 'honor': 2, 'summon': 2, 'architecture': 1, 'perfectly': 3, 'Max': 1, 'idiots': 1, 'Pratt': 1, 'against': 23, 'Tinman': 1, 'Chrysanthemums': 1, 'cope': 1, 'hang': 2, 'Railroad': 2, 'sheet': 1, 'official': 6, 'best': 8, 'allows': 5, 'Prison': 2, 'blanket': 4, 'Zealanders': 1, 'powder': 4, 'whites': 3, 'describing': 1, 'Rubiks': 1, 'rebounded': 1, 'closet': 1, 'lined': 3, 'hearing': 4, 'told': 24, 'registered': 3, 'Gacys': 2, 'farm': 4, 'Harvard': 9, 'loves': 1, 'Stan': 4, 'pagers': 2, 'carcass': 2, 'Late': 1, 'Hamlet': 1, 'Rainbows': 1, 'activity': 1, 'space': 5, 'short': 1, 'DVD': 1, 'guarantee': 1, 'captured': 3, 'turbines': 2, 'drinkingrelated': 1, 'pregnant': 1, 'bite': 2, 'IKEA': 2, 'worthless': 1, 'Times': 1, 'Prisoner': 1, 'possession': 2, 'Farmers': 1, 'Chinese': 13, 'Xrays': 1, 'seize': 1, 'comforting': 1, 'grudges': 1, 'Auckland': 1, 'disobeyed': 1, 'broom': 1, 'study': 7, 'Til': 1, 'bridges': 1, 'previously': 5, 'Temper': 1, 'pace': 1, 'feeling': 5, 'Beatles': 4, 'clear': 1, 'afterlife': 1, 'tickets': 8, 'Haast': 1, 'spite': 1, 'deaths': 1, 'gorilla': 3, 'Hedren': 1, 'Naked': 1, 'statues': 2, 'voters': 1, 'university': 3, 'claims': 1, 'figure': 3, 'fin': 1, 'dance': 1, 'all': 87, 'vibrations': 1, 'outbid': 1, 'pouring': 3, 'Shipwrecked': 1, 'Although': 4, 'Sea': 1, 'onto': 4, 'scratching': 2, 'Roselle': 1, 'disrupter': 1, 'coins': 3, 'straight': 2, 'poaching': 1, 'NK': 3, 'Ragnarok': 1, 'lend': 1, 'beach': 3, 'lower': 6, 'personal': 8, 'hosting': 1, 'Ancient': 3, 'regular': 1, 'extremely': 5, 'into': 42, 'festivities': 1, 'NYC': 2, 'Country': 1, 'This': 35, 'Rap': 1, 'Wilsons': 1, 'Several': 1, 'within': 8, 'Death': 2, 'washed': 1, 'pounds': 4, 'recognition': 2, 'dumb': 1, 'echolocation': 1, 'crosswalks': 1, 'lifelong': 1, 'CO': 1, 'Greece': 1, 'Toons': 1, 'Sheerans': 1, 'sleep': 3, 'hard': 4, 'inventors': 1, 'seas': 1, 'grenade': 3, 'gesture': 2, 'finally': 7, 'Orlando': 1, 'moon': 5, 'Blackwell': 1, 'toilets': 1, 'rounds': 2, 'fries': 1, 'Goldsmith': 1, 'other': 50, 'deafness': 2, 'Hubbards': 1, 'reenter': 1, 'youre': 2, 'Winslet': 1, 'Iceland': 1, 'align': 1, 'once': 41, 'Zoo': 1, 'dubbed': 2, 'grabbed': 1, 'mother': 7, 'poker': 1, 'Confederate': 1, 'Silas': 1, 'soda': 1, 'polling': 1, 'Carolina': 5, 'acquitted': 1, 'software': 5, 'defendant': 2, 'dildo': 1, 'fingernails': 1, 'destroy': 2, 'fucking': 1, 'senators': 1, 'Millikan': 1, 'Cheese': 4, 'Guy': 2, 'frankly': 1, 'Adolf': 1, 'tuxedowearing': 1, 'USB': 2, 'Bowie': 1, 'Admonishment': 1, 'video': 5, 'Grill': 1, 'Chewbacca': 1, 'Inky': 1, 'taking': 14, 'Lemmy': 1, 'shares': 5, 'round': 1, 'Usually': 1, 'assignment': 1, 'remains': 2, 'industry': 3, 'Son': 1, 'Eminems': 1, 'chips': 2, 'onstage': 1, 'hung': 3, 'Witchs': 1, 'damaged': 1, 'mentions': 1, 'Waters': 1, 'vocal': 3, 'model': 3, 'sugarwater': 1, 'flag': 2, 'publicity': 1, 'NFL': 4, 'Christmas': 7, 'Vermont': 1, 'immature': 1, 'institute': 1, 'country': 12, 'saint': 1, 'Mexico': 2, 'quietly': 2, 'Aldrin': 1, 'console': 4, 'nab': 1, 'assassin': 3, 'wrestlers': 1, 'photographs': 2, 'Vice': 2, 'Sainsburys': 1, 'Southern': 1, 'flowing': 2, 'recruiter': 1, 'loathing': 1, 'seatbelt': 3, 'Riddler': 1, 'compliments': 1, 'fictional': 1, 'butts': 2, 'mascot': 1, 'commuting': 1, 'Hudson': 1, 'declaration': 1, 'Japan': 8, 'Manson': 2, 'randomly': 1, 'confessed': 3, 'trees': 5, 'honesty': 1, 'temperatures': 1, 'when': 118, 'ecosystem': 1, 'plot': 5, 'hotline': 2, 'stated': 5, 'insisted': 1, 'continuation': 1, 'humanity': 2, 'expensive': 3, 'excess': 1, 'th': 24, 'Lots': 1, 'bracelet': 2, 'closest': 1, 'church': 3, 'bitter': 1, 'Gygaxs': 1, 'inconceivably': 1, 'Cube': 1, 'Kendrick': 1, 'where': 37, 'Domingo': 1, 'Theyd': 1, 'Nepalese': 1, 'cared': 2, 'permit': 1, 'miles': 10, 'Scientists': 1, 'distribution': 1, 'Jew': 2, 'Timon': 2, 'double': 1, 'wings': 1, 'designed': 3, 'chemical': 2, 'diner': 1, 'yearold': 20, 'proposed': 2, 'entered': 2, 'massless': 1, 'African': 2, 'sale': 3, 'served': 4, 'capsized': 2, 'shatter': 1, 'Captured': 1, 'others': 6, 'Virginia': 4, 'higher': 4, 'dancing': 3, 'reasonably': 1, 'sketch': 2, 'Sex': 1, 'rightleft': 1, 'repeats': 1, 'irrigation': 1, 'Reiner': 1, 'superstition': 1, 'cameraman': 1, 'damages': 1, 'brought': 10, 'rigged': 1, 'Ethiopian': 1, 'SteveO': 1, 'The': 196, 'Orchestra': 1, 'smaller': 2, 'spare': 1, 'Lincoln': 8, 'bait': 1, 'museums': 1, 'noon': 1, 'coverage': 1, 'switch': 2, 'planting': 1, 'Polgár': 1, 'inconvenience': 1, 'investigate': 3, 'drowning': 1, 'wallabies': 1, 'raised': 4, 'sail': 1, 'superstitious': 1, 'Outstanding': 1, 'impostor': 1, 'Jambo': 1, 'same': 30, 'angel': 1, 'resorted': 1, 'forge': 1, 'shadow': 1, 'adopted': 1, 'YOU': 2, 'Hong': 2, 'logic': 1, 'Keira': 1, 'eyebrows': 1, 'destroying': 1, 'hackable': 1, 'Canada': 6, 'separately': 1, 'stole': 5, 'protect': 3, 'Fisher': 3, 'writes': 1, 'artists': 1, 'infamous': 1, 'Porsche': 1, 'Mt': 1, 'Be': 1, 'theater': 3, 'traded': 2, 'suits': 2, 'reaction': 2, 'deleted': 1, 'Mockingbird': 1, 'Tennessee': 1, 'spending': 2, 'script': 1, 'tractor': 1, 'civility': 1, 'create': 5, 'treatments': 1, 'teddy': 1, 'Square': 1, 'Drop': 1, 'plenty': 1, 'Microsoft': 4, 'campus': 1, 'getting': 7, 'jewellery': 1, 'journalist': 2, 'intent': 1, 'instituted': 1, 'cousin': 1, 'admonished': 1, 'crustaceans': 1, 'Don': 1, 'deter': 1, 'crime': 5, 'Winston': 3, 'comfortable': 1, 'Ramsay': 1, 'itslyrics': 1, 'coincidence': 1, 'André': 5, 'dramatic': 1, 'sight': 2, 'Reeves': 4, 'guitars': 1, 'cobwebs': 1, 'These': 2, 'carrying': 2, 'releasing': 2, 'primary': 1, 'snake': 4, 'fighters': 1, 'popularized': 1, 'laughter': 3, 'notice': 2, 'difference': 2, 'vertebrate': 1, 'content': 2, 'per': 16, 'intended': 3, 'speech': 3, 'attend': 4, 'driven': 2, 'retail': 1, 'Ethernet': 1, 'virtually': 2, 'GPS': 1, 'factory': 2, 'securing': 1, 'copyright': 2, 'off': 32, 'centuries': 2, 'approximately': 1, 'note': 4, 'lack': 3, 'Everyone': 1, 'shit': 1, 'potato': 1, 'costars': 2, 'Fighter': 1, 'enthusiastically': 1, 'Boycott': 3, 'fraudulent': 1, 'Nazi': 6, 'windows': 1, 'used': 46, 'version': 3, 'establish': 1, 'offerings': 1, 'Securities': 1, 'sure': 1, 'liability': 1, 'explaining': 2, 'Ross': 2, 'Theft': 1, 'Polytechnic': 1, 'extraordinary': 1, 'Kamehameha': 1, 'whitesmiths': 1, 'Guinea': 1, 'vertical': 1, 'Short': 1, 'deemed': 1, 'armed': 3, 'halfbronze': 1, 'Halle': 2, 'quickly': 4, 'main': 1, 'go': 21, 'of': 882, 'span': 1, 'monitoring': 1, 'bullet': 3, 'matches': 2, 'Using': 1, 'image': 2, 'Crow': 3, 'safest': 1, 'Mouse': 1, 'harvest': 1, 'Tim': 1, 'Sir': 1, 'Holmesthemed': 1, 'self': 3, 'royalty': 1, 'existed': 1, 'Stokes': 1, 'loved': 6, 'information': 4, 'Spaceballs': 3, 'hydrogen': 2, 'behavior': 1, 'villain': 1, 'feet': 2, 'contains': 3, 'stomach': 3, 'Chess': 1, 'yearlong': 1, 'circles': 2, 'emails': 1, 'ate': 7, 'NYE': 1, 'bringing': 3, 'ticket': 8, 'creamy': 1, 'paralysis': 1, 'tigers': 2, 'Dives': 1, 'repaired': 2, 'Als': 1, 'safesex': 1, 'thanks': 5, 'Batman': 2, 'nations': 1, 'fuck': 2, 'Martha': 1, 'Badder': 1, 'jazz': 2, 'Amendment': 2, 'Fighters': 1, 'voluntarily': 1, 'Buddhist': 2, 'classical': 1, 'Lei': 1, 'masked': 1, 'Orwell': 1, 'genius': 1, 'operational': 1, 'Freedom': 1, 'porch': 1, 'backs': 1, 'donate': 3, 'genes': 2, 'calendars': 1, 'Cleveland': 1, 'disgusting': 1, 'exited': 1, 'accessible': 1, 'booths': 1, 'researched': 1, 'preserving': 1, 'builder': 1, 'greeting': 1, 'glasses': 1, 'typed': 1, 'debts': 1, 'alpha': 1, 'loop': 2, 'Nebula': 1, 'option': 3, 'detectorists': 1, 'diabetic': 1, 'rave': 1, 'bigotry': 1, 'discomfort': 1, 'Harlem': 1, 'apparent': 1, 'Most': 1, 'Frankie': 1, 'attendant': 1, 'began': 19, 'elephant': 2, 'peat': 1, 'Yankovic': 5, 'performance': 6, 'Abbas': 1, 'astronaut': 1, 'Steve': 10, 'wide': 2, 'expended': 1, 'occasionally': 1, 'gain': 2, 'questions': 2, 'Poe': 1, 'wishes': 2, 'cafe': 1, 'bare': 1, 'pimps': 2, 'infrastructure': 1, 'largely': 4, 'English': 4, 'Stallone': 2, 'Balmoral': 1, 'travel': 1, 'apologized': 3, 'Doo': 1, 'sprint': 2, 'hair': 5, 'Stimson': 1, 'Siberia': 1, 'Chainz': 2, 'anymore': 1, 'pages': 1, 'thicket': 1, 'bravery': 1, 'openingday': 1, 'spirits': 1, 'Whoopi': 1, 'community': 6, 'credited': 4, 'disguised': 2, 'ethnic': 1, 'Humanity': 2, 'asking': 5, 'László': 1, 'statue': 5, 'Atlantic': 1, 'Voldemort': 1, 'ME': 1, 'stock': 2, 'Billy': 5, 'soap': 4, 'jammer': 1, 'Elizabeth': 4, 'priest': 1, 'San': 9, 'headbanging': 1, 'applications': 1, 'eventual': 2, 'athletics': 1, 'Borat': 3, 'attendance': 1, 'hygiene': 3, 'weather': 2, 'Walt': 2, 'chan': 1, 'attention': 3, 'VitaminWater': 2, 'read': 16, 'fraud': 1, 'returning': 4, 'rowing': 1, 'Motorist': 1, 'buy': 9, 'shoes': 3, 'steal': 2, 'cheerleading': 1, 'back': 36, 'bonding': 1, 'WWE': 1, 'postmaster': 1, 'Potoooooooo': 2, 'costly': 1, 'physics': 1, 'colour': 2, 'hiding': 1, 'Tinder': 1, 'Dec': 1, 'ultramarathon': 1, 'L': 2, 'Tippi': 1, 'Mickey': 1, 'paranoid': 2, 'revoked': 1, 'leftcoiling': 1, 'Doubtfire': 2, 'person': 21, 'was': 514, 'Englishmen': 1, 'scarring': 1, 'swims': 1, 'Franklins': 1, 'poisoning': 5, 'Beunos': 1, 'sell': 9, 'Ali': 2, 'hides': 1, 'pray': 1, 'relationship': 1, 'North': 15, 'spelling': 1, 'Smash': 4, 'written': 8, 'USPS': 2, 'expand': 1, 'sabotaged': 1, 'grandma': 1, 'grains': 1, 'exporter': 1, 'trick': 2, 'Zeppelin': 1, 'runs': 1, 'bombing': 1, 'forces': 3, 'choose': 3, 'fan': 9, 'attentionwhore': 1, 'anonymously': 1, 'treat': 2, 'unauthorized': 2, 'row': 5, 'realise': 1, 'properly': 1, 'surge': 1, 'briefly': 1, 'Sud': 2, 'sacrifice': 1, 'cleanlyshaven': 1, 'Anthony': 5, 'RFID': 1, 'horse': 6, 'gets': 5, 'Months': 1, 'Hornigold': 1, 'beat': 2, 'Gladiator': 1, 'polls': 1, 'ignorance': 1, 'Mississippi': 1, 'rough': 1, 'Shortly': 1, 'antilynching': 1, 'meal': 3, 'broadly': 1, 'ratification': 1, 'shave': 1, 'divorce': 2, 'Antartica': 2, 'relativity': 1, 'merchandise': 4, 'noticed': 4, 'Funniest': 1, 'Him': 1, 'carpet': 1, 'regretfully': 1, 'stroke': 1, 'esophagus': 1, 'stairs': 1, 'ancient': 5, 'boroughs': 1, 'overdose': 1, 'heroism': 1, 'psychologist': 3, 'heavy': 1, 'control': 3, 'posthumously': 2, 'tag': 1, 'tournament': 4, 'cherry': 1, 'foregoes': 1, 'Darwinian': 1, 'chanting': 1, 'assaulted': 1, 'message': 6, 'beaks': 1, 'strange': 1, 'noise': 1, 'scent': 2, 'reviews': 4, 'Starr': 1, 'defecated': 1, 'taxi': 4, 'bat': 3, 'An': 3, 'cocoa': 1, 'dissatisfied': 1, 'paperthin': 1, 'insider': 1, 'forms': 1, 'CANDU': 1, 'commanded': 1, 'cracked': 2, 'four': 13, 'extensively': 1, 'Dunkirk': 1, 'Culkin': 3, 'SINGLE': 1, 'arthritic': 1, 'Dragons': 1, 'headlines': 1, 'themselves': 4, 'overnight': 1, 'cavity': 1, 'few': 13, 'hoping': 1, 'Grant': 1, 'towers': 1, 'jams': 1, 'patients': 5, 'meetings': 1, 'weekend': 1, 'Dallas': 1, 'hired': 7, 'Lynch': 1, 'designs': 3, 'aint': 2, 'humanitarian': 1, 'nodding': 1, 'Bell': 3, 'characters': 8, 'slaveowner': 1, 'athlete': 1, 'chance': 3, 'Nikola': 2, 'Similar': 1, 'Wagner': 1, 'colony': 1, 'capable': 1, 'fuckhead': 1, 'burst': 2, 'caught': 9, 'eliciting': 1, 'Eugene': 1, 'Simply': 1, 'gas': 4, 'Vicodin': 1, 'Welcome': 1, 'photographer': 1, 'bells': 1, 'Odyssey': 1, 'twins': 3, 'head': 6, 'several': 13, 'friends': 12, 'twofaced': 3, 'Mexican': 1, 'coincidentally': 1, 'guild': 1, 'jumped': 1, 'contrast': 1, 'Sabrina': 1, 'Evolution': 1, 'screenwriting': 1, 'Carter': 4, 'ocean': 3, 'ejaculate': 1, 'dwarves': 1, 'director': 6, 'HMS': 1, 'Jewish': 4, 'universe': 1, 'vocalizations': 1, 'wedlock': 1, 'slowed': 1, 'Swearing': 1, 'surgery': 2, 'proceeded': 4, 'draw': 3, 'engineers': 4, 'trivia': 2, 'insects': 1, 'fatal': 2, 'soulmate': 1, 'choosing': 2, 'apologize': 1, 'from': 196, 'buttons': 1, 'limits': 2, 'utopia': 1, 'shabby': 1, 'Luther': 1, 'Succeed': 1, 'smiles': 1, 'red': 5, 'Metallicas': 1, 'and': 816, 'mandrill': 1, 'Barbie': 2, 'beavertailed': 1, 'Doyle': 1, 'receive': 2, 'distribute': 2, 'showers': 1, 'announcing': 1, 'cholera': 1, 'wolves': 6, 'segregating': 2, 'resident': 4, 'paying': 3, 'cupcakes': 1, 'mess': 2, 'Gave': 1, 'Dameron': 1, 'premise': 1, 'bomb': 3, 'watched': 2, 'Ina': 1, 'slaughterhouse': 2, 'supermarket': 5, 'Stanley': 1, 'Consumer': 1, 'suit': 2, 'watch': 6, 'regards': 1, 'Holocaust': 3, 'should': 10, 'creativity': 1, 'cured': 2, 'Tony': 1, 'bees': 10, 'distance': 2, 'pub': 3, 'positing': 1, 'selfconfidence': 1, 'segregated': 2, 'organizers': 2, 'acres': 1, 'flowers': 3, 'congress': 1, 'canceled': 1, 'galaxy': 1, 'Shelley': 2, 'robbing': 1, 'interviewing': 2, 'synth': 1, 'Silly': 1, 'imposing': 1, 'seasons': 2, 'offensive': 1, 'Workers': 1, 'chain': 3, 'nominated': 1, 'Johnson': 2, 'smuggled': 1, 'feels': 1, 'actor': 10, 'ease': 1, 'Crowds': 1, 'proving': 1, 'hero': 1, 'performances': 1, 'significant': 2, 'Louisiana': 3, 'piglets': 2, 'said': 61, 'karat': 1, 'toes': 1, 'different': 4, 'OK': 1, 'protesting': 1, 'bright': 1, 'cemetery': 3, 'meat': 1, 'Edward': 1, 'effortlessly': 1, 'Return': 2, 'waiver': 1, 'raising': 3, 'increase': 7, 'liquid': 1, 'Guatemala': 1, 'committing': 1, 'Richard': 2, 'particular': 1, 'homefed': 1, 'Please': 1, 'consequences': 1, 'permanent': 2, 'prices': 1, 'spectrum': 1, 'line': 7, 'Windows': 2, 'microbiology': 1, 'Versova': 1, 'breeds': 2, 'ignoring': 1, 'Paul': 7, 'Aerosmith': 1, 'seizure': 1, 'shipped': 3, 'Mitchel': 1, 'purchases': 1, 'posted': 1, 'Dukes': 1, 'naming': 1, 'preparation': 1, 'article': 1, 'ipod': 1, 'outrank': 1, 'toxic': 4, 'Onion': 1, 'hits': 1, 'percussion': 1, 'selfie': 1, 'unison': 1, 'Bad': 1, 'Hazard': 4, 'wall': 2, 'Spielberg': 2, 'smallest': 1, 'grandson': 1, 'declaring': 2, 'Belle': 1, 'Scooby': 1, 'settlement': 1, 'means': 5, 'Baldwin': 1, 'owns': 1, 'vote': 11, 'middle': 5, 'Smoky': 1, 'materials': 1, 'clinic': 1, 'Hebrew': 2, 'Zappa': 2, 'Stiles': 1, 'missle': 1, 'barricades': 1, 'goal': 2, 'Hackman': 1, 'surveillance': 2, 'Norwegian': 1, 'changed': 10, 'wild': 2, 'horses': 2, 'tapes': 2, 'settle': 1, 'Garland': 1, 'Comcast': 2, 'antiAIDS': 1, 'Samsungowned': 1, 'animals': 11, 'accept': 1, 'scholar': 1, 'Quentin': 1, 'Michaels': 1, 'Thaddeus': 1, 'personas': 1, 'pot': 1, 'death': 29, 'focus': 2, 'Bhutan': 1, 'Asylum': 1, 'review': 1, 'continued': 1, 'internationally': 1, 'stunt': 3, 'Ranch': 1, 'behaviour': 1, 'pictures': 2, 'veterans': 3, 'Lt': 1, 'Thunder': 1, 'mayor': 2, 'Eon': 1, 'legend': 3, 'cries': 1, 'apartment': 2, 'fiveday': 1, 'managers': 1, 'Izzy': 1, 'Corona': 2, 'Boy': 1, 'males': 3, 'youd': 1, 'glass': 5, 'bulbs': 1, 'crops': 1, 'muscles': 2, 'lawn': 1, 'relations': 1, 'Baboon': 1, 'litigious': 1, 'event': 11, 'evacuated': 1, 'cologne': 1, 'gotten': 5, 'sarcastically': 1, 'risk': 2, 'Good': 1, 'boxer': 2, 'Shining': 1, 'chancers': 1, 'more': 60, 'Bible': 1, 'did': 34, 'Grammys': 1, 'Spain': 1, 'spoken': 1, 'item': 2, 'volunteers': 1, 'elaborate': 1, 'rush': 2, 'sued': 10, 'Whisperer': 1, 'becoming': 7, 'injected': 4, 'animators': 1, 'rated': 1, 'happiest': 1, 'Time': 1, 'er': 1, 'various': 1, 'openly': 1, 'ordinary': 1, 'Frank': 5, 'thunderstorm': 1, 'GPA': 2, 'shrinkflation': 1, 'until': 28, 'itpersonalized': 1, 'Hitchhikers': 1, 'tipped': 2, 'documents': 1, 'stem': 1, 'periscope': 2, 'vengeful': 1, 'Kitchen': 1, 'grown': 1, 'relocation': 1, 'proper': 3, 'impounded': 1, 'nude': 1, 'yuan': 1, 'violence': 1, 'emptiness': 1, 'Sacha': 1, 'Matulewicz': 1, 'deaf': 2, 'seafood': 1, 'illegal': 11, 'progress': 1, 'subsequently': 3, 'failed': 5, 'GermanAustrian': 1, 'Pythons': 1, 'AD': 2, 'secrets': 1, 'Postal': 1, 'protective': 1, 'healing': 1, 'accent': 2, 'Jim': 2, 'talking': 5, 'pheromones': 1, 'Pill': 1, 'critic': 1, 'prosecuted': 1, 'protest': 2, 'Israel': 2, 'tradition': 2, 'recreation': 1, 'technical': 2, 'hundreds': 4, 'Simpsons': 6, 'Spaniards': 1, 'activists': 1, 'excluded': 1, 'Judy': 1, 'U': 1, 'Sudan': 1, 'older': 6, 'frozen': 1, 'Swiss': 1, 'persons': 2, 'interned': 1, 'ALDI': 1, 'such': 21, 'firefighters': 1, 'watching': 9, 'Mary': 3, 'vacation': 1, 'CNN': 1, 'decriminalize': 1, 'locks': 2, 'lines': 1, 'given': 22, 'messages': 2, 'musicians': 3, 'dynamite': 1, 'JFKs': 1, 'artwork': 1, 'overheard': 1, 'cruise': 1, 'sobriety': 1, 'Timecop': 1, 'compatible': 1, 'pm': 1, 'schedule': 1, 'II': 5, 'length': 1, 'intelligently': 1, 'Poland': 1, 'formula': 3, 'tool': 1, 'security': 2, 'consumption': 2, 'room': 6, 'Of': 3, 'reward': 1, 'recapture': 1, 'air': 4, 'Schroeder': 1, 'bullhorn': 1, 'Republican': 1, 'understanding': 1, 'digitized': 1, 'swore': 1, 'suffer': 4, 'conduction': 1, 'manufacturer': 1, 'plane': 10, 'metals': 1, 'listening': 1, 'psychiatric': 1, 'doctorate': 1, 'naked': 1, 'extracting': 1, 'circumstances': 1, 'outfit': 1, 'Ambien': 1, 'acclaimed': 1, 'Ellen': 1, 'IRS': 1, 'Gun': 1, 'strip': 1, 'Stanton': 1, 'Rickman': 1, 'sixth': 1, 'Hawking': 3, 'Tremaine': 1, 'ranger': 1, 'apart': 4, 'contagious': 1, 'Krikalev': 1, 'Manhattans': 1, 'each': 21, 'flavor': 1, 'advised': 2, 'interfaces': 1, 'normally': 1, 'Shahr': 1, 'Registry': 1, 'punished': 2, 'dyed': 1, 'Mermelstein': 1, 'make': 22, 'Airlines': 2, 'cave': 1, 'families': 6, 'record': 19, 'stoked': 1, 'tax': 2, 'Moving': 1, 'profit': 2, 'strontium': 1, 'audition': 3, 'receptors': 1, 'extramarital': 1, 'belief': 2, 'promoted': 2, 'fun': 2, 'England': 5, 'Chiefs': 2, 'Muniz': 1, 'sync': 1, 'sponsored': 1, 'enlisted': 1, 'Bentley': 1, 'Also': 2, 'realized': 6, 'resources': 2, 'germs': 1, 'brave': 1, 'tractors': 1, 'cops': 2, 'min': 1, 'invited': 2, 'eyes': 5, 'Forrest': 1, 'using': 18, 'request': 1, 'Hugh': 5, 'yen': 2, 'amputation': 1, 'Mount': 1, 'vaults': 1, 'nokill': 2, 'Singapore': 1, 'Inc': 1, 'Watson': 1, 'zero': 2, 'Elisabeth': 1, 'father': 15, 'castle': 2, 'Pistols': 1, 'convince': 1, 'barn': 1, 'robbery': 1, 'Brownie': 1, 'employing': 1, 'travelling': 2, 'intelligence': 3, 'Trek': 1, 'copper': 1, 'highly': 3, 'chisel': 1, 'Deere': 2, 'agricultural': 1, 'if': 54, 'Science': 1, 'accused': 3, 'sons': 2, 'records': 6, 'Norways': 1, 'been': 51, 'trader': 1, 'weekold': 1, 'shapes': 1, 'come': 9, 'Wiśnierska': 1, 'accomplished': 1, 'anything': 6, 'battle': 3, 'kidnap': 1, 'only': 71, 'Dinklage': 1, 'Bamber': 1, 'Island': 1, 'Pleasure': 1, 'fighter': 1, 'wrap': 1, 'configuration': 1, 'reading': 9, 'visibly': 1, 'baby': 9, 'humiliated': 1, 'balloons': 1, 'Atlanta': 2, 'upbeat': 2, 'providing': 1, 'milk': 1, 'hated': 1, 'hack': 1, 'amber': 1, 'acclimating': 1, 'can': 69, 'bodyguards': 1, 'defense': 2, 'controls': 2, 'BILLION': 1, 'Lake': 1, 'Cuaron': 1, 'Human': 2, 'Guide': 1, 'execution': 1, 'filthy': 1, 'snuck': 1, 'Germanotta': 1, 'feelgood': 1, 'licensed': 1, 'withdrew': 1, 'Thats': 3, 'More': 3, 'attach': 2, 'medical': 8, 'buried': 4, 'suggested': 4, 'God': 3, 'poem': 1, 'Hate': 1, 'popped': 1, 'avoid': 5, 'unpublished': 1, 'nearly': 8, 'Submission': 1, 'buildings': 4, 'diagnosed': 2, 'poll': 1, 'quote': 2, 'jewelry': 4, 'domestic': 1, 'branded': 1, 'held': 8, 'holds': 1, 'enthralling': 1, 'deliberate': 1, 'beggar': 1, 'mysterious': 1, 'den': 2, 'Theroux': 1, 'freshly': 1, 'parked': 1, 'Samaritan': 1, 'stellar': 1, 'singing': 3, 'turn': 6, 'remaining': 2, 'Despite': 2, 'plans': 1, 'chamber': 1, 'prodigies': 1, 'cheque': 1, 'Clay': 1, 'Saturns': 1, 'kidnapping': 1, 'West': 6, 'environmental': 1, 'hive': 2, 'Ukrainian': 1, 'Letterman': 1, 'rapturous': 1, 'film': 23, 'Icelands': 1, 'buyers': 1, 'shrine': 1, 'much': 31, 'times': 21, 'living': 7, 'ejected': 1, 'Tyler': 1, 'product': 6, 'Walmart': 3, 'Everest': 1, 'storyline': 1, 'celebrates': 1, 'bishop': 2, 'Careful': 1, 'gifting': 1, 'Bohr': 2, 'Vegas': 3, 'resulted': 1, 'abbreviation': 1, 'founder': 1, 'twelveyearold': 1, 'album': 7, 'Captain': 4, 'Original': 1, 'migratory': 1, 'by': 225, 'worship': 2, 'architect': 1, 'yes': 3, 'mistook': 1, 'fertilisation': 1, 'reach': 3, 'Shrek': 1, 'bothering': 1, 'acoustic': 2, 'dressed': 2, 'Theory': 2, 'severe': 1, 'x': 4, 'Reynolds': 2, 'sold': 21, 'even': 49, 'Colombia': 1, 'Light': 1, 'Disney': 6, 'Hellfighters': 1, 'prisons': 1, 'team': 6, 'shortage': 1, 'argued': 3, 'venomous': 1, 'recognise': 1, 'based': 8, 'exploded': 1, 'Apollo': 1, 'blankets': 1, 'Prohibition': 2, 'Manic': 1, 'discarded': 1, 'directly': 2, 'auditory': 1, 'recording': 3, 'Sultan': 1, 'belongings': 1, 'grandfathers': 1, 'fanfare': 1, 'smoker': 1, 'comics': 2, 'anyone': 7, 'early': 11, 'Walken': 1, 'ducks': 3, 'By': 2, 'waitress': 3, 'dBA': 1, 'futurist': 1, 'Hill': 2, 'Halftime': 1, 'RailRoad': 1, 'channel': 1, 'blink': 1, 'existing': 1, 'headquarters': 3, 'Norm': 1, 'Trade': 1, 'operator': 3, 'published': 4, 'continue': 1, 'Superman': 1, 'Rescorla': 1, 'build': 4, 'taped': 1, 'innoculated': 1, 'excavators': 1, 'decided': 10, 'decline': 2, 'Norway': 4, 'revolution': 1, 'native': 5, 'afterwards': 2, 'celebrated': 1, 'Fieri': 1, 'Tibet': 1, 'lives': 7, 'ChunkyLoveraolcom': 1, 'Im': 9, 'Hawaii': 4, 'wipers': 1, 'shar': 1, 'Weir': 1, 'driver': 7, 'star': 5, 'Attendance': 1, 'income': 2, 'desire': 1, 'adhesive': 1, 'politely': 1, 'conservationist': 1, 'Kyoto': 1, 'Peter': 7, 'Orca': 1, 'typewriter': 1, 'Potter': 4, 'Alps': 1, 'planetmoon': 1, 'deodorant': 2, 'cream': 2, 'Packers': 1, 'polio': 1, 'trio': 1, 'ghostwriter': 1, 'enthralled': 1, 'undeniable': 1, 'husbandall': 1, 'Mordor': 1, 'vessel': 2, 'realisation': 1, 'Johns': 1, 'exoskeleton': 1, 'organ': 5, 'services': 1, 'retiree': 1, 'Thor': 1, 'provide': 3, 'property': 4, 'commercial': 4, 'polar': 2, 'kick': 1, 'guests': 1, 'sending': 3, 'Jeremy': 2, 'unexpected': 1, 'facts': 1, 'beekeepers': 2, 'Secessions': 1, 'dogs': 11, 'newspapers': 1, 'Doohan': 1, 'Klansmen': 2, 'becomes': 4, 'honorary': 1, 'Jose': 1, 'slid': 1, 'sustainable': 1, 'Volvo': 1, 'discounts': 1, 'laundry': 1, 'luck': 1, 'affair': 2, 'comedians': 1, 'fed': 1, 'holocaust': 2, 'canals': 1, 'Ethiopia': 1, 'breakers': 1, 'Freuds': 1, 'stolen': 3, 'tennis': 1, 'poacher': 1, 'barefoot': 1, 'amounts': 1, 'maintenance': 1, 'Superior': 1, 'Germany': 5, 'sober': 1, 'People': 5, 'slug': 1, 'Bulge': 1, 'certificate': 1, 'operative': 1, 'Gagas': 1, 'infant': 2, 'Was': 2, 'rod': 1, 'petition': 1, 'debtors': 1, 'spook': 1, 'stationed': 2, 'firehouse': 1, 'replaces': 1, 'mans': 2, 'remote': 1, 'annoying': 1, 'misuse': 1, 'Kleins': 1, 'Entertainment': 1, 'international': 1, 'verse': 1, 'saw': 6, 'upkeep': 1, 'act': 6, 'Customers': 1, 'fungus': 1, 'Bibles': 1, 'beause': 1, 'media': 5, 'observable': 1, 'square': 1, 'relationships': 1, 'Challenger': 2, 'overbooking': 2, 'nonhuman': 1, 'coated': 1, 'monthly': 1, 'fist': 1, 'Georges': 1, 'nacho': 1, 'exert': 1, 'teenagers': 1, 'Nelsons': 1, 'CEO': 3, 'Titanic': 7, 'Gorilla': 1, 'Theyre': 3, 'second': 19, 'Matildas': 1, 'greatest': 2, 'salary': 6, 'Royal': 1, 'countrys': 1, 'nonsmoking': 1, 'illusion': 1, 'Clarkson': 1, 'attacker': 3, 'Col': 2, 'get': 35, 'premiere': 1, 'Zeal': 1, 'letter': 8, 'Anaheim': 1, 'could': 49, 'pipe': 2, 'foreigners': 1, 'Batkid': 1, 'com': 1, 'truth': 1, 'enabling': 1, 'wholesome': 1, 'produce': 3, 'Born': 1, 'cocreator': 1, 'Ackbar': 1, 'piano': 3, 'wine': 1, 'seem': 1, 'otherwise': 2, 'tattooed': 1, 'tens': 1, 'Lebron': 1, 'this': 36, 'Hebdo': 1, 'foot': 5, 'Wilson': 2, 'Pooh': 1, 'claimed': 7, 'Winnie': 1, 'flooded': 1, 'enjoy': 1, 'Medal': 2, 'Houston': 1, 'savings': 1, 'Shore': 1, 'Jedi': 1, 'seeingeye': 1, 'Armstrong': 6, 'exchanged': 1, 'Luke': 3, 'Cent': 1, 'Place': 1, 'caste': 1, 'compensation': 2, 'Enligsh': 1, 'Ernie': 2, 'atom': 1, 'confuse': 1, 'thats': 1, 'phone': 15, 'six': 5, 'Bride': 1, 'Institute': 1, 'milkman': 1, 'struggle': 1, 'couple': 3, 'Nobody': 2, 'planted': 1, 'detonated': 2, 'Nord': 2, 'Leonardo': 2, 'exaggerated': 1, 'valuable': 4, 'Emmy': 1, 'suited': 1, 'change': 1, 'Powers': 1, 'HBO': 1, 'Sgt': 1, 'dinosaur': 2, 'pitch': 3, 'Pi': 2, 'Misaka': 1, 'sentences': 1, 'hiring': 1, 'At': 6, 'stepbrother': 2, 'projectionist': 1, 'Oprahs': 1, 'prostitute': 1, 'injuries': 4, 'days': 30, 'Treatments': 1, 'sidelined': 1, 'approached': 6, 'pay': 20, 'existence': 2, 'cookbook': 1, 'investigating': 1, 'conduct': 1, 'Minetas': 1, 'predators': 1, 'faxes': 2, 'HQs': 1, 'Sorry': 1, 'shell': 1, 'concept': 1, 'pronounce': 1, 'Johnny': 4, 'Orgone': 1, 'ft': 1, 'offer': 5, 'acknowledge': 1, 'voted': 4, 'cities': 5, 'interested': 2, 'gorillas': 2, 'gags': 1, 'Usain': 3, 'hinting': 1, 'Israeli': 2, 'Mario': 2, 'Ernest': 3, 'September': 3, 'languages': 3, 'He': 124, 'human': 14, 'donates': 1, 'will': 29, 'otterfooted': 1, 'Soviet': 2, 'Baby': 1, 'Offerman': 1, 'price': 7, 'treatment': 4, 'consistently': 1, 'disorder': 4, 'shaped': 1, 'users': 4, 'Hamilton': 1, 'Hailie': 1, 'Fearing': 1, 'caused': 8, 'determine': 1, 'Marvel': 4, 'bankrupt': 1, 'Siam': 1, 'abilities': 2, 'discipline': 1, 'Kamakawiwoʻole': 1, 'racism': 1, 'Frog': 1, 'experiments': 1, 'junk': 1, 'Republic': 1, 'amount': 4, 'border': 1, 'supply': 2, 'lymphoma': 1, 'player': 7, 'ward': 1, 'arm': 4, 'Chaplin': 2, 'cleanup': 1, 'Mumbais': 1, 'Mozart': 1, 'illegally': 2, 'Kiwis': 1, 'still': 18, 'HIV': 5, 'wear': 8, 'dots': 3, 'placed': 5, 'exodus': 1, 'creator': 4, 'capita': 2, 'again': 9, 'sidewalk': 1, 'spleen': 1, 'haggled': 1, 'SIM': 2, 'When': 44, 'Archeological': 1, 'Cubans': 1, 'temple': 1, 'islands': 2, 'appeared': 6, 'allemansrätten': 1, 'were': 121, 'sq': 1, 'similar': 2, 'freezing': 2, 'keys': 2, 'flash': 3, 'mankind': 2, 'spouse': 1, 'Zohner': 1, 'demanding': 1, 'bear': 5, 'mail': 5, 'dumped': 1, 'forcing': 1, 'Wine': 1, 'guns': 4, 'café': 1, 'quarantined': 2, 'whichenter': 1, 'Crips': 1, 'sailor': 1, 'Norris': 1, 'sole': 1, 'foundation': 4, 'born': 14, 'obsessed': 2, 'Robert': 6, 'safer': 1, 'searching': 4, 'Crowe': 2, 'paintings': 4, 'spiked': 1, 'NASA': 7, 'Belief': 1, 'defector': 1, 'awkward': 1, 'earthquake': 3, 'licensees': 1, 'praised': 2, 'transparent': 1, 'Swift': 3, 'Garden': 1, 'antihacking': 1, 'forbidden': 1, 'Malicious': 1, 'testified': 2, 'Hans': 1, 'working': 7, 'innocence': 1, 'Lawrence': 1, 'inciting': 1, 'dictated': 1, 'shooting': 7, 'murals': 2, 'backwards': 1, 'heists': 1, 'preserve': 2, 'sauce': 1, 'housework': 1, 'concern': 1, 'sedated': 1, 'Cranston': 1, 'regret': 1, 'Victoria': 2, 'whatsoever': 1, 'riders': 1, 'chefs': 1, 'removed': 8, 'leaving': 9, 'companies': 3, 'Broad': 1, 'raises': 1, 'Oz': 2, 'publishers': 2, 'Germans': 4, 'furniture': 1, 'Nintendo': 5, 'Columbus': 1, 'Flintstones': 1, 'lifeboat': 1, 'Saturday': 3, 'memoir': 1, 'southern': 1, 'Wing': 1, 'Hall': 1, 'pure': 1, 'board': 2, 'fatalities': 1, 'Ian': 1, 'Navin': 1, 'hostile': 2, 'Kim': 1, 'Jeopardy': 1, 'drums': 1, 'later': 57, 'maid': 2, 'ammunition': 1, 'able': 14, 'metal': 7, 'autographed': 1, 'picture': 3, 'alright': 1, 'bad': 6, 'Teen': 2, 'machine': 4, 'unless': 2, 'European': 1, 'nap': 1, 'Pals': 1, 'Cuban': 5, 'advocate': 1, '¾': 1, 'import': 1, 'staged': 2, 'pockets': 1, 'Casino': 1, 'AKA': 1, 'hungry': 1, 'ingredient': 2, 'Quebec': 1, 'greet': 1, 'solarpowered': 1, 'key': 4, 'Bank': 1, 'refused': 18, 'Staff': 1, 'having': 20, 'Iowa': 1, 'guys': 1, 'mixture': 1, 'boxers': 1, 'vehicles': 1, 'Teacher': 2, 'DIY': 2, 'card': 4, 'Engineering': 1, 'Horsehead': 1, 'random': 1, 'citing': 1, 'whenever': 1, 'sample': 2, 'effectively': 2, 'struck': 1, 'ways': 2, 'begin': 1, 'democracy': 1, 'takes': 2, 'whereby': 1, 'His': 20, 'creation': 1, 'Hobbes': 2, 'term': 13, 'prayers': 1, 'Irish': 1, 'gifted': 2, 'millionaires': 2, 'longlost': 1, 'Than': 2, 'decades': 4, 'jump': 2, 'salvaged': 1, 'handed': 2, 'sixteen': 1, 'revolt': 1, 'printing': 1, 'percentage': 1, 'number': 10, 'smartest': 1, 'Admiral': 1, 'there': 42, 'incorporated': 1, 'gained': 2, 'Choco': 1, 'provided': 4, 'anywhere': 3, 'asylum': 1, 'jail': 4, 'blackjack': 1, 'guitarTrigger': 1, 'jealousy': 1, 'ID': 1, 'unconfirmed': 1, 'goods': 1, 'snagged': 1, 'photons': 1, 'pieces': 2, 'lawyers': 3, 'Ealy': 1, 'streaker': 1, 'eruption': 1, 'Billion': 1, 'aimed': 2, 'Turkish': 1, 'apples': 1, 'Because': 6, 'parties': 5, 'goats': 2, 'pei': 1, 'Zone': 1, 'virus': 1, 'ant': 1, 'ends': 1, 'hot': 8, 'tongue': 2, 'smooth': 2, 'lawyer': 5, 'costume': 3, 'Lumbee': 2, 'shock': 1, 'task': 1, 'mysteriously': 1, 'fended': 1, 'showroom': 1, 'treason': 2, 'intending': 1, 'guarded': 1, 'urge': 2, 'trailer': 1, 'Second': 1, 'connect': 1, 'monarchy': 1, 'Program': 1, 'Maine': 1, 'coming': 4, 'Rush': 1, 'grays': 1, 'Director': 2, 'bag': 2, 'teen': 2, 'Testament': 1, 'Pablo': 1, 'void': 3, 'champagne': 1, 'pool': 2, 'Guyanese': 1, 'pills': 1, 'creates': 1, 'Hiedler': 1, 'manged': 1, 'Forest': 2, 'devoted': 1, 'Oh': 1, 'fractured': 1, 'direct': 3, 'beam': 1, 'central': 1, 'dumping': 1, 'suspects': 1, 'baked': 1, 'procrastination': 1, 'emissions': 1, 'minutes': 13, 'operate': 1, 'Combined': 1, 'passing': 4, 'people': 68, 'Show': 5, 'videogame': 1, 'stay': 2, 'honest': 1, 'artist': 2, 'champion': 2, 'drunk': 5, 'Jury': 1, 'disasters': 1, 'S': 4, 'repeatedly': 2, 'Daniels': 3, 'department': 1, 'popularising': 1, 'symbol': 1, 'condemning': 1, 'presents': 1, 'battling': 2, 'Moog': 1, 'allegedly': 2, 'Susan': 1, 'Reebok': 1, 'Secretary': 1, 'Sheen': 3, 'antivenom': 1, 'Black': 11, 'confectioner': 1, 'color': 1, 'trucks': 3, 'hooked': 1, 'Gupta': 1, 'maps': 2, 'excruciating': 1, 'stray': 1, 'Mr': 8, 'Natalie': 1, 'Lane': 1, 'limo': 1, 'nagivate': 1, 'boxing': 2, 'ISS': 1, 'increasing': 3, 'encouraged': 4, 'Deadpool': 3, 'befriended': 2, 'prays': 1, 'Edinburgh': 1, 'business': 3, 'realizing': 6, 'consensus': 1, 'lid': 1, 'Sherlock': 2, 'movies': 5, 'green': 1, 'frantically': 2, 'founding': 2, 'ashes': 2, 'conditions': 4, 'account': 2, 'Oberheim': 1, 'sniffs': 1, 'increased': 1, 'Memorial': 1, 'brass': 1, 'turning': 2, 'rabid': 1, 'employees': 11, 'herd': 1, 'currency': 1, 'disproved': 1, 'Been': 1, 'attempted': 3, 'petitioning': 1, 'Adriana': 1, 'submission': 1, 'excrete': 1, 'wasnt': 7, 'estate': 1, 'reasons': 1, 'fuel': 3, 'Two': 4, 'langar': 1, 'Dollars': 1, 'play': 17, 'headed': 1, 'miscarriage': 1, 'mourn': 1, 'products': 4, 'damn': 2, 'floods': 2, 'dyes': 1, 'overestimate': 1, 'recordings': 1, 'sugar': 3, 'quick': 1, 'exhusband': 1, 'Cecil': 1, 'sleeping': 3, 'Best': 4, 'numbers': 1, 'find': 7, 'diamonds': 5, 'Gate': 2, 'hasnt': 1, 'very': 16, 'horsescooked': 1, 'combat': 5, 'drugs': 2, 'Department': 1, 'legs': 5, 'voices': 1, 'away': 28, 'industrial': 2, 'adapted': 1, 'intimidated': 1, 'hindsight': 1, 'poking': 1, 'maryland': 1, 'HERSHEY': 1, 'works': 4, 'Dickson': 1, 'general': 2, 'Nepal': 1, 'Bugs': 1, 'commit': 1, 'Citrates': 1, 'St': 7, 'contemplative': 1, 'cuddling': 1, 'fired': 4, 'Family': 1, 'dropped': 4, 'Medicine': 2, 'On': 8, 'microphones': 1, 'Days': 1, 'paleontologist': 1, 'Fiji': 1, 'ABC': 1, 'depressed': 1, 'Once': 2, 'Rrated': 1, 'blew': 1, 'hoax': 1, 'host': 3, 'jawbone': 1, 'rights': 7, 'manager': 3, 'du': 1, 'necks': 1, 'paired': 3, 'Instagram': 2, 'hormone': 1, 'his': 388, 'youth': 1, 'successfully': 1, 'contacted': 1, 'Sue': 2, 'profanities': 1, 'inside': 5, 'drip': 1, 'Serpentarium': 1, 'animal': 10, 'iron': 2, 'Some': 6, 'building': 5, 'heath': 1, 'thatched': 1, 'black': 19, 'fight': 8, 'am': 5, 'palaces': 1, 'Rosenhan': 1, 'Could': 1, 'hours': 26, 'Stanford': 2, 'instantly': 1, 'R': 7, 'testimonies': 1, 'daughter': 8, 'KKK': 1, 'certainly': 1, 'Ringo': 3, 'episode': 10, 'Wanted': 1, 'attempts': 1, 'improve': 2, 'warmongering': 1, 'jettisoned': 1, 'search': 8, 'pressured': 1, 'Navys': 1, 'story': 4, 'publishing': 1, 'commitment': 2, 'researchers': 5, 'edited': 3, 'Campaign': 1, 'conversations': 1, 'designers': 2, 'practice': 6, 'Bulkley': 1, 'ceremony': 1, 'bookshelves': 1, 'mingling': 1, 'particles': 1, 'noisy': 1, 'snail': 1, 'opened': 7, 'areas': 1, 'residents': 2, 'overpowering': 1, 'bed': 3, 'combustible': 1, 'rid': 3, 'Chocolate': 2, 'businessman': 2, 'winnings': 1, 'impersonal': 1, 'Monty': 3, 'Going': 1, 'Maravich': 1, 'Minister': 4, 'Nagasaki': 1, 'received': 16, 'today': 3, 'despite': 15, 'passion': 2, 'Belugas': 1, 'essentially': 1, 'hunched': 2, 'Belgian': 1, 'camping': 1, 'motion': 1, 'Grace': 1, 'storm': 1, 'thirsty': 1, 'Jersey': 2, 'share': 1, 'golden': 1, 'laid': 1, 'despised': 1, 'technicality': 1, 'frosted': 1, 'fart': 2, 'own': 26, 'commonly': 1, 'Marilyn': 1, 'Line': 1, 'throw': 1, 'refute': 2, 'newborn': 1, 'whole': 4, 'Man': 4, 'Earths': 1, 'trialled': 1, 'wines': 2, 'Somali': 1, 'grandmas': 1, 'remedies': 1, 'identify': 1, 'penicillin': 1, 'revenue': 1, 'clothesline': 1, 'sought': 2, 'My': 3, 'nuclear': 11, 'effect': 3, 'inventor': 4, 'Cage': 1, 'charity': 5, 'turned': 19, 'threat': 3, 'Oscars': 3, 'good': 16, 'terrorised': 1, 'Trinity': 1, 'funny': 7, 'Jeff': 1, 'seats': 2, 'possibility': 2, 'factories': 1, 'sound': 6, 'decision': 6, 'rebuilt': 1, 'meeting': 4, 'coach': 2, 'acceptable': 1, 'skrulls': 1, 'caretakers': 1, 'studio': 10, 'chorus': 3, 'than': 55, 'Californias': 2, 'slurry': 1, 'he': 319, 'V': 2, 'nails': 1, 'Driveins': 1, 'Wood': 1, 'falsely': 5, 'slippers': 1, 'inadvertently': 1, 'Hingson': 1, 'iTunes': 1, 'censor': 1, 'Shaw': 1, 'departed': 1, 'Heimlich': 1, 'insure': 1, 'extra': 3, 'victims': 6, 'Foundation': 1, 'you': 72, 'stores': 7, 'Ginsburg': 1, 'kept': 12, 'facial': 3, 'showing': 5, 'jacket': 1, 'Wimbledon': 1, 'restriction': 1, 'handwritten': 1, 'baseball': 3, 'Beastie': 1, 'germ': 1, 'contribute': 1, 'quarrel': 1, 'pugs': 1, 'move': 5, 'valued': 2, 'Year': 1, 'Ella': 2, 'Norman': 1, 'worse': 3, 'Gay': 3, 'Or': 1, 'jury': 2, 'Iraq': 1, 'newsreel': 1, 'toward': 1, 'spousal': 1, 'shed': 3, 'nearby': 5, 'Matt': 1, 'IBM': 2, 'quoted': 1, 'hiker': 1, 'Freeman': 1, 'appeal': 1, 'dessert': 2, 'recycling': 1, 'bog': 2, 'dripping': 1, 'fled': 2, 'corpse': 1, 'wearing': 5, 'Al': 10, 'learn': 9, 'entrepreneur': 1, 'Priest': 2, 'program': 6, 'branding': 1, 'Vietcong': 1, 'son': 10, 'Ferrarese': 1, 'presidential': 1, 'systems': 3, 'sprinter': 1, 'Cheryls': 1, 'prostitutes': 2, 'mold': 2, 'south': 1, 'Fogle': 1, 'Hospital': 1, 'survived': 10, 'influence': 1, 'golf': 4, 'corner': 2, 'vegan': 2, 'responsible': 1, 'Nelson': 2, 'shifts': 1, 'Yen': 1, 'Tcell': 1, 'recognize': 5, 'methylmalonic': 1, 'Benningtons': 2, 'TX': 1, 'noticeable': 1, 'soil': 2, 'Dylan': 1, 'tripod': 1, 'apple': 2, 'Pediatric': 1, 'castaways': 1, 'wait': 5, 'Eliot': 1, 'naps': 1, 'Dreams': 1, 'Even': 1, 'listen': 2, 'manslaughter': 1, 'thrive': 1, 'auto': 1, 'Python': 2, 'carefully': 1, 'fiction': 1, 'prestigious': 2, 'enroll': 1, 'nature': 5, 'gear': 2, 'Expecting': 1, 'plate': 3, 'ownership': 2, 'Dairy': 3, 'restaurants': 7, 'estimated': 4, 'Tureaud': 1, 'fees': 2, 'Million': 3, 'craft': 1, 'bit': 4, 'Why': 1, 'sciences': 1, 'sixfoot': 1, 'low': 4, 'Book': 1, 'Given': 1, 'loose': 1, 'buzz': 1, 'operation': 2, 'parent': 1, 'variety': 1, 'counters': 1, 'wrote': 20, 'residence': 1, 'Surabaya': 1, 'fail': 1, 'games': 5, 'Bay': 2, 'Navajo': 2, 'report': 2, 'Oxford': 1, 'tasted': 1, 'shuttle': 3, 'Langholm': 1, 'regularly': 2, 'national': 6, 'drove': 2, 'throwing': 7, 'breaking': 2, 'crow': 3, 'add': 2, 'fly': 1, 'Around': 1, 'village': 4, 'promiscuous': 1, 'counties': 3, 'neurosurgeon': 1, 'electric': 2, 'counsel': 1, 'through': 39, 'sustaining': 1, 'telling': 8, 'live': 14, 'expedition': 2, 'extinction': 1, 'Therefore': 4, 'court': 5, 'anagram': 1, 'Flame': 1, 'race': 3, 'honors': 1, 'obesity': 1, 'eating': 5, 'DARPA': 1, 'pigeon': 2, 'pricing': 1, 'King': 12, 'dad': 1, 'promotion': 2, 'Malaysian': 1, 'Crime': 1, 'see': 15, 'acquired': 1, 'locked': 1, 'Tab': 2, 'Otis': 1, 'prequel': 1, 'Pies': 1, 'No': 2, 'nearextinction': 1, 'inception': 1, 'dated': 1, 'waited': 1, 'threatened': 2, 'Marvin': 1, 'commandeered': 1, 'Holy': 2, 'baking': 6, 'murders': 1, 'guilt': 3, 'absorbed': 1, 'fallen': 1, 'thanked': 2, 'plausible': 1, 'widely': 2, 'disputes': 1, 'provision': 1, 'Reason': 1, 'paraglider': 1, 'Librescu': 1, 'Amelia': 1, 'surprised': 3, 'Rainbow': 1, 'pulpy': 1, 'beard': 1, 'Finding': 1, 'already': 10, 'lotteries': 1, 'influential': 1, 'upside': 1, 'Wolverine': 1, 'Hes': 5, 'recurrence': 1, 'Years': 4, 'therefore': 3, 'optout': 2, 'trading': 1, 'among': 8, 'brewery': 2, 'afraid': 1, 'University': 4, 'breast': 1, 'VHS': 1, 'Jack': 4, 'Team': 1, 'exposing': 1, 'denial': 1, 'copy': 3, 'temporarily': 1, 'theyd': 3, 'favorite': 2, 'yourself': 1, 'refrain': 1, 'exhumed': 2, 'Trigger': 1, 'Army': 6, 'entry': 2, 'daily': 5, 'curl': 1, 'retirement': 3, 'broadcast': 1, 'houses': 3, 'Nietzsches': 2, 'Otto': 1, 'wet': 2, 'sprayed': 1, 'charging': 1, 'brand': 3, 'thoughts': 1, 'implementing': 1, 'relaxation': 1, 'Koreans': 1, 'euro': 1, 'officers': 3, 'unworthy': 1, 'exile': 1, 'commoners': 1, 'scarce': 2, 'Senegal': 2, 'large': 4, 'courtordered': 1, 'iced': 1, 'Springs': 1, 'unjustly': 1, 'Nothing': 1, 'table': 2, 'nestswhich': 1, 'flippable': 1, 'efficiently': 1, 'survival': 2, 'Hawaiʻi': 1, 'runner': 1, 'chair': 1, 'stabbing': 1, 'vale': 2, 'Doune': 1, 'libraries': 2, 'Fijis': 1, 'carpenter': 1, 'Bob': 5, 'prompted': 2, 'decimating': 1, 'inheritance': 3, 'inspectors': 1, 'Wong': 1, 'Luca': 1, 'tea': 2, 'comatose': 2, 'perspective': 1, 'mistranslated': 1, 'chatrooms': 1, 'Mark': 6, 'Christianity': 1, 'vanilla': 1, 'mercurybearing': 1, 'sets': 2, 'Flying': 2, 'delayed': 2, 'too': 18, 'drone': 1, 'Academy': 1, 'drew': 3, 'cheeks': 1, 'traders': 1, 'Vengeance': 2, 'help': 21, 'colleagues': 2, 'registers': 1, 'Murray': 1, 'declared': 4, 'tiger': 3, 'whistleblower': 1, 'stopped': 8, 'heart': 6, 'Kurt': 4, 'incurable': 1, 'preserved': 3, 'Apology': 1, 'United': 14, 'Ebbie': 1, 'Yorkie': 1, 'traced': 1, 'collar': 1, 'crook': 1, 'species': 7, 'purposes': 1, 'Serial': 1, 'Helens': 1, 'FDR': 2, 'Idol': 1, 'float': 2, 'shift': 3, 'Interstellar': 1, 'Potatoes': 1, 'scientists': 8, 'constitution': 1, 'expectation': 1, 'loan': 1, 'Bowl': 2, 'entitled': 4, 'Orleans': 2, 'farms': 2, 'Sigmund': 1, 'Moroccan': 3, 'publish': 1, 'souls': 1, 'hit': 10, 'closer': 1, 'Blue': 1, 'grew': 4, 'Behind': 2, 'Britain': 5, 'degree': 4, 'morphine': 1, 'spotlight': 1, 'Astronauts': 1, 'grossing': 1, 'interviewed': 1, 'Only': 2, 'whistles': 1, 'winners': 2, 'Redding': 1, 'Lynlee': 2, 'congressional': 1, 'Corps': 1, 'Thompson': 1, 'brown': 2, 'luxury': 1, 'C': 3, 'user': 2, 'representing': 1, 'rebalance': 1, 'graduated': 3, 'Wild': 1, 'selfawareness': 1, 'gold': 9, 'embarrassing': 2, 'initialism': 1, 'enter': 3, 'generations': 3, 'experienced': 4, 'humble': 1, 'dayold': 1, 'traumatic': 1, 'invent': 1, 'zones': 1, 'plants': 2, 'latter': 1, 'laborer': 1, 'totality': 2, 'Teddy': 4, 'labels': 1, 'journalism': 1, 'Josiah': 1, 'deadpan': 1, 'Yeganeh': 3, 'Megan': 3, 'Blackjack': 1, 'jog': 1, 'fully': 3, 'Hassan': 1, 'sensationalism': 1, 'sniff': 1, 'Solitaire': 3, 'punishment': 1, 'mouth': 6, 'perfectionist': 1, 'twinned': 1, 'bison': 1, 'impregnate': 1, 'state': 9, 'paperwork': 1, 'moving': 3, 'wrestle': 1, 'advantage': 1, 'forests': 1, 'stranger': 1, 'soothe': 1, 'Egypt': 2, 'competing': 2, 'counting': 1, 'twelve': 1, 'percent': 5, 'wills': 1, 'printed': 3, 'tunes': 1, 'Hey': 1, 'evaded': 1, 'subscribed': 1, 'gambling': 1, 'week': 10, 'imagine': 1, 'valid': 1, 'Scotty': 1, 'nonviolent': 1, 'diabetes': 1, 'computerized': 1, 'bike': 1, 'vow': 1, 'Children': 1, 'Saudi': 2, 'renaming': 1, 'advance': 1, 'fans': 8, 'vowel': 1, 'ineligible': 1, 'London': 7, 'ovation': 1, 'Hollywood': 2, 'favor': 2, 'Soviets': 1, 'programming': 2, 'tank': 4, 'injecting': 2, 'loneliness': 1, 'David': 5, 'carrier': 1, 'bunker': 2, 'catastrophic': 3, 'shelters': 3, 'landscapes': 1, 'dead': 16, 'Morty': 1, 'apologised': 1, 'unknown': 6, 'childrens': 3, 'open': 10, 'ignorant': 1, 'Girls': 2, 'look': 4, 'wildfire': 1, 'flight': 2, 'Bears': 1, 'Wouldnt': 1, 'pig': 3, 'sneaked': 1, 'steps': 1, 'sand': 2, 'Guyana': 1, 'worlds': 6, 'visit': 5, 'Heart': 1, 'voicemail': 1, 'solar': 1, 'tend': 5, 'across': 8, 'biofrequency': 1, 'Lazowski': 1, 'drug': 8, 'JapaneseAmerican': 1, 'criminal': 1, 'fastest': 3, 'ICBM': 1, 'Jobs': 9, 'prepared': 1, 'billion': 10, 'Austin': 2, 'Barbies': 1, 'offered': 13, 'found': 48, 'Parliament': 1, 'healthy': 3, 'searched': 2, 'she': 50, 'contain': 4, 'Disneys': 2, 'Pluto': 1, 'form': 3, 'anti': 1, 'also': 20, 'Mister': 3, 'Tudyk': 3, 'drunkenly': 1, 'Gi': 1, 'caps': 1, 'refusing': 2, 'screenplay': 1, 'drumkit': 1, 'handicap': 2, 'although': 1, 'bulldogs': 1, 'month': 7, 'mercury': 2, 'drink': 10, 'ran': 9, 'Diogenes': 1, 'Marshal': 1, 'Saturn': 1, 'Throne': 1, 'Duke': 1, 'greyhound': 1, 'seekers': 1, 'known': 23, 'decipher': 1, 'Donnie': 4, 'presiding': 1, 'rancher': 1, 'subjects': 1, 'tune': 2, 'Atari': 2, 'fields': 5, 'everybodys': 1, 'granted': 2, 'Bourdain': 1, 'revealed': 9, 'primates': 1, 'misdemeanor': 1, 'erupt': 1, 'triplets': 1, 'equal': 2, 'mints': 1, 'named': 33, 'downpour': 1, 'narrowmindedness': 1, 'Arnold': 1, 'Scout': 2, 'cheap': 1, 'Spanish': 2, 'Mythbusters': 2, 'drummer': 1, 'Dollar': 2, 'classrooms': 1, 'Hobbit': 3, 'Youtube': 1, 'revenge': 3, 'Heckman': 1, 'Alaska': 4, 'plummeted': 1, 'session': 1, 'Toilet': 1, 'Elvis': 3, 'streak': 1, 'According': 3, 'Marshall': 1, 'bribe': 1, 'exploited': 1, 'marrow': 1, 'Hershey': 3, 'Choe': 1, 'Mother': 1, 'Defense': 1, 'Costing': 1, 'bodies': 3, 'Liam': 2, 'broken': 1, 'truck': 2, 'microprocessors': 2, 'Dennis': 1, 'ordered': 4, 'warrant': 1, 'Metal': 2, 'January': 5, 'aged': 2, 'stash': 1, 'Crisis': 1, 'vehicle': 2, 'inherently': 1, 'Zuckerburg': 1, 'access': 2, 'classified': 2, 'rushed': 2, 'Adams': 1, 'clock': 1, 'dentist': 1, 'separation': 1, 'sends': 1, 'domination': 1, 'lexicon': 1, 'Award': 4, 'around': 22, 'instructions': 2, 'Records': 1, 'surface': 2, 'end': 12, 'Full': 2, 'genetic': 3, 'require': 3, 'shot': 14, 'misspelled': 3, 'bridge': 2, 'has': 69, 'felt': 5, 'absolutely': 1, 'Logan': 1, 'renewable': 1, 'opponents': 1, 'crushed': 1, 'heckler': 1, 'happening': 1, 'writers': 4, 'positioned': 1, 'Ewa': 1, 'YouTube': 1, 'chickens': 1, 'Inouye': 1, 'agreed': 6, 'how': 30, 'Grease': 2, 'Arkansas': 1, 'badges': 1, 'struggled': 2, 'oceanography': 1, 'pilots': 1, 'showed': 6, 'tablets': 1, 'Pink': 3, 'closes': 1, 'Cowardly': 1, 'Howard': 1, 'roman': 1, 'Princess': 5, 'Politics': 1, 'knows': 1, 'Greek': 4, 'homosexuality': 1, 'arrest': 4, 'boot': 1, 'celebrating': 2, 'Prize': 5, 'snails': 1, 'voice': 15, 'pennys': 1, 'pendant': 1, 'repeating': 1, 'television': 3, 'alert': 1, 'princess': 1, 'introduced': 3, 'Wire': 1, 'girlfriend': 1, 'cancelled': 3, 'granddaughter': 1, 'fullystocked': 1, 'tanks': 1, 'Honey': 1, 'debate': 3, 'pets': 2, 'Wrigleys': 1, 'Penguin': 1, 'walk': 5, 'cheese': 2, 'melody': 1, 'urged': 2, 'federal': 4, 'internet': 4, 'enlightened': 1, 'level': 3, 'condition': 5, 'Nevada': 1, 'nonwhite': 1, 'descendant': 2, 'leather': 5, 'Royo': 2, 'Fire': 3, 'Companys': 1, 'stood': 3, 'entrance': 2, 'dwarfs': 1, 'integrity': 3, 'interest': 2, 'Epidemic': 1, 'certain': 4, 'heat': 1, 'inch': 1, 'publicized': 1, 'Hillenburg': 1, 'rogue': 1, 'Federal': 1, 'moms': 1, 'sensitive': 1, 'First': 2, 'web': 1, 'refurbished': 1, 'site': 3, 'cold': 7, 'recyclable': 1, 'Honors': 1, 'Jacket': 1, 'teenager': 4, 'Hersheys': 3, 'Its': 10, 'Room': 2, 'immediately': 4, 'up': 80, 'crisis': 1, 'morality': 2, 'Awakens': 1, 'Homosapians': 1, 'stories': 3, 'missing': 2, 'road': 5, 'Joes': 3, 'magic': 2, 'doubles': 1, 'fellow': 4, 'Subway': 1, 'Kiev': 1, 'reporting': 1, 'Party': 2, 'nationalism': 1, 'left': 16, 'servants': 1, 'senator': 1, 'Aquarium': 1, 'Libations': 1, 'us': 4, 'assist': 1, 'universities': 1, 'spacesuits': 1, 'app': 1, 'Pacino': 1, 'role': 8, 'Lyndon': 1, 'Pick': 1, 'shrimp': 1, 'attorneys': 2, 'eye': 1, 'Navy': 5, 'longterm': 1, 'atlantic': 1, 'following': 6, 'Government': 2, 'try': 2, 'IN': 1, 'deals': 1, 'Hundreds': 1, 'cyclical': 1, 'mealdid': 1, 'Internet': 4, 'political': 2, 'Jackass': 1, 'band': 9, 'pull': 2, 'cause': 8, 'You': 10, 'crows': 1, 'investigation': 3, 'climbing': 1, 'great': 6, 'military': 9, 'Milwaukee': 1, 'Akairaiwai': 1, 'Pouring': 1, 'detail': 2, 'Australia': 8, 'Margaret': 4, 'One': 6, 'overcome': 2, 'internal': 1, 'challenged': 2, 'fateful': 1, 'gravity': 1, 'things': 12, 'Union': 4, 'lifespan': 3, 'stuffed': 1, 'understand': 3, 'standards': 2, 'Showman': 1, 'ritual': 1, 'near': 5, 'November': 1, 'shootings': 1, 'squad': 1, 'Soup': 1, 'ambitions': 1, 'casually': 1, 'Meyer': 1, 'Argonne': 1, 'budget': 5, 'related': 2, 'seawater': 1, 'daughters': 3, 'murderer': 1, 'Swede': 1, 'identity': 1, 'the': 1731, 'rivalry': 1, 'comments': 1, 'Seinfeld': 4, 'Pipkin': 1, 'TV': 11, 'tail': 2, 'growing': 4, 'birthday': 3, 'email': 4, 'seems': 2, 'WW': 8, 'Jordan': 6, 'Gordon': 1, 'seen': 13, 'honey': 3, 'Floyds': 2, 'Yorick': 1, 'source': 2, 'stickers': 3, 'supporting': 4, 'changing': 1, 'Nashville': 2, 'smelled': 1, 'Ratatouille': 1, 'da': 2, 'title': 2, 'AfricanAmericans': 1, 'policy': 1, 'shutting': 1, 'fused': 1, 'colonial': 1, 'modified': 1, 'rains': 1, 'Moonwalker': 1, 'SEALs': 3, 'small': 9, 'manuscripts': 1, 'Hazzard': 1, 'weed': 2, 'Cobain': 2, 'Pizza': 3, 'revelers': 1, 'offering': 4, 'cancer': 13, 'Klitschko': 2, 'lyrics': 2, 'replaced': 3, 'word': 7, 'played': 19, 'Way': 3, 'someones': 1, 'waste': 10, 'goddaughter': 1, 'timer': 1, 'technology': 1, 'approval': 1, 'Poo': 2, 'Americas': 3, 'performed': 8, 'scars': 2, 'figurine': 1, 'critical': 1, 'Danny': 2, 'Gladstone': 1, 'secure': 1, 'home': 18, 'Stiller': 1, 'likes': 1, 'love': 6, 'Willy': 1, 'War': 11, 'believe': 3, 'check': 2, 'anxiety': 4, 'immortal': 1, 'covered': 4, 'Thailand': 1, 'reducing': 3, 'Marie': 1, 'Georgia': 3, 'detected': 2, 'Watterson': 2, 'Columbia': 2, 'forced': 9, 'magazine': 2, 'convicted': 7, 'footprints': 1, 'consciousness': 1, 'selftaught': 2, 'parts': 6, 'Knowledge': 1, 'CPR': 2, 'positions': 1, 'save': 10, 'ice': 2, 'Glenda': 1, 'decommissioned': 1, 'initially': 3, 'Due': 2, 'Mortensen': 2, 'kits': 1, 'biggest': 2, 'events': 1, 'Yorker': 1, 'internment': 1, 'regrets': 1, 'police': 13, 'Burned': 1, 'mad': 1, 'type': 2, 'Phyllis': 1, 'clean': 3, 'Desert': 1, 'winner': 4, 'Hubbard': 1, 'car': 12, 'Sharon': 1, 'incompetent': 2, 'whatever': 1, 'pedicab': 1, 'presidency': 1, 'Is': 2, 'Alyssa': 1, 'give': 9, 'Either': 1, 'manhole': 1, 'thousand': 2, 'disappointment': 1, 'Ireland': 2, 'officially': 2, 'masks': 1, 'worms': 1, 'wealth': 3, 'crowned': 1, 'Dull': 1, 'jeans': 1, 'aired': 3, 'extensive': 1, 'collective': 1, 'Away': 1, 'step': 1, 'wordbyword': 1, 'deported': 1, 'nationality': 1, 'Browne': 1, 'dog': 15, 'let': 12, 'sun': 2, 'greatly': 1, 'GoldenPalacecom': 1, 'these': 4, 'cosmically': 1, 'Berlin': 3, 'duties': 2, 'Frys': 2, 'testicular': 2, 'boss': 2, 'Gene': 1, 'dress': 2, 'Oakley': 1, 'Darwin': 1, 'De': 2, 'globally': 1, 'sinking': 3, 'Columbine': 1, 'Live': 5, 'professional': 2, 'blind': 11, 'humanely': 1, 'listed': 2, 'odor': 2, 'Sony': 1, 'leave': 10, 'hold': 3, 'Cash': 2, 'vitamins': 1, 'Fortnite': 1, 'hotel': 3, 'matching': 1, 'cache': 1, 'machines': 1, 'bondage': 1, 'loss': 7, 'clothing': 2, 'Aires': 1, 'Tandy': 1, 'twice': 4, 'gunmen': 2, 'opening': 4, 'Michael': 12, 'time': 53, 'delivery': 3, 'rivals': 1, 'survey': 2, 'mirror': 3, 'taping': 1, 'prime': 1, 'government': 8, 'first': 52, 'Dakota': 2, 'seashells': 1, 'Cutler': 1, 'wont': 1, 'neanderthals': 1, 'Ray': 2, 'Friday': 1, 'Wilkes': 1, 'sixiron': 1, 'ballistic': 1, 'Scientology': 7, 'Lives': 1, 'show': 31, 'far': 10, 'bread': 1, 'horsedrawn': 1, 'structural': 1, 'replacing': 2, 'Games': 2, 'suburban': 1, 'preparing': 1, 'Incontinence': 1, 'DreamWorks': 1, 'couldnt': 6, 'unscripted': 1, 'lightbulb': 1, 'darken': 1, 'Jared': 1, 'dynamiting': 1, 'gang': 5, 'COLLECT': 2, 'Authorities': 1, 'crash': 4, 'Dominos': 4, 'threepoint': 1, 'day': 31, 'schools': 5, 'introduce': 1, 'Armed': 1, 'highway': 2, 'EskoBear': 1, 'impossible': 3, 'accident': 2, 'configurations': 2, 'combination': 3, 'fussed': 1, 'Somme': 1, 'reduced': 5, 'recognized': 2, 'whistled': 1, 'Wireless': 1, 'submitted': 1, 'tossing': 1, 'Benjamin': 5, 'emotions': 1, 'shore': 1, 'irritation': 1, 'Chihuahua': 1, 'Abercrombie': 1, 'danger': 3, 'upward': 1, 'body': 21, 'garden': 1, 'violation': 1, 'American': 26, 'royalties': 2, 'perished': 1, 'raft': 2, 'crabs': 1, 'neardeath': 1, 'Portland': 2, 'painful': 2, 'crashed': 1, 'Bundy': 1, 'orphaned': 1, 'authority': 1, 'sports': 1, 'Scandinavians': 1, 'learned': 11, 'evidence': 2, 'stick': 2, 'cubs': 1, 'Bai': 1, 'Rome': 3, 'moral': 1, 'Coolidge': 1, 'diagnostic': 1, 'antiSemitic': 1, 'charge': 2, 'inches': 2, 'fathers': 4, 'phrases': 1, 'cloaked': 1, 'crossed': 1, 'cleats': 1, 'Stefan': 1, 'so': 98, 'After': 28, 'reduce': 5, 'funding': 2, 'beer': 7, 'Neils': 1, 'heavyduty': 1, 'Trejo': 1, 'planned': 3, 'WiFi': 1, 'riddle': 2, 'egg': 1, 'rhinoplasties': 1, 'leaves': 2, 'isnt': 4, 'financed': 1, 'Mayweather': 1, 'pick': 1, 'It': 29, 'took': 26, 'influencing': 1, 'burger': 1, 'reporter': 3, 'basis': 3, 'enemys': 3, 'zoology': 1, 'Hero': 1, 'Anderson': 1, 'referee': 1, 'Abolition': 1, 'babys': 2, 'Earth': 6, 'soon': 3, 'be': 152, 'millennials': 1, 'Smallpox': 1, 'newly': 3, 'launched': 2, 'have': 102, 'Elephant': 1, 'nests': 3, 'Radcliffe': 2, 'local': 11, 'And': 6, 'riot': 1, 'tariffs': 1, 'Editing': 2, 'Aldi': 6, 'encyclopedist': 1, 'process': 3, 'sexually': 1, 'wealthy': 1, 'map': 2, 'mostly': 3, 'rhino': 1, 'respect': 1, 'blocking': 1, 'totally': 1, 'whose': 5, 'recommended': 1, 'cultural': 1, 'Productions': 1, 'veto': 1, 'Oscar': 7, 'ranked': 1, 'rehabilitation': 1, 'polyester': 1, 'hanged': 2, 'Cruise': 2, 'maybe': 1, 'farmboy': 1, 'knew': 8, 'officer': 8, 'apologising': 2, 'considered': 9, 'warranty': 2, 'wherein': 1, 'code': 7, 'supposed': 1, 'say': 6, 'participate': 2, 'independence': 1, 'simply': 7, 'quantities': 1, 'tried': 13, 'spirituality': 1, 'population': 7, 'ratchet': 2, 'beaches': 1, 'sails': 1, 'curated': 1, 'pirates': 2, 'flat': 1, 'Such': 2, 'Home': 1, 'weighing': 1, 'foreign': 1, 'really': 5, 'Eventually': 2, 'leisure': 1, 'cesium': 1, 'interpreter': 2, 'morbidly': 1, 'probation': 1, 'handler': 1, 'thrown': 5, 'barbed': 1, 'bone': 2, 'stigma': 1, 'Cornell': 1, 'army': 2, 'pizza': 6, 'wrist': 1, 'Honestly': 1, 'yet': 3, 'together': 8, 'pun': 1, 'unprecedented': 1, 'innoculation': 1, 'signed': 10, 'Sky': 1, 'clicks': 1, 'grandmothers': 1, 'confirming': 1, 'Ghost': 1, 'Foo': 1, 'Later': 5, 'Quiet': 1, 'Macys': 1, 'Betamax': 1, 'calculated': 1, 'to': 1144, 'win': 11, 'signals': 1, 'carbon': 4, 'physical': 2, 'Boys': 1, 'Antiques': 1, 'repawn': 1, 'blue': 3, 'allocate': 1, 'Musical': 1, 'eventually': 7, 'ventilator': 1, 'beforehand': 1, 'currently': 4, 'destroyer': 1, 'Clooney': 1, 'yard': 2, 'journal': 1, 'Crimean': 1, 'ransom': 3, 'accepted': 10, 'rom': 1, 'imagery': 1, 'bulls': 1, 'collies': 1, 'chocolates': 1, 'TIL': 986, 'warned': 2, 'Sean': 1, 'obtaining': 1, 'Morse': 2, 'exchange': 2, 'Ill': 1, 'Retail': 1, 'eve': 1, 'Nike': 4, 'Knoxville': 1, 'tends': 2, 'ring': 8, 'vehemently': 1, 'McKellen': 1, 'ecolodge': 1, 'octopus': 3, 'everyday': 2, 'World': 11, 'excused': 1, 'money': 24, 'Donkey': 1, 'comfortably': 1, 'serving': 2, 'occupied': 3, 'meet': 8, 'trip': 2, 'cash': 3, 'laundrywrote': 1, 'Middle': 3, 'Elton': 4, 'hermit': 1, 'Antarctica': 2, 'separates': 1, 'done': 3, 'files': 1, 'Thagomizer': 1, 'pass': 5, 'law': 17, 'Marine': 2, 'Fitzgerald': 2, 'dream': 2, 'toughness': 1, 'Die': 1, 'diapers': 2, 'campaigns': 1, 'drivers': 4, 'Bangladesh': 2, 'deeming': 1, 'Ruth': 1, 'Reloaded': 1, 'religious': 1, 'papers': 2, 'irritating': 1, 'Kit': 1, 'beating': 3, 'Ampex': 1, 'Wataru': 1, 'tones': 1, 'Church': 3, 'basically': 4, 'yrs': 2, 'floor': 4, 'ruptured': 3, 'She': 22, 'Xbox': 2, 'synths': 1, 'Myers': 1, 'manifest': 1, 'Legend': 1, 'tube': 1, 'dips': 1, 'Onestar': 1, 'diamond': 2, 'Pumbaa': 2, 'failure': 1, 'Hit': 1, 'Cincinnati': 1, 'multivitamins': 1, 'part': 11, 'Name': 1, 'Kodiak': 1, 'cartographers': 1, 'attempt': 3, 'expertise': 1, 'holding': 2, 'phrase': 1, 'theorized': 1, 'studios': 3, 'pg': 1, 'laughed': 1, 'as': 192, 'killing': 13, 'efficient': 2, 'flying': 1, 'Washington': 8, 'believed': 11, 'without': 41, 'private': 5, 'snakebite': 1, 'scraps': 1, 'gulag': 1, 'with': 225, 'cuts': 2, 'helped': 16, 'evolved': 2, 'encouraging': 1, 'writeoff': 1, 'stronger': 2, 'seeking': 2, 'Fangli': 1, 'exactly': 1, 'light': 5, 'Indonesia': 1, 'language': 9, 'uncle': 1, 'Indiana': 1, 'restored': 1, 'White': 8, 'roosters': 2, 'groups': 1, 'attending': 1, 'library': 7, 'Dublin': 1, 'sent': 21, 'Ages': 1, 'cum': 1, 'How': 2, 'demonstrate': 1, 'instead': 19, 'sour': 1, 'Surprisingly': 1, 'work': 24, 'French': 6, 'trapped': 2, 'Acre': 1, 'Burt': 1, 'shark': 3, 'hitman': 4, 'Hedrens': 1, 'joke': 6, 'visiting': 4, 'promise': 1, 'Credit': 1, 'diseases': 2, 'That': 18, 'lunar': 1, 'trail': 1, 'pee': 2, 'Grand': 2, 'hands': 2, 'pair': 1, 'Darden': 1, 'courting': 1, 'tore': 1, 'Impressed': 1, 'guaranteed': 1, 'hut': 1, 'patent': 2, 'seemed': 1, 'view': 2, 'burned': 4, 'Raspberry': 1, 'leftover': 1, 'Drag': 1, 'miners': 1, 'sink': 1, 'interview': 1, 'Great': 8, 'reindeer': 1, 'Monday': 1, 'Gwyneth': 1, 'Parents': 1, 'bragged': 1, 'Bureau': 1, 'UKs': 1, 'alternative': 1, 'Paleo': 1, 'bra': 1, 'material': 5, 'Razzie': 2, 'Drinking': 1, 'spent': 14, 'Kubrick': 1, 'waster': 1, 'future': 3, 'playing': 13, 'threw': 3, 'send': 6, 'firing': 1, 'call': 4, 'retired': 4, 'waterfall': 1, 'museum': 1, 'carries': 1, 'realize': 2, 'passenger': 2, 'harassment': 1, 'DC': 1, 'blame': 2, 'prevents': 1, 'inventions': 1, 'prosecution': 2, 'young': 7, 'grafts': 1, 'blacksmith': 1, 'accidentally': 7, 'Rec': 1, 'freshwater': 1, 'everyone': 5, 'stargazing': 1, 'meters': 2, 'Air': 1, 'occupations': 1, 'Flag': 1, 'Fifth': 1, 'compete': 1, 'scam': 1, 'Lucas': 10, 'photograph': 1, 'bedroom': 1, 'Timothy': 1, 'trawler': 1, 'right': 7, 'Stephen': 7, 'followed': 4, 'segregate': 1, 'remain': 3, 'smuggling': 1, 'Cena': 2, 'holographic': 3, 'are': 111, 'Reserve': 1, 'mistakes': 1, 'Murrays': 1, 'dumbest': 2, 'afloat': 1, 'fatality': 1, 'stake': 1, 'crowd': 3, 'refuge': 1, 'Further': 1, 'Tolbert': 1, 'Ottawa': 2, 'Italian': 4, 'eyebrow': 2, 'cartoons': 2, 'childhood': 4, 'Russia': 1, 'improvisation': 1, 'appropriate': 1, 'alien': 1, 'scratch': 2, 'Silicon': 1, 'missile': 1, 'pardoned': 2, 'terminally': 2, 'DeGeneres': 1, 'overall': 3, 'concert': 4, 'blogger': 1, 'feats': 1, 'accounts': 3, 'Wyoming': 1, 'Philadelphia': 3, 'companys': 1, 'Claymore': 1, 'poison': 1, 'censored': 1, 'fulfill': 1, 'witness': 3, 'Space': 1, 'mitzvah': 1, 'liars': 1, 'master': 3, 'Kearns': 1, 'Bars': 1, 'Puppets': 1, 'intermittent': 1, 'Mara': 1, 'gills': 1, 'orangutan': 2, 'medal': 4, 'Christopher': 2, 'thank': 2, 'June': 1, 'chronic': 1, 'Hanks': 1, 'pound': 4, 'Sun': 1, 'mine': 3, 'juggling': 1, 'pried': 1, 'IT': 3, 'became': 24, 'wanted': 16, 'survive': 2, 'Syndrome': 2, 'characterized': 1, 'put': 17, 'ahead': 2, 'stork': 2, 'everybody': 2, 'bring': 5, 'parlor': 1, 'velociraptor': 1, 'bell': 3, 'strengthen': 1, 'shrines': 1, 'workings': 1, 'B': 2, 'trade': 4, 'attracting': 1, 'detector': 1, 'Los': 1, 'Conan': 1, 'Bene': 1, 'phony': 1, 'ignored': 4, 'distributing': 1, 'established': 2, 'wellrespected': 1, 'pushups': 1, 'cosmonaut': 1, 'pension': 3, 'explicitly': 1, 'fished': 1, 'finished': 2, 'conducted': 1, 'Auto': 1, 'eradicate': 1, 'affiliation': 1, 'outings': 1, 'witnessed': 1, 'Pasterski': 1, 'improvised': 1, 'depression': 4, 'bounced': 1, 'Brahms': 1, 'Huxley': 1, 'Bennington': 1, 'Disneyland': 1, 'slow': 1, 'Zookeepers': 1, 'pamphlets': 1, 'fixed': 1, 'bonuses': 1, 'maintain': 2, 'illicit': 1, 'writings': 1, 'Milton': 2, 'presidents': 1, 'Rhapsody': 2, 'cast': 4, 'possessions': 1, 'Madison': 1, 'hand': 7, 'trying': 4, 'wheelchair': 2, 'due': 25, 'serious': 5, 'validate': 1, 'slime': 2, 'Motörhead': 1, 'single': 6, 'horrible': 1, 'colonel': 1, 'Arakawa': 1, 'diets': 1, 'cleaned': 1, 'Anonymous': 2, 'Jaguars': 1, 'deadly': 1, 'Electric': 2, 'correlation': 1, 'disclose': 1, 'learning': 2, 'marathon': 2, 'Pete': 1, 'Eminem': 5, 'rail': 2, 'students': 18, 'dealers': 3, 'boy': 16, 'mama': 1, 'food': 18, 'usage': 1, 'new': 23, 'backstory': 1, 'franchise': 1, 'winning': 9, 'burn': 3, 'steering': 1, 'crazy': 2, 'literally': 3, 'allowing': 2, 'observed': 1, 'pneumonia': 1, 'Filming': 1, 'colourblind': 1, 'over': 59, 'Oakland': 1, 'reports': 2, 'Witold': 1, 'stayed': 3, 'COMBINATION': 1, 'Nigerian': 1, 'confiscated': 3, 'Fort': 2, 'opponent': 1, 'him': 135, 'Satan': 2, 'addiction': 1, 'Ive': 1, 'malaria': 2, 'ruled': 2, 'Cleaning': 1, 'conscious': 1, 'cards': 5, 'consumer': 2, 'Research': 1, 'Foos': 1, 'comedian': 2, 'obese': 1, 'engagement': 3, 'wrapped': 1, 'expected': 2, 'equipment': 2, 'Texas': 5, 'Chester': 1, 'Gibson': 1, 'Silkwood': 1, 'ants': 4, 'roles': 1, 'hugely': 1, 'Martin': 3, 'Day': 1, 'hes': 3, 'everthing': 1, 'aims': 1, 'producer': 3, 'proceeds': 1, 'cells': 3, 'math': 1, 'Kate': 1, 'Since': 2, 'plan': 2, 'Sent': 1, 'CDC': 1, 'collided': 1, 'Ostracized': 1, 'For': 10, 'candidates': 1, 'Being': 1, 'select': 1, 'joint': 3, 'prevented': 1, 'Enterprises': 1, 'Cops': 1, 'requirement': 1, 'flights': 1, 'grocery': 2, 'led': 9, 'anus': 1, 'special': 4, 'gag': 1, 'conclusions': 1, 'dating': 3, 'AustinTX': 1, 'dub': 1, 'severed': 1, 'kid': 9, 'object': 2, 'dish': 1, 'Aged': 1, 'parents': 10, 'rebuild': 1, 'hosts': 1, 'failing': 2, 'elf': 1, 'saved': 11, 'tide': 1, 'relieve': 1, 'anybody': 2, 'Capones': 1, 'intellectual': 1, 'important': 2, 'afford': 5, 'Justice': 2, 'capacity': 1, 'Icelandic': 1, 'earth': 3, 'neighbor': 2, 'TH': 1, 'Safe': 1, 'associated': 3, 'luminaries': 1, 'experiencing': 1, 'generated': 2, 'rice': 1, 'ppg': 2, 'Far': 1, 'pharmaceutical': 1, 'attended': 1, 'molécular': 1, 'family': 21, 'VIP': 1, 'announced': 3, 'approved': 4, 'bigger': 3, 'Plan': 1, 'Talero': 1, 'year': 39, 'k': 3, 'solution': 2, 'Floyd': 2, 'Uno': 1, 'movie': 24, 'height': 3, 'assets': 1, 'generating': 1, 'planes': 4, 'practical': 1, 'nursed': 1, 'for': 396, 'goosebumps': 1, 'Kazakhstani': 1, 'Croix': 1, 'expense': 1, 'demanded': 1, 'Pittsburgh': 1, 'reputation': 2, 'WhamO': 1, 'Plato': 1, 'robbed': 1, 'Drafted': 1, 'immigrant': 1, 'Carrie': 4, 'care': 7, 'verbal': 1, 'caucasians': 1, 'some': 19, 'Bly': 1, 'Independence': 1, 'cases': 4, 'Niro': 1, 'sells': 2, 'costs': 1, 'stop': 15, 'force': 4, 'Puzo': 1, 'DeLonge': 1, 'antipsychotic': 1, 'Marshals': 1, 'experiences': 2, 'Craig': 1, 'priority': 1, 'wherever': 1, 'Taxi': 1, 'blender': 1, 'sacrificing': 1, 'escape': 2, 'graduate': 1, 'consisting': 2, 'sounded': 1, 'anyway': 1, 'creatorsdirectorswriters': 1, 'Sexiest': 1, 'Girl': 2, 'Andrew': 3, 'Leech': 1, 'Trader': 2, 'counter': 1, 'cars': 6, 'forcibly': 1, 'Wishful': 1, 'McCullough': 1, 'Diners': 1, 'Joss': 1, 'shocked': 1, 'renders': 1, 'Nicolas': 1, 'mixed': 1, 'menu': 3, 'inmates': 1, 'disallowing': 1, 'sang': 1, 'regarding': 2, 'cage': 1, 'often': 14, 'join': 3, 'Prime': 4, 'agressive': 1, 'gather': 2, 'Booth': 1, 'Initially': 1, 'prematurely': 1, 'via': 5, 'Joseph': 2, 'thorough': 1, 'bus': 2, 'British': 12, 'juries': 1, 'weret': 1, 'those': 13, 'Berry': 3, 'inner': 1, 'codebreaker': 1, 'screw': 1, 'Court': 4, 'dismissed': 2, 'traumatized': 1, 'Snyder': 1, 'repeated': 1, 'technicians': 1, 'bee': 4, 'Amanda': 1, 'BCE': 1, 'toys': 2, 'discovering': 2, 'Roberts': 2, 'marks': 2, 'Menace': 1, 'filter': 2, 'laugh': 5, 'Queen': 14, 'Soule': 1, 'appointed': 1, 'exNBA': 1, 'experience': 6, 'Flash': 1, 'dummy': 2, 'computer': 3, 'market': 2, 'resistance': 5, 'charracter': 1, 'Tesla': 3, 'problem': 4, 'Ebert': 1, 'Tiger': 2, 'inferior': 2, 'marriage': 1, 'Silver': 1, 'auditioned': 3, 'unknowingly': 1, 'mom': 1, 'decreased': 2, 'Ned': 1, 'uniform': 1, 'Tokyos': 3, 'Vanna': 1, 'regardless': 2, 'bought': 6, 'Ed': 6, 'births': 1, 'Astronomy': 1, 'killer': 1, 'James': 8, 'Konami': 1, 'Lorne': 1, 'everytime': 1, 'lessons': 4, 'productions': 2, 'judge': 6, 'plaque': 1, 'points': 3, 'violations': 2, 'tastes': 1, 'activist': 1, 'ingested': 1, 'General': 3, 'bricklayer': 1, 'PT': 1, 'hillbilly': 1, 'tortoise': 1, 'but': 85, 'individuals': 2, 'experts': 2, 'Williams': 6, 'swim': 1, 'knowledge': 3, 'LOTR': 1, 'Anti': 1, 'feed': 1, 'Supreme': 4, 'smell': 7, 'elephants': 4, 'between': 14, 'skilled': 2, 'Organization': 1, 'disabled': 3, 'murdered': 3, 'Olympics': 2, 'address': 3, 'they': 140, 'They': 50, 'Hinduism': 1, 'sick': 5, 'kidnapped': 2, 'knife': 5, 'motivated': 1, 'Tom': 7, 'Fat': 1, 'gave': 19, 'land': 8, 'Hemochromatosis': 1, 'syphilis': 1, 'fears': 2, 'Missouri': 1, 'E': 5, 'usually': 2, 'weeds': 2, 'writer': 4, 'apparently': 1, 'celebrate': 1, 'submarines': 3, 'traditional': 1, 'Age': 1, 'started': 14, 'equality': 1, 'activities': 2, 'power': 7, 'conservation': 1, 'Tchaikowsky': 1, 'Perry': 2, 'Peace': 1, 'pocketknife': 1, 'sired': 1, 'Saadat': 1, 'researcher': 1, 'ups': 2, 'Danielle': 1, 'Mohammed': 1, 'Harper': 1, 'communicated': 2, 'generation': 1, 'Burgers': 1, 'devastated': 2, 'hospitals': 4, 'constitutional': 1, 'brainstorming': 1, 'medias': 1, 'sex': 4, 'rapper': 2, 'surroundings': 1, 'complete': 4, 'grab': 1, 'unfortunately': 1, 'prevent': 8, 'period': 3, 'net': 1, 'Aragorn': 2, 'filed': 2, 'Back': 1, 'Marcus': 1, 'AIDS': 4, 'came': 17, 'predicted': 3, 'spiral': 1, 'seeing': 3, 'psychological': 1, 'total': 4, 'arrested': 5, 'donor': 1, 'Diego': 1, 'Milkman': 1, 'Cohen': 2, 'kill': 9, 'deeper': 1, 'Steibelts': 1, 'apocalyptic': 1, 'arrests': 1, 'everything': 4, 'sausages': 1, 'enhanced': 1, 'TIl': 1, 'timed': 1, 'Wladimir': 1, 'pranksters': 1, 'toured': 1, 'breasts': 1, 'huge': 3, 'Sajak': 1, 'Joe': 5, 'top': 4, 'noticing': 1, 'inexcusable': 1, 'DVDs': 1, 'packed': 1, 'McCartney': 1, 'speed': 5, 'coups': 1, 'marine': 1, 'advertisement': 1, 'recovered': 3, 'creed': 1, 'Violets': 1, 'Bader': 1, 'hacking': 1}, {'broke': 5, 'There': 2, 'good': 5, 'murder': 1, 'arent': 1, 'excuse': 1, 'Banfield': 1, 'Pure': 1, 'bullshittery': 1, 'expensive': 3, 'funny': 2, 'House': 1, 'th': 4, 'excess': 1, 'antivaxxers': 1, 'prize': 1, 'abuse': 5, 'perform': 2, 'Jeff': 1, 'demo': 1, 'closing': 1, 'sound': 4, 'safety': 2, 'surprise': 3, 'client': 1, 'Id': 1, 'church': 2, 'stopping': 1, 'coach': 2, 'Cube': 1, 'ridiculous': 1, 'Kendrick': 1, 'where': 9, 'acting': 1, 'Grohl': 1, 'Elway': 2, 'Actress': 1, 'fails': 1, 'Scientists': 1, 'handled': 1, 'Reno': 1, 'FDA': 1, 'write': 1, 'than': 2, 'chicken': 1, 'Spencers': 1, 'Jefferies': 1, 'maiden': 1, 'pencil': 1, 'Gear': 1, 'viewing': 2, 'lost': 4, 'Conceal': 1, 'tragedy': 1, 'double': 2, 'Try': 2, 'got': 13, 'he': 68, 'designed': 2, 'nails': 1, 'bass': 1, 'chemical': 1, 'yearold': 4, 'homeless': 1, 'falsely': 4, 'douchebag': 1, 'Tiananmen': 2, 'Sign': 1, 'Sandstorm': 1, 'Gorn': 1, 'heartbreaking': 2, 'blamed': 1, 'Go': 1, 'higher': 1, 'Waffle': 1, 'Virginia': 1, 'Dee': 1, 'Say': 1, 'dancing': 2, 'Town': 3, 'Kunis': 1, 'principals': 1, 'Dangerous': 1, 'Parks': 1, 'Packs': 1, 'extra': 4, 'Baseball': 1, 'Disabled': 1, 'victims': 2, 'Green': 1, 'Sex': 1, 'dangerous': 1, 'you': 45, 'Boyegas': 1, 'SameYou': 1, 'sketch': 1, 'administrators': 3, 'Driver': 1, 'Kylo': 1, 'kept': 1, 'showing': 2, 'Phone': 2, 'Spiders': 1, 'xpost': 3, 'charcoal': 1, 'Police': 1, 'Park': 4, 'dunkview': 2, 'club': 1, 'safe': 2, 'boxes': 1, 'brought': 3, 'CD': 1, 'Lee': 2, 'SteveO': 1, 'The': 104, 'comedic': 1, 'Humor': 1, 'Kurzgesagt': 2, 'move': 1, 'train': 3, 'prick': 1, 'dropping': 2, 'lose': 2, 'littering': 1, 'fee': 1, 'Amazing': 2, 'spare': 1, 'jury': 1, 'powerful': 3, 'Matt': 1, 'Miles': 2, 'trooper': 1, 'Sauce': 1, 'Schumer': 1, 'GoPro': 1, 'ping': 1, 'Cannabis': 1, 'VRChat': 1, 'Band': 2, 'cop': 1, 'coverage': 1, 'IPhones': 1, 'switch': 1, 'flip': 1, 'Toronto': 1, 'then': 7, 'didnt': 5, 'Hal': 1, 'Hunter': 1, 'poop': 1, 'bottle': 2, 'unreleased': 1, 'Me': 3, 'hate': 1, 'viral': 3, 'Linkin': 1, 'wearing': 2, 'Peggy': 1, 'Veterinary': 1, 'fundraiser': 1, 'entrepreneur': 1, 'Katie': 1, 'Corey': 1, 'raised': 1, 'added': 1, 'update': 2, 'son': 4, 'action': 2, 'screen': 2, 'Garand': 1, 'crew': 1, 'dug': 1, 'Master': 1, 'same': 7, 'HD': 1, 'Shills': 1, 'school': 10, 'multiple': 5, 'Opened': 1, 'Hands': 1, 'installing': 1, 'Krauss': 1, 'feedback': 2, 'Frey': 2, 'bullshit': 1, 'legit': 1, 'URL': 1, 'tensest': 1, 'stuff': 3, 'donating': 1, 'its': 22, 'dollar': 1, 'Hong': 1, 'Curley': 1, 'Lion': 2, 'Bs': 1, 'causing': 2, 'destroying': 3, 'whip': 1, 'Johnnie': 1, 'tour': 1, 'golf': 1, 'feel': 4, 'Walsh': 1, 'GunVault': 1, 'responsible': 1, 'Canada': 1, 'we': 12, 'tools': 2, 'California': 2, 'putting': 1, 'perfect': 1, 'driving': 1, 'City': 3, 'Transition': 1, 'parachute': 1, 'perhaps': 1, 'Walters': 1, 'writes': 1, 'Subscribe': 1, 'timing': 2, 'seriously': 2, 'Benningtons': 1, 'tutorials': 2, 'Off': 1, 'apple': 2, 'Frame': 1, 'Lewis': 2, 'Leeroy': 1, 'amazing': 6, 'stealing': 3, 'Down': 4, 'Little': 4, 'Be': 2, 'traded': 1, 'theater': 1, 'wait': 1, 'reaction': 11, 'deleted': 1, 'balls': 1, 'stations': 1, 'Falcon': 4, 'Those': 1, 'Weed': 1, 'Even': 4, 'mall': 2, 'possibly': 2, 'Westminster': 1, 'listen': 2, 'Controversial': 1, 'script': 1, 'comeback': 1, 'Python': 1, 'refuse': 1, 'snowboarding': 1, 'China': 1, 'Pronounce': 1, 'Chair': 1, 'create': 4, 'Take': 2, 'Tetris': 2, 'Guys': 4, 'Scott': 1, 'Atkinson': 1, 'Massive': 2, 'degrading': 1, 'eggs': 1, 'Drop': 1, 'legal': 2, 'nuts': 1, 'Square': 2, 'nature': 1, 'Comments': 1, 'WTF': 2, 'success': 1, 'coworker': 1, 'marshmallow': 1, 'campus': 1, 'getting': 8, 'begged': 2, 'responses': 1, 'dryer': 1, 'journalist': 1, 'SOLD': 1, 'Kreischer': 1, 'Thief': 1, 'plate': 1, 'along': 3, 'ownership': 2, 'depiction': 1, 'Advice': 1, 'formulaic': 1, 'puppet': 1, 'Ice': 1, 'swarm': 1, 'Bunny': 1, 'rick': 1, 'magnificent': 1, 'front': 7, 'Million': 1, 'instant': 1, 'proud': 1, 'Blind': 1, 'awhile': 1, 'Young': 2, 'Ramsay': 3, 'freestyle': 1, 'bit': 2, 'Kimba': 1, 'Why': 4, 'America': 2, 'Eel': 1, 'Level': 1, 'warn': 1, 'built': 1, 'Kutcher': 1, 'Ashton': 1, 'combatting': 1, 'shilling': 1, 'town': 1, 'talk': 5, 'bug': 1, 'Malcolm': 1, 'angle': 2, 'rabbit': 1, 'Cliffhanger': 1, 'plural': 1, 'sight': 1, 'Reeves': 3, 'These': 3, 'History': 2, 'bucket': 2, 'Khalifa': 1, 'virginity': 1, 'defuser': 1, 'DeepIntoYoutube': 1, 'X': 3, 'WE': 1, 'Few': 1, 'house': 6, 'railing': 1, 'wrote': 1, 'verses': 1, 'rescued': 2, 'hobby': 2, 'Bomb': 2, 'Stage': 1, 'on': 119, 'MrLahey': 1, 'attempting': 2, 'games': 2, 'hires': 1, 'difference': 1, 'content': 6, 'epic': 1, 'disabilities': 1, 'doesnt': 7, 'per': 3, 'Other': 1, 'attend': 1, 'Penn': 1, 'rrage': 1, 'Entire': 1, 'Allegations': 1, 'happens': 9, 'announcement': 1, 'During': 2, 'State': 2, 'minute': 2, 'adorable': 2, 'Happy': 2, 'paragliding': 1, 'national': 2, 'uni': 1, 'Pauls': 1, 'ensue': 1, 'almost': 4, 'Idea': 2, 'batsman': 2, 'throwing': 1, 'Brooklyn': 3, 'DESTROY': 1, 'copyright': 9, 'doubling': 1, 'Button': 1, 'off': 19, 'artificially': 1, 'Colombian': 1, 'add': 1, 'Pyrimethamine': 1, 'worker': 1, 'cartoonists': 1, 'note': 1, 'courtroom': 1, 'sirens': 1, 'Letter': 1, 'fly': 2, 'stuck': 1, 'reuploaded': 1, 'Everyone': 1, 'manual': 1, 'Seek': 1, 'VRchat': 1, 'shots': 1, 'addicted': 1, 'shit': 2, 'Kyles': 1, 'passionate': 1, 'Premiere': 1, 'rubber': 2, 'Warner': 2, 'Area': 1, 'electric': 2, 'Fighter': 1, 'through': 4, 'use': 7, 'Contest': 1, 'impromptu': 1, 'skateboarding': 1, 'Osteen': 2, 'telling': 3, 'Nazi': 1, 'mightve': 1, 'W': 1, 'live': 7, 'used': 7, 'subtle': 1, 'clap': 2, 'version': 2, 'extinction': 1, 'dealing': 1, 'angry': 3, 'flagged': 1, 'Realistic': 1, 'sure': 1, 'appraisal': 1, 'adults': 2, 'Reimagined': 1, 'explaining': 2, 'guides': 1, 'actual': 4, 'race': 1, 'AM': 1, 'mentors': 1, 'eating': 3, 'Students': 1, 'Halo': 1, 'Exploitation': 2, 'shut': 3, 'Irma': 1, 'members': 4, 'upvote': 1, 'Them': 1, 'Heist': 1, 'married': 1, 'forgot': 1, 'Chappelle': 2, 'dad': 7, 'anniversary': 1, 'stealth': 1, 'D': 4, 'Scammer': 1, 'King': 3, 'Tezuka': 1, 'Short': 2, 'teacher': 4, 'quickly': 1, 'childs': 1, 'go': 4, 'terminated': 1, 'see': 7, 'piece': 1, 'of': 261, 'pranks': 1, 'Lets': 3, 'Plane': 2, 'exposed': 1, 'Movie': 1, 'Cringe': 1, 'Sorority': 1, 'hopping': 1, 'Rick': 13, 'Request': 1, 'grounded': 1, 'aka': 1, 'silly': 1, 'savage': 1, 'biodegrades': 1, 'filled': 1, 'No': 10, 'Escape': 1, 'Tianjin': 1, 'falling': 1, 'Impressions': 1, 'Marbles': 1, 'Tim': 1, 'never': 7, 'appearance': 1, 'Sir': 1, 'hoop': 1, 'threatened': 2, 'alone': 1, 'Shake': 1, 'existed': 1, 'brings': 1, 'editorcamera': 1, 'Door': 1, 'information': 2, 'Totos': 1, 'midflight': 1, 'behavior': 1, 'villain': 1, 'feet': 2, 'choir': 3, 'contains': 1, 'blasting': 2, 'everyones': 1, 'tutorial': 1, 'guitar': 4, 'bong': 1, 'Deacon': 1, 'Secret': 1, 'hiphophead': 1, 'bloodied': 1, 'reclaims': 1, 'showmanentertainer': 1, 'prison': 1, 'quite': 1, 'JianYang': 1, 'Called': 1, 'ticket': 3, 'popping': 1, 'Sometimes': 1, 'shredding': 1, 'Calls': 2, 'quarter': 1, 'Masterpiece': 1, 'Power': 2, 'RADAR': 2, 'Shooter': 1, 'rediagnosed': 1, 'Batman': 1, 'thanks': 4, 'reunion': 1, 'surprised': 2, 'smokers': 1, 'Fight': 1, 'fuck': 1, 'Current': 1, 'Caught': 2, 'bulldozer': 1, 'streaming': 1, 'woman': 5, 'Technology': 4, 'Chris': 4, 'articulate': 1, 'Raining': 1, 'already': 1, 'Rock': 2, 'oblivion': 1, 'Fighters': 3, 'groovy': 1, 'reacting': 1, 'interviewer': 1, 'fps': 2, 'Mayo': 1, 'asks': 5, 'Iguana': 1, 'sales': 1, 'while': 25, 'Explains': 1, 'entirely': 2, 'dollars': 3, 'finishes': 1, 'big': 1, 'packages': 1, 'attach': 1, 'Hes': 1, 'Years': 6, 'allowed': 3, 'moments': 3, 'seemingly': 1, 'Barstool': 1, 'completes': 3, 'Weatherman': 1, 'brother': 3, 'opens': 3, 'Korean': 7, 'stops': 2, 'cooking': 2, 'donate': 1, 'clickbait': 1, 'desk': 1, 'disgusting': 2, 'JEOPARDY': 1, 'Hart': 1, 'among': 1, 'peek': 2, 'Catholic': 1, 'Bystanders': 1, 'going': 2, 'Talks': 1, 'internship': 1, 'Flight': 4, 'buys': 2, 'Cricket': 1, 'rescue': 1, 'Griffin': 1, 'Jack': 7, 'chill': 1, 'react': 3, 'Dr': 3, 'exposing': 1, 'denial': 1, 'lady': 2, 'shreds': 1, 'consoles': 1, 'copy': 1, 'greeting': 1, 'male': 1, 'douchy': 1, 'Sum': 1, 'toe': 1, 'Ones': 4, 'parentingHeckler': 1, 'Francis': 1, 'Instead': 1, 'LockPickingLawyer': 2, 'favorite': 13, 'totaled': 1, 'freakin': 1, 'Breaks': 1, 'liquor': 1, 'Trying': 1, 'Most': 1, 'Cesena': 1, 'Hot': 5, 'Cheech': 1, 'Glenn': 1, 'upon': 1, 'alcohol': 1, 'Army': 1, 'become': 6, 'Minecon': 1, 'max': 1, 'might': 2, 'Deputy': 1, 'daily': 1, 'broadcast': 2, 'Small': 2, 'performance': 3, 'Hurricane': 1, 'Snow': 1, 'Minutes': 2, 'Steve': 4, 'Spiciest': 1, 'FPS': 1, 'demonstrates': 1, 'charging': 1, 'midspeech': 2, 'hurricanes': 1, 'auction': 1, 'brand': 1, 'FAKE': 2, 'fix': 2, 'ACAPELLA': 1, 'airport': 1, 'guise': 1, 'thought': 2, 'April': 4, 'rare': 2, 'thoughts': 1, 'jingle': 1, 'EVERY': 1, 'CGI': 3, 'nd': 1, 'southerner': 1, 'bare': 1, 'two': 10, 'funds': 1, 'Karma': 1, 'drummers': 1, 'response': 8, 'See': 1, 'Contacting': 1, 'needed': 1, 'English': 5, 'nia': 1, 'a': 336, 'Congratulations': 1, 'Spotify': 2, 'raise': 3, 'Civil': 1, 'Annandale': 1, 'weatherman': 2, 'motivate': 1, 'last': 15, 'Warning': 1, 'large': 2, 'salvage': 1, 'Gambling': 1, 'terrorist': 1, 'anymore': 1, 'Tbilisi': 1, 'Cheater': 1, 'marketplaces': 1, 'badasses': 1, 'Nothing': 1, 'table': 3, 'community': 3, 'towards': 1, 'Busey': 2, 'Machine': 2, 'rushes': 1, 'debt': 3, 'Published': 1, 'asking': 5, 'reinterpretation': 1, 'I': 97, 'mocks': 1, 'Background': 1, 'sandwiches': 1, 'runner': 1, 'chair': 2, 'nonstory': 1, 'Wings': 2, 'In': 18, 'post': 5, 'whos': 1, 'performing': 1, 'ME': 1, 'Deep': 1, 'rap': 1, 'Responders': 1, 'HowToBasicFace': 1, 'Neutrality': 2, 'Elizabeth': 1, 'prompted': 1, 'San': 1, 'street': 3, 'boredom': 1, 'punching': 1, 'getever': 1, 'anthem': 2, 'Men': 1, 'unsuspecting': 1, 'nothing': 1, 'Force': 1, 'professor': 1, 'Advil': 1, 'weather': 1, 'Walt': 1, 'door': 1, 'Sand': 1, 'advice': 3, 'Wong': 1, 'pancreatic': 1, 'kind': 1, 'Literally': 1, 'Combat': 1, 'attention': 1, 'Swedish': 1, 'receiving': 1, 'read': 2, 'Soundsystem': 1, 'kids': 10, 'Musician': 1, 'wins': 2, 'returning': 1, 'neighborhood': 1, 'Mark': 2, 'linked': 1, 'their': 50, 'buy': 6, 'dashcam': 1, 'high': 6, 'Perfect': 1, 'shoes': 1, 'Did': 1, 'Helsinki': 1, 'copied': 1, 'Headroom': 1, 'steal': 2, 'remove': 1, 'silent': 1, 'Stunts': 1, 'Bros': 2, 'wank': 1, 'carried': 1, 'clay': 1, 'Who': 1, 'truly': 3, 'too': 2, 'drone': 3, 'back': 11, 'Academy': 1, 'Shes': 3, 'former': 2, 'example': 2, 'CIA': 2, 'receives': 2, 'download': 1, 'shielding': 1, 'Seans': 1, 'Horrible': 1, 'Existing': 1, 'DOG': 2, 'closed': 1, 'Laundry': 1, 'help': 10, 'Machines': 1, 'Rules': 1, 'dumper': 1, 'Woods': 1, 'result': 1, 'POLICE': 1, 'Bill': 5, 'hiding': 1, 'Winter': 1, 'Mankind': 1, 'Shirt': 1, 'snakes': 1, 'stopped': 1, 'stealthily': 1, 'rollercoaster': 1, 'doubts': 1, 'Tribespeople': 1, 'MTV': 1, 'remix': 1, 'Taylor': 1, 'Psycho': 1, 'person': 4, 'nonnas': 1, 'Barbara': 1, 'Pitch': 1, 'Pope': 1, 'PGA': 1, 'heart': 1, 'Kurt': 1, 'KIRO': 1, 'was': 74, 'Saelee': 1, 'scares': 1, 'yall': 1, 'Audience': 1, 'Franklins': 1, 'Fake': 1, 'Benny': 1, 'rooms': 1, 'United': 6, 'recently': 4, 'Ricegums': 1, 'sell': 1, 'shoots': 1, 'Facilitating': 1, 'Mia': 1, 'Yada': 1, 'now': 14, 'Bitcoin': 1, 'spelling': 1, 'catches': 1, 'Clinic': 1, 'scenery': 1, 'handles': 1, 'display': 1, 'Her': 3, 'Chopsticks': 1, 'Aisha': 1, 'Smash': 1, 'tricks': 1, 'understudy': 1, 'USPS': 1, 'Hydraulic': 1, 'suicide': 2, 'grandma': 1, 'argument': 1, 'tabloid': 1, 'Asks': 1, 'melting': 1, 'songs': 1, 'reenacted': 1, 'Condor': 1, 'films': 1, 'trick': 2, 'probably': 1, 'reposted': 1, 'Pork': 1, 'window': 1, 'Bowl': 4, 'Mess': 1, 'Orleans': 1, 'Awkward': 1, 'runs': 1, 'proved': 1, 'Porn': 3, 'Chip': 1, 'cringeinducing': 1, 'nudes': 1, 'speedrunner': 1, 'attacked': 1, 'surprisepood': 1, 'fan': 3, 'Flart': 1, 'hit': 2, 'pipeline': 1, 'an': 55, 'breakfast': 1, 'click': 1, 'treat': 2, 'Tries': 1, 'engineer': 1, 'Entirety': 1, 'prevention': 1, 'bailed': 1, 'called': 4, 'Scientologists': 1, 'DXP': 1, 'Big': 2, 'Uploads': 1, 'teachers': 1, 'ended': 3, 'Explained': 1, 'Evil': 1, 'Anthony': 2, 'wants': 2, 'Kevin': 4, 'Difference': 1, 'interviewed': 2, 'Months': 1, 'gets': 31, 'Only': 2, 'soldier': 1, 'hid': 2, 'routine': 1, 'Chappell': 1, 'cut': 4, 'Dutch': 1, 'ads': 2, 'largest': 1, 'Matrix': 1, 'beat': 5, 'Numa': 2, 'identical': 1, 'Visits': 1, 'detective': 2, 'increasingly': 1, 'trolling': 2, 'Comedians': 1, 'inexplicably': 1, 'Mississippi': 1, 'marijuana': 1, 'night': 7, 'fabric': 2, 'user': 1, 'proposes': 1, 'meal': 2, 'Sings': 1, 'Threatening': 1, 'voiceover': 1, 'Season': 3, 'gold': 2, 'February': 1, 'Youve': 1, 'scoots': 1, 'nailed': 1, 'Thought': 1, 'summer': 1, 'teammate': 1, 'i': 2, 'idea': 3, 'Give': 7, 'lightsaber': 1, 'Him': 1, 'hello': 1, 'exam': 1, 'background': 3, 'turned': 3, 'face': 5, 'UK': 1, 'Fuel': 1, 'Today': 5, 'Mumford': 1, 'Tandem': 1, 'Studios': 1, 'flood': 1, 'Seems': 1, 'Coaches': 1, 'Hallucinates': 1, 'control': 1, 'utterly': 2, 'sense': 1, 'painfully': 1, 'bored': 1, 'journalism': 1, 'tournament': 1, 'Probably': 2, 'Judge': 1, 'brilliant': 3, 'sung': 1, 'rich': 1, 'soundtrack': 2, 'Claims': 2, 'stylized': 1, 'defend': 1, 'commentator': 2, 'Facts': 1, 'Plays': 1, 'Kids': 5, 'Gangs': 1, 'nation': 1, 'clones': 1, 'automation': 1, 'punishment': 2, 'oneliner': 1, 'opus': 1, 'assaulted': 1, 'Works': 1, 'message': 1, 'satirical': 1, 'Create': 1, 'critically': 1, 'shoot': 1, 'emergency': 1, 'state': 4, 'moving': 1, 'Lung': 1, 'noises': 1, 'Steal': 1, 'bullets': 1, 'Hopsins': 1, 'Wrench': 1, 'reviews': 4, 'walked': 1, 'underwater': 1, 'Caribbean': 1, 'Discussion': 1, 'contents': 1, 'reveal': 2, 'link': 1, 'Flat': 2, 'music': 13, 'children': 4, 'printed': 1, 'An': 3, 'audience': 4, 'friendsfamily': 1, 'Anime': 2, 'Music': 1, 'WWII': 2, 'long': 3, 'Hey': 2, 'Las': 1, 'covers': 1, 'Service': 1, 'week': 8, 'ninety': 2, 'idol': 1, 'images': 1, 'Captive': 1, 'out': 38, 'bike': 1, 'women': 1, 'four': 1, 'shredded': 2, 'Children': 2, 'firm': 1, 'Dunkirk': 1, 'Culkin': 1, 'Biggest': 1, 'Saudi': 1, 'vegetable': 1, 'WalgreensCVS': 1, 'OC': 1, 'many': 2, 'keeping': 1, 'meets': 3, 'always': 6, 'reacts': 1, 'Tequila': 1, 'advance': 1, 'fans': 6, 'NHL': 1, 'boys': 2, 'London': 2, 'themselves': 4, 'Vincent': 1, 'overnight': 1, 'cavity': 2, 'aluminum': 1, 'Hotdogs': 1, 'Recording': 1, 'Hollywood': 1, 'programming': 1, 'few': 5, 'hurricane': 1, 'hoping': 2, 'Wendy': 3, 'imitates': 1, 'shatters': 1, 'theme': 2, 'Fully': 1, 'David': 2, 'patients': 1, 'beats': 3, 'collaboration': 1, 'bet': 1, 'weekend': 3, 'DisneyPixar': 1, 'Gang': 1, 'suspect': 1, 'Planet': 1, 'Grandma': 1, 'strap': 1, 'lasers': 1, 'designs': 1, 'Horizontal': 1, 'Morty': 6, 'ripped': 1, 'Winkler': 1, 'why': 7, 'yearspretty': 1, 'mcfuckhead': 1, 'Teo': 1, 'unknown': 2, 'ComicCon': 2, 'sentence': 1, 'DrDisrespect': 1, 'Sale': 2, 'egged': 2, 'childrens': 2, 'Bean': 1, 'open': 4, 'correspondent': 1, 'Girls': 3, 'caressed': 1, 'Discovery': 1, 'look': 3, 'wildfire': 1, 'relevant': 1, 'characters': 1, 'do': 14, 'Over': 1, 'flight': 3, 'store': 3, 'rape': 1, 'blatantly': 1, 'Africa': 2, 'plummeting': 1, 'mushroom': 1, 'Stranger': 2, 'warns': 1, 'letters': 1, 'worlds': 1, 'repetitious': 1, 'because': 10, 'visit': 2, 'crawling': 1, 'Objects': 1, 'sit': 1, 'caught': 1, 'thread': 1, 'Their': 1, 'Wests': 1, 'heckled': 1, 'Absolutely': 1, 'across': 1, 'fair': 1, 'bombs': 1, 'saving': 1, 'gas': 1, 'transformation': 1, 'rednecks': 1, 'phones': 1, 'efforts': 1, 'morning': 5, 'contained': 1, 'me': 20, 'late': 2, 'wedding': 1, 'drug': 4, 'striked': 1, 'forest': 2, 'Chicago': 1, 'Film': 1, 'flaw': 1, 'JerryRigEverything': 1, 'Odyssey': 2, 'Vances': 1, 'Got': 3, 'head': 5, 'offered': 3, 'friends': 13, 'found': 10, 'Mexican': 1, 'coworkers': 2, 'Quiznos': 1, 'Irwin': 1, 'Different': 1, 'jumped': 1, 'palsy': 1, 'trochoidal': 1, 'Thanks': 1, 'Alisters': 1, 'operas': 1, 'BostonDynamics': 1, 'Up': 10, 'Banner': 2, 'she': 12, 'delivered': 1, 'centuriesold': 1, 'SpaceX': 2, 'Drunk': 1, 'Infant': 1, 'snow': 1, 'millions': 1, 'form': 1, 'suspended': 1, 'Hide': 1, 'memo': 1, 'confirm': 1, 'QB': 1, 'Then': 1, 'history': 9, 'Hope': 3, 'Wear': 1, 'director': 1, 'Goldberg': 1, 'mowing': 1, 'also': 3, 'HilariousBrutal': 1, 'bill': 1, 'Seen': 2, 'synced': 1, 'sitcom': 1, 'unlock': 1, 'KS': 1, 'rises': 1, 'organism': 1, 'surgery': 3, 'month': 5, 'Superintendents': 1, 'Truce': 1, 'uses': 1, 'Rogan': 2, 'surreal': 4, 'Mila': 1, 'Worst': 3, 'drink': 2, 'draw': 1, 'Imagination': 1, 'FU': 1, 'Weaver': 1, 'engineers': 1, 'water': 6, 'talks': 4, 'announcers': 2, 'Cream': 1, 'destroyed': 1, 'Thrones': 2, 'But': 3, 'Dynamics': 1, 'Fernandez': 1, 'months': 3, 'consecutively': 1, 'charged': 1, 'Found': 1, 'sees': 1, 'predatory': 2, 'rating': 1, 'blunt': 1, 'musical': 2, 'apologize': 3, 'running': 1, 'Hank': 1, 'from': 68, 'pretending': 1, 'Hello': 1, 'known': 2, 'except': 1, 'recovers': 1, 'Grande': 1, 'Prayers': 1, 'package': 4, 'Polio': 1, 'Gus': 1, 'count': 1, 'Tigers': 1, 'Reviewer': 1, 'Budget': 1, 'Henry': 1, 'singer': 3, 'Sacchan': 1, 'Bourdain': 1, 'wan': 1, 'revealed': 1, 'formed': 1, 'red': 1, 'Arena': 1, 'classic': 2, 'Guard': 3, 'lottery': 1, 'and': 207, 'fines': 1, 'girls': 2, 'Eilishs': 1, 'Barbie': 1, 'triplets': 1, 'crack': 1, 'ones': 2, 'funeral': 2, 'Reckless': 1, 'named': 1, 'ordering': 1, 'Tommy': 1, 'fitness': 1, 'saying': 5, 'Zuckerberg': 1, 'paying': 1, 'lobby': 1, 'mess': 1, 'Arnold': 1, 'satisfying': 1, 'calls': 5, 'takedown': 1, 'Fox': 2, 'Uber': 3, 'Atleys': 1, 'Raise': 2, 'workers': 1, 'cheap': 1, 'Spanish': 2, 'bomb': 1, 'watched': 1, 'abusive': 1, 'Seven': 1, 'both': 2, 'Gary': 1, 'Glitter': 1, 'donation': 1, 'Monetized': 1, 'Kat': 1, 'Youtube': 13, 'plummeted': 1, 'suit': 2, 'Verizon': 1, 'watch': 6, 'split': 1, 'Ad': 3, 'featuring': 1, 'Creepy': 1, 'chime': 1, 'reminded': 1, 'Holocaust': 1, 'Ventura': 1, 'killers': 1, 'duet': 1, 'strokes': 1, 'rockstar': 1, 'Ringing': 1, 'Sitting': 1, 'circa': 2, 'should': 2, 'Mother': 3, 'passengers': 1, 'viewers': 1, 'Father': 3, 'walks': 1, 'Striking': 1, 'broken': 3, 'truck': 2, 'outcome': 1, 'whoever': 1, 'flowers': 1, 'smashes': 2, 'Buzzfeed': 1, 'Greatest': 1, 'Fallout': 1, 'ordered': 1, 'Memelord': 1, 'stranded': 2, 'stays': 1, 'allies': 1, 'robbing': 1, 'Career': 1, 'Spangled': 2, 'Ten': 2, 'starter': 1, 'pays': 2, 'Wrapper': 1, 'Paralympics': 1, 'shes': 2, 'McDonalds': 1, 'cell': 4, 'chased': 1, 'disability': 1, 'Workers': 1, 'access': 1, 'Blizzard': 3, 'magnitude': 1, 'Hollow': 1, 'rushed': 1, 'misinformation': 2, 'Karaoke': 1, 'StarWarsTheory': 1, 'admitting': 1, 'advertising': 2, 'Americans': 2, 'inaugural': 1, 'Tide': 1, 'Dynamite': 1, 'heavily': 1, 'possible': 2, 'support': 2, 'endearing': 2, 'performs': 2, 'sends': 1, 'Expanse': 1, 'Johnson': 1, 'Award': 1, 'items': 3, 'apologies': 1, 'around': 3, 'Records': 2, 'any': 6, 'Alexa': 1, 'Audio': 2, 'Not': 4, 'Parisians': 1, 'DeepFaked': 1, 'opinions': 1, 'end': 3, 'Full': 1, 'Steel': 1, 'chasing': 1, 'KUNG': 1, 'feels': 2, 'shot': 8, 'discovered': 2, 'Camera': 2, 'actor': 1, 'leagally': 1, 'Held': 1, 'bridge': 1, 'has': 50, 'Boom': 1, 'absolutely': 3, 'ASMR': 2, 'felt': 1, 'tells': 1, 'place': 3, 'Logan': 1, 'Olsteens': 1, 'Sears': 1, 'proving': 1, 'discourse': 2, 'performances': 1, 'opponents': 1, 'animated': 2, 'Walker': 1, 'heckler': 1, 'Television': 2, 'Mouth': 1, 'Clip': 1, 'Someone': 3, 'happening': 1, 'signing': 1, 'Greyhound': 1, 'u_KishK_': 1, 'jets': 1, 'said': 7, 'effort': 1, 'different': 2, 'OK': 1, 'YouTube': 31, 'Sandler': 1, 'demonitizing': 1, 'educational': 3, 'Shows': 1, 'how': 38, 'Samsung': 1, 'wouldnt': 1, 'newgrounds': 1, 'effortlessly': 1, 'PC': 1, 'raising': 2, 'doing': 8, 'Binging': 1, 'Ass': 1, 'quality': 2, 'showed': 3, 'committing': 1, 'hometown': 3, 'Please': 2, 'starting': 2, 'snoring': 1, 'creative': 3, 'havoc': 1, 'Tattoo': 1, 'behind': 2, 'managed': 1, 'jogan': 1, 'prices': 1, 'Samurai': 1, 'Channel': 5, 'na': 8, 'cant': 11, 'Streamer': 3, 'Guitar': 1, 'Vimeo': 1, 'Morris': 1, 'Spacey': 4, 'knows': 2, 'Canadas': 1, 'Evidence': 1, 'WalMart': 1, 'Meme': 1, 'Read': 1, 'Paul': 4, 'Reveals': 1, 'mining': 1, 'hp': 1, 'We': 7, 'purpose': 1, 'trap': 2, 'accuses': 1, 'launches': 1, 'seizure': 1, 'pep': 1, 'Runs': 1, 'looks': 1, 'ripping': 3, 'Crossing': 1, 'popular': 1, 'voice': 6, 'incredibly': 2, 'basketball': 2, 'Mexicans': 1, 'Fine': 1, 'series': 2, 'Cosmo': 1, 'pick': 1, 'Shia': 2, 'Humans': 1, 'leg': 1, 'CollabDRM': 1, 'posted': 5, 'Us': 1, 'Talk': 2, 'Song': 5, 'finds': 6, 'Dartmouth': 1, 'Loris': 1, 'attorney': 1, 'notes': 1, 'brothers': 2, 'Professional': 1, 'ipod': 1, 'television': 6, 'Savagely': 1, 'Dislikes': 1, 'smile': 2, 'antique': 2, 'Stadium': 1, 'another': 2, 'Grade': 1, 'introduced': 2, 'subject': 1, 'absurd': 1, 'Havent': 1, 'reverses': 1, 'miss': 1, 'undertaker': 1, 'though': 2, 'Hateful': 1, 'girlfriend': 7, 'Onion': 2, 'Tourist': 1, 'spends': 1, 'cancelled': 2, 'hits': 1, 'Smoking': 1, 'Do': 4, 'crying': 1, 'selfie': 1, 'walk': 1, 'scamming': 1, 'cheese': 1, 'Denzel': 1, 'canceling': 1, 'cover': 5, 'Arrested': 1, 'Expensive': 2, 'MONSTER': 1, 'Refused': 1, 'Bad': 4, 'Teller': 1, 'Jackman': 1, 'Surface': 1, 'three': 2, 'Run': 2, 'party': 3, 'Google': 2, 'symbols': 1, 'Without': 2, 'internet': 11, 'cocaine': 2, 'level': 2, 'SNL': 2, 'wall': 1, 'nonBritish': 1, 'stage': 3, 'Will': 2, 'Kardashian': 1, 'Worlds': 1, 'Fire': 2, 'Championship': 1, 'Friendlyjordies': 1, 'DETROIT': 1, 'Much': 1, 'Thomas': 1, 'Heaven': 1, 'terrible': 1, 'Save': 1, 'Still': 5, 'OReilly': 1, 'owns': 1, 'Banksy': 1, 'middle': 2, 'Gold': 1, 'Lockridge': 1, 'Merry': 2, 'aloud': 1, 'subreddit': 1, 'edit': 2, 'Own': 1, 'Weekend': 1, 'requested': 1, 'cap': 1, 'website': 4, 'players': 2, 'Factory': 1, 'Mariota': 1, 'spells': 1, 'First': 3, 'NBA': 2, 'Crowd': 2, 'Amy': 1, 'era': 1, 'thief': 1, 'Tarantino': 1, 'grabs': 1, 'What': 15, 'refurbished': 1, 'cold': 2, 'shelter': 3, 'Cover': 2, 'ProZD': 1, 'Jacket': 1, 'Jenkins': 1, 'vaginas': 1, 'Its': 10, 'Room': 1, 'stfu': 1, 'making': 6, 'immediately': 1, 'yoyoing': 2, 'surveillance': 1, 'Timelapse': 1, 'up': 35, 'Warrior': 1, 'trillion': 1, 'plagiarism': 1, 'crisis': 1, 'eight': 2, 'changed': 2, 'wake': 2, 'stories': 1, 'disturbed': 1, 'road': 1, 'Chatroulette': 2, 'magic': 2, 'would': 7, 'opportunity': 1, 'videos': 20, 'Guest': 1, 'Keanu': 3, 'commented': 1, 'adult': 1, 'doubles': 1, 'Sexual': 2, 'Governator': 1, 'Dead': 2, 'Subway': 1, 'Opponents': 1, 'youtuber': 1, 'Twenty': 1, 'Roll': 1, 'foreclose': 1, 'city': 1, 'blazing': 1, 'left': 2, 'Colbert': 1, 'animals': 1, 'accept': 1, 'silo': 1, 'tell': 5, 'Quentin': 1, 'Daler': 1, 'Wifes': 1, 'Almost': 2, 'Apple': 4, 'Key': 1, 'pop': 1, 'us': 7, 'actors': 1, 'secret': 1, 'synchronized': 1, 'app': 2, 'Ferrell': 1, 'Thankfully': 1, 'Sawyer': 1, 'role': 1, 'review': 3, 'gameor': 1, 'PBS': 1, 'Allen': 1, 'hammer': 1, 'Pancreatic': 1, 'created': 7, 'internationally': 1, 'insane': 3, 'Rogue': 1, 'wallet': 1, 'youtube': 9, 'porn': 1, 'reediting': 1, 'Eagles': 1, 'Note': 1, 'Modernday': 1, 'About': 5, 'try': 4, 'IN': 1, 'Lungs': 1, 'deals': 1, 'grape': 1, 'pictures': 2, 'strong': 1, 'Game': 5, 'cries': 1, 'preventing': 1, 'band': 3, 'explore': 1, 'Pasta': 1, 'NBC': 2, 'You': 19, 'retard': 1, 'offended': 1, 'Morning': 1, 'Woman': 4, 'zoo': 1, 'great': 2, 'Boy': 2, 'military': 1, 'Milwaukee': 1, 'cruelty': 1, 'headstrong': 1, 'puns': 1, 'Are': 1, 'Eve': 1, 'Pods': 1, 'glass': 1, 'order': 3, 'skill': 2, 'crushing': 1, 'detail': 1, 'selfhelp': 1, 'Boyfriend': 1, 'Curry': 1, 'Nightmare': 1, 'Adamantium': 1, 'Peoples': 1, 'One': 18, 'take': 4, 'Gorillaz': 1, 'Mosul': 1, 'lawn': 1, 'trial': 1, 'fascism': 1, 'Mars': 1, 'event': 3, 'heartwarming': 1, 'dorms': 1, 'Trap': 2, 'Good': 2, 'Japanese': 11, 'sing': 3, 'things': 7, 'boxer': 1, 'risk': 1, 'M': 2, 'understand': 1, 'releases': 1, 'standards': 1, 'bump': 1, 'Ball': 1, 'more': 11, 'near': 4, 'scrub': 1, 'did': 10, 'obtained': 1, 'autographs': 1, 'item': 1, 'dopaminedriven': 2, 'creators': 5, 'wonder': 1, 'Host': 1, 'pill': 2, 'sued': 3, 'traveling': 1, 'exec': 2, 'Youtubers': 1, 'hardest': 2, 'speaking': 1, 'subtitles': 2, 'shitty': 2, 'conspiracy': 1, 'test': 2, 'tiebreaker': 1, 'thing': 5, 'photos': 1, 'becoming': 1, 'Robot': 3, 'incredible': 5, 'ejects': 1, 'Remastered': 1, 'Saying': 1, 'Whos': 1, 'animators': 2, 'cheated': 1, 'something': 6, 'or': 6, 'Time': 4, 'usa': 1, 'various': 1, 'Plumbus': 1, 'thunderstorm': 1, 'Need': 2, 'Frank': 1, 'adopts': 1, 'Yoyo': 3, 'monkeys': 1, 'the': 426, 'comments': 1, 'screamed': 1, 'stream': 2, 'Seinfeld': 2, 'ponzi': 1, 'racked': 1, 'experimentally': 1, 'trippy': 1, 'TV': 11, 'birthday': 5, 'Fools': 1, 'scheduled': 1, 'hip': 1, 'Attempting': 1, 'until': 5, 'animation': 2, 'tow': 1, 'better': 1, 'list': 3, 'gaming': 1, 'equals': 1, 'FURY': 1, 'mind': 2, 'set': 5, 'orders': 1, 'WW': 3, 'scan': 1, 'Jordan': 1, 'position': 1, 'Gordon': 4, 'Blanc': 1, 'Spot': 4, 'wrong': 3, 'seen': 16, 'grown': 1, 'Sinead': 1, 'proper': 2, 'Eating': 3, 'Macbook': 1, 'individual': 1, 'Naruto': 1, 'breakcrash': 1, 'boast': 1, 'Bethesda': 1, 'batteries': 1, 'ever': 32, 'changing': 1, 'Kid': 11, 'Here': 8, 'toilet': 1, 'reuploads': 1, 'illegal': 1, 'manually': 1, 'Songs': 3, 'gun': 1, 'Portrait': 2, 'Toddler': 1, 'fine': 2, 'builds': 2, 'Korea': 1, 'Actors': 1, 'may': 6, 'disaster': 1, 'little': 6, 'Supersonic': 1, 'Valedictorian': 2, 'small': 4, 'lot': 3, 'promote': 1, 'accent': 3, 'cutest': 1, 'feature': 1, 'guest': 1, 'humanoid': 1, 'Jim': 1, 'talking': 1, 'Marin': 1, 'Pizza': 1, 'MOVIE': 1, 'Wars': 5, 'shopping': 2, 'cancer': 6, 'tradition': 2, 'especially': 1, 'jammed': 1, 'ICE': 1, 'tiny': 1, 'beautiful': 2, 'stumbled': 1, 'Netherlands': 1, 'lyrics': 1, 'baggage': 1, 'replaced': 1, 'Brazils': 1, 'justified': 1, 'scheme': 1, 'drum': 1, 'played': 5, 'hundreds': 1, 'waste': 1, 'THE': 4, 'Aretha': 1, 'reinterpreted': 1, 'Wife': 2, 'timer': 1, 'havent': 2, 'Primitiver': 1, 'reselling': 1, 'Downfall': 1, 'Simpsons': 2, 'Adam': 1, 'impressive': 1, 'convinced': 1, 'Rudd': 1, 'Kill': 1, 'ecstatic': 1, 'Getting': 1, 'recognizes': 1, 'hole': 3, 'Figuring': 1, 'mercy': 1, 'older': 1, 'accusing': 1, 'describes': 1, 'drop': 1, 'Swiss': 1, 'RIP': 6, 'Nicaragua': 1, 'guru': 1, 'Took': 1, 'home': 7, 'Landing': 1, 'Slow': 3, 'vaccinate': 1, 'love': 2, 'claim': 4, 'firefighters': 1, 'War': 3, 'watching': 4, 'such': 2, 'Wally': 1, 'NoPalmOilChristmas': 1, 'Fan': 2, 'SVB': 1, 'hopes': 1, 'Cooper': 2, 'believe': 2, 'check': 2, 'lines': 1, 'Spaceys': 1, 'Trebek': 4, 'covered': 1, 'Reviewed': 1, 'Thailand': 1, 'Georgia': 2, 'words': 1, 'Cameo': 1, 'candidate': 1, 'won': 6, 'normal': 2, 'musicians': 1, 'Anchor': 1, 'Dora': 1, 'artwork': 1, 'full': 3, 'else': 3, 'screenshots': 1, 'who': 29, 'bully': 1, 'Supposed': 1, 'wreaks': 1, 'dissing': 1, 'Immortals': 1, 'cruise': 1, 'Expo': 1, 'parts': 1, 'tunnel': 1, 'insecurities': 1, 'bro': 2, 'Keshas': 1, 'Alone': 1, 'ballswanna': 1, 'indeed': 1, 'ice': 1, 'II': 4, 'length': 1, 'save': 2, 'TED': 1, 'Mcfarlane': 1, 'Hip': 1, 'initially': 1, 'HOOD': 1, 'Schwarzenegger': 1, 'events': 1, 'banned': 1, 'VII': 1, 'room': 3, 'Of': 11, 'codirector': 1, 'air': 3, 'gate': 1, 'Crews': 2, 'button': 1, 'monetize': 1, 'OConnor': 1, 'like': 24, 'police': 2, 'mad': 1, 'Loneliness': 1, 'her': 32, 'understanding': 1, 'LCD': 1, 'skit': 2, 'Eight': 1, 'suffer': 1, 'observing': 1, 'doctors': 2, 'clean': 2, 'WGN': 1, 'Alternate': 1, 'fined': 1, 'car': 13, 'situations': 2, 'debut': 3, 'highest': 1, 'Listen': 1, 'IS': 1, 'plane': 2, 'unique': 2, 'DaddyoFive': 1, 'YearOld': 1, 'TPain': 1, 'Jiujitsu': 1, 'attacks': 2, 'recreates': 1, 'opera': 3, 'Is': 6, 'uploading': 2, 'listening': 1, 'admits': 1, 'Shoulder': 1, 'Wellhe': 1, 'Hitler': 1, 'give': 8, 'giving': 2, 'GET': 1, 'thousand': 1, 'officially': 2, 'years': 53, 'superpower': 1, 'hear': 1, 'masks': 1, 'present': 2, 'Sways': 1, 'Grandpa': 1, 'my': 57, 'Rarely': 1, 'returned': 1, 'need': 2, 'Facebook': 5, 'd': 1, 'Avalon': 1, 'cruises': 1, 'Shaun': 2, 'NES': 1, 'Superheroes': 1, 'Rickman': 1, 'Ellen': 1, 'obscure': 1, 'Pearlman': 1, 'fire': 3, 'aired': 3, 'Simulator': 2, 'Hawking': 1, 'surpassed': 1, 'step': 2, 'defuse': 1, 'here': 5, 'New': 8, 'Purposely': 1, 'Beaver': 1, 'mayonnaise': 1, 'Dude': 1, 'apart': 3, 'gut': 1, 'dog': 4, 'let': 3, 'killed': 1, 'vandal': 1, 'Jackson': 2, 'affect': 1, 'these': 3, 'each': 3, 'Ramadan': 1, 'collection': 1, 'section': 2, 'north': 1, 'cool': 3, 'genuine': 3, 'joined': 1, 'Daily': 2, 'boss': 1, 'overbooked': 2, 'Gene': 1, 'theyve': 1, 'govt': 1, 'MY': 1, 'Revenge': 2, 'De': 1, 'globally': 1, 'chase': 2, 'Accuser': 1, 'megachurch': 1, 'creatorswho': 1, 'Paris': 1, 'hug': 2, 'MJ': 2, 'Group': 1, 'directed': 1, 'make': 16, 'Airlines': 6, 'ultraserious': 1, 'jaws': 1, 'documentary': 3, 'Nature': 1, 'cave': 1, 'Live': 2, 'Each': 2, 'public': 1, 'lock': 2, 'record': 2, 'professional': 1, 'well': 3, 'happen': 3, 'Beijing': 1, 'listed': 1, 'Damning': 1, 'lifted': 1, 'scared': 1, 'profit': 1, 'Didnt': 1, 'audition': 1, 'liking': 1, 'confined': 1, 'holes': 1, 'groped': 1, 'office': 1, 'Snoring': 1, 'Wii': 1, 'Whenever': 2, 'elevator': 1, 'fun': 2, 'accuracy': 2, 'sht': 1, 'crowdfunded': 1, 'Illegal': 1, 'Approved': 1, 'Fortnite': 3, 'know': 5, 'Arabia': 1, 'midinterview': 1, 'hotel': 1, 'Alyx': 1, 'machines': 1, 'Stefánsson': 1, 'surprisingly': 2, 'programmed': 2, 'sponsored': 1, 'renowned': 2, 'Net': 2, 'vomit': 1, 'ten': 1, 'Nsfw': 2, 'loss': 2, 'A': 51, 'cerebral': 1, 'Laughcompilation': 1, 'Kirk': 1, 'XfactorLouis': 1, 'tears': 2, 'infomercials': 1, 'defensive': 1, 'Fart': 1, 'birds': 1, 'splitting': 1, 'affects': 1, 'opening': 3, 'cops': 3, 'longer': 1, 'shown': 1, 'Michael': 2, 'vaccinating': 1, 'time': 37, 'min': 2, 'surprising': 1, 'essays': 1, 'ingame': 1, 'subscribers': 2, 'delivery': 3, 'tonights': 1, 'using': 8, 'mirror': 2, 'request': 1, 'lara': 1, 'resurfaces': 1, 'swallows': 1, 'first': 23, 'platform': 1, 'niece': 1, 'Miller': 1, 'criticism': 1, 'Disneyworlds': 1, 'comb': 1, 'PIXAR': 1, 'wont': 2, 'Enjoy': 1, 'Ashleigh': 1, 'taken': 4, 'class': 2, 'Jake': 2, 'Friday': 1, 'Goes': 1, 'Holidays': 1, 'Ace': 1, 'Scientology': 4, 'reactions': 2, 'show': 24, 'bread': 2, 'afternoon': 1, 'far': 5, 'studying': 2, 'that': 68, 'Promote': 1, 'is': 136, 'Halfpipe': 1, 'gone': 2, 'father': 2, 'Fly': 1, 'extorted': 1, 'Gallery': 1, 'replacing': 1, 'professors': 1, 'influencer': 1, 'filmed': 5, 'convince': 1, 'Theme': 1, 'Pro': 1, 'Games': 2, 'Investigation': 1, 'couldnt': 1, 'resale': 1, 'aim': 1, 'unscripted': 1, 'Street': 1, 'wakes': 1, 'Portuguese': 1, 'VICE': 1, 'IQ': 1, 'stages': 1, 'Breaking': 2, 'talent': 4, 'tou': 1, 'virtual': 2, 'yelling': 1, 'Shooting': 1, 'crash': 1, 'terminate': 1, 'LeBrons': 1, 'Trek': 1, 'cable': 1, 'phenomenal': 1, 'cart': 1, 'Deception': 1, 'copper': 1, 'WMGRoyal': 1, 'if': 15, 'Volkswagen': 1, 'Dominos': 1, 'Skynyrd': 1, 'day': 20, 'style': 4, 'schools': 1, 'Content': 2, 'tails': 1, 'Shadily': 1, 'Every': 7, 'Huge': 1, 'pursue': 1, 'records': 2, 'ghost': 1, 'been': 18, 'Kosmic': 1, 'Security': 1, 'impossible': 1, 'Bowler': 1, 'examine': 1, 'paid': 2, 'accident': 3, 'shows': 4, 'unusable': 1, 'come': 3, 'theft': 1, 'Creator': 1, 'Pertussis': 1, 'plastic': 1, 'Glue': 1, 'promising': 1, 'YouTubes': 2, 'Blower': 1, 'accomplished': 1, 'Rowan': 1, 'penetrating': 1, 'Pizzeria': 1, 'battle': 1, 'monstrous': 1, 'only': 17, 'Sneak': 1, 'accuse': 1, 'seconds': 12, 'directions': 1, 'buddy': 2, 'Attend': 1, 'Wireless': 1, 'Primitive': 3, 'less': 2, 'peoples': 1, 'submitted': 2, 'parents': 2, 'Airline': 1, 'Despacito': 1, 'Ron': 1, 'solved': 1, 'Dancing': 1, 'mum': 1, 'massive': 2, 'Blackhawks': 1, 'playoffs': 1, 'motor': 1, 'japanese': 1, 'SpiderMan': 1, 'Jerrys': 1, 'deserves': 2, 'balloons': 1, 'clues': 1, 'famous': 6, 'body': 1, 'crashes': 2, 'emotional': 1, 'shopper': 2, 'dudes': 1, 'computers': 1, 'uploaded': 5, 'American': 3, 'Silence': 1, 'can': 18, 'Dave': 3, 'dismantled': 1, 'US': 8, 'India': 1, 'hates': 2, 'troops': 1, 'Language': 2, 'Dunkeys': 1, 'perished': 1, 'listens': 1, 'Portland': 1, 'Actresses': 1, 'crashed': 1, 'Star': 10, 'packing': 1, 'blizzard': 1, 'smart': 1, 'sped': 1, 'Flist': 1, 'somehow': 3, 'sports': 4, 'beachball': 1, 'box': 1, 'oilpump': 1, 'Stratford': 1, 'evidence': 1, 'Thats': 1, 'damage': 1, 'included': 1, 'responds': 2, 'Yoda': 1, 'More': 1, 'hanging': 1, 'outside': 2, 'brain': 5, 'Liverpool': 1, 'tornado': 1, 'ive': 2, 'reveals': 1, 'crippling': 1, 'Changing': 2, 'returns': 2, 'pie': 1, 'Four': 2, 'scooters': 1, 'medical': 1, 'cost': 1, 'practically': 1, 'channels': 3, 'God': 2, 'shady': 1, 'streamer': 4, 'Gogh': 1, 'reptilian': 1, 'bullying': 1, 'decade': 1, 'Gum': 2, 'Britney': 1, 'Path': 1, 'investing': 1, 'Dodie': 1, 'MacBook': 1, 'underrated': 1, 'bootleg': 1, 'goalie': 1, 'made': 30, 'nearly': 2, 'so': 16, 'After': 7, 'tosses': 1, 'prohibited': 1, 'horns': 1, 'juggle': 1, 'beer': 1, 'TotalBiscuit': 1, 'views': 6, 'teeth': 1, 'WSJ': 1, 'developers': 1, 'Former': 3, 'Hargraves': 1, 'held': 1, 'mornings': 1, 'skydived': 1, 'buying': 2, 'planned': 2, 'loops': 2, 'Scene': 1, 'transitions': 1, 'throttling': 1, 'Michelin': 1, 'Ouch': 1, 'Bush': 1, 'down': 18, 'mysterious': 1, 'leaves': 3, 'dogfighting': 1, 'free': 9, 'Rude': 1, 'foil': 1, 'isnt': 2, 'favourite': 2, 'uploads': 1, 'puts': 1, 'Bailey': 1, 'Walks': 1, 'Chile': 1, 'goggles': 1, 'chuff': 1, 'jerk': 1, 'hitting': 2, 'Arizona': 1, 'It': 6, 'took': 3, 'finding': 1, 'Ninja': 1, 'Todays': 1, 'mph': 1, 'singing': 2, 'husband': 1, 'Official': 1, 'turn': 3, 'Babish': 1, 'reporter': 6, 'Rotten': 2, 'giant': 1, 'Effect': 1, 'infringing': 1, 'SpongeBob': 1, 'spreading': 1, 'Just': 2, 'Top': 4, 'before': 8, 'Hero': 1, 'Shut': 3, 'Arctic': 1, 'West': 1, 'Anderson': 2, 'Really': 1, 'Injury': 1, 'Terry': 3, 'Harvey': 2, 'burns': 1, 'Daenerys': 1, 'steals': 3, 'Failed': 1, 'art': 1, 'Ukrainian': 1, 'Bernardino': 1, 'Earth': 1, 'Views': 1, 'be': 37, 'Launch': 1, 'member': 2, 'Before': 3, 'stadium': 1, 'Rossmanns': 1, 'film': 15, 'Icelands': 1, 'If': 7, 'Mo': 1, 'asshat': 1, 'much': 2, 'have': 17, 'Press': 1, 'times': 6, 'living': 5, 'malware': 1, 'drive': 1, 'Tyler': 1, 'INCREDIBLY': 1, 'product': 6, 'tricked': 1, 'Abusive': 1, 'Sounds': 1, 'thst': 1, 'Joke': 1, 'Walmart': 1, 'Leahs': 1, 'Sweet': 1, 'local': 4, 'And': 8, 'Vegas': 2, 'Social': 1, 'Female': 1, 'founder': 1, 'powered': 1, 'Editing': 1, 'Jerry': 2, 'bot': 1, 'Gamer': 1, 'Kind': 1, 'parody': 2, 'Gotten': 1, 'point': 2, 'album': 3, 'Against': 2, 'Emilia': 1, 'painkillers': 1, 'Celebrity': 1, 'Shakespeares': 1, 'Captain': 1, 'magician': 1, 'sexually': 1, 'funnier': 1, 'by': 57, 'Frenchman': 1, 'hеll': 1, 'yes': 1, 'Real': 7, 'ringtone': 1, 'Spy': 1, 'match': 2, 'excellent': 1, 'rhino': 1, 'Cab': 1, 'Clive': 1, 'think': 12, 'debunked': 1, 'reach': 1, 'arcade': 1, 'dressed': 4, 'Elon': 1, 'Phils': 1, 'Procrastination': 1, 'Barney': 1, 'respect': 2, 'losers': 1, 'acoustic': 1, 'Toto': 1, 'english': 1, 'Comedian': 4, 'totally': 1, 'grass': 1, 'talented': 1, 'Jacksonville': 1, 'wina': 1, 'x': 1, 'Reynolds': 2, 'ensues': 2, 'friendly': 1, 'sold': 3, 'even': 7, 'Youtuber': 7, 'boyfriend': 2, 'Colombia': 1, 'LaBeouf': 2, 'Dunsworth': 2, 'Undercover': 1, 'Chesters': 1, 'Disney': 6, 'Lost': 1, 'group': 4, 'rehabilitation': 1, 'job': 6, 'team': 2, 'athelete': 1, 'KMart': 1, 'Trailer': 3, 'confetti': 1, 'annihilation': 1, 'Iraqi': 2, 'convincing': 1, 'shop': 2, 'scenes': 8, 'rapping': 2, 'Facebooks': 1, 'since': 1, 'yo': 1, 'lecture': 1, 'responding': 1, 'Rapper': 2, 'company': 7, 'Cruise': 4, 'paper': 1, 'Hulus': 1, 'NIGHT': 1, 'Dolphin': 1, 'cockatiel': 1, 'Seat': 1, 'maybe': 1, 'sister': 4, 'Our': 1, 'Fortunately': 1, 'knew': 1, 'Nuremberg': 1, 'Nine': 4, 'af': 1, 'visits': 1, 'anyone': 2, 'Gaming': 2, 'Walken': 1, 'supposed': 2, 'say': 3, 'selling': 1, 'By': 2, 'Musk': 1, 'Mom': 2, 'Journalist': 2, 'alive': 1, 'myself': 1, 'channel': 15, 'Moms': 1, 'simply': 1, 'Hill': 2, 'End': 2, 'tried': 1, 'Orange': 1, 'station': 4, 'population': 2, 'Rare': 1, 'Creating': 1, 'Painting': 1, 'splicing': 1, 'Yes': 1, 'flat': 2, 'funniest': 1, 'break': 5, 'went': 3, 'continue': 1, 'Experiment': 1, 'Rocky': 1, 'Energy': 1, 'Home': 1, 'CBS': 2, 'foreign': 1, 'waiting': 1, 'Super': 9, 'clip': 4, 'build': 1, 'Timberwolves': 1, 'really': 2, 'Wilder': 1, 'Moment': 1, 'waits': 1, 'Well': 2, 'it': 103, 'during': 14, 'decided': 5, 'Were': 2, 'solo': 1, 'supassing': 1, 'bone': 1, 'parking': 2, 'consoling': 1, 'chainsaw': 1, 'decline': 1, 'pikachu': 2, 'OneMinute': 1, 'gives': 6, 'pizza': 2, 'Latest': 2, 'competitively': 1, 'sock': 1, 'Honestly': 1, 'yet': 3, 'lives': 1, 'Possibly': 2, 'together': 8, 'Guess': 2, 'Im': 9, 'payed': 1, 'sidewalks': 1, 'Train': 1, 'unprecedented': 1, 'Bought': 2, 'demonetized': 2, 'Thanksgiving': 2, 'Pop': 4, 'jobs': 2, 'simpsons': 1, 'signed': 1, 'Bouman': 1, 'Clarke': 1, 'Adult': 3, 'want': 2, 'falls': 1, 'lake': 2, 'Announcement': 1, 'grandmothers': 1, 'filming': 4, 'insults': 1, 'Mehndi': 1, 'cooperation': 2, 'driver': 8, 'Foo': 3, 'posts': 1, 'close': 2, 'rise': 1, 'KMH': 1, 'star': 1, 'Delta': 1, 'Later': 2, 'Cyrus': 1, 'fireworks': 1, 'income': 1, 'next': 2, 'Macys': 1, 'scene': 12, 'Brydons': 1, 'Dunkey': 2, 'explained': 1, 'Professor': 2, 'Radio': 1, 'Egg': 1, 'to': 328, 'Netflix': 1, 'Peter': 3, 'side': 2, 'handicapped': 1, 'book': 1, 'win': 3, 'cry': 1, 'lookalike': 1, 'Hockey': 1, 'Boys': 1, 'earlier': 2, 'troopers': 1, 'scooter': 1, 'USA': 1, 'Gon': 7, 'eventually': 1, 'Bruno': 1, 'Tourettes': 1, 'super': 2, 'shortterm': 2, 'queen': 1, 'which': 3, 'currently': 5, 'consumers': 1, 'Scammers': 1, 'Went': 1, 'drains': 1, 'Version': 3, 'Sing': 3, 'Olympic': 2, 'loud': 1, 'outrageous': 1, 'Modern': 2, 'extreme': 2, 'Slips': 1, 'wish': 2, 'cute': 2, 'smuggle': 1, 'Videos': 3, 'Terrified': 1, 'forgets': 1, 'reddit': 5, 'matters': 1, 'services': 1, 'Flames': 1, 'beginning': 1, 'Foxx': 1, 'described': 1, 'awareness': 1, 'provide': 2, 'Thor': 1, 'Forgot': 2, 'Perfects': 1, 'mass': 1, 'property': 3, 'commercial': 8, 'Reveal': 1, 'polar': 2, 'TIL': 2, 'biased': 1, 'kick': 1, 'FL': 1, 'Stormtroopers': 1, 'Under': 1, 'survivor': 2, 'Tears': 1, 'exchange': 2, 'Ill': 2, 'nineteen': 2, 'proof': 1, 'Motion': 1, 'Stop': 3, 'dealer': 1, 'responder': 1, 'Knoxville': 1, 'genre': 1, 'run': 5, 'dogs': 3, 'Napoleon': 1, 'subs': 2, 'Roommates': 1, 'ad': 5, 'becomes': 1, 'Jose': 1, 'destroys': 2, 'looked': 1, 'cinema': 1, 'sisters': 1, 'predicts': 1, 'everyday': 3, 'page': 5, 'World': 3, 'antihero': 1, 'money': 3, 'song': 11, 'Lynyrd': 1, 'Bells': 1, 'Van': 1, 'raided': 1, 'fall': 3, 'FCC': 1, 'Manchester': 1, 'recruiting': 1, 'UpTown': 1, 'sad': 1, 'Can': 6, 'owe': 1, 'Salvia': 1, 'YouTubers': 1, 'stolen': 2, 'defends': 1, 'strapped': 1, 'Now': 3, 'amounts': 1, 'Brennan': 1, 'Bo': 1, 'meet': 1, 'Founder': 2, 'trip': 4, 'PLEASE': 1, 'REMIX': 1, 'posture': 1, 'theres': 1, 'Wendys': 1, 'People': 5, 'Bryan': 2, 'Temecula': 1, 'yrold': 1, 'Forget': 1, 'concussions': 1, 'booed': 1, 'Friends': 2, 'compilation': 1, 'So': 7, 'Middle': 1, 'exceeded': 1, 'nipple': 1, 'Tried': 3, 'BBC': 2, 'funded': 1, 'Sneaking': 1, 'Was': 3, 'Courtney': 1, 'shared': 3, 'PD': 1, 'trash': 3, 'incident': 2, 'analogy': 1, 'petition': 1, 'fights': 1, 'Impractical': 1, 'Episode': 2, 'wears': 1, 'separates': 1, 'done': 1, 'searches': 2, 'Mans': 3, 'coughing': 1, 'happy': 2, 'mans': 2, 'Annihilates': 1, 'Into': 2, 'highlights': 1, 'Seconds': 1, 'man': 18, 'AllStar': 1, 'surrounded': 1, 'Vet': 1, 'dream': 2, 'reassembles': 1, 'justice': 2, 'priceless': 1, 'postal': 1, 'Lands': 1, 'Robbie': 1, 'Gameplay': 1, 'censors': 1, 'MIB': 1, 'Antivirus': 1, 'Melbourne': 1, 'verse': 1, 'chimpanzee': 1, 'drivers': 4, 'sneak': 2, 'saw': 4, 'Jameskiis': 1, 'nephew': 4, 'false': 2, 'Chrome': 1, 'Attenboroughs': 1, 'media': 3, 'weve': 2, 'Media': 1, 'sponge': 1, 'heard': 2, 'passed': 7, 'hilarity': 2, 'Stairs': 1, 'Charges': 1, 'finishing': 1, 'Cry': 1, 'conversation': 1, 'Airplane': 1, 'tricycle': 1, 'Church': 4, 'Kerosene': 1, 'score': 1, 'skills': 1, 'She': 1, 'ride': 1, 'Legend': 1, 'GIT': 1, 'matter': 1, 'remake': 1, 'apology': 2, 'skin': 1, 'Remake': 1, 'Theyre': 2, 'German': 3, 'second': 5, 'festival': 1, 'Giertz': 2, 'greatest': 7, 'Royal': 2, 'part': 5, 'Commercial': 3, 'Danish': 1, 'Gosling': 1, 'investigates': 1, 'Name': 1, 'Michelinstarred': 1, 'Favorite': 2, 'lego': 2, 'RiceGum': 1, 'attempt': 2, 'helpful': 3, 'analyzed': 1, 'get': 19, 'holding': 2, 'DaddyOfFive': 1, 'Ok': 1, 'victim': 1, 'social': 4, 'continues': 1, 'could': 11, 'pipe': 1, 'enjoyable': 1, 'guard': 1, 'Russias': 2, 'as': 43, 'disconnect': 1, 'lenses': 1, 'streets': 1, 'generator': 1, 'bassline': 1, 'fools': 3, 'without': 8, 'private': 3, 'Vader': 2, 'Last': 2, 'disease': 1, 'Cards': 1, 'Incredibles': 1, 'acrylic': 1, 'dozens': 1, 'screwed': 1, 'install': 1, 'with': 91, 'wholesome': 5, 'Inventor': 1, 'NEVER': 1, 'cuts': 1, 'KeemStar': 1, 'needs': 3, 'blessed': 1, 'helped': 1, 'praise': 1, 'evolved': 1, 'Words': 1, 'piano': 3, 'wine': 1, 'seem': 1, 'DMC': 1, 'otherwise': 1, 'exactly': 2, 'Posted': 1, 'v': 1, 'Virtually': 1, 'clips': 4, 'suspicion': 1, 'light': 1, 'Thug': 1, 'actress': 1, 'parachutes': 1, 'Baton': 1, 'this': 88, 'Through': 1, 'pong': 1, 'Indonesia': 1, 'Whats': 2, 'foot': 2, 'ship': 1, 'claimed': 1, 'presentation': 1, 'household': 2, 'required': 1, 'decodes': 1, 'Video': 9, 'Yakuza': 1, 'Insane': 2, 'threatens': 3, 'ask': 1, 'Damn': 1, 'flooded': 1, 'common': 1, 'Prince': 1, 'Banned': 1, 'restored': 2, 'posting': 1, 'enjoy': 1, 'Houston': 1, 'barge': 1, 'drinks': 1, 'twenty': 1, 'savings': 1, 'Jedi': 1, 'laughs': 2, 'White': 4, 'attractive': 1, 'least': 3, 'Superintendent': 3, 'Dont': 6, 'fake': 4, 'Remember': 2, 'induction': 1, 'Place': 1, 'fishing': 1, 'sent': 5, 'fixing': 1, 'solicit': 1, 'Had': 1, 'Canadian': 2, 'thats': 2, 'magnum': 1, 'How': 18, 'phone': 3, 'Anthem': 2, 'instead': 7, 'Billie': 1, 'six': 1, 'dynamics': 1, 'Husband': 1, 'shout': 1, 'Brown': 1, 'work': 11, 'touchdown': 1, 'congratulate': 1, 'Update': 1, 'Jokers': 1, 'couple': 5, 'forget': 4, 'variant': 1, 'Peru': 1, 'Higa': 1, 'Stewart': 2, 'Ariana': 1, 'Fans': 2, 'Nobody': 1, 'bassdrop': 1, 'streamers': 1, 'keep': 4, 'brushing': 1, 'most': 24, 'Grey': 1, 'explains': 4, 'throws': 1, 'joke': 6, 'Geordie': 1, 'youtubers': 1, 'Sigourney': 1, 'condom': 1, 'Leonardo': 1, 'Nutshell': 1, 'hilarious': 4, 'promise': 1, 'Weeks': 1, 'Old': 1, 'Emmy': 1, 'Civic': 1, 'text': 1, 'College': 1, 'NYCC': 1, 'Alright': 1, 'Samcrac': 1, 'online': 7, 'Octopus': 1, 'Apparently': 1, 'dude': 2, 'subculture': 1, 'That': 6, 'Watching': 1, 'May': 1, 'name': 2, 'trail': 1, 'hed': 3, 'career': 1, 'Feet': 1, 'duty': 1, 'DEADMAU': 1, 'Louis': 1, 'Bike': 1, 'balloon': 1, 'exercise': 1, 'EMOJI': 1, 'hands': 5, 'Seth': 2, 'mate': 2, 'pair': 1, 'Jacksons': 1, 'Goalkeeper': 1, 'dinosaur': 1, 'microphone': 1, 'pitch': 2, 'Balloon': 1, 'loot': 1, 'Alan': 1, 'pepper': 1, 'tribute': 2, 'thus': 1, 'memes': 1, 'Hasnt': 1, 'confirmed': 2, 'At': 4, 'old': 18, 'As': 2, 'view': 1, 'every': 14, 'Shot': 1, 'Ben': 1, 'injuries': 1, 'REVIEW': 1, 'Battlefront': 2, 'days': 2, 'Minute': 1, 'cricket': 1, 'Reagan': 1, 'streamed': 1, 'bows': 1, 'rain': 1, 'calling': 2, 'interview': 3, 'Great': 2, 'upset': 4, 'motorcycle': 2, 'pay': 2, 'blurst': 1, 'way': 9, 'rock': 2, 'Parents': 1, 'CSGO': 1, 'Smith': 1, 'simpsonwave': 1, 'Package': 3, 'Interactions': 1, 'Girlfriend': 1, 'Final': 3, 'concept': 1, 'Purse': 1, 'firstever': 1, 'Laugh': 2, 'Johnny': 1, 'ft': 2, 'somebody': 1, 'lead': 1, 'learns': 2, 'wilderness': 1, 'dig': 1, 'True': 1, 'stabilized': 1, 'Iron': 1, 'moment': 8, 'AT': 1, 'passes': 1, 'serviceonly': 1, 'Mario': 4, 'biker': 1, 'Billions': 1, 'pedophilia': 1, 'robots': 1, 'Hiking': 1, 'September': 2, 'okay': 1, 'engine': 1, 'confidence': 1, 'gIveyouUP': 1, 'He': 13, 'human': 4, 'Ren': 1, 'spent': 3, 'remastering': 1, 'will': 12, 'SmellyOctopus': 1, 'Truly': 1, 'thwarting': 1, 'child': 6, 'scream': 1, 'blow': 1, 'future': 1, 'rips': 1, 'innerworkings': 1, 'playing': 7, 'threw': 5, 'Event': 1, 'production': 1, 'firing': 1, 'Karl': 1, 'price': 4, 'SFW': 1, 'chess': 2, 'turns': 4, 'exceed': 1, 'lawsuits': 1, 'Vs': 2, 'call': 2, 'Millions': 1, 'oldest': 1, 'Aired': 1, 'advertised': 3, 'Play': 1, 'Review': 1, 'half': 1, 'museum': 1, 'PETA': 1, 'Code': 1, 'comedy': 1, 'altar': 1, 'users': 1, 'cheapest': 2, 'youll': 1, 'realize': 2, 'explosion': 3, 'passenger': 3, 'Finally': 1, 'game': 14, 'contact': 1, 'cactus': 1, 'John': 7, 'Grimmie': 1, 'design': 1, 'Earthers': 1, 'Ryan': 4, 'invention': 1, 'young': 4, 'your': 19, 'hop': 1, 'improvises': 1, 'accidentally': 4, 'Midnight': 1, 'abilities': 2, 'DOnofrios': 1, 'F': 1, 'baggies': 1, 'Rogers': 5, 'retire': 1, 'Pickpocket': 1, 'Sons': 2, 'everyone': 3, 'comiccon': 1, 'knowing': 1, 'violently': 1, 'TJ': 1, 'teens': 1, 'Hold': 1, 'society': 4, 'Manipulated': 1, 'Russian': 1, 'blocks': 1, 'Troops': 1, 'issues': 1, 'Stormborn': 1, 'Anning': 1, 'Air': 2, 'player': 2, 'CAGE': 1, 'emailed': 1, 'soft': 1, 'Gates': 1, 'Deyshia': 1, 'had': 18, 'Difficult': 1, 'arriving': 1, 'claiming': 4, 'scam': 1, 'Answer': 1, 'Advert': 1, 'Heavy': 3, 'telecom': 1, 'portraying': 1, 'bitch': 1, 'recorded': 3, 'Fuck': 3, 'Tomatoes': 1, 'adds': 1, 'sounds': 5, 'right': 12, 'still': 13, 'Stephen': 1, 'spots': 1, 'bar': 3, 'commentators': 2, 'South': 3, 'Nickelodeon': 1, 'wear': 1, 'TheFatRats': 1, 'cat': 6, 'again': 4, 'creepy': 1, 'Cena': 1, 'humor': 1, 'hunchback': 1, 'are': 34, 'publishes': 1, 'spot': 3, 'auctioned': 1, 'When': 19, 'Parade': 2, 'costumes': 1, 'confused': 1, 'cheers': 3, 'war': 1, 'insight': 1, 'service': 3, 'HalfLife': 1, 'crowd': 2, 'were': 5, 'mentioning': 1, 'Tuesday': 1, 'fast': 2, 'All': 7, 'mankind': 1, 'PSA': 2, 'just': 39, 'Italian': 1, 'Wrecking': 1, 'anchor': 3, 'demanding': 1, 'childhood': 2, 'Grannies': 1, 'our': 5, 'bear': 2, 'research': 1, 'halftime': 1, 'Class': 1, 'Complete': 1, 'rampant': 1, 'appropriate': 1, 'dealt': 1, 'faced': 1, 'Dislocated': 1, 'signal': 1, 'Musically': 1, 'missile': 1, 'Silicon': 1, 'Native': 1, 'Jon': 2, 'alien': 1, 'recipes': 1, 'Davis': 1, 'Snoop': 2, 'fulltime': 1, 'sailor': 1, 'in': 192, 'beaten': 1, 'Missionaries': 1, 'concert': 3, 'McAfees': 1, 'anonymous': 1, 'Democracy': 1, 'aggressive': 1, 'hook': 1, 'Stealing': 2, 'Dogs': 1, 'snowball': 1, 'similarities': 1, 'Jeffrey': 1, 'sole': 1, 'drunks': 1, 'Councilman': 1, 'Mongeau': 1, 'witness': 1, 'Space': 1, 'born': 4, 'Dad': 6, 'master': 1, 'Supa': 1, 'tries': 5, 'To': 26, 'removal': 1, 'WiiU': 1, 'Cant': 2, 'searching': 1, 'panicking': 1, 'calculating': 1, 'nonbelieving': 1, 'Bar': 1, 'Dre': 3, 'orangutan': 1, 'Christopher': 1, 'Fergie': 1, 'Alex': 4, 'start': 5, 'June': 1, 'Critiques': 1, 'NASA': 2, 'meaning': 1, 'speakermic': 1, 'Past': 1, 'news': 10, 'Hotel': 1, 'Rips': 1, 'earthquake': 2, 'says': 9, 'speak': 1, 'baller': 1, 'dont': 8, 'cryptic': 1, 'Beckham': 1, 'wanted': 5, 'became': 3, 'Watsons': 1, 'Russell': 1, 'classically': 1, 'Chan': 1, 'airplane': 1, 'Cough': 1, 'put': 5, 'ahead': 2, 'belt': 1, 'Anything': 1, 'working': 1, 'bring': 2, 'poor': 1, 'gravestone': 1, 'touch': 1, 'REALLY': 1, 'Jamie': 1, 'Carell': 1, 'Lawrence': 2, 'calm': 1, 'topics': 1, 'workings': 1, 'Leaves': 1, 'earthers': 1, 'shooting': 2, 'freaking': 1, 'Engineer': 2, 'strawberry': 1, 'Bark': 1, 'haka': 1, 'aid': 1, 'oil': 1, 'Los': 2, 'sauce': 1, 'kickass': 1, 'radio': 1, 'referring': 1, 'application': 2, 'plant': 1, 'comfort': 1, 'lifesaving': 1, 'Conan': 3, 'Bobby': 1, 'Cranston': 2, 'Minnesota': 1, 'classless': 1, 'awards': 1, 'Very': 1, 'Saber': 1, 'Massacre': 2, 'disproving': 1, 'riders': 1, 'Lazy': 1, 'Taco': 1, 'Kong': 1, 'Wait': 1, 'prior': 1, 'removed': 3, 'system': 3, 'Things': 4, 'Wedding': 1, 'Life': 6, 'Pastor': 1, 'Redditors': 2, 'episodes': 1, 'companies': 1, 'finished': 2, 'Florida': 3, 'eBay': 1, 'warning': 1, 'venus': 1, 'Learn': 2, 'Blizzcon': 1, 'meme': 1, 'appreciation': 1, 'Spirit': 1, 'sings': 5, 'chop': 1, 'playlist': 1, 'Seafood': 1, 'Bulls': 1, 'Never': 10, 'News': 4, 'Beat': 1, 'Chainsaw': 1, 'camera': 1, 'remember': 5, 'lived': 1, 'Disneyland': 1, 'WNBA': 1, 'Saturday': 1, 'Reaper': 1, 'questionable': 1, 'effects': 1, 'Steals': 1, 'southern': 1, 'Bitch': 1, 'Hall': 1, 'comes': 3, 'Animation': 2, 'AllTime': 1, 'interrupted': 1, 'grandmother': 2, 'Feldman': 2, 'Jeopardy': 2, 'later': 5, 'LA': 2, 'stand': 1, 'inflated': 1, 'enough': 1, 'Reddits': 1, 'able': 2, 'Iphone': 1, 'screws': 1, 'rbreakingbad': 1, 'Funeral': 1, 'picture': 1, 'metal': 3, 'Anna': 1, 'Rhapsody': 2, 'cast': 4, 'NSFL': 1, 'Lions': 1, 'Spicy': 2, 'bad': 3, 'picked': 2, 'responded': 1, 'promises': 2, 'HipHop': 1, 'practise': 1, 'Makes': 1, 'shotforshot': 1, 'machine': 2, 'Earther': 1, 'unless': 1, 'boo': 1, 'Szechuan': 1, 'Sucker': 1, 'hand': 3, 'mechanics': 3, 'trying': 11, 'kinda': 1, 'wheelchair': 4, 'real': 5, 'Suicidal': 1, 'due': 5, 'Italy': 2, 'serious': 2, 'Cuban': 2, 'Miley': 1, 'Rangtan': 1, 'Deletes': 1, 'Himself': 2, 'Method': 1, 'discover': 2, 'colleague': 1, 'Reviews': 1, 'single': 2, 'Tsunami': 1, 'questioning': 1, 'staged': 2, 'Megathread': 1, 'character': 2, 'strikes': 2, 'Zack': 1, 'AKA': 1, 'mistaken': 1, 'Vox': 1, 'Booted': 1, 'keeps': 3, 'Challenge': 1, 'kuwaiti': 1, 'Apply': 1, 'Dogg': 2, 'key': 1, 'butterfly': 1, 'touchscreen': 1, 'homeschooled': 1, 'Guaranteed': 1, 'mates': 1, 'Ever': 6, 'replace': 1, 'plus': 1, 'having': 5, 'interaction': 1, 'Staff': 1, 'guys': 5, 'micd': 1, 'Eminem': 6, 'Sacramento': 1, 'downhill': 1, 'students': 3, 'ecosystem': 1, 'tracks': 1, 'boy': 8, 'delivers': 1, 'skyscrapers': 1, 'weeks': 2, 'food': 7, 'considering': 1, 'new': 21, 'underestimated': 1, 'course': 3, 'festivals': 1, 'Teacher': 3, 'vehicles': 1, 'asked': 8, 'tequila': 1, 'National': 5, 'include': 1, 'monster': 1, 'card': 2, 'Nielsen': 1, 'Throws': 1, 'Kanye': 1, 'Cribs': 1, 'random': 2, 'crazy': 1, 'literally': 1, 'pretend': 2, 'fame': 1, 'whenever': 2, 'cannon': 1, 'no': 6, 'coanchor': 1, 'tattoos': 1, 'hecklesComedian': 1, 'Watch': 3, 'Bohemian': 2, 'Valley': 1, 'shoulder': 2, 'over': 21, 'them': 15, 'Bel': 1, 'world': 10, 'collaborate': 1, 'Fantasy': 1, 'FuckJerry': 1, 'lesson': 1, 'Airshow': 1, 'takes': 7, 'Special': 3, 'Whooping': 1, 'Charlotte': 1, 'His': 8, 'confiscated': 1, 'Trust': 1, 'teenage': 1, 'opponent': 1, 'Ate': 1, 'him': 35, 'addiction': 1, 'mountain': 1, 'Ive': 14, 'Maybe': 1, 'Wisconsin': 1, 'someone': 3, 'speaks': 2, 'backup': 1, 'Tank': 1, 'ladies': 1, 'unintentionally': 1, 'gamers': 1, 'Shark': 1, 'toy': 2, 'reason': 1, 'Fenton': 1, 'reimagining': 1, 'thousands': 1, 'Problem': 1, 'st': 2, 'Cantor': 1, 'Deleting': 1, 'comedian': 2, 'credit': 3, 'Irish': 1, 'puppy': 1, 'YouTuber': 4, 'Ansari': 1, 'send': 1, 'hacks': 1, 'expected': 1, 'tie': 1, 'DiCaprio': 1, 'rolled': 1, 'Texas': 1, 'Chester': 1, 'Weird': 1, 'playbyplay': 1, 'segment': 2, 'Restaurant': 1, 'comment': 1, 'makes': 19, 'completed': 1, 'Rapaports': 1, 'impressed': 2, 'sixteen': 2, 'Talent': 1, 'hugely': 1, 'Fraser': 1, 'recreate': 1, 'Lose': 1, 'upvoted': 1, 'motorcyclists': 1, 'fault': 1, 'Urgent': 1, 'Martin': 1, 'expert': 1, 'Thoughts': 1, 'respond': 2, 'LAWSUIT': 1, 'Day': 2, 'Alien': 1, 'hes': 5, 'himself': 5, 'pilot': 3, 'Direction': 1, 'Angeles': 2, 'Slayer': 1, 'percentage': 1, 'number': 2, 'horse': 1, 'Let': 1, 'Elementary': 1, 'ethical': 1, 'deadlifts': 1, 'there': 6, 'Shades': 1, 'skied': 1, 'worst': 2, 'Ganz': 1, 'Kenobi': 1, 'hour': 5, 'gained': 1, 'Dwight': 1, 'died': 6, 'anywhere': 2, 'tumor': 2, 'proceeds': 4, 'UPS': 3, 'jail': 2, 'not': 25, 'million': 1, 'fishes': 1, 'Infinite': 1, 'sitting': 1, 'Doctor': 1, 'Singer': 1, 'life': 13, 'Training': 1, 'medically': 1, 'does': 5, 'plan': 2, 'rwtf': 1, 'pieces': 1, 'gameplay': 1, 'college': 1, 'For': 7, 'Weinstein': 2, 'VERY': 1, 'accountants': 1, 'wrenching': 1, 'intelligent': 1, 'Being': 2, 'lied': 1, 'Arab': 1, 'chemist': 1, 'Turkish': 1, 'Target': 1, 'Copyright': 1, 'Classic': 1, 'vaporwave': 1, 'convinces': 1, 'ends': 1, 'swatted': 1, 'goes': 8, 'McAfee': 2, 'prangent': 1, 'hot': 3, 'places': 1, 'Kardashians': 1, 'under': 3, 'grocery': 1, 'evil': 1, 'special': 5, 'overtaken': 1, 'Undertaker': 1, 'Local': 4, 'pastor': 1, 'understood': 1, 'costume': 1, 'lawyer': 2, 'device': 1, 'task': 1, 'puke': 1, 'discovers': 1, 'dating': 1, 'at': 68, 'arms': 1, 'thieves': 1, 'Von': 1, 'realtime': 1, 'Friendly': 1, 'released': 9, 'Trailor': 1, 'WTC': 1, 'tied': 1, 'Asking': 1, 'prank': 3, 'kid': 10, 'Magnets': 1, 'garbage': 1, 'Continues': 1, 'Ago': 1, 'Rob': 2, 'preachers': 1, 'homepage': 1, 'theory': 2, 'Aged': 1, 'cats': 1, 'Pixels': 1, 'algorithm': 1, 'failing': 1, 'hosts': 2, 'Fresh': 1, 'VR': 1, 'god': 2, 'project': 2, 'Rocks': 1, 'blackmailed': 1, 'saved': 1, 'Animator': 1, 'Tops': 1, 'Melee': 1, 'floodwaters': 1, 'VidCon': 1, 'fashion': 1, 'Speed': 1, 'booty': 1, 'Darth': 1, 'creating': 1, 'intellectual': 1, 'Doing': 2, 'proves': 1, 'trailer': 2, 'AOL': 1, 'important': 3, 'rally': 4, 'mistruth': 2, 'afford': 3, 'Showed': 2, 'Kills': 2, 'Icelandic': 1, 'overqualified': 1, 'inspired': 2, 'skeptical': 1, 'Australian': 6, 'Teachers': 2, 'disappearing': 1, 'Mailman': 1, 'earth': 1, 'mic': 2, 'prosthetic': 1, 'Diablo': 2, 'neighbor': 1, 'OUT': 2, 'Safe': 1, 'theyre': 4, 'lands': 2, 'trilogy': 1, 'past': 2, 'girl': 3, 'Rush': 1, 'document': 1, 'minor': 1, 'Telescope': 1, 'family': 5, 'Hidden': 1, 'Mormon': 1, 'Bert': 1, 'Sadly': 1, 'whistle': 1, 'rejected': 1, 'Mel': 2, 'delay': 1, 'Gets': 1, 'results': 2, 'Tabasco': 1, 'honor': 2, 'year': 21, 'actually': 5, 'curses': 1, 'Incredible': 1, 'perfectly': 3, 'k': 5, 'pretty': 3, 'pitches': 1, 'teaser': 1, 'Max': 1, 'rewarded': 1, 'creates': 6, 'Pratt': 3, 'movie': 7, 'Footage': 2, 'Hop': 1, 'against': 2, 'monetizing': 1, 'DAY': 1, 'Cheap': 1, 'planes': 1, 'Vbucks': 1, 'Kpop': 2, 'Spears': 3, 'Exposed': 1, 'Chanel': 1, 'USDmonth': 1, 'for': 151, 'scams': 2, 'hockey': 1, 'ruining': 1, 'Oh': 1, 'Love': 2, 'wind': 1, 'Ridiculously': 1, 'Weather': 1, 'Hears': 1, 'nightmares': 1, 'prove': 2, 'procrastination': 1, 'best': 32, 'Ladies': 1, 'minutes': 5, 'Aziz': 1, 'happenedOC': 1, 'Forge': 1, 'Rant': 1, 'thinking': 1, 'Show': 4, 'people': 20, 'allows': 1, 'robbed': 1, 'Teaser': 1, 'anime': 2, 'Subscribers': 1, 'honest': 3, 'Buckingham': 1, 'passing': 1, 'care': 1, 'LIBRARY': 1, 'champion': 2, 'some': 11, 'supplement': 1, 'Mandarin': 1, 'drunk': 2, 'midwesterners': 1, 'While': 6, 'boom': 1, 'Simone': 2, 'Rouge': 1, 'strangest': 1, 'repeatedly': 1, 'Rubiks': 1, 'season': 3, 'sells': 1, 'archery': 1, 'wife': 5, 'skits': 1, 'department': 2, 'Musicians': 1, 'stop': 4, 'Meteorologist': 3, 'told': 2, 'Victory': 1, 'Tides': 2, 'heres': 2, 'redditor': 1, 'thumbnail': 1, 'spread': 1, 'Drama': 1, 'societies': 1, 'experiences': 1, 'Harvard': 1, 'announcements': 1, 'dimorphism': 1, 'Stan': 1, 'hilariously': 1, 'battling': 1, 'EMT': 1, 'pulls': 1, 'Erlanger': 1, 'Call': 1, 'Farewell': 1, 'Rube': 1, 'answer': 1, 'escape': 3, 'sword': 2, 'graduate': 2, 'space': 1, 'current': 2, 'short': 3, 'Mail': 2, 'Black': 7, 'timelapse': 2, 'tracking': 1, 'trucks': 1, 'Girl': 9, 'servers': 1, 'captured': 2, 'VS': 1, 'Mr': 7, 'Stand': 2, 'Joel': 3, 'cars': 2, 'happened': 3, 'Lane': 1, 'fatty': 1, 'Lies': 1, 'Twitch': 4, 'fact': 2, 'IKEA': 1, 'Voices': 1, 'Macaulay': 1, 'Cracking': 1, 'accepts': 1, 'bumping': 1, 'folks': 1, 'Interpreter': 1, 'hey': 2, 'Deadpool': 2, 'conning': 1, 'approach': 1, 'smashed': 1, 'Yikes': 1, 'kiln': 1, 'Elevator': 1, 'regulation': 1, 'notefornote': 1, 'shoelace': 1, 'regarding': 1, 'Chinese': 5, 'business': 1, 'bitches': 1, 'knockout': 1, 'realizing': 1, 'tycoon': 1, 'Fined': 1, 'often': 1, 'Leaked': 1, 'Matthew': 1, 'nice': 1, 'Concert': 1, 'seize': 1, 'Brilliant': 1, 'grandparents': 2, 'Prime': 1, 'lid': 1, 'Calling': 2, 'correct': 1, 'emmy': 1, 'movies': 5, 'Blood': 1, 'McBain': 1, 'apps': 2, 'fisherman': 2, 'daylight': 1, 'kindness': 1, 'Week': 1, 'Scotch': 1, 'Joseph': 1, 'cammer': 1, 'accountant': 1, 'civil': 3, 'British': 4, 'union': 1, 'previously': 1, 'EA': 3, 'IGN': 1, 'confronts': 1, 'ago': 21, 'shipment': 2, 'Cave': 1, 'those': 1, 'Attempts': 2, 'instantaneously': 1, 'Dog': 3, 'inner': 1, 'Beatles': 1, 'teaches': 1, 'composer': 1, 'clear': 1, 'Commercials': 2, 'friend': 11, 'reality': 2, 'employees': 1, 'traumatized': 1, 'currency': 2, 'Fixes': 1, 'Ike': 1, 'tickets': 2, 'Narcd': 1, 'attempted': 3, 'Salutes': 2, 'third': 1, 'asses': 1, 'entire': 4, 'owned': 2, 'guy': 19, 'Immortal': 1, 'one': 39, 'wasnt': 2, 'toys': 1, 'Wassap': 1, 'Extremely': 1, 'Germanys': 1, 'Oldest': 1, 'NotTimandEric': 1, 'wonders': 1, 'marks': 1, 'Two': 7, 'Heres': 6, 'Where': 2, 'Denver': 1, 'Taiwan': 1, 'Tana': 1, 'ass': 3, 'claims': 3, 'Baby': 2, 'laugh': 5, 'play': 14, 'Queen': 3, 'Addicted': 1, 'Sprite': 1, 'Monjolo': 1, 'Crushing': 1, 'experience': 1, 'Successful': 1, 'DouchebagSquad': 1, 'original': 6, 'Mens': 1, 'dance': 1, 'computer': 1, 'pastas': 1, 'Jingle': 1, 'all': 29, 'damn': 1, 'Freebird': 1, 'Atlas': 1, 'follow': 1, 'problem': 3, 'Tesla': 4, 'Tiger': 1, 'jokes': 4, 'quick': 1, 'Ugly': 1, 'Sea': 1, 'Rockos': 1, 'sleeping': 1, 'Best': 10, 'discusses': 1, 'onto': 1, 'anglerfish': 1, 'supersonic': 1, 'find': 5, 'Hijack': 1, 'hasnt': 3, 'Gate': 1, 'dragged': 3, 'Behaviour': 1, 'hacked': 1, 'upgrade': 1, 'annoyed': 1, 'CAR': 1, 'stoner': 1, 'straight': 2, 'Diamond': 1, 'very': 8, 's': 6, 'arrives': 1, 'Stefán': 1, 'Avicii': 1, 'hell': 1, 'unknowingly': 3, 'lend': 1, 'drugs': 3, 'beach': 2, 'personal': 1, 'challenge': 4, 'lower': 1, 'mom': 2, 'regular': 1, 'Reilly': 1, 'HATES': 1, 'industrial': 2, 'away': 8, 'Cop': 4, 'pole': 1, 'skiing': 1, 'Wont': 1, 'footage': 3, 'Part': 1, 'into': 25, 'Rearranging': 1, 'must': 2, 'Dance': 1, 'NYC': 2, 'permission': 1, 'about': 42, 'pottery': 1, 'pony': 1, 'This': 75, 'Rap': 2, 'punk': 1, 'Kylie': 1, 'works': 9, 'bought': 6, 'regardless': 1, 'within': 1, 'Piper': 1, 'question': 3, 'Ed': 1, 'Steveo': 1, 'planet': 1, 'rowdy': 1, 'killer': 1, 'true': 1, 'leaked': 2, 'pounds': 1, 'Bugs': 1, 'James': 1, 'Neo': 1, 'Montauk': 1, 'lifelong': 1, 'Family': 2, 'Autotuned': 1, 'vs': 13, 'Driving': 2, 'dropped': 1, 'With': 7, 'On': 4, 'Employees': 2, 'involved': 1, 'Reddit': 8, 'sleep': 1, 'THIS': 2, 'McFarlane': 1, 'Buy': 1, 'Yale': 2, 'hard': 2, 'George': 1, 'bunch': 1, 'Apologies': 1, 'Instruments': 1, 'Lock': 2, 'Swim': 3, 'finally': 9, 'Hunters': 1, 'Once': 1, 'judge': 1, 'moon': 2, 'LennonMcCartney': 1, 'glorious': 2, 'pleasant': 1, 'scientifically': 1, 'Darude': 1, 'Ads': 1, 'tenth': 1, 'Lahey': 1, 'Astley': 6, 'Attempt': 2, 'losing': 2, 'Thank': 2, 'gem': 1, 'host': 4, 'Superbowl': 1, 'Eye': 1, 'croaked': 1, 'Christina': 1, 'stabilizer': 1, 'Jesus': 2, 'Has': 2, 'lies': 1, 'rights': 1, 'purr': 1, 'other': 13, 'packaging': 1, 'Instagram': 2, 'his': 113, 'Abused': 2, 'successfully': 3, 'CoStar': 1, 'Programmer': 1, 'contacted': 1, 'loses': 3, 'youre': 6, 'inside': 1, 'awesome': 4, 'tortoise': 1, 'animal': 2, 'carol': 1, 'but': 21, 'trained': 2, 'demonstrating': 1, 'assume': 1, 'experts': 3, 'Williams': 3, 'once': 5, 'investors': 1, 'LOTR': 1, 'consistent': 1, 'bikes': 1, 'mother': 1, 'Pockets': 1, 'Repost': 1, 'classmate': 1, 'investigators': 1, 'degrees': 1, 'internets': 1, 'black': 4, 'contributions': 1, 'feed': 1, 'criticizing': 2, 'Reacts': 1, 'being': 20, 'fight': 4, 'annoys': 1, 'Dear': 1, 'between': 4, 'Animal': 1, 'OF': 1, 'soda': 1, 'disabled': 3, 'am': 4, 'Slippery': 1, 'Carolina': 1, 'they': 21, 'From': 1, 'Olympics': 1, 'Gulper': 1, 'Shitty': 1, 'Jeopardys': 1, 'Veteran': 1, 'They': 7, 'sick': 3, 'hampsters': 1, 'reupload': 1, 'Doll': 1, 'knife': 2, 'PythagoraSwitch': 1, 'hours': 7, 'broadcasting': 1, 'Tom': 5, 'frequently': 1, 'instantly': 2, 'destroy': 1, 'fucking': 2, 'gave': 5, 'unfairly': 1, 'enters': 1, 'Selfaware': 1, 'daughter': 4, 'bombarded': 1, 'Guy': 27, 'hats': 1, 'Adolf': 1, 'commission': 1, 'Palace': 1, 'dark': 2, 'E': 1, 'Wanted': 1, 'episode': 1, 'choices': 1, 'Octavia': 1, 'attempts': 1, 'None': 1, 'apparently': 1, 'video': 91, 'Cancer': 2, 'Jeselnik': 1, 'writer': 1, 'Child': 1, 'plays': 3, 'overpriced': 1, 'Many': 1, 'celebrate': 3, 'story': 2, 'Boston': 2, 'Chewbacca': 1, 'casualty': 1, 'issue': 1, 'rejects': 1, 'researchers': 1, 'started': 2, 'taking': 3, 'Lemmy': 1, 'celebrity': 1, 'Aussie': 1, 'either': 1, 'power': 2, 'age': 1, 'practice': 1, 'hangs': 1, 'Personal': 1, 'opened': 3, 'FamilyOfFive': 1, 'assignment': 1, 'Trashy': 1, 'braking': 1, 'bed': 1, 'connected': 1, 'posing': 1, 'demontizes': 1, 'Vengaboys': 1, 'industry': 1, 'researcher': 1, 'Eminems': 1, 'Resurrection': 1, 'ton': 1, 'Happened': 1, 'hidden': 2, 'Brags': 1, 'sums': 2, 'generation': 2, 'Books': 1, 'Monty': 1, 'model': 1, 'after': 51, 'Udemy': 1, 'realising': 1, 'Made': 2, 'rapper': 1, 'Hi': 1, 'Rat': 1, 'OFF': 1, 'today': 19, 'accurate': 3, 'duo': 1, 'received': 1, 'appear': 1, 'despite': 2, 'attends': 1, 'complete': 1, 'NFL': 1, 'starts': 1, 'cristaline': 1, 'outtake': 1, 'net': 1, 'Christmas': 4, 'unfortunately': 1, 'Strikes': 1, 'Roofing': 2, 'camping': 1, 'Edge': 1, 'Back': 6, 'country': 2, 'Marcus': 1, 'Math': 2, 'motion': 1, 'Buddha': 1, 'yesterday': 2, 'Leslie': 1, 'storm': 1, 'difficult': 1, 'Pianos': 1, 'AntiVaccine': 1, 'Mexico': 4, 'predicted': 1, 'came': 1, 'offers': 1, 'PISSING': 1, 'share': 3, 'seeing': 3, 'Nye': 1, 'announces': 1, 'Brazil': 4, 'arrested': 2, 'antivax': 1, 'Palmer': 1, 'Unexpected': 1, 'what': 26, 'Response': 1, 'Panther': 2, 'catching': 1, 'photographs': 1, 'Solutions': 1, 'kill': 1, 'fart': 1, 'own': 10, 'mudslide': 1, 'GF': 1, 'WON': 1, 'Gift': 1, 'throw': 1, 'Champion': 1, 'blocked': 1, 'March': 1, 'advert': 1, 'NSFW': 1, 'Hitting': 2, 'Sister': 1, 'SATAN': 1, 'Amazon': 7, 'arrests': 1, 'speaker': 1, 'whole': 2, 'everything': 3, 'Man': 11, 'sausages': 1, 'folder': 1, 'Microsofts': 1, 'Medical': 1, 'guess': 2, 'Turns': 1, 'PR': 1, 'removes': 2, 'timed': 1, 'AskRedditthread': 1, 'GTA': 2, 'revenue': 1, 'forecast': 1, 'Battlebots': 1, 'Hour': 1, 'Fame': 1, 'huge': 3, 'silver': 1, 'Job': 1, 'Joe': 3, 'top': 2, 'Japan': 2, 'Termite': 1, 'Macklemore': 1, 'ingest': 1, 'My': 43, 'nuclear': 1, 'DLC': 1, 'journey': 1, 'Water': 2, 'speed': 1, 'turf': 1, 'advertisement': 2, 'View': 1, 'threaten': 1, 'charity': 1, 'hospital': 2, 'Rage': 3, 'temperatures': 1, 'when': 22, 'triple': 1, 'Cruises': 1, 'plot': 1, 'MMO': 1}, {'wtf': 4, 'There': 2, 'broke': 3, 'incidents': 1, 'good': 4, 'murder': 1, 'Surf': 1, 'Pure': 1, 'arent': 1, 'Escalator': 1, 'Xray': 1, 'House': 2, 'prize': 2, 'underground': 1, 'seats': 1, 'sound': 2, 'safety': 5, 'surprise': 1, 'Id': 1, 'bitter': 1, 'church': 2, 'soak': 1, 'tanker': 1, 'where': 6, 'Test': 1, 'Potholes': 1, 'NH': 1, 'Awards': 1, 'Cashier': 1, 'blinker': 1, 'than': 2, 'eaten': 1, 'chicken': 3, 'Gear': 1, 'flame': 1, 'infestation': 1, 'lost': 4, 'double': 1, 'Try': 1, 'got': 14, 'he': 12, 'yearold': 1, 'homeless': 2, 'ta': 1, 'asleep': 3, 'robbers': 2, 'African': 1, 'blood': 1, 'canal': 1, 'others': 1, 'Virginia': 1, 'Waffle': 1, 'Montana': 1, 'Kazachstan': 1, 'bending': 1, 'petroleum': 1, 'extra': 2, 'Sinabung': 1, 'Parasite': 1, 'victims': 1, 'dangerous': 4, 'you': 53, 'jumps': 1, 'calibre': 1, 'winterized': 1, 'kept': 1, 'facial': 1, 'Driveway': 1, 'handwritten': 1, 'lift': 1, 'shoved': 1, 'Park': 1, 'Brasil': 1, 'safe': 4, 'Express': 1, 'mmmtastes': 1, 'boxes': 1, 'The': 36, 'friggin': 1, 'move': 1, 'phenomenon': 1, 'Jurassic': 1, 'train': 1, 'flop': 1, 'lose': 3, 'pupa': 1, 'chillin': 1, 'Tokyo': 1, 'Absolute': 1, 'powerful': 1, 'bath': 1, 'visibility': 1, 'monstrosity': 1, 'interrogation': 1, 'multiply': 1, 'Yo': 1, 'primetime': 1, 'Climbing': 1, 'GoPro': 2, 'Pressure': 1, 'BC': 2, 'Drink': 1, 'Flop': 1, 'switch': 1, 'horrors': 1, 'capture': 1, 'flip': 1, 'Toronto': 1, 'then': 7, 'didnt': 7, 'hate': 3, 'bottle': 4, 'poop': 1, 'lucky': 2, 'slip': 1, 'Tuna': 1, 'wearing': 1, 'Rafting': 1, 'drowning': 1, 'itself': 1, 'Posts': 1, 'Philly': 1, 'update': 1, 'son': 1, 'pointed': 1, 'spill': 1, 'Clean': 2, 'Shepherd': 1, 'attic': 2, 'school': 3, 'Opened': 1, 'swallowed': 1, 'pink': 1, 'plague': 1, 'stuff': 2, 'its': 21, 'Yeah': 1, 'Hong': 3, 'eats': 1, 'Lion': 1, 'trigger': 1, 'whip': 1, 'golf': 1, 'natural': 1, 'causing': 1, 'feel': 1, 'Canada': 1, 'we': 9, 'stole': 2, 'California': 1, 'perfect': 1, 'driving': 2, 'putting': 1, 'protect': 1, 'City': 1, 'Living': 1, 'Fucking': 1, 'parachute': 1, 'pussy': 1, 'Off': 1, 'Handshake': 1, 'apple': 1, 'staple': 1, 'protrude': 1, 'Mt': 1, 'Tobacco': 1, 'stealing': 1, 'Down': 2, 'wait': 4, 'suits': 1, 'moved': 1, 'reaction': 3, 'squirrels': 1, 'paradise': 1, 'Tennessee': 1, 'cigarette': 1, 'Paycheck': 1, 'Falcon': 1, 'mall': 2, 'Dudeeeeeee': 1, 'possibly': 1, 'listen': 1, 'Python': 2, 'lightning': 2, 'trails': 1, 'Guys': 2, 'eggs': 1, 'Massive': 2, 'legal': 1, 'nuts': 1, 'Qatar': 1, 'WTF': 13, 'Fetish': 1, 'getting': 2, 'gear': 1, 'plate': 1, 'along': 3, 'tease': 1, 'youve': 3, 'Ice': 2, 'survives': 1, 'Hitchhiking': 1, 'Rosa': 1, 'MM': 1, 'shockwave': 1, 'Throwing': 1, 'swarm': 1, 'front': 7, 'proud': 1, 'escapes': 1, 'instant': 1, 'drives': 1, 'crime': 1, 'Komodo': 2, 'São': 2, 'bit': 3, 'Eagle': 1, 'Level': 2, 'Why': 9, 'Eel': 1, 'diver': 1, 'Angry': 1, 'prototype': 1, 'built': 1, 'Drone': 1, 'town': 9, 'loose': 3, 'rabbit': 1, 'monkey': 1, 'spark': 1, 'Plans': 1, 'customer': 2, 'Kinder': 1, 'house': 15, 'snake': 7, 'Night': 3, 'rescued': 1, 'Watermelon': 1, 'fogged': 1, 'on': 65, 'fail': 1, 'kittenz': 1, 'chilies': 1, 'report': 1, 'Theres': 7, 'lobectomy': 1, 'Reflex': 1, 'doesnt': 2, 'shuttle': 1, 'Other': 1, 'dishes': 1, 'Entire': 1, 'derailment': 1, 'thankfully': 1, 'Inn': 1, 'partially': 1, 'happens': 2, 'bloke': 1, 'During': 1, 'Surfer': 2, 'minute': 1, 'drove': 3, 'factory': 2, 'almost': 3, 'breaking': 1, 'completely': 3, 'Chest': 1, 'Brooklyn': 1, 'off': 16, 'Florence': 1, 'sneaks': 1, 'worker': 1, 'Tora': 3, 'note': 1, 'chipmunks': 1, 'fly': 1, 'stuck': 2, 'spiders': 2, 'shit': 5, 'Booby': 1, 'Counting': 1, 'Zimbabwe': 1, 'electric': 1, 'rat': 2, 'through': 14, 'Check': 1, 'use': 1, 'halfalive': 1, 'telling': 1, 'windows': 1, 'W': 1, 'hidey': 1, 'live': 8, 'used': 4, 'Daytime': 1, 'Blindfolded': 1, 'Must': 1, 'sure': 6, 'actual': 2, 'AM': 3, 'race': 2, 'Ross': 1, 'highrise': 1, 'lint': 1, 'eating': 3, 'Somebody': 2, 'rodents': 1, 'amputated': 1, 'Dismantling': 1, 'vulture': 1, 'merge': 1, 'Solarpowered': 1, 'forgot': 2, 'Semi': 1, 'King': 3, 'Guinea': 1, 'dad': 2, 'rainy': 1, 'armed': 1, 'Seal': 1, 'hoarding': 1, 'economy': 1, 'vertical': 1, 'rarelyused': 1, 'Drops': 1, 'teacher': 1, 'main': 1, 'childs': 1, 'Prowrestlers': 1, 'go': 4, 'Look': 2, 'grow': 1, 'coffee': 2, 'see': 12, 'Merrimack': 1, 'piece': 2, 'roller': 1, 'of': 143, 'Lets': 1, 'raccoons': 1, 'donut': 1, 'ha': 1, 'fasten': 1, 'Plane': 1, 'non': 1, 'bacon': 1, 'School': 1, 'bullet': 1, 'wifes': 1, 'Guillotine': 1, 'Using': 1, 'shaver': 1, 'image': 1, 'silly': 1, 'savage': 1, 'pupils': 1, 'wave': 1, 'No': 6, 'falling': 1, 'Sir': 1, 'never': 3, 'alone': 1, 'Holy': 6, 'fella': 1, 'brings': 2, 'united': 1, 'burning': 1, 'feet': 3, 'swordwielding': 1, 'Shit': 1, 'kangaroo': 1, 'horrifying': 1, 'floors': 1, 'Secret': 1, 'ate': 2, 'stare': 1, 'quite': 1, 'Homemade': 1, 'dry': 1, 'Sometimes': 1, 'lunch': 1, 'Bridgewater': 1, 'Uturn': 1, 'raw': 1, 'wondered': 1, 'Power': 1, 'Fight': 1, 'santa': 1, 'thanks': 1, 'spider': 5, 'delicious': 1, 'clerk': 2, 'fuck': 6, 'function': 1, 'woman': 3, 'River': 3, 'Rock': 1, 'Backwards': 1, 'decker': 1, 'coats': 1, 'upside': 1, 'catcher': 1, 'while': 8, 'lice': 1, 'Weeee': 1, 'big': 6, 'Hes': 3, 'Years': 1, 'Seattle': 1, 'allowed': 1, 'die': 1, 'stops': 1, 'Bum': 1, 'KY': 1, 'Cleveland': 1, 'going': 9, 'Calcium': 1, 'afraid': 1, 'eat': 4, 'Flight': 1, 'colliding': 1, 'Jack': 1, 'Skydiving': 1, 'glasses': 1, 'lady': 2, 'solid': 1, 'Fell': 1, 'toe': 1, 'sandwic': 1, 'Hornet': 1, 'ziptied': 1, 'debris': 3, 'Something': 2, 'lips': 1, 'Trying': 4, 'Hot': 1, 'breakdown': 1, 'entry': 1, 'grease': 1, 'Army': 2, 'watermelon': 1, 'might': 1, 'broadcast': 1, 'houses': 2, 'skull': 6, 'Hurricane': 1, 'riding': 3, 'bale': 1, 'Poop': 1, 'fix': 1, 'airport': 1, 'thought': 3, 'Removal': 1, 'Financial': 1, 'rare': 1, 'p': 1, 'landing': 2, 'Bird': 3, 'nd': 2, 'bare': 1, 'two': 3, 'pet': 1, 'basement': 1, 'See': 1, 'Blows': 1, 'welding': 1, 'a': 314, 'Bold': 1, 'hair': 4, 'last': 11, 'large': 1, 'Creatures': 1, 'Jeep': 2, 'Spectacular': 1, 'anymore': 2, 'Underwood': 1, 'Nothing': 1, 'table': 3, 'lung': 1, 'efficiently': 1, 'eyed': 1, 'Machine': 1, 'I': 76, 'ferry': 1, 'survival': 1, 'statue': 1, 'Fu': 1, 'Voldemort': 1, 'Literal': 1, 'whos': 1, 'In': 6, 'post': 2, 'performing': 1, 'Wave': 1, 'stock': 1, 'Deep': 1, 'somebodies': 1, 'Bingo': 1, 'moth': 1, 'street': 4, 'Pocket': 1, 'nothing': 1, 'airborne': 1, 'WELL': 1, 'weather': 1, 'door': 6, 'kind': 3, 'classics': 1, 'Typical': 1, 'Circlejerk': 1, 'tea': 2, 'Headbutting': 1, 'kids': 3, 'their': 15, 'hydraulicpneumatic': 1, 'buy': 1, 'Killed': 1, 'high': 2, 'Prosthetic': 1, 'shoes': 1, 'Did': 1, 'sets': 1, 'bird': 1, 'shitcicles': 1, 'steal': 1, 'Tree': 2, 'Flying': 2, 'delayed': 1, 'Who': 3, 'Fog': 1, 'dresser': 1, 'too': 3, 'drone': 1, 'back': 17, 'decal': 1, 'example': 1, 'closed': 2, 'Xpost': 1, 'Bed': 1, 'Logic': 1, 'result': 2, 'hiding': 2, 'LION': 1, 'snakes': 2, 'Turbulence': 1, 'WTWTF': 1, 'mean': 1, 'person': 1, 'Freddy': 1, 'enormous': 1, 'washing': 1, 'heart': 2, 'birth': 1, 'was': 37, 'Safety': 3, 'taunt': 1, 'scares': 2, 'flirting': 1, 'Carbonice': 1, 'preserved': 1, 'receipt': 1, 'cows': 1, 'Kongs': 1, 'now': 8, 'collar': 1, 'species': 2, 'inviting': 1, 'dune': 1, 'mailbox': 1, 'mi': 2, 'shift': 1, 'USPS': 1, 'racing': 1, 'grandma': 1, 'argument': 1, 'Tornado': 5, 'Skin': 1, 'Hatteras': 1, 'trick': 1, 'screams': 1, 'tile': 1, 'probably': 2, 'Jewelry': 2, 'window': 5, 'monk': 1, 'runs': 1, 'handprint': 1, 'crocodile': 2, 'skicanoing': 1, 'definition': 1, 'Crab': 1, 'dick': 1, 'hit': 5, 'Pissing': 1, 'an': 33, 'realise': 1, 'row': 2, 'called': 3, 'Big': 1, 'wound': 2, 'ended': 1, 'Evil': 1, 'TwoFace': 1, 'wants': 1, 'horse': 1, 'gets': 2, 'Only': 2, 'soldier': 1, 'largest': 1, 'cut': 1, 'Hole': 1, 'Centre': 1, 'protecting': 1, 'Ohhh': 1, 'night': 9, 'Clathrus': 1, 'rope': 1, 'rough': 1, 'user': 1, 'Wild': 2, 'resembles': 1, 'pulling': 1, 'gold': 1, 'weighed': 1, 'Pools': 1, 'enter': 1, 'Youve': 1, 'thai': 1, 'figured': 1, 'i': 1, 'idea': 2, 'hello': 1, 'writing': 1, 'tweeted': 1, 'face': 6, 'pawn': 1, 'ancient': 1, 'flood': 6, 'Seems': 2, 'Manhole': 1, 'control': 1, 'Diving': 1, 'Porch': 1, 'Hagibis': 1, 'fully': 1, 'katana': 1, 'defend': 1, 'Kids': 2, 'Janiero': 1, 'prisoner': 1, 'tight': 1, 'mouth': 3, 'landslide': 1, 'strange': 3, 'emergency': 1, 'shoot': 1, 'stuntmen': 1, 'moving': 2, 'noise': 1, 'state': 1, 'looking': 3, 'unhealthy': 1, 'Steal': 1, 'noises': 1, 'demolition': 1, 'walked': 1, 'Inverness': 1, 'timeless': 1, 'passage': 1, 'Iam': 1, 'tooths': 1, 'bat': 2, 'music': 2, 'An': 4, 'neck': 1, 'Hey': 2, 'long': 3, 'Alabama': 1, 'Six': 1, 'Results': 1, 'zree': 1, 'week': 2, 'active': 1, 'forms': 1, 'flounder': 1, 'imagine': 2, 'ON': 1, 'out': 25, 'bike': 2, 'finger': 1, 'four': 1, 'elbow': 1, 'Cranford': 1, 'OC': 1, 'many': 2, 'meets': 1, 'ANYONE': 1, 'always': 2, 'themselves': 1, 'spitting': 1, 'Cutting': 2, 'few': 4, 'Cars': 1, 'tank': 2, 'Dome': 1, 'rollers': 1, 'Surprise': 1, 'blackout': 1, 'Motherfucker': 1, 'slipping': 1, 'Buttikofer': 1, 'patients': 1, 'Slolam': 1, 'Earlier': 1, 'weekend': 1, 'belonged': 1, 'Grandma': 2, 'Problems': 1, 'dead': 7, 'hired': 1, 'ashtray': 1, 'electrocuting': 1, 'aint': 1, 'why': 9, 'lane': 2, 'bin': 2, 'bouncing': 1, 'deodorised': 1, 'Mmm': 1, 'Failure': 1, 'size': 1, 'Automotive': 1, 'open': 3, 'exterminating': 1, 'Over': 1, 'look': 5, 'do': 5, 'Picture': 1, 'flight': 1, 'tire': 3, 'Botswana': 1, 'store': 1, 'jet': 1, 'Wouldnt': 1, 'Africa': 1, 'Rainforest': 1, 'standing': 1, 'sand': 1, 'cartridges': 1, 'strike': 3, 'Cocaine': 1, 'turbulence': 1, 'because': 5, 'Mad': 1, 'sit': 2, 'caught': 6, 'climax': 1, 'Macaque': 1, 'commute': 1, 'captures': 2, 'fashioned': 1, 'across': 1, 'fair': 1, 'crocodiles': 1, 'saving': 1, 'gas': 5, 'late': 1, 'morning': 7, 'contained': 1, 'me': 25, 'STUPID': 1, 'construction': 1, 'Another': 1, 'gunshot': 1, 'Chicago': 1, 'graveyard': 1, 'Annoyed': 1, 'spray': 1, 'photographer': 1, 'tendon': 1, 'twins': 1, 'Ship': 1, 'Got': 1, 'head': 8, 'roof': 2, 'several': 1, 'found': 14, 'friends': 1, 'spilled': 1, 'coworkers': 2, 'Thanks': 1, 'airline': 1, 'Tourists': 1, 'gasoline': 1, 'JTurn': 1, 'tree': 6, 'Up': 2, 'she': 6, 'Ecuador': 1, 'Jellyfish': 1, 'snow': 2, 'camp': 1, 'weight': 1, 'millions': 1, 'Making': 1, 'microwave': 1, 'Then': 2, 'history': 1, 'Swallowing': 1, 'Venus': 1, 'Wolf': 1, 'kicked': 1, 'Kalamazoo': 1, 'wheels': 1, 'owner': 1, 'sky': 1, 'swimming': 3, 'Exsqueeze': 1, 'surgery': 2, 'month': 2, 'proceeded': 1, 'white': 1, 'uses': 4, 'Worst': 2, 'pincer': 1, 'Wat': 1, 'Bbut': 1, 'somewhere': 2, 'water': 7, 'telescope': 1, 'Dioxide': 1, 'Cream': 1, 'destroyed': 1, 'Thrones': 1, 'But': 3, 'sea': 3, 'Found': 10, 'months': 2, 'rating': 1, 'blunt': 1, 'Oops': 1, 'sprouting': 1, 'running': 1, 'from': 37, 'Lem': 1, 'bang': 1, 'Prehistoric': 1, 'rancher': 1, 'Lamp': 1, 'shall': 1, 'singer': 1, 'wan': 1, 'hope': 1, 'attitude': 1, 'addition': 1, 'brush': 1, 'formed': 1, 'red': 3, 'cups': 2, 'and': 75, 'Oregon': 1, 'girls': 1, 'Hussein': 1, 'named': 1, 'punched': 1, 'showers': 1, 'jairs': 1, 'Vending': 1, 'fell': 5, 'saying': 1, 'Lines': 1, 'paying': 1, 'proceedure': 1, 'customers': 1, 'rainforest': 1, 'fear': 2, 'workers': 1, 'Spanish': 1, 'bomb': 1, 'watched': 1, 'both': 3, 'thumb': 1, 'Avalanche': 1, 'supermarket': 2, 'Hercules': 1, 'stationary': 1, 'mugger': 1, 'sleeps': 1, 'revenge': 1, 'shhh': 1, 'watch': 2, 'feces': 1, 'split': 1, 'Ad': 1, 'Viking': 1, 'liquefied': 1, 'Instantly': 1, 'Sitting': 1, 'Goliath': 1, 'Mother': 2, 'should': 2, 'Pennsylvania': 2, 'yardsales': 1, 'runway': 1, 'cleaning': 3, 'pub': 1, 'sheep': 1, 'Paint': 1, 'boobytrap': 1, 'broken': 1, 'walks': 1, 'truck': 4, 'grassfire': 1, 'Bodyshops': 1, 'Palu': 1, 'smashes': 1, 'Fallout': 1, 'loaded': 1, 'bullfrog': 2, 'Danger': 1, 'Romania': 1, 'photo': 4, 'McDonalds': 2, 'shattered': 1, 'cell': 1, 'antenna': 1, 'offensive': 1, 'jam': 2, 'vehicle': 1, 'chain': 1, 'Delivers': 1, 'Hoarding': 1, 'clock': 1, 'appears': 1, 'Exclusion': 1, 'dentist': 2, 'possible': 1, 'Achilles': 1, 'around': 2, 'any': 1, 'Steel': 1, 'Not': 2, 'Kung': 1, 'end': 3, 'spraying': 1, 'chasing': 1, 'Heroine': 1, 'seagull': 1, 'shot': 3, 'Close': 1, 'unexploded': 1, 'has': 14, 'flush': 1, 'Poor': 1, 'Fish': 3, 'place': 3, 'kayaker': 1, 'opponents': 1, 'happening': 1, 'Someone': 8, 'said': 3, 'different': 1, 'OK': 1, 'oneeyed': 1, 'avalanche': 1, 'chickens': 1, 'cemetery': 1, 'how': 12, 'wouldnt': 3, 'flips': 1, 'Low': 1, 'necklace': 1, 'Sniffing': 1, 'doing': 5, 'Ass': 1, 'showed': 2, 'raccoon': 1, 'stored': 1, 'hometown': 1, 'seatbelts': 1, 'Construction': 1, 'behind': 2, 'managed': 2, 'flexible': 1, 'na': 1, 'cant': 2, 'w': 1, 'bones': 2, 'bypass': 1, 'stoped': 1, 'Hairless': 1, 'boot': 1, 'thrower': 1, 'We': 4, 'trap': 1, 'nesting': 1, 'seizure': 1, 'states': 2, 'looks': 9, 'coffins': 1, 'river': 1, 'leg': 1, 'finds': 2, 'finches': 1, 'television': 1, 'Tenants': 1, 'princess': 1, 'Shoes': 1, 'another': 5, 'Havent': 1, 'Um': 1, 'though': 2, 'pirate': 1, 'hits': 2, 'Smoking': 1, 'sport': 1, 'pets': 1, 'bites': 1, 'selfie': 1, 'quarantine': 1, 'walk': 2, 'cheese': 1, 'Valet': 1, 'brains': 1, 'Pupper': 1, 'Crouzon': 1, 'cover': 4, 'motorway': 1, 'Bus': 1, 'party': 2, 'Awww': 1, 'skydiving': 1, 'internet': 2, 'crossing': 4, 'lam': 1, 'level': 1, 'Rolling': 2, 'flipped': 1, 'Stopped': 1, 'wall': 1, 'bumper': 1, 'Will': 1, 'Chemical': 1, 'Championship': 1, 'Slides': 1, 'Fire': 1, 'Spends': 1, 'tho': 1, 'terrible': 1, 'lollipop': 1, 'chipping': 1, 'Save': 1, 'Still': 1, 'roads': 1, 'sharp': 1, 'owls': 1, 'satellites': 1, 'Ant': 2, 'middle': 5, 'dicks': 1, 'Aboard': 1, 'Hindsight': 1, 'network': 1, 'cap': 1, 'First': 2, 'web': 1, 'grabs': 2, 'Fukushimas': 1, 'What': 12, 'cold': 2, 'Dust': 1, 'Its': 6, 'opossum': 1, 'Room': 1, 'making': 1, 'tsunami': 2, 'Norwegian': 1, 'up': 25, 'taxidermist': 1, 'turtle': 1, 'Jumping': 1, 'wake': 2, 'werent': 2, 'wildfires': 1, 'wild': 2, 'floating': 1, 'missing': 3, 'road': 10, 'would': 6, 'adult': 1, 'deep': 1, 'mound': 1, 'towing': 1, 'Subway': 1, 'poke': 1, 'city': 1, 'left': 7, 'animals': 1, 'wrench': 1, 'harvesting': 1, 'Antarctic': 1, 'tell': 1, 'worth': 1, 'Putting': 1, 'us': 2, 'secret': 1, 'death': 2, 'newonset': 1, 'Might': 1, 'continued': 1, 'eye': 6, 'bathroom': 4, 'porn': 1, 'Navy': 1, 'Sewer': 2, 'men': 1, 'About': 1, 'Muy': 1, 'Chaos': 1, 'duct': 1, 'pictures': 1, 'strong': 2, 'appointment': 1, 'Game': 1, 'healed': 2, 'apartment': 3, 'poops': 1, 'loaf': 1, 'cause': 1, 'sparrow': 1, 'Osbourne': 1, 'You': 10, 'whats': 2, 'Woman': 3, 'great': 2, 'Carbon': 1, 'Build': 1, 'Boy': 1, 'Horse': 1, 'literal': 1, 'glass': 4, 'crops': 1, 'Australia': 4, 'thaw': 1, 'obliterates': 1, 'Dressed': 1, 'unspoken': 1, 'One': 4, 'take': 5, 'York': 1, 'collapse': 1, 'event': 1, 'excessive': 1, 'Marinated': 1, 'Photorealistic': 1, 'thick': 1, 'gravity': 1, 'Good': 2, 'Scan': 1, 'Japanese': 2, 'things': 1, 'understand': 1, 'FUCKING': 1, 'Removing': 2, 'pain': 1, 'more': 3, 'Bible': 1, 'Technicolor': 1, 'near': 4, 'did': 4, 'Cobra': 1, 'possessed': 1, 'orgasm': 1, 'correctly': 1, 'wonder': 1, 'Citarum': 1, 'donkey': 2, 'Smoke': 1, 'handy': 1, 'Abandoned': 1, 'test': 4, 'narrow': 1, 'thing': 8, 'mf': 1, 'casually': 1, 'Whos': 1, 'Robot': 1, 'meth': 1, 'crystal': 1, 'something': 4, 'Ulsan': 1, 'or': 4, 'mental': 1, 'swallowing': 1, 'Tumbleweeds': 1, 'Time': 1, 'fg': 1, 'codes': 1, 'the': 217, 'comments': 1, 'TV': 4, 'Nadya': 1, 'growing': 5, 'birthday': 1, 'Overdue': 1, 'clothes': 1, 'porsche': 1, 'driveway': 2, 'tow': 1, 'until': 1, 'better': 4, 'tail': 1, 'equals': 1, 'dads': 2, 'mind': 5, 'wouldve': 1, 'set': 2, 'Kitchen': 1, 'seems': 5, 'scan': 1, 'pics': 1, 'seen': 4, 'rotting': 1, 'wrong': 5, 'grown': 1, 'Dumb': 1, 'mortar': 1, 'crabpincer': 1, 'Intentions': 1, 'Backing': 1, 'hijackers': 1, 'mouse': 1, 'ever': 2, 'Kid': 1, 'Here': 2, 'toilet': 4, 'Excuse': 2, 'gun': 2, 'fine': 3, 'Korea': 1, 'stretch': 1, 'Snake': 4, 'disaster': 2, 'Exposes': 1, 'little': 9, 'small': 3, 'lot': 7, 'Racoons': 1, 'breakroom': 1, 'dock': 1, 'Nice': 2, 'flock': 1, 'rethink': 1, 'Cambodian': 1, 'Holiday': 1, 'shopping': 1, 'cancer': 2, 'CAN': 1, 'Stunt': 1, 'replaced': 1, 'northeast': 1, 'humans': 1, 'roosting': 1, 'rent': 1, 'snack': 1, 'thru': 1, 'bank': 1, 'Adam': 1, 'coyote': 1, 'Terminators': 1, 'convinced': 1, 'buttplug': 1, 'Caterpillar': 1, 'Alison': 1, 'performed': 1, 'Getting': 1, 'student': 1, 'hole': 3, 'umbilical': 1, 'Microscope': 1, 'U': 1, 'aware': 1, 'collapsed': 1, 'attacking': 1, 'dried': 1, 'frozen': 2, 'Fishing': 2, 'simple': 1, 'Took': 1, 'tram': 1, 'home': 7, 'persons': 1, 'patio': 1, 'headbutts': 1, 'love': 4, 'such': 1, 'firefighters': 1, 'disconnecting': 1, 'photoshop': 1, 'believe': 3, 'check': 2, 'lines': 3, 'covered': 1, 'Thailand': 1, 'disappeared': 1, 'phase': 1, 'Georgia': 2, 'Drain': 1, 'forced': 1, 'puberty': 1, 'won': 1, 'Shop': 1, 'normal': 3, 'full': 7, 'slaps': 1, 'else': 1, 'rWTF': 1, 'who': 6, 'transferring': 1, 'wreck': 1, 'parts': 1, 'explain': 2, 'bro': 1, 'Belly': 1, 'unconscious': 1, 'trousers': 1, 'Missing': 1, 'save': 1, 'Due': 1, 'Typhoon': 1, 'security': 1, 'biggest': 1, 'toad': 1, 'room': 3, 'Of': 3, 'ex': 1, 'air': 1, 'worm': 1, 'lighter': 2, 'like': 21, 'Coat': 1, 'brazil': 1, 'her': 11, 'type': 1, 'Road': 1, 'doctors': 1, 'clean': 3, 'car': 22, 'pint': 1, 'craziness': 1, 'plane': 2, 'piled': 1, 'Timcan': 1, 'Shoulder': 1, 'Is': 1, 'snort': 1, 'naked': 2, 'giving': 1, 'blasted': 1, 'give': 1, 'manhole': 1, 'movement': 1, 'Ireland': 1, 'years': 9, 'Grandpa': 1, 'my': 68, 'need': 3, 'rob': 1, 'revived': 1, 'Anaconda': 1, 'WTFing': 1, 'fire': 11, 'Piranhas': 1, 'step': 1, 'here': 10, 'New': 9, 'mens': 1, 'Dude': 3, 'CHOKED': 1, 'dog': 1, 'let': 1, 'Eels': 1, 'sun': 3, 'killed': 7, 'Jackson': 1, 'Gaslighting': 1, 'further': 1, 'boss': 1, 'booth': 1, 'Daily': 1, 'weasel': 1, 'Darwin': 2, 'Above': 1, 'chase': 1, 'acorns': 1, 'kiss': 1, 'tent': 1, 'bolts': 2, 'Head': 2, 'Hell': 1, 'Confessed': 1, 'make': 3, 'Nature': 2, 'documentary': 1, 'mummified': 1, 'Northern': 1, 'Live': 1, 'Each': 1, 'kidney': 1, 'record': 1, 'Moving': 2, 'well': 3, 'professional': 2, 'public': 1, 'fearless': 1, 'Golfing': 1, 'happen': 9, 'approaching': 1, 'converting': 1, 'Beijing': 1, 'Didnt': 1, 'office': 2, 'leave': 1, 'hold': 1, 'England': 1, 'know': 7, 'hail': 1, 'hotel': 1, 'books': 1, 'patience': 1, 'ten': 2, 'inspector': 1, 'A': 44, 'Deadly': 1, 'useless': 1, 'realized': 1, 'larvae': 1, 'Chordoma': 1, 'pellets': 1, 'birds': 1, 'longer': 1, 'shown': 1, 'armadillo': 1, 'Michael': 1, 'time': 14, 'Ballet': 1, 'mill': 1, 'eyes': 4, 'weird': 1, 'delivery': 2, 'deer': 5, 'SuiSlide': 1, 'using': 3, 'mirror': 1, 'womans': 1, 'taping': 1, 'laptop': 1, 'Electron': 1, 'HUGE': 1, 'swallows': 1, 'plumbing': 1, 'SF': 1, 'first': 4, 'platform': 1, 'prop': 1, 'Heard': 2, 'glitched': 1, 'ironing': 1, 'Traffic': 2, 'track': 1, 'Wales': 1, 'taken': 3, 'ready': 1, 'class': 1, 'misses': 1, 'Goes': 1, 'reattachment': 1, 'show': 1, 'bread': 1, 'zero': 1, 'hazard': 2, 'that': 22, 'is': 68, 'father': 1, 'gone': 4, 'structural': 1, 'um': 1, 'exit': 2, 'Knows': 1, 'Pro': 1, 'Games': 1, 'Volcano': 1, 'couldnt': 2, 'robbery': 3, 'contest': 1, 'misaligned': 1, 'parasite': 1, 'Street': 1, 'wakes': 1, 'iguana': 1, 'Breaking': 1, 'Meth': 1, 'Texting': 1, 'Whiplash': 1, 'sides': 1, 'crash': 1, 'harmlesWhhhaaa': 1, 'cable': 1, 'cart': 1, 'cautiously': 1, 'if': 4, 'auger': 1, 'day': 12, 'sons': 1, 'Visibility': 1, 'highway': 5, 'Every': 2, 'Huge': 1, 'Believe': 1, 'colonized': 1, 'Mylar': 1, 'been': 10, 'Alligator': 2, 'Eaglelike': 1, 'accident': 5, 'shows': 1, 'come': 1, 'configurations': 1, 'sealed': 2, 'plastic': 2, 'nightmarish': 1, 'Sleepy': 1, 'pulled': 2, 'accomplished': 1, 'kidnap': 1, 'only': 5, 'propped': 1, 'seconds': 1, 'buddy': 1, 'Island': 2, 'less': 1, 'Bridge': 1, 'submitted': 1, 'fighter': 2, 'hurling': 1, 'Lady': 1, 'mum': 1, 'massive': 1, 'baby': 9, 'unelectrocutes': 1, 'boat': 2, 'balloons': 3, 'custom': 1, 'Shanghai': 1, 'body': 1, 'garden': 1, 'Atlanta': 1, 'patiently': 1, 'McDaniel': 1, 'Hamster': 1, 'cord': 1, 'Bali': 1, 'amber': 1, 'creepily': 1, 'boobytrapped': 1, 'can': 14, 'US': 1, 'India': 1, 'hates': 1, 'Raccoons': 1, 'gathered': 1, 'crashed': 2, 'Building': 1, 'Lake': 1, 'homemade': 1, 'packing': 1, 'rocks': 1, 'execution': 1, 'arrived': 1, 'escaped': 1, 'Nope': 2, 'Procedures': 1, 'Thats': 3, 'stick': 3, 'encounter': 1, 'Cobalt': 1, 'cloud': 2, 'launch': 2, 'responds': 1, 'wasted': 1, 'hanging': 2, 'outside': 1, 'Facial': 1, 'reveals': 2, 'Rome': 1, 'lions': 1, 'inches': 1, 'Surprised': 1, 'popped': 1, 'de': 1, 'Get': 1, 'onair': 1, 'made': 9, 'nearly': 2, 'skyline': 1, 'so': 10, 'weirdo': 1, 'After': 6, 'noncancerous': 1, 'Merica': 1, 'encrypted': 1, 'exploding': 1, 'quote': 1, 'Rio': 1, 'beer': 1, 'teeth': 4, 'regurgitating': 1, 'slowly': 1, 'buying': 1, 'Car': 3, 'expired': 1, 'autopsy': 1, 'egg': 2, 'down': 12, 'Ants': 2, 'Impersonator': 1, 'free': 2, 'Ultimate': 1, 'isnt': 3, 'Handle': 1, 'finding': 1, 'Chicken': 1, 'Tips': 1, 'It': 7, 'took': 3, 'mph': 1, 'situation': 1, 'parked': 2, 'Arizona': 1, 'enjoying': 1, 'Ninja': 1, 'turn': 2, 'giant': 2, 'underneath': 1, 'juice': 2, 'Just': 21, 'before': 10, 'halfdead': 1, 'Really': 1, 'Harvey': 2, 'scare': 1, 'Failed': 1, 'art': 2, 'flew': 1, 'jorts': 1, 'refuses': 2, 'soon': 1, 'be': 17, 'stadium': 1, 'Before': 1, 'ticks': 1, 'framed': 1, 'If': 1, 'much': 2, 'have': 15, 'times': 2, 'living': 1, 'drive': 3, 'Attentive': 1, 'Turn': 1, 'dolls': 2, 'local': 6, 'Robbers': 1, 'beauty': 1, 'And': 4, 'Shoplifting': 1, 'JFK': 1, 'fucked': 2, 'fence': 1, 'kitchen': 2, 'whale': 1, 'freshest': 1, 'sculpture': 1, 'nowhere': 1, 'waters': 1, 'by': 20, 'Archeri': 1, 'procedures': 1, 'architect': 1, 'yes': 1, 'think': 11, 'stabbed': 1, 'Santa': 1, 'respect': 1, 'losers': 2, 'skyscraper': 1, 'english': 1, 'ear': 2, 'blocking': 2, 'guide': 1, 'shouldnt': 1, 'Extreme': 1, 'NOT': 3, 'Looked': 1, 'iguanawhat': 1, 'backhanded': 1, 'boyfriend': 3, 'glad': 1, 'unloading': 1, 'even': 9, 'recovering': 1, 'sting': 1, 'duck': 2, 'Totally': 1, 'shitload': 1, 'job': 4, 'Bump': 1, 'bottom': 1, 'sandwich': 1, 'shins': 1, 'Wrong': 1, 'Okay': 1, 'shop': 2, 'exploded': 1, 'Wearing': 1, 'since': 2, 'Bringing': 1, 'rcursedimages': 1, 'company': 1, 'Cruise': 1, 'paper': 1, 'Seat': 1, 'graft': 1, 'directly': 1, 'kicking': 1, 'salad': 1, 'easy': 1, 'hrs': 1, 'target': 1, 'sister': 3, 'BE': 1, 'recording': 1, 'knew': 1, 'belongings': 1, 'Goddamn': 1, 'Always': 4, 'anyone': 4, 'Cart': 1, 'supposed': 2, 'selling': 2, 'say': 2, 'ducks': 1, 'alive': 3, 'myself': 2, 'tried': 4, 'End': 1, 'taste': 1, 'station': 4, 'population': 1, 'Painting': 1, 'existing': 1, 'leader': 2, 'Chill': 1, 'flat': 1, 'cartel': 1, 'Ikea': 1, 'break': 2, 'Puffer': 1, 'went': 3, 'Lambo': 1, 'Fruit': 1, 'Energy': 1, 'lava': 1, 'waiting': 4, 'Boop': 1, 'Superman': 2, 'Rabid': 1, 'build': 1, 'taped': 1, 'Inside': 1, 'Parker': 1, 'really': 3, 'boiler': 1, 'excavators': 1, 'Well': 9, 'it': 56, 'during': 11, 'decided': 1, 'rural': 2, 'Were': 1, 'mop': 1, 'livestock': 1, 'bone': 2, 'parking': 2, 'lets': 1, 'gives': 1, 'Amputee': 1, 'pizza': 2, 'Reporter': 2, 'robber': 2, 'forearm': 1, 'sparks': 1, 'together': 1, 'stillliving': 1, 'Im': 9, 'breathing': 1, 'seizures': 1, 'Sky': 1, 'Hawaii': 2, 'want': 2, 'lake': 1, 'surf': 1, 'Ghost': 2, 'driver': 9, 'birthmark': 1, 'close': 6, 'rise': 1, 'Delta': 1, 'Shadow': 1, 'Quiet': 1, 'fireworks': 3, 'Pedals': 1, 'next': 4, 'Stahp': 1, 'scene': 1, 'ceramic': 1, 'drift': 1, 'panther': 1, 'Egg': 2, 'to': 146, 'side': 1, 'obsession': 1, 'earlier': 2, 'scooter': 1, 'eerily': 1, 'blue': 1, 'super': 1, 'Swimming': 1, 'Raccoon': 1, 'patch': 1, 'which': 1, 'license': 1, 'currently': 1, 'Went': 4, 'yard': 2, 'loud': 2, 'Olympic': 1, 'vessel': 1, 'Connection': 1, 'bubonic': 1, 'Ah': 1, 'Follow': 2, 'smuggle': 1, 'mosquitos': 1, 'Doesnt': 1, 'patient': 2, 'reddit': 1, 'CT': 3, 'CHRIST': 1, 'Youd': 1, 'mass': 1, 'property': 1, 'polar': 2, 'renovating': 1, 'TIL': 1, 'kick': 1, 'FL': 1, 'Under': 1, 'survivor': 1, 'MadMax': 1, 'proof': 1, 'Ill': 7, 'coast': 1, 'Highway': 1, 'hose': 1, 'kitty': 1, 'run': 3, 'downtown': 1, 'ad': 1, 'looked': 1, 'Upside': 1, 'sisters': 1, 'sloth': 1, 'laundry': 1, 'destination': 1, 'luck': 2, 'Public': 1, 'octopus': 1, 'World': 1, 'money': 3, 'Indicators': 1, 'finish': 1, 'Fiat': 1, 'sad': 1, 'Can': 1, 'resist': 1, 'Now': 1, 'recoil': 1, 'Superior': 1, 'meet': 1, 'microscope': 1, 'Germany': 2, 'theres': 3, 'People': 1, 'hitch': 1, 'Friends': 1, 'caracal': 1, 'So': 8, 'BBC': 1, 'puffer': 1, 'Sneaking': 1, 'Was': 1, 'shared': 1, 'rod': 1, 'trash': 2, 'fights': 1, 'Bear': 1, 'Lancetfish': 1, 'pass': 2, 'Mans': 2, 'tables': 1, 'Into': 1, 'man': 11, 'dream': 1, 'logging': 1, 'soccer': 1, 'catapult': 1, 'saw': 7, 'snap': 1, 'honked': 1, 'shampoo': 1, 'fungus': 2, 'farmers': 1, 'jar': 1, 'square': 2, 'heard': 1, 'crappy': 1, 'Altima': 1, 'beating': 2, 'health': 2, 'gloves': 2, 'Statham': 1, 'soffit': 1, 'conversation': 1, 'cousins': 1, 'BALLS': 1, 'lurks': 1, 'nervous': 1, 'foaming': 1, 'Explosion': 1, 'floor': 5, 'ride': 3, 'matter': 1, 'Firefighter': 1, 'tube': 1, 'Gorilla': 1, 'skin': 7, 'rodent': 1, 'second': 1, 'part': 1, 'subway': 2, 'mutation': 1, 'bloodcicle': 1, 'Refrigerator': 1, 'tourists': 1, 'attempt': 1, 'mins': 1, 'Photographer': 1, 'get': 7, 'Ok': 1, 'holidays': 1, 'victim': 1, 'twoheaded': 1, 'could': 3, 'pipe': 1, 'seat': 1, 'Citizenship': 1, 'carry': 3, 'as': 12, 'lenses': 1, 'streets': 1, 'flying': 1, 'Spilled': 1, 'Dragon': 2, 'without': 4, 'Slide': 1, 'twisted': 1, 'lb': 1, 'Gymnasium': 1, 'flare': 1, 'install': 1, 'with': 48, 'Born': 1, 'wheel': 4, 'BECAUSE': 1, 'Wolves': 1, 'needs': 2, 'scariest': 1, 'Th': 1, 'piano': 1, 'Zipline': 1, 'olympic': 1, 'light': 6, 'Trapped': 1, 'this': 94, 'ship': 1, 'Indonesia': 6, 'cabinet': 1, 'Unforgettable': 1, 'foot': 2, 'Whats': 2, 'uncle': 1, 'turbine': 1, 'Backdraft': 1, 'mouths': 1, 'Damn': 3, 'Mosquito': 1, 'Prince': 2, 'enjoy': 1, 'catch': 1, 'Queue': 1, 'Houston': 2, 'gunman': 1, 'spits': 1, 'squid': 1, 'Lighting': 1, 'needles': 1, 'least': 1, 'fake': 1, 'Dont': 7, 'spine': 1, 'fishing': 2, 'layers': 1, 'sent': 3, 'fixing': 1, 'Working': 1, 'hire': 1, 'Had': 1, 'thats': 3, 'How': 16, 'phone': 2, 'six': 1, 'instead': 2, 'secured': 1, 'Puppy': 1, 'abandoned': 1, 'extraction': 1, 'idiotic': 1, 'work': 15, 'drifting': 1, 'major': 1, 'trapped': 1, 'couple': 1, 'tape': 1, 'biking': 1, 'forget': 2, 'shark': 2, 'Childrens': 3, 'keep': 3, 'Patient': 1, 'Grey': 1, 'most': 1, 'throws': 2, 'Afterbirth': 1, 'poured': 1, 'Cosmetic': 1, 'text': 1, 'change': 4, 'Alright': 1, 'Apparently': 1, 'That': 8, 'Risks': 1, 'May': 1, 'name': 1, 'dust': 1, 'pee': 1, 'Free': 1, 'Keep': 1, 'hands': 3, 'tame': 1, 'Cameraman': 1, 'pair': 1, 'junkies': 1, 'collecting': 1, 'Balls': 1, 'Autograbbing': 1, 'Jacuzzi': 1, 'confirmed': 1, 'patent': 1, 'At': 2, 'Cool': 2, 'old': 4, 'view': 3, 'leftover': 1, 'every': 2, 'reflexes': 1, 'groin': 1, 'vortex': 1, 'injuries': 1, 'days': 3, 'bicycle': 1, 'terrified': 1, 'froggy': 1, 'breaks': 3, 'sink': 2, 'Paulo': 2, 'interview': 1, 'locusts': 2, 'LIVING': 1, 'way': 11, 'rock': 3, 'barrier': 1, 'fish': 12, 'predators': 1, 'odds': 1, 'comparison': 2, 'Fireworks': 1, 'harness': 1, 'closeup': 1, 'Pikachu': 1, 'Clearing': 1, 'block': 2, 'fixture': 1, 'chest': 4, 'explodes': 1, 'ft': 1, 'embedded': 1, 'interested': 1, 'lightsfuck': 1, 'Swinging': 1, 'moment': 1, 'Drinking': 1, 'Carp': 1, 'Dine': 1, 'Passion': 1, 'engine': 2, 'okay': 1, 'Balloons': 1, 'He': 5, 'human': 3, 'will': 3, 'nose': 2, 'child': 3, 'future': 1, 'Baby': 1, 'threw': 1, 'tarantula': 2, 'Millions': 1, 'slide': 2, 'turns': 3, 'coke': 2, 'chess': 1, 'lawsuits': 1, 'call': 6, 'surgeon': 1, 'newscaster': 1, 'Locals': 1, 'Insurance': 1, 'waterfall': 1, 'nightmare': 2, 'rats': 1, 'explosion': 3, 'shaped': 1, 'Delicate': 1, 'realize': 2, 'passenger': 1, 'contact': 1, 'Ultra': 1, 'cactus': 1, 'caused': 1, 'design': 1, 'iswas': 1, 'Nest': 2, 'young': 2, 'your': 28, 'Whose': 1, 'accidentally': 2, 'fracture': 1, 'F': 2, 'everyone': 2, 'Imagine': 1, 'brazilian': 1, 'Frog': 1, 'botfly': 2, 'Russian': 3, 'amount': 1, 'issues': 2, 'licking': 1, 'supply': 1, 'frankenstein': 1, 'windscreen': 1, 'christ': 1, 'arm': 3, 'cleaners': 1, 'icy': 1, 'blade': 1, 'had': 15, 'Move': 1, 'scam': 1, 'spectacular': 1, 'ceiling': 1, 'tadpoles': 1, 'Bug': 1, 'Fuck': 2, 'photograph': 2, 'bedroom': 1, 'followed': 1, 'Stephen': 1, 'still': 5, 'right': 9, 'bar': 2, 'wear': 1, 'South': 1, 'bugged': 1, 'again': 2, 'cat': 4, 'ankle': 1, 'creepy': 2, 'Finger': 1, 'Smiiiittttttthhhhhers': 1, 'are': 22, 'innovative': 1, 'spot': 1, 'malfunction': 1, 'mistakes': 1, 'When': 18, 'dinner': 1, 'snakewith': 1, 'confused': 1, 'escalator': 1, 'Motorcycle': 1, 'crowd': 1, 'warpspeed': 1, 'were': 11, 'Migingo': 2, 'sq': 2, 'similar': 2, 'fast': 2, 'All': 2, 'Killer': 1, 'calf': 1, 'Worms': 1, 'shortcut': 1, 'just': 27, 'anchor': 1, 'helmet': 2, 'nest': 2, 'Russia': 2, 'our': 9, 'Wonder': 1, 'research': 1, 'bear': 2, 'attak': 1, 'chop': 1, 'Rider': 2, 'Complete': 1, 'alien': 1, 'scratch': 1, 'missile': 1, 'signal': 1, 'Silicon': 1, 'goldfishs': 1, 'Come': 1, 'Gator': 1, 'in': 188, 'sculpted': 1, 'poison': 1, 'witness': 1, 'Dad': 1, 'tries': 2, 'To': 1, 'Cant': 1, 'Robert': 1, 'ATM': 1, 'concrete': 2, 'Denmark': 1, 'Mistakes': 1, 'thank': 2, 'start': 2, 'implanted': 1, 'skeleton': 1, 'meaning': 1, 'news': 2, 'mine': 3, 'earthquake': 3, 'torpedo': 1, 'says': 1, 'dont': 17, 'Papaue': 1, 'olden': 1, 'survive': 1, 'Syndrome': 1, 'airplane': 3, 'Christ': 1, 'flesh': 1, 'put': 5, 'ahead': 3, 'working': 2, 'poor': 2, 'touch': 2, 'Ipanema': 1, 'pissed': 1, 'motorbike': 1, 'calm': 1, 'unearthed': 1, 'oil': 2, 'plant': 2, 'shower': 2, 'ultrasound': 1, 'gymnasium': 1, 'colon': 1, 'leismaniasis': 1, 'Minnesota': 1, 'Studio': 1, 'viewed': 1, 'Kong': 2, 'Wait': 6, 'removed': 2, 'ballerinas': 1, 'Eulagisca': 1, 'system': 1, 'whales': 1, 'Cashiers': 1, 'Life': 2, 'LEGO': 1, 'Florida': 3, 'eBay': 1, 'container': 2, 'cake': 1, 'Rubio': 1, 'relieved': 1, 'sewing': 1, 'aannd': 1, 'Start': 1, 'pipes': 1, 'T': 1, 'Whatever': 1, 'Venice': 1, 'Newborn': 1, 'Never': 4, 'Vulcan': 1, 'Bulls': 1, 'welcome': 1, 'Dickbutt': 1, 'furniture': 1, 'Shamens': 1, 'Earthquake': 1, 'Ready': 1, 'BIGGER': 2, 'dye': 1, 'lived': 1, 'slow': 1, 'Shoots': 1, 'SNES': 1, 'pants': 1, 'Meanwhile': 5, 'manifesto': 1, 'Invade': 1, 'BRB': 1, 'later': 1, 'Louisville': 1, 'enough': 4, 'Unclogging': 1, 'metal': 2, 'picture': 2, 'fridge': 1, 'polaroid': 1, 'Pelicans': 1, 'pollution': 1, 'shootout': 1, 'bad': 5, 'Out': 3, 'picked': 1, 'traffic': 4, 'Makes': 1, 'Cotton': 1, 'sensitivity': 1, 'Hmmmm': 1, 'choppa': 1, 'Postman': 1, 'Metallica': 1, 'hand': 3, 'trying': 2, 'kinda': 1, 'real': 2, 'Red': 1, 'due': 1, 'serious': 2, 'Having': 1, 'shocking': 1, 'cheaper': 1, 'single': 2, 'Tsunami': 1, 'cleaned': 1, 'wash': 2, 'manages': 1, 'protec': 1, 'keeps': 1, 'carp': 1, 'buddies': 1, 'Parasites': 1, 'Huntsman': 1, 'Want': 1, 'replace': 3, 'having': 4, 'lizard': 1, 'guys': 3, 'Truck': 3, 'Malfunction': 2, 'location': 1, 'boy': 1, 'Vomit': 1, 'food': 1, 'weeks': 1, 'Sparkler': 1, 'new': 8, 'decapitated': 1, 'course': 1, 'Teacher': 1, 'burn': 2, 'DIY': 1, 'monster': 2, 'dodge': 1, 'random': 1, 'Testing': 2, 'Fahaka': 1, 'literally': 1, 'crazy': 4, 'Goblin': 1, 'Biopsy': 1, 'CHIPMUNK': 1, 'Italians': 1, 'strategy': 1, 'collapsing': 1, 'no': 13, 'Watch': 2, 'over': 10, 'them': 5, 'barriers': 1, 'struck': 1, 'fog': 1, 'Whyyyyyyyyyyyy': 1, 'world': 1, 'ways': 1, 'Sat': 1, 'takes': 2, 'Special': 1, 'Trust': 1, 'His': 2, 'wolf': 1, 'him': 6, 'Satan': 1, 'Pulls': 1, 'mountain': 3, 'vacuum': 1, 'allergic': 2, 'Ive': 3, 'drinking': 2, 'Maybe': 2, 'someone': 2, 'toy': 2, 'wasps': 2, 'Eats': 1, 'reason': 1, 'flooding': 1, 'st': 1, 'wooden': 1, 'Problem': 1, 'wrapped': 1, 'Smile': 1, 'morgue': 1, 'Onto': 1, 'jump': 2, 'Texas': 3, 'aunt': 1, 'Weird': 1, 'tooth': 2, 'KFC': 1, 'Waking': 2, 'Cannon': 1, 'ants': 2, 'Cat': 1, 'Killing': 1, 'toll': 1, 'Make': 2, 'Rabbit': 1, 'Lose': 1, 'arachnid': 1, 'grandpas': 1, 'fault': 1, 'maniac': 1, 'intentions': 1, 'expert': 2, 'Day': 1, 'Sculpture': 1, 'hes': 3, 'himself': 2, 'coughed': 1, 'Ohh': 1, 'Skate': 1, 'Let': 2, 'there': 6, 'worst': 3, 'excavator': 1, 'hour': 3, 'died': 1, 'tumbleweeds': 1, 'tumor': 1, 'SHITThat': 1, 'Neighbors': 1, 'not': 16, 'million': 1, 'beetle': 1, 'squirrel': 2, 'ski': 1, 'tall': 1, 'Prius': 1, 'Umm': 1, 'life': 3, 'Raising': 1, 'Training': 1, 'Birds': 1, 'does': 4, 'Festivals': 1, 'floodingwhen': 1, 'lawsuit': 1, 'For': 1, 'eruption': 2, 'Kaspi': 1, 'Classic': 1, 'Flare': 1, 'Zone': 1, 'goes': 4, 'hot': 2, 'Turtle': 1, 'places': 1, 'under': 7, 'tongue': 2, 'grocery': 1, 'dirt': 2, 'interstate': 1, 'overtaken': 1, 'device': 2, 'zombie': 1, 'IED': 1, 'at': 48, 'smoke': 1, 'Infestation': 1, 'Friendly': 1, 'prank': 2, 'Currently': 1, 'devil': 1, 'balcony': 2, 'released': 1, 'Giant': 2, 'Sunday': 1, 'severed': 1, 'garbage': 1, 'Karen': 2, 'Brand': 1, 'extending': 1, 'coasters': 1, 'parents': 2, 'god': 1, 'smells': 1, 'Butthole': 1, 'bathing': 1, 'fashion': 1, 'Speed': 1, 'importance': 1, 'Brazilian': 1, 'railroad': 1, 'doomsday': 1, 'important': 2, 'Justice': 1, 'lasted': 1, 'constipation': 2, 'inspired': 1, 'processing': 1, 'Australian': 2, 'Issues': 1, 'neighbor': 2, 'zebra': 1, 'complained': 1, 'wasp': 3, 'coming': 2, 'past': 3, 'rice': 1, 'Become': 1, 'girl': 2, 'Rush': 1, 'orange': 2, 'bag': 4, 'family': 2, 'tires': 1, 'whistle': 1, 'bigger': 1, 'Wasp': 1, 'Marijuana': 1, 'bolt': 1, 'park': 4, 'Friend': 1, 'Gets': 1, 'jack': 1, 'results': 1, 'Spotted': 1, 'pretty': 4, 'pool': 6, 'rooster': 1, 'year': 4, 'Saddam': 1, 'fit': 2, 'clue': 1, 'Pugs': 1, 'Max': 1, 'crazed': 1, 'neighbors': 3, 'Geneva': 1, 'Adrenaline': 1, 'against': 1, 'movie': 1, 'rattle': 1, 'Scarface': 1, 'mentioned': 1, 'easier': 1, 'for': 56, 'Comin': 1, 'Oh': 6, 'woodpecker': 1, 'wind': 3, 'decorating': 1, 'baked': 1, 'prove': 1, 'best': 1, 'minutes': 3, 'operate': 1, 'Left': 1, 'thinking': 1, 'people': 6, 'missed': 2, 'anime': 1, 'Yeehaw': 1, 'clam': 1, 'AF': 1, 'Gas': 2, 'Carrie': 1, 'displaced': 1, 'some': 13, 'drunk': 1, 'Ozzy': 1, 'strangest': 1, 'describing': 1, 'season': 1, 'Comes': 1, 'lol': 1, 'Ride': 1, 'wife': 5, 'Lightning': 4, 'refill': 1, 'vound': 1, 'Bat': 1, 'stop': 4, 'told': 2, 'untouched': 1, 'hood': 1, 'Drama': 1, 'exhibit': 1, 'loves': 1, 'lures': 1, 'landed': 1, 'sword': 1, 'space': 1, 'spiderlike': 1, 'NC': 2, 'Mail': 1, 'needle': 1, 'Parlour': 1, 'Drivers': 1, 'hooked': 1, 'August': 2, 'tiles': 1, 'bite': 1, 'cars': 1, 'happened': 6, 'decor': 1, 'Woah': 1, 'Heat': 1, 'Weightliter': 1, 'Times': 1, 'hydrant': 2, 'shocked': 1, 'Saved': 1, 'buildup': 1, 'realistic': 1, 'Scary': 1, 'Elevator': 1, 'attached': 1, 'invasive': 1, 'nice': 1, 'oh': 1, 'Anyone': 1, 'movies': 2, 'mask': 1, 'Yeeh': 1, 'rudimentary': 1, 'green': 2, 'browsing': 1, 'Flytrap': 1, 'HOW': 1, 'staring': 1, 'Certain': 1, 'crashing': 1, 'bus': 5, 'Monkey': 3, 'decimates': 1, 'macro': 1, 'noped': 1, 'ago': 8, 'feeling': 2, 'Dog': 1, 'clear': 1, 'friend': 6, 'instinct': 1, 'dough': 1, 'deaths': 1, 'attempted': 1, 'gorilla': 1, 'guy': 12, 'invasion': 1, 'one': 15, 'wasnt': 2, 'vacant': 1, 'bee': 1, 'pedals': 1, 'suffered': 1, 'Handing': 1, 'fuel': 2, 'marks': 1, 'Two': 2, 'proportions': 1, 'Krukenberg': 1, 'Where': 2, 'Reply': 1, 'Taiwan': 1, 'ass': 5, 'jaw': 1, 'play': 3, 'Plaza': 1, 'Flash': 1, 'damn': 4, 'all': 9, 'Tesla': 1, 'problem': 2, 'sugar': 1, 'quick': 2, 'dictionary': 1, 'Sea': 1, 'feeding': 2, 'sleeping': 1, 'Best': 1, 'onto': 1, 'flower': 1, 'find': 4, 'Climbs': 2, 'reconstruction': 2, 'Leg': 1, 'coins': 1, 'Diamond': 1, 'very': 3, 's': 4, 'raustralia': 1, 'hell': 2, 'odd': 1, 'drugs': 1, 'beach': 2, 'personal': 1, 'Bread': 1, 'regular': 1, 'Sniper': 1, 'away': 5, 'Cop': 1, 'pole': 2, 'Deer': 1, 'Pregnancies': 1, 'Store': 2, 'into': 20, 'braves': 1, 'NYC': 2, 'exciting': 1, 'Jason': 1, 'about': 7, 'This': 55, 'works': 1, 'bought': 5, 'weeeeeeeee': 1, 'method': 1, 'Apocolypse': 1, 'true': 1, 'killer': 2, 'Nepal': 1, 'Bobroczky': 1, 'operating': 1, 'fires': 2, 'dancer': 1, 'Death': 1, 'pounds': 3, 'Swarm': 1, 'bulletproof': 1, 'dropped': 1, 'vs': 4, 'Driving': 7, 'inhabitants': 1, 'cramp': 1, 'With': 1, 'On': 2, 'Reddit': 1, 'George': 1, 'THIS': 1, 'Recently': 1, 'Digging': 1, 'hard': 1, 'ABC': 1, 'worry': 1, 'Igniting': 1, 'grenade': 1, 'seas': 1, 'rooftop': 2, 'finally': 2, 'reallooking': 1, 'woods': 1, 'Ave': 1, 'toilets': 1, 'rounds': 1, 'Attempt': 1, 'anty': 1, 'cylinder': 1, 'plumber': 1, 'frog': 1, 'dump': 2, 'Ward': 1, 'Jesus': 1, 'Protective': 1, 'tastes': 1, 'other': 1, 'Krueger': 1, 'hi': 1, 'his': 34, 'jungle': 1, 'loses': 1, 'inside': 10, 'youre': 2, 'sub': 1, 'tortoise': 1, 'chopping': 1, 'but': 13, 'Some': 5, 'once': 1, 'leak': 1, 'building': 7, 'Buildings': 1, 'mother': 2, 'SUV': 1, 'electron': 1, 'gator': 2, 'inlaws': 1, 'overtake': 1, 'smell': 2, 'tough': 1, 'fingers': 1, 'fight': 4, 'being': 4, 'versus': 1, 'speeding': 1, 'razor': 1, 'am': 1, 'slips': 1, 'they': 13, 'From': 4, 'They': 3, 'Shitty': 1, 'midbathroom': 1, 'im': 1, 'hours': 3, 'SQUID': 1, 'crawl': 1, 'fucking': 1, 'gave': 3, 'land': 2, 'daughter': 1, 'underwear': 1, 'Guy': 10, 'tentacles': 2, 'stable': 1, 'dark': 1, 'salivates': 1, 'gecko': 1, 'touching': 1, 'apparently': 1, 'weeds': 1, 'Tonight': 1, 'video': 2, 'Sept': 1, 'Child': 3, 'plays': 1, 'reverberating': 1, 'horror': 1, 'celebrate': 1, 'story': 1, 'ground': 3, 'methane': 1, 'started': 5, 'taking': 4, 'power': 3, 'duffel': 1, 'Mix': 1, 'age': 1, 'expanded': 1, 'either': 2, 'Midwest': 1, 'froze': 1, 'quack': 1, 'HE': 1, 'pike': 1, 'opened': 2, 'daytime': 1, 'load': 1, 'LIFE': 1, 'strawberries': 1, 'ankles': 1, 'bed': 2, 'volcano': 1, 'Eyes': 1, 'waves': 1, 'ton': 1, 'hidden': 2, 'fighting': 1, 'grain': 1, 'Waters': 1, 'Epaulatted': 1, 'Gigantean': 1, 'energy': 1, 'Burgers': 1, 'Luxembourg': 1, 'Going': 2, 'kit': 1, 'after': 24, 'Riding': 2, 'checking': 1, 'Hi': 1, 'Rat': 1, 'today': 14, 'flag': 1, 'Front': 1, 'starts': 1, 'grab': 2, 'Christmas': 1, 'net': 1, 'camping': 1, 'Back': 1, 'Buddha': 1, 'yesterday': 6, 'storm': 4, 'difficult': 1, 'came': 4, 'Mexico': 5, 'sludge': 1, 'Jersey': 1, 'girlish': 1, 'seeing': 1, 'laid': 1, 'Brazil': 8, 'culvert': 1, 'what': 6, 'holy': 1, 'banana': 1, 'catching': 1, 'kill': 1, 'fart': 1, 'own': 3, 'GF': 1, 'snapping': 1, 'windy': 2, 'rockin': 1, 'Manager': 1, 'jugs': 1, 'root': 1, 'NSFW': 15, 'newborn': 1, 'causes': 1, 'March': 1, 'rather': 1, 'Amazon': 1, 'seatbelt': 1, 'Man': 14, 'guess': 2, 'Turns': 1, 'numb': 1, 'Hurricanes': 1, 'JESUS': 1, 'string': 1, 'huge': 4, 'Japan': 2, 'noticing': 1, 'top': 2, 'packed': 1, 'ET': 1, 'Severe': 1, 'My': 33, 'nuclear': 1, 'rejecting': 1, 'AC': 1, 'trees': 1, 'sticky': 1, 'hospital': 2, 'Wash': 1, 'when': 13, 'turned': 3, 'Rage': 1, 'Philippines': 1}]\n"
     ]
    }
   ],
   "source": [
    "def main(subreddits):\n",
    "    vectorized_dicts = []\n",
    "    for sub in tqdm(subreddits[:5]):\n",
    "        print(sub)\n",
    "        cleaned_text = related_subdf.loc[sub]['clean_text']\n",
    "        # Clean and tokenize raw text\n",
    "        tokenized = tokenize(cleaned_text)\n",
    "        \n",
    "        # Get count vectorized representation and store in vectorized_dicts  \n",
    "        count_vectorized_document = count_vectorize(tokenized)\n",
    "        vectorized_dicts.append(count_vectorized_document)\n",
    "        \n",
    "    # Now that we have a list of BoW respresentations of each song, create a tf-idf representation of everything\n",
    "    print(vectorized_dicts)\n",
    "    tf_idf_all_docs = tf_idf(vectorized_dicts)\n",
    "    \n",
    "    return tf_idf_all_docs\n",
    "tf_idf_all_docs = main(list(related_subdf.index))"
   ]
  },
  {
   "cell_type": "code",
   "execution_count": 1002,
   "metadata": {},
   "outputs": [
    {
     "data": {
      "text/plain": [
       "581"
      ]
     },
     "execution_count": 1002,
     "metadata": {},
     "output_type": "execute_result"
    }
   ],
   "source": [
    "len(tf_idf_all_docs)"
   ]
  },
  {
   "cell_type": "code",
   "execution_count": null,
   "metadata": {},
   "outputs": [],
   "source": []
  },
  {
   "cell_type": "code",
   "execution_count": null,
   "metadata": {},
   "outputs": [],
   "source": []
  },
  {
   "cell_type": "code",
   "execution_count": null,
   "metadata": {},
   "outputs": [],
   "source": []
  },
  {
   "cell_type": "code",
   "execution_count": null,
   "metadata": {},
   "outputs": [],
   "source": [
    "for sub in tf_idf_all_subs:\n",
    "    pd.DataFrame."
   ]
  },
  {
   "cell_type": "code",
   "execution_count": 930,
   "metadata": {},
   "outputs": [
    {
     "name": "stdout",
     "output_type": "stream",
     "text": [
      "Number of Dimensions: 2989\n"
     ]
    }
   ],
   "source": [
    "num_dims = len(tf_idf_all_subs[0])\n",
    "print(\"Number of Dimensions: {}\".format(num_dims))"
   ]
  },
  {
   "cell_type": "code",
   "execution_count": 931,
   "metadata": {},
   "outputs": [
    {
     "data": {
      "application/vnd.jupyter.widget-view+json": {
       "model_id": "9b9344d23b0a460ead465f5b3c2fc85a",
       "version_major": 2,
       "version_minor": 0
      },
      "text/plain": [
       "HBox(children=(IntProgress(value=0, max=581), HTML(value='')))"
      ]
     },
     "metadata": {},
     "output_type": "display_data"
    },
    {
     "data": {
      "text/plain": [
       "[3, 1, 8, 3, 1, 1, 1, 1, 5, 2]"
      ]
     },
     "execution_count": 931,
     "metadata": {},
     "output_type": "execute_result"
    }
   ],
   "source": [
    "tf_idf_vals_list = []\n",
    "\n",
    "for i in tqdm(tf_idf_all_subs):\n",
    "    tf_idf_vals_list.append(list(i.values()))\n",
    "    \n",
    "tf_idf_vals_list[0][:10]"
   ]
  },
  {
   "cell_type": "code",
   "execution_count": null,
   "metadata": {},
   "outputs": [],
   "source": []
  }
 ],
 "metadata": {
  "kernelspec": {
   "display_name": "Python 3",
   "language": "python",
   "name": "python3"
  },
  "language_info": {
   "codemirror_mode": {
    "name": "ipython",
    "version": 3
   },
   "file_extension": ".py",
   "mimetype": "text/x-python",
   "name": "python",
   "nbconvert_exporter": "python",
   "pygments_lexer": "ipython3",
   "version": "3.7.3"
  },
  "toc": {
   "base_numbering": 1,
   "nav_menu": {},
   "number_sections": true,
   "sideBar": true,
   "skip_h1_title": false,
   "title_cell": "Table of Contents",
   "title_sidebar": "Contents",
   "toc_cell": false,
   "toc_position": {
    "height": "calc(100% - 180px)",
    "left": "10px",
    "top": "150px",
    "width": "274px"
   },
   "toc_section_display": true,
   "toc_window_display": true
  }
 },
 "nbformat": 4,
 "nbformat_minor": 2
}
